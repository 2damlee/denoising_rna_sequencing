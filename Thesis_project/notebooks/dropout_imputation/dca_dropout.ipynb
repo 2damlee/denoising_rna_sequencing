{
 "cells": [
  {
   "cell_type": "code",
   "execution_count": 1,
   "id": "cce73ba0",
   "metadata": {},
   "outputs": [],
   "source": [
    "import os\n",
    "os.environ[\"OMP_NUM_THREADS\"]=\"4\"\n",
    "os.environ[\"MKL_NUM_THREADS\"]=\"4\"\n",
    "os.environ[\"VECLIB_MAXIMUM_THREADS\"]=\"4\"\n",
    "os.environ[\"NUMEXPR_NUM_THREADS\"]=\"4\"\n",
    "os.environ[\"TF_CPP_MIN_LOG_LEVEL\"]=\"2\""
   ]
  },
  {
   "cell_type": "code",
   "execution_count": 2,
   "id": "078296e6",
   "metadata": {},
   "outputs": [],
   "source": [
    "import sys\n",
    "import scanpy as sc\n",
    "\n",
    "sys.path.append(\"../..\")\n",
    "from scripts.runner_models import cv_dca_5fold"
   ]
  },
  {
   "cell_type": "code",
   "execution_count": null,
   "id": "37e9e5aa",
   "metadata": {},
   "outputs": [
    {
     "name": "stdout",
     "output_type": "stream",
     "text": [
      "[fix] Patching ../data/raw_count/converted/GSE169569/base_legacy.h5ad\n"
     ]
    },
    {
     "ename": "OSError",
     "evalue": "Unable to create file (unable to open file: name = '../data/raw_count/converted/GSE169569/base_legacy.h5ad', errno = 2, error message = 'No such file or directory', flags = 15, o_flags = a02)",
     "output_type": "error",
     "traceback": [
      "\u001b[0;31m---------------------------------------------------------------------------\u001b[0m",
      "\u001b[0;31mOSError\u001b[0m                                   Traceback (most recent call last)",
      "\u001b[0;32m~/anaconda3/envs/dca_legacy/lib/python3.7/site-packages/h5py/_hl/files.py\u001b[0m in \u001b[0;36mmake_fid\u001b[0;34m(name, mode, userblock_size, fapl, fcpl, swmr)\u001b[0m\n\u001b[1;32m    184\u001b[0m         \u001b[0;32mtry\u001b[0m\u001b[0;34m:\u001b[0m\u001b[0;34m\u001b[0m\u001b[0;34m\u001b[0m\u001b[0m\n\u001b[0;32m--> 185\u001b[0;31m             \u001b[0mfid\u001b[0m \u001b[0;34m=\u001b[0m \u001b[0mh5f\u001b[0m\u001b[0;34m.\u001b[0m\u001b[0mopen\u001b[0m\u001b[0;34m(\u001b[0m\u001b[0mname\u001b[0m\u001b[0;34m,\u001b[0m \u001b[0mh5f\u001b[0m\u001b[0;34m.\u001b[0m\u001b[0mACC_RDWR\u001b[0m\u001b[0;34m,\u001b[0m \u001b[0mfapl\u001b[0m\u001b[0;34m=\u001b[0m\u001b[0mfapl\u001b[0m\u001b[0;34m)\u001b[0m\u001b[0;34m\u001b[0m\u001b[0;34m\u001b[0m\u001b[0m\n\u001b[0m\u001b[1;32m    186\u001b[0m         \u001b[0;32mexcept\u001b[0m \u001b[0mIOError\u001b[0m\u001b[0;34m:\u001b[0m\u001b[0;34m\u001b[0m\u001b[0;34m\u001b[0m\u001b[0m\n",
      "\u001b[0;32mh5py/_objects.pyx\u001b[0m in \u001b[0;36mh5py._objects.with_phil.wrapper\u001b[0;34m()\u001b[0m\n",
      "\u001b[0;32mh5py/_objects.pyx\u001b[0m in \u001b[0;36mh5py._objects.with_phil.wrapper\u001b[0;34m()\u001b[0m\n",
      "\u001b[0;32mh5py/h5f.pyx\u001b[0m in \u001b[0;36mh5py.h5f.open\u001b[0;34m()\u001b[0m\n",
      "\u001b[0;31mOSError\u001b[0m: Unable to open file (unable to open file: name = '../data/raw_count/converted/GSE169569/base_legacy.h5ad', errno = 2, error message = 'No such file or directory', flags = 1, o_flags = 2)",
      "\nDuring handling of the above exception, another exception occurred:\n",
      "\u001b[0;31mOSError\u001b[0m                                   Traceback (most recent call last)",
      "\u001b[0;32m/var/folders/1t/p5pyw3cx76z8ldch6bnxjb_r0000gn/T/ipykernel_15379/3275416545.py\u001b[0m in \u001b[0;36m<module>\u001b[0;34m\u001b[0m\n\u001b[1;32m     65\u001b[0m     \u001b[0mPath\u001b[0m\u001b[0;34m(\u001b[0m\u001b[0;34m\"../data/raw_count/converted/GSE228841/base_legacy.h5ad\"\u001b[0m\u001b[0;34m)\u001b[0m\u001b[0;34m,\u001b[0m\u001b[0;34m\u001b[0m\u001b[0;34m\u001b[0m\u001b[0m\n\u001b[1;32m     66\u001b[0m ]:\n\u001b[0;32m---> 67\u001b[0;31m     \u001b[0mfix_h5ad_for_anndata07\u001b[0m\u001b[0;34m(\u001b[0m\u001b[0mp\u001b[0m\u001b[0;34m)\u001b[0m\u001b[0;34m\u001b[0m\u001b[0;34m\u001b[0m\u001b[0m\n\u001b[0m",
      "\u001b[0;32m/var/folders/1t/p5pyw3cx76z8ldch6bnxjb_r0000gn/T/ipykernel_15379/3275416545.py\u001b[0m in \u001b[0;36mfix_h5ad_for_anndata07\u001b[0;34m(base_path)\u001b[0m\n\u001b[1;32m     42\u001b[0m \u001b[0;32mdef\u001b[0m \u001b[0mfix_h5ad_for_anndata07\u001b[0m\u001b[0;34m(\u001b[0m\u001b[0mbase_path\u001b[0m\u001b[0;34m:\u001b[0m \u001b[0mPath\u001b[0m\u001b[0;34m)\u001b[0m\u001b[0;34m:\u001b[0m\u001b[0;34m\u001b[0m\u001b[0;34m\u001b[0m\u001b[0m\n\u001b[1;32m     43\u001b[0m     \u001b[0mprint\u001b[0m\u001b[0;34m(\u001b[0m\u001b[0;34mf\"[fix] Patching {base_path}\"\u001b[0m\u001b[0;34m)\u001b[0m\u001b[0;34m\u001b[0m\u001b[0;34m\u001b[0m\u001b[0m\n\u001b[0;32m---> 44\u001b[0;31m     \u001b[0;32mwith\u001b[0m \u001b[0mh5py\u001b[0m\u001b[0;34m.\u001b[0m\u001b[0mFile\u001b[0m\u001b[0;34m(\u001b[0m\u001b[0mbase_path\u001b[0m\u001b[0;34m,\u001b[0m \u001b[0;34m\"a\"\u001b[0m\u001b[0;34m)\u001b[0m \u001b[0;32mas\u001b[0m \u001b[0mf\u001b[0m\u001b[0;34m:\u001b[0m\u001b[0;34m\u001b[0m\u001b[0;34m\u001b[0m\u001b[0m\n\u001b[0m\u001b[1;32m     45\u001b[0m         \u001b[0;31m# Drop common modern containers outright (not needed for DCA)\u001b[0m\u001b[0;34m\u001b[0m\u001b[0;34m\u001b[0m\u001b[0;34m\u001b[0m\u001b[0m\n\u001b[1;32m     46\u001b[0m         \u001b[0;32mfor\u001b[0m \u001b[0mg\u001b[0m \u001b[0;32min\u001b[0m \u001b[0;34m(\u001b[0m\u001b[0;34m\"layers\"\u001b[0m\u001b[0;34m,\u001b[0m \u001b[0;34m\"obsp\"\u001b[0m\u001b[0;34m,\u001b[0m \u001b[0;34m\"varp\"\u001b[0m\u001b[0;34m,\u001b[0m \u001b[0;34m\"obsm\"\u001b[0m\u001b[0;34m,\u001b[0m \u001b[0;34m\"varm\"\u001b[0m\u001b[0;34m)\u001b[0m\u001b[0;34m:\u001b[0m\u001b[0;34m\u001b[0m\u001b[0;34m\u001b[0m\u001b[0m\n",
      "\u001b[0;32m~/anaconda3/envs/dca_legacy/lib/python3.7/site-packages/h5py/_hl/files.py\u001b[0m in \u001b[0;36m__init__\u001b[0;34m(self, name, mode, driver, libver, userblock_size, swmr, rdcc_nslots, rdcc_nbytes, rdcc_w0, track_order, **kwds)\u001b[0m\n\u001b[1;32m    406\u001b[0m                 fid = make_fid(name, mode, userblock_size,\n\u001b[1;32m    407\u001b[0m                                \u001b[0mfapl\u001b[0m\u001b[0;34m,\u001b[0m \u001b[0mfcpl\u001b[0m\u001b[0;34m=\u001b[0m\u001b[0mmake_fcpl\u001b[0m\u001b[0;34m(\u001b[0m\u001b[0mtrack_order\u001b[0m\u001b[0;34m=\u001b[0m\u001b[0mtrack_order\u001b[0m\u001b[0;34m)\u001b[0m\u001b[0;34m,\u001b[0m\u001b[0;34m\u001b[0m\u001b[0;34m\u001b[0m\u001b[0m\n\u001b[0;32m--> 408\u001b[0;31m                                swmr=swmr)\n\u001b[0m\u001b[1;32m    409\u001b[0m \u001b[0;34m\u001b[0m\u001b[0m\n\u001b[1;32m    410\u001b[0m             \u001b[0;32mif\u001b[0m \u001b[0misinstance\u001b[0m\u001b[0;34m(\u001b[0m\u001b[0mlibver\u001b[0m\u001b[0;34m,\u001b[0m \u001b[0mtuple\u001b[0m\u001b[0;34m)\u001b[0m\u001b[0;34m:\u001b[0m\u001b[0;34m\u001b[0m\u001b[0;34m\u001b[0m\u001b[0m\n",
      "\u001b[0;32m~/anaconda3/envs/dca_legacy/lib/python3.7/site-packages/h5py/_hl/files.py\u001b[0m in \u001b[0;36mmake_fid\u001b[0;34m(name, mode, userblock_size, fapl, fcpl, swmr)\u001b[0m\n\u001b[1;32m    185\u001b[0m             \u001b[0mfid\u001b[0m \u001b[0;34m=\u001b[0m \u001b[0mh5f\u001b[0m\u001b[0;34m.\u001b[0m\u001b[0mopen\u001b[0m\u001b[0;34m(\u001b[0m\u001b[0mname\u001b[0m\u001b[0;34m,\u001b[0m \u001b[0mh5f\u001b[0m\u001b[0;34m.\u001b[0m\u001b[0mACC_RDWR\u001b[0m\u001b[0;34m,\u001b[0m \u001b[0mfapl\u001b[0m\u001b[0;34m=\u001b[0m\u001b[0mfapl\u001b[0m\u001b[0;34m)\u001b[0m\u001b[0;34m\u001b[0m\u001b[0;34m\u001b[0m\u001b[0m\n\u001b[1;32m    186\u001b[0m         \u001b[0;32mexcept\u001b[0m \u001b[0mIOError\u001b[0m\u001b[0;34m:\u001b[0m\u001b[0;34m\u001b[0m\u001b[0;34m\u001b[0m\u001b[0m\n\u001b[0;32m--> 187\u001b[0;31m             \u001b[0mfid\u001b[0m \u001b[0;34m=\u001b[0m \u001b[0mh5f\u001b[0m\u001b[0;34m.\u001b[0m\u001b[0mcreate\u001b[0m\u001b[0;34m(\u001b[0m\u001b[0mname\u001b[0m\u001b[0;34m,\u001b[0m \u001b[0mh5f\u001b[0m\u001b[0;34m.\u001b[0m\u001b[0mACC_EXCL\u001b[0m\u001b[0;34m,\u001b[0m \u001b[0mfapl\u001b[0m\u001b[0;34m=\u001b[0m\u001b[0mfapl\u001b[0m\u001b[0;34m,\u001b[0m \u001b[0mfcpl\u001b[0m\u001b[0;34m=\u001b[0m\u001b[0mfcpl\u001b[0m\u001b[0;34m)\u001b[0m\u001b[0;34m\u001b[0m\u001b[0;34m\u001b[0m\u001b[0m\n\u001b[0m\u001b[1;32m    188\u001b[0m     \u001b[0;32melif\u001b[0m \u001b[0mmode\u001b[0m \u001b[0;32mis\u001b[0m \u001b[0;32mNone\u001b[0m\u001b[0;34m:\u001b[0m\u001b[0;34m\u001b[0m\u001b[0;34m\u001b[0m\u001b[0m\n\u001b[1;32m    189\u001b[0m         warn(\"The default file mode will change to 'r' (read-only) in h5py 3.0. \"\n",
      "\u001b[0;32mh5py/_objects.pyx\u001b[0m in \u001b[0;36mh5py._objects.with_phil.wrapper\u001b[0;34m()\u001b[0m\n",
      "\u001b[0;32mh5py/_objects.pyx\u001b[0m in \u001b[0;36mh5py._objects.with_phil.wrapper\u001b[0;34m()\u001b[0m\n",
      "\u001b[0;32mh5py/h5f.pyx\u001b[0m in \u001b[0;36mh5py.h5f.create\u001b[0;34m()\u001b[0m\n",
      "\u001b[0;31mOSError\u001b[0m: Unable to create file (unable to open file: name = '../data/raw_count/converted/GSE169569/base_legacy.h5ad', errno = 2, error message = 'No such file or directory', flags = 15, o_flags = a02)"
     ]
    }
   ],
   "source": [
    "from pathlib import Path\n",
    "import h5py\n",
    "import numpy as np\n",
    "\n",
    "def _b2s(x):\n",
    "    return x.decode(\"utf-8\") if isinstance(x, (bytes, np.bytes_)) else x\n",
    "\n",
    "def _bytes_to_str_arr(a):\n",
    "    return np.array([_b2s(v) for v in a], dtype=object)\n",
    "\n",
    "def _flatten_categoricals(table_group):\n",
    "    \"\"\"Turn pandas-categorical groups into plain utf-8 string datasets.\"\"\"\n",
    "    to_convert = []\n",
    "    for k, v in list(table_group.items()):\n",
    "        if isinstance(v, h5py.Group) and \"codes\" in v and \"categories\" in v:\n",
    "            to_convert.append(k)\n",
    "    for k in to_convert:\n",
    "        g = table_group[k]\n",
    "        codes = g[\"codes\"][()]\n",
    "        cats  = _bytes_to_str_arr(g[\"categories\"][()])\n",
    "        out   = np.empty(codes.shape[0], dtype=object)\n",
    "        mask  = codes >= 0\n",
    "        out[mask]  = cats[codes[mask]]\n",
    "        out[~mask] = \"\"\n",
    "        del table_group[k]\n",
    "        dt = h5py.string_dtype(encoding=\"utf-8\")\n",
    "        table_group.create_dataset(k, data=out.astype(dt), dtype=dt)\n",
    "\n",
    "def _purge_dict_groups(h5, path=\"/\"):\n",
    "    \"\"\"Recursively delete any group with attrs['encoding-type']=='dict'.\"\"\"\n",
    "    grp = h5[path]\n",
    "    # copy keys to avoid changing during iteration\n",
    "    for name in list(grp.keys()):\n",
    "        obj = grp[name]\n",
    "        if isinstance(obj, h5py.Group):\n",
    "            enc = _b2s(obj.attrs.get(\"encoding-type\", None))\n",
    "            if enc == \"dict\":\n",
    "                del grp[name]\n",
    "            else:\n",
    "                _purge_dict_groups(h5, obj.name)\n",
    "\n",
    "def fix_h5ad_for_anndata07(base_path: Path):\n",
    "    print(f\"[fix] Patching {base_path}\")\n",
    "    with h5py.File(base_path, \"a\") as f:\n",
    "        # Drop common modern containers outright (not needed for DCA)\n",
    "        for g in (\"layers\", \"obsp\", \"varp\", \"obsm\", \"varm\"):\n",
    "            if g in f:\n",
    "                print(f\" - delete /{g}\")\n",
    "                del f[g]\n",
    "        if \"raw\" in f and isinstance(f[\"raw\"], h5py.Group) and \"layers\" in f[\"raw\"]:\n",
    "            print(\" - delete /raw/layers\")\n",
    "            del f[\"raw\"][\"layers\"]\n",
    "\n",
    "        # Nuke any leftover dict-encoded groups anywhere (e.g., under /uns, nested)\n",
    "        _purge_dict_groups(f, \"/\")\n",
    "\n",
    "        # Flatten categoricals in obs/var\n",
    "        if \"obs\" in f: _flatten_categoricals(f[\"obs\"])\n",
    "        if \"var\" in f: _flatten_categoricals(f[\"var\"])\n",
    "    print(\"[fix] Done.\")\n",
    "\n",
    "# Apply to both converted bases\n",
    "for p in [\n",
    "    Path(\"../data/raw_count/converted/GSE169569/base_legacy.h5ad\"),\n",
    "    Path(\"../data/raw_count/converted/GSE228841/base_legacy.h5ad\"),\n",
    "]:\n",
    "    fix_h5ad_for_anndata07(p)\n"
   ]
  },
  {
   "cell_type": "code",
   "execution_count": 5,
   "id": "4f941e51",
   "metadata": {},
   "outputs": [
    {
     "name": "stdout",
     "output_type": "stream",
     "text": [
      "AnnData object with n_obs × n_vars = 447 × 51777\n",
      "    obs: 'total_counts_before_preprocessing', 'total_counts_after_trimming', 'total_counts_after_preprocessing', 'total_count_ratio__after_to_before', 'QC_mapping_ratio_bacterial', 'QC_mapping_ratio_viral', 'QC_mapping_ratio_miRNA', 'QC_mapping_ratio_sncRNA', 'Bases', 'Bytes', 'Avg_spot_length', 'BioProject', 'BioSample', 'Experiment', 'GEO_Accession_exp', 'SRA_study', 'Sample_name', 'Consent', 'Center_name', 'Organism', 'source_name', 'cohort', 'sex', 'age', 'treatment', 'diagnosis', 'Assay_type', 'Sequencer', 'Sample_type', 'Lab_library_layout', 'Lab_library_selection', 'Lab_library_source', 'Lab_RNA_extraction_protocol', 'Lab_Blocking_State', 'Lab_library_preparation_kit', 'Release_date', 'create_date', 'version', 'total_count'\n",
      "    var: 'length', 'g_fraction', 'a_fraction', 't_fraction', 'c_fraction', 'gc_fraction', 'MFE_37', 'spikein', 'qiaseq_spikein', 'hbdx_spikein', 'hbdx_spikein_prefix_length', 'hbdx_spikein_suffix_length', 'hbdx_spikein_affix_filter', 'five_prime_adapter_length', 'five_prime_adapter_filter', 'adapter_mapping_filter', 'kmer_five_prime_adapter', 'kmer_three_prime_adapter', 'kmer_filter', 'housekeeping', 'TE_annotation', 'bacterial', 'viral', 'blocking_deseq2R_log2FoldChange', 'blocking_deseq2R_padj', 'reduced_by_blocking', 'blocking_oligo__duplex_energy', 'intended_blocking_target', 'chr', 'num_genomic_loci_maps', 'cluster_gene_name', 'tumor_prog_markers', 'tumor_prog_markers_mutualinfo', 'tumor_prog_markers_meantrend', 'tcga_LC_DESeq2_bool', 'tcga_LC_DESeq2', 'tcga_LC_DESeq2_log2FC', 'tcga_LC_DESeq2_padj', 'tcga_LUSC_DESeq2_bool', 'tcga_LUAD_DESeq2_bool', 'tcga_normal__highest_tissue', 'tcga_normal__highest_mean', 'tcga_normal__TSI', 'tcga_cancer__LUAD_LUSC_DE', 'tcga_cancer__DE_cancers_log2FC', 'tcga_cancer__nr_nonLC_DE_cancers', 'Sozzi', 'Montani', 'HBDx_Masterplate', 'HBDx_IP', 'JAMA', 'General_Literature', 'single_class_annotation', 'single_name_annotation', 'small_RNA_class_annotation', 'subclass_name', 'subclass_name_new_binning', 'subclass_name_new_binning_pos', 'subclass_type', 'pseudo_class', 'mitochondrial', 'ambiguity_resolved', 'hico', 'mms', 'reference', 'precursor_name_full', 'ref_miR_seq', 'miRNA_ref_iso', 'miRNA_hico', 'miRNA_seed', 'miRNA_names', 'tRNA_ref_iso', 'MirGeneDB_ID', 'PTM_count', 'PTM_NGS_mean', 'protein_count', 'protein_affinity_median', 'protein_coverage_perc_median', 'RBCs_RPM_mean', 'CD56+_RPM_mean', 'Neutrophile_RPM_mean', 'CD4+_RPM_mean', 'CD19+_RPM_mean', 'Platelets_RPM_mean', 'Eosinophile_RPM_mean', 'CD8+_RPM_mean', 'CD14+_RPM_mean', 'Basophile_RPM_mean', 'RBCs_RPM_std', 'CD56+_RPM_std', 'Neutrophile_RPM_std', 'CD4+_RPM_std', 'CD19+_RPM_std', 'Platelets_RPM_std', 'Eosinophile_RPM_std', 'CD8+_RPM_std', 'CD14+_RPM_std', 'Basophile_RPM_std', 'RBCs_RPM_prop', 'CD56+_RPM_prop', 'Neutrophile_RPM_prop', 'CD4+_RPM_prop', 'CD19+_RPM_prop', 'Platelets_RPM_prop', 'Eosinophile_RPM_prop', 'CD8+_RPM_prop', 'CD14+_RPM_prop', 'Basophile_RPM_prop', 'Platelets_RPMscaled_mean', 'CD14+_RPMscaled_mean', 'CD56+_RPMscaled_mean', 'CD8+_RPMscaled_mean', 'RBCs_RPMscaled_mean', 'Neutrophile_RPMscaled_mean', 'CD19+_RPMscaled_mean', 'CD4+_RPMscaled_mean', 'Eosinophile_RPMscaled_mean', 'Basophile_RPMscaled_mean', 'Platelets_RPMscaled_std', 'CD14+_RPMscaled_std', 'CD56+_RPMscaled_std', 'CD8+_RPMscaled_std', 'RBCs_RPMscaled_std', 'Neutrophile_RPMscaled_std', 'CD19+_RPMscaled_std', 'CD4+_RPMscaled_std', 'Eosinophile_RPMscaled_std', 'Basophile_RPMscaled_std', 'Platelets_RPMscaled_prop', 'CD14+_RPMscaled_prop', 'CD56+_RPMscaled_prop', 'CD8+_RPMscaled_prop', 'RBCs_RPMscaled_prop', 'Neutrophile_RPMscaled_prop', 'CD19+_RPMscaled_prop', 'CD4+_RPMscaled_prop', 'Eosinophile_RPMscaled_prop', 'Basophile_RPMscaled_prop', 'main_cell_type__100', 'main_cell_type__75', 'main_cell_type__50', 'MS2_all__Plasma_Norgen__RPMscaled_prop', 'MS2_all__Neutrophils__RPMscaled_prop', 'MS2_all__CD8__RPMscaled_prop', 'MS2_all__NK_cells__RPMscaled_prop', 'MS2_all__CD4__RPMscaled_prop', 'MS2_all__Monocytes__RPMscaled_prop', 'MS2_all__B_cells__RPMscaled_prop', 'MS2_all__Erythrocytes__RPMscaled_prop', 'MS2_all__Thrombocytes__RPMscaled_prop', 'MS2_all__Basophils__RPMscaled_prop', 'MS2_all__Eosinophils__RPMscaled_prop', 'MS2_all__main_cell_type__100', 'MS2_all__main_cell_type__75', 'MS2_all__main_cell_type__50', 'MS2_all__plasma_cell_RPM_ratio', 'MS2_NoCancer__Plasma_Norgen__RPMscaled_prop', 'MS2_NoCancer__Neutrophils__RPMscaled_prop', 'MS2_NoCancer__CD8__RPMscaled_prop', 'MS2_NoCancer__NK_cells__RPMscaled_prop', 'MS2_NoCancer__CD4__RPMscaled_prop', 'MS2_NoCancer__Monocytes__RPMscaled_prop', 'MS2_NoCancer__B_cells__RPMscaled_prop', 'MS2_NoCancer__Erythrocytes__RPMscaled_prop', 'MS2_NoCancer__Thrombocytes__RPMscaled_prop', 'MS2_NoCancer__Basophils__RPMscaled_prop', 'MS2_NoCancer__Eosinophils__RPMscaled_prop', 'MS2_NoCancer__main_cell_type__100', 'MS2_NoCancer__main_cell_type__75', 'MS2_NoCancer__main_cell_type__50', 'MS2_NoCancer__plasma_cell_RPM_ratio', 'MS2_Cancer__Plasma_Norgen__RPMscaled_prop', 'MS2_Cancer__Neutrophils__RPMscaled_prop', 'MS2_Cancer__CD8__RPMscaled_prop', 'MS2_Cancer__NK_cells__RPMscaled_prop', 'MS2_Cancer__CD4__RPMscaled_prop', 'MS2_Cancer__Thrombocytes__RPMscaled_prop', 'MS2_Cancer__Monocytes__RPMscaled_prop', 'MS2_Cancer__B_cells__RPMscaled_prop', 'MS2_Cancer__Basophils__RPMscaled_prop', 'MS2_Cancer__Eosinophils__RPMscaled_prop', 'MS2_Cancer__Erythrocytes__RPMscaled_prop', 'MS2_Cancer__main_cell_type__100', 'MS2_Cancer__main_cell_type__75', 'MS2_Cancer__main_cell_type__50', 'MS2_Cancer__plasma_cell_RPM_ratio'\n",
      "    layers: 'counts', 'log2_1p_CPM_original'\n",
      "layers(neu): ['counts', 'log2_1p_CPM_original']\n"
     ]
    }
   ],
   "source": [
    "import anndata as ad\n",
    "import json\n",
    "from scipy import sparse\n",
    "from pathlib import Path\n",
    "\n",
    "def load_converted_base_then_layers(root_dir: str):\n",
    "    root = Path(root_dir)\n",
    "    adata = ad.read_h5ad(root / \"base_legacy.h5ad\")  # should work now\n",
    "\n",
    "    with open(root / \"layers_manifest.json\") as f:\n",
    "        mf = json.load(f)\n",
    "\n",
    "    for layer in mf[\"layers\"]:\n",
    "        lname = layer[\"name\"]\n",
    "        M = sparse.load_npz(root / layer[\"path\"]).tocsr()\n",
    "        if M.shape != adata.shape:\n",
    "            raise ValueError(f\"Layer {lname} shape {M.shape} != {adata.shape}\")\n",
    "        adata.layers[lname] = M\n",
    "    return adata\n",
    "\n",
    "adata_neu = load_converted_base_then_layers(\"../data/raw_count/converted/GSE169569\")\n",
    "adata_cov = load_converted_base_then_layers(\"../data/raw_count/converted/GSE228841\")\n",
    "\n",
    "print(adata_neu)\n",
    "print(\"layers(neu):\", list(adata_neu.layers.keys()))\n"
   ]
  },
  {
   "cell_type": "code",
   "execution_count": 6,
   "id": "0485061e",
   "metadata": {},
   "outputs": [],
   "source": [
    "import numpy as np\n",
    "\n",
    "X_counts = adata_neu.layers[\"counts\"]\n",
    "norm_layer = adata_neu.layers[\"log2_1p_CPM_original\"]\n",
    "if sparse.issparse(X_counts):\n",
    "    X_counts = X_counts.A  # same as .toarray()\n",
    "if sparse.issparse(norm_layer):\n",
    "    norm_layer = norm_layer.A\n",
    "gene_names = np.array(adata_neu.var_names, dtype=str)\n",
    "batches = np.array(adata_neu.obs[\"BioProject\"], dtype=str)\n",
    "norm_layer = adata_neu.layers[\"log2_1p_CPM_original\"]"
   ]
  },
  {
   "cell_type": "code",
   "execution_count": null,
   "id": "78b668a1",
   "metadata": {},
   "outputs": [
    {
     "name": "stderr",
     "output_type": "stream",
     "text": [
      "/Users/mjlee/anaconda3/envs/dca_legacy/lib/python3.7/site-packages/tqdm/auto.py:21: TqdmWarning: IProgress not found. Please update jupyter and ipywidgets. See https://ipywidgets.readthedocs.io/en/stable/user_install.html\n",
      "  from .autonotebook import tqdm as notebook_tqdm\n",
      "[I 2025-09-14 19:02:44,543] A new study created in memory with name: no-name-afb3a28f-7a5b-4f3b-9ef7-4ae787ecc2f9\n"
     ]
    },
    {
     "name": "stdout",
     "output_type": "stream",
     "text": [
      "2025-09-14 19:02:44 | [cv_dca_5fold] start k=3 n_hvg=1000 mode=seurat_v3 R=1 mask_frac=0.1 thinning_p=0.1\n",
      "2025-09-14 19:02:44 | X_counts: dense  (447, 51777) dtype=int64\n",
      "2025-09-14 19:02:44 | X_counts: zeros=66.23%, approx_int=True\n",
      "2025-09-14 19:02:44 | [time] [DCA] fold 1/3 start\n",
      "2025-09-14 19:02:45 | X_tr: dense  (298, 51777) dtype=int64\n",
      "2025-09-14 19:02:45 | X_va: dense  (149, 51777) dtype=int64\n"
     ]
    },
    {
     "name": "stderr",
     "output_type": "stream",
     "text": [
      "/Users/mjlee/anaconda3/envs/dca_legacy/lib/python3.7/site-packages/scanpy/preprocessing/_highly_variable_genes.py:64: UserWarning: `flavor='seurat_v3'` expects raw count data, but non-integers were found.\n",
      "  UserWarning,\n"
     ]
    },
    {
     "name": "stdout",
     "output_type": "stream",
     "text": [
      "2025-09-14 19:02:45 | [DCA] fold 1 | HVG=1000\n",
      "2025-09-14 19:02:45 | [DCA] fit hidden=[32, 32, 32] epochs=150 bs=64\n",
      "2025-09-14 19:02:45 | X_train: dense  (298, 1000) dtype=int64\n",
      "2025-09-14 19:02:45 | [time] [DCA] fold 1 predict mu_va start\n"
     ]
    }
   ],
   "source": [
    "import optuna\n",
    "\n",
    "def objective(trial: optuna.Trial):\n",
    "    hidden_size = [\n",
    "        trial.suggest_categorical(\"h1\", [32, 64, 128]),\n",
    "        trial.suggest_categorical(\"h2\", [16, 32, 64]),\n",
    "        trial.suggest_categorical(\"h3\", [32, 64, 128]),\n",
    "    ]\n",
    "    epochs = trial.suggest_categorical(\"epochs\", [50, 100, 150])\n",
    "    batch_size = trial.suggest_categorical(\"batch_size\", [64, 128])\n",
    "    n_hvg = trial.suggest_categorical(\"n_hvg\", [800, 1000, 1500, 2000])\n",
    "\n",
    "    summary, _ = cv_dca_5fold(\n",
    "        X_counts, k=3,\n",
    "        dca_params=dict(hidden_size=hidden_size, epochs=epochs, batch_size=batch_size),\n",
    "        n_hvg=int(n_hvg), R=1,\n",
    "        mask_frac=0.10, thinning_p=0.10, random_state=123,\n",
    "        hvg_mode=\"seurat_v3\",\n",
    "        gene_names=gene_names, batches=batches,\n",
    "        norm_layer=norm_layer, batch_key=\"BioProject\",\n",
    "        seurat_layer_name=\"log2_1p_CPM_original\",\n",
    "        save_dir=None\n",
    "    )\n",
    "    # choose your target metric\n",
    "    return float(summary[\"NB_ll_zero\"].mean())\n",
    "\n",
    "study = optuna.create_study(direction=\"maximize\", sampler=optuna.samplers.TPESampler(seed=123))\n",
    "study.optimize(objective, n_trials=20, gc_after_trial=True)\n",
    "\n",
    "print(\"Best params:\", study.best_params)\n",
    "\n",
    "# Final retrain with “fuller” settings\n",
    "best = study.best_params\n",
    "final_summary, final_details = cv_dca_5fold(\n",
    "    X_counts, k=5,\n",
    "    dca_params=dict(hidden_size=[best[\"h1\"], best[\"h2\"], best[\"h3\"]],\n",
    "                    epochs=300, batch_size=best[\"batch_size\"]),\n",
    "    n_hvg=int(best[\"n_hvg\"]), R=3,\n",
    "    mask_frac=0.10, thinning_p=0.10, random_state=123,\n",
    "    hvg_mode=\"seurat_v3\",\n",
    "    gene_names=gene_names, batches=batches,\n",
    "    norm_layer=norm_layer, batch_key=\"BioProject\",\n",
    "    seurat_layer_name=\"log2_1p_CPM_original\",\n",
    "    save_dir=\"results/dca_full\"\n",
    ")"
   ]
  },
  {
   "cell_type": "code",
   "execution_count": null,
   "id": "99904ec5",
   "metadata": {},
   "outputs": [
    {
     "name": "stderr",
     "output_type": "stream",
     "text": [
      "/Users/mjlee/anaconda3/envs/dca_legacy/lib/python3.7/site-packages/scanpy/preprocessing/_highly_variable_genes.py:64: UserWarning: `flavor='seurat_v3'` expects raw count data, but non-integers were found.\n",
      "  UserWarning,\n"
     ]
    }
   ],
   "source": [
    "# # (A) Simple: variance HVG\n",
    "# summary_dca, details_dca = cv_dca_5fold(\n",
    "#     X_counts,\n",
    "#     k=5,\n",
    "#     dca_params=dict(hidden_size=[64,32,64], epochs=300, batch_size=128),\n",
    "#     n_hvg=2000,\n",
    "#     R=3,                     # repeats per masking protocol\n",
    "#     mask_frac=0.10,          # Nonzero Zeroing: 10% of nonzeros masked per gene\n",
    "#     thinning_p=0.10,         # Binomial Thinning: 10% held out\n",
    "#     random_state=123,\n",
    "#     hvg_mode=\"variance\",\n",
    "#     labels=celltype_labels,  # optional\n",
    "#     save_dir=\"results/dca\"   # CSVs will be written here\n",
    "# )\n",
    "\n",
    "\n",
    "\n",
    "\n",
    "\n",
    "# (B) Batch-aware HVG (Seurat v3)\n",
    "summary_dca, details_dca = cv_dca_5fold(\n",
    "    X_counts,\n",
    "    k=5,\n",
    "    dca_params=dict(hidden_size=[64,32,64], epochs=300, batch_size=128),\n",
    "    n_hvg=2000,\n",
    "    R=3,\n",
    "    mask_frac=0.10,\n",
    "    thinning_p=0.10,\n",
    "    random_state=123,\n",
    "    hvg_mode=\"seurat_v3\",\n",
    "    gene_names=gene_names,\n",
    "    batches=batches,\n",
    "    norm_layer=norm_layer,\n",
    "    batch_key=\"BioProject\",\n",
    "    seurat_layer_name=\"log2_1p_CPM_original\",\n",
    "    # labels=celltype_labels,        # optional\n",
    "    save_dir=\"results/dca\"         # CSVs will be written here\n",
    ")\n"
   ]
  },
  {
   "cell_type": "code",
   "execution_count": null,
   "id": "0ec304df",
   "metadata": {},
   "outputs": [],
   "source": []
  }
 ],
 "metadata": {
  "kernelspec": {
   "display_name": "dca_legacy",
   "language": "python",
   "name": "python3"
  },
  "language_info": {
   "codemirror_mode": {
    "name": "ipython",
    "version": 3
   },
   "file_extension": ".py",
   "mimetype": "text/x-python",
   "name": "python",
   "nbconvert_exporter": "python",
   "pygments_lexer": "ipython3",
   "version": "3.7.12"
  }
 },
 "nbformat": 4,
 "nbformat_minor": 5
}
