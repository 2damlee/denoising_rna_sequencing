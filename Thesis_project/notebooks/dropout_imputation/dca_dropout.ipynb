{
 "cells": [
  {
   "cell_type": "code",
   "execution_count": 1,
   "id": "078296e6",
   "metadata": {},
   "outputs": [],
   "source": [
    "import sys\n",
    "import scanpy as sc\n",
    "\n",
    "sys.path.append(\"../..\")\n",
    "from scripts.runner_models import cv_dca_5fold"
   ]
  },
  {
   "cell_type": "code",
   "execution_count": null,
   "id": "0ae0bd36",
   "metadata": {},
   "outputs": [
    {
     "name": "stderr",
     "output_type": "stream",
     "text": [
      "2025-09-17 19:17:29.866817: I tensorflow/core/util/port.cc:113] oneDNN custom operations are on. You may see slightly different numerical results due to floating-point round-off errors from different computation orders. To turn them off, set the environment variable `TF_ENABLE_ONEDNN_OPTS=0`.\n",
      "2025-09-17 19:17:29.916590: E external/local_xla/xla/stream_executor/cuda/cuda_dnn.cc:9261] Unable to register cuDNN factory: Attempting to register factory for plugin cuDNN when one has already been registered\n",
      "2025-09-17 19:17:29.916665: E external/local_xla/xla/stream_executor/cuda/cuda_fft.cc:607] Unable to register cuFFT factory: Attempting to register factory for plugin cuFFT when one has already been registered\n",
      "2025-09-17 19:17:29.918658: E external/local_xla/xla/stream_executor/cuda/cuda_blas.cc:1515] Unable to register cuBLAS factory: Attempting to register factory for plugin cuBLAS when one has already been registered\n",
      "2025-09-17 19:17:29.929325: I tensorflow/core/platform/cpu_feature_guard.cc:182] This TensorFlow binary is optimized to use available CPU instructions in performance-critical operations.\n",
      "To enable the following instructions: AVX2 AVX512F AVX512_VNNI AVX512_BF16 FMA, in other operations, rebuild TensorFlow with the appropriate compiler flags.\n",
      "2025-09-17 19:17:31.557322: W tensorflow/compiler/tf2tensorrt/utils/py_utils.cc:38] TF-TRT Warning: Could not find TensorRT\n"
     ]
    }
   ],
   "source": [
    "import sys, types\n",
    "import tensorflow.keras.optimizers.legacy as legacy_opt\n",
    "\n",
    "# Build a tiny shim module so `from keras.optimizers import RMSprop` etc. pick legacy classes\n",
    "shim = types.ModuleType(\"keras.optimizers\")\n",
    "for name in (\"SGD\", \"RMSprop\", \"Adam\", \"Adagrad\", \"Adadelta\", \"Adamax\", \"Nadam\", \"Ftrl\", \"Optimizer\"):\n",
    "    if hasattr(legacy_opt, name):\n",
    "        setattr(shim, name, getattr(legacy_opt, name))\n",
    "\n",
    "# Ensure our shim is used for future imports\n",
    "sys.modules.pop(\"keras.optimizers\", None)   # in case it's already imported\n",
    "sys.modules[\"keras.optimizers\"] = shim\n",
    "\n",
    "# (Optional) make sure GPU mem growth is on\n",
    "try:\n",
    "    import tensorflow as tf\n",
    "    for g in tf.config.list_physical_devices(\"GPU\"):\n",
    "        tf.config.experimental.set_memory_growth(g, True)\n",
    "except Exception:\n",
    "    pass\n"
   ]
  },
  {
   "cell_type": "code",
   "execution_count": 3,
   "id": "49f653d4",
   "metadata": {},
   "outputs": [],
   "source": [
    "# Load data\n",
    "IN_PATH_neu = \"../../data/raw_count/GSE169569_raw_counts.h5ad\"\n",
    "IN_PATH_cov = \"../../data/raw_count/GSE228841_raw_counts.h5ad\"\n",
    "\n",
    "adata_neu = sc.read_h5ad(IN_PATH_neu)\n",
    "adata_cov = sc.read_h5ad(IN_PATH_cov)"
   ]
  },
  {
   "cell_type": "code",
   "execution_count": 4,
   "id": "297eef36",
   "metadata": {},
   "outputs": [],
   "source": [
    "# --- PATCH PyYAML load() to default to a safe/full loader if none was given ---\n",
    "import yaml\n",
    "\n",
    "if hasattr(yaml, \"load\"):\n",
    "    _orig_load = yaml.load\n",
    "    def _patched_load(stream, Loader=None, *args, **kwargs):\n",
    "        if Loader is None:\n",
    "            try:\n",
    "                from yaml import FullLoader\n",
    "                Loader = FullLoader\n",
    "            except Exception:\n",
    "                from yaml import SafeLoader\n",
    "                Loader = SafeLoader\n",
    "        return _orig_load(stream, Loader=Loader, *args, **kwargs)\n",
    "    yaml.load = _patched_load\n",
    "\n",
    "# Sanity check: should NOT raise TypeError now\n",
    "assert yaml.load(\"a: 1\") == {\"a\": 1}\n"
   ]
  },
  {
   "cell_type": "code",
   "execution_count": 5,
   "id": "0485061e",
   "metadata": {},
   "outputs": [],
   "source": [
    "import numpy as np\n",
    "\n",
    "# Extract data matrices and metadata\n",
    "X_counts = adata_neu.layers[\"counts\"] # raw counts\n",
    "gene_names = np.array(adata_neu.var_names, dtype=str)\n",
    "batches = np.array(adata_neu.obs[\"BioProject\"], dtype=str)\n",
    "norm_layer = adata_neu.layers[\"log2_1p_CPM_original\"]"
   ]
  },
  {
   "cell_type": "code",
   "execution_count": 6,
   "id": "78b668a1",
   "metadata": {},
   "outputs": [
    {
     "name": "stderr",
     "output_type": "stream",
     "text": [
      "/home/ma/ma_ma/ma_minjlee/.conda/envs/dca_gpu/lib/python3.10/site-packages/tqdm/auto.py:21: TqdmWarning: IProgress not found. Please update jupyter and ipywidgets. See https://ipywidgets.readthedocs.io/en/stable/user_install.html\n",
      "  from .autonotebook import tqdm as notebook_tqdm\n",
      "[I 2025-09-17 13:16:33,470] A new study created in memory with name: no-name-84290c80-a98f-47e0-b7d0-fb105ed76f24\n"
     ]
    },
    {
     "name": "stdout",
     "output_type": "stream",
     "text": [
      "2025-09-17 13:16:33 | [cv_dca_5fold] start k=3 n_hvg=1000 mode=seurat_v3 R=1 mask_frac=0.1 thinning_p=0.1\n",
      "2025-09-17 13:16:33 | X_counts: dense  (447, 51777) dtype=int64\n",
      "2025-09-17 13:17:03 | X_counts: zeros=66.23%, approx_int=True\n",
      "2025-09-17 13:17:03 | [time] [DCA] fold 1/3 start\n",
      "2025-09-17 13:17:03 | X_tr: dense  (298, 51777) dtype=int64\n",
      "2025-09-17 13:17:03 | X_va: dense  (149, 51777) dtype=int64\n"
     ]
    },
    {
     "name": "stderr",
     "output_type": "stream",
     "text": [
      "/home/ma/ma_ma/ma_minjlee/.conda/envs/dca_gpu/lib/python3.10/site-packages/scanpy/preprocessing/_highly_variable_genes.py:64: UserWarning: `flavor='seurat_v3'` expects raw count data, but non-integers were found.\n",
      "  warnings.warn(\n"
     ]
    },
    {
     "name": "stdout",
     "output_type": "stream",
     "text": [
      "2025-09-17 13:17:45 | [DCA] fold 1 | HVG=1000\n",
      "2025-09-17 13:17:45 | [DCA] fit hidden=[32, 32, 32] epochs=150 bs=64\n",
      "2025-09-17 13:17:45 | X_train: dense  (298, 1000) dtype=int64\n",
      "2025-09-17 13:17:45 | [time] [DCA] fold 1 predict mu_va start\n"
     ]
    },
    {
     "name": "stderr",
     "output_type": "stream",
     "text": [
      "/home/ma/ma_ma/ma_minjlee/.conda/envs/dca_gpu/lib/python3.10/site-packages/hyperopt/atpe.py:19: UserWarning: pkg_resources is deprecated as an API. See https://setuptools.pypa.io/en/latest/pkg_resources.html. The pkg_resources package is slated for removal as early as 2025-11-30. Refrain from using this package or pin to Setuptools<81.\n",
      "  import pkg_resources\n"
     ]
    },
    {
     "name": "stdout",
     "output_type": "stream",
     "text": [
      "2025-09-17 13:17:46 | [DCA] predict_mean\n",
      "2025-09-17 13:17:46 | [time] [DCA] train(dca.api.dca) start\n",
      "dca: Successfully preprocessed 1000 genes and 447 cells.\n",
      "WARNING:tensorflow:From /home/ma/ma_ma/ma_minjlee/.conda/envs/dca_gpu/lib/python3.10/site-packages/keras/src/layers/normalization/batch_normalization.py:883: _colocate_with (from tensorflow.python.framework.ops) is deprecated and will be removed in a future version.\n",
      "Instructions for updating:\n",
      "Colocations handled automatically by placer.\n"
     ]
    },
    {
     "name": "stderr",
     "output_type": "stream",
     "text": [
      "2025-09-17 13:17:46,702 [WARNING] From /home/ma/ma_ma/ma_minjlee/.conda/envs/dca_gpu/lib/python3.10/site-packages/keras/src/layers/normalization/batch_normalization.py:883: _colocate_with (from tensorflow.python.framework.ops) is deprecated and will be removed in a future version.\n",
      "Instructions for updating:\n",
      "Colocations handled automatically by placer.\n",
      "2025-09-17 13:17:46.872356: I tensorflow/compiler/mlir/mlir_graph_optimization_pass.cc:388] MLIR V1 optimization pass is not enabled\n",
      "2025-09-17 13:17:46.922160: W tensorflow/c/c_api.cc:305] Operation '{name:'mean/bias/Assign' id:268 op device:{requested: '', assigned: ''} def:{{{node mean/bias/Assign}} = AssignVariableOp[_has_manual_control_dependencies=true, dtype=DT_FLOAT, validate_shape=false](mean/bias, mean/bias/Initializer/zeros)}}' was changed by setting attribute after it was run by a session. This mutation will have no effect, and will trigger an error in the future. Either don't modify nodes after running them or create a new session.\n",
      "2025-09-17 13:17:47.587179: W tensorflow/c/c_api.cc:305] Operation '{name:'batch_normalization_2/cond_3/Identity' id:205 op device:{requested: '', assigned: ''} def:{{{node batch_normalization_2/cond_3/Identity}} = Identity[T=DT_FLOAT, _has_manual_control_dependencies=true](batch_normalization_2/cond_3)}}' was changed by setting attribute after it was run by a session. This mutation will have no effect, and will trigger an error in the future. Either don't modify nodes after running them or create a new session.\n",
      "2025-09-17 13:17:47.636516: W tensorflow/c/c_api.cc:305] Operation '{name:'training/RMSprop/batch_normalization_1/beta/rms/Assign' id:895 op device:{requested: '', assigned: ''} def:{{{node training/RMSprop/batch_normalization_1/beta/rms/Assign}} = AssignVariableOp[_has_manual_control_dependencies=true, dtype=DT_FLOAT, validate_shape=false](training/RMSprop/batch_normalization_1/beta/rms, training/RMSprop/batch_normalization_1/beta/rms/Initializer/zeros)}}' was changed by setting attribute after it was run by a session. This mutation will have no effect, and will trigger an error in the future. Either don't modify nodes after running them or create a new session.\n",
      "/home/ma/ma_ma/ma_minjlee/.conda/envs/dca_gpu/lib/python3.10/site-packages/keras/src/engine/training_v1.py:2335: UserWarning: `Model.state_updates` will be removed in a future version. This property should not be used in TensorFlow 2.0, as `updates` are applied automatically.\n",
      "  updates = self.state_updates\n",
      "2025-09-17 13:17:48.049119: W tensorflow/c/c_api.cc:305] Operation '{name:'loss/AddN_1' id:374 op device:{requested: '', assigned: ''} def:{{{node loss/AddN_1}} = AddN[N=2, T=DT_FLOAT, _has_manual_control_dependencies=true](loss/mul, loss/AddN)}}' was changed by setting attribute after it was run by a session. This mutation will have no effect, and will trigger an error in the future. Either don't modify nodes after running them or create a new session.\n"
     ]
    },
    {
     "name": "stdout",
     "output_type": "stream",
     "text": [
      "dca: Calculating reconstructions...\n",
      "2025-09-17 13:17:53 | [time] [DCA] train(dca.api.dca) end in 7.25s\n",
      "2025-09-17 13:17:53 | [time] [DCA] fold 1 predict mu_va end in 8.49s\n",
      "2025-09-17 13:17:53 | [time] [DCA] fold 1/3 end in 50.55s\n",
      "2025-09-17 13:17:53 | [time] [DCA] fold 2/3 start\n"
     ]
    },
    {
     "name": "stderr",
     "output_type": "stream",
     "text": [
      "/home/ma/ma_ma/ma_minjlee/.conda/envs/dca_gpu/lib/python3.10/site-packages/keras/src/engine/training_v1.py:2359: UserWarning: `Model.state_updates` will be removed in a future version. This property should not be used in TensorFlow 2.0, as `updates` are applied automatically.\n",
      "  updates=self.state_updates,\n",
      "2025-09-17 13:17:53.774135: W tensorflow/c/c_api.cc:305] Operation '{name:'slice/slice/Identity' id:303 op device:{requested: '', assigned: ''} def:{{{node slice/slice/Identity}} = Identity[T=DT_FLOAT, _has_manual_control_dependencies=true](lambda_1/mul)}}' was changed by setting attribute after it was run by a session. This mutation will have no effect, and will trigger an error in the future. Either don't modify nodes after running them or create a new session.\n"
     ]
    },
    {
     "name": "stdout",
     "output_type": "stream",
     "text": [
      "2025-09-17 13:17:54 | X_tr: dense  (298, 51777) dtype=int64\n",
      "2025-09-17 13:17:54 | X_va: dense  (149, 51777) dtype=int64\n"
     ]
    },
    {
     "name": "stderr",
     "output_type": "stream",
     "text": [
      "/home/ma/ma_ma/ma_minjlee/.conda/envs/dca_gpu/lib/python3.10/site-packages/scanpy/preprocessing/_highly_variable_genes.py:64: UserWarning: `flavor='seurat_v3'` expects raw count data, but non-integers were found.\n",
      "  warnings.warn(\n"
     ]
    },
    {
     "name": "stdout",
     "output_type": "stream",
     "text": [
      "2025-09-17 13:18:53 | [DCA] fold 2 | HVG=1000\n",
      "2025-09-17 13:18:53 | [DCA] fit hidden=[32, 32, 32] epochs=150 bs=64\n",
      "2025-09-17 13:18:53 | X_train: dense  (298, 1000) dtype=int64\n",
      "2025-09-17 13:18:53 | [time] [DCA] fold 2 predict mu_va start\n",
      "2025-09-17 13:18:53 | [DCA] predict_mean\n",
      "2025-09-17 13:18:53 | [time] [DCA] train(dca.api.dca) start\n",
      "dca: Successfully preprocessed 1000 genes and 447 cells.\n"
     ]
    },
    {
     "name": "stderr",
     "output_type": "stream",
     "text": [
      "2025-09-17 13:18:53.861229: W tensorflow/c/c_api.cc:305] Operation '{name:'dec1/kernel/Assign' id:160 op device:{requested: '', assigned: ''} def:{{{node dec1/kernel/Assign}} = AssignVariableOp[_has_manual_control_dependencies=true, dtype=DT_FLOAT, validate_shape=false](dec1/kernel, dec1/kernel/Initializer/stateless_random_uniform)}}' was changed by setting attribute after it was run by a session. This mutation will have no effect, and will trigger an error in the future. Either don't modify nodes after running them or create a new session.\n",
      "2025-09-17 13:18:54.306770: W tensorflow/c/c_api.cc:305] Operation '{name:'batch_normalization_2/cond_3/Identity' id:205 op device:{requested: '', assigned: ''} def:{{{node batch_normalization_2/cond_3/Identity}} = Identity[T=DT_FLOAT, _has_manual_control_dependencies=true](batch_normalization_2/cond_3)}}' was changed by setting attribute after it was run by a session. This mutation will have no effect, and will trigger an error in the future. Either don't modify nodes after running them or create a new session.\n",
      "2025-09-17 13:18:54.356867: W tensorflow/c/c_api.cc:305] Operation '{name:'training/RMSprop/batch_normalization_1/beta/rms/Assign' id:895 op device:{requested: '', assigned: ''} def:{{{node training/RMSprop/batch_normalization_1/beta/rms/Assign}} = AssignVariableOp[_has_manual_control_dependencies=true, dtype=DT_FLOAT, validate_shape=false](training/RMSprop/batch_normalization_1/beta/rms, training/RMSprop/batch_normalization_1/beta/rms/Initializer/zeros)}}' was changed by setting attribute after it was run by a session. This mutation will have no effect, and will trigger an error in the future. Either don't modify nodes after running them or create a new session.\n",
      "/home/ma/ma_ma/ma_minjlee/.conda/envs/dca_gpu/lib/python3.10/site-packages/keras/src/engine/training_v1.py:2335: UserWarning: `Model.state_updates` will be removed in a future version. This property should not be used in TensorFlow 2.0, as `updates` are applied automatically.\n",
      "  updates = self.state_updates\n",
      "2025-09-17 13:18:54.703051: W tensorflow/c/c_api.cc:305] Operation '{name:'loss/AddN_1' id:374 op device:{requested: '', assigned: ''} def:{{{node loss/AddN_1}} = AddN[N=2, T=DT_FLOAT, _has_manual_control_dependencies=true](loss/mul, loss/AddN)}}' was changed by setting attribute after it was run by a session. This mutation will have no effect, and will trigger an error in the future. Either don't modify nodes after running them or create a new session.\n"
     ]
    },
    {
     "name": "stdout",
     "output_type": "stream",
     "text": [
      "dca: Calculating reconstructions...\n",
      "2025-09-17 13:19:01 | [time] [DCA] train(dca.api.dca) end in 7.68s\n",
      "2025-09-17 13:19:01 | [time] [DCA] fold 2 predict mu_va end in 7.69s\n",
      "2025-09-17 13:19:01 | [time] [DCA] fold 2/3 end in 67.44s\n",
      "2025-09-17 13:19:01 | [time] [DCA] fold 3/3 start\n"
     ]
    },
    {
     "name": "stderr",
     "output_type": "stream",
     "text": [
      "/home/ma/ma_ma/ma_minjlee/.conda/envs/dca_gpu/lib/python3.10/site-packages/keras/src/engine/training_v1.py:2359: UserWarning: `Model.state_updates` will be removed in a future version. This property should not be used in TensorFlow 2.0, as `updates` are applied automatically.\n",
      "  updates=self.state_updates,\n",
      "2025-09-17 13:19:01.208976: W tensorflow/c/c_api.cc:305] Operation '{name:'slice/slice/Identity' id:303 op device:{requested: '', assigned: ''} def:{{{node slice/slice/Identity}} = Identity[T=DT_FLOAT, _has_manual_control_dependencies=true](lambda_1/mul)}}' was changed by setting attribute after it was run by a session. This mutation will have no effect, and will trigger an error in the future. Either don't modify nodes after running them or create a new session.\n"
     ]
    },
    {
     "name": "stdout",
     "output_type": "stream",
     "text": [
      "2025-09-17 13:19:01 | X_tr: dense  (298, 51777) dtype=int64\n",
      "2025-09-17 13:19:01 | X_va: dense  (149, 51777) dtype=int64\n"
     ]
    },
    {
     "name": "stderr",
     "output_type": "stream",
     "text": [
      "/home/ma/ma_ma/ma_minjlee/.conda/envs/dca_gpu/lib/python3.10/site-packages/scanpy/preprocessing/_highly_variable_genes.py:64: UserWarning: `flavor='seurat_v3'` expects raw count data, but non-integers were found.\n",
      "  warnings.warn(\n"
     ]
    },
    {
     "name": "stdout",
     "output_type": "stream",
     "text": [
      "2025-09-17 13:19:46 | [DCA] fold 3 | HVG=1000\n",
      "2025-09-17 13:19:46 | [DCA] fit hidden=[32, 32, 32] epochs=150 bs=64\n",
      "2025-09-17 13:19:46 | X_train: dense  (298, 1000) dtype=int64\n",
      "2025-09-17 13:19:46 | [time] [DCA] fold 3 predict mu_va start\n",
      "2025-09-17 13:19:46 | [DCA] predict_mean\n",
      "2025-09-17 13:19:46 | [time] [DCA] train(dca.api.dca) start\n",
      "dca: Successfully preprocessed 1000 genes and 447 cells.\n"
     ]
    },
    {
     "name": "stderr",
     "output_type": "stream",
     "text": [
      "2025-09-17 13:19:46.830135: W tensorflow/c/c_api.cc:305] Operation '{name:'mean/bias/Assign' id:268 op device:{requested: '', assigned: ''} def:{{{node mean/bias/Assign}} = AssignVariableOp[_has_manual_control_dependencies=true, dtype=DT_FLOAT, validate_shape=false](mean/bias, mean/bias/Initializer/zeros)}}' was changed by setting attribute after it was run by a session. This mutation will have no effect, and will trigger an error in the future. Either don't modify nodes after running them or create a new session.\n",
      "2025-09-17 13:19:47.278883: W tensorflow/c/c_api.cc:305] Operation '{name:'batch_normalization_2/cond_3/Identity' id:205 op device:{requested: '', assigned: ''} def:{{{node batch_normalization_2/cond_3/Identity}} = Identity[T=DT_FLOAT, _has_manual_control_dependencies=true](batch_normalization_2/cond_3)}}' was changed by setting attribute after it was run by a session. This mutation will have no effect, and will trigger an error in the future. Either don't modify nodes after running them or create a new session.\n",
      "2025-09-17 13:19:47.328001: W tensorflow/c/c_api.cc:305] Operation '{name:'training/RMSprop/batch_normalization_1/beta/rms/Assign' id:895 op device:{requested: '', assigned: ''} def:{{{node training/RMSprop/batch_normalization_1/beta/rms/Assign}} = AssignVariableOp[_has_manual_control_dependencies=true, dtype=DT_FLOAT, validate_shape=false](training/RMSprop/batch_normalization_1/beta/rms, training/RMSprop/batch_normalization_1/beta/rms/Initializer/zeros)}}' was changed by setting attribute after it was run by a session. This mutation will have no effect, and will trigger an error in the future. Either don't modify nodes after running them or create a new session.\n",
      "/home/ma/ma_ma/ma_minjlee/.conda/envs/dca_gpu/lib/python3.10/site-packages/keras/src/engine/training_v1.py:2335: UserWarning: `Model.state_updates` will be removed in a future version. This property should not be used in TensorFlow 2.0, as `updates` are applied automatically.\n",
      "  updates = self.state_updates\n",
      "2025-09-17 13:19:47.665358: W tensorflow/c/c_api.cc:305] Operation '{name:'loss/AddN_1' id:374 op device:{requested: '', assigned: ''} def:{{{node loss/AddN_1}} = AddN[N=2, T=DT_FLOAT, _has_manual_control_dependencies=true](loss/mul, loss/AddN)}}' was changed by setting attribute after it was run by a session. This mutation will have no effect, and will trigger an error in the future. Either don't modify nodes after running them or create a new session.\n"
     ]
    },
    {
     "name": "stdout",
     "output_type": "stream",
     "text": [
      "dca: Calculating reconstructions...\n",
      "2025-09-17 13:19:54 | [time] [DCA] train(dca.api.dca) end in 7.95s\n",
      "2025-09-17 13:19:54 | [time] [DCA] fold 3 predict mu_va end in 7.96s\n",
      "2025-09-17 13:19:54 | [time] [DCA] fold 3/3 end in 53.24s\n",
      "2025-09-17 13:19:54 | [cv_dca_5fold] done\n"
     ]
    },
    {
     "name": "stderr",
     "output_type": "stream",
     "text": [
      "/home/ma/ma_ma/ma_minjlee/.conda/envs/dca_gpu/lib/python3.10/site-packages/keras/src/engine/training_v1.py:2359: UserWarning: `Model.state_updates` will be removed in a future version. This property should not be used in TensorFlow 2.0, as `updates` are applied automatically.\n",
      "  updates=self.state_updates,\n",
      "2025-09-17 13:19:54.447144: W tensorflow/c/c_api.cc:305] Operation '{name:'slice/slice/Identity' id:303 op device:{requested: '', assigned: ''} def:{{{node slice/slice/Identity}} = Identity[T=DT_FLOAT, _has_manual_control_dependencies=true](lambda_1/mul)}}' was changed by setting attribute after it was run by a session. This mutation will have no effect, and will trigger an error in the future. Either don't modify nodes after running them or create a new session.\n",
      "[I 2025-09-17 13:19:54,617] Trial 0 finished with value: -4.69638200240746 and parameters: {'h1': 32, 'h2': 32, 'h3': 32, 'epochs': 150, 'batch_size': 64, 'n_hvg': 1000}. Best is trial 0 with value: -4.69638200240746.\n"
     ]
    },
    {
     "name": "stdout",
     "output_type": "stream",
     "text": [
      "2025-09-17 13:19:54 | [cv_dca_5fold] start k=3 n_hvg=1000 mode=seurat_v3 R=1 mask_frac=0.1 thinning_p=0.1\n",
      "2025-09-17 13:19:54 | X_counts: dense  (447, 51777) dtype=int64\n",
      "2025-09-17 13:20:25 | X_counts: zeros=66.23%, approx_int=True\n",
      "2025-09-17 13:20:25 | [time] [DCA] fold 1/3 start\n",
      "2025-09-17 13:20:25 | X_tr: dense  (298, 51777) dtype=int64\n",
      "2025-09-17 13:20:25 | X_va: dense  (149, 51777) dtype=int64\n"
     ]
    },
    {
     "name": "stderr",
     "output_type": "stream",
     "text": [
      "/home/ma/ma_ma/ma_minjlee/.conda/envs/dca_gpu/lib/python3.10/site-packages/scanpy/preprocessing/_highly_variable_genes.py:64: UserWarning: `flavor='seurat_v3'` expects raw count data, but non-integers were found.\n",
      "  warnings.warn(\n"
     ]
    },
    {
     "name": "stdout",
     "output_type": "stream",
     "text": [
      "2025-09-17 13:20:28 | [DCA] fold 1 | HVG=1000\n",
      "2025-09-17 13:20:28 | [DCA] fit hidden=[128, 16, 32] epochs=150 bs=128\n",
      "2025-09-17 13:20:28 | X_train: dense  (298, 1000) dtype=int64\n",
      "2025-09-17 13:20:28 | [time] [DCA] fold 1 predict mu_va start\n",
      "2025-09-17 13:20:28 | [DCA] predict_mean\n",
      "2025-09-17 13:20:28 | [time] [DCA] train(dca.api.dca) start\n",
      "dca: Successfully preprocessed 1000 genes and 447 cells.\n"
     ]
    },
    {
     "name": "stderr",
     "output_type": "stream",
     "text": [
      "2025-09-17 13:20:28.907451: W tensorflow/c/c_api.cc:305] Operation '{name:'batch_normalization_2/moving_mean/Assign' id:179 op device:{requested: '', assigned: ''} def:{{{node batch_normalization_2/moving_mean/Assign}} = AssignVariableOp[_has_manual_control_dependencies=true, dtype=DT_FLOAT, validate_shape=false](batch_normalization_2/moving_mean, batch_normalization_2/moving_mean/Initializer/zeros)}}' was changed by setting attribute after it was run by a session. This mutation will have no effect, and will trigger an error in the future. Either don't modify nodes after running them or create a new session.\n",
      "2025-09-17 13:20:29.323062: W tensorflow/c/c_api.cc:305] Operation '{name:'batch_normalization_2/cond_3/Identity' id:205 op device:{requested: '', assigned: ''} def:{{{node batch_normalization_2/cond_3/Identity}} = Identity[T=DT_FLOAT, _has_manual_control_dependencies=true](batch_normalization_2/cond_3)}}' was changed by setting attribute after it was run by a session. This mutation will have no effect, and will trigger an error in the future. Either don't modify nodes after running them or create a new session.\n",
      "2025-09-17 13:20:29.372898: W tensorflow/c/c_api.cc:305] Operation '{name:'training/RMSprop/dispersion/kernel/rms/Assign' id:931 op device:{requested: '', assigned: ''} def:{{{node training/RMSprop/dispersion/kernel/rms/Assign}} = AssignVariableOp[_has_manual_control_dependencies=true, dtype=DT_FLOAT, validate_shape=false](training/RMSprop/dispersion/kernel/rms, training/RMSprop/dispersion/kernel/rms/Initializer/zeros)}}' was changed by setting attribute after it was run by a session. This mutation will have no effect, and will trigger an error in the future. Either don't modify nodes after running them or create a new session.\n",
      "/home/ma/ma_ma/ma_minjlee/.conda/envs/dca_gpu/lib/python3.10/site-packages/keras/src/engine/training_v1.py:2335: UserWarning: `Model.state_updates` will be removed in a future version. This property should not be used in TensorFlow 2.0, as `updates` are applied automatically.\n",
      "  updates = self.state_updates\n",
      "2025-09-17 13:20:29.730660: W tensorflow/c/c_api.cc:305] Operation '{name:'loss/AddN_1' id:374 op device:{requested: '', assigned: ''} def:{{{node loss/AddN_1}} = AddN[N=2, T=DT_FLOAT, _has_manual_control_dependencies=true](loss/mul, loss/AddN)}}' was changed by setting attribute after it was run by a session. This mutation will have no effect, and will trigger an error in the future. Either don't modify nodes after running them or create a new session.\n"
     ]
    },
    {
     "name": "stdout",
     "output_type": "stream",
     "text": [
      "dca: Calculating reconstructions...\n",
      "2025-09-17 13:20:37 | [time] [DCA] train(dca.api.dca) end in 8.99s\n",
      "2025-09-17 13:20:37 | [time] [DCA] fold 1 predict mu_va end in 9.00s\n",
      "2025-09-17 13:20:37 | [time] [DCA] fold 1/3 end in 12.58s\n",
      "2025-09-17 13:20:37 | [time] [DCA] fold 2/3 start\n"
     ]
    },
    {
     "name": "stderr",
     "output_type": "stream",
     "text": [
      "/home/ma/ma_ma/ma_minjlee/.conda/envs/dca_gpu/lib/python3.10/site-packages/keras/src/engine/training_v1.py:2359: UserWarning: `Model.state_updates` will be removed in a future version. This property should not be used in TensorFlow 2.0, as `updates` are applied automatically.\n",
      "  updates=self.state_updates,\n",
      "2025-09-17 13:20:37.519633: W tensorflow/c/c_api.cc:305] Operation '{name:'slice/slice/Identity' id:303 op device:{requested: '', assigned: ''} def:{{{node slice/slice/Identity}} = Identity[T=DT_FLOAT, _has_manual_control_dependencies=true](lambda_1/mul)}}' was changed by setting attribute after it was run by a session. This mutation will have no effect, and will trigger an error in the future. Either don't modify nodes after running them or create a new session.\n"
     ]
    },
    {
     "name": "stdout",
     "output_type": "stream",
     "text": [
      "2025-09-17 13:20:37 | X_tr: dense  (298, 51777) dtype=int64\n",
      "2025-09-17 13:20:37 | X_va: dense  (149, 51777) dtype=int64\n"
     ]
    },
    {
     "name": "stderr",
     "output_type": "stream",
     "text": [
      "/home/ma/ma_ma/ma_minjlee/.conda/envs/dca_gpu/lib/python3.10/site-packages/scanpy/preprocessing/_highly_variable_genes.py:64: UserWarning: `flavor='seurat_v3'` expects raw count data, but non-integers were found.\n",
      "  warnings.warn(\n"
     ]
    },
    {
     "name": "stdout",
     "output_type": "stream",
     "text": [
      "2025-09-17 13:20:39 | [DCA] fold 2 | HVG=1000\n",
      "2025-09-17 13:20:39 | [DCA] fit hidden=[128, 16, 32] epochs=150 bs=128\n",
      "2025-09-17 13:20:39 | X_train: dense  (298, 1000) dtype=int64\n",
      "2025-09-17 13:20:39 | [time] [DCA] fold 2 predict mu_va start\n",
      "2025-09-17 13:20:39 | [DCA] predict_mean\n",
      "2025-09-17 13:20:39 | [time] [DCA] train(dca.api.dca) start\n",
      "dca: Successfully preprocessed 1000 genes and 447 cells.\n"
     ]
    },
    {
     "name": "stderr",
     "output_type": "stream",
     "text": [
      "2025-09-17 13:20:40.042147: W tensorflow/c/c_api.cc:305] Operation '{name:'batch_normalization_2/moving_variance/Assign' id:184 op device:{requested: '', assigned: ''} def:{{{node batch_normalization_2/moving_variance/Assign}} = AssignVariableOp[_has_manual_control_dependencies=true, dtype=DT_FLOAT, validate_shape=false](batch_normalization_2/moving_variance, batch_normalization_2/moving_variance/Initializer/ones)}}' was changed by setting attribute after it was run by a session. This mutation will have no effect, and will trigger an error in the future. Either don't modify nodes after running them or create a new session.\n",
      "2025-09-17 13:20:40.462915: W tensorflow/c/c_api.cc:305] Operation '{name:'batch_normalization_2/cond_3/Identity' id:205 op device:{requested: '', assigned: ''} def:{{{node batch_normalization_2/cond_3/Identity}} = Identity[T=DT_FLOAT, _has_manual_control_dependencies=true](batch_normalization_2/cond_3)}}' was changed by setting attribute after it was run by a session. This mutation will have no effect, and will trigger an error in the future. Either don't modify nodes after running them or create a new session.\n",
      "2025-09-17 13:20:40.512513: W tensorflow/c/c_api.cc:305] Operation '{name:'training/RMSprop/dispersion/bias/rms/Assign' id:938 op device:{requested: '', assigned: ''} def:{{{node training/RMSprop/dispersion/bias/rms/Assign}} = AssignVariableOp[_has_manual_control_dependencies=true, dtype=DT_FLOAT, validate_shape=false](training/RMSprop/dispersion/bias/rms, training/RMSprop/dispersion/bias/rms/Initializer/zeros)}}' was changed by setting attribute after it was run by a session. This mutation will have no effect, and will trigger an error in the future. Either don't modify nodes after running them or create a new session.\n",
      "/home/ma/ma_ma/ma_minjlee/.conda/envs/dca_gpu/lib/python3.10/site-packages/keras/src/engine/training_v1.py:2335: UserWarning: `Model.state_updates` will be removed in a future version. This property should not be used in TensorFlow 2.0, as `updates` are applied automatically.\n",
      "  updates = self.state_updates\n",
      "2025-09-17 13:20:40.861247: W tensorflow/c/c_api.cc:305] Operation '{name:'loss/AddN_1' id:374 op device:{requested: '', assigned: ''} def:{{{node loss/AddN_1}} = AddN[N=2, T=DT_FLOAT, _has_manual_control_dependencies=true](loss/mul, loss/AddN)}}' was changed by setting attribute after it was run by a session. This mutation will have no effect, and will trigger an error in the future. Either don't modify nodes after running them or create a new session.\n"
     ]
    },
    {
     "name": "stdout",
     "output_type": "stream",
     "text": [
      "dca: Calculating reconstructions...\n",
      "2025-09-17 13:20:48 | [time] [DCA] train(dca.api.dca) end in 9.11s\n",
      "2025-09-17 13:20:48 | [time] [DCA] fold 2 predict mu_va end in 9.12s\n",
      "2025-09-17 13:20:48 | [time] [DCA] fold 2/3 end in 11.27s\n",
      "2025-09-17 13:20:48 | [time] [DCA] fold 3/3 start\n"
     ]
    },
    {
     "name": "stderr",
     "output_type": "stream",
     "text": [
      "/home/ma/ma_ma/ma_minjlee/.conda/envs/dca_gpu/lib/python3.10/site-packages/keras/src/engine/training_v1.py:2359: UserWarning: `Model.state_updates` will be removed in a future version. This property should not be used in TensorFlow 2.0, as `updates` are applied automatically.\n",
      "  updates=self.state_updates,\n",
      "2025-09-17 13:20:48.785289: W tensorflow/c/c_api.cc:305] Operation '{name:'slice/slice/Identity' id:303 op device:{requested: '', assigned: ''} def:{{{node slice/slice/Identity}} = Identity[T=DT_FLOAT, _has_manual_control_dependencies=true](lambda_1/mul)}}' was changed by setting attribute after it was run by a session. This mutation will have no effect, and will trigger an error in the future. Either don't modify nodes after running them or create a new session.\n"
     ]
    },
    {
     "name": "stdout",
     "output_type": "stream",
     "text": [
      "2025-09-17 13:20:49 | X_tr: dense  (298, 51777) dtype=int64\n",
      "2025-09-17 13:20:49 | X_va: dense  (149, 51777) dtype=int64\n"
     ]
    },
    {
     "name": "stderr",
     "output_type": "stream",
     "text": [
      "/home/ma/ma_ma/ma_minjlee/.conda/envs/dca_gpu/lib/python3.10/site-packages/scanpy/preprocessing/_highly_variable_genes.py:64: UserWarning: `flavor='seurat_v3'` expects raw count data, but non-integers were found.\n",
      "  warnings.warn(\n"
     ]
    },
    {
     "name": "stdout",
     "output_type": "stream",
     "text": [
      "2025-09-17 13:21:55 | [DCA] fold 3 | HVG=1000\n",
      "2025-09-17 13:21:55 | [DCA] fit hidden=[128, 16, 32] epochs=150 bs=128\n",
      "2025-09-17 13:21:55 | X_train: dense  (298, 1000) dtype=int64\n",
      "2025-09-17 13:21:55 | [time] [DCA] fold 3 predict mu_va start\n",
      "2025-09-17 13:21:55 | [DCA] predict_mean\n",
      "2025-09-17 13:21:55 | [time] [DCA] train(dca.api.dca) start\n",
      "dca: Successfully preprocessed 1000 genes and 447 cells.\n"
     ]
    },
    {
     "name": "stderr",
     "output_type": "stream",
     "text": [
      "2025-09-17 13:21:55.688873: W tensorflow/c/c_api.cc:305] Operation '{name:'batch_normalization_2/moving_mean/Assign' id:179 op device:{requested: '', assigned: ''} def:{{{node batch_normalization_2/moving_mean/Assign}} = AssignVariableOp[_has_manual_control_dependencies=true, dtype=DT_FLOAT, validate_shape=false](batch_normalization_2/moving_mean, batch_normalization_2/moving_mean/Initializer/zeros)}}' was changed by setting attribute after it was run by a session. This mutation will have no effect, and will trigger an error in the future. Either don't modify nodes after running them or create a new session.\n",
      "2025-09-17 13:21:56.139458: W tensorflow/c/c_api.cc:305] Operation '{name:'batch_normalization_2/cond_3/Identity' id:205 op device:{requested: '', assigned: ''} def:{{{node batch_normalization_2/cond_3/Identity}} = Identity[T=DT_FLOAT, _has_manual_control_dependencies=true](batch_normalization_2/cond_3)}}' was changed by setting attribute after it was run by a session. This mutation will have no effect, and will trigger an error in the future. Either don't modify nodes after running them or create a new session.\n",
      "2025-09-17 13:21:56.189068: W tensorflow/c/c_api.cc:305] Operation '{name:'training/RMSprop/dispersion/bias/rms/Assign' id:938 op device:{requested: '', assigned: ''} def:{{{node training/RMSprop/dispersion/bias/rms/Assign}} = AssignVariableOp[_has_manual_control_dependencies=true, dtype=DT_FLOAT, validate_shape=false](training/RMSprop/dispersion/bias/rms, training/RMSprop/dispersion/bias/rms/Initializer/zeros)}}' was changed by setting attribute after it was run by a session. This mutation will have no effect, and will trigger an error in the future. Either don't modify nodes after running them or create a new session.\n",
      "/home/ma/ma_ma/ma_minjlee/.conda/envs/dca_gpu/lib/python3.10/site-packages/keras/src/engine/training_v1.py:2335: UserWarning: `Model.state_updates` will be removed in a future version. This property should not be used in TensorFlow 2.0, as `updates` are applied automatically.\n",
      "  updates = self.state_updates\n",
      "2025-09-17 13:21:56.543029: W tensorflow/c/c_api.cc:305] Operation '{name:'loss/AddN_1' id:374 op device:{requested: '', assigned: ''} def:{{{node loss/AddN_1}} = AddN[N=2, T=DT_FLOAT, _has_manual_control_dependencies=true](loss/mul, loss/AddN)}}' was changed by setting attribute after it was run by a session. This mutation will have no effect, and will trigger an error in the future. Either don't modify nodes after running them or create a new session.\n"
     ]
    },
    {
     "name": "stdout",
     "output_type": "stream",
     "text": [
      "dca: Calculating reconstructions...\n",
      "2025-09-17 13:22:04 | [time] [DCA] train(dca.api.dca) end in 9.36s\n",
      "2025-09-17 13:22:04 | [time] [DCA] fold 3 predict mu_va end in 9.37s\n",
      "2025-09-17 13:22:04 | [time] [DCA] fold 3/3 end in 75.90s\n",
      "2025-09-17 13:22:04 | [cv_dca_5fold] done\n"
     ]
    },
    {
     "name": "stderr",
     "output_type": "stream",
     "text": [
      "/home/ma/ma_ma/ma_minjlee/.conda/envs/dca_gpu/lib/python3.10/site-packages/keras/src/engine/training_v1.py:2359: UserWarning: `Model.state_updates` will be removed in a future version. This property should not be used in TensorFlow 2.0, as `updates` are applied automatically.\n",
      "  updates=self.state_updates,\n",
      "2025-09-17 13:22:04.699228: W tensorflow/c/c_api.cc:305] Operation '{name:'slice/slice/Identity' id:303 op device:{requested: '', assigned: ''} def:{{{node slice/slice/Identity}} = Identity[T=DT_FLOAT, _has_manual_control_dependencies=true](lambda_1/mul)}}' was changed by setting attribute after it was run by a session. This mutation will have no effect, and will trigger an error in the future. Either don't modify nodes after running them or create a new session.\n",
      "[I 2025-09-17 13:22:04,851] Trial 1 finished with value: -4.766321436955652 and parameters: {'h1': 128, 'h2': 16, 'h3': 32, 'epochs': 150, 'batch_size': 128, 'n_hvg': 1000}. Best is trial 0 with value: -4.69638200240746.\n"
     ]
    },
    {
     "name": "stdout",
     "output_type": "stream",
     "text": [
      "2025-09-17 13:22:05 | [cv_dca_5fold] start k=3 n_hvg=1000 mode=seurat_v3 R=1 mask_frac=0.1 thinning_p=0.1\n",
      "2025-09-17 13:22:05 | X_counts: dense  (447, 51777) dtype=int64\n",
      "2025-09-17 13:22:20 | X_counts: zeros=66.23%, approx_int=True\n",
      "2025-09-17 13:22:20 | [time] [DCA] fold 1/3 start\n",
      "2025-09-17 13:22:20 | X_tr: dense  (298, 51777) dtype=int64\n",
      "2025-09-17 13:22:20 | X_va: dense  (149, 51777) dtype=int64\n"
     ]
    },
    {
     "name": "stderr",
     "output_type": "stream",
     "text": [
      "/home/ma/ma_ma/ma_minjlee/.conda/envs/dca_gpu/lib/python3.10/site-packages/scanpy/preprocessing/_highly_variable_genes.py:64: UserWarning: `flavor='seurat_v3'` expects raw count data, but non-integers were found.\n",
      "  warnings.warn(\n"
     ]
    },
    {
     "name": "stdout",
     "output_type": "stream",
     "text": [
      "2025-09-17 13:22:22 | [DCA] fold 1 | HVG=1000\n",
      "2025-09-17 13:22:22 | [DCA] fit hidden=[128, 32, 128] epochs=150 bs=128\n",
      "2025-09-17 13:22:22 | X_train: dense  (298, 1000) dtype=int64\n",
      "2025-09-17 13:22:22 | [time] [DCA] fold 1 predict mu_va start\n",
      "2025-09-17 13:22:22 | [DCA] predict_mean\n",
      "2025-09-17 13:22:22 | [time] [DCA] train(dca.api.dca) start\n",
      "dca: Successfully preprocessed 1000 genes and 447 cells.\n"
     ]
    },
    {
     "name": "stderr",
     "output_type": "stream",
     "text": [
      "2025-09-17 13:22:22.381958: W tensorflow/c/c_api.cc:305] Operation '{name:'batch_normalization/moving_mean/Assign' id:35 op device:{requested: '', assigned: ''} def:{{{node batch_normalization/moving_mean/Assign}} = AssignVariableOp[_has_manual_control_dependencies=true, dtype=DT_FLOAT, validate_shape=false](batch_normalization/moving_mean, batch_normalization/moving_mean/Initializer/zeros)}}' was changed by setting attribute after it was run by a session. This mutation will have no effect, and will trigger an error in the future. Either don't modify nodes after running them or create a new session.\n",
      "2025-09-17 13:22:22.864906: W tensorflow/c/c_api.cc:305] Operation '{name:'batch_normalization_2/cond_3/Identity' id:205 op device:{requested: '', assigned: ''} def:{{{node batch_normalization_2/cond_3/Identity}} = Identity[T=DT_FLOAT, _has_manual_control_dependencies=true](batch_normalization_2/cond_3)}}' was changed by setting attribute after it was run by a session. This mutation will have no effect, and will trigger an error in the future. Either don't modify nodes after running them or create a new session.\n",
      "2025-09-17 13:22:22.914859: W tensorflow/c/c_api.cc:305] Operation '{name:'training/RMSprop/batch_normalization_2/beta/rms/Assign' id:912 op device:{requested: '', assigned: ''} def:{{{node training/RMSprop/batch_normalization_2/beta/rms/Assign}} = AssignVariableOp[_has_manual_control_dependencies=true, dtype=DT_FLOAT, validate_shape=false](training/RMSprop/batch_normalization_2/beta/rms, training/RMSprop/batch_normalization_2/beta/rms/Initializer/zeros)}}' was changed by setting attribute after it was run by a session. This mutation will have no effect, and will trigger an error in the future. Either don't modify nodes after running them or create a new session.\n",
      "/home/ma/ma_ma/ma_minjlee/.conda/envs/dca_gpu/lib/python3.10/site-packages/keras/src/engine/training_v1.py:2335: UserWarning: `Model.state_updates` will be removed in a future version. This property should not be used in TensorFlow 2.0, as `updates` are applied automatically.\n",
      "  updates = self.state_updates\n",
      "2025-09-17 13:22:23.293500: W tensorflow/c/c_api.cc:305] Operation '{name:'loss/AddN_1' id:374 op device:{requested: '', assigned: ''} def:{{{node loss/AddN_1}} = AddN[N=2, T=DT_FLOAT, _has_manual_control_dependencies=true](loss/mul, loss/AddN)}}' was changed by setting attribute after it was run by a session. This mutation will have no effect, and will trigger an error in the future. Either don't modify nodes after running them or create a new session.\n"
     ]
    },
    {
     "name": "stdout",
     "output_type": "stream",
     "text": [
      "dca: Calculating reconstructions...\n",
      "2025-09-17 13:22:31 | [time] [DCA] train(dca.api.dca) end in 9.66s\n",
      "2025-09-17 13:22:31 | [time] [DCA] fold 1 predict mu_va end in 9.66s\n",
      "2025-09-17 13:22:31 | [time] [DCA] fold 1/3 end in 10.87s\n",
      "2025-09-17 13:22:31 | [time] [DCA] fold 2/3 start\n"
     ]
    },
    {
     "name": "stderr",
     "output_type": "stream",
     "text": [
      "/home/ma/ma_ma/ma_minjlee/.conda/envs/dca_gpu/lib/python3.10/site-packages/keras/src/engine/training_v1.py:2359: UserWarning: `Model.state_updates` will be removed in a future version. This property should not be used in TensorFlow 2.0, as `updates` are applied automatically.\n",
      "  updates=self.state_updates,\n",
      "2025-09-17 13:22:31.696143: W tensorflow/c/c_api.cc:305] Operation '{name:'slice/slice/Identity' id:303 op device:{requested: '', assigned: ''} def:{{{node slice/slice/Identity}} = Identity[T=DT_FLOAT, _has_manual_control_dependencies=true](lambda_1/mul)}}' was changed by setting attribute after it was run by a session. This mutation will have no effect, and will trigger an error in the future. Either don't modify nodes after running them or create a new session.\n"
     ]
    },
    {
     "name": "stdout",
     "output_type": "stream",
     "text": [
      "2025-09-17 13:22:32 | X_tr: dense  (298, 51777) dtype=int64\n",
      "2025-09-17 13:22:32 | X_va: dense  (149, 51777) dtype=int64\n"
     ]
    },
    {
     "name": "stderr",
     "output_type": "stream",
     "text": [
      "/home/ma/ma_ma/ma_minjlee/.conda/envs/dca_gpu/lib/python3.10/site-packages/scanpy/preprocessing/_highly_variable_genes.py:64: UserWarning: `flavor='seurat_v3'` expects raw count data, but non-integers were found.\n",
      "  warnings.warn(\n"
     ]
    },
    {
     "name": "stdout",
     "output_type": "stream",
     "text": [
      "2025-09-17 13:22:33 | [DCA] fold 2 | HVG=1000\n",
      "2025-09-17 13:22:33 | [DCA] fit hidden=[128, 32, 128] epochs=150 bs=128\n",
      "2025-09-17 13:22:33 | X_train: dense  (298, 1000) dtype=int64\n",
      "2025-09-17 13:22:33 | [time] [DCA] fold 2 predict mu_va start\n",
      "2025-09-17 13:22:33 | [DCA] predict_mean\n",
      "2025-09-17 13:22:33 | [time] [DCA] train(dca.api.dca) start\n",
      "dca: Successfully preprocessed 1000 genes and 447 cells.\n"
     ]
    },
    {
     "name": "stderr",
     "output_type": "stream",
     "text": [
      "2025-09-17 13:22:33.365274: W tensorflow/c/c_api.cc:305] Operation '{name:'dispersion/bias/Assign' id:238 op device:{requested: '', assigned: ''} def:{{{node dispersion/bias/Assign}} = AssignVariableOp[_has_manual_control_dependencies=true, dtype=DT_FLOAT, validate_shape=false](dispersion/bias, dispersion/bias/Initializer/zeros)}}' was changed by setting attribute after it was run by a session. This mutation will have no effect, and will trigger an error in the future. Either don't modify nodes after running them or create a new session.\n",
      "2025-09-17 13:22:33.832121: W tensorflow/c/c_api.cc:305] Operation '{name:'batch_normalization_2/cond_3/Identity' id:205 op device:{requested: '', assigned: ''} def:{{{node batch_normalization_2/cond_3/Identity}} = Identity[T=DT_FLOAT, _has_manual_control_dependencies=true](batch_normalization_2/cond_3)}}' was changed by setting attribute after it was run by a session. This mutation will have no effect, and will trigger an error in the future. Either don't modify nodes after running them or create a new session.\n",
      "2025-09-17 13:22:33.884040: W tensorflow/c/c_api.cc:305] Operation '{name:'training/RMSprop/dec1/bias/rms/Assign' id:907 op device:{requested: '', assigned: ''} def:{{{node training/RMSprop/dec1/bias/rms/Assign}} = AssignVariableOp[_has_manual_control_dependencies=true, dtype=DT_FLOAT, validate_shape=false](training/RMSprop/dec1/bias/rms, training/RMSprop/dec1/bias/rms/Initializer/zeros)}}' was changed by setting attribute after it was run by a session. This mutation will have no effect, and will trigger an error in the future. Either don't modify nodes after running them or create a new session.\n",
      "/home/ma/ma_ma/ma_minjlee/.conda/envs/dca_gpu/lib/python3.10/site-packages/keras/src/engine/training_v1.py:2335: UserWarning: `Model.state_updates` will be removed in a future version. This property should not be used in TensorFlow 2.0, as `updates` are applied automatically.\n",
      "  updates = self.state_updates\n",
      "2025-09-17 13:22:34.294911: W tensorflow/c/c_api.cc:305] Operation '{name:'loss/AddN_1' id:374 op device:{requested: '', assigned: ''} def:{{{node loss/AddN_1}} = AddN[N=2, T=DT_FLOAT, _has_manual_control_dependencies=true](loss/mul, loss/AddN)}}' was changed by setting attribute after it was run by a session. This mutation will have no effect, and will trigger an error in the future. Either don't modify nodes after running them or create a new session.\n"
     ]
    },
    {
     "name": "stdout",
     "output_type": "stream",
     "text": [
      "dca: Calculating reconstructions...\n",
      "2025-09-17 13:22:48 | [time] [DCA] train(dca.api.dca) end in 15.05s\n",
      "2025-09-17 13:22:48 | [time] [DCA] fold 2 predict mu_va end in 15.06s\n",
      "2025-09-17 13:22:48 | [time] [DCA] fold 2/3 end in 16.38s\n",
      "2025-09-17 13:22:48 | [time] [DCA] fold 3/3 start\n"
     ]
    },
    {
     "name": "stderr",
     "output_type": "stream",
     "text": [
      "/home/ma/ma_ma/ma_minjlee/.conda/envs/dca_gpu/lib/python3.10/site-packages/keras/src/engine/training_v1.py:2359: UserWarning: `Model.state_updates` will be removed in a future version. This property should not be used in TensorFlow 2.0, as `updates` are applied automatically.\n",
      "  updates=self.state_updates,\n",
      "2025-09-17 13:22:48.082493: W tensorflow/c/c_api.cc:305] Operation '{name:'slice/slice/Identity' id:303 op device:{requested: '', assigned: ''} def:{{{node slice/slice/Identity}} = Identity[T=DT_FLOAT, _has_manual_control_dependencies=true](lambda_1/mul)}}' was changed by setting attribute after it was run by a session. This mutation will have no effect, and will trigger an error in the future. Either don't modify nodes after running them or create a new session.\n"
     ]
    },
    {
     "name": "stdout",
     "output_type": "stream",
     "text": [
      "2025-09-17 13:22:48 | X_tr: dense  (298, 51777) dtype=int64\n",
      "2025-09-17 13:22:48 | X_va: dense  (149, 51777) dtype=int64\n"
     ]
    },
    {
     "name": "stderr",
     "output_type": "stream",
     "text": [
      "/home/ma/ma_ma/ma_minjlee/.conda/envs/dca_gpu/lib/python3.10/site-packages/scanpy/preprocessing/_highly_variable_genes.py:64: UserWarning: `flavor='seurat_v3'` expects raw count data, but non-integers were found.\n",
      "  warnings.warn(\n"
     ]
    },
    {
     "name": "stdout",
     "output_type": "stream",
     "text": [
      "2025-09-17 13:24:14 | [DCA] fold 3 | HVG=1000\n",
      "2025-09-17 13:24:14 | [DCA] fit hidden=[128, 32, 128] epochs=150 bs=128\n",
      "2025-09-17 13:24:14 | X_train: dense  (298, 1000) dtype=int64\n",
      "2025-09-17 13:24:14 | [time] [DCA] fold 3 predict mu_va start\n",
      "2025-09-17 13:24:14 | [DCA] predict_mean\n",
      "2025-09-17 13:24:14 | [time] [DCA] train(dca.api.dca) start\n",
      "dca: Successfully preprocessed 1000 genes and 447 cells.\n"
     ]
    },
    {
     "name": "stderr",
     "output_type": "stream",
     "text": [
      "2025-09-17 13:24:14.359456: W tensorflow/c/c_api.cc:305] Operation '{name:'dispersion/kernel/Assign' id:231 op device:{requested: '', assigned: ''} def:{{{node dispersion/kernel/Assign}} = AssignVariableOp[_has_manual_control_dependencies=true, dtype=DT_FLOAT, validate_shape=false](dispersion/kernel, dispersion/kernel/Initializer/stateless_random_uniform)}}' was changed by setting attribute after it was run by a session. This mutation will have no effect, and will trigger an error in the future. Either don't modify nodes after running them or create a new session.\n",
      "2025-09-17 13:24:14.783074: W tensorflow/c/c_api.cc:305] Operation '{name:'batch_normalization_2/cond_3/Identity' id:205 op device:{requested: '', assigned: ''} def:{{{node batch_normalization_2/cond_3/Identity}} = Identity[T=DT_FLOAT, _has_manual_control_dependencies=true](batch_normalization_2/cond_3)}}' was changed by setting attribute after it was run by a session. This mutation will have no effect, and will trigger an error in the future. Either don't modify nodes after running them or create a new session.\n",
      "2025-09-17 13:24:14.833068: W tensorflow/c/c_api.cc:305] Operation '{name:'training/RMSprop/dispersion/kernel/rms/Assign' id:933 op device:{requested: '', assigned: ''} def:{{{node training/RMSprop/dispersion/kernel/rms/Assign}} = AssignVariableOp[_has_manual_control_dependencies=true, dtype=DT_FLOAT, validate_shape=false](training/RMSprop/dispersion/kernel/rms, training/RMSprop/dispersion/kernel/rms/Initializer/zeros)}}' was changed by setting attribute after it was run by a session. This mutation will have no effect, and will trigger an error in the future. Either don't modify nodes after running them or create a new session.\n",
      "/home/ma/ma_ma/ma_minjlee/.conda/envs/dca_gpu/lib/python3.10/site-packages/keras/src/engine/training_v1.py:2335: UserWarning: `Model.state_updates` will be removed in a future version. This property should not be used in TensorFlow 2.0, as `updates` are applied automatically.\n",
      "  updates = self.state_updates\n",
      "2025-09-17 13:24:15.188499: W tensorflow/c/c_api.cc:305] Operation '{name:'loss/AddN_1' id:374 op device:{requested: '', assigned: ''} def:{{{node loss/AddN_1}} = AddN[N=2, T=DT_FLOAT, _has_manual_control_dependencies=true](loss/mul, loss/AddN)}}' was changed by setting attribute after it was run by a session. This mutation will have no effect, and will trigger an error in the future. Either don't modify nodes after running them or create a new session.\n"
     ]
    },
    {
     "name": "stdout",
     "output_type": "stream",
     "text": [
      "dca: Calculating reconstructions...\n",
      "2025-09-17 13:24:29 | [time] [DCA] train(dca.api.dca) end in 15.21s\n",
      "2025-09-17 13:24:29 | [time] [DCA] fold 3 predict mu_va end in 15.22s\n",
      "2025-09-17 13:24:29 | [time] [DCA] fold 3/3 end in 101.11s\n",
      "2025-09-17 13:24:29 | [cv_dca_5fold] done\n"
     ]
    },
    {
     "name": "stderr",
     "output_type": "stream",
     "text": [
      "/home/ma/ma_ma/ma_minjlee/.conda/envs/dca_gpu/lib/python3.10/site-packages/keras/src/engine/training_v1.py:2359: UserWarning: `Model.state_updates` will be removed in a future version. This property should not be used in TensorFlow 2.0, as `updates` are applied automatically.\n",
      "  updates=self.state_updates,\n",
      "2025-09-17 13:24:29.186082: W tensorflow/c/c_api.cc:305] Operation '{name:'slice/slice/Identity' id:303 op device:{requested: '', assigned: ''} def:{{{node slice/slice/Identity}} = Identity[T=DT_FLOAT, _has_manual_control_dependencies=true](lambda_1/mul)}}' was changed by setting attribute after it was run by a session. This mutation will have no effect, and will trigger an error in the future. Either don't modify nodes after running them or create a new session.\n",
      "[I 2025-09-17 13:24:29,344] Trial 2 finished with value: -4.704180320918073 and parameters: {'h1': 128, 'h2': 32, 'h3': 128, 'epochs': 150, 'batch_size': 128, 'n_hvg': 1000}. Best is trial 0 with value: -4.69638200240746.\n"
     ]
    },
    {
     "name": "stdout",
     "output_type": "stream",
     "text": [
      "2025-09-17 13:24:29 | [cv_dca_5fold] start k=3 n_hvg=2000 mode=seurat_v3 R=1 mask_frac=0.1 thinning_p=0.1\n",
      "2025-09-17 13:24:29 | X_counts: dense  (447, 51777) dtype=int64\n",
      "2025-09-17 13:24:50 | X_counts: zeros=66.23%, approx_int=True\n",
      "2025-09-17 13:24:50 | [time] [DCA] fold 1/3 start\n",
      "2025-09-17 13:24:50 | X_tr: dense  (298, 51777) dtype=int64\n",
      "2025-09-17 13:24:50 | X_va: dense  (149, 51777) dtype=int64\n"
     ]
    },
    {
     "name": "stderr",
     "output_type": "stream",
     "text": [
      "/home/ma/ma_ma/ma_minjlee/.conda/envs/dca_gpu/lib/python3.10/site-packages/scanpy/preprocessing/_highly_variable_genes.py:64: UserWarning: `flavor='seurat_v3'` expects raw count data, but non-integers were found.\n",
      "  warnings.warn(\n"
     ]
    },
    {
     "name": "stdout",
     "output_type": "stream",
     "text": [
      "2025-09-17 13:24:53 | [DCA] fold 1 | HVG=2000\n",
      "2025-09-17 13:24:53 | [DCA] fit hidden=[128, 32, 32] epochs=100 bs=64\n",
      "2025-09-17 13:24:53 | X_train: dense  (298, 2000) dtype=int64\n",
      "2025-09-17 13:24:53 | [time] [DCA] fold 1 predict mu_va start\n",
      "2025-09-17 13:24:53 | [DCA] predict_mean\n",
      "2025-09-17 13:24:53 | [time] [DCA] train(dca.api.dca) start\n",
      "dca: Successfully preprocessed 2000 genes and 447 cells.\n"
     ]
    },
    {
     "name": "stderr",
     "output_type": "stream",
     "text": [
      "2025-09-17 13:24:54.039949: W tensorflow/c/c_api.cc:305] Operation '{name:'mean/kernel/Assign' id:261 op device:{requested: '', assigned: ''} def:{{{node mean/kernel/Assign}} = AssignVariableOp[_has_manual_control_dependencies=true, dtype=DT_FLOAT, validate_shape=false](mean/kernel, mean/kernel/Initializer/stateless_random_uniform)}}' was changed by setting attribute after it was run by a session. This mutation will have no effect, and will trigger an error in the future. Either don't modify nodes after running them or create a new session.\n",
      "2025-09-17 13:24:54.467091: W tensorflow/c/c_api.cc:305] Operation '{name:'batch_normalization_2/cond_3/Identity' id:205 op device:{requested: '', assigned: ''} def:{{{node batch_normalization_2/cond_3/Identity}} = Identity[T=DT_FLOAT, _has_manual_control_dependencies=true](batch_normalization_2/cond_3)}}' was changed by setting attribute after it was run by a session. This mutation will have no effect, and will trigger an error in the future. Either don't modify nodes after running them or create a new session.\n",
      "2025-09-17 13:24:54.516993: W tensorflow/c/c_api.cc:305] Operation '{name:'training/RMSprop/enc0/bias/rms/Assign' id:873 op device:{requested: '', assigned: ''} def:{{{node training/RMSprop/enc0/bias/rms/Assign}} = AssignVariableOp[_has_manual_control_dependencies=true, dtype=DT_FLOAT, validate_shape=false](training/RMSprop/enc0/bias/rms, training/RMSprop/enc0/bias/rms/Initializer/zeros)}}' was changed by setting attribute after it was run by a session. This mutation will have no effect, and will trigger an error in the future. Either don't modify nodes after running them or create a new session.\n",
      "/home/ma/ma_ma/ma_minjlee/.conda/envs/dca_gpu/lib/python3.10/site-packages/keras/src/engine/training_v1.py:2335: UserWarning: `Model.state_updates` will be removed in a future version. This property should not be used in TensorFlow 2.0, as `updates` are applied automatically.\n",
      "  updates = self.state_updates\n",
      "2025-09-17 13:24:54.968818: W tensorflow/c/c_api.cc:305] Operation '{name:'loss/AddN_1' id:374 op device:{requested: '', assigned: ''} def:{{{node loss/AddN_1}} = AddN[N=2, T=DT_FLOAT, _has_manual_control_dependencies=true](loss/mul, loss/AddN)}}' was changed by setting attribute after it was run by a session. This mutation will have no effect, and will trigger an error in the future. Either don't modify nodes after running them or create a new session.\n"
     ]
    },
    {
     "name": "stdout",
     "output_type": "stream",
     "text": [
      "dca: Calculating reconstructions...\n",
      "2025-09-17 13:25:06 | [time] [DCA] train(dca.api.dca) end in 13.00s\n",
      "2025-09-17 13:25:06 | [time] [DCA] fold 1 predict mu_va end in 13.00s\n"
     ]
    },
    {
     "name": "stderr",
     "output_type": "stream",
     "text": [
      "/home/ma/ma_ma/ma_minjlee/.conda/envs/dca_gpu/lib/python3.10/site-packages/keras/src/engine/training_v1.py:2359: UserWarning: `Model.state_updates` will be removed in a future version. This property should not be used in TensorFlow 2.0, as `updates` are applied automatically.\n",
      "  updates=self.state_updates,\n",
      "2025-09-17 13:25:06.627390: W tensorflow/c/c_api.cc:305] Operation '{name:'slice/slice/Identity' id:303 op device:{requested: '', assigned: ''} def:{{{node slice/slice/Identity}} = Identity[T=DT_FLOAT, _has_manual_control_dependencies=true](lambda_1/mul)}}' was changed by setting attribute after it was run by a session. This mutation will have no effect, and will trigger an error in the future. Either don't modify nodes after running them or create a new session.\n"
     ]
    },
    {
     "name": "stdout",
     "output_type": "stream",
     "text": [
      "2025-09-17 13:25:06 | [time] [DCA] fold 1/3 end in 16.71s\n",
      "2025-09-17 13:25:06 | [time] [DCA] fold 2/3 start\n",
      "2025-09-17 13:25:06 | X_tr: dense  (298, 51777) dtype=int64\n",
      "2025-09-17 13:25:06 | X_va: dense  (149, 51777) dtype=int64\n"
     ]
    },
    {
     "name": "stderr",
     "output_type": "stream",
     "text": [
      "/home/ma/ma_ma/ma_minjlee/.conda/envs/dca_gpu/lib/python3.10/site-packages/scanpy/preprocessing/_highly_variable_genes.py:64: UserWarning: `flavor='seurat_v3'` expects raw count data, but non-integers were found.\n",
      "  warnings.warn(\n"
     ]
    },
    {
     "name": "stdout",
     "output_type": "stream",
     "text": [
      "2025-09-17 13:25:19 | [DCA] fold 2 | HVG=2000\n",
      "2025-09-17 13:25:19 | [DCA] fit hidden=[128, 32, 32] epochs=100 bs=64\n",
      "2025-09-17 13:25:19 | X_train: dense  (298, 2000) dtype=int64\n",
      "2025-09-17 13:25:19 | [time] [DCA] fold 2 predict mu_va start\n",
      "2025-09-17 13:25:19 | [DCA] predict_mean\n",
      "2025-09-17 13:25:19 | [time] [DCA] train(dca.api.dca) start\n",
      "dca: Successfully preprocessed 2000 genes and 447 cells.\n"
     ]
    },
    {
     "name": "stderr",
     "output_type": "stream",
     "text": [
      "2025-09-17 13:25:19.880549: W tensorflow/c/c_api.cc:305] Operation '{name:'dispersion/bias/Assign' id:238 op device:{requested: '', assigned: ''} def:{{{node dispersion/bias/Assign}} = AssignVariableOp[_has_manual_control_dependencies=true, dtype=DT_FLOAT, validate_shape=false](dispersion/bias, dispersion/bias/Initializer/zeros)}}' was changed by setting attribute after it was run by a session. This mutation will have no effect, and will trigger an error in the future. Either don't modify nodes after running them or create a new session.\n",
      "2025-09-17 13:25:20.326795: W tensorflow/c/c_api.cc:305] Operation '{name:'batch_normalization_2/cond_3/Identity' id:205 op device:{requested: '', assigned: ''} def:{{{node batch_normalization_2/cond_3/Identity}} = Identity[T=DT_FLOAT, _has_manual_control_dependencies=true](batch_normalization_2/cond_3)}}' was changed by setting attribute after it was run by a session. This mutation will have no effect, and will trigger an error in the future. Either don't modify nodes after running them or create a new session.\n",
      "2025-09-17 13:25:20.376339: W tensorflow/c/c_api.cc:305] Operation '{name:'training/RMSprop/center/bias/rms/Assign' id:890 op device:{requested: '', assigned: ''} def:{{{node training/RMSprop/center/bias/rms/Assign}} = AssignVariableOp[_has_manual_control_dependencies=true, dtype=DT_FLOAT, validate_shape=false](training/RMSprop/center/bias/rms, training/RMSprop/center/bias/rms/Initializer/zeros)}}' was changed by setting attribute after it was run by a session. This mutation will have no effect, and will trigger an error in the future. Either don't modify nodes after running them or create a new session.\n",
      "/home/ma/ma_ma/ma_minjlee/.conda/envs/dca_gpu/lib/python3.10/site-packages/keras/src/engine/training_v1.py:2335: UserWarning: `Model.state_updates` will be removed in a future version. This property should not be used in TensorFlow 2.0, as `updates` are applied automatically.\n",
      "  updates = self.state_updates\n",
      "2025-09-17 13:25:20.779089: W tensorflow/c/c_api.cc:305] Operation '{name:'loss/AddN_1' id:374 op device:{requested: '', assigned: ''} def:{{{node loss/AddN_1}} = AddN[N=2, T=DT_FLOAT, _has_manual_control_dependencies=true](loss/mul, loss/AddN)}}' was changed by setting attribute after it was run by a session. This mutation will have no effect, and will trigger an error in the future. Either don't modify nodes after running them or create a new session.\n"
     ]
    },
    {
     "name": "stdout",
     "output_type": "stream",
     "text": [
      "dca: Calculating reconstructions...\n",
      "2025-09-17 13:25:32 | [time] [DCA] train(dca.api.dca) end in 12.95s\n",
      "2025-09-17 13:25:32 | [time] [DCA] fold 2 predict mu_va end in 12.96s\n",
      "2025-09-17 13:25:32 | [time] [DCA] fold 2/3 end in 25.84s\n",
      "2025-09-17 13:25:32 | [time] [DCA] fold 3/3 start\n"
     ]
    },
    {
     "name": "stderr",
     "output_type": "stream",
     "text": [
      "/home/ma/ma_ma/ma_minjlee/.conda/envs/dca_gpu/lib/python3.10/site-packages/keras/src/engine/training_v1.py:2359: UserWarning: `Model.state_updates` will be removed in a future version. This property should not be used in TensorFlow 2.0, as `updates` are applied automatically.\n",
      "  updates=self.state_updates,\n",
      "2025-09-17 13:25:32.486836: W tensorflow/c/c_api.cc:305] Operation '{name:'slice/slice/Identity' id:303 op device:{requested: '', assigned: ''} def:{{{node slice/slice/Identity}} = Identity[T=DT_FLOAT, _has_manual_control_dependencies=true](lambda_1/mul)}}' was changed by setting attribute after it was run by a session. This mutation will have no effect, and will trigger an error in the future. Either don't modify nodes after running them or create a new session.\n"
     ]
    },
    {
     "name": "stdout",
     "output_type": "stream",
     "text": [
      "2025-09-17 13:25:40 | X_tr: dense  (298, 51777) dtype=int64\n",
      "2025-09-17 13:25:40 | X_va: dense  (149, 51777) dtype=int64\n"
     ]
    },
    {
     "name": "stderr",
     "output_type": "stream",
     "text": [
      "/home/ma/ma_ma/ma_minjlee/.conda/envs/dca_gpu/lib/python3.10/site-packages/scanpy/preprocessing/_highly_variable_genes.py:64: UserWarning: `flavor='seurat_v3'` expects raw count data, but non-integers were found.\n",
      "  warnings.warn(\n"
     ]
    },
    {
     "name": "stdout",
     "output_type": "stream",
     "text": [
      "2025-09-17 13:27:11 | [DCA] fold 3 | HVG=2000\n",
      "2025-09-17 13:27:11 | [DCA] fit hidden=[128, 32, 32] epochs=100 bs=64\n",
      "2025-09-17 13:27:11 | X_train: dense  (298, 2000) dtype=int64\n",
      "2025-09-17 13:27:11 | [time] [DCA] fold 3 predict mu_va start\n",
      "2025-09-17 13:27:11 | [DCA] predict_mean\n",
      "2025-09-17 13:27:11 | [time] [DCA] train(dca.api.dca) start\n",
      "dca: Successfully preprocessed 2000 genes and 447 cells.\n"
     ]
    },
    {
     "name": "stderr",
     "output_type": "stream",
     "text": [
      "2025-09-17 13:27:12.298801: W tensorflow/c/c_api.cc:305] Operation '{name:'batch_normalization_2/beta/Assign' id:174 op device:{requested: '', assigned: ''} def:{{{node batch_normalization_2/beta/Assign}} = AssignVariableOp[_has_manual_control_dependencies=true, dtype=DT_FLOAT, validate_shape=false](batch_normalization_2/beta, batch_normalization_2/beta/Initializer/zeros)}}' was changed by setting attribute after it was run by a session. This mutation will have no effect, and will trigger an error in the future. Either don't modify nodes after running them or create a new session.\n",
      "2025-09-17 13:27:12.931651: W tensorflow/c/c_api.cc:305] Operation '{name:'batch_normalization_2/cond_3/Identity' id:205 op device:{requested: '', assigned: ''} def:{{{node batch_normalization_2/cond_3/Identity}} = Identity[T=DT_FLOAT, _has_manual_control_dependencies=true](batch_normalization_2/cond_3)}}' was changed by setting attribute after it was run by a session. This mutation will have no effect, and will trigger an error in the future. Either don't modify nodes after running them or create a new session.\n",
      "2025-09-17 13:27:12.992421: W tensorflow/c/c_api.cc:305] Operation '{name:'training/RMSprop/batch_normalization_1/beta/rms/Assign' id:895 op device:{requested: '', assigned: ''} def:{{{node training/RMSprop/batch_normalization_1/beta/rms/Assign}} = AssignVariableOp[_has_manual_control_dependencies=true, dtype=DT_FLOAT, validate_shape=false](training/RMSprop/batch_normalization_1/beta/rms, training/RMSprop/batch_normalization_1/beta/rms/Initializer/zeros)}}' was changed by setting attribute after it was run by a session. This mutation will have no effect, and will trigger an error in the future. Either don't modify nodes after running them or create a new session.\n",
      "/home/ma/ma_ma/ma_minjlee/.conda/envs/dca_gpu/lib/python3.10/site-packages/keras/src/engine/training_v1.py:2335: UserWarning: `Model.state_updates` will be removed in a future version. This property should not be used in TensorFlow 2.0, as `updates` are applied automatically.\n",
      "  updates = self.state_updates\n",
      "2025-09-17 13:27:13.462016: W tensorflow/c/c_api.cc:305] Operation '{name:'loss/AddN_1' id:374 op device:{requested: '', assigned: ''} def:{{{node loss/AddN_1}} = AddN[N=2, T=DT_FLOAT, _has_manual_control_dependencies=true](loss/mul, loss/AddN)}}' was changed by setting attribute after it was run by a session. This mutation will have no effect, and will trigger an error in the future. Either don't modify nodes after running them or create a new session.\n"
     ]
    },
    {
     "name": "stdout",
     "output_type": "stream",
     "text": [
      "dca: Calculating reconstructions...\n",
      "2025-09-17 13:27:25 | [time] [DCA] train(dca.api.dca) end in 13.26s\n",
      "2025-09-17 13:27:25 | [time] [DCA] fold 3 predict mu_va end in 13.28s\n"
     ]
    },
    {
     "name": "stderr",
     "output_type": "stream",
     "text": [
      "/home/ma/ma_ma/ma_minjlee/.conda/envs/dca_gpu/lib/python3.10/site-packages/keras/src/engine/training_v1.py:2359: UserWarning: `Model.state_updates` will be removed in a future version. This property should not be used in TensorFlow 2.0, as `updates` are applied automatically.\n",
      "  updates=self.state_updates,\n",
      "2025-09-17 13:27:25.075018: W tensorflow/c/c_api.cc:305] Operation '{name:'slice/slice/Identity' id:303 op device:{requested: '', assigned: ''} def:{{{node slice/slice/Identity}} = Identity[T=DT_FLOAT, _has_manual_control_dependencies=true](lambda_1/mul)}}' was changed by setting attribute after it was run by a session. This mutation will have no effect, and will trigger an error in the future. Either don't modify nodes after running them or create a new session.\n"
     ]
    },
    {
     "name": "stdout",
     "output_type": "stream",
     "text": [
      "2025-09-17 13:27:25 | [time] [DCA] fold 3/3 end in 112.62s\n",
      "2025-09-17 13:27:25 | [cv_dca_5fold] done\n"
     ]
    },
    {
     "name": "stderr",
     "output_type": "stream",
     "text": [
      "[I 2025-09-17 13:27:25,330] Trial 3 finished with value: -4.447657327072082 and parameters: {'h1': 128, 'h2': 32, 'h3': 32, 'epochs': 100, 'batch_size': 64, 'n_hvg': 2000}. Best is trial 3 with value: -4.447657327072082.\n"
     ]
    },
    {
     "name": "stdout",
     "output_type": "stream",
     "text": [
      "2025-09-17 13:27:26 | [cv_dca_5fold] start k=3 n_hvg=2000 mode=seurat_v3 R=1 mask_frac=0.1 thinning_p=0.1\n",
      "2025-09-17 13:27:26 | X_counts: dense  (447, 51777) dtype=int64\n",
      "2025-09-17 13:27:31 | X_counts: zeros=66.23%, approx_int=True\n",
      "2025-09-17 13:27:31 | [time] [DCA] fold 1/3 start\n",
      "2025-09-17 13:27:32 | X_tr: dense  (298, 51777) dtype=int64\n",
      "2025-09-17 13:27:32 | X_va: dense  (149, 51777) dtype=int64\n"
     ]
    },
    {
     "name": "stderr",
     "output_type": "stream",
     "text": [
      "/home/ma/ma_ma/ma_minjlee/.conda/envs/dca_gpu/lib/python3.10/site-packages/scanpy/preprocessing/_highly_variable_genes.py:64: UserWarning: `flavor='seurat_v3'` expects raw count data, but non-integers were found.\n",
      "  warnings.warn(\n"
     ]
    },
    {
     "name": "stdout",
     "output_type": "stream",
     "text": [
      "2025-09-17 13:27:38 | [DCA] fold 1 | HVG=2000\n",
      "2025-09-17 13:27:38 | [DCA] fit hidden=[64, 16, 64] epochs=50 bs=64\n",
      "2025-09-17 13:27:38 | X_train: dense  (298, 2000) dtype=int64\n",
      "2025-09-17 13:27:38 | [time] [DCA] fold 1 predict mu_va start\n",
      "2025-09-17 13:27:38 | [DCA] predict_mean\n",
      "2025-09-17 13:27:38 | [time] [DCA] train(dca.api.dca) start\n",
      "dca: Successfully preprocessed 2000 genes and 447 cells.\n"
     ]
    },
    {
     "name": "stderr",
     "output_type": "stream",
     "text": [
      "2025-09-17 13:27:39.252634: W tensorflow/c/c_api.cc:305] Operation '{name:'mean/bias/Assign' id:268 op device:{requested: '', assigned: ''} def:{{{node mean/bias/Assign}} = AssignVariableOp[_has_manual_control_dependencies=true, dtype=DT_FLOAT, validate_shape=false](mean/bias, mean/bias/Initializer/zeros)}}' was changed by setting attribute after it was run by a session. This mutation will have no effect, and will trigger an error in the future. Either don't modify nodes after running them or create a new session.\n",
      "2025-09-17 13:27:39.712307: W tensorflow/c/c_api.cc:305] Operation '{name:'batch_normalization_2/cond_3/Identity' id:205 op device:{requested: '', assigned: ''} def:{{{node batch_normalization_2/cond_3/Identity}} = Identity[T=DT_FLOAT, _has_manual_control_dependencies=true](batch_normalization_2/cond_3)}}' was changed by setting attribute after it was run by a session. This mutation will have no effect, and will trigger an error in the future. Either don't modify nodes after running them or create a new session.\n",
      "2025-09-17 13:27:39.765528: W tensorflow/c/c_api.cc:305] Operation '{name:'training/RMSprop/dec1/bias/rms/Assign' id:907 op device:{requested: '', assigned: ''} def:{{{node training/RMSprop/dec1/bias/rms/Assign}} = AssignVariableOp[_has_manual_control_dependencies=true, dtype=DT_FLOAT, validate_shape=false](training/RMSprop/dec1/bias/rms, training/RMSprop/dec1/bias/rms/Initializer/zeros)}}' was changed by setting attribute after it was run by a session. This mutation will have no effect, and will trigger an error in the future. Either don't modify nodes after running them or create a new session.\n",
      "/home/ma/ma_ma/ma_minjlee/.conda/envs/dca_gpu/lib/python3.10/site-packages/keras/src/engine/training_v1.py:2335: UserWarning: `Model.state_updates` will be removed in a future version. This property should not be used in TensorFlow 2.0, as `updates` are applied automatically.\n",
      "  updates = self.state_updates\n",
      "2025-09-17 13:27:40.189247: W tensorflow/c/c_api.cc:305] Operation '{name:'loss/AddN_1' id:374 op device:{requested: '', assigned: ''} def:{{{node loss/AddN_1}} = AddN[N=2, T=DT_FLOAT, _has_manual_control_dependencies=true](loss/mul, loss/AddN)}}' was changed by setting attribute after it was run by a session. This mutation will have no effect, and will trigger an error in the future. Either don't modify nodes after running them or create a new session.\n"
     ]
    },
    {
     "name": "stdout",
     "output_type": "stream",
     "text": [
      "dca: Calculating reconstructions...\n",
      "2025-09-17 13:27:45 | [time] [DCA] train(dca.api.dca) end in 6.26s\n",
      "2025-09-17 13:27:45 | [time] [DCA] fold 1 predict mu_va end in 6.28s\n",
      "2025-09-17 13:27:45 | [time] [DCA] fold 1/3 end in 13.29s\n",
      "2025-09-17 13:27:45 | [time] [DCA] fold 2/3 start\n"
     ]
    },
    {
     "name": "stderr",
     "output_type": "stream",
     "text": [
      "/home/ma/ma_ma/ma_minjlee/.conda/envs/dca_gpu/lib/python3.10/site-packages/keras/src/engine/training_v1.py:2359: UserWarning: `Model.state_updates` will be removed in a future version. This property should not be used in TensorFlow 2.0, as `updates` are applied automatically.\n",
      "  updates=self.state_updates,\n",
      "2025-09-17 13:27:45.051279: W tensorflow/c/c_api.cc:305] Operation '{name:'slice/slice/Identity' id:303 op device:{requested: '', assigned: ''} def:{{{node slice/slice/Identity}} = Identity[T=DT_FLOAT, _has_manual_control_dependencies=true](lambda_1/mul)}}' was changed by setting attribute after it was run by a session. This mutation will have no effect, and will trigger an error in the future. Either don't modify nodes after running them or create a new session.\n"
     ]
    },
    {
     "name": "stdout",
     "output_type": "stream",
     "text": [
      "2025-09-17 13:27:45 | X_tr: dense  (298, 51777) dtype=int64\n",
      "2025-09-17 13:27:45 | X_va: dense  (149, 51777) dtype=int64\n"
     ]
    },
    {
     "name": "stderr",
     "output_type": "stream",
     "text": [
      "/home/ma/ma_ma/ma_minjlee/.conda/envs/dca_gpu/lib/python3.10/site-packages/scanpy/preprocessing/_highly_variable_genes.py:64: UserWarning: `flavor='seurat_v3'` expects raw count data, but non-integers were found.\n",
      "  warnings.warn(\n"
     ]
    },
    {
     "name": "stdout",
     "output_type": "stream",
     "text": [
      "2025-09-17 13:27:46 | [DCA] fold 2 | HVG=2000\n",
      "2025-09-17 13:27:46 | [DCA] fit hidden=[64, 16, 64] epochs=50 bs=64\n",
      "2025-09-17 13:27:46 | X_train: dense  (298, 2000) dtype=int64\n",
      "2025-09-17 13:27:46 | [time] [DCA] fold 2 predict mu_va start\n",
      "2025-09-17 13:27:46 | [DCA] predict_mean\n",
      "2025-09-17 13:27:46 | [time] [DCA] train(dca.api.dca) start\n",
      "dca: Successfully preprocessed 2000 genes and 447 cells.\n"
     ]
    },
    {
     "name": "stderr",
     "output_type": "stream",
     "text": [
      "2025-09-17 13:27:46.368338: W tensorflow/c/c_api.cc:305] Operation '{name:'batch_normalization_2/moving_mean/Assign' id:179 op device:{requested: '', assigned: ''} def:{{{node batch_normalization_2/moving_mean/Assign}} = AssignVariableOp[_has_manual_control_dependencies=true, dtype=DT_FLOAT, validate_shape=false](batch_normalization_2/moving_mean, batch_normalization_2/moving_mean/Initializer/zeros)}}' was changed by setting attribute after it was run by a session. This mutation will have no effect, and will trigger an error in the future. Either don't modify nodes after running them or create a new session.\n",
      "2025-09-17 13:27:46.827556: W tensorflow/c/c_api.cc:305] Operation '{name:'batch_normalization_2/cond_3/Identity' id:205 op device:{requested: '', assigned: ''} def:{{{node batch_normalization_2/cond_3/Identity}} = Identity[T=DT_FLOAT, _has_manual_control_dependencies=true](batch_normalization_2/cond_3)}}' was changed by setting attribute after it was run by a session. This mutation will have no effect, and will trigger an error in the future. Either don't modify nodes after running them or create a new session.\n",
      "2025-09-17 13:27:46.884939: W tensorflow/c/c_api.cc:305] Operation '{name:'training/RMSprop/batch_normalization_1/beta/rms/Assign' id:895 op device:{requested: '', assigned: ''} def:{{{node training/RMSprop/batch_normalization_1/beta/rms/Assign}} = AssignVariableOp[_has_manual_control_dependencies=true, dtype=DT_FLOAT, validate_shape=false](training/RMSprop/batch_normalization_1/beta/rms, training/RMSprop/batch_normalization_1/beta/rms/Initializer/zeros)}}' was changed by setting attribute after it was run by a session. This mutation will have no effect, and will trigger an error in the future. Either don't modify nodes after running them or create a new session.\n",
      "/home/ma/ma_ma/ma_minjlee/.conda/envs/dca_gpu/lib/python3.10/site-packages/keras/src/engine/training_v1.py:2335: UserWarning: `Model.state_updates` will be removed in a future version. This property should not be used in TensorFlow 2.0, as `updates` are applied automatically.\n",
      "  updates = self.state_updates\n",
      "2025-09-17 13:27:47.358978: W tensorflow/c/c_api.cc:305] Operation '{name:'loss/AddN_1' id:374 op device:{requested: '', assigned: ''} def:{{{node loss/AddN_1}} = AddN[N=2, T=DT_FLOAT, _has_manual_control_dependencies=true](loss/mul, loss/AddN)}}' was changed by setting attribute after it was run by a session. This mutation will have no effect, and will trigger an error in the future. Either don't modify nodes after running them or create a new session.\n"
     ]
    },
    {
     "name": "stdout",
     "output_type": "stream",
     "text": [
      "dca: Calculating reconstructions...\n",
      "2025-09-17 13:27:52 | [time] [DCA] train(dca.api.dca) end in 6.35s\n",
      "2025-09-17 13:27:52 | [time] [DCA] fold 2 predict mu_va end in 6.36s\n",
      "2025-09-17 13:27:52 | [time] [DCA] fold 2/3 end in 7.27s\n",
      "2025-09-17 13:27:52 | [time] [DCA] fold 3/3 start\n"
     ]
    },
    {
     "name": "stderr",
     "output_type": "stream",
     "text": [
      "/home/ma/ma_ma/ma_minjlee/.conda/envs/dca_gpu/lib/python3.10/site-packages/keras/src/engine/training_v1.py:2359: UserWarning: `Model.state_updates` will be removed in a future version. This property should not be used in TensorFlow 2.0, as `updates` are applied automatically.\n",
      "  updates=self.state_updates,\n",
      "2025-09-17 13:27:52.320123: W tensorflow/c/c_api.cc:305] Operation '{name:'slice/slice/Identity' id:303 op device:{requested: '', assigned: ''} def:{{{node slice/slice/Identity}} = Identity[T=DT_FLOAT, _has_manual_control_dependencies=true](lambda_1/mul)}}' was changed by setting attribute after it was run by a session. This mutation will have no effect, and will trigger an error in the future. Either don't modify nodes after running them or create a new session.\n"
     ]
    },
    {
     "name": "stdout",
     "output_type": "stream",
     "text": [
      "2025-09-17 13:27:53 | X_tr: dense  (298, 51777) dtype=int64\n",
      "2025-09-17 13:27:53 | X_va: dense  (149, 51777) dtype=int64\n"
     ]
    },
    {
     "name": "stderr",
     "output_type": "stream",
     "text": [
      "/home/ma/ma_ma/ma_minjlee/.conda/envs/dca_gpu/lib/python3.10/site-packages/scanpy/preprocessing/_highly_variable_genes.py:64: UserWarning: `flavor='seurat_v3'` expects raw count data, but non-integers were found.\n",
      "  warnings.warn(\n"
     ]
    },
    {
     "name": "stdout",
     "output_type": "stream",
     "text": [
      "2025-09-17 13:27:57 | [DCA] fold 3 | HVG=2000\n",
      "2025-09-17 13:27:57 | [DCA] fit hidden=[64, 16, 64] epochs=50 bs=64\n",
      "2025-09-17 13:27:57 | X_train: dense  (298, 2000) dtype=int64\n",
      "2025-09-17 13:27:57 | [time] [DCA] fold 3 predict mu_va start\n",
      "2025-09-17 13:27:57 | [DCA] predict_mean\n",
      "2025-09-17 13:27:57 | [time] [DCA] train(dca.api.dca) start\n",
      "dca: Successfully preprocessed 2000 genes and 447 cells.\n"
     ]
    },
    {
     "name": "stderr",
     "output_type": "stream",
     "text": [
      "2025-09-17 13:27:58.077422: W tensorflow/c/c_api.cc:305] Operation '{name:'center/bias/Assign' id:94 op device:{requested: '', assigned: ''} def:{{{node center/bias/Assign}} = AssignVariableOp[_has_manual_control_dependencies=true, dtype=DT_FLOAT, validate_shape=false](center/bias, center/bias/Initializer/zeros)}}' was changed by setting attribute after it was run by a session. This mutation will have no effect, and will trigger an error in the future. Either don't modify nodes after running them or create a new session.\n",
      "2025-09-17 13:27:58.555333: W tensorflow/c/c_api.cc:305] Operation '{name:'batch_normalization_2/cond_3/Identity' id:205 op device:{requested: '', assigned: ''} def:{{{node batch_normalization_2/cond_3/Identity}} = Identity[T=DT_FLOAT, _has_manual_control_dependencies=true](batch_normalization_2/cond_3)}}' was changed by setting attribute after it was run by a session. This mutation will have no effect, and will trigger an error in the future. Either don't modify nodes after running them or create a new session.\n",
      "2025-09-17 13:27:58.608329: W tensorflow/c/c_api.cc:305] Operation '{name:'training/RMSprop/batch_normalization_1/beta/rms/Assign' id:895 op device:{requested: '', assigned: ''} def:{{{node training/RMSprop/batch_normalization_1/beta/rms/Assign}} = AssignVariableOp[_has_manual_control_dependencies=true, dtype=DT_FLOAT, validate_shape=false](training/RMSprop/batch_normalization_1/beta/rms, training/RMSprop/batch_normalization_1/beta/rms/Initializer/zeros)}}' was changed by setting attribute after it was run by a session. This mutation will have no effect, and will trigger an error in the future. Either don't modify nodes after running them or create a new session.\n",
      "/home/ma/ma_ma/ma_minjlee/.conda/envs/dca_gpu/lib/python3.10/site-packages/keras/src/engine/training_v1.py:2335: UserWarning: `Model.state_updates` will be removed in a future version. This property should not be used in TensorFlow 2.0, as `updates` are applied automatically.\n",
      "  updates = self.state_updates\n",
      "2025-09-17 13:27:59.018564: W tensorflow/c/c_api.cc:305] Operation '{name:'loss/AddN_1' id:374 op device:{requested: '', assigned: ''} def:{{{node loss/AddN_1}} = AddN[N=2, T=DT_FLOAT, _has_manual_control_dependencies=true](loss/mul, loss/AddN)}}' was changed by setting attribute after it was run by a session. This mutation will have no effect, and will trigger an error in the future. Either don't modify nodes after running them or create a new session.\n"
     ]
    },
    {
     "name": "stdout",
     "output_type": "stream",
     "text": [
      "dca: Calculating reconstructions...\n",
      "2025-09-17 13:28:04 | [time] [DCA] train(dca.api.dca) end in 6.22s\n",
      "2025-09-17 13:28:04 | [time] [DCA] fold 3 predict mu_va end in 6.25s\n",
      "2025-09-17 13:28:04 | [time] [DCA] fold 3/3 end in 11.58s\n",
      "2025-09-17 13:28:04 | [cv_dca_5fold] done\n"
     ]
    },
    {
     "name": "stderr",
     "output_type": "stream",
     "text": [
      "/home/ma/ma_ma/ma_minjlee/.conda/envs/dca_gpu/lib/python3.10/site-packages/keras/src/engine/training_v1.py:2359: UserWarning: `Model.state_updates` will be removed in a future version. This property should not be used in TensorFlow 2.0, as `updates` are applied automatically.\n",
      "  updates=self.state_updates,\n",
      "2025-09-17 13:28:03.907109: W tensorflow/c/c_api.cc:305] Operation '{name:'slice/slice/Identity' id:303 op device:{requested: '', assigned: ''} def:{{{node slice/slice/Identity}} = Identity[T=DT_FLOAT, _has_manual_control_dependencies=true](lambda_1/mul)}}' was changed by setting attribute after it was run by a session. This mutation will have no effect, and will trigger an error in the future. Either don't modify nodes after running them or create a new session.\n",
      "[I 2025-09-17 13:28:04,110] Trial 4 finished with value: -5.255188389595321 and parameters: {'h1': 64, 'h2': 16, 'h3': 64, 'epochs': 50, 'batch_size': 64, 'n_hvg': 2000}. Best is trial 3 with value: -4.447657327072082.\n"
     ]
    },
    {
     "name": "stdout",
     "output_type": "stream",
     "text": [
      "2025-09-17 13:28:04 | [cv_dca_5fold] start k=3 n_hvg=1500 mode=seurat_v3 R=1 mask_frac=0.1 thinning_p=0.1\n",
      "2025-09-17 13:28:04 | X_counts: dense  (447, 51777) dtype=int64\n",
      "2025-09-17 13:28:05 | X_counts: zeros=66.23%, approx_int=True\n",
      "2025-09-17 13:28:05 | [time] [DCA] fold 1/3 start\n",
      "2025-09-17 13:28:05 | X_tr: dense  (298, 51777) dtype=int64\n",
      "2025-09-17 13:28:05 | X_va: dense  (149, 51777) dtype=int64\n"
     ]
    },
    {
     "name": "stderr",
     "output_type": "stream",
     "text": [
      "/home/ma/ma_ma/ma_minjlee/.conda/envs/dca_gpu/lib/python3.10/site-packages/scanpy/preprocessing/_highly_variable_genes.py:64: UserWarning: `flavor='seurat_v3'` expects raw count data, but non-integers were found.\n",
      "  warnings.warn(\n"
     ]
    },
    {
     "name": "stdout",
     "output_type": "stream",
     "text": [
      "2025-09-17 13:28:05 | [DCA] fold 1 | HVG=1500\n",
      "2025-09-17 13:28:05 | [DCA] fit hidden=[64, 16, 64] epochs=150 bs=128\n",
      "2025-09-17 13:28:05 | X_train: dense  (298, 1500) dtype=int64\n",
      "2025-09-17 13:28:05 | [time] [DCA] fold 1 predict mu_va start\n",
      "2025-09-17 13:28:05 | [DCA] predict_mean\n",
      "2025-09-17 13:28:05 | [time] [DCA] train(dca.api.dca) start\n",
      "dca: Successfully preprocessed 1500 genes and 447 cells.\n"
     ]
    },
    {
     "name": "stderr",
     "output_type": "stream",
     "text": [
      "2025-09-17 13:28:06.022332: W tensorflow/c/c_api.cc:305] Operation '{name:'batch_normalization_2/moving_mean/Assign' id:179 op device:{requested: '', assigned: ''} def:{{{node batch_normalization_2/moving_mean/Assign}} = AssignVariableOp[_has_manual_control_dependencies=true, dtype=DT_FLOAT, validate_shape=false](batch_normalization_2/moving_mean, batch_normalization_2/moving_mean/Initializer/zeros)}}' was changed by setting attribute after it was run by a session. This mutation will have no effect, and will trigger an error in the future. Either don't modify nodes after running them or create a new session.\n",
      "2025-09-17 13:28:06.531872: W tensorflow/c/c_api.cc:305] Operation '{name:'batch_normalization_2/cond_3/Identity' id:205 op device:{requested: '', assigned: ''} def:{{{node batch_normalization_2/cond_3/Identity}} = Identity[T=DT_FLOAT, _has_manual_control_dependencies=true](batch_normalization_2/cond_3)}}' was changed by setting attribute after it was run by a session. This mutation will have no effect, and will trigger an error in the future. Either don't modify nodes after running them or create a new session.\n",
      "2025-09-17 13:28:06.584840: W tensorflow/c/c_api.cc:305] Operation '{name:'training/RMSprop/center/bias/rms/Assign' id:890 op device:{requested: '', assigned: ''} def:{{{node training/RMSprop/center/bias/rms/Assign}} = AssignVariableOp[_has_manual_control_dependencies=true, dtype=DT_FLOAT, validate_shape=false](training/RMSprop/center/bias/rms, training/RMSprop/center/bias/rms/Initializer/zeros)}}' was changed by setting attribute after it was run by a session. This mutation will have no effect, and will trigger an error in the future. Either don't modify nodes after running them or create a new session.\n",
      "/home/ma/ma_ma/ma_minjlee/.conda/envs/dca_gpu/lib/python3.10/site-packages/keras/src/engine/training_v1.py:2335: UserWarning: `Model.state_updates` will be removed in a future version. This property should not be used in TensorFlow 2.0, as `updates` are applied automatically.\n",
      "  updates = self.state_updates\n",
      "2025-09-17 13:28:06.973061: W tensorflow/c/c_api.cc:305] Operation '{name:'loss/AddN_1' id:374 op device:{requested: '', assigned: ''} def:{{{node loss/AddN_1}} = AddN[N=2, T=DT_FLOAT, _has_manual_control_dependencies=true](loss/mul, loss/AddN)}}' was changed by setting attribute after it was run by a session. This mutation will have no effect, and will trigger an error in the future. Either don't modify nodes after running them or create a new session.\n"
     ]
    },
    {
     "name": "stdout",
     "output_type": "stream",
     "text": [
      "dca: Calculating reconstructions...\n",
      "2025-09-17 13:28:29 | [time] [DCA] train(dca.api.dca) end in 24.02s\n",
      "2025-09-17 13:28:29 | [time] [DCA] fold 1 predict mu_va end in 24.03s\n",
      "2025-09-17 13:28:29 | [time] [DCA] fold 1/3 end in 24.82s\n",
      "2025-09-17 13:28:29 | [time] [DCA] fold 2/3 start\n"
     ]
    },
    {
     "name": "stderr",
     "output_type": "stream",
     "text": [
      "/home/ma/ma_ma/ma_minjlee/.conda/envs/dca_gpu/lib/python3.10/site-packages/keras/src/engine/training_v1.py:2359: UserWarning: `Model.state_updates` will be removed in a future version. This property should not be used in TensorFlow 2.0, as `updates` are applied automatically.\n",
      "  updates=self.state_updates,\n",
      "2025-09-17 13:28:29.677657: W tensorflow/c/c_api.cc:305] Operation '{name:'slice/slice/Identity' id:303 op device:{requested: '', assigned: ''} def:{{{node slice/slice/Identity}} = Identity[T=DT_FLOAT, _has_manual_control_dependencies=true](lambda_1/mul)}}' was changed by setting attribute after it was run by a session. This mutation will have no effect, and will trigger an error in the future. Either don't modify nodes after running them or create a new session.\n"
     ]
    },
    {
     "name": "stdout",
     "output_type": "stream",
     "text": [
      "2025-09-17 13:28:29 | X_tr: dense  (298, 51777) dtype=int64\n",
      "2025-09-17 13:28:29 | X_va: dense  (149, 51777) dtype=int64\n"
     ]
    },
    {
     "name": "stderr",
     "output_type": "stream",
     "text": [
      "/home/ma/ma_ma/ma_minjlee/.conda/envs/dca_gpu/lib/python3.10/site-packages/scanpy/preprocessing/_highly_variable_genes.py:64: UserWarning: `flavor='seurat_v3'` expects raw count data, but non-integers were found.\n",
      "  warnings.warn(\n"
     ]
    },
    {
     "name": "stdout",
     "output_type": "stream",
     "text": [
      "2025-09-17 13:28:30 | [DCA] fold 2 | HVG=1500\n",
      "2025-09-17 13:28:30 | [DCA] fit hidden=[64, 16, 64] epochs=150 bs=128\n",
      "2025-09-17 13:28:30 | X_train: dense  (298, 1500) dtype=int64\n",
      "2025-09-17 13:28:30 | [time] [DCA] fold 2 predict mu_va start\n",
      "2025-09-17 13:28:30 | [DCA] predict_mean\n",
      "2025-09-17 13:28:30 | [time] [DCA] train(dca.api.dca) start\n",
      "dca: Successfully preprocessed 1500 genes and 447 cells.\n"
     ]
    },
    {
     "name": "stderr",
     "output_type": "stream",
     "text": [
      "2025-09-17 13:28:31.036226: W tensorflow/c/c_api.cc:305] Operation '{name:'center/kernel/Assign' id:89 op device:{requested: '', assigned: ''} def:{{{node center/kernel/Assign}} = AssignVariableOp[_has_manual_control_dependencies=true, dtype=DT_FLOAT, validate_shape=false](center/kernel, center/kernel/Initializer/stateless_random_uniform)}}' was changed by setting attribute after it was run by a session. This mutation will have no effect, and will trigger an error in the future. Either don't modify nodes after running them or create a new session.\n",
      "2025-09-17 13:28:31.494980: W tensorflow/c/c_api.cc:305] Operation '{name:'batch_normalization_2/cond_3/Identity' id:205 op device:{requested: '', assigned: ''} def:{{{node batch_normalization_2/cond_3/Identity}} = Identity[T=DT_FLOAT, _has_manual_control_dependencies=true](batch_normalization_2/cond_3)}}' was changed by setting attribute after it was run by a session. This mutation will have no effect, and will trigger an error in the future. Either don't modify nodes after running them or create a new session.\n",
      "2025-09-17 13:28:31.545005: W tensorflow/c/c_api.cc:305] Operation '{name:'training/RMSprop/enc0/bias/rms/Assign' id:873 op device:{requested: '', assigned: ''} def:{{{node training/RMSprop/enc0/bias/rms/Assign}} = AssignVariableOp[_has_manual_control_dependencies=true, dtype=DT_FLOAT, validate_shape=false](training/RMSprop/enc0/bias/rms, training/RMSprop/enc0/bias/rms/Initializer/zeros)}}' was changed by setting attribute after it was run by a session. This mutation will have no effect, and will trigger an error in the future. Either don't modify nodes after running them or create a new session.\n",
      "/home/ma/ma_ma/ma_minjlee/.conda/envs/dca_gpu/lib/python3.10/site-packages/keras/src/engine/training_v1.py:2335: UserWarning: `Model.state_updates` will be removed in a future version. This property should not be used in TensorFlow 2.0, as `updates` are applied automatically.\n",
      "  updates = self.state_updates\n",
      "2025-09-17 13:28:31.888764: W tensorflow/c/c_api.cc:305] Operation '{name:'loss/AddN_1' id:374 op device:{requested: '', assigned: ''} def:{{{node loss/AddN_1}} = AddN[N=2, T=DT_FLOAT, _has_manual_control_dependencies=true](loss/mul, loss/AddN)}}' was changed by setting attribute after it was run by a session. This mutation will have no effect, and will trigger an error in the future. Either don't modify nodes after running them or create a new session.\n"
     ]
    },
    {
     "name": "stdout",
     "output_type": "stream",
     "text": [
      "dca: Calculating reconstructions...\n",
      "2025-09-17 13:28:53 | [time] [DCA] train(dca.api.dca) end in 22.78s\n",
      "2025-09-17 13:28:53 | [time] [DCA] fold 2 predict mu_va end in 22.79s\n",
      "2025-09-17 13:28:53 | [time] [DCA] fold 2/3 end in 23.79s\n",
      "2025-09-17 13:28:53 | [time] [DCA] fold 3/3 start\n"
     ]
    },
    {
     "name": "stderr",
     "output_type": "stream",
     "text": [
      "/home/ma/ma_ma/ma_minjlee/.conda/envs/dca_gpu/lib/python3.10/site-packages/keras/src/engine/training_v1.py:2359: UserWarning: `Model.state_updates` will be removed in a future version. This property should not be used in TensorFlow 2.0, as `updates` are applied automatically.\n",
      "  updates=self.state_updates,\n",
      "2025-09-17 13:28:53.473535: W tensorflow/c/c_api.cc:305] Operation '{name:'slice/slice/Identity' id:303 op device:{requested: '', assigned: ''} def:{{{node slice/slice/Identity}} = Identity[T=DT_FLOAT, _has_manual_control_dependencies=true](lambda_1/mul)}}' was changed by setting attribute after it was run by a session. This mutation will have no effect, and will trigger an error in the future. Either don't modify nodes after running them or create a new session.\n"
     ]
    },
    {
     "name": "stdout",
     "output_type": "stream",
     "text": [
      "2025-09-17 13:28:53 | X_tr: dense  (298, 51777) dtype=int64\n",
      "2025-09-17 13:28:53 | X_va: dense  (149, 51777) dtype=int64\n"
     ]
    },
    {
     "name": "stderr",
     "output_type": "stream",
     "text": [
      "/home/ma/ma_ma/ma_minjlee/.conda/envs/dca_gpu/lib/python3.10/site-packages/scanpy/preprocessing/_highly_variable_genes.py:64: UserWarning: `flavor='seurat_v3'` expects raw count data, but non-integers were found.\n",
      "  warnings.warn(\n"
     ]
    },
    {
     "name": "stdout",
     "output_type": "stream",
     "text": [
      "2025-09-17 13:28:54 | [DCA] fold 3 | HVG=1500\n",
      "2025-09-17 13:28:54 | [DCA] fit hidden=[64, 16, 64] epochs=150 bs=128\n",
      "2025-09-17 13:28:54 | X_train: dense  (298, 1500) dtype=int64\n",
      "2025-09-17 13:28:54 | [time] [DCA] fold 3 predict mu_va start\n",
      "2025-09-17 13:28:54 | [DCA] predict_mean\n",
      "2025-09-17 13:28:54 | [time] [DCA] train(dca.api.dca) start\n",
      "dca: Successfully preprocessed 1500 genes and 447 cells.\n"
     ]
    },
    {
     "name": "stderr",
     "output_type": "stream",
     "text": [
      "2025-09-17 13:28:54.871689: W tensorflow/c/c_api.cc:305] Operation '{name:'dec1/bias/Assign' id:165 op device:{requested: '', assigned: ''} def:{{{node dec1/bias/Assign}} = AssignVariableOp[_has_manual_control_dependencies=true, dtype=DT_FLOAT, validate_shape=false](dec1/bias, dec1/bias/Initializer/zeros)}}' was changed by setting attribute after it was run by a session. This mutation will have no effect, and will trigger an error in the future. Either don't modify nodes after running them or create a new session.\n",
      "2025-09-17 13:28:55.305737: W tensorflow/c/c_api.cc:305] Operation '{name:'batch_normalization_2/cond_3/Identity' id:205 op device:{requested: '', assigned: ''} def:{{{node batch_normalization_2/cond_3/Identity}} = Identity[T=DT_FLOAT, _has_manual_control_dependencies=true](batch_normalization_2/cond_3)}}' was changed by setting attribute after it was run by a session. This mutation will have no effect, and will trigger an error in the future. Either don't modify nodes after running them or create a new session.\n",
      "2025-09-17 13:28:55.355868: W tensorflow/c/c_api.cc:305] Operation '{name:'training/RMSprop/enc0/bias/rms/Assign' id:873 op device:{requested: '', assigned: ''} def:{{{node training/RMSprop/enc0/bias/rms/Assign}} = AssignVariableOp[_has_manual_control_dependencies=true, dtype=DT_FLOAT, validate_shape=false](training/RMSprop/enc0/bias/rms, training/RMSprop/enc0/bias/rms/Initializer/zeros)}}' was changed by setting attribute after it was run by a session. This mutation will have no effect, and will trigger an error in the future. Either don't modify nodes after running them or create a new session.\n",
      "/home/ma/ma_ma/ma_minjlee/.conda/envs/dca_gpu/lib/python3.10/site-packages/keras/src/engine/training_v1.py:2335: UserWarning: `Model.state_updates` will be removed in a future version. This property should not be used in TensorFlow 2.0, as `updates` are applied automatically.\n",
      "  updates = self.state_updates\n",
      "2025-09-17 13:28:55.777192: W tensorflow/c/c_api.cc:305] Operation '{name:'loss/AddN_1' id:374 op device:{requested: '', assigned: ''} def:{{{node loss/AddN_1}} = AddN[N=2, T=DT_FLOAT, _has_manual_control_dependencies=true](loss/mul, loss/AddN)}}' was changed by setting attribute after it was run by a session. This mutation will have no effect, and will trigger an error in the future. Either don't modify nodes after running them or create a new session.\n"
     ]
    },
    {
     "name": "stdout",
     "output_type": "stream",
     "text": [
      "dca: Calculating reconstructions...\n",
      "2025-09-17 13:29:17 | [time] [DCA] train(dca.api.dca) end in 22.69s\n",
      "2025-09-17 13:29:17 | [time] [DCA] fold 3 predict mu_va end in 22.70s\n",
      "2025-09-17 13:29:17 | [time] [DCA] fold 3/3 end in 23.71s\n",
      "2025-09-17 13:29:17 | [cv_dca_5fold] done\n"
     ]
    },
    {
     "name": "stderr",
     "output_type": "stream",
     "text": [
      "/home/ma/ma_ma/ma_minjlee/.conda/envs/dca_gpu/lib/python3.10/site-packages/keras/src/engine/training_v1.py:2359: UserWarning: `Model.state_updates` will be removed in a future version. This property should not be used in TensorFlow 2.0, as `updates` are applied automatically.\n",
      "  updates=self.state_updates,\n",
      "2025-09-17 13:29:17.183698: W tensorflow/c/c_api.cc:305] Operation '{name:'slice/slice/Identity' id:303 op device:{requested: '', assigned: ''} def:{{{node slice/slice/Identity}} = Identity[T=DT_FLOAT, _has_manual_control_dependencies=true](lambda_1/mul)}}' was changed by setting attribute after it was run by a session. This mutation will have no effect, and will trigger an error in the future. Either don't modify nodes after running them or create a new session.\n",
      "[I 2025-09-17 13:29:17,360] Trial 5 finished with value: -5.186095801916081 and parameters: {'h1': 64, 'h2': 16, 'h3': 64, 'epochs': 150, 'batch_size': 128, 'n_hvg': 1500}. Best is trial 3 with value: -4.447657327072082.\n"
     ]
    },
    {
     "name": "stdout",
     "output_type": "stream",
     "text": [
      "2025-09-17 13:29:17 | [cv_dca_5fold] start k=3 n_hvg=2000 mode=seurat_v3 R=1 mask_frac=0.1 thinning_p=0.1\n",
      "2025-09-17 13:29:17 | X_counts: dense  (447, 51777) dtype=int64\n",
      "2025-09-17 13:29:18 | X_counts: zeros=66.23%, approx_int=True\n",
      "2025-09-17 13:29:18 | [time] [DCA] fold 1/3 start\n",
      "2025-09-17 13:29:18 | X_tr: dense  (298, 51777) dtype=int64\n",
      "2025-09-17 13:29:18 | X_va: dense  (149, 51777) dtype=int64\n"
     ]
    },
    {
     "name": "stderr",
     "output_type": "stream",
     "text": [
      "/home/ma/ma_ma/ma_minjlee/.conda/envs/dca_gpu/lib/python3.10/site-packages/scanpy/preprocessing/_highly_variable_genes.py:64: UserWarning: `flavor='seurat_v3'` expects raw count data, but non-integers were found.\n",
      "  warnings.warn(\n"
     ]
    },
    {
     "name": "stdout",
     "output_type": "stream",
     "text": [
      "2025-09-17 13:29:18 | [DCA] fold 1 | HVG=2000\n",
      "2025-09-17 13:29:18 | [DCA] fit hidden=[32, 64, 128] epochs=150 bs=64\n",
      "2025-09-17 13:29:18 | X_train: dense  (298, 2000) dtype=int64\n",
      "2025-09-17 13:29:18 | [time] [DCA] fold 1 predict mu_va start\n",
      "2025-09-17 13:29:18 | [DCA] predict_mean\n",
      "2025-09-17 13:29:18 | [time] [DCA] train(dca.api.dca) start\n",
      "dca: Successfully preprocessed 2000 genes and 447 cells.\n"
     ]
    },
    {
     "name": "stderr",
     "output_type": "stream",
     "text": [
      "2025-09-17 13:29:19.112309: W tensorflow/c/c_api.cc:305] Operation '{name:'batch_normalization_2/moving_mean/Assign' id:179 op device:{requested: '', assigned: ''} def:{{{node batch_normalization_2/moving_mean/Assign}} = AssignVariableOp[_has_manual_control_dependencies=true, dtype=DT_FLOAT, validate_shape=false](batch_normalization_2/moving_mean, batch_normalization_2/moving_mean/Initializer/zeros)}}' was changed by setting attribute after it was run by a session. This mutation will have no effect, and will trigger an error in the future. Either don't modify nodes after running them or create a new session.\n",
      "2025-09-17 13:29:19.565712: W tensorflow/c/c_api.cc:305] Operation '{name:'batch_normalization_2/cond_3/Identity' id:205 op device:{requested: '', assigned: ''} def:{{{node batch_normalization_2/cond_3/Identity}} = Identity[T=DT_FLOAT, _has_manual_control_dependencies=true](batch_normalization_2/cond_3)}}' was changed by setting attribute after it was run by a session. This mutation will have no effect, and will trigger an error in the future. Either don't modify nodes after running them or create a new session.\n",
      "2025-09-17 13:29:19.617761: W tensorflow/c/c_api.cc:305] Operation '{name:'training/RMSprop/mean/kernel/rms/Assign' id:919 op device:{requested: '', assigned: ''} def:{{{node training/RMSprop/mean/kernel/rms/Assign}} = AssignVariableOp[_has_manual_control_dependencies=true, dtype=DT_FLOAT, validate_shape=false](training/RMSprop/mean/kernel/rms, training/RMSprop/mean/kernel/rms/Initializer/zeros)}}' was changed by setting attribute after it was run by a session. This mutation will have no effect, and will trigger an error in the future. Either don't modify nodes after running them or create a new session.\n",
      "/home/ma/ma_ma/ma_minjlee/.conda/envs/dca_gpu/lib/python3.10/site-packages/keras/src/engine/training_v1.py:2335: UserWarning: `Model.state_updates` will be removed in a future version. This property should not be used in TensorFlow 2.0, as `updates` are applied automatically.\n",
      "  updates = self.state_updates\n",
      "2025-09-17 13:29:20.100456: W tensorflow/c/c_api.cc:305] Operation '{name:'loss/AddN_1' id:374 op device:{requested: '', assigned: ''} def:{{{node loss/AddN_1}} = AddN[N=2, T=DT_FLOAT, _has_manual_control_dependencies=true](loss/mul, loss/AddN)}}' was changed by setting attribute after it was run by a session. This mutation will have no effect, and will trigger an error in the future. Either don't modify nodes after running them or create a new session.\n"
     ]
    },
    {
     "name": "stdout",
     "output_type": "stream",
     "text": [
      "dca: Calculating reconstructions...\n",
      "2025-09-17 13:29:47 | [time] [DCA] train(dca.api.dca) end in 29.15s\n",
      "2025-09-17 13:29:47 | [time] [DCA] fold 1 predict mu_va end in 29.16s\n"
     ]
    },
    {
     "name": "stderr",
     "output_type": "stream",
     "text": [
      "/home/ma/ma_ma/ma_minjlee/.conda/envs/dca_gpu/lib/python3.10/site-packages/keras/src/engine/training_v1.py:2359: UserWarning: `Model.state_updates` will be removed in a future version. This property should not be used in TensorFlow 2.0, as `updates` are applied automatically.\n",
      "  updates=self.state_updates,\n",
      "2025-09-17 13:29:47.860309: W tensorflow/c/c_api.cc:305] Operation '{name:'slice/slice/Identity' id:303 op device:{requested: '', assigned: ''} def:{{{node slice/slice/Identity}} = Identity[T=DT_FLOAT, _has_manual_control_dependencies=true](lambda_1/mul)}}' was changed by setting attribute after it was run by a session. This mutation will have no effect, and will trigger an error in the future. Either don't modify nodes after running them or create a new session.\n"
     ]
    },
    {
     "name": "stdout",
     "output_type": "stream",
     "text": [
      "2025-09-17 13:29:48 | [time] [DCA] fold 1/3 end in 29.94s\n",
      "2025-09-17 13:29:48 | [time] [DCA] fold 2/3 start\n",
      "2025-09-17 13:29:48 | X_tr: dense  (298, 51777) dtype=int64\n",
      "2025-09-17 13:29:48 | X_va: dense  (149, 51777) dtype=int64\n"
     ]
    },
    {
     "name": "stderr",
     "output_type": "stream",
     "text": [
      "/home/ma/ma_ma/ma_minjlee/.conda/envs/dca_gpu/lib/python3.10/site-packages/scanpy/preprocessing/_highly_variable_genes.py:64: UserWarning: `flavor='seurat_v3'` expects raw count data, but non-integers were found.\n",
      "  warnings.warn(\n"
     ]
    },
    {
     "name": "stdout",
     "output_type": "stream",
     "text": [
      "2025-09-17 13:29:48 | [DCA] fold 2 | HVG=2000\n",
      "2025-09-17 13:29:48 | [DCA] fit hidden=[32, 64, 128] epochs=150 bs=64\n",
      "2025-09-17 13:29:48 | X_train: dense  (298, 2000) dtype=int64\n",
      "2025-09-17 13:29:48 | [time] [DCA] fold 2 predict mu_va start\n",
      "2025-09-17 13:29:48 | [DCA] predict_mean\n",
      "2025-09-17 13:29:48 | [time] [DCA] train(dca.api.dca) start\n",
      "dca: Successfully preprocessed 2000 genes and 447 cells.\n"
     ]
    },
    {
     "name": "stderr",
     "output_type": "stream",
     "text": [
      "2025-09-17 13:29:49.135559: W tensorflow/c/c_api.cc:305] Operation '{name:'batch_normalization_2/moving_mean/Assign' id:179 op device:{requested: '', assigned: ''} def:{{{node batch_normalization_2/moving_mean/Assign}} = AssignVariableOp[_has_manual_control_dependencies=true, dtype=DT_FLOAT, validate_shape=false](batch_normalization_2/moving_mean, batch_normalization_2/moving_mean/Initializer/zeros)}}' was changed by setting attribute after it was run by a session. This mutation will have no effect, and will trigger an error in the future. Either don't modify nodes after running them or create a new session.\n",
      "2025-09-17 13:29:49.602327: W tensorflow/c/c_api.cc:305] Operation '{name:'batch_normalization_2/cond_3/Identity' id:205 op device:{requested: '', assigned: ''} def:{{{node batch_normalization_2/cond_3/Identity}} = Identity[T=DT_FLOAT, _has_manual_control_dependencies=true](batch_normalization_2/cond_3)}}' was changed by setting attribute after it was run by a session. This mutation will have no effect, and will trigger an error in the future. Either don't modify nodes after running them or create a new session.\n",
      "2025-09-17 13:29:49.653258: W tensorflow/c/c_api.cc:305] Operation '{name:'training/RMSprop/center/bias/rms/Assign' id:890 op device:{requested: '', assigned: ''} def:{{{node training/RMSprop/center/bias/rms/Assign}} = AssignVariableOp[_has_manual_control_dependencies=true, dtype=DT_FLOAT, validate_shape=false](training/RMSprop/center/bias/rms, training/RMSprop/center/bias/rms/Initializer/zeros)}}' was changed by setting attribute after it was run by a session. This mutation will have no effect, and will trigger an error in the future. Either don't modify nodes after running them or create a new session.\n",
      "/home/ma/ma_ma/ma_minjlee/.conda/envs/dca_gpu/lib/python3.10/site-packages/keras/src/engine/training_v1.py:2335: UserWarning: `Model.state_updates` will be removed in a future version. This property should not be used in TensorFlow 2.0, as `updates` are applied automatically.\n",
      "  updates = self.state_updates\n",
      "2025-09-17 13:29:50.089900: W tensorflow/c/c_api.cc:305] Operation '{name:'loss/AddN_1' id:374 op device:{requested: '', assigned: ''} def:{{{node loss/AddN_1}} = AddN[N=2, T=DT_FLOAT, _has_manual_control_dependencies=true](loss/mul, loss/AddN)}}' was changed by setting attribute after it was run by a session. This mutation will have no effect, and will trigger an error in the future. Either don't modify nodes after running them or create a new session.\n"
     ]
    },
    {
     "name": "stdout",
     "output_type": "stream",
     "text": [
      "dca: Calculating reconstructions...\n",
      "2025-09-17 13:30:18 | [time] [DCA] train(dca.api.dca) end in 29.90s\n",
      "2025-09-17 13:30:18 | [time] [DCA] fold 2 predict mu_va end in 29.91s\n",
      "2025-09-17 13:30:18 | [time] [DCA] fold 2/3 end in 30.81s\n",
      "2025-09-17 13:30:18 | [time] [DCA] fold 3/3 start\n"
     ]
    },
    {
     "name": "stderr",
     "output_type": "stream",
     "text": [
      "/home/ma/ma_ma/ma_minjlee/.conda/envs/dca_gpu/lib/python3.10/site-packages/keras/src/engine/training_v1.py:2359: UserWarning: `Model.state_updates` will be removed in a future version. This property should not be used in TensorFlow 2.0, as `updates` are applied automatically.\n",
      "  updates=self.state_updates,\n",
      "2025-09-17 13:30:18.685178: W tensorflow/c/c_api.cc:305] Operation '{name:'slice/slice/Identity' id:303 op device:{requested: '', assigned: ''} def:{{{node slice/slice/Identity}} = Identity[T=DT_FLOAT, _has_manual_control_dependencies=true](lambda_1/mul)}}' was changed by setting attribute after it was run by a session. This mutation will have no effect, and will trigger an error in the future. Either don't modify nodes after running them or create a new session.\n"
     ]
    },
    {
     "name": "stdout",
     "output_type": "stream",
     "text": [
      "2025-09-17 13:30:18 | X_tr: dense  (298, 51777) dtype=int64\n",
      "2025-09-17 13:30:18 | X_va: dense  (149, 51777) dtype=int64\n"
     ]
    },
    {
     "name": "stderr",
     "output_type": "stream",
     "text": [
      "/home/ma/ma_ma/ma_minjlee/.conda/envs/dca_gpu/lib/python3.10/site-packages/scanpy/preprocessing/_highly_variable_genes.py:64: UserWarning: `flavor='seurat_v3'` expects raw count data, but non-integers were found.\n",
      "  warnings.warn(\n"
     ]
    },
    {
     "name": "stdout",
     "output_type": "stream",
     "text": [
      "2025-09-17 13:30:19 | [DCA] fold 3 | HVG=2000\n",
      "2025-09-17 13:30:19 | [DCA] fit hidden=[32, 64, 128] epochs=150 bs=64\n",
      "2025-09-17 13:30:19 | X_train: dense  (298, 2000) dtype=int64\n",
      "2025-09-17 13:30:19 | [time] [DCA] fold 3 predict mu_va start\n",
      "2025-09-17 13:30:19 | [DCA] predict_mean\n",
      "2025-09-17 13:30:19 | [time] [DCA] train(dca.api.dca) start\n",
      "dca: Successfully preprocessed 2000 genes and 447 cells.\n"
     ]
    },
    {
     "name": "stderr",
     "output_type": "stream",
     "text": [
      "2025-09-17 13:30:19.896920: W tensorflow/c/c_api.cc:305] Operation '{name:'mean/bias/Assign' id:268 op device:{requested: '', assigned: ''} def:{{{node mean/bias/Assign}} = AssignVariableOp[_has_manual_control_dependencies=true, dtype=DT_FLOAT, validate_shape=false](mean/bias, mean/bias/Initializer/zeros)}}' was changed by setting attribute after it was run by a session. This mutation will have no effect, and will trigger an error in the future. Either don't modify nodes after running them or create a new session.\n",
      "2025-09-17 13:30:20.363305: W tensorflow/c/c_api.cc:305] Operation '{name:'batch_normalization_2/cond_3/Identity' id:205 op device:{requested: '', assigned: ''} def:{{{node batch_normalization_2/cond_3/Identity}} = Identity[T=DT_FLOAT, _has_manual_control_dependencies=true](batch_normalization_2/cond_3)}}' was changed by setting attribute after it was run by a session. This mutation will have no effect, and will trigger an error in the future. Either don't modify nodes after running them or create a new session.\n",
      "2025-09-17 13:30:20.417231: W tensorflow/c/c_api.cc:305] Operation '{name:'training/RMSprop/enc0/kernel/rms/Assign' id:868 op device:{requested: '', assigned: ''} def:{{{node training/RMSprop/enc0/kernel/rms/Assign}} = AssignVariableOp[_has_manual_control_dependencies=true, dtype=DT_FLOAT, validate_shape=false](training/RMSprop/enc0/kernel/rms, training/RMSprop/enc0/kernel/rms/Initializer/zeros)}}' was changed by setting attribute after it was run by a session. This mutation will have no effect, and will trigger an error in the future. Either don't modify nodes after running them or create a new session.\n",
      "/home/ma/ma_ma/ma_minjlee/.conda/envs/dca_gpu/lib/python3.10/site-packages/keras/src/engine/training_v1.py:2335: UserWarning: `Model.state_updates` will be removed in a future version. This property should not be used in TensorFlow 2.0, as `updates` are applied automatically.\n",
      "  updates = self.state_updates\n",
      "2025-09-17 13:30:20.895030: W tensorflow/c/c_api.cc:305] Operation '{name:'loss/AddN_1' id:374 op device:{requested: '', assigned: ''} def:{{{node loss/AddN_1}} = AddN[N=2, T=DT_FLOAT, _has_manual_control_dependencies=true](loss/mul, loss/AddN)}}' was changed by setting attribute after it was run by a session. This mutation will have no effect, and will trigger an error in the future. Either don't modify nodes after running them or create a new session.\n"
     ]
    },
    {
     "name": "stdout",
     "output_type": "stream",
     "text": [
      "dca: Calculating reconstructions...\n",
      "2025-09-17 13:30:50 | [time] [DCA] train(dca.api.dca) end in 30.43s\n",
      "2025-09-17 13:30:50 | [time] [DCA] fold 3 predict mu_va end in 30.44s\n"
     ]
    },
    {
     "name": "stderr",
     "output_type": "stream",
     "text": [
      "/home/ma/ma_ma/ma_minjlee/.conda/envs/dca_gpu/lib/python3.10/site-packages/keras/src/engine/training_v1.py:2359: UserWarning: `Model.state_updates` will be removed in a future version. This property should not be used in TensorFlow 2.0, as `updates` are applied automatically.\n",
      "  updates=self.state_updates,\n",
      "2025-09-17 13:30:49.965275: W tensorflow/c/c_api.cc:305] Operation '{name:'slice/slice/Identity' id:303 op device:{requested: '', assigned: ''} def:{{{node slice/slice/Identity}} = Identity[T=DT_FLOAT, _has_manual_control_dependencies=true](lambda_1/mul)}}' was changed by setting attribute after it was run by a session. This mutation will have no effect, and will trigger an error in the future. Either don't modify nodes after running them or create a new session.\n"
     ]
    },
    {
     "name": "stdout",
     "output_type": "stream",
     "text": [
      "2025-09-17 13:30:50 | [time] [DCA] fold 3/3 end in 31.30s\n",
      "2025-09-17 13:30:50 | [cv_dca_5fold] done\n"
     ]
    },
    {
     "name": "stderr",
     "output_type": "stream",
     "text": [
      "[I 2025-09-17 13:30:50,194] Trial 6 finished with value: -4.399647434015976 and parameters: {'h1': 32, 'h2': 64, 'h3': 128, 'epochs': 150, 'batch_size': 64, 'n_hvg': 2000}. Best is trial 6 with value: -4.399647434015976.\n"
     ]
    },
    {
     "name": "stdout",
     "output_type": "stream",
     "text": [
      "2025-09-17 13:30:51 | [cv_dca_5fold] start k=3 n_hvg=1500 mode=seurat_v3 R=1 mask_frac=0.1 thinning_p=0.1\n",
      "2025-09-17 13:30:51 | X_counts: dense  (447, 51777) dtype=int64\n",
      "2025-09-17 13:30:52 | X_counts: zeros=66.23%, approx_int=True\n",
      "2025-09-17 13:30:52 | [time] [DCA] fold 1/3 start\n",
      "2025-09-17 13:30:52 | X_tr: dense  (298, 51777) dtype=int64\n",
      "2025-09-17 13:30:52 | X_va: dense  (149, 51777) dtype=int64\n"
     ]
    },
    {
     "name": "stderr",
     "output_type": "stream",
     "text": [
      "/home/ma/ma_ma/ma_minjlee/.conda/envs/dca_gpu/lib/python3.10/site-packages/scanpy/preprocessing/_highly_variable_genes.py:64: UserWarning: `flavor='seurat_v3'` expects raw count data, but non-integers were found.\n",
      "  warnings.warn(\n"
     ]
    },
    {
     "name": "stdout",
     "output_type": "stream",
     "text": [
      "2025-09-17 13:30:53 | [DCA] fold 1 | HVG=1500\n",
      "2025-09-17 13:30:53 | [DCA] fit hidden=[128, 32, 128] epochs=100 bs=128\n",
      "2025-09-17 13:30:53 | X_train: dense  (298, 1500) dtype=int64\n",
      "2025-09-17 13:30:53 | [time] [DCA] fold 1 predict mu_va start\n",
      "2025-09-17 13:30:53 | [DCA] predict_mean\n",
      "2025-09-17 13:30:53 | [time] [DCA] train(dca.api.dca) start\n",
      "dca: Successfully preprocessed 1500 genes and 447 cells.\n"
     ]
    },
    {
     "name": "stderr",
     "output_type": "stream",
     "text": [
      "2025-09-17 13:30:54.058956: W tensorflow/c/c_api.cc:305] Operation '{name:'batch_normalization_1/beta/Assign' id:103 op device:{requested: '', assigned: ''} def:{{{node batch_normalization_1/beta/Assign}} = AssignVariableOp[_has_manual_control_dependencies=true, dtype=DT_FLOAT, validate_shape=false](batch_normalization_1/beta, batch_normalization_1/beta/Initializer/zeros)}}' was changed by setting attribute after it was run by a session. This mutation will have no effect, and will trigger an error in the future. Either don't modify nodes after running them or create a new session.\n",
      "2025-09-17 13:30:54.554915: W tensorflow/c/c_api.cc:305] Operation '{name:'batch_normalization_2/cond_3/Identity' id:205 op device:{requested: '', assigned: ''} def:{{{node batch_normalization_2/cond_3/Identity}} = Identity[T=DT_FLOAT, _has_manual_control_dependencies=true](batch_normalization_2/cond_3)}}' was changed by setting attribute after it was run by a session. This mutation will have no effect, and will trigger an error in the future. Either don't modify nodes after running them or create a new session.\n",
      "2025-09-17 13:30:54.609524: W tensorflow/c/c_api.cc:305] Operation '{name:'training/RMSprop/dispersion/bias/rms/Assign' id:940 op device:{requested: '', assigned: ''} def:{{{node training/RMSprop/dispersion/bias/rms/Assign}} = AssignVariableOp[_has_manual_control_dependencies=true, dtype=DT_FLOAT, validate_shape=false](training/RMSprop/dispersion/bias/rms, training/RMSprop/dispersion/bias/rms/Initializer/zeros)}}' was changed by setting attribute after it was run by a session. This mutation will have no effect, and will trigger an error in the future. Either don't modify nodes after running them or create a new session.\n",
      "/home/ma/ma_ma/ma_minjlee/.conda/envs/dca_gpu/lib/python3.10/site-packages/keras/src/engine/training_v1.py:2335: UserWarning: `Model.state_updates` will be removed in a future version. This property should not be used in TensorFlow 2.0, as `updates` are applied automatically.\n",
      "  updates = self.state_updates\n",
      "2025-09-17 13:30:55.055546: W tensorflow/c/c_api.cc:305] Operation '{name:'loss/AddN_1' id:374 op device:{requested: '', assigned: ''} def:{{{node loss/AddN_1}} = AddN[N=2, T=DT_FLOAT, _has_manual_control_dependencies=true](loss/mul, loss/AddN)}}' was changed by setting attribute after it was run by a session. This mutation will have no effect, and will trigger an error in the future. Either don't modify nodes after running them or create a new session.\n"
     ]
    },
    {
     "name": "stdout",
     "output_type": "stream",
     "text": [
      "dca: Calculating reconstructions...\n",
      "2025-09-17 13:31:14 | [time] [DCA] train(dca.api.dca) end in 21.15s\n",
      "2025-09-17 13:31:14 | [time] [DCA] fold 1 predict mu_va end in 21.17s\n",
      "2025-09-17 13:31:14 | [time] [DCA] fold 1/3 end in 22.04s\n",
      "2025-09-17 13:31:14 | [time] [DCA] fold 2/3 start\n"
     ]
    },
    {
     "name": "stderr",
     "output_type": "stream",
     "text": [
      "/home/ma/ma_ma/ma_minjlee/.conda/envs/dca_gpu/lib/python3.10/site-packages/keras/src/engine/training_v1.py:2359: UserWarning: `Model.state_updates` will be removed in a future version. This property should not be used in TensorFlow 2.0, as `updates` are applied automatically.\n",
      "  updates=self.state_updates,\n",
      "2025-09-17 13:31:14.667538: W tensorflow/c/c_api.cc:305] Operation '{name:'slice/slice/Identity' id:303 op device:{requested: '', assigned: ''} def:{{{node slice/slice/Identity}} = Identity[T=DT_FLOAT, _has_manual_control_dependencies=true](lambda_1/mul)}}' was changed by setting attribute after it was run by a session. This mutation will have no effect, and will trigger an error in the future. Either don't modify nodes after running them or create a new session.\n"
     ]
    },
    {
     "name": "stdout",
     "output_type": "stream",
     "text": [
      "2025-09-17 13:31:14 | X_tr: dense  (298, 51777) dtype=int64\n",
      "2025-09-17 13:31:15 | X_va: dense  (149, 51777) dtype=int64\n"
     ]
    },
    {
     "name": "stderr",
     "output_type": "stream",
     "text": [
      "/home/ma/ma_ma/ma_minjlee/.conda/envs/dca_gpu/lib/python3.10/site-packages/scanpy/preprocessing/_highly_variable_genes.py:64: UserWarning: `flavor='seurat_v3'` expects raw count data, but non-integers were found.\n",
      "  warnings.warn(\n"
     ]
    },
    {
     "name": "stdout",
     "output_type": "stream",
     "text": [
      "2025-09-17 13:31:15 | [DCA] fold 2 | HVG=1500\n",
      "2025-09-17 13:31:15 | [DCA] fit hidden=[128, 32, 128] epochs=100 bs=128\n",
      "2025-09-17 13:31:15 | X_train: dense  (298, 1500) dtype=int64\n",
      "2025-09-17 13:31:15 | [time] [DCA] fold 2 predict mu_va start\n",
      "2025-09-17 13:31:15 | [DCA] predict_mean\n",
      "2025-09-17 13:31:15 | [time] [DCA] train(dca.api.dca) start\n",
      "dca: Successfully preprocessed 1500 genes and 447 cells.\n"
     ]
    },
    {
     "name": "stderr",
     "output_type": "stream",
     "text": [
      "2025-09-17 13:31:15.990360: W tensorflow/c/c_api.cc:305] Operation '{name:'batch_normalization_2/beta/Assign' id:174 op device:{requested: '', assigned: ''} def:{{{node batch_normalization_2/beta/Assign}} = AssignVariableOp[_has_manual_control_dependencies=true, dtype=DT_FLOAT, validate_shape=false](batch_normalization_2/beta, batch_normalization_2/beta/Initializer/zeros)}}' was changed by setting attribute after it was run by a session. This mutation will have no effect, and will trigger an error in the future. Either don't modify nodes after running them or create a new session.\n",
      "2025-09-17 13:31:16.453777: W tensorflow/c/c_api.cc:305] Operation '{name:'batch_normalization_2/cond_3/Identity' id:205 op device:{requested: '', assigned: ''} def:{{{node batch_normalization_2/cond_3/Identity}} = Identity[T=DT_FLOAT, _has_manual_control_dependencies=true](batch_normalization_2/cond_3)}}' was changed by setting attribute after it was run by a session. This mutation will have no effect, and will trigger an error in the future. Either don't modify nodes after running them or create a new session.\n",
      "2025-09-17 13:31:16.506977: W tensorflow/c/c_api.cc:305] Operation '{name:'training/RMSprop/dispersion/bias/rms/Assign' id:940 op device:{requested: '', assigned: ''} def:{{{node training/RMSprop/dispersion/bias/rms/Assign}} = AssignVariableOp[_has_manual_control_dependencies=true, dtype=DT_FLOAT, validate_shape=false](training/RMSprop/dispersion/bias/rms, training/RMSprop/dispersion/bias/rms/Initializer/zeros)}}' was changed by setting attribute after it was run by a session. This mutation will have no effect, and will trigger an error in the future. Either don't modify nodes after running them or create a new session.\n",
      "/home/ma/ma_ma/ma_minjlee/.conda/envs/dca_gpu/lib/python3.10/site-packages/keras/src/engine/training_v1.py:2335: UserWarning: `Model.state_updates` will be removed in a future version. This property should not be used in TensorFlow 2.0, as `updates` are applied automatically.\n",
      "  updates = self.state_updates\n",
      "2025-09-17 13:31:16.879156: W tensorflow/c/c_api.cc:305] Operation '{name:'loss/AddN_1' id:374 op device:{requested: '', assigned: ''} def:{{{node loss/AddN_1}} = AddN[N=2, T=DT_FLOAT, _has_manual_control_dependencies=true](loss/mul, loss/AddN)}}' was changed by setting attribute after it was run by a session. This mutation will have no effect, and will trigger an error in the future. Either don't modify nodes after running them or create a new session.\n"
     ]
    },
    {
     "name": "stdout",
     "output_type": "stream",
     "text": [
      "dca: Calculating reconstructions...\n",
      "2025-09-17 13:31:36 | [time] [DCA] train(dca.api.dca) end in 20.49s\n",
      "2025-09-17 13:31:36 | [time] [DCA] fold 2 predict mu_va end in 20.50s\n",
      "2025-09-17 13:31:36 | [time] [DCA] fold 2/3 end in 21.41s\n",
      "2025-09-17 13:31:36 | [time] [DCA] fold 3/3 start\n"
     ]
    },
    {
     "name": "stderr",
     "output_type": "stream",
     "text": [
      "/home/ma/ma_ma/ma_minjlee/.conda/envs/dca_gpu/lib/python3.10/site-packages/keras/src/engine/training_v1.py:2359: UserWarning: `Model.state_updates` will be removed in a future version. This property should not be used in TensorFlow 2.0, as `updates` are applied automatically.\n",
      "  updates=self.state_updates,\n",
      "2025-09-17 13:31:36.084389: W tensorflow/c/c_api.cc:305] Operation '{name:'slice/slice/Identity' id:303 op device:{requested: '', assigned: ''} def:{{{node slice/slice/Identity}} = Identity[T=DT_FLOAT, _has_manual_control_dependencies=true](lambda_1/mul)}}' was changed by setting attribute after it was run by a session. This mutation will have no effect, and will trigger an error in the future. Either don't modify nodes after running them or create a new session.\n"
     ]
    },
    {
     "name": "stdout",
     "output_type": "stream",
     "text": [
      "2025-09-17 13:31:36 | X_tr: dense  (298, 51777) dtype=int64\n",
      "2025-09-17 13:31:36 | X_va: dense  (149, 51777) dtype=int64\n"
     ]
    },
    {
     "name": "stderr",
     "output_type": "stream",
     "text": [
      "/home/ma/ma_ma/ma_minjlee/.conda/envs/dca_gpu/lib/python3.10/site-packages/scanpy/preprocessing/_highly_variable_genes.py:64: UserWarning: `flavor='seurat_v3'` expects raw count data, but non-integers were found.\n",
      "  warnings.warn(\n"
     ]
    },
    {
     "name": "stdout",
     "output_type": "stream",
     "text": [
      "2025-09-17 13:31:37 | [DCA] fold 3 | HVG=1500\n",
      "2025-09-17 13:31:37 | [DCA] fit hidden=[128, 32, 128] epochs=100 bs=128\n",
      "2025-09-17 13:31:37 | X_train: dense  (298, 1500) dtype=int64\n",
      "2025-09-17 13:31:37 | [time] [DCA] fold 3 predict mu_va start\n",
      "2025-09-17 13:31:37 | [DCA] predict_mean\n",
      "2025-09-17 13:31:37 | [time] [DCA] train(dca.api.dca) start\n",
      "dca: Successfully preprocessed 1500 genes and 447 cells.\n"
     ]
    },
    {
     "name": "stderr",
     "output_type": "stream",
     "text": [
      "2025-09-17 13:31:37.572883: W tensorflow/c/c_api.cc:305] Operation '{name:'dispersion/kernel/Assign' id:231 op device:{requested: '', assigned: ''} def:{{{node dispersion/kernel/Assign}} = AssignVariableOp[_has_manual_control_dependencies=true, dtype=DT_FLOAT, validate_shape=false](dispersion/kernel, dispersion/kernel/Initializer/stateless_random_uniform)}}' was changed by setting attribute after it was run by a session. This mutation will have no effect, and will trigger an error in the future. Either don't modify nodes after running them or create a new session.\n",
      "2025-09-17 13:31:38.054282: W tensorflow/c/c_api.cc:305] Operation '{name:'batch_normalization_2/cond_3/Identity' id:205 op device:{requested: '', assigned: ''} def:{{{node batch_normalization_2/cond_3/Identity}} = Identity[T=DT_FLOAT, _has_manual_control_dependencies=true](batch_normalization_2/cond_3)}}' was changed by setting attribute after it was run by a session. This mutation will have no effect, and will trigger an error in the future. Either don't modify nodes after running them or create a new session.\n",
      "2025-09-17 13:31:38.104087: W tensorflow/c/c_api.cc:305] Operation '{name:'training/RMSprop/center/bias/rms/Assign' id:890 op device:{requested: '', assigned: ''} def:{{{node training/RMSprop/center/bias/rms/Assign}} = AssignVariableOp[_has_manual_control_dependencies=true, dtype=DT_FLOAT, validate_shape=false](training/RMSprop/center/bias/rms, training/RMSprop/center/bias/rms/Initializer/zeros)}}' was changed by setting attribute after it was run by a session. This mutation will have no effect, and will trigger an error in the future. Either don't modify nodes after running them or create a new session.\n",
      "/home/ma/ma_ma/ma_minjlee/.conda/envs/dca_gpu/lib/python3.10/site-packages/keras/src/engine/training_v1.py:2335: UserWarning: `Model.state_updates` will be removed in a future version. This property should not be used in TensorFlow 2.0, as `updates` are applied automatically.\n",
      "  updates = self.state_updates\n",
      "2025-09-17 13:31:38.470290: W tensorflow/c/c_api.cc:305] Operation '{name:'loss/AddN_1' id:374 op device:{requested: '', assigned: ''} def:{{{node loss/AddN_1}} = AddN[N=2, T=DT_FLOAT, _has_manual_control_dependencies=true](loss/mul, loss/AddN)}}' was changed by setting attribute after it was run by a session. This mutation will have no effect, and will trigger an error in the future. Either don't modify nodes after running them or create a new session.\n"
     ]
    },
    {
     "name": "stdout",
     "output_type": "stream",
     "text": [
      "dca: Calculating reconstructions...\n",
      "2025-09-17 13:31:57 | [time] [DCA] train(dca.api.dca) end in 19.99s\n",
      "2025-09-17 13:31:57 | [time] [DCA] fold 3 predict mu_va end in 20.01s\n",
      "2025-09-17 13:31:57 | [time] [DCA] fold 3/3 end in 21.10s\n",
      "2025-09-17 13:31:57 | [cv_dca_5fold] done\n"
     ]
    },
    {
     "name": "stderr",
     "output_type": "stream",
     "text": [
      "/home/ma/ma_ma/ma_minjlee/.conda/envs/dca_gpu/lib/python3.10/site-packages/keras/src/engine/training_v1.py:2359: UserWarning: `Model.state_updates` will be removed in a future version. This property should not be used in TensorFlow 2.0, as `updates` are applied automatically.\n",
      "  updates=self.state_updates,\n",
      "2025-09-17 13:31:57.179120: W tensorflow/c/c_api.cc:305] Operation '{name:'slice/slice/Identity' id:303 op device:{requested: '', assigned: ''} def:{{{node slice/slice/Identity}} = Identity[T=DT_FLOAT, _has_manual_control_dependencies=true](lambda_1/mul)}}' was changed by setting attribute after it was run by a session. This mutation will have no effect, and will trigger an error in the future. Either don't modify nodes after running them or create a new session.\n",
      "[I 2025-09-17 13:31:57,369] Trial 7 finished with value: -4.567429783791579 and parameters: {'h1': 128, 'h2': 32, 'h3': 128, 'epochs': 100, 'batch_size': 128, 'n_hvg': 1500}. Best is trial 6 with value: -4.399647434015976.\n"
     ]
    },
    {
     "name": "stdout",
     "output_type": "stream",
     "text": [
      "2025-09-17 13:31:58 | [cv_dca_5fold] start k=3 n_hvg=2000 mode=seurat_v3 R=1 mask_frac=0.1 thinning_p=0.1\n",
      "2025-09-17 13:31:58 | X_counts: dense  (447, 51777) dtype=int64\n",
      "2025-09-17 13:31:58 | X_counts: zeros=66.23%, approx_int=True\n",
      "2025-09-17 13:31:58 | [time] [DCA] fold 1/3 start\n",
      "2025-09-17 13:31:58 | X_tr: dense  (298, 51777) dtype=int64\n",
      "2025-09-17 13:31:58 | X_va: dense  (149, 51777) dtype=int64\n"
     ]
    },
    {
     "name": "stderr",
     "output_type": "stream",
     "text": [
      "/home/ma/ma_ma/ma_minjlee/.conda/envs/dca_gpu/lib/python3.10/site-packages/scanpy/preprocessing/_highly_variable_genes.py:64: UserWarning: `flavor='seurat_v3'` expects raw count data, but non-integers were found.\n",
      "  warnings.warn(\n"
     ]
    },
    {
     "name": "stdout",
     "output_type": "stream",
     "text": [
      "2025-09-17 13:31:59 | [DCA] fold 1 | HVG=2000\n",
      "2025-09-17 13:31:59 | [DCA] fit hidden=[64, 64, 64] epochs=100 bs=128\n",
      "2025-09-17 13:31:59 | X_train: dense  (298, 2000) dtype=int64\n",
      "2025-09-17 13:31:59 | [time] [DCA] fold 1 predict mu_va start\n",
      "2025-09-17 13:31:59 | [DCA] predict_mean\n",
      "2025-09-17 13:31:59 | [time] [DCA] train(dca.api.dca) start\n",
      "dca: Successfully preprocessed 2000 genes and 447 cells.\n"
     ]
    },
    {
     "name": "stderr",
     "output_type": "stream",
     "text": [
      "2025-09-17 13:31:59.576350: W tensorflow/c/c_api.cc:305] Operation '{name:'dec1/kernel/Assign' id:160 op device:{requested: '', assigned: ''} def:{{{node dec1/kernel/Assign}} = AssignVariableOp[_has_manual_control_dependencies=true, dtype=DT_FLOAT, validate_shape=false](dec1/kernel, dec1/kernel/Initializer/stateless_random_uniform)}}' was changed by setting attribute after it was run by a session. This mutation will have no effect, and will trigger an error in the future. Either don't modify nodes after running them or create a new session.\n",
      "2025-09-17 13:32:00.062585: W tensorflow/c/c_api.cc:305] Operation '{name:'batch_normalization_2/cond_3/Identity' id:205 op device:{requested: '', assigned: ''} def:{{{node batch_normalization_2/cond_3/Identity}} = Identity[T=DT_FLOAT, _has_manual_control_dependencies=true](batch_normalization_2/cond_3)}}' was changed by setting attribute after it was run by a session. This mutation will have no effect, and will trigger an error in the future. Either don't modify nodes after running them or create a new session.\n",
      "2025-09-17 13:32:00.113366: W tensorflow/c/c_api.cc:305] Operation '{name:'training/RMSprop/mean/kernel/rms/Assign' id:919 op device:{requested: '', assigned: ''} def:{{{node training/RMSprop/mean/kernel/rms/Assign}} = AssignVariableOp[_has_manual_control_dependencies=true, dtype=DT_FLOAT, validate_shape=false](training/RMSprop/mean/kernel/rms, training/RMSprop/mean/kernel/rms/Initializer/zeros)}}' was changed by setting attribute after it was run by a session. This mutation will have no effect, and will trigger an error in the future. Either don't modify nodes after running them or create a new session.\n",
      "/home/ma/ma_ma/ma_minjlee/.conda/envs/dca_gpu/lib/python3.10/site-packages/keras/src/engine/training_v1.py:2335: UserWarning: `Model.state_updates` will be removed in a future version. This property should not be used in TensorFlow 2.0, as `updates` are applied automatically.\n",
      "  updates = self.state_updates\n",
      "2025-09-17 13:32:00.572778: W tensorflow/c/c_api.cc:305] Operation '{name:'loss/AddN_1' id:374 op device:{requested: '', assigned: ''} def:{{{node loss/AddN_1}} = AddN[N=2, T=DT_FLOAT, _has_manual_control_dependencies=true](loss/mul, loss/AddN)}}' was changed by setting attribute after it was run by a session. This mutation will have no effect, and will trigger an error in the future. Either don't modify nodes after running them or create a new session.\n"
     ]
    },
    {
     "name": "stdout",
     "output_type": "stream",
     "text": [
      "dca: Calculating reconstructions...\n",
      "2025-09-17 13:32:20 | [time] [DCA] train(dca.api.dca) end in 21.57s\n",
      "2025-09-17 13:32:20 | [time] [DCA] fold 1 predict mu_va end in 21.58s\n",
      "2025-09-17 13:32:20 | [time] [DCA] fold 1/3 end in 22.35s"
     ]
    },
    {
     "name": "stderr",
     "output_type": "stream",
     "text": [
      "/home/ma/ma_ma/ma_minjlee/.conda/envs/dca_gpu/lib/python3.10/site-packages/keras/src/engine/training_v1.py:2359: UserWarning: `Model.state_updates` will be removed in a future version. This property should not be used in TensorFlow 2.0, as `updates` are applied automatically.\n",
      "  updates=self.state_updates,\n",
      "2025-09-17 13:32:20.785225: W tensorflow/c/c_api.cc:305] Operation '{name:'slice/slice/Identity' id:303 op device:{requested: '', assigned: ''} def:{{{node slice/slice/Identity}} = Identity[T=DT_FLOAT, _has_manual_control_dependencies=true](lambda_1/mul)}}' was changed by setting attribute after it was run by a session. This mutation will have no effect, and will trigger an error in the future. Either don't modify nodes after running them or create a new session.\n"
     ]
    },
    {
     "name": "stdout",
     "output_type": "stream",
     "text": [
      "\n",
      "2025-09-17 13:32:20 | [time] [DCA] fold 2/3 start\n",
      "2025-09-17 13:32:21 | X_tr: dense  (298, 51777) dtype=int64\n",
      "2025-09-17 13:32:21 | X_va: dense  (149, 51777) dtype=int64\n"
     ]
    },
    {
     "name": "stderr",
     "output_type": "stream",
     "text": [
      "/home/ma/ma_ma/ma_minjlee/.conda/envs/dca_gpu/lib/python3.10/site-packages/scanpy/preprocessing/_highly_variable_genes.py:64: UserWarning: `flavor='seurat_v3'` expects raw count data, but non-integers were found.\n",
      "  warnings.warn(\n"
     ]
    },
    {
     "name": "stdout",
     "output_type": "stream",
     "text": [
      "2025-09-17 13:32:21 | [DCA] fold 2 | HVG=2000\n",
      "2025-09-17 13:32:21 | [DCA] fit hidden=[64, 64, 64] epochs=100 bs=128\n",
      "2025-09-17 13:32:21 | X_train: dense  (298, 2000) dtype=int64\n",
      "2025-09-17 13:32:21 | [time] [DCA] fold 2 predict mu_va start\n",
      "2025-09-17 13:32:21 | [DCA] predict_mean\n",
      "2025-09-17 13:32:21 | [time] [DCA] train(dca.api.dca) start\n",
      "dca: Successfully preprocessed 2000 genes and 447 cells.\n"
     ]
    },
    {
     "name": "stderr",
     "output_type": "stream",
     "text": [
      "2025-09-17 13:32:22.064804: W tensorflow/c/c_api.cc:305] Operation '{name:'center/kernel/Assign' id:89 op device:{requested: '', assigned: ''} def:{{{node center/kernel/Assign}} = AssignVariableOp[_has_manual_control_dependencies=true, dtype=DT_FLOAT, validate_shape=false](center/kernel, center/kernel/Initializer/stateless_random_uniform)}}' was changed by setting attribute after it was run by a session. This mutation will have no effect, and will trigger an error in the future. Either don't modify nodes after running them or create a new session.\n",
      "2025-09-17 13:32:22.522647: W tensorflow/c/c_api.cc:305] Operation '{name:'batch_normalization_2/cond_3/Identity' id:205 op device:{requested: '', assigned: ''} def:{{{node batch_normalization_2/cond_3/Identity}} = Identity[T=DT_FLOAT, _has_manual_control_dependencies=true](batch_normalization_2/cond_3)}}' was changed by setting attribute after it was run by a session. This mutation will have no effect, and will trigger an error in the future. Either don't modify nodes after running them or create a new session.\n",
      "2025-09-17 13:32:22.572871: W tensorflow/c/c_api.cc:305] Operation '{name:'training/RMSprop/dispersion/kernel/rms/Assign' id:933 op device:{requested: '', assigned: ''} def:{{{node training/RMSprop/dispersion/kernel/rms/Assign}} = AssignVariableOp[_has_manual_control_dependencies=true, dtype=DT_FLOAT, validate_shape=false](training/RMSprop/dispersion/kernel/rms, training/RMSprop/dispersion/kernel/rms/Initializer/zeros)}}' was changed by setting attribute after it was run by a session. This mutation will have no effect, and will trigger an error in the future. Either don't modify nodes after running them or create a new session.\n",
      "/home/ma/ma_ma/ma_minjlee/.conda/envs/dca_gpu/lib/python3.10/site-packages/keras/src/engine/training_v1.py:2335: UserWarning: `Model.state_updates` will be removed in a future version. This property should not be used in TensorFlow 2.0, as `updates` are applied automatically.\n",
      "  updates = self.state_updates\n",
      "2025-09-17 13:32:23.065607: W tensorflow/c/c_api.cc:305] Operation '{name:'loss/AddN_1' id:374 op device:{requested: '', assigned: ''} def:{{{node loss/AddN_1}} = AddN[N=2, T=DT_FLOAT, _has_manual_control_dependencies=true](loss/mul, loss/AddN)}}' was changed by setting attribute after it was run by a session. This mutation will have no effect, and will trigger an error in the future. Either don't modify nodes after running them or create a new session.\n"
     ]
    },
    {
     "name": "stdout",
     "output_type": "stream",
     "text": [
      "dca: Calculating reconstructions...\n",
      "2025-09-17 13:32:43 | [time] [DCA] train(dca.api.dca) end in 21.35s\n",
      "2025-09-17 13:32:43 | [time] [DCA] fold 2 predict mu_va end in 21.36s\n",
      "2025-09-17 13:32:43 | [time] [DCA] fold 2/3 end in 22.27s\n",
      "2025-09-17 13:32:43 | [time] [DCA] fold 3/3 start\n"
     ]
    },
    {
     "name": "stderr",
     "output_type": "stream",
     "text": [
      "/home/ma/ma_ma/ma_minjlee/.conda/envs/dca_gpu/lib/python3.10/site-packages/keras/src/engine/training_v1.py:2359: UserWarning: `Model.state_updates` will be removed in a future version. This property should not be used in TensorFlow 2.0, as `updates` are applied automatically.\n",
      "  updates=self.state_updates,\n",
      "2025-09-17 13:32:43.073077: W tensorflow/c/c_api.cc:305] Operation '{name:'slice/slice/Identity' id:303 op device:{requested: '', assigned: ''} def:{{{node slice/slice/Identity}} = Identity[T=DT_FLOAT, _has_manual_control_dependencies=true](lambda_1/mul)}}' was changed by setting attribute after it was run by a session. This mutation will have no effect, and will trigger an error in the future. Either don't modify nodes after running them or create a new session.\n"
     ]
    },
    {
     "name": "stdout",
     "output_type": "stream",
     "text": [
      "2025-09-17 13:32:43 | X_tr: dense  (298, 51777) dtype=int64\n",
      "2025-09-17 13:32:43 | X_va: dense  (149, 51777) dtype=int64\n"
     ]
    },
    {
     "name": "stderr",
     "output_type": "stream",
     "text": [
      "/home/ma/ma_ma/ma_minjlee/.conda/envs/dca_gpu/lib/python3.10/site-packages/scanpy/preprocessing/_highly_variable_genes.py:64: UserWarning: `flavor='seurat_v3'` expects raw count data, but non-integers were found.\n",
      "  warnings.warn(\n"
     ]
    },
    {
     "name": "stdout",
     "output_type": "stream",
     "text": [
      "2025-09-17 13:32:46 | [DCA] fold 3 | HVG=2000\n",
      "2025-09-17 13:32:46 | [DCA] fit hidden=[64, 64, 64] epochs=100 bs=128\n",
      "2025-09-17 13:32:46 | X_train: dense  (298, 2000) dtype=int64\n",
      "2025-09-17 13:32:46 | [time] [DCA] fold 3 predict mu_va start\n",
      "2025-09-17 13:32:46 | [DCA] predict_mean\n",
      "2025-09-17 13:32:46 | [time] [DCA] train(dca.api.dca) start\n",
      "dca: Successfully preprocessed 2000 genes and 447 cells.\n"
     ]
    },
    {
     "name": "stderr",
     "output_type": "stream",
     "text": [
      "2025-09-17 13:32:47.058807: W tensorflow/c/c_api.cc:305] Operation '{name:'batch_normalization_1/moving_mean/Assign' id:108 op device:{requested: '', assigned: ''} def:{{{node batch_normalization_1/moving_mean/Assign}} = AssignVariableOp[_has_manual_control_dependencies=true, dtype=DT_FLOAT, validate_shape=false](batch_normalization_1/moving_mean, batch_normalization_1/moving_mean/Initializer/zeros)}}' was changed by setting attribute after it was run by a session. This mutation will have no effect, and will trigger an error in the future. Either don't modify nodes after running them or create a new session.\n",
      "2025-09-17 13:32:47.473568: W tensorflow/c/c_api.cc:305] Operation '{name:'batch_normalization_2/cond_3/Identity' id:205 op device:{requested: '', assigned: ''} def:{{{node batch_normalization_2/cond_3/Identity}} = Identity[T=DT_FLOAT, _has_manual_control_dependencies=true](batch_normalization_2/cond_3)}}' was changed by setting attribute after it was run by a session. This mutation will have no effect, and will trigger an error in the future. Either don't modify nodes after running them or create a new session.\n",
      "2025-09-17 13:32:47.523544: W tensorflow/c/c_api.cc:305] Operation '{name:'training/RMSprop/iter/Assign' id:841 op device:{requested: '', assigned: ''} def:{{{node training/RMSprop/iter/Assign}} = AssignVariableOp[_has_manual_control_dependencies=true, dtype=DT_INT64, validate_shape=false](training/RMSprop/iter, training/RMSprop/iter/Initializer/zeros)}}' was changed by setting attribute after it was run by a session. This mutation will have no effect, and will trigger an error in the future. Either don't modify nodes after running them or create a new session.\n",
      "/home/ma/ma_ma/ma_minjlee/.conda/envs/dca_gpu/lib/python3.10/site-packages/keras/src/engine/training_v1.py:2335: UserWarning: `Model.state_updates` will be removed in a future version. This property should not be used in TensorFlow 2.0, as `updates` are applied automatically.\n",
      "  updates = self.state_updates\n",
      "2025-09-17 13:32:47.880355: W tensorflow/c/c_api.cc:305] Operation '{name:'loss/AddN_1' id:374 op device:{requested: '', assigned: ''} def:{{{node loss/AddN_1}} = AddN[N=2, T=DT_FLOAT, _has_manual_control_dependencies=true](loss/mul, loss/AddN)}}' was changed by setting attribute after it was run by a session. This mutation will have no effect, and will trigger an error in the future. Either don't modify nodes after running them or create a new session.\n"
     ]
    },
    {
     "name": "stdout",
     "output_type": "stream",
     "text": [
      "dca: Calculating reconstructions...\n",
      "2025-09-17 13:33:07 | [time] [DCA] train(dca.api.dca) end in 21.19s\n",
      "2025-09-17 13:33:07 | [time] [DCA] fold 3 predict mu_va end in 21.19s\n",
      "2025-09-17 13:33:08 | [time] [DCA] fold 3/3 end in 24.78s\n",
      "2025-09-17 13:33:08 | [cv_dca_5fold] done\n"
     ]
    },
    {
     "name": "stderr",
     "output_type": "stream",
     "text": [
      "/home/ma/ma_ma/ma_minjlee/.conda/envs/dca_gpu/lib/python3.10/site-packages/keras/src/engine/training_v1.py:2359: UserWarning: `Model.state_updates` will be removed in a future version. This property should not be used in TensorFlow 2.0, as `updates` are applied automatically.\n",
      "  updates=self.state_updates,\n",
      "2025-09-17 13:33:07.853943: W tensorflow/c/c_api.cc:305] Operation '{name:'slice/slice/Identity' id:303 op device:{requested: '', assigned: ''} def:{{{node slice/slice/Identity}} = Identity[T=DT_FLOAT, _has_manual_control_dependencies=true](lambda_1/mul)}}' was changed by setting attribute after it was run by a session. This mutation will have no effect, and will trigger an error in the future. Either don't modify nodes after running them or create a new session.\n",
      "[I 2025-09-17 13:33:08,048] Trial 8 finished with value: -4.6361324702879125 and parameters: {'h1': 64, 'h2': 64, 'h3': 64, 'epochs': 100, 'batch_size': 128, 'n_hvg': 2000}. Best is trial 6 with value: -4.399647434015976.\n"
     ]
    },
    {
     "name": "stdout",
     "output_type": "stream",
     "text": [
      "2025-09-17 13:33:08 | [cv_dca_5fold] start k=3 n_hvg=2000 mode=seurat_v3 R=1 mask_frac=0.1 thinning_p=0.1\n",
      "2025-09-17 13:33:08 | X_counts: dense  (447, 51777) dtype=int64\n",
      "2025-09-17 13:33:09 | X_counts: zeros=66.23%, approx_int=True\n",
      "2025-09-17 13:33:09 | [time] [DCA] fold 1/3 start\n",
      "2025-09-17 13:33:09 | X_tr: dense  (298, 51777) dtype=int64\n",
      "2025-09-17 13:33:09 | X_va: dense  (149, 51777) dtype=int64\n"
     ]
    },
    {
     "name": "stderr",
     "output_type": "stream",
     "text": [
      "/home/ma/ma_ma/ma_minjlee/.conda/envs/dca_gpu/lib/python3.10/site-packages/scanpy/preprocessing/_highly_variable_genes.py:64: UserWarning: `flavor='seurat_v3'` expects raw count data, but non-integers were found.\n",
      "  warnings.warn(\n"
     ]
    },
    {
     "name": "stdout",
     "output_type": "stream",
     "text": [
      "2025-09-17 13:33:09 | [DCA] fold 1 | HVG=2000\n",
      "2025-09-17 13:33:09 | [DCA] fit hidden=[128, 64, 128] epochs=100 bs=64\n",
      "2025-09-17 13:33:09 | X_train: dense  (298, 2000) dtype=int64\n",
      "2025-09-17 13:33:09 | [time] [DCA] fold 1 predict mu_va start\n",
      "2025-09-17 13:33:09 | [DCA] predict_mean\n",
      "2025-09-17 13:33:09 | [time] [DCA] train(dca.api.dca) start\n",
      "dca: Successfully preprocessed 2000 genes and 447 cells.\n"
     ]
    },
    {
     "name": "stderr",
     "output_type": "stream",
     "text": [
      "2025-09-17 13:33:10.083386: W tensorflow/c/c_api.cc:305] Operation '{name:'center/bias/Assign' id:94 op device:{requested: '', assigned: ''} def:{{{node center/bias/Assign}} = AssignVariableOp[_has_manual_control_dependencies=true, dtype=DT_FLOAT, validate_shape=false](center/bias, center/bias/Initializer/zeros)}}' was changed by setting attribute after it was run by a session. This mutation will have no effect, and will trigger an error in the future. Either don't modify nodes after running them or create a new session.\n",
      "2025-09-17 13:33:10.528622: W tensorflow/c/c_api.cc:305] Operation '{name:'batch_normalization_2/cond_3/Identity' id:205 op device:{requested: '', assigned: ''} def:{{{node batch_normalization_2/cond_3/Identity}} = Identity[T=DT_FLOAT, _has_manual_control_dependencies=true](batch_normalization_2/cond_3)}}' was changed by setting attribute after it was run by a session. This mutation will have no effect, and will trigger an error in the future. Either don't modify nodes after running them or create a new session.\n",
      "2025-09-17 13:33:10.579411: W tensorflow/c/c_api.cc:305] Operation '{name:'training/RMSprop/dec1/bias/rms/Assign' id:907 op device:{requested: '', assigned: ''} def:{{{node training/RMSprop/dec1/bias/rms/Assign}} = AssignVariableOp[_has_manual_control_dependencies=true, dtype=DT_FLOAT, validate_shape=false](training/RMSprop/dec1/bias/rms, training/RMSprop/dec1/bias/rms/Initializer/zeros)}}' was changed by setting attribute after it was run by a session. This mutation will have no effect, and will trigger an error in the future. Either don't modify nodes after running them or create a new session.\n",
      "/home/ma/ma_ma/ma_minjlee/.conda/envs/dca_gpu/lib/python3.10/site-packages/keras/src/engine/training_v1.py:2335: UserWarning: `Model.state_updates` will be removed in a future version. This property should not be used in TensorFlow 2.0, as `updates` are applied automatically.\n",
      "  updates = self.state_updates\n",
      "2025-09-17 13:33:11.059201: W tensorflow/c/c_api.cc:305] Operation '{name:'loss/AddN_1' id:374 op device:{requested: '', assigned: ''} def:{{{node loss/AddN_1}} = AddN[N=2, T=DT_FLOAT, _has_manual_control_dependencies=true](loss/mul, loss/AddN)}}' was changed by setting attribute after it was run by a session. This mutation will have no effect, and will trigger an error in the future. Either don't modify nodes after running them or create a new session.\n"
     ]
    },
    {
     "name": "stdout",
     "output_type": "stream",
     "text": [
      "dca: Calculating reconstructions...\n",
      "2025-09-17 13:33:36 | [time] [DCA] train(dca.api.dca) end in 26.70s\n",
      "2025-09-17 13:33:36 | [time] [DCA] fold 1 predict mu_va end in 26.71s\n"
     ]
    },
    {
     "name": "stderr",
     "output_type": "stream",
     "text": [
      "/home/ma/ma_ma/ma_minjlee/.conda/envs/dca_gpu/lib/python3.10/site-packages/keras/src/engine/training_v1.py:2359: UserWarning: `Model.state_updates` will be removed in a future version. This property should not be used in TensorFlow 2.0, as `updates` are applied automatically.\n",
      "  updates=self.state_updates,\n",
      "2025-09-17 13:33:36.363865: W tensorflow/c/c_api.cc:305] Operation '{name:'slice/slice/Identity' id:303 op device:{requested: '', assigned: ''} def:{{{node slice/slice/Identity}} = Identity[T=DT_FLOAT, _has_manual_control_dependencies=true](lambda_1/mul)}}' was changed by setting attribute after it was run by a session. This mutation will have no effect, and will trigger an error in the future. Either don't modify nodes after running them or create a new session.\n"
     ]
    },
    {
     "name": "stdout",
     "output_type": "stream",
     "text": [
      "2025-09-17 13:33:36 | [time] [DCA] fold 1/3 end in 27.53s\n",
      "2025-09-17 13:33:36 | [time] [DCA] fold 2/3 start\n",
      "2025-09-17 13:33:36 | X_tr: dense  (298, 51777) dtype=int64\n",
      "2025-09-17 13:33:36 | X_va: dense  (149, 51777) dtype=int64\n"
     ]
    },
    {
     "name": "stderr",
     "output_type": "stream",
     "text": [
      "/home/ma/ma_ma/ma_minjlee/.conda/envs/dca_gpu/lib/python3.10/site-packages/scanpy/preprocessing/_highly_variable_genes.py:64: UserWarning: `flavor='seurat_v3'` expects raw count data, but non-integers were found.\n",
      "  warnings.warn(\n"
     ]
    },
    {
     "name": "stdout",
     "output_type": "stream",
     "text": [
      "2025-09-17 13:33:37 | [DCA] fold 2 | HVG=2000\n",
      "2025-09-17 13:33:37 | [DCA] fit hidden=[128, 64, 128] epochs=100 bs=64\n",
      "2025-09-17 13:33:37 | X_train: dense  (298, 2000) dtype=int64\n",
      "2025-09-17 13:33:37 | [time] [DCA] fold 2 predict mu_va start\n",
      "2025-09-17 13:33:37 | [DCA] predict_mean\n",
      "2025-09-17 13:33:37 | [time] [DCA] train(dca.api.dca) start\n",
      "dca: Successfully preprocessed 2000 genes and 447 cells.\n"
     ]
    },
    {
     "name": "stderr",
     "output_type": "stream",
     "text": [
      "2025-09-17 13:33:37.460199: W tensorflow/c/c_api.cc:305] Operation '{name:'batch_normalization_2/beta/Assign' id:174 op device:{requested: '', assigned: ''} def:{{{node batch_normalization_2/beta/Assign}} = AssignVariableOp[_has_manual_control_dependencies=true, dtype=DT_FLOAT, validate_shape=false](batch_normalization_2/beta, batch_normalization_2/beta/Initializer/zeros)}}' was changed by setting attribute after it was run by a session. This mutation will have no effect, and will trigger an error in the future. Either don't modify nodes after running them or create a new session.\n",
      "2025-09-17 13:33:37.910981: W tensorflow/c/c_api.cc:305] Operation '{name:'batch_normalization_2/cond_3/Identity' id:205 op device:{requested: '', assigned: ''} def:{{{node batch_normalization_2/cond_3/Identity}} = Identity[T=DT_FLOAT, _has_manual_control_dependencies=true](batch_normalization_2/cond_3)}}' was changed by setting attribute after it was run by a session. This mutation will have no effect, and will trigger an error in the future. Either don't modify nodes after running them or create a new session.\n",
      "2025-09-17 13:33:37.960280: W tensorflow/c/c_api.cc:305] Operation '{name:'training/RMSprop/batch_normalization_1/beta/rms/Assign' id:895 op device:{requested: '', assigned: ''} def:{{{node training/RMSprop/batch_normalization_1/beta/rms/Assign}} = AssignVariableOp[_has_manual_control_dependencies=true, dtype=DT_FLOAT, validate_shape=false](training/RMSprop/batch_normalization_1/beta/rms, training/RMSprop/batch_normalization_1/beta/rms/Initializer/zeros)}}' was changed by setting attribute after it was run by a session. This mutation will have no effect, and will trigger an error in the future. Either don't modify nodes after running them or create a new session.\n",
      "/home/ma/ma_ma/ma_minjlee/.conda/envs/dca_gpu/lib/python3.10/site-packages/keras/src/engine/training_v1.py:2335: UserWarning: `Model.state_updates` will be removed in a future version. This property should not be used in TensorFlow 2.0, as `updates` are applied automatically.\n",
      "  updates = self.state_updates\n",
      "2025-09-17 13:33:38.457565: W tensorflow/c/c_api.cc:305] Operation '{name:'loss/AddN_1' id:374 op device:{requested: '', assigned: ''} def:{{{node loss/AddN_1}} = AddN[N=2, T=DT_FLOAT, _has_manual_control_dependencies=true](loss/mul, loss/AddN)}}' was changed by setting attribute after it was run by a session. This mutation will have no effect, and will trigger an error in the future. Either don't modify nodes after running them or create a new session.\n"
     ]
    },
    {
     "name": "stdout",
     "output_type": "stream",
     "text": [
      "dca: Calculating reconstructions...\n",
      "2025-09-17 13:34:04 | [time] [DCA] train(dca.api.dca) end in 26.96s\n",
      "2025-09-17 13:34:04 | [time] [DCA] fold 2 predict mu_va end in 26.97s\n"
     ]
    },
    {
     "name": "stderr",
     "output_type": "stream",
     "text": [
      "/home/ma/ma_ma/ma_minjlee/.conda/envs/dca_gpu/lib/python3.10/site-packages/keras/src/engine/training_v1.py:2359: UserWarning: `Model.state_updates` will be removed in a future version. This property should not be used in TensorFlow 2.0, as `updates` are applied automatically.\n",
      "  updates=self.state_updates,\n",
      "2025-09-17 13:34:04.070061: W tensorflow/c/c_api.cc:305] Operation '{name:'slice/slice/Identity' id:303 op device:{requested: '', assigned: ''} def:{{{node slice/slice/Identity}} = Identity[T=DT_FLOAT, _has_manual_control_dependencies=true](lambda_1/mul)}}' was changed by setting attribute after it was run by a session. This mutation will have no effect, and will trigger an error in the future. Either don't modify nodes after running them or create a new session.\n"
     ]
    },
    {
     "name": "stdout",
     "output_type": "stream",
     "text": [
      "2025-09-17 13:34:04 | [time] [DCA] fold 2/3 end in 27.72s\n",
      "2025-09-17 13:34:04 | [time] [DCA] fold 3/3 start\n",
      "2025-09-17 13:34:04 | X_tr: dense  (298, 51777) dtype=int64\n",
      "2025-09-17 13:34:04 | X_va: dense  (149, 51777) dtype=int64\n"
     ]
    },
    {
     "name": "stderr",
     "output_type": "stream",
     "text": [
      "/home/ma/ma_ma/ma_minjlee/.conda/envs/dca_gpu/lib/python3.10/site-packages/scanpy/preprocessing/_highly_variable_genes.py:64: UserWarning: `flavor='seurat_v3'` expects raw count data, but non-integers were found.\n",
      "  warnings.warn(\n"
     ]
    },
    {
     "name": "stdout",
     "output_type": "stream",
     "text": [
      "2025-09-17 13:34:30 | [DCA] fold 3 | HVG=2000\n",
      "2025-09-17 13:34:30 | [DCA] fit hidden=[128, 64, 128] epochs=100 bs=64\n",
      "2025-09-17 13:34:30 | X_train: dense  (298, 2000) dtype=int64\n",
      "2025-09-17 13:34:30 | [time] [DCA] fold 3 predict mu_va start\n",
      "2025-09-17 13:34:30 | [DCA] predict_mean\n",
      "2025-09-17 13:34:30 | [time] [DCA] train(dca.api.dca) start\n",
      "dca: Successfully preprocessed 2000 genes and 447 cells.\n"
     ]
    },
    {
     "name": "stderr",
     "output_type": "stream",
     "text": [
      "2025-09-17 13:34:30.740944: W tensorflow/c/c_api.cc:305] Operation '{name:'dec1/kernel/Assign' id:160 op device:{requested: '', assigned: ''} def:{{{node dec1/kernel/Assign}} = AssignVariableOp[_has_manual_control_dependencies=true, dtype=DT_FLOAT, validate_shape=false](dec1/kernel, dec1/kernel/Initializer/stateless_random_uniform)}}' was changed by setting attribute after it was run by a session. This mutation will have no effect, and will trigger an error in the future. Either don't modify nodes after running them or create a new session.\n",
      "2025-09-17 13:34:31.218052: W tensorflow/c/c_api.cc:305] Operation '{name:'batch_normalization_2/cond_3/Identity' id:205 op device:{requested: '', assigned: ''} def:{{{node batch_normalization_2/cond_3/Identity}} = Identity[T=DT_FLOAT, _has_manual_control_dependencies=true](batch_normalization_2/cond_3)}}' was changed by setting attribute after it was run by a session. This mutation will have no effect, and will trigger an error in the future. Either don't modify nodes after running them or create a new session.\n",
      "2025-09-17 13:34:31.267736: W tensorflow/c/c_api.cc:305] Operation '{name:'training/RMSprop/mean/kernel/rms/Assign' id:919 op device:{requested: '', assigned: ''} def:{{{node training/RMSprop/mean/kernel/rms/Assign}} = AssignVariableOp[_has_manual_control_dependencies=true, dtype=DT_FLOAT, validate_shape=false](training/RMSprop/mean/kernel/rms, training/RMSprop/mean/kernel/rms/Initializer/zeros)}}' was changed by setting attribute after it was run by a session. This mutation will have no effect, and will trigger an error in the future. Either don't modify nodes after running them or create a new session.\n",
      "/home/ma/ma_ma/ma_minjlee/.conda/envs/dca_gpu/lib/python3.10/site-packages/keras/src/engine/training_v1.py:2335: UserWarning: `Model.state_updates` will be removed in a future version. This property should not be used in TensorFlow 2.0, as `updates` are applied automatically.\n",
      "  updates = self.state_updates\n",
      "2025-09-17 13:34:31.856757: W tensorflow/c/c_api.cc:305] Operation '{name:'loss/AddN_1' id:374 op device:{requested: '', assigned: ''} def:{{{node loss/AddN_1}} = AddN[N=2, T=DT_FLOAT, _has_manual_control_dependencies=true](loss/mul, loss/AddN)}}' was changed by setting attribute after it was run by a session. This mutation will have no effect, and will trigger an error in the future. Either don't modify nodes after running them or create a new session.\n"
     ]
    },
    {
     "name": "stdout",
     "output_type": "stream",
     "text": [
      "dca: Calculating reconstructions...\n",
      "2025-09-17 13:34:56 | [time] [DCA] train(dca.api.dca) end in 25.97s\n",
      "2025-09-17 13:34:56 | [time] [DCA] fold 3 predict mu_va end in 25.98s\n",
      "2025-09-17 13:34:56 | [time] [DCA] fold 3/3 end in 52.27s\n"
     ]
    },
    {
     "name": "stderr",
     "output_type": "stream",
     "text": [
      "/home/ma/ma_ma/ma_minjlee/.conda/envs/dca_gpu/lib/python3.10/site-packages/keras/src/engine/training_v1.py:2359: UserWarning: `Model.state_updates` will be removed in a future version. This property should not be used in TensorFlow 2.0, as `updates` are applied automatically.\n",
      "  updates=self.state_updates,\n",
      "2025-09-17 13:34:56.355862: W tensorflow/c/c_api.cc:305] Operation '{name:'slice/slice/Identity' id:303 op device:{requested: '', assigned: ''} def:{{{node slice/slice/Identity}} = Identity[T=DT_FLOAT, _has_manual_control_dependencies=true](lambda_1/mul)}}' was changed by setting attribute after it was run by a session. This mutation will have no effect, and will trigger an error in the future. Either don't modify nodes after running them or create a new session.\n"
     ]
    },
    {
     "name": "stdout",
     "output_type": "stream",
     "text": [
      "2025-09-17 13:34:56 | [cv_dca_5fold] done\n"
     ]
    },
    {
     "name": "stderr",
     "output_type": "stream",
     "text": [
      "[I 2025-09-17 13:34:56,565] Trial 9 finished with value: -4.40906946687609 and parameters: {'h1': 128, 'h2': 64, 'h3': 128, 'epochs': 100, 'batch_size': 64, 'n_hvg': 2000}. Best is trial 6 with value: -4.399647434015976.\n"
     ]
    },
    {
     "name": "stdout",
     "output_type": "stream",
     "text": [
      "2025-09-17 13:34:57 | [cv_dca_5fold] start k=3 n_hvg=800 mode=seurat_v3 R=1 mask_frac=0.1 thinning_p=0.1\n",
      "2025-09-17 13:34:57 | X_counts: dense  (447, 51777) dtype=int64\n",
      "2025-09-17 13:34:57 | X_counts: zeros=66.23%, approx_int=True\n",
      "2025-09-17 13:34:57 | [time] [DCA] fold 1/3 start\n",
      "2025-09-17 13:34:57 | X_tr: dense  (298, 51777) dtype=int64\n",
      "2025-09-17 13:34:57 | X_va: dense  (149, 51777) dtype=int64\n"
     ]
    },
    {
     "name": "stderr",
     "output_type": "stream",
     "text": [
      "/home/ma/ma_ma/ma_minjlee/.conda/envs/dca_gpu/lib/python3.10/site-packages/scanpy/preprocessing/_highly_variable_genes.py:64: UserWarning: `flavor='seurat_v3'` expects raw count data, but non-integers were found.\n",
      "  warnings.warn(\n"
     ]
    },
    {
     "name": "stdout",
     "output_type": "stream",
     "text": [
      "2025-09-17 13:34:58 | [DCA] fold 1 | HVG=800\n",
      "2025-09-17 13:34:58 | [DCA] fit hidden=[32, 64, 128] epochs=50 bs=64\n",
      "2025-09-17 13:34:58 | X_train: dense  (298, 800) dtype=int64\n",
      "2025-09-17 13:34:58 | [time] [DCA] fold 1 predict mu_va start\n",
      "2025-09-17 13:34:58 | [DCA] predict_mean\n",
      "2025-09-17 13:34:58 | [time] [DCA] train(dca.api.dca) start\n",
      "dca: Successfully preprocessed 800 genes and 447 cells.\n"
     ]
    },
    {
     "name": "stderr",
     "output_type": "stream",
     "text": [
      "2025-09-17 13:34:58.307982: W tensorflow/c/c_api.cc:305] Operation '{name:'batch_normalization_1/moving_variance/Assign' id:113 op device:{requested: '', assigned: ''} def:{{{node batch_normalization_1/moving_variance/Assign}} = AssignVariableOp[_has_manual_control_dependencies=true, dtype=DT_FLOAT, validate_shape=false](batch_normalization_1/moving_variance, batch_normalization_1/moving_variance/Initializer/ones)}}' was changed by setting attribute after it was run by a session. This mutation will have no effect, and will trigger an error in the future. Either don't modify nodes after running them or create a new session.\n",
      "2025-09-17 13:34:58.728996: W tensorflow/c/c_api.cc:305] Operation '{name:'batch_normalization_2/cond_3/Identity' id:205 op device:{requested: '', assigned: ''} def:{{{node batch_normalization_2/cond_3/Identity}} = Identity[T=DT_FLOAT, _has_manual_control_dependencies=true](batch_normalization_2/cond_3)}}' was changed by setting attribute after it was run by a session. This mutation will have no effect, and will trigger an error in the future. Either don't modify nodes after running them or create a new session.\n",
      "2025-09-17 13:34:58.778509: W tensorflow/c/c_api.cc:305] Operation '{name:'training/RMSprop/enc0/bias/rms/Assign' id:869 op device:{requested: '', assigned: ''} def:{{{node training/RMSprop/enc0/bias/rms/Assign}} = AssignVariableOp[_has_manual_control_dependencies=true, dtype=DT_FLOAT, validate_shape=false](training/RMSprop/enc0/bias/rms, training/RMSprop/enc0/bias/rms/Initializer/zeros)}}' was changed by setting attribute after it was run by a session. This mutation will have no effect, and will trigger an error in the future. Either don't modify nodes after running them or create a new session.\n",
      "/home/ma/ma_ma/ma_minjlee/.conda/envs/dca_gpu/lib/python3.10/site-packages/keras/src/engine/training_v1.py:2335: UserWarning: `Model.state_updates` will be removed in a future version. This property should not be used in TensorFlow 2.0, as `updates` are applied automatically.\n",
      "  updates = self.state_updates\n",
      "2025-09-17 13:34:59.139082: W tensorflow/c/c_api.cc:305] Operation '{name:'loss/AddN_1' id:370 op device:{requested: '', assigned: ''} def:{{{node loss/AddN_1}} = AddN[N=2, T=DT_FLOAT, _has_manual_control_dependencies=true](loss/mul, loss/AddN)}}' was changed by setting attribute after it was run by a session. This mutation will have no effect, and will trigger an error in the future. Either don't modify nodes after running them or create a new session.\n"
     ]
    },
    {
     "name": "stdout",
     "output_type": "stream",
     "text": [
      "dca: Calculating reconstructions...\n",
      "2025-09-17 13:35:01 | [time] [DCA] train(dca.api.dca) end in 3.69s\n",
      "2025-09-17 13:35:01 | [time] [DCA] fold 1 predict mu_va end in 3.70s\n",
      "2025-09-17 13:35:01 | [time] [DCA] fold 1/3 end in 4.37s\n",
      "2025-09-17 13:35:01 | [time] [DCA] fold 2/3 start\n",
      "2025-09-17 13:35:01 | X_tr: dense  (298, 51777) dtype=int64\n",
      "2025-09-17 13:35:01 | X_va: dense  (149, 51777) dtype=int64\n"
     ]
    },
    {
     "name": "stderr",
     "output_type": "stream",
     "text": [
      "/home/ma/ma_ma/ma_minjlee/.conda/envs/dca_gpu/lib/python3.10/site-packages/keras/src/engine/training_v1.py:2359: UserWarning: `Model.state_updates` will be removed in a future version. This property should not be used in TensorFlow 2.0, as `updates` are applied automatically.\n",
      "  updates=self.state_updates,\n",
      "2025-09-17 13:35:01.644842: W tensorflow/c/c_api.cc:305] Operation '{name:'slice/slice/Identity' id:299 op device:{requested: '', assigned: ''} def:{{{node slice/slice/Identity}} = Identity[T=DT_FLOAT, _has_manual_control_dependencies=true](lambda_1/mul)}}' was changed by setting attribute after it was run by a session. This mutation will have no effect, and will trigger an error in the future. Either don't modify nodes after running them or create a new session.\n",
      "/home/ma/ma_ma/ma_minjlee/.conda/envs/dca_gpu/lib/python3.10/site-packages/scanpy/preprocessing/_highly_variable_genes.py:64: UserWarning: `flavor='seurat_v3'` expects raw count data, but non-integers were found.\n",
      "  warnings.warn(\n"
     ]
    },
    {
     "name": "stdout",
     "output_type": "stream",
     "text": [
      "2025-09-17 13:35:02 | [DCA] fold 2 | HVG=800\n",
      "2025-09-17 13:35:02 | [DCA] fit hidden=[32, 64, 128] epochs=50 bs=64\n",
      "2025-09-17 13:35:02 | X_train: dense  (298, 800) dtype=int64\n",
      "2025-09-17 13:35:02 | [time] [DCA] fold 2 predict mu_va start\n",
      "2025-09-17 13:35:02 | [DCA] predict_mean\n",
      "2025-09-17 13:35:02 | [time] [DCA] train(dca.api.dca) start\n",
      "dca: Successfully preprocessed 800 genes and 447 cells.\n"
     ]
    },
    {
     "name": "stderr",
     "output_type": "stream",
     "text": [
      "2025-09-17 13:35:02.728497: W tensorflow/c/c_api.cc:305] Operation '{name:'batch_normalization_2/moving_variance/Assign' id:184 op device:{requested: '', assigned: ''} def:{{{node batch_normalization_2/moving_variance/Assign}} = AssignVariableOp[_has_manual_control_dependencies=true, dtype=DT_FLOAT, validate_shape=false](batch_normalization_2/moving_variance, batch_normalization_2/moving_variance/Initializer/ones)}}' was changed by setting attribute after it was run by a session. This mutation will have no effect, and will trigger an error in the future. Either don't modify nodes after running them or create a new session.\n",
      "2025-09-17 13:35:03.146062: W tensorflow/c/c_api.cc:305] Operation '{name:'batch_normalization_2/cond_3/Identity' id:205 op device:{requested: '', assigned: ''} def:{{{node batch_normalization_2/cond_3/Identity}} = Identity[T=DT_FLOAT, _has_manual_control_dependencies=true](batch_normalization_2/cond_3)}}' was changed by setting attribute after it was run by a session. This mutation will have no effect, and will trigger an error in the future. Either don't modify nodes after running them or create a new session.\n",
      "2025-09-17 13:35:03.195265: W tensorflow/c/c_api.cc:305] Operation '{name:'training/RMSprop/batch_normalization_1/beta/rms/Assign' id:891 op device:{requested: '', assigned: ''} def:{{{node training/RMSprop/batch_normalization_1/beta/rms/Assign}} = AssignVariableOp[_has_manual_control_dependencies=true, dtype=DT_FLOAT, validate_shape=false](training/RMSprop/batch_normalization_1/beta/rms, training/RMSprop/batch_normalization_1/beta/rms/Initializer/zeros)}}' was changed by setting attribute after it was run by a session. This mutation will have no effect, and will trigger an error in the future. Either don't modify nodes after running them or create a new session.\n",
      "/home/ma/ma_ma/ma_minjlee/.conda/envs/dca_gpu/lib/python3.10/site-packages/keras/src/engine/training_v1.py:2335: UserWarning: `Model.state_updates` will be removed in a future version. This property should not be used in TensorFlow 2.0, as `updates` are applied automatically.\n",
      "  updates = self.state_updates\n",
      "2025-09-17 13:35:03.546776: W tensorflow/c/c_api.cc:305] Operation '{name:'loss/AddN_1' id:370 op device:{requested: '', assigned: ''} def:{{{node loss/AddN_1}} = AddN[N=2, T=DT_FLOAT, _has_manual_control_dependencies=true](loss/mul, loss/AddN)}}' was changed by setting attribute after it was run by a session. This mutation will have no effect, and will trigger an error in the future. Either don't modify nodes after running them or create a new session.\n"
     ]
    },
    {
     "name": "stdout",
     "output_type": "stream",
     "text": [
      "dca: Calculating reconstructions...\n",
      "2025-09-17 13:35:06 | [time] [DCA] train(dca.api.dca) end in 3.89s\n",
      "2025-09-17 13:35:06 | [time] [DCA] fold 2 predict mu_va end in 3.90s\n",
      "2025-09-17 13:35:06 | [time] [DCA] fold 2/3 end in 4.62s\n",
      "2025-09-17 13:35:06 | [time] [DCA] fold 3/3 start\n",
      "2025-09-17 13:35:06 | X_tr: dense  (298, 51777) dtype=int64\n",
      "2025-09-17 13:35:06 | X_va: dense  (149, 51777) dtype=int64\n"
     ]
    },
    {
     "name": "stderr",
     "output_type": "stream",
     "text": [
      "/home/ma/ma_ma/ma_minjlee/.conda/envs/dca_gpu/lib/python3.10/site-packages/keras/src/engine/training_v1.py:2359: UserWarning: `Model.state_updates` will be removed in a future version. This property should not be used in TensorFlow 2.0, as `updates` are applied automatically.\n",
      "  updates=self.state_updates,\n",
      "2025-09-17 13:35:06.269289: W tensorflow/c/c_api.cc:305] Operation '{name:'slice/slice/Identity' id:299 op device:{requested: '', assigned: ''} def:{{{node slice/slice/Identity}} = Identity[T=DT_FLOAT, _has_manual_control_dependencies=true](lambda_1/mul)}}' was changed by setting attribute after it was run by a session. This mutation will have no effect, and will trigger an error in the future. Either don't modify nodes after running them or create a new session.\n",
      "/home/ma/ma_ma/ma_minjlee/.conda/envs/dca_gpu/lib/python3.10/site-packages/scanpy/preprocessing/_highly_variable_genes.py:64: UserWarning: `flavor='seurat_v3'` expects raw count data, but non-integers were found.\n",
      "  warnings.warn(\n"
     ]
    },
    {
     "name": "stdout",
     "output_type": "stream",
     "text": [
      "2025-09-17 13:35:37 | [DCA] fold 3 | HVG=800\n",
      "2025-09-17 13:35:37 | [DCA] fit hidden=[32, 64, 128] epochs=50 bs=64\n",
      "2025-09-17 13:35:37 | X_train: dense  (298, 800) dtype=int64\n",
      "2025-09-17 13:35:37 | [time] [DCA] fold 3 predict mu_va start\n",
      "2025-09-17 13:35:37 | [DCA] predict_mean\n",
      "2025-09-17 13:35:37 | [time] [DCA] train(dca.api.dca) start\n",
      "dca: Successfully preprocessed 800 genes and 447 cells.\n"
     ]
    },
    {
     "name": "stderr",
     "output_type": "stream",
     "text": [
      "2025-09-17 13:35:37.527884: W tensorflow/c/c_api.cc:305] Operation '{name:'batch_normalization_2/moving_mean/Assign' id:179 op device:{requested: '', assigned: ''} def:{{{node batch_normalization_2/moving_mean/Assign}} = AssignVariableOp[_has_manual_control_dependencies=true, dtype=DT_FLOAT, validate_shape=false](batch_normalization_2/moving_mean, batch_normalization_2/moving_mean/Initializer/zeros)}}' was changed by setting attribute after it was run by a session. This mutation will have no effect, and will trigger an error in the future. Either don't modify nodes after running them or create a new session.\n",
      "2025-09-17 13:35:37.974420: W tensorflow/c/c_api.cc:305] Operation '{name:'batch_normalization_2/cond_3/Identity' id:205 op device:{requested: '', assigned: ''} def:{{{node batch_normalization_2/cond_3/Identity}} = Identity[T=DT_FLOAT, _has_manual_control_dependencies=true](batch_normalization_2/cond_3)}}' was changed by setting attribute after it was run by a session. This mutation will have no effect, and will trigger an error in the future. Either don't modify nodes after running them or create a new session.\n",
      "2025-09-17 13:35:38.023532: W tensorflow/c/c_api.cc:305] Operation '{name:'training/RMSprop/dispersion/kernel/rms/Assign' id:927 op device:{requested: '', assigned: ''} def:{{{node training/RMSprop/dispersion/kernel/rms/Assign}} = AssignVariableOp[_has_manual_control_dependencies=true, dtype=DT_FLOAT, validate_shape=false](training/RMSprop/dispersion/kernel/rms, training/RMSprop/dispersion/kernel/rms/Initializer/zeros)}}' was changed by setting attribute after it was run by a session. This mutation will have no effect, and will trigger an error in the future. Either don't modify nodes after running them or create a new session.\n",
      "/home/ma/ma_ma/ma_minjlee/.conda/envs/dca_gpu/lib/python3.10/site-packages/keras/src/engine/training_v1.py:2335: UserWarning: `Model.state_updates` will be removed in a future version. This property should not be used in TensorFlow 2.0, as `updates` are applied automatically.\n",
      "  updates = self.state_updates\n",
      "2025-09-17 13:35:38.379351: W tensorflow/c/c_api.cc:305] Operation '{name:'loss/AddN_1' id:370 op device:{requested: '', assigned: ''} def:{{{node loss/AddN_1}} = AddN[N=2, T=DT_FLOAT, _has_manual_control_dependencies=true](loss/mul, loss/AddN)}}' was changed by setting attribute after it was run by a session. This mutation will have no effect, and will trigger an error in the future. Either don't modify nodes after running them or create a new session.\n"
     ]
    },
    {
     "name": "stdout",
     "output_type": "stream",
     "text": [
      "dca: Calculating reconstructions...\n",
      "2025-09-17 13:35:41 | [time] [DCA] train(dca.api.dca) end in 3.94s\n",
      "2025-09-17 13:35:41 | [time] [DCA] fold 3 predict mu_va end in 3.95s\n",
      "2025-09-17 13:35:41 | [time] [DCA] fold 3/3 end in 34.87s\n",
      "2025-09-17 13:35:41 | [cv_dca_5fold] done\n"
     ]
    },
    {
     "name": "stderr",
     "output_type": "stream",
     "text": [
      "/home/ma/ma_ma/ma_minjlee/.conda/envs/dca_gpu/lib/python3.10/site-packages/keras/src/engine/training_v1.py:2359: UserWarning: `Model.state_updates` will be removed in a future version. This property should not be used in TensorFlow 2.0, as `updates` are applied automatically.\n",
      "  updates=self.state_updates,\n",
      "2025-09-17 13:35:41.140185: W tensorflow/c/c_api.cc:305] Operation '{name:'slice/slice/Identity' id:299 op device:{requested: '', assigned: ''} def:{{{node slice/slice/Identity}} = Identity[T=DT_FLOAT, _has_manual_control_dependencies=true](lambda_1/mul)}}' was changed by setting attribute after it was run by a session. This mutation will have no effect, and will trigger an error in the future. Either don't modify nodes after running them or create a new session.\n",
      "[I 2025-09-17 13:35:41,276] Trial 10 finished with value: -4.860392156943167 and parameters: {'h1': 32, 'h2': 64, 'h3': 128, 'epochs': 50, 'batch_size': 64, 'n_hvg': 800}. Best is trial 6 with value: -4.399647434015976.\n"
     ]
    },
    {
     "name": "stdout",
     "output_type": "stream",
     "text": [
      "2025-09-17 13:35:41 | [cv_dca_5fold] start k=3 n_hvg=2000 mode=seurat_v3 R=1 mask_frac=0.1 thinning_p=0.1\n",
      "2025-09-17 13:35:41 | X_counts: dense  (447, 51777) dtype=int64\n",
      "2025-09-17 13:35:42 | X_counts: zeros=66.23%, approx_int=True\n",
      "2025-09-17 13:35:42 | [time] [DCA] fold 1/3 start\n",
      "2025-09-17 13:35:42 | X_tr: dense  (298, 51777) dtype=int64\n",
      "2025-09-17 13:35:42 | X_va: dense  (149, 51777) dtype=int64\n"
     ]
    },
    {
     "name": "stderr",
     "output_type": "stream",
     "text": [
      "/home/ma/ma_ma/ma_minjlee/.conda/envs/dca_gpu/lib/python3.10/site-packages/scanpy/preprocessing/_highly_variable_genes.py:64: UserWarning: `flavor='seurat_v3'` expects raw count data, but non-integers were found.\n",
      "  warnings.warn(\n"
     ]
    },
    {
     "name": "stdout",
     "output_type": "stream",
     "text": [
      "2025-09-17 13:35:42 | [DCA] fold 1 | HVG=2000\n",
      "2025-09-17 13:35:42 | [DCA] fit hidden=[32, 64, 128] epochs=100 bs=64\n",
      "2025-09-17 13:35:42 | X_train: dense  (298, 2000) dtype=int64\n",
      "2025-09-17 13:35:42 | [time] [DCA] fold 1 predict mu_va start\n",
      "2025-09-17 13:35:42 | [DCA] predict_mean\n",
      "2025-09-17 13:35:42 | [time] [DCA] train(dca.api.dca) start\n",
      "dca: Successfully preprocessed 2000 genes and 447 cells.\n"
     ]
    },
    {
     "name": "stderr",
     "output_type": "stream",
     "text": [
      "2025-09-17 13:35:42.986003: W tensorflow/c/c_api.cc:305] Operation '{name:'center/kernel/Assign' id:89 op device:{requested: '', assigned: ''} def:{{{node center/kernel/Assign}} = AssignVariableOp[_has_manual_control_dependencies=true, dtype=DT_FLOAT, validate_shape=false](center/kernel, center/kernel/Initializer/stateless_random_uniform)}}' was changed by setting attribute after it was run by a session. This mutation will have no effect, and will trigger an error in the future. Either don't modify nodes after running them or create a new session.\n",
      "2025-09-17 13:35:43.434542: W tensorflow/c/c_api.cc:305] Operation '{name:'batch_normalization_2/cond_3/Identity' id:205 op device:{requested: '', assigned: ''} def:{{{node batch_normalization_2/cond_3/Identity}} = Identity[T=DT_FLOAT, _has_manual_control_dependencies=true](batch_normalization_2/cond_3)}}' was changed by setting attribute after it was run by a session. This mutation will have no effect, and will trigger an error in the future. Either don't modify nodes after running them or create a new session.\n",
      "2025-09-17 13:35:43.483882: W tensorflow/c/c_api.cc:305] Operation '{name:'training/RMSprop/mean/kernel/rms/Assign' id:919 op device:{requested: '', assigned: ''} def:{{{node training/RMSprop/mean/kernel/rms/Assign}} = AssignVariableOp[_has_manual_control_dependencies=true, dtype=DT_FLOAT, validate_shape=false](training/RMSprop/mean/kernel/rms, training/RMSprop/mean/kernel/rms/Initializer/zeros)}}' was changed by setting attribute after it was run by a session. This mutation will have no effect, and will trigger an error in the future. Either don't modify nodes after running them or create a new session.\n",
      "/home/ma/ma_ma/ma_minjlee/.conda/envs/dca_gpu/lib/python3.10/site-packages/keras/src/engine/training_v1.py:2335: UserWarning: `Model.state_updates` will be removed in a future version. This property should not be used in TensorFlow 2.0, as `updates` are applied automatically.\n",
      "  updates = self.state_updates\n",
      "2025-09-17 13:35:43.902984: W tensorflow/c/c_api.cc:305] Operation '{name:'loss/AddN_1' id:374 op device:{requested: '', assigned: ''} def:{{{node loss/AddN_1}} = AddN[N=2, T=DT_FLOAT, _has_manual_control_dependencies=true](loss/mul, loss/AddN)}}' was changed by setting attribute after it was run by a session. This mutation will have no effect, and will trigger an error in the future. Either don't modify nodes after running them or create a new session.\n"
     ]
    },
    {
     "name": "stdout",
     "output_type": "stream",
     "text": [
      "dca: Calculating reconstructions...\n",
      "2025-09-17 13:36:03 | [time] [DCA] train(dca.api.dca) end in 20.92s\n",
      "2025-09-17 13:36:03 | [time] [DCA] fold 1 predict mu_va end in 20.92s\n",
      "2025-09-17 13:36:03 | [time] [DCA] fold 1/3 end in 21.66s\n",
      "2025-09-17 13:36:03 | [time] [DCA] fold 2/3 start\n"
     ]
    },
    {
     "name": "stderr",
     "output_type": "stream",
     "text": [
      "/home/ma/ma_ma/ma_minjlee/.conda/envs/dca_gpu/lib/python3.10/site-packages/keras/src/engine/training_v1.py:2359: UserWarning: `Model.state_updates` will be removed in a future version. This property should not be used in TensorFlow 2.0, as `updates` are applied automatically.\n",
      "  updates=self.state_updates,\n",
      "2025-09-17 13:36:03.559514: W tensorflow/c/c_api.cc:305] Operation '{name:'slice/slice/Identity' id:303 op device:{requested: '', assigned: ''} def:{{{node slice/slice/Identity}} = Identity[T=DT_FLOAT, _has_manual_control_dependencies=true](lambda_1/mul)}}' was changed by setting attribute after it was run by a session. This mutation will have no effect, and will trigger an error in the future. Either don't modify nodes after running them or create a new session.\n"
     ]
    },
    {
     "name": "stdout",
     "output_type": "stream",
     "text": [
      "2025-09-17 13:36:03 | X_tr: dense  (298, 51777) dtype=int64\n",
      "2025-09-17 13:36:03 | X_va: dense  (149, 51777) dtype=int64\n"
     ]
    },
    {
     "name": "stderr",
     "output_type": "stream",
     "text": [
      "/home/ma/ma_ma/ma_minjlee/.conda/envs/dca_gpu/lib/python3.10/site-packages/scanpy/preprocessing/_highly_variable_genes.py:64: UserWarning: `flavor='seurat_v3'` expects raw count data, but non-integers were found.\n",
      "  warnings.warn(\n"
     ]
    },
    {
     "name": "stdout",
     "output_type": "stream",
     "text": [
      "2025-09-17 13:36:04 | [DCA] fold 2 | HVG=2000\n",
      "2025-09-17 13:36:04 | [DCA] fit hidden=[32, 64, 128] epochs=100 bs=64\n",
      "2025-09-17 13:36:04 | X_train: dense  (298, 2000) dtype=int64\n",
      "2025-09-17 13:36:04 | [time] [DCA] fold 2 predict mu_va start\n",
      "2025-09-17 13:36:04 | [DCA] predict_mean\n",
      "2025-09-17 13:36:04 | [time] [DCA] train(dca.api.dca) start\n",
      "dca: Successfully preprocessed 2000 genes and 447 cells.\n"
     ]
    },
    {
     "name": "stderr",
     "output_type": "stream",
     "text": [
      "2025-09-17 13:36:04.784035: W tensorflow/c/c_api.cc:305] Operation '{name:'dec1/kernel/Assign' id:160 op device:{requested: '', assigned: ''} def:{{{node dec1/kernel/Assign}} = AssignVariableOp[_has_manual_control_dependencies=true, dtype=DT_FLOAT, validate_shape=false](dec1/kernel, dec1/kernel/Initializer/stateless_random_uniform)}}' was changed by setting attribute after it was run by a session. This mutation will have no effect, and will trigger an error in the future. Either don't modify nodes after running them or create a new session.\n",
      "2025-09-17 13:36:05.240509: W tensorflow/c/c_api.cc:305] Operation '{name:'batch_normalization_2/cond_3/Identity' id:205 op device:{requested: '', assigned: ''} def:{{{node batch_normalization_2/cond_3/Identity}} = Identity[T=DT_FLOAT, _has_manual_control_dependencies=true](batch_normalization_2/cond_3)}}' was changed by setting attribute after it was run by a session. This mutation will have no effect, and will trigger an error in the future. Either don't modify nodes after running them or create a new session.\n",
      "2025-09-17 13:36:05.290306: W tensorflow/c/c_api.cc:305] Operation '{name:'training/RMSprop/batch_normalization_1/beta/rms/Assign' id:895 op device:{requested: '', assigned: ''} def:{{{node training/RMSprop/batch_normalization_1/beta/rms/Assign}} = AssignVariableOp[_has_manual_control_dependencies=true, dtype=DT_FLOAT, validate_shape=false](training/RMSprop/batch_normalization_1/beta/rms, training/RMSprop/batch_normalization_1/beta/rms/Initializer/zeros)}}' was changed by setting attribute after it was run by a session. This mutation will have no effect, and will trigger an error in the future. Either don't modify nodes after running them or create a new session.\n",
      "/home/ma/ma_ma/ma_minjlee/.conda/envs/dca_gpu/lib/python3.10/site-packages/keras/src/engine/training_v1.py:2335: UserWarning: `Model.state_updates` will be removed in a future version. This property should not be used in TensorFlow 2.0, as `updates` are applied automatically.\n",
      "  updates = self.state_updates\n",
      "2025-09-17 13:36:05.693348: W tensorflow/c/c_api.cc:305] Operation '{name:'loss/AddN_1' id:374 op device:{requested: '', assigned: ''} def:{{{node loss/AddN_1}} = AddN[N=2, T=DT_FLOAT, _has_manual_control_dependencies=true](loss/mul, loss/AddN)}}' was changed by setting attribute after it was run by a session. This mutation will have no effect, and will trigger an error in the future. Either don't modify nodes after running them or create a new session.\n"
     ]
    },
    {
     "name": "stdout",
     "output_type": "stream",
     "text": [
      "dca: Calculating reconstructions...\n",
      "2025-09-17 13:36:26 | [time] [DCA] train(dca.api.dca) end in 21.63s\n",
      "2025-09-17 13:36:26 | [time] [DCA] fold 2 predict mu_va end in 21.64s\n",
      "2025-09-17 13:36:26 | [time] [DCA] fold 2/3 end in 22.51s\n",
      "2025-09-17 13:36:26 | [time] [DCA] fold 3/3 start\n"
     ]
    },
    {
     "name": "stderr",
     "output_type": "stream",
     "text": [
      "/home/ma/ma_ma/ma_minjlee/.conda/envs/dca_gpu/lib/python3.10/site-packages/keras/src/engine/training_v1.py:2359: UserWarning: `Model.state_updates` will be removed in a future version. This property should not be used in TensorFlow 2.0, as `updates` are applied automatically.\n",
      "  updates=self.state_updates,\n",
      "2025-09-17 13:36:26.070023: W tensorflow/c/c_api.cc:305] Operation '{name:'slice/slice/Identity' id:303 op device:{requested: '', assigned: ''} def:{{{node slice/slice/Identity}} = Identity[T=DT_FLOAT, _has_manual_control_dependencies=true](lambda_1/mul)}}' was changed by setting attribute after it was run by a session. This mutation will have no effect, and will trigger an error in the future. Either don't modify nodes after running them or create a new session.\n"
     ]
    },
    {
     "name": "stdout",
     "output_type": "stream",
     "text": [
      "2025-09-17 13:36:26 | X_tr: dense  (298, 51777) dtype=int64\n",
      "2025-09-17 13:36:26 | X_va: dense  (149, 51777) dtype=int64\n"
     ]
    },
    {
     "name": "stderr",
     "output_type": "stream",
     "text": [
      "/home/ma/ma_ma/ma_minjlee/.conda/envs/dca_gpu/lib/python3.10/site-packages/scanpy/preprocessing/_highly_variable_genes.py:64: UserWarning: `flavor='seurat_v3'` expects raw count data, but non-integers were found.\n",
      "  warnings.warn(\n"
     ]
    },
    {
     "name": "stdout",
     "output_type": "stream",
     "text": [
      "2025-09-17 13:36:53 | [DCA] fold 3 | HVG=2000\n",
      "2025-09-17 13:36:53 | [DCA] fit hidden=[32, 64, 128] epochs=100 bs=64\n",
      "2025-09-17 13:36:53 | X_train: dense  (298, 2000) dtype=int64\n",
      "2025-09-17 13:36:53 | [time] [DCA] fold 3 predict mu_va start\n",
      "2025-09-17 13:36:53 | [DCA] predict_mean\n",
      "2025-09-17 13:36:53 | [time] [DCA] train(dca.api.dca) start\n",
      "dca: Successfully preprocessed 2000 genes and 447 cells.\n"
     ]
    },
    {
     "name": "stderr",
     "output_type": "stream",
     "text": [
      "2025-09-17 13:36:53.972267: W tensorflow/c/c_api.cc:305] Operation '{name:'batch_normalization_2/moving_variance/Assign' id:184 op device:{requested: '', assigned: ''} def:{{{node batch_normalization_2/moving_variance/Assign}} = AssignVariableOp[_has_manual_control_dependencies=true, dtype=DT_FLOAT, validate_shape=false](batch_normalization_2/moving_variance, batch_normalization_2/moving_variance/Initializer/ones)}}' was changed by setting attribute after it was run by a session. This mutation will have no effect, and will trigger an error in the future. Either don't modify nodes after running them or create a new session.\n",
      "2025-09-17 13:36:54.402825: W tensorflow/c/c_api.cc:305] Operation '{name:'batch_normalization_2/cond_3/Identity' id:205 op device:{requested: '', assigned: ''} def:{{{node batch_normalization_2/cond_3/Identity}} = Identity[T=DT_FLOAT, _has_manual_control_dependencies=true](batch_normalization_2/cond_3)}}' was changed by setting attribute after it was run by a session. This mutation will have no effect, and will trigger an error in the future. Either don't modify nodes after running them or create a new session.\n",
      "2025-09-17 13:36:54.451379: W tensorflow/c/c_api.cc:305] Operation '{name:'training/RMSprop/mean/kernel/rms/Assign' id:919 op device:{requested: '', assigned: ''} def:{{{node training/RMSprop/mean/kernel/rms/Assign}} = AssignVariableOp[_has_manual_control_dependencies=true, dtype=DT_FLOAT, validate_shape=false](training/RMSprop/mean/kernel/rms, training/RMSprop/mean/kernel/rms/Initializer/zeros)}}' was changed by setting attribute after it was run by a session. This mutation will have no effect, and will trigger an error in the future. Either don't modify nodes after running them or create a new session.\n",
      "/home/ma/ma_ma/ma_minjlee/.conda/envs/dca_gpu/lib/python3.10/site-packages/keras/src/engine/training_v1.py:2335: UserWarning: `Model.state_updates` will be removed in a future version. This property should not be used in TensorFlow 2.0, as `updates` are applied automatically.\n",
      "  updates = self.state_updates\n",
      "2025-09-17 13:36:54.896789: W tensorflow/c/c_api.cc:305] Operation '{name:'loss/AddN_1' id:374 op device:{requested: '', assigned: ''} def:{{{node loss/AddN_1}} = AddN[N=2, T=DT_FLOAT, _has_manual_control_dependencies=true](loss/mul, loss/AddN)}}' was changed by setting attribute after it was run by a session. This mutation will have no effect, and will trigger an error in the future. Either don't modify nodes after running them or create a new session.\n"
     ]
    },
    {
     "name": "stdout",
     "output_type": "stream",
     "text": [
      "dca: Calculating reconstructions...\n",
      "2025-09-17 13:37:15 | [time] [DCA] train(dca.api.dca) end in 21.66s\n",
      "2025-09-17 13:37:15 | [time] [DCA] fold 3 predict mu_va end in 21.66s\n",
      "2025-09-17 13:37:15 | [time] [DCA] fold 3/3 end in 49.18s\n",
      "2025-09-17 13:37:15 | [cv_dca_5fold] done\n"
     ]
    },
    {
     "name": "stderr",
     "output_type": "stream",
     "text": [
      "/home/ma/ma_ma/ma_minjlee/.conda/envs/dca_gpu/lib/python3.10/site-packages/keras/src/engine/training_v1.py:2359: UserWarning: `Model.state_updates` will be removed in a future version. This property should not be used in TensorFlow 2.0, as `updates` are applied automatically.\n",
      "  updates=self.state_updates,\n",
      "2025-09-17 13:37:15.256020: W tensorflow/c/c_api.cc:305] Operation '{name:'slice/slice/Identity' id:303 op device:{requested: '', assigned: ''} def:{{{node slice/slice/Identity}} = Identity[T=DT_FLOAT, _has_manual_control_dependencies=true](lambda_1/mul)}}' was changed by setting attribute after it was run by a session. This mutation will have no effect, and will trigger an error in the future. Either don't modify nodes after running them or create a new session.\n",
      "[I 2025-09-17 13:37:15,454] Trial 11 finished with value: -4.410964864378296 and parameters: {'h1': 32, 'h2': 64, 'h3': 128, 'epochs': 100, 'batch_size': 64, 'n_hvg': 2000}. Best is trial 6 with value: -4.399647434015976.\n"
     ]
    },
    {
     "name": "stdout",
     "output_type": "stream",
     "text": [
      "2025-09-17 13:37:16 | [cv_dca_5fold] start k=3 n_hvg=2000 mode=seurat_v3 R=1 mask_frac=0.1 thinning_p=0.1\n",
      "2025-09-17 13:37:16 | X_counts: dense  (447, 51777) dtype=int64\n",
      "2025-09-17 13:37:16 | X_counts: zeros=66.23%, approx_int=True\n",
      "2025-09-17 13:37:16 | [time] [DCA] fold 1/3 start\n",
      "2025-09-17 13:37:16 | X_tr: dense  (298, 51777) dtype=int64\n",
      "2025-09-17 13:37:16 | X_va: dense  (149, 51777) dtype=int64\n"
     ]
    },
    {
     "name": "stderr",
     "output_type": "stream",
     "text": [
      "/home/ma/ma_ma/ma_minjlee/.conda/envs/dca_gpu/lib/python3.10/site-packages/scanpy/preprocessing/_highly_variable_genes.py:64: UserWarning: `flavor='seurat_v3'` expects raw count data, but non-integers were found.\n",
      "  warnings.warn(\n"
     ]
    },
    {
     "name": "stdout",
     "output_type": "stream",
     "text": [
      "2025-09-17 13:37:16 | [DCA] fold 1 | HVG=2000\n",
      "2025-09-17 13:37:16 | [DCA] fit hidden=[32, 64, 128] epochs=150 bs=64\n",
      "2025-09-17 13:37:16 | X_train: dense  (298, 2000) dtype=int64\n",
      "2025-09-17 13:37:16 | [time] [DCA] fold 1 predict mu_va start\n",
      "2025-09-17 13:37:16 | [DCA] predict_mean\n",
      "2025-09-17 13:37:16 | [time] [DCA] train(dca.api.dca) start\n",
      "dca: Successfully preprocessed 2000 genes and 447 cells.\n"
     ]
    },
    {
     "name": "stderr",
     "output_type": "stream",
     "text": [
      "2025-09-17 13:37:17.221988: W tensorflow/c/c_api.cc:305] Operation '{name:'dispersion/bias/Assign' id:238 op device:{requested: '', assigned: ''} def:{{{node dispersion/bias/Assign}} = AssignVariableOp[_has_manual_control_dependencies=true, dtype=DT_FLOAT, validate_shape=false](dispersion/bias, dispersion/bias/Initializer/zeros)}}' was changed by setting attribute after it was run by a session. This mutation will have no effect, and will trigger an error in the future. Either don't modify nodes after running them or create a new session.\n",
      "2025-09-17 13:37:17.657161: W tensorflow/c/c_api.cc:305] Operation '{name:'batch_normalization_2/cond_3/Identity' id:205 op device:{requested: '', assigned: ''} def:{{{node batch_normalization_2/cond_3/Identity}} = Identity[T=DT_FLOAT, _has_manual_control_dependencies=true](batch_normalization_2/cond_3)}}' was changed by setting attribute after it was run by a session. This mutation will have no effect, and will trigger an error in the future. Either don't modify nodes after running them or create a new session.\n",
      "2025-09-17 13:37:17.707193: W tensorflow/c/c_api.cc:305] Operation '{name:'training/RMSprop/mean/kernel/rms/Assign' id:919 op device:{requested: '', assigned: ''} def:{{{node training/RMSprop/mean/kernel/rms/Assign}} = AssignVariableOp[_has_manual_control_dependencies=true, dtype=DT_FLOAT, validate_shape=false](training/RMSprop/mean/kernel/rms, training/RMSprop/mean/kernel/rms/Initializer/zeros)}}' was changed by setting attribute after it was run by a session. This mutation will have no effect, and will trigger an error in the future. Either don't modify nodes after running them or create a new session.\n",
      "/home/ma/ma_ma/ma_minjlee/.conda/envs/dca_gpu/lib/python3.10/site-packages/keras/src/engine/training_v1.py:2335: UserWarning: `Model.state_updates` will be removed in a future version. This property should not be used in TensorFlow 2.0, as `updates` are applied automatically.\n",
      "  updates = self.state_updates\n",
      "2025-09-17 13:37:18.160715: W tensorflow/c/c_api.cc:305] Operation '{name:'loss/AddN_1' id:374 op device:{requested: '', assigned: ''} def:{{{node loss/AddN_1}} = AddN[N=2, T=DT_FLOAT, _has_manual_control_dependencies=true](loss/mul, loss/AddN)}}' was changed by setting attribute after it was run by a session. This mutation will have no effect, and will trigger an error in the future. Either don't modify nodes after running them or create a new session.\n"
     ]
    },
    {
     "name": "stdout",
     "output_type": "stream",
     "text": [
      "dca: Calculating reconstructions...\n",
      "2025-09-17 13:37:46 | [time] [DCA] train(dca.api.dca) end in 29.13s\n",
      "2025-09-17 13:37:46 | [time] [DCA] fold 1 predict mu_va end in 29.13s\n",
      "2025-09-17 13:37:46 | [time] [DCA] fold 1/3 end in 29.87s\n",
      "2025-09-17 13:37:46 | [time] [DCA] fold 2/3 start\n"
     ]
    },
    {
     "name": "stderr",
     "output_type": "stream",
     "text": [
      "/home/ma/ma_ma/ma_minjlee/.conda/envs/dca_gpu/lib/python3.10/site-packages/keras/src/engine/training_v1.py:2359: UserWarning: `Model.state_updates` will be removed in a future version. This property should not be used in TensorFlow 2.0, as `updates` are applied automatically.\n",
      "  updates=self.state_updates,\n",
      "2025-09-17 13:37:45.972887: W tensorflow/c/c_api.cc:305] Operation '{name:'slice/slice/Identity' id:303 op device:{requested: '', assigned: ''} def:{{{node slice/slice/Identity}} = Identity[T=DT_FLOAT, _has_manual_control_dependencies=true](lambda_1/mul)}}' was changed by setting attribute after it was run by a session. This mutation will have no effect, and will trigger an error in the future. Either don't modify nodes after running them or create a new session.\n"
     ]
    },
    {
     "name": "stdout",
     "output_type": "stream",
     "text": [
      "2025-09-17 13:37:46 | X_tr: dense  (298, 51777) dtype=int64\n",
      "2025-09-17 13:37:46 | X_va: dense  (149, 51777) dtype=int64\n"
     ]
    },
    {
     "name": "stderr",
     "output_type": "stream",
     "text": [
      "/home/ma/ma_ma/ma_minjlee/.conda/envs/dca_gpu/lib/python3.10/site-packages/scanpy/preprocessing/_highly_variable_genes.py:64: UserWarning: `flavor='seurat_v3'` expects raw count data, but non-integers were found.\n",
      "  warnings.warn(\n"
     ]
    },
    {
     "name": "stdout",
     "output_type": "stream",
     "text": [
      "2025-09-17 13:37:46 | [DCA] fold 2 | HVG=2000\n",
      "2025-09-17 13:37:46 | [DCA] fit hidden=[32, 64, 128] epochs=150 bs=64\n",
      "2025-09-17 13:37:46 | X_train: dense  (298, 2000) dtype=int64\n",
      "2025-09-17 13:37:46 | [time] [DCA] fold 2 predict mu_va start\n",
      "2025-09-17 13:37:46 | [DCA] predict_mean\n",
      "2025-09-17 13:37:46 | [time] [DCA] train(dca.api.dca) start\n",
      "dca: Successfully preprocessed 2000 genes and 447 cells.\n"
     ]
    },
    {
     "name": "stderr",
     "output_type": "stream",
     "text": [
      "2025-09-17 13:37:47.105607: W tensorflow/c/c_api.cc:305] Operation '{name:'mean/kernel/Assign' id:261 op device:{requested: '', assigned: ''} def:{{{node mean/kernel/Assign}} = AssignVariableOp[_has_manual_control_dependencies=true, dtype=DT_FLOAT, validate_shape=false](mean/kernel, mean/kernel/Initializer/stateless_random_uniform)}}' was changed by setting attribute after it was run by a session. This mutation will have no effect, and will trigger an error in the future. Either don't modify nodes after running them or create a new session.\n",
      "2025-09-17 13:37:47.554149: W tensorflow/c/c_api.cc:305] Operation '{name:'batch_normalization_2/cond_3/Identity' id:205 op device:{requested: '', assigned: ''} def:{{{node batch_normalization_2/cond_3/Identity}} = Identity[T=DT_FLOAT, _has_manual_control_dependencies=true](batch_normalization_2/cond_3)}}' was changed by setting attribute after it was run by a session. This mutation will have no effect, and will trigger an error in the future. Either don't modify nodes after running them or create a new session.\n",
      "2025-09-17 13:37:47.603475: W tensorflow/c/c_api.cc:305] Operation '{name:'training/RMSprop/batch_normalization_1/beta/rms/Assign' id:895 op device:{requested: '', assigned: ''} def:{{{node training/RMSprop/batch_normalization_1/beta/rms/Assign}} = AssignVariableOp[_has_manual_control_dependencies=true, dtype=DT_FLOAT, validate_shape=false](training/RMSprop/batch_normalization_1/beta/rms, training/RMSprop/batch_normalization_1/beta/rms/Initializer/zeros)}}' was changed by setting attribute after it was run by a session. This mutation will have no effect, and will trigger an error in the future. Either don't modify nodes after running them or create a new session.\n",
      "/home/ma/ma_ma/ma_minjlee/.conda/envs/dca_gpu/lib/python3.10/site-packages/keras/src/engine/training_v1.py:2335: UserWarning: `Model.state_updates` will be removed in a future version. This property should not be used in TensorFlow 2.0, as `updates` are applied automatically.\n",
      "  updates = self.state_updates\n",
      "2025-09-17 13:37:47.991785: W tensorflow/c/c_api.cc:305] Operation '{name:'loss/AddN_1' id:374 op device:{requested: '', assigned: ''} def:{{{node loss/AddN_1}} = AddN[N=2, T=DT_FLOAT, _has_manual_control_dependencies=true](loss/mul, loss/AddN)}}' was changed by setting attribute after it was run by a session. This mutation will have no effect, and will trigger an error in the future. Either don't modify nodes after running them or create a new session.\n"
     ]
    },
    {
     "name": "stdout",
     "output_type": "stream",
     "text": [
      "dca: Calculating reconstructions...\n",
      "2025-09-17 13:38:16 | [time] [DCA] train(dca.api.dca) end in 29.14s\n",
      "2025-09-17 13:38:16 | [time] [DCA] fold 2 predict mu_va end in 29.14s\n",
      "2025-09-17 13:38:16 | [time] [DCA] fold 2/3 end in 29.93s\n",
      "2025-09-17 13:38:16 | [time] [DCA] fold 3/3 start\n"
     ]
    },
    {
     "name": "stderr",
     "output_type": "stream",
     "text": [
      "/home/ma/ma_ma/ma_minjlee/.conda/envs/dca_gpu/lib/python3.10/site-packages/keras/src/engine/training_v1.py:2359: UserWarning: `Model.state_updates` will be removed in a future version. This property should not be used in TensorFlow 2.0, as `updates` are applied automatically.\n",
      "  updates=self.state_updates,\n",
      "2025-09-17 13:38:15.902129: W tensorflow/c/c_api.cc:305] Operation '{name:'slice/slice/Identity' id:303 op device:{requested: '', assigned: ''} def:{{{node slice/slice/Identity}} = Identity[T=DT_FLOAT, _has_manual_control_dependencies=true](lambda_1/mul)}}' was changed by setting attribute after it was run by a session. This mutation will have no effect, and will trigger an error in the future. Either don't modify nodes after running them or create a new session.\n"
     ]
    },
    {
     "name": "stdout",
     "output_type": "stream",
     "text": [
      "2025-09-17 13:38:16 | X_tr: dense  (298, 51777) dtype=int64\n",
      "2025-09-17 13:38:16 | X_va: dense  (149, 51777) dtype=int64\n"
     ]
    },
    {
     "name": "stderr",
     "output_type": "stream",
     "text": [
      "/home/ma/ma_ma/ma_minjlee/.conda/envs/dca_gpu/lib/python3.10/site-packages/scanpy/preprocessing/_highly_variable_genes.py:64: UserWarning: `flavor='seurat_v3'` expects raw count data, but non-integers were found.\n",
      "  warnings.warn(\n"
     ]
    },
    {
     "name": "stdout",
     "output_type": "stream",
     "text": [
      "2025-09-17 13:38:30 | [DCA] fold 3 | HVG=2000\n",
      "2025-09-17 13:38:30 | [DCA] fit hidden=[32, 64, 128] epochs=150 bs=64\n",
      "2025-09-17 13:38:30 | X_train: dense  (298, 2000) dtype=int64\n",
      "2025-09-17 13:38:30 | [time] [DCA] fold 3 predict mu_va start\n",
      "2025-09-17 13:38:30 | [DCA] predict_mean\n",
      "2025-09-17 13:38:30 | [time] [DCA] train(dca.api.dca) start\n",
      "dca: Successfully preprocessed 2000 genes and 447 cells.\n"
     ]
    },
    {
     "name": "stderr",
     "output_type": "stream",
     "text": [
      "2025-09-17 13:38:30.671588: W tensorflow/c/c_api.cc:305] Operation '{name:'batch_normalization/beta/Assign' id:30 op device:{requested: '', assigned: ''} def:{{{node batch_normalization/beta/Assign}} = AssignVariableOp[_has_manual_control_dependencies=true, dtype=DT_FLOAT, validate_shape=false](batch_normalization/beta, batch_normalization/beta/Initializer/zeros)}}' was changed by setting attribute after it was run by a session. This mutation will have no effect, and will trigger an error in the future. Either don't modify nodes after running them or create a new session.\n",
      "2025-09-17 13:38:31.141500: W tensorflow/c/c_api.cc:305] Operation '{name:'batch_normalization_2/cond_3/Identity' id:205 op device:{requested: '', assigned: ''} def:{{{node batch_normalization_2/cond_3/Identity}} = Identity[T=DT_FLOAT, _has_manual_control_dependencies=true](batch_normalization_2/cond_3)}}' was changed by setting attribute after it was run by a session. This mutation will have no effect, and will trigger an error in the future. Either don't modify nodes after running them or create a new session.\n",
      "2025-09-17 13:38:31.193543: W tensorflow/c/c_api.cc:305] Operation '{name:'training/RMSprop/dispersion/kernel/rms/Assign' id:933 op device:{requested: '', assigned: ''} def:{{{node training/RMSprop/dispersion/kernel/rms/Assign}} = AssignVariableOp[_has_manual_control_dependencies=true, dtype=DT_FLOAT, validate_shape=false](training/RMSprop/dispersion/kernel/rms, training/RMSprop/dispersion/kernel/rms/Initializer/zeros)}}' was changed by setting attribute after it was run by a session. This mutation will have no effect, and will trigger an error in the future. Either don't modify nodes after running them or create a new session.\n",
      "/home/ma/ma_ma/ma_minjlee/.conda/envs/dca_gpu/lib/python3.10/site-packages/keras/src/engine/training_v1.py:2335: UserWarning: `Model.state_updates` will be removed in a future version. This property should not be used in TensorFlow 2.0, as `updates` are applied automatically.\n",
      "  updates = self.state_updates\n",
      "2025-09-17 13:38:31.593485: W tensorflow/c/c_api.cc:305] Operation '{name:'loss/AddN_1' id:374 op device:{requested: '', assigned: ''} def:{{{node loss/AddN_1}} = AddN[N=2, T=DT_FLOAT, _has_manual_control_dependencies=true](loss/mul, loss/AddN)}}' was changed by setting attribute after it was run by a session. This mutation will have no effect, and will trigger an error in the future. Either don't modify nodes after running them or create a new session.\n"
     ]
    },
    {
     "name": "stdout",
     "output_type": "stream",
     "text": [
      "dca: Calculating reconstructions...\n",
      "2025-09-17 13:39:00 | [time] [DCA] train(dca.api.dca) end in 30.08s\n",
      "2025-09-17 13:39:00 | [time] [DCA] fold 3 predict mu_va end in 30.09s\n",
      "2025-09-17 13:39:00 | [time] [DCA] fold 3/3 end in 44.49s\n",
      "2025-09-17 13:39:00 | [cv_dca_5fold] done"
     ]
    },
    {
     "name": "stderr",
     "output_type": "stream",
     "text": [
      "/home/ma/ma_ma/ma_minjlee/.conda/envs/dca_gpu/lib/python3.10/site-packages/keras/src/engine/training_v1.py:2359: UserWarning: `Model.state_updates` will be removed in a future version. This property should not be used in TensorFlow 2.0, as `updates` are applied automatically.\n",
      "  updates=self.state_updates,\n",
      "2025-09-17 13:39:00.387543: W tensorflow/c/c_api.cc:305] Operation '{name:'slice/slice/Identity' id:303 op device:{requested: '', assigned: ''} def:{{{node slice/slice/Identity}} = Identity[T=DT_FLOAT, _has_manual_control_dependencies=true](lambda_1/mul)}}' was changed by setting attribute after it was run by a session. This mutation will have no effect, and will trigger an error in the future. Either don't modify nodes after running them or create a new session.\n"
     ]
    },
    {
     "name": "stdout",
     "output_type": "stream",
     "text": [
      "\n"
     ]
    },
    {
     "name": "stderr",
     "output_type": "stream",
     "text": [
      "[I 2025-09-17 13:39:00,596] Trial 12 finished with value: -4.399647434015976 and parameters: {'h1': 32, 'h2': 64, 'h3': 128, 'epochs': 150, 'batch_size': 64, 'n_hvg': 2000}. Best is trial 6 with value: -4.399647434015976.\n"
     ]
    },
    {
     "name": "stdout",
     "output_type": "stream",
     "text": [
      "2025-09-17 13:39:01 | [cv_dca_5fold] start k=3 n_hvg=800 mode=seurat_v3 R=1 mask_frac=0.1 thinning_p=0.1\n",
      "2025-09-17 13:39:01 | X_counts: dense  (447, 51777) dtype=int64\n",
      "2025-09-17 13:39:01 | X_counts: zeros=66.23%, approx_int=True\n",
      "2025-09-17 13:39:01 | [time] [DCA] fold 1/3 start\n",
      "2025-09-17 13:39:01 | X_tr: dense  (298, 51777) dtype=int64\n",
      "2025-09-17 13:39:01 | X_va: dense  (149, 51777) dtype=int64\n"
     ]
    },
    {
     "name": "stderr",
     "output_type": "stream",
     "text": [
      "/home/ma/ma_ma/ma_minjlee/.conda/envs/dca_gpu/lib/python3.10/site-packages/scanpy/preprocessing/_highly_variable_genes.py:64: UserWarning: `flavor='seurat_v3'` expects raw count data, but non-integers were found.\n",
      "  warnings.warn(\n"
     ]
    },
    {
     "name": "stdout",
     "output_type": "stream",
     "text": [
      "2025-09-17 13:39:02 | [DCA] fold 1 | HVG=800\n",
      "2025-09-17 13:39:02 | [DCA] fit hidden=[32, 64, 128] epochs=150 bs=64\n",
      "2025-09-17 13:39:02 | X_train: dense  (298, 800) dtype=int64\n",
      "2025-09-17 13:39:02 | [time] [DCA] fold 1 predict mu_va start\n",
      "2025-09-17 13:39:02 | [DCA] predict_mean\n",
      "2025-09-17 13:39:02 | [time] [DCA] train(dca.api.dca) start\n",
      "dca: Successfully preprocessed 800 genes and 447 cells.\n"
     ]
    },
    {
     "name": "stderr",
     "output_type": "stream",
     "text": [
      "2025-09-17 13:39:02.491316: W tensorflow/c/c_api.cc:305] Operation '{name:'mean/kernel/Assign' id:259 op device:{requested: '', assigned: ''} def:{{{node mean/kernel/Assign}} = AssignVariableOp[_has_manual_control_dependencies=true, dtype=DT_FLOAT, validate_shape=false](mean/kernel, mean/kernel/Initializer/stateless_random_uniform)}}' was changed by setting attribute after it was run by a session. This mutation will have no effect, and will trigger an error in the future. Either don't modify nodes after running them or create a new session.\n",
      "2025-09-17 13:39:02.914359: W tensorflow/c/c_api.cc:305] Operation '{name:'batch_normalization_2/cond_3/Identity' id:205 op device:{requested: '', assigned: ''} def:{{{node batch_normalization_2/cond_3/Identity}} = Identity[T=DT_FLOAT, _has_manual_control_dependencies=true](batch_normalization_2/cond_3)}}' was changed by setting attribute after it was run by a session. This mutation will have no effect, and will trigger an error in the future. Either don't modify nodes after running them or create a new session.\n",
      "2025-09-17 13:39:02.963670: W tensorflow/c/c_api.cc:305] Operation '{name:'training/RMSprop/iter/Assign' id:837 op device:{requested: '', assigned: ''} def:{{{node training/RMSprop/iter/Assign}} = AssignVariableOp[_has_manual_control_dependencies=true, dtype=DT_INT64, validate_shape=false](training/RMSprop/iter, training/RMSprop/iter/Initializer/zeros)}}' was changed by setting attribute after it was run by a session. This mutation will have no effect, and will trigger an error in the future. Either don't modify nodes after running them or create a new session.\n",
      "/home/ma/ma_ma/ma_minjlee/.conda/envs/dca_gpu/lib/python3.10/site-packages/keras/src/engine/training_v1.py:2335: UserWarning: `Model.state_updates` will be removed in a future version. This property should not be used in TensorFlow 2.0, as `updates` are applied automatically.\n",
      "  updates = self.state_updates\n",
      "2025-09-17 13:39:03.327109: W tensorflow/c/c_api.cc:305] Operation '{name:'loss/AddN_1' id:370 op device:{requested: '', assigned: ''} def:{{{node loss/AddN_1}} = AddN[N=2, T=DT_FLOAT, _has_manual_control_dependencies=true](loss/mul, loss/AddN)}}' was changed by setting attribute after it was run by a session. This mutation will have no effect, and will trigger an error in the future. Either don't modify nodes after running them or create a new session.\n"
     ]
    },
    {
     "name": "stdout",
     "output_type": "stream",
     "text": [
      "dca: Calculating reconstructions...\n",
      "2025-09-17 13:39:08 | [time] [DCA] train(dca.api.dca) end in 6.60s\n",
      "2025-09-17 13:39:08 | [time] [DCA] fold 1 predict mu_va end in 6.61s\n",
      "2025-09-17 13:39:08 | [time] [DCA] fold 1/3 end in 7.30s\n",
      "2025-09-17 13:39:08 | [time] [DCA] fold 2/3 start\n",
      "2025-09-17 13:39:08 | X_tr: dense  (298, 51777) dtype=int64\n",
      "2025-09-17 13:39:08 | X_va: dense  (149, 51777) dtype=int64\n"
     ]
    },
    {
     "name": "stderr",
     "output_type": "stream",
     "text": [
      "/home/ma/ma_ma/ma_minjlee/.conda/envs/dca_gpu/lib/python3.10/site-packages/keras/src/engine/training_v1.py:2359: UserWarning: `Model.state_updates` will be removed in a future version. This property should not be used in TensorFlow 2.0, as `updates` are applied automatically.\n",
      "  updates=self.state_updates,\n",
      "2025-09-17 13:39:08.720021: W tensorflow/c/c_api.cc:305] Operation '{name:'slice/slice/Identity' id:299 op device:{requested: '', assigned: ''} def:{{{node slice/slice/Identity}} = Identity[T=DT_FLOAT, _has_manual_control_dependencies=true](lambda_1/mul)}}' was changed by setting attribute after it was run by a session. This mutation will have no effect, and will trigger an error in the future. Either don't modify nodes after running them or create a new session.\n",
      "/home/ma/ma_ma/ma_minjlee/.conda/envs/dca_gpu/lib/python3.10/site-packages/scanpy/preprocessing/_highly_variable_genes.py:64: UserWarning: `flavor='seurat_v3'` expects raw count data, but non-integers were found.\n",
      "  warnings.warn(\n"
     ]
    },
    {
     "name": "stdout",
     "output_type": "stream",
     "text": [
      "2025-09-17 13:39:09 | [DCA] fold 2 | HVG=800\n",
      "2025-09-17 13:39:09 | [DCA] fit hidden=[32, 64, 128] epochs=150 bs=64\n",
      "2025-09-17 13:39:09 | X_train: dense  (298, 800) dtype=int64\n",
      "2025-09-17 13:39:09 | [time] [DCA] fold 2 predict mu_va start\n",
      "2025-09-17 13:39:09 | [DCA] predict_mean\n",
      "2025-09-17 13:39:09 | [time] [DCA] train(dca.api.dca) start\n",
      "dca: Successfully preprocessed 800 genes and 447 cells.\n"
     ]
    },
    {
     "name": "stderr",
     "output_type": "stream",
     "text": [
      "2025-09-17 13:39:09.739412: W tensorflow/c/c_api.cc:305] Operation '{name:'batch_normalization_1/moving_mean/Assign' id:108 op device:{requested: '', assigned: ''} def:{{{node batch_normalization_1/moving_mean/Assign}} = AssignVariableOp[_has_manual_control_dependencies=true, dtype=DT_FLOAT, validate_shape=false](batch_normalization_1/moving_mean, batch_normalization_1/moving_mean/Initializer/zeros)}}' was changed by setting attribute after it was run by a session. This mutation will have no effect, and will trigger an error in the future. Either don't modify nodes after running them or create a new session.\n",
      "2025-09-17 13:39:10.168066: W tensorflow/c/c_api.cc:305] Operation '{name:'batch_normalization_2/cond_3/Identity' id:205 op device:{requested: '', assigned: ''} def:{{{node batch_normalization_2/cond_3/Identity}} = Identity[T=DT_FLOAT, _has_manual_control_dependencies=true](batch_normalization_2/cond_3)}}' was changed by setting attribute after it was run by a session. This mutation will have no effect, and will trigger an error in the future. Either don't modify nodes after running them or create a new session.\n",
      "2025-09-17 13:39:10.218388: W tensorflow/c/c_api.cc:305] Operation '{name:'training/RMSprop/mean/kernel/rms/Assign' id:915 op device:{requested: '', assigned: ''} def:{{{node training/RMSprop/mean/kernel/rms/Assign}} = AssignVariableOp[_has_manual_control_dependencies=true, dtype=DT_FLOAT, validate_shape=false](training/RMSprop/mean/kernel/rms, training/RMSprop/mean/kernel/rms/Initializer/zeros)}}' was changed by setting attribute after it was run by a session. This mutation will have no effect, and will trigger an error in the future. Either don't modify nodes after running them or create a new session.\n",
      "/home/ma/ma_ma/ma_minjlee/.conda/envs/dca_gpu/lib/python3.10/site-packages/keras/src/engine/training_v1.py:2335: UserWarning: `Model.state_updates` will be removed in a future version. This property should not be used in TensorFlow 2.0, as `updates` are applied automatically.\n",
      "  updates = self.state_updates\n",
      "2025-09-17 13:39:10.579774: W tensorflow/c/c_api.cc:305] Operation '{name:'loss/AddN_1' id:370 op device:{requested: '', assigned: ''} def:{{{node loss/AddN_1}} = AddN[N=2, T=DT_FLOAT, _has_manual_control_dependencies=true](loss/mul, loss/AddN)}}' was changed by setting attribute after it was run by a session. This mutation will have no effect, and will trigger an error in the future. Either don't modify nodes after running them or create a new session.\n"
     ]
    },
    {
     "name": "stdout",
     "output_type": "stream",
     "text": [
      "dca: Calculating reconstructions...\n",
      "2025-09-17 13:39:18 | [time] [DCA] train(dca.api.dca) end in 9.02s\n",
      "2025-09-17 13:39:18 | [time] [DCA] fold 2 predict mu_va end in 9.02s\n",
      "2025-09-17 13:39:18 | [time] [DCA] fold 2/3 end in 9.69s\n",
      "2025-09-17 13:39:18 | [time] [DCA] fold 3/3 start\n",
      "2025-09-17 13:39:18 | X_tr: dense  (298, 51777) dtype=int64\n",
      "2025-09-17 13:39:18 | X_va: dense  (149, 51777) dtype=int64\n"
     ]
    },
    {
     "name": "stderr",
     "output_type": "stream",
     "text": [
      "/home/ma/ma_ma/ma_minjlee/.conda/envs/dca_gpu/lib/python3.10/site-packages/keras/src/engine/training_v1.py:2359: UserWarning: `Model.state_updates` will be removed in a future version. This property should not be used in TensorFlow 2.0, as `updates` are applied automatically.\n",
      "  updates=self.state_updates,\n",
      "2025-09-17 13:39:18.407891: W tensorflow/c/c_api.cc:305] Operation '{name:'slice/slice/Identity' id:299 op device:{requested: '', assigned: ''} def:{{{node slice/slice/Identity}} = Identity[T=DT_FLOAT, _has_manual_control_dependencies=true](lambda_1/mul)}}' was changed by setting attribute after it was run by a session. This mutation will have no effect, and will trigger an error in the future. Either don't modify nodes after running them or create a new session.\n",
      "/home/ma/ma_ma/ma_minjlee/.conda/envs/dca_gpu/lib/python3.10/site-packages/scanpy/preprocessing/_highly_variable_genes.py:64: UserWarning: `flavor='seurat_v3'` expects raw count data, but non-integers were found.\n",
      "  warnings.warn(\n"
     ]
    },
    {
     "name": "stdout",
     "output_type": "stream",
     "text": [
      "2025-09-17 13:39:35 | [DCA] fold 3 | HVG=800\n",
      "2025-09-17 13:39:35 | [DCA] fit hidden=[32, 64, 128] epochs=150 bs=64\n",
      "2025-09-17 13:39:35 | X_train: dense  (298, 800) dtype=int64\n",
      "2025-09-17 13:39:35 | [time] [DCA] fold 3 predict mu_va start\n",
      "2025-09-17 13:39:35 | [DCA] predict_mean\n",
      "2025-09-17 13:39:35 | [time] [DCA] train(dca.api.dca) start\n",
      "dca: Successfully preprocessed 800 genes and 447 cells.\n"
     ]
    },
    {
     "name": "stderr",
     "output_type": "stream",
     "text": [
      "2025-09-17 13:39:35.861143: W tensorflow/c/c_api.cc:305] Operation '{name:'dispersion/bias/Assign' id:236 op device:{requested: '', assigned: ''} def:{{{node dispersion/bias/Assign}} = AssignVariableOp[_has_manual_control_dependencies=true, dtype=DT_FLOAT, validate_shape=false](dispersion/bias, dispersion/bias/Initializer/zeros)}}' was changed by setting attribute after it was run by a session. This mutation will have no effect, and will trigger an error in the future. Either don't modify nodes after running them or create a new session.\n",
      "2025-09-17 13:39:36.305984: W tensorflow/c/c_api.cc:305] Operation '{name:'batch_normalization_2/cond_3/Identity' id:205 op device:{requested: '', assigned: ''} def:{{{node batch_normalization_2/cond_3/Identity}} = Identity[T=DT_FLOAT, _has_manual_control_dependencies=true](batch_normalization_2/cond_3)}}' was changed by setting attribute after it was run by a session. This mutation will have no effect, and will trigger an error in the future. Either don't modify nodes after running them or create a new session.\n",
      "2025-09-17 13:39:36.355363: W tensorflow/c/c_api.cc:305] Operation '{name:'training/RMSprop/mean/bias/rms/Assign' id:920 op device:{requested: '', assigned: ''} def:{{{node training/RMSprop/mean/bias/rms/Assign}} = AssignVariableOp[_has_manual_control_dependencies=true, dtype=DT_FLOAT, validate_shape=false](training/RMSprop/mean/bias/rms, training/RMSprop/mean/bias/rms/Initializer/zeros)}}' was changed by setting attribute after it was run by a session. This mutation will have no effect, and will trigger an error in the future. Either don't modify nodes after running them or create a new session.\n",
      "/home/ma/ma_ma/ma_minjlee/.conda/envs/dca_gpu/lib/python3.10/site-packages/keras/src/engine/training_v1.py:2335: UserWarning: `Model.state_updates` will be removed in a future version. This property should not be used in TensorFlow 2.0, as `updates` are applied automatically.\n",
      "  updates = self.state_updates\n",
      "2025-09-17 13:39:36.710962: W tensorflow/c/c_api.cc:305] Operation '{name:'loss/AddN_1' id:370 op device:{requested: '', assigned: ''} def:{{{node loss/AddN_1}} = AddN[N=2, T=DT_FLOAT, _has_manual_control_dependencies=true](loss/mul, loss/AddN)}}' was changed by setting attribute after it was run by a session. This mutation will have no effect, and will trigger an error in the future. Either don't modify nodes after running them or create a new session.\n"
     ]
    },
    {
     "name": "stdout",
     "output_type": "stream",
     "text": [
      "dca: Calculating reconstructions...\n",
      "2025-09-17 13:39:44 | [time] [DCA] train(dca.api.dca) end in 8.63s\n",
      "2025-09-17 13:39:44 | [time] [DCA] fold 3 predict mu_va end in 8.64s\n",
      "2025-09-17 13:39:44 | [time] [DCA] fold 3/3 end in 25.76s\n",
      "2025-09-17 13:39:44 | [cv_dca_5fold] done\n"
     ]
    },
    {
     "name": "stderr",
     "output_type": "stream",
     "text": [
      "/home/ma/ma_ma/ma_minjlee/.conda/envs/dca_gpu/lib/python3.10/site-packages/keras/src/engine/training_v1.py:2359: UserWarning: `Model.state_updates` will be removed in a future version. This property should not be used in TensorFlow 2.0, as `updates` are applied automatically.\n",
      "  updates=self.state_updates,\n",
      "2025-09-17 13:39:44.169507: W tensorflow/c/c_api.cc:305] Operation '{name:'slice/slice/Identity' id:299 op device:{requested: '', assigned: ''} def:{{{node slice/slice/Identity}} = Identity[T=DT_FLOAT, _has_manual_control_dependencies=true](lambda_1/mul)}}' was changed by setting attribute after it was run by a session. This mutation will have no effect, and will trigger an error in the future. Either don't modify nodes after running them or create a new session.\n",
      "[I 2025-09-17 13:39:44,305] Trial 13 finished with value: -4.7758373871325785 and parameters: {'h1': 32, 'h2': 64, 'h3': 128, 'epochs': 150, 'batch_size': 64, 'n_hvg': 800}. Best is trial 6 with value: -4.399647434015976.\n"
     ]
    },
    {
     "name": "stdout",
     "output_type": "stream",
     "text": [
      "2025-09-17 13:39:44 | [cv_dca_5fold] start k=3 n_hvg=2000 mode=seurat_v3 R=1 mask_frac=0.1 thinning_p=0.1\n",
      "2025-09-17 13:39:44 | X_counts: dense  (447, 51777) dtype=int64\n",
      "2025-09-17 13:39:45 | X_counts: zeros=66.23%, approx_int=True\n",
      "2025-09-17 13:39:45 | [time] [DCA] fold 1/3 start\n",
      "2025-09-17 13:39:45 | X_tr: dense  (298, 51777) dtype=int64\n",
      "2025-09-17 13:39:45 | X_va: dense  (149, 51777) dtype=int64\n"
     ]
    },
    {
     "name": "stderr",
     "output_type": "stream",
     "text": [
      "/home/ma/ma_ma/ma_minjlee/.conda/envs/dca_gpu/lib/python3.10/site-packages/scanpy/preprocessing/_highly_variable_genes.py:64: UserWarning: `flavor='seurat_v3'` expects raw count data, but non-integers were found.\n",
      "  warnings.warn(\n"
     ]
    },
    {
     "name": "stdout",
     "output_type": "stream",
     "text": [
      "2025-09-17 13:39:45 | [DCA] fold 1 | HVG=2000\n",
      "2025-09-17 13:39:45 | [DCA] fit hidden=[32, 64, 128] epochs=150 bs=64\n",
      "2025-09-17 13:39:45 | X_train: dense  (298, 2000) dtype=int64\n",
      "2025-09-17 13:39:45 | [time] [DCA] fold 1 predict mu_va start\n",
      "2025-09-17 13:39:45 | [DCA] predict_mean\n",
      "2025-09-17 13:39:45 | [time] [DCA] train(dca.api.dca) start\n",
      "dca: Successfully preprocessed 2000 genes and 447 cells.\n"
     ]
    },
    {
     "name": "stderr",
     "output_type": "stream",
     "text": [
      "2025-09-17 13:39:46.141605: W tensorflow/c/c_api.cc:305] Operation '{name:'batch_normalization_1/beta/Assign' id:103 op device:{requested: '', assigned: ''} def:{{{node batch_normalization_1/beta/Assign}} = AssignVariableOp[_has_manual_control_dependencies=true, dtype=DT_FLOAT, validate_shape=false](batch_normalization_1/beta, batch_normalization_1/beta/Initializer/zeros)}}' was changed by setting attribute after it was run by a session. This mutation will have no effect, and will trigger an error in the future. Either don't modify nodes after running them or create a new session.\n",
      "2025-09-17 13:39:46.589313: W tensorflow/c/c_api.cc:305] Operation '{name:'batch_normalization_2/cond_3/Identity' id:205 op device:{requested: '', assigned: ''} def:{{{node batch_normalization_2/cond_3/Identity}} = Identity[T=DT_FLOAT, _has_manual_control_dependencies=true](batch_normalization_2/cond_3)}}' was changed by setting attribute after it was run by a session. This mutation will have no effect, and will trigger an error in the future. Either don't modify nodes after running them or create a new session.\n",
      "2025-09-17 13:39:46.638829: W tensorflow/c/c_api.cc:305] Operation '{name:'training/RMSprop/batch_normalization_1/beta/rms/Assign' id:895 op device:{requested: '', assigned: ''} def:{{{node training/RMSprop/batch_normalization_1/beta/rms/Assign}} = AssignVariableOp[_has_manual_control_dependencies=true, dtype=DT_FLOAT, validate_shape=false](training/RMSprop/batch_normalization_1/beta/rms, training/RMSprop/batch_normalization_1/beta/rms/Initializer/zeros)}}' was changed by setting attribute after it was run by a session. This mutation will have no effect, and will trigger an error in the future. Either don't modify nodes after running them or create a new session.\n",
      "/home/ma/ma_ma/ma_minjlee/.conda/envs/dca_gpu/lib/python3.10/site-packages/keras/src/engine/training_v1.py:2335: UserWarning: `Model.state_updates` will be removed in a future version. This property should not be used in TensorFlow 2.0, as `updates` are applied automatically.\n",
      "  updates = self.state_updates\n",
      "2025-09-17 13:39:47.084203: W tensorflow/c/c_api.cc:305] Operation '{name:'loss/AddN_1' id:374 op device:{requested: '', assigned: ''} def:{{{node loss/AddN_1}} = AddN[N=2, T=DT_FLOAT, _has_manual_control_dependencies=true](loss/mul, loss/AddN)}}' was changed by setting attribute after it was run by a session. This mutation will have no effect, and will trigger an error in the future. Either don't modify nodes after running them or create a new session.\n"
     ]
    },
    {
     "name": "stdout",
     "output_type": "stream",
     "text": [
      "dca: Calculating reconstructions...\n",
      "2025-09-17 13:40:16 | [time] [DCA] train(dca.api.dca) end in 30.18s\n",
      "2025-09-17 13:40:16 | [time] [DCA] fold 1 predict mu_va end in 30.19s\n",
      "2025-09-17 13:40:16 | [time] [DCA] fold 1/3 end in 30.93s\n",
      "2025-09-17 13:40:16 | [time] [DCA] fold 2/3 start\n"
     ]
    },
    {
     "name": "stderr",
     "output_type": "stream",
     "text": [
      "/home/ma/ma_ma/ma_minjlee/.conda/envs/dca_gpu/lib/python3.10/site-packages/keras/src/engine/training_v1.py:2359: UserWarning: `Model.state_updates` will be removed in a future version. This property should not be used in TensorFlow 2.0, as `updates` are applied automatically.\n",
      "  updates=self.state_updates,\n",
      "2025-09-17 13:40:15.985377: W tensorflow/c/c_api.cc:305] Operation '{name:'slice/slice/Identity' id:303 op device:{requested: '', assigned: ''} def:{{{node slice/slice/Identity}} = Identity[T=DT_FLOAT, _has_manual_control_dependencies=true](lambda_1/mul)}}' was changed by setting attribute after it was run by a session. This mutation will have no effect, and will trigger an error in the future. Either don't modify nodes after running them or create a new session.\n"
     ]
    },
    {
     "name": "stdout",
     "output_type": "stream",
     "text": [
      "2025-09-17 13:40:16 | X_tr: dense  (298, 51777) dtype=int64\n",
      "2025-09-17 13:40:16 | X_va: dense  (149, 51777) dtype=int64\n"
     ]
    },
    {
     "name": "stderr",
     "output_type": "stream",
     "text": [
      "/home/ma/ma_ma/ma_minjlee/.conda/envs/dca_gpu/lib/python3.10/site-packages/scanpy/preprocessing/_highly_variable_genes.py:64: UserWarning: `flavor='seurat_v3'` expects raw count data, but non-integers were found.\n",
      "  warnings.warn(\n"
     ]
    },
    {
     "name": "stdout",
     "output_type": "stream",
     "text": [
      "2025-09-17 13:40:16 | [DCA] fold 2 | HVG=2000\n",
      "2025-09-17 13:40:16 | [DCA] fit hidden=[32, 64, 128] epochs=150 bs=64\n",
      "2025-09-17 13:40:16 | X_train: dense  (298, 2000) dtype=int64\n",
      "2025-09-17 13:40:16 | [time] [DCA] fold 2 predict mu_va start\n",
      "2025-09-17 13:40:16 | [DCA] predict_mean\n",
      "2025-09-17 13:40:16 | [time] [DCA] train(dca.api.dca) start\n",
      "dca: Successfully preprocessed 2000 genes and 447 cells.\n"
     ]
    },
    {
     "name": "stderr",
     "output_type": "stream",
     "text": [
      "2025-09-17 13:40:17.043835: W tensorflow/c/c_api.cc:305] Operation '{name:'dispersion/bias/Assign' id:238 op device:{requested: '', assigned: ''} def:{{{node dispersion/bias/Assign}} = AssignVariableOp[_has_manual_control_dependencies=true, dtype=DT_FLOAT, validate_shape=false](dispersion/bias, dispersion/bias/Initializer/zeros)}}' was changed by setting attribute after it was run by a session. This mutation will have no effect, and will trigger an error in the future. Either don't modify nodes after running them or create a new session.\n",
      "2025-09-17 13:40:17.496562: W tensorflow/c/c_api.cc:305] Operation '{name:'batch_normalization_2/cond_3/Identity' id:205 op device:{requested: '', assigned: ''} def:{{{node batch_normalization_2/cond_3/Identity}} = Identity[T=DT_FLOAT, _has_manual_control_dependencies=true](batch_normalization_2/cond_3)}}' was changed by setting attribute after it was run by a session. This mutation will have no effect, and will trigger an error in the future. Either don't modify nodes after running them or create a new session.\n",
      "2025-09-17 13:40:17.546022: W tensorflow/c/c_api.cc:305] Operation '{name:'training/RMSprop/center/bias/rms/Assign' id:890 op device:{requested: '', assigned: ''} def:{{{node training/RMSprop/center/bias/rms/Assign}} = AssignVariableOp[_has_manual_control_dependencies=true, dtype=DT_FLOAT, validate_shape=false](training/RMSprop/center/bias/rms, training/RMSprop/center/bias/rms/Initializer/zeros)}}' was changed by setting attribute after it was run by a session. This mutation will have no effect, and will trigger an error in the future. Either don't modify nodes after running them or create a new session.\n",
      "/home/ma/ma_ma/ma_minjlee/.conda/envs/dca_gpu/lib/python3.10/site-packages/keras/src/engine/training_v1.py:2335: UserWarning: `Model.state_updates` will be removed in a future version. This property should not be used in TensorFlow 2.0, as `updates` are applied automatically.\n",
      "  updates = self.state_updates\n",
      "2025-09-17 13:40:17.980157: W tensorflow/c/c_api.cc:305] Operation '{name:'loss/AddN_1' id:374 op device:{requested: '', assigned: ''} def:{{{node loss/AddN_1}} = AddN[N=2, T=DT_FLOAT, _has_manual_control_dependencies=true](loss/mul, loss/AddN)}}' was changed by setting attribute after it was run by a session. This mutation will have no effect, and will trigger an error in the future. Either don't modify nodes after running them or create a new session.\n"
     ]
    },
    {
     "name": "stdout",
     "output_type": "stream",
     "text": [
      "dca: Calculating reconstructions...\n",
      "2025-09-17 13:40:47 | [time] [DCA] train(dca.api.dca) end in 30.78s\n",
      "2025-09-17 13:40:47 | [time] [DCA] fold 2 predict mu_va end in 30.79s\n",
      "2025-09-17 13:40:47 | [time] [DCA] fold 2/3 end in 31.51s\n",
      "2025-09-17 13:40:47 | [time] [DCA] fold 3/3 start\n"
     ]
    },
    {
     "name": "stderr",
     "output_type": "stream",
     "text": [
      "/home/ma/ma_ma/ma_minjlee/.conda/envs/dca_gpu/lib/python3.10/site-packages/keras/src/engine/training_v1.py:2359: UserWarning: `Model.state_updates` will be removed in a future version. This property should not be used in TensorFlow 2.0, as `updates` are applied automatically.\n",
      "  updates=self.state_updates,\n",
      "2025-09-17 13:40:47.494398: W tensorflow/c/c_api.cc:305] Operation '{name:'slice/slice/Identity' id:303 op device:{requested: '', assigned: ''} def:{{{node slice/slice/Identity}} = Identity[T=DT_FLOAT, _has_manual_control_dependencies=true](lambda_1/mul)}}' was changed by setting attribute after it was run by a session. This mutation will have no effect, and will trigger an error in the future. Either don't modify nodes after running them or create a new session.\n"
     ]
    },
    {
     "name": "stdout",
     "output_type": "stream",
     "text": [
      "2025-09-17 13:40:47 | X_tr: dense  (298, 51777) dtype=int64\n",
      "2025-09-17 13:40:47 | X_va: dense  (149, 51777) dtype=int64\n"
     ]
    },
    {
     "name": "stderr",
     "output_type": "stream",
     "text": [
      "/home/ma/ma_ma/ma_minjlee/.conda/envs/dca_gpu/lib/python3.10/site-packages/scanpy/preprocessing/_highly_variable_genes.py:64: UserWarning: `flavor='seurat_v3'` expects raw count data, but non-integers were found.\n",
      "  warnings.warn(\n"
     ]
    },
    {
     "name": "stdout",
     "output_type": "stream",
     "text": [
      "2025-09-17 13:41:39 | [DCA] fold 3 | HVG=2000\n",
      "2025-09-17 13:41:39 | [DCA] fit hidden=[32, 64, 128] epochs=150 bs=64\n",
      "2025-09-17 13:41:39 | X_train: dense  (298, 2000) dtype=int64\n",
      "2025-09-17 13:41:39 | [time] [DCA] fold 3 predict mu_va start\n",
      "2025-09-17 13:41:39 | [DCA] predict_mean\n",
      "2025-09-17 13:41:39 | [time] [DCA] train(dca.api.dca) start\n",
      "dca: Successfully preprocessed 2000 genes and 447 cells.\n"
     ]
    },
    {
     "name": "stderr",
     "output_type": "stream",
     "text": [
      "2025-09-17 13:41:40.161378: W tensorflow/c/c_api.cc:305] Operation '{name:'dispersion/kernel/Assign' id:231 op device:{requested: '', assigned: ''} def:{{{node dispersion/kernel/Assign}} = AssignVariableOp[_has_manual_control_dependencies=true, dtype=DT_FLOAT, validate_shape=false](dispersion/kernel, dispersion/kernel/Initializer/stateless_random_uniform)}}' was changed by setting attribute after it was run by a session. This mutation will have no effect, and will trigger an error in the future. Either don't modify nodes after running them or create a new session.\n",
      "2025-09-17 13:41:40.603928: W tensorflow/c/c_api.cc:305] Operation '{name:'batch_normalization_2/cond_3/Identity' id:205 op device:{requested: '', assigned: ''} def:{{{node batch_normalization_2/cond_3/Identity}} = Identity[T=DT_FLOAT, _has_manual_control_dependencies=true](batch_normalization_2/cond_3)}}' was changed by setting attribute after it was run by a session. This mutation will have no effect, and will trigger an error in the future. Either don't modify nodes after running them or create a new session.\n",
      "2025-09-17 13:41:40.652525: W tensorflow/c/c_api.cc:305] Operation '{name:'training/RMSprop/dec1/bias/rms/Assign' id:907 op device:{requested: '', assigned: ''} def:{{{node training/RMSprop/dec1/bias/rms/Assign}} = AssignVariableOp[_has_manual_control_dependencies=true, dtype=DT_FLOAT, validate_shape=false](training/RMSprop/dec1/bias/rms, training/RMSprop/dec1/bias/rms/Initializer/zeros)}}' was changed by setting attribute after it was run by a session. This mutation will have no effect, and will trigger an error in the future. Either don't modify nodes after running them or create a new session.\n",
      "/home/ma/ma_ma/ma_minjlee/.conda/envs/dca_gpu/lib/python3.10/site-packages/keras/src/engine/training_v1.py:2335: UserWarning: `Model.state_updates` will be removed in a future version. This property should not be used in TensorFlow 2.0, as `updates` are applied automatically.\n",
      "  updates = self.state_updates\n",
      "2025-09-17 13:41:41.155922: W tensorflow/c/c_api.cc:305] Operation '{name:'loss/AddN_1' id:374 op device:{requested: '', assigned: ''} def:{{{node loss/AddN_1}} = AddN[N=2, T=DT_FLOAT, _has_manual_control_dependencies=true](loss/mul, loss/AddN)}}' was changed by setting attribute after it was run by a session. This mutation will have no effect, and will trigger an error in the future. Either don't modify nodes after running them or create a new session.\n"
     ]
    },
    {
     "name": "stdout",
     "output_type": "stream",
     "text": [
      "dca: Calculating reconstructions...\n",
      "2025-09-17 13:42:09 | [time] [DCA] train(dca.api.dca) end in 29.71s\n",
      "2025-09-17 13:42:09 | [time] [DCA] fold 3 predict mu_va end in 29.73s\n",
      "2025-09-17 13:42:09 | [time] [DCA] fold 3/3 end in 82.00s\n"
     ]
    },
    {
     "name": "stderr",
     "output_type": "stream",
     "text": [
      "/home/ma/ma_ma/ma_minjlee/.conda/envs/dca_gpu/lib/python3.10/site-packages/keras/src/engine/training_v1.py:2359: UserWarning: `Model.state_updates` will be removed in a future version. This property should not be used in TensorFlow 2.0, as `updates` are applied automatically.\n",
      "  updates=self.state_updates,\n",
      "2025-09-17 13:42:09.485175: W tensorflow/c/c_api.cc:305] Operation '{name:'slice/slice/Identity' id:303 op device:{requested: '', assigned: ''} def:{{{node slice/slice/Identity}} = Identity[T=DT_FLOAT, _has_manual_control_dependencies=true](lambda_1/mul)}}' was changed by setting attribute after it was run by a session. This mutation will have no effect, and will trigger an error in the future. Either don't modify nodes after running them or create a new session.\n"
     ]
    },
    {
     "name": "stdout",
     "output_type": "stream",
     "text": [
      "2025-09-17 13:42:09 | [cv_dca_5fold] done\n"
     ]
    },
    {
     "name": "stderr",
     "output_type": "stream",
     "text": [
      "[I 2025-09-17 13:42:09,688] Trial 14 finished with value: -4.399647434015976 and parameters: {'h1': 32, 'h2': 64, 'h3': 128, 'epochs': 150, 'batch_size': 64, 'n_hvg': 2000}. Best is trial 6 with value: -4.399647434015976.\n"
     ]
    },
    {
     "name": "stdout",
     "output_type": "stream",
     "text": [
      "2025-09-17 13:42:10 | [cv_dca_5fold] start k=3 n_hvg=2000 mode=seurat_v3 R=1 mask_frac=0.1 thinning_p=0.1\n",
      "2025-09-17 13:42:10 | X_counts: dense  (447, 51777) dtype=int64\n",
      "2025-09-17 13:42:20 | X_counts: zeros=66.23%, approx_int=True\n",
      "2025-09-17 13:42:20 | [time] [DCA] fold 1/3 start\n",
      "2025-09-17 13:42:20 | X_tr: dense  (298, 51777) dtype=int64\n",
      "2025-09-17 13:42:20 | X_va: dense  (149, 51777) dtype=int64\n"
     ]
    },
    {
     "name": "stderr",
     "output_type": "stream",
     "text": [
      "/home/ma/ma_ma/ma_minjlee/.conda/envs/dca_gpu/lib/python3.10/site-packages/scanpy/preprocessing/_highly_variable_genes.py:64: UserWarning: `flavor='seurat_v3'` expects raw count data, but non-integers were found.\n",
      "  warnings.warn(\n"
     ]
    },
    {
     "name": "stdout",
     "output_type": "stream",
     "text": [
      "2025-09-17 13:42:21 | [DCA] fold 1 | HVG=2000\n",
      "2025-09-17 13:42:21 | [DCA] fit hidden=[32, 64, 128] epochs=150 bs=64\n",
      "2025-09-17 13:42:21 | X_train: dense  (298, 2000) dtype=int64\n",
      "2025-09-17 13:42:21 | [time] [DCA] fold 1 predict mu_va start\n",
      "2025-09-17 13:42:21 | [DCA] predict_mean\n",
      "2025-09-17 13:42:21 | [time] [DCA] train(dca.api.dca) start\n",
      "dca: Successfully preprocessed 2000 genes and 447 cells.\n"
     ]
    },
    {
     "name": "stderr",
     "output_type": "stream",
     "text": [
      "2025-09-17 13:42:21.429955: W tensorflow/c/c_api.cc:305] Operation '{name:'batch_normalization_1/beta/Assign' id:103 op device:{requested: '', assigned: ''} def:{{{node batch_normalization_1/beta/Assign}} = AssignVariableOp[_has_manual_control_dependencies=true, dtype=DT_FLOAT, validate_shape=false](batch_normalization_1/beta, batch_normalization_1/beta/Initializer/zeros)}}' was changed by setting attribute after it was run by a session. This mutation will have no effect, and will trigger an error in the future. Either don't modify nodes after running them or create a new session.\n",
      "2025-09-17 13:42:21.869056: W tensorflow/c/c_api.cc:305] Operation '{name:'batch_normalization_2/cond_3/Identity' id:205 op device:{requested: '', assigned: ''} def:{{{node batch_normalization_2/cond_3/Identity}} = Identity[T=DT_FLOAT, _has_manual_control_dependencies=true](batch_normalization_2/cond_3)}}' was changed by setting attribute after it was run by a session. This mutation will have no effect, and will trigger an error in the future. Either don't modify nodes after running them or create a new session.\n",
      "2025-09-17 13:42:21.919063: W tensorflow/c/c_api.cc:305] Operation '{name:'training/RMSprop/dec1/bias/rms/Assign' id:907 op device:{requested: '', assigned: ''} def:{{{node training/RMSprop/dec1/bias/rms/Assign}} = AssignVariableOp[_has_manual_control_dependencies=true, dtype=DT_FLOAT, validate_shape=false](training/RMSprop/dec1/bias/rms, training/RMSprop/dec1/bias/rms/Initializer/zeros)}}' was changed by setting attribute after it was run by a session. This mutation will have no effect, and will trigger an error in the future. Either don't modify nodes after running them or create a new session.\n",
      "/home/ma/ma_ma/ma_minjlee/.conda/envs/dca_gpu/lib/python3.10/site-packages/keras/src/engine/training_v1.py:2335: UserWarning: `Model.state_updates` will be removed in a future version. This property should not be used in TensorFlow 2.0, as `updates` are applied automatically.\n",
      "  updates = self.state_updates\n",
      "2025-09-17 13:42:22.362355: W tensorflow/c/c_api.cc:305] Operation '{name:'loss/AddN_1' id:374 op device:{requested: '', assigned: ''} def:{{{node loss/AddN_1}} = AddN[N=2, T=DT_FLOAT, _has_manual_control_dependencies=true](loss/mul, loss/AddN)}}' was changed by setting attribute after it was run by a session. This mutation will have no effect, and will trigger an error in the future. Either don't modify nodes after running them or create a new session.\n"
     ]
    },
    {
     "name": "stdout",
     "output_type": "stream",
     "text": [
      "dca: Calculating reconstructions...\n",
      "2025-09-17 13:42:50 | [time] [DCA] train(dca.api.dca) end in 29.15s\n",
      "2025-09-17 13:42:50 | [time] [DCA] fold 1 predict mu_va end in 29.15s\n",
      "2025-09-17 13:42:50 | [time] [DCA] fold 1/3 end in 29.92s\n",
      "2025-09-17 13:42:50 | [time] [DCA] fold 2/3 start\n"
     ]
    },
    {
     "name": "stderr",
     "output_type": "stream",
     "text": [
      "/home/ma/ma_ma/ma_minjlee/.conda/envs/dca_gpu/lib/python3.10/site-packages/keras/src/engine/training_v1.py:2359: UserWarning: `Model.state_updates` will be removed in a future version. This property should not be used in TensorFlow 2.0, as `updates` are applied automatically.\n",
      "  updates=self.state_updates,\n",
      "2025-09-17 13:42:50.196437: W tensorflow/c/c_api.cc:305] Operation '{name:'slice/slice/Identity' id:303 op device:{requested: '', assigned: ''} def:{{{node slice/slice/Identity}} = Identity[T=DT_FLOAT, _has_manual_control_dependencies=true](lambda_1/mul)}}' was changed by setting attribute after it was run by a session. This mutation will have no effect, and will trigger an error in the future. Either don't modify nodes after running them or create a new session.\n"
     ]
    },
    {
     "name": "stdout",
     "output_type": "stream",
     "text": [
      "2025-09-17 13:42:50 | X_tr: dense  (298, 51777) dtype=int64\n",
      "2025-09-17 13:42:50 | X_va: dense  (149, 51777) dtype=int64\n"
     ]
    },
    {
     "name": "stderr",
     "output_type": "stream",
     "text": [
      "/home/ma/ma_ma/ma_minjlee/.conda/envs/dca_gpu/lib/python3.10/site-packages/scanpy/preprocessing/_highly_variable_genes.py:64: UserWarning: `flavor='seurat_v3'` expects raw count data, but non-integers were found.\n",
      "  warnings.warn(\n"
     ]
    },
    {
     "name": "stdout",
     "output_type": "stream",
     "text": [
      "2025-09-17 13:42:51 | [DCA] fold 2 | HVG=2000\n",
      "2025-09-17 13:42:51 | [DCA] fit hidden=[32, 64, 128] epochs=150 bs=64\n",
      "2025-09-17 13:42:51 | X_train: dense  (298, 2000) dtype=int64\n",
      "2025-09-17 13:42:51 | [time] [DCA] fold 2 predict mu_va start\n",
      "2025-09-17 13:42:51 | [DCA] predict_mean\n",
      "2025-09-17 13:42:51 | [time] [DCA] train(dca.api.dca) start\n",
      "dca: Successfully preprocessed 2000 genes and 447 cells.\n"
     ]
    },
    {
     "name": "stderr",
     "output_type": "stream",
     "text": [
      "2025-09-17 13:42:51.405198: W tensorflow/c/c_api.cc:305] Operation '{name:'center/kernel/Assign' id:89 op device:{requested: '', assigned: ''} def:{{{node center/kernel/Assign}} = AssignVariableOp[_has_manual_control_dependencies=true, dtype=DT_FLOAT, validate_shape=false](center/kernel, center/kernel/Initializer/stateless_random_uniform)}}' was changed by setting attribute after it was run by a session. This mutation will have no effect, and will trigger an error in the future. Either don't modify nodes after running them or create a new session.\n",
      "2025-09-17 13:42:51.849317: W tensorflow/c/c_api.cc:305] Operation '{name:'batch_normalization_2/cond_3/Identity' id:205 op device:{requested: '', assigned: ''} def:{{{node batch_normalization_2/cond_3/Identity}} = Identity[T=DT_FLOAT, _has_manual_control_dependencies=true](batch_normalization_2/cond_3)}}' was changed by setting attribute after it was run by a session. This mutation will have no effect, and will trigger an error in the future. Either don't modify nodes after running them or create a new session.\n",
      "2025-09-17 13:42:51.898987: W tensorflow/c/c_api.cc:305] Operation '{name:'training/RMSprop/momentum/Assign' id:856 op device:{requested: '', assigned: ''} def:{{{node training/RMSprop/momentum/Assign}} = AssignVariableOp[_has_manual_control_dependencies=true, dtype=DT_FLOAT, validate_shape=false](training/RMSprop/momentum, training/RMSprop/momentum/Initializer/initial_value)}}' was changed by setting attribute after it was run by a session. This mutation will have no effect, and will trigger an error in the future. Either don't modify nodes after running them or create a new session.\n",
      "/home/ma/ma_ma/ma_minjlee/.conda/envs/dca_gpu/lib/python3.10/site-packages/keras/src/engine/training_v1.py:2335: UserWarning: `Model.state_updates` will be removed in a future version. This property should not be used in TensorFlow 2.0, as `updates` are applied automatically.\n",
      "  updates = self.state_updates\n",
      "2025-09-17 13:42:52.291578: W tensorflow/c/c_api.cc:305] Operation '{name:'loss/AddN_1' id:374 op device:{requested: '', assigned: ''} def:{{{node loss/AddN_1}} = AddN[N=2, T=DT_FLOAT, _has_manual_control_dependencies=true](loss/mul, loss/AddN)}}' was changed by setting attribute after it was run by a session. This mutation will have no effect, and will trigger an error in the future. Either don't modify nodes after running them or create a new session.\n"
     ]
    },
    {
     "name": "stdout",
     "output_type": "stream",
     "text": [
      "dca: Calculating reconstructions...\n",
      "2025-09-17 13:43:20 | [time] [DCA] train(dca.api.dca) end in 29.51s\n",
      "2025-09-17 13:43:20 | [time] [DCA] fold 2 predict mu_va end in 29.52s\n",
      "2025-09-17 13:43:20 | [time] [DCA] fold 2/3 end in 30.38s\n",
      "2025-09-17 13:43:20 | [time] [DCA] fold 3/3 start\n"
     ]
    },
    {
     "name": "stderr",
     "output_type": "stream",
     "text": [
      "/home/ma/ma_ma/ma_minjlee/.conda/envs/dca_gpu/lib/python3.10/site-packages/keras/src/engine/training_v1.py:2359: UserWarning: `Model.state_updates` will be removed in a future version. This property should not be used in TensorFlow 2.0, as `updates` are applied automatically.\n",
      "  updates=self.state_updates,\n",
      "2025-09-17 13:43:20.573603: W tensorflow/c/c_api.cc:305] Operation '{name:'slice/slice/Identity' id:303 op device:{requested: '', assigned: ''} def:{{{node slice/slice/Identity}} = Identity[T=DT_FLOAT, _has_manual_control_dependencies=true](lambda_1/mul)}}' was changed by setting attribute after it was run by a session. This mutation will have no effect, and will trigger an error in the future. Either don't modify nodes after running them or create a new session.\n"
     ]
    },
    {
     "name": "stdout",
     "output_type": "stream",
     "text": [
      "2025-09-17 13:43:20 | X_tr: dense  (298, 51777) dtype=int64\n",
      "2025-09-17 13:43:20 | X_va: dense  (149, 51777) dtype=int64\n"
     ]
    },
    {
     "name": "stderr",
     "output_type": "stream",
     "text": [
      "/home/ma/ma_ma/ma_minjlee/.conda/envs/dca_gpu/lib/python3.10/site-packages/scanpy/preprocessing/_highly_variable_genes.py:64: UserWarning: `flavor='seurat_v3'` expects raw count data, but non-integers were found.\n",
      "  warnings.warn(\n"
     ]
    },
    {
     "name": "stdout",
     "output_type": "stream",
     "text": [
      "2025-09-17 13:44:35 | [DCA] fold 3 | HVG=2000\n",
      "2025-09-17 13:44:35 | [DCA] fit hidden=[32, 64, 128] epochs=150 bs=64\n",
      "2025-09-17 13:44:35 | X_train: dense  (298, 2000) dtype=int64\n",
      "2025-09-17 13:44:35 | [time] [DCA] fold 3 predict mu_va start\n",
      "2025-09-17 13:44:35 | [DCA] predict_mean\n",
      "2025-09-17 13:44:35 | [time] [DCA] train(dca.api.dca) start\n",
      "dca: Successfully preprocessed 2000 genes and 447 cells.\n"
     ]
    },
    {
     "name": "stderr",
     "output_type": "stream",
     "text": [
      "2025-09-17 13:44:36.212554: W tensorflow/c/c_api.cc:305] Operation '{name:'mean/bias/Assign' id:268 op device:{requested: '', assigned: ''} def:{{{node mean/bias/Assign}} = AssignVariableOp[_has_manual_control_dependencies=true, dtype=DT_FLOAT, validate_shape=false](mean/bias, mean/bias/Initializer/zeros)}}' was changed by setting attribute after it was run by a session. This mutation will have no effect, and will trigger an error in the future. Either don't modify nodes after running them or create a new session.\n",
      "2025-09-17 13:44:36.679348: W tensorflow/c/c_api.cc:305] Operation '{name:'batch_normalization_2/cond_3/Identity' id:205 op device:{requested: '', assigned: ''} def:{{{node batch_normalization_2/cond_3/Identity}} = Identity[T=DT_FLOAT, _has_manual_control_dependencies=true](batch_normalization_2/cond_3)}}' was changed by setting attribute after it was run by a session. This mutation will have no effect, and will trigger an error in the future. Either don't modify nodes after running them or create a new session.\n",
      "2025-09-17 13:44:36.729203: W tensorflow/c/c_api.cc:305] Operation '{name:'training/RMSprop/center/bias/rms/Assign' id:890 op device:{requested: '', assigned: ''} def:{{{node training/RMSprop/center/bias/rms/Assign}} = AssignVariableOp[_has_manual_control_dependencies=true, dtype=DT_FLOAT, validate_shape=false](training/RMSprop/center/bias/rms, training/RMSprop/center/bias/rms/Initializer/zeros)}}' was changed by setting attribute after it was run by a session. This mutation will have no effect, and will trigger an error in the future. Either don't modify nodes after running them or create a new session.\n",
      "/home/ma/ma_ma/ma_minjlee/.conda/envs/dca_gpu/lib/python3.10/site-packages/keras/src/engine/training_v1.py:2335: UserWarning: `Model.state_updates` will be removed in a future version. This property should not be used in TensorFlow 2.0, as `updates` are applied automatically.\n",
      "  updates = self.state_updates\n",
      "2025-09-17 13:44:37.169851: W tensorflow/c/c_api.cc:305] Operation '{name:'loss/AddN_1' id:374 op device:{requested: '', assigned: ''} def:{{{node loss/AddN_1}} = AddN[N=2, T=DT_FLOAT, _has_manual_control_dependencies=true](loss/mul, loss/AddN)}}' was changed by setting attribute after it was run by a session. This mutation will have no effect, and will trigger an error in the future. Either don't modify nodes after running them or create a new session.\n"
     ]
    },
    {
     "name": "stdout",
     "output_type": "stream",
     "text": [
      "dca: Calculating reconstructions...\n",
      "2025-09-17 13:45:07 | [time] [DCA] train(dca.api.dca) end in 31.30s\n",
      "2025-09-17 13:45:07 | [time] [DCA] fold 3 predict mu_va end in 31.31s\n",
      "2025-09-17 13:45:07 | [time] [DCA] fold 3/3 end in 106.58s\n",
      "2025-09-17 13:45:07 | [cv_dca_5fold] done"
     ]
    },
    {
     "name": "stderr",
     "output_type": "stream",
     "text": [
      "/home/ma/ma_ma/ma_minjlee/.conda/envs/dca_gpu/lib/python3.10/site-packages/keras/src/engine/training_v1.py:2359: UserWarning: `Model.state_updates` will be removed in a future version. This property should not be used in TensorFlow 2.0, as `updates` are applied automatically.\n",
      "  updates=self.state_updates,\n",
      "2025-09-17 13:45:07.156360: W tensorflow/c/c_api.cc:305] Operation '{name:'slice/slice/Identity' id:303 op device:{requested: '', assigned: ''} def:{{{node slice/slice/Identity}} = Identity[T=DT_FLOAT, _has_manual_control_dependencies=true](lambda_1/mul)}}' was changed by setting attribute after it was run by a session. This mutation will have no effect, and will trigger an error in the future. Either don't modify nodes after running them or create a new session.\n"
     ]
    },
    {
     "name": "stdout",
     "output_type": "stream",
     "text": [
      "\n"
     ]
    },
    {
     "name": "stderr",
     "output_type": "stream",
     "text": [
      "[I 2025-09-17 13:45:07,360] Trial 15 finished with value: -4.399647434015976 and parameters: {'h1': 32, 'h2': 64, 'h3': 128, 'epochs': 150, 'batch_size': 64, 'n_hvg': 2000}. Best is trial 6 with value: -4.399647434015976.\n"
     ]
    },
    {
     "name": "stdout",
     "output_type": "stream",
     "text": [
      "2025-09-17 13:45:08 | [cv_dca_5fold] start k=3 n_hvg=2000 mode=seurat_v3 R=1 mask_frac=0.1 thinning_p=0.1\n",
      "2025-09-17 13:45:08 | X_counts: dense  (447, 51777) dtype=int64\n",
      "2025-09-17 13:45:16 | X_counts: zeros=66.23%, approx_int=True\n",
      "2025-09-17 13:45:16 | [time] [DCA] fold 1/3 start\n",
      "2025-09-17 13:45:16 | X_tr: dense  (298, 51777) dtype=int64\n",
      "2025-09-17 13:45:16 | X_va: dense  (149, 51777) dtype=int64\n"
     ]
    },
    {
     "name": "stderr",
     "output_type": "stream",
     "text": [
      "/home/ma/ma_ma/ma_minjlee/.conda/envs/dca_gpu/lib/python3.10/site-packages/scanpy/preprocessing/_highly_variable_genes.py:64: UserWarning: `flavor='seurat_v3'` expects raw count data, but non-integers were found.\n",
      "  warnings.warn(\n"
     ]
    },
    {
     "name": "stdout",
     "output_type": "stream",
     "text": [
      "2025-09-17 13:45:17 | [DCA] fold 1 | HVG=2000\n",
      "2025-09-17 13:45:17 | [DCA] fit hidden=[32, 64, 128] epochs=50 bs=64\n",
      "2025-09-17 13:45:17 | X_train: dense  (298, 2000) dtype=int64\n",
      "2025-09-17 13:45:17 | [time] [DCA] fold 1 predict mu_va start\n",
      "2025-09-17 13:45:17 | [DCA] predict_mean\n",
      "2025-09-17 13:45:17 | [time] [DCA] train(dca.api.dca) start\n",
      "dca: Successfully preprocessed 2000 genes and 447 cells.\n"
     ]
    },
    {
     "name": "stderr",
     "output_type": "stream",
     "text": [
      "2025-09-17 13:45:17.520956: W tensorflow/c/c_api.cc:305] Operation '{name:'batch_normalization_2/beta/Assign' id:174 op device:{requested: '', assigned: ''} def:{{{node batch_normalization_2/beta/Assign}} = AssignVariableOp[_has_manual_control_dependencies=true, dtype=DT_FLOAT, validate_shape=false](batch_normalization_2/beta, batch_normalization_2/beta/Initializer/zeros)}}' was changed by setting attribute after it was run by a session. This mutation will have no effect, and will trigger an error in the future. Either don't modify nodes after running them or create a new session.\n",
      "2025-09-17 13:45:17.994797: W tensorflow/c/c_api.cc:305] Operation '{name:'batch_normalization_2/cond_3/Identity' id:205 op device:{requested: '', assigned: ''} def:{{{node batch_normalization_2/cond_3/Identity}} = Identity[T=DT_FLOAT, _has_manual_control_dependencies=true](batch_normalization_2/cond_3)}}' was changed by setting attribute after it was run by a session. This mutation will have no effect, and will trigger an error in the future. Either don't modify nodes after running them or create a new session.\n",
      "2025-09-17 13:45:18.044986: W tensorflow/c/c_api.cc:305] Operation '{name:'training/RMSprop/mean/bias/rms/Assign' id:926 op device:{requested: '', assigned: ''} def:{{{node training/RMSprop/mean/bias/rms/Assign}} = AssignVariableOp[_has_manual_control_dependencies=true, dtype=DT_FLOAT, validate_shape=false](training/RMSprop/mean/bias/rms, training/RMSprop/mean/bias/rms/Initializer/zeros)}}' was changed by setting attribute after it was run by a session. This mutation will have no effect, and will trigger an error in the future. Either don't modify nodes after running them or create a new session.\n",
      "/home/ma/ma_ma/ma_minjlee/.conda/envs/dca_gpu/lib/python3.10/site-packages/keras/src/engine/training_v1.py:2335: UserWarning: `Model.state_updates` will be removed in a future version. This property should not be used in TensorFlow 2.0, as `updates` are applied automatically.\n",
      "  updates = self.state_updates\n",
      "2025-09-17 13:45:18.551669: W tensorflow/c/c_api.cc:305] Operation '{name:'loss/AddN_1' id:374 op device:{requested: '', assigned: ''} def:{{{node loss/AddN_1}} = AddN[N=2, T=DT_FLOAT, _has_manual_control_dependencies=true](loss/mul, loss/AddN)}}' was changed by setting attribute after it was run by a session. This mutation will have no effect, and will trigger an error in the future. Either don't modify nodes after running them or create a new session.\n"
     ]
    },
    {
     "name": "stdout",
     "output_type": "stream",
     "text": [
      "dca: Calculating reconstructions...\n",
      "2025-09-17 13:45:28 | [time] [DCA] train(dca.api.dca) end in 11.18s\n",
      "2025-09-17 13:45:28 | [time] [DCA] fold 1 predict mu_va end in 11.19s\n",
      "2025-09-17 13:45:28 | [time] [DCA] fold 1/3 end in 11.96s\n",
      "2025-09-17 13:45:28 | [time] [DCA] fold 2/3 start\n"
     ]
    },
    {
     "name": "stderr",
     "output_type": "stream",
     "text": [
      "/home/ma/ma_ma/ma_minjlee/.conda/envs/dca_gpu/lib/python3.10/site-packages/keras/src/engine/training_v1.py:2359: UserWarning: `Model.state_updates` will be removed in a future version. This property should not be used in TensorFlow 2.0, as `updates` are applied automatically.\n",
      "  updates=self.state_updates,\n",
      "2025-09-17 13:45:28.358516: W tensorflow/c/c_api.cc:305] Operation '{name:'slice/slice/Identity' id:303 op device:{requested: '', assigned: ''} def:{{{node slice/slice/Identity}} = Identity[T=DT_FLOAT, _has_manual_control_dependencies=true](lambda_1/mul)}}' was changed by setting attribute after it was run by a session. This mutation will have no effect, and will trigger an error in the future. Either don't modify nodes after running them or create a new session.\n"
     ]
    },
    {
     "name": "stdout",
     "output_type": "stream",
     "text": [
      "2025-09-17 13:45:28 | X_tr: dense  (298, 51777) dtype=int64\n",
      "2025-09-17 13:45:28 | X_va: dense  (149, 51777) dtype=int64\n"
     ]
    },
    {
     "name": "stderr",
     "output_type": "stream",
     "text": [
      "/home/ma/ma_ma/ma_minjlee/.conda/envs/dca_gpu/lib/python3.10/site-packages/scanpy/preprocessing/_highly_variable_genes.py:64: UserWarning: `flavor='seurat_v3'` expects raw count data, but non-integers were found.\n",
      "  warnings.warn(\n"
     ]
    },
    {
     "name": "stdout",
     "output_type": "stream",
     "text": [
      "2025-09-17 13:45:29 | [DCA] fold 2 | HVG=2000\n",
      "2025-09-17 13:45:29 | [DCA] fit hidden=[32, 64, 128] epochs=50 bs=64\n",
      "2025-09-17 13:45:29 | X_train: dense  (298, 2000) dtype=int64\n",
      "2025-09-17 13:45:29 | [time] [DCA] fold 2 predict mu_va start\n",
      "2025-09-17 13:45:29 | [DCA] predict_mean\n",
      "2025-09-17 13:45:29 | [time] [DCA] train(dca.api.dca) start\n",
      "dca: Successfully preprocessed 2000 genes and 447 cells.\n"
     ]
    },
    {
     "name": "stderr",
     "output_type": "stream",
     "text": [
      "2025-09-17 13:45:29.494604: W tensorflow/c/c_api.cc:305] Operation '{name:'mean/kernel/Assign' id:261 op device:{requested: '', assigned: ''} def:{{{node mean/kernel/Assign}} = AssignVariableOp[_has_manual_control_dependencies=true, dtype=DT_FLOAT, validate_shape=false](mean/kernel, mean/kernel/Initializer/stateless_random_uniform)}}' was changed by setting attribute after it was run by a session. This mutation will have no effect, and will trigger an error in the future. Either don't modify nodes after running them or create a new session.\n",
      "2025-09-17 13:45:29.930759: W tensorflow/c/c_api.cc:305] Operation '{name:'batch_normalization_2/cond_3/Identity' id:205 op device:{requested: '', assigned: ''} def:{{{node batch_normalization_2/cond_3/Identity}} = Identity[T=DT_FLOAT, _has_manual_control_dependencies=true](batch_normalization_2/cond_3)}}' was changed by setting attribute after it was run by a session. This mutation will have no effect, and will trigger an error in the future. Either don't modify nodes after running them or create a new session.\n",
      "2025-09-17 13:45:29.980265: W tensorflow/c/c_api.cc:305] Operation '{name:'training/RMSprop/dispersion/kernel/rms/Assign' id:933 op device:{requested: '', assigned: ''} def:{{{node training/RMSprop/dispersion/kernel/rms/Assign}} = AssignVariableOp[_has_manual_control_dependencies=true, dtype=DT_FLOAT, validate_shape=false](training/RMSprop/dispersion/kernel/rms, training/RMSprop/dispersion/kernel/rms/Initializer/zeros)}}' was changed by setting attribute after it was run by a session. This mutation will have no effect, and will trigger an error in the future. Either don't modify nodes after running them or create a new session.\n",
      "/home/ma/ma_ma/ma_minjlee/.conda/envs/dca_gpu/lib/python3.10/site-packages/keras/src/engine/training_v1.py:2335: UserWarning: `Model.state_updates` will be removed in a future version. This property should not be used in TensorFlow 2.0, as `updates` are applied automatically.\n",
      "  updates = self.state_updates\n",
      "2025-09-17 13:45:30.394842: W tensorflow/c/c_api.cc:305] Operation '{name:'loss/AddN_1' id:374 op device:{requested: '', assigned: ''} def:{{{node loss/AddN_1}} = AddN[N=2, T=DT_FLOAT, _has_manual_control_dependencies=true](loss/mul, loss/AddN)}}' was changed by setting attribute after it was run by a session. This mutation will have no effect, and will trigger an error in the future. Either don't modify nodes after running them or create a new session.\n"
     ]
    },
    {
     "name": "stdout",
     "output_type": "stream",
     "text": [
      "dca: Calculating reconstructions...\n",
      "2025-09-17 13:45:40 | [time] [DCA] train(dca.api.dca) end in 10.99s\n",
      "2025-09-17 13:45:40 | [time] [DCA] fold 2 predict mu_va end in 11.00s\n"
     ]
    },
    {
     "name": "stderr",
     "output_type": "stream",
     "text": [
      "/home/ma/ma_ma/ma_minjlee/.conda/envs/dca_gpu/lib/python3.10/site-packages/keras/src/engine/training_v1.py:2359: UserWarning: `Model.state_updates` will be removed in a future version. This property should not be used in TensorFlow 2.0, as `updates` are applied automatically.\n",
      "  updates=self.state_updates,\n",
      "2025-09-17 13:45:40.097959: W tensorflow/c/c_api.cc:305] Operation '{name:'slice/slice/Identity' id:303 op device:{requested: '', assigned: ''} def:{{{node slice/slice/Identity}} = Identity[T=DT_FLOAT, _has_manual_control_dependencies=true](lambda_1/mul)}}' was changed by setting attribute after it was run by a session. This mutation will have no effect, and will trigger an error in the future. Either don't modify nodes after running them or create a new session.\n"
     ]
    },
    {
     "name": "stdout",
     "output_type": "stream",
     "text": [
      "2025-09-17 13:45:40 | [time] [DCA] fold 2/3 end in 11.76s\n",
      "2025-09-17 13:45:40 | [time] [DCA] fold 3/3 start\n",
      "2025-09-17 13:45:40 | X_tr: dense  (298, 51777) dtype=int64\n",
      "2025-09-17 13:45:40 | X_va: dense  (149, 51777) dtype=int64\n"
     ]
    },
    {
     "name": "stderr",
     "output_type": "stream",
     "text": [
      "/home/ma/ma_ma/ma_minjlee/.conda/envs/dca_gpu/lib/python3.10/site-packages/scanpy/preprocessing/_highly_variable_genes.py:64: UserWarning: `flavor='seurat_v3'` expects raw count data, but non-integers were found.\n",
      "  warnings.warn(\n"
     ]
    },
    {
     "name": "stdout",
     "output_type": "stream",
     "text": [
      "2025-09-17 13:46:21 | [DCA] fold 3 | HVG=2000\n",
      "2025-09-17 13:46:21 | [DCA] fit hidden=[32, 64, 128] epochs=50 bs=64\n",
      "2025-09-17 13:46:21 | X_train: dense  (298, 2000) dtype=int64\n",
      "2025-09-17 13:46:21 | [time] [DCA] fold 3 predict mu_va start\n",
      "2025-09-17 13:46:21 | [DCA] predict_mean\n",
      "2025-09-17 13:46:21 | [time] [DCA] train(dca.api.dca) start\n",
      "dca: Successfully preprocessed 2000 genes and 447 cells.\n"
     ]
    },
    {
     "name": "stderr",
     "output_type": "stream",
     "text": [
      "2025-09-17 13:46:21.514103: W tensorflow/c/c_api.cc:305] Operation '{name:'mean/bias/Assign' id:268 op device:{requested: '', assigned: ''} def:{{{node mean/bias/Assign}} = AssignVariableOp[_has_manual_control_dependencies=true, dtype=DT_FLOAT, validate_shape=false](mean/bias, mean/bias/Initializer/zeros)}}' was changed by setting attribute after it was run by a session. This mutation will have no effect, and will trigger an error in the future. Either don't modify nodes after running them or create a new session.\n",
      "2025-09-17 13:46:21.961861: W tensorflow/c/c_api.cc:305] Operation '{name:'batch_normalization_2/cond_3/Identity' id:205 op device:{requested: '', assigned: ''} def:{{{node batch_normalization_2/cond_3/Identity}} = Identity[T=DT_FLOAT, _has_manual_control_dependencies=true](batch_normalization_2/cond_3)}}' was changed by setting attribute after it was run by a session. This mutation will have no effect, and will trigger an error in the future. Either don't modify nodes after running them or create a new session.\n",
      "2025-09-17 13:46:22.011194: W tensorflow/c/c_api.cc:305] Operation '{name:'training/RMSprop/center/bias/rms/Assign' id:890 op device:{requested: '', assigned: ''} def:{{{node training/RMSprop/center/bias/rms/Assign}} = AssignVariableOp[_has_manual_control_dependencies=true, dtype=DT_FLOAT, validate_shape=false](training/RMSprop/center/bias/rms, training/RMSprop/center/bias/rms/Initializer/zeros)}}' was changed by setting attribute after it was run by a session. This mutation will have no effect, and will trigger an error in the future. Either don't modify nodes after running them or create a new session.\n",
      "/home/ma/ma_ma/ma_minjlee/.conda/envs/dca_gpu/lib/python3.10/site-packages/keras/src/engine/training_v1.py:2335: UserWarning: `Model.state_updates` will be removed in a future version. This property should not be used in TensorFlow 2.0, as `updates` are applied automatically.\n",
      "  updates = self.state_updates\n",
      "2025-09-17 13:46:22.455684: W tensorflow/c/c_api.cc:305] Operation '{name:'loss/AddN_1' id:374 op device:{requested: '', assigned: ''} def:{{{node loss/AddN_1}} = AddN[N=2, T=DT_FLOAT, _has_manual_control_dependencies=true](loss/mul, loss/AddN)}}' was changed by setting attribute after it was run by a session. This mutation will have no effect, and will trigger an error in the future. Either don't modify nodes after running them or create a new session.\n"
     ]
    },
    {
     "name": "stdout",
     "output_type": "stream",
     "text": [
      "dca: Calculating reconstructions...\n",
      "2025-09-17 13:46:32 | [time] [DCA] train(dca.api.dca) end in 10.83s\n",
      "2025-09-17 13:46:32 | [time] [DCA] fold 3 predict mu_va end in 10.84s\n",
      "2025-09-17 13:46:32 | [time] [DCA] fold 3/3 end in 51.87s\n"
     ]
    },
    {
     "name": "stderr",
     "output_type": "stream",
     "text": [
      "/home/ma/ma_ma/ma_minjlee/.conda/envs/dca_gpu/lib/python3.10/site-packages/keras/src/engine/training_v1.py:2359: UserWarning: `Model.state_updates` will be removed in a future version. This property should not be used in TensorFlow 2.0, as `updates` are applied automatically.\n",
      "  updates=self.state_updates,\n",
      "2025-09-17 13:46:31.985164: W tensorflow/c/c_api.cc:305] Operation '{name:'slice/slice/Identity' id:303 op device:{requested: '', assigned: ''} def:{{{node slice/slice/Identity}} = Identity[T=DT_FLOAT, _has_manual_control_dependencies=true](lambda_1/mul)}}' was changed by setting attribute after it was run by a session. This mutation will have no effect, and will trigger an error in the future. Either don't modify nodes after running them or create a new session.\n"
     ]
    },
    {
     "name": "stdout",
     "output_type": "stream",
     "text": [
      "2025-09-17 13:46:32 | [cv_dca_5fold] done\n"
     ]
    },
    {
     "name": "stderr",
     "output_type": "stream",
     "text": [
      "[I 2025-09-17 13:46:32,189] Trial 16 finished with value: -4.534273758196771 and parameters: {'h1': 32, 'h2': 64, 'h3': 128, 'epochs': 50, 'batch_size': 64, 'n_hvg': 2000}. Best is trial 6 with value: -4.399647434015976.\n"
     ]
    },
    {
     "name": "stdout",
     "output_type": "stream",
     "text": [
      "2025-09-17 13:46:32 | [cv_dca_5fold] start k=3 n_hvg=800 mode=seurat_v3 R=1 mask_frac=0.1 thinning_p=0.1\n",
      "2025-09-17 13:46:32 | X_counts: dense  (447, 51777) dtype=int64\n",
      "2025-09-17 13:46:36 | X_counts: zeros=66.23%, approx_int=True\n",
      "2025-09-17 13:46:36 | [time] [DCA] fold 1/3 start\n",
      "2025-09-17 13:46:36 | X_tr: dense  (298, 51777) dtype=int64\n",
      "2025-09-17 13:46:36 | X_va: dense  (149, 51777) dtype=int64\n"
     ]
    },
    {
     "name": "stderr",
     "output_type": "stream",
     "text": [
      "/home/ma/ma_ma/ma_minjlee/.conda/envs/dca_gpu/lib/python3.10/site-packages/scanpy/preprocessing/_highly_variable_genes.py:64: UserWarning: `flavor='seurat_v3'` expects raw count data, but non-integers were found.\n",
      "  warnings.warn(\n"
     ]
    },
    {
     "name": "stdout",
     "output_type": "stream",
     "text": [
      "2025-09-17 13:46:37 | [DCA] fold 1 | HVG=800\n",
      "2025-09-17 13:46:37 | [DCA] fit hidden=[32, 64, 128] epochs=150 bs=64\n",
      "2025-09-17 13:46:37 | X_train: dense  (298, 800) dtype=int64\n",
      "2025-09-17 13:46:37 | [time] [DCA] fold 1 predict mu_va start\n",
      "2025-09-17 13:46:37 | [DCA] predict_mean\n",
      "2025-09-17 13:46:37 | [time] [DCA] train(dca.api.dca) start\n",
      "dca: Successfully preprocessed 800 genes and 447 cells.\n"
     ]
    },
    {
     "name": "stderr",
     "output_type": "stream",
     "text": [
      "2025-09-17 13:46:37.352403: W tensorflow/c/c_api.cc:305] Operation '{name:'dec1/kernel/Assign' id:160 op device:{requested: '', assigned: ''} def:{{{node dec1/kernel/Assign}} = AssignVariableOp[_has_manual_control_dependencies=true, dtype=DT_FLOAT, validate_shape=false](dec1/kernel, dec1/kernel/Initializer/stateless_random_uniform)}}' was changed by setting attribute after it was run by a session. This mutation will have no effect, and will trigger an error in the future. Either don't modify nodes after running them or create a new session.\n",
      "2025-09-17 13:46:37.807638: W tensorflow/c/c_api.cc:305] Operation '{name:'batch_normalization_2/cond_3/Identity' id:205 op device:{requested: '', assigned: ''} def:{{{node batch_normalization_2/cond_3/Identity}} = Identity[T=DT_FLOAT, _has_manual_control_dependencies=true](batch_normalization_2/cond_3)}}' was changed by setting attribute after it was run by a session. This mutation will have no effect, and will trigger an error in the future. Either don't modify nodes after running them or create a new session.\n",
      "2025-09-17 13:46:37.856943: W tensorflow/c/c_api.cc:305] Operation '{name:'training/RMSprop/dec1/bias/rms/Assign' id:903 op device:{requested: '', assigned: ''} def:{{{node training/RMSprop/dec1/bias/rms/Assign}} = AssignVariableOp[_has_manual_control_dependencies=true, dtype=DT_FLOAT, validate_shape=false](training/RMSprop/dec1/bias/rms, training/RMSprop/dec1/bias/rms/Initializer/zeros)}}' was changed by setting attribute after it was run by a session. This mutation will have no effect, and will trigger an error in the future. Either don't modify nodes after running them or create a new session.\n",
      "/home/ma/ma_ma/ma_minjlee/.conda/envs/dca_gpu/lib/python3.10/site-packages/keras/src/engine/training_v1.py:2335: UserWarning: `Model.state_updates` will be removed in a future version. This property should not be used in TensorFlow 2.0, as `updates` are applied automatically.\n",
      "  updates = self.state_updates\n",
      "2025-09-17 13:46:38.213542: W tensorflow/c/c_api.cc:305] Operation '{name:'loss/AddN_1' id:370 op device:{requested: '', assigned: ''} def:{{{node loss/AddN_1}} = AddN[N=2, T=DT_FLOAT, _has_manual_control_dependencies=true](loss/mul, loss/AddN)}}' was changed by setting attribute after it was run by a session. This mutation will have no effect, and will trigger an error in the future. Either don't modify nodes after running them or create a new session.\n"
     ]
    },
    {
     "name": "stdout",
     "output_type": "stream",
     "text": [
      "dca: Calculating reconstructions...\n",
      "2025-09-17 13:46:44 | [time] [DCA] train(dca.api.dca) end in 7.48s\n",
      "2025-09-17 13:46:44 | [time] [DCA] fold 1 predict mu_va end in 7.48s\n",
      "2025-09-17 13:46:44 | [time] [DCA] fold 1/3 end in 8.19s\n",
      "2025-09-17 13:46:44 | [time] [DCA] fold 2/3 start\n",
      "2025-09-17 13:46:44 | X_tr: dense  (298, 51777) dtype=int64\n",
      "2025-09-17 13:46:44 | X_va: dense  (149, 51777) dtype=int64\n"
     ]
    },
    {
     "name": "stderr",
     "output_type": "stream",
     "text": [
      "/home/ma/ma_ma/ma_minjlee/.conda/envs/dca_gpu/lib/python3.10/site-packages/keras/src/engine/training_v1.py:2359: UserWarning: `Model.state_updates` will be removed in a future version. This property should not be used in TensorFlow 2.0, as `updates` are applied automatically.\n",
      "  updates=self.state_updates,\n",
      "2025-09-17 13:46:44.505393: W tensorflow/c/c_api.cc:305] Operation '{name:'slice/slice/Identity' id:299 op device:{requested: '', assigned: ''} def:{{{node slice/slice/Identity}} = Identity[T=DT_FLOAT, _has_manual_control_dependencies=true](lambda_1/mul)}}' was changed by setting attribute after it was run by a session. This mutation will have no effect, and will trigger an error in the future. Either don't modify nodes after running them or create a new session.\n",
      "/home/ma/ma_ma/ma_minjlee/.conda/envs/dca_gpu/lib/python3.10/site-packages/scanpy/preprocessing/_highly_variable_genes.py:64: UserWarning: `flavor='seurat_v3'` expects raw count data, but non-integers were found.\n",
      "  warnings.warn(\n"
     ]
    },
    {
     "name": "stdout",
     "output_type": "stream",
     "text": [
      "2025-09-17 13:46:45 | [DCA] fold 2 | HVG=800\n",
      "2025-09-17 13:46:45 | [DCA] fit hidden=[32, 64, 128] epochs=150 bs=64\n",
      "2025-09-17 13:46:45 | X_train: dense  (298, 800) dtype=int64\n",
      "2025-09-17 13:46:45 | [time] [DCA] fold 2 predict mu_va start\n",
      "2025-09-17 13:46:45 | [DCA] predict_mean\n",
      "2025-09-17 13:46:45 | [time] [DCA] train(dca.api.dca) start\n",
      "dca: Successfully preprocessed 800 genes and 447 cells.\n"
     ]
    },
    {
     "name": "stderr",
     "output_type": "stream",
     "text": [
      "2025-09-17 13:46:45.497120: W tensorflow/c/c_api.cc:305] Operation '{name:'dispersion/kernel/Assign' id:231 op device:{requested: '', assigned: ''} def:{{{node dispersion/kernel/Assign}} = AssignVariableOp[_has_manual_control_dependencies=true, dtype=DT_FLOAT, validate_shape=false](dispersion/kernel, dispersion/kernel/Initializer/stateless_random_uniform)}}' was changed by setting attribute after it was run by a session. This mutation will have no effect, and will trigger an error in the future. Either don't modify nodes after running them or create a new session.\n",
      "2025-09-17 13:46:45.940491: W tensorflow/c/c_api.cc:305] Operation '{name:'batch_normalization_2/cond_3/Identity' id:205 op device:{requested: '', assigned: ''} def:{{{node batch_normalization_2/cond_3/Identity}} = Identity[T=DT_FLOAT, _has_manual_control_dependencies=true](batch_normalization_2/cond_3)}}' was changed by setting attribute after it was run by a session. This mutation will have no effect, and will trigger an error in the future. Either don't modify nodes after running them or create a new session.\n",
      "2025-09-17 13:46:45.989603: W tensorflow/c/c_api.cc:305] Operation '{name:'training/RMSprop/center/bias/rms/Assign' id:886 op device:{requested: '', assigned: ''} def:{{{node training/RMSprop/center/bias/rms/Assign}} = AssignVariableOp[_has_manual_control_dependencies=true, dtype=DT_FLOAT, validate_shape=false](training/RMSprop/center/bias/rms, training/RMSprop/center/bias/rms/Initializer/zeros)}}' was changed by setting attribute after it was run by a session. This mutation will have no effect, and will trigger an error in the future. Either don't modify nodes after running them or create a new session.\n",
      "/home/ma/ma_ma/ma_minjlee/.conda/envs/dca_gpu/lib/python3.10/site-packages/keras/src/engine/training_v1.py:2335: UserWarning: `Model.state_updates` will be removed in a future version. This property should not be used in TensorFlow 2.0, as `updates` are applied automatically.\n",
      "  updates = self.state_updates\n",
      "2025-09-17 13:46:46.341722: W tensorflow/c/c_api.cc:305] Operation '{name:'loss/AddN_1' id:370 op device:{requested: '', assigned: ''} def:{{{node loss/AddN_1}} = AddN[N=2, T=DT_FLOAT, _has_manual_control_dependencies=true](loss/mul, loss/AddN)}}' was changed by setting attribute after it was run by a session. This mutation will have no effect, and will trigger an error in the future. Either don't modify nodes after running them or create a new session.\n"
     ]
    },
    {
     "name": "stdout",
     "output_type": "stream",
     "text": [
      "dca: Calculating reconstructions...\n",
      "2025-09-17 13:46:54 | [time] [DCA] train(dca.api.dca) end in 9.13s\n",
      "2025-09-17 13:46:54 | [time] [DCA] fold 2 predict mu_va end in 9.14s\n",
      "2025-09-17 13:46:54 | [time] [DCA] fold 2/3 end in 9.81s\n",
      "2025-09-17 13:46:54 | [time] [DCA] fold 3/3 start\n"
     ]
    },
    {
     "name": "stderr",
     "output_type": "stream",
     "text": [
      "/home/ma/ma_ma/ma_minjlee/.conda/envs/dca_gpu/lib/python3.10/site-packages/keras/src/engine/training_v1.py:2359: UserWarning: `Model.state_updates` will be removed in a future version. This property should not be used in TensorFlow 2.0, as `updates` are applied automatically.\n",
      "  updates=self.state_updates,\n",
      "2025-09-17 13:46:54.313704: W tensorflow/c/c_api.cc:305] Operation '{name:'slice/slice/Identity' id:299 op device:{requested: '', assigned: ''} def:{{{node slice/slice/Identity}} = Identity[T=DT_FLOAT, _has_manual_control_dependencies=true](lambda_1/mul)}}' was changed by setting attribute after it was run by a session. This mutation will have no effect, and will trigger an error in the future. Either don't modify nodes after running them or create a new session.\n"
     ]
    },
    {
     "name": "stdout",
     "output_type": "stream",
     "text": [
      "2025-09-17 13:46:54 | X_tr: dense  (298, 51777) dtype=int64\n",
      "2025-09-17 13:46:54 | X_va: dense  (149, 51777) dtype=int64\n"
     ]
    },
    {
     "name": "stderr",
     "output_type": "stream",
     "text": [
      "/home/ma/ma_ma/ma_minjlee/.conda/envs/dca_gpu/lib/python3.10/site-packages/scanpy/preprocessing/_highly_variable_genes.py:64: UserWarning: `flavor='seurat_v3'` expects raw count data, but non-integers were found.\n",
      "  warnings.warn(\n"
     ]
    },
    {
     "name": "stdout",
     "output_type": "stream",
     "text": [
      "2025-09-17 13:47:40 | [DCA] fold 3 | HVG=800\n",
      "2025-09-17 13:47:40 | [DCA] fit hidden=[32, 64, 128] epochs=150 bs=64\n",
      "2025-09-17 13:47:40 | X_train: dense  (298, 800) dtype=int64\n",
      "2025-09-17 13:47:40 | [time] [DCA] fold 3 predict mu_va start\n",
      "2025-09-17 13:47:40 | [DCA] predict_mean\n",
      "2025-09-17 13:47:40 | [time] [DCA] train(dca.api.dca) start\n",
      "dca: Successfully preprocessed 800 genes and 447 cells.\n"
     ]
    },
    {
     "name": "stderr",
     "output_type": "stream",
     "text": [
      "2025-09-17 13:47:40.892778: W tensorflow/c/c_api.cc:305] Operation '{name:'dec1/bias/Assign' id:165 op device:{requested: '', assigned: ''} def:{{{node dec1/bias/Assign}} = AssignVariableOp[_has_manual_control_dependencies=true, dtype=DT_FLOAT, validate_shape=false](dec1/bias, dec1/bias/Initializer/zeros)}}' was changed by setting attribute after it was run by a session. This mutation will have no effect, and will trigger an error in the future. Either don't modify nodes after running them or create a new session.\n",
      "2025-09-17 13:47:41.322888: W tensorflow/c/c_api.cc:305] Operation '{name:'batch_normalization_2/cond_3/Identity' id:205 op device:{requested: '', assigned: ''} def:{{{node batch_normalization_2/cond_3/Identity}} = Identity[T=DT_FLOAT, _has_manual_control_dependencies=true](batch_normalization_2/cond_3)}}' was changed by setting attribute after it was run by a session. This mutation will have no effect, and will trigger an error in the future. Either don't modify nodes after running them or create a new session.\n",
      "2025-09-17 13:47:41.373102: W tensorflow/c/c_api.cc:305] Operation '{name:'training/RMSprop/batch_normalization_1/beta/rms/Assign' id:891 op device:{requested: '', assigned: ''} def:{{{node training/RMSprop/batch_normalization_1/beta/rms/Assign}} = AssignVariableOp[_has_manual_control_dependencies=true, dtype=DT_FLOAT, validate_shape=false](training/RMSprop/batch_normalization_1/beta/rms, training/RMSprop/batch_normalization_1/beta/rms/Initializer/zeros)}}' was changed by setting attribute after it was run by a session. This mutation will have no effect, and will trigger an error in the future. Either don't modify nodes after running them or create a new session.\n",
      "/home/ma/ma_ma/ma_minjlee/.conda/envs/dca_gpu/lib/python3.10/site-packages/keras/src/engine/training_v1.py:2335: UserWarning: `Model.state_updates` will be removed in a future version. This property should not be used in TensorFlow 2.0, as `updates` are applied automatically.\n",
      "  updates = self.state_updates\n",
      "2025-09-17 13:47:41.730878: W tensorflow/c/c_api.cc:305] Operation '{name:'loss/AddN_1' id:370 op device:{requested: '', assigned: ''} def:{{{node loss/AddN_1}} = AddN[N=2, T=DT_FLOAT, _has_manual_control_dependencies=true](loss/mul, loss/AddN)}}' was changed by setting attribute after it was run by a session. This mutation will have no effect, and will trigger an error in the future. Either don't modify nodes after running them or create a new session.\n"
     ]
    },
    {
     "name": "stdout",
     "output_type": "stream",
     "text": [
      "dca: Calculating reconstructions...\n",
      "2025-09-17 13:47:49 | [time] [DCA] train(dca.api.dca) end in 8.66s\n",
      "2025-09-17 13:47:49 | [time] [DCA] fold 3 predict mu_va end in 8.68s\n",
      "2025-09-17 13:47:49 | [time] [DCA] fold 3/3 end in 54.87s\n",
      "2025-09-17 13:47:49 | [cv_dca_5fold] done\n"
     ]
    },
    {
     "name": "stderr",
     "output_type": "stream",
     "text": [
      "/home/ma/ma_ma/ma_minjlee/.conda/envs/dca_gpu/lib/python3.10/site-packages/keras/src/engine/training_v1.py:2359: UserWarning: `Model.state_updates` will be removed in a future version. This property should not be used in TensorFlow 2.0, as `updates` are applied automatically.\n",
      "  updates=self.state_updates,\n",
      "2025-09-17 13:47:49.193451: W tensorflow/c/c_api.cc:305] Operation '{name:'slice/slice/Identity' id:299 op device:{requested: '', assigned: ''} def:{{{node slice/slice/Identity}} = Identity[T=DT_FLOAT, _has_manual_control_dependencies=true](lambda_1/mul)}}' was changed by setting attribute after it was run by a session. This mutation will have no effect, and will trigger an error in the future. Either don't modify nodes after running them or create a new session.\n",
      "[I 2025-09-17 13:47:49,328] Trial 17 finished with value: -4.7758373871325785 and parameters: {'h1': 32, 'h2': 64, 'h3': 128, 'epochs': 150, 'batch_size': 64, 'n_hvg': 800}. Best is trial 6 with value: -4.399647434015976.\n"
     ]
    },
    {
     "name": "stdout",
     "output_type": "stream",
     "text": [
      "2025-09-17 13:47:50 | [cv_dca_5fold] start k=3 n_hvg=1500 mode=seurat_v3 R=1 mask_frac=0.1 thinning_p=0.1\n",
      "2025-09-17 13:47:50 | X_counts: dense  (447, 51777) dtype=int64\n",
      "2025-09-17 13:47:52 | X_counts: zeros=66.23%, approx_int=True\n",
      "2025-09-17 13:47:52 | [time] [DCA] fold 1/3 start\n",
      "2025-09-17 13:47:52 | X_tr: dense  (298, 51777) dtype=int64\n",
      "2025-09-17 13:47:52 | X_va: dense  (149, 51777) dtype=int64\n"
     ]
    },
    {
     "name": "stderr",
     "output_type": "stream",
     "text": [
      "/home/ma/ma_ma/ma_minjlee/.conda/envs/dca_gpu/lib/python3.10/site-packages/scanpy/preprocessing/_highly_variable_genes.py:64: UserWarning: `flavor='seurat_v3'` expects raw count data, but non-integers were found.\n",
      "  warnings.warn(\n"
     ]
    },
    {
     "name": "stdout",
     "output_type": "stream",
     "text": [
      "2025-09-17 13:47:53 | [DCA] fold 1 | HVG=1500\n",
      "2025-09-17 13:47:53 | [DCA] fit hidden=[32, 64, 64] epochs=150 bs=64\n",
      "2025-09-17 13:47:53 | X_train: dense  (298, 1500) dtype=int64\n",
      "2025-09-17 13:47:53 | [time] [DCA] fold 1 predict mu_va start\n",
      "2025-09-17 13:47:53 | [DCA] predict_mean\n",
      "2025-09-17 13:47:53 | [time] [DCA] train(dca.api.dca) start\n",
      "dca: Successfully preprocessed 1500 genes and 447 cells.\n"
     ]
    },
    {
     "name": "stderr",
     "output_type": "stream",
     "text": [
      "2025-09-17 13:47:53.929988: W tensorflow/c/c_api.cc:305] Operation '{name:'center/bias/Assign' id:94 op device:{requested: '', assigned: ''} def:{{{node center/bias/Assign}} = AssignVariableOp[_has_manual_control_dependencies=true, dtype=DT_FLOAT, validate_shape=false](center/bias, center/bias/Initializer/zeros)}}' was changed by setting attribute after it was run by a session. This mutation will have no effect, and will trigger an error in the future. Either don't modify nodes after running them or create a new session.\n",
      "2025-09-17 13:47:54.345766: W tensorflow/c/c_api.cc:305] Operation '{name:'batch_normalization_2/cond_3/Identity' id:205 op device:{requested: '', assigned: ''} def:{{{node batch_normalization_2/cond_3/Identity}} = Identity[T=DT_FLOAT, _has_manual_control_dependencies=true](batch_normalization_2/cond_3)}}' was changed by setting attribute after it was run by a session. This mutation will have no effect, and will trigger an error in the future. Either don't modify nodes after running them or create a new session.\n",
      "2025-09-17 13:47:54.395327: W tensorflow/c/c_api.cc:305] Operation '{name:'training/RMSprop/mean/kernel/rms/Assign' id:919 op device:{requested: '', assigned: ''} def:{{{node training/RMSprop/mean/kernel/rms/Assign}} = AssignVariableOp[_has_manual_control_dependencies=true, dtype=DT_FLOAT, validate_shape=false](training/RMSprop/mean/kernel/rms, training/RMSprop/mean/kernel/rms/Initializer/zeros)}}' was changed by setting attribute after it was run by a session. This mutation will have no effect, and will trigger an error in the future. Either don't modify nodes after running them or create a new session.\n",
      "/home/ma/ma_ma/ma_minjlee/.conda/envs/dca_gpu/lib/python3.10/site-packages/keras/src/engine/training_v1.py:2335: UserWarning: `Model.state_updates` will be removed in a future version. This property should not be used in TensorFlow 2.0, as `updates` are applied automatically.\n",
      "  updates = self.state_updates\n",
      "2025-09-17 13:47:54.769359: W tensorflow/c/c_api.cc:305] Operation '{name:'loss/AddN_1' id:374 op device:{requested: '', assigned: ''} def:{{{node loss/AddN_1}} = AddN[N=2, T=DT_FLOAT, _has_manual_control_dependencies=true](loss/mul, loss/AddN)}}' was changed by setting attribute after it was run by a session. This mutation will have no effect, and will trigger an error in the future. Either don't modify nodes after running them or create a new session.\n"
     ]
    },
    {
     "name": "stdout",
     "output_type": "stream",
     "text": [
      "dca: Calculating reconstructions...\n",
      "2025-09-17 13:48:02 | [time] [DCA] train(dca.api.dca) end in 8.70s\n",
      "2025-09-17 13:48:02 | [time] [DCA] fold 1 predict mu_va end in 8.70s\n",
      "2025-09-17 13:48:02 | [time] [DCA] fold 1/3 end in 9.45s\n",
      "2025-09-17 13:48:02 | [time] [DCA] fold 2/3 start\n",
      "2025-09-17 13:48:02 | X_tr: dense  (298, 51777) dtype=int64\n",
      "2025-09-17 13:48:02 | X_va: dense  (149, 51777) dtype=int64\n"
     ]
    },
    {
     "name": "stderr",
     "output_type": "stream",
     "text": [
      "/home/ma/ma_ma/ma_minjlee/.conda/envs/dca_gpu/lib/python3.10/site-packages/keras/src/engine/training_v1.py:2359: UserWarning: `Model.state_updates` will be removed in a future version. This property should not be used in TensorFlow 2.0, as `updates` are applied automatically.\n",
      "  updates=self.state_updates,\n",
      "2025-09-17 13:48:02.209351: W tensorflow/c/c_api.cc:305] Operation '{name:'slice/slice/Identity' id:303 op device:{requested: '', assigned: ''} def:{{{node slice/slice/Identity}} = Identity[T=DT_FLOAT, _has_manual_control_dependencies=true](lambda_1/mul)}}' was changed by setting attribute after it was run by a session. This mutation will have no effect, and will trigger an error in the future. Either don't modify nodes after running them or create a new session.\n",
      "/home/ma/ma_ma/ma_minjlee/.conda/envs/dca_gpu/lib/python3.10/site-packages/scanpy/preprocessing/_highly_variable_genes.py:64: UserWarning: `flavor='seurat_v3'` expects raw count data, but non-integers were found.\n",
      "  warnings.warn(\n"
     ]
    },
    {
     "name": "stdout",
     "output_type": "stream",
     "text": [
      "2025-09-17 13:48:02 | [DCA] fold 2 | HVG=1500\n",
      "2025-09-17 13:48:02 | [DCA] fit hidden=[32, 64, 64] epochs=150 bs=64\n",
      "2025-09-17 13:48:02 | X_train: dense  (298, 1500) dtype=int64\n",
      "2025-09-17 13:48:02 | [time] [DCA] fold 2 predict mu_va start\n",
      "2025-09-17 13:48:02 | [DCA] predict_mean\n",
      "2025-09-17 13:48:03 | [time] [DCA] train(dca.api.dca) start\n",
      "dca: Successfully preprocessed 1500 genes and 447 cells.\n"
     ]
    },
    {
     "name": "stderr",
     "output_type": "stream",
     "text": [
      "2025-09-17 13:48:03.227012: W tensorflow/c/c_api.cc:305] Operation '{name:'batch_normalization_2/beta/Assign' id:174 op device:{requested: '', assigned: ''} def:{{{node batch_normalization_2/beta/Assign}} = AssignVariableOp[_has_manual_control_dependencies=true, dtype=DT_FLOAT, validate_shape=false](batch_normalization_2/beta, batch_normalization_2/beta/Initializer/zeros)}}' was changed by setting attribute after it was run by a session. This mutation will have no effect, and will trigger an error in the future. Either don't modify nodes after running them or create a new session.\n",
      "2025-09-17 13:48:03.646633: W tensorflow/c/c_api.cc:305] Operation '{name:'batch_normalization_2/cond_3/Identity' id:205 op device:{requested: '', assigned: ''} def:{{{node batch_normalization_2/cond_3/Identity}} = Identity[T=DT_FLOAT, _has_manual_control_dependencies=true](batch_normalization_2/cond_3)}}' was changed by setting attribute after it was run by a session. This mutation will have no effect, and will trigger an error in the future. Either don't modify nodes after running them or create a new session.\n",
      "2025-09-17 13:48:03.696192: W tensorflow/c/c_api.cc:305] Operation '{name:'training/RMSprop/dispersion/kernel/rms/Assign' id:933 op device:{requested: '', assigned: ''} def:{{{node training/RMSprop/dispersion/kernel/rms/Assign}} = AssignVariableOp[_has_manual_control_dependencies=true, dtype=DT_FLOAT, validate_shape=false](training/RMSprop/dispersion/kernel/rms, training/RMSprop/dispersion/kernel/rms/Initializer/zeros)}}' was changed by setting attribute after it was run by a session. This mutation will have no effect, and will trigger an error in the future. Either don't modify nodes after running them or create a new session.\n",
      "/home/ma/ma_ma/ma_minjlee/.conda/envs/dca_gpu/lib/python3.10/site-packages/keras/src/engine/training_v1.py:2335: UserWarning: `Model.state_updates` will be removed in a future version. This property should not be used in TensorFlow 2.0, as `updates` are applied automatically.\n",
      "  updates = self.state_updates\n",
      "2025-09-17 13:48:04.074328: W tensorflow/c/c_api.cc:305] Operation '{name:'loss/AddN_1' id:374 op device:{requested: '', assigned: ''} def:{{{node loss/AddN_1}} = AddN[N=2, T=DT_FLOAT, _has_manual_control_dependencies=true](loss/mul, loss/AddN)}}' was changed by setting attribute after it was run by a session. This mutation will have no effect, and will trigger an error in the future. Either don't modify nodes after running them or create a new session.\n"
     ]
    },
    {
     "name": "stdout",
     "output_type": "stream",
     "text": [
      "dca: Calculating reconstructions...\n",
      "2025-09-17 13:48:14 | [time] [DCA] train(dca.api.dca) end in 11.67s\n",
      "2025-09-17 13:48:14 | [time] [DCA] fold 2 predict mu_va end in 11.68s\n",
      "2025-09-17 13:48:14 | [time] [DCA] fold 2/3 end in 12.37s\n",
      "2025-09-17 13:48:14 | [time] [DCA] fold 3/3 start\n"
     ]
    },
    {
     "name": "stderr",
     "output_type": "stream",
     "text": [
      "/home/ma/ma_ma/ma_minjlee/.conda/envs/dca_gpu/lib/python3.10/site-packages/keras/src/engine/training_v1.py:2359: UserWarning: `Model.state_updates` will be removed in a future version. This property should not be used in TensorFlow 2.0, as `updates` are applied automatically.\n",
      "  updates=self.state_updates,\n",
      "2025-09-17 13:48:14.582470: W tensorflow/c/c_api.cc:305] Operation '{name:'slice/slice/Identity' id:303 op device:{requested: '', assigned: ''} def:{{{node slice/slice/Identity}} = Identity[T=DT_FLOAT, _has_manual_control_dependencies=true](lambda_1/mul)}}' was changed by setting attribute after it was run by a session. This mutation will have no effect, and will trigger an error in the future. Either don't modify nodes after running them or create a new session.\n"
     ]
    },
    {
     "name": "stdout",
     "output_type": "stream",
     "text": [
      "2025-09-17 13:48:14 | X_tr: dense  (298, 51777) dtype=int64\n",
      "2025-09-17 13:48:14 | X_va: dense  (149, 51777) dtype=int64\n"
     ]
    },
    {
     "name": "stderr",
     "output_type": "stream",
     "text": [
      "/home/ma/ma_ma/ma_minjlee/.conda/envs/dca_gpu/lib/python3.10/site-packages/scanpy/preprocessing/_highly_variable_genes.py:64: UserWarning: `flavor='seurat_v3'` expects raw count data, but non-integers were found.\n",
      "  warnings.warn(\n"
     ]
    },
    {
     "name": "stdout",
     "output_type": "stream",
     "text": [
      "2025-09-17 13:49:01 | [DCA] fold 3 | HVG=1500\n",
      "2025-09-17 13:49:01 | [DCA] fit hidden=[32, 64, 64] epochs=150 bs=64\n",
      "2025-09-17 13:49:01 | X_train: dense  (298, 1500) dtype=int64\n",
      "2025-09-17 13:49:01 | [time] [DCA] fold 3 predict mu_va start\n",
      "2025-09-17 13:49:01 | [DCA] predict_mean\n",
      "2025-09-17 13:49:01 | [time] [DCA] train(dca.api.dca) start\n",
      "dca: Successfully preprocessed 1500 genes and 447 cells.\n"
     ]
    },
    {
     "name": "stderr",
     "output_type": "stream",
     "text": [
      "2025-09-17 13:49:01.748882: W tensorflow/c/c_api.cc:305] Operation '{name:'batch_normalization_2/moving_variance/Assign' id:184 op device:{requested: '', assigned: ''} def:{{{node batch_normalization_2/moving_variance/Assign}} = AssignVariableOp[_has_manual_control_dependencies=true, dtype=DT_FLOAT, validate_shape=false](batch_normalization_2/moving_variance, batch_normalization_2/moving_variance/Initializer/ones)}}' was changed by setting attribute after it was run by a session. This mutation will have no effect, and will trigger an error in the future. Either don't modify nodes after running them or create a new session.\n",
      "2025-09-17 13:49:02.191481: W tensorflow/c/c_api.cc:305] Operation '{name:'batch_normalization_2/cond_3/Identity' id:205 op device:{requested: '', assigned: ''} def:{{{node batch_normalization_2/cond_3/Identity}} = Identity[T=DT_FLOAT, _has_manual_control_dependencies=true](batch_normalization_2/cond_3)}}' was changed by setting attribute after it was run by a session. This mutation will have no effect, and will trigger an error in the future. Either don't modify nodes after running them or create a new session.\n",
      "2025-09-17 13:49:02.241393: W tensorflow/c/c_api.cc:305] Operation '{name:'training/RMSprop/enc0/kernel/rms/Assign' id:868 op device:{requested: '', assigned: ''} def:{{{node training/RMSprop/enc0/kernel/rms/Assign}} = AssignVariableOp[_has_manual_control_dependencies=true, dtype=DT_FLOAT, validate_shape=false](training/RMSprop/enc0/kernel/rms, training/RMSprop/enc0/kernel/rms/Initializer/zeros)}}' was changed by setting attribute after it was run by a session. This mutation will have no effect, and will trigger an error in the future. Either don't modify nodes after running them or create a new session.\n",
      "/home/ma/ma_ma/ma_minjlee/.conda/envs/dca_gpu/lib/python3.10/site-packages/keras/src/engine/training_v1.py:2335: UserWarning: `Model.state_updates` will be removed in a future version. This property should not be used in TensorFlow 2.0, as `updates` are applied automatically.\n",
      "  updates = self.state_updates\n",
      "2025-09-17 13:49:02.618625: W tensorflow/c/c_api.cc:305] Operation '{name:'loss/AddN_1' id:374 op device:{requested: '', assigned: ''} def:{{{node loss/AddN_1}} = AddN[N=2, T=DT_FLOAT, _has_manual_control_dependencies=true](loss/mul, loss/AddN)}}' was changed by setting attribute after it was run by a session. This mutation will have no effect, and will trigger an error in the future. Either don't modify nodes after running them or create a new session.\n"
     ]
    },
    {
     "name": "stdout",
     "output_type": "stream",
     "text": [
      "dca: Calculating reconstructions...\n",
      "2025-09-17 13:49:13 | [time] [DCA] train(dca.api.dca) end in 11.91s\n",
      "2025-09-17 13:49:13 | [time] [DCA] fold 3 predict mu_va end in 11.92s\n",
      "2025-09-17 13:49:13 | [time] [DCA] fold 3/3 end in 58.74s\n",
      "2025-09-17 13:49:13 | [cv_dca_5fold] done\n"
     ]
    },
    {
     "name": "stderr",
     "output_type": "stream",
     "text": [
      "/home/ma/ma_ma/ma_minjlee/.conda/envs/dca_gpu/lib/python3.10/site-packages/keras/src/engine/training_v1.py:2359: UserWarning: `Model.state_updates` will be removed in a future version. This property should not be used in TensorFlow 2.0, as `updates` are applied automatically.\n",
      "  updates=self.state_updates,\n",
      "2025-09-17 13:49:13.316952: W tensorflow/c/c_api.cc:305] Operation '{name:'slice/slice/Identity' id:303 op device:{requested: '', assigned: ''} def:{{{node slice/slice/Identity}} = Identity[T=DT_FLOAT, _has_manual_control_dependencies=true](lambda_1/mul)}}' was changed by setting attribute after it was run by a session. This mutation will have no effect, and will trigger an error in the future. Either don't modify nodes after running them or create a new session.\n",
      "[I 2025-09-17 13:49:13,491] Trial 18 finished with value: -4.522321349454735 and parameters: {'h1': 32, 'h2': 64, 'h3': 64, 'epochs': 150, 'batch_size': 64, 'n_hvg': 1500}. Best is trial 6 with value: -4.399647434015976.\n"
     ]
    },
    {
     "name": "stdout",
     "output_type": "stream",
     "text": [
      "2025-09-17 13:49:14 | [cv_dca_5fold] start k=3 n_hvg=2000 mode=seurat_v3 R=1 mask_frac=0.1 thinning_p=0.1\n",
      "2025-09-17 13:49:14 | X_counts: dense  (447, 51777) dtype=int64\n",
      "2025-09-17 13:49:17 | X_counts: zeros=66.23%, approx_int=True\n",
      "2025-09-17 13:49:17 | [time] [DCA] fold 1/3 start\n",
      "2025-09-17 13:49:17 | X_tr: dense  (298, 51777) dtype=int64\n",
      "2025-09-17 13:49:17 | X_va: dense  (149, 51777) dtype=int64\n"
     ]
    },
    {
     "name": "stderr",
     "output_type": "stream",
     "text": [
      "/home/ma/ma_ma/ma_minjlee/.conda/envs/dca_gpu/lib/python3.10/site-packages/scanpy/preprocessing/_highly_variable_genes.py:64: UserWarning: `flavor='seurat_v3'` expects raw count data, but non-integers were found.\n",
      "  warnings.warn(\n"
     ]
    },
    {
     "name": "stdout",
     "output_type": "stream",
     "text": [
      "2025-09-17 13:49:17 | [DCA] fold 1 | HVG=2000\n",
      "2025-09-17 13:49:17 | [DCA] fit hidden=[32, 16, 32] epochs=150 bs=64\n",
      "2025-09-17 13:49:17 | X_train: dense  (298, 2000) dtype=int64\n",
      "2025-09-17 13:49:17 | [time] [DCA] fold 1 predict mu_va start\n",
      "2025-09-17 13:49:17 | [DCA] predict_mean\n",
      "2025-09-17 13:49:17 | [time] [DCA] train(dca.api.dca) start\n",
      "dca: Successfully preprocessed 2000 genes and 447 cells.\n"
     ]
    },
    {
     "name": "stderr",
     "output_type": "stream",
     "text": [
      "2025-09-17 13:49:18.039047: W tensorflow/c/c_api.cc:305] Operation '{name:'dispersion/bias/Assign' id:238 op device:{requested: '', assigned: ''} def:{{{node dispersion/bias/Assign}} = AssignVariableOp[_has_manual_control_dependencies=true, dtype=DT_FLOAT, validate_shape=false](dispersion/bias, dispersion/bias/Initializer/zeros)}}' was changed by setting attribute after it was run by a session. This mutation will have no effect, and will trigger an error in the future. Either don't modify nodes after running them or create a new session.\n",
      "2025-09-17 13:49:18.478986: W tensorflow/c/c_api.cc:305] Operation '{name:'batch_normalization_2/cond_3/Identity' id:205 op device:{requested: '', assigned: ''} def:{{{node batch_normalization_2/cond_3/Identity}} = Identity[T=DT_FLOAT, _has_manual_control_dependencies=true](batch_normalization_2/cond_3)}}' was changed by setting attribute after it was run by a session. This mutation will have no effect, and will trigger an error in the future. Either don't modify nodes after running them or create a new session.\n",
      "2025-09-17 13:49:18.528375: W tensorflow/c/c_api.cc:305] Operation '{name:'training/RMSprop/dec1/kernel/rms/Assign' id:898 op device:{requested: '', assigned: ''} def:{{{node training/RMSprop/dec1/kernel/rms/Assign}} = AssignVariableOp[_has_manual_control_dependencies=true, dtype=DT_FLOAT, validate_shape=false](training/RMSprop/dec1/kernel/rms, training/RMSprop/dec1/kernel/rms/Initializer/zeros)}}' was changed by setting attribute after it was run by a session. This mutation will have no effect, and will trigger an error in the future. Either don't modify nodes after running them or create a new session.\n",
      "/home/ma/ma_ma/ma_minjlee/.conda/envs/dca_gpu/lib/python3.10/site-packages/keras/src/engine/training_v1.py:2335: UserWarning: `Model.state_updates` will be removed in a future version. This property should not be used in TensorFlow 2.0, as `updates` are applied automatically.\n",
      "  updates = self.state_updates\n",
      "2025-09-17 13:49:18.915043: W tensorflow/c/c_api.cc:305] Operation '{name:'loss/AddN_1' id:374 op device:{requested: '', assigned: ''} def:{{{node loss/AddN_1}} = AddN[N=2, T=DT_FLOAT, _has_manual_control_dependencies=true](loss/mul, loss/AddN)}}' was changed by setting attribute after it was run by a session. This mutation will have no effect, and will trigger an error in the future. Either don't modify nodes after running them or create a new session.\n"
     ]
    },
    {
     "name": "stdout",
     "output_type": "stream",
     "text": [
      "dca: Calculating reconstructions...\n",
      "2025-09-17 13:49:31 | [time] [DCA] train(dca.api.dca) end in 13.65s\n",
      "2025-09-17 13:49:31 | [time] [DCA] fold 1 predict mu_va end in 13.66s\n",
      "2025-09-17 13:49:31 | [time] [DCA] fold 1/3 end in 14.44s\n",
      "2025-09-17 13:49:31 | [time] [DCA] fold 2/3 start\n"
     ]
    },
    {
     "name": "stderr",
     "output_type": "stream",
     "text": [
      "/home/ma/ma_ma/ma_minjlee/.conda/envs/dca_gpu/lib/python3.10/site-packages/keras/src/engine/training_v1.py:2359: UserWarning: `Model.state_updates` will be removed in a future version. This property should not be used in TensorFlow 2.0, as `updates` are applied automatically.\n",
      "  updates=self.state_updates,\n",
      "2025-09-17 13:49:31.346882: W tensorflow/c/c_api.cc:305] Operation '{name:'slice/slice/Identity' id:303 op device:{requested: '', assigned: ''} def:{{{node slice/slice/Identity}} = Identity[T=DT_FLOAT, _has_manual_control_dependencies=true](lambda_1/mul)}}' was changed by setting attribute after it was run by a session. This mutation will have no effect, and will trigger an error in the future. Either don't modify nodes after running them or create a new session.\n"
     ]
    },
    {
     "name": "stdout",
     "output_type": "stream",
     "text": [
      "2025-09-17 13:49:31 | X_tr: dense  (298, 51777) dtype=int64\n",
      "2025-09-17 13:49:31 | X_va: dense  (149, 51777) dtype=int64\n"
     ]
    },
    {
     "name": "stderr",
     "output_type": "stream",
     "text": [
      "/home/ma/ma_ma/ma_minjlee/.conda/envs/dca_gpu/lib/python3.10/site-packages/scanpy/preprocessing/_highly_variable_genes.py:64: UserWarning: `flavor='seurat_v3'` expects raw count data, but non-integers were found.\n",
      "  warnings.warn(\n"
     ]
    },
    {
     "name": "stdout",
     "output_type": "stream",
     "text": [
      "2025-09-17 13:49:32 | [DCA] fold 2 | HVG=2000\n",
      "2025-09-17 13:49:32 | [DCA] fit hidden=[32, 16, 32] epochs=150 bs=64\n",
      "2025-09-17 13:49:32 | X_train: dense  (298, 2000) dtype=int64\n",
      "2025-09-17 13:49:32 | [time] [DCA] fold 2 predict mu_va start\n",
      "2025-09-17 13:49:32 | [DCA] predict_mean\n",
      "2025-09-17 13:49:32 | [time] [DCA] train(dca.api.dca) start\n",
      "dca: Successfully preprocessed 2000 genes and 447 cells.\n"
     ]
    },
    {
     "name": "stderr",
     "output_type": "stream",
     "text": [
      "2025-09-17 13:49:32.433511: W tensorflow/c/c_api.cc:305] Operation '{name:'mean/kernel/Assign' id:261 op device:{requested: '', assigned: ''} def:{{{node mean/kernel/Assign}} = AssignVariableOp[_has_manual_control_dependencies=true, dtype=DT_FLOAT, validate_shape=false](mean/kernel, mean/kernel/Initializer/stateless_random_uniform)}}' was changed by setting attribute after it was run by a session. This mutation will have no effect, and will trigger an error in the future. Either don't modify nodes after running them or create a new session.\n",
      "2025-09-17 13:49:32.854160: W tensorflow/c/c_api.cc:305] Operation '{name:'batch_normalization_2/cond_3/Identity' id:205 op device:{requested: '', assigned: ''} def:{{{node batch_normalization_2/cond_3/Identity}} = Identity[T=DT_FLOAT, _has_manual_control_dependencies=true](batch_normalization_2/cond_3)}}' was changed by setting attribute after it was run by a session. This mutation will have no effect, and will trigger an error in the future. Either don't modify nodes after running them or create a new session.\n",
      "2025-09-17 13:49:32.903602: W tensorflow/c/c_api.cc:305] Operation '{name:'training/RMSprop/rho/Assign' id:861 op device:{requested: '', assigned: ''} def:{{{node training/RMSprop/rho/Assign}} = AssignVariableOp[_has_manual_control_dependencies=true, dtype=DT_FLOAT, validate_shape=false](training/RMSprop/rho, training/RMSprop/rho/Initializer/initial_value)}}' was changed by setting attribute after it was run by a session. This mutation will have no effect, and will trigger an error in the future. Either don't modify nodes after running them or create a new session.\n",
      "/home/ma/ma_ma/ma_minjlee/.conda/envs/dca_gpu/lib/python3.10/site-packages/keras/src/engine/training_v1.py:2335: UserWarning: `Model.state_updates` will be removed in a future version. This property should not be used in TensorFlow 2.0, as `updates` are applied automatically.\n",
      "  updates = self.state_updates\n",
      "2025-09-17 13:49:33.277659: W tensorflow/c/c_api.cc:305] Operation '{name:'loss/AddN_1' id:374 op device:{requested: '', assigned: ''} def:{{{node loss/AddN_1}} = AddN[N=2, T=DT_FLOAT, _has_manual_control_dependencies=true](loss/mul, loss/AddN)}}' was changed by setting attribute after it was run by a session. This mutation will have no effect, and will trigger an error in the future. Either don't modify nodes after running them or create a new session.\n"
     ]
    },
    {
     "name": "stdout",
     "output_type": "stream",
     "text": [
      "dca: Calculating reconstructions...\n",
      "2025-09-17 13:49:45 | [time] [DCA] train(dca.api.dca) end in 13.74s\n",
      "2025-09-17 13:49:45 | [time] [DCA] fold 2 predict mu_va end in 13.75s\n",
      "2025-09-17 13:49:46 | [time] [DCA] fold 2/3 end in 14.47s\n",
      "2025-09-17 13:49:46 | [time] [DCA] fold 3/3 start\n"
     ]
    },
    {
     "name": "stderr",
     "output_type": "stream",
     "text": [
      "/home/ma/ma_ma/ma_minjlee/.conda/envs/dca_gpu/lib/python3.10/site-packages/keras/src/engine/training_v1.py:2359: UserWarning: `Model.state_updates` will be removed in a future version. This property should not be used in TensorFlow 2.0, as `updates` are applied automatically.\n",
      "  updates=self.state_updates,\n",
      "2025-09-17 13:49:45.823460: W tensorflow/c/c_api.cc:305] Operation '{name:'slice/slice/Identity' id:303 op device:{requested: '', assigned: ''} def:{{{node slice/slice/Identity}} = Identity[T=DT_FLOAT, _has_manual_control_dependencies=true](lambda_1/mul)}}' was changed by setting attribute after it was run by a session. This mutation will have no effect, and will trigger an error in the future. Either don't modify nodes after running them or create a new session.\n"
     ]
    },
    {
     "name": "stdout",
     "output_type": "stream",
     "text": [
      "2025-09-17 13:49:46 | X_tr: dense  (298, 51777) dtype=int64\n",
      "2025-09-17 13:49:46 | X_va: dense  (149, 51777) dtype=int64\n"
     ]
    },
    {
     "name": "stderr",
     "output_type": "stream",
     "text": [
      "/home/ma/ma_ma/ma_minjlee/.conda/envs/dca_gpu/lib/python3.10/site-packages/scanpy/preprocessing/_highly_variable_genes.py:64: UserWarning: `flavor='seurat_v3'` expects raw count data, but non-integers were found.\n",
      "  warnings.warn(\n"
     ]
    },
    {
     "name": "stdout",
     "output_type": "stream",
     "text": [
      "2025-09-17 13:50:37 | [DCA] fold 3 | HVG=2000\n",
      "2025-09-17 13:50:37 | [DCA] fit hidden=[32, 16, 32] epochs=150 bs=64\n",
      "2025-09-17 13:50:37 | X_train: dense  (298, 2000) dtype=int64\n",
      "2025-09-17 13:50:37 | [time] [DCA] fold 3 predict mu_va start\n",
      "2025-09-17 13:50:37 | [DCA] predict_mean\n",
      "2025-09-17 13:50:37 | [time] [DCA] train(dca.api.dca) start\n",
      "dca: Successfully preprocessed 2000 genes and 447 cells.\n"
     ]
    },
    {
     "name": "stderr",
     "output_type": "stream",
     "text": [
      "2025-09-17 13:50:38.249116: W tensorflow/c/c_api.cc:305] Operation '{name:'dispersion/kernel/Assign' id:231 op device:{requested: '', assigned: ''} def:{{{node dispersion/kernel/Assign}} = AssignVariableOp[_has_manual_control_dependencies=true, dtype=DT_FLOAT, validate_shape=false](dispersion/kernel, dispersion/kernel/Initializer/stateless_random_uniform)}}' was changed by setting attribute after it was run by a session. This mutation will have no effect, and will trigger an error in the future. Either don't modify nodes after running them or create a new session.\n",
      "2025-09-17 13:50:38.677975: W tensorflow/c/c_api.cc:305] Operation '{name:'batch_normalization_2/cond_3/Identity' id:205 op device:{requested: '', assigned: ''} def:{{{node batch_normalization_2/cond_3/Identity}} = Identity[T=DT_FLOAT, _has_manual_control_dependencies=true](batch_normalization_2/cond_3)}}' was changed by setting attribute after it was run by a session. This mutation will have no effect, and will trigger an error in the future. Either don't modify nodes after running them or create a new session.\n",
      "2025-09-17 13:50:38.728186: W tensorflow/c/c_api.cc:305] Operation '{name:'training/RMSprop/dispersion/bias/rms/Assign' id:936 op device:{requested: '', assigned: ''} def:{{{node training/RMSprop/dispersion/bias/rms/Assign}} = AssignVariableOp[_has_manual_control_dependencies=true, dtype=DT_FLOAT, validate_shape=false](training/RMSprop/dispersion/bias/rms, training/RMSprop/dispersion/bias/rms/Initializer/zeros)}}' was changed by setting attribute after it was run by a session. This mutation will have no effect, and will trigger an error in the future. Either don't modify nodes after running them or create a new session.\n",
      "/home/ma/ma_ma/ma_minjlee/.conda/envs/dca_gpu/lib/python3.10/site-packages/keras/src/engine/training_v1.py:2335: UserWarning: `Model.state_updates` will be removed in a future version. This property should not be used in TensorFlow 2.0, as `updates` are applied automatically.\n",
      "  updates = self.state_updates\n",
      "2025-09-17 13:50:39.129089: W tensorflow/c/c_api.cc:305] Operation '{name:'loss/AddN_1' id:374 op device:{requested: '', assigned: ''} def:{{{node loss/AddN_1}} = AddN[N=2, T=DT_FLOAT, _has_manual_control_dependencies=true](loss/mul, loss/AddN)}}' was changed by setting attribute after it was run by a session. This mutation will have no effect, and will trigger an error in the future. Either don't modify nodes after running them or create a new session.\n"
     ]
    },
    {
     "name": "stdout",
     "output_type": "stream",
     "text": [
      "dca: Calculating reconstructions...\n",
      "2025-09-17 13:50:51 | [time] [DCA] train(dca.api.dca) end in 13.72s\n",
      "2025-09-17 13:50:51 | [time] [DCA] fold 3 predict mu_va end in 13.73s\n",
      "2025-09-17 13:50:51 | [time] [DCA] fold 3/3 end in 65.78s\n",
      "2025-09-17 13:50:51 | [cv_dca_5fold] done\n"
     ]
    },
    {
     "name": "stderr",
     "output_type": "stream",
     "text": [
      "/home/ma/ma_ma/ma_minjlee/.conda/envs/dca_gpu/lib/python3.10/site-packages/keras/src/engine/training_v1.py:2359: UserWarning: `Model.state_updates` will be removed in a future version. This property should not be used in TensorFlow 2.0, as `updates` are applied automatically.\n",
      "  updates=self.state_updates,\n",
      "2025-09-17 13:50:51.598184: W tensorflow/c/c_api.cc:305] Operation '{name:'slice/slice/Identity' id:303 op device:{requested: '', assigned: ''} def:{{{node slice/slice/Identity}} = Identity[T=DT_FLOAT, _has_manual_control_dependencies=true](lambda_1/mul)}}' was changed by setting attribute after it was run by a session. This mutation will have no effect, and will trigger an error in the future. Either don't modify nodes after running them or create a new session.\n",
      "[I 2025-09-17 13:50:51,791] Trial 19 finished with value: -4.423891248253457 and parameters: {'h1': 32, 'h2': 16, 'h3': 32, 'epochs': 150, 'batch_size': 64, 'n_hvg': 2000}. Best is trial 6 with value: -4.399647434015976.\n"
     ]
    },
    {
     "name": "stdout",
     "output_type": "stream",
     "text": [
      "Best params: {'h1': 32, 'h2': 64, 'h3': 128, 'epochs': 150, 'batch_size': 64, 'n_hvg': 2000}\n",
      "2025-09-17 13:50:52 | [cv_dca_5fold] start k=5 n_hvg=2000 mode=seurat_v3 R=3 mask_frac=0.1 thinning_p=0.1\n",
      "2025-09-17 13:50:52 | X_counts: dense  (447, 51777) dtype=int64\n",
      "2025-09-17 13:51:00 | X_counts: zeros=66.23%, approx_int=True\n",
      "2025-09-17 13:51:00 | [time] [DCA] fold 1/5 start\n",
      "2025-09-17 13:51:00 | X_tr: dense  (357, 51777) dtype=int64\n",
      "2025-09-17 13:51:00 | X_va: dense  (90, 51777) dtype=int64\n"
     ]
    },
    {
     "name": "stderr",
     "output_type": "stream",
     "text": [
      "/home/ma/ma_ma/ma_minjlee/.conda/envs/dca_gpu/lib/python3.10/site-packages/scanpy/preprocessing/_highly_variable_genes.py:64: UserWarning: `flavor='seurat_v3'` expects raw count data, but non-integers were found.\n",
      "  warnings.warn(\n"
     ]
    },
    {
     "name": "stdout",
     "output_type": "stream",
     "text": [
      "2025-09-17 13:51:07 | [DCA] fold 1 | HVG=2000\n",
      "2025-09-17 13:51:07 | [DCA] fit hidden=[32, 64, 128] epochs=300 bs=64\n",
      "2025-09-17 13:51:07 | X_train: dense  (357, 2000) dtype=int64\n",
      "2025-09-17 13:51:07 | [time] [DCA] fold 1 predict mu_va start\n",
      "2025-09-17 13:51:07 | [DCA] predict_mean\n",
      "2025-09-17 13:51:07 | [time] [DCA] train(dca.api.dca) start\n",
      "dca: Successfully preprocessed 2000 genes and 447 cells.\n"
     ]
    },
    {
     "name": "stderr",
     "output_type": "stream",
     "text": [
      "2025-09-17 13:51:07.500026: W tensorflow/c/c_api.cc:305] Operation '{name:'dispersion/kernel/Assign' id:231 op device:{requested: '', assigned: ''} def:{{{node dispersion/kernel/Assign}} = AssignVariableOp[_has_manual_control_dependencies=true, dtype=DT_FLOAT, validate_shape=false](dispersion/kernel, dispersion/kernel/Initializer/stateless_random_uniform)}}' was changed by setting attribute after it was run by a session. This mutation will have no effect, and will trigger an error in the future. Either don't modify nodes after running them or create a new session.\n",
      "2025-09-17 13:51:07.975516: W tensorflow/c/c_api.cc:305] Operation '{name:'batch_normalization_2/cond_3/Identity' id:205 op device:{requested: '', assigned: ''} def:{{{node batch_normalization_2/cond_3/Identity}} = Identity[T=DT_FLOAT, _has_manual_control_dependencies=true](batch_normalization_2/cond_3)}}' was changed by setting attribute after it was run by a session. This mutation will have no effect, and will trigger an error in the future. Either don't modify nodes after running them or create a new session.\n",
      "2025-09-17 13:51:08.025353: W tensorflow/c/c_api.cc:305] Operation '{name:'training/RMSprop/mean/kernel/rms/Assign' id:919 op device:{requested: '', assigned: ''} def:{{{node training/RMSprop/mean/kernel/rms/Assign}} = AssignVariableOp[_has_manual_control_dependencies=true, dtype=DT_FLOAT, validate_shape=false](training/RMSprop/mean/kernel/rms, training/RMSprop/mean/kernel/rms/Initializer/zeros)}}' was changed by setting attribute after it was run by a session. This mutation will have no effect, and will trigger an error in the future. Either don't modify nodes after running them or create a new session.\n",
      "/home/ma/ma_ma/ma_minjlee/.conda/envs/dca_gpu/lib/python3.10/site-packages/keras/src/engine/training_v1.py:2335: UserWarning: `Model.state_updates` will be removed in a future version. This property should not be used in TensorFlow 2.0, as `updates` are applied automatically.\n",
      "  updates = self.state_updates\n",
      "2025-09-17 13:51:08.471644: W tensorflow/c/c_api.cc:305] Operation '{name:'loss/AddN_1' id:374 op device:{requested: '', assigned: ''} def:{{{node loss/AddN_1}} = AddN[N=2, T=DT_FLOAT, _has_manual_control_dependencies=true](loss/mul, loss/AddN)}}' was changed by setting attribute after it was run by a session. This mutation will have no effect, and will trigger an error in the future. Either don't modify nodes after running them or create a new session.\n"
     ]
    },
    {
     "name": "stdout",
     "output_type": "stream",
     "text": [
      "dca: Calculating reconstructions...\n",
      "2025-09-17 13:51:40 | [time] [DCA] train(dca.api.dca) end in 32.90s\n",
      "2025-09-17 13:51:40 | [time] [DCA] fold 1 predict mu_va end in 32.91s\n"
     ]
    },
    {
     "name": "stderr",
     "output_type": "stream",
     "text": [
      "/home/ma/ma_ma/ma_minjlee/.conda/envs/dca_gpu/lib/python3.10/site-packages/keras/src/engine/training_v1.py:2359: UserWarning: `Model.state_updates` will be removed in a future version. This property should not be used in TensorFlow 2.0, as `updates` are applied automatically.\n",
      "  updates=self.state_updates,\n",
      "2025-09-17 13:51:39.996218: W tensorflow/c/c_api.cc:305] Operation '{name:'slice/slice/Identity' id:303 op device:{requested: '', assigned: ''} def:{{{node slice/slice/Identity}} = Identity[T=DT_FLOAT, _has_manual_control_dependencies=true](lambda_1/mul)}}' was changed by setting attribute after it was run by a session. This mutation will have no effect, and will trigger an error in the future. Either don't modify nodes after running them or create a new session.\n"
     ]
    },
    {
     "name": "stdout",
     "output_type": "stream",
     "text": [
      "2025-09-17 13:51:40 | [time] [DCA] fold 1/5 end in 39.84s\n",
      "2025-09-17 13:51:40 | [time] [DCA] fold 2/5 start\n",
      "2025-09-17 13:51:40 | X_tr: dense  (357, 51777) dtype=int64\n",
      "2025-09-17 13:51:40 | X_va: dense  (90, 51777) dtype=int64\n"
     ]
    },
    {
     "name": "stderr",
     "output_type": "stream",
     "text": [
      "/home/ma/ma_ma/ma_minjlee/.conda/envs/dca_gpu/lib/python3.10/site-packages/scanpy/preprocessing/_highly_variable_genes.py:64: UserWarning: `flavor='seurat_v3'` expects raw count data, but non-integers were found.\n",
      "  warnings.warn(\n"
     ]
    },
    {
     "name": "stdout",
     "output_type": "stream",
     "text": [
      "2025-09-17 13:51:49 | [DCA] fold 2 | HVG=2000\n",
      "2025-09-17 13:51:49 | [DCA] fit hidden=[32, 64, 128] epochs=300 bs=64\n",
      "2025-09-17 13:51:49 | X_train: dense  (357, 2000) dtype=int64\n",
      "2025-09-17 13:51:49 | [time] [DCA] fold 2 predict mu_va start\n",
      "2025-09-17 13:51:49 | [DCA] predict_mean\n",
      "2025-09-17 13:51:49 | [time] [DCA] train(dca.api.dca) start\n",
      "dca: Successfully preprocessed 2000 genes and 447 cells.\n"
     ]
    },
    {
     "name": "stderr",
     "output_type": "stream",
     "text": [
      "2025-09-17 13:51:49.659318: W tensorflow/c/c_api.cc:305] Operation '{name:'batch_normalization/moving_variance/Assign' id:40 op device:{requested: '', assigned: ''} def:{{{node batch_normalization/moving_variance/Assign}} = AssignVariableOp[_has_manual_control_dependencies=true, dtype=DT_FLOAT, validate_shape=false](batch_normalization/moving_variance, batch_normalization/moving_variance/Initializer/ones)}}' was changed by setting attribute after it was run by a session. This mutation will have no effect, and will trigger an error in the future. Either don't modify nodes after running them or create a new session.\n",
      "2025-09-17 13:51:50.131452: W tensorflow/c/c_api.cc:305] Operation '{name:'batch_normalization_2/cond_3/Identity' id:205 op device:{requested: '', assigned: ''} def:{{{node batch_normalization_2/cond_3/Identity}} = Identity[T=DT_FLOAT, _has_manual_control_dependencies=true](batch_normalization_2/cond_3)}}' was changed by setting attribute after it was run by a session. This mutation will have no effect, and will trigger an error in the future. Either don't modify nodes after running them or create a new session.\n",
      "2025-09-17 13:51:50.180960: W tensorflow/c/c_api.cc:305] Operation '{name:'training/RMSprop/batch_normalization_2/beta/rms/Assign' id:912 op device:{requested: '', assigned: ''} def:{{{node training/RMSprop/batch_normalization_2/beta/rms/Assign}} = AssignVariableOp[_has_manual_control_dependencies=true, dtype=DT_FLOAT, validate_shape=false](training/RMSprop/batch_normalization_2/beta/rms, training/RMSprop/batch_normalization_2/beta/rms/Initializer/zeros)}}' was changed by setting attribute after it was run by a session. This mutation will have no effect, and will trigger an error in the future. Either don't modify nodes after running them or create a new session.\n",
      "/home/ma/ma_ma/ma_minjlee/.conda/envs/dca_gpu/lib/python3.10/site-packages/keras/src/engine/training_v1.py:2335: UserWarning: `Model.state_updates` will be removed in a future version. This property should not be used in TensorFlow 2.0, as `updates` are applied automatically.\n",
      "  updates = self.state_updates\n",
      "2025-09-17 13:51:50.668630: W tensorflow/c/c_api.cc:305] Operation '{name:'loss/AddN_1' id:374 op device:{requested: '', assigned: ''} def:{{{node loss/AddN_1}} = AddN[N=2, T=DT_FLOAT, _has_manual_control_dependencies=true](loss/mul, loss/AddN)}}' was changed by setting attribute after it was run by a session. This mutation will have no effect, and will trigger an error in the future. Either don't modify nodes after running them or create a new session.\n"
     ]
    },
    {
     "name": "stdout",
     "output_type": "stream",
     "text": [
      "dca: Calculating reconstructions...\n",
      "2025-09-17 13:52:32 | [time] [DCA] train(dca.api.dca) end in 43.19s\n",
      "2025-09-17 13:52:32 | [time] [DCA] fold 2 predict mu_va end in 43.20s\n"
     ]
    },
    {
     "name": "stderr",
     "output_type": "stream",
     "text": [
      "/home/ma/ma_ma/ma_minjlee/.conda/envs/dca_gpu/lib/python3.10/site-packages/keras/src/engine/training_v1.py:2359: UserWarning: `Model.state_updates` will be removed in a future version. This property should not be used in TensorFlow 2.0, as `updates` are applied automatically.\n",
      "  updates=self.state_updates,\n",
      "2025-09-17 13:52:32.492530: W tensorflow/c/c_api.cc:305] Operation '{name:'slice/slice/Identity' id:303 op device:{requested: '', assigned: ''} def:{{{node slice/slice/Identity}} = Identity[T=DT_FLOAT, _has_manual_control_dependencies=true](lambda_1/mul)}}' was changed by setting attribute after it was run by a session. This mutation will have no effect, and will trigger an error in the future. Either don't modify nodes after running them or create a new session.\n"
     ]
    },
    {
     "name": "stdout",
     "output_type": "stream",
     "text": [
      "2025-09-17 13:52:32 | [time] [DCA] fold 2/5 end in 52.42s\n",
      "2025-09-17 13:52:32 | [time] [DCA] fold 3/5 start\n",
      "2025-09-17 13:52:32 | X_tr: dense  (358, 51777) dtype=int64\n",
      "2025-09-17 13:52:32 | X_va: dense  (89, 51777) dtype=int64\n"
     ]
    },
    {
     "name": "stderr",
     "output_type": "stream",
     "text": [
      "/home/ma/ma_ma/ma_minjlee/.conda/envs/dca_gpu/lib/python3.10/site-packages/scanpy/preprocessing/_highly_variable_genes.py:64: UserWarning: `flavor='seurat_v3'` expects raw count data, but non-integers were found.\n",
      "  warnings.warn(\n"
     ]
    },
    {
     "name": "stdout",
     "output_type": "stream",
     "text": [
      "2025-09-17 13:52:37 | [DCA] fold 3 | HVG=2000\n",
      "2025-09-17 13:52:37 | [DCA] fit hidden=[32, 64, 128] epochs=300 bs=64\n",
      "2025-09-17 13:52:37 | X_train: dense  (358, 2000) dtype=int64\n",
      "2025-09-17 13:52:37 | [time] [DCA] fold 3 predict mu_va start\n",
      "2025-09-17 13:52:37 | [DCA] predict_mean\n",
      "2025-09-17 13:52:37 | [time] [DCA] train(dca.api.dca) start\n",
      "dca: Successfully preprocessed 2000 genes and 447 cells.\n"
     ]
    },
    {
     "name": "stderr",
     "output_type": "stream",
     "text": [
      "2025-09-17 13:52:38.152678: W tensorflow/c/c_api.cc:305] Operation '{name:'mean/bias/Assign' id:268 op device:{requested: '', assigned: ''} def:{{{node mean/bias/Assign}} = AssignVariableOp[_has_manual_control_dependencies=true, dtype=DT_FLOAT, validate_shape=false](mean/bias, mean/bias/Initializer/zeros)}}' was changed by setting attribute after it was run by a session. This mutation will have no effect, and will trigger an error in the future. Either don't modify nodes after running them or create a new session.\n",
      "2025-09-17 13:52:38.583604: W tensorflow/c/c_api.cc:305] Operation '{name:'batch_normalization_2/cond_3/Identity' id:205 op device:{requested: '', assigned: ''} def:{{{node batch_normalization_2/cond_3/Identity}} = Identity[T=DT_FLOAT, _has_manual_control_dependencies=true](batch_normalization_2/cond_3)}}' was changed by setting attribute after it was run by a session. This mutation will have no effect, and will trigger an error in the future. Either don't modify nodes after running them or create a new session.\n",
      "2025-09-17 13:52:38.631537: W tensorflow/c/c_api.cc:305] Operation '{name:'training/RMSprop/dispersion/kernel/rms/Assign' id:933 op device:{requested: '', assigned: ''} def:{{{node training/RMSprop/dispersion/kernel/rms/Assign}} = AssignVariableOp[_has_manual_control_dependencies=true, dtype=DT_FLOAT, validate_shape=false](training/RMSprop/dispersion/kernel/rms, training/RMSprop/dispersion/kernel/rms/Initializer/zeros)}}' was changed by setting attribute after it was run by a session. This mutation will have no effect, and will trigger an error in the future. Either don't modify nodes after running them or create a new session.\n",
      "/home/ma/ma_ma/ma_minjlee/.conda/envs/dca_gpu/lib/python3.10/site-packages/keras/src/engine/training_v1.py:2335: UserWarning: `Model.state_updates` will be removed in a future version. This property should not be used in TensorFlow 2.0, as `updates` are applied automatically.\n",
      "  updates = self.state_updates\n",
      "2025-09-17 13:52:39.067011: W tensorflow/c/c_api.cc:305] Operation '{name:'loss/AddN_1' id:374 op device:{requested: '', assigned: ''} def:{{{node loss/AddN_1}} = AddN[N=2, T=DT_FLOAT, _has_manual_control_dependencies=true](loss/mul, loss/AddN)}}' was changed by setting attribute after it was run by a session. This mutation will have no effect, and will trigger an error in the future. Either don't modify nodes after running them or create a new session.\n"
     ]
    },
    {
     "name": "stdout",
     "output_type": "stream",
     "text": [
      "dca: Calculating reconstructions...\n",
      "2025-09-17 13:53:13 | [time] [DCA] train(dca.api.dca) end in 35.81s\n",
      "2025-09-17 13:53:13 | [time] [DCA] fold 3 predict mu_va end in 35.82s\n"
     ]
    },
    {
     "name": "stderr",
     "output_type": "stream",
     "text": [
      "/home/ma/ma_ma/ma_minjlee/.conda/envs/dca_gpu/lib/python3.10/site-packages/keras/src/engine/training_v1.py:2359: UserWarning: `Model.state_updates` will be removed in a future version. This property should not be used in TensorFlow 2.0, as `updates` are applied automatically.\n",
      "  updates=self.state_updates,\n",
      "2025-09-17 13:53:13.584118: W tensorflow/c/c_api.cc:305] Operation '{name:'slice/slice/Identity' id:303 op device:{requested: '', assigned: ''} def:{{{node slice/slice/Identity}} = Identity[T=DT_FLOAT, _has_manual_control_dependencies=true](lambda_1/mul)}}' was changed by setting attribute after it was run by a session. This mutation will have no effect, and will trigger an error in the future. Either don't modify nodes after running them or create a new session.\n"
     ]
    },
    {
     "name": "stdout",
     "output_type": "stream",
     "text": [
      "2025-09-17 13:53:13 | [time] [DCA] fold 3/5 end in 41.08s\n",
      "2025-09-17 13:53:13 | [time] [DCA] fold 4/5 start\n",
      "2025-09-17 13:53:13 | X_tr: dense  (358, 51777) dtype=int64\n",
      "2025-09-17 13:53:13 | X_va: dense  (89, 51777) dtype=int64\n"
     ]
    },
    {
     "name": "stderr",
     "output_type": "stream",
     "text": [
      "/home/ma/ma_ma/ma_minjlee/.conda/envs/dca_gpu/lib/python3.10/site-packages/scanpy/preprocessing/_highly_variable_genes.py:64: UserWarning: `flavor='seurat_v3'` expects raw count data, but non-integers were found.\n",
      "  warnings.warn(\n"
     ]
    },
    {
     "name": "stdout",
     "output_type": "stream",
     "text": [
      "2025-09-17 13:53:21 | [DCA] fold 4 | HVG=2000\n",
      "2025-09-17 13:53:21 | [DCA] fit hidden=[32, 64, 128] epochs=300 bs=64\n",
      "2025-09-17 13:53:21 | X_train: dense  (358, 2000) dtype=int64\n",
      "2025-09-17 13:53:21 | [time] [DCA] fold 4 predict mu_va start\n",
      "2025-09-17 13:53:21 | [DCA] predict_mean\n",
      "2025-09-17 13:53:21 | [time] [DCA] train(dca.api.dca) start\n",
      "dca: Successfully preprocessed 2000 genes and 447 cells.\n"
     ]
    },
    {
     "name": "stderr",
     "output_type": "stream",
     "text": [
      "2025-09-17 13:53:21.883297: W tensorflow/c/c_api.cc:305] Operation '{name:'dec1/kernel/Assign' id:160 op device:{requested: '', assigned: ''} def:{{{node dec1/kernel/Assign}} = AssignVariableOp[_has_manual_control_dependencies=true, dtype=DT_FLOAT, validate_shape=false](dec1/kernel, dec1/kernel/Initializer/stateless_random_uniform)}}' was changed by setting attribute after it was run by a session. This mutation will have no effect, and will trigger an error in the future. Either don't modify nodes after running them or create a new session.\n",
      "2025-09-17 13:53:22.319743: W tensorflow/c/c_api.cc:305] Operation '{name:'batch_normalization_2/cond_3/Identity' id:205 op device:{requested: '', assigned: ''} def:{{{node batch_normalization_2/cond_3/Identity}} = Identity[T=DT_FLOAT, _has_manual_control_dependencies=true](batch_normalization_2/cond_3)}}' was changed by setting attribute after it was run by a session. This mutation will have no effect, and will trigger an error in the future. Either don't modify nodes after running them or create a new session.\n",
      "2025-09-17 13:53:22.369526: W tensorflow/c/c_api.cc:305] Operation '{name:'training/RMSprop/center/bias/rms/Assign' id:890 op device:{requested: '', assigned: ''} def:{{{node training/RMSprop/center/bias/rms/Assign}} = AssignVariableOp[_has_manual_control_dependencies=true, dtype=DT_FLOAT, validate_shape=false](training/RMSprop/center/bias/rms, training/RMSprop/center/bias/rms/Initializer/zeros)}}' was changed by setting attribute after it was run by a session. This mutation will have no effect, and will trigger an error in the future. Either don't modify nodes after running them or create a new session.\n",
      "/home/ma/ma_ma/ma_minjlee/.conda/envs/dca_gpu/lib/python3.10/site-packages/keras/src/engine/training_v1.py:2335: UserWarning: `Model.state_updates` will be removed in a future version. This property should not be used in TensorFlow 2.0, as `updates` are applied automatically.\n",
      "  updates = self.state_updates\n",
      "2025-09-17 13:53:22.778924: W tensorflow/c/c_api.cc:305] Operation '{name:'loss/AddN_1' id:374 op device:{requested: '', assigned: ''} def:{{{node loss/AddN_1}} = AddN[N=2, T=DT_FLOAT, _has_manual_control_dependencies=true](loss/mul, loss/AddN)}}' was changed by setting attribute after it was run by a session. This mutation will have no effect, and will trigger an error in the future. Either don't modify nodes after running them or create a new session.\n"
     ]
    },
    {
     "name": "stdout",
     "output_type": "stream",
     "text": [
      "dca: Calculating reconstructions...\n",
      "2025-09-17 13:53:51 | [time] [DCA] train(dca.api.dca) end in 29.58s\n",
      "2025-09-17 13:53:51 | [time] [DCA] fold 4 predict mu_va end in 29.59s\n"
     ]
    },
    {
     "name": "stderr",
     "output_type": "stream",
     "text": [
      "/home/ma/ma_ma/ma_minjlee/.conda/envs/dca_gpu/lib/python3.10/site-packages/keras/src/engine/training_v1.py:2359: UserWarning: `Model.state_updates` will be removed in a future version. This property should not be used in TensorFlow 2.0, as `updates` are applied automatically.\n",
      "  updates=self.state_updates,\n",
      "2025-09-17 13:53:51.076392: W tensorflow/c/c_api.cc:305] Operation '{name:'slice/slice/Identity' id:303 op device:{requested: '', assigned: ''} def:{{{node slice/slice/Identity}} = Identity[T=DT_FLOAT, _has_manual_control_dependencies=true](lambda_1/mul)}}' was changed by setting attribute after it was run by a session. This mutation will have no effect, and will trigger an error in the future. Either don't modify nodes after running them or create a new session.\n"
     ]
    },
    {
     "name": "stdout",
     "output_type": "stream",
     "text": [
      "2025-09-17 13:53:51 | [time] [DCA] fold 4/5 end in 37.50s\n",
      "2025-09-17 13:53:51 | [time] [DCA] fold 5/5 start\n",
      "2025-09-17 13:53:51 | X_tr: dense  (358, 51777) dtype=int64\n",
      "2025-09-17 13:53:51 | X_va: dense  (89, 51777) dtype=int64\n"
     ]
    },
    {
     "name": "stderr",
     "output_type": "stream",
     "text": [
      "/home/ma/ma_ma/ma_minjlee/.conda/envs/dca_gpu/lib/python3.10/site-packages/scanpy/preprocessing/_highly_variable_genes.py:64: UserWarning: `flavor='seurat_v3'` expects raw count data, but non-integers were found.\n",
      "  warnings.warn(\n"
     ]
    },
    {
     "name": "stdout",
     "output_type": "stream",
     "text": [
      "2025-09-17 13:54:02 | [DCA] fold 5 | HVG=2000\n",
      "2025-09-17 13:54:02 | [DCA] fit hidden=[32, 64, 128] epochs=300 bs=64\n",
      "2025-09-17 13:54:02 | X_train: dense  (358, 2000) dtype=int64\n",
      "2025-09-17 13:54:02 | [time] [DCA] fold 5 predict mu_va start\n",
      "2025-09-17 13:54:02 | [DCA] predict_mean\n",
      "2025-09-17 13:54:02 | [time] [DCA] train(dca.api.dca) start\n",
      "dca: Successfully preprocessed 2000 genes and 447 cells.\n"
     ]
    },
    {
     "name": "stderr",
     "output_type": "stream",
     "text": [
      "2025-09-17 13:54:02.363078: W tensorflow/c/c_api.cc:305] Operation '{name:'batch_normalization_2/beta/Assign' id:174 op device:{requested: '', assigned: ''} def:{{{node batch_normalization_2/beta/Assign}} = AssignVariableOp[_has_manual_control_dependencies=true, dtype=DT_FLOAT, validate_shape=false](batch_normalization_2/beta, batch_normalization_2/beta/Initializer/zeros)}}' was changed by setting attribute after it was run by a session. This mutation will have no effect, and will trigger an error in the future. Either don't modify nodes after running them or create a new session.\n",
      "2025-09-17 13:54:02.818924: W tensorflow/c/c_api.cc:305] Operation '{name:'batch_normalization_2/cond_3/Identity' id:205 op device:{requested: '', assigned: ''} def:{{{node batch_normalization_2/cond_3/Identity}} = Identity[T=DT_FLOAT, _has_manual_control_dependencies=true](batch_normalization_2/cond_3)}}' was changed by setting attribute after it was run by a session. This mutation will have no effect, and will trigger an error in the future. Either don't modify nodes after running them or create a new session.\n",
      "2025-09-17 13:54:02.868299: W tensorflow/c/c_api.cc:305] Operation '{name:'training/RMSprop/batch_normalization_1/beta/rms/Assign' id:895 op device:{requested: '', assigned: ''} def:{{{node training/RMSprop/batch_normalization_1/beta/rms/Assign}} = AssignVariableOp[_has_manual_control_dependencies=true, dtype=DT_FLOAT, validate_shape=false](training/RMSprop/batch_normalization_1/beta/rms, training/RMSprop/batch_normalization_1/beta/rms/Initializer/zeros)}}' was changed by setting attribute after it was run by a session. This mutation will have no effect, and will trigger an error in the future. Either don't modify nodes after running them or create a new session.\n",
      "/home/ma/ma_ma/ma_minjlee/.conda/envs/dca_gpu/lib/python3.10/site-packages/keras/src/engine/training_v1.py:2335: UserWarning: `Model.state_updates` will be removed in a future version. This property should not be used in TensorFlow 2.0, as `updates` are applied automatically.\n",
      "  updates = self.state_updates\n",
      "2025-09-17 13:54:03.290089: W tensorflow/c/c_api.cc:305] Operation '{name:'loss/AddN_1' id:374 op device:{requested: '', assigned: ''} def:{{{node loss/AddN_1}} = AddN[N=2, T=DT_FLOAT, _has_manual_control_dependencies=true](loss/mul, loss/AddN)}}' was changed by setting attribute after it was run by a session. This mutation will have no effect, and will trigger an error in the future. Either don't modify nodes after running them or create a new session.\n"
     ]
    },
    {
     "name": "stdout",
     "output_type": "stream",
     "text": [
      "dca: Calculating reconstructions...\n",
      "2025-09-17 13:54:29 | [time] [DCA] train(dca.api.dca) end in 27.36s\n",
      "2025-09-17 13:54:29 | [time] [DCA] fold 5 predict mu_va end in 27.36s\n"
     ]
    },
    {
     "name": "stderr",
     "output_type": "stream",
     "text": [
      "/home/ma/ma_ma/ma_minjlee/.conda/envs/dca_gpu/lib/python3.10/site-packages/keras/src/engine/training_v1.py:2359: UserWarning: `Model.state_updates` will be removed in a future version. This property should not be used in TensorFlow 2.0, as `updates` are applied automatically.\n",
      "  updates=self.state_updates,\n",
      "2025-09-17 13:54:29.374102: W tensorflow/c/c_api.cc:305] Operation '{name:'slice/slice/Identity' id:303 op device:{requested: '', assigned: ''} def:{{{node slice/slice/Identity}} = Identity[T=DT_FLOAT, _has_manual_control_dependencies=true](lambda_1/mul)}}' was changed by setting attribute after it was run by a session. This mutation will have no effect, and will trigger an error in the future. Either don't modify nodes after running them or create a new session.\n"
     ]
    },
    {
     "name": "stdout",
     "output_type": "stream",
     "text": [
      "2025-09-17 13:54:29 | [time] [DCA] fold 5/5 end in 38.30s\n",
      "2025-09-17 13:54:29 | [cv_dca_5fold] wrote CSVs to results/dca_full\n",
      "2025-09-17 13:54:29 | [cv_dca_5fold] done\n"
     ]
    }
   ],
   "source": [
    "import optuna\n",
    "\n",
    "def objective(trial: optuna.Trial):\n",
    "    hidden_size = [\n",
    "        trial.suggest_categorical(\"h1\", [32, 64, 128]),\n",
    "        trial.suggest_categorical(\"h2\", [16, 32, 64]),\n",
    "        trial.suggest_categorical(\"h3\", [32, 64, 128]),\n",
    "    ]\n",
    "    epochs = trial.suggest_categorical(\"epochs\", [50, 100, 150])\n",
    "    batch_size = trial.suggest_categorical(\"batch_size\", [64, 128])\n",
    "    n_hvg = trial.suggest_categorical(\"n_hvg\", [800, 1000, 1500, 2000])\n",
    "\n",
    "    summary, _ = cv_dca_5fold(\n",
    "        X_counts, k=3,\n",
    "        dca_params=dict(hidden_size=hidden_size, epochs=epochs, batch_size=batch_size),\n",
    "        n_hvg=int(n_hvg), R=1,\n",
    "        mask_frac=0.10, thinning_p=0.10, random_state=123,\n",
    "        hvg_mode=\"seurat_v3\",\n",
    "        gene_names=gene_names, batches=batches,\n",
    "        norm_layer=norm_layer, batch_key=\"BioProject\",\n",
    "        seurat_layer_name=\"log2_1p_CPM_original\",\n",
    "        save_dir=None\n",
    "    )\n",
    "    # choose your target metric\n",
    "    return float(summary[\"NB_ll_zero\"].mean())\n",
    "\n",
    "study = optuna.create_study(direction=\"maximize\", sampler=optuna.samplers.TPESampler(seed=123))\n",
    "study.optimize(objective, n_trials=20, gc_after_trial=True)\n",
    "\n",
    "print(\"Best params:\", study.best_params)\n",
    "\n",
    "# Final retrain with “fuller” settings\n",
    "best = study.best_params\n",
    "final_summary, final_details = cv_dca_5fold(\n",
    "    X_counts, k=5,\n",
    "    dca_params=dict(hidden_size=[best[\"h1\"], best[\"h2\"], best[\"h3\"]],\n",
    "                    epochs=300, batch_size=best[\"batch_size\"]),\n",
    "    n_hvg=int(best[\"n_hvg\"]), R=3,\n",
    "    mask_frac=0.10, thinning_p=0.10, random_state=123,\n",
    "    hvg_mode=\"seurat_v3\",\n",
    "    gene_names=gene_names, batches=batches,\n",
    "    norm_layer=norm_layer, batch_key=\"BioProject\",\n",
    "    seurat_layer_name=\"log2_1p_CPM_original\",\n",
    "    save_dir=\"results/dca_full\"\n",
    ")"
   ]
  },
  {
   "cell_type": "code",
   "execution_count": null,
   "id": "0c13c5a6",
   "metadata": {},
   "outputs": [],
   "source": []
  },
  {
   "cell_type": "code",
   "execution_count": 8,
   "id": "34e64294",
   "metadata": {},
   "outputs": [
    {
     "data": {
      "text/html": [
       "<div>\n",
       "<style scoped>\n",
       "    .dataframe tbody tr th:only-of-type {\n",
       "        vertical-align: middle;\n",
       "    }\n",
       "\n",
       "    .dataframe tbody tr th {\n",
       "        vertical-align: top;\n",
       "    }\n",
       "\n",
       "    .dataframe thead th {\n",
       "        text-align: right;\n",
       "    }\n",
       "</style>\n",
       "<table border=\"1\" class=\"dataframe\">\n",
       "  <thead>\n",
       "    <tr style=\"text-align: right;\">\n",
       "      <th></th>\n",
       "      <th>model</th>\n",
       "      <th>n_hvg</th>\n",
       "      <th>MAE_zero</th>\n",
       "      <th>MSE_zero</th>\n",
       "      <th>MedianL1_zero</th>\n",
       "      <th>NB_ll_zero</th>\n",
       "      <th>NB_dev_zero</th>\n",
       "      <th>MAE_thin</th>\n",
       "      <th>MSE_thin</th>\n",
       "      <th>MedianL1_thin</th>\n",
       "      <th>NB_ll_thin</th>\n",
       "      <th>NB_dev_thin</th>\n",
       "      <th>Silhouette</th>\n",
       "      <th>params</th>\n",
       "    </tr>\n",
       "  </thead>\n",
       "  <tbody>\n",
       "    <tr>\n",
       "      <th>0</th>\n",
       "      <td>DCA</td>\n",
       "      <td>2000</td>\n",
       "      <td>140.469869</td>\n",
       "      <td>6.946264e+06</td>\n",
       "      <td>1.99856</td>\n",
       "      <td>-4.398858</td>\n",
       "      <td>0.176755</td>\n",
       "      <td>7.171667</td>\n",
       "      <td>42724.766382</td>\n",
       "      <td>0.041514</td>\n",
       "      <td>-0.906699</td>\n",
       "      <td>0.163444</td>\n",
       "      <td>NaN</td>\n",
       "      <td>{'batch_size': 64, 'epochs': 300, 'hidden_size...</td>\n",
       "    </tr>\n",
       "  </tbody>\n",
       "</table>\n",
       "</div>"
      ],
      "text/plain": [
       "  model  n_hvg    MAE_zero      MSE_zero  MedianL1_zero  NB_ll_zero  \\\n",
       "0   DCA   2000  140.469869  6.946264e+06        1.99856   -4.398858   \n",
       "\n",
       "   NB_dev_zero  MAE_thin      MSE_thin  MedianL1_thin  NB_ll_thin  \\\n",
       "0     0.176755  7.171667  42724.766382       0.041514   -0.906699   \n",
       "\n",
       "   NB_dev_thin Silhouette                                             params  \n",
       "0     0.163444        NaN  {'batch_size': 64, 'epochs': 300, 'hidden_size...  "
      ]
     },
     "execution_count": 8,
     "metadata": {},
     "output_type": "execute_result"
    }
   ],
   "source": [
    "final_summary"
   ]
  },
  {
   "cell_type": "code",
   "execution_count": 9,
   "id": "7cb0c59e",
   "metadata": {},
   "outputs": [
    {
     "data": {
      "text/html": [
       "<div>\n",
       "<style scoped>\n",
       "    .dataframe tbody tr th:only-of-type {\n",
       "        vertical-align: middle;\n",
       "    }\n",
       "\n",
       "    .dataframe tbody tr th {\n",
       "        vertical-align: top;\n",
       "    }\n",
       "\n",
       "    .dataframe thead th {\n",
       "        text-align: right;\n",
       "    }\n",
       "</style>\n",
       "<table border=\"1\" class=\"dataframe\">\n",
       "  <thead>\n",
       "    <tr style=\"text-align: right;\">\n",
       "      <th></th>\n",
       "      <th>fold</th>\n",
       "      <th>model</th>\n",
       "      <th>params</th>\n",
       "      <th>n_hvg</th>\n",
       "      <th>MAE_zero</th>\n",
       "      <th>MSE_zero</th>\n",
       "      <th>MedianL1_zero</th>\n",
       "      <th>NB_ll_zero</th>\n",
       "      <th>NB_dev_zero</th>\n",
       "      <th>MAE_thin</th>\n",
       "      <th>MSE_thin</th>\n",
       "      <th>MedianL1_thin</th>\n",
       "      <th>NB_ll_thin</th>\n",
       "      <th>NB_dev_thin</th>\n",
       "      <th>Silhouette</th>\n",
       "    </tr>\n",
       "  </thead>\n",
       "  <tbody>\n",
       "    <tr>\n",
       "      <th>0</th>\n",
       "      <td>1</td>\n",
       "      <td>DCA</td>\n",
       "      <td>{'hidden_size': (32, 64, 128), 'epochs': 300, ...</td>\n",
       "      <td>2000</td>\n",
       "      <td>151.627812</td>\n",
       "      <td>9.046060e+06</td>\n",
       "      <td>2.056759</td>\n",
       "      <td>-4.407768</td>\n",
       "      <td>0.191263</td>\n",
       "      <td>8.277194</td>\n",
       "      <td>44330.547184</td>\n",
       "      <td>0.042287</td>\n",
       "      <td>-0.926098</td>\n",
       "      <td>0.168387</td>\n",
       "      <td>None</td>\n",
       "    </tr>\n",
       "    <tr>\n",
       "      <th>1</th>\n",
       "      <td>2</td>\n",
       "      <td>DCA</td>\n",
       "      <td>{'hidden_size': (32, 64, 128), 'epochs': 300, ...</td>\n",
       "      <td>2000</td>\n",
       "      <td>121.145013</td>\n",
       "      <td>3.525893e+06</td>\n",
       "      <td>2.009062</td>\n",
       "      <td>-4.420139</td>\n",
       "      <td>0.164807</td>\n",
       "      <td>6.516910</td>\n",
       "      <td>30828.864925</td>\n",
       "      <td>0.041377</td>\n",
       "      <td>-0.898324</td>\n",
       "      <td>0.157701</td>\n",
       "      <td>None</td>\n",
       "    </tr>\n",
       "    <tr>\n",
       "      <th>2</th>\n",
       "      <td>3</td>\n",
       "      <td>DCA</td>\n",
       "      <td>{'hidden_size': (32, 64, 128), 'epochs': 300, ...</td>\n",
       "      <td>2000</td>\n",
       "      <td>148.512201</td>\n",
       "      <td>7.308547e+06</td>\n",
       "      <td>1.878331</td>\n",
       "      <td>-4.345718</td>\n",
       "      <td>0.167459</td>\n",
       "      <td>7.243993</td>\n",
       "      <td>35116.322526</td>\n",
       "      <td>0.038614</td>\n",
       "      <td>-0.863282</td>\n",
       "      <td>0.157218</td>\n",
       "      <td>None</td>\n",
       "    </tr>\n",
       "    <tr>\n",
       "      <th>3</th>\n",
       "      <td>4</td>\n",
       "      <td>DCA</td>\n",
       "      <td>{'hidden_size': (32, 64, 128), 'epochs': 300, ...</td>\n",
       "      <td>2000</td>\n",
       "      <td>157.543907</td>\n",
       "      <td>9.801430e+06</td>\n",
       "      <td>2.122466</td>\n",
       "      <td>-4.468428</td>\n",
       "      <td>0.172459</td>\n",
       "      <td>7.663326</td>\n",
       "      <td>79929.623648</td>\n",
       "      <td>0.047118</td>\n",
       "      <td>-0.974785</td>\n",
       "      <td>0.171977</td>\n",
       "      <td>None</td>\n",
       "    </tr>\n",
       "    <tr>\n",
       "      <th>4</th>\n",
       "      <td>5</td>\n",
       "      <td>DCA</td>\n",
       "      <td>{'hidden_size': (32, 64, 128), 'epochs': 300, ...</td>\n",
       "      <td>2000</td>\n",
       "      <td>123.520415</td>\n",
       "      <td>5.049390e+06</td>\n",
       "      <td>1.926183</td>\n",
       "      <td>-4.352239</td>\n",
       "      <td>0.187789</td>\n",
       "      <td>6.156912</td>\n",
       "      <td>23418.473626</td>\n",
       "      <td>0.038174</td>\n",
       "      <td>-0.871007</td>\n",
       "      <td>0.161936</td>\n",
       "      <td>None</td>\n",
       "    </tr>\n",
       "  </tbody>\n",
       "</table>\n",
       "</div>"
      ],
      "text/plain": [
       "   fold model                                             params  n_hvg  \\\n",
       "0     1   DCA  {'hidden_size': (32, 64, 128), 'epochs': 300, ...   2000   \n",
       "1     2   DCA  {'hidden_size': (32, 64, 128), 'epochs': 300, ...   2000   \n",
       "2     3   DCA  {'hidden_size': (32, 64, 128), 'epochs': 300, ...   2000   \n",
       "3     4   DCA  {'hidden_size': (32, 64, 128), 'epochs': 300, ...   2000   \n",
       "4     5   DCA  {'hidden_size': (32, 64, 128), 'epochs': 300, ...   2000   \n",
       "\n",
       "     MAE_zero      MSE_zero  MedianL1_zero  NB_ll_zero  NB_dev_zero  MAE_thin  \\\n",
       "0  151.627812  9.046060e+06       2.056759   -4.407768     0.191263  8.277194   \n",
       "1  121.145013  3.525893e+06       2.009062   -4.420139     0.164807  6.516910   \n",
       "2  148.512201  7.308547e+06       1.878331   -4.345718     0.167459  7.243993   \n",
       "3  157.543907  9.801430e+06       2.122466   -4.468428     0.172459  7.663326   \n",
       "4  123.520415  5.049390e+06       1.926183   -4.352239     0.187789  6.156912   \n",
       "\n",
       "       MSE_thin  MedianL1_thin  NB_ll_thin  NB_dev_thin Silhouette  \n",
       "0  44330.547184       0.042287   -0.926098     0.168387       None  \n",
       "1  30828.864925       0.041377   -0.898324     0.157701       None  \n",
       "2  35116.322526       0.038614   -0.863282     0.157218       None  \n",
       "3  79929.623648       0.047118   -0.974785     0.171977       None  \n",
       "4  23418.473626       0.038174   -0.871007     0.161936       None  "
      ]
     },
     "execution_count": 9,
     "metadata": {},
     "output_type": "execute_result"
    }
   ],
   "source": [
    "final_details"
   ]
  }
 ],
 "metadata": {
  "kernelspec": {
   "display_name": "Python (dca_gpu)",
   "language": "python",
   "name": "dca_gpu"
  },
  "language_info": {
   "codemirror_mode": {
    "name": "ipython",
    "version": 3
   },
   "file_extension": ".py",
   "mimetype": "text/x-python",
   "name": "python",
   "nbconvert_exporter": "python",
   "pygments_lexer": "ipython3",
   "version": "3.10.18"
  }
 },
 "nbformat": 4,
 "nbformat_minor": 5
}
