{
 "cells": [
  {
   "cell_type": "code",
   "execution_count": 1,
   "id": "e2079348",
   "metadata": {},
   "outputs": [],
   "source": [
    "import sys\n",
    "import scanpy as sc\n",
    "\n",
    "sys.path.append(\"../..\")\n",
    "from scripts.runner_models import cv_scvi_5fold"
   ]
  },
  {
   "cell_type": "code",
   "execution_count": 4,
   "id": "b5ee717e",
   "metadata": {},
   "outputs": [],
   "source": [
    "# Load data\n",
    "IN_PATH_neu = \"../../data/raw_count/GSE169569_raw_counts.h5ad\"\n",
    "IN_PATH_cov = \"../../data/raw_count/GSE228841_raw_counts.h5ad\"\n",
    "\n",
    "adata_neu = sc.read_h5ad(IN_PATH_neu)\n",
    "adata_cov = sc.read_h5ad(IN_PATH_cov)"
   ]
  },
  {
   "cell_type": "code",
   "execution_count": 5,
   "id": "246ae7aa",
   "metadata": {},
   "outputs": [],
   "source": [
    "import numpy as np\n",
    "\n",
    "# Extract data matrices and metadata\n",
    "X_counts = adata_neu.layers[\"counts\"] # raw counts\n",
    "gene_names = np.array(adata_neu.var_names, dtype=str)\n",
    "batches = np.array(adata_neu.obs[\"BioProject\"], dtype=str)\n",
    "norm_layer = adata_neu.layers[\"log2_1p_CPM_original\"]"
   ]
  },
  {
   "cell_type": "code",
   "execution_count": 7,
   "id": "49976cc2",
   "metadata": {},
   "outputs": [],
   "source": [
    "import optuna\n",
    "import numpy as np\n",
    "import pandas as pd\n",
    "\n",
    "def scvi_objective(\n",
    "    trial,\n",
    "    X_counts, gene_names, batches, norm_layer,\n",
    "    k_search=3,\n",
    "    seed=123,\n",
    "    batch_key=\"BioProject\",\n",
    "    seurat_layer=\"log2_1p_CPM_original\",\n",
    "    labels=None, # for sillhouette               \n",
    "    use_composite_score=False, # composite score(TODO: need to check details)\n",
    "):\n",
    "    # ----- search space -----\n",
    "    hp = dict(\n",
    "        n_latent    = trial.suggest_categorical(\"n_latent\", [16, 32]),\n",
    "        n_hidden    = trial.suggest_categorical(\"n_hidden\", [128, 256]),\n",
    "        n_layers    = trial.suggest_categorical(\"n_layers\", [2]),\n",
    "        dropout_rate= trial.suggest_categorical(\"dropout_rate\", [0.0, 0.1]),\n",
    "        max_epochs  = trial.suggest_categorical(\"max_epochs\", [150, 250]),\n",
    "        lr          = trial.suggest_categorical(\"lr\", [1e-3, 5e-4]),\n",
    "        weight_decay= trial.suggest_categorical(\"weight_decay\", [1e-6, 1e-5]),\n",
    "        batch_size  = trial.suggest_categorical(\"batch_size\", [256, 512]),\n",
    "        n_hvg       = trial.suggest_categorical(\"n_hvg\", [800, 1000, 1500, 2000]),\n",
    "        use_gpu     = True,\n",
    "    )\n",
    "    grid = {k: [v] for k, v in hp.items() if k != \"n_hvg\"}  # one-point grid\n",
    "\n",
    "    # ----- run light CV -----\n",
    "    summary, detailed = cv_scvi_5fold(\n",
    "        X_counts,\n",
    "        k=k_search,\n",
    "        scvi_grid=grid,\n",
    "        n_hvg=int(hp[\"n_hvg\"]),\n",
    "        R=1,\n",
    "        mask_frac=0.10,\n",
    "        thinning_p=0.10,\n",
    "        random_state=seed,\n",
    "        hvg_mode=\"seurat_v3\",\n",
    "        gene_names=gene_names,\n",
    "        batches=batches,\n",
    "        norm_layer=norm_layer,\n",
    "        batch_key=batch_key,\n",
    "        seurat_layer_name=seurat_layer,\n",
    "        labels=None, # Sillhouette\n",
    "        save_dir=None,\n",
    "    )\n",
    "\n",
    "    if len(summary) == 0:\n",
    "        return -np.inf\n",
    "    row = summary.iloc[0]   # one-point grid → single row\n",
    "\n",
    "    if not use_composite_score:\n",
    "        score = float(row[\"NB_ll_thin\"])\n",
    "    else:\n",
    "        alpha = 0.05 \n",
    "        beta  = 0.01\n",
    "        ll = 0.5 * (float(row[\"NB_ll_zero\"]) + float(row[\"NB_ll_thin\"]))\n",
    "        dv = 0.5 * (float(row[\"NB_dev_zero\"]) + float(row[\"NB_dev_thin\"]))\n",
    "        sil = float(row[\"Silhouette\"]) if (\"Silhouette\" in row and pd.notna(row[\"Silhouette\"])) else 0.0\n",
    "        score = ll - alpha * dv + beta * sil\n",
    "\n",
    "    trial.set_user_attr(\"scvi_summary\", summary.to_dict(\"records\"))\n",
    "    # trial.set_user_attr(\"scvi_detailed_head\", detailed.head(5).to_dict(\"records\"))\n",
    "\n",
    "    return float(score)\n"
   ]
  },
  {
   "cell_type": "code",
   "execution_count": 8,
   "id": "3649ce12",
   "metadata": {},
   "outputs": [
    {
     "name": "stderr",
     "output_type": "stream",
     "text": [
      "[I 2025-09-17 19:28:37,311] A new study created in memory with name: no-name-eacac1b6-90c2-4034-aaf3-5dd2ba6a5feb\n"
     ]
    },
    {
     "name": "stdout",
     "output_type": "stream",
     "text": [
      "2025-09-17 19:28:37 | [cv_scvi_5fold] start k=3 n_hvg=1000 mode=seurat_v3\n",
      "2025-09-17 19:28:37 | X_counts: dense  (447, 51777) dtype=int64\n",
      "2025-09-17 19:28:46 | X_counts: zeros=66.23%, approx_int=True\n",
      "2025-09-17 19:28:46 | [time] [scVI] fold 1/3 start\n"
     ]
    },
    {
     "name": "stderr",
     "output_type": "stream",
     "text": [
      "/home/ma/ma_ma/ma_minjlee/.conda/envs/scvi/lib/python3.11/site-packages/legacy_api_wrap/__init__.py:82: UserWarning: `flavor='seurat_v3'` expects raw count data, but non-integers were found.\n",
      "  return fn(*args_all, **kw)\n"
     ]
    },
    {
     "name": "stdout",
     "output_type": "stream",
     "text": [
      "2025-09-17 19:29:03 | [scVI] fold 1 | HVG=1000\n",
      "2025-09-17 19:29:03 | [scVI] fold 1 params={'batch_size': 256, 'dropout_rate': 0.0, 'lr': 0.001, 'max_epochs': 150, 'n_hidden': 256, 'n_latent': 16, 'n_layers': 2, 'use_gpu': True, 'weight_decay': 1e-05}\n",
      "2025-09-17 19:29:22 | [scVI] fit hp={'n_latent': 16, 'n_hidden': 256, 'n_layers': 2, 'dropout_rate': 0.0, 'max_epochs': 150, 'lr': 0.001, 'weight_decay': 1e-05, 'batch_size': 256, 'batch_key': 'BioProject', 'use_gpu': True}\n",
      "2025-09-17 19:29:22 | X_train: dense  (298, 1000) dtype=int64\n",
      "2025-09-17 19:29:22 | [time] [scVI] train start\n"
     ]
    },
    {
     "name": "stderr",
     "output_type": "stream",
     "text": [
      "/home/ma/ma_ma/ma_minjlee/.conda/envs/scvi/lib/python3.11/site-packages/lightning/fabric/plugins/environments/slurm.py:204: The `srun` command is available on your system but is not used. HINT: If your intention is to run Lightning on SLURM, prepend your python command with `srun` like so: srun python /home/ma/ma_ma/ma_minjlee/.conda/envs/scvi/lib/pytho ...\n",
      "GPU available: False, used: False\n",
      "TPU available: False, using: 0 TPU cores\n",
      "HPU available: False, using: 0 HPUs\n",
      "/home/ma/ma_ma/ma_minjlee/.conda/envs/scvi/lib/python3.11/site-packages/lightning/fabric/plugins/environments/slurm.py:204: The `srun` command is available on your system but is not used. HINT: If your intention is to run Lightning on SLURM, prepend your python command with `srun` like so: srun python /home/ma/ma_ma/ma_minjlee/.conda/envs/scvi/lib/pytho ...\n",
      "/home/ma/ma_ma/ma_minjlee/.conda/envs/scvi/lib/python3.11/site-packages/lightning/pytorch/trainer/connectors/data_connector.py:433: The 'train_dataloader' does not have many workers which may be a bottleneck. Consider increasing the value of the `num_workers` argument` to `num_workers=191` in the `DataLoader` to improve performance.\n",
      "/home/ma/ma_ma/ma_minjlee/.conda/envs/scvi/lib/python3.11/site-packages/lightning/pytorch/loops/fit_loop.py:310: The number of training batches (2) is smaller than the logging interval Trainer(log_every_n_steps=10). Set a lower value for log_every_n_steps if you want to see logs for the training epoch.\n"
     ]
    },
    {
     "name": "stdout",
     "output_type": "stream",
     "text": [
      "Epoch 1/150:   0%|          | 0/150 [00:00<?, ?it/s]2025-09-17 19:29:23 | [time] [scVI] train end in 0.57s\n",
      "2025-09-17 19:29:23 | [scVI] predict_mean\n",
      "2025-09-17 19:29:23 | [time] [scVI] get_likelihood_parameters start\n",
      "\u001b[34mINFO    \u001b[0m Input AnnData not setup with scvi-tools. attempting to transfer AnnData setup                             \n",
      "2025-09-17 19:29:23 | [time] [scVI] get_likelihood_parameters end in 0.02s\n",
      "\u001b[34mINFO    \u001b[0m Input AnnData not setup with scvi-tools. attempting to transfer AnnData setup                             \n",
      "2025-09-17 19:29:23 | [scVI] predict_mean\n",
      "2025-09-17 19:29:23 | [time] [scVI] get_likelihood_parameters start\n",
      "\u001b[34mINFO    \u001b[0m Input AnnData not setup with scvi-tools. attempting to transfer AnnData setup                             \n",
      "2025-09-17 19:29:23 | [time] [scVI] get_likelihood_parameters end in 0.02s\n",
      "2025-09-17 19:29:23 | [scVI] predict_mean\n",
      "2025-09-17 19:29:23 | [time] [scVI] get_likelihood_parameters start\n",
      "\u001b[34mINFO    \u001b[0m Input AnnData not setup with scvi-tools. attempting to transfer AnnData setup                             \n",
      "2025-09-17 19:29:23 | [time] [scVI] get_likelihood_parameters end in 0.02s\n",
      "2025-09-17 19:29:23 | [time] [scVI] fold 1/3 end in 37.18s\n",
      "2025-09-17 19:29:23 | [time] [scVI] fold 2/3 start\n"
     ]
    },
    {
     "name": "stderr",
     "output_type": "stream",
     "text": [
      "/home/ma/ma_ma/ma_minjlee/.conda/envs/scvi/lib/python3.11/site-packages/legacy_api_wrap/__init__.py:82: UserWarning: `flavor='seurat_v3'` expects raw count data, but non-integers were found.\n",
      "  return fn(*args_all, **kw)\n"
     ]
    },
    {
     "name": "stdout",
     "output_type": "stream",
     "text": [
      "2025-09-17 19:29:47 | [scVI] fold 2 | HVG=1000\n",
      "2025-09-17 19:29:47 | [scVI] fold 2 params={'batch_size': 256, 'dropout_rate': 0.0, 'lr': 0.001, 'max_epochs': 150, 'n_hidden': 256, 'n_latent': 16, 'n_layers': 2, 'use_gpu': True, 'weight_decay': 1e-05}\n",
      "2025-09-17 19:29:47 | [scVI] fit hp={'n_latent': 16, 'n_hidden': 256, 'n_layers': 2, 'dropout_rate': 0.0, 'max_epochs': 150, 'lr': 0.001, 'weight_decay': 1e-05, 'batch_size': 256, 'batch_key': 'BioProject', 'use_gpu': True}\n",
      "2025-09-17 19:29:47 | X_train: dense  (298, 1000) dtype=int64\n",
      "2025-09-17 19:29:47 | [time] [scVI] train start\n"
     ]
    },
    {
     "name": "stderr",
     "output_type": "stream",
     "text": [
      "/home/ma/ma_ma/ma_minjlee/.conda/envs/scvi/lib/python3.11/site-packages/lightning/fabric/plugins/environments/slurm.py:204: The `srun` command is available on your system but is not used. HINT: If your intention is to run Lightning on SLURM, prepend your python command with `srun` like so: srun python /home/ma/ma_ma/ma_minjlee/.conda/envs/scvi/lib/pytho ...\n",
      "GPU available: False, used: False\n",
      "TPU available: False, using: 0 TPU cores\n",
      "HPU available: False, using: 0 HPUs\n",
      "/home/ma/ma_ma/ma_minjlee/.conda/envs/scvi/lib/python3.11/site-packages/lightning/fabric/plugins/environments/slurm.py:204: The `srun` command is available on your system but is not used. HINT: If your intention is to run Lightning on SLURM, prepend your python command with `srun` like so: srun python /home/ma/ma_ma/ma_minjlee/.conda/envs/scvi/lib/pytho ...\n",
      "/home/ma/ma_ma/ma_minjlee/.conda/envs/scvi/lib/python3.11/site-packages/lightning/pytorch/trainer/connectors/data_connector.py:433: The 'train_dataloader' does not have many workers which may be a bottleneck. Consider increasing the value of the `num_workers` argument` to `num_workers=191` in the `DataLoader` to improve performance.\n",
      "/home/ma/ma_ma/ma_minjlee/.conda/envs/scvi/lib/python3.11/site-packages/lightning/pytorch/loops/fit_loop.py:310: The number of training batches (2) is smaller than the logging interval Trainer(log_every_n_steps=10). Set a lower value for log_every_n_steps if you want to see logs for the training epoch.\n"
     ]
    },
    {
     "name": "stdout",
     "output_type": "stream",
     "text": [
      "Epoch 1/150:   0%|          | 0/150 [00:00<?, ?it/s]2025-09-17 19:29:47 | [time] [scVI] train end in 0.36s\n",
      "2025-09-17 19:29:47 | [scVI] predict_mean\n",
      "2025-09-17 19:29:47 | [time] [scVI] get_likelihood_parameters start\n",
      "\u001b[34mINFO    \u001b[0m Input AnnData not setup with scvi-tools. attempting to transfer AnnData setup                             \n",
      "2025-09-17 19:29:47 | [time] [scVI] get_likelihood_parameters end in 0.02s\n",
      "\u001b[34mINFO    \u001b[0m Input AnnData not setup with scvi-tools. attempting to transfer AnnData setup                             \n",
      "2025-09-17 19:29:47 | [scVI] predict_mean\n",
      "2025-09-17 19:29:47 | [time] [scVI] get_likelihood_parameters start\n",
      "\u001b[34mINFO    \u001b[0m Input AnnData not setup with scvi-tools. attempting to transfer AnnData setup                             \n",
      "2025-09-17 19:29:47 | [time] [scVI] get_likelihood_parameters end in 0.02s\n",
      "2025-09-17 19:29:47 | [scVI] predict_mean\n",
      "2025-09-17 19:29:47 | [time] [scVI] get_likelihood_parameters start\n",
      "\u001b[34mINFO    \u001b[0m Input AnnData not setup with scvi-tools. attempting to transfer AnnData setup                             \n",
      "2025-09-17 19:29:47 | [time] [scVI] get_likelihood_parameters end in 0.02s\n",
      "2025-09-17 19:29:47 | [time] [scVI] fold 2/3 end in 24.54s\n",
      "2025-09-17 19:29:47 | [time] [scVI] fold 3/3 start\n"
     ]
    },
    {
     "name": "stderr",
     "output_type": "stream",
     "text": [
      "/home/ma/ma_ma/ma_minjlee/.conda/envs/scvi/lib/python3.11/site-packages/legacy_api_wrap/__init__.py:82: UserWarning: `flavor='seurat_v3'` expects raw count data, but non-integers were found.\n",
      "  return fn(*args_all, **kw)\n"
     ]
    },
    {
     "name": "stdout",
     "output_type": "stream",
     "text": [
      "2025-09-17 19:30:12 | [scVI] fold 3 | HVG=1000\n",
      "2025-09-17 19:30:12 | [scVI] fold 3 params={'batch_size': 256, 'dropout_rate': 0.0, 'lr': 0.001, 'max_epochs': 150, 'n_hidden': 256, 'n_latent': 16, 'n_layers': 2, 'use_gpu': True, 'weight_decay': 1e-05}\n",
      "2025-09-17 19:30:12 | [scVI] fit hp={'n_latent': 16, 'n_hidden': 256, 'n_layers': 2, 'dropout_rate': 0.0, 'max_epochs': 150, 'lr': 0.001, 'weight_decay': 1e-05, 'batch_size': 256, 'batch_key': 'BioProject', 'use_gpu': True}\n",
      "2025-09-17 19:30:12 | X_train: dense  (298, 1000) dtype=int64\n",
      "2025-09-17 19:30:12 | [time] [scVI] train start\n"
     ]
    },
    {
     "name": "stderr",
     "output_type": "stream",
     "text": [
      "/home/ma/ma_ma/ma_minjlee/.conda/envs/scvi/lib/python3.11/site-packages/lightning/fabric/plugins/environments/slurm.py:204: The `srun` command is available on your system but is not used. HINT: If your intention is to run Lightning on SLURM, prepend your python command with `srun` like so: srun python /home/ma/ma_ma/ma_minjlee/.conda/envs/scvi/lib/pytho ...\n",
      "GPU available: False, used: False\n",
      "TPU available: False, using: 0 TPU cores\n",
      "HPU available: False, using: 0 HPUs\n",
      "/home/ma/ma_ma/ma_minjlee/.conda/envs/scvi/lib/python3.11/site-packages/lightning/fabric/plugins/environments/slurm.py:204: The `srun` command is available on your system but is not used. HINT: If your intention is to run Lightning on SLURM, prepend your python command with `srun` like so: srun python /home/ma/ma_ma/ma_minjlee/.conda/envs/scvi/lib/pytho ...\n",
      "/home/ma/ma_ma/ma_minjlee/.conda/envs/scvi/lib/python3.11/site-packages/lightning/pytorch/trainer/connectors/data_connector.py:433: The 'train_dataloader' does not have many workers which may be a bottleneck. Consider increasing the value of the `num_workers` argument` to `num_workers=191` in the `DataLoader` to improve performance.\n",
      "/home/ma/ma_ma/ma_minjlee/.conda/envs/scvi/lib/python3.11/site-packages/lightning/pytorch/loops/fit_loop.py:310: The number of training batches (2) is smaller than the logging interval Trainer(log_every_n_steps=10). Set a lower value for log_every_n_steps if you want to see logs for the training epoch.\n"
     ]
    },
    {
     "name": "stdout",
     "output_type": "stream",
     "text": [
      "Epoch 1/150:   0%|          | 0/150 [00:49<?, ?it/s]\n",
      "2025-09-17 19:30:12 | [time] [scVI] train end in 0.37s\n",
      "2025-09-17 19:30:12 | [scVI] predict_mean\n",
      "2025-09-17 19:30:12 | [time] [scVI] get_likelihood_parameters start\n",
      "\u001b[34mINFO    \u001b[0m Input AnnData not setup with scvi-tools. attempting to transfer AnnData setup                             \n",
      "2025-09-17 19:30:12 | [time] [scVI] get_likelihood_parameters end in 0.02s\n",
      "\u001b[34mINFO    \u001b[0m Input AnnData not setup with scvi-tools. attempting to transfer AnnData setup                             \n",
      "2025-09-17 19:30:12 | [scVI] predict_mean\n",
      "2025-09-17 19:30:12 | [time] [scVI] get_likelihood_parameters start\n",
      "\u001b[34mINFO    \u001b[0m Input AnnData not setup with scvi-tools. attempting to transfer AnnData setup                             \n",
      "2025-09-17 19:30:12 | [time] [scVI] get_likelihood_parameters end in 0.02s\n",
      "2025-09-17 19:30:12 | [scVI] predict_mean\n",
      "2025-09-17 19:30:12 | [time] [scVI] get_likelihood_parameters start\n",
      "\u001b[34mINFO    \u001b[0m Input AnnData not setup with scvi-tools. attempting to transfer AnnData setup                             \n",
      "2025-09-17 19:30:12 | [time] [scVI] get_likelihood_parameters end in 0.02s\n",
      "2025-09-17 19:30:12 | [time] [scVI] fold 3/3 end in 24.94s\n",
      "2025-09-17 19:30:12 | [cv_scvi_5fold] done\n"
     ]
    },
    {
     "name": "stderr",
     "output_type": "stream",
     "text": [
      "[I 2025-09-17 19:30:12,747] Trial 0 finished with value: -6.805729643655531 and parameters: {'n_latent': 16, 'n_hidden': 256, 'n_layers': 2, 'dropout_rate': 0.0, 'max_epochs': 150, 'lr': 0.001, 'weight_decay': 1e-05, 'batch_size': 256, 'n_hvg': 1000}. Best is trial 0 with value: -6.805729643655531.\n"
     ]
    },
    {
     "name": "stdout",
     "output_type": "stream",
     "text": [
      "Epoch 1/150:   0%|          | 0/150 [00:25<?, ?it/s]\n",
      "Epoch 1/150:   0%|          | 0/150 [00:00<?, ?it/s]\n",
      "2025-09-17 19:30:12 | [cv_scvi_5fold] start k=3 n_hvg=1000 mode=seurat_v3\n",
      "2025-09-17 19:30:12 | X_counts: dense  (447, 51777) dtype=int64\n",
      "2025-09-17 19:30:21 | X_counts: zeros=66.23%, approx_int=True\n",
      "2025-09-17 19:30:21 | [time] [scVI] fold 1/3 start\n"
     ]
    },
    {
     "name": "stderr",
     "output_type": "stream",
     "text": [
      "/home/ma/ma_ma/ma_minjlee/.conda/envs/scvi/lib/python3.11/site-packages/legacy_api_wrap/__init__.py:82: UserWarning: `flavor='seurat_v3'` expects raw count data, but non-integers were found.\n",
      "  return fn(*args_all, **kw)\n"
     ]
    },
    {
     "name": "stdout",
     "output_type": "stream",
     "text": [
      "2025-09-17 19:30:44 | [scVI] fold 1 | HVG=1000\n",
      "2025-09-17 19:30:44 | [scVI] fold 1 params={'batch_size': 512, 'dropout_rate': 0.0, 'lr': 0.001, 'max_epochs': 150, 'n_hidden': 256, 'n_latent': 32, 'n_layers': 2, 'use_gpu': True, 'weight_decay': 1e-05}\n",
      "2025-09-17 19:30:44 | [scVI] fit hp={'n_latent': 32, 'n_hidden': 256, 'n_layers': 2, 'dropout_rate': 0.0, 'max_epochs': 150, 'lr': 0.001, 'weight_decay': 1e-05, 'batch_size': 512, 'batch_key': 'BioProject', 'use_gpu': True}\n",
      "2025-09-17 19:30:44 | X_train: dense  (298, 1000) dtype=int64\n",
      "2025-09-17 19:30:44 | [time] [scVI] train start\n"
     ]
    },
    {
     "name": "stderr",
     "output_type": "stream",
     "text": [
      "/home/ma/ma_ma/ma_minjlee/.conda/envs/scvi/lib/python3.11/site-packages/lightning/fabric/plugins/environments/slurm.py:204: The `srun` command is available on your system but is not used. HINT: If your intention is to run Lightning on SLURM, prepend your python command with `srun` like so: srun python /home/ma/ma_ma/ma_minjlee/.conda/envs/scvi/lib/pytho ...\n",
      "GPU available: False, used: False\n",
      "TPU available: False, using: 0 TPU cores\n",
      "HPU available: False, using: 0 HPUs\n",
      "/home/ma/ma_ma/ma_minjlee/.conda/envs/scvi/lib/python3.11/site-packages/lightning/fabric/plugins/environments/slurm.py:204: The `srun` command is available on your system but is not used. HINT: If your intention is to run Lightning on SLURM, prepend your python command with `srun` like so: srun python /home/ma/ma_ma/ma_minjlee/.conda/envs/scvi/lib/pytho ...\n",
      "/home/ma/ma_ma/ma_minjlee/.conda/envs/scvi/lib/python3.11/site-packages/lightning/pytorch/trainer/connectors/data_connector.py:433: The 'train_dataloader' does not have many workers which may be a bottleneck. Consider increasing the value of the `num_workers` argument` to `num_workers=191` in the `DataLoader` to improve performance.\n",
      "/home/ma/ma_ma/ma_minjlee/.conda/envs/scvi/lib/python3.11/site-packages/lightning/pytorch/loops/fit_loop.py:310: The number of training batches (1) is smaller than the logging interval Trainer(log_every_n_steps=10). Set a lower value for log_every_n_steps if you want to see logs for the training epoch.\n"
     ]
    },
    {
     "name": "stdout",
     "output_type": "stream",
     "text": [
      "Epoch 1/150:   0%|          | 0/150 [00:00<?, ?it/s]2025-09-17 19:30:45 | [time] [scVI] train end in 0.36s\n",
      "2025-09-17 19:30:45 | [scVI] predict_mean\n",
      "2025-09-17 19:30:45 | [time] [scVI] get_likelihood_parameters start\n",
      "\u001b[34mINFO    \u001b[0m Input AnnData not setup with scvi-tools. attempting to transfer AnnData setup                             \n",
      "2025-09-17 19:30:45 | [time] [scVI] get_likelihood_parameters end in 0.02s\n",
      "\u001b[34mINFO    \u001b[0m Input AnnData not setup with scvi-tools. attempting to transfer AnnData setup                             \n",
      "2025-09-17 19:30:45 | [scVI] predict_mean\n",
      "2025-09-17 19:30:45 | [time] [scVI] get_likelihood_parameters start\n",
      "\u001b[34mINFO    \u001b[0m Input AnnData not setup with scvi-tools. attempting to transfer AnnData setup                             \n",
      "2025-09-17 19:30:45 | [time] [scVI] get_likelihood_parameters end in 0.02s\n",
      "2025-09-17 19:30:45 | [scVI] predict_mean\n",
      "2025-09-17 19:30:45 | [time] [scVI] get_likelihood_parameters start\n",
      "\u001b[34mINFO    \u001b[0m Input AnnData not setup with scvi-tools. attempting to transfer AnnData setup                             \n",
      "2025-09-17 19:30:45 | [time] [scVI] get_likelihood_parameters end in 0.02s\n",
      "2025-09-17 19:30:45 | [time] [scVI] fold 1/3 end in 23.74s\n",
      "2025-09-17 19:30:45 | [time] [scVI] fold 2/3 start\n"
     ]
    },
    {
     "name": "stderr",
     "output_type": "stream",
     "text": [
      "/home/ma/ma_ma/ma_minjlee/.conda/envs/scvi/lib/python3.11/site-packages/legacy_api_wrap/__init__.py:82: UserWarning: `flavor='seurat_v3'` expects raw count data, but non-integers were found.\n",
      "  return fn(*args_all, **kw)\n"
     ]
    },
    {
     "name": "stdout",
     "output_type": "stream",
     "text": [
      "2025-09-17 19:31:10 | [scVI] fold 2 | HVG=1000\n",
      "2025-09-17 19:31:10 | [scVI] fold 2 params={'batch_size': 512, 'dropout_rate': 0.0, 'lr': 0.001, 'max_epochs': 150, 'n_hidden': 256, 'n_latent': 32, 'n_layers': 2, 'use_gpu': True, 'weight_decay': 1e-05}\n",
      "2025-09-17 19:31:10 | [scVI] fit hp={'n_latent': 32, 'n_hidden': 256, 'n_layers': 2, 'dropout_rate': 0.0, 'max_epochs': 150, 'lr': 0.001, 'weight_decay': 1e-05, 'batch_size': 512, 'batch_key': 'BioProject', 'use_gpu': True}\n",
      "2025-09-17 19:31:10 | X_train: dense  (298, 1000) dtype=int64\n",
      "2025-09-17 19:31:10 | [time] [scVI] train start\n"
     ]
    },
    {
     "name": "stderr",
     "output_type": "stream",
     "text": [
      "/home/ma/ma_ma/ma_minjlee/.conda/envs/scvi/lib/python3.11/site-packages/lightning/fabric/plugins/environments/slurm.py:204: The `srun` command is available on your system but is not used. HINT: If your intention is to run Lightning on SLURM, prepend your python command with `srun` like so: srun python /home/ma/ma_ma/ma_minjlee/.conda/envs/scvi/lib/pytho ...\n",
      "GPU available: False, used: False\n",
      "TPU available: False, using: 0 TPU cores\n",
      "HPU available: False, using: 0 HPUs\n",
      "/home/ma/ma_ma/ma_minjlee/.conda/envs/scvi/lib/python3.11/site-packages/lightning/fabric/plugins/environments/slurm.py:204: The `srun` command is available on your system but is not used. HINT: If your intention is to run Lightning on SLURM, prepend your python command with `srun` like so: srun python /home/ma/ma_ma/ma_minjlee/.conda/envs/scvi/lib/pytho ...\n",
      "/home/ma/ma_ma/ma_minjlee/.conda/envs/scvi/lib/python3.11/site-packages/lightning/pytorch/trainer/connectors/data_connector.py:433: The 'train_dataloader' does not have many workers which may be a bottleneck. Consider increasing the value of the `num_workers` argument` to `num_workers=191` in the `DataLoader` to improve performance.\n",
      "/home/ma/ma_ma/ma_minjlee/.conda/envs/scvi/lib/python3.11/site-packages/lightning/pytorch/loops/fit_loop.py:310: The number of training batches (1) is smaller than the logging interval Trainer(log_every_n_steps=10). Set a lower value for log_every_n_steps if you want to see logs for the training epoch.\n"
     ]
    },
    {
     "name": "stdout",
     "output_type": "stream",
     "text": [
      "Epoch 1/150:   0%|          | 0/150 [00:00<?, ?it/s]2025-09-17 19:31:10 | [time] [scVI] train end in 0.31s\n",
      "2025-09-17 19:31:10 | [scVI] predict_mean\n",
      "2025-09-17 19:31:10 | [time] [scVI] get_likelihood_parameters start\n",
      "\u001b[34mINFO    \u001b[0m Input AnnData not setup with scvi-tools. attempting to transfer AnnData setup                             \n",
      "2025-09-17 19:31:10 | [time] [scVI] get_likelihood_parameters end in 0.02s\n",
      "\u001b[34mINFO    \u001b[0m Input AnnData not setup with scvi-tools. attempting to transfer AnnData setup                             \n",
      "2025-09-17 19:31:10 | [scVI] predict_mean\n",
      "2025-09-17 19:31:10 | [time] [scVI] get_likelihood_parameters start\n",
      "\u001b[34mINFO    \u001b[0m Input AnnData not setup with scvi-tools. attempting to transfer AnnData setup                             \n",
      "2025-09-17 19:31:10 | [time] [scVI] get_likelihood_parameters end in 0.02s\n",
      "2025-09-17 19:31:10 | [scVI] predict_mean\n",
      "2025-09-17 19:31:10 | [time] [scVI] get_likelihood_parameters start\n",
      "\u001b[34mINFO    \u001b[0m Input AnnData not setup with scvi-tools. attempting to transfer AnnData setup                             \n",
      "2025-09-17 19:31:11 | [time] [scVI] get_likelihood_parameters end in 0.02s\n",
      "2025-09-17 19:31:11 | [time] [scVI] fold 2/3 end in 25.63s\n",
      "2025-09-17 19:31:11 | [time] [scVI] fold 3/3 start\n"
     ]
    },
    {
     "name": "stderr",
     "output_type": "stream",
     "text": [
      "/home/ma/ma_ma/ma_minjlee/.conda/envs/scvi/lib/python3.11/site-packages/legacy_api_wrap/__init__.py:82: UserWarning: `flavor='seurat_v3'` expects raw count data, but non-integers were found.\n",
      "  return fn(*args_all, **kw)\n"
     ]
    },
    {
     "name": "stdout",
     "output_type": "stream",
     "text": [
      "2025-09-17 19:31:35 | [scVI] fold 3 | HVG=1000\n",
      "2025-09-17 19:31:35 | [scVI] fold 3 params={'batch_size': 512, 'dropout_rate': 0.0, 'lr': 0.001, 'max_epochs': 150, 'n_hidden': 256, 'n_latent': 32, 'n_layers': 2, 'use_gpu': True, 'weight_decay': 1e-05}\n",
      "2025-09-17 19:31:35 | [scVI] fit hp={'n_latent': 32, 'n_hidden': 256, 'n_layers': 2, 'dropout_rate': 0.0, 'max_epochs': 150, 'lr': 0.001, 'weight_decay': 1e-05, 'batch_size': 512, 'batch_key': 'BioProject', 'use_gpu': True}\n",
      "2025-09-17 19:31:35 | X_train: dense  (298, 1000) dtype=int64\n",
      "2025-09-17 19:31:35 | [time] [scVI] train start\n"
     ]
    },
    {
     "name": "stderr",
     "output_type": "stream",
     "text": [
      "/home/ma/ma_ma/ma_minjlee/.conda/envs/scvi/lib/python3.11/site-packages/lightning/fabric/plugins/environments/slurm.py:204: The `srun` command is available on your system but is not used. HINT: If your intention is to run Lightning on SLURM, prepend your python command with `srun` like so: srun python /home/ma/ma_ma/ma_minjlee/.conda/envs/scvi/lib/pytho ...\n",
      "GPU available: False, used: False\n",
      "TPU available: False, using: 0 TPU cores\n",
      "HPU available: False, using: 0 HPUs\n",
      "/home/ma/ma_ma/ma_minjlee/.conda/envs/scvi/lib/python3.11/site-packages/lightning/fabric/plugins/environments/slurm.py:204: The `srun` command is available on your system but is not used. HINT: If your intention is to run Lightning on SLURM, prepend your python command with `srun` like so: srun python /home/ma/ma_ma/ma_minjlee/.conda/envs/scvi/lib/pytho ...\n",
      "/home/ma/ma_ma/ma_minjlee/.conda/envs/scvi/lib/python3.11/site-packages/lightning/pytorch/trainer/connectors/data_connector.py:433: The 'train_dataloader' does not have many workers which may be a bottleneck. Consider increasing the value of the `num_workers` argument` to `num_workers=191` in the `DataLoader` to improve performance.\n",
      "/home/ma/ma_ma/ma_minjlee/.conda/envs/scvi/lib/python3.11/site-packages/lightning/pytorch/loops/fit_loop.py:310: The number of training batches (1) is smaller than the logging interval Trainer(log_every_n_steps=10). Set a lower value for log_every_n_steps if you want to see logs for the training epoch.\n"
     ]
    },
    {
     "name": "stdout",
     "output_type": "stream",
     "text": [
      "Epoch 1/150:   0%|          | 0/150 [00:51<?, ?it/s]\n",
      "2025-09-17 19:31:36 | [time] [scVI] train end in 0.37s\n",
      "2025-09-17 19:31:36 | [scVI] predict_mean\n",
      "2025-09-17 19:31:36 | [time] [scVI] get_likelihood_parameters start\n",
      "\u001b[34mINFO    \u001b[0m Input AnnData not setup with scvi-tools. attempting to transfer AnnData setup                             \n",
      "2025-09-17 19:31:36 | [time] [scVI] get_likelihood_parameters end in 0.02s\n",
      "\u001b[34mINFO    \u001b[0m Input AnnData not setup with scvi-tools. attempting to transfer AnnData setup                             \n",
      "2025-09-17 19:31:36 | [scVI] predict_mean\n",
      "2025-09-17 19:31:36 | [time] [scVI] get_likelihood_parameters start\n",
      "\u001b[34mINFO    \u001b[0m Input AnnData not setup with scvi-tools. attempting to transfer AnnData setup                             \n",
      "2025-09-17 19:31:36 | [time] [scVI] get_likelihood_parameters end in 0.02s\n",
      "2025-09-17 19:31:36 | [scVI] predict_mean\n",
      "2025-09-17 19:31:36 | [time] [scVI] get_likelihood_parameters start\n",
      "\u001b[34mINFO    \u001b[0m Input AnnData not setup with scvi-tools. attempting to transfer AnnData setup                             \n",
      "2025-09-17 19:31:36 | [time] [scVI] get_likelihood_parameters end in 0.02s\n",
      "2025-09-17 19:31:36 | [time] [scVI] fold 3/3 end in 25.23s\n",
      "2025-09-17 19:31:36 | [cv_scvi_5fold] done\n"
     ]
    },
    {
     "name": "stderr",
     "output_type": "stream",
     "text": [
      "[I 2025-09-17 19:31:36,260] Trial 1 finished with value: -7.246164729035138 and parameters: {'n_latent': 32, 'n_hidden': 256, 'n_layers': 2, 'dropout_rate': 0.0, 'max_epochs': 150, 'lr': 0.001, 'weight_decay': 1e-05, 'batch_size': 512, 'n_hvg': 1000}. Best is trial 0 with value: -6.805729643655531.\n"
     ]
    },
    {
     "name": "stdout",
     "output_type": "stream",
     "text": [
      "Epoch 1/150:   0%|          | 0/150 [00:25<?, ?it/s]\n",
      "Epoch 1/150:   0%|          | 0/150 [00:00<?, ?it/s]\n",
      "2025-09-17 19:31:36 | [cv_scvi_5fold] start k=3 n_hvg=1000 mode=seurat_v3\n",
      "2025-09-17 19:31:36 | X_counts: dense  (447, 51777) dtype=int64\n",
      "2025-09-17 19:31:49 | X_counts: zeros=66.23%, approx_int=True\n",
      "2025-09-17 19:31:49 | [time] [scVI] fold 1/3 start\n"
     ]
    },
    {
     "name": "stderr",
     "output_type": "stream",
     "text": [
      "/home/ma/ma_ma/ma_minjlee/.conda/envs/scvi/lib/python3.11/site-packages/legacy_api_wrap/__init__.py:82: UserWarning: `flavor='seurat_v3'` expects raw count data, but non-integers were found.\n",
      "  return fn(*args_all, **kw)\n"
     ]
    },
    {
     "name": "stdout",
     "output_type": "stream",
     "text": [
      "2025-09-17 19:32:12 | [scVI] fold 1 | HVG=1000\n",
      "2025-09-17 19:32:12 | [scVI] fold 1 params={'batch_size': 512, 'dropout_rate': 0.0, 'lr': 0.001, 'max_epochs': 250, 'n_hidden': 128, 'n_latent': 32, 'n_layers': 2, 'use_gpu': True, 'weight_decay': 1e-05}\n",
      "2025-09-17 19:32:12 | [scVI] fit hp={'n_latent': 32, 'n_hidden': 128, 'n_layers': 2, 'dropout_rate': 0.0, 'max_epochs': 250, 'lr': 0.001, 'weight_decay': 1e-05, 'batch_size': 512, 'batch_key': 'BioProject', 'use_gpu': True}\n",
      "2025-09-17 19:32:12 | X_train: dense  (298, 1000) dtype=int64\n",
      "2025-09-17 19:32:12 | [time] [scVI] train start\n"
     ]
    },
    {
     "name": "stderr",
     "output_type": "stream",
     "text": [
      "/home/ma/ma_ma/ma_minjlee/.conda/envs/scvi/lib/python3.11/site-packages/lightning/fabric/plugins/environments/slurm.py:204: The `srun` command is available on your system but is not used. HINT: If your intention is to run Lightning on SLURM, prepend your python command with `srun` like so: srun python /home/ma/ma_ma/ma_minjlee/.conda/envs/scvi/lib/pytho ...\n",
      "GPU available: False, used: False\n",
      "TPU available: False, using: 0 TPU cores\n",
      "HPU available: False, using: 0 HPUs\n",
      "/home/ma/ma_ma/ma_minjlee/.conda/envs/scvi/lib/python3.11/site-packages/lightning/fabric/plugins/environments/slurm.py:204: The `srun` command is available on your system but is not used. HINT: If your intention is to run Lightning on SLURM, prepend your python command with `srun` like so: srun python /home/ma/ma_ma/ma_minjlee/.conda/envs/scvi/lib/pytho ...\n",
      "/home/ma/ma_ma/ma_minjlee/.conda/envs/scvi/lib/python3.11/site-packages/lightning/pytorch/trainer/connectors/data_connector.py:433: The 'train_dataloader' does not have many workers which may be a bottleneck. Consider increasing the value of the `num_workers` argument` to `num_workers=191` in the `DataLoader` to improve performance.\n",
      "/home/ma/ma_ma/ma_minjlee/.conda/envs/scvi/lib/python3.11/site-packages/lightning/pytorch/loops/fit_loop.py:310: The number of training batches (1) is smaller than the logging interval Trainer(log_every_n_steps=10). Set a lower value for log_every_n_steps if you want to see logs for the training epoch.\n"
     ]
    },
    {
     "name": "stdout",
     "output_type": "stream",
     "text": [
      "Epoch 1/250:   0%|          | 0/250 [00:00<?, ?it/s]2025-09-17 19:32:13 | [time] [scVI] train end in 0.35s\n",
      "2025-09-17 19:32:13 | [scVI] predict_mean\n",
      "2025-09-17 19:32:13 | [time] [scVI] get_likelihood_parameters start\n",
      "\u001b[34mINFO    \u001b[0m Input AnnData not setup with scvi-tools. attempting to transfer AnnData setup                             \n",
      "2025-09-17 19:32:13 | [time] [scVI] get_likelihood_parameters end in 0.01s\n",
      "\u001b[34mINFO    \u001b[0m Input AnnData not setup with scvi-tools. attempting to transfer AnnData setup                             \n",
      "2025-09-17 19:32:13 | [scVI] predict_mean\n",
      "2025-09-17 19:32:13 | [time] [scVI] get_likelihood_parameters start\n",
      "\u001b[34mINFO    \u001b[0m Input AnnData not setup with scvi-tools. attempting to transfer AnnData setup                             \n",
      "2025-09-17 19:32:13 | [time] [scVI] get_likelihood_parameters end in 0.01s\n",
      "2025-09-17 19:32:13 | [scVI] predict_mean\n",
      "2025-09-17 19:32:13 | [time] [scVI] get_likelihood_parameters start\n",
      "\u001b[34mINFO    \u001b[0m Input AnnData not setup with scvi-tools. attempting to transfer AnnData setup                             \n",
      "2025-09-17 19:32:13 | [time] [scVI] get_likelihood_parameters end in 0.01s\n",
      "2025-09-17 19:32:13 | [time] [scVI] fold 1/3 end in 23.48s\n",
      "2025-09-17 19:32:13 | [time] [scVI] fold 2/3 start\n"
     ]
    },
    {
     "name": "stderr",
     "output_type": "stream",
     "text": [
      "/home/ma/ma_ma/ma_minjlee/.conda/envs/scvi/lib/python3.11/site-packages/legacy_api_wrap/__init__.py:82: UserWarning: `flavor='seurat_v3'` expects raw count data, but non-integers were found.\n",
      "  return fn(*args_all, **kw)\n"
     ]
    },
    {
     "name": "stdout",
     "output_type": "stream",
     "text": [
      "2025-09-17 19:32:32 | [scVI] fold 2 | HVG=1000\n",
      "2025-09-17 19:32:32 | [scVI] fold 2 params={'batch_size': 512, 'dropout_rate': 0.0, 'lr': 0.001, 'max_epochs': 250, 'n_hidden': 128, 'n_latent': 32, 'n_layers': 2, 'use_gpu': True, 'weight_decay': 1e-05}\n",
      "2025-09-17 19:32:32 | [scVI] fit hp={'n_latent': 32, 'n_hidden': 128, 'n_layers': 2, 'dropout_rate': 0.0, 'max_epochs': 250, 'lr': 0.001, 'weight_decay': 1e-05, 'batch_size': 512, 'batch_key': 'BioProject', 'use_gpu': True}\n",
      "2025-09-17 19:32:32 | X_train: dense  (298, 1000) dtype=int64\n",
      "2025-09-17 19:32:32 | [time] [scVI] train start\n"
     ]
    },
    {
     "name": "stderr",
     "output_type": "stream",
     "text": [
      "/home/ma/ma_ma/ma_minjlee/.conda/envs/scvi/lib/python3.11/site-packages/lightning/fabric/plugins/environments/slurm.py:204: The `srun` command is available on your system but is not used. HINT: If your intention is to run Lightning on SLURM, prepend your python command with `srun` like so: srun python /home/ma/ma_ma/ma_minjlee/.conda/envs/scvi/lib/pytho ...\n",
      "GPU available: False, used: False\n",
      "TPU available: False, using: 0 TPU cores\n",
      "HPU available: False, using: 0 HPUs\n",
      "/home/ma/ma_ma/ma_minjlee/.conda/envs/scvi/lib/python3.11/site-packages/lightning/fabric/plugins/environments/slurm.py:204: The `srun` command is available on your system but is not used. HINT: If your intention is to run Lightning on SLURM, prepend your python command with `srun` like so: srun python /home/ma/ma_ma/ma_minjlee/.conda/envs/scvi/lib/pytho ...\n",
      "/home/ma/ma_ma/ma_minjlee/.conda/envs/scvi/lib/python3.11/site-packages/lightning/pytorch/trainer/connectors/data_connector.py:433: The 'train_dataloader' does not have many workers which may be a bottleneck. Consider increasing the value of the `num_workers` argument` to `num_workers=191` in the `DataLoader` to improve performance.\n",
      "/home/ma/ma_ma/ma_minjlee/.conda/envs/scvi/lib/python3.11/site-packages/lightning/pytorch/loops/fit_loop.py:310: The number of training batches (1) is smaller than the logging interval Trainer(log_every_n_steps=10). Set a lower value for log_every_n_steps if you want to see logs for the training epoch.\n"
     ]
    },
    {
     "name": "stdout",
     "output_type": "stream",
     "text": [
      "Epoch 1/250:   0%|          | 0/250 [00:00<?, ?it/s]2025-09-17 19:32:33 | [time] [scVI] train end in 0.29s\n",
      "2025-09-17 19:32:33 | [scVI] predict_mean\n",
      "2025-09-17 19:32:33 | [time] [scVI] get_likelihood_parameters start\n",
      "\u001b[34mINFO    \u001b[0m Input AnnData not setup with scvi-tools. attempting to transfer AnnData setup                             \n",
      "2025-09-17 19:32:33 | [time] [scVI] get_likelihood_parameters end in 0.01s\n",
      "\u001b[34mINFO    \u001b[0m Input AnnData not setup with scvi-tools. attempting to transfer AnnData setup                             \n",
      "2025-09-17 19:32:33 | [scVI] predict_mean\n",
      "2025-09-17 19:32:33 | [time] [scVI] get_likelihood_parameters start\n",
      "\u001b[34mINFO    \u001b[0m Input AnnData not setup with scvi-tools. attempting to transfer AnnData setup                             \n",
      "2025-09-17 19:32:33 | [time] [scVI] get_likelihood_parameters end in 0.01s\n",
      "2025-09-17 19:32:33 | [scVI] predict_mean\n",
      "2025-09-17 19:32:33 | [time] [scVI] get_likelihood_parameters start\n",
      "\u001b[34mINFO    \u001b[0m Input AnnData not setup with scvi-tools. attempting to transfer AnnData setup                             \n",
      "2025-09-17 19:32:33 | [time] [scVI] get_likelihood_parameters end in 0.01s\n",
      "2025-09-17 19:32:33 | [time] [scVI] fold 2/3 end in 19.86s\n",
      "2025-09-17 19:32:33 | [time] [scVI] fold 3/3 start\n"
     ]
    },
    {
     "name": "stderr",
     "output_type": "stream",
     "text": [
      "/home/ma/ma_ma/ma_minjlee/.conda/envs/scvi/lib/python3.11/site-packages/legacy_api_wrap/__init__.py:82: UserWarning: `flavor='seurat_v3'` expects raw count data, but non-integers were found.\n",
      "  return fn(*args_all, **kw)\n"
     ]
    },
    {
     "name": "stdout",
     "output_type": "stream",
     "text": [
      "2025-09-17 19:32:58 | [scVI] fold 3 | HVG=1000\n",
      "2025-09-17 19:32:58 | [scVI] fold 3 params={'batch_size': 512, 'dropout_rate': 0.0, 'lr': 0.001, 'max_epochs': 250, 'n_hidden': 128, 'n_latent': 32, 'n_layers': 2, 'use_gpu': True, 'weight_decay': 1e-05}\n",
      "2025-09-17 19:32:58 | [scVI] fit hp={'n_latent': 32, 'n_hidden': 128, 'n_layers': 2, 'dropout_rate': 0.0, 'max_epochs': 250, 'lr': 0.001, 'weight_decay': 1e-05, 'batch_size': 512, 'batch_key': 'BioProject', 'use_gpu': True}\n",
      "2025-09-17 19:32:58 | X_train: dense  (298, 1000) dtype=int64\n",
      "2025-09-17 19:32:58 | [time] [scVI] train start\n"
     ]
    },
    {
     "name": "stderr",
     "output_type": "stream",
     "text": [
      "/home/ma/ma_ma/ma_minjlee/.conda/envs/scvi/lib/python3.11/site-packages/lightning/fabric/plugins/environments/slurm.py:204: The `srun` command is available on your system but is not used. HINT: If your intention is to run Lightning on SLURM, prepend your python command with `srun` like so: srun python /home/ma/ma_ma/ma_minjlee/.conda/envs/scvi/lib/pytho ...\n",
      "GPU available: False, used: False\n",
      "TPU available: False, using: 0 TPU cores\n",
      "HPU available: False, using: 0 HPUs\n",
      "/home/ma/ma_ma/ma_minjlee/.conda/envs/scvi/lib/python3.11/site-packages/lightning/fabric/plugins/environments/slurm.py:204: The `srun` command is available on your system but is not used. HINT: If your intention is to run Lightning on SLURM, prepend your python command with `srun` like so: srun python /home/ma/ma_ma/ma_minjlee/.conda/envs/scvi/lib/pytho ...\n",
      "/home/ma/ma_ma/ma_minjlee/.conda/envs/scvi/lib/python3.11/site-packages/lightning/pytorch/trainer/connectors/data_connector.py:433: The 'train_dataloader' does not have many workers which may be a bottleneck. Consider increasing the value of the `num_workers` argument` to `num_workers=191` in the `DataLoader` to improve performance.\n",
      "/home/ma/ma_ma/ma_minjlee/.conda/envs/scvi/lib/python3.11/site-packages/lightning/pytorch/loops/fit_loop.py:310: The number of training batches (1) is smaller than the logging interval Trainer(log_every_n_steps=10). Set a lower value for log_every_n_steps if you want to see logs for the training epoch.\n"
     ]
    },
    {
     "name": "stdout",
     "output_type": "stream",
     "text": [
      "Epoch 1/250:   0%|          | 0/250 [00:45<?, ?it/s]\n",
      "2025-09-17 19:32:58 | [time] [scVI] train end in 0.36s\n",
      "2025-09-17 19:32:58 | [scVI] predict_mean\n",
      "2025-09-17 19:32:58 | [time] [scVI] get_likelihood_parameters start\n",
      "\u001b[34mINFO    \u001b[0m Input AnnData not setup with scvi-tools. attempting to transfer AnnData setup                             \n",
      "2025-09-17 19:32:58 | [time] [scVI] get_likelihood_parameters end in 0.02s\n",
      "\u001b[34mINFO    \u001b[0m Input AnnData not setup with scvi-tools. attempting to transfer AnnData setup                             \n",
      "2025-09-17 19:32:58 | [scVI] predict_mean\n",
      "2025-09-17 19:32:58 | [time] [scVI] get_likelihood_parameters start\n",
      "\u001b[34mINFO    \u001b[0m Input AnnData not setup with scvi-tools. attempting to transfer AnnData setup                             \n",
      "2025-09-17 19:32:58 | [time] [scVI] get_likelihood_parameters end in 0.01s\n",
      "2025-09-17 19:32:58 | [scVI] predict_mean\n",
      "2025-09-17 19:32:58 | [time] [scVI] get_likelihood_parameters start\n",
      "\u001b[34mINFO    \u001b[0m Input AnnData not setup with scvi-tools. attempting to transfer AnnData setup                             \n",
      "2025-09-17 19:32:58 | [time] [scVI] get_likelihood_parameters end in 0.01s\n",
      "2025-09-17 19:32:58 | [time] [scVI] fold 3/3 end in 25.82s\n",
      "2025-09-17 19:32:58 | [cv_scvi_5fold] done\n"
     ]
    },
    {
     "name": "stderr",
     "output_type": "stream",
     "text": [
      "[I 2025-09-17 19:32:58,939] Trial 2 finished with value: -6.908481216885524 and parameters: {'n_latent': 32, 'n_hidden': 128, 'n_layers': 2, 'dropout_rate': 0.0, 'max_epochs': 250, 'lr': 0.001, 'weight_decay': 1e-05, 'batch_size': 512, 'n_hvg': 1000}. Best is trial 0 with value: -6.805729643655531.\n"
     ]
    },
    {
     "name": "stdout",
     "output_type": "stream",
     "text": [
      "Epoch 1/250:   0%|          | 0/250 [00:26<?, ?it/s]\n",
      "Epoch 1/250:   0%|          | 0/250 [00:00<?, ?it/s]\n",
      "2025-09-17 19:32:59 | [cv_scvi_5fold] start k=3 n_hvg=2000 mode=seurat_v3\n",
      "2025-09-17 19:32:59 | X_counts: dense  (447, 51777) dtype=int64\n",
      "2025-09-17 19:33:14 | X_counts: zeros=66.23%, approx_int=True\n",
      "2025-09-17 19:33:14 | [time] [scVI] fold 1/3 start\n"
     ]
    },
    {
     "name": "stderr",
     "output_type": "stream",
     "text": [
      "/home/ma/ma_ma/ma_minjlee/.conda/envs/scvi/lib/python3.11/site-packages/legacy_api_wrap/__init__.py:82: UserWarning: `flavor='seurat_v3'` expects raw count data, but non-integers were found.\n",
      "  return fn(*args_all, **kw)\n"
     ]
    },
    {
     "name": "stdout",
     "output_type": "stream",
     "text": [
      "2025-09-17 19:33:39 | [scVI] fold 1 | HVG=2000\n",
      "2025-09-17 19:33:39 | [scVI] fold 1 params={'batch_size': 256, 'dropout_rate': 0.0, 'lr': 0.0005, 'max_epochs': 150, 'n_hidden': 256, 'n_latent': 16, 'n_layers': 2, 'use_gpu': True, 'weight_decay': 1e-06}\n",
      "2025-09-17 19:33:39 | [scVI] fit hp={'n_latent': 16, 'n_hidden': 256, 'n_layers': 2, 'dropout_rate': 0.0, 'max_epochs': 150, 'lr': 0.0005, 'weight_decay': 1e-06, 'batch_size': 256, 'batch_key': 'BioProject', 'use_gpu': True}\n",
      "2025-09-17 19:33:39 | X_train: dense  (298, 2000) dtype=int64\n",
      "2025-09-17 19:33:39 | [time] [scVI] train start\n"
     ]
    },
    {
     "name": "stderr",
     "output_type": "stream",
     "text": [
      "/home/ma/ma_ma/ma_minjlee/.conda/envs/scvi/lib/python3.11/site-packages/lightning/fabric/plugins/environments/slurm.py:204: The `srun` command is available on your system but is not used. HINT: If your intention is to run Lightning on SLURM, prepend your python command with `srun` like so: srun python /home/ma/ma_ma/ma_minjlee/.conda/envs/scvi/lib/pytho ...\n",
      "GPU available: False, used: False\n",
      "TPU available: False, using: 0 TPU cores\n",
      "HPU available: False, using: 0 HPUs\n",
      "/home/ma/ma_ma/ma_minjlee/.conda/envs/scvi/lib/python3.11/site-packages/lightning/fabric/plugins/environments/slurm.py:204: The `srun` command is available on your system but is not used. HINT: If your intention is to run Lightning on SLURM, prepend your python command with `srun` like so: srun python /home/ma/ma_ma/ma_minjlee/.conda/envs/scvi/lib/pytho ...\n",
      "/home/ma/ma_ma/ma_minjlee/.conda/envs/scvi/lib/python3.11/site-packages/lightning/pytorch/trainer/connectors/data_connector.py:433: The 'train_dataloader' does not have many workers which may be a bottleneck. Consider increasing the value of the `num_workers` argument` to `num_workers=191` in the `DataLoader` to improve performance.\n",
      "/home/ma/ma_ma/ma_minjlee/.conda/envs/scvi/lib/python3.11/site-packages/lightning/pytorch/loops/fit_loop.py:310: The number of training batches (2) is smaller than the logging interval Trainer(log_every_n_steps=10). Set a lower value for log_every_n_steps if you want to see logs for the training epoch.\n"
     ]
    },
    {
     "name": "stdout",
     "output_type": "stream",
     "text": [
      "Epoch 1/150:   0%|          | 0/150 [00:00<?, ?it/s]2025-09-17 19:33:39 | [time] [scVI] train end in 0.35s\n",
      "2025-09-17 19:33:39 | [scVI] predict_mean\n",
      "2025-09-17 19:33:39 | [time] [scVI] get_likelihood_parameters start\n",
      "\u001b[34mINFO    \u001b[0m Input AnnData not setup with scvi-tools. attempting to transfer AnnData setup                             \n",
      "2025-09-17 19:33:39 | [time] [scVI] get_likelihood_parameters end in 0.02s\n",
      "\u001b[34mINFO    \u001b[0m Input AnnData not setup with scvi-tools. attempting to transfer AnnData setup                             \n",
      "2025-09-17 19:33:39 | [scVI] predict_mean\n",
      "2025-09-17 19:33:39 | [time] [scVI] get_likelihood_parameters start\n",
      "\u001b[34mINFO    \u001b[0m Input AnnData not setup with scvi-tools. attempting to transfer AnnData setup                             \n",
      "2025-09-17 19:33:39 | [time] [scVI] get_likelihood_parameters end in 0.02s\n",
      "2025-09-17 19:33:39 | [scVI] predict_mean\n",
      "2025-09-17 19:33:39 | [time] [scVI] get_likelihood_parameters start\n",
      "\u001b[34mINFO    \u001b[0m Input AnnData not setup with scvi-tools. attempting to transfer AnnData setup                             \n",
      "2025-09-17 19:33:39 | [time] [scVI] get_likelihood_parameters end in 0.02s\n",
      "2025-09-17 19:33:39 | [time] [scVI] fold 1/3 end in 24.98s\n",
      "2025-09-17 19:33:39 | [time] [scVI] fold 2/3 start\n"
     ]
    },
    {
     "name": "stderr",
     "output_type": "stream",
     "text": [
      "/home/ma/ma_ma/ma_minjlee/.conda/envs/scvi/lib/python3.11/site-packages/legacy_api_wrap/__init__.py:82: UserWarning: `flavor='seurat_v3'` expects raw count data, but non-integers were found.\n",
      "  return fn(*args_all, **kw)\n"
     ]
    },
    {
     "name": "stdout",
     "output_type": "stream",
     "text": [
      "2025-09-17 19:34:06 | [scVI] fold 2 | HVG=2000\n",
      "2025-09-17 19:34:06 | [scVI] fold 2 params={'batch_size': 256, 'dropout_rate': 0.0, 'lr': 0.0005, 'max_epochs': 150, 'n_hidden': 256, 'n_latent': 16, 'n_layers': 2, 'use_gpu': True, 'weight_decay': 1e-06}\n",
      "2025-09-17 19:34:06 | [scVI] fit hp={'n_latent': 16, 'n_hidden': 256, 'n_layers': 2, 'dropout_rate': 0.0, 'max_epochs': 150, 'lr': 0.0005, 'weight_decay': 1e-06, 'batch_size': 256, 'batch_key': 'BioProject', 'use_gpu': True}\n",
      "2025-09-17 19:34:06 | X_train: dense  (298, 2000) dtype=int64\n",
      "2025-09-17 19:34:06 | [time] [scVI] train start\n"
     ]
    },
    {
     "name": "stderr",
     "output_type": "stream",
     "text": [
      "/home/ma/ma_ma/ma_minjlee/.conda/envs/scvi/lib/python3.11/site-packages/lightning/fabric/plugins/environments/slurm.py:204: The `srun` command is available on your system but is not used. HINT: If your intention is to run Lightning on SLURM, prepend your python command with `srun` like so: srun python /home/ma/ma_ma/ma_minjlee/.conda/envs/scvi/lib/pytho ...\n",
      "GPU available: False, used: False\n",
      "TPU available: False, using: 0 TPU cores\n",
      "HPU available: False, using: 0 HPUs\n",
      "/home/ma/ma_ma/ma_minjlee/.conda/envs/scvi/lib/python3.11/site-packages/lightning/fabric/plugins/environments/slurm.py:204: The `srun` command is available on your system but is not used. HINT: If your intention is to run Lightning on SLURM, prepend your python command with `srun` like so: srun python /home/ma/ma_ma/ma_minjlee/.conda/envs/scvi/lib/pytho ...\n",
      "/home/ma/ma_ma/ma_minjlee/.conda/envs/scvi/lib/python3.11/site-packages/lightning/pytorch/trainer/connectors/data_connector.py:433: The 'train_dataloader' does not have many workers which may be a bottleneck. Consider increasing the value of the `num_workers` argument` to `num_workers=191` in the `DataLoader` to improve performance.\n",
      "/home/ma/ma_ma/ma_minjlee/.conda/envs/scvi/lib/python3.11/site-packages/lightning/pytorch/loops/fit_loop.py:310: The number of training batches (2) is smaller than the logging interval Trainer(log_every_n_steps=10). Set a lower value for log_every_n_steps if you want to see logs for the training epoch.\n"
     ]
    },
    {
     "name": "stdout",
     "output_type": "stream",
     "text": [
      "Epoch 1/150:   0%|          | 0/150 [00:00<?, ?it/s]2025-09-17 19:34:07 | [time] [scVI] train end in 0.32s\n",
      "2025-09-17 19:34:07 | [scVI] predict_mean\n",
      "2025-09-17 19:34:07 | [time] [scVI] get_likelihood_parameters start\n",
      "\u001b[34mINFO    \u001b[0m Input AnnData not setup with scvi-tools. attempting to transfer AnnData setup                             \n",
      "2025-09-17 19:34:07 | [time] [scVI] get_likelihood_parameters end in 0.02s\n",
      "\u001b[34mINFO    \u001b[0m Input AnnData not setup with scvi-tools. attempting to transfer AnnData setup                             \n",
      "2025-09-17 19:34:07 | [scVI] predict_mean\n",
      "2025-09-17 19:34:07 | [time] [scVI] get_likelihood_parameters start\n",
      "\u001b[34mINFO    \u001b[0m Input AnnData not setup with scvi-tools. attempting to transfer AnnData setup                             \n",
      "2025-09-17 19:34:07 | [time] [scVI] get_likelihood_parameters end in 0.02s\n",
      "2025-09-17 19:34:07 | [scVI] predict_mean\n",
      "2025-09-17 19:34:07 | [time] [scVI] get_likelihood_parameters start\n",
      "\u001b[34mINFO    \u001b[0m Input AnnData not setup with scvi-tools. attempting to transfer AnnData setup                             \n",
      "2025-09-17 19:34:07 | [time] [scVI] get_likelihood_parameters end in 0.02s\n",
      "2025-09-17 19:34:07 | [time] [scVI] fold 2/3 end in 27.74s\n",
      "2025-09-17 19:34:07 | [time] [scVI] fold 3/3 start\n"
     ]
    },
    {
     "name": "stderr",
     "output_type": "stream",
     "text": [
      "/home/ma/ma_ma/ma_minjlee/.conda/envs/scvi/lib/python3.11/site-packages/legacy_api_wrap/__init__.py:82: UserWarning: `flavor='seurat_v3'` expects raw count data, but non-integers were found.\n",
      "  return fn(*args_all, **kw)\n"
     ]
    },
    {
     "name": "stdout",
     "output_type": "stream",
     "text": [
      "2025-09-17 19:34:31 | [scVI] fold 3 | HVG=2000\n",
      "2025-09-17 19:34:31 | [scVI] fold 3 params={'batch_size': 256, 'dropout_rate': 0.0, 'lr': 0.0005, 'max_epochs': 150, 'n_hidden': 256, 'n_latent': 16, 'n_layers': 2, 'use_gpu': True, 'weight_decay': 1e-06}\n",
      "2025-09-17 19:34:31 | [scVI] fit hp={'n_latent': 16, 'n_hidden': 256, 'n_layers': 2, 'dropout_rate': 0.0, 'max_epochs': 150, 'lr': 0.0005, 'weight_decay': 1e-06, 'batch_size': 256, 'batch_key': 'BioProject', 'use_gpu': True}\n",
      "2025-09-17 19:34:31 | X_train: dense  (298, 2000) dtype=int64\n",
      "2025-09-17 19:34:31 | [time] [scVI] train start\n"
     ]
    },
    {
     "name": "stderr",
     "output_type": "stream",
     "text": [
      "/home/ma/ma_ma/ma_minjlee/.conda/envs/scvi/lib/python3.11/site-packages/lightning/fabric/plugins/environments/slurm.py:204: The `srun` command is available on your system but is not used. HINT: If your intention is to run Lightning on SLURM, prepend your python command with `srun` like so: srun python /home/ma/ma_ma/ma_minjlee/.conda/envs/scvi/lib/pytho ...\n",
      "GPU available: False, used: False\n",
      "TPU available: False, using: 0 TPU cores\n",
      "HPU available: False, using: 0 HPUs\n",
      "/home/ma/ma_ma/ma_minjlee/.conda/envs/scvi/lib/python3.11/site-packages/lightning/fabric/plugins/environments/slurm.py:204: The `srun` command is available on your system but is not used. HINT: If your intention is to run Lightning on SLURM, prepend your python command with `srun` like so: srun python /home/ma/ma_ma/ma_minjlee/.conda/envs/scvi/lib/pytho ...\n",
      "/home/ma/ma_ma/ma_minjlee/.conda/envs/scvi/lib/python3.11/site-packages/lightning/pytorch/trainer/connectors/data_connector.py:433: The 'train_dataloader' does not have many workers which may be a bottleneck. Consider increasing the value of the `num_workers` argument` to `num_workers=191` in the `DataLoader` to improve performance.\n",
      "/home/ma/ma_ma/ma_minjlee/.conda/envs/scvi/lib/python3.11/site-packages/lightning/pytorch/loops/fit_loop.py:310: The number of training batches (2) is smaller than the logging interval Trainer(log_every_n_steps=10). Set a lower value for log_every_n_steps if you want to see logs for the training epoch.\n"
     ]
    },
    {
     "name": "stdout",
     "output_type": "stream",
     "text": [
      "Epoch 1/150:   0%|          | 0/150 [00:52<?, ?it/s]\n",
      "2025-09-17 19:34:31 | [time] [scVI] train end in 0.31s\n",
      "2025-09-17 19:34:31 | [scVI] predict_mean\n",
      "2025-09-17 19:34:31 | [time] [scVI] get_likelihood_parameters start\n",
      "\u001b[34mINFO    \u001b[0m Input AnnData not setup with scvi-tools. attempting to transfer AnnData setup                             \n",
      "2025-09-17 19:34:31 | [time] [scVI] get_likelihood_parameters end in 0.03s\n",
      "\u001b[34mINFO    \u001b[0m Input AnnData not setup with scvi-tools. attempting to transfer AnnData setup                             \n",
      "2025-09-17 19:34:31 | [scVI] predict_mean\n",
      "2025-09-17 19:34:31 | [time] [scVI] get_likelihood_parameters start\n",
      "\u001b[34mINFO    \u001b[0m Input AnnData not setup with scvi-tools. attempting to transfer AnnData setup                             \n",
      "2025-09-17 19:34:31 | [time] [scVI] get_likelihood_parameters end in 0.02s\n",
      "2025-09-17 19:34:31 | [scVI] predict_mean\n",
      "2025-09-17 19:34:31 | [time] [scVI] get_likelihood_parameters start\n",
      "\u001b[34mINFO    \u001b[0m Input AnnData not setup with scvi-tools. attempting to transfer AnnData setup                             \n",
      "2025-09-17 19:34:31 | [time] [scVI] get_likelihood_parameters end in 0.02s\n",
      "2025-09-17 19:34:31 | [time] [scVI] fold 3/3 end in 24.30s\n",
      "2025-09-17 19:34:31 | [cv_scvi_5fold] done\n"
     ]
    },
    {
     "name": "stderr",
     "output_type": "stream",
     "text": [
      "[I 2025-09-17 19:34:31,792] Trial 3 finished with value: -6.278899671759776 and parameters: {'n_latent': 16, 'n_hidden': 256, 'n_layers': 2, 'dropout_rate': 0.0, 'max_epochs': 150, 'lr': 0.0005, 'weight_decay': 1e-06, 'batch_size': 256, 'n_hvg': 2000}. Best is trial 3 with value: -6.278899671759776.\n"
     ]
    },
    {
     "name": "stdout",
     "output_type": "stream",
     "text": [
      "Epoch 1/150:   0%|          | 0/150 [00:24<?, ?it/s]\n",
      "Epoch 1/150:   0%|          | 0/150 [00:00<?, ?it/s]\n",
      "2025-09-17 19:34:32 | [cv_scvi_5fold] start k=3 n_hvg=2000 mode=seurat_v3\n",
      "2025-09-17 19:34:32 | X_counts: dense  (447, 51777) dtype=int64\n",
      "2025-09-17 19:34:47 | X_counts: zeros=66.23%, approx_int=True\n",
      "2025-09-17 19:34:47 | [time] [scVI] fold 1/3 start\n"
     ]
    },
    {
     "name": "stderr",
     "output_type": "stream",
     "text": [
      "/home/ma/ma_ma/ma_minjlee/.conda/envs/scvi/lib/python3.11/site-packages/legacy_api_wrap/__init__.py:82: UserWarning: `flavor='seurat_v3'` expects raw count data, but non-integers were found.\n",
      "  return fn(*args_all, **kw)\n"
     ]
    },
    {
     "name": "stdout",
     "output_type": "stream",
     "text": [
      "2025-09-17 19:35:12 | [scVI] fold 1 | HVG=2000\n",
      "2025-09-17 19:35:12 | [scVI] fold 1 params={'batch_size': 256, 'dropout_rate': 0.0, 'lr': 0.0005, 'max_epochs': 250, 'n_hidden': 256, 'n_latent': 32, 'n_layers': 2, 'use_gpu': True, 'weight_decay': 1e-06}\n",
      "2025-09-17 19:35:12 | [scVI] fit hp={'n_latent': 32, 'n_hidden': 256, 'n_layers': 2, 'dropout_rate': 0.0, 'max_epochs': 250, 'lr': 0.0005, 'weight_decay': 1e-06, 'batch_size': 256, 'batch_key': 'BioProject', 'use_gpu': True}\n",
      "2025-09-17 19:35:12 | X_train: dense  (298, 2000) dtype=int64\n",
      "2025-09-17 19:35:12 | [time] [scVI] train start\n"
     ]
    },
    {
     "name": "stderr",
     "output_type": "stream",
     "text": [
      "/home/ma/ma_ma/ma_minjlee/.conda/envs/scvi/lib/python3.11/site-packages/lightning/fabric/plugins/environments/slurm.py:204: The `srun` command is available on your system but is not used. HINT: If your intention is to run Lightning on SLURM, prepend your python command with `srun` like so: srun python /home/ma/ma_ma/ma_minjlee/.conda/envs/scvi/lib/pytho ...\n",
      "GPU available: False, used: False\n",
      "TPU available: False, using: 0 TPU cores\n",
      "HPU available: False, using: 0 HPUs\n",
      "/home/ma/ma_ma/ma_minjlee/.conda/envs/scvi/lib/python3.11/site-packages/lightning/fabric/plugins/environments/slurm.py:204: The `srun` command is available on your system but is not used. HINT: If your intention is to run Lightning on SLURM, prepend your python command with `srun` like so: srun python /home/ma/ma_ma/ma_minjlee/.conda/envs/scvi/lib/pytho ...\n",
      "/home/ma/ma_ma/ma_minjlee/.conda/envs/scvi/lib/python3.11/site-packages/lightning/pytorch/trainer/connectors/data_connector.py:433: The 'train_dataloader' does not have many workers which may be a bottleneck. Consider increasing the value of the `num_workers` argument` to `num_workers=191` in the `DataLoader` to improve performance.\n",
      "/home/ma/ma_ma/ma_minjlee/.conda/envs/scvi/lib/python3.11/site-packages/lightning/pytorch/loops/fit_loop.py:310: The number of training batches (2) is smaller than the logging interval Trainer(log_every_n_steps=10). Set a lower value for log_every_n_steps if you want to see logs for the training epoch.\n"
     ]
    },
    {
     "name": "stdout",
     "output_type": "stream",
     "text": [
      "Epoch 1/250:   0%|          | 0/250 [00:00<?, ?it/s]2025-09-17 19:35:13 | [time] [scVI] train end in 0.37s\n",
      "2025-09-17 19:35:13 | [scVI] predict_mean\n",
      "2025-09-17 19:35:13 | [time] [scVI] get_likelihood_parameters start\n",
      "\u001b[34mINFO    \u001b[0m Input AnnData not setup with scvi-tools. attempting to transfer AnnData setup                             \n",
      "2025-09-17 19:35:13 | [time] [scVI] get_likelihood_parameters end in 0.03s\n",
      "\u001b[34mINFO    \u001b[0m Input AnnData not setup with scvi-tools. attempting to transfer AnnData setup                             \n",
      "2025-09-17 19:35:13 | [scVI] predict_mean\n",
      "2025-09-17 19:35:13 | [time] [scVI] get_likelihood_parameters start\n",
      "\u001b[34mINFO    \u001b[0m Input AnnData not setup with scvi-tools. attempting to transfer AnnData setup                             \n",
      "2025-09-17 19:35:13 | [time] [scVI] get_likelihood_parameters end in 0.02s\n",
      "2025-09-17 19:35:13 | [scVI] predict_mean\n",
      "2025-09-17 19:35:13 | [time] [scVI] get_likelihood_parameters start\n",
      "\u001b[34mINFO    \u001b[0m Input AnnData not setup with scvi-tools. attempting to transfer AnnData setup                             \n",
      "2025-09-17 19:35:13 | [time] [scVI] get_likelihood_parameters end in 0.02s\n",
      "2025-09-17 19:35:13 | [time] [scVI] fold 1/3 end in 25.67s\n",
      "2025-09-17 19:35:13 | [time] [scVI] fold 2/3 start\n"
     ]
    },
    {
     "name": "stderr",
     "output_type": "stream",
     "text": [
      "/home/ma/ma_ma/ma_minjlee/.conda/envs/scvi/lib/python3.11/site-packages/legacy_api_wrap/__init__.py:82: UserWarning: `flavor='seurat_v3'` expects raw count data, but non-integers were found.\n",
      "  return fn(*args_all, **kw)\n"
     ]
    },
    {
     "name": "stdout",
     "output_type": "stream",
     "text": [
      "2025-09-17 19:35:44 | [scVI] fold 2 | HVG=2000\n",
      "2025-09-17 19:35:44 | [scVI] fold 2 params={'batch_size': 256, 'dropout_rate': 0.0, 'lr': 0.0005, 'max_epochs': 250, 'n_hidden': 256, 'n_latent': 32, 'n_layers': 2, 'use_gpu': True, 'weight_decay': 1e-06}\n",
      "2025-09-17 19:35:44 | [scVI] fit hp={'n_latent': 32, 'n_hidden': 256, 'n_layers': 2, 'dropout_rate': 0.0, 'max_epochs': 250, 'lr': 0.0005, 'weight_decay': 1e-06, 'batch_size': 256, 'batch_key': 'BioProject', 'use_gpu': True}\n",
      "2025-09-17 19:35:44 | X_train: dense  (298, 2000) dtype=int64\n",
      "2025-09-17 19:35:44 | [time] [scVI] train start\n"
     ]
    },
    {
     "name": "stderr",
     "output_type": "stream",
     "text": [
      "/home/ma/ma_ma/ma_minjlee/.conda/envs/scvi/lib/python3.11/site-packages/lightning/fabric/plugins/environments/slurm.py:204: The `srun` command is available on your system but is not used. HINT: If your intention is to run Lightning on SLURM, prepend your python command with `srun` like so: srun python /home/ma/ma_ma/ma_minjlee/.conda/envs/scvi/lib/pytho ...\n",
      "GPU available: False, used: False\n",
      "TPU available: False, using: 0 TPU cores\n",
      "HPU available: False, using: 0 HPUs\n",
      "/home/ma/ma_ma/ma_minjlee/.conda/envs/scvi/lib/python3.11/site-packages/lightning/fabric/plugins/environments/slurm.py:204: The `srun` command is available on your system but is not used. HINT: If your intention is to run Lightning on SLURM, prepend your python command with `srun` like so: srun python /home/ma/ma_ma/ma_minjlee/.conda/envs/scvi/lib/pytho ...\n",
      "/home/ma/ma_ma/ma_minjlee/.conda/envs/scvi/lib/python3.11/site-packages/lightning/pytorch/trainer/connectors/data_connector.py:433: The 'train_dataloader' does not have many workers which may be a bottleneck. Consider increasing the value of the `num_workers` argument` to `num_workers=191` in the `DataLoader` to improve performance.\n",
      "/home/ma/ma_ma/ma_minjlee/.conda/envs/scvi/lib/python3.11/site-packages/lightning/pytorch/loops/fit_loop.py:310: The number of training batches (2) is smaller than the logging interval Trainer(log_every_n_steps=10). Set a lower value for log_every_n_steps if you want to see logs for the training epoch.\n"
     ]
    },
    {
     "name": "stdout",
     "output_type": "stream",
     "text": [
      "Epoch 1/250:   0%|          | 0/250 [00:00<?, ?it/s]2025-09-17 19:35:44 | [time] [scVI] train end in 0.36s\n",
      "2025-09-17 19:35:44 | [scVI] predict_mean\n",
      "2025-09-17 19:35:44 | [time] [scVI] get_likelihood_parameters start\n",
      "\u001b[34mINFO    \u001b[0m Input AnnData not setup with scvi-tools. attempting to transfer AnnData setup                             \n",
      "2025-09-17 19:35:44 | [time] [scVI] get_likelihood_parameters end in 0.03s\n",
      "\u001b[34mINFO    \u001b[0m Input AnnData not setup with scvi-tools. attempting to transfer AnnData setup                             \n",
      "2025-09-17 19:35:44 | [scVI] predict_mean\n",
      "2025-09-17 19:35:44 | [time] [scVI] get_likelihood_parameters start\n",
      "\u001b[34mINFO    \u001b[0m Input AnnData not setup with scvi-tools. attempting to transfer AnnData setup                             \n",
      "2025-09-17 19:35:44 | [time] [scVI] get_likelihood_parameters end in 0.02s\n",
      "2025-09-17 19:35:44 | [scVI] predict_mean\n",
      "2025-09-17 19:35:44 | [time] [scVI] get_likelihood_parameters start\n",
      "\u001b[34mINFO    \u001b[0m Input AnnData not setup with scvi-tools. attempting to transfer AnnData setup                             \n",
      "2025-09-17 19:35:44 | [time] [scVI] get_likelihood_parameters end in 0.02s\n",
      "2025-09-17 19:35:44 | [time] [scVI] fold 2/3 end in 31.48s\n",
      "2025-09-17 19:35:44 | [time] [scVI] fold 3/3 start\n"
     ]
    },
    {
     "name": "stderr",
     "output_type": "stream",
     "text": [
      "/home/ma/ma_ma/ma_minjlee/.conda/envs/scvi/lib/python3.11/site-packages/legacy_api_wrap/__init__.py:82: UserWarning: `flavor='seurat_v3'` expects raw count data, but non-integers were found.\n",
      "  return fn(*args_all, **kw)\n"
     ]
    },
    {
     "name": "stdout",
     "output_type": "stream",
     "text": [
      "2025-09-17 19:36:03 | [scVI] fold 3 | HVG=2000\n",
      "2025-09-17 19:36:03 | [scVI] fold 3 params={'batch_size': 256, 'dropout_rate': 0.0, 'lr': 0.0005, 'max_epochs': 250, 'n_hidden': 256, 'n_latent': 32, 'n_layers': 2, 'use_gpu': True, 'weight_decay': 1e-06}\n",
      "2025-09-17 19:36:03 | [scVI] fit hp={'n_latent': 32, 'n_hidden': 256, 'n_layers': 2, 'dropout_rate': 0.0, 'max_epochs': 250, 'lr': 0.0005, 'weight_decay': 1e-06, 'batch_size': 256, 'batch_key': 'BioProject', 'use_gpu': True}\n",
      "2025-09-17 19:36:03 | X_train: dense  (298, 2000) dtype=int64\n",
      "2025-09-17 19:36:03 | [time] [scVI] train start\n"
     ]
    },
    {
     "name": "stderr",
     "output_type": "stream",
     "text": [
      "/home/ma/ma_ma/ma_minjlee/.conda/envs/scvi/lib/python3.11/site-packages/lightning/fabric/plugins/environments/slurm.py:204: The `srun` command is available on your system but is not used. HINT: If your intention is to run Lightning on SLURM, prepend your python command with `srun` like so: srun python /home/ma/ma_ma/ma_minjlee/.conda/envs/scvi/lib/pytho ...\n",
      "GPU available: False, used: False\n",
      "TPU available: False, using: 0 TPU cores\n",
      "HPU available: False, using: 0 HPUs\n",
      "/home/ma/ma_ma/ma_minjlee/.conda/envs/scvi/lib/python3.11/site-packages/lightning/fabric/plugins/environments/slurm.py:204: The `srun` command is available on your system but is not used. HINT: If your intention is to run Lightning on SLURM, prepend your python command with `srun` like so: srun python /home/ma/ma_ma/ma_minjlee/.conda/envs/scvi/lib/pytho ...\n",
      "/home/ma/ma_ma/ma_minjlee/.conda/envs/scvi/lib/python3.11/site-packages/lightning/pytorch/trainer/connectors/data_connector.py:433: The 'train_dataloader' does not have many workers which may be a bottleneck. Consider increasing the value of the `num_workers` argument` to `num_workers=191` in the `DataLoader` to improve performance.\n",
      "/home/ma/ma_ma/ma_minjlee/.conda/envs/scvi/lib/python3.11/site-packages/lightning/pytorch/loops/fit_loop.py:310: The number of training batches (2) is smaller than the logging interval Trainer(log_every_n_steps=10). Set a lower value for log_every_n_steps if you want to see logs for the training epoch.\n"
     ]
    },
    {
     "name": "stdout",
     "output_type": "stream",
     "text": [
      "Epoch 1/250:   0%|          | 0/250 [00:51<?, ?it/s]\n",
      "2025-09-17 19:36:04 | [time] [scVI] train end in 0.30s\n",
      "2025-09-17 19:36:04 | [scVI] predict_mean\n",
      "2025-09-17 19:36:04 | [time] [scVI] get_likelihood_parameters start\n",
      "\u001b[34mINFO    \u001b[0m Input AnnData not setup with scvi-tools. attempting to transfer AnnData setup                             \n",
      "2025-09-17 19:36:04 | [time] [scVI] get_likelihood_parameters end in 0.03s\n",
      "\u001b[34mINFO    \u001b[0m Input AnnData not setup with scvi-tools. attempting to transfer AnnData setup                             \n",
      "2025-09-17 19:36:04 | [scVI] predict_mean\n",
      "2025-09-17 19:36:04 | [time] [scVI] get_likelihood_parameters start\n",
      "\u001b[34mINFO    \u001b[0m Input AnnData not setup with scvi-tools. attempting to transfer AnnData setup                             \n",
      "2025-09-17 19:36:04 | [time] [scVI] get_likelihood_parameters end in 0.02s\n",
      "2025-09-17 19:36:04 | [scVI] predict_mean\n",
      "2025-09-17 19:36:04 | [time] [scVI] get_likelihood_parameters start\n",
      "\u001b[34mINFO    \u001b[0m Input AnnData not setup with scvi-tools. attempting to transfer AnnData setup                             \n",
      "2025-09-17 19:36:04 | [time] [scVI] get_likelihood_parameters end in 0.02s\n",
      "2025-09-17 19:36:04 | [time] [scVI] fold 3/3 end in 19.71s\n",
      "2025-09-17 19:36:04 | [cv_scvi_5fold] done\n"
     ]
    },
    {
     "name": "stderr",
     "output_type": "stream",
     "text": [
      "[I 2025-09-17 19:36:04,410] Trial 4 finished with value: -6.407539535187167 and parameters: {'n_latent': 32, 'n_hidden': 256, 'n_layers': 2, 'dropout_rate': 0.0, 'max_epochs': 250, 'lr': 0.0005, 'weight_decay': 1e-06, 'batch_size': 256, 'n_hvg': 2000}. Best is trial 3 with value: -6.278899671759776.\n"
     ]
    },
    {
     "name": "stdout",
     "output_type": "stream",
     "text": [
      "Epoch 1/250:   0%|          | 0/250 [00:20<?, ?it/s]\n",
      "Epoch 1/250:   0%|          | 0/250 [00:00<?, ?it/s]\n",
      "2025-09-17 19:36:04 | [cv_scvi_5fold] start k=3 n_hvg=1500 mode=seurat_v3\n",
      "2025-09-17 19:36:04 | X_counts: dense  (447, 51777) dtype=int64\n",
      "2025-09-17 19:36:25 | X_counts: zeros=66.23%, approx_int=True\n",
      "2025-09-17 19:36:25 | [time] [scVI] fold 1/3 start\n"
     ]
    },
    {
     "name": "stderr",
     "output_type": "stream",
     "text": [
      "/home/ma/ma_ma/ma_minjlee/.conda/envs/scvi/lib/python3.11/site-packages/legacy_api_wrap/__init__.py:82: UserWarning: `flavor='seurat_v3'` expects raw count data, but non-integers were found.\n",
      "  return fn(*args_all, **kw)\n"
     ]
    },
    {
     "name": "stdout",
     "output_type": "stream",
     "text": [
      "2025-09-17 19:36:58 | [scVI] fold 1 | HVG=1500\n",
      "2025-09-17 19:36:58 | [scVI] fold 1 params={'batch_size': 512, 'dropout_rate': 0.1, 'lr': 0.0005, 'max_epochs': 250, 'n_hidden': 256, 'n_latent': 32, 'n_layers': 2, 'use_gpu': True, 'weight_decay': 1e-05}\n",
      "2025-09-17 19:36:58 | [scVI] fit hp={'n_latent': 32, 'n_hidden': 256, 'n_layers': 2, 'dropout_rate': 0.1, 'max_epochs': 250, 'lr': 0.0005, 'weight_decay': 1e-05, 'batch_size': 512, 'batch_key': 'BioProject', 'use_gpu': True}\n",
      "2025-09-17 19:36:58 | X_train: dense  (298, 1500) dtype=int64\n",
      "2025-09-17 19:36:58 | [time] [scVI] train start\n"
     ]
    },
    {
     "name": "stderr",
     "output_type": "stream",
     "text": [
      "/home/ma/ma_ma/ma_minjlee/.conda/envs/scvi/lib/python3.11/site-packages/lightning/fabric/plugins/environments/slurm.py:204: The `srun` command is available on your system but is not used. HINT: If your intention is to run Lightning on SLURM, prepend your python command with `srun` like so: srun python /home/ma/ma_ma/ma_minjlee/.conda/envs/scvi/lib/pytho ...\n",
      "GPU available: False, used: False\n",
      "TPU available: False, using: 0 TPU cores\n",
      "HPU available: False, using: 0 HPUs\n",
      "/home/ma/ma_ma/ma_minjlee/.conda/envs/scvi/lib/python3.11/site-packages/lightning/fabric/plugins/environments/slurm.py:204: The `srun` command is available on your system but is not used. HINT: If your intention is to run Lightning on SLURM, prepend your python command with `srun` like so: srun python /home/ma/ma_ma/ma_minjlee/.conda/envs/scvi/lib/pytho ...\n",
      "/home/ma/ma_ma/ma_minjlee/.conda/envs/scvi/lib/python3.11/site-packages/lightning/pytorch/trainer/connectors/data_connector.py:433: The 'train_dataloader' does not have many workers which may be a bottleneck. Consider increasing the value of the `num_workers` argument` to `num_workers=191` in the `DataLoader` to improve performance.\n",
      "/home/ma/ma_ma/ma_minjlee/.conda/envs/scvi/lib/python3.11/site-packages/lightning/pytorch/loops/fit_loop.py:310: The number of training batches (1) is smaller than the logging interval Trainer(log_every_n_steps=10). Set a lower value for log_every_n_steps if you want to see logs for the training epoch.\n"
     ]
    },
    {
     "name": "stdout",
     "output_type": "stream",
     "text": [
      "Epoch 1/250:   0%|          | 0/250 [00:00<?, ?it/s]2025-09-17 19:36:59 | [time] [scVI] train end in 0.79s\n",
      "2025-09-17 19:36:59 | [scVI] predict_mean\n",
      "2025-09-17 19:36:59 | [time] [scVI] get_likelihood_parameters start\n",
      "\u001b[34mINFO    \u001b[0m Input AnnData not setup with scvi-tools. attempting to transfer AnnData setup                             \n",
      "2025-09-17 19:36:59 | [time] [scVI] get_likelihood_parameters end in 0.03s\n",
      "\u001b[34mINFO    \u001b[0m Input AnnData not setup with scvi-tools. attempting to transfer AnnData setup                             \n",
      "2025-09-17 19:36:59 | [scVI] predict_mean\n",
      "2025-09-17 19:36:59 | [time] [scVI] get_likelihood_parameters start\n",
      "\u001b[34mINFO    \u001b[0m Input AnnData not setup with scvi-tools. attempting to transfer AnnData setup                             \n",
      "2025-09-17 19:36:59 | [time] [scVI] get_likelihood_parameters end in 0.02s\n",
      "2025-09-17 19:36:59 | [scVI] predict_mean\n",
      "2025-09-17 19:36:59 | [time] [scVI] get_likelihood_parameters start\n",
      "\u001b[34mINFO    \u001b[0m Input AnnData not setup with scvi-tools. attempting to transfer AnnData setup                             \n",
      "2025-09-17 19:36:59 | [time] [scVI] get_likelihood_parameters end in 0.02s\n",
      "2025-09-17 19:36:59 | [time] [scVI] fold 1/3 end in 34.08s\n",
      "2025-09-17 19:36:59 | [time] [scVI] fold 2/3 start\n"
     ]
    },
    {
     "name": "stderr",
     "output_type": "stream",
     "text": [
      "/home/ma/ma_ma/ma_minjlee/.conda/envs/scvi/lib/python3.11/site-packages/legacy_api_wrap/__init__.py:82: UserWarning: `flavor='seurat_v3'` expects raw count data, but non-integers were found.\n",
      "  return fn(*args_all, **kw)\n"
     ]
    },
    {
     "name": "stdout",
     "output_type": "stream",
     "text": [
      "2025-09-17 19:37:22 | [scVI] fold 2 | HVG=1500\n",
      "2025-09-17 19:37:22 | [scVI] fold 2 params={'batch_size': 512, 'dropout_rate': 0.1, 'lr': 0.0005, 'max_epochs': 250, 'n_hidden': 256, 'n_latent': 32, 'n_layers': 2, 'use_gpu': True, 'weight_decay': 1e-05}\n",
      "2025-09-17 19:37:22 | [scVI] fit hp={'n_latent': 32, 'n_hidden': 256, 'n_layers': 2, 'dropout_rate': 0.1, 'max_epochs': 250, 'lr': 0.0005, 'weight_decay': 1e-05, 'batch_size': 512, 'batch_key': 'BioProject', 'use_gpu': True}\n",
      "2025-09-17 19:37:22 | X_train: dense  (298, 1500) dtype=int64\n",
      "2025-09-17 19:37:22 | [time] [scVI] train start\n"
     ]
    },
    {
     "name": "stderr",
     "output_type": "stream",
     "text": [
      "/home/ma/ma_ma/ma_minjlee/.conda/envs/scvi/lib/python3.11/site-packages/lightning/fabric/plugins/environments/slurm.py:204: The `srun` command is available on your system but is not used. HINT: If your intention is to run Lightning on SLURM, prepend your python command with `srun` like so: srun python /home/ma/ma_ma/ma_minjlee/.conda/envs/scvi/lib/pytho ...\n",
      "GPU available: False, used: False\n",
      "TPU available: False, using: 0 TPU cores\n",
      "HPU available: False, using: 0 HPUs\n",
      "/home/ma/ma_ma/ma_minjlee/.conda/envs/scvi/lib/python3.11/site-packages/lightning/fabric/plugins/environments/slurm.py:204: The `srun` command is available on your system but is not used. HINT: If your intention is to run Lightning on SLURM, prepend your python command with `srun` like so: srun python /home/ma/ma_ma/ma_minjlee/.conda/envs/scvi/lib/pytho ...\n",
      "/home/ma/ma_ma/ma_minjlee/.conda/envs/scvi/lib/python3.11/site-packages/lightning/pytorch/trainer/connectors/data_connector.py:433: The 'train_dataloader' does not have many workers which may be a bottleneck. Consider increasing the value of the `num_workers` argument` to `num_workers=191` in the `DataLoader` to improve performance.\n",
      "/home/ma/ma_ma/ma_minjlee/.conda/envs/scvi/lib/python3.11/site-packages/lightning/pytorch/loops/fit_loop.py:310: The number of training batches (1) is smaller than the logging interval Trainer(log_every_n_steps=10). Set a lower value for log_every_n_steps if you want to see logs for the training epoch.\n"
     ]
    },
    {
     "name": "stdout",
     "output_type": "stream",
     "text": [
      "Epoch 1/250:   0%|          | 0/250 [00:00<?, ?it/s]2025-09-17 19:37:23 | [time] [scVI] train end in 0.84s\n",
      "2025-09-17 19:37:23 | [scVI] predict_mean\n",
      "2025-09-17 19:37:23 | [time] [scVI] get_likelihood_parameters start\n",
      "\u001b[34mINFO    \u001b[0m Input AnnData not setup with scvi-tools. attempting to transfer AnnData setup                             \n",
      "2025-09-17 19:37:23 | [time] [scVI] get_likelihood_parameters end in 0.03s\n",
      "\u001b[34mINFO    \u001b[0m Input AnnData not setup with scvi-tools. attempting to transfer AnnData setup                             \n",
      "2025-09-17 19:37:23 | [scVI] predict_mean\n",
      "2025-09-17 19:37:23 | [time] [scVI] get_likelihood_parameters start\n",
      "\u001b[34mINFO    \u001b[0m Input AnnData not setup with scvi-tools. attempting to transfer AnnData setup                             \n",
      "2025-09-17 19:37:23 | [time] [scVI] get_likelihood_parameters end in 0.03s\n",
      "2025-09-17 19:37:23 | [scVI] predict_mean\n",
      "2025-09-17 19:37:23 | [time] [scVI] get_likelihood_parameters start\n",
      "\u001b[34mINFO    \u001b[0m Input AnnData not setup with scvi-tools. attempting to transfer AnnData setup                             \n",
      "2025-09-17 19:37:23 | [time] [scVI] get_likelihood_parameters end in 0.03s\n",
      "2025-09-17 19:37:24 | [time] [scVI] fold 2/3 end in 24.73s\n",
      "2025-09-17 19:37:24 | [time] [scVI] fold 3/3 start\n"
     ]
    },
    {
     "name": "stderr",
     "output_type": "stream",
     "text": [
      "/home/ma/ma_ma/ma_minjlee/.conda/envs/scvi/lib/python3.11/site-packages/legacy_api_wrap/__init__.py:82: UserWarning: `flavor='seurat_v3'` expects raw count data, but non-integers were found.\n",
      "  return fn(*args_all, **kw)\n"
     ]
    },
    {
     "name": "stdout",
     "output_type": "stream",
     "text": [
      "2025-09-17 19:37:54 | [scVI] fold 3 | HVG=1500\n",
      "2025-09-17 19:37:55 | [scVI] fold 3 params={'batch_size': 512, 'dropout_rate': 0.1, 'lr': 0.0005, 'max_epochs': 250, 'n_hidden': 256, 'n_latent': 32, 'n_layers': 2, 'use_gpu': True, 'weight_decay': 1e-05}\n",
      "2025-09-17 19:37:55 | [scVI] fit hp={'n_latent': 32, 'n_hidden': 256, 'n_layers': 2, 'dropout_rate': 0.1, 'max_epochs': 250, 'lr': 0.0005, 'weight_decay': 1e-05, 'batch_size': 512, 'batch_key': 'BioProject', 'use_gpu': True}\n",
      "2025-09-17 19:37:55 | X_train: dense  (298, 1500) dtype=int64\n",
      "2025-09-17 19:37:55 | [time] [scVI] train start\n"
     ]
    },
    {
     "name": "stderr",
     "output_type": "stream",
     "text": [
      "/home/ma/ma_ma/ma_minjlee/.conda/envs/scvi/lib/python3.11/site-packages/lightning/fabric/plugins/environments/slurm.py:204: The `srun` command is available on your system but is not used. HINT: If your intention is to run Lightning on SLURM, prepend your python command with `srun` like so: srun python /home/ma/ma_ma/ma_minjlee/.conda/envs/scvi/lib/pytho ...\n",
      "GPU available: False, used: False\n",
      "TPU available: False, using: 0 TPU cores\n",
      "HPU available: False, using: 0 HPUs\n",
      "/home/ma/ma_ma/ma_minjlee/.conda/envs/scvi/lib/python3.11/site-packages/lightning/fabric/plugins/environments/slurm.py:204: The `srun` command is available on your system but is not used. HINT: If your intention is to run Lightning on SLURM, prepend your python command with `srun` like so: srun python /home/ma/ma_ma/ma_minjlee/.conda/envs/scvi/lib/pytho ...\n",
      "/home/ma/ma_ma/ma_minjlee/.conda/envs/scvi/lib/python3.11/site-packages/lightning/pytorch/trainer/connectors/data_connector.py:433: The 'train_dataloader' does not have many workers which may be a bottleneck. Consider increasing the value of the `num_workers` argument` to `num_workers=191` in the `DataLoader` to improve performance.\n",
      "/home/ma/ma_ma/ma_minjlee/.conda/envs/scvi/lib/python3.11/site-packages/lightning/pytorch/loops/fit_loop.py:310: The number of training batches (1) is smaller than the logging interval Trainer(log_every_n_steps=10). Set a lower value for log_every_n_steps if you want to see logs for the training epoch.\n"
     ]
    },
    {
     "name": "stdout",
     "output_type": "stream",
     "text": [
      "Epoch 1/250:   0%|          | 0/250 [00:57<?, ?it/s]\n",
      "2025-09-17 19:37:55 | [time] [scVI] train end in 0.38s\n",
      "2025-09-17 19:37:55 | [scVI] predict_mean\n",
      "2025-09-17 19:37:55 | [time] [scVI] get_likelihood_parameters start\n",
      "\u001b[34mINFO    \u001b[0m Input AnnData not setup with scvi-tools. attempting to transfer AnnData setup                             \n",
      "2025-09-17 19:37:55 | [time] [scVI] get_likelihood_parameters end in 0.03s\n",
      "\u001b[34mINFO    \u001b[0m Input AnnData not setup with scvi-tools. attempting to transfer AnnData setup                             \n",
      "2025-09-17 19:37:55 | [scVI] predict_mean\n",
      "2025-09-17 19:37:55 | [time] [scVI] get_likelihood_parameters start\n",
      "\u001b[34mINFO    \u001b[0m Input AnnData not setup with scvi-tools. attempting to transfer AnnData setup                             \n",
      "2025-09-17 19:37:55 | [time] [scVI] get_likelihood_parameters end in 0.02s\n",
      "2025-09-17 19:37:55 | [scVI] predict_mean\n",
      "2025-09-17 19:37:55 | [time] [scVI] get_likelihood_parameters start\n",
      "\u001b[34mINFO    \u001b[0m Input AnnData not setup with scvi-tools. attempting to transfer AnnData setup                             \n",
      "2025-09-17 19:37:55 | [time] [scVI] get_likelihood_parameters end in 0.02s\n",
      "2025-09-17 19:37:55 | [time] [scVI] fold 3/3 end in 31.57s\n",
      "2025-09-17 19:37:55 | [cv_scvi_5fold] done\n"
     ]
    },
    {
     "name": "stderr",
     "output_type": "stream",
     "text": [
      "[I 2025-09-17 19:37:55,591] Trial 5 finished with value: -6.531368544811155 and parameters: {'n_latent': 32, 'n_hidden': 256, 'n_layers': 2, 'dropout_rate': 0.1, 'max_epochs': 250, 'lr': 0.0005, 'weight_decay': 1e-05, 'batch_size': 512, 'n_hvg': 1500}. Best is trial 3 with value: -6.278899671759776.\n"
     ]
    },
    {
     "name": "stdout",
     "output_type": "stream",
     "text": [
      "Epoch 1/250:   0%|          | 0/250 [00:32<?, ?it/s]\n",
      "Epoch 1/250:   0%|          | 0/250 [00:00<?, ?it/s]\n",
      "2025-09-17 19:37:55 | [cv_scvi_5fold] start k=3 n_hvg=2000 mode=seurat_v3\n",
      "2025-09-17 19:37:55 | X_counts: dense  (447, 51777) dtype=int64\n",
      "2025-09-17 19:38:07 | X_counts: zeros=66.23%, approx_int=True\n",
      "2025-09-17 19:38:07 | [time] [scVI] fold 1/3 start\n"
     ]
    },
    {
     "name": "stderr",
     "output_type": "stream",
     "text": [
      "/home/ma/ma_ma/ma_minjlee/.conda/envs/scvi/lib/python3.11/site-packages/legacy_api_wrap/__init__.py:82: UserWarning: `flavor='seurat_v3'` expects raw count data, but non-integers were found.\n",
      "  return fn(*args_all, **kw)\n"
     ]
    },
    {
     "name": "stdout",
     "output_type": "stream",
     "text": [
      "2025-09-17 19:38:34 | [scVI] fold 1 | HVG=2000\n",
      "2025-09-17 19:38:34 | [scVI] fold 1 params={'batch_size': 256, 'dropout_rate': 0.1, 'lr': 0.001, 'max_epochs': 250, 'n_hidden': 256, 'n_latent': 16, 'n_layers': 2, 'use_gpu': True, 'weight_decay': 1e-05}\n",
      "2025-09-17 19:38:34 | [scVI] fit hp={'n_latent': 16, 'n_hidden': 256, 'n_layers': 2, 'dropout_rate': 0.1, 'max_epochs': 250, 'lr': 0.001, 'weight_decay': 1e-05, 'batch_size': 256, 'batch_key': 'BioProject', 'use_gpu': True}\n",
      "2025-09-17 19:38:34 | X_train: dense  (298, 2000) dtype=int64\n",
      "2025-09-17 19:38:34 | [time] [scVI] train start\n"
     ]
    },
    {
     "name": "stderr",
     "output_type": "stream",
     "text": [
      "/home/ma/ma_ma/ma_minjlee/.conda/envs/scvi/lib/python3.11/site-packages/lightning/fabric/plugins/environments/slurm.py:204: The `srun` command is available on your system but is not used. HINT: If your intention is to run Lightning on SLURM, prepend your python command with `srun` like so: srun python /home/ma/ma_ma/ma_minjlee/.conda/envs/scvi/lib/pytho ...\n",
      "GPU available: False, used: False\n",
      "TPU available: False, using: 0 TPU cores\n",
      "HPU available: False, using: 0 HPUs\n",
      "/home/ma/ma_ma/ma_minjlee/.conda/envs/scvi/lib/python3.11/site-packages/lightning/fabric/plugins/environments/slurm.py:204: The `srun` command is available on your system but is not used. HINT: If your intention is to run Lightning on SLURM, prepend your python command with `srun` like so: srun python /home/ma/ma_ma/ma_minjlee/.conda/envs/scvi/lib/pytho ...\n",
      "/home/ma/ma_ma/ma_minjlee/.conda/envs/scvi/lib/python3.11/site-packages/lightning/pytorch/trainer/connectors/data_connector.py:433: The 'train_dataloader' does not have many workers which may be a bottleneck. Consider increasing the value of the `num_workers` argument` to `num_workers=191` in the `DataLoader` to improve performance.\n",
      "/home/ma/ma_ma/ma_minjlee/.conda/envs/scvi/lib/python3.11/site-packages/lightning/pytorch/loops/fit_loop.py:310: The number of training batches (2) is smaller than the logging interval Trainer(log_every_n_steps=10). Set a lower value for log_every_n_steps if you want to see logs for the training epoch.\n"
     ]
    },
    {
     "name": "stdout",
     "output_type": "stream",
     "text": [
      "Epoch 1/250:   0%|          | 0/250 [00:00<?, ?it/s]2025-09-17 19:38:35 | [time] [scVI] train end in 0.39s\n",
      "2025-09-17 19:38:35 | [scVI] predict_mean\n",
      "2025-09-17 19:38:35 | [time] [scVI] get_likelihood_parameters start\n",
      "\u001b[34mINFO    \u001b[0m Input AnnData not setup with scvi-tools. attempting to transfer AnnData setup                             \n",
      "2025-09-17 19:38:35 | [time] [scVI] get_likelihood_parameters end in 0.03s\n",
      "\u001b[34mINFO    \u001b[0m Input AnnData not setup with scvi-tools. attempting to transfer AnnData setup                             \n",
      "2025-09-17 19:38:35 | [scVI] predict_mean\n",
      "2025-09-17 19:38:35 | [time] [scVI] get_likelihood_parameters start\n",
      "\u001b[34mINFO    \u001b[0m Input AnnData not setup with scvi-tools. attempting to transfer AnnData setup                             \n",
      "2025-09-17 19:38:35 | [time] [scVI] get_likelihood_parameters end in 0.02s\n",
      "2025-09-17 19:38:35 | [scVI] predict_mean\n",
      "2025-09-17 19:38:35 | [time] [scVI] get_likelihood_parameters start\n",
      "\u001b[34mINFO    \u001b[0m Input AnnData not setup with scvi-tools. attempting to transfer AnnData setup                             \n",
      "2025-09-17 19:38:35 | [time] [scVI] get_likelihood_parameters end in 0.03s\n",
      "2025-09-17 19:38:35 | [time] [scVI] fold 1/3 end in 27.76s\n",
      "2025-09-17 19:38:35 | [time] [scVI] fold 2/3 start\n"
     ]
    },
    {
     "name": "stderr",
     "output_type": "stream",
     "text": [
      "/home/ma/ma_ma/ma_minjlee/.conda/envs/scvi/lib/python3.11/site-packages/legacy_api_wrap/__init__.py:82: UserWarning: `flavor='seurat_v3'` expects raw count data, but non-integers were found.\n",
      "  return fn(*args_all, **kw)\n"
     ]
    },
    {
     "name": "stdout",
     "output_type": "stream",
     "text": [
      "2025-09-17 19:39:09 | [scVI] fold 2 | HVG=2000\n",
      "2025-09-17 19:39:09 | [scVI] fold 2 params={'batch_size': 256, 'dropout_rate': 0.1, 'lr': 0.001, 'max_epochs': 250, 'n_hidden': 256, 'n_latent': 16, 'n_layers': 2, 'use_gpu': True, 'weight_decay': 1e-05}\n",
      "2025-09-17 19:39:09 | [scVI] fit hp={'n_latent': 16, 'n_hidden': 256, 'n_layers': 2, 'dropout_rate': 0.1, 'max_epochs': 250, 'lr': 0.001, 'weight_decay': 1e-05, 'batch_size': 256, 'batch_key': 'BioProject', 'use_gpu': True}\n",
      "2025-09-17 19:39:09 | X_train: dense  (298, 2000) dtype=int64\n",
      "2025-09-17 19:39:09 | [time] [scVI] train start\n"
     ]
    },
    {
     "name": "stderr",
     "output_type": "stream",
     "text": [
      "/home/ma/ma_ma/ma_minjlee/.conda/envs/scvi/lib/python3.11/site-packages/lightning/fabric/plugins/environments/slurm.py:204: The `srun` command is available on your system but is not used. HINT: If your intention is to run Lightning on SLURM, prepend your python command with `srun` like so: srun python /home/ma/ma_ma/ma_minjlee/.conda/envs/scvi/lib/pytho ...\n",
      "GPU available: False, used: False\n",
      "TPU available: False, using: 0 TPU cores\n",
      "HPU available: False, using: 0 HPUs\n",
      "/home/ma/ma_ma/ma_minjlee/.conda/envs/scvi/lib/python3.11/site-packages/lightning/fabric/plugins/environments/slurm.py:204: The `srun` command is available on your system but is not used. HINT: If your intention is to run Lightning on SLURM, prepend your python command with `srun` like so: srun python /home/ma/ma_ma/ma_minjlee/.conda/envs/scvi/lib/pytho ...\n",
      "/home/ma/ma_ma/ma_minjlee/.conda/envs/scvi/lib/python3.11/site-packages/lightning/pytorch/trainer/connectors/data_connector.py:433: The 'train_dataloader' does not have many workers which may be a bottleneck. Consider increasing the value of the `num_workers` argument` to `num_workers=191` in the `DataLoader` to improve performance.\n",
      "/home/ma/ma_ma/ma_minjlee/.conda/envs/scvi/lib/python3.11/site-packages/lightning/pytorch/loops/fit_loop.py:310: The number of training batches (2) is smaller than the logging interval Trainer(log_every_n_steps=10). Set a lower value for log_every_n_steps if you want to see logs for the training epoch.\n"
     ]
    },
    {
     "name": "stdout",
     "output_type": "stream",
     "text": [
      "Epoch 1/250:   0%|          | 0/250 [00:00<?, ?it/s]2025-09-17 19:39:09 | [time] [scVI] train end in 0.33s\n",
      "2025-09-17 19:39:09 | [scVI] predict_mean\n",
      "2025-09-17 19:39:09 | [time] [scVI] get_likelihood_parameters start\n",
      "\u001b[34mINFO    \u001b[0m Input AnnData not setup with scvi-tools. attempting to transfer AnnData setup                             \n",
      "2025-09-17 19:39:09 | [time] [scVI] get_likelihood_parameters end in 0.03s\n",
      "\u001b[34mINFO    \u001b[0m Input AnnData not setup with scvi-tools. attempting to transfer AnnData setup                             \n",
      "2025-09-17 19:39:09 | [scVI] predict_mean\n",
      "2025-09-17 19:39:09 | [time] [scVI] get_likelihood_parameters start\n",
      "\u001b[34mINFO    \u001b[0m Input AnnData not setup with scvi-tools. attempting to transfer AnnData setup                             \n",
      "2025-09-17 19:39:09 | [time] [scVI] get_likelihood_parameters end in 0.02s\n",
      "2025-09-17 19:39:10 | [scVI] predict_mean\n",
      "2025-09-17 19:39:10 | [time] [scVI] get_likelihood_parameters start\n",
      "\u001b[34mINFO    \u001b[0m Input AnnData not setup with scvi-tools. attempting to transfer AnnData setup                             \n",
      "2025-09-17 19:39:10 | [time] [scVI] get_likelihood_parameters end in 0.02s\n",
      "2025-09-17 19:39:10 | [time] [scVI] fold 2/3 end in 34.80s\n",
      "2025-09-17 19:39:10 | [time] [scVI] fold 3/3 start\n"
     ]
    },
    {
     "name": "stderr",
     "output_type": "stream",
     "text": [
      "/home/ma/ma_ma/ma_minjlee/.conda/envs/scvi/lib/python3.11/site-packages/legacy_api_wrap/__init__.py:82: UserWarning: `flavor='seurat_v3'` expects raw count data, but non-integers were found.\n",
      "  return fn(*args_all, **kw)\n"
     ]
    },
    {
     "name": "stdout",
     "output_type": "stream",
     "text": [
      "2025-09-17 19:39:40 | [scVI] fold 3 | HVG=2000\n",
      "2025-09-17 19:39:40 | [scVI] fold 3 params={'batch_size': 256, 'dropout_rate': 0.1, 'lr': 0.001, 'max_epochs': 250, 'n_hidden': 256, 'n_latent': 16, 'n_layers': 2, 'use_gpu': True, 'weight_decay': 1e-05}\n",
      "2025-09-17 19:39:40 | [scVI] fit hp={'n_latent': 16, 'n_hidden': 256, 'n_layers': 2, 'dropout_rate': 0.1, 'max_epochs': 250, 'lr': 0.001, 'weight_decay': 1e-05, 'batch_size': 256, 'batch_key': 'BioProject', 'use_gpu': True}\n",
      "2025-09-17 19:39:40 | X_train: dense  (298, 2000) dtype=int64\n",
      "2025-09-17 19:39:40 | [time] [scVI] train start\n"
     ]
    },
    {
     "name": "stderr",
     "output_type": "stream",
     "text": [
      "/home/ma/ma_ma/ma_minjlee/.conda/envs/scvi/lib/python3.11/site-packages/lightning/fabric/plugins/environments/slurm.py:204: The `srun` command is available on your system but is not used. HINT: If your intention is to run Lightning on SLURM, prepend your python command with `srun` like so: srun python /home/ma/ma_ma/ma_minjlee/.conda/envs/scvi/lib/pytho ...\n",
      "GPU available: False, used: False\n",
      "TPU available: False, using: 0 TPU cores\n",
      "HPU available: False, using: 0 HPUs\n",
      "/home/ma/ma_ma/ma_minjlee/.conda/envs/scvi/lib/python3.11/site-packages/lightning/fabric/plugins/environments/slurm.py:204: The `srun` command is available on your system but is not used. HINT: If your intention is to run Lightning on SLURM, prepend your python command with `srun` like so: srun python /home/ma/ma_ma/ma_minjlee/.conda/envs/scvi/lib/pytho ...\n",
      "/home/ma/ma_ma/ma_minjlee/.conda/envs/scvi/lib/python3.11/site-packages/lightning/pytorch/trainer/connectors/data_connector.py:433: The 'train_dataloader' does not have many workers which may be a bottleneck. Consider increasing the value of the `num_workers` argument` to `num_workers=191` in the `DataLoader` to improve performance.\n",
      "/home/ma/ma_ma/ma_minjlee/.conda/envs/scvi/lib/python3.11/site-packages/lightning/pytorch/loops/fit_loop.py:310: The number of training batches (2) is smaller than the logging interval Trainer(log_every_n_steps=10). Set a lower value for log_every_n_steps if you want to see logs for the training epoch.\n"
     ]
    },
    {
     "name": "stdout",
     "output_type": "stream",
     "text": [
      "Epoch 1/250:   0%|          | 0/250 [01:06<?, ?it/s]\n",
      "2025-09-17 19:39:41 | [time] [scVI] train end in 0.37s\n",
      "2025-09-17 19:39:41 | [scVI] predict_mean\n",
      "2025-09-17 19:39:41 | [time] [scVI] get_likelihood_parameters start\n",
      "\u001b[34mINFO    \u001b[0m Input AnnData not setup with scvi-tools. attempting to transfer AnnData setup                             \n",
      "2025-09-17 19:39:41 | [time] [scVI] get_likelihood_parameters end in 0.03s\n",
      "\u001b[34mINFO    \u001b[0m Input AnnData not setup with scvi-tools. attempting to transfer AnnData setup                             \n",
      "2025-09-17 19:39:41 | [scVI] predict_mean\n",
      "2025-09-17 19:39:41 | [time] [scVI] get_likelihood_parameters start\n",
      "\u001b[34mINFO    \u001b[0m Input AnnData not setup with scvi-tools. attempting to transfer AnnData setup                             \n",
      "2025-09-17 19:39:41 | [time] [scVI] get_likelihood_parameters end in 0.02s\n",
      "2025-09-17 19:39:41 | [scVI] predict_mean\n",
      "2025-09-17 19:39:41 | [time] [scVI] get_likelihood_parameters start\n",
      "\u001b[34mINFO    \u001b[0m Input AnnData not setup with scvi-tools. attempting to transfer AnnData setup                             \n",
      "2025-09-17 19:39:41 | [time] [scVI] get_likelihood_parameters end in 0.02s\n",
      "2025-09-17 19:39:41 | [time] [scVI] fold 3/3 end in 31.44s\n",
      "2025-09-17 19:39:41 | [cv_scvi_5fold] done\n"
     ]
    },
    {
     "name": "stderr",
     "output_type": "stream",
     "text": [
      "[I 2025-09-17 19:39:41,519] Trial 6 finished with value: -6.431411816849769 and parameters: {'n_latent': 16, 'n_hidden': 256, 'n_layers': 2, 'dropout_rate': 0.1, 'max_epochs': 250, 'lr': 0.001, 'weight_decay': 1e-05, 'batch_size': 256, 'n_hvg': 2000}. Best is trial 3 with value: -6.278899671759776.\n"
     ]
    },
    {
     "name": "stdout",
     "output_type": "stream",
     "text": [
      "Epoch 1/250:   0%|          | 0/250 [00:32<?, ?it/s]\n",
      "Epoch 1/250:   0%|          | 0/250 [00:00<?, ?it/s]\n",
      "2025-09-17 19:39:41 | [cv_scvi_5fold] start k=3 n_hvg=1500 mode=seurat_v3\n",
      "2025-09-17 19:39:41 | X_counts: dense  (447, 51777) dtype=int64\n",
      "2025-09-17 19:40:00 | X_counts: zeros=66.23%, approx_int=True\n",
      "2025-09-17 19:40:00 | [time] [scVI] fold 1/3 start\n"
     ]
    },
    {
     "name": "stderr",
     "output_type": "stream",
     "text": [
      "/home/ma/ma_ma/ma_minjlee/.conda/envs/scvi/lib/python3.11/site-packages/legacy_api_wrap/__init__.py:82: UserWarning: `flavor='seurat_v3'` expects raw count data, but non-integers were found.\n",
      "  return fn(*args_all, **kw)\n"
     ]
    },
    {
     "name": "stdout",
     "output_type": "stream",
     "text": [
      "2025-09-17 19:40:35 | [scVI] fold 1 | HVG=1500\n",
      "2025-09-17 19:40:35 | [scVI] fold 1 params={'batch_size': 512, 'dropout_rate': 0.0, 'lr': 0.001, 'max_epochs': 250, 'n_hidden': 128, 'n_latent': 32, 'n_layers': 2, 'use_gpu': True, 'weight_decay': 1e-06}\n",
      "2025-09-17 19:40:35 | [scVI] fit hp={'n_latent': 32, 'n_hidden': 128, 'n_layers': 2, 'dropout_rate': 0.0, 'max_epochs': 250, 'lr': 0.001, 'weight_decay': 1e-06, 'batch_size': 512, 'batch_key': 'BioProject', 'use_gpu': True}\n",
      "2025-09-17 19:40:35 | X_train: dense  (298, 1500) dtype=int64\n",
      "2025-09-17 19:40:35 | [time] [scVI] train start\n"
     ]
    },
    {
     "name": "stderr",
     "output_type": "stream",
     "text": [
      "/home/ma/ma_ma/ma_minjlee/.conda/envs/scvi/lib/python3.11/site-packages/lightning/fabric/plugins/environments/slurm.py:204: The `srun` command is available on your system but is not used. HINT: If your intention is to run Lightning on SLURM, prepend your python command with `srun` like so: srun python /home/ma/ma_ma/ma_minjlee/.conda/envs/scvi/lib/pytho ...\n",
      "GPU available: False, used: False\n",
      "TPU available: False, using: 0 TPU cores\n",
      "HPU available: False, using: 0 HPUs\n",
      "/home/ma/ma_ma/ma_minjlee/.conda/envs/scvi/lib/python3.11/site-packages/lightning/fabric/plugins/environments/slurm.py:204: The `srun` command is available on your system but is not used. HINT: If your intention is to run Lightning on SLURM, prepend your python command with `srun` like so: srun python /home/ma/ma_ma/ma_minjlee/.conda/envs/scvi/lib/pytho ...\n",
      "/home/ma/ma_ma/ma_minjlee/.conda/envs/scvi/lib/python3.11/site-packages/lightning/pytorch/trainer/connectors/data_connector.py:433: The 'train_dataloader' does not have many workers which may be a bottleneck. Consider increasing the value of the `num_workers` argument` to `num_workers=191` in the `DataLoader` to improve performance.\n",
      "/home/ma/ma_ma/ma_minjlee/.conda/envs/scvi/lib/python3.11/site-packages/lightning/pytorch/loops/fit_loop.py:310: The number of training batches (1) is smaller than the logging interval Trainer(log_every_n_steps=10). Set a lower value for log_every_n_steps if you want to see logs for the training epoch.\n"
     ]
    },
    {
     "name": "stdout",
     "output_type": "stream",
     "text": [
      "Epoch 1/250:   0%|          | 0/250 [00:00<?, ?it/s]2025-09-17 19:40:36 | [time] [scVI] train end in 0.32s\n",
      "2025-09-17 19:40:36 | [scVI] predict_mean\n",
      "2025-09-17 19:40:36 | [time] [scVI] get_likelihood_parameters start\n",
      "\u001b[34mINFO    \u001b[0m Input AnnData not setup with scvi-tools. attempting to transfer AnnData setup                             \n",
      "2025-09-17 19:40:36 | [time] [scVI] get_likelihood_parameters end in 0.02s\n",
      "\u001b[34mINFO    \u001b[0m Input AnnData not setup with scvi-tools. attempting to transfer AnnData setup                             \n",
      "2025-09-17 19:40:36 | [scVI] predict_mean\n",
      "2025-09-17 19:40:36 | [time] [scVI] get_likelihood_parameters start\n",
      "\u001b[34mINFO    \u001b[0m Input AnnData not setup with scvi-tools. attempting to transfer AnnData setup                             \n",
      "2025-09-17 19:40:36 | [time] [scVI] get_likelihood_parameters end in 0.02s\n",
      "2025-09-17 19:40:36 | [scVI] predict_mean\n",
      "2025-09-17 19:40:36 | [time] [scVI] get_likelihood_parameters start\n",
      "\u001b[34mINFO    \u001b[0m Input AnnData not setup with scvi-tools. attempting to transfer AnnData setup                             \n",
      "2025-09-17 19:40:36 | [time] [scVI] get_likelihood_parameters end in 0.02s\n",
      "2025-09-17 19:40:36 | [time] [scVI] fold 1/3 end in 35.67s\n",
      "2025-09-17 19:40:36 | [time] [scVI] fold 2/3 start\n"
     ]
    },
    {
     "name": "stderr",
     "output_type": "stream",
     "text": [
      "/home/ma/ma_ma/ma_minjlee/.conda/envs/scvi/lib/python3.11/site-packages/legacy_api_wrap/__init__.py:82: UserWarning: `flavor='seurat_v3'` expects raw count data, but non-integers were found.\n",
      "  return fn(*args_all, **kw)\n"
     ]
    },
    {
     "name": "stdout",
     "output_type": "stream",
     "text": [
      "2025-09-17 19:41:06 | [scVI] fold 2 | HVG=1500\n",
      "2025-09-17 19:41:06 | [scVI] fold 2 params={'batch_size': 512, 'dropout_rate': 0.0, 'lr': 0.001, 'max_epochs': 250, 'n_hidden': 128, 'n_latent': 32, 'n_layers': 2, 'use_gpu': True, 'weight_decay': 1e-06}\n",
      "2025-09-17 19:41:06 | [scVI] fit hp={'n_latent': 32, 'n_hidden': 128, 'n_layers': 2, 'dropout_rate': 0.0, 'max_epochs': 250, 'lr': 0.001, 'weight_decay': 1e-06, 'batch_size': 512, 'batch_key': 'BioProject', 'use_gpu': True}\n",
      "2025-09-17 19:41:06 | X_train: dense  (298, 1500) dtype=int64\n",
      "2025-09-17 19:41:06 | [time] [scVI] train start\n"
     ]
    },
    {
     "name": "stderr",
     "output_type": "stream",
     "text": [
      "/home/ma/ma_ma/ma_minjlee/.conda/envs/scvi/lib/python3.11/site-packages/lightning/fabric/plugins/environments/slurm.py:204: The `srun` command is available on your system but is not used. HINT: If your intention is to run Lightning on SLURM, prepend your python command with `srun` like so: srun python /home/ma/ma_ma/ma_minjlee/.conda/envs/scvi/lib/pytho ...\n",
      "GPU available: False, used: False\n",
      "TPU available: False, using: 0 TPU cores\n",
      "HPU available: False, using: 0 HPUs\n",
      "/home/ma/ma_ma/ma_minjlee/.conda/envs/scvi/lib/python3.11/site-packages/lightning/fabric/plugins/environments/slurm.py:204: The `srun` command is available on your system but is not used. HINT: If your intention is to run Lightning on SLURM, prepend your python command with `srun` like so: srun python /home/ma/ma_ma/ma_minjlee/.conda/envs/scvi/lib/pytho ...\n",
      "/home/ma/ma_ma/ma_minjlee/.conda/envs/scvi/lib/python3.11/site-packages/lightning/pytorch/trainer/connectors/data_connector.py:433: The 'train_dataloader' does not have many workers which may be a bottleneck. Consider increasing the value of the `num_workers` argument` to `num_workers=191` in the `DataLoader` to improve performance.\n",
      "/home/ma/ma_ma/ma_minjlee/.conda/envs/scvi/lib/python3.11/site-packages/lightning/pytorch/loops/fit_loop.py:310: The number of training batches (1) is smaller than the logging interval Trainer(log_every_n_steps=10). Set a lower value for log_every_n_steps if you want to see logs for the training epoch.\n"
     ]
    },
    {
     "name": "stdout",
     "output_type": "stream",
     "text": [
      "Epoch 1/250:   0%|          | 0/250 [00:00<?, ?it/s]2025-09-17 19:41:06 | [time] [scVI] train end in 0.36s\n",
      "2025-09-17 19:41:06 | [scVI] predict_mean\n",
      "2025-09-17 19:41:06 | [time] [scVI] get_likelihood_parameters start\n",
      "\u001b[34mINFO    \u001b[0m Input AnnData not setup with scvi-tools. attempting to transfer AnnData setup                             \n",
      "2025-09-17 19:41:06 | [time] [scVI] get_likelihood_parameters end in 0.02s\n",
      "\u001b[34mINFO    \u001b[0m Input AnnData not setup with scvi-tools. attempting to transfer AnnData setup                             \n",
      "2025-09-17 19:41:06 | [scVI] predict_mean\n",
      "2025-09-17 19:41:06 | [time] [scVI] get_likelihood_parameters start\n",
      "\u001b[34mINFO    \u001b[0m Input AnnData not setup with scvi-tools. attempting to transfer AnnData setup                             \n",
      "2025-09-17 19:41:06 | [time] [scVI] get_likelihood_parameters end in 0.02s\n",
      "2025-09-17 19:41:06 | [scVI] predict_mean\n",
      "2025-09-17 19:41:06 | [time] [scVI] get_likelihood_parameters start\n",
      "\u001b[34mINFO    \u001b[0m Input AnnData not setup with scvi-tools. attempting to transfer AnnData setup                             \n",
      "2025-09-17 19:41:06 | [time] [scVI] get_likelihood_parameters end in 0.02s\n",
      "2025-09-17 19:41:06 | [time] [scVI] fold 2/3 end in 30.27s\n",
      "2025-09-17 19:41:06 | [time] [scVI] fold 3/3 start\n"
     ]
    },
    {
     "name": "stderr",
     "output_type": "stream",
     "text": [
      "/home/ma/ma_ma/ma_minjlee/.conda/envs/scvi/lib/python3.11/site-packages/legacy_api_wrap/__init__.py:82: UserWarning: `flavor='seurat_v3'` expects raw count data, but non-integers were found.\n",
      "  return fn(*args_all, **kw)\n"
     ]
    },
    {
     "name": "stdout",
     "output_type": "stream",
     "text": [
      "2025-09-17 19:41:38 | [scVI] fold 3 | HVG=1500\n",
      "2025-09-17 19:41:38 | [scVI] fold 3 params={'batch_size': 512, 'dropout_rate': 0.0, 'lr': 0.001, 'max_epochs': 250, 'n_hidden': 128, 'n_latent': 32, 'n_layers': 2, 'use_gpu': True, 'weight_decay': 1e-06}\n",
      "2025-09-17 19:41:38 | [scVI] fit hp={'n_latent': 32, 'n_hidden': 128, 'n_layers': 2, 'dropout_rate': 0.0, 'max_epochs': 250, 'lr': 0.001, 'weight_decay': 1e-06, 'batch_size': 512, 'batch_key': 'BioProject', 'use_gpu': True}\n",
      "2025-09-17 19:41:38 | X_train: dense  (298, 1500) dtype=int64\n",
      "2025-09-17 19:41:38 | [time] [scVI] train start\n"
     ]
    },
    {
     "name": "stderr",
     "output_type": "stream",
     "text": [
      "/home/ma/ma_ma/ma_minjlee/.conda/envs/scvi/lib/python3.11/site-packages/lightning/fabric/plugins/environments/slurm.py:204: The `srun` command is available on your system but is not used. HINT: If your intention is to run Lightning on SLURM, prepend your python command with `srun` like so: srun python /home/ma/ma_ma/ma_minjlee/.conda/envs/scvi/lib/pytho ...\n",
      "GPU available: False, used: False\n",
      "TPU available: False, using: 0 TPU cores\n",
      "HPU available: False, using: 0 HPUs\n",
      "/home/ma/ma_ma/ma_minjlee/.conda/envs/scvi/lib/python3.11/site-packages/lightning/fabric/plugins/environments/slurm.py:204: The `srun` command is available on your system but is not used. HINT: If your intention is to run Lightning on SLURM, prepend your python command with `srun` like so: srun python /home/ma/ma_ma/ma_minjlee/.conda/envs/scvi/lib/pytho ...\n",
      "/home/ma/ma_ma/ma_minjlee/.conda/envs/scvi/lib/python3.11/site-packages/lightning/pytorch/trainer/connectors/data_connector.py:433: The 'train_dataloader' does not have many workers which may be a bottleneck. Consider increasing the value of the `num_workers` argument` to `num_workers=191` in the `DataLoader` to improve performance.\n",
      "/home/ma/ma_ma/ma_minjlee/.conda/envs/scvi/lib/python3.11/site-packages/lightning/pytorch/loops/fit_loop.py:310: The number of training batches (1) is smaller than the logging interval Trainer(log_every_n_steps=10). Set a lower value for log_every_n_steps if you want to see logs for the training epoch.\n"
     ]
    },
    {
     "name": "stdout",
     "output_type": "stream",
     "text": [
      "Epoch 1/250:   0%|          | 0/250 [01:03<?, ?it/s]\n",
      "2025-09-17 19:41:39 | [time] [scVI] train end in 0.32s\n",
      "2025-09-17 19:41:39 | [scVI] predict_mean\n",
      "2025-09-17 19:41:39 | [time] [scVI] get_likelihood_parameters start\n",
      "\u001b[34mINFO    \u001b[0m Input AnnData not setup with scvi-tools. attempting to transfer AnnData setup                             \n",
      "2025-09-17 19:41:39 | [time] [scVI] get_likelihood_parameters end in 0.02s\n",
      "\u001b[34mINFO    \u001b[0m Input AnnData not setup with scvi-tools. attempting to transfer AnnData setup                             \n",
      "2025-09-17 19:41:39 | [scVI] predict_mean\n",
      "2025-09-17 19:41:39 | [time] [scVI] get_likelihood_parameters start\n",
      "\u001b[34mINFO    \u001b[0m Input AnnData not setup with scvi-tools. attempting to transfer AnnData setup                             \n",
      "2025-09-17 19:41:39 | [time] [scVI] get_likelihood_parameters end in 0.02s\n",
      "2025-09-17 19:41:39 | [scVI] predict_mean\n",
      "2025-09-17 19:41:39 | [time] [scVI] get_likelihood_parameters start\n",
      "\u001b[34mINFO    \u001b[0m Input AnnData not setup with scvi-tools. attempting to transfer AnnData setup                             \n",
      "2025-09-17 19:41:39 | [time] [scVI] get_likelihood_parameters end in 0.02s\n",
      "2025-09-17 19:41:39 | [time] [scVI] fold 3/3 end in 32.68s\n",
      "2025-09-17 19:41:39 | [cv_scvi_5fold] done\n"
     ]
    },
    {
     "name": "stderr",
     "output_type": "stream",
     "text": [
      "[I 2025-09-17 19:41:39,278] Trial 7 finished with value: -6.516395049942977 and parameters: {'n_latent': 32, 'n_hidden': 128, 'n_layers': 2, 'dropout_rate': 0.0, 'max_epochs': 250, 'lr': 0.001, 'weight_decay': 1e-06, 'batch_size': 512, 'n_hvg': 1500}. Best is trial 3 with value: -6.278899671759776.\n"
     ]
    },
    {
     "name": "stdout",
     "output_type": "stream",
     "text": [
      "Epoch 1/250:   0%|          | 0/250 [00:33<?, ?it/s]\n",
      "Epoch 1/250:   0%|          | 0/250 [00:00<?, ?it/s]\n",
      "2025-09-17 19:41:39 | [cv_scvi_5fold] start k=3 n_hvg=2000 mode=seurat_v3\n",
      "2025-09-17 19:41:39 | X_counts: dense  (447, 51777) dtype=int64\n",
      "2025-09-17 19:41:54 | X_counts: zeros=66.23%, approx_int=True\n",
      "2025-09-17 19:41:54 | [time] [scVI] fold 1/3 start\n"
     ]
    },
    {
     "name": "stderr",
     "output_type": "stream",
     "text": [
      "/home/ma/ma_ma/ma_minjlee/.conda/envs/scvi/lib/python3.11/site-packages/legacy_api_wrap/__init__.py:82: UserWarning: `flavor='seurat_v3'` expects raw count data, but non-integers were found.\n",
      "  return fn(*args_all, **kw)\n"
     ]
    },
    {
     "name": "stdout",
     "output_type": "stream",
     "text": [
      "2025-09-17 19:42:22 | [scVI] fold 1 | HVG=2000\n",
      "2025-09-17 19:42:22 | [scVI] fold 1 params={'batch_size': 512, 'dropout_rate': 0.1, 'lr': 0.0005, 'max_epochs': 250, 'n_hidden': 128, 'n_latent': 32, 'n_layers': 2, 'use_gpu': True, 'weight_decay': 1e-06}\n",
      "2025-09-17 19:42:22 | [scVI] fit hp={'n_latent': 32, 'n_hidden': 128, 'n_layers': 2, 'dropout_rate': 0.1, 'max_epochs': 250, 'lr': 0.0005, 'weight_decay': 1e-06, 'batch_size': 512, 'batch_key': 'BioProject', 'use_gpu': True}\n",
      "2025-09-17 19:42:22 | X_train: dense  (298, 2000) dtype=int64\n",
      "2025-09-17 19:42:22 | [time] [scVI] train start\n"
     ]
    },
    {
     "name": "stderr",
     "output_type": "stream",
     "text": [
      "/home/ma/ma_ma/ma_minjlee/.conda/envs/scvi/lib/python3.11/site-packages/lightning/fabric/plugins/environments/slurm.py:204: The `srun` command is available on your system but is not used. HINT: If your intention is to run Lightning on SLURM, prepend your python command with `srun` like so: srun python /home/ma/ma_ma/ma_minjlee/.conda/envs/scvi/lib/pytho ...\n",
      "GPU available: False, used: False\n",
      "TPU available: False, using: 0 TPU cores\n",
      "HPU available: False, using: 0 HPUs\n",
      "/home/ma/ma_ma/ma_minjlee/.conda/envs/scvi/lib/python3.11/site-packages/lightning/fabric/plugins/environments/slurm.py:204: The `srun` command is available on your system but is not used. HINT: If your intention is to run Lightning on SLURM, prepend your python command with `srun` like so: srun python /home/ma/ma_ma/ma_minjlee/.conda/envs/scvi/lib/pytho ...\n",
      "/home/ma/ma_ma/ma_minjlee/.conda/envs/scvi/lib/python3.11/site-packages/lightning/pytorch/trainer/connectors/data_connector.py:433: The 'train_dataloader' does not have many workers which may be a bottleneck. Consider increasing the value of the `num_workers` argument` to `num_workers=191` in the `DataLoader` to improve performance.\n",
      "/home/ma/ma_ma/ma_minjlee/.conda/envs/scvi/lib/python3.11/site-packages/lightning/pytorch/loops/fit_loop.py:310: The number of training batches (1) is smaller than the logging interval Trainer(log_every_n_steps=10). Set a lower value for log_every_n_steps if you want to see logs for the training epoch.\n"
     ]
    },
    {
     "name": "stdout",
     "output_type": "stream",
     "text": [
      "Epoch 1/250:   0%|          | 0/250 [00:00<?, ?it/s]2025-09-17 19:42:22 | [time] [scVI] train end in 0.36s\n",
      "2025-09-17 19:42:22 | [scVI] predict_mean\n",
      "2025-09-17 19:42:22 | [time] [scVI] get_likelihood_parameters start\n",
      "\u001b[34mINFO    \u001b[0m Input AnnData not setup with scvi-tools. attempting to transfer AnnData setup                             \n",
      "2025-09-17 19:42:22 | [time] [scVI] get_likelihood_parameters end in 0.02s\n",
      "\u001b[34mINFO    \u001b[0m Input AnnData not setup with scvi-tools. attempting to transfer AnnData setup                             \n",
      "2025-09-17 19:42:22 | [scVI] predict_mean\n",
      "2025-09-17 19:42:22 | [time] [scVI] get_likelihood_parameters start\n",
      "\u001b[34mINFO    \u001b[0m Input AnnData not setup with scvi-tools. attempting to transfer AnnData setup                             \n",
      "2025-09-17 19:42:22 | [time] [scVI] get_likelihood_parameters end in 0.02s\n",
      "2025-09-17 19:42:22 | [scVI] predict_mean\n",
      "2025-09-17 19:42:22 | [time] [scVI] get_likelihood_parameters start\n",
      "\u001b[34mINFO    \u001b[0m Input AnnData not setup with scvi-tools. attempting to transfer AnnData setup                             \n",
      "2025-09-17 19:42:22 | [time] [scVI] get_likelihood_parameters end in 0.02s\n",
      "2025-09-17 19:42:22 | [time] [scVI] fold 1/3 end in 28.41s\n",
      "2025-09-17 19:42:22 | [time] [scVI] fold 2/3 start\n"
     ]
    },
    {
     "name": "stderr",
     "output_type": "stream",
     "text": [
      "/home/ma/ma_ma/ma_minjlee/.conda/envs/scvi/lib/python3.11/site-packages/legacy_api_wrap/__init__.py:82: UserWarning: `flavor='seurat_v3'` expects raw count data, but non-integers were found.\n",
      "  return fn(*args_all, **kw)\n"
     ]
    },
    {
     "name": "stdout",
     "output_type": "stream",
     "text": [
      "2025-09-17 19:42:46 | [scVI] fold 2 | HVG=2000\n",
      "2025-09-17 19:42:46 | [scVI] fold 2 params={'batch_size': 512, 'dropout_rate': 0.1, 'lr': 0.0005, 'max_epochs': 250, 'n_hidden': 128, 'n_latent': 32, 'n_layers': 2, 'use_gpu': True, 'weight_decay': 1e-06}\n",
      "2025-09-17 19:42:46 | [scVI] fit hp={'n_latent': 32, 'n_hidden': 128, 'n_layers': 2, 'dropout_rate': 0.1, 'max_epochs': 250, 'lr': 0.0005, 'weight_decay': 1e-06, 'batch_size': 512, 'batch_key': 'BioProject', 'use_gpu': True}\n",
      "2025-09-17 19:42:46 | X_train: dense  (298, 2000) dtype=int64\n",
      "2025-09-17 19:42:46 | [time] [scVI] train start\n"
     ]
    },
    {
     "name": "stderr",
     "output_type": "stream",
     "text": [
      "/home/ma/ma_ma/ma_minjlee/.conda/envs/scvi/lib/python3.11/site-packages/lightning/fabric/plugins/environments/slurm.py:204: The `srun` command is available on your system but is not used. HINT: If your intention is to run Lightning on SLURM, prepend your python command with `srun` like so: srun python /home/ma/ma_ma/ma_minjlee/.conda/envs/scvi/lib/pytho ...\n",
      "GPU available: False, used: False\n",
      "TPU available: False, using: 0 TPU cores\n",
      "HPU available: False, using: 0 HPUs\n",
      "/home/ma/ma_ma/ma_minjlee/.conda/envs/scvi/lib/python3.11/site-packages/lightning/fabric/plugins/environments/slurm.py:204: The `srun` command is available on your system but is not used. HINT: If your intention is to run Lightning on SLURM, prepend your python command with `srun` like so: srun python /home/ma/ma_ma/ma_minjlee/.conda/envs/scvi/lib/pytho ...\n",
      "/home/ma/ma_ma/ma_minjlee/.conda/envs/scvi/lib/python3.11/site-packages/lightning/pytorch/trainer/connectors/data_connector.py:433: The 'train_dataloader' does not have many workers which may be a bottleneck. Consider increasing the value of the `num_workers` argument` to `num_workers=191` in the `DataLoader` to improve performance.\n",
      "/home/ma/ma_ma/ma_minjlee/.conda/envs/scvi/lib/python3.11/site-packages/lightning/pytorch/loops/fit_loop.py:310: The number of training batches (1) is smaller than the logging interval Trainer(log_every_n_steps=10). Set a lower value for log_every_n_steps if you want to see logs for the training epoch.\n"
     ]
    },
    {
     "name": "stdout",
     "output_type": "stream",
     "text": [
      "Epoch 1/250:   0%|          | 0/250 [00:00<?, ?it/s]2025-09-17 19:42:47 | [time] [scVI] train end in 0.33s\n",
      "2025-09-17 19:42:47 | [scVI] predict_mean\n",
      "2025-09-17 19:42:47 | [time] [scVI] get_likelihood_parameters start\n",
      "\u001b[34mINFO    \u001b[0m Input AnnData not setup with scvi-tools. attempting to transfer AnnData setup                             \n",
      "2025-09-17 19:42:47 | [time] [scVI] get_likelihood_parameters end in 0.02s\n",
      "\u001b[34mINFO    \u001b[0m Input AnnData not setup with scvi-tools. attempting to transfer AnnData setup                             \n",
      "2025-09-17 19:42:47 | [scVI] predict_mean\n",
      "2025-09-17 19:42:47 | [time] [scVI] get_likelihood_parameters start\n",
      "\u001b[34mINFO    \u001b[0m Input AnnData not setup with scvi-tools. attempting to transfer AnnData setup                             \n",
      "2025-09-17 19:42:47 | [time] [scVI] get_likelihood_parameters end in 0.02s\n",
      "2025-09-17 19:42:47 | [scVI] predict_mean\n",
      "2025-09-17 19:42:47 | [time] [scVI] get_likelihood_parameters start\n",
      "\u001b[34mINFO    \u001b[0m Input AnnData not setup with scvi-tools. attempting to transfer AnnData setup                             \n",
      "2025-09-17 19:42:47 | [time] [scVI] get_likelihood_parameters end in 0.02s\n",
      "2025-09-17 19:42:47 | [time] [scVI] fold 2/3 end in 24.49s\n",
      "2025-09-17 19:42:47 | [time] [scVI] fold 3/3 start\n"
     ]
    },
    {
     "name": "stderr",
     "output_type": "stream",
     "text": [
      "/home/ma/ma_ma/ma_minjlee/.conda/envs/scvi/lib/python3.11/site-packages/legacy_api_wrap/__init__.py:82: UserWarning: `flavor='seurat_v3'` expects raw count data, but non-integers were found.\n",
      "  return fn(*args_all, **kw)\n"
     ]
    },
    {
     "name": "stdout",
     "output_type": "stream",
     "text": [
      "2025-09-17 19:43:21 | [scVI] fold 3 | HVG=2000\n",
      "2025-09-17 19:43:21 | [scVI] fold 3 params={'batch_size': 512, 'dropout_rate': 0.1, 'lr': 0.0005, 'max_epochs': 250, 'n_hidden': 128, 'n_latent': 32, 'n_layers': 2, 'use_gpu': True, 'weight_decay': 1e-06}\n",
      "2025-09-17 19:43:21 | [scVI] fit hp={'n_latent': 32, 'n_hidden': 128, 'n_layers': 2, 'dropout_rate': 0.1, 'max_epochs': 250, 'lr': 0.0005, 'weight_decay': 1e-06, 'batch_size': 512, 'batch_key': 'BioProject', 'use_gpu': True}\n",
      "2025-09-17 19:43:21 | X_train: dense  (298, 2000) dtype=int64\n",
      "2025-09-17 19:43:21 | [time] [scVI] train start\n"
     ]
    },
    {
     "name": "stderr",
     "output_type": "stream",
     "text": [
      "/home/ma/ma_ma/ma_minjlee/.conda/envs/scvi/lib/python3.11/site-packages/lightning/fabric/plugins/environments/slurm.py:204: The `srun` command is available on your system but is not used. HINT: If your intention is to run Lightning on SLURM, prepend your python command with `srun` like so: srun python /home/ma/ma_ma/ma_minjlee/.conda/envs/scvi/lib/pytho ...\n",
      "GPU available: False, used: False\n",
      "TPU available: False, using: 0 TPU cores\n",
      "HPU available: False, using: 0 HPUs\n",
      "/home/ma/ma_ma/ma_minjlee/.conda/envs/scvi/lib/python3.11/site-packages/lightning/fabric/plugins/environments/slurm.py:204: The `srun` command is available on your system but is not used. HINT: If your intention is to run Lightning on SLURM, prepend your python command with `srun` like so: srun python /home/ma/ma_ma/ma_minjlee/.conda/envs/scvi/lib/pytho ...\n",
      "/home/ma/ma_ma/ma_minjlee/.conda/envs/scvi/lib/python3.11/site-packages/lightning/pytorch/trainer/connectors/data_connector.py:433: The 'train_dataloader' does not have many workers which may be a bottleneck. Consider increasing the value of the `num_workers` argument` to `num_workers=191` in the `DataLoader` to improve performance.\n",
      "/home/ma/ma_ma/ma_minjlee/.conda/envs/scvi/lib/python3.11/site-packages/lightning/pytorch/loops/fit_loop.py:310: The number of training batches (1) is smaller than the logging interval Trainer(log_every_n_steps=10). Set a lower value for log_every_n_steps if you want to see logs for the training epoch.\n"
     ]
    },
    {
     "name": "stdout",
     "output_type": "stream",
     "text": [
      "Epoch 1/250:   0%|          | 0/250 [00:59<?, ?it/s]\n",
      "2025-09-17 19:43:21 | [time] [scVI] train end in 0.30s\n",
      "2025-09-17 19:43:21 | [scVI] predict_mean\n",
      "2025-09-17 19:43:21 | [time] [scVI] get_likelihood_parameters start\n",
      "\u001b[34mINFO    \u001b[0m Input AnnData not setup with scvi-tools. attempting to transfer AnnData setup                             \n",
      "2025-09-17 19:43:21 | [time] [scVI] get_likelihood_parameters end in 0.02s\n",
      "\u001b[34mINFO    \u001b[0m Input AnnData not setup with scvi-tools. attempting to transfer AnnData setup                             \n",
      "2025-09-17 19:43:22 | [scVI] predict_mean\n",
      "2025-09-17 19:43:22 | [time] [scVI] get_likelihood_parameters start\n",
      "\u001b[34mINFO    \u001b[0m Input AnnData not setup with scvi-tools. attempting to transfer AnnData setup                             \n",
      "2025-09-17 19:43:22 | [time] [scVI] get_likelihood_parameters end in 0.02s\n",
      "2025-09-17 19:43:22 | [scVI] predict_mean\n",
      "2025-09-17 19:43:22 | [time] [scVI] get_likelihood_parameters start\n",
      "\u001b[34mINFO    \u001b[0m Input AnnData not setup with scvi-tools. attempting to transfer AnnData setup                             \n",
      "2025-09-17 19:43:22 | [time] [scVI] get_likelihood_parameters end in 0.02s\n",
      "2025-09-17 19:43:22 | [time] [scVI] fold 3/3 end in 34.94s\n",
      "2025-09-17 19:43:22 | [cv_scvi_5fold] done\n"
     ]
    },
    {
     "name": "stderr",
     "output_type": "stream",
     "text": [
      "[I 2025-09-17 19:43:22,146] Trial 8 finished with value: -6.245112224268715 and parameters: {'n_latent': 32, 'n_hidden': 128, 'n_layers': 2, 'dropout_rate': 0.1, 'max_epochs': 250, 'lr': 0.0005, 'weight_decay': 1e-06, 'batch_size': 512, 'n_hvg': 2000}. Best is trial 8 with value: -6.245112224268715.\n"
     ]
    },
    {
     "name": "stdout",
     "output_type": "stream",
     "text": [
      "Epoch 1/250:   0%|          | 0/250 [00:35<?, ?it/s]\n",
      "Epoch 1/250:   0%|          | 0/250 [00:00<?, ?it/s]\n",
      "2025-09-17 19:43:22 | [cv_scvi_5fold] start k=3 n_hvg=2000 mode=seurat_v3\n",
      "2025-09-17 19:43:22 | X_counts: dense  (447, 51777) dtype=int64\n",
      "2025-09-17 19:43:37 | X_counts: zeros=66.23%, approx_int=True\n",
      "2025-09-17 19:43:37 | [time] [scVI] fold 1/3 start\n"
     ]
    },
    {
     "name": "stderr",
     "output_type": "stream",
     "text": [
      "/home/ma/ma_ma/ma_minjlee/.conda/envs/scvi/lib/python3.11/site-packages/legacy_api_wrap/__init__.py:82: UserWarning: `flavor='seurat_v3'` expects raw count data, but non-integers were found.\n",
      "  return fn(*args_all, **kw)\n"
     ]
    },
    {
     "name": "stdout",
     "output_type": "stream",
     "text": [
      "2025-09-17 19:44:16 | [scVI] fold 1 | HVG=2000\n",
      "2025-09-17 19:44:16 | [scVI] fold 1 params={'batch_size': 256, 'dropout_rate': 0.1, 'lr': 0.001, 'max_epochs': 150, 'n_hidden': 256, 'n_latent': 16, 'n_layers': 2, 'use_gpu': True, 'weight_decay': 1e-06}\n",
      "2025-09-17 19:44:16 | [scVI] fit hp={'n_latent': 16, 'n_hidden': 256, 'n_layers': 2, 'dropout_rate': 0.1, 'max_epochs': 150, 'lr': 0.001, 'weight_decay': 1e-06, 'batch_size': 256, 'batch_key': 'BioProject', 'use_gpu': True}\n",
      "2025-09-17 19:44:16 | X_train: dense  (298, 2000) dtype=int64\n",
      "2025-09-17 19:44:16 | [time] [scVI] train start\n"
     ]
    },
    {
     "name": "stderr",
     "output_type": "stream",
     "text": [
      "/home/ma/ma_ma/ma_minjlee/.conda/envs/scvi/lib/python3.11/site-packages/lightning/fabric/plugins/environments/slurm.py:204: The `srun` command is available on your system but is not used. HINT: If your intention is to run Lightning on SLURM, prepend your python command with `srun` like so: srun python /home/ma/ma_ma/ma_minjlee/.conda/envs/scvi/lib/pytho ...\n",
      "GPU available: False, used: False\n",
      "TPU available: False, using: 0 TPU cores\n",
      "HPU available: False, using: 0 HPUs\n",
      "/home/ma/ma_ma/ma_minjlee/.conda/envs/scvi/lib/python3.11/site-packages/lightning/fabric/plugins/environments/slurm.py:204: The `srun` command is available on your system but is not used. HINT: If your intention is to run Lightning on SLURM, prepend your python command with `srun` like so: srun python /home/ma/ma_ma/ma_minjlee/.conda/envs/scvi/lib/pytho ...\n",
      "/home/ma/ma_ma/ma_minjlee/.conda/envs/scvi/lib/python3.11/site-packages/lightning/pytorch/trainer/connectors/data_connector.py:433: The 'train_dataloader' does not have many workers which may be a bottleneck. Consider increasing the value of the `num_workers` argument` to `num_workers=191` in the `DataLoader` to improve performance.\n",
      "/home/ma/ma_ma/ma_minjlee/.conda/envs/scvi/lib/python3.11/site-packages/lightning/pytorch/loops/fit_loop.py:310: The number of training batches (2) is smaller than the logging interval Trainer(log_every_n_steps=10). Set a lower value for log_every_n_steps if you want to see logs for the training epoch.\n"
     ]
    },
    {
     "name": "stdout",
     "output_type": "stream",
     "text": [
      "Epoch 1/150:   0%|          | 0/150 [00:00<?, ?it/s]2025-09-17 19:44:16 | [time] [scVI] train end in 0.37s\n",
      "2025-09-17 19:44:16 | [scVI] predict_mean\n",
      "2025-09-17 19:44:16 | [time] [scVI] get_likelihood_parameters start\n",
      "\u001b[34mINFO    \u001b[0m Input AnnData not setup with scvi-tools. attempting to transfer AnnData setup                             \n",
      "2025-09-17 19:44:16 | [time] [scVI] get_likelihood_parameters end in 0.03s\n",
      "\u001b[34mINFO    \u001b[0m Input AnnData not setup with scvi-tools. attempting to transfer AnnData setup                             \n",
      "2025-09-17 19:44:16 | [scVI] predict_mean\n",
      "2025-09-17 19:44:16 | [time] [scVI] get_likelihood_parameters start\n",
      "\u001b[34mINFO    \u001b[0m Input AnnData not setup with scvi-tools. attempting to transfer AnnData setup                             \n",
      "2025-09-17 19:44:16 | [time] [scVI] get_likelihood_parameters end in 0.02s\n",
      "2025-09-17 19:44:16 | [scVI] predict_mean\n",
      "2025-09-17 19:44:16 | [time] [scVI] get_likelihood_parameters start\n",
      "\u001b[34mINFO    \u001b[0m Input AnnData not setup with scvi-tools. attempting to transfer AnnData setup                             \n",
      "2025-09-17 19:44:16 | [time] [scVI] get_likelihood_parameters end in 0.02s\n",
      "2025-09-17 19:44:16 | [time] [scVI] fold 1/3 end in 39.60s\n",
      "2025-09-17 19:44:16 | [time] [scVI] fold 2/3 start\n"
     ]
    },
    {
     "name": "stderr",
     "output_type": "stream",
     "text": [
      "/home/ma/ma_ma/ma_minjlee/.conda/envs/scvi/lib/python3.11/site-packages/legacy_api_wrap/__init__.py:82: UserWarning: `flavor='seurat_v3'` expects raw count data, but non-integers were found.\n",
      "  return fn(*args_all, **kw)\n"
     ]
    },
    {
     "name": "stdout",
     "output_type": "stream",
     "text": [
      "2025-09-17 19:44:52 | [scVI] fold 2 | HVG=2000\n",
      "2025-09-17 19:44:53 | [scVI] fold 2 params={'batch_size': 256, 'dropout_rate': 0.1, 'lr': 0.001, 'max_epochs': 150, 'n_hidden': 256, 'n_latent': 16, 'n_layers': 2, 'use_gpu': True, 'weight_decay': 1e-06}\n",
      "2025-09-17 19:44:53 | [scVI] fit hp={'n_latent': 16, 'n_hidden': 256, 'n_layers': 2, 'dropout_rate': 0.1, 'max_epochs': 150, 'lr': 0.001, 'weight_decay': 1e-06, 'batch_size': 256, 'batch_key': 'BioProject', 'use_gpu': True}\n",
      "2025-09-17 19:44:53 | X_train: dense  (298, 2000) dtype=int64\n",
      "2025-09-17 19:44:53 | [time] [scVI] train start\n"
     ]
    },
    {
     "name": "stderr",
     "output_type": "stream",
     "text": [
      "/home/ma/ma_ma/ma_minjlee/.conda/envs/scvi/lib/python3.11/site-packages/lightning/fabric/plugins/environments/slurm.py:204: The `srun` command is available on your system but is not used. HINT: If your intention is to run Lightning on SLURM, prepend your python command with `srun` like so: srun python /home/ma/ma_ma/ma_minjlee/.conda/envs/scvi/lib/pytho ...\n",
      "GPU available: False, used: False\n",
      "TPU available: False, using: 0 TPU cores\n",
      "HPU available: False, using: 0 HPUs\n",
      "/home/ma/ma_ma/ma_minjlee/.conda/envs/scvi/lib/python3.11/site-packages/lightning/fabric/plugins/environments/slurm.py:204: The `srun` command is available on your system but is not used. HINT: If your intention is to run Lightning on SLURM, prepend your python command with `srun` like so: srun python /home/ma/ma_ma/ma_minjlee/.conda/envs/scvi/lib/pytho ...\n",
      "/home/ma/ma_ma/ma_minjlee/.conda/envs/scvi/lib/python3.11/site-packages/lightning/pytorch/trainer/connectors/data_connector.py:433: The 'train_dataloader' does not have many workers which may be a bottleneck. Consider increasing the value of the `num_workers` argument` to `num_workers=191` in the `DataLoader` to improve performance.\n",
      "/home/ma/ma_ma/ma_minjlee/.conda/envs/scvi/lib/python3.11/site-packages/lightning/pytorch/loops/fit_loop.py:310: The number of training batches (2) is smaller than the logging interval Trainer(log_every_n_steps=10). Set a lower value for log_every_n_steps if you want to see logs for the training epoch.\n"
     ]
    },
    {
     "name": "stdout",
     "output_type": "stream",
     "text": [
      "Epoch 1/150:   0%|          | 0/150 [00:00<?, ?it/s]2025-09-17 19:44:53 | [time] [scVI] train end in 0.33s\n",
      "2025-09-17 19:44:53 | [scVI] predict_mean\n",
      "2025-09-17 19:44:53 | [time] [scVI] get_likelihood_parameters start\n",
      "\u001b[34mINFO    \u001b[0m Input AnnData not setup with scvi-tools. attempting to transfer AnnData setup                             \n",
      "2025-09-17 19:44:53 | [time] [scVI] get_likelihood_parameters end in 0.03s\n",
      "\u001b[34mINFO    \u001b[0m Input AnnData not setup with scvi-tools. attempting to transfer AnnData setup                             \n",
      "2025-09-17 19:44:53 | [scVI] predict_mean\n",
      "2025-09-17 19:44:53 | [time] [scVI] get_likelihood_parameters start\n",
      "\u001b[34mINFO    \u001b[0m Input AnnData not setup with scvi-tools. attempting to transfer AnnData setup                             \n",
      "2025-09-17 19:44:53 | [time] [scVI] get_likelihood_parameters end in 0.02s\n",
      "2025-09-17 19:44:53 | [scVI] predict_mean\n",
      "2025-09-17 19:44:53 | [time] [scVI] get_likelihood_parameters start\n",
      "\u001b[34mINFO    \u001b[0m Input AnnData not setup with scvi-tools. attempting to transfer AnnData setup                             \n",
      "2025-09-17 19:44:53 | [time] [scVI] get_likelihood_parameters end in 0.02s\n",
      "2025-09-17 19:44:53 | [time] [scVI] fold 2/3 end in 36.79s\n",
      "2025-09-17 19:44:53 | [time] [scVI] fold 3/3 start\n"
     ]
    },
    {
     "name": "stderr",
     "output_type": "stream",
     "text": [
      "/home/ma/ma_ma/ma_minjlee/.conda/envs/scvi/lib/python3.11/site-packages/legacy_api_wrap/__init__.py:82: UserWarning: `flavor='seurat_v3'` expects raw count data, but non-integers were found.\n",
      "  return fn(*args_all, **kw)\n"
     ]
    },
    {
     "name": "stdout",
     "output_type": "stream",
     "text": [
      "2025-09-17 19:45:28 | [scVI] fold 3 | HVG=2000\n",
      "2025-09-17 19:45:28 | [scVI] fold 3 params={'batch_size': 256, 'dropout_rate': 0.1, 'lr': 0.001, 'max_epochs': 150, 'n_hidden': 256, 'n_latent': 16, 'n_layers': 2, 'use_gpu': True, 'weight_decay': 1e-06}\n",
      "2025-09-17 19:45:28 | [scVI] fit hp={'n_latent': 16, 'n_hidden': 256, 'n_layers': 2, 'dropout_rate': 0.1, 'max_epochs': 150, 'lr': 0.001, 'weight_decay': 1e-06, 'batch_size': 256, 'batch_key': 'BioProject', 'use_gpu': True}\n",
      "2025-09-17 19:45:28 | X_train: dense  (298, 2000) dtype=int64\n",
      "2025-09-17 19:45:28 | [time] [scVI] train start\n"
     ]
    },
    {
     "name": "stderr",
     "output_type": "stream",
     "text": [
      "/home/ma/ma_ma/ma_minjlee/.conda/envs/scvi/lib/python3.11/site-packages/lightning/fabric/plugins/environments/slurm.py:204: The `srun` command is available on your system but is not used. HINT: If your intention is to run Lightning on SLURM, prepend your python command with `srun` like so: srun python /home/ma/ma_ma/ma_minjlee/.conda/envs/scvi/lib/pytho ...\n",
      "GPU available: False, used: False\n",
      "TPU available: False, using: 0 TPU cores\n",
      "HPU available: False, using: 0 HPUs\n",
      "/home/ma/ma_ma/ma_minjlee/.conda/envs/scvi/lib/python3.11/site-packages/lightning/fabric/plugins/environments/slurm.py:204: The `srun` command is available on your system but is not used. HINT: If your intention is to run Lightning on SLURM, prepend your python command with `srun` like so: srun python /home/ma/ma_ma/ma_minjlee/.conda/envs/scvi/lib/pytho ...\n",
      "/home/ma/ma_ma/ma_minjlee/.conda/envs/scvi/lib/python3.11/site-packages/lightning/pytorch/trainer/connectors/data_connector.py:433: The 'train_dataloader' does not have many workers which may be a bottleneck. Consider increasing the value of the `num_workers` argument` to `num_workers=191` in the `DataLoader` to improve performance.\n",
      "/home/ma/ma_ma/ma_minjlee/.conda/envs/scvi/lib/python3.11/site-packages/lightning/pytorch/loops/fit_loop.py:310: The number of training batches (2) is smaller than the logging interval Trainer(log_every_n_steps=10). Set a lower value for log_every_n_steps if you want to see logs for the training epoch.\n"
     ]
    },
    {
     "name": "stdout",
     "output_type": "stream",
     "text": [
      "Epoch 1/150:   0%|          | 0/150 [01:12<?, ?it/s]\n",
      "2025-09-17 19:45:28 | [time] [scVI] train end in 0.33s\n",
      "2025-09-17 19:45:28 | [scVI] predict_mean\n",
      "2025-09-17 19:45:28 | [time] [scVI] get_likelihood_parameters start\n",
      "\u001b[34mINFO    \u001b[0m Input AnnData not setup with scvi-tools. attempting to transfer AnnData setup                             \n",
      "2025-09-17 19:45:29 | [time] [scVI] get_likelihood_parameters end in 0.02s\n",
      "\u001b[34mINFO    \u001b[0m Input AnnData not setup with scvi-tools. attempting to transfer AnnData setup                             \n",
      "2025-09-17 19:45:29 | [scVI] predict_mean\n",
      "2025-09-17 19:45:29 | [time] [scVI] get_likelihood_parameters start\n",
      "\u001b[34mINFO    \u001b[0m Input AnnData not setup with scvi-tools. attempting to transfer AnnData setup                             \n",
      "2025-09-17 19:45:29 | [time] [scVI] get_likelihood_parameters end in 0.02s\n",
      "2025-09-17 19:45:29 | [scVI] predict_mean\n",
      "2025-09-17 19:45:29 | [time] [scVI] get_likelihood_parameters start\n",
      "\u001b[34mINFO    \u001b[0m Input AnnData not setup with scvi-tools. attempting to transfer AnnData setup                             \n",
      "2025-09-17 19:45:29 | [time] [scVI] get_likelihood_parameters end in 0.02s\n",
      "2025-09-17 19:45:29 | [time] [scVI] fold 3/3 end in 35.62s\n",
      "2025-09-17 19:45:29 | [cv_scvi_5fold] done\n"
     ]
    },
    {
     "name": "stderr",
     "output_type": "stream",
     "text": [
      "[I 2025-09-17 19:45:29,175] Trial 9 finished with value: -6.350475190645283 and parameters: {'n_latent': 16, 'n_hidden': 256, 'n_layers': 2, 'dropout_rate': 0.1, 'max_epochs': 150, 'lr': 0.001, 'weight_decay': 1e-06, 'batch_size': 256, 'n_hvg': 2000}. Best is trial 8 with value: -6.245112224268715.\n"
     ]
    },
    {
     "name": "stdout",
     "output_type": "stream",
     "text": [
      "Epoch 1/150:   0%|          | 0/150 [00:36<?, ?it/s]\n",
      "Epoch 1/150:   0%|          | 0/150 [00:00<?, ?it/s]\n",
      "2025-09-17 19:45:29 | [cv_scvi_5fold] start k=3 n_hvg=800 mode=seurat_v3\n",
      "2025-09-17 19:45:29 | X_counts: dense  (447, 51777) dtype=int64\n",
      "2025-09-17 19:45:44 | X_counts: zeros=66.23%, approx_int=True\n",
      "2025-09-17 19:45:44 | [time] [scVI] fold 1/3 start\n"
     ]
    },
    {
     "name": "stderr",
     "output_type": "stream",
     "text": [
      "/home/ma/ma_ma/ma_minjlee/.conda/envs/scvi/lib/python3.11/site-packages/legacy_api_wrap/__init__.py:82: UserWarning: `flavor='seurat_v3'` expects raw count data, but non-integers were found.\n",
      "  return fn(*args_all, **kw)\n"
     ]
    },
    {
     "name": "stdout",
     "output_type": "stream",
     "text": [
      "2025-09-17 19:46:16 | [scVI] fold 1 | HVG=800\n",
      "2025-09-17 19:46:16 | [scVI] fold 1 params={'batch_size': 512, 'dropout_rate': 0.1, 'lr': 0.0005, 'max_epochs': 250, 'n_hidden': 128, 'n_latent': 32, 'n_layers': 2, 'use_gpu': True, 'weight_decay': 1e-06}\n",
      "2025-09-17 19:46:16 | [scVI] fit hp={'n_latent': 32, 'n_hidden': 128, 'n_layers': 2, 'dropout_rate': 0.1, 'max_epochs': 250, 'lr': 0.0005, 'weight_decay': 1e-06, 'batch_size': 512, 'batch_key': 'BioProject', 'use_gpu': True}\n",
      "2025-09-17 19:46:16 | X_train: dense  (298, 800) dtype=int64\n",
      "2025-09-17 19:46:16 | [time] [scVI] train start\n"
     ]
    },
    {
     "name": "stderr",
     "output_type": "stream",
     "text": [
      "/home/ma/ma_ma/ma_minjlee/.conda/envs/scvi/lib/python3.11/site-packages/lightning/fabric/plugins/environments/slurm.py:204: The `srun` command is available on your system but is not used. HINT: If your intention is to run Lightning on SLURM, prepend your python command with `srun` like so: srun python /home/ma/ma_ma/ma_minjlee/.conda/envs/scvi/lib/pytho ...\n",
      "GPU available: False, used: False\n",
      "TPU available: False, using: 0 TPU cores\n",
      "HPU available: False, using: 0 HPUs\n",
      "/home/ma/ma_ma/ma_minjlee/.conda/envs/scvi/lib/python3.11/site-packages/lightning/fabric/plugins/environments/slurm.py:204: The `srun` command is available on your system but is not used. HINT: If your intention is to run Lightning on SLURM, prepend your python command with `srun` like so: srun python /home/ma/ma_ma/ma_minjlee/.conda/envs/scvi/lib/pytho ...\n",
      "/home/ma/ma_ma/ma_minjlee/.conda/envs/scvi/lib/python3.11/site-packages/lightning/pytorch/trainer/connectors/data_connector.py:433: The 'train_dataloader' does not have many workers which may be a bottleneck. Consider increasing the value of the `num_workers` argument` to `num_workers=191` in the `DataLoader` to improve performance.\n",
      "/home/ma/ma_ma/ma_minjlee/.conda/envs/scvi/lib/python3.11/site-packages/lightning/pytorch/loops/fit_loop.py:310: The number of training batches (1) is smaller than the logging interval Trainer(log_every_n_steps=10). Set a lower value for log_every_n_steps if you want to see logs for the training epoch.\n"
     ]
    },
    {
     "name": "stdout",
     "output_type": "stream",
     "text": [
      "Epoch 1/250:   0%|          | 0/250 [00:00<?, ?it/s]2025-09-17 19:46:16 | [time] [scVI] train end in 0.35s\n",
      "2025-09-17 19:46:16 | [scVI] predict_mean\n",
      "2025-09-17 19:46:16 | [time] [scVI] get_likelihood_parameters start\n",
      "\u001b[34mINFO    \u001b[0m Input AnnData not setup with scvi-tools. attempting to transfer AnnData setup                             \n",
      "2025-09-17 19:46:16 | [time] [scVI] get_likelihood_parameters end in 0.01s\n",
      "\u001b[34mINFO    \u001b[0m Input AnnData not setup with scvi-tools. attempting to transfer AnnData setup                             \n",
      "2025-09-17 19:46:16 | [scVI] predict_mean\n",
      "2025-09-17 19:46:16 | [time] [scVI] get_likelihood_parameters start\n",
      "\u001b[34mINFO    \u001b[0m Input AnnData not setup with scvi-tools. attempting to transfer AnnData setup                             \n",
      "2025-09-17 19:46:16 | [time] [scVI] get_likelihood_parameters end in 0.01s\n",
      "2025-09-17 19:46:16 | [scVI] predict_mean\n",
      "2025-09-17 19:46:16 | [time] [scVI] get_likelihood_parameters start\n",
      "\u001b[34mINFO    \u001b[0m Input AnnData not setup with scvi-tools. attempting to transfer AnnData setup                             \n",
      "2025-09-17 19:46:16 | [time] [scVI] get_likelihood_parameters end in 0.01s\n",
      "2025-09-17 19:46:16 | [time] [scVI] fold 1/3 end in 32.05s\n",
      "2025-09-17 19:46:16 | [time] [scVI] fold 2/3 start\n"
     ]
    },
    {
     "name": "stderr",
     "output_type": "stream",
     "text": [
      "/home/ma/ma_ma/ma_minjlee/.conda/envs/scvi/lib/python3.11/site-packages/legacy_api_wrap/__init__.py:82: UserWarning: `flavor='seurat_v3'` expects raw count data, but non-integers were found.\n",
      "  return fn(*args_all, **kw)\n"
     ]
    },
    {
     "name": "stdout",
     "output_type": "stream",
     "text": [
      "2025-09-17 19:46:49 | [scVI] fold 2 | HVG=800\n",
      "2025-09-17 19:46:49 | [scVI] fold 2 params={'batch_size': 512, 'dropout_rate': 0.1, 'lr': 0.0005, 'max_epochs': 250, 'n_hidden': 128, 'n_latent': 32, 'n_layers': 2, 'use_gpu': True, 'weight_decay': 1e-06}\n",
      "2025-09-17 19:46:49 | [scVI] fit hp={'n_latent': 32, 'n_hidden': 128, 'n_layers': 2, 'dropout_rate': 0.1, 'max_epochs': 250, 'lr': 0.0005, 'weight_decay': 1e-06, 'batch_size': 512, 'batch_key': 'BioProject', 'use_gpu': True}\n",
      "2025-09-17 19:46:49 | X_train: dense  (298, 800) dtype=int64\n",
      "2025-09-17 19:46:49 | [time] [scVI] train start\n"
     ]
    },
    {
     "name": "stderr",
     "output_type": "stream",
     "text": [
      "/home/ma/ma_ma/ma_minjlee/.conda/envs/scvi/lib/python3.11/site-packages/lightning/fabric/plugins/environments/slurm.py:204: The `srun` command is available on your system but is not used. HINT: If your intention is to run Lightning on SLURM, prepend your python command with `srun` like so: srun python /home/ma/ma_ma/ma_minjlee/.conda/envs/scvi/lib/pytho ...\n",
      "GPU available: False, used: False\n",
      "TPU available: False, using: 0 TPU cores\n",
      "HPU available: False, using: 0 HPUs\n",
      "/home/ma/ma_ma/ma_minjlee/.conda/envs/scvi/lib/python3.11/site-packages/lightning/fabric/plugins/environments/slurm.py:204: The `srun` command is available on your system but is not used. HINT: If your intention is to run Lightning on SLURM, prepend your python command with `srun` like so: srun python /home/ma/ma_ma/ma_minjlee/.conda/envs/scvi/lib/pytho ...\n",
      "/home/ma/ma_ma/ma_minjlee/.conda/envs/scvi/lib/python3.11/site-packages/lightning/pytorch/trainer/connectors/data_connector.py:433: The 'train_dataloader' does not have many workers which may be a bottleneck. Consider increasing the value of the `num_workers` argument` to `num_workers=191` in the `DataLoader` to improve performance.\n",
      "/home/ma/ma_ma/ma_minjlee/.conda/envs/scvi/lib/python3.11/site-packages/lightning/pytorch/loops/fit_loop.py:310: The number of training batches (1) is smaller than the logging interval Trainer(log_every_n_steps=10). Set a lower value for log_every_n_steps if you want to see logs for the training epoch.\n"
     ]
    },
    {
     "name": "stdout",
     "output_type": "stream",
     "text": [
      "Epoch 1/250:   0%|          | 0/250 [00:00<?, ?it/s]2025-09-17 19:46:49 | [time] [scVI] train end in 0.32s\n",
      "2025-09-17 19:46:49 | [scVI] predict_mean\n",
      "2025-09-17 19:46:49 | [time] [scVI] get_likelihood_parameters start\n",
      "\u001b[34mINFO    \u001b[0m Input AnnData not setup with scvi-tools. attempting to transfer AnnData setup                             \n",
      "2025-09-17 19:46:50 | [time] [scVI] get_likelihood_parameters end in 0.01s\n",
      "\u001b[34mINFO    \u001b[0m Input AnnData not setup with scvi-tools. attempting to transfer AnnData setup                             \n",
      "2025-09-17 19:46:50 | [scVI] predict_mean\n",
      "2025-09-17 19:46:50 | [time] [scVI] get_likelihood_parameters start\n",
      "\u001b[34mINFO    \u001b[0m Input AnnData not setup with scvi-tools. attempting to transfer AnnData setup                             \n",
      "2025-09-17 19:46:50 | [time] [scVI] get_likelihood_parameters end in 0.01s\n",
      "2025-09-17 19:46:50 | [scVI] predict_mean\n",
      "2025-09-17 19:46:50 | [time] [scVI] get_likelihood_parameters start\n",
      "\u001b[34mINFO    \u001b[0m Input AnnData not setup with scvi-tools. attempting to transfer AnnData setup                             \n",
      "2025-09-17 19:46:50 | [time] [scVI] get_likelihood_parameters end in 0.01s\n",
      "2025-09-17 19:46:50 | [time] [scVI] fold 2/3 end in 33.27s\n",
      "2025-09-17 19:46:50 | [time] [scVI] fold 3/3 start\n"
     ]
    },
    {
     "name": "stderr",
     "output_type": "stream",
     "text": [
      "/home/ma/ma_ma/ma_minjlee/.conda/envs/scvi/lib/python3.11/site-packages/legacy_api_wrap/__init__.py:82: UserWarning: `flavor='seurat_v3'` expects raw count data, but non-integers were found.\n",
      "  return fn(*args_all, **kw)\n"
     ]
    },
    {
     "name": "stdout",
     "output_type": "stream",
     "text": [
      "2025-09-17 19:47:29 | [scVI] fold 3 | HVG=800\n",
      "2025-09-17 19:47:29 | [scVI] fold 3 params={'batch_size': 512, 'dropout_rate': 0.1, 'lr': 0.0005, 'max_epochs': 250, 'n_hidden': 128, 'n_latent': 32, 'n_layers': 2, 'use_gpu': True, 'weight_decay': 1e-06}\n",
      "2025-09-17 19:47:29 | [scVI] fit hp={'n_latent': 32, 'n_hidden': 128, 'n_layers': 2, 'dropout_rate': 0.1, 'max_epochs': 250, 'lr': 0.0005, 'weight_decay': 1e-06, 'batch_size': 512, 'batch_key': 'BioProject', 'use_gpu': True}\n",
      "2025-09-17 19:47:29 | X_train: dense  (298, 800) dtype=int64\n",
      "2025-09-17 19:47:29 | [time] [scVI] train start\n"
     ]
    },
    {
     "name": "stderr",
     "output_type": "stream",
     "text": [
      "/home/ma/ma_ma/ma_minjlee/.conda/envs/scvi/lib/python3.11/site-packages/lightning/fabric/plugins/environments/slurm.py:204: The `srun` command is available on your system but is not used. HINT: If your intention is to run Lightning on SLURM, prepend your python command with `srun` like so: srun python /home/ma/ma_ma/ma_minjlee/.conda/envs/scvi/lib/pytho ...\n",
      "GPU available: False, used: False\n",
      "TPU available: False, using: 0 TPU cores\n",
      "HPU available: False, using: 0 HPUs\n",
      "/home/ma/ma_ma/ma_minjlee/.conda/envs/scvi/lib/python3.11/site-packages/lightning/fabric/plugins/environments/slurm.py:204: The `srun` command is available on your system but is not used. HINT: If your intention is to run Lightning on SLURM, prepend your python command with `srun` like so: srun python /home/ma/ma_ma/ma_minjlee/.conda/envs/scvi/lib/pytho ...\n",
      "/home/ma/ma_ma/ma_minjlee/.conda/envs/scvi/lib/python3.11/site-packages/lightning/pytorch/trainer/connectors/data_connector.py:433: The 'train_dataloader' does not have many workers which may be a bottleneck. Consider increasing the value of the `num_workers` argument` to `num_workers=191` in the `DataLoader` to improve performance.\n",
      "/home/ma/ma_ma/ma_minjlee/.conda/envs/scvi/lib/python3.11/site-packages/lightning/pytorch/loops/fit_loop.py:310: The number of training batches (1) is smaller than the logging interval Trainer(log_every_n_steps=10). Set a lower value for log_every_n_steps if you want to see logs for the training epoch.\n"
     ]
    },
    {
     "name": "stdout",
     "output_type": "stream",
     "text": [
      "Epoch 1/250:   0%|          | 0/250 [01:13<?, ?it/s]\n",
      "2025-09-17 19:47:29 | [time] [scVI] train end in 0.30s\n",
      "2025-09-17 19:47:29 | [scVI] predict_mean\n",
      "2025-09-17 19:47:29 | [time] [scVI] get_likelihood_parameters start\n",
      "\u001b[34mINFO    \u001b[0m Input AnnData not setup with scvi-tools. attempting to transfer AnnData setup                             \n",
      "2025-09-17 19:47:29 | [time] [scVI] get_likelihood_parameters end in 0.01s\n",
      "\u001b[34mINFO    \u001b[0m Input AnnData not setup with scvi-tools. attempting to transfer AnnData setup                             \n",
      "2025-09-17 19:47:29 | [scVI] predict_mean\n",
      "2025-09-17 19:47:29 | [time] [scVI] get_likelihood_parameters start\n",
      "\u001b[34mINFO    \u001b[0m Input AnnData not setup with scvi-tools. attempting to transfer AnnData setup                             \n",
      "2025-09-17 19:47:29 | [time] [scVI] get_likelihood_parameters end in 0.01s\n",
      "2025-09-17 19:47:29 | [scVI] predict_mean\n",
      "2025-09-17 19:47:29 | [time] [scVI] get_likelihood_parameters start\n",
      "\u001b[34mINFO    \u001b[0m Input AnnData not setup with scvi-tools. attempting to transfer AnnData setup                             \n",
      "2025-09-17 19:47:29 | [time] [scVI] get_likelihood_parameters end in 0.01s\n",
      "2025-09-17 19:47:29 | [time] [scVI] fold 3/3 end in 39.88s\n",
      "2025-09-17 19:47:29 | [cv_scvi_5fold] done\n"
     ]
    },
    {
     "name": "stderr",
     "output_type": "stream",
     "text": [
      "[I 2025-09-17 19:47:29,996] Trial 10 finished with value: -5.785952276607384 and parameters: {'n_latent': 32, 'n_hidden': 128, 'n_layers': 2, 'dropout_rate': 0.1, 'max_epochs': 250, 'lr': 0.0005, 'weight_decay': 1e-06, 'batch_size': 512, 'n_hvg': 800}. Best is trial 10 with value: -5.785952276607384.\n"
     ]
    },
    {
     "name": "stdout",
     "output_type": "stream",
     "text": [
      "Epoch 1/250:   0%|          | 0/250 [00:40<?, ?it/s]\n",
      "Epoch 1/250:   0%|          | 0/250 [00:00<?, ?it/s]\n",
      "2025-09-17 19:47:30 | [cv_scvi_5fold] start k=3 n_hvg=800 mode=seurat_v3\n",
      "2025-09-17 19:47:30 | X_counts: dense  (447, 51777) dtype=int64\n",
      "2025-09-17 19:47:47 | X_counts: zeros=66.23%, approx_int=True\n",
      "2025-09-17 19:47:47 | [time] [scVI] fold 1/3 start\n"
     ]
    },
    {
     "name": "stderr",
     "output_type": "stream",
     "text": [
      "/home/ma/ma_ma/ma_minjlee/.conda/envs/scvi/lib/python3.11/site-packages/legacy_api_wrap/__init__.py:82: UserWarning: `flavor='seurat_v3'` expects raw count data, but non-integers were found.\n",
      "  return fn(*args_all, **kw)\n"
     ]
    },
    {
     "name": "stdout",
     "output_type": "stream",
     "text": [
      "2025-09-17 19:48:16 | [scVI] fold 1 | HVG=800\n",
      "2025-09-17 19:48:16 | [scVI] fold 1 params={'batch_size': 512, 'dropout_rate': 0.1, 'lr': 0.0005, 'max_epochs': 250, 'n_hidden': 128, 'n_latent': 32, 'n_layers': 2, 'use_gpu': True, 'weight_decay': 1e-06}\n",
      "2025-09-17 19:48:16 | [scVI] fit hp={'n_latent': 32, 'n_hidden': 128, 'n_layers': 2, 'dropout_rate': 0.1, 'max_epochs': 250, 'lr': 0.0005, 'weight_decay': 1e-06, 'batch_size': 512, 'batch_key': 'BioProject', 'use_gpu': True}\n",
      "2025-09-17 19:48:16 | X_train: dense  (298, 800) dtype=int64\n",
      "2025-09-17 19:48:16 | [time] [scVI] train start\n"
     ]
    },
    {
     "name": "stderr",
     "output_type": "stream",
     "text": [
      "/home/ma/ma_ma/ma_minjlee/.conda/envs/scvi/lib/python3.11/site-packages/lightning/fabric/plugins/environments/slurm.py:204: The `srun` command is available on your system but is not used. HINT: If your intention is to run Lightning on SLURM, prepend your python command with `srun` like so: srun python /home/ma/ma_ma/ma_minjlee/.conda/envs/scvi/lib/pytho ...\n",
      "GPU available: False, used: False\n",
      "TPU available: False, using: 0 TPU cores\n",
      "HPU available: False, using: 0 HPUs\n",
      "/home/ma/ma_ma/ma_minjlee/.conda/envs/scvi/lib/python3.11/site-packages/lightning/fabric/plugins/environments/slurm.py:204: The `srun` command is available on your system but is not used. HINT: If your intention is to run Lightning on SLURM, prepend your python command with `srun` like so: srun python /home/ma/ma_ma/ma_minjlee/.conda/envs/scvi/lib/pytho ...\n",
      "/home/ma/ma_ma/ma_minjlee/.conda/envs/scvi/lib/python3.11/site-packages/lightning/pytorch/trainer/connectors/data_connector.py:433: The 'train_dataloader' does not have many workers which may be a bottleneck. Consider increasing the value of the `num_workers` argument` to `num_workers=191` in the `DataLoader` to improve performance.\n",
      "/home/ma/ma_ma/ma_minjlee/.conda/envs/scvi/lib/python3.11/site-packages/lightning/pytorch/loops/fit_loop.py:310: The number of training batches (1) is smaller than the logging interval Trainer(log_every_n_steps=10). Set a lower value for log_every_n_steps if you want to see logs for the training epoch.\n"
     ]
    },
    {
     "name": "stdout",
     "output_type": "stream",
     "text": [
      "Epoch 1/250:   0%|          | 0/250 [00:00<?, ?it/s]2025-09-17 19:48:16 | [time] [scVI] train end in 0.38s\n",
      "2025-09-17 19:48:16 | [scVI] predict_mean\n",
      "2025-09-17 19:48:16 | [time] [scVI] get_likelihood_parameters start\n",
      "\u001b[34mINFO    \u001b[0m Input AnnData not setup with scvi-tools. attempting to transfer AnnData setup                             \n",
      "2025-09-17 19:48:16 | [time] [scVI] get_likelihood_parameters end in 0.01s\n",
      "\u001b[34mINFO    \u001b[0m Input AnnData not setup with scvi-tools. attempting to transfer AnnData setup                             \n",
      "2025-09-17 19:48:16 | [scVI] predict_mean\n",
      "2025-09-17 19:48:16 | [time] [scVI] get_likelihood_parameters start\n",
      "\u001b[34mINFO    \u001b[0m Input AnnData not setup with scvi-tools. attempting to transfer AnnData setup                             \n",
      "2025-09-17 19:48:16 | [time] [scVI] get_likelihood_parameters end in 0.01s\n",
      "2025-09-17 19:48:16 | [scVI] predict_mean\n",
      "2025-09-17 19:48:16 | [time] [scVI] get_likelihood_parameters start\n",
      "\u001b[34mINFO    \u001b[0m Input AnnData not setup with scvi-tools. attempting to transfer AnnData setup                             \n",
      "2025-09-17 19:48:16 | [time] [scVI] get_likelihood_parameters end in 0.01s\n",
      "2025-09-17 19:48:16 | [time] [scVI] fold 1/3 end in 29.20s\n",
      "2025-09-17 19:48:16 | [time] [scVI] fold 2/3 start\n"
     ]
    },
    {
     "name": "stderr",
     "output_type": "stream",
     "text": [
      "/home/ma/ma_ma/ma_minjlee/.conda/envs/scvi/lib/python3.11/site-packages/legacy_api_wrap/__init__.py:82: UserWarning: `flavor='seurat_v3'` expects raw count data, but non-integers were found.\n",
      "  return fn(*args_all, **kw)\n"
     ]
    },
    {
     "name": "stdout",
     "output_type": "stream",
     "text": [
      "2025-09-17 19:48:52 | [scVI] fold 2 | HVG=800\n",
      "2025-09-17 19:48:52 | [scVI] fold 2 params={'batch_size': 512, 'dropout_rate': 0.1, 'lr': 0.0005, 'max_epochs': 250, 'n_hidden': 128, 'n_latent': 32, 'n_layers': 2, 'use_gpu': True, 'weight_decay': 1e-06}\n",
      "2025-09-17 19:48:52 | [scVI] fit hp={'n_latent': 32, 'n_hidden': 128, 'n_layers': 2, 'dropout_rate': 0.1, 'max_epochs': 250, 'lr': 0.0005, 'weight_decay': 1e-06, 'batch_size': 512, 'batch_key': 'BioProject', 'use_gpu': True}\n",
      "2025-09-17 19:48:52 | X_train: dense  (298, 800) dtype=int64\n",
      "2025-09-17 19:48:52 | [time] [scVI] train start\n"
     ]
    },
    {
     "name": "stderr",
     "output_type": "stream",
     "text": [
      "/home/ma/ma_ma/ma_minjlee/.conda/envs/scvi/lib/python3.11/site-packages/lightning/fabric/plugins/environments/slurm.py:204: The `srun` command is available on your system but is not used. HINT: If your intention is to run Lightning on SLURM, prepend your python command with `srun` like so: srun python /home/ma/ma_ma/ma_minjlee/.conda/envs/scvi/lib/pytho ...\n",
      "GPU available: False, used: False\n",
      "TPU available: False, using: 0 TPU cores\n",
      "HPU available: False, using: 0 HPUs\n",
      "/home/ma/ma_ma/ma_minjlee/.conda/envs/scvi/lib/python3.11/site-packages/lightning/fabric/plugins/environments/slurm.py:204: The `srun` command is available on your system but is not used. HINT: If your intention is to run Lightning on SLURM, prepend your python command with `srun` like so: srun python /home/ma/ma_ma/ma_minjlee/.conda/envs/scvi/lib/pytho ...\n",
      "/home/ma/ma_ma/ma_minjlee/.conda/envs/scvi/lib/python3.11/site-packages/lightning/pytorch/trainer/connectors/data_connector.py:433: The 'train_dataloader' does not have many workers which may be a bottleneck. Consider increasing the value of the `num_workers` argument` to `num_workers=191` in the `DataLoader` to improve performance.\n",
      "/home/ma/ma_ma/ma_minjlee/.conda/envs/scvi/lib/python3.11/site-packages/lightning/pytorch/loops/fit_loop.py:310: The number of training batches (1) is smaller than the logging interval Trainer(log_every_n_steps=10). Set a lower value for log_every_n_steps if you want to see logs for the training epoch.\n"
     ]
    },
    {
     "name": "stdout",
     "output_type": "stream",
     "text": [
      "Epoch 1/250:   0%|          | 0/250 [00:00<?, ?it/s]2025-09-17 19:48:53 | [time] [scVI] train end in 0.35s\n",
      "2025-09-17 19:48:53 | [scVI] predict_mean\n",
      "2025-09-17 19:48:53 | [time] [scVI] get_likelihood_parameters start\n",
      "\u001b[34mINFO    \u001b[0m Input AnnData not setup with scvi-tools. attempting to transfer AnnData setup                             \n",
      "2025-09-17 19:48:53 | [time] [scVI] get_likelihood_parameters end in 0.01s\n",
      "\u001b[34mINFO    \u001b[0m Input AnnData not setup with scvi-tools. attempting to transfer AnnData setup                             \n",
      "2025-09-17 19:48:53 | [scVI] predict_mean\n",
      "2025-09-17 19:48:53 | [time] [scVI] get_likelihood_parameters start\n",
      "\u001b[34mINFO    \u001b[0m Input AnnData not setup with scvi-tools. attempting to transfer AnnData setup                             \n",
      "2025-09-17 19:48:53 | [time] [scVI] get_likelihood_parameters end in 0.01s\n",
      "2025-09-17 19:48:53 | [scVI] predict_mean\n",
      "2025-09-17 19:48:53 | [time] [scVI] get_likelihood_parameters start\n",
      "\u001b[34mINFO    \u001b[0m Input AnnData not setup with scvi-tools. attempting to transfer AnnData setup                             \n",
      "2025-09-17 19:48:53 | [time] [scVI] get_likelihood_parameters end in 0.01s\n",
      "2025-09-17 19:48:53 | [time] [scVI] fold 2/3 end in 36.55s\n",
      "2025-09-17 19:48:53 | [time] [scVI] fold 3/3 start\n"
     ]
    },
    {
     "name": "stderr",
     "output_type": "stream",
     "text": [
      "/home/ma/ma_ma/ma_minjlee/.conda/envs/scvi/lib/python3.11/site-packages/legacy_api_wrap/__init__.py:82: UserWarning: `flavor='seurat_v3'` expects raw count data, but non-integers were found.\n",
      "  return fn(*args_all, **kw)\n"
     ]
    },
    {
     "name": "stdout",
     "output_type": "stream",
     "text": [
      "2025-09-17 19:49:34 | [scVI] fold 3 | HVG=800\n",
      "2025-09-17 19:49:34 | [scVI] fold 3 params={'batch_size': 512, 'dropout_rate': 0.1, 'lr': 0.0005, 'max_epochs': 250, 'n_hidden': 128, 'n_latent': 32, 'n_layers': 2, 'use_gpu': True, 'weight_decay': 1e-06}\n",
      "2025-09-17 19:49:34 | [scVI] fit hp={'n_latent': 32, 'n_hidden': 128, 'n_layers': 2, 'dropout_rate': 0.1, 'max_epochs': 250, 'lr': 0.0005, 'weight_decay': 1e-06, 'batch_size': 512, 'batch_key': 'BioProject', 'use_gpu': True}\n",
      "2025-09-17 19:49:34 | X_train: dense  (298, 800) dtype=int64\n",
      "2025-09-17 19:49:34 | [time] [scVI] train start\n"
     ]
    },
    {
     "name": "stderr",
     "output_type": "stream",
     "text": [
      "/home/ma/ma_ma/ma_minjlee/.conda/envs/scvi/lib/python3.11/site-packages/lightning/fabric/plugins/environments/slurm.py:204: The `srun` command is available on your system but is not used. HINT: If your intention is to run Lightning on SLURM, prepend your python command with `srun` like so: srun python /home/ma/ma_ma/ma_minjlee/.conda/envs/scvi/lib/pytho ...\n",
      "GPU available: False, used: False\n",
      "TPU available: False, using: 0 TPU cores\n",
      "HPU available: False, using: 0 HPUs\n",
      "/home/ma/ma_ma/ma_minjlee/.conda/envs/scvi/lib/python3.11/site-packages/lightning/fabric/plugins/environments/slurm.py:204: The `srun` command is available on your system but is not used. HINT: If your intention is to run Lightning on SLURM, prepend your python command with `srun` like so: srun python /home/ma/ma_ma/ma_minjlee/.conda/envs/scvi/lib/pytho ...\n",
      "/home/ma/ma_ma/ma_minjlee/.conda/envs/scvi/lib/python3.11/site-packages/lightning/pytorch/trainer/connectors/data_connector.py:433: The 'train_dataloader' does not have many workers which may be a bottleneck. Consider increasing the value of the `num_workers` argument` to `num_workers=191` in the `DataLoader` to improve performance.\n",
      "/home/ma/ma_ma/ma_minjlee/.conda/envs/scvi/lib/python3.11/site-packages/lightning/pytorch/loops/fit_loop.py:310: The number of training batches (1) is smaller than the logging interval Trainer(log_every_n_steps=10). Set a lower value for log_every_n_steps if you want to see logs for the training epoch.\n"
     ]
    },
    {
     "name": "stdout",
     "output_type": "stream",
     "text": [
      "Epoch 1/250:   0%|          | 0/250 [01:18<?, ?it/s]\n",
      "2025-09-17 19:49:34 | [time] [scVI] train end in 0.33s\n",
      "2025-09-17 19:49:34 | [scVI] predict_mean\n",
      "2025-09-17 19:49:34 | [time] [scVI] get_likelihood_parameters start\n",
      "\u001b[34mINFO    \u001b[0m Input AnnData not setup with scvi-tools. attempting to transfer AnnData setup                             \n",
      "2025-09-17 19:49:34 | [time] [scVI] get_likelihood_parameters end in 0.01s\n",
      "\u001b[34mINFO    \u001b[0m Input AnnData not setup with scvi-tools. attempting to transfer AnnData setup                             \n",
      "2025-09-17 19:49:34 | [scVI] predict_mean\n",
      "2025-09-17 19:49:34 | [time] [scVI] get_likelihood_parameters start\n",
      "\u001b[34mINFO    \u001b[0m Input AnnData not setup with scvi-tools. attempting to transfer AnnData setup                             \n",
      "2025-09-17 19:49:34 | [time] [scVI] get_likelihood_parameters end in 0.01s\n",
      "2025-09-17 19:49:34 | [scVI] predict_mean\n",
      "2025-09-17 19:49:34 | [time] [scVI] get_likelihood_parameters start\n",
      "\u001b[34mINFO    \u001b[0m Input AnnData not setup with scvi-tools. attempting to transfer AnnData setup                             \n",
      "2025-09-17 19:49:34 | [time] [scVI] get_likelihood_parameters end in 0.01s\n",
      "2025-09-17 19:49:34 | [time] [scVI] fold 3/3 end in 41.66s\n",
      "2025-09-17 19:49:34 | [cv_scvi_5fold] done\n"
     ]
    },
    {
     "name": "stderr",
     "output_type": "stream",
     "text": [
      "[I 2025-09-17 19:49:34,824] Trial 11 finished with value: -5.83622252627941 and parameters: {'n_latent': 32, 'n_hidden': 128, 'n_layers': 2, 'dropout_rate': 0.1, 'max_epochs': 250, 'lr': 0.0005, 'weight_decay': 1e-06, 'batch_size': 512, 'n_hvg': 800}. Best is trial 10 with value: -5.785952276607384.\n"
     ]
    },
    {
     "name": "stdout",
     "output_type": "stream",
     "text": [
      "Epoch 1/250:   0%|          | 0/250 [00:42<?, ?it/s]\n",
      "Epoch 1/250:   0%|          | 0/250 [00:00<?, ?it/s]\n",
      "2025-09-17 19:49:35 | [cv_scvi_5fold] start k=3 n_hvg=800 mode=seurat_v3\n",
      "2025-09-17 19:49:35 | X_counts: dense  (447, 51777) dtype=int64\n",
      "2025-09-17 19:49:48 | X_counts: zeros=66.23%, approx_int=True\n",
      "2025-09-17 19:49:48 | [time] [scVI] fold 1/3 start\n"
     ]
    },
    {
     "name": "stderr",
     "output_type": "stream",
     "text": [
      "/home/ma/ma_ma/ma_minjlee/.conda/envs/scvi/lib/python3.11/site-packages/legacy_api_wrap/__init__.py:82: UserWarning: `flavor='seurat_v3'` expects raw count data, but non-integers were found.\n",
      "  return fn(*args_all, **kw)\n"
     ]
    },
    {
     "name": "stdout",
     "output_type": "stream",
     "text": [
      "2025-09-17 19:50:15 | [scVI] fold 1 | HVG=800\n",
      "2025-09-17 19:50:15 | [scVI] fold 1 params={'batch_size': 512, 'dropout_rate': 0.1, 'lr': 0.0005, 'max_epochs': 250, 'n_hidden': 128, 'n_latent': 32, 'n_layers': 2, 'use_gpu': True, 'weight_decay': 1e-06}\n",
      "2025-09-17 19:50:15 | [scVI] fit hp={'n_latent': 32, 'n_hidden': 128, 'n_layers': 2, 'dropout_rate': 0.1, 'max_epochs': 250, 'lr': 0.0005, 'weight_decay': 1e-06, 'batch_size': 512, 'batch_key': 'BioProject', 'use_gpu': True}\n",
      "2025-09-17 19:50:15 | X_train: dense  (298, 800) dtype=int64\n",
      "2025-09-17 19:50:15 | [time] [scVI] train start\n"
     ]
    },
    {
     "name": "stderr",
     "output_type": "stream",
     "text": [
      "/home/ma/ma_ma/ma_minjlee/.conda/envs/scvi/lib/python3.11/site-packages/lightning/fabric/plugins/environments/slurm.py:204: The `srun` command is available on your system but is not used. HINT: If your intention is to run Lightning on SLURM, prepend your python command with `srun` like so: srun python /home/ma/ma_ma/ma_minjlee/.conda/envs/scvi/lib/pytho ...\n",
      "GPU available: False, used: False\n",
      "TPU available: False, using: 0 TPU cores\n",
      "HPU available: False, using: 0 HPUs\n",
      "/home/ma/ma_ma/ma_minjlee/.conda/envs/scvi/lib/python3.11/site-packages/lightning/fabric/plugins/environments/slurm.py:204: The `srun` command is available on your system but is not used. HINT: If your intention is to run Lightning on SLURM, prepend your python command with `srun` like so: srun python /home/ma/ma_ma/ma_minjlee/.conda/envs/scvi/lib/pytho ...\n",
      "/home/ma/ma_ma/ma_minjlee/.conda/envs/scvi/lib/python3.11/site-packages/lightning/pytorch/trainer/connectors/data_connector.py:433: The 'train_dataloader' does not have many workers which may be a bottleneck. Consider increasing the value of the `num_workers` argument` to `num_workers=191` in the `DataLoader` to improve performance.\n",
      "/home/ma/ma_ma/ma_minjlee/.conda/envs/scvi/lib/python3.11/site-packages/lightning/pytorch/loops/fit_loop.py:310: The number of training batches (1) is smaller than the logging interval Trainer(log_every_n_steps=10). Set a lower value for log_every_n_steps if you want to see logs for the training epoch.\n"
     ]
    },
    {
     "name": "stdout",
     "output_type": "stream",
     "text": [
      "Epoch 1/250:   0%|          | 0/250 [00:00<?, ?it/s]2025-09-17 19:50:16 | [time] [scVI] train end in 0.37s\n",
      "2025-09-17 19:50:16 | [scVI] predict_mean\n",
      "2025-09-17 19:50:16 | [time] [scVI] get_likelihood_parameters start\n",
      "\u001b[34mINFO    \u001b[0m Input AnnData not setup with scvi-tools. attempting to transfer AnnData setup                             \n",
      "2025-09-17 19:50:16 | [time] [scVI] get_likelihood_parameters end in 0.01s\n",
      "\u001b[34mINFO    \u001b[0m Input AnnData not setup with scvi-tools. attempting to transfer AnnData setup                             \n",
      "2025-09-17 19:50:16 | [scVI] predict_mean\n",
      "2025-09-17 19:50:16 | [time] [scVI] get_likelihood_parameters start\n",
      "\u001b[34mINFO    \u001b[0m Input AnnData not setup with scvi-tools. attempting to transfer AnnData setup                             \n",
      "2025-09-17 19:50:16 | [time] [scVI] get_likelihood_parameters end in 0.01s\n",
      "2025-09-17 19:50:16 | [scVI] predict_mean\n",
      "2025-09-17 19:50:16 | [time] [scVI] get_likelihood_parameters start\n",
      "\u001b[34mINFO    \u001b[0m Input AnnData not setup with scvi-tools. attempting to transfer AnnData setup                             \n",
      "2025-09-17 19:50:16 | [time] [scVI] get_likelihood_parameters end in 0.01s\n",
      "2025-09-17 19:50:16 | [time] [scVI] fold 1/3 end in 27.86s\n",
      "2025-09-17 19:50:16 | [time] [scVI] fold 2/3 start\n"
     ]
    },
    {
     "name": "stderr",
     "output_type": "stream",
     "text": [
      "/home/ma/ma_ma/ma_minjlee/.conda/envs/scvi/lib/python3.11/site-packages/legacy_api_wrap/__init__.py:82: UserWarning: `flavor='seurat_v3'` expects raw count data, but non-integers were found.\n",
      "  return fn(*args_all, **kw)\n"
     ]
    },
    {
     "name": "stdout",
     "output_type": "stream",
     "text": [
      "2025-09-17 19:50:47 | [scVI] fold 2 | HVG=800\n",
      "2025-09-17 19:50:47 | [scVI] fold 2 params={'batch_size': 512, 'dropout_rate': 0.1, 'lr': 0.0005, 'max_epochs': 250, 'n_hidden': 128, 'n_latent': 32, 'n_layers': 2, 'use_gpu': True, 'weight_decay': 1e-06}\n",
      "2025-09-17 19:50:47 | [scVI] fit hp={'n_latent': 32, 'n_hidden': 128, 'n_layers': 2, 'dropout_rate': 0.1, 'max_epochs': 250, 'lr': 0.0005, 'weight_decay': 1e-06, 'batch_size': 512, 'batch_key': 'BioProject', 'use_gpu': True}\n",
      "2025-09-17 19:50:47 | X_train: dense  (298, 800) dtype=int64\n",
      "2025-09-17 19:50:47 | [time] [scVI] train start\n"
     ]
    },
    {
     "name": "stderr",
     "output_type": "stream",
     "text": [
      "/home/ma/ma_ma/ma_minjlee/.conda/envs/scvi/lib/python3.11/site-packages/lightning/fabric/plugins/environments/slurm.py:204: The `srun` command is available on your system but is not used. HINT: If your intention is to run Lightning on SLURM, prepend your python command with `srun` like so: srun python /home/ma/ma_ma/ma_minjlee/.conda/envs/scvi/lib/pytho ...\n",
      "GPU available: False, used: False\n",
      "TPU available: False, using: 0 TPU cores\n",
      "HPU available: False, using: 0 HPUs\n",
      "/home/ma/ma_ma/ma_minjlee/.conda/envs/scvi/lib/python3.11/site-packages/lightning/fabric/plugins/environments/slurm.py:204: The `srun` command is available on your system but is not used. HINT: If your intention is to run Lightning on SLURM, prepend your python command with `srun` like so: srun python /home/ma/ma_ma/ma_minjlee/.conda/envs/scvi/lib/pytho ...\n",
      "/home/ma/ma_ma/ma_minjlee/.conda/envs/scvi/lib/python3.11/site-packages/lightning/pytorch/trainer/connectors/data_connector.py:433: The 'train_dataloader' does not have many workers which may be a bottleneck. Consider increasing the value of the `num_workers` argument` to `num_workers=191` in the `DataLoader` to improve performance.\n",
      "/home/ma/ma_ma/ma_minjlee/.conda/envs/scvi/lib/python3.11/site-packages/lightning/pytorch/loops/fit_loop.py:310: The number of training batches (1) is smaller than the logging interval Trainer(log_every_n_steps=10). Set a lower value for log_every_n_steps if you want to see logs for the training epoch.\n"
     ]
    },
    {
     "name": "stdout",
     "output_type": "stream",
     "text": [
      "Epoch 1/250:   0%|          | 0/250 [00:00<?, ?it/s]2025-09-17 19:50:47 | [time] [scVI] train end in 0.36s\n",
      "2025-09-17 19:50:47 | [scVI] predict_mean\n",
      "2025-09-17 19:50:47 | [time] [scVI] get_likelihood_parameters start\n",
      "\u001b[34mINFO    \u001b[0m Input AnnData not setup with scvi-tools. attempting to transfer AnnData setup                             \n",
      "2025-09-17 19:50:47 | [time] [scVI] get_likelihood_parameters end in 0.01s\n",
      "\u001b[34mINFO    \u001b[0m Input AnnData not setup with scvi-tools. attempting to transfer AnnData setup                             \n",
      "2025-09-17 19:50:47 | [scVI] predict_mean\n",
      "2025-09-17 19:50:47 | [time] [scVI] get_likelihood_parameters start\n",
      "\u001b[34mINFO    \u001b[0m Input AnnData not setup with scvi-tools. attempting to transfer AnnData setup                             \n",
      "2025-09-17 19:50:47 | [time] [scVI] get_likelihood_parameters end in 0.01s\n",
      "2025-09-17 19:50:47 | [scVI] predict_mean\n",
      "2025-09-17 19:50:47 | [time] [scVI] get_likelihood_parameters start\n",
      "\u001b[34mINFO    \u001b[0m Input AnnData not setup with scvi-tools. attempting to transfer AnnData setup                             \n",
      "2025-09-17 19:50:47 | [time] [scVI] get_likelihood_parameters end in 0.01s\n",
      "2025-09-17 19:50:47 | [time] [scVI] fold 2/3 end in 31.42s\n",
      "2025-09-17 19:50:47 | [time] [scVI] fold 3/3 start\n"
     ]
    },
    {
     "name": "stderr",
     "output_type": "stream",
     "text": [
      "/home/ma/ma_ma/ma_minjlee/.conda/envs/scvi/lib/python3.11/site-packages/legacy_api_wrap/__init__.py:82: UserWarning: `flavor='seurat_v3'` expects raw count data, but non-integers were found.\n",
      "  return fn(*args_all, **kw)\n"
     ]
    },
    {
     "name": "stdout",
     "output_type": "stream",
     "text": [
      "2025-09-17 19:51:09 | [scVI] fold 3 | HVG=800\n",
      "2025-09-17 19:51:09 | [scVI] fold 3 params={'batch_size': 512, 'dropout_rate': 0.1, 'lr': 0.0005, 'max_epochs': 250, 'n_hidden': 128, 'n_latent': 32, 'n_layers': 2, 'use_gpu': True, 'weight_decay': 1e-06}\n",
      "2025-09-17 19:51:09 | [scVI] fit hp={'n_latent': 32, 'n_hidden': 128, 'n_layers': 2, 'dropout_rate': 0.1, 'max_epochs': 250, 'lr': 0.0005, 'weight_decay': 1e-06, 'batch_size': 512, 'batch_key': 'BioProject', 'use_gpu': True}\n",
      "2025-09-17 19:51:09 | X_train: dense  (298, 800) dtype=int64\n",
      "2025-09-17 19:51:09 | [time] [scVI] train start\n"
     ]
    },
    {
     "name": "stderr",
     "output_type": "stream",
     "text": [
      "/home/ma/ma_ma/ma_minjlee/.conda/envs/scvi/lib/python3.11/site-packages/lightning/fabric/plugins/environments/slurm.py:204: The `srun` command is available on your system but is not used. HINT: If your intention is to run Lightning on SLURM, prepend your python command with `srun` like so: srun python /home/ma/ma_ma/ma_minjlee/.conda/envs/scvi/lib/pytho ...\n",
      "GPU available: False, used: False\n",
      "TPU available: False, using: 0 TPU cores\n",
      "HPU available: False, using: 0 HPUs\n",
      "/home/ma/ma_ma/ma_minjlee/.conda/envs/scvi/lib/python3.11/site-packages/lightning/fabric/plugins/environments/slurm.py:204: The `srun` command is available on your system but is not used. HINT: If your intention is to run Lightning on SLURM, prepend your python command with `srun` like so: srun python /home/ma/ma_ma/ma_minjlee/.conda/envs/scvi/lib/pytho ...\n",
      "/home/ma/ma_ma/ma_minjlee/.conda/envs/scvi/lib/python3.11/site-packages/lightning/pytorch/trainer/connectors/data_connector.py:433: The 'train_dataloader' does not have many workers which may be a bottleneck. Consider increasing the value of the `num_workers` argument` to `num_workers=191` in the `DataLoader` to improve performance.\n",
      "/home/ma/ma_ma/ma_minjlee/.conda/envs/scvi/lib/python3.11/site-packages/lightning/pytorch/loops/fit_loop.py:310: The number of training batches (1) is smaller than the logging interval Trainer(log_every_n_steps=10). Set a lower value for log_every_n_steps if you want to see logs for the training epoch.\n"
     ]
    },
    {
     "name": "stdout",
     "output_type": "stream",
     "text": [
      "Epoch 1/250:   0%|          | 0/250 [00:53<?, ?it/s]\n",
      "2025-09-17 19:51:09 | [time] [scVI] train end in 0.30s\n",
      "2025-09-17 19:51:09 | [scVI] predict_mean\n",
      "2025-09-17 19:51:09 | [time] [scVI] get_likelihood_parameters start\n",
      "\u001b[34mINFO    \u001b[0m Input AnnData not setup with scvi-tools. attempting to transfer AnnData setup                             \n",
      "2025-09-17 19:51:09 | [time] [scVI] get_likelihood_parameters end in 0.01s\n",
      "\u001b[34mINFO    \u001b[0m Input AnnData not setup with scvi-tools. attempting to transfer AnnData setup                             \n",
      "2025-09-17 19:51:09 | [scVI] predict_mean\n",
      "2025-09-17 19:51:09 | [time] [scVI] get_likelihood_parameters start\n",
      "\u001b[34mINFO    \u001b[0m Input AnnData not setup with scvi-tools. attempting to transfer AnnData setup                             \n",
      "2025-09-17 19:51:09 | [time] [scVI] get_likelihood_parameters end in 0.01s\n",
      "2025-09-17 19:51:09 | [scVI] predict_mean\n",
      "2025-09-17 19:51:09 | [time] [scVI] get_likelihood_parameters start\n",
      "\u001b[34mINFO    \u001b[0m Input AnnData not setup with scvi-tools. attempting to transfer AnnData setup                             \n",
      "2025-09-17 19:51:09 | [time] [scVI] get_likelihood_parameters end in 0.01s\n",
      "2025-09-17 19:51:09 | [time] [scVI] fold 3/3 end in 21.69s\n",
      "2025-09-17 19:51:09 | [cv_scvi_5fold] done\n"
     ]
    },
    {
     "name": "stderr",
     "output_type": "stream",
     "text": [
      "[I 2025-09-17 19:51:09,515] Trial 12 finished with value: -5.9013569024798525 and parameters: {'n_latent': 32, 'n_hidden': 128, 'n_layers': 2, 'dropout_rate': 0.1, 'max_epochs': 250, 'lr': 0.0005, 'weight_decay': 1e-06, 'batch_size': 512, 'n_hvg': 800}. Best is trial 10 with value: -5.785952276607384.\n"
     ]
    },
    {
     "name": "stdout",
     "output_type": "stream",
     "text": [
      "Epoch 1/250:   0%|          | 0/250 [00:22<?, ?it/s]\n",
      "Epoch 1/250:   0%|          | 0/250 [00:00<?, ?it/s]\n",
      "2025-09-17 19:51:09 | [cv_scvi_5fold] start k=3 n_hvg=800 mode=seurat_v3\n",
      "2025-09-17 19:51:09 | X_counts: dense  (447, 51777) dtype=int64\n",
      "2025-09-17 19:51:16 | X_counts: zeros=66.23%, approx_int=True\n",
      "2025-09-17 19:51:16 | [time] [scVI] fold 1/3 start\n"
     ]
    },
    {
     "name": "stderr",
     "output_type": "stream",
     "text": [
      "/home/ma/ma_ma/ma_minjlee/.conda/envs/scvi/lib/python3.11/site-packages/legacy_api_wrap/__init__.py:82: UserWarning: `flavor='seurat_v3'` expects raw count data, but non-integers were found.\n",
      "  return fn(*args_all, **kw)\n"
     ]
    },
    {
     "name": "stdout",
     "output_type": "stream",
     "text": [
      "2025-09-17 19:51:22 | [scVI] fold 1 | HVG=800\n",
      "2025-09-17 19:51:22 | [scVI] fold 1 params={'batch_size': 512, 'dropout_rate': 0.1, 'lr': 0.0005, 'max_epochs': 250, 'n_hidden': 128, 'n_latent': 32, 'n_layers': 2, 'use_gpu': True, 'weight_decay': 1e-06}\n",
      "2025-09-17 19:51:22 | [scVI] fit hp={'n_latent': 32, 'n_hidden': 128, 'n_layers': 2, 'dropout_rate': 0.1, 'max_epochs': 250, 'lr': 0.0005, 'weight_decay': 1e-06, 'batch_size': 512, 'batch_key': 'BioProject', 'use_gpu': True}\n",
      "2025-09-17 19:51:22 | X_train: dense  (298, 800) dtype=int64\n",
      "2025-09-17 19:51:22 | [time] [scVI] train start\n"
     ]
    },
    {
     "name": "stderr",
     "output_type": "stream",
     "text": [
      "/home/ma/ma_ma/ma_minjlee/.conda/envs/scvi/lib/python3.11/site-packages/lightning/fabric/plugins/environments/slurm.py:204: The `srun` command is available on your system but is not used. HINT: If your intention is to run Lightning on SLURM, prepend your python command with `srun` like so: srun python /home/ma/ma_ma/ma_minjlee/.conda/envs/scvi/lib/pytho ...\n",
      "GPU available: False, used: False\n",
      "TPU available: False, using: 0 TPU cores\n",
      "HPU available: False, using: 0 HPUs\n",
      "/home/ma/ma_ma/ma_minjlee/.conda/envs/scvi/lib/python3.11/site-packages/lightning/fabric/plugins/environments/slurm.py:204: The `srun` command is available on your system but is not used. HINT: If your intention is to run Lightning on SLURM, prepend your python command with `srun` like so: srun python /home/ma/ma_ma/ma_minjlee/.conda/envs/scvi/lib/pytho ...\n",
      "/home/ma/ma_ma/ma_minjlee/.conda/envs/scvi/lib/python3.11/site-packages/lightning/pytorch/trainer/connectors/data_connector.py:433: The 'train_dataloader' does not have many workers which may be a bottleneck. Consider increasing the value of the `num_workers` argument` to `num_workers=191` in the `DataLoader` to improve performance.\n",
      "/home/ma/ma_ma/ma_minjlee/.conda/envs/scvi/lib/python3.11/site-packages/lightning/pytorch/loops/fit_loop.py:310: The number of training batches (1) is smaller than the logging interval Trainer(log_every_n_steps=10). Set a lower value for log_every_n_steps if you want to see logs for the training epoch.\n"
     ]
    },
    {
     "name": "stdout",
     "output_type": "stream",
     "text": [
      "Epoch 1/250:   0%|          | 0/250 [00:00<?, ?it/s]2025-09-17 19:51:23 | [time] [scVI] train end in 0.29s\n",
      "2025-09-17 19:51:23 | [scVI] predict_mean\n",
      "2025-09-17 19:51:23 | [time] [scVI] get_likelihood_parameters start\n",
      "\u001b[34mINFO    \u001b[0m Input AnnData not setup with scvi-tools. attempting to transfer AnnData setup                             \n",
      "2025-09-17 19:51:23 | [time] [scVI] get_likelihood_parameters end in 0.01s\n",
      "\u001b[34mINFO    \u001b[0m Input AnnData not setup with scvi-tools. attempting to transfer AnnData setup                             \n",
      "2025-09-17 19:51:23 | [scVI] predict_mean\n",
      "2025-09-17 19:51:23 | [time] [scVI] get_likelihood_parameters start\n",
      "\u001b[34mINFO    \u001b[0m Input AnnData not setup with scvi-tools. attempting to transfer AnnData setup                             \n",
      "2025-09-17 19:51:23 | [time] [scVI] get_likelihood_parameters end in 0.01s\n",
      "2025-09-17 19:51:23 | [scVI] predict_mean\n",
      "2025-09-17 19:51:23 | [time] [scVI] get_likelihood_parameters start\n",
      "\u001b[34mINFO    \u001b[0m Input AnnData not setup with scvi-tools. attempting to transfer AnnData setup                             \n",
      "2025-09-17 19:51:23 | [time] [scVI] get_likelihood_parameters end in 0.01s\n",
      "2025-09-17 19:51:23 | [time] [scVI] fold 1/3 end in 7.10s\n",
      "2025-09-17 19:51:23 | [time] [scVI] fold 2/3 start\n"
     ]
    },
    {
     "name": "stderr",
     "output_type": "stream",
     "text": [
      "/home/ma/ma_ma/ma_minjlee/.conda/envs/scvi/lib/python3.11/site-packages/legacy_api_wrap/__init__.py:82: UserWarning: `flavor='seurat_v3'` expects raw count data, but non-integers were found.\n",
      "  return fn(*args_all, **kw)\n"
     ]
    },
    {
     "name": "stdout",
     "output_type": "stream",
     "text": [
      "2025-09-17 19:51:27 | [scVI] fold 2 | HVG=800\n",
      "2025-09-17 19:51:27 | [scVI] fold 2 params={'batch_size': 512, 'dropout_rate': 0.1, 'lr': 0.0005, 'max_epochs': 250, 'n_hidden': 128, 'n_latent': 32, 'n_layers': 2, 'use_gpu': True, 'weight_decay': 1e-06}\n",
      "2025-09-17 19:51:27 | [scVI] fit hp={'n_latent': 32, 'n_hidden': 128, 'n_layers': 2, 'dropout_rate': 0.1, 'max_epochs': 250, 'lr': 0.0005, 'weight_decay': 1e-06, 'batch_size': 512, 'batch_key': 'BioProject', 'use_gpu': True}\n",
      "2025-09-17 19:51:27 | X_train: dense  (298, 800) dtype=int64\n",
      "2025-09-17 19:51:27 | [time] [scVI] train start\n"
     ]
    },
    {
     "name": "stderr",
     "output_type": "stream",
     "text": [
      "/home/ma/ma_ma/ma_minjlee/.conda/envs/scvi/lib/python3.11/site-packages/lightning/fabric/plugins/environments/slurm.py:204: The `srun` command is available on your system but is not used. HINT: If your intention is to run Lightning on SLURM, prepend your python command with `srun` like so: srun python /home/ma/ma_ma/ma_minjlee/.conda/envs/scvi/lib/pytho ...\n",
      "GPU available: False, used: False\n",
      "TPU available: False, using: 0 TPU cores\n",
      "HPU available: False, using: 0 HPUs\n",
      "/home/ma/ma_ma/ma_minjlee/.conda/envs/scvi/lib/python3.11/site-packages/lightning/fabric/plugins/environments/slurm.py:204: The `srun` command is available on your system but is not used. HINT: If your intention is to run Lightning on SLURM, prepend your python command with `srun` like so: srun python /home/ma/ma_ma/ma_minjlee/.conda/envs/scvi/lib/pytho ...\n",
      "/home/ma/ma_ma/ma_minjlee/.conda/envs/scvi/lib/python3.11/site-packages/lightning/pytorch/trainer/connectors/data_connector.py:433: The 'train_dataloader' does not have many workers which may be a bottleneck. Consider increasing the value of the `num_workers` argument` to `num_workers=191` in the `DataLoader` to improve performance.\n",
      "/home/ma/ma_ma/ma_minjlee/.conda/envs/scvi/lib/python3.11/site-packages/lightning/pytorch/loops/fit_loop.py:310: The number of training batches (1) is smaller than the logging interval Trainer(log_every_n_steps=10). Set a lower value for log_every_n_steps if you want to see logs for the training epoch.\n"
     ]
    },
    {
     "name": "stdout",
     "output_type": "stream",
     "text": [
      "Epoch 1/250:   0%|          | 0/250 [00:00<?, ?it/s]2025-09-17 19:51:27 | [time] [scVI] train end in 0.29s\n",
      "2025-09-17 19:51:27 | [scVI] predict_mean\n",
      "2025-09-17 19:51:27 | [time] [scVI] get_likelihood_parameters start\n",
      "\u001b[34mINFO    \u001b[0m Input AnnData not setup with scvi-tools. attempting to transfer AnnData setup                             \n",
      "2025-09-17 19:51:27 | [time] [scVI] get_likelihood_parameters end in 0.01s\n",
      "\u001b[34mINFO    \u001b[0m Input AnnData not setup with scvi-tools. attempting to transfer AnnData setup                             \n",
      "2025-09-17 19:51:27 | [scVI] predict_mean\n",
      "2025-09-17 19:51:27 | [time] [scVI] get_likelihood_parameters start\n",
      "\u001b[34mINFO    \u001b[0m Input AnnData not setup with scvi-tools. attempting to transfer AnnData setup                             \n",
      "2025-09-17 19:51:27 | [time] [scVI] get_likelihood_parameters end in 0.01s\n",
      "2025-09-17 19:51:27 | [scVI] predict_mean\n",
      "2025-09-17 19:51:27 | [time] [scVI] get_likelihood_parameters start\n",
      "\u001b[34mINFO    \u001b[0m Input AnnData not setup with scvi-tools. attempting to transfer AnnData setup                             \n",
      "2025-09-17 19:51:27 | [time] [scVI] get_likelihood_parameters end in 0.01s\n",
      "2025-09-17 19:51:27 | [time] [scVI] fold 2/3 end in 4.37s\n",
      "2025-09-17 19:51:27 | [time] [scVI] fold 3/3 start\n"
     ]
    },
    {
     "name": "stderr",
     "output_type": "stream",
     "text": [
      "/home/ma/ma_ma/ma_minjlee/.conda/envs/scvi/lib/python3.11/site-packages/legacy_api_wrap/__init__.py:82: UserWarning: `flavor='seurat_v3'` expects raw count data, but non-integers were found.\n",
      "  return fn(*args_all, **kw)\n"
     ]
    },
    {
     "name": "stdout",
     "output_type": "stream",
     "text": [
      "2025-09-17 19:51:32 | [scVI] fold 3 | HVG=800\n",
      "2025-09-17 19:51:32 | [scVI] fold 3 params={'batch_size': 512, 'dropout_rate': 0.1, 'lr': 0.0005, 'max_epochs': 250, 'n_hidden': 128, 'n_latent': 32, 'n_layers': 2, 'use_gpu': True, 'weight_decay': 1e-06}\n",
      "2025-09-17 19:51:32 | [scVI] fit hp={'n_latent': 32, 'n_hidden': 128, 'n_layers': 2, 'dropout_rate': 0.1, 'max_epochs': 250, 'lr': 0.0005, 'weight_decay': 1e-06, 'batch_size': 512, 'batch_key': 'BioProject', 'use_gpu': True}\n",
      "2025-09-17 19:51:32 | X_train: dense  (298, 800) dtype=int64\n",
      "2025-09-17 19:51:32 | [time] [scVI] train start\n"
     ]
    },
    {
     "name": "stderr",
     "output_type": "stream",
     "text": [
      "/home/ma/ma_ma/ma_minjlee/.conda/envs/scvi/lib/python3.11/site-packages/lightning/fabric/plugins/environments/slurm.py:204: The `srun` command is available on your system but is not used. HINT: If your intention is to run Lightning on SLURM, prepend your python command with `srun` like so: srun python /home/ma/ma_ma/ma_minjlee/.conda/envs/scvi/lib/pytho ...\n",
      "GPU available: False, used: False\n",
      "TPU available: False, using: 0 TPU cores\n",
      "HPU available: False, using: 0 HPUs\n",
      "/home/ma/ma_ma/ma_minjlee/.conda/envs/scvi/lib/python3.11/site-packages/lightning/fabric/plugins/environments/slurm.py:204: The `srun` command is available on your system but is not used. HINT: If your intention is to run Lightning on SLURM, prepend your python command with `srun` like so: srun python /home/ma/ma_ma/ma_minjlee/.conda/envs/scvi/lib/pytho ...\n",
      "/home/ma/ma_ma/ma_minjlee/.conda/envs/scvi/lib/python3.11/site-packages/lightning/pytorch/trainer/connectors/data_connector.py:433: The 'train_dataloader' does not have many workers which may be a bottleneck. Consider increasing the value of the `num_workers` argument` to `num_workers=191` in the `DataLoader` to improve performance.\n",
      "/home/ma/ma_ma/ma_minjlee/.conda/envs/scvi/lib/python3.11/site-packages/lightning/pytorch/loops/fit_loop.py:310: The number of training batches (1) is smaller than the logging interval Trainer(log_every_n_steps=10). Set a lower value for log_every_n_steps if you want to see logs for the training epoch.\n"
     ]
    },
    {
     "name": "stdout",
     "output_type": "stream",
     "text": [
      "Epoch 1/250:   0%|          | 0/250 [00:09<?, ?it/s]\n",
      "2025-09-17 19:51:32 | [time] [scVI] train end in 0.33s\n",
      "2025-09-17 19:51:32 | [scVI] predict_mean\n",
      "2025-09-17 19:51:32 | [time] [scVI] get_likelihood_parameters start\n",
      "\u001b[34mINFO    \u001b[0m Input AnnData not setup with scvi-tools. attempting to transfer AnnData setup                             \n",
      "2025-09-17 19:51:32 | [time] [scVI] get_likelihood_parameters end in 0.01s\n",
      "\u001b[34mINFO    \u001b[0m Input AnnData not setup with scvi-tools. attempting to transfer AnnData setup                             \n",
      "2025-09-17 19:51:32 | [scVI] predict_mean\n",
      "2025-09-17 19:51:32 | [time] [scVI] get_likelihood_parameters start\n",
      "\u001b[34mINFO    \u001b[0m Input AnnData not setup with scvi-tools. attempting to transfer AnnData setup                             \n",
      "2025-09-17 19:51:32 | [time] [scVI] get_likelihood_parameters end in 0.01s\n",
      "2025-09-17 19:51:32 | [scVI] predict_mean\n",
      "2025-09-17 19:51:32 | [time] [scVI] get_likelihood_parameters start\n",
      "\u001b[34mINFO    \u001b[0m Input AnnData not setup with scvi-tools. attempting to transfer AnnData setup                             \n",
      "2025-09-17 19:51:32 | [time] [scVI] get_likelihood_parameters end in 0.01s\n",
      "2025-09-17 19:51:32 | [time] [scVI] fold 3/3 end in 5.19s\n",
      "2025-09-17 19:51:32 | [cv_scvi_5fold] done\n"
     ]
    },
    {
     "name": "stderr",
     "output_type": "stream",
     "text": [
      "[I 2025-09-17 19:51:32,858] Trial 13 finished with value: -5.782448406101967 and parameters: {'n_latent': 32, 'n_hidden': 128, 'n_layers': 2, 'dropout_rate': 0.1, 'max_epochs': 250, 'lr': 0.0005, 'weight_decay': 1e-06, 'batch_size': 512, 'n_hvg': 800}. Best is trial 13 with value: -5.782448406101967.\n"
     ]
    },
    {
     "name": "stdout",
     "output_type": "stream",
     "text": [
      "Epoch 1/250:   0%|          | 0/250 [00:05<?, ?it/s]\n",
      "Epoch 1/250:   0%|          | 0/250 [00:00<?, ?it/s]\n",
      "2025-09-17 19:51:33 | [cv_scvi_5fold] start k=3 n_hvg=800 mode=seurat_v3\n",
      "2025-09-17 19:51:33 | X_counts: dense  (447, 51777) dtype=int64\n",
      "2025-09-17 19:51:35 | X_counts: zeros=66.23%, approx_int=True\n",
      "2025-09-17 19:51:35 | [time] [scVI] fold 1/3 start\n"
     ]
    },
    {
     "name": "stderr",
     "output_type": "stream",
     "text": [
      "/home/ma/ma_ma/ma_minjlee/.conda/envs/scvi/lib/python3.11/site-packages/legacy_api_wrap/__init__.py:82: UserWarning: `flavor='seurat_v3'` expects raw count data, but non-integers were found.\n",
      "  return fn(*args_all, **kw)\n"
     ]
    },
    {
     "name": "stdout",
     "output_type": "stream",
     "text": [
      "2025-09-17 19:51:39 | [scVI] fold 1 | HVG=800\n",
      "2025-09-17 19:51:39 | [scVI] fold 1 params={'batch_size': 512, 'dropout_rate': 0.1, 'lr': 0.0005, 'max_epochs': 250, 'n_hidden': 128, 'n_latent': 32, 'n_layers': 2, 'use_gpu': True, 'weight_decay': 1e-06}\n",
      "2025-09-17 19:51:39 | [scVI] fit hp={'n_latent': 32, 'n_hidden': 128, 'n_layers': 2, 'dropout_rate': 0.1, 'max_epochs': 250, 'lr': 0.0005, 'weight_decay': 1e-06, 'batch_size': 512, 'batch_key': 'BioProject', 'use_gpu': True}\n",
      "2025-09-17 19:51:39 | X_train: dense  (298, 800) dtype=int64\n",
      "2025-09-17 19:51:39 | [time] [scVI] train start\n"
     ]
    },
    {
     "name": "stderr",
     "output_type": "stream",
     "text": [
      "/home/ma/ma_ma/ma_minjlee/.conda/envs/scvi/lib/python3.11/site-packages/lightning/fabric/plugins/environments/slurm.py:204: The `srun` command is available on your system but is not used. HINT: If your intention is to run Lightning on SLURM, prepend your python command with `srun` like so: srun python /home/ma/ma_ma/ma_minjlee/.conda/envs/scvi/lib/pytho ...\n",
      "GPU available: False, used: False\n",
      "TPU available: False, using: 0 TPU cores\n",
      "HPU available: False, using: 0 HPUs\n",
      "/home/ma/ma_ma/ma_minjlee/.conda/envs/scvi/lib/python3.11/site-packages/lightning/fabric/plugins/environments/slurm.py:204: The `srun` command is available on your system but is not used. HINT: If your intention is to run Lightning on SLURM, prepend your python command with `srun` like so: srun python /home/ma/ma_ma/ma_minjlee/.conda/envs/scvi/lib/pytho ...\n",
      "/home/ma/ma_ma/ma_minjlee/.conda/envs/scvi/lib/python3.11/site-packages/lightning/pytorch/trainer/connectors/data_connector.py:433: The 'train_dataloader' does not have many workers which may be a bottleneck. Consider increasing the value of the `num_workers` argument` to `num_workers=191` in the `DataLoader` to improve performance.\n",
      "/home/ma/ma_ma/ma_minjlee/.conda/envs/scvi/lib/python3.11/site-packages/lightning/pytorch/loops/fit_loop.py:310: The number of training batches (1) is smaller than the logging interval Trainer(log_every_n_steps=10). Set a lower value for log_every_n_steps if you want to see logs for the training epoch.\n"
     ]
    },
    {
     "name": "stdout",
     "output_type": "stream",
     "text": [
      "Epoch 1/250:   0%|          | 0/250 [00:00<?, ?it/s]2025-09-17 19:51:39 | [time] [scVI] train end in 0.30s\n",
      "2025-09-17 19:51:39 | [scVI] predict_mean\n",
      "2025-09-17 19:51:39 | [time] [scVI] get_likelihood_parameters start\n",
      "\u001b[34mINFO    \u001b[0m Input AnnData not setup with scvi-tools. attempting to transfer AnnData setup                             \n",
      "2025-09-17 19:51:39 | [time] [scVI] get_likelihood_parameters end in 0.01s\n",
      "\u001b[34mINFO    \u001b[0m Input AnnData not setup with scvi-tools. attempting to transfer AnnData setup                             \n",
      "2025-09-17 19:51:39 | [scVI] predict_mean\n",
      "2025-09-17 19:51:39 | [time] [scVI] get_likelihood_parameters start\n",
      "\u001b[34mINFO    \u001b[0m Input AnnData not setup with scvi-tools. attempting to transfer AnnData setup                             \n",
      "2025-09-17 19:51:39 | [time] [scVI] get_likelihood_parameters end in 0.01s\n",
      "2025-09-17 19:51:39 | [scVI] predict_mean\n",
      "2025-09-17 19:51:39 | [time] [scVI] get_likelihood_parameters start\n",
      "\u001b[34mINFO    \u001b[0m Input AnnData not setup with scvi-tools. attempting to transfer AnnData setup                             \n",
      "2025-09-17 19:51:39 | [time] [scVI] get_likelihood_parameters end in 0.01s\n",
      "2025-09-17 19:51:39 | [time] [scVI] fold 1/3 end in 4.23s\n",
      "2025-09-17 19:51:39 | [time] [scVI] fold 2/3 start\n"
     ]
    },
    {
     "name": "stderr",
     "output_type": "stream",
     "text": [
      "/home/ma/ma_ma/ma_minjlee/.conda/envs/scvi/lib/python3.11/site-packages/legacy_api_wrap/__init__.py:82: UserWarning: `flavor='seurat_v3'` expects raw count data, but non-integers were found.\n",
      "  return fn(*args_all, **kw)\n"
     ]
    },
    {
     "name": "stdout",
     "output_type": "stream",
     "text": [
      "2025-09-17 19:51:42 | [scVI] fold 2 | HVG=800\n",
      "2025-09-17 19:51:42 | [scVI] fold 2 params={'batch_size': 512, 'dropout_rate': 0.1, 'lr': 0.0005, 'max_epochs': 250, 'n_hidden': 128, 'n_latent': 32, 'n_layers': 2, 'use_gpu': True, 'weight_decay': 1e-06}\n",
      "2025-09-17 19:51:42 | [scVI] fit hp={'n_latent': 32, 'n_hidden': 128, 'n_layers': 2, 'dropout_rate': 0.1, 'max_epochs': 250, 'lr': 0.0005, 'weight_decay': 1e-06, 'batch_size': 512, 'batch_key': 'BioProject', 'use_gpu': True}\n",
      "2025-09-17 19:51:42 | X_train: dense  (298, 800) dtype=int64\n",
      "2025-09-17 19:51:42 | [time] [scVI] train start\n"
     ]
    },
    {
     "name": "stderr",
     "output_type": "stream",
     "text": [
      "/home/ma/ma_ma/ma_minjlee/.conda/envs/scvi/lib/python3.11/site-packages/lightning/fabric/plugins/environments/slurm.py:204: The `srun` command is available on your system but is not used. HINT: If your intention is to run Lightning on SLURM, prepend your python command with `srun` like so: srun python /home/ma/ma_ma/ma_minjlee/.conda/envs/scvi/lib/pytho ...\n",
      "GPU available: False, used: False\n",
      "TPU available: False, using: 0 TPU cores\n",
      "HPU available: False, using: 0 HPUs\n",
      "/home/ma/ma_ma/ma_minjlee/.conda/envs/scvi/lib/python3.11/site-packages/lightning/fabric/plugins/environments/slurm.py:204: The `srun` command is available on your system but is not used. HINT: If your intention is to run Lightning on SLURM, prepend your python command with `srun` like so: srun python /home/ma/ma_ma/ma_minjlee/.conda/envs/scvi/lib/pytho ...\n",
      "/home/ma/ma_ma/ma_minjlee/.conda/envs/scvi/lib/python3.11/site-packages/lightning/pytorch/trainer/connectors/data_connector.py:433: The 'train_dataloader' does not have many workers which may be a bottleneck. Consider increasing the value of the `num_workers` argument` to `num_workers=191` in the `DataLoader` to improve performance.\n",
      "/home/ma/ma_ma/ma_minjlee/.conda/envs/scvi/lib/python3.11/site-packages/lightning/pytorch/loops/fit_loop.py:310: The number of training batches (1) is smaller than the logging interval Trainer(log_every_n_steps=10). Set a lower value for log_every_n_steps if you want to see logs for the training epoch.\n"
     ]
    },
    {
     "name": "stdout",
     "output_type": "stream",
     "text": [
      "Epoch 1/250:   0%|          | 0/250 [00:00<?, ?it/s]2025-09-17 19:51:43 | [time] [scVI] train end in 0.30s\n",
      "2025-09-17 19:51:43 | [scVI] predict_mean\n",
      "2025-09-17 19:51:43 | [time] [scVI] get_likelihood_parameters start\n",
      "\u001b[34mINFO    \u001b[0m Input AnnData not setup with scvi-tools. attempting to transfer AnnData setup                             \n",
      "2025-09-17 19:51:43 | [time] [scVI] get_likelihood_parameters end in 0.01s\n",
      "\u001b[34mINFO    \u001b[0m Input AnnData not setup with scvi-tools. attempting to transfer AnnData setup                             \n",
      "2025-09-17 19:51:43 | [scVI] predict_mean\n",
      "2025-09-17 19:51:43 | [time] [scVI] get_likelihood_parameters start\n",
      "\u001b[34mINFO    \u001b[0m Input AnnData not setup with scvi-tools. attempting to transfer AnnData setup                             \n",
      "2025-09-17 19:51:43 | [time] [scVI] get_likelihood_parameters end in 0.01s\n",
      "2025-09-17 19:51:43 | [scVI] predict_mean\n",
      "2025-09-17 19:51:43 | [time] [scVI] get_likelihood_parameters start\n",
      "\u001b[34mINFO    \u001b[0m Input AnnData not setup with scvi-tools. attempting to transfer AnnData setup                             \n",
      "2025-09-17 19:51:43 | [time] [scVI] get_likelihood_parameters end in 0.01s\n",
      "2025-09-17 19:51:43 | [time] [scVI] fold 2/3 end in 3.43s\n",
      "2025-09-17 19:51:43 | [time] [scVI] fold 3/3 start\n"
     ]
    },
    {
     "name": "stderr",
     "output_type": "stream",
     "text": [
      "/home/ma/ma_ma/ma_minjlee/.conda/envs/scvi/lib/python3.11/site-packages/legacy_api_wrap/__init__.py:82: UserWarning: `flavor='seurat_v3'` expects raw count data, but non-integers were found.\n",
      "  return fn(*args_all, **kw)\n"
     ]
    },
    {
     "name": "stdout",
     "output_type": "stream",
     "text": [
      "2025-09-17 19:52:05 | [scVI] fold 3 | HVG=800\n",
      "2025-09-17 19:52:05 | [scVI] fold 3 params={'batch_size': 512, 'dropout_rate': 0.1, 'lr': 0.0005, 'max_epochs': 250, 'n_hidden': 128, 'n_latent': 32, 'n_layers': 2, 'use_gpu': True, 'weight_decay': 1e-06}\n",
      "2025-09-17 19:52:05 | [scVI] fit hp={'n_latent': 32, 'n_hidden': 128, 'n_layers': 2, 'dropout_rate': 0.1, 'max_epochs': 250, 'lr': 0.0005, 'weight_decay': 1e-06, 'batch_size': 512, 'batch_key': 'BioProject', 'use_gpu': True}\n",
      "2025-09-17 19:52:05 | X_train: dense  (298, 800) dtype=int64\n",
      "2025-09-17 19:52:05 | [time] [scVI] train start\n"
     ]
    },
    {
     "name": "stderr",
     "output_type": "stream",
     "text": [
      "/home/ma/ma_ma/ma_minjlee/.conda/envs/scvi/lib/python3.11/site-packages/lightning/fabric/plugins/environments/slurm.py:204: The `srun` command is available on your system but is not used. HINT: If your intention is to run Lightning on SLURM, prepend your python command with `srun` like so: srun python /home/ma/ma_ma/ma_minjlee/.conda/envs/scvi/lib/pytho ...\n",
      "GPU available: False, used: False\n",
      "TPU available: False, using: 0 TPU cores\n",
      "HPU available: False, using: 0 HPUs\n",
      "/home/ma/ma_ma/ma_minjlee/.conda/envs/scvi/lib/python3.11/site-packages/lightning/fabric/plugins/environments/slurm.py:204: The `srun` command is available on your system but is not used. HINT: If your intention is to run Lightning on SLURM, prepend your python command with `srun` like so: srun python /home/ma/ma_ma/ma_minjlee/.conda/envs/scvi/lib/pytho ...\n",
      "/home/ma/ma_ma/ma_minjlee/.conda/envs/scvi/lib/python3.11/site-packages/lightning/pytorch/trainer/connectors/data_connector.py:433: The 'train_dataloader' does not have many workers which may be a bottleneck. Consider increasing the value of the `num_workers` argument` to `num_workers=191` in the `DataLoader` to improve performance.\n",
      "/home/ma/ma_ma/ma_minjlee/.conda/envs/scvi/lib/python3.11/site-packages/lightning/pytorch/loops/fit_loop.py:310: The number of training batches (1) is smaller than the logging interval Trainer(log_every_n_steps=10). Set a lower value for log_every_n_steps if you want to see logs for the training epoch.\n"
     ]
    },
    {
     "name": "stdout",
     "output_type": "stream",
     "text": [
      "Epoch 1/250:   0%|          | 0/250 [00:25<?, ?it/s]\n",
      "2025-09-17 19:52:05 | [time] [scVI] train end in 0.30s\n",
      "2025-09-17 19:52:05 | [scVI] predict_mean\n",
      "2025-09-17 19:52:05 | [time] [scVI] get_likelihood_parameters start\n",
      "\u001b[34mINFO    \u001b[0m Input AnnData not setup with scvi-tools. attempting to transfer AnnData setup                             \n",
      "2025-09-17 19:52:05 | [time] [scVI] get_likelihood_parameters end in 0.01s\n",
      "\u001b[34mINFO    \u001b[0m Input AnnData not setup with scvi-tools. attempting to transfer AnnData setup                             \n",
      "2025-09-17 19:52:05 | [scVI] predict_mean\n",
      "2025-09-17 19:52:05 | [time] [scVI] get_likelihood_parameters start\n",
      "\u001b[34mINFO    \u001b[0m Input AnnData not setup with scvi-tools. attempting to transfer AnnData setup                             \n",
      "2025-09-17 19:52:05 | [time] [scVI] get_likelihood_parameters end in 0.01s\n",
      "2025-09-17 19:52:05 | [scVI] predict_mean\n",
      "2025-09-17 19:52:05 | [time] [scVI] get_likelihood_parameters start\n",
      "\u001b[34mINFO    \u001b[0m Input AnnData not setup with scvi-tools. attempting to transfer AnnData setup                             \n",
      "2025-09-17 19:52:05 | [time] [scVI] get_likelihood_parameters end in 0.01s\n",
      "2025-09-17 19:52:05 | [time] [scVI] fold 3/3 end in 22.23s\n",
      "2025-09-17 19:52:05 | [cv_scvi_5fold] done\n"
     ]
    },
    {
     "name": "stderr",
     "output_type": "stream",
     "text": [
      "[I 2025-09-17 19:52:05,531] Trial 14 finished with value: -5.869974579332992 and parameters: {'n_latent': 32, 'n_hidden': 128, 'n_layers': 2, 'dropout_rate': 0.1, 'max_epochs': 250, 'lr': 0.0005, 'weight_decay': 1e-06, 'batch_size': 512, 'n_hvg': 800}. Best is trial 13 with value: -5.782448406101967.\n"
     ]
    },
    {
     "name": "stdout",
     "output_type": "stream",
     "text": [
      "Epoch 1/250:   0%|          | 0/250 [00:22<?, ?it/s]\n",
      "Epoch 1/250:   0%|          | 0/250 [00:00<?, ?it/s]\n",
      "2025-09-17 19:52:05 | [cv_scvi_5fold] start k=3 n_hvg=800 mode=seurat_v3\n",
      "2025-09-17 19:52:05 | X_counts: dense  (447, 51777) dtype=int64\n",
      "2025-09-17 19:52:13 | X_counts: zeros=66.23%, approx_int=True\n",
      "2025-09-17 19:52:13 | [time] [scVI] fold 1/3 start\n"
     ]
    },
    {
     "name": "stderr",
     "output_type": "stream",
     "text": [
      "/home/ma/ma_ma/ma_minjlee/.conda/envs/scvi/lib/python3.11/site-packages/legacy_api_wrap/__init__.py:82: UserWarning: `flavor='seurat_v3'` expects raw count data, but non-integers were found.\n",
      "  return fn(*args_all, **kw)\n"
     ]
    },
    {
     "name": "stdout",
     "output_type": "stream",
     "text": [
      "2025-09-17 19:52:28 | [scVI] fold 1 | HVG=800\n",
      "2025-09-17 19:52:28 | [scVI] fold 1 params={'batch_size': 512, 'dropout_rate': 0.1, 'lr': 0.0005, 'max_epochs': 250, 'n_hidden': 128, 'n_latent': 32, 'n_layers': 2, 'use_gpu': True, 'weight_decay': 1e-06}\n",
      "2025-09-17 19:52:28 | [scVI] fit hp={'n_latent': 32, 'n_hidden': 128, 'n_layers': 2, 'dropout_rate': 0.1, 'max_epochs': 250, 'lr': 0.0005, 'weight_decay': 1e-06, 'batch_size': 512, 'batch_key': 'BioProject', 'use_gpu': True}\n",
      "2025-09-17 19:52:28 | X_train: dense  (298, 800) dtype=int64\n",
      "2025-09-17 19:52:28 | [time] [scVI] train start\n"
     ]
    },
    {
     "name": "stderr",
     "output_type": "stream",
     "text": [
      "/home/ma/ma_ma/ma_minjlee/.conda/envs/scvi/lib/python3.11/site-packages/lightning/fabric/plugins/environments/slurm.py:204: The `srun` command is available on your system but is not used. HINT: If your intention is to run Lightning on SLURM, prepend your python command with `srun` like so: srun python /home/ma/ma_ma/ma_minjlee/.conda/envs/scvi/lib/pytho ...\n",
      "GPU available: False, used: False\n",
      "TPU available: False, using: 0 TPU cores\n",
      "HPU available: False, using: 0 HPUs\n",
      "/home/ma/ma_ma/ma_minjlee/.conda/envs/scvi/lib/python3.11/site-packages/lightning/fabric/plugins/environments/slurm.py:204: The `srun` command is available on your system but is not used. HINT: If your intention is to run Lightning on SLURM, prepend your python command with `srun` like so: srun python /home/ma/ma_ma/ma_minjlee/.conda/envs/scvi/lib/pytho ...\n",
      "/home/ma/ma_ma/ma_minjlee/.conda/envs/scvi/lib/python3.11/site-packages/lightning/pytorch/trainer/connectors/data_connector.py:433: The 'train_dataloader' does not have many workers which may be a bottleneck. Consider increasing the value of the `num_workers` argument` to `num_workers=191` in the `DataLoader` to improve performance.\n",
      "/home/ma/ma_ma/ma_minjlee/.conda/envs/scvi/lib/python3.11/site-packages/lightning/pytorch/loops/fit_loop.py:310: The number of training batches (1) is smaller than the logging interval Trainer(log_every_n_steps=10). Set a lower value for log_every_n_steps if you want to see logs for the training epoch.\n"
     ]
    },
    {
     "name": "stdout",
     "output_type": "stream",
     "text": [
      "Epoch 1/250:   0%|          | 0/250 [00:00<?, ?it/s]2025-09-17 19:52:28 | [time] [scVI] train end in 0.35s\n",
      "2025-09-17 19:52:28 | [scVI] predict_mean\n",
      "2025-09-17 19:52:28 | [time] [scVI] get_likelihood_parameters start\n",
      "\u001b[34mINFO    \u001b[0m Input AnnData not setup with scvi-tools. attempting to transfer AnnData setup                             \n",
      "2025-09-17 19:52:28 | [time] [scVI] get_likelihood_parameters end in 0.01s\n",
      "\u001b[34mINFO    \u001b[0m Input AnnData not setup with scvi-tools. attempting to transfer AnnData setup                             \n",
      "2025-09-17 19:52:28 | [scVI] predict_mean\n",
      "2025-09-17 19:52:28 | [time] [scVI] get_likelihood_parameters start\n",
      "\u001b[34mINFO    \u001b[0m Input AnnData not setup with scvi-tools. attempting to transfer AnnData setup                             \n",
      "2025-09-17 19:52:28 | [time] [scVI] get_likelihood_parameters end in 0.01s\n",
      "2025-09-17 19:52:28 | [scVI] predict_mean\n",
      "2025-09-17 19:52:28 | [time] [scVI] get_likelihood_parameters start\n",
      "\u001b[34mINFO    \u001b[0m Input AnnData not setup with scvi-tools. attempting to transfer AnnData setup                             \n",
      "2025-09-17 19:52:28 | [time] [scVI] get_likelihood_parameters end in 0.01s\n",
      "2025-09-17 19:52:28 | [time] [scVI] fold 1/3 end in 15.90s\n",
      "2025-09-17 19:52:28 | [time] [scVI] fold 2/3 start\n"
     ]
    },
    {
     "name": "stderr",
     "output_type": "stream",
     "text": [
      "/home/ma/ma_ma/ma_minjlee/.conda/envs/scvi/lib/python3.11/site-packages/legacy_api_wrap/__init__.py:82: UserWarning: `flavor='seurat_v3'` expects raw count data, but non-integers were found.\n",
      "  return fn(*args_all, **kw)\n"
     ]
    },
    {
     "name": "stdout",
     "output_type": "stream",
     "text": [
      "2025-09-17 19:52:31 | [scVI] fold 2 | HVG=800\n",
      "2025-09-17 19:52:31 | [scVI] fold 2 params={'batch_size': 512, 'dropout_rate': 0.1, 'lr': 0.0005, 'max_epochs': 250, 'n_hidden': 128, 'n_latent': 32, 'n_layers': 2, 'use_gpu': True, 'weight_decay': 1e-06}\n",
      "2025-09-17 19:52:31 | [scVI] fit hp={'n_latent': 32, 'n_hidden': 128, 'n_layers': 2, 'dropout_rate': 0.1, 'max_epochs': 250, 'lr': 0.0005, 'weight_decay': 1e-06, 'batch_size': 512, 'batch_key': 'BioProject', 'use_gpu': True}\n",
      "2025-09-17 19:52:31 | X_train: dense  (298, 800) dtype=int64\n",
      "2025-09-17 19:52:31 | [time] [scVI] train start\n"
     ]
    },
    {
     "name": "stderr",
     "output_type": "stream",
     "text": [
      "/home/ma/ma_ma/ma_minjlee/.conda/envs/scvi/lib/python3.11/site-packages/lightning/fabric/plugins/environments/slurm.py:204: The `srun` command is available on your system but is not used. HINT: If your intention is to run Lightning on SLURM, prepend your python command with `srun` like so: srun python /home/ma/ma_ma/ma_minjlee/.conda/envs/scvi/lib/pytho ...\n",
      "GPU available: False, used: False\n",
      "TPU available: False, using: 0 TPU cores\n",
      "HPU available: False, using: 0 HPUs\n",
      "/home/ma/ma_ma/ma_minjlee/.conda/envs/scvi/lib/python3.11/site-packages/lightning/fabric/plugins/environments/slurm.py:204: The `srun` command is available on your system but is not used. HINT: If your intention is to run Lightning on SLURM, prepend your python command with `srun` like so: srun python /home/ma/ma_ma/ma_minjlee/.conda/envs/scvi/lib/pytho ...\n",
      "/home/ma/ma_ma/ma_minjlee/.conda/envs/scvi/lib/python3.11/site-packages/lightning/pytorch/trainer/connectors/data_connector.py:433: The 'train_dataloader' does not have many workers which may be a bottleneck. Consider increasing the value of the `num_workers` argument` to `num_workers=191` in the `DataLoader` to improve performance.\n",
      "/home/ma/ma_ma/ma_minjlee/.conda/envs/scvi/lib/python3.11/site-packages/lightning/pytorch/loops/fit_loop.py:310: The number of training batches (1) is smaller than the logging interval Trainer(log_every_n_steps=10). Set a lower value for log_every_n_steps if you want to see logs for the training epoch.\n"
     ]
    },
    {
     "name": "stdout",
     "output_type": "stream",
     "text": [
      "Epoch 1/250:   0%|          | 0/250 [00:00<?, ?it/s]2025-09-17 19:52:32 | [time] [scVI] train end in 0.30s\n",
      "2025-09-17 19:52:32 | [scVI] predict_mean\n",
      "2025-09-17 19:52:32 | [time] [scVI] get_likelihood_parameters start\n",
      "\u001b[34mINFO    \u001b[0m Input AnnData not setup with scvi-tools. attempting to transfer AnnData setup                             \n",
      "2025-09-17 19:52:32 | [time] [scVI] get_likelihood_parameters end in 0.01s\n",
      "\u001b[34mINFO    \u001b[0m Input AnnData not setup with scvi-tools. attempting to transfer AnnData setup                             \n",
      "2025-09-17 19:52:32 | [scVI] predict_mean\n",
      "2025-09-17 19:52:32 | [time] [scVI] get_likelihood_parameters start\n",
      "\u001b[34mINFO    \u001b[0m Input AnnData not setup with scvi-tools. attempting to transfer AnnData setup                             \n",
      "2025-09-17 19:52:32 | [time] [scVI] get_likelihood_parameters end in 0.01s\n",
      "2025-09-17 19:52:32 | [scVI] predict_mean\n",
      "2025-09-17 19:52:32 | [time] [scVI] get_likelihood_parameters start\n",
      "\u001b[34mINFO    \u001b[0m Input AnnData not setup with scvi-tools. attempting to transfer AnnData setup                             \n",
      "2025-09-17 19:52:32 | [time] [scVI] get_likelihood_parameters end in 0.02s\n",
      "2025-09-17 19:52:32 | [time] [scVI] fold 2/3 end in 3.29s\n",
      "2025-09-17 19:52:32 | [time] [scVI] fold 3/3 start\n"
     ]
    },
    {
     "name": "stderr",
     "output_type": "stream",
     "text": [
      "/home/ma/ma_ma/ma_minjlee/.conda/envs/scvi/lib/python3.11/site-packages/legacy_api_wrap/__init__.py:82: UserWarning: `flavor='seurat_v3'` expects raw count data, but non-integers were found.\n",
      "  return fn(*args_all, **kw)\n"
     ]
    },
    {
     "name": "stdout",
     "output_type": "stream",
     "text": [
      "2025-09-17 19:52:35 | [scVI] fold 3 | HVG=800\n",
      "2025-09-17 19:52:35 | [scVI] fold 3 params={'batch_size': 512, 'dropout_rate': 0.1, 'lr': 0.0005, 'max_epochs': 250, 'n_hidden': 128, 'n_latent': 32, 'n_layers': 2, 'use_gpu': True, 'weight_decay': 1e-06}\n",
      "2025-09-17 19:52:35 | [scVI] fit hp={'n_latent': 32, 'n_hidden': 128, 'n_layers': 2, 'dropout_rate': 0.1, 'max_epochs': 250, 'lr': 0.0005, 'weight_decay': 1e-06, 'batch_size': 512, 'batch_key': 'BioProject', 'use_gpu': True}\n",
      "2025-09-17 19:52:35 | X_train: dense  (298, 800) dtype=int64\n",
      "2025-09-17 19:52:35 | [time] [scVI] train start\n"
     ]
    },
    {
     "name": "stderr",
     "output_type": "stream",
     "text": [
      "/home/ma/ma_ma/ma_minjlee/.conda/envs/scvi/lib/python3.11/site-packages/lightning/fabric/plugins/environments/slurm.py:204: The `srun` command is available on your system but is not used. HINT: If your intention is to run Lightning on SLURM, prepend your python command with `srun` like so: srun python /home/ma/ma_ma/ma_minjlee/.conda/envs/scvi/lib/pytho ...\n",
      "GPU available: False, used: False\n",
      "TPU available: False, using: 0 TPU cores\n",
      "HPU available: False, using: 0 HPUs\n",
      "/home/ma/ma_ma/ma_minjlee/.conda/envs/scvi/lib/python3.11/site-packages/lightning/fabric/plugins/environments/slurm.py:204: The `srun` command is available on your system but is not used. HINT: If your intention is to run Lightning on SLURM, prepend your python command with `srun` like so: srun python /home/ma/ma_ma/ma_minjlee/.conda/envs/scvi/lib/pytho ...\n",
      "/home/ma/ma_ma/ma_minjlee/.conda/envs/scvi/lib/python3.11/site-packages/lightning/pytorch/trainer/connectors/data_connector.py:433: The 'train_dataloader' does not have many workers which may be a bottleneck. Consider increasing the value of the `num_workers` argument` to `num_workers=191` in the `DataLoader` to improve performance.\n",
      "/home/ma/ma_ma/ma_minjlee/.conda/envs/scvi/lib/python3.11/site-packages/lightning/pytorch/loops/fit_loop.py:310: The number of training batches (1) is smaller than the logging interval Trainer(log_every_n_steps=10). Set a lower value for log_every_n_steps if you want to see logs for the training epoch.\n"
     ]
    },
    {
     "name": "stdout",
     "output_type": "stream",
     "text": [
      "Epoch 1/250:   0%|          | 0/250 [00:07<?, ?it/s]\n",
      "2025-09-17 19:52:35 | [time] [scVI] train end in 0.31s\n",
      "2025-09-17 19:52:35 | [scVI] predict_mean\n",
      "2025-09-17 19:52:35 | [time] [scVI] get_likelihood_parameters start\n",
      "\u001b[34mINFO    \u001b[0m Input AnnData not setup with scvi-tools. attempting to transfer AnnData setup                             \n",
      "2025-09-17 19:52:35 | [time] [scVI] get_likelihood_parameters end in 0.01s\n",
      "\u001b[34mINFO    \u001b[0m Input AnnData not setup with scvi-tools. attempting to transfer AnnData setup                             \n",
      "2025-09-17 19:52:35 | [scVI] predict_mean\n",
      "2025-09-17 19:52:35 | [time] [scVI] get_likelihood_parameters start\n",
      "\u001b[34mINFO    \u001b[0m Input AnnData not setup with scvi-tools. attempting to transfer AnnData setup                             \n",
      "2025-09-17 19:52:35 | [time] [scVI] get_likelihood_parameters end in 0.01s\n",
      "2025-09-17 19:52:35 | [scVI] predict_mean\n",
      "2025-09-17 19:52:35 | [time] [scVI] get_likelihood_parameters start\n",
      "\u001b[34mINFO    \u001b[0m Input AnnData not setup with scvi-tools. attempting to transfer AnnData setup                             \n",
      "2025-09-17 19:52:35 | [time] [scVI] get_likelihood_parameters end in 0.01s\n",
      "2025-09-17 19:52:35 | [time] [scVI] fold 3/3 end in 3.55s\n",
      "2025-09-17 19:52:35 | [cv_scvi_5fold] done\n"
     ]
    },
    {
     "name": "stderr",
     "output_type": "stream",
     "text": [
      "[I 2025-09-17 19:52:35,846] Trial 15 finished with value: -5.744932803314948 and parameters: {'n_latent': 32, 'n_hidden': 128, 'n_layers': 2, 'dropout_rate': 0.1, 'max_epochs': 250, 'lr': 0.0005, 'weight_decay': 1e-06, 'batch_size': 512, 'n_hvg': 800}. Best is trial 15 with value: -5.744932803314948.\n"
     ]
    },
    {
     "name": "stdout",
     "output_type": "stream",
     "text": [
      "Epoch 1/250:   0%|          | 0/250 [00:04<?, ?it/s]\n",
      "Epoch 1/250:   0%|          | 0/250 [00:00<?, ?it/s]\n",
      "2025-09-17 19:52:36 | [cv_scvi_5fold] start k=3 n_hvg=800 mode=seurat_v3\n",
      "2025-09-17 19:52:36 | X_counts: dense  (447, 51777) dtype=int64\n",
      "2025-09-17 19:52:37 | X_counts: zeros=66.23%, approx_int=True\n",
      "2025-09-17 19:52:37 | [time] [scVI] fold 1/3 start\n"
     ]
    },
    {
     "name": "stderr",
     "output_type": "stream",
     "text": [
      "/home/ma/ma_ma/ma_minjlee/.conda/envs/scvi/lib/python3.11/site-packages/legacy_api_wrap/__init__.py:82: UserWarning: `flavor='seurat_v3'` expects raw count data, but non-integers were found.\n",
      "  return fn(*args_all, **kw)\n"
     ]
    },
    {
     "name": "stdout",
     "output_type": "stream",
     "text": [
      "2025-09-17 19:53:03 | [scVI] fold 1 | HVG=800\n",
      "2025-09-17 19:53:03 | [scVI] fold 1 params={'batch_size': 512, 'dropout_rate': 0.1, 'lr': 0.0005, 'max_epochs': 250, 'n_hidden': 128, 'n_latent': 32, 'n_layers': 2, 'use_gpu': True, 'weight_decay': 1e-06}\n",
      "2025-09-17 19:53:03 | [scVI] fit hp={'n_latent': 32, 'n_hidden': 128, 'n_layers': 2, 'dropout_rate': 0.1, 'max_epochs': 250, 'lr': 0.0005, 'weight_decay': 1e-06, 'batch_size': 512, 'batch_key': 'BioProject', 'use_gpu': True}\n",
      "2025-09-17 19:53:03 | X_train: dense  (298, 800) dtype=int64\n",
      "2025-09-17 19:53:03 | [time] [scVI] train start\n"
     ]
    },
    {
     "name": "stderr",
     "output_type": "stream",
     "text": [
      "/home/ma/ma_ma/ma_minjlee/.conda/envs/scvi/lib/python3.11/site-packages/lightning/fabric/plugins/environments/slurm.py:204: The `srun` command is available on your system but is not used. HINT: If your intention is to run Lightning on SLURM, prepend your python command with `srun` like so: srun python /home/ma/ma_ma/ma_minjlee/.conda/envs/scvi/lib/pytho ...\n",
      "GPU available: False, used: False\n",
      "TPU available: False, using: 0 TPU cores\n",
      "HPU available: False, using: 0 HPUs\n",
      "/home/ma/ma_ma/ma_minjlee/.conda/envs/scvi/lib/python3.11/site-packages/lightning/fabric/plugins/environments/slurm.py:204: The `srun` command is available on your system but is not used. HINT: If your intention is to run Lightning on SLURM, prepend your python command with `srun` like so: srun python /home/ma/ma_ma/ma_minjlee/.conda/envs/scvi/lib/pytho ...\n",
      "/home/ma/ma_ma/ma_minjlee/.conda/envs/scvi/lib/python3.11/site-packages/lightning/pytorch/trainer/connectors/data_connector.py:433: The 'train_dataloader' does not have many workers which may be a bottleneck. Consider increasing the value of the `num_workers` argument` to `num_workers=191` in the `DataLoader` to improve performance.\n",
      "/home/ma/ma_ma/ma_minjlee/.conda/envs/scvi/lib/python3.11/site-packages/lightning/pytorch/loops/fit_loop.py:310: The number of training batches (1) is smaller than the logging interval Trainer(log_every_n_steps=10). Set a lower value for log_every_n_steps if you want to see logs for the training epoch.\n"
     ]
    },
    {
     "name": "stdout",
     "output_type": "stream",
     "text": [
      "Epoch 1/250:   0%|          | 0/250 [00:00<?, ?it/s]2025-09-17 19:53:04 | [time] [scVI] train end in 0.33s\n",
      "2025-09-17 19:53:04 | [scVI] predict_mean\n",
      "2025-09-17 19:53:04 | [time] [scVI] get_likelihood_parameters start\n",
      "\u001b[34mINFO    \u001b[0m Input AnnData not setup with scvi-tools. attempting to transfer AnnData setup                             \n",
      "2025-09-17 19:53:04 | [time] [scVI] get_likelihood_parameters end in 0.01s\n",
      "\u001b[34mINFO    \u001b[0m Input AnnData not setup with scvi-tools. attempting to transfer AnnData setup                             \n",
      "2025-09-17 19:53:04 | [scVI] predict_mean\n",
      "2025-09-17 19:53:04 | [time] [scVI] get_likelihood_parameters start\n",
      "\u001b[34mINFO    \u001b[0m Input AnnData not setup with scvi-tools. attempting to transfer AnnData setup                             \n",
      "2025-09-17 19:53:04 | [time] [scVI] get_likelihood_parameters end in 0.01s\n",
      "2025-09-17 19:53:04 | [scVI] predict_mean\n",
      "2025-09-17 19:53:04 | [time] [scVI] get_likelihood_parameters start\n",
      "\u001b[34mINFO    \u001b[0m Input AnnData not setup with scvi-tools. attempting to transfer AnnData setup                             \n",
      "2025-09-17 19:53:04 | [time] [scVI] get_likelihood_parameters end in 0.01s\n",
      "2025-09-17 19:53:04 | [time] [scVI] fold 1/3 end in 26.76s\n",
      "2025-09-17 19:53:04 | [time] [scVI] fold 2/3 start\n"
     ]
    },
    {
     "name": "stderr",
     "output_type": "stream",
     "text": [
      "/home/ma/ma_ma/ma_minjlee/.conda/envs/scvi/lib/python3.11/site-packages/legacy_api_wrap/__init__.py:82: UserWarning: `flavor='seurat_v3'` expects raw count data, but non-integers were found.\n",
      "  return fn(*args_all, **kw)\n"
     ]
    },
    {
     "name": "stdout",
     "output_type": "stream",
     "text": [
      "2025-09-17 19:53:11 | [scVI] fold 2 | HVG=800\n",
      "2025-09-17 19:53:11 | [scVI] fold 2 params={'batch_size': 512, 'dropout_rate': 0.1, 'lr': 0.0005, 'max_epochs': 250, 'n_hidden': 128, 'n_latent': 32, 'n_layers': 2, 'use_gpu': True, 'weight_decay': 1e-06}\n",
      "2025-09-17 19:53:11 | [scVI] fit hp={'n_latent': 32, 'n_hidden': 128, 'n_layers': 2, 'dropout_rate': 0.1, 'max_epochs': 250, 'lr': 0.0005, 'weight_decay': 1e-06, 'batch_size': 512, 'batch_key': 'BioProject', 'use_gpu': True}\n",
      "2025-09-17 19:53:11 | X_train: dense  (298, 800) dtype=int64\n",
      "2025-09-17 19:53:11 | [time] [scVI] train start\n"
     ]
    },
    {
     "name": "stderr",
     "output_type": "stream",
     "text": [
      "/home/ma/ma_ma/ma_minjlee/.conda/envs/scvi/lib/python3.11/site-packages/lightning/fabric/plugins/environments/slurm.py:204: The `srun` command is available on your system but is not used. HINT: If your intention is to run Lightning on SLURM, prepend your python command with `srun` like so: srun python /home/ma/ma_ma/ma_minjlee/.conda/envs/scvi/lib/pytho ...\n",
      "GPU available: False, used: False\n",
      "TPU available: False, using: 0 TPU cores\n",
      "HPU available: False, using: 0 HPUs\n",
      "/home/ma/ma_ma/ma_minjlee/.conda/envs/scvi/lib/python3.11/site-packages/lightning/fabric/plugins/environments/slurm.py:204: The `srun` command is available on your system but is not used. HINT: If your intention is to run Lightning on SLURM, prepend your python command with `srun` like so: srun python /home/ma/ma_ma/ma_minjlee/.conda/envs/scvi/lib/pytho ...\n",
      "/home/ma/ma_ma/ma_minjlee/.conda/envs/scvi/lib/python3.11/site-packages/lightning/pytorch/trainer/connectors/data_connector.py:433: The 'train_dataloader' does not have many workers which may be a bottleneck. Consider increasing the value of the `num_workers` argument` to `num_workers=191` in the `DataLoader` to improve performance.\n",
      "/home/ma/ma_ma/ma_minjlee/.conda/envs/scvi/lib/python3.11/site-packages/lightning/pytorch/loops/fit_loop.py:310: The number of training batches (1) is smaller than the logging interval Trainer(log_every_n_steps=10). Set a lower value for log_every_n_steps if you want to see logs for the training epoch.\n"
     ]
    },
    {
     "name": "stdout",
     "output_type": "stream",
     "text": [
      "Epoch 1/250:   0%|          | 0/250 [00:00<?, ?it/s]2025-09-17 19:53:11 | [time] [scVI] train end in 0.31s\n",
      "2025-09-17 19:53:11 | [scVI] predict_mean\n",
      "2025-09-17 19:53:11 | [time] [scVI] get_likelihood_parameters start\n",
      "\u001b[34mINFO    \u001b[0m Input AnnData not setup with scvi-tools. attempting to transfer AnnData setup                             \n",
      "2025-09-17 19:53:11 | [time] [scVI] get_likelihood_parameters end in 0.01s\n",
      "\u001b[34mINFO    \u001b[0m Input AnnData not setup with scvi-tools. attempting to transfer AnnData setup                             \n",
      "2025-09-17 19:53:11 | [scVI] predict_mean\n",
      "2025-09-17 19:53:11 | [time] [scVI] get_likelihood_parameters start\n",
      "\u001b[34mINFO    \u001b[0m Input AnnData not setup with scvi-tools. attempting to transfer AnnData setup                             \n",
      "2025-09-17 19:53:11 | [time] [scVI] get_likelihood_parameters end in 0.01s\n",
      "2025-09-17 19:53:11 | [scVI] predict_mean\n",
      "2025-09-17 19:53:11 | [time] [scVI] get_likelihood_parameters start\n",
      "\u001b[34mINFO    \u001b[0m Input AnnData not setup with scvi-tools. attempting to transfer AnnData setup                             \n",
      "2025-09-17 19:53:12 | [time] [scVI] get_likelihood_parameters end in 0.01s\n",
      "2025-09-17 19:53:12 | [time] [scVI] fold 2/3 end in 7.90s\n",
      "2025-09-17 19:53:12 | [time] [scVI] fold 3/3 start\n"
     ]
    },
    {
     "name": "stderr",
     "output_type": "stream",
     "text": [
      "/home/ma/ma_ma/ma_minjlee/.conda/envs/scvi/lib/python3.11/site-packages/legacy_api_wrap/__init__.py:82: UserWarning: `flavor='seurat_v3'` expects raw count data, but non-integers were found.\n",
      "  return fn(*args_all, **kw)\n"
     ]
    },
    {
     "name": "stdout",
     "output_type": "stream",
     "text": [
      "2025-09-17 19:53:32 | [scVI] fold 3 | HVG=800\n",
      "2025-09-17 19:53:32 | [scVI] fold 3 params={'batch_size': 512, 'dropout_rate': 0.1, 'lr': 0.0005, 'max_epochs': 250, 'n_hidden': 128, 'n_latent': 32, 'n_layers': 2, 'use_gpu': True, 'weight_decay': 1e-06}\n",
      "2025-09-17 19:53:32 | [scVI] fit hp={'n_latent': 32, 'n_hidden': 128, 'n_layers': 2, 'dropout_rate': 0.1, 'max_epochs': 250, 'lr': 0.0005, 'weight_decay': 1e-06, 'batch_size': 512, 'batch_key': 'BioProject', 'use_gpu': True}\n",
      "2025-09-17 19:53:32 | X_train: dense  (298, 800) dtype=int64\n",
      "2025-09-17 19:53:32 | [time] [scVI] train start\n"
     ]
    },
    {
     "name": "stderr",
     "output_type": "stream",
     "text": [
      "/home/ma/ma_ma/ma_minjlee/.conda/envs/scvi/lib/python3.11/site-packages/lightning/fabric/plugins/environments/slurm.py:204: The `srun` command is available on your system but is not used. HINT: If your intention is to run Lightning on SLURM, prepend your python command with `srun` like so: srun python /home/ma/ma_ma/ma_minjlee/.conda/envs/scvi/lib/pytho ...\n",
      "GPU available: False, used: False\n",
      "TPU available: False, using: 0 TPU cores\n",
      "HPU available: False, using: 0 HPUs\n",
      "/home/ma/ma_ma/ma_minjlee/.conda/envs/scvi/lib/python3.11/site-packages/lightning/fabric/plugins/environments/slurm.py:204: The `srun` command is available on your system but is not used. HINT: If your intention is to run Lightning on SLURM, prepend your python command with `srun` like so: srun python /home/ma/ma_ma/ma_minjlee/.conda/envs/scvi/lib/pytho ...\n",
      "/home/ma/ma_ma/ma_minjlee/.conda/envs/scvi/lib/python3.11/site-packages/lightning/pytorch/trainer/connectors/data_connector.py:433: The 'train_dataloader' does not have many workers which may be a bottleneck. Consider increasing the value of the `num_workers` argument` to `num_workers=191` in the `DataLoader` to improve performance.\n",
      "/home/ma/ma_ma/ma_minjlee/.conda/envs/scvi/lib/python3.11/site-packages/lightning/pytorch/loops/fit_loop.py:310: The number of training batches (1) is smaller than the logging interval Trainer(log_every_n_steps=10). Set a lower value for log_every_n_steps if you want to see logs for the training epoch.\n"
     ]
    },
    {
     "name": "stdout",
     "output_type": "stream",
     "text": [
      "Epoch 1/250:   0%|          | 0/250 [00:29<?, ?it/s]\n",
      "2025-09-17 19:53:32 | [time] [scVI] train end in 0.31s\n",
      "2025-09-17 19:53:32 | [scVI] predict_mean\n",
      "2025-09-17 19:53:32 | [time] [scVI] get_likelihood_parameters start\n",
      "\u001b[34mINFO    \u001b[0m Input AnnData not setup with scvi-tools. attempting to transfer AnnData setup                             \n",
      "2025-09-17 19:53:32 | [time] [scVI] get_likelihood_parameters end in 0.01s\n",
      "\u001b[34mINFO    \u001b[0m Input AnnData not setup with scvi-tools. attempting to transfer AnnData setup                             \n",
      "2025-09-17 19:53:32 | [scVI] predict_mean\n",
      "2025-09-17 19:53:32 | [time] [scVI] get_likelihood_parameters start\n",
      "\u001b[34mINFO    \u001b[0m Input AnnData not setup with scvi-tools. attempting to transfer AnnData setup                             \n",
      "2025-09-17 19:53:32 | [time] [scVI] get_likelihood_parameters end in 0.01s\n",
      "2025-09-17 19:53:32 | [scVI] predict_mean\n",
      "2025-09-17 19:53:32 | [time] [scVI] get_likelihood_parameters start\n",
      "\u001b[34mINFO    \u001b[0m Input AnnData not setup with scvi-tools. attempting to transfer AnnData setup                             \n",
      "2025-09-17 19:53:32 | [time] [scVI] get_likelihood_parameters end in 0.01s\n",
      "2025-09-17 19:53:32 | [time] [scVI] fold 3/3 end in 20.87s\n",
      "2025-09-17 19:53:32 | [cv_scvi_5fold] done\n"
     ]
    },
    {
     "name": "stderr",
     "output_type": "stream",
     "text": [
      "[I 2025-09-17 19:53:32,894] Trial 16 finished with value: -5.656361433846127 and parameters: {'n_latent': 32, 'n_hidden': 128, 'n_layers': 2, 'dropout_rate': 0.1, 'max_epochs': 250, 'lr': 0.0005, 'weight_decay': 1e-06, 'batch_size': 512, 'n_hvg': 800}. Best is trial 16 with value: -5.656361433846127.\n"
     ]
    },
    {
     "name": "stdout",
     "output_type": "stream",
     "text": [
      "Epoch 1/250:   0%|          | 0/250 [00:21<?, ?it/s]\n",
      "Epoch 1/250:   0%|          | 0/250 [00:00<?, ?it/s]\n",
      "2025-09-17 19:53:33 | [cv_scvi_5fold] start k=3 n_hvg=800 mode=seurat_v3\n",
      "2025-09-17 19:53:33 | X_counts: dense  (447, 51777) dtype=int64\n",
      "2025-09-17 19:53:35 | X_counts: zeros=66.23%, approx_int=True\n",
      "2025-09-17 19:53:35 | [time] [scVI] fold 1/3 start\n"
     ]
    },
    {
     "name": "stderr",
     "output_type": "stream",
     "text": [
      "/home/ma/ma_ma/ma_minjlee/.conda/envs/scvi/lib/python3.11/site-packages/legacy_api_wrap/__init__.py:82: UserWarning: `flavor='seurat_v3'` expects raw count data, but non-integers were found.\n",
      "  return fn(*args_all, **kw)\n"
     ]
    },
    {
     "name": "stdout",
     "output_type": "stream",
     "text": [
      "2025-09-17 19:53:49 | [scVI] fold 1 | HVG=800\n",
      "2025-09-17 19:53:49 | [scVI] fold 1 params={'batch_size': 512, 'dropout_rate': 0.1, 'lr': 0.0005, 'max_epochs': 250, 'n_hidden': 128, 'n_latent': 32, 'n_layers': 2, 'use_gpu': True, 'weight_decay': 1e-06}\n",
      "2025-09-17 19:53:49 | [scVI] fit hp={'n_latent': 32, 'n_hidden': 128, 'n_layers': 2, 'dropout_rate': 0.1, 'max_epochs': 250, 'lr': 0.0005, 'weight_decay': 1e-06, 'batch_size': 512, 'batch_key': 'BioProject', 'use_gpu': True}\n",
      "2025-09-17 19:53:49 | X_train: dense  (298, 800) dtype=int64\n",
      "2025-09-17 19:53:49 | [time] [scVI] train start\n"
     ]
    },
    {
     "name": "stderr",
     "output_type": "stream",
     "text": [
      "/home/ma/ma_ma/ma_minjlee/.conda/envs/scvi/lib/python3.11/site-packages/lightning/fabric/plugins/environments/slurm.py:204: The `srun` command is available on your system but is not used. HINT: If your intention is to run Lightning on SLURM, prepend your python command with `srun` like so: srun python /home/ma/ma_ma/ma_minjlee/.conda/envs/scvi/lib/pytho ...\n",
      "GPU available: False, used: False\n",
      "TPU available: False, using: 0 TPU cores\n",
      "HPU available: False, using: 0 HPUs\n",
      "/home/ma/ma_ma/ma_minjlee/.conda/envs/scvi/lib/python3.11/site-packages/lightning/fabric/plugins/environments/slurm.py:204: The `srun` command is available on your system but is not used. HINT: If your intention is to run Lightning on SLURM, prepend your python command with `srun` like so: srun python /home/ma/ma_ma/ma_minjlee/.conda/envs/scvi/lib/pytho ...\n",
      "/home/ma/ma_ma/ma_minjlee/.conda/envs/scvi/lib/python3.11/site-packages/lightning/pytorch/trainer/connectors/data_connector.py:433: The 'train_dataloader' does not have many workers which may be a bottleneck. Consider increasing the value of the `num_workers` argument` to `num_workers=191` in the `DataLoader` to improve performance.\n",
      "/home/ma/ma_ma/ma_minjlee/.conda/envs/scvi/lib/python3.11/site-packages/lightning/pytorch/loops/fit_loop.py:310: The number of training batches (1) is smaller than the logging interval Trainer(log_every_n_steps=10). Set a lower value for log_every_n_steps if you want to see logs for the training epoch.\n"
     ]
    },
    {
     "name": "stdout",
     "output_type": "stream",
     "text": [
      "Epoch 1/250:   0%|          | 0/250 [00:00<?, ?it/s]2025-09-17 19:53:50 | [time] [scVI] train end in 0.36s\n",
      "2025-09-17 19:53:50 | [scVI] predict_mean\n",
      "2025-09-17 19:53:50 | [time] [scVI] get_likelihood_parameters start\n",
      "\u001b[34mINFO    \u001b[0m Input AnnData not setup with scvi-tools. attempting to transfer AnnData setup                             \n",
      "2025-09-17 19:53:50 | [time] [scVI] get_likelihood_parameters end in 0.01s\n",
      "\u001b[34mINFO    \u001b[0m Input AnnData not setup with scvi-tools. attempting to transfer AnnData setup                             \n",
      "2025-09-17 19:53:50 | [scVI] predict_mean\n",
      "2025-09-17 19:53:50 | [time] [scVI] get_likelihood_parameters start\n",
      "\u001b[34mINFO    \u001b[0m Input AnnData not setup with scvi-tools. attempting to transfer AnnData setup                             \n",
      "2025-09-17 19:53:50 | [time] [scVI] get_likelihood_parameters end in 0.01s\n",
      "2025-09-17 19:53:50 | [scVI] predict_mean\n",
      "2025-09-17 19:53:50 | [time] [scVI] get_likelihood_parameters start\n",
      "\u001b[34mINFO    \u001b[0m Input AnnData not setup with scvi-tools. attempting to transfer AnnData setup                             \n",
      "2025-09-17 19:53:50 | [time] [scVI] get_likelihood_parameters end in 0.01s\n",
      "2025-09-17 19:53:50 | [time] [scVI] fold 1/3 end in 14.18s\n",
      "2025-09-17 19:53:50 | [time] [scVI] fold 2/3 start\n"
     ]
    },
    {
     "name": "stderr",
     "output_type": "stream",
     "text": [
      "/home/ma/ma_ma/ma_minjlee/.conda/envs/scvi/lib/python3.11/site-packages/legacy_api_wrap/__init__.py:82: UserWarning: `flavor='seurat_v3'` expects raw count data, but non-integers were found.\n",
      "  return fn(*args_all, **kw)\n"
     ]
    },
    {
     "name": "stdout",
     "output_type": "stream",
     "text": [
      "2025-09-17 19:53:54 | [scVI] fold 2 | HVG=800\n",
      "2025-09-17 19:53:54 | [scVI] fold 2 params={'batch_size': 512, 'dropout_rate': 0.1, 'lr': 0.0005, 'max_epochs': 250, 'n_hidden': 128, 'n_latent': 32, 'n_layers': 2, 'use_gpu': True, 'weight_decay': 1e-06}\n",
      "2025-09-17 19:53:54 | [scVI] fit hp={'n_latent': 32, 'n_hidden': 128, 'n_layers': 2, 'dropout_rate': 0.1, 'max_epochs': 250, 'lr': 0.0005, 'weight_decay': 1e-06, 'batch_size': 512, 'batch_key': 'BioProject', 'use_gpu': True}\n",
      "2025-09-17 19:53:54 | X_train: dense  (298, 800) dtype=int64\n",
      "2025-09-17 19:53:54 | [time] [scVI] train start\n"
     ]
    },
    {
     "name": "stderr",
     "output_type": "stream",
     "text": [
      "/home/ma/ma_ma/ma_minjlee/.conda/envs/scvi/lib/python3.11/site-packages/lightning/fabric/plugins/environments/slurm.py:204: The `srun` command is available on your system but is not used. HINT: If your intention is to run Lightning on SLURM, prepend your python command with `srun` like so: srun python /home/ma/ma_ma/ma_minjlee/.conda/envs/scvi/lib/pytho ...\n",
      "GPU available: False, used: False\n",
      "TPU available: False, using: 0 TPU cores\n",
      "HPU available: False, using: 0 HPUs\n",
      "/home/ma/ma_ma/ma_minjlee/.conda/envs/scvi/lib/python3.11/site-packages/lightning/fabric/plugins/environments/slurm.py:204: The `srun` command is available on your system but is not used. HINT: If your intention is to run Lightning on SLURM, prepend your python command with `srun` like so: srun python /home/ma/ma_ma/ma_minjlee/.conda/envs/scvi/lib/pytho ...\n",
      "/home/ma/ma_ma/ma_minjlee/.conda/envs/scvi/lib/python3.11/site-packages/lightning/pytorch/trainer/connectors/data_connector.py:433: The 'train_dataloader' does not have many workers which may be a bottleneck. Consider increasing the value of the `num_workers` argument` to `num_workers=191` in the `DataLoader` to improve performance.\n",
      "/home/ma/ma_ma/ma_minjlee/.conda/envs/scvi/lib/python3.11/site-packages/lightning/pytorch/loops/fit_loop.py:310: The number of training batches (1) is smaller than the logging interval Trainer(log_every_n_steps=10). Set a lower value for log_every_n_steps if you want to see logs for the training epoch.\n"
     ]
    },
    {
     "name": "stdout",
     "output_type": "stream",
     "text": [
      "Epoch 1/250:   0%|          | 0/250 [00:00<?, ?it/s]2025-09-17 19:53:54 | [time] [scVI] train end in 0.31s\n",
      "2025-09-17 19:53:54 | [scVI] predict_mean\n",
      "2025-09-17 19:53:54 | [time] [scVI] get_likelihood_parameters start\n",
      "\u001b[34mINFO    \u001b[0m Input AnnData not setup with scvi-tools. attempting to transfer AnnData setup                             \n",
      "2025-09-17 19:53:54 | [time] [scVI] get_likelihood_parameters end in 0.01s\n",
      "\u001b[34mINFO    \u001b[0m Input AnnData not setup with scvi-tools. attempting to transfer AnnData setup                             \n",
      "2025-09-17 19:53:54 | [scVI] predict_mean\n",
      "2025-09-17 19:53:54 | [time] [scVI] get_likelihood_parameters start\n",
      "\u001b[34mINFO    \u001b[0m Input AnnData not setup with scvi-tools. attempting to transfer AnnData setup                             \n",
      "2025-09-17 19:53:54 | [time] [scVI] get_likelihood_parameters end in 0.01s\n",
      "2025-09-17 19:53:54 | [scVI] predict_mean\n",
      "2025-09-17 19:53:54 | [time] [scVI] get_likelihood_parameters start\n",
      "\u001b[34mINFO    \u001b[0m Input AnnData not setup with scvi-tools. attempting to transfer AnnData setup                             \n",
      "2025-09-17 19:53:54 | [time] [scVI] get_likelihood_parameters end in 0.01s\n",
      "2025-09-17 19:53:54 | [time] [scVI] fold 2/3 end in 4.70s\n",
      "2025-09-17 19:53:54 | [time] [scVI] fold 3/3 start\n"
     ]
    },
    {
     "name": "stderr",
     "output_type": "stream",
     "text": [
      "/home/ma/ma_ma/ma_minjlee/.conda/envs/scvi/lib/python3.11/site-packages/legacy_api_wrap/__init__.py:82: UserWarning: `flavor='seurat_v3'` expects raw count data, but non-integers were found.\n",
      "  return fn(*args_all, **kw)\n"
     ]
    },
    {
     "name": "stdout",
     "output_type": "stream",
     "text": [
      "2025-09-17 19:54:00 | [scVI] fold 3 | HVG=800\n",
      "2025-09-17 19:54:00 | [scVI] fold 3 params={'batch_size': 512, 'dropout_rate': 0.1, 'lr': 0.0005, 'max_epochs': 250, 'n_hidden': 128, 'n_latent': 32, 'n_layers': 2, 'use_gpu': True, 'weight_decay': 1e-06}\n",
      "2025-09-17 19:54:00 | [scVI] fit hp={'n_latent': 32, 'n_hidden': 128, 'n_layers': 2, 'dropout_rate': 0.1, 'max_epochs': 250, 'lr': 0.0005, 'weight_decay': 1e-06, 'batch_size': 512, 'batch_key': 'BioProject', 'use_gpu': True}\n",
      "2025-09-17 19:54:00 | X_train: dense  (298, 800) dtype=int64\n",
      "2025-09-17 19:54:00 | [time] [scVI] train start\n"
     ]
    },
    {
     "name": "stderr",
     "output_type": "stream",
     "text": [
      "/home/ma/ma_ma/ma_minjlee/.conda/envs/scvi/lib/python3.11/site-packages/lightning/fabric/plugins/environments/slurm.py:204: The `srun` command is available on your system but is not used. HINT: If your intention is to run Lightning on SLURM, prepend your python command with `srun` like so: srun python /home/ma/ma_ma/ma_minjlee/.conda/envs/scvi/lib/pytho ...\n",
      "GPU available: False, used: False\n",
      "TPU available: False, using: 0 TPU cores\n",
      "HPU available: False, using: 0 HPUs\n",
      "/home/ma/ma_ma/ma_minjlee/.conda/envs/scvi/lib/python3.11/site-packages/lightning/fabric/plugins/environments/slurm.py:204: The `srun` command is available on your system but is not used. HINT: If your intention is to run Lightning on SLURM, prepend your python command with `srun` like so: srun python /home/ma/ma_ma/ma_minjlee/.conda/envs/scvi/lib/pytho ...\n",
      "/home/ma/ma_ma/ma_minjlee/.conda/envs/scvi/lib/python3.11/site-packages/lightning/pytorch/trainer/connectors/data_connector.py:433: The 'train_dataloader' does not have many workers which may be a bottleneck. Consider increasing the value of the `num_workers` argument` to `num_workers=191` in the `DataLoader` to improve performance.\n",
      "/home/ma/ma_ma/ma_minjlee/.conda/envs/scvi/lib/python3.11/site-packages/lightning/pytorch/loops/fit_loop.py:310: The number of training batches (1) is smaller than the logging interval Trainer(log_every_n_steps=10). Set a lower value for log_every_n_steps if you want to see logs for the training epoch.\n"
     ]
    },
    {
     "name": "stdout",
     "output_type": "stream",
     "text": [
      "Epoch 1/250:   0%|          | 0/250 [00:11<?, ?it/s]\n",
      "2025-09-17 19:54:01 | [time] [scVI] train end in 0.31s\n",
      "2025-09-17 19:54:01 | [scVI] predict_mean\n",
      "2025-09-17 19:54:01 | [time] [scVI] get_likelihood_parameters start\n",
      "\u001b[34mINFO    \u001b[0m Input AnnData not setup with scvi-tools. attempting to transfer AnnData setup                             \n",
      "2025-09-17 19:54:01 | [time] [scVI] get_likelihood_parameters end in 0.01s\n",
      "\u001b[34mINFO    \u001b[0m Input AnnData not setup with scvi-tools. attempting to transfer AnnData setup                             \n",
      "2025-09-17 19:54:01 | [scVI] predict_mean\n",
      "2025-09-17 19:54:01 | [time] [scVI] get_likelihood_parameters start\n",
      "\u001b[34mINFO    \u001b[0m Input AnnData not setup with scvi-tools. attempting to transfer AnnData setup                             \n",
      "2025-09-17 19:54:01 | [time] [scVI] get_likelihood_parameters end in 0.01s\n",
      "2025-09-17 19:54:01 | [scVI] predict_mean\n",
      "2025-09-17 19:54:01 | [time] [scVI] get_likelihood_parameters start\n",
      "\u001b[34mINFO    \u001b[0m Input AnnData not setup with scvi-tools. attempting to transfer AnnData setup                             \n",
      "2025-09-17 19:54:01 | [time] [scVI] get_likelihood_parameters end in 0.01s\n",
      "2025-09-17 19:54:01 | [time] [scVI] fold 3/3 end in 6.27s\n",
      "2025-09-17 19:54:01 | [cv_scvi_5fold] done\n"
     ]
    },
    {
     "name": "stderr",
     "output_type": "stream",
     "text": [
      "[I 2025-09-17 19:54:01,113] Trial 17 finished with value: -5.8772462182800895 and parameters: {'n_latent': 32, 'n_hidden': 128, 'n_layers': 2, 'dropout_rate': 0.1, 'max_epochs': 250, 'lr': 0.0005, 'weight_decay': 1e-06, 'batch_size': 512, 'n_hvg': 800}. Best is trial 16 with value: -5.656361433846127.\n"
     ]
    },
    {
     "name": "stdout",
     "output_type": "stream",
     "text": [
      "Epoch 1/250:   0%|          | 0/250 [00:06<?, ?it/s]\n",
      "Epoch 1/250:   0%|          | 0/250 [00:00<?, ?it/s]\n",
      "2025-09-17 19:54:01 | [cv_scvi_5fold] start k=3 n_hvg=800 mode=seurat_v3\n",
      "2025-09-17 19:54:01 | X_counts: dense  (447, 51777) dtype=int64\n",
      "2025-09-17 19:54:09 | X_counts: zeros=66.23%, approx_int=True\n",
      "2025-09-17 19:54:09 | [time] [scVI] fold 1/3 start\n"
     ]
    },
    {
     "name": "stderr",
     "output_type": "stream",
     "text": [
      "/home/ma/ma_ma/ma_minjlee/.conda/envs/scvi/lib/python3.11/site-packages/legacy_api_wrap/__init__.py:82: UserWarning: `flavor='seurat_v3'` expects raw count data, but non-integers were found.\n",
      "  return fn(*args_all, **kw)\n"
     ]
    },
    {
     "name": "stdout",
     "output_type": "stream",
     "text": [
      "2025-09-17 19:54:14 | [scVI] fold 1 | HVG=800\n",
      "2025-09-17 19:54:14 | [scVI] fold 1 params={'batch_size': 512, 'dropout_rate': 0.1, 'lr': 0.0005, 'max_epochs': 150, 'n_hidden': 128, 'n_latent': 16, 'n_layers': 2, 'use_gpu': True, 'weight_decay': 1e-06}\n",
      "2025-09-17 19:54:14 | [scVI] fit hp={'n_latent': 16, 'n_hidden': 128, 'n_layers': 2, 'dropout_rate': 0.1, 'max_epochs': 150, 'lr': 0.0005, 'weight_decay': 1e-06, 'batch_size': 512, 'batch_key': 'BioProject', 'use_gpu': True}\n",
      "2025-09-17 19:54:14 | X_train: dense  (298, 800) dtype=int64\n",
      "2025-09-17 19:54:15 | [time] [scVI] train start\n"
     ]
    },
    {
     "name": "stderr",
     "output_type": "stream",
     "text": [
      "/home/ma/ma_ma/ma_minjlee/.conda/envs/scvi/lib/python3.11/site-packages/lightning/fabric/plugins/environments/slurm.py:204: The `srun` command is available on your system but is not used. HINT: If your intention is to run Lightning on SLURM, prepend your python command with `srun` like so: srun python /home/ma/ma_ma/ma_minjlee/.conda/envs/scvi/lib/pytho ...\n",
      "GPU available: False, used: False\n",
      "TPU available: False, using: 0 TPU cores\n",
      "HPU available: False, using: 0 HPUs\n",
      "/home/ma/ma_ma/ma_minjlee/.conda/envs/scvi/lib/python3.11/site-packages/lightning/fabric/plugins/environments/slurm.py:204: The `srun` command is available on your system but is not used. HINT: If your intention is to run Lightning on SLURM, prepend your python command with `srun` like so: srun python /home/ma/ma_ma/ma_minjlee/.conda/envs/scvi/lib/pytho ...\n",
      "/home/ma/ma_ma/ma_minjlee/.conda/envs/scvi/lib/python3.11/site-packages/lightning/pytorch/trainer/connectors/data_connector.py:433: The 'train_dataloader' does not have many workers which may be a bottleneck. Consider increasing the value of the `num_workers` argument` to `num_workers=191` in the `DataLoader` to improve performance.\n",
      "/home/ma/ma_ma/ma_minjlee/.conda/envs/scvi/lib/python3.11/site-packages/lightning/pytorch/loops/fit_loop.py:310: The number of training batches (1) is smaller than the logging interval Trainer(log_every_n_steps=10). Set a lower value for log_every_n_steps if you want to see logs for the training epoch.\n"
     ]
    },
    {
     "name": "stdout",
     "output_type": "stream",
     "text": [
      "Epoch 1/150:   0%|          | 0/150 [00:00<?, ?it/s]2025-09-17 19:54:15 | [time] [scVI] train end in 0.30s\n",
      "2025-09-17 19:54:15 | [scVI] predict_mean\n",
      "2025-09-17 19:54:15 | [time] [scVI] get_likelihood_parameters start\n",
      "\u001b[34mINFO    \u001b[0m Input AnnData not setup with scvi-tools. attempting to transfer AnnData setup                             \n",
      "2025-09-17 19:54:15 | [time] [scVI] get_likelihood_parameters end in 0.01s\n",
      "\u001b[34mINFO    \u001b[0m Input AnnData not setup with scvi-tools. attempting to transfer AnnData setup                             \n",
      "2025-09-17 19:54:15 | [scVI] predict_mean\n",
      "2025-09-17 19:54:15 | [time] [scVI] get_likelihood_parameters start\n",
      "\u001b[34mINFO    \u001b[0m Input AnnData not setup with scvi-tools. attempting to transfer AnnData setup                             \n",
      "2025-09-17 19:54:15 | [time] [scVI] get_likelihood_parameters end in 0.01s\n",
      "2025-09-17 19:54:15 | [scVI] predict_mean\n",
      "2025-09-17 19:54:15 | [time] [scVI] get_likelihood_parameters start\n",
      "\u001b[34mINFO    \u001b[0m Input AnnData not setup with scvi-tools. attempting to transfer AnnData setup                             \n",
      "2025-09-17 19:54:15 | [time] [scVI] get_likelihood_parameters end in 0.01s\n",
      "2025-09-17 19:54:15 | [time] [scVI] fold 1/3 end in 6.39s\n",
      "2025-09-17 19:54:15 | [time] [scVI] fold 2/3 start\n"
     ]
    },
    {
     "name": "stderr",
     "output_type": "stream",
     "text": [
      "/home/ma/ma_ma/ma_minjlee/.conda/envs/scvi/lib/python3.11/site-packages/legacy_api_wrap/__init__.py:82: UserWarning: `flavor='seurat_v3'` expects raw count data, but non-integers were found.\n",
      "  return fn(*args_all, **kw)\n"
     ]
    },
    {
     "name": "stdout",
     "output_type": "stream",
     "text": [
      "2025-09-17 19:54:21 | [scVI] fold 2 | HVG=800\n",
      "2025-09-17 19:54:21 | [scVI] fold 2 params={'batch_size': 512, 'dropout_rate': 0.1, 'lr': 0.0005, 'max_epochs': 150, 'n_hidden': 128, 'n_latent': 16, 'n_layers': 2, 'use_gpu': True, 'weight_decay': 1e-06}\n",
      "2025-09-17 19:54:21 | [scVI] fit hp={'n_latent': 16, 'n_hidden': 128, 'n_layers': 2, 'dropout_rate': 0.1, 'max_epochs': 150, 'lr': 0.0005, 'weight_decay': 1e-06, 'batch_size': 512, 'batch_key': 'BioProject', 'use_gpu': True}\n",
      "2025-09-17 19:54:21 | X_train: dense  (298, 800) dtype=int64\n",
      "2025-09-17 19:54:21 | [time] [scVI] train start\n"
     ]
    },
    {
     "name": "stderr",
     "output_type": "stream",
     "text": [
      "/home/ma/ma_ma/ma_minjlee/.conda/envs/scvi/lib/python3.11/site-packages/lightning/fabric/plugins/environments/slurm.py:204: The `srun` command is available on your system but is not used. HINT: If your intention is to run Lightning on SLURM, prepend your python command with `srun` like so: srun python /home/ma/ma_ma/ma_minjlee/.conda/envs/scvi/lib/pytho ...\n",
      "GPU available: False, used: False\n",
      "TPU available: False, using: 0 TPU cores\n",
      "HPU available: False, using: 0 HPUs\n",
      "/home/ma/ma_ma/ma_minjlee/.conda/envs/scvi/lib/python3.11/site-packages/lightning/fabric/plugins/environments/slurm.py:204: The `srun` command is available on your system but is not used. HINT: If your intention is to run Lightning on SLURM, prepend your python command with `srun` like so: srun python /home/ma/ma_ma/ma_minjlee/.conda/envs/scvi/lib/pytho ...\n",
      "/home/ma/ma_ma/ma_minjlee/.conda/envs/scvi/lib/python3.11/site-packages/lightning/pytorch/trainer/connectors/data_connector.py:433: The 'train_dataloader' does not have many workers which may be a bottleneck. Consider increasing the value of the `num_workers` argument` to `num_workers=191` in the `DataLoader` to improve performance.\n",
      "/home/ma/ma_ma/ma_minjlee/.conda/envs/scvi/lib/python3.11/site-packages/lightning/pytorch/loops/fit_loop.py:310: The number of training batches (1) is smaller than the logging interval Trainer(log_every_n_steps=10). Set a lower value for log_every_n_steps if you want to see logs for the training epoch.\n"
     ]
    },
    {
     "name": "stdout",
     "output_type": "stream",
     "text": [
      "Epoch 1/150:   0%|          | 0/150 [00:00<?, ?it/s]2025-09-17 19:54:21 | [time] [scVI] train end in 0.30s\n",
      "2025-09-17 19:54:21 | [scVI] predict_mean\n",
      "2025-09-17 19:54:21 | [time] [scVI] get_likelihood_parameters start\n",
      "\u001b[34mINFO    \u001b[0m Input AnnData not setup with scvi-tools. attempting to transfer AnnData setup                             \n",
      "2025-09-17 19:54:21 | [time] [scVI] get_likelihood_parameters end in 0.01s\n",
      "\u001b[34mINFO    \u001b[0m Input AnnData not setup with scvi-tools. attempting to transfer AnnData setup                             \n",
      "2025-09-17 19:54:21 | [scVI] predict_mean\n",
      "2025-09-17 19:54:21 | [time] [scVI] get_likelihood_parameters start\n",
      "\u001b[34mINFO    \u001b[0m Input AnnData not setup with scvi-tools. attempting to transfer AnnData setup                             \n",
      "2025-09-17 19:54:21 | [time] [scVI] get_likelihood_parameters end in 0.01s\n",
      "2025-09-17 19:54:21 | [scVI] predict_mean\n",
      "2025-09-17 19:54:21 | [time] [scVI] get_likelihood_parameters start\n",
      "\u001b[34mINFO    \u001b[0m Input AnnData not setup with scvi-tools. attempting to transfer AnnData setup                             \n",
      "2025-09-17 19:54:21 | [time] [scVI] get_likelihood_parameters end in 0.01s\n",
      "2025-09-17 19:54:21 | [time] [scVI] fold 2/3 end in 6.13s\n",
      "2025-09-17 19:54:21 | [time] [scVI] fold 3/3 start\n"
     ]
    },
    {
     "name": "stderr",
     "output_type": "stream",
     "text": [
      "/home/ma/ma_ma/ma_minjlee/.conda/envs/scvi/lib/python3.11/site-packages/legacy_api_wrap/__init__.py:82: UserWarning: `flavor='seurat_v3'` expects raw count data, but non-integers were found.\n",
      "  return fn(*args_all, **kw)\n"
     ]
    },
    {
     "name": "stdout",
     "output_type": "stream",
     "text": [
      "2025-09-17 19:54:26 | [scVI] fold 3 | HVG=800\n",
      "2025-09-17 19:54:26 | [scVI] fold 3 params={'batch_size': 512, 'dropout_rate': 0.1, 'lr': 0.0005, 'max_epochs': 150, 'n_hidden': 128, 'n_latent': 16, 'n_layers': 2, 'use_gpu': True, 'weight_decay': 1e-06}\n",
      "2025-09-17 19:54:26 | [scVI] fit hp={'n_latent': 16, 'n_hidden': 128, 'n_layers': 2, 'dropout_rate': 0.1, 'max_epochs': 150, 'lr': 0.0005, 'weight_decay': 1e-06, 'batch_size': 512, 'batch_key': 'BioProject', 'use_gpu': True}\n",
      "2025-09-17 19:54:26 | X_train: dense  (298, 800) dtype=int64\n",
      "2025-09-17 19:54:26 | [time] [scVI] train start\n"
     ]
    },
    {
     "name": "stderr",
     "output_type": "stream",
     "text": [
      "/home/ma/ma_ma/ma_minjlee/.conda/envs/scvi/lib/python3.11/site-packages/lightning/fabric/plugins/environments/slurm.py:204: The `srun` command is available on your system but is not used. HINT: If your intention is to run Lightning on SLURM, prepend your python command with `srun` like so: srun python /home/ma/ma_ma/ma_minjlee/.conda/envs/scvi/lib/pytho ...\n",
      "GPU available: False, used: False\n",
      "TPU available: False, using: 0 TPU cores\n",
      "HPU available: False, using: 0 HPUs\n",
      "/home/ma/ma_ma/ma_minjlee/.conda/envs/scvi/lib/python3.11/site-packages/lightning/fabric/plugins/environments/slurm.py:204: The `srun` command is available on your system but is not used. HINT: If your intention is to run Lightning on SLURM, prepend your python command with `srun` like so: srun python /home/ma/ma_ma/ma_minjlee/.conda/envs/scvi/lib/pytho ...\n",
      "/home/ma/ma_ma/ma_minjlee/.conda/envs/scvi/lib/python3.11/site-packages/lightning/pytorch/trainer/connectors/data_connector.py:433: The 'train_dataloader' does not have many workers which may be a bottleneck. Consider increasing the value of the `num_workers` argument` to `num_workers=191` in the `DataLoader` to improve performance.\n",
      "/home/ma/ma_ma/ma_minjlee/.conda/envs/scvi/lib/python3.11/site-packages/lightning/pytorch/loops/fit_loop.py:310: The number of training batches (1) is smaller than the logging interval Trainer(log_every_n_steps=10). Set a lower value for log_every_n_steps if you want to see logs for the training epoch.\n"
     ]
    },
    {
     "name": "stdout",
     "output_type": "stream",
     "text": [
      "Epoch 1/150:   0%|          | 0/150 [00:12<?, ?it/s]\n",
      "2025-09-17 19:54:27 | [time] [scVI] train end in 0.32s\n",
      "2025-09-17 19:54:27 | [scVI] predict_mean\n",
      "2025-09-17 19:54:27 | [time] [scVI] get_likelihood_parameters start\n",
      "\u001b[34mINFO    \u001b[0m Input AnnData not setup with scvi-tools. attempting to transfer AnnData setup                             \n",
      "2025-09-17 19:54:27 | [time] [scVI] get_likelihood_parameters end in 0.01s\n",
      "\u001b[34mINFO    \u001b[0m Input AnnData not setup with scvi-tools. attempting to transfer AnnData setup                             \n",
      "2025-09-17 19:54:27 | [scVI] predict_mean\n",
      "2025-09-17 19:54:27 | [time] [scVI] get_likelihood_parameters start\n",
      "\u001b[34mINFO    \u001b[0m Input AnnData not setup with scvi-tools. attempting to transfer AnnData setup                             \n",
      "2025-09-17 19:54:27 | [time] [scVI] get_likelihood_parameters end in 0.01s\n",
      "2025-09-17 19:54:27 | [scVI] predict_mean\n",
      "2025-09-17 19:54:27 | [time] [scVI] get_likelihood_parameters start\n",
      "\u001b[34mINFO    \u001b[0m Input AnnData not setup with scvi-tools. attempting to transfer AnnData setup                             \n",
      "2025-09-17 19:54:27 | [time] [scVI] get_likelihood_parameters end in 0.01s\n",
      "2025-09-17 19:54:27 | [time] [scVI] fold 3/3 end in 5.80s\n",
      "2025-09-17 19:54:27 | [cv_scvi_5fold] done\n"
     ]
    },
    {
     "name": "stderr",
     "output_type": "stream",
     "text": [
      "[I 2025-09-17 19:54:27,340] Trial 18 finished with value: -5.8388377169688965 and parameters: {'n_latent': 16, 'n_hidden': 128, 'n_layers': 2, 'dropout_rate': 0.1, 'max_epochs': 150, 'lr': 0.0005, 'weight_decay': 1e-06, 'batch_size': 512, 'n_hvg': 800}. Best is trial 16 with value: -5.656361433846127.\n"
     ]
    },
    {
     "name": "stdout",
     "output_type": "stream",
     "text": [
      "Epoch 1/150:   0%|          | 0/150 [00:06<?, ?it/s]\n",
      "Epoch 1/150:   0%|          | 0/150 [00:00<?, ?it/s]\n",
      "2025-09-17 19:54:27 | [cv_scvi_5fold] start k=3 n_hvg=800 mode=seurat_v3\n",
      "2025-09-17 19:54:27 | X_counts: dense  (447, 51777) dtype=int64\n",
      "2025-09-17 19:54:29 | X_counts: zeros=66.23%, approx_int=True\n",
      "2025-09-17 19:54:29 | [time] [scVI] fold 1/3 start\n"
     ]
    },
    {
     "name": "stderr",
     "output_type": "stream",
     "text": [
      "/home/ma/ma_ma/ma_minjlee/.conda/envs/scvi/lib/python3.11/site-packages/legacy_api_wrap/__init__.py:82: UserWarning: `flavor='seurat_v3'` expects raw count data, but non-integers were found.\n",
      "  return fn(*args_all, **kw)\n"
     ]
    },
    {
     "name": "stdout",
     "output_type": "stream",
     "text": [
      "2025-09-17 19:54:47 | [scVI] fold 1 | HVG=800\n",
      "2025-09-17 19:54:47 | [scVI] fold 1 params={'batch_size': 512, 'dropout_rate': 0.1, 'lr': 0.0005, 'max_epochs': 250, 'n_hidden': 128, 'n_latent': 32, 'n_layers': 2, 'use_gpu': True, 'weight_decay': 1e-06}\n",
      "2025-09-17 19:54:47 | [scVI] fit hp={'n_latent': 32, 'n_hidden': 128, 'n_layers': 2, 'dropout_rate': 0.1, 'max_epochs': 250, 'lr': 0.0005, 'weight_decay': 1e-06, 'batch_size': 512, 'batch_key': 'BioProject', 'use_gpu': True}\n",
      "2025-09-17 19:54:47 | X_train: dense  (298, 800) dtype=int64\n",
      "2025-09-17 19:54:47 | [time] [scVI] train start\n"
     ]
    },
    {
     "name": "stderr",
     "output_type": "stream",
     "text": [
      "/home/ma/ma_ma/ma_minjlee/.conda/envs/scvi/lib/python3.11/site-packages/lightning/fabric/plugins/environments/slurm.py:204: The `srun` command is available on your system but is not used. HINT: If your intention is to run Lightning on SLURM, prepend your python command with `srun` like so: srun python /home/ma/ma_ma/ma_minjlee/.conda/envs/scvi/lib/pytho ...\n",
      "GPU available: False, used: False\n",
      "TPU available: False, using: 0 TPU cores\n",
      "HPU available: False, using: 0 HPUs\n",
      "/home/ma/ma_ma/ma_minjlee/.conda/envs/scvi/lib/python3.11/site-packages/lightning/fabric/plugins/environments/slurm.py:204: The `srun` command is available on your system but is not used. HINT: If your intention is to run Lightning on SLURM, prepend your python command with `srun` like so: srun python /home/ma/ma_ma/ma_minjlee/.conda/envs/scvi/lib/pytho ...\n",
      "/home/ma/ma_ma/ma_minjlee/.conda/envs/scvi/lib/python3.11/site-packages/lightning/pytorch/trainer/connectors/data_connector.py:433: The 'train_dataloader' does not have many workers which may be a bottleneck. Consider increasing the value of the `num_workers` argument` to `num_workers=191` in the `DataLoader` to improve performance.\n",
      "/home/ma/ma_ma/ma_minjlee/.conda/envs/scvi/lib/python3.11/site-packages/lightning/pytorch/loops/fit_loop.py:310: The number of training batches (1) is smaller than the logging interval Trainer(log_every_n_steps=10). Set a lower value for log_every_n_steps if you want to see logs for the training epoch.\n"
     ]
    },
    {
     "name": "stdout",
     "output_type": "stream",
     "text": [
      "Epoch 1/250:   0%|          | 0/250 [00:00<?, ?it/s]2025-09-17 19:54:47 | [time] [scVI] train end in 0.33s\n",
      "2025-09-17 19:54:47 | [scVI] predict_mean\n",
      "2025-09-17 19:54:47 | [time] [scVI] get_likelihood_parameters start\n",
      "\u001b[34mINFO    \u001b[0m Input AnnData not setup with scvi-tools. attempting to transfer AnnData setup                             \n",
      "2025-09-17 19:54:47 | [time] [scVI] get_likelihood_parameters end in 0.01s\n",
      "\u001b[34mINFO    \u001b[0m Input AnnData not setup with scvi-tools. attempting to transfer AnnData setup                             \n",
      "2025-09-17 19:54:47 | [scVI] predict_mean\n",
      "2025-09-17 19:54:47 | [time] [scVI] get_likelihood_parameters start\n",
      "\u001b[34mINFO    \u001b[0m Input AnnData not setup with scvi-tools. attempting to transfer AnnData setup                             \n",
      "2025-09-17 19:54:47 | [time] [scVI] get_likelihood_parameters end in 0.01s\n",
      "2025-09-17 19:54:47 | [scVI] predict_mean\n",
      "2025-09-17 19:54:47 | [time] [scVI] get_likelihood_parameters start\n",
      "\u001b[34mINFO    \u001b[0m Input AnnData not setup with scvi-tools. attempting to transfer AnnData setup                             \n",
      "2025-09-17 19:54:47 | [time] [scVI] get_likelihood_parameters end in 0.01s\n",
      "2025-09-17 19:54:47 | [time] [scVI] fold 1/3 end in 17.70s\n",
      "2025-09-17 19:54:47 | [time] [scVI] fold 2/3 start\n"
     ]
    },
    {
     "name": "stderr",
     "output_type": "stream",
     "text": [
      "/home/ma/ma_ma/ma_minjlee/.conda/envs/scvi/lib/python3.11/site-packages/legacy_api_wrap/__init__.py:82: UserWarning: `flavor='seurat_v3'` expects raw count data, but non-integers were found.\n",
      "  return fn(*args_all, **kw)\n"
     ]
    },
    {
     "name": "stdout",
     "output_type": "stream",
     "text": [
      "2025-09-17 19:54:55 | [scVI] fold 2 | HVG=800\n",
      "2025-09-17 19:54:55 | [scVI] fold 2 params={'batch_size': 512, 'dropout_rate': 0.1, 'lr': 0.0005, 'max_epochs': 250, 'n_hidden': 128, 'n_latent': 32, 'n_layers': 2, 'use_gpu': True, 'weight_decay': 1e-06}\n",
      "2025-09-17 19:54:55 | [scVI] fit hp={'n_latent': 32, 'n_hidden': 128, 'n_layers': 2, 'dropout_rate': 0.1, 'max_epochs': 250, 'lr': 0.0005, 'weight_decay': 1e-06, 'batch_size': 512, 'batch_key': 'BioProject', 'use_gpu': True}\n",
      "2025-09-17 19:54:55 | X_train: dense  (298, 800) dtype=int64\n",
      "2025-09-17 19:54:55 | [time] [scVI] train start\n"
     ]
    },
    {
     "name": "stderr",
     "output_type": "stream",
     "text": [
      "/home/ma/ma_ma/ma_minjlee/.conda/envs/scvi/lib/python3.11/site-packages/lightning/fabric/plugins/environments/slurm.py:204: The `srun` command is available on your system but is not used. HINT: If your intention is to run Lightning on SLURM, prepend your python command with `srun` like so: srun python /home/ma/ma_ma/ma_minjlee/.conda/envs/scvi/lib/pytho ...\n",
      "GPU available: False, used: False\n",
      "TPU available: False, using: 0 TPU cores\n",
      "HPU available: False, using: 0 HPUs\n",
      "/home/ma/ma_ma/ma_minjlee/.conda/envs/scvi/lib/python3.11/site-packages/lightning/fabric/plugins/environments/slurm.py:204: The `srun` command is available on your system but is not used. HINT: If your intention is to run Lightning on SLURM, prepend your python command with `srun` like so: srun python /home/ma/ma_ma/ma_minjlee/.conda/envs/scvi/lib/pytho ...\n",
      "/home/ma/ma_ma/ma_minjlee/.conda/envs/scvi/lib/python3.11/site-packages/lightning/pytorch/trainer/connectors/data_connector.py:433: The 'train_dataloader' does not have many workers which may be a bottleneck. Consider increasing the value of the `num_workers` argument` to `num_workers=191` in the `DataLoader` to improve performance.\n",
      "/home/ma/ma_ma/ma_minjlee/.conda/envs/scvi/lib/python3.11/site-packages/lightning/pytorch/loops/fit_loop.py:310: The number of training batches (1) is smaller than the logging interval Trainer(log_every_n_steps=10). Set a lower value for log_every_n_steps if you want to see logs for the training epoch.\n"
     ]
    },
    {
     "name": "stdout",
     "output_type": "stream",
     "text": [
      "Epoch 1/250:   0%|          | 0/250 [00:00<?, ?it/s]2025-09-17 19:54:55 | [time] [scVI] train end in 0.31s\n",
      "2025-09-17 19:54:55 | [scVI] predict_mean\n",
      "2025-09-17 19:54:55 | [time] [scVI] get_likelihood_parameters start\n",
      "\u001b[34mINFO    \u001b[0m Input AnnData not setup with scvi-tools. attempting to transfer AnnData setup                             \n",
      "2025-09-17 19:54:55 | [time] [scVI] get_likelihood_parameters end in 0.01s\n",
      "\u001b[34mINFO    \u001b[0m Input AnnData not setup with scvi-tools. attempting to transfer AnnData setup                             \n",
      "2025-09-17 19:54:55 | [scVI] predict_mean\n",
      "2025-09-17 19:54:55 | [time] [scVI] get_likelihood_parameters start\n",
      "\u001b[34mINFO    \u001b[0m Input AnnData not setup with scvi-tools. attempting to transfer AnnData setup                             \n",
      "2025-09-17 19:54:55 | [time] [scVI] get_likelihood_parameters end in 0.01s\n",
      "2025-09-17 19:54:55 | [scVI] predict_mean\n",
      "2025-09-17 19:54:55 | [time] [scVI] get_likelihood_parameters start\n",
      "\u001b[34mINFO    \u001b[0m Input AnnData not setup with scvi-tools. attempting to transfer AnnData setup                             \n",
      "2025-09-17 19:54:55 | [time] [scVI] get_likelihood_parameters end in 0.01s\n",
      "2025-09-17 19:54:55 | [time] [scVI] fold 2/3 end in 7.79s\n",
      "2025-09-17 19:54:55 | [time] [scVI] fold 3/3 start\n"
     ]
    },
    {
     "name": "stderr",
     "output_type": "stream",
     "text": [
      "/home/ma/ma_ma/ma_minjlee/.conda/envs/scvi/lib/python3.11/site-packages/legacy_api_wrap/__init__.py:82: UserWarning: `flavor='seurat_v3'` expects raw count data, but non-integers were found.\n",
      "  return fn(*args_all, **kw)\n"
     ]
    },
    {
     "name": "stdout",
     "output_type": "stream",
     "text": [
      "2025-09-17 19:55:06 | [scVI] fold 3 | HVG=800\n",
      "2025-09-17 19:55:06 | [scVI] fold 3 params={'batch_size': 512, 'dropout_rate': 0.1, 'lr': 0.0005, 'max_epochs': 250, 'n_hidden': 128, 'n_latent': 32, 'n_layers': 2, 'use_gpu': True, 'weight_decay': 1e-06}\n",
      "2025-09-17 19:55:06 | [scVI] fit hp={'n_latent': 32, 'n_hidden': 128, 'n_layers': 2, 'dropout_rate': 0.1, 'max_epochs': 250, 'lr': 0.0005, 'weight_decay': 1e-06, 'batch_size': 512, 'batch_key': 'BioProject', 'use_gpu': True}\n",
      "2025-09-17 19:55:06 | X_train: dense  (298, 800) dtype=int64\n",
      "2025-09-17 19:55:06 | [time] [scVI] train start\n"
     ]
    },
    {
     "name": "stderr",
     "output_type": "stream",
     "text": [
      "/home/ma/ma_ma/ma_minjlee/.conda/envs/scvi/lib/python3.11/site-packages/lightning/fabric/plugins/environments/slurm.py:204: The `srun` command is available on your system but is not used. HINT: If your intention is to run Lightning on SLURM, prepend your python command with `srun` like so: srun python /home/ma/ma_ma/ma_minjlee/.conda/envs/scvi/lib/pytho ...\n",
      "GPU available: False, used: False\n",
      "TPU available: False, using: 0 TPU cores\n",
      "HPU available: False, using: 0 HPUs\n",
      "/home/ma/ma_ma/ma_minjlee/.conda/envs/scvi/lib/python3.11/site-packages/lightning/fabric/plugins/environments/slurm.py:204: The `srun` command is available on your system but is not used. HINT: If your intention is to run Lightning on SLURM, prepend your python command with `srun` like so: srun python /home/ma/ma_ma/ma_minjlee/.conda/envs/scvi/lib/pytho ...\n",
      "/home/ma/ma_ma/ma_minjlee/.conda/envs/scvi/lib/python3.11/site-packages/lightning/pytorch/trainer/connectors/data_connector.py:433: The 'train_dataloader' does not have many workers which may be a bottleneck. Consider increasing the value of the `num_workers` argument` to `num_workers=191` in the `DataLoader` to improve performance.\n",
      "/home/ma/ma_ma/ma_minjlee/.conda/envs/scvi/lib/python3.11/site-packages/lightning/pytorch/loops/fit_loop.py:310: The number of training batches (1) is smaller than the logging interval Trainer(log_every_n_steps=10). Set a lower value for log_every_n_steps if you want to see logs for the training epoch.\n"
     ]
    },
    {
     "name": "stdout",
     "output_type": "stream",
     "text": [
      "Epoch 1/250:   0%|          | 0/250 [00:19<?, ?it/s]\n",
      "2025-09-17 19:55:07 | [time] [scVI] train end in 0.31s\n",
      "2025-09-17 19:55:07 | [scVI] predict_mean\n",
      "2025-09-17 19:55:07 | [time] [scVI] get_likelihood_parameters start\n",
      "\u001b[34mINFO    \u001b[0m Input AnnData not setup with scvi-tools. attempting to transfer AnnData setup                             \n",
      "2025-09-17 19:55:07 | [time] [scVI] get_likelihood_parameters end in 0.01s\n",
      "\u001b[34mINFO    \u001b[0m Input AnnData not setup with scvi-tools. attempting to transfer AnnData setup                             \n",
      "2025-09-17 19:55:07 | [scVI] predict_mean\n",
      "2025-09-17 19:55:07 | [time] [scVI] get_likelihood_parameters start\n",
      "\u001b[34mINFO    \u001b[0m Input AnnData not setup with scvi-tools. attempting to transfer AnnData setup                             \n",
      "2025-09-17 19:55:07 | [time] [scVI] get_likelihood_parameters end in 0.01s\n",
      "2025-09-17 19:55:07 | [scVI] predict_mean\n",
      "2025-09-17 19:55:07 | [time] [scVI] get_likelihood_parameters start\n",
      "\u001b[34mINFO    \u001b[0m Input AnnData not setup with scvi-tools. attempting to transfer AnnData setup                             \n",
      "2025-09-17 19:55:07 | [time] [scVI] get_likelihood_parameters end in 0.01s\n",
      "2025-09-17 19:55:07 | [time] [scVI] fold 3/3 end in 11.76s\n",
      "2025-09-17 19:55:07 | [cv_scvi_5fold] done\n"
     ]
    },
    {
     "name": "stderr",
     "output_type": "stream",
     "text": [
      "[I 2025-09-17 19:55:07,232] Trial 19 finished with value: -5.92461608972486 and parameters: {'n_latent': 32, 'n_hidden': 128, 'n_layers': 2, 'dropout_rate': 0.1, 'max_epochs': 250, 'lr': 0.0005, 'weight_decay': 1e-06, 'batch_size': 512, 'n_hvg': 800}. Best is trial 16 with value: -5.656361433846127.\n"
     ]
    },
    {
     "name": "stdout",
     "output_type": "stream",
     "text": [
      "Epoch 1/250:   0%|          | 0/250 [00:12<?, ?it/s]\n",
      "Epoch 1/250:   0%|          | 0/250 [00:00<?, ?it/s]\n",
      "Best params: {'n_latent': 32, 'n_hidden': 128, 'n_layers': 2, 'dropout_rate': 0.1, 'max_epochs': 250, 'lr': 0.0005, 'weight_decay': 1e-06, 'batch_size': 512, 'n_hvg': 800}\n",
      "2025-09-17 19:55:07 | [cv_scvi_5fold] start k=5 n_hvg=800 mode=seurat_v3\n",
      "2025-09-17 19:55:07 | X_counts: dense  (447, 51777) dtype=int64\n",
      "2025-09-17 19:55:18 | X_counts: zeros=66.23%, approx_int=True\n",
      "2025-09-17 19:55:18 | [time] [scVI] fold 1/5 start\n"
     ]
    },
    {
     "name": "stderr",
     "output_type": "stream",
     "text": [
      "/home/ma/ma_ma/ma_minjlee/.conda/envs/scvi/lib/python3.11/site-packages/legacy_api_wrap/__init__.py:82: UserWarning: `flavor='seurat_v3'` expects raw count data, but non-integers were found.\n",
      "  return fn(*args_all, **kw)\n"
     ]
    },
    {
     "name": "stdout",
     "output_type": "stream",
     "text": [
      "2025-09-17 19:55:40 | [scVI] fold 1 | HVG=800\n",
      "2025-09-17 19:55:40 | [scVI] fold 1 params={'batch_size': 512, 'dropout_rate': 0.1, 'lr': 0.0005, 'max_epochs': 300, 'n_hidden': 128, 'n_latent': 32, 'n_layers': 2, 'use_gpu': True, 'weight_decay': 1e-06}\n",
      "2025-09-17 19:55:40 | [scVI] fit hp={'n_latent': 32, 'n_hidden': 128, 'n_layers': 2, 'dropout_rate': 0.1, 'max_epochs': 300, 'lr': 0.0005, 'weight_decay': 1e-06, 'batch_size': 512, 'batch_key': 'BioProject', 'use_gpu': True}\n",
      "2025-09-17 19:55:40 | X_train: dense  (357, 800) dtype=int64\n",
      "2025-09-17 19:55:40 | [time] [scVI] train start\n"
     ]
    },
    {
     "name": "stderr",
     "output_type": "stream",
     "text": [
      "/home/ma/ma_ma/ma_minjlee/.conda/envs/scvi/lib/python3.11/site-packages/lightning/fabric/plugins/environments/slurm.py:204: The `srun` command is available on your system but is not used. HINT: If your intention is to run Lightning on SLURM, prepend your python command with `srun` like so: srun python /home/ma/ma_ma/ma_minjlee/.conda/envs/scvi/lib/pytho ...\n",
      "GPU available: False, used: False\n",
      "TPU available: False, using: 0 TPU cores\n",
      "HPU available: False, using: 0 HPUs\n",
      "/home/ma/ma_ma/ma_minjlee/.conda/envs/scvi/lib/python3.11/site-packages/lightning/fabric/plugins/environments/slurm.py:204: The `srun` command is available on your system but is not used. HINT: If your intention is to run Lightning on SLURM, prepend your python command with `srun` like so: srun python /home/ma/ma_ma/ma_minjlee/.conda/envs/scvi/lib/pytho ...\n",
      "/home/ma/ma_ma/ma_minjlee/.conda/envs/scvi/lib/python3.11/site-packages/lightning/pytorch/trainer/connectors/data_connector.py:433: The 'train_dataloader' does not have many workers which may be a bottleneck. Consider increasing the value of the `num_workers` argument` to `num_workers=191` in the `DataLoader` to improve performance.\n",
      "/home/ma/ma_ma/ma_minjlee/.conda/envs/scvi/lib/python3.11/site-packages/lightning/pytorch/loops/fit_loop.py:310: The number of training batches (1) is smaller than the logging interval Trainer(log_every_n_steps=10). Set a lower value for log_every_n_steps if you want to see logs for the training epoch.\n"
     ]
    },
    {
     "name": "stdout",
     "output_type": "stream",
     "text": [
      "Epoch 1/300:   0%|          | 0/300 [00:00<?, ?it/s]2025-09-17 19:55:41 | [time] [scVI] train end in 0.36s\n",
      "2025-09-17 19:55:41 | [scVI] predict_mean\n",
      "2025-09-17 19:55:41 | [time] [scVI] get_likelihood_parameters start\n",
      "\u001b[34mINFO    \u001b[0m Input AnnData not setup with scvi-tools. attempting to transfer AnnData setup                             \n",
      "2025-09-17 19:55:41 | [time] [scVI] get_likelihood_parameters end in 0.01s\n",
      "\u001b[34mINFO    \u001b[0m Input AnnData not setup with scvi-tools. attempting to transfer AnnData setup                             \n",
      "2025-09-17 19:55:41 | [scVI] predict_mean\n",
      "2025-09-17 19:55:41 | [time] [scVI] get_likelihood_parameters start\n",
      "\u001b[34mINFO    \u001b[0m Input AnnData not setup with scvi-tools. attempting to transfer AnnData setup                             \n",
      "2025-09-17 19:55:41 | [time] [scVI] get_likelihood_parameters end in 0.01s\n",
      "2025-09-17 19:55:41 | [scVI] predict_mean\n",
      "2025-09-17 19:55:41 | [time] [scVI] get_likelihood_parameters start\n",
      "\u001b[34mINFO    \u001b[0m Input AnnData not setup with scvi-tools. attempting to transfer AnnData setup                             \n",
      "2025-09-17 19:55:41 | [time] [scVI] get_likelihood_parameters end in 0.01s\n",
      "2025-09-17 19:55:41 | [scVI] predict_mean\n",
      "2025-09-17 19:55:41 | [time] [scVI] get_likelihood_parameters start\n",
      "\u001b[34mINFO    \u001b[0m Input AnnData not setup with scvi-tools. attempting to transfer AnnData setup                             \n",
      "2025-09-17 19:55:41 | [time] [scVI] get_likelihood_parameters end in 0.01s\n",
      "2025-09-17 19:55:41 | [scVI] predict_mean\n",
      "2025-09-17 19:55:41 | [time] [scVI] get_likelihood_parameters start\n",
      "\u001b[34mINFO    \u001b[0m Input AnnData not setup with scvi-tools. attempting to transfer AnnData setup                             \n",
      "2025-09-17 19:55:41 | [time] [scVI] get_likelihood_parameters end in 0.01s\n",
      "2025-09-17 19:55:41 | [scVI] predict_mean\n",
      "2025-09-17 19:55:41 | [time] [scVI] get_likelihood_parameters start\n",
      "\u001b[34mINFO    \u001b[0m Input AnnData not setup with scvi-tools. attempting to transfer AnnData setup                             \n",
      "2025-09-17 19:55:41 | [time] [scVI] get_likelihood_parameters end in 0.01s\n",
      "2025-09-17 19:55:41 | [scVI] predict_mean\n",
      "2025-09-17 19:55:41 | [time] [scVI] get_likelihood_parameters start\n",
      "\u001b[34mINFO    \u001b[0m Input AnnData not setup with scvi-tools. attempting to transfer AnnData setup                             \n",
      "2025-09-17 19:55:41 | [time] [scVI] get_likelihood_parameters end in 0.01s\n",
      "2025-09-17 19:55:41 | [time] [scVI] fold 1/5 end in 23.35s\n",
      "2025-09-17 19:55:41 | [time] [scVI] fold 2/5 start\n"
     ]
    },
    {
     "name": "stderr",
     "output_type": "stream",
     "text": [
      "/home/ma/ma_ma/ma_minjlee/.conda/envs/scvi/lib/python3.11/site-packages/legacy_api_wrap/__init__.py:82: UserWarning: `flavor='seurat_v3'` expects raw count data, but non-integers were found.\n",
      "  return fn(*args_all, **kw)\n"
     ]
    },
    {
     "name": "stdout",
     "output_type": "stream",
     "text": [
      "2025-09-17 19:56:09 | [scVI] fold 2 | HVG=800\n",
      "2025-09-17 19:56:09 | [scVI] fold 2 params={'batch_size': 512, 'dropout_rate': 0.1, 'lr': 0.0005, 'max_epochs': 300, 'n_hidden': 128, 'n_latent': 32, 'n_layers': 2, 'use_gpu': True, 'weight_decay': 1e-06}\n",
      "2025-09-17 19:56:09 | [scVI] fit hp={'n_latent': 32, 'n_hidden': 128, 'n_layers': 2, 'dropout_rate': 0.1, 'max_epochs': 300, 'lr': 0.0005, 'weight_decay': 1e-06, 'batch_size': 512, 'batch_key': 'BioProject', 'use_gpu': True}\n",
      "2025-09-17 19:56:09 | X_train: dense  (357, 800) dtype=int64\n",
      "2025-09-17 19:56:09 | [time] [scVI] train start\n"
     ]
    },
    {
     "name": "stderr",
     "output_type": "stream",
     "text": [
      "/home/ma/ma_ma/ma_minjlee/.conda/envs/scvi/lib/python3.11/site-packages/lightning/fabric/plugins/environments/slurm.py:204: The `srun` command is available on your system but is not used. HINT: If your intention is to run Lightning on SLURM, prepend your python command with `srun` like so: srun python /home/ma/ma_ma/ma_minjlee/.conda/envs/scvi/lib/pytho ...\n",
      "GPU available: False, used: False\n",
      "TPU available: False, using: 0 TPU cores\n",
      "HPU available: False, using: 0 HPUs\n",
      "/home/ma/ma_ma/ma_minjlee/.conda/envs/scvi/lib/python3.11/site-packages/lightning/fabric/plugins/environments/slurm.py:204: The `srun` command is available on your system but is not used. HINT: If your intention is to run Lightning on SLURM, prepend your python command with `srun` like so: srun python /home/ma/ma_ma/ma_minjlee/.conda/envs/scvi/lib/pytho ...\n",
      "/home/ma/ma_ma/ma_minjlee/.conda/envs/scvi/lib/python3.11/site-packages/lightning/pytorch/trainer/connectors/data_connector.py:433: The 'train_dataloader' does not have many workers which may be a bottleneck. Consider increasing the value of the `num_workers` argument` to `num_workers=191` in the `DataLoader` to improve performance.\n",
      "/home/ma/ma_ma/ma_minjlee/.conda/envs/scvi/lib/python3.11/site-packages/lightning/pytorch/loops/fit_loop.py:310: The number of training batches (1) is smaller than the logging interval Trainer(log_every_n_steps=10). Set a lower value for log_every_n_steps if you want to see logs for the training epoch.\n"
     ]
    },
    {
     "name": "stdout",
     "output_type": "stream",
     "text": [
      "Epoch 1/300:   0%|          | 0/300 [00:00<?, ?it/s]2025-09-17 19:56:09 | [time] [scVI] train end in 0.33s\n",
      "2025-09-17 19:56:09 | [scVI] predict_mean\n",
      "2025-09-17 19:56:09 | [time] [scVI] get_likelihood_parameters start\n",
      "\u001b[34mINFO    \u001b[0m Input AnnData not setup with scvi-tools. attempting to transfer AnnData setup                             \n",
      "2025-09-17 19:56:09 | [time] [scVI] get_likelihood_parameters end in 0.01s\n",
      "\u001b[34mINFO    \u001b[0m Input AnnData not setup with scvi-tools. attempting to transfer AnnData setup                             \n",
      "2025-09-17 19:56:09 | [scVI] predict_mean\n",
      "2025-09-17 19:56:09 | [time] [scVI] get_likelihood_parameters start\n",
      "\u001b[34mINFO    \u001b[0m Input AnnData not setup with scvi-tools. attempting to transfer AnnData setup                             \n",
      "2025-09-17 19:56:09 | [time] [scVI] get_likelihood_parameters end in 0.01s\n",
      "2025-09-17 19:56:09 | [scVI] predict_mean\n",
      "2025-09-17 19:56:09 | [time] [scVI] get_likelihood_parameters start\n",
      "\u001b[34mINFO    \u001b[0m Input AnnData not setup with scvi-tools. attempting to transfer AnnData setup                             \n",
      "2025-09-17 19:56:09 | [time] [scVI] get_likelihood_parameters end in 0.01s\n",
      "2025-09-17 19:56:09 | [scVI] predict_mean\n",
      "2025-09-17 19:56:09 | [time] [scVI] get_likelihood_parameters start\n",
      "\u001b[34mINFO    \u001b[0m Input AnnData not setup with scvi-tools. attempting to transfer AnnData setup                             \n",
      "2025-09-17 19:56:09 | [time] [scVI] get_likelihood_parameters end in 0.01s\n",
      "2025-09-17 19:56:09 | [scVI] predict_mean\n",
      "2025-09-17 19:56:09 | [time] [scVI] get_likelihood_parameters start\n",
      "\u001b[34mINFO    \u001b[0m Input AnnData not setup with scvi-tools. attempting to transfer AnnData setup                             \n",
      "2025-09-17 19:56:09 | [time] [scVI] get_likelihood_parameters end in 0.01s\n",
      "2025-09-17 19:56:09 | [scVI] predict_mean\n",
      "2025-09-17 19:56:09 | [time] [scVI] get_likelihood_parameters start\n",
      "\u001b[34mINFO    \u001b[0m Input AnnData not setup with scvi-tools. attempting to transfer AnnData setup                             \n",
      "2025-09-17 19:56:09 | [time] [scVI] get_likelihood_parameters end in 0.01s\n",
      "2025-09-17 19:56:09 | [scVI] predict_mean\n",
      "2025-09-17 19:56:09 | [time] [scVI] get_likelihood_parameters start\n",
      "\u001b[34mINFO    \u001b[0m Input AnnData not setup with scvi-tools. attempting to transfer AnnData setup                             \n",
      "2025-09-17 19:56:09 | [time] [scVI] get_likelihood_parameters end in 0.01s\n",
      "2025-09-17 19:56:09 | [time] [scVI] fold 2/5 end in 28.38s\n",
      "2025-09-17 19:56:09 | [time] [scVI] fold 3/5 start\n"
     ]
    },
    {
     "name": "stderr",
     "output_type": "stream",
     "text": [
      "/home/ma/ma_ma/ma_minjlee/.conda/envs/scvi/lib/python3.11/site-packages/legacy_api_wrap/__init__.py:82: UserWarning: `flavor='seurat_v3'` expects raw count data, but non-integers were found.\n",
      "  return fn(*args_all, **kw)\n"
     ]
    },
    {
     "name": "stdout",
     "output_type": "stream",
     "text": [
      "2025-09-17 19:56:28 | [scVI] fold 3 | HVG=800\n",
      "2025-09-17 19:56:28 | [scVI] fold 3 params={'batch_size': 512, 'dropout_rate': 0.1, 'lr': 0.0005, 'max_epochs': 300, 'n_hidden': 128, 'n_latent': 32, 'n_layers': 2, 'use_gpu': True, 'weight_decay': 1e-06}\n",
      "2025-09-17 19:56:28 | [scVI] fit hp={'n_latent': 32, 'n_hidden': 128, 'n_layers': 2, 'dropout_rate': 0.1, 'max_epochs': 300, 'lr': 0.0005, 'weight_decay': 1e-06, 'batch_size': 512, 'batch_key': 'BioProject', 'use_gpu': True}\n",
      "2025-09-17 19:56:28 | X_train: dense  (358, 800) dtype=int64\n",
      "2025-09-17 19:56:28 | [time] [scVI] train start\n"
     ]
    },
    {
     "name": "stderr",
     "output_type": "stream",
     "text": [
      "/home/ma/ma_ma/ma_minjlee/.conda/envs/scvi/lib/python3.11/site-packages/lightning/fabric/plugins/environments/slurm.py:204: The `srun` command is available on your system but is not used. HINT: If your intention is to run Lightning on SLURM, prepend your python command with `srun` like so: srun python /home/ma/ma_ma/ma_minjlee/.conda/envs/scvi/lib/pytho ...\n",
      "GPU available: False, used: False\n",
      "TPU available: False, using: 0 TPU cores\n",
      "HPU available: False, using: 0 HPUs\n",
      "/home/ma/ma_ma/ma_minjlee/.conda/envs/scvi/lib/python3.11/site-packages/lightning/fabric/plugins/environments/slurm.py:204: The `srun` command is available on your system but is not used. HINT: If your intention is to run Lightning on SLURM, prepend your python command with `srun` like so: srun python /home/ma/ma_ma/ma_minjlee/.conda/envs/scvi/lib/pytho ...\n",
      "/home/ma/ma_ma/ma_minjlee/.conda/envs/scvi/lib/python3.11/site-packages/lightning/pytorch/trainer/connectors/data_connector.py:433: The 'train_dataloader' does not have many workers which may be a bottleneck. Consider increasing the value of the `num_workers` argument` to `num_workers=191` in the `DataLoader` to improve performance.\n",
      "/home/ma/ma_ma/ma_minjlee/.conda/envs/scvi/lib/python3.11/site-packages/lightning/pytorch/loops/fit_loop.py:310: The number of training batches (1) is smaller than the logging interval Trainer(log_every_n_steps=10). Set a lower value for log_every_n_steps if you want to see logs for the training epoch.\n"
     ]
    },
    {
     "name": "stdout",
     "output_type": "stream",
     "text": [
      "Epoch 1/300:   0%|          | 0/300 [00:47<?, ?it/s]\n",
      "2025-09-17 19:56:28 | [time] [scVI] train end in 0.31s\n",
      "2025-09-17 19:56:28 | [scVI] predict_mean\n",
      "2025-09-17 19:56:28 | [time] [scVI] get_likelihood_parameters start\n",
      "\u001b[34mINFO    \u001b[0m Input AnnData not setup with scvi-tools. attempting to transfer AnnData setup                             \n",
      "2025-09-17 19:56:28 | [time] [scVI] get_likelihood_parameters end in 0.01s\n",
      "\u001b[34mINFO    \u001b[0m Input AnnData not setup with scvi-tools. attempting to transfer AnnData setup                             \n",
      "2025-09-17 19:56:28 | [scVI] predict_mean\n",
      "2025-09-17 19:56:28 | [time] [scVI] get_likelihood_parameters start\n",
      "\u001b[34mINFO    \u001b[0m Input AnnData not setup with scvi-tools. attempting to transfer AnnData setup                             \n",
      "2025-09-17 19:56:28 | [time] [scVI] get_likelihood_parameters end in 0.01s\n",
      "2025-09-17 19:56:28 | [scVI] predict_mean\n",
      "2025-09-17 19:56:28 | [time] [scVI] get_likelihood_parameters start\n",
      "\u001b[34mINFO    \u001b[0m Input AnnData not setup with scvi-tools. attempting to transfer AnnData setup                             \n",
      "2025-09-17 19:56:28 | [time] [scVI] get_likelihood_parameters end in 0.01s\n",
      "2025-09-17 19:56:28 | [scVI] predict_mean\n",
      "2025-09-17 19:56:28 | [time] [scVI] get_likelihood_parameters start\n",
      "\u001b[34mINFO    \u001b[0m Input AnnData not setup with scvi-tools. attempting to transfer AnnData setup                             \n",
      "2025-09-17 19:56:28 | [time] [scVI] get_likelihood_parameters end in 0.01s\n",
      "2025-09-17 19:56:28 | [scVI] predict_mean\n",
      "2025-09-17 19:56:28 | [time] [scVI] get_likelihood_parameters start\n",
      "\u001b[34mINFO    \u001b[0m Input AnnData not setup with scvi-tools. attempting to transfer AnnData setup                             \n",
      "2025-09-17 19:56:28 | [time] [scVI] get_likelihood_parameters end in 0.01s\n",
      "2025-09-17 19:56:28 | [scVI] predict_mean\n",
      "2025-09-17 19:56:28 | [time] [scVI] get_likelihood_parameters start\n",
      "\u001b[34mINFO    \u001b[0m Input AnnData not setup with scvi-tools. attempting to transfer AnnData setup                             \n",
      "2025-09-17 19:56:28 | [time] [scVI] get_likelihood_parameters end in 0.01s\n",
      "2025-09-17 19:56:28 | [scVI] predict_mean\n",
      "2025-09-17 19:56:29 | [time] [scVI] get_likelihood_parameters start\n",
      "\u001b[34mINFO    \u001b[0m Input AnnData not setup with scvi-tools. attempting to transfer AnnData setup                             \n",
      "2025-09-17 19:56:29 | [time] [scVI] get_likelihood_parameters end in 0.01s\n",
      "2025-09-17 19:56:29 | [time] [scVI] fold 3/5 end in 19.25s\n",
      "2025-09-17 19:56:29 | [time] [scVI] fold 4/5 start\n"
     ]
    },
    {
     "name": "stderr",
     "output_type": "stream",
     "text": [
      "/home/ma/ma_ma/ma_minjlee/.conda/envs/scvi/lib/python3.11/site-packages/legacy_api_wrap/__init__.py:82: UserWarning: `flavor='seurat_v3'` expects raw count data, but non-integers were found.\n",
      "  return fn(*args_all, **kw)\n"
     ]
    },
    {
     "name": "stdout",
     "output_type": "stream",
     "text": [
      "2025-09-17 19:56:52 | [scVI] fold 4 | HVG=800\n",
      "2025-09-17 19:56:52 | [scVI] fold 4 params={'batch_size': 512, 'dropout_rate': 0.1, 'lr': 0.0005, 'max_epochs': 300, 'n_hidden': 128, 'n_latent': 32, 'n_layers': 2, 'use_gpu': True, 'weight_decay': 1e-06}\n",
      "2025-09-17 19:56:52 | [scVI] fit hp={'n_latent': 32, 'n_hidden': 128, 'n_layers': 2, 'dropout_rate': 0.1, 'max_epochs': 300, 'lr': 0.0005, 'weight_decay': 1e-06, 'batch_size': 512, 'batch_key': 'BioProject', 'use_gpu': True}\n",
      "2025-09-17 19:56:52 | X_train: dense  (358, 800) dtype=int64\n",
      "2025-09-17 19:56:52 | [time] [scVI] train start\n"
     ]
    },
    {
     "name": "stderr",
     "output_type": "stream",
     "text": [
      "/home/ma/ma_ma/ma_minjlee/.conda/envs/scvi/lib/python3.11/site-packages/lightning/fabric/plugins/environments/slurm.py:204: The `srun` command is available on your system but is not used. HINT: If your intention is to run Lightning on SLURM, prepend your python command with `srun` like so: srun python /home/ma/ma_ma/ma_minjlee/.conda/envs/scvi/lib/pytho ...\n",
      "GPU available: False, used: False\n",
      "TPU available: False, using: 0 TPU cores\n",
      "HPU available: False, using: 0 HPUs\n",
      "/home/ma/ma_ma/ma_minjlee/.conda/envs/scvi/lib/python3.11/site-packages/lightning/fabric/plugins/environments/slurm.py:204: The `srun` command is available on your system but is not used. HINT: If your intention is to run Lightning on SLURM, prepend your python command with `srun` like so: srun python /home/ma/ma_ma/ma_minjlee/.conda/envs/scvi/lib/pytho ...\n",
      "/home/ma/ma_ma/ma_minjlee/.conda/envs/scvi/lib/python3.11/site-packages/lightning/pytorch/trainer/connectors/data_connector.py:433: The 'train_dataloader' does not have many workers which may be a bottleneck. Consider increasing the value of the `num_workers` argument` to `num_workers=191` in the `DataLoader` to improve performance.\n",
      "/home/ma/ma_ma/ma_minjlee/.conda/envs/scvi/lib/python3.11/site-packages/lightning/pytorch/loops/fit_loop.py:310: The number of training batches (1) is smaller than the logging interval Trainer(log_every_n_steps=10). Set a lower value for log_every_n_steps if you want to see logs for the training epoch.\n"
     ]
    },
    {
     "name": "stdout",
     "output_type": "stream",
     "text": [
      "Epoch 1/300:   0%|          | 0/300 [00:43<?, ?it/s]\n",
      "2025-09-17 19:56:52 | [time] [scVI] train end in 0.39s\n",
      "2025-09-17 19:56:52 | [scVI] predict_mean\n",
      "2025-09-17 19:56:52 | [time] [scVI] get_likelihood_parameters start\n",
      "\u001b[34mINFO    \u001b[0m Input AnnData not setup with scvi-tools. attempting to transfer AnnData setup                             \n",
      "2025-09-17 19:56:52 | [time] [scVI] get_likelihood_parameters end in 0.01s\n",
      "\u001b[34mINFO    \u001b[0m Input AnnData not setup with scvi-tools. attempting to transfer AnnData setup                             \n",
      "2025-09-17 19:56:52 | [scVI] predict_mean\n",
      "2025-09-17 19:56:52 | [time] [scVI] get_likelihood_parameters start\n",
      "\u001b[34mINFO    \u001b[0m Input AnnData not setup with scvi-tools. attempting to transfer AnnData setup                             \n",
      "2025-09-17 19:56:52 | [time] [scVI] get_likelihood_parameters end in 0.01s\n",
      "2025-09-17 19:56:52 | [scVI] predict_mean\n",
      "2025-09-17 19:56:52 | [time] [scVI] get_likelihood_parameters start\n",
      "\u001b[34mINFO    \u001b[0m Input AnnData not setup with scvi-tools. attempting to transfer AnnData setup                             \n",
      "2025-09-17 19:56:52 | [time] [scVI] get_likelihood_parameters end in 0.01s\n",
      "2025-09-17 19:56:52 | [scVI] predict_mean\n",
      "2025-09-17 19:56:52 | [time] [scVI] get_likelihood_parameters start\n",
      "\u001b[34mINFO    \u001b[0m Input AnnData not setup with scvi-tools. attempting to transfer AnnData setup                             \n",
      "2025-09-17 19:56:52 | [time] [scVI] get_likelihood_parameters end in 0.01s\n",
      "2025-09-17 19:56:52 | [scVI] predict_mean\n",
      "2025-09-17 19:56:52 | [time] [scVI] get_likelihood_parameters start\n",
      "\u001b[34mINFO    \u001b[0m Input AnnData not setup with scvi-tools. attempting to transfer AnnData setup                             \n",
      "2025-09-17 19:56:52 | [time] [scVI] get_likelihood_parameters end in 0.01s\n",
      "2025-09-17 19:56:52 | [scVI] predict_mean\n",
      "2025-09-17 19:56:52 | [time] [scVI] get_likelihood_parameters start\n",
      "\u001b[34mINFO    \u001b[0m Input AnnData not setup with scvi-tools. attempting to transfer AnnData setup                             \n",
      "2025-09-17 19:56:52 | [time] [scVI] get_likelihood_parameters end in 0.01s\n",
      "2025-09-17 19:56:52 | [scVI] predict_mean\n",
      "2025-09-17 19:56:52 | [time] [scVI] get_likelihood_parameters start\n",
      "\u001b[34mINFO    \u001b[0m Input AnnData not setup with scvi-tools. attempting to transfer AnnData setup                             \n",
      "2025-09-17 19:56:52 | [time] [scVI] get_likelihood_parameters end in 0.01s\n",
      "2025-09-17 19:56:52 | [time] [scVI] fold 4/5 end in 23.96s\n",
      "2025-09-17 19:56:52 | [time] [scVI] fold 5/5 start\n"
     ]
    },
    {
     "name": "stderr",
     "output_type": "stream",
     "text": [
      "/home/ma/ma_ma/ma_minjlee/.conda/envs/scvi/lib/python3.11/site-packages/legacy_api_wrap/__init__.py:82: UserWarning: `flavor='seurat_v3'` expects raw count data, but non-integers were found.\n",
      "  return fn(*args_all, **kw)\n"
     ]
    },
    {
     "name": "stdout",
     "output_type": "stream",
     "text": [
      "2025-09-17 19:57:12 | [scVI] fold 5 | HVG=800\n",
      "2025-09-17 19:57:12 | [scVI] fold 5 params={'batch_size': 512, 'dropout_rate': 0.1, 'lr': 0.0005, 'max_epochs': 300, 'n_hidden': 128, 'n_latent': 32, 'n_layers': 2, 'use_gpu': True, 'weight_decay': 1e-06}\n",
      "2025-09-17 19:57:12 | [scVI] fit hp={'n_latent': 32, 'n_hidden': 128, 'n_layers': 2, 'dropout_rate': 0.1, 'max_epochs': 300, 'lr': 0.0005, 'weight_decay': 1e-06, 'batch_size': 512, 'batch_key': 'BioProject', 'use_gpu': True}\n",
      "2025-09-17 19:57:12 | X_train: dense  (358, 800) dtype=int64\n",
      "2025-09-17 19:57:12 | [time] [scVI] train start\n"
     ]
    },
    {
     "name": "stderr",
     "output_type": "stream",
     "text": [
      "/home/ma/ma_ma/ma_minjlee/.conda/envs/scvi/lib/python3.11/site-packages/lightning/fabric/plugins/environments/slurm.py:204: The `srun` command is available on your system but is not used. HINT: If your intention is to run Lightning on SLURM, prepend your python command with `srun` like so: srun python /home/ma/ma_ma/ma_minjlee/.conda/envs/scvi/lib/pytho ...\n",
      "GPU available: False, used: False\n",
      "TPU available: False, using: 0 TPU cores\n",
      "HPU available: False, using: 0 HPUs\n",
      "/home/ma/ma_ma/ma_minjlee/.conda/envs/scvi/lib/python3.11/site-packages/lightning/fabric/plugins/environments/slurm.py:204: The `srun` command is available on your system but is not used. HINT: If your intention is to run Lightning on SLURM, prepend your python command with `srun` like so: srun python /home/ma/ma_ma/ma_minjlee/.conda/envs/scvi/lib/pytho ...\n",
      "/home/ma/ma_ma/ma_minjlee/.conda/envs/scvi/lib/python3.11/site-packages/lightning/pytorch/trainer/connectors/data_connector.py:433: The 'train_dataloader' does not have many workers which may be a bottleneck. Consider increasing the value of the `num_workers` argument` to `num_workers=191` in the `DataLoader` to improve performance.\n",
      "/home/ma/ma_ma/ma_minjlee/.conda/envs/scvi/lib/python3.11/site-packages/lightning/pytorch/loops/fit_loop.py:310: The number of training batches (1) is smaller than the logging interval Trainer(log_every_n_steps=10). Set a lower value for log_every_n_steps if you want to see logs for the training epoch.\n"
     ]
    },
    {
     "name": "stdout",
     "output_type": "stream",
     "text": [
      "Epoch 1/300:   0%|          | 0/300 [00:44<?, ?it/s]\n",
      "2025-09-17 19:57:13 | [time] [scVI] train end in 0.39s\n",
      "2025-09-17 19:57:13 | [scVI] predict_mean\n",
      "2025-09-17 19:57:13 | [time] [scVI] get_likelihood_parameters start\n",
      "\u001b[34mINFO    \u001b[0m Input AnnData not setup with scvi-tools. attempting to transfer AnnData setup                             \n",
      "2025-09-17 19:57:13 | [time] [scVI] get_likelihood_parameters end in 0.01s\n",
      "\u001b[34mINFO    \u001b[0m Input AnnData not setup with scvi-tools. attempting to transfer AnnData setup                             \n",
      "2025-09-17 19:57:13 | [scVI] predict_mean\n",
      "2025-09-17 19:57:13 | [time] [scVI] get_likelihood_parameters start\n",
      "\u001b[34mINFO    \u001b[0m Input AnnData not setup with scvi-tools. attempting to transfer AnnData setup                             \n",
      "2025-09-17 19:57:13 | [time] [scVI] get_likelihood_parameters end in 0.01s\n",
      "2025-09-17 19:57:13 | [scVI] predict_mean\n",
      "2025-09-17 19:57:13 | [time] [scVI] get_likelihood_parameters start\n",
      "\u001b[34mINFO    \u001b[0m Input AnnData not setup with scvi-tools. attempting to transfer AnnData setup                             \n",
      "2025-09-17 19:57:13 | [time] [scVI] get_likelihood_parameters end in 0.01s\n",
      "2025-09-17 19:57:13 | [scVI] predict_mean\n",
      "2025-09-17 19:57:13 | [time] [scVI] get_likelihood_parameters start\n",
      "\u001b[34mINFO    \u001b[0m Input AnnData not setup with scvi-tools. attempting to transfer AnnData setup                             \n",
      "2025-09-17 19:57:13 | [time] [scVI] get_likelihood_parameters end in 0.01s\n",
      "2025-09-17 19:57:13 | [scVI] predict_mean\n",
      "2025-09-17 19:57:13 | [time] [scVI] get_likelihood_parameters start\n",
      "\u001b[34mINFO    \u001b[0m Input AnnData not setup with scvi-tools. attempting to transfer AnnData setup                             \n",
      "2025-09-17 19:57:13 | [time] [scVI] get_likelihood_parameters end in 0.01s\n",
      "2025-09-17 19:57:13 | [scVI] predict_mean\n",
      "2025-09-17 19:57:13 | [time] [scVI] get_likelihood_parameters start\n",
      "\u001b[34mINFO    \u001b[0m Input AnnData not setup with scvi-tools. attempting to transfer AnnData setup                             \n",
      "2025-09-17 19:57:13 | [time] [scVI] get_likelihood_parameters end in 0.01s\n",
      "2025-09-17 19:57:13 | [scVI] predict_mean\n",
      "2025-09-17 19:57:13 | [time] [scVI] get_likelihood_parameters start\n",
      "\u001b[34mINFO    \u001b[0m Input AnnData not setup with scvi-tools. attempting to transfer AnnData setup                             \n",
      "2025-09-17 19:57:13 | [time] [scVI] get_likelihood_parameters end in 0.01s\n",
      "2025-09-17 19:57:13 | [time] [scVI] fold 5/5 end in 20.35s\n",
      "2025-09-17 19:57:13 | [cv_scvi_5fold] wrote CSVs to results/scvi_full\n",
      "2025-09-17 19:57:13 | [cv_scvi_5fold] done\n"
     ]
    }
   ],
   "source": [
    "study = optuna.create_study(direction=\"maximize\", sampler=optuna.samplers.TPESampler(seed=123))\n",
    "study.optimize(\n",
    "    lambda tr: scvi_objective(\n",
    "        tr, X_counts, gene_names, batches, norm_layer,\n",
    "        k_search=3, seed=123, batch_key=\"BioProject\",\n",
    "        seurat_layer=\"log2_1p_CPM_original\",\n",
    "        labels=None,\n",
    "        use_composite_score=True\n",
    "    ),\n",
    "    n_trials=20,\n",
    "    gc_after_trial=True\n",
    ")\n",
    "\n",
    "print(\"Best params:\", study.best_params)\n",
    "\n",
    "best = study.best_params\n",
    "scvi_grid_final = {\n",
    "    \"n_latent\":    [best[\"n_latent\"]],\n",
    "    \"n_hidden\":    [best[\"n_hidden\"]],\n",
    "    \"n_layers\":    [best[\"n_layers\"]],\n",
    "    \"dropout_rate\":[best[\"dropout_rate\"]],\n",
    "    \"max_epochs\":  [max(300, best[\"max_epochs\"])],\n",
    "    \"lr\":          [best[\"lr\"]],\n",
    "    \"weight_decay\":[best[\"weight_decay\"]],\n",
    "    \"batch_size\":  [best[\"batch_size\"]],\n",
    "    \"use_gpu\":     [True],\n",
    "}\n",
    "summary_final, details_final = cv_scvi_5fold(\n",
    "    X_counts,\n",
    "    k=5,\n",
    "    scvi_grid=scvi_grid_final,\n",
    "    n_hvg=int(best[\"n_hvg\"]),\n",
    "    R=3,\n",
    "    mask_frac=0.10,\n",
    "    thinning_p=0.10,\n",
    "    random_state=123,\n",
    "    hvg_mode=\"seurat_v3\",\n",
    "    gene_names=gene_names,\n",
    "    batches=batches,\n",
    "    norm_layer=norm_layer,\n",
    "    batch_key=\"BioProject\",\n",
    "    seurat_layer_name=\"log2_1p_CPM_original\",\n",
    "    labels=None,\n",
    "    save_dir=\"results/scvi_full\"\n",
    ")\n"
   ]
  },
  {
   "cell_type": "code",
   "execution_count": 9,
   "id": "7f57969b",
   "metadata": {},
   "outputs": [
    {
     "data": {
      "text/html": [
       "<div>\n",
       "<style scoped>\n",
       "    .dataframe tbody tr th:only-of-type {\n",
       "        vertical-align: middle;\n",
       "    }\n",
       "\n",
       "    .dataframe tbody tr th {\n",
       "        vertical-align: top;\n",
       "    }\n",
       "\n",
       "    .dataframe thead th {\n",
       "        text-align: right;\n",
       "    }\n",
       "</style>\n",
       "<table border=\"1\" class=\"dataframe\">\n",
       "  <thead>\n",
       "    <tr style=\"text-align: right;\">\n",
       "      <th></th>\n",
       "      <th>model</th>\n",
       "      <th>n_hvg</th>\n",
       "      <th>MAE_zero</th>\n",
       "      <th>MSE_zero</th>\n",
       "      <th>MedianL1_zero</th>\n",
       "      <th>NB_ll_zero</th>\n",
       "      <th>NB_dev_zero</th>\n",
       "      <th>MAE_thin</th>\n",
       "      <th>MSE_thin</th>\n",
       "      <th>MedianL1_thin</th>\n",
       "      <th>NB_ll_thin</th>\n",
       "      <th>NB_dev_thin</th>\n",
       "      <th>Silhouette</th>\n",
       "      <th>params</th>\n",
       "    </tr>\n",
       "  </thead>\n",
       "  <tbody>\n",
       "    <tr>\n",
       "      <th>0</th>\n",
       "      <td>scVI</td>\n",
       "      <td>800</td>\n",
       "      <td>469.78063</td>\n",
       "      <td>5.120069e+07</td>\n",
       "      <td>131.914311</td>\n",
       "      <td>-8.288211</td>\n",
       "      <td>7.163435</td>\n",
       "      <td>34.348442</td>\n",
       "      <td>277234.700566</td>\n",
       "      <td>16.194821</td>\n",
       "      <td>-2.384981</td>\n",
       "      <td>2.654838</td>\n",
       "      <td>NaN</td>\n",
       "      <td>{'batch_size': 512, 'dropout_rate': 0.1, 'lr':...</td>\n",
       "    </tr>\n",
       "  </tbody>\n",
       "</table>\n",
       "</div>"
      ],
      "text/plain": [
       "  model  n_hvg   MAE_zero      MSE_zero  MedianL1_zero  NB_ll_zero  \\\n",
       "0  scVI    800  469.78063  5.120069e+07     131.914311   -8.288211   \n",
       "\n",
       "   NB_dev_zero   MAE_thin       MSE_thin  MedianL1_thin  NB_ll_thin  \\\n",
       "0     7.163435  34.348442  277234.700566      16.194821   -2.384981   \n",
       "\n",
       "   NB_dev_thin Silhouette                                             params  \n",
       "0     2.654838        NaN  {'batch_size': 512, 'dropout_rate': 0.1, 'lr':...  "
      ]
     },
     "execution_count": 9,
     "metadata": {},
     "output_type": "execute_result"
    }
   ],
   "source": [
    "summary_final"
   ]
  },
  {
   "cell_type": "code",
   "execution_count": 10,
   "id": "a4e03b11",
   "metadata": {},
   "outputs": [
    {
     "data": {
      "text/html": [
       "<div>\n",
       "<style scoped>\n",
       "    .dataframe tbody tr th:only-of-type {\n",
       "        vertical-align: middle;\n",
       "    }\n",
       "\n",
       "    .dataframe tbody tr th {\n",
       "        vertical-align: top;\n",
       "    }\n",
       "\n",
       "    .dataframe thead th {\n",
       "        text-align: right;\n",
       "    }\n",
       "</style>\n",
       "<table border=\"1\" class=\"dataframe\">\n",
       "  <thead>\n",
       "    <tr style=\"text-align: right;\">\n",
       "      <th></th>\n",
       "      <th>fold</th>\n",
       "      <th>model</th>\n",
       "      <th>params</th>\n",
       "      <th>n_hvg</th>\n",
       "      <th>MAE_zero</th>\n",
       "      <th>MSE_zero</th>\n",
       "      <th>MedianL1_zero</th>\n",
       "      <th>NB_ll_zero</th>\n",
       "      <th>NB_dev_zero</th>\n",
       "      <th>MAE_thin</th>\n",
       "      <th>MSE_thin</th>\n",
       "      <th>MedianL1_thin</th>\n",
       "      <th>NB_ll_thin</th>\n",
       "      <th>NB_dev_thin</th>\n",
       "      <th>Silhouette</th>\n",
       "    </tr>\n",
       "  </thead>\n",
       "  <tbody>\n",
       "    <tr>\n",
       "      <th>0</th>\n",
       "      <td>1</td>\n",
       "      <td>scVI</td>\n",
       "      <td>{'batch_size': 512, 'dropout_rate': 0.1, 'lr':...</td>\n",
       "      <td>800</td>\n",
       "      <td>245.930901</td>\n",
       "      <td>4.143159e+06</td>\n",
       "      <td>83.891009</td>\n",
       "      <td>-7.193856</td>\n",
       "      <td>5.045560</td>\n",
       "      <td>18.129593</td>\n",
       "      <td>2.048600e+04</td>\n",
       "      <td>9.324852</td>\n",
       "      <td>-2.144412</td>\n",
       "      <td>2.164265</td>\n",
       "      <td>None</td>\n",
       "    </tr>\n",
       "    <tr>\n",
       "      <th>1</th>\n",
       "      <td>2</td>\n",
       "      <td>scVI</td>\n",
       "      <td>{'batch_size': 512, 'dropout_rate': 0.1, 'lr':...</td>\n",
       "      <td>800</td>\n",
       "      <td>249.075400</td>\n",
       "      <td>4.443176e+06</td>\n",
       "      <td>82.799250</td>\n",
       "      <td>-7.776880</td>\n",
       "      <td>6.092666</td>\n",
       "      <td>17.972455</td>\n",
       "      <td>2.174693e+04</td>\n",
       "      <td>9.276781</td>\n",
       "      <td>-2.193283</td>\n",
       "      <td>2.296809</td>\n",
       "      <td>None</td>\n",
       "    </tr>\n",
       "    <tr>\n",
       "      <th>2</th>\n",
       "      <td>3</td>\n",
       "      <td>scVI</td>\n",
       "      <td>{'batch_size': 512, 'dropout_rate': 0.1, 'lr':...</td>\n",
       "      <td>800</td>\n",
       "      <td>253.503688</td>\n",
       "      <td>5.002068e+06</td>\n",
       "      <td>75.477809</td>\n",
       "      <td>-7.920130</td>\n",
       "      <td>6.529982</td>\n",
       "      <td>17.215016</td>\n",
       "      <td>2.295247e+04</td>\n",
       "      <td>8.672253</td>\n",
       "      <td>-2.224451</td>\n",
       "      <td>2.427724</td>\n",
       "      <td>None</td>\n",
       "    </tr>\n",
       "    <tr>\n",
       "      <th>3</th>\n",
       "      <td>4</td>\n",
       "      <td>scVI</td>\n",
       "      <td>{'batch_size': 512, 'dropout_rate': 0.1, 'lr':...</td>\n",
       "      <td>800</td>\n",
       "      <td>1369.817708</td>\n",
       "      <td>2.384690e+08</td>\n",
       "      <td>340.883532</td>\n",
       "      <td>-9.981423</td>\n",
       "      <td>10.368842</td>\n",
       "      <td>101.163212</td>\n",
       "      <td>1.297898e+06</td>\n",
       "      <td>44.924555</td>\n",
       "      <td>-2.996350</td>\n",
       "      <td>3.702380</td>\n",
       "      <td>None</td>\n",
       "    </tr>\n",
       "    <tr>\n",
       "      <th>4</th>\n",
       "      <td>5</td>\n",
       "      <td>scVI</td>\n",
       "      <td>{'batch_size': 512, 'dropout_rate': 0.1, 'lr':...</td>\n",
       "      <td>800</td>\n",
       "      <td>230.575454</td>\n",
       "      <td>3.946030e+06</td>\n",
       "      <td>76.519956</td>\n",
       "      <td>-8.568766</td>\n",
       "      <td>7.780126</td>\n",
       "      <td>17.261934</td>\n",
       "      <td>2.308976e+04</td>\n",
       "      <td>8.775664</td>\n",
       "      <td>-2.366410</td>\n",
       "      <td>2.683014</td>\n",
       "      <td>None</td>\n",
       "    </tr>\n",
       "  </tbody>\n",
       "</table>\n",
       "</div>"
      ],
      "text/plain": [
       "   fold model                                             params  n_hvg  \\\n",
       "0     1  scVI  {'batch_size': 512, 'dropout_rate': 0.1, 'lr':...    800   \n",
       "1     2  scVI  {'batch_size': 512, 'dropout_rate': 0.1, 'lr':...    800   \n",
       "2     3  scVI  {'batch_size': 512, 'dropout_rate': 0.1, 'lr':...    800   \n",
       "3     4  scVI  {'batch_size': 512, 'dropout_rate': 0.1, 'lr':...    800   \n",
       "4     5  scVI  {'batch_size': 512, 'dropout_rate': 0.1, 'lr':...    800   \n",
       "\n",
       "      MAE_zero      MSE_zero  MedianL1_zero  NB_ll_zero  NB_dev_zero  \\\n",
       "0   245.930901  4.143159e+06      83.891009   -7.193856     5.045560   \n",
       "1   249.075400  4.443176e+06      82.799250   -7.776880     6.092666   \n",
       "2   253.503688  5.002068e+06      75.477809   -7.920130     6.529982   \n",
       "3  1369.817708  2.384690e+08     340.883532   -9.981423    10.368842   \n",
       "4   230.575454  3.946030e+06      76.519956   -8.568766     7.780126   \n",
       "\n",
       "     MAE_thin      MSE_thin  MedianL1_thin  NB_ll_thin  NB_dev_thin Silhouette  \n",
       "0   18.129593  2.048600e+04       9.324852   -2.144412     2.164265       None  \n",
       "1   17.972455  2.174693e+04       9.276781   -2.193283     2.296809       None  \n",
       "2   17.215016  2.295247e+04       8.672253   -2.224451     2.427724       None  \n",
       "3  101.163212  1.297898e+06      44.924555   -2.996350     3.702380       None  \n",
       "4   17.261934  2.308976e+04       8.775664   -2.366410     2.683014       None  "
      ]
     },
     "execution_count": 10,
     "metadata": {},
     "output_type": "execute_result"
    }
   ],
   "source": [
    "details_final"
   ]
  },
  {
   "cell_type": "code",
   "execution_count": null,
   "id": "3cd92e24",
   "metadata": {},
   "outputs": [],
   "source": [
    "# Final retrain/eval using the best HPs from the study\n",
    "# Uses a larger k, more epochs/R, and writes CSVs.\n",
    "\n",
    "# Build one-point grid from best params\n",
    "best_grid = {k: [best[k]] for k in best}\n",
    "\n",
    "final_summary, final_details = cv_scvi_5fold(\n",
    "    X_counts,\n",
    "    k=5,                     # fuller CV\n",
    "    scvi_grid=best_grid,\n",
    "    n_hvg=int(1000),         # or tune via Optuna if you prefer\n",
    "    R=3,                     # more repeats for stability\n",
    "    mask_frac=0.10,\n",
    "    thinning_p=0.10,\n",
    "    random_state=seed,\n",
    "    hvg_mode=\"seurat_v3\",\n",
    "    gene_names=gene_names,\n",
    "    batches=batches,\n",
    "    norm_layer=norm_layer,\n",
    "    batch_key=\"BioProject\",\n",
    "    seurat_layer_name=\"log2_1p_CPM_original\",\n",
    "    labels=None,\n",
    "    save_dir=\"results/scvi_full\",   # CSVs will be written here\n",
    "    heartbeat_path=None,\n",
    ")\n",
    "\n",
    "display(final_summary.head())\n",
    "display(final_details.head())\n",
    "print(\"Saved to: results/scvi_full\")\n"
   ]
  },
  {
   "cell_type": "code",
   "execution_count": 8,
   "id": "03ce6c3d",
   "metadata": {},
   "outputs": [
    {
     "ename": "NameError",
     "evalue": "name 'final_summary' is not defined",
     "output_type": "error",
     "traceback": [
      "\u001b[31m---------------------------------------------------------------------------\u001b[39m",
      "\u001b[31mNameError\u001b[39m                                 Traceback (most recent call last)",
      "\u001b[36mCell\u001b[39m\u001b[36m \u001b[39m\u001b[32mIn[8]\u001b[39m\u001b[32m, line 1\u001b[39m\n\u001b[32m----> \u001b[39m\u001b[32m1\u001b[39m \u001b[43mfinal_summary\u001b[49m\n",
      "\u001b[31mNameError\u001b[39m: name 'final_summary' is not defined"
     ]
    }
   ],
   "source": [
    "final_summary"
   ]
  }
 ],
 "metadata": {
  "kernelspec": {
   "display_name": "scvi",
   "language": "python",
   "name": "python3"
  },
  "language_info": {
   "codemirror_mode": {
    "name": "ipython",
    "version": 3
   },
   "file_extension": ".py",
   "mimetype": "text/x-python",
   "name": "python",
   "nbconvert_exporter": "python",
   "pygments_lexer": "ipython3",
   "version": "3.11.13"
  }
 },
 "nbformat": 4,
 "nbformat_minor": 5
}
