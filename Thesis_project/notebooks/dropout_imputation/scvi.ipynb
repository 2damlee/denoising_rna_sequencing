{
 "cells": [
  {
   "cell_type": "code",
   "execution_count": 1,
   "id": "7e1c472c",
   "metadata": {},
   "outputs": [],
   "source": [
    "import os\n",
    "os.environ[\"OMP_NUM_THREADS\"]=\"4\"\n",
    "os.environ[\"MKL_NUM_THREADS\"]=\"4\"\n",
    "os.environ[\"VECLIB_MAXIMUM_THREADS\"]=\"4\"\n",
    "os.environ[\"NUMEXPR_NUM_THREADS\"]=\"4\"\n",
    "os.environ[\"TF_CPP_MIN_LOG_LEVEL\"]=\"2\""
   ]
  },
  {
   "cell_type": "code",
   "execution_count": null,
   "id": "e2079348",
   "metadata": {},
   "outputs": [],
   "source": [
    "import sys\n",
    "import scanpy as sc\n",
    "\n",
    "sys.path.append(\"../..\")\n",
    "from scripts.runner_models import cv_scvi_5fold\n",
    "\n"
   ]
  },
  {
   "cell_type": "code",
   "execution_count": 3,
   "id": "b5ee717e",
   "metadata": {},
   "outputs": [],
   "source": [
    "# Load data\n",
    "IN_PATH_neu = \"../data/raw_count/GSE169569_raw_counts.h5ad\"\n",
    "IN_PATH_cov = \"../data/raw_count/GSE228841_raw_counts.h5ad\"\n",
    "\n",
    "adata_neu = sc.read_h5ad(IN_PATH_neu)\n",
    "adata_cov = sc.read_h5ad(IN_PATH_cov)"
   ]
  },
  {
   "cell_type": "code",
   "execution_count": 4,
   "id": "246ae7aa",
   "metadata": {},
   "outputs": [],
   "source": [
    "import numpy as np\n",
    "\n",
    "# Extract data matrices and metadata\n",
    "X_counts = adata_neu.layers[\"counts\"] # raw counts\n",
    "gene_names = np.array(adata_neu.var_names, dtype=str)\n",
    "batches = np.array(adata_neu.obs[\"BioProject\"], dtype=str)\n",
    "norm_layer = adata_neu.layers[\"log2_1p_CPM_original\"]"
   ]
  },
  {
   "cell_type": "code",
   "execution_count": 9,
   "id": "49976cc2",
   "metadata": {},
   "outputs": [],
   "source": [
    "# Optuna objective for scVI + helper to run study\n",
    "import optuna\n",
    "from functools import partial\n",
    "\n",
    "def scvi_objective(\n",
    "    trial,\n",
    "    X_counts, gene_names, batches, norm_layer,\n",
    "    k_search=3,\n",
    "    seed=123,\n",
    "    batch_key=\"BioProject\",\n",
    "    seurat_layer=\"log2_1p_CPM_original\",\n",
    "):\n",
    "    \"\"\"\n",
    "    Objective:\n",
    "      - Sample hyperparameters including n_hvg.\n",
    "      - Run cv_scvi_5fold on a one-point grid.\n",
    "      - Return NB_ll_thin mean as optimization target.\n",
    "    \"\"\"\n",
    "\n",
    "    # Hyperparameter search space\n",
    "    hp = dict(\n",
    "        n_latent=trial.suggest_categorical(\"n_latent\", [16, 32]),\n",
    "        n_hidden=trial.suggest_categorical(\"n_hidden\", [128, 256]),\n",
    "        n_layers=trial.suggest_categorical(\"n_layers\", [2]),\n",
    "        dropout_rate=trial.suggest_categorical(\"dropout_rate\", [0.0, 0.1]),\n",
    "        max_epochs=trial.suggest_categorical(\"max_epochs\", [150, 250]),\n",
    "        lr=trial.suggest_categorical(\"lr\", [1e-3, 5e-4]),\n",
    "        weight_decay=trial.suggest_categorical(\"weight_decay\", [1e-6, 1e-5]),\n",
    "        batch_size=trial.suggest_categorical(\"batch_size\", [256, 512]),\n",
    "        n_hvg=trial.suggest_categorical(\"n_hvg\", [800, 1000, 1500, 2000]),\n",
    "        use_gpu=True,\n",
    "    )\n",
    "\n",
    "    # Convert to one-point grid\n",
    "    grid = {k: [v] for k, v in hp.items() if k != \"n_hvg\"}\n",
    "    print(grid)\n",
    "\n",
    "    # Run CV (with HVG value from hp)\n",
    "    summary, detailed_df = cv_scvi_5fold(\n",
    "        X_counts,\n",
    "        k=k_search,\n",
    "        scvi_grid=grid,\n",
    "        n_hvg=hp[\"n_hvg\"],\n",
    "        R=1,\n",
    "        mask_frac=0.10,\n",
    "        thinning_p=0.10,\n",
    "        random_state=seed,\n",
    "        hvg_mode=\"seurat_v3\",\n",
    "        gene_names=gene_names,\n",
    "        batches=batches,\n",
    "        norm_layer=norm_layer,\n",
    "        batch_key=batch_key,\n",
    "        seurat_layer_name=seurat_layer,\n",
    "        labels=None,\n",
    "        save_dir=None,\n",
    "    )\n",
    "\n",
    "    return summary, detailed_df, float(summary[\"NB_ll_thin\"].mean())\n"
   ]
  },
  {
   "cell_type": "code",
   "execution_count": 10,
   "id": "3649ce12",
   "metadata": {},
   "outputs": [
    {
     "name": "stdout",
     "output_type": "stream",
     "text": [
      "{'n_latent': [16], 'n_hidden': [256], 'n_layers': [2], 'dropout_rate': [0.0], 'max_epochs': [150], 'lr': [0.001], 'weight_decay': [1e-05], 'batch_size': [256], 'use_gpu': [True]}\n",
      "2025-09-15 09:31:24 | [cv_scvi_5fold] start k=3 n_hvg=1000 mode=seurat_v3\n",
      "2025-09-15 09:31:24 | X_counts: dense  (447, 51777) dtype=int64\n",
      "2025-09-15 09:31:24 | X_counts: zeros=66.23%, approx_int=True\n",
      "2025-09-15 09:31:24 | [time] [scVI] fold 1/3 start\n"
     ]
    },
    {
     "name": "stderr",
     "output_type": "stream",
     "text": [
      "/Users/mjlee/master_thesis/Thesis_project/thesispjt/thesis-impute/lib/python3.12/site-packages/legacy_api_wrap/__init__.py:82: UserWarning: `flavor='seurat_v3'` expects raw count data, but non-integers were found.\n",
      "  return fn(*args_all, **kw)\n"
     ]
    },
    {
     "name": "stdout",
     "output_type": "stream",
     "text": [
      "2025-09-15 09:31:25 | [scVI] fold 1 | HVG=1000\n",
      "2025-09-15 09:31:25 | [scVI] fold 1 params={'batch_size': 256, 'dropout_rate': 0.0, 'lr': 0.001, 'max_epochs': 150, 'n_hidden': 256, 'n_latent': 16, 'n_layers': 2, 'use_gpu': True, 'weight_decay': 1e-05}\n",
      "2025-09-15 09:31:25 | [scVI] fit hp={'n_latent': 16, 'n_hidden': 256, 'n_layers': 2, 'dropout_rate': 0.0, 'max_epochs': 150, 'lr': 0.001, 'weight_decay': 1e-05, 'batch_size': 256, 'batch_key': 'BioProject', 'use_gpu': True}\n",
      "2025-09-15 09:31:25 | X_train: dense  (298, 1000) dtype=int64\n",
      "2025-09-15 09:31:25 | [time] [scVI] train start\n"
     ]
    },
    {
     "name": "stderr",
     "output_type": "stream",
     "text": [
      "/Users/mjlee/master_thesis/Thesis_project/thesispjt/thesis-impute/lib/python3.12/site-packages/scvi/train/_trainrunner.py:82: UserWarning: `accelerator` has been set to `mps`. Please note that not all PyTorch/Jax operations are supported with this backend. as a result, some models might be slower and less accurate than usuall. Please verify your analysis!Refer to https://github.com/pytorch/pytorch/issues/77764 for more details.\n",
      "  accelerator, lightning_devices, device = parse_device_args(\n",
      "GPU available: True (mps), used: True\n",
      "TPU available: False, using: 0 TPU cores\n",
      "HPU available: False, using: 0 HPUs\n",
      "/Users/mjlee/master_thesis/Thesis_project/thesispjt/thesis-impute/lib/python3.12/site-packages/lightning/pytorch/trainer/connectors/data_connector.py:433: The 'train_dataloader' does not have many workers which may be a bottleneck. Consider increasing the value of the `num_workers` argument` to `num_workers=7` in the `DataLoader` to improve performance.\n",
      "/Users/mjlee/master_thesis/Thesis_project/thesispjt/thesis-impute/lib/python3.12/site-packages/lightning/pytorch/loops/fit_loop.py:310: The number of training batches (2) is smaller than the logging interval Trainer(log_every_n_steps=10). Set a lower value for log_every_n_steps if you want to see logs for the training epoch.\n"
     ]
    },
    {
     "data": {
      "application/vnd.jupyter.widget-view+json": {
       "model_id": "1d6bc8d0f14243deab7b31a50f4685be",
       "version_major": 2,
       "version_minor": 0
      },
      "text/plain": [
       "Training:   0%|          | 0/150 [00:00<?, ?it/s]"
      ]
     },
     "metadata": {},
     "output_type": "display_data"
    },
    {
     "name": "stdout",
     "output_type": "stream",
     "text": [
      "2025-09-15 09:31:25 | [time] [scVI] train end in 0.32s\n",
      "2025-09-15 09:31:25 | [scVI] predict_mean\n",
      "2025-09-15 09:31:25 | [time] [scVI] get_likelihood_parameters start\n",
      "\u001b[34mINFO    \u001b[0m Input AnnData not setup with scvi-tools. attempting to transfer AnnData setup                             \n",
      "2025-09-15 09:31:25 | [time] [scVI] get_likelihood_parameters end in 0.02s\n",
      "\u001b[34mINFO    \u001b[0m Input AnnData not setup with scvi-tools. attempting to transfer AnnData setup                             \n",
      "2025-09-15 09:31:25 | [scVI] predict_mean\n",
      "2025-09-15 09:31:25 | [time] [scVI] get_likelihood_parameters start\n",
      "\u001b[34mINFO    \u001b[0m Input AnnData not setup with scvi-tools. attempting to transfer AnnData setup                             \n",
      "2025-09-15 09:31:25 | [time] [scVI] get_likelihood_parameters end in 0.01s\n",
      "2025-09-15 09:31:25 | [scVI] predict_mean\n",
      "2025-09-15 09:31:25 | [time] [scVI] get_likelihood_parameters start\n",
      "\u001b[34mINFO    \u001b[0m Input AnnData not setup with scvi-tools. attempting to transfer AnnData setup                             \n",
      "2025-09-15 09:31:25 | [time] [scVI] get_likelihood_parameters end in 0.02s\n",
      "2025-09-15 09:31:25 | [time] [scVI] fold 1/3 end in 0.89s\n",
      "2025-09-15 09:31:25 | [time] [scVI] fold 2/3 start\n"
     ]
    },
    {
     "name": "stderr",
     "output_type": "stream",
     "text": [
      "/Users/mjlee/master_thesis/Thesis_project/thesispjt/thesis-impute/lib/python3.12/site-packages/legacy_api_wrap/__init__.py:82: UserWarning: `flavor='seurat_v3'` expects raw count data, but non-integers were found.\n",
      "  return fn(*args_all, **kw)\n"
     ]
    },
    {
     "name": "stdout",
     "output_type": "stream",
     "text": [
      "2025-09-15 09:31:26 | [scVI] fold 2 | HVG=1000\n",
      "2025-09-15 09:31:26 | [scVI] fold 2 params={'batch_size': 256, 'dropout_rate': 0.0, 'lr': 0.001, 'max_epochs': 150, 'n_hidden': 256, 'n_latent': 16, 'n_layers': 2, 'use_gpu': True, 'weight_decay': 1e-05}\n",
      "2025-09-15 09:31:26 | [scVI] fit hp={'n_latent': 16, 'n_hidden': 256, 'n_layers': 2, 'dropout_rate': 0.0, 'max_epochs': 150, 'lr': 0.001, 'weight_decay': 1e-05, 'batch_size': 256, 'batch_key': 'BioProject', 'use_gpu': True}\n",
      "2025-09-15 09:31:26 | X_train: dense  (298, 1000) dtype=int64\n",
      "2025-09-15 09:31:26 | [time] [scVI] train start\n"
     ]
    },
    {
     "name": "stderr",
     "output_type": "stream",
     "text": [
      "/Users/mjlee/master_thesis/Thesis_project/thesispjt/thesis-impute/lib/python3.12/site-packages/scvi/train/_trainrunner.py:82: UserWarning: `accelerator` has been set to `mps`. Please note that not all PyTorch/Jax operations are supported with this backend. as a result, some models might be slower and less accurate than usuall. Please verify your analysis!Refer to https://github.com/pytorch/pytorch/issues/77764 for more details.\n",
      "  accelerator, lightning_devices, device = parse_device_args(\n",
      "GPU available: True (mps), used: True\n",
      "TPU available: False, using: 0 TPU cores\n",
      "HPU available: False, using: 0 HPUs\n",
      "/Users/mjlee/master_thesis/Thesis_project/thesispjt/thesis-impute/lib/python3.12/site-packages/lightning/pytorch/trainer/connectors/data_connector.py:433: The 'train_dataloader' does not have many workers which may be a bottleneck. Consider increasing the value of the `num_workers` argument` to `num_workers=7` in the `DataLoader` to improve performance.\n",
      "/Users/mjlee/master_thesis/Thesis_project/thesispjt/thesis-impute/lib/python3.12/site-packages/lightning/pytorch/loops/fit_loop.py:310: The number of training batches (2) is smaller than the logging interval Trainer(log_every_n_steps=10). Set a lower value for log_every_n_steps if you want to see logs for the training epoch.\n"
     ]
    },
    {
     "data": {
      "application/vnd.jupyter.widget-view+json": {
       "model_id": "cdfafeb8a9bc4aac887a391ee3b81308",
       "version_major": 2,
       "version_minor": 0
      },
      "text/plain": [
       "Training:   0%|          | 0/150 [00:00<?, ?it/s]"
      ]
     },
     "metadata": {},
     "output_type": "display_data"
    },
    {
     "name": "stdout",
     "output_type": "stream",
     "text": [
      "2025-09-15 09:31:26 | [time] [scVI] train end in 0.23s\n",
      "2025-09-15 09:31:26 | [scVI] predict_mean\n",
      "2025-09-15 09:31:26 | [time] [scVI] get_likelihood_parameters start\n",
      "\u001b[34mINFO    \u001b[0m Input AnnData not setup with scvi-tools. attempting to transfer AnnData setup                             \n",
      "2025-09-15 09:31:26 | [time] [scVI] get_likelihood_parameters end in 0.01s\n",
      "\u001b[34mINFO    \u001b[0m Input AnnData not setup with scvi-tools. attempting to transfer AnnData setup                             \n",
      "2025-09-15 09:31:26 | [scVI] predict_mean\n",
      "2025-09-15 09:31:26 | [time] [scVI] get_likelihood_parameters start\n",
      "\u001b[34mINFO    \u001b[0m Input AnnData not setup with scvi-tools. attempting to transfer AnnData setup                             \n",
      "2025-09-15 09:31:26 | [time] [scVI] get_likelihood_parameters end in 0.01s\n",
      "2025-09-15 09:31:26 | [scVI] predict_mean\n",
      "2025-09-15 09:31:26 | [time] [scVI] get_likelihood_parameters start\n",
      "\u001b[34mINFO    \u001b[0m Input AnnData not setup with scvi-tools. attempting to transfer AnnData setup                             \n",
      "2025-09-15 09:31:26 | [time] [scVI] get_likelihood_parameters end in 0.01s\n",
      "2025-09-15 09:31:26 | [time] [scVI] fold 2/3 end in 0.75s\n",
      "2025-09-15 09:31:26 | [time] [scVI] fold 3/3 start\n",
      "2025-09-15 09:31:26 | [scVI] fold 3 | HVG=1000\n",
      "2025-09-15 09:31:26 | [scVI] fold 3 params={'batch_size': 256, 'dropout_rate': 0.0, 'lr': 0.001, 'max_epochs': 150, 'n_hidden': 256, 'n_latent': 16, 'n_layers': 2, 'use_gpu': True, 'weight_decay': 1e-05}\n",
      "2025-09-15 09:31:26 | [scVI] fit hp={'n_latent': 16, 'n_hidden': 256, 'n_layers': 2, 'dropout_rate': 0.0, 'max_epochs': 150, 'lr': 0.001, 'weight_decay': 1e-05, 'batch_size': 256, 'batch_key': 'BioProject', 'use_gpu': True}\n",
      "2025-09-15 09:31:26 | X_train: dense  (298, 1000) dtype=int64\n",
      "2025-09-15 09:31:26 | [time] [scVI] train start\n"
     ]
    },
    {
     "name": "stderr",
     "output_type": "stream",
     "text": [
      "/Users/mjlee/master_thesis/Thesis_project/thesispjt/thesis-impute/lib/python3.12/site-packages/legacy_api_wrap/__init__.py:82: UserWarning: `flavor='seurat_v3'` expects raw count data, but non-integers were found.\n",
      "  return fn(*args_all, **kw)\n",
      "/Users/mjlee/master_thesis/Thesis_project/thesispjt/thesis-impute/lib/python3.12/site-packages/scvi/train/_trainrunner.py:82: UserWarning: `accelerator` has been set to `mps`. Please note that not all PyTorch/Jax operations are supported with this backend. as a result, some models might be slower and less accurate than usuall. Please verify your analysis!Refer to https://github.com/pytorch/pytorch/issues/77764 for more details.\n",
      "  accelerator, lightning_devices, device = parse_device_args(\n",
      "GPU available: True (mps), used: True\n",
      "TPU available: False, using: 0 TPU cores\n",
      "HPU available: False, using: 0 HPUs\n",
      "/Users/mjlee/master_thesis/Thesis_project/thesispjt/thesis-impute/lib/python3.12/site-packages/lightning/pytorch/trainer/connectors/data_connector.py:433: The 'train_dataloader' does not have many workers which may be a bottleneck. Consider increasing the value of the `num_workers` argument` to `num_workers=7` in the `DataLoader` to improve performance.\n",
      "/Users/mjlee/master_thesis/Thesis_project/thesispjt/thesis-impute/lib/python3.12/site-packages/lightning/pytorch/loops/fit_loop.py:310: The number of training batches (2) is smaller than the logging interval Trainer(log_every_n_steps=10). Set a lower value for log_every_n_steps if you want to see logs for the training epoch.\n"
     ]
    },
    {
     "data": {
      "application/vnd.jupyter.widget-view+json": {
       "model_id": "e88f36e21a334aae8e363abded8ff6fa",
       "version_major": 2,
       "version_minor": 0
      },
      "text/plain": [
       "Training:   0%|          | 0/150 [00:00<?, ?it/s]"
      ]
     },
     "metadata": {},
     "output_type": "display_data"
    },
    {
     "name": "stdout",
     "output_type": "stream",
     "text": [
      "2025-09-15 09:31:27 | [time] [scVI] train end in 0.19s\n",
      "2025-09-15 09:31:27 | [scVI] predict_mean\n",
      "2025-09-15 09:31:27 | [time] [scVI] get_likelihood_parameters start\n",
      "\u001b[34mINFO    \u001b[0m Input AnnData not setup with scvi-tools. attempting to transfer AnnData setup                             \n",
      "2025-09-15 09:31:27 | [time] [scVI] get_likelihood_parameters end in 0.02s\n",
      "\u001b[34mINFO    \u001b[0m Input AnnData not setup with scvi-tools. attempting to transfer AnnData setup                             \n",
      "2025-09-15 09:31:27 | [scVI] predict_mean\n",
      "2025-09-15 09:31:27 | [time] [scVI] get_likelihood_parameters start\n",
      "\u001b[34mINFO    \u001b[0m Input AnnData not setup with scvi-tools. attempting to transfer AnnData setup                             \n",
      "2025-09-15 09:31:27 | [time] [scVI] get_likelihood_parameters end in 0.01s\n",
      "2025-09-15 09:31:27 | [scVI] predict_mean\n",
      "2025-09-15 09:31:27 | [time] [scVI] get_likelihood_parameters start\n",
      "\u001b[34mINFO    \u001b[0m Input AnnData not setup with scvi-tools. attempting to transfer AnnData setup                             \n",
      "2025-09-15 09:31:27 | [time] [scVI] get_likelihood_parameters end in 0.05s\n",
      "2025-09-15 09:31:27 | [time] [scVI] fold 3/3 end in 0.65s\n",
      "2025-09-15 09:31:27 | [cv_scvi_5fold] done\n"
     ]
    },
    {
     "name": "stderr",
     "output_type": "stream",
     "text": [
      "[W 2025-09-15 09:31:27,252] Trial 0 failed with parameters: {'n_latent': 16, 'n_hidden': 256, 'n_layers': 2, 'dropout_rate': 0.0, 'max_epochs': 150, 'lr': 0.001, 'weight_decay': 1e-05, 'batch_size': 256, 'n_hvg': 1000} because of the following error: The value   model  n_hvg    MAE_zero      MSE_zero  MedianL1_zero  NB_ll_zero  \\\n",
      "0  scVI   1000  835.554597  1.178407e+08      256.54055   -7.534639   \n",
      "\n",
      "   NB_dev_zero   MAE_thin       MSE_thin  MedianL1_thin  NB_ll_thin  \\\n",
      "0     5.847439  54.743749  553026.868421      25.084602   -2.776028   \n",
      "\n",
      "   NB_dev_thin Silhouette                                             params  \n",
      "0     3.563195        NaN  {'batch_size': 256, 'dropout_rate': 0.0, 'lr':...   could not be cast to float.\n",
      "[W 2025-09-15 09:31:27,255] Trial 0 failed with value (  model  n_hvg    MAE_zero      MSE_zero  MedianL1_zero  NB_ll_zero  \\\n",
      "0  scVI   1000  835.554597  1.178407e+08      256.54055   -7.534639   \n",
      "\n",
      "   NB_dev_zero   MAE_thin       MSE_thin  MedianL1_thin  NB_ll_thin  \\\n",
      "0     5.847439  54.743749  553026.868421      25.084602   -2.776028   \n",
      "\n",
      "   NB_dev_thin Silhouette                                             params  \n",
      "0     3.563195        NaN  {'batch_size': 256, 'dropout_rate': 0.0, 'lr':...  ,    fold model                                             params  n_hvg  \\\n",
      "0     1  scVI  {'batch_size': 256, 'dropout_rate': 0.0, 'lr':...   1000   \n",
      "1     2  scVI  {'batch_size': 256, 'dropout_rate': 0.0, 'lr':...   1000   \n",
      "2     3  scVI  {'batch_size': 256, 'dropout_rate': 0.0, 'lr':...   1000   \n",
      "\n",
      "      MAE_zero      MSE_zero  MedianL1_zero  NB_ll_zero  NB_dev_zero  \\\n",
      "0   606.484915  6.780464e+07     165.423950   -7.851040     6.544673   \n",
      "1  1411.430752  2.513302e+08     432.963257   -7.685654     6.085143   \n",
      "2   488.748123  3.438742e+07     171.234444   -7.067223     4.912502   \n",
      "\n",
      "    MAE_thin      MSE_thin  MedianL1_thin  NB_ll_thin  NB_dev_thin Silhouette  \n",
      "0  34.810285  2.422089e+05      15.401110   -2.702233     3.446366       None  \n",
      "1  94.153207  1.186012e+06      43.196308   -3.039677     4.048835       None  \n",
      "2  35.267756  2.308595e+05      16.656386   -2.586174     3.194383       None  , -2.7760280981821333).\n"
     ]
    },
    {
     "name": "stdout",
     "output_type": "stream",
     "text": [
      "{'n_latent': [32], 'n_hidden': [256], 'n_layers': [2], 'dropout_rate': [0.0], 'max_epochs': [150], 'lr': [0.001], 'weight_decay': [1e-05], 'batch_size': [512], 'use_gpu': [True]}\n",
      "2025-09-15 09:31:27 | [cv_scvi_5fold] start k=3 n_hvg=1000 mode=seurat_v3\n",
      "2025-09-15 09:31:27 | X_counts: dense  (447, 51777) dtype=int64\n",
      "2025-09-15 09:31:27 | X_counts: zeros=66.23%, approx_int=True\n",
      "2025-09-15 09:31:27 | [time] [scVI] fold 1/3 start\n",
      "2025-09-15 09:31:27 | [scVI] fold 1 | HVG=1000\n",
      "2025-09-15 09:31:27 | [scVI] fold 1 params={'batch_size': 512, 'dropout_rate': 0.0, 'lr': 0.001, 'max_epochs': 150, 'n_hidden': 256, 'n_latent': 32, 'n_layers': 2, 'use_gpu': True, 'weight_decay': 1e-05}\n",
      "2025-09-15 09:31:27 | [scVI] fit hp={'n_latent': 32, 'n_hidden': 256, 'n_layers': 2, 'dropout_rate': 0.0, 'max_epochs': 150, 'lr': 0.001, 'weight_decay': 1e-05, 'batch_size': 512, 'batch_key': 'BioProject', 'use_gpu': True}\n",
      "2025-09-15 09:31:27 | X_train: dense  (298, 1000) dtype=int64\n"
     ]
    },
    {
     "name": "stderr",
     "output_type": "stream",
     "text": [
      "/Users/mjlee/master_thesis/Thesis_project/thesispjt/thesis-impute/lib/python3.12/site-packages/legacy_api_wrap/__init__.py:82: UserWarning: `flavor='seurat_v3'` expects raw count data, but non-integers were found.\n",
      "  return fn(*args_all, **kw)\n"
     ]
    },
    {
     "name": "stdout",
     "output_type": "stream",
     "text": [
      "2025-09-15 09:31:27 | [time] [scVI] train start\n"
     ]
    },
    {
     "name": "stderr",
     "output_type": "stream",
     "text": [
      "/Users/mjlee/master_thesis/Thesis_project/thesispjt/thesis-impute/lib/python3.12/site-packages/scvi/train/_trainrunner.py:82: UserWarning: `accelerator` has been set to `mps`. Please note that not all PyTorch/Jax operations are supported with this backend. as a result, some models might be slower and less accurate than usuall. Please verify your analysis!Refer to https://github.com/pytorch/pytorch/issues/77764 for more details.\n",
      "  accelerator, lightning_devices, device = parse_device_args(\n",
      "GPU available: True (mps), used: True\n",
      "TPU available: False, using: 0 TPU cores\n",
      "HPU available: False, using: 0 HPUs\n",
      "/Users/mjlee/master_thesis/Thesis_project/thesispjt/thesis-impute/lib/python3.12/site-packages/lightning/pytorch/trainer/connectors/data_connector.py:433: The 'train_dataloader' does not have many workers which may be a bottleneck. Consider increasing the value of the `num_workers` argument` to `num_workers=7` in the `DataLoader` to improve performance.\n",
      "/Users/mjlee/master_thesis/Thesis_project/thesispjt/thesis-impute/lib/python3.12/site-packages/lightning/pytorch/loops/fit_loop.py:310: The number of training batches (1) is smaller than the logging interval Trainer(log_every_n_steps=10). Set a lower value for log_every_n_steps if you want to see logs for the training epoch.\n"
     ]
    },
    {
     "data": {
      "application/vnd.jupyter.widget-view+json": {
       "model_id": "f0b1bb52309545b185858faac142693a",
       "version_major": 2,
       "version_minor": 0
      },
      "text/plain": [
       "Training:   0%|          | 0/150 [00:00<?, ?it/s]"
      ]
     },
     "metadata": {},
     "output_type": "display_data"
    },
    {
     "name": "stdout",
     "output_type": "stream",
     "text": [
      "2025-09-15 09:31:28 | [time] [scVI] train end in 0.20s\n",
      "2025-09-15 09:31:28 | [scVI] predict_mean\n",
      "2025-09-15 09:31:28 | [time] [scVI] get_likelihood_parameters start\n",
      "\u001b[34mINFO    \u001b[0m Input AnnData not setup with scvi-tools. attempting to transfer AnnData setup                             \n",
      "2025-09-15 09:31:28 | [time] [scVI] get_likelihood_parameters end in 0.01s\n",
      "\u001b[34mINFO    \u001b[0m Input AnnData not setup with scvi-tools. attempting to transfer AnnData setup                             \n",
      "2025-09-15 09:31:28 | [scVI] predict_mean\n",
      "2025-09-15 09:31:28 | [time] [scVI] get_likelihood_parameters start\n",
      "\u001b[34mINFO    \u001b[0m Input AnnData not setup with scvi-tools. attempting to transfer AnnData setup                             \n",
      "2025-09-15 09:31:28 | [time] [scVI] get_likelihood_parameters end in 0.01s\n",
      "2025-09-15 09:31:28 | [scVI] predict_mean\n",
      "2025-09-15 09:31:28 | [time] [scVI] get_likelihood_parameters start\n",
      "\u001b[34mINFO    \u001b[0m Input AnnData not setup with scvi-tools. attempting to transfer AnnData setup                             \n",
      "2025-09-15 09:31:28 | [time] [scVI] get_likelihood_parameters end in 0.01s\n",
      "2025-09-15 09:31:28 | [time] [scVI] fold 1/3 end in 0.64s\n",
      "2025-09-15 09:31:28 | [time] [scVI] fold 2/3 start\n",
      "2025-09-15 09:31:28 | [scVI] fold 2 | HVG=1000\n",
      "2025-09-15 09:31:28 | [scVI] fold 2 params={'batch_size': 512, 'dropout_rate': 0.0, 'lr': 0.001, 'max_epochs': 150, 'n_hidden': 256, 'n_latent': 32, 'n_layers': 2, 'use_gpu': True, 'weight_decay': 1e-05}\n",
      "2025-09-15 09:31:28 | [scVI] fit hp={'n_latent': 32, 'n_hidden': 256, 'n_layers': 2, 'dropout_rate': 0.0, 'max_epochs': 150, 'lr': 0.001, 'weight_decay': 1e-05, 'batch_size': 512, 'batch_key': 'BioProject', 'use_gpu': True}\n",
      "2025-09-15 09:31:28 | X_train: dense  (298, 1000) dtype=int64\n",
      "2025-09-15 09:31:28 | [time] [scVI] train start\n"
     ]
    },
    {
     "name": "stderr",
     "output_type": "stream",
     "text": [
      "/Users/mjlee/master_thesis/Thesis_project/thesispjt/thesis-impute/lib/python3.12/site-packages/legacy_api_wrap/__init__.py:82: UserWarning: `flavor='seurat_v3'` expects raw count data, but non-integers were found.\n",
      "  return fn(*args_all, **kw)\n",
      "/Users/mjlee/master_thesis/Thesis_project/thesispjt/thesis-impute/lib/python3.12/site-packages/scvi/train/_trainrunner.py:82: UserWarning: `accelerator` has been set to `mps`. Please note that not all PyTorch/Jax operations are supported with this backend. as a result, some models might be slower and less accurate than usuall. Please verify your analysis!Refer to https://github.com/pytorch/pytorch/issues/77764 for more details.\n",
      "  accelerator, lightning_devices, device = parse_device_args(\n",
      "GPU available: True (mps), used: True\n",
      "TPU available: False, using: 0 TPU cores\n",
      "HPU available: False, using: 0 HPUs\n",
      "/Users/mjlee/master_thesis/Thesis_project/thesispjt/thesis-impute/lib/python3.12/site-packages/lightning/pytorch/trainer/connectors/data_connector.py:433: The 'train_dataloader' does not have many workers which may be a bottleneck. Consider increasing the value of the `num_workers` argument` to `num_workers=7` in the `DataLoader` to improve performance.\n",
      "/Users/mjlee/master_thesis/Thesis_project/thesispjt/thesis-impute/lib/python3.12/site-packages/lightning/pytorch/loops/fit_loop.py:310: The number of training batches (1) is smaller than the logging interval Trainer(log_every_n_steps=10). Set a lower value for log_every_n_steps if you want to see logs for the training epoch.\n"
     ]
    },
    {
     "data": {
      "application/vnd.jupyter.widget-view+json": {
       "model_id": "d6479b5de5e442f496785dbcadbb45ab",
       "version_major": 2,
       "version_minor": 0
      },
      "text/plain": [
       "Training:   0%|          | 0/150 [00:00<?, ?it/s]"
      ]
     },
     "metadata": {},
     "output_type": "display_data"
    },
    {
     "name": "stdout",
     "output_type": "stream",
     "text": [
      "2025-09-15 09:31:28 | [time] [scVI] train end in 0.21s\n",
      "2025-09-15 09:31:28 | [scVI] predict_mean\n",
      "2025-09-15 09:31:28 | [time] [scVI] get_likelihood_parameters start\n",
      "\u001b[34mINFO    \u001b[0m Input AnnData not setup with scvi-tools. attempting to transfer AnnData setup                             \n",
      "2025-09-15 09:31:28 | [time] [scVI] get_likelihood_parameters end in 0.01s\n",
      "\u001b[34mINFO    \u001b[0m Input AnnData not setup with scvi-tools. attempting to transfer AnnData setup                             \n",
      "2025-09-15 09:31:28 | [scVI] predict_mean\n",
      "2025-09-15 09:31:28 | [time] [scVI] get_likelihood_parameters start\n",
      "\u001b[34mINFO    \u001b[0m Input AnnData not setup with scvi-tools. attempting to transfer AnnData setup                             \n",
      "2025-09-15 09:31:28 | [time] [scVI] get_likelihood_parameters end in 0.01s\n",
      "2025-09-15 09:31:28 | [scVI] predict_mean\n",
      "2025-09-15 09:31:28 | [time] [scVI] get_likelihood_parameters start\n",
      "\u001b[34mINFO    \u001b[0m Input AnnData not setup with scvi-tools. attempting to transfer AnnData setup                             \n",
      "2025-09-15 09:31:28 | [time] [scVI] get_likelihood_parameters end in 0.01s\n",
      "2025-09-15 09:31:28 | [time] [scVI] fold 2/3 end in 0.63s\n",
      "2025-09-15 09:31:28 | [time] [scVI] fold 3/3 start\n",
      "2025-09-15 09:31:29 | [scVI] fold 3 | HVG=1000\n",
      "2025-09-15 09:31:29 | [scVI] fold 3 params={'batch_size': 512, 'dropout_rate': 0.0, 'lr': 0.001, 'max_epochs': 150, 'n_hidden': 256, 'n_latent': 32, 'n_layers': 2, 'use_gpu': True, 'weight_decay': 1e-05}\n",
      "2025-09-15 09:31:29 | [scVI] fit hp={'n_latent': 32, 'n_hidden': 256, 'n_layers': 2, 'dropout_rate': 0.0, 'max_epochs': 150, 'lr': 0.001, 'weight_decay': 1e-05, 'batch_size': 512, 'batch_key': 'BioProject', 'use_gpu': True}\n",
      "2025-09-15 09:31:29 | X_train: dense  (298, 1000) dtype=int64\n",
      "2025-09-15 09:31:29 | [time] [scVI] train start\n"
     ]
    },
    {
     "name": "stderr",
     "output_type": "stream",
     "text": [
      "/Users/mjlee/master_thesis/Thesis_project/thesispjt/thesis-impute/lib/python3.12/site-packages/legacy_api_wrap/__init__.py:82: UserWarning: `flavor='seurat_v3'` expects raw count data, but non-integers were found.\n",
      "  return fn(*args_all, **kw)\n",
      "/Users/mjlee/master_thesis/Thesis_project/thesispjt/thesis-impute/lib/python3.12/site-packages/scvi/train/_trainrunner.py:82: UserWarning: `accelerator` has been set to `mps`. Please note that not all PyTorch/Jax operations are supported with this backend. as a result, some models might be slower and less accurate than usuall. Please verify your analysis!Refer to https://github.com/pytorch/pytorch/issues/77764 for more details.\n",
      "  accelerator, lightning_devices, device = parse_device_args(\n",
      "GPU available: True (mps), used: True\n",
      "TPU available: False, using: 0 TPU cores\n",
      "HPU available: False, using: 0 HPUs\n",
      "/Users/mjlee/master_thesis/Thesis_project/thesispjt/thesis-impute/lib/python3.12/site-packages/lightning/pytorch/trainer/connectors/data_connector.py:433: The 'train_dataloader' does not have many workers which may be a bottleneck. Consider increasing the value of the `num_workers` argument` to `num_workers=7` in the `DataLoader` to improve performance.\n",
      "/Users/mjlee/master_thesis/Thesis_project/thesispjt/thesis-impute/lib/python3.12/site-packages/lightning/pytorch/loops/fit_loop.py:310: The number of training batches (1) is smaller than the logging interval Trainer(log_every_n_steps=10). Set a lower value for log_every_n_steps if you want to see logs for the training epoch.\n"
     ]
    },
    {
     "data": {
      "application/vnd.jupyter.widget-view+json": {
       "model_id": "508e952b57b84980a23632eef9467903",
       "version_major": 2,
       "version_minor": 0
      },
      "text/plain": [
       "Training:   0%|          | 0/150 [00:00<?, ?it/s]"
      ]
     },
     "metadata": {},
     "output_type": "display_data"
    },
    {
     "name": "stdout",
     "output_type": "stream",
     "text": [
      "2025-09-15 09:31:29 | [time] [scVI] train end in 0.19s\n",
      "2025-09-15 09:31:29 | [scVI] predict_mean\n",
      "2025-09-15 09:31:29 | [time] [scVI] get_likelihood_parameters start\n",
      "\u001b[34mINFO    \u001b[0m Input AnnData not setup with scvi-tools. attempting to transfer AnnData setup                             \n",
      "2025-09-15 09:31:29 | [time] [scVI] get_likelihood_parameters end in 0.01s\n",
      "\u001b[34mINFO    \u001b[0m Input AnnData not setup with scvi-tools. attempting to transfer AnnData setup                             \n",
      "2025-09-15 09:31:29 | [scVI] predict_mean\n",
      "2025-09-15 09:31:29 | [time] [scVI] get_likelihood_parameters start\n",
      "\u001b[34mINFO    \u001b[0m Input AnnData not setup with scvi-tools. attempting to transfer AnnData setup                             \n",
      "2025-09-15 09:31:29 | [time] [scVI] get_likelihood_parameters end in 0.01s\n",
      "2025-09-15 09:31:29 | [scVI] predict_mean\n",
      "2025-09-15 09:31:29 | [time] [scVI] get_likelihood_parameters start\n",
      "\u001b[34mINFO    \u001b[0m Input AnnData not setup with scvi-tools. attempting to transfer AnnData setup                             \n",
      "2025-09-15 09:31:29 | [time] [scVI] get_likelihood_parameters end in 0.01s\n",
      "2025-09-15 09:31:29 | [time] [scVI] fold 3/3 end in 0.62s\n",
      "2025-09-15 09:31:29 | [cv_scvi_5fold] done\n"
     ]
    },
    {
     "name": "stderr",
     "output_type": "stream",
     "text": [
      "[W 2025-09-15 09:31:29,483] Trial 1 failed with parameters: {'n_latent': 32, 'n_hidden': 256, 'n_layers': 2, 'dropout_rate': 0.0, 'max_epochs': 150, 'lr': 0.001, 'weight_decay': 1e-05, 'batch_size': 512, 'n_hvg': 1000} because of the following error: The value   model  n_hvg    MAE_zero      MSE_zero  MedianL1_zero  NB_ll_zero  \\\n",
      "0  scVI   1000  834.934246  1.178246e+08     256.643331    -7.51354   \n",
      "\n",
      "   NB_dev_zero   MAE_thin       MSE_thin  MedianL1_thin  NB_ll_thin  \\\n",
      "0      5.80524  54.744102  553055.733402      24.970997   -2.802052   \n",
      "\n",
      "   NB_dev_thin Silhouette                                             params  \n",
      "0     3.615242        NaN  {'batch_size': 512, 'dropout_rate': 0.0, 'lr':...   could not be cast to float.\n",
      "[W 2025-09-15 09:31:29,485] Trial 1 failed with value (  model  n_hvg    MAE_zero      MSE_zero  MedianL1_zero  NB_ll_zero  \\\n",
      "0  scVI   1000  834.934246  1.178246e+08     256.643331    -7.51354   \n",
      "\n",
      "   NB_dev_zero   MAE_thin       MSE_thin  MedianL1_thin  NB_ll_thin  \\\n",
      "0      5.80524  54.744102  553055.733402      24.970997   -2.802052   \n",
      "\n",
      "   NB_dev_thin Silhouette                                             params  \n",
      "0     3.615242        NaN  {'batch_size': 512, 'dropout_rate': 0.0, 'lr':...  ,    fold model                                             params  n_hvg  \\\n",
      "0     1  scVI  {'batch_size': 512, 'dropout_rate': 0.0, 'lr':...   1000   \n",
      "1     2  scVI  {'batch_size': 512, 'dropout_rate': 0.0, 'lr':...   1000   \n",
      "2     3  scVI  {'batch_size': 512, 'dropout_rate': 0.0, 'lr':...   1000   \n",
      "\n",
      "      MAE_zero      MSE_zero  MedianL1_zero  NB_ll_zero  NB_dev_zero  \\\n",
      "0   605.161249  6.776556e+07     164.900269   -7.537880     5.918352   \n",
      "1  1411.701802  2.512996e+08     433.026917   -7.651253     6.016340   \n",
      "2   487.939687  3.440858e+07     172.002808   -7.351486     5.481029   \n",
      "\n",
      "    MAE_thin      MSE_thin  MedianL1_thin  NB_ll_thin  NB_dev_thin Silhouette  \n",
      "0  34.787338  2.421407e+05      15.364191   -2.631266     3.304432       None  \n",
      "1  94.181881  1.186046e+06      42.953644   -3.042452     4.054385       None  \n",
      "2  35.263089  2.309803e+05      16.595156   -2.732438     3.486910       None  , -2.8020517844136648).\n"
     ]
    },
    {
     "name": "stdout",
     "output_type": "stream",
     "text": [
      "{'n_latent': [32], 'n_hidden': [128], 'n_layers': [2], 'dropout_rate': [0.0], 'max_epochs': [250], 'lr': [0.001], 'weight_decay': [1e-05], 'batch_size': [512], 'use_gpu': [True]}\n",
      "2025-09-15 09:31:29 | [cv_scvi_5fold] start k=3 n_hvg=1000 mode=seurat_v3\n",
      "2025-09-15 09:31:29 | X_counts: dense  (447, 51777) dtype=int64\n",
      "2025-09-15 09:31:29 | X_counts: zeros=66.23%, approx_int=True\n",
      "2025-09-15 09:31:29 | [time] [scVI] fold 1/3 start\n",
      "2025-09-15 09:31:30 | [scVI] fold 1 | HVG=1000\n",
      "2025-09-15 09:31:30 | [scVI] fold 1 params={'batch_size': 512, 'dropout_rate': 0.0, 'lr': 0.001, 'max_epochs': 250, 'n_hidden': 128, 'n_latent': 32, 'n_layers': 2, 'use_gpu': True, 'weight_decay': 1e-05}\n",
      "2025-09-15 09:31:30 | [scVI] fit hp={'n_latent': 32, 'n_hidden': 128, 'n_layers': 2, 'dropout_rate': 0.0, 'max_epochs': 250, 'lr': 0.001, 'weight_decay': 1e-05, 'batch_size': 512, 'batch_key': 'BioProject', 'use_gpu': True}\n",
      "2025-09-15 09:31:30 | X_train: dense  (298, 1000) dtype=int64\n",
      "2025-09-15 09:31:30 | [time] [scVI] train start\n"
     ]
    },
    {
     "name": "stderr",
     "output_type": "stream",
     "text": [
      "/Users/mjlee/master_thesis/Thesis_project/thesispjt/thesis-impute/lib/python3.12/site-packages/legacy_api_wrap/__init__.py:82: UserWarning: `flavor='seurat_v3'` expects raw count data, but non-integers were found.\n",
      "  return fn(*args_all, **kw)\n",
      "/Users/mjlee/master_thesis/Thesis_project/thesispjt/thesis-impute/lib/python3.12/site-packages/scvi/train/_trainrunner.py:82: UserWarning: `accelerator` has been set to `mps`. Please note that not all PyTorch/Jax operations are supported with this backend. as a result, some models might be slower and less accurate than usuall. Please verify your analysis!Refer to https://github.com/pytorch/pytorch/issues/77764 for more details.\n",
      "  accelerator, lightning_devices, device = parse_device_args(\n",
      "GPU available: True (mps), used: True\n",
      "TPU available: False, using: 0 TPU cores\n",
      "HPU available: False, using: 0 HPUs\n",
      "/Users/mjlee/master_thesis/Thesis_project/thesispjt/thesis-impute/lib/python3.12/site-packages/lightning/pytorch/trainer/connectors/data_connector.py:433: The 'train_dataloader' does not have many workers which may be a bottleneck. Consider increasing the value of the `num_workers` argument` to `num_workers=7` in the `DataLoader` to improve performance.\n",
      "/Users/mjlee/master_thesis/Thesis_project/thesispjt/thesis-impute/lib/python3.12/site-packages/lightning/pytorch/loops/fit_loop.py:310: The number of training batches (1) is smaller than the logging interval Trainer(log_every_n_steps=10). Set a lower value for log_every_n_steps if you want to see logs for the training epoch.\n"
     ]
    },
    {
     "data": {
      "application/vnd.jupyter.widget-view+json": {
       "model_id": "968e0db3746c444fa25b95c277c9bd9e",
       "version_major": 2,
       "version_minor": 0
      },
      "text/plain": [
       "Training:   0%|          | 0/250 [00:00<?, ?it/s]"
      ]
     },
     "metadata": {},
     "output_type": "display_data"
    },
    {
     "name": "stdout",
     "output_type": "stream",
     "text": [
      "2025-09-15 09:31:30 | [time] [scVI] train end in 0.22s\n",
      "2025-09-15 09:31:30 | [scVI] predict_mean\n",
      "2025-09-15 09:31:30 | [time] [scVI] get_likelihood_parameters start\n",
      "\u001b[34mINFO    \u001b[0m Input AnnData not setup with scvi-tools. attempting to transfer AnnData setup                             \n",
      "2025-09-15 09:31:30 | [time] [scVI] get_likelihood_parameters end in 0.02s\n",
      "\u001b[34mINFO    \u001b[0m Input AnnData not setup with scvi-tools. attempting to transfer AnnData setup                             \n",
      "2025-09-15 09:31:30 | [scVI] predict_mean\n",
      "2025-09-15 09:31:30 | [time] [scVI] get_likelihood_parameters start\n",
      "\u001b[34mINFO    \u001b[0m Input AnnData not setup with scvi-tools. attempting to transfer AnnData setup                             \n",
      "2025-09-15 09:31:30 | [time] [scVI] get_likelihood_parameters end in 0.01s\n",
      "2025-09-15 09:31:30 | [scVI] predict_mean\n",
      "2025-09-15 09:31:30 | [time] [scVI] get_likelihood_parameters start\n",
      "\u001b[34mINFO    \u001b[0m Input AnnData not setup with scvi-tools. attempting to transfer AnnData setup                             \n",
      "2025-09-15 09:31:30 | [time] [scVI] get_likelihood_parameters end in 0.01s\n",
      "2025-09-15 09:31:30 | [time] [scVI] fold 1/3 end in 0.65s\n",
      "2025-09-15 09:31:30 | [time] [scVI] fold 2/3 start\n",
      "2025-09-15 09:31:30 | [scVI] fold 2 | HVG=1000\n",
      "2025-09-15 09:31:30 | [scVI] fold 2 params={'batch_size': 512, 'dropout_rate': 0.0, 'lr': 0.001, 'max_epochs': 250, 'n_hidden': 128, 'n_latent': 32, 'n_layers': 2, 'use_gpu': True, 'weight_decay': 1e-05}\n",
      "2025-09-15 09:31:30 | [scVI] fit hp={'n_latent': 32, 'n_hidden': 128, 'n_layers': 2, 'dropout_rate': 0.0, 'max_epochs': 250, 'lr': 0.001, 'weight_decay': 1e-05, 'batch_size': 512, 'batch_key': 'BioProject', 'use_gpu': True}\n",
      "2025-09-15 09:31:30 | X_train: dense  (298, 1000) dtype=int64\n",
      "2025-09-15 09:31:30 | [time] [scVI] train start\n"
     ]
    },
    {
     "name": "stderr",
     "output_type": "stream",
     "text": [
      "/Users/mjlee/master_thesis/Thesis_project/thesispjt/thesis-impute/lib/python3.12/site-packages/legacy_api_wrap/__init__.py:82: UserWarning: `flavor='seurat_v3'` expects raw count data, but non-integers were found.\n",
      "  return fn(*args_all, **kw)\n",
      "/Users/mjlee/master_thesis/Thesis_project/thesispjt/thesis-impute/lib/python3.12/site-packages/scvi/train/_trainrunner.py:82: UserWarning: `accelerator` has been set to `mps`. Please note that not all PyTorch/Jax operations are supported with this backend. as a result, some models might be slower and less accurate than usuall. Please verify your analysis!Refer to https://github.com/pytorch/pytorch/issues/77764 for more details.\n",
      "  accelerator, lightning_devices, device = parse_device_args(\n",
      "GPU available: True (mps), used: True\n",
      "TPU available: False, using: 0 TPU cores\n",
      "HPU available: False, using: 0 HPUs\n",
      "/Users/mjlee/master_thesis/Thesis_project/thesispjt/thesis-impute/lib/python3.12/site-packages/lightning/pytorch/trainer/connectors/data_connector.py:433: The 'train_dataloader' does not have many workers which may be a bottleneck. Consider increasing the value of the `num_workers` argument` to `num_workers=7` in the `DataLoader` to improve performance.\n",
      "/Users/mjlee/master_thesis/Thesis_project/thesispjt/thesis-impute/lib/python3.12/site-packages/lightning/pytorch/loops/fit_loop.py:310: The number of training batches (1) is smaller than the logging interval Trainer(log_every_n_steps=10). Set a lower value for log_every_n_steps if you want to see logs for the training epoch.\n"
     ]
    },
    {
     "data": {
      "application/vnd.jupyter.widget-view+json": {
       "model_id": "ecc4a7e8c497408eb4bdff035905d041",
       "version_major": 2,
       "version_minor": 0
      },
      "text/plain": [
       "Training:   0%|          | 0/250 [00:00<?, ?it/s]"
      ]
     },
     "metadata": {},
     "output_type": "display_data"
    },
    {
     "name": "stdout",
     "output_type": "stream",
     "text": [
      "2025-09-15 09:31:31 | [time] [scVI] train end in 0.19s\n",
      "2025-09-15 09:31:31 | [scVI] predict_mean\n",
      "2025-09-15 09:31:31 | [time] [scVI] get_likelihood_parameters start\n",
      "\u001b[34mINFO    \u001b[0m Input AnnData not setup with scvi-tools. attempting to transfer AnnData setup                             \n",
      "2025-09-15 09:31:31 | [time] [scVI] get_likelihood_parameters end in 0.02s\n",
      "\u001b[34mINFO    \u001b[0m Input AnnData not setup with scvi-tools. attempting to transfer AnnData setup                             \n",
      "2025-09-15 09:31:31 | [scVI] predict_mean\n",
      "2025-09-15 09:31:31 | [time] [scVI] get_likelihood_parameters start\n",
      "\u001b[34mINFO    \u001b[0m Input AnnData not setup with scvi-tools. attempting to transfer AnnData setup                             \n",
      "2025-09-15 09:31:31 | [time] [scVI] get_likelihood_parameters end in 0.01s\n",
      "2025-09-15 09:31:31 | [scVI] predict_mean\n",
      "2025-09-15 09:31:31 | [time] [scVI] get_likelihood_parameters start\n",
      "\u001b[34mINFO    \u001b[0m Input AnnData not setup with scvi-tools. attempting to transfer AnnData setup                             \n",
      "2025-09-15 09:31:31 | [time] [scVI] get_likelihood_parameters end in 0.01s\n",
      "2025-09-15 09:31:31 | [time] [scVI] fold 2/3 end in 0.61s\n",
      "2025-09-15 09:31:31 | [time] [scVI] fold 3/3 start\n",
      "2025-09-15 09:31:31 | [scVI] fold 3 | HVG=1000\n",
      "2025-09-15 09:31:31 | [scVI] fold 3 params={'batch_size': 512, 'dropout_rate': 0.0, 'lr': 0.001, 'max_epochs': 250, 'n_hidden': 128, 'n_latent': 32, 'n_layers': 2, 'use_gpu': True, 'weight_decay': 1e-05}\n",
      "2025-09-15 09:31:31 | [scVI] fit hp={'n_latent': 32, 'n_hidden': 128, 'n_layers': 2, 'dropout_rate': 0.0, 'max_epochs': 250, 'lr': 0.001, 'weight_decay': 1e-05, 'batch_size': 512, 'batch_key': 'BioProject', 'use_gpu': True}\n",
      "2025-09-15 09:31:31 | X_train: dense  (298, 1000) dtype=int64\n",
      "2025-09-15 09:31:31 | [time] [scVI] train start\n"
     ]
    },
    {
     "name": "stderr",
     "output_type": "stream",
     "text": [
      "/Users/mjlee/master_thesis/Thesis_project/thesispjt/thesis-impute/lib/python3.12/site-packages/legacy_api_wrap/__init__.py:82: UserWarning: `flavor='seurat_v3'` expects raw count data, but non-integers were found.\n",
      "  return fn(*args_all, **kw)\n",
      "/Users/mjlee/master_thesis/Thesis_project/thesispjt/thesis-impute/lib/python3.12/site-packages/scvi/train/_trainrunner.py:82: UserWarning: `accelerator` has been set to `mps`. Please note that not all PyTorch/Jax operations are supported with this backend. as a result, some models might be slower and less accurate than usuall. Please verify your analysis!Refer to https://github.com/pytorch/pytorch/issues/77764 for more details.\n",
      "  accelerator, lightning_devices, device = parse_device_args(\n",
      "GPU available: True (mps), used: True\n",
      "TPU available: False, using: 0 TPU cores\n",
      "HPU available: False, using: 0 HPUs\n",
      "/Users/mjlee/master_thesis/Thesis_project/thesispjt/thesis-impute/lib/python3.12/site-packages/lightning/pytorch/trainer/connectors/data_connector.py:433: The 'train_dataloader' does not have many workers which may be a bottleneck. Consider increasing the value of the `num_workers` argument` to `num_workers=7` in the `DataLoader` to improve performance.\n",
      "/Users/mjlee/master_thesis/Thesis_project/thesispjt/thesis-impute/lib/python3.12/site-packages/lightning/pytorch/loops/fit_loop.py:310: The number of training batches (1) is smaller than the logging interval Trainer(log_every_n_steps=10). Set a lower value for log_every_n_steps if you want to see logs for the training epoch.\n"
     ]
    },
    {
     "data": {
      "application/vnd.jupyter.widget-view+json": {
       "model_id": "74601cf0c0654736a33827444fc4f4c1",
       "version_major": 2,
       "version_minor": 0
      },
      "text/plain": [
       "Training:   0%|          | 0/250 [00:00<?, ?it/s]"
      ]
     },
     "metadata": {},
     "output_type": "display_data"
    },
    {
     "name": "stdout",
     "output_type": "stream",
     "text": [
      "2025-09-15 09:31:31 | [time] [scVI] train end in 0.21s\n",
      "2025-09-15 09:31:31 | [scVI] predict_mean\n",
      "2025-09-15 09:31:31 | [time] [scVI] get_likelihood_parameters start\n",
      "\u001b[34mINFO    \u001b[0m Input AnnData not setup with scvi-tools. attempting to transfer AnnData setup                             \n",
      "2025-09-15 09:31:31 | [time] [scVI] get_likelihood_parameters end in 0.01s\n",
      "\u001b[34mINFO    \u001b[0m Input AnnData not setup with scvi-tools. attempting to transfer AnnData setup                             \n",
      "2025-09-15 09:31:31 | [scVI] predict_mean\n",
      "2025-09-15 09:31:31 | [time] [scVI] get_likelihood_parameters start\n",
      "\u001b[34mINFO    \u001b[0m Input AnnData not setup with scvi-tools. attempting to transfer AnnData setup                             \n",
      "2025-09-15 09:31:31 | [time] [scVI] get_likelihood_parameters end in 0.01s\n",
      "2025-09-15 09:31:31 | [scVI] predict_mean\n",
      "2025-09-15 09:31:31 | [time] [scVI] get_likelihood_parameters start\n",
      "\u001b[34mINFO    \u001b[0m Input AnnData not setup with scvi-tools. attempting to transfer AnnData setup                             \n",
      "2025-09-15 09:31:31 | [time] [scVI] get_likelihood_parameters end in 0.01s\n",
      "2025-09-15 09:31:31 | [time] [scVI] fold 3/3 end in 0.64s\n",
      "2025-09-15 09:31:31 | [cv_scvi_5fold] done\n"
     ]
    },
    {
     "name": "stderr",
     "output_type": "stream",
     "text": [
      "[W 2025-09-15 09:31:31,734] Trial 2 failed with parameters: {'n_latent': 32, 'n_hidden': 128, 'n_layers': 2, 'dropout_rate': 0.0, 'max_epochs': 250, 'lr': 0.001, 'weight_decay': 1e-05, 'batch_size': 512, 'n_hvg': 1000} because of the following error: The value   model  n_hvg    MAE_zero      MSE_zero  MedianL1_zero  NB_ll_zero  \\\n",
      "0  scVI   1000  835.371905  1.178052e+08     254.744481   -7.442887   \n",
      "\n",
      "   NB_dev_zero   MAE_thin       MSE_thin  MedianL1_thin  NB_ll_thin  \\\n",
      "0     5.663934  54.743456  552857.174792       24.92124   -2.735925   \n",
      "\n",
      "   NB_dev_thin Silhouette                                             params  \n",
      "0     3.482989        NaN  {'batch_size': 512, 'dropout_rate': 0.0, 'lr':...   could not be cast to float.\n",
      "[W 2025-09-15 09:31:31,736] Trial 2 failed with value (  model  n_hvg    MAE_zero      MSE_zero  MedianL1_zero  NB_ll_zero  \\\n",
      "0  scVI   1000  835.371905  1.178052e+08     254.744481   -7.442887   \n",
      "\n",
      "   NB_dev_zero   MAE_thin       MSE_thin  MedianL1_thin  NB_ll_thin  \\\n",
      "0     5.663934  54.743456  552857.174792       24.92124   -2.735925   \n",
      "\n",
      "   NB_dev_thin Silhouette                                             params  \n",
      "0     3.482989        NaN  {'batch_size': 512, 'dropout_rate': 0.0, 'lr':...  ,    fold model                                             params  n_hvg  \\\n",
      "0     1  scVI  {'batch_size': 512, 'dropout_rate': 0.0, 'lr':...   1000   \n",
      "1     2  scVI  {'batch_size': 512, 'dropout_rate': 0.0, 'lr':...   1000   \n",
      "2     3  scVI  {'batch_size': 512, 'dropout_rate': 0.0, 'lr':...   1000   \n",
      "\n",
      "      MAE_zero      MSE_zero  MedianL1_zero  NB_ll_zero  NB_dev_zero  \\\n",
      "0   604.742895  6.777912e+07     163.506927   -7.648646     6.139885   \n",
      "1  1412.854355  2.512437e+08     429.314255   -7.547420     5.808675   \n",
      "2   488.518463  3.439281e+07     171.412262   -7.132594     5.043244   \n",
      "\n",
      "    MAE_thin      MSE_thin  MedianL1_thin  NB_ll_thin  NB_dev_thin Silhouette  \n",
      "0  34.790276  2.421434e+05      15.381937   -2.639305     3.320510       None  \n",
      "1  94.185211  1.185527e+06      42.822746   -2.944928     3.859337       None  \n",
      "2  35.254882  2.309014e+05      16.559037   -2.623543     3.269120       None  , -2.735925168325584).\n"
     ]
    },
    {
     "name": "stdout",
     "output_type": "stream",
     "text": [
      "{'n_latent': [16], 'n_hidden': [256], 'n_layers': [2], 'dropout_rate': [0.0], 'max_epochs': [150], 'lr': [0.0005], 'weight_decay': [1e-06], 'batch_size': [256], 'use_gpu': [True]}\n",
      "2025-09-15 09:31:31 | [cv_scvi_5fold] start k=3 n_hvg=2000 mode=seurat_v3\n",
      "2025-09-15 09:31:31 | X_counts: dense  (447, 51777) dtype=int64\n",
      "2025-09-15 09:31:32 | X_counts: zeros=66.23%, approx_int=True\n",
      "2025-09-15 09:31:32 | [time] [scVI] fold 1/3 start\n",
      "2025-09-15 09:31:32 | [scVI] fold 1 | HVG=2000\n",
      "2025-09-15 09:31:32 | [scVI] fold 1 params={'batch_size': 256, 'dropout_rate': 0.0, 'lr': 0.0005, 'max_epochs': 150, 'n_hidden': 256, 'n_latent': 16, 'n_layers': 2, 'use_gpu': True, 'weight_decay': 1e-06}\n",
      "2025-09-15 09:31:32 | [scVI] fit hp={'n_latent': 16, 'n_hidden': 256, 'n_layers': 2, 'dropout_rate': 0.0, 'max_epochs': 150, 'lr': 0.0005, 'weight_decay': 1e-06, 'batch_size': 256, 'batch_key': 'BioProject', 'use_gpu': True}\n",
      "2025-09-15 09:31:32 | X_train: dense  (298, 2000) dtype=int64\n"
     ]
    },
    {
     "name": "stderr",
     "output_type": "stream",
     "text": [
      "/Users/mjlee/master_thesis/Thesis_project/thesispjt/thesis-impute/lib/python3.12/site-packages/legacy_api_wrap/__init__.py:82: UserWarning: `flavor='seurat_v3'` expects raw count data, but non-integers were found.\n",
      "  return fn(*args_all, **kw)\n"
     ]
    },
    {
     "name": "stdout",
     "output_type": "stream",
     "text": [
      "2025-09-15 09:31:32 | [time] [scVI] train start\n"
     ]
    },
    {
     "name": "stderr",
     "output_type": "stream",
     "text": [
      "/Users/mjlee/master_thesis/Thesis_project/thesispjt/thesis-impute/lib/python3.12/site-packages/scvi/train/_trainrunner.py:82: UserWarning: `accelerator` has been set to `mps`. Please note that not all PyTorch/Jax operations are supported with this backend. as a result, some models might be slower and less accurate than usuall. Please verify your analysis!Refer to https://github.com/pytorch/pytorch/issues/77764 for more details.\n",
      "  accelerator, lightning_devices, device = parse_device_args(\n",
      "GPU available: True (mps), used: True\n",
      "TPU available: False, using: 0 TPU cores\n",
      "HPU available: False, using: 0 HPUs\n",
      "/Users/mjlee/master_thesis/Thesis_project/thesispjt/thesis-impute/lib/python3.12/site-packages/lightning/pytorch/trainer/connectors/data_connector.py:433: The 'train_dataloader' does not have many workers which may be a bottleneck. Consider increasing the value of the `num_workers` argument` to `num_workers=7` in the `DataLoader` to improve performance.\n",
      "/Users/mjlee/master_thesis/Thesis_project/thesispjt/thesis-impute/lib/python3.12/site-packages/lightning/pytorch/loops/fit_loop.py:310: The number of training batches (2) is smaller than the logging interval Trainer(log_every_n_steps=10). Set a lower value for log_every_n_steps if you want to see logs for the training epoch.\n"
     ]
    },
    {
     "data": {
      "application/vnd.jupyter.widget-view+json": {
       "model_id": "2c4b91165b744270b0a6d73de3a8088b",
       "version_major": 2,
       "version_minor": 0
      },
      "text/plain": [
       "Training:   0%|          | 0/150 [00:00<?, ?it/s]"
      ]
     },
     "metadata": {},
     "output_type": "display_data"
    },
    {
     "name": "stdout",
     "output_type": "stream",
     "text": [
      "2025-09-15 09:31:32 | [time] [scVI] train end in 0.20s\n",
      "2025-09-15 09:31:32 | [scVI] predict_mean\n",
      "2025-09-15 09:31:32 | [time] [scVI] get_likelihood_parameters start\n",
      "\u001b[34mINFO    \u001b[0m Input AnnData not setup with scvi-tools. attempting to transfer AnnData setup                             \n",
      "2025-09-15 09:31:32 | [time] [scVI] get_likelihood_parameters end in 0.02s\n",
      "\u001b[34mINFO    \u001b[0m Input AnnData not setup with scvi-tools. attempting to transfer AnnData setup                             \n",
      "2025-09-15 09:31:32 | [scVI] predict_mean\n",
      "2025-09-15 09:31:32 | [time] [scVI] get_likelihood_parameters start\n",
      "\u001b[34mINFO    \u001b[0m Input AnnData not setup with scvi-tools. attempting to transfer AnnData setup                             \n",
      "2025-09-15 09:31:32 | [time] [scVI] get_likelihood_parameters end in 0.02s\n",
      "2025-09-15 09:31:32 | [scVI] predict_mean\n",
      "2025-09-15 09:31:32 | [time] [scVI] get_likelihood_parameters start\n",
      "\u001b[34mINFO    \u001b[0m Input AnnData not setup with scvi-tools. attempting to transfer AnnData setup                             \n",
      "2025-09-15 09:31:32 | [time] [scVI] get_likelihood_parameters end in 0.02s\n",
      "2025-09-15 09:31:32 | [time] [scVI] fold 1/3 end in 0.69s\n",
      "2025-09-15 09:31:32 | [time] [scVI] fold 2/3 start\n",
      "2025-09-15 09:31:33 | [scVI] fold 2 | HVG=2000\n",
      "2025-09-15 09:31:33 | [scVI] fold 2 params={'batch_size': 256, 'dropout_rate': 0.0, 'lr': 0.0005, 'max_epochs': 150, 'n_hidden': 256, 'n_latent': 16, 'n_layers': 2, 'use_gpu': True, 'weight_decay': 1e-06}\n",
      "2025-09-15 09:31:33 | [scVI] fit hp={'n_latent': 16, 'n_hidden': 256, 'n_layers': 2, 'dropout_rate': 0.0, 'max_epochs': 150, 'lr': 0.0005, 'weight_decay': 1e-06, 'batch_size': 256, 'batch_key': 'BioProject', 'use_gpu': True}\n",
      "2025-09-15 09:31:33 | X_train: dense  (298, 2000) dtype=int64\n",
      "2025-09-15 09:31:33 | [time] [scVI] train start\n"
     ]
    },
    {
     "name": "stderr",
     "output_type": "stream",
     "text": [
      "/Users/mjlee/master_thesis/Thesis_project/thesispjt/thesis-impute/lib/python3.12/site-packages/legacy_api_wrap/__init__.py:82: UserWarning: `flavor='seurat_v3'` expects raw count data, but non-integers were found.\n",
      "  return fn(*args_all, **kw)\n",
      "/Users/mjlee/master_thesis/Thesis_project/thesispjt/thesis-impute/lib/python3.12/site-packages/scvi/train/_trainrunner.py:82: UserWarning: `accelerator` has been set to `mps`. Please note that not all PyTorch/Jax operations are supported with this backend. as a result, some models might be slower and less accurate than usuall. Please verify your analysis!Refer to https://github.com/pytorch/pytorch/issues/77764 for more details.\n",
      "  accelerator, lightning_devices, device = parse_device_args(\n",
      "GPU available: True (mps), used: True\n",
      "TPU available: False, using: 0 TPU cores\n",
      "HPU available: False, using: 0 HPUs\n",
      "/Users/mjlee/master_thesis/Thesis_project/thesispjt/thesis-impute/lib/python3.12/site-packages/lightning/pytorch/trainer/connectors/data_connector.py:433: The 'train_dataloader' does not have many workers which may be a bottleneck. Consider increasing the value of the `num_workers` argument` to `num_workers=7` in the `DataLoader` to improve performance.\n",
      "/Users/mjlee/master_thesis/Thesis_project/thesispjt/thesis-impute/lib/python3.12/site-packages/lightning/pytorch/loops/fit_loop.py:310: The number of training batches (2) is smaller than the logging interval Trainer(log_every_n_steps=10). Set a lower value for log_every_n_steps if you want to see logs for the training epoch.\n"
     ]
    },
    {
     "data": {
      "application/vnd.jupyter.widget-view+json": {
       "model_id": "f5156b1b48f94533b9823605c330ec33",
       "version_major": 2,
       "version_minor": 0
      },
      "text/plain": [
       "Training:   0%|          | 0/150 [00:00<?, ?it/s]"
      ]
     },
     "metadata": {},
     "output_type": "display_data"
    },
    {
     "name": "stdout",
     "output_type": "stream",
     "text": [
      "2025-09-15 09:31:33 | [time] [scVI] train end in 0.23s\n",
      "2025-09-15 09:31:33 | [scVI] predict_mean\n",
      "2025-09-15 09:31:33 | [time] [scVI] get_likelihood_parameters start\n",
      "\u001b[34mINFO    \u001b[0m Input AnnData not setup with scvi-tools. attempting to transfer AnnData setup                             \n",
      "2025-09-15 09:31:33 | [time] [scVI] get_likelihood_parameters end in 0.02s\n",
      "\u001b[34mINFO    \u001b[0m Input AnnData not setup with scvi-tools. attempting to transfer AnnData setup                             \n",
      "2025-09-15 09:31:33 | [scVI] predict_mean\n",
      "2025-09-15 09:31:33 | [time] [scVI] get_likelihood_parameters start\n",
      "\u001b[34mINFO    \u001b[0m Input AnnData not setup with scvi-tools. attempting to transfer AnnData setup                             \n",
      "2025-09-15 09:31:33 | [time] [scVI] get_likelihood_parameters end in 0.01s\n",
      "2025-09-15 09:31:33 | [scVI] predict_mean\n",
      "2025-09-15 09:31:33 | [time] [scVI] get_likelihood_parameters start\n",
      "\u001b[34mINFO    \u001b[0m Input AnnData not setup with scvi-tools. attempting to transfer AnnData setup                             \n",
      "2025-09-15 09:31:33 | [time] [scVI] get_likelihood_parameters end in 0.02s\n",
      "2025-09-15 09:31:33 | [time] [scVI] fold 2/3 end in 0.69s\n",
      "2025-09-15 09:31:33 | [time] [scVI] fold 3/3 start\n",
      "2025-09-15 09:31:33 | [scVI] fold 3 | HVG=2000\n",
      "2025-09-15 09:31:33 | [scVI] fold 3 params={'batch_size': 256, 'dropout_rate': 0.0, 'lr': 0.0005, 'max_epochs': 150, 'n_hidden': 256, 'n_latent': 16, 'n_layers': 2, 'use_gpu': True, 'weight_decay': 1e-06}\n",
      "2025-09-15 09:31:33 | [scVI] fit hp={'n_latent': 16, 'n_hidden': 256, 'n_layers': 2, 'dropout_rate': 0.0, 'max_epochs': 150, 'lr': 0.0005, 'weight_decay': 1e-06, 'batch_size': 256, 'batch_key': 'BioProject', 'use_gpu': True}\n",
      "2025-09-15 09:31:33 | X_train: dense  (298, 2000) dtype=int64\n",
      "2025-09-15 09:31:33 | [time] [scVI] train start\n"
     ]
    },
    {
     "name": "stderr",
     "output_type": "stream",
     "text": [
      "/Users/mjlee/master_thesis/Thesis_project/thesispjt/thesis-impute/lib/python3.12/site-packages/legacy_api_wrap/__init__.py:82: UserWarning: `flavor='seurat_v3'` expects raw count data, but non-integers were found.\n",
      "  return fn(*args_all, **kw)\n",
      "/Users/mjlee/master_thesis/Thesis_project/thesispjt/thesis-impute/lib/python3.12/site-packages/scvi/train/_trainrunner.py:82: UserWarning: `accelerator` has been set to `mps`. Please note that not all PyTorch/Jax operations are supported with this backend. as a result, some models might be slower and less accurate than usuall. Please verify your analysis!Refer to https://github.com/pytorch/pytorch/issues/77764 for more details.\n",
      "  accelerator, lightning_devices, device = parse_device_args(\n",
      "GPU available: True (mps), used: True\n",
      "TPU available: False, using: 0 TPU cores\n",
      "HPU available: False, using: 0 HPUs\n",
      "/Users/mjlee/master_thesis/Thesis_project/thesispjt/thesis-impute/lib/python3.12/site-packages/lightning/pytorch/trainer/connectors/data_connector.py:433: The 'train_dataloader' does not have many workers which may be a bottleneck. Consider increasing the value of the `num_workers` argument` to `num_workers=7` in the `DataLoader` to improve performance.\n",
      "/Users/mjlee/master_thesis/Thesis_project/thesispjt/thesis-impute/lib/python3.12/site-packages/lightning/pytorch/loops/fit_loop.py:310: The number of training batches (2) is smaller than the logging interval Trainer(log_every_n_steps=10). Set a lower value for log_every_n_steps if you want to see logs for the training epoch.\n"
     ]
    },
    {
     "data": {
      "application/vnd.jupyter.widget-view+json": {
       "model_id": "2525177ab3554131b4a968a7a1b674d8",
       "version_major": 2,
       "version_minor": 0
      },
      "text/plain": [
       "Training:   0%|          | 0/150 [00:00<?, ?it/s]"
      ]
     },
     "metadata": {},
     "output_type": "display_data"
    },
    {
     "name": "stdout",
     "output_type": "stream",
     "text": [
      "2025-09-15 09:31:33 | [time] [scVI] train end in 0.18s\n",
      "2025-09-15 09:31:33 | [scVI] predict_mean\n",
      "2025-09-15 09:31:33 | [time] [scVI] get_likelihood_parameters start\n",
      "\u001b[34mINFO    \u001b[0m Input AnnData not setup with scvi-tools. attempting to transfer AnnData setup                             \n",
      "2025-09-15 09:31:33 | [time] [scVI] get_likelihood_parameters end in 0.02s\n",
      "\u001b[34mINFO    \u001b[0m Input AnnData not setup with scvi-tools. attempting to transfer AnnData setup                             \n",
      "2025-09-15 09:31:34 | [scVI] predict_mean\n",
      "2025-09-15 09:31:34 | [time] [scVI] get_likelihood_parameters start\n",
      "\u001b[34mINFO    \u001b[0m Input AnnData not setup with scvi-tools. attempting to transfer AnnData setup                             \n",
      "2025-09-15 09:31:34 | [time] [scVI] get_likelihood_parameters end in 0.01s\n",
      "2025-09-15 09:31:34 | [scVI] predict_mean\n",
      "2025-09-15 09:31:34 | [time] [scVI] get_likelihood_parameters start\n",
      "\u001b[34mINFO    \u001b[0m Input AnnData not setup with scvi-tools. attempting to transfer AnnData setup                             \n",
      "2025-09-15 09:31:34 | [time] [scVI] get_likelihood_parameters end in 0.05s\n",
      "2025-09-15 09:31:34 | [time] [scVI] fold 3/3 end in 0.68s\n",
      "2025-09-15 09:31:34 | [cv_scvi_5fold] done\n"
     ]
    },
    {
     "name": "stderr",
     "output_type": "stream",
     "text": [
      "[W 2025-09-15 09:31:34,111] Trial 3 failed with parameters: {'n_latent': 16, 'n_hidden': 256, 'n_layers': 2, 'dropout_rate': 0.0, 'max_epochs': 150, 'lr': 0.0005, 'weight_decay': 1e-06, 'batch_size': 256, 'n_hvg': 2000} because of the following error: The value   model  n_hvg    MAE_zero      MSE_zero  MedianL1_zero  NB_ll_zero  \\\n",
      "0  scVI   2000  901.621602  1.336735e+08     257.296834   -7.831484   \n",
      "\n",
      "   NB_dev_zero   MAE_thin       MSE_thin  MedianL1_thin  NB_ll_thin  \\\n",
      "0     7.028355  55.163542  585780.271965      24.733016   -2.897362   \n",
      "\n",
      "   NB_dev_thin Silhouette                                             params  \n",
      "0     4.136907        NaN  {'batch_size': 256, 'dropout_rate': 0.0, 'lr':...   could not be cast to float.\n",
      "[W 2025-09-15 09:31:34,114] Trial 3 failed with value (  model  n_hvg    MAE_zero      MSE_zero  MedianL1_zero  NB_ll_zero  \\\n",
      "0  scVI   2000  901.621602  1.336735e+08     257.296834   -7.831484   \n",
      "\n",
      "   NB_dev_zero   MAE_thin       MSE_thin  MedianL1_thin  NB_ll_thin  \\\n",
      "0     7.028355  55.163542  585780.271965      24.733016   -2.897362   \n",
      "\n",
      "   NB_dev_thin Silhouette                                             params  \n",
      "0     4.136907        NaN  {'batch_size': 256, 'dropout_rate': 0.0, 'lr':...  ,    fold model                                             params  n_hvg  \\\n",
      "0     1  scVI  {'batch_size': 256, 'dropout_rate': 0.0, 'lr':...   2000   \n",
      "1     2  scVI  {'batch_size': 256, 'dropout_rate': 0.0, 'lr':...   2000   \n",
      "2     3  scVI  {'batch_size': 256, 'dropout_rate': 0.0, 'lr':...   2000   \n",
      "\n",
      "      MAE_zero      MSE_zero  MedianL1_zero  NB_ll_zero  NB_dev_zero  \\\n",
      "0   850.672636  1.060488e+08     254.908417   -7.974819     7.341672   \n",
      "1  1065.728245  1.839018e+08     288.341156   -8.369030     8.008045   \n",
      "2   788.463924  1.110698e+08     228.640930   -7.150602     5.735348   \n",
      "\n",
      "    MAE_thin       MSE_thin  MedianL1_thin  NB_ll_thin  NB_dev_thin Silhouette  \n",
      "0  54.279354  605357.705020      23.339671   -3.028986     4.395784       None  \n",
      "1  60.169618  619569.325848      28.000301   -2.976214     4.272127       None  \n",
      "2  51.041653  532413.785026      22.859076   -2.686886     3.742812       None  , -2.8973619785267317).\n"
     ]
    },
    {
     "name": "stdout",
     "output_type": "stream",
     "text": [
      "{'n_latent': [32], 'n_hidden': [256], 'n_layers': [2], 'dropout_rate': [0.0], 'max_epochs': [250], 'lr': [0.0005], 'weight_decay': [1e-06], 'batch_size': [256], 'use_gpu': [True]}\n",
      "2025-09-15 09:31:34 | [cv_scvi_5fold] start k=3 n_hvg=2000 mode=seurat_v3\n",
      "2025-09-15 09:31:34 | X_counts: dense  (447, 51777) dtype=int64\n",
      "2025-09-15 09:31:34 | X_counts: zeros=66.23%, approx_int=True\n",
      "2025-09-15 09:31:34 | [time] [scVI] fold 1/3 start\n",
      "2025-09-15 09:31:34 | [scVI] fold 1 | HVG=2000\n",
      "2025-09-15 09:31:34 | [scVI] fold 1 params={'batch_size': 256, 'dropout_rate': 0.0, 'lr': 0.0005, 'max_epochs': 250, 'n_hidden': 256, 'n_latent': 32, 'n_layers': 2, 'use_gpu': True, 'weight_decay': 1e-06}\n",
      "2025-09-15 09:31:34 | [scVI] fit hp={'n_latent': 32, 'n_hidden': 256, 'n_layers': 2, 'dropout_rate': 0.0, 'max_epochs': 250, 'lr': 0.0005, 'weight_decay': 1e-06, 'batch_size': 256, 'batch_key': 'BioProject', 'use_gpu': True}\n",
      "2025-09-15 09:31:34 | X_train: dense  (298, 2000) dtype=int64\n",
      "2025-09-15 09:31:34 | [time] [scVI] train start\n"
     ]
    },
    {
     "name": "stderr",
     "output_type": "stream",
     "text": [
      "/Users/mjlee/master_thesis/Thesis_project/thesispjt/thesis-impute/lib/python3.12/site-packages/legacy_api_wrap/__init__.py:82: UserWarning: `flavor='seurat_v3'` expects raw count data, but non-integers were found.\n",
      "  return fn(*args_all, **kw)\n",
      "/Users/mjlee/master_thesis/Thesis_project/thesispjt/thesis-impute/lib/python3.12/site-packages/scvi/train/_trainrunner.py:82: UserWarning: `accelerator` has been set to `mps`. Please note that not all PyTorch/Jax operations are supported with this backend. as a result, some models might be slower and less accurate than usuall. Please verify your analysis!Refer to https://github.com/pytorch/pytorch/issues/77764 for more details.\n",
      "  accelerator, lightning_devices, device = parse_device_args(\n",
      "GPU available: True (mps), used: True\n",
      "TPU available: False, using: 0 TPU cores\n",
      "HPU available: False, using: 0 HPUs\n",
      "/Users/mjlee/master_thesis/Thesis_project/thesispjt/thesis-impute/lib/python3.12/site-packages/lightning/pytorch/trainer/connectors/data_connector.py:433: The 'train_dataloader' does not have many workers which may be a bottleneck. Consider increasing the value of the `num_workers` argument` to `num_workers=7` in the `DataLoader` to improve performance.\n",
      "/Users/mjlee/master_thesis/Thesis_project/thesispjt/thesis-impute/lib/python3.12/site-packages/lightning/pytorch/loops/fit_loop.py:310: The number of training batches (2) is smaller than the logging interval Trainer(log_every_n_steps=10). Set a lower value for log_every_n_steps if you want to see logs for the training epoch.\n"
     ]
    },
    {
     "data": {
      "application/vnd.jupyter.widget-view+json": {
       "model_id": "52d99417da1f417680f79d87a67307bc",
       "version_major": 2,
       "version_minor": 0
      },
      "text/plain": [
       "Training:   0%|          | 0/250 [00:00<?, ?it/s]"
      ]
     },
     "metadata": {},
     "output_type": "display_data"
    },
    {
     "name": "stdout",
     "output_type": "stream",
     "text": [
      "2025-09-15 09:31:34 | [time] [scVI] train end in 0.18s\n",
      "2025-09-15 09:31:34 | [scVI] predict_mean\n",
      "2025-09-15 09:31:34 | [time] [scVI] get_likelihood_parameters start\n",
      "\u001b[34mINFO    \u001b[0m Input AnnData not setup with scvi-tools. attempting to transfer AnnData setup                             \n",
      "2025-09-15 09:31:34 | [time] [scVI] get_likelihood_parameters end in 0.02s\n",
      "\u001b[34mINFO    \u001b[0m Input AnnData not setup with scvi-tools. attempting to transfer AnnData setup                             \n",
      "2025-09-15 09:31:34 | [scVI] predict_mean\n",
      "2025-09-15 09:31:34 | [time] [scVI] get_likelihood_parameters start\n",
      "\u001b[34mINFO    \u001b[0m Input AnnData not setup with scvi-tools. attempting to transfer AnnData setup                             \n",
      "2025-09-15 09:31:35 | [time] [scVI] get_likelihood_parameters end in 0.01s\n",
      "2025-09-15 09:31:35 | [scVI] predict_mean\n",
      "2025-09-15 09:31:35 | [time] [scVI] get_likelihood_parameters start\n",
      "\u001b[34mINFO    \u001b[0m Input AnnData not setup with scvi-tools. attempting to transfer AnnData setup                             \n",
      "2025-09-15 09:31:35 | [time] [scVI] get_likelihood_parameters end in 0.01s\n",
      "2025-09-15 09:31:35 | [time] [scVI] fold 1/3 end in 0.64s\n",
      "2025-09-15 09:31:35 | [time] [scVI] fold 2/3 start\n",
      "2025-09-15 09:31:35 | [scVI] fold 2 | HVG=2000\n",
      "2025-09-15 09:31:35 | [scVI] fold 2 params={'batch_size': 256, 'dropout_rate': 0.0, 'lr': 0.0005, 'max_epochs': 250, 'n_hidden': 256, 'n_latent': 32, 'n_layers': 2, 'use_gpu': True, 'weight_decay': 1e-06}\n",
      "2025-09-15 09:31:35 | [scVI] fit hp={'n_latent': 32, 'n_hidden': 256, 'n_layers': 2, 'dropout_rate': 0.0, 'max_epochs': 250, 'lr': 0.0005, 'weight_decay': 1e-06, 'batch_size': 256, 'batch_key': 'BioProject', 'use_gpu': True}\n",
      "2025-09-15 09:31:35 | X_train: dense  (298, 2000) dtype=int64\n",
      "2025-09-15 09:31:35 | [time] [scVI] train start\n"
     ]
    },
    {
     "name": "stderr",
     "output_type": "stream",
     "text": [
      "/Users/mjlee/master_thesis/Thesis_project/thesispjt/thesis-impute/lib/python3.12/site-packages/legacy_api_wrap/__init__.py:82: UserWarning: `flavor='seurat_v3'` expects raw count data, but non-integers were found.\n",
      "  return fn(*args_all, **kw)\n",
      "/Users/mjlee/master_thesis/Thesis_project/thesispjt/thesis-impute/lib/python3.12/site-packages/scvi/train/_trainrunner.py:82: UserWarning: `accelerator` has been set to `mps`. Please note that not all PyTorch/Jax operations are supported with this backend. as a result, some models might be slower and less accurate than usuall. Please verify your analysis!Refer to https://github.com/pytorch/pytorch/issues/77764 for more details.\n",
      "  accelerator, lightning_devices, device = parse_device_args(\n",
      "GPU available: True (mps), used: True\n",
      "TPU available: False, using: 0 TPU cores\n",
      "HPU available: False, using: 0 HPUs\n",
      "/Users/mjlee/master_thesis/Thesis_project/thesispjt/thesis-impute/lib/python3.12/site-packages/lightning/pytorch/trainer/connectors/data_connector.py:433: The 'train_dataloader' does not have many workers which may be a bottleneck. Consider increasing the value of the `num_workers` argument` to `num_workers=7` in the `DataLoader` to improve performance.\n",
      "/Users/mjlee/master_thesis/Thesis_project/thesispjt/thesis-impute/lib/python3.12/site-packages/lightning/pytorch/loops/fit_loop.py:310: The number of training batches (2) is smaller than the logging interval Trainer(log_every_n_steps=10). Set a lower value for log_every_n_steps if you want to see logs for the training epoch.\n"
     ]
    },
    {
     "data": {
      "application/vnd.jupyter.widget-view+json": {
       "model_id": "9b8c723c3392482d986598599e91f9e7",
       "version_major": 2,
       "version_minor": 0
      },
      "text/plain": [
       "Training:   0%|          | 0/250 [00:00<?, ?it/s]"
      ]
     },
     "metadata": {},
     "output_type": "display_data"
    },
    {
     "name": "stdout",
     "output_type": "stream",
     "text": [
      "2025-09-15 09:31:35 | [time] [scVI] train end in 0.22s\n",
      "2025-09-15 09:31:35 | [scVI] predict_mean\n",
      "2025-09-15 09:31:35 | [time] [scVI] get_likelihood_parameters start\n",
      "\u001b[34mINFO    \u001b[0m Input AnnData not setup with scvi-tools. attempting to transfer AnnData setup                             \n",
      "2025-09-15 09:31:35 | [time] [scVI] get_likelihood_parameters end in 0.02s\n",
      "\u001b[34mINFO    \u001b[0m Input AnnData not setup with scvi-tools. attempting to transfer AnnData setup                             \n",
      "2025-09-15 09:31:35 | [scVI] predict_mean\n",
      "2025-09-15 09:31:35 | [time] [scVI] get_likelihood_parameters start\n",
      "\u001b[34mINFO    \u001b[0m Input AnnData not setup with scvi-tools. attempting to transfer AnnData setup                             \n",
      "2025-09-15 09:31:35 | [time] [scVI] get_likelihood_parameters end in 0.02s\n",
      "2025-09-15 09:31:35 | [scVI] predict_mean\n",
      "2025-09-15 09:31:35 | [time] [scVI] get_likelihood_parameters start\n",
      "\u001b[34mINFO    \u001b[0m Input AnnData not setup with scvi-tools. attempting to transfer AnnData setup                             \n",
      "2025-09-15 09:31:35 | [time] [scVI] get_likelihood_parameters end in 0.01s\n",
      "2025-09-15 09:31:35 | [time] [scVI] fold 2/3 end in 0.67s\n",
      "2025-09-15 09:31:35 | [time] [scVI] fold 3/3 start\n",
      "2025-09-15 09:31:36 | [scVI] fold 3 | HVG=2000\n",
      "2025-09-15 09:31:36 | [scVI] fold 3 params={'batch_size': 256, 'dropout_rate': 0.0, 'lr': 0.0005, 'max_epochs': 250, 'n_hidden': 256, 'n_latent': 32, 'n_layers': 2, 'use_gpu': True, 'weight_decay': 1e-06}\n",
      "2025-09-15 09:31:36 | [scVI] fit hp={'n_latent': 32, 'n_hidden': 256, 'n_layers': 2, 'dropout_rate': 0.0, 'max_epochs': 250, 'lr': 0.0005, 'weight_decay': 1e-06, 'batch_size': 256, 'batch_key': 'BioProject', 'use_gpu': True}\n",
      "2025-09-15 09:31:36 | X_train: dense  (298, 2000) dtype=int64\n",
      "2025-09-15 09:31:36 | [time] [scVI] train start\n"
     ]
    },
    {
     "name": "stderr",
     "output_type": "stream",
     "text": [
      "/Users/mjlee/master_thesis/Thesis_project/thesispjt/thesis-impute/lib/python3.12/site-packages/legacy_api_wrap/__init__.py:82: UserWarning: `flavor='seurat_v3'` expects raw count data, but non-integers were found.\n",
      "  return fn(*args_all, **kw)\n",
      "/Users/mjlee/master_thesis/Thesis_project/thesispjt/thesis-impute/lib/python3.12/site-packages/scvi/train/_trainrunner.py:82: UserWarning: `accelerator` has been set to `mps`. Please note that not all PyTorch/Jax operations are supported with this backend. as a result, some models might be slower and less accurate than usuall. Please verify your analysis!Refer to https://github.com/pytorch/pytorch/issues/77764 for more details.\n",
      "  accelerator, lightning_devices, device = parse_device_args(\n",
      "GPU available: True (mps), used: True\n",
      "TPU available: False, using: 0 TPU cores\n",
      "HPU available: False, using: 0 HPUs\n",
      "/Users/mjlee/master_thesis/Thesis_project/thesispjt/thesis-impute/lib/python3.12/site-packages/lightning/pytorch/trainer/connectors/data_connector.py:433: The 'train_dataloader' does not have many workers which may be a bottleneck. Consider increasing the value of the `num_workers` argument` to `num_workers=7` in the `DataLoader` to improve performance.\n",
      "/Users/mjlee/master_thesis/Thesis_project/thesispjt/thesis-impute/lib/python3.12/site-packages/lightning/pytorch/loops/fit_loop.py:310: The number of training batches (2) is smaller than the logging interval Trainer(log_every_n_steps=10). Set a lower value for log_every_n_steps if you want to see logs for the training epoch.\n"
     ]
    },
    {
     "data": {
      "application/vnd.jupyter.widget-view+json": {
       "model_id": "138ab9192d3347c68bafb8f274dc355a",
       "version_major": 2,
       "version_minor": 0
      },
      "text/plain": [
       "Training:   0%|          | 0/250 [00:00<?, ?it/s]"
      ]
     },
     "metadata": {},
     "output_type": "display_data"
    },
    {
     "name": "stdout",
     "output_type": "stream",
     "text": [
      "2025-09-15 09:31:36 | [time] [scVI] train end in 0.18s\n",
      "2025-09-15 09:31:36 | [scVI] predict_mean\n",
      "2025-09-15 09:31:36 | [time] [scVI] get_likelihood_parameters start\n",
      "\u001b[34mINFO    \u001b[0m Input AnnData not setup with scvi-tools. attempting to transfer AnnData setup                             \n",
      "2025-09-15 09:31:36 | [time] [scVI] get_likelihood_parameters end in 0.02s\n",
      "\u001b[34mINFO    \u001b[0m Input AnnData not setup with scvi-tools. attempting to transfer AnnData setup                             \n",
      "2025-09-15 09:31:36 | [scVI] predict_mean\n",
      "2025-09-15 09:31:36 | [time] [scVI] get_likelihood_parameters start\n",
      "\u001b[34mINFO    \u001b[0m Input AnnData not setup with scvi-tools. attempting to transfer AnnData setup                             \n",
      "2025-09-15 09:31:36 | [time] [scVI] get_likelihood_parameters end in 0.02s\n",
      "2025-09-15 09:31:36 | [scVI] predict_mean\n",
      "2025-09-15 09:31:36 | [time] [scVI] get_likelihood_parameters start\n",
      "\u001b[34mINFO    \u001b[0m Input AnnData not setup with scvi-tools. attempting to transfer AnnData setup                             \n",
      "2025-09-15 09:31:36 | [time] [scVI] get_likelihood_parameters end in 0.01s\n",
      "2025-09-15 09:31:36 | [time] [scVI] fold 3/3 end in 0.64s\n",
      "2025-09-15 09:31:36 | [cv_scvi_5fold] done\n"
     ]
    },
    {
     "name": "stderr",
     "output_type": "stream",
     "text": [
      "[W 2025-09-15 09:31:36,377] Trial 4 failed with parameters: {'n_latent': 32, 'n_hidden': 256, 'n_layers': 2, 'dropout_rate': 0.0, 'max_epochs': 250, 'lr': 0.0005, 'weight_decay': 1e-06, 'batch_size': 256, 'n_hvg': 2000} because of the following error: The value   model  n_hvg    MAE_zero      MSE_zero  MedianL1_zero  NB_ll_zero  \\\n",
      "0  scVI   2000  901.606785  1.336821e+08     258.417567   -7.842829   \n",
      "\n",
      "   NB_dev_zero   MAE_thin       MSE_thin  MedianL1_thin  NB_ll_thin  \\\n",
      "0     7.051046  55.145779  585797.298725      24.742871    -2.89989   \n",
      "\n",
      "   NB_dev_thin Silhouette                                             params  \n",
      "0     4.141963        NaN  {'batch_size': 256, 'dropout_rate': 0.0, 'lr':...   could not be cast to float.\n",
      "[W 2025-09-15 09:31:36,380] Trial 4 failed with value (  model  n_hvg    MAE_zero      MSE_zero  MedianL1_zero  NB_ll_zero  \\\n",
      "0  scVI   2000  901.606785  1.336821e+08     258.417567   -7.842829   \n",
      "\n",
      "   NB_dev_zero   MAE_thin       MSE_thin  MedianL1_thin  NB_ll_thin  \\\n",
      "0     7.051046  55.145779  585797.298725      24.742871    -2.89989   \n",
      "\n",
      "   NB_dev_thin Silhouette                                             params  \n",
      "0     4.141963        NaN  {'batch_size': 256, 'dropout_rate': 0.0, 'lr':...  ,    fold model                                             params  n_hvg  \\\n",
      "0     1  scVI  {'batch_size': 256, 'dropout_rate': 0.0, 'lr':...   2000   \n",
      "1     2  scVI  {'batch_size': 256, 'dropout_rate': 0.0, 'lr':...   2000   \n",
      "2     3  scVI  {'batch_size': 256, 'dropout_rate': 0.0, 'lr':...   2000   \n",
      "\n",
      "      MAE_zero      MSE_zero  MedianL1_zero  NB_ll_zero  NB_dev_zero  \\\n",
      "0   849.292381  1.060517e+08     253.509674   -7.910963     7.213959   \n",
      "1  1065.794960  1.838885e+08     289.343201   -8.274782     7.819551   \n",
      "2   789.733013  1.111061e+08     232.399826   -7.342743     6.119629   \n",
      "\n",
      "    MAE_thin       MSE_thin  MedianL1_thin  NB_ll_thin  NB_dev_thin Silhouette  \n",
      "0  54.224916  605326.763077      23.388671   -2.995223     4.328258       None  \n",
      "1  60.185743  619501.631166      28.040982   -2.937421     4.194540       None  \n",
      "2  51.026679  532563.501934      22.798961   -2.767026     3.903092       None  , -2.8998898715326527).\n"
     ]
    },
    {
     "name": "stdout",
     "output_type": "stream",
     "text": [
      "{'n_latent': [32], 'n_hidden': [256], 'n_layers': [2], 'dropout_rate': [0.1], 'max_epochs': [250], 'lr': [0.0005], 'weight_decay': [1e-05], 'batch_size': [512], 'use_gpu': [True]}\n",
      "2025-09-15 09:31:36 | [cv_scvi_5fold] start k=3 n_hvg=1500 mode=seurat_v3\n",
      "2025-09-15 09:31:36 | X_counts: dense  (447, 51777) dtype=int64\n",
      "2025-09-15 09:31:36 | X_counts: zeros=66.23%, approx_int=True\n",
      "2025-09-15 09:31:36 | [time] [scVI] fold 1/3 start\n",
      "2025-09-15 09:31:37 | [scVI] fold 1 | HVG=1500\n",
      "2025-09-15 09:31:37 | [scVI] fold 1 params={'batch_size': 512, 'dropout_rate': 0.1, 'lr': 0.0005, 'max_epochs': 250, 'n_hidden': 256, 'n_latent': 32, 'n_layers': 2, 'use_gpu': True, 'weight_decay': 1e-05}\n",
      "2025-09-15 09:31:37 | [scVI] fit hp={'n_latent': 32, 'n_hidden': 256, 'n_layers': 2, 'dropout_rate': 0.1, 'max_epochs': 250, 'lr': 0.0005, 'weight_decay': 1e-05, 'batch_size': 512, 'batch_key': 'BioProject', 'use_gpu': True}\n",
      "2025-09-15 09:31:37 | X_train: dense  (298, 1500) dtype=int64\n",
      "2025-09-15 09:31:37 | [time] [scVI] train start\n"
     ]
    },
    {
     "name": "stderr",
     "output_type": "stream",
     "text": [
      "/Users/mjlee/master_thesis/Thesis_project/thesispjt/thesis-impute/lib/python3.12/site-packages/legacy_api_wrap/__init__.py:82: UserWarning: `flavor='seurat_v3'` expects raw count data, but non-integers were found.\n",
      "  return fn(*args_all, **kw)\n",
      "/Users/mjlee/master_thesis/Thesis_project/thesispjt/thesis-impute/lib/python3.12/site-packages/scvi/train/_trainrunner.py:82: UserWarning: `accelerator` has been set to `mps`. Please note that not all PyTorch/Jax operations are supported with this backend. as a result, some models might be slower and less accurate than usuall. Please verify your analysis!Refer to https://github.com/pytorch/pytorch/issues/77764 for more details.\n",
      "  accelerator, lightning_devices, device = parse_device_args(\n",
      "GPU available: True (mps), used: True\n",
      "TPU available: False, using: 0 TPU cores\n",
      "HPU available: False, using: 0 HPUs\n",
      "/Users/mjlee/master_thesis/Thesis_project/thesispjt/thesis-impute/lib/python3.12/site-packages/lightning/pytorch/trainer/connectors/data_connector.py:433: The 'train_dataloader' does not have many workers which may be a bottleneck. Consider increasing the value of the `num_workers` argument` to `num_workers=7` in the `DataLoader` to improve performance.\n",
      "/Users/mjlee/master_thesis/Thesis_project/thesispjt/thesis-impute/lib/python3.12/site-packages/lightning/pytorch/loops/fit_loop.py:310: The number of training batches (1) is smaller than the logging interval Trainer(log_every_n_steps=10). Set a lower value for log_every_n_steps if you want to see logs for the training epoch.\n"
     ]
    },
    {
     "data": {
      "application/vnd.jupyter.widget-view+json": {
       "model_id": "a2ebb3f796434e3687fce4d18130a7df",
       "version_major": 2,
       "version_minor": 0
      },
      "text/plain": [
       "Training:   0%|          | 0/250 [00:00<?, ?it/s]"
      ]
     },
     "metadata": {},
     "output_type": "display_data"
    },
    {
     "name": "stdout",
     "output_type": "stream",
     "text": [
      "2025-09-15 09:31:37 | [time] [scVI] train end in 0.22s\n",
      "2025-09-15 09:31:37 | [scVI] predict_mean\n",
      "2025-09-15 09:31:37 | [time] [scVI] get_likelihood_parameters start\n",
      "\u001b[34mINFO    \u001b[0m Input AnnData not setup with scvi-tools. attempting to transfer AnnData setup                             \n",
      "2025-09-15 09:31:37 | [time] [scVI] get_likelihood_parameters end in 0.02s\n",
      "\u001b[34mINFO    \u001b[0m Input AnnData not setup with scvi-tools. attempting to transfer AnnData setup                             \n",
      "2025-09-15 09:31:37 | [scVI] predict_mean\n",
      "2025-09-15 09:31:37 | [time] [scVI] get_likelihood_parameters start\n",
      "\u001b[34mINFO    \u001b[0m Input AnnData not setup with scvi-tools. attempting to transfer AnnData setup                             \n",
      "2025-09-15 09:31:37 | [time] [scVI] get_likelihood_parameters end in 0.01s\n",
      "2025-09-15 09:31:37 | [scVI] predict_mean\n",
      "2025-09-15 09:31:37 | [time] [scVI] get_likelihood_parameters start\n",
      "\u001b[34mINFO    \u001b[0m Input AnnData not setup with scvi-tools. attempting to transfer AnnData setup                             \n",
      "2025-09-15 09:31:37 | [time] [scVI] get_likelihood_parameters end in 0.01s\n",
      "2025-09-15 09:31:37 | [time] [scVI] fold 1/3 end in 0.66s\n",
      "2025-09-15 09:31:37 | [time] [scVI] fold 2/3 start\n",
      "2025-09-15 09:31:37 | [scVI] fold 2 | HVG=1500\n",
      "2025-09-15 09:31:37 | [scVI] fold 2 params={'batch_size': 512, 'dropout_rate': 0.1, 'lr': 0.0005, 'max_epochs': 250, 'n_hidden': 256, 'n_latent': 32, 'n_layers': 2, 'use_gpu': True, 'weight_decay': 1e-05}\n",
      "2025-09-15 09:31:37 | [scVI] fit hp={'n_latent': 32, 'n_hidden': 256, 'n_layers': 2, 'dropout_rate': 0.1, 'max_epochs': 250, 'lr': 0.0005, 'weight_decay': 1e-05, 'batch_size': 512, 'batch_key': 'BioProject', 'use_gpu': True}\n",
      "2025-09-15 09:31:37 | X_train: dense  (298, 1500) dtype=int64\n",
      "2025-09-15 09:31:37 | [time] [scVI] train start\n"
     ]
    },
    {
     "name": "stderr",
     "output_type": "stream",
     "text": [
      "/Users/mjlee/master_thesis/Thesis_project/thesispjt/thesis-impute/lib/python3.12/site-packages/legacy_api_wrap/__init__.py:82: UserWarning: `flavor='seurat_v3'` expects raw count data, but non-integers were found.\n",
      "  return fn(*args_all, **kw)\n",
      "/Users/mjlee/master_thesis/Thesis_project/thesispjt/thesis-impute/lib/python3.12/site-packages/scvi/train/_trainrunner.py:82: UserWarning: `accelerator` has been set to `mps`. Please note that not all PyTorch/Jax operations are supported with this backend. as a result, some models might be slower and less accurate than usuall. Please verify your analysis!Refer to https://github.com/pytorch/pytorch/issues/77764 for more details.\n",
      "  accelerator, lightning_devices, device = parse_device_args(\n",
      "GPU available: True (mps), used: True\n",
      "TPU available: False, using: 0 TPU cores\n",
      "HPU available: False, using: 0 HPUs\n",
      "/Users/mjlee/master_thesis/Thesis_project/thesispjt/thesis-impute/lib/python3.12/site-packages/lightning/pytorch/trainer/connectors/data_connector.py:433: The 'train_dataloader' does not have many workers which may be a bottleneck. Consider increasing the value of the `num_workers` argument` to `num_workers=7` in the `DataLoader` to improve performance.\n",
      "/Users/mjlee/master_thesis/Thesis_project/thesispjt/thesis-impute/lib/python3.12/site-packages/lightning/pytorch/loops/fit_loop.py:310: The number of training batches (1) is smaller than the logging interval Trainer(log_every_n_steps=10). Set a lower value for log_every_n_steps if you want to see logs for the training epoch.\n"
     ]
    },
    {
     "data": {
      "application/vnd.jupyter.widget-view+json": {
       "model_id": "9bf946d1849c440b9bfc9a6c86ba21bb",
       "version_major": 2,
       "version_minor": 0
      },
      "text/plain": [
       "Training:   0%|          | 0/250 [00:00<?, ?it/s]"
      ]
     },
     "metadata": {},
     "output_type": "display_data"
    },
    {
     "name": "stdout",
     "output_type": "stream",
     "text": [
      "2025-09-15 09:31:37 | [time] [scVI] train end in 0.18s\n",
      "2025-09-15 09:31:37 | [scVI] predict_mean\n",
      "2025-09-15 09:31:37 | [time] [scVI] get_likelihood_parameters start\n",
      "\u001b[34mINFO    \u001b[0m Input AnnData not setup with scvi-tools. attempting to transfer AnnData setup                             \n",
      "2025-09-15 09:31:37 | [time] [scVI] get_likelihood_parameters end in 0.01s\n",
      "\u001b[34mINFO    \u001b[0m Input AnnData not setup with scvi-tools. attempting to transfer AnnData setup                             \n",
      "2025-09-15 09:31:37 | [scVI] predict_mean\n",
      "2025-09-15 09:31:37 | [time] [scVI] get_likelihood_parameters start\n",
      "\u001b[34mINFO    \u001b[0m Input AnnData not setup with scvi-tools. attempting to transfer AnnData setup                             \n",
      "2025-09-15 09:31:37 | [time] [scVI] get_likelihood_parameters end in 0.01s\n",
      "2025-09-15 09:31:37 | [scVI] predict_mean\n",
      "2025-09-15 09:31:37 | [time] [scVI] get_likelihood_parameters start\n",
      "\u001b[34mINFO    \u001b[0m Input AnnData not setup with scvi-tools. attempting to transfer AnnData setup                             \n",
      "2025-09-15 09:31:37 | [time] [scVI] get_likelihood_parameters end in 0.01s\n",
      "2025-09-15 09:31:37 | [time] [scVI] fold 2/3 end in 0.62s\n",
      "2025-09-15 09:31:37 | [time] [scVI] fold 3/3 start\n",
      "2025-09-15 09:31:38 | [scVI] fold 3 | HVG=1500\n",
      "2025-09-15 09:31:38 | [scVI] fold 3 params={'batch_size': 512, 'dropout_rate': 0.1, 'lr': 0.0005, 'max_epochs': 250, 'n_hidden': 256, 'n_latent': 32, 'n_layers': 2, 'use_gpu': True, 'weight_decay': 1e-05}\n",
      "2025-09-15 09:31:38 | [scVI] fit hp={'n_latent': 32, 'n_hidden': 256, 'n_layers': 2, 'dropout_rate': 0.1, 'max_epochs': 250, 'lr': 0.0005, 'weight_decay': 1e-05, 'batch_size': 512, 'batch_key': 'BioProject', 'use_gpu': True}\n",
      "2025-09-15 09:31:38 | X_train: dense  (298, 1500) dtype=int64\n",
      "2025-09-15 09:31:38 | [time] [scVI] train start\n"
     ]
    },
    {
     "name": "stderr",
     "output_type": "stream",
     "text": [
      "/Users/mjlee/master_thesis/Thesis_project/thesispjt/thesis-impute/lib/python3.12/site-packages/legacy_api_wrap/__init__.py:82: UserWarning: `flavor='seurat_v3'` expects raw count data, but non-integers were found.\n",
      "  return fn(*args_all, **kw)\n",
      "/Users/mjlee/master_thesis/Thesis_project/thesispjt/thesis-impute/lib/python3.12/site-packages/scvi/train/_trainrunner.py:82: UserWarning: `accelerator` has been set to `mps`. Please note that not all PyTorch/Jax operations are supported with this backend. as a result, some models might be slower and less accurate than usuall. Please verify your analysis!Refer to https://github.com/pytorch/pytorch/issues/77764 for more details.\n",
      "  accelerator, lightning_devices, device = parse_device_args(\n",
      "GPU available: True (mps), used: True\n",
      "TPU available: False, using: 0 TPU cores\n",
      "HPU available: False, using: 0 HPUs\n",
      "/Users/mjlee/master_thesis/Thesis_project/thesispjt/thesis-impute/lib/python3.12/site-packages/lightning/pytorch/trainer/connectors/data_connector.py:433: The 'train_dataloader' does not have many workers which may be a bottleneck. Consider increasing the value of the `num_workers` argument` to `num_workers=7` in the `DataLoader` to improve performance.\n",
      "/Users/mjlee/master_thesis/Thesis_project/thesispjt/thesis-impute/lib/python3.12/site-packages/lightning/pytorch/loops/fit_loop.py:310: The number of training batches (1) is smaller than the logging interval Trainer(log_every_n_steps=10). Set a lower value for log_every_n_steps if you want to see logs for the training epoch.\n"
     ]
    },
    {
     "data": {
      "application/vnd.jupyter.widget-view+json": {
       "model_id": "5bbc4be4a7df4d3b9072cf92ded1f5cd",
       "version_major": 2,
       "version_minor": 0
      },
      "text/plain": [
       "Training:   0%|          | 0/250 [00:00<?, ?it/s]"
      ]
     },
     "metadata": {},
     "output_type": "display_data"
    },
    {
     "name": "stdout",
     "output_type": "stream",
     "text": [
      "2025-09-15 09:31:38 | [time] [scVI] train end in 0.21s\n",
      "2025-09-15 09:31:38 | [scVI] predict_mean\n",
      "2025-09-15 09:31:38 | [time] [scVI] get_likelihood_parameters start\n",
      "\u001b[34mINFO    \u001b[0m Input AnnData not setup with scvi-tools. attempting to transfer AnnData setup                             \n",
      "2025-09-15 09:31:38 | [time] [scVI] get_likelihood_parameters end in 0.01s\n",
      "\u001b[34mINFO    \u001b[0m Input AnnData not setup with scvi-tools. attempting to transfer AnnData setup                             \n",
      "2025-09-15 09:31:38 | [scVI] predict_mean\n",
      "2025-09-15 09:31:38 | [time] [scVI] get_likelihood_parameters start\n",
      "\u001b[34mINFO    \u001b[0m Input AnnData not setup with scvi-tools. attempting to transfer AnnData setup                             \n",
      "2025-09-15 09:31:38 | [time] [scVI] get_likelihood_parameters end in 0.01s\n",
      "2025-09-15 09:31:38 | [scVI] predict_mean\n",
      "2025-09-15 09:31:38 | [time] [scVI] get_likelihood_parameters start\n",
      "\u001b[34mINFO    \u001b[0m Input AnnData not setup with scvi-tools. attempting to transfer AnnData setup                             \n",
      "2025-09-15 09:31:38 | [time] [scVI] get_likelihood_parameters end in 0.01s\n",
      "2025-09-15 09:31:38 | [time] [scVI] fold 3/3 end in 0.65s\n",
      "2025-09-15 09:31:38 | [cv_scvi_5fold] done\n"
     ]
    },
    {
     "name": "stderr",
     "output_type": "stream",
     "text": [
      "[W 2025-09-15 09:31:38,607] Trial 5 failed with parameters: {'n_latent': 32, 'n_hidden': 256, 'n_layers': 2, 'dropout_rate': 0.1, 'max_epochs': 250, 'lr': 0.0005, 'weight_decay': 1e-05, 'batch_size': 512, 'n_hvg': 1500} because of the following error: The value   model  n_hvg     MAE_zero      MSE_zero  MedianL1_zero  NB_ll_zero  \\\n",
      "0  scVI   1500  1076.370832  1.616668e+08     309.019368   -7.870763   \n",
      "\n",
      "   NB_dev_zero   MAE_thin       MSE_thin  MedianL1_thin  NB_ll_thin  \\\n",
      "0     6.875051  67.447787  773998.239899      29.647787   -2.945737   \n",
      "\n",
      "   NB_dev_thin Silhouette                                             params  \n",
      "0     4.128824        NaN  {'batch_size': 512, 'dropout_rate': 0.1, 'lr':...   could not be cast to float.\n",
      "[W 2025-09-15 09:31:38,610] Trial 5 failed with value (  model  n_hvg     MAE_zero      MSE_zero  MedianL1_zero  NB_ll_zero  \\\n",
      "0  scVI   1500  1076.370832  1.616668e+08     309.019368   -7.870763   \n",
      "\n",
      "   NB_dev_zero   MAE_thin       MSE_thin  MedianL1_thin  NB_ll_thin  \\\n",
      "0     6.875051  67.447787  773998.239899      29.647787   -2.945737   \n",
      "\n",
      "   NB_dev_thin Silhouette                                             params  \n",
      "0     4.128824        NaN  {'batch_size': 512, 'dropout_rate': 0.1, 'lr':...  ,    fold model                                             params  n_hvg  \\\n",
      "0     1  scVI  {'batch_size': 512, 'dropout_rate': 0.1, 'lr':...   1500   \n",
      "1     2  scVI  {'batch_size': 512, 'dropout_rate': 0.1, 'lr':...   1500   \n",
      "2     3  scVI  {'batch_size': 512, 'dropout_rate': 0.1, 'lr':...   1500   \n",
      "\n",
      "      MAE_zero      MSE_zero  MedianL1_zero  NB_ll_zero  NB_dev_zero  \\\n",
      "0  1056.379089  1.340657e+08     311.379410   -8.041532     7.254651   \n",
      "1  1163.213988  2.078621e+08     323.707779   -7.810439     6.705510   \n",
      "2  1009.519418  1.430727e+08     291.970917   -7.760319     6.664991   \n",
      "\n",
      "    MAE_thin       MSE_thin  MedianL1_thin  NB_ll_thin  NB_dev_thin Silhouette  \n",
      "0  67.315336  804569.870411      28.100247   -3.113394     4.484345       None  \n",
      "1  69.197967  807618.410843      31.627652   -2.839313     3.913127       None  \n",
      "2  65.830058  709806.438444      29.215462   -2.884503     3.989001       None  , -2.9457366231484023).\n"
     ]
    },
    {
     "name": "stdout",
     "output_type": "stream",
     "text": [
      "{'n_latent': [16], 'n_hidden': [256], 'n_layers': [2], 'dropout_rate': [0.1], 'max_epochs': [250], 'lr': [0.001], 'weight_decay': [1e-05], 'batch_size': [256], 'use_gpu': [True]}\n",
      "2025-09-15 09:31:38 | [cv_scvi_5fold] start k=3 n_hvg=2000 mode=seurat_v3\n",
      "2025-09-15 09:31:38 | X_counts: dense  (447, 51777) dtype=int64\n",
      "2025-09-15 09:31:38 | X_counts: zeros=66.23%, approx_int=True\n",
      "2025-09-15 09:31:38 | [time] [scVI] fold 1/3 start\n",
      "2025-09-15 09:31:39 | [scVI] fold 1 | HVG=2000\n",
      "2025-09-15 09:31:39 | [scVI] fold 1 params={'batch_size': 256, 'dropout_rate': 0.1, 'lr': 0.001, 'max_epochs': 250, 'n_hidden': 256, 'n_latent': 16, 'n_layers': 2, 'use_gpu': True, 'weight_decay': 1e-05}\n",
      "2025-09-15 09:31:39 | [scVI] fit hp={'n_latent': 16, 'n_hidden': 256, 'n_layers': 2, 'dropout_rate': 0.1, 'max_epochs': 250, 'lr': 0.001, 'weight_decay': 1e-05, 'batch_size': 256, 'batch_key': 'BioProject', 'use_gpu': True}\n",
      "2025-09-15 09:31:39 | X_train: dense  (298, 2000) dtype=int64\n",
      "2025-09-15 09:31:39 | [time] [scVI] train start\n"
     ]
    },
    {
     "name": "stderr",
     "output_type": "stream",
     "text": [
      "/Users/mjlee/master_thesis/Thesis_project/thesispjt/thesis-impute/lib/python3.12/site-packages/legacy_api_wrap/__init__.py:82: UserWarning: `flavor='seurat_v3'` expects raw count data, but non-integers were found.\n",
      "  return fn(*args_all, **kw)\n",
      "/Users/mjlee/master_thesis/Thesis_project/thesispjt/thesis-impute/lib/python3.12/site-packages/scvi/train/_trainrunner.py:82: UserWarning: `accelerator` has been set to `mps`. Please note that not all PyTorch/Jax operations are supported with this backend. as a result, some models might be slower and less accurate than usuall. Please verify your analysis!Refer to https://github.com/pytorch/pytorch/issues/77764 for more details.\n",
      "  accelerator, lightning_devices, device = parse_device_args(\n",
      "GPU available: True (mps), used: True\n",
      "TPU available: False, using: 0 TPU cores\n",
      "HPU available: False, using: 0 HPUs\n",
      "/Users/mjlee/master_thesis/Thesis_project/thesispjt/thesis-impute/lib/python3.12/site-packages/lightning/pytorch/trainer/connectors/data_connector.py:433: The 'train_dataloader' does not have many workers which may be a bottleneck. Consider increasing the value of the `num_workers` argument` to `num_workers=7` in the `DataLoader` to improve performance.\n",
      "/Users/mjlee/master_thesis/Thesis_project/thesispjt/thesis-impute/lib/python3.12/site-packages/lightning/pytorch/loops/fit_loop.py:310: The number of training batches (2) is smaller than the logging interval Trainer(log_every_n_steps=10). Set a lower value for log_every_n_steps if you want to see logs for the training epoch.\n"
     ]
    },
    {
     "data": {
      "application/vnd.jupyter.widget-view+json": {
       "model_id": "62ac4325e2f246629d199c6c11525ea8",
       "version_major": 2,
       "version_minor": 0
      },
      "text/plain": [
       "Training:   0%|          | 0/250 [00:00<?, ?it/s]"
      ]
     },
     "metadata": {},
     "output_type": "display_data"
    },
    {
     "name": "stdout",
     "output_type": "stream",
     "text": [
      "2025-09-15 09:31:39 | [time] [scVI] train end in 0.19s\n",
      "2025-09-15 09:31:39 | [scVI] predict_mean\n",
      "2025-09-15 09:31:39 | [time] [scVI] get_likelihood_parameters start\n",
      "\u001b[34mINFO    \u001b[0m Input AnnData not setup with scvi-tools. attempting to transfer AnnData setup                             \n",
      "2025-09-15 09:31:39 | [time] [scVI] get_likelihood_parameters end in 0.02s\n",
      "\u001b[34mINFO    \u001b[0m Input AnnData not setup with scvi-tools. attempting to transfer AnnData setup                             \n",
      "2025-09-15 09:31:39 | [scVI] predict_mean\n",
      "2025-09-15 09:31:39 | [time] [scVI] get_likelihood_parameters start\n",
      "\u001b[34mINFO    \u001b[0m Input AnnData not setup with scvi-tools. attempting to transfer AnnData setup                             \n",
      "2025-09-15 09:31:39 | [time] [scVI] get_likelihood_parameters end in 0.01s\n",
      "2025-09-15 09:31:39 | [scVI] predict_mean\n",
      "2025-09-15 09:31:39 | [time] [scVI] get_likelihood_parameters start\n",
      "\u001b[34mINFO    \u001b[0m Input AnnData not setup with scvi-tools. attempting to transfer AnnData setup                             \n",
      "2025-09-15 09:31:39 | [time] [scVI] get_likelihood_parameters end in 0.01s\n",
      "2025-09-15 09:31:39 | [time] [scVI] fold 1/3 end in 0.65s\n",
      "2025-09-15 09:31:39 | [time] [scVI] fold 2/3 start\n",
      "2025-09-15 09:31:39 | [scVI] fold 2 | HVG=2000\n",
      "2025-09-15 09:31:39 | [scVI] fold 2 params={'batch_size': 256, 'dropout_rate': 0.1, 'lr': 0.001, 'max_epochs': 250, 'n_hidden': 256, 'n_latent': 16, 'n_layers': 2, 'use_gpu': True, 'weight_decay': 1e-05}\n",
      "2025-09-15 09:31:39 | [scVI] fit hp={'n_latent': 16, 'n_hidden': 256, 'n_layers': 2, 'dropout_rate': 0.1, 'max_epochs': 250, 'lr': 0.001, 'weight_decay': 1e-05, 'batch_size': 256, 'batch_key': 'BioProject', 'use_gpu': True}\n",
      "2025-09-15 09:31:39 | X_train: dense  (298, 2000) dtype=int64\n",
      "2025-09-15 09:31:39 | [time] [scVI] train start\n"
     ]
    },
    {
     "name": "stderr",
     "output_type": "stream",
     "text": [
      "/Users/mjlee/master_thesis/Thesis_project/thesispjt/thesis-impute/lib/python3.12/site-packages/legacy_api_wrap/__init__.py:82: UserWarning: `flavor='seurat_v3'` expects raw count data, but non-integers were found.\n",
      "  return fn(*args_all, **kw)\n",
      "/Users/mjlee/master_thesis/Thesis_project/thesispjt/thesis-impute/lib/python3.12/site-packages/scvi/train/_trainrunner.py:82: UserWarning: `accelerator` has been set to `mps`. Please note that not all PyTorch/Jax operations are supported with this backend. as a result, some models might be slower and less accurate than usuall. Please verify your analysis!Refer to https://github.com/pytorch/pytorch/issues/77764 for more details.\n",
      "  accelerator, lightning_devices, device = parse_device_args(\n",
      "GPU available: True (mps), used: True\n",
      "TPU available: False, using: 0 TPU cores\n",
      "HPU available: False, using: 0 HPUs\n",
      "/Users/mjlee/master_thesis/Thesis_project/thesispjt/thesis-impute/lib/python3.12/site-packages/lightning/pytorch/trainer/connectors/data_connector.py:433: The 'train_dataloader' does not have many workers which may be a bottleneck. Consider increasing the value of the `num_workers` argument` to `num_workers=7` in the `DataLoader` to improve performance.\n",
      "/Users/mjlee/master_thesis/Thesis_project/thesispjt/thesis-impute/lib/python3.12/site-packages/lightning/pytorch/loops/fit_loop.py:310: The number of training batches (2) is smaller than the logging interval Trainer(log_every_n_steps=10). Set a lower value for log_every_n_steps if you want to see logs for the training epoch.\n"
     ]
    },
    {
     "data": {
      "application/vnd.jupyter.widget-view+json": {
       "model_id": "4f4252f5e24545b3b1bd10beb2702a6e",
       "version_major": 2,
       "version_minor": 0
      },
      "text/plain": [
       "Training:   0%|          | 0/250 [00:00<?, ?it/s]"
      ]
     },
     "metadata": {},
     "output_type": "display_data"
    },
    {
     "name": "stdout",
     "output_type": "stream",
     "text": [
      "2025-09-15 09:31:40 | [time] [scVI] train end in 0.22s\n",
      "2025-09-15 09:31:40 | [scVI] predict_mean\n",
      "2025-09-15 09:31:40 | [time] [scVI] get_likelihood_parameters start\n",
      "\u001b[34mINFO    \u001b[0m Input AnnData not setup with scvi-tools. attempting to transfer AnnData setup                             \n",
      "2025-09-15 09:31:40 | [time] [scVI] get_likelihood_parameters end in 0.02s\n",
      "\u001b[34mINFO    \u001b[0m Input AnnData not setup with scvi-tools. attempting to transfer AnnData setup                             \n",
      "2025-09-15 09:31:40 | [scVI] predict_mean\n",
      "2025-09-15 09:31:40 | [time] [scVI] get_likelihood_parameters start\n",
      "\u001b[34mINFO    \u001b[0m Input AnnData not setup with scvi-tools. attempting to transfer AnnData setup                             \n",
      "2025-09-15 09:31:40 | [time] [scVI] get_likelihood_parameters end in 0.02s\n",
      "2025-09-15 09:31:40 | [scVI] predict_mean\n",
      "2025-09-15 09:31:40 | [time] [scVI] get_likelihood_parameters start\n",
      "\u001b[34mINFO    \u001b[0m Input AnnData not setup with scvi-tools. attempting to transfer AnnData setup                             \n",
      "2025-09-15 09:31:40 | [time] [scVI] get_likelihood_parameters end in 0.01s\n",
      "2025-09-15 09:31:40 | [time] [scVI] fold 2/3 end in 0.67s\n",
      "2025-09-15 09:31:40 | [time] [scVI] fold 3/3 start\n",
      "2025-09-15 09:31:40 | [scVI] fold 3 | HVG=2000\n",
      "2025-09-15 09:31:40 | [scVI] fold 3 params={'batch_size': 256, 'dropout_rate': 0.1, 'lr': 0.001, 'max_epochs': 250, 'n_hidden': 256, 'n_latent': 16, 'n_layers': 2, 'use_gpu': True, 'weight_decay': 1e-05}\n",
      "2025-09-15 09:31:40 | [scVI] fit hp={'n_latent': 16, 'n_hidden': 256, 'n_layers': 2, 'dropout_rate': 0.1, 'max_epochs': 250, 'lr': 0.001, 'weight_decay': 1e-05, 'batch_size': 256, 'batch_key': 'BioProject', 'use_gpu': True}\n",
      "2025-09-15 09:31:40 | X_train: dense  (298, 2000) dtype=int64\n",
      "2025-09-15 09:31:40 | [time] [scVI] train start\n"
     ]
    },
    {
     "name": "stderr",
     "output_type": "stream",
     "text": [
      "/Users/mjlee/master_thesis/Thesis_project/thesispjt/thesis-impute/lib/python3.12/site-packages/legacy_api_wrap/__init__.py:82: UserWarning: `flavor='seurat_v3'` expects raw count data, but non-integers were found.\n",
      "  return fn(*args_all, **kw)\n",
      "/Users/mjlee/master_thesis/Thesis_project/thesispjt/thesis-impute/lib/python3.12/site-packages/scvi/train/_trainrunner.py:82: UserWarning: `accelerator` has been set to `mps`. Please note that not all PyTorch/Jax operations are supported with this backend. as a result, some models might be slower and less accurate than usuall. Please verify your analysis!Refer to https://github.com/pytorch/pytorch/issues/77764 for more details.\n",
      "  accelerator, lightning_devices, device = parse_device_args(\n",
      "GPU available: True (mps), used: True\n",
      "TPU available: False, using: 0 TPU cores\n",
      "HPU available: False, using: 0 HPUs\n",
      "/Users/mjlee/master_thesis/Thesis_project/thesispjt/thesis-impute/lib/python3.12/site-packages/lightning/pytorch/trainer/connectors/data_connector.py:433: The 'train_dataloader' does not have many workers which may be a bottleneck. Consider increasing the value of the `num_workers` argument` to `num_workers=7` in the `DataLoader` to improve performance.\n",
      "/Users/mjlee/master_thesis/Thesis_project/thesispjt/thesis-impute/lib/python3.12/site-packages/lightning/pytorch/loops/fit_loop.py:310: The number of training batches (2) is smaller than the logging interval Trainer(log_every_n_steps=10). Set a lower value for log_every_n_steps if you want to see logs for the training epoch.\n"
     ]
    },
    {
     "data": {
      "application/vnd.jupyter.widget-view+json": {
       "model_id": "8b64a70fbdca45e98f7f68a259d8e74a",
       "version_major": 2,
       "version_minor": 0
      },
      "text/plain": [
       "Training:   0%|          | 0/250 [00:00<?, ?it/s]"
      ]
     },
     "metadata": {},
     "output_type": "display_data"
    },
    {
     "name": "stdout",
     "output_type": "stream",
     "text": [
      "2025-09-15 09:31:40 | [time] [scVI] train end in 0.18s\n",
      "2025-09-15 09:31:40 | [scVI] predict_mean\n",
      "2025-09-15 09:31:40 | [time] [scVI] get_likelihood_parameters start\n",
      "\u001b[34mINFO    \u001b[0m Input AnnData not setup with scvi-tools. attempting to transfer AnnData setup                             \n",
      "2025-09-15 09:31:40 | [time] [scVI] get_likelihood_parameters end in 0.02s\n",
      "\u001b[34mINFO    \u001b[0m Input AnnData not setup with scvi-tools. attempting to transfer AnnData setup                             \n",
      "2025-09-15 09:31:40 | [scVI] predict_mean\n",
      "2025-09-15 09:31:40 | [time] [scVI] get_likelihood_parameters start\n",
      "\u001b[34mINFO    \u001b[0m Input AnnData not setup with scvi-tools. attempting to transfer AnnData setup                             \n",
      "2025-09-15 09:31:40 | [time] [scVI] get_likelihood_parameters end in 0.01s\n",
      "2025-09-15 09:31:40 | [scVI] predict_mean\n",
      "2025-09-15 09:31:40 | [time] [scVI] get_likelihood_parameters start\n",
      "\u001b[34mINFO    \u001b[0m Input AnnData not setup with scvi-tools. attempting to transfer AnnData setup                             \n",
      "2025-09-15 09:31:40 | [time] [scVI] get_likelihood_parameters end in 0.05s\n",
      "2025-09-15 09:31:40 | [time] [scVI] fold 3/3 end in 0.68s\n",
      "2025-09-15 09:31:40 | [cv_scvi_5fold] done\n"
     ]
    },
    {
     "name": "stderr",
     "output_type": "stream",
     "text": [
      "[W 2025-09-15 09:31:40,920] Trial 6 failed with parameters: {'n_latent': 16, 'n_hidden': 256, 'n_layers': 2, 'dropout_rate': 0.1, 'max_epochs': 250, 'lr': 0.001, 'weight_decay': 1e-05, 'batch_size': 256, 'n_hvg': 2000} because of the following error: The value   model  n_hvg    MAE_zero      MSE_zero  MedianL1_zero  NB_ll_zero  \\\n",
      "0  scVI   2000  901.026772  1.336793e+08     258.466314   -7.866865   \n",
      "\n",
      "   NB_dev_zero   MAE_thin       MSE_thin  MedianL1_thin  NB_ll_thin  \\\n",
      "0     7.099117  55.149513  585786.529391      24.678735   -2.916823   \n",
      "\n",
      "   NB_dev_thin Silhouette                                             params  \n",
      "0      4.17583        NaN  {'batch_size': 256, 'dropout_rate': 0.1, 'lr':...   could not be cast to float.\n",
      "[W 2025-09-15 09:31:40,922] Trial 6 failed with value (  model  n_hvg    MAE_zero      MSE_zero  MedianL1_zero  NB_ll_zero  \\\n",
      "0  scVI   2000  901.026772  1.336793e+08     258.466314   -7.866865   \n",
      "\n",
      "   NB_dev_zero   MAE_thin       MSE_thin  MedianL1_thin  NB_ll_thin  \\\n",
      "0     7.099117  55.149513  585786.529391      24.678735   -2.916823   \n",
      "\n",
      "   NB_dev_thin Silhouette                                             params  \n",
      "0      4.17583        NaN  {'batch_size': 256, 'dropout_rate': 0.1, 'lr':...  ,    fold model                                             params  n_hvg  \\\n",
      "0     1  scVI  {'batch_size': 256, 'dropout_rate': 0.1, 'lr':...   2000   \n",
      "1     2  scVI  {'batch_size': 256, 'dropout_rate': 0.1, 'lr':...   2000   \n",
      "2     3  scVI  {'batch_size': 256, 'dropout_rate': 0.1, 'lr':...   2000   \n",
      "\n",
      "      MAE_zero      MSE_zero  MedianL1_zero  NB_ll_zero  NB_dev_zero  \\\n",
      "0   848.924777  1.060900e+08     254.443695   -8.158576     7.709184   \n",
      "1  1065.119701  1.838804e+08     290.360504   -8.313235     7.896455   \n",
      "2   789.035838  1.110675e+08     230.594742   -7.128784     5.691711   \n",
      "\n",
      "    MAE_thin       MSE_thin  MedianL1_thin  NB_ll_thin  NB_dev_thin Silhouette  \n",
      "0  54.260411  605536.082346      23.340803   -3.157891     4.653595       None  \n",
      "1  60.145470  619509.355556      28.006901   -2.960498     4.240694       None  \n",
      "2  51.042659  532314.150271      22.688500   -2.632081     3.633202       None  , -2.9168234310371126).\n"
     ]
    },
    {
     "name": "stdout",
     "output_type": "stream",
     "text": [
      "{'n_latent': [32], 'n_hidden': [128], 'n_layers': [2], 'dropout_rate': [0.0], 'max_epochs': [250], 'lr': [0.001], 'weight_decay': [1e-06], 'batch_size': [512], 'use_gpu': [True]}\n",
      "2025-09-15 09:31:41 | [cv_scvi_5fold] start k=3 n_hvg=1500 mode=seurat_v3\n",
      "2025-09-15 09:31:41 | X_counts: dense  (447, 51777) dtype=int64\n",
      "2025-09-15 09:31:41 | X_counts: zeros=66.23%, approx_int=True\n",
      "2025-09-15 09:31:41 | [time] [scVI] fold 1/3 start\n",
      "2025-09-15 09:31:41 | [scVI] fold 1 | HVG=1500\n",
      "2025-09-15 09:31:41 | [scVI] fold 1 params={'batch_size': 512, 'dropout_rate': 0.0, 'lr': 0.001, 'max_epochs': 250, 'n_hidden': 128, 'n_latent': 32, 'n_layers': 2, 'use_gpu': True, 'weight_decay': 1e-06}\n",
      "2025-09-15 09:31:41 | [scVI] fit hp={'n_latent': 32, 'n_hidden': 128, 'n_layers': 2, 'dropout_rate': 0.0, 'max_epochs': 250, 'lr': 0.001, 'weight_decay': 1e-06, 'batch_size': 512, 'batch_key': 'BioProject', 'use_gpu': True}\n",
      "2025-09-15 09:31:41 | X_train: dense  (298, 1500) dtype=int64\n",
      "2025-09-15 09:31:41 | [time] [scVI] train start\n"
     ]
    },
    {
     "name": "stderr",
     "output_type": "stream",
     "text": [
      "/Users/mjlee/master_thesis/Thesis_project/thesispjt/thesis-impute/lib/python3.12/site-packages/legacy_api_wrap/__init__.py:82: UserWarning: `flavor='seurat_v3'` expects raw count data, but non-integers were found.\n",
      "  return fn(*args_all, **kw)\n",
      "/Users/mjlee/master_thesis/Thesis_project/thesispjt/thesis-impute/lib/python3.12/site-packages/scvi/train/_trainrunner.py:82: UserWarning: `accelerator` has been set to `mps`. Please note that not all PyTorch/Jax operations are supported with this backend. as a result, some models might be slower and less accurate than usuall. Please verify your analysis!Refer to https://github.com/pytorch/pytorch/issues/77764 for more details.\n",
      "  accelerator, lightning_devices, device = parse_device_args(\n",
      "GPU available: True (mps), used: True\n",
      "TPU available: False, using: 0 TPU cores\n",
      "HPU available: False, using: 0 HPUs\n",
      "/Users/mjlee/master_thesis/Thesis_project/thesispjt/thesis-impute/lib/python3.12/site-packages/lightning/pytorch/trainer/connectors/data_connector.py:433: The 'train_dataloader' does not have many workers which may be a bottleneck. Consider increasing the value of the `num_workers` argument` to `num_workers=7` in the `DataLoader` to improve performance.\n",
      "/Users/mjlee/master_thesis/Thesis_project/thesispjt/thesis-impute/lib/python3.12/site-packages/lightning/pytorch/loops/fit_loop.py:310: The number of training batches (1) is smaller than the logging interval Trainer(log_every_n_steps=10). Set a lower value for log_every_n_steps if you want to see logs for the training epoch.\n"
     ]
    },
    {
     "data": {
      "application/vnd.jupyter.widget-view+json": {
       "model_id": "086e9b21508d43bea5256fc04ae6f112",
       "version_major": 2,
       "version_minor": 0
      },
      "text/plain": [
       "Training:   0%|          | 0/250 [00:00<?, ?it/s]"
      ]
     },
     "metadata": {},
     "output_type": "display_data"
    },
    {
     "name": "stdout",
     "output_type": "stream",
     "text": [
      "2025-09-15 09:31:41 | [time] [scVI] train end in 0.18s\n",
      "2025-09-15 09:31:41 | [scVI] predict_mean\n",
      "2025-09-15 09:31:41 | [time] [scVI] get_likelihood_parameters start\n",
      "\u001b[34mINFO    \u001b[0m Input AnnData not setup with scvi-tools. attempting to transfer AnnData setup                             \n",
      "2025-09-15 09:31:41 | [time] [scVI] get_likelihood_parameters end in 0.01s\n",
      "\u001b[34mINFO    \u001b[0m Input AnnData not setup with scvi-tools. attempting to transfer AnnData setup                             \n",
      "2025-09-15 09:31:41 | [scVI] predict_mean\n",
      "2025-09-15 09:31:41 | [time] [scVI] get_likelihood_parameters start\n",
      "\u001b[34mINFO    \u001b[0m Input AnnData not setup with scvi-tools. attempting to transfer AnnData setup                             \n",
      "2025-09-15 09:31:41 | [time] [scVI] get_likelihood_parameters end in 0.01s\n",
      "2025-09-15 09:31:41 | [scVI] predict_mean\n",
      "2025-09-15 09:31:41 | [time] [scVI] get_likelihood_parameters start\n",
      "\u001b[34mINFO    \u001b[0m Input AnnData not setup with scvi-tools. attempting to transfer AnnData setup                             \n",
      "2025-09-15 09:31:41 | [time] [scVI] get_likelihood_parameters end in 0.01s\n",
      "2025-09-15 09:31:41 | [time] [scVI] fold 1/3 end in 0.62s\n",
      "2025-09-15 09:31:41 | [time] [scVI] fold 2/3 start\n",
      "2025-09-15 09:31:42 | [scVI] fold 2 | HVG=1500\n",
      "2025-09-15 09:31:42 | [scVI] fold 2 params={'batch_size': 512, 'dropout_rate': 0.0, 'lr': 0.001, 'max_epochs': 250, 'n_hidden': 128, 'n_latent': 32, 'n_layers': 2, 'use_gpu': True, 'weight_decay': 1e-06}\n",
      "2025-09-15 09:31:42 | [scVI] fit hp={'n_latent': 32, 'n_hidden': 128, 'n_layers': 2, 'dropout_rate': 0.0, 'max_epochs': 250, 'lr': 0.001, 'weight_decay': 1e-06, 'batch_size': 512, 'batch_key': 'BioProject', 'use_gpu': True}\n",
      "2025-09-15 09:31:42 | X_train: dense  (298, 1500) dtype=int64\n",
      "2025-09-15 09:31:42 | [time] [scVI] train start\n"
     ]
    },
    {
     "name": "stderr",
     "output_type": "stream",
     "text": [
      "/Users/mjlee/master_thesis/Thesis_project/thesispjt/thesis-impute/lib/python3.12/site-packages/legacy_api_wrap/__init__.py:82: UserWarning: `flavor='seurat_v3'` expects raw count data, but non-integers were found.\n",
      "  return fn(*args_all, **kw)\n",
      "/Users/mjlee/master_thesis/Thesis_project/thesispjt/thesis-impute/lib/python3.12/site-packages/scvi/train/_trainrunner.py:82: UserWarning: `accelerator` has been set to `mps`. Please note that not all PyTorch/Jax operations are supported with this backend. as a result, some models might be slower and less accurate than usuall. Please verify your analysis!Refer to https://github.com/pytorch/pytorch/issues/77764 for more details.\n",
      "  accelerator, lightning_devices, device = parse_device_args(\n",
      "GPU available: True (mps), used: True\n",
      "TPU available: False, using: 0 TPU cores\n",
      "HPU available: False, using: 0 HPUs\n",
      "/Users/mjlee/master_thesis/Thesis_project/thesispjt/thesis-impute/lib/python3.12/site-packages/lightning/pytorch/trainer/connectors/data_connector.py:433: The 'train_dataloader' does not have many workers which may be a bottleneck. Consider increasing the value of the `num_workers` argument` to `num_workers=7` in the `DataLoader` to improve performance.\n",
      "/Users/mjlee/master_thesis/Thesis_project/thesispjt/thesis-impute/lib/python3.12/site-packages/lightning/pytorch/loops/fit_loop.py:310: The number of training batches (1) is smaller than the logging interval Trainer(log_every_n_steps=10). Set a lower value for log_every_n_steps if you want to see logs for the training epoch.\n"
     ]
    },
    {
     "data": {
      "application/vnd.jupyter.widget-view+json": {
       "model_id": "1da9d83360034235958c4744a51b53f0",
       "version_major": 2,
       "version_minor": 0
      },
      "text/plain": [
       "Training:   0%|          | 0/250 [00:00<?, ?it/s]"
      ]
     },
     "metadata": {},
     "output_type": "display_data"
    },
    {
     "name": "stdout",
     "output_type": "stream",
     "text": [
      "2025-09-15 09:31:42 | [time] [scVI] train end in 0.22s\n",
      "2025-09-15 09:31:42 | [scVI] predict_mean\n",
      "2025-09-15 09:31:42 | [time] [scVI] get_likelihood_parameters start\n",
      "\u001b[34mINFO    \u001b[0m Input AnnData not setup with scvi-tools. attempting to transfer AnnData setup                             \n",
      "2025-09-15 09:31:42 | [time] [scVI] get_likelihood_parameters end in 0.01s\n",
      "\u001b[34mINFO    \u001b[0m Input AnnData not setup with scvi-tools. attempting to transfer AnnData setup                             \n",
      "2025-09-15 09:31:42 | [scVI] predict_mean\n",
      "2025-09-15 09:31:42 | [time] [scVI] get_likelihood_parameters start\n",
      "\u001b[34mINFO    \u001b[0m Input AnnData not setup with scvi-tools. attempting to transfer AnnData setup                             \n",
      "2025-09-15 09:31:42 | [time] [scVI] get_likelihood_parameters end in 0.01s\n",
      "2025-09-15 09:31:42 | [scVI] predict_mean\n",
      "2025-09-15 09:31:42 | [time] [scVI] get_likelihood_parameters start\n",
      "\u001b[34mINFO    \u001b[0m Input AnnData not setup with scvi-tools. attempting to transfer AnnData setup                             \n",
      "2025-09-15 09:31:42 | [time] [scVI] get_likelihood_parameters end in 0.01s\n",
      "2025-09-15 09:31:42 | [time] [scVI] fold 2/3 end in 0.65s\n",
      "2025-09-15 09:31:42 | [time] [scVI] fold 3/3 start\n",
      "2025-09-15 09:31:42 | [scVI] fold 3 | HVG=1500\n",
      "2025-09-15 09:31:42 | [scVI] fold 3 params={'batch_size': 512, 'dropout_rate': 0.0, 'lr': 0.001, 'max_epochs': 250, 'n_hidden': 128, 'n_latent': 32, 'n_layers': 2, 'use_gpu': True, 'weight_decay': 1e-06}\n",
      "2025-09-15 09:31:42 | [scVI] fit hp={'n_latent': 32, 'n_hidden': 128, 'n_layers': 2, 'dropout_rate': 0.0, 'max_epochs': 250, 'lr': 0.001, 'weight_decay': 1e-06, 'batch_size': 512, 'batch_key': 'BioProject', 'use_gpu': True}\n",
      "2025-09-15 09:31:42 | X_train: dense  (298, 1500) dtype=int64\n",
      "2025-09-15 09:31:42 | [time] [scVI] train start\n"
     ]
    },
    {
     "name": "stderr",
     "output_type": "stream",
     "text": [
      "/Users/mjlee/master_thesis/Thesis_project/thesispjt/thesis-impute/lib/python3.12/site-packages/legacy_api_wrap/__init__.py:82: UserWarning: `flavor='seurat_v3'` expects raw count data, but non-integers were found.\n",
      "  return fn(*args_all, **kw)\n",
      "/Users/mjlee/master_thesis/Thesis_project/thesispjt/thesis-impute/lib/python3.12/site-packages/scvi/train/_trainrunner.py:82: UserWarning: `accelerator` has been set to `mps`. Please note that not all PyTorch/Jax operations are supported with this backend. as a result, some models might be slower and less accurate than usuall. Please verify your analysis!Refer to https://github.com/pytorch/pytorch/issues/77764 for more details.\n",
      "  accelerator, lightning_devices, device = parse_device_args(\n",
      "GPU available: True (mps), used: True\n",
      "TPU available: False, using: 0 TPU cores\n",
      "HPU available: False, using: 0 HPUs\n",
      "/Users/mjlee/master_thesis/Thesis_project/thesispjt/thesis-impute/lib/python3.12/site-packages/lightning/pytorch/trainer/connectors/data_connector.py:433: The 'train_dataloader' does not have many workers which may be a bottleneck. Consider increasing the value of the `num_workers` argument` to `num_workers=7` in the `DataLoader` to improve performance.\n",
      "/Users/mjlee/master_thesis/Thesis_project/thesispjt/thesis-impute/lib/python3.12/site-packages/lightning/pytorch/loops/fit_loop.py:310: The number of training batches (1) is smaller than the logging interval Trainer(log_every_n_steps=10). Set a lower value for log_every_n_steps if you want to see logs for the training epoch.\n"
     ]
    },
    {
     "data": {
      "application/vnd.jupyter.widget-view+json": {
       "model_id": "bd718d2735af4733b7973ce341abf0b6",
       "version_major": 2,
       "version_minor": 0
      },
      "text/plain": [
       "Training:   0%|          | 0/250 [00:00<?, ?it/s]"
      ]
     },
     "metadata": {},
     "output_type": "display_data"
    },
    {
     "name": "stdout",
     "output_type": "stream",
     "text": [
      "2025-09-15 09:31:43 | [time] [scVI] train end in 0.18s\n",
      "2025-09-15 09:31:43 | [scVI] predict_mean\n",
      "2025-09-15 09:31:43 | [time] [scVI] get_likelihood_parameters start\n",
      "\u001b[34mINFO    \u001b[0m Input AnnData not setup with scvi-tools. attempting to transfer AnnData setup                             \n",
      "2025-09-15 09:31:43 | [time] [scVI] get_likelihood_parameters end in 0.01s\n",
      "\u001b[34mINFO    \u001b[0m Input AnnData not setup with scvi-tools. attempting to transfer AnnData setup                             \n",
      "2025-09-15 09:31:43 | [scVI] predict_mean\n",
      "2025-09-15 09:31:43 | [time] [scVI] get_likelihood_parameters start\n",
      "\u001b[34mINFO    \u001b[0m Input AnnData not setup with scvi-tools. attempting to transfer AnnData setup                             \n",
      "2025-09-15 09:31:43 | [time] [scVI] get_likelihood_parameters end in 0.01s\n",
      "2025-09-15 09:31:43 | [scVI] predict_mean\n",
      "2025-09-15 09:31:43 | [time] [scVI] get_likelihood_parameters start\n",
      "\u001b[34mINFO    \u001b[0m Input AnnData not setup with scvi-tools. attempting to transfer AnnData setup                             \n",
      "2025-09-15 09:31:43 | [time] [scVI] get_likelihood_parameters end in 0.01s\n",
      "2025-09-15 09:31:43 | [time] [scVI] fold 3/3 end in 0.62s\n",
      "2025-09-15 09:31:43 | [cv_scvi_5fold] done\n"
     ]
    },
    {
     "name": "stderr",
     "output_type": "stream",
     "text": [
      "[W 2025-09-15 09:31:43,118] Trial 7 failed with parameters: {'n_latent': 32, 'n_hidden': 128, 'n_layers': 2, 'dropout_rate': 0.0, 'max_epochs': 250, 'lr': 0.001, 'weight_decay': 1e-06, 'batch_size': 512, 'n_hvg': 1500} because of the following error: The value   model  n_hvg     MAE_zero      MSE_zero  MedianL1_zero  NB_ll_zero  \\\n",
      "0  scVI   1500  1075.889137  1.616220e+08     309.701248   -7.774088   \n",
      "\n",
      "   NB_dev_zero   MAE_thin      MSE_thin  MedianL1_thin  NB_ll_thin  \\\n",
      "0       6.6817  67.442665  773900.05201      29.617807   -2.909358   \n",
      "\n",
      "   NB_dev_thin Silhouette                                             params  \n",
      "0     4.056067        NaN  {'batch_size': 512, 'dropout_rate': 0.0, 'lr':...   could not be cast to float.\n",
      "[W 2025-09-15 09:31:43,121] Trial 7 failed with value (  model  n_hvg     MAE_zero      MSE_zero  MedianL1_zero  NB_ll_zero  \\\n",
      "0  scVI   1500  1075.889137  1.616220e+08     309.701248   -7.774088   \n",
      "\n",
      "   NB_dev_zero   MAE_thin      MSE_thin  MedianL1_thin  NB_ll_thin  \\\n",
      "0       6.6817  67.442665  773900.05201      29.617807   -2.909358   \n",
      "\n",
      "   NB_dev_thin Silhouette                                             params  \n",
      "0     4.056067        NaN  {'batch_size': 512, 'dropout_rate': 0.0, 'lr':...  ,    fold model                                             params  n_hvg  \\\n",
      "0     1  scVI  {'batch_size': 512, 'dropout_rate': 0.0, 'lr':...   1500   \n",
      "1     2  scVI  {'batch_size': 512, 'dropout_rate': 0.0, 'lr':...   1500   \n",
      "2     3  scVI  {'batch_size': 512, 'dropout_rate': 0.0, 'lr':...   1500   \n",
      "\n",
      "      MAE_zero      MSE_zero  MedianL1_zero  NB_ll_zero  NB_dev_zero  \\\n",
      "0  1057.694730  1.340598e+08     310.060333   -8.100849     7.373286   \n",
      "1  1161.195245  2.077642e+08     324.934921   -7.593821     6.272274   \n",
      "2  1008.777436  1.430419e+08     294.108490   -7.627593     6.399539   \n",
      "\n",
      "    MAE_thin       MSE_thin  MedianL1_thin  NB_ll_thin  NB_dev_thin Silhouette  \n",
      "0  67.347829  804724.192175      28.108536   -3.163791     4.585140       None  \n",
      "1  69.173469  807295.659106      31.489480   -2.746728     3.727957       None  \n",
      "2  65.806697  709680.304750      29.255406   -2.817556     3.855105       None  , -2.9093581053035567).\n"
     ]
    },
    {
     "name": "stdout",
     "output_type": "stream",
     "text": [
      "{'n_latent': [32], 'n_hidden': [128], 'n_layers': [2], 'dropout_rate': [0.1], 'max_epochs': [250], 'lr': [0.0005], 'weight_decay': [1e-06], 'batch_size': [512], 'use_gpu': [True]}\n",
      "2025-09-15 09:31:43 | [cv_scvi_5fold] start k=3 n_hvg=2000 mode=seurat_v3\n",
      "2025-09-15 09:31:43 | X_counts: dense  (447, 51777) dtype=int64\n",
      "2025-09-15 09:31:43 | X_counts: zeros=66.23%, approx_int=True\n",
      "2025-09-15 09:31:43 | [time] [scVI] fold 1/3 start\n",
      "2025-09-15 09:31:43 | [scVI] fold 1 | HVG=2000\n",
      "2025-09-15 09:31:43 | [scVI] fold 1 params={'batch_size': 512, 'dropout_rate': 0.1, 'lr': 0.0005, 'max_epochs': 250, 'n_hidden': 128, 'n_latent': 32, 'n_layers': 2, 'use_gpu': True, 'weight_decay': 1e-06}\n",
      "2025-09-15 09:31:43 | [scVI] fit hp={'n_latent': 32, 'n_hidden': 128, 'n_layers': 2, 'dropout_rate': 0.1, 'max_epochs': 250, 'lr': 0.0005, 'weight_decay': 1e-06, 'batch_size': 512, 'batch_key': 'BioProject', 'use_gpu': True}\n",
      "2025-09-15 09:31:43 | X_train: dense  (298, 2000) dtype=int64\n",
      "2025-09-15 09:31:43 | [time] [scVI] train start\n"
     ]
    },
    {
     "name": "stderr",
     "output_type": "stream",
     "text": [
      "/Users/mjlee/master_thesis/Thesis_project/thesispjt/thesis-impute/lib/python3.12/site-packages/legacy_api_wrap/__init__.py:82: UserWarning: `flavor='seurat_v3'` expects raw count data, but non-integers were found.\n",
      "  return fn(*args_all, **kw)\n",
      "/Users/mjlee/master_thesis/Thesis_project/thesispjt/thesis-impute/lib/python3.12/site-packages/scvi/train/_trainrunner.py:82: UserWarning: `accelerator` has been set to `mps`. Please note that not all PyTorch/Jax operations are supported with this backend. as a result, some models might be slower and less accurate than usuall. Please verify your analysis!Refer to https://github.com/pytorch/pytorch/issues/77764 for more details.\n",
      "  accelerator, lightning_devices, device = parse_device_args(\n",
      "GPU available: True (mps), used: True\n",
      "TPU available: False, using: 0 TPU cores\n",
      "HPU available: False, using: 0 HPUs\n",
      "/Users/mjlee/master_thesis/Thesis_project/thesispjt/thesis-impute/lib/python3.12/site-packages/lightning/pytorch/trainer/connectors/data_connector.py:433: The 'train_dataloader' does not have many workers which may be a bottleneck. Consider increasing the value of the `num_workers` argument` to `num_workers=7` in the `DataLoader` to improve performance.\n",
      "/Users/mjlee/master_thesis/Thesis_project/thesispjt/thesis-impute/lib/python3.12/site-packages/lightning/pytorch/loops/fit_loop.py:310: The number of training batches (1) is smaller than the logging interval Trainer(log_every_n_steps=10). Set a lower value for log_every_n_steps if you want to see logs for the training epoch.\n"
     ]
    },
    {
     "data": {
      "application/vnd.jupyter.widget-view+json": {
       "model_id": "194ccf92655a46f7aa3feea0369ec2ac",
       "version_major": 2,
       "version_minor": 0
      },
      "text/plain": [
       "Training:   0%|          | 0/250 [00:00<?, ?it/s]"
      ]
     },
     "metadata": {},
     "output_type": "display_data"
    },
    {
     "name": "stdout",
     "output_type": "stream",
     "text": [
      "2025-09-15 09:31:43 | [time] [scVI] train end in 0.22s\n",
      "2025-09-15 09:31:43 | [scVI] predict_mean\n",
      "2025-09-15 09:31:43 | [time] [scVI] get_likelihood_parameters start\n",
      "\u001b[34mINFO    \u001b[0m Input AnnData not setup with scvi-tools. attempting to transfer AnnData setup                             \n",
      "2025-09-15 09:31:44 | [time] [scVI] get_likelihood_parameters end in 0.01s\n",
      "\u001b[34mINFO    \u001b[0m Input AnnData not setup with scvi-tools. attempting to transfer AnnData setup                             \n",
      "2025-09-15 09:31:44 | [scVI] predict_mean\n",
      "2025-09-15 09:31:44 | [time] [scVI] get_likelihood_parameters start\n",
      "\u001b[34mINFO    \u001b[0m Input AnnData not setup with scvi-tools. attempting to transfer AnnData setup                             \n",
      "2025-09-15 09:31:44 | [time] [scVI] get_likelihood_parameters end in 0.01s\n",
      "2025-09-15 09:31:44 | [scVI] predict_mean\n",
      "2025-09-15 09:31:44 | [time] [scVI] get_likelihood_parameters start\n",
      "\u001b[34mINFO    \u001b[0m Input AnnData not setup with scvi-tools. attempting to transfer AnnData setup                             \n",
      "2025-09-15 09:31:44 | [time] [scVI] get_likelihood_parameters end in 0.01s\n",
      "2025-09-15 09:31:44 | [time] [scVI] fold 1/3 end in 0.67s\n",
      "2025-09-15 09:31:44 | [time] [scVI] fold 2/3 start\n",
      "2025-09-15 09:31:44 | [scVI] fold 2 | HVG=2000\n",
      "2025-09-15 09:31:44 | [scVI] fold 2 params={'batch_size': 512, 'dropout_rate': 0.1, 'lr': 0.0005, 'max_epochs': 250, 'n_hidden': 128, 'n_latent': 32, 'n_layers': 2, 'use_gpu': True, 'weight_decay': 1e-06}\n",
      "2025-09-15 09:31:44 | [scVI] fit hp={'n_latent': 32, 'n_hidden': 128, 'n_layers': 2, 'dropout_rate': 0.1, 'max_epochs': 250, 'lr': 0.0005, 'weight_decay': 1e-06, 'batch_size': 512, 'batch_key': 'BioProject', 'use_gpu': True}\n",
      "2025-09-15 09:31:44 | X_train: dense  (298, 2000) dtype=int64\n",
      "2025-09-15 09:31:44 | [time] [scVI] train start\n"
     ]
    },
    {
     "name": "stderr",
     "output_type": "stream",
     "text": [
      "/Users/mjlee/master_thesis/Thesis_project/thesispjt/thesis-impute/lib/python3.12/site-packages/legacy_api_wrap/__init__.py:82: UserWarning: `flavor='seurat_v3'` expects raw count data, but non-integers were found.\n",
      "  return fn(*args_all, **kw)\n",
      "/Users/mjlee/master_thesis/Thesis_project/thesispjt/thesis-impute/lib/python3.12/site-packages/scvi/train/_trainrunner.py:82: UserWarning: `accelerator` has been set to `mps`. Please note that not all PyTorch/Jax operations are supported with this backend. as a result, some models might be slower and less accurate than usuall. Please verify your analysis!Refer to https://github.com/pytorch/pytorch/issues/77764 for more details.\n",
      "  accelerator, lightning_devices, device = parse_device_args(\n",
      "GPU available: True (mps), used: True\n",
      "TPU available: False, using: 0 TPU cores\n",
      "HPU available: False, using: 0 HPUs\n",
      "/Users/mjlee/master_thesis/Thesis_project/thesispjt/thesis-impute/lib/python3.12/site-packages/lightning/pytorch/trainer/connectors/data_connector.py:433: The 'train_dataloader' does not have many workers which may be a bottleneck. Consider increasing the value of the `num_workers` argument` to `num_workers=7` in the `DataLoader` to improve performance.\n",
      "/Users/mjlee/master_thesis/Thesis_project/thesispjt/thesis-impute/lib/python3.12/site-packages/lightning/pytorch/loops/fit_loop.py:310: The number of training batches (1) is smaller than the logging interval Trainer(log_every_n_steps=10). Set a lower value for log_every_n_steps if you want to see logs for the training epoch.\n"
     ]
    },
    {
     "data": {
      "application/vnd.jupyter.widget-view+json": {
       "model_id": "06d92b3f223f40cf811ac65a899c4822",
       "version_major": 2,
       "version_minor": 0
      },
      "text/plain": [
       "Training:   0%|          | 0/250 [00:00<?, ?it/s]"
      ]
     },
     "metadata": {},
     "output_type": "display_data"
    },
    {
     "name": "stdout",
     "output_type": "stream",
     "text": [
      "2025-09-15 09:31:44 | [time] [scVI] train end in 0.18s\n",
      "2025-09-15 09:31:44 | [scVI] predict_mean\n",
      "2025-09-15 09:31:44 | [time] [scVI] get_likelihood_parameters start\n",
      "\u001b[34mINFO    \u001b[0m Input AnnData not setup with scvi-tools. attempting to transfer AnnData setup                             \n",
      "2025-09-15 09:31:44 | [time] [scVI] get_likelihood_parameters end in 0.01s\n",
      "\u001b[34mINFO    \u001b[0m Input AnnData not setup with scvi-tools. attempting to transfer AnnData setup                             \n",
      "2025-09-15 09:31:44 | [scVI] predict_mean\n",
      "2025-09-15 09:31:44 | [time] [scVI] get_likelihood_parameters start\n",
      "\u001b[34mINFO    \u001b[0m Input AnnData not setup with scvi-tools. attempting to transfer AnnData setup                             \n",
      "2025-09-15 09:31:44 | [time] [scVI] get_likelihood_parameters end in 0.01s\n",
      "2025-09-15 09:31:44 | [scVI] predict_mean\n",
      "2025-09-15 09:31:44 | [time] [scVI] get_likelihood_parameters start\n",
      "\u001b[34mINFO    \u001b[0m Input AnnData not setup with scvi-tools. attempting to transfer AnnData setup                             \n",
      "2025-09-15 09:31:44 | [time] [scVI] get_likelihood_parameters end in 0.01s\n",
      "2025-09-15 09:31:44 | [time] [scVI] fold 2/3 end in 0.63s\n",
      "2025-09-15 09:31:44 | [time] [scVI] fold 3/3 start\n",
      "2025-09-15 09:31:45 | [scVI] fold 3 | HVG=2000\n",
      "2025-09-15 09:31:45 | [scVI] fold 3 params={'batch_size': 512, 'dropout_rate': 0.1, 'lr': 0.0005, 'max_epochs': 250, 'n_hidden': 128, 'n_latent': 32, 'n_layers': 2, 'use_gpu': True, 'weight_decay': 1e-06}\n",
      "2025-09-15 09:31:45 | [scVI] fit hp={'n_latent': 32, 'n_hidden': 128, 'n_layers': 2, 'dropout_rate': 0.1, 'max_epochs': 250, 'lr': 0.0005, 'weight_decay': 1e-06, 'batch_size': 512, 'batch_key': 'BioProject', 'use_gpu': True}\n",
      "2025-09-15 09:31:45 | X_train: dense  (298, 2000) dtype=int64\n",
      "2025-09-15 09:31:45 | [time] [scVI] train start\n"
     ]
    },
    {
     "name": "stderr",
     "output_type": "stream",
     "text": [
      "/Users/mjlee/master_thesis/Thesis_project/thesispjt/thesis-impute/lib/python3.12/site-packages/legacy_api_wrap/__init__.py:82: UserWarning: `flavor='seurat_v3'` expects raw count data, but non-integers were found.\n",
      "  return fn(*args_all, **kw)\n",
      "/Users/mjlee/master_thesis/Thesis_project/thesispjt/thesis-impute/lib/python3.12/site-packages/scvi/train/_trainrunner.py:82: UserWarning: `accelerator` has been set to `mps`. Please note that not all PyTorch/Jax operations are supported with this backend. as a result, some models might be slower and less accurate than usuall. Please verify your analysis!Refer to https://github.com/pytorch/pytorch/issues/77764 for more details.\n",
      "  accelerator, lightning_devices, device = parse_device_args(\n",
      "GPU available: True (mps), used: True\n",
      "TPU available: False, using: 0 TPU cores\n",
      "HPU available: False, using: 0 HPUs\n",
      "/Users/mjlee/master_thesis/Thesis_project/thesispjt/thesis-impute/lib/python3.12/site-packages/lightning/pytorch/trainer/connectors/data_connector.py:433: The 'train_dataloader' does not have many workers which may be a bottleneck. Consider increasing the value of the `num_workers` argument` to `num_workers=7` in the `DataLoader` to improve performance.\n",
      "/Users/mjlee/master_thesis/Thesis_project/thesispjt/thesis-impute/lib/python3.12/site-packages/lightning/pytorch/loops/fit_loop.py:310: The number of training batches (1) is smaller than the logging interval Trainer(log_every_n_steps=10). Set a lower value for log_every_n_steps if you want to see logs for the training epoch.\n"
     ]
    },
    {
     "data": {
      "application/vnd.jupyter.widget-view+json": {
       "model_id": "cbae70b33a9d4e7e861918f174027874",
       "version_major": 2,
       "version_minor": 0
      },
      "text/plain": [
       "Training:   0%|          | 0/250 [00:00<?, ?it/s]"
      ]
     },
     "metadata": {},
     "output_type": "display_data"
    },
    {
     "name": "stdout",
     "output_type": "stream",
     "text": [
      "2025-09-15 09:31:45 | [time] [scVI] train end in 0.22s\n",
      "2025-09-15 09:31:45 | [scVI] predict_mean\n",
      "2025-09-15 09:31:45 | [time] [scVI] get_likelihood_parameters start\n",
      "\u001b[34mINFO    \u001b[0m Input AnnData not setup with scvi-tools. attempting to transfer AnnData setup                             \n",
      "2025-09-15 09:31:45 | [time] [scVI] get_likelihood_parameters end in 0.01s\n",
      "\u001b[34mINFO    \u001b[0m Input AnnData not setup with scvi-tools. attempting to transfer AnnData setup                             \n",
      "2025-09-15 09:31:45 | [scVI] predict_mean\n",
      "2025-09-15 09:31:45 | [time] [scVI] get_likelihood_parameters start\n",
      "\u001b[34mINFO    \u001b[0m Input AnnData not setup with scvi-tools. attempting to transfer AnnData setup                             \n",
      "2025-09-15 09:31:45 | [time] [scVI] get_likelihood_parameters end in 0.01s\n",
      "2025-09-15 09:31:45 | [scVI] predict_mean\n",
      "2025-09-15 09:31:45 | [time] [scVI] get_likelihood_parameters start\n",
      "\u001b[34mINFO    \u001b[0m Input AnnData not setup with scvi-tools. attempting to transfer AnnData setup                             \n",
      "2025-09-15 09:31:45 | [time] [scVI] get_likelihood_parameters end in 0.01s\n",
      "2025-09-15 09:31:45 | [time] [scVI] fold 3/3 end in 0.68s\n",
      "2025-09-15 09:31:45 | [cv_scvi_5fold] done\n"
     ]
    },
    {
     "name": "stderr",
     "output_type": "stream",
     "text": [
      "[W 2025-09-15 09:31:45,417] Trial 8 failed with parameters: {'n_latent': 32, 'n_hidden': 128, 'n_layers': 2, 'dropout_rate': 0.1, 'max_epochs': 250, 'lr': 0.0005, 'weight_decay': 1e-06, 'batch_size': 512, 'n_hvg': 2000} because of the following error: The value   model  n_hvg    MAE_zero      MSE_zero  MedianL1_zero  NB_ll_zero  \\\n",
      "0  scVI   2000  901.233204  1.336888e+08     257.850321   -7.909478   \n",
      "\n",
      "   NB_dev_zero   MAE_thin       MSE_thin  MedianL1_thin  NB_ll_thin  \\\n",
      "0     7.184343  55.145288  585865.541945      24.651642   -2.943036   \n",
      "\n",
      "   NB_dev_thin Silhouette                                             params  \n",
      "0     4.228256        NaN  {'batch_size': 512, 'dropout_rate': 0.1, 'lr':...   could not be cast to float.\n",
      "[W 2025-09-15 09:31:45,420] Trial 8 failed with value (  model  n_hvg    MAE_zero      MSE_zero  MedianL1_zero  NB_ll_zero  \\\n",
      "0  scVI   2000  901.233204  1.336888e+08     257.850321   -7.909478   \n",
      "\n",
      "   NB_dev_zero   MAE_thin       MSE_thin  MedianL1_thin  NB_ll_thin  \\\n",
      "0     7.184343  55.145288  585865.541945      24.651642   -2.943036   \n",
      "\n",
      "   NB_dev_thin Silhouette                                             params  \n",
      "0     4.228256        NaN  {'batch_size': 512, 'dropout_rate': 0.1, 'lr':...  ,    fold model                                             params  n_hvg  \\\n",
      "0     1  scVI  {'batch_size': 512, 'dropout_rate': 0.1, 'lr':...   2000   \n",
      "1     2  scVI  {'batch_size': 512, 'dropout_rate': 0.1, 'lr':...   2000   \n",
      "2     3  scVI  {'batch_size': 512, 'dropout_rate': 0.1, 'lr':...   2000   \n",
      "\n",
      "      MAE_zero      MSE_zero  MedianL1_zero  NB_ll_zero  NB_dev_zero  \\\n",
      "0   849.681136  1.060725e+08     253.684235   -8.051092     7.494217   \n",
      "1  1064.134667  1.839149e+08     288.686249   -8.424903     8.119793   \n",
      "2   789.883808  1.110789e+08     231.180481   -7.252438     5.939020   \n",
      "\n",
      "    MAE_thin       MSE_thin  MedianL1_thin  NB_ll_thin  NB_dev_thin Silhouette  \n",
      "0  54.256390  605464.479577      23.349400   -3.081028     4.499868       None  \n",
      "1  60.152448  619677.311857      27.944252   -3.031998     4.383694       None  \n",
      "2  51.027026  532454.834401      22.661276   -2.716083     3.801206       None  , -2.943036202974598).\n"
     ]
    },
    {
     "name": "stdout",
     "output_type": "stream",
     "text": [
      "{'n_latent': [16], 'n_hidden': [256], 'n_layers': [2], 'dropout_rate': [0.1], 'max_epochs': [150], 'lr': [0.001], 'weight_decay': [1e-06], 'batch_size': [256], 'use_gpu': [True]}\n",
      "2025-09-15 09:31:45 | [cv_scvi_5fold] start k=3 n_hvg=2000 mode=seurat_v3\n",
      "2025-09-15 09:31:45 | X_counts: dense  (447, 51777) dtype=int64\n",
      "2025-09-15 09:31:45 | X_counts: zeros=66.23%, approx_int=True\n",
      "2025-09-15 09:31:45 | [time] [scVI] fold 1/3 start\n",
      "2025-09-15 09:31:46 | [scVI] fold 1 | HVG=2000\n",
      "2025-09-15 09:31:46 | [scVI] fold 1 params={'batch_size': 256, 'dropout_rate': 0.1, 'lr': 0.001, 'max_epochs': 150, 'n_hidden': 256, 'n_latent': 16, 'n_layers': 2, 'use_gpu': True, 'weight_decay': 1e-06}\n",
      "2025-09-15 09:31:46 | [scVI] fit hp={'n_latent': 16, 'n_hidden': 256, 'n_layers': 2, 'dropout_rate': 0.1, 'max_epochs': 150, 'lr': 0.001, 'weight_decay': 1e-06, 'batch_size': 256, 'batch_key': 'BioProject', 'use_gpu': True}\n",
      "2025-09-15 09:31:46 | X_train: dense  (298, 2000) dtype=int64\n",
      "2025-09-15 09:31:46 | [time] [scVI] train start\n"
     ]
    },
    {
     "name": "stderr",
     "output_type": "stream",
     "text": [
      "/Users/mjlee/master_thesis/Thesis_project/thesispjt/thesis-impute/lib/python3.12/site-packages/legacy_api_wrap/__init__.py:82: UserWarning: `flavor='seurat_v3'` expects raw count data, but non-integers were found.\n",
      "  return fn(*args_all, **kw)\n",
      "/Users/mjlee/master_thesis/Thesis_project/thesispjt/thesis-impute/lib/python3.12/site-packages/scvi/train/_trainrunner.py:82: UserWarning: `accelerator` has been set to `mps`. Please note that not all PyTorch/Jax operations are supported with this backend. as a result, some models might be slower and less accurate than usuall. Please verify your analysis!Refer to https://github.com/pytorch/pytorch/issues/77764 for more details.\n",
      "  accelerator, lightning_devices, device = parse_device_args(\n",
      "GPU available: True (mps), used: True\n",
      "TPU available: False, using: 0 TPU cores\n",
      "HPU available: False, using: 0 HPUs\n",
      "/Users/mjlee/master_thesis/Thesis_project/thesispjt/thesis-impute/lib/python3.12/site-packages/lightning/pytorch/trainer/connectors/data_connector.py:433: The 'train_dataloader' does not have many workers which may be a bottleneck. Consider increasing the value of the `num_workers` argument` to `num_workers=7` in the `DataLoader` to improve performance.\n",
      "/Users/mjlee/master_thesis/Thesis_project/thesispjt/thesis-impute/lib/python3.12/site-packages/lightning/pytorch/loops/fit_loop.py:310: The number of training batches (2) is smaller than the logging interval Trainer(log_every_n_steps=10). Set a lower value for log_every_n_steps if you want to see logs for the training epoch.\n"
     ]
    },
    {
     "data": {
      "application/vnd.jupyter.widget-view+json": {
       "model_id": "7ddc0e1948064e2f9cc244121f08c51f",
       "version_major": 2,
       "version_minor": 0
      },
      "text/plain": [
       "Training:   0%|          | 0/150 [00:00<?, ?it/s]"
      ]
     },
     "metadata": {},
     "output_type": "display_data"
    },
    {
     "name": "stdout",
     "output_type": "stream",
     "text": [
      "2025-09-15 09:31:46 | [time] [scVI] train end in 0.22s\n",
      "2025-09-15 09:31:46 | [scVI] predict_mean\n",
      "2025-09-15 09:31:46 | [time] [scVI] get_likelihood_parameters start\n",
      "\u001b[34mINFO    \u001b[0m Input AnnData not setup with scvi-tools. attempting to transfer AnnData setup                             \n",
      "2025-09-15 09:31:46 | [time] [scVI] get_likelihood_parameters end in 0.01s\n",
      "\u001b[34mINFO    \u001b[0m Input AnnData not setup with scvi-tools. attempting to transfer AnnData setup                             \n",
      "2025-09-15 09:31:46 | [scVI] predict_mean\n",
      "2025-09-15 09:31:46 | [time] [scVI] get_likelihood_parameters start\n",
      "\u001b[34mINFO    \u001b[0m Input AnnData not setup with scvi-tools. attempting to transfer AnnData setup                             \n",
      "2025-09-15 09:31:46 | [time] [scVI] get_likelihood_parameters end in 0.02s\n",
      "2025-09-15 09:31:46 | [scVI] predict_mean\n",
      "2025-09-15 09:31:46 | [time] [scVI] get_likelihood_parameters start\n",
      "\u001b[34mINFO    \u001b[0m Input AnnData not setup with scvi-tools. attempting to transfer AnnData setup                             \n",
      "2025-09-15 09:31:46 | [time] [scVI] get_likelihood_parameters end in 0.02s\n",
      "2025-09-15 09:31:46 | [time] [scVI] fold 1/3 end in 0.68s\n",
      "2025-09-15 09:31:46 | [time] [scVI] fold 2/3 start\n",
      "2025-09-15 09:31:46 | [scVI] fold 2 | HVG=2000\n",
      "2025-09-15 09:31:46 | [scVI] fold 2 params={'batch_size': 256, 'dropout_rate': 0.1, 'lr': 0.001, 'max_epochs': 150, 'n_hidden': 256, 'n_latent': 16, 'n_layers': 2, 'use_gpu': True, 'weight_decay': 1e-06}\n",
      "2025-09-15 09:31:46 | [scVI] fit hp={'n_latent': 16, 'n_hidden': 256, 'n_layers': 2, 'dropout_rate': 0.1, 'max_epochs': 150, 'lr': 0.001, 'weight_decay': 1e-06, 'batch_size': 256, 'batch_key': 'BioProject', 'use_gpu': True}\n",
      "2025-09-15 09:31:46 | X_train: dense  (298, 2000) dtype=int64\n",
      "2025-09-15 09:31:46 | [time] [scVI] train start\n"
     ]
    },
    {
     "name": "stderr",
     "output_type": "stream",
     "text": [
      "/Users/mjlee/master_thesis/Thesis_project/thesispjt/thesis-impute/lib/python3.12/site-packages/legacy_api_wrap/__init__.py:82: UserWarning: `flavor='seurat_v3'` expects raw count data, but non-integers were found.\n",
      "  return fn(*args_all, **kw)\n",
      "/Users/mjlee/master_thesis/Thesis_project/thesispjt/thesis-impute/lib/python3.12/site-packages/scvi/train/_trainrunner.py:82: UserWarning: `accelerator` has been set to `mps`. Please note that not all PyTorch/Jax operations are supported with this backend. as a result, some models might be slower and less accurate than usuall. Please verify your analysis!Refer to https://github.com/pytorch/pytorch/issues/77764 for more details.\n",
      "  accelerator, lightning_devices, device = parse_device_args(\n",
      "GPU available: True (mps), used: True\n",
      "TPU available: False, using: 0 TPU cores\n",
      "HPU available: False, using: 0 HPUs\n",
      "/Users/mjlee/master_thesis/Thesis_project/thesispjt/thesis-impute/lib/python3.12/site-packages/lightning/pytorch/trainer/connectors/data_connector.py:433: The 'train_dataloader' does not have many workers which may be a bottleneck. Consider increasing the value of the `num_workers` argument` to `num_workers=7` in the `DataLoader` to improve performance.\n",
      "/Users/mjlee/master_thesis/Thesis_project/thesispjt/thesis-impute/lib/python3.12/site-packages/lightning/pytorch/loops/fit_loop.py:310: The number of training batches (2) is smaller than the logging interval Trainer(log_every_n_steps=10). Set a lower value for log_every_n_steps if you want to see logs for the training epoch.\n"
     ]
    },
    {
     "data": {
      "application/vnd.jupyter.widget-view+json": {
       "model_id": "4b4daf93523f4b618cd82e46fe7aaa39",
       "version_major": 2,
       "version_minor": 0
      },
      "text/plain": [
       "Training:   0%|          | 0/150 [00:00<?, ?it/s]"
      ]
     },
     "metadata": {},
     "output_type": "display_data"
    },
    {
     "name": "stdout",
     "output_type": "stream",
     "text": [
      "2025-09-15 09:31:46 | [time] [scVI] train end in 0.18s\n",
      "2025-09-15 09:31:46 | [scVI] predict_mean\n",
      "2025-09-15 09:31:46 | [time] [scVI] get_likelihood_parameters start\n",
      "\u001b[34mINFO    \u001b[0m Input AnnData not setup with scvi-tools. attempting to transfer AnnData setup                             \n",
      "2025-09-15 09:31:46 | [time] [scVI] get_likelihood_parameters end in 0.02s\n",
      "\u001b[34mINFO    \u001b[0m Input AnnData not setup with scvi-tools. attempting to transfer AnnData setup                             \n",
      "2025-09-15 09:31:46 | [scVI] predict_mean\n",
      "2025-09-15 09:31:46 | [time] [scVI] get_likelihood_parameters start\n",
      "\u001b[34mINFO    \u001b[0m Input AnnData not setup with scvi-tools. attempting to transfer AnnData setup                             \n",
      "2025-09-15 09:31:46 | [time] [scVI] get_likelihood_parameters end in 0.02s\n",
      "2025-09-15 09:31:47 | [scVI] predict_mean\n",
      "2025-09-15 09:31:47 | [time] [scVI] get_likelihood_parameters start\n",
      "\u001b[34mINFO    \u001b[0m Input AnnData not setup with scvi-tools. attempting to transfer AnnData setup                             \n",
      "2025-09-15 09:31:47 | [time] [scVI] get_likelihood_parameters end in 0.02s\n",
      "2025-09-15 09:31:47 | [time] [scVI] fold 2/3 end in 0.63s\n",
      "2025-09-15 09:31:47 | [time] [scVI] fold 3/3 start\n",
      "2025-09-15 09:31:47 | [scVI] fold 3 | HVG=2000\n",
      "2025-09-15 09:31:47 | [scVI] fold 3 params={'batch_size': 256, 'dropout_rate': 0.1, 'lr': 0.001, 'max_epochs': 150, 'n_hidden': 256, 'n_latent': 16, 'n_layers': 2, 'use_gpu': True, 'weight_decay': 1e-06}\n",
      "2025-09-15 09:31:47 | [scVI] fit hp={'n_latent': 16, 'n_hidden': 256, 'n_layers': 2, 'dropout_rate': 0.1, 'max_epochs': 150, 'lr': 0.001, 'weight_decay': 1e-06, 'batch_size': 256, 'batch_key': 'BioProject', 'use_gpu': True}\n",
      "2025-09-15 09:31:47 | X_train: dense  (298, 2000) dtype=int64\n",
      "2025-09-15 09:31:47 | [time] [scVI] train start\n"
     ]
    },
    {
     "name": "stderr",
     "output_type": "stream",
     "text": [
      "/Users/mjlee/master_thesis/Thesis_project/thesispjt/thesis-impute/lib/python3.12/site-packages/legacy_api_wrap/__init__.py:82: UserWarning: `flavor='seurat_v3'` expects raw count data, but non-integers were found.\n",
      "  return fn(*args_all, **kw)\n",
      "/Users/mjlee/master_thesis/Thesis_project/thesispjt/thesis-impute/lib/python3.12/site-packages/scvi/train/_trainrunner.py:82: UserWarning: `accelerator` has been set to `mps`. Please note that not all PyTorch/Jax operations are supported with this backend. as a result, some models might be slower and less accurate than usuall. Please verify your analysis!Refer to https://github.com/pytorch/pytorch/issues/77764 for more details.\n",
      "  accelerator, lightning_devices, device = parse_device_args(\n",
      "GPU available: True (mps), used: True\n",
      "TPU available: False, using: 0 TPU cores\n",
      "HPU available: False, using: 0 HPUs\n",
      "/Users/mjlee/master_thesis/Thesis_project/thesispjt/thesis-impute/lib/python3.12/site-packages/lightning/pytorch/trainer/connectors/data_connector.py:433: The 'train_dataloader' does not have many workers which may be a bottleneck. Consider increasing the value of the `num_workers` argument` to `num_workers=7` in the `DataLoader` to improve performance.\n",
      "/Users/mjlee/master_thesis/Thesis_project/thesispjt/thesis-impute/lib/python3.12/site-packages/lightning/pytorch/loops/fit_loop.py:310: The number of training batches (2) is smaller than the logging interval Trainer(log_every_n_steps=10). Set a lower value for log_every_n_steps if you want to see logs for the training epoch.\n"
     ]
    },
    {
     "data": {
      "application/vnd.jupyter.widget-view+json": {
       "model_id": "0bfabe19f3ea4f3485c6f7bcdd15eb9a",
       "version_major": 2,
       "version_minor": 0
      },
      "text/plain": [
       "Training:   0%|          | 0/150 [00:00<?, ?it/s]"
      ]
     },
     "metadata": {},
     "output_type": "display_data"
    },
    {
     "name": "stdout",
     "output_type": "stream",
     "text": [
      "2025-09-15 09:31:47 | [time] [scVI] train end in 0.22s\n",
      "2025-09-15 09:31:47 | [scVI] predict_mean\n",
      "2025-09-15 09:31:47 | [time] [scVI] get_likelihood_parameters start\n",
      "\u001b[34mINFO    \u001b[0m Input AnnData not setup with scvi-tools. attempting to transfer AnnData setup                             \n",
      "2025-09-15 09:31:47 | [time] [scVI] get_likelihood_parameters end in 0.01s\n",
      "\u001b[34mINFO    \u001b[0m Input AnnData not setup with scvi-tools. attempting to transfer AnnData setup                             \n",
      "2025-09-15 09:31:47 | [scVI] predict_mean\n",
      "2025-09-15 09:31:47 | [time] [scVI] get_likelihood_parameters start\n",
      "\u001b[34mINFO    \u001b[0m Input AnnData not setup with scvi-tools. attempting to transfer AnnData setup                             \n",
      "2025-09-15 09:31:47 | [time] [scVI] get_likelihood_parameters end in 0.01s\n",
      "2025-09-15 09:31:47 | [scVI] predict_mean\n",
      "2025-09-15 09:31:47 | [time] [scVI] get_likelihood_parameters start\n",
      "\u001b[34mINFO    \u001b[0m Input AnnData not setup with scvi-tools. attempting to transfer AnnData setup                             \n",
      "2025-09-15 09:31:47 | [time] [scVI] get_likelihood_parameters end in 0.01s\n",
      "2025-09-15 09:31:47 | [time] [scVI] fold 3/3 end in 0.67s\n",
      "2025-09-15 09:31:47 | [cv_scvi_5fold] done\n"
     ]
    },
    {
     "name": "stderr",
     "output_type": "stream",
     "text": [
      "[W 2025-09-15 09:31:47,732] Trial 9 failed with parameters: {'n_latent': 16, 'n_hidden': 256, 'n_layers': 2, 'dropout_rate': 0.1, 'max_epochs': 150, 'lr': 0.001, 'weight_decay': 1e-06, 'batch_size': 256, 'n_hvg': 2000} because of the following error: The value   model  n_hvg    MAE_zero      MSE_zero  MedianL1_zero  NB_ll_zero  \\\n",
      "0  scVI   2000  900.633348  1.336812e+08     258.112671   -7.849342   \n",
      "\n",
      "   NB_dev_zero   MAE_thin       MSE_thin  MedianL1_thin  NB_ll_thin  \\\n",
      "0     7.064071  55.147541  585800.042112      24.760227    -2.90401   \n",
      "\n",
      "   NB_dev_thin Silhouette                                             params  \n",
      "0     4.150204        NaN  {'batch_size': 256, 'dropout_rate': 0.1, 'lr':...   could not be cast to float.\n",
      "[W 2025-09-15 09:31:47,737] Trial 9 failed with value (  model  n_hvg    MAE_zero      MSE_zero  MedianL1_zero  NB_ll_zero  \\\n",
      "0  scVI   2000  900.633348  1.336812e+08     258.112671   -7.849342   \n",
      "\n",
      "   NB_dev_zero   MAE_thin       MSE_thin  MedianL1_thin  NB_ll_thin  \\\n",
      "0     7.064071  55.147541  585800.042112      24.760227    -2.90401   \n",
      "\n",
      "   NB_dev_thin Silhouette                                             params  \n",
      "0     4.150204        NaN  {'batch_size': 256, 'dropout_rate': 0.1, 'lr':...  ,    fold model                                             params  n_hvg  \\\n",
      "0     1  scVI  {'batch_size': 256, 'dropout_rate': 0.1, 'lr':...   2000   \n",
      "1     2  scVI  {'batch_size': 256, 'dropout_rate': 0.1, 'lr':...   2000   \n",
      "2     3  scVI  {'batch_size': 256, 'dropout_rate': 0.1, 'lr':...   2000   \n",
      "\n",
      "      MAE_zero      MSE_zero  MedianL1_zero  NB_ll_zero  NB_dev_zero  \\\n",
      "0   848.982159  1.060472e+08     254.592804   -7.901901     7.195834   \n",
      "1  1064.360030  1.838962e+08     289.625214   -8.354178     7.978342   \n",
      "2   788.557855  1.111001e+08     230.119995   -7.291946     6.018037   \n",
      "\n",
      "    MAE_thin       MSE_thin  MedianL1_thin  NB_ll_thin  NB_dev_thin Silhouette  \n",
      "0  54.243555  605295.130336      23.422392   -2.989830     4.317473       None  \n",
      "1  60.172571  619582.356663      28.044347   -2.981329     4.282356       None  \n",
      "2  51.026498  532522.639336      22.813941   -2.740872     3.850783       None  , -2.9040103211942387).\n"
     ]
    },
    {
     "name": "stdout",
     "output_type": "stream",
     "text": [
      "{'n_latent': [16], 'n_hidden': [256], 'n_layers': [2], 'dropout_rate': [0.1], 'max_epochs': [250], 'lr': [0.001], 'weight_decay': [1e-05], 'batch_size': [512], 'use_gpu': [True]}\n",
      "2025-09-15 09:31:47 | [cv_scvi_5fold] start k=3 n_hvg=2000 mode=seurat_v3\n",
      "2025-09-15 09:31:47 | X_counts: dense  (447, 51777) dtype=int64\n",
      "2025-09-15 09:31:48 | X_counts: zeros=66.23%, approx_int=True\n",
      "2025-09-15 09:31:48 | [time] [scVI] fold 1/3 start\n",
      "2025-09-15 09:31:48 | [scVI] fold 1 | HVG=2000\n",
      "2025-09-15 09:31:48 | [scVI] fold 1 params={'batch_size': 512, 'dropout_rate': 0.1, 'lr': 0.001, 'max_epochs': 250, 'n_hidden': 256, 'n_latent': 16, 'n_layers': 2, 'use_gpu': True, 'weight_decay': 1e-05}\n",
      "2025-09-15 09:31:48 | [scVI] fit hp={'n_latent': 16, 'n_hidden': 256, 'n_layers': 2, 'dropout_rate': 0.1, 'max_epochs': 250, 'lr': 0.001, 'weight_decay': 1e-05, 'batch_size': 512, 'batch_key': 'BioProject', 'use_gpu': True}\n",
      "2025-09-15 09:31:48 | X_train: dense  (298, 2000) dtype=int64\n",
      "2025-09-15 09:31:48 | [time] [scVI] train start\n"
     ]
    },
    {
     "name": "stderr",
     "output_type": "stream",
     "text": [
      "/Users/mjlee/master_thesis/Thesis_project/thesispjt/thesis-impute/lib/python3.12/site-packages/legacy_api_wrap/__init__.py:82: UserWarning: `flavor='seurat_v3'` expects raw count data, but non-integers were found.\n",
      "  return fn(*args_all, **kw)\n",
      "/Users/mjlee/master_thesis/Thesis_project/thesispjt/thesis-impute/lib/python3.12/site-packages/scvi/train/_trainrunner.py:82: UserWarning: `accelerator` has been set to `mps`. Please note that not all PyTorch/Jax operations are supported with this backend. as a result, some models might be slower and less accurate than usuall. Please verify your analysis!Refer to https://github.com/pytorch/pytorch/issues/77764 for more details.\n",
      "  accelerator, lightning_devices, device = parse_device_args(\n",
      "GPU available: True (mps), used: True\n",
      "TPU available: False, using: 0 TPU cores\n",
      "HPU available: False, using: 0 HPUs\n",
      "/Users/mjlee/master_thesis/Thesis_project/thesispjt/thesis-impute/lib/python3.12/site-packages/lightning/pytorch/trainer/connectors/data_connector.py:433: The 'train_dataloader' does not have many workers which may be a bottleneck. Consider increasing the value of the `num_workers` argument` to `num_workers=7` in the `DataLoader` to improve performance.\n",
      "/Users/mjlee/master_thesis/Thesis_project/thesispjt/thesis-impute/lib/python3.12/site-packages/lightning/pytorch/loops/fit_loop.py:310: The number of training batches (1) is smaller than the logging interval Trainer(log_every_n_steps=10). Set a lower value for log_every_n_steps if you want to see logs for the training epoch.\n"
     ]
    },
    {
     "data": {
      "application/vnd.jupyter.widget-view+json": {
       "model_id": "61c4820773be445e89f7771df5f20184",
       "version_major": 2,
       "version_minor": 0
      },
      "text/plain": [
       "Training:   0%|          | 0/250 [00:00<?, ?it/s]"
      ]
     },
     "metadata": {},
     "output_type": "display_data"
    },
    {
     "name": "stdout",
     "output_type": "stream",
     "text": [
      "2025-09-15 09:31:48 | [time] [scVI] train end in 0.20s\n",
      "2025-09-15 09:31:48 | [scVI] predict_mean\n",
      "2025-09-15 09:31:48 | [time] [scVI] get_likelihood_parameters start\n",
      "\u001b[34mINFO    \u001b[0m Input AnnData not setup with scvi-tools. attempting to transfer AnnData setup                             \n",
      "2025-09-15 09:31:48 | [time] [scVI] get_likelihood_parameters end in 0.02s\n",
      "\u001b[34mINFO    \u001b[0m Input AnnData not setup with scvi-tools. attempting to transfer AnnData setup                             \n",
      "2025-09-15 09:31:48 | [scVI] predict_mean\n",
      "2025-09-15 09:31:48 | [time] [scVI] get_likelihood_parameters start\n",
      "\u001b[34mINFO    \u001b[0m Input AnnData not setup with scvi-tools. attempting to transfer AnnData setup                             \n",
      "2025-09-15 09:31:48 | [time] [scVI] get_likelihood_parameters end in 0.02s\n",
      "2025-09-15 09:31:48 | [scVI] predict_mean\n",
      "2025-09-15 09:31:48 | [time] [scVI] get_likelihood_parameters start\n",
      "\u001b[34mINFO    \u001b[0m Input AnnData not setup with scvi-tools. attempting to transfer AnnData setup                             \n",
      "2025-09-15 09:31:48 | [time] [scVI] get_likelihood_parameters end in 0.01s\n",
      "2025-09-15 09:31:48 | [time] [scVI] fold 1/3 end in 0.67s\n",
      "2025-09-15 09:31:48 | [time] [scVI] fold 2/3 start\n",
      "2025-09-15 09:31:49 | [scVI] fold 2 | HVG=2000\n",
      "2025-09-15 09:31:49 | [scVI] fold 2 params={'batch_size': 512, 'dropout_rate': 0.1, 'lr': 0.001, 'max_epochs': 250, 'n_hidden': 256, 'n_latent': 16, 'n_layers': 2, 'use_gpu': True, 'weight_decay': 1e-05}\n",
      "2025-09-15 09:31:49 | [scVI] fit hp={'n_latent': 16, 'n_hidden': 256, 'n_layers': 2, 'dropout_rate': 0.1, 'max_epochs': 250, 'lr': 0.001, 'weight_decay': 1e-05, 'batch_size': 512, 'batch_key': 'BioProject', 'use_gpu': True}\n",
      "2025-09-15 09:31:49 | X_train: dense  (298, 2000) dtype=int64\n",
      "2025-09-15 09:31:49 | [time] [scVI] train start\n"
     ]
    },
    {
     "name": "stderr",
     "output_type": "stream",
     "text": [
      "/Users/mjlee/master_thesis/Thesis_project/thesispjt/thesis-impute/lib/python3.12/site-packages/legacy_api_wrap/__init__.py:82: UserWarning: `flavor='seurat_v3'` expects raw count data, but non-integers were found.\n",
      "  return fn(*args_all, **kw)\n",
      "/Users/mjlee/master_thesis/Thesis_project/thesispjt/thesis-impute/lib/python3.12/site-packages/scvi/train/_trainrunner.py:82: UserWarning: `accelerator` has been set to `mps`. Please note that not all PyTorch/Jax operations are supported with this backend. as a result, some models might be slower and less accurate than usuall. Please verify your analysis!Refer to https://github.com/pytorch/pytorch/issues/77764 for more details.\n",
      "  accelerator, lightning_devices, device = parse_device_args(\n",
      "GPU available: True (mps), used: True\n",
      "TPU available: False, using: 0 TPU cores\n",
      "HPU available: False, using: 0 HPUs\n",
      "/Users/mjlee/master_thesis/Thesis_project/thesispjt/thesis-impute/lib/python3.12/site-packages/lightning/pytorch/trainer/connectors/data_connector.py:433: The 'train_dataloader' does not have many workers which may be a bottleneck. Consider increasing the value of the `num_workers` argument` to `num_workers=7` in the `DataLoader` to improve performance.\n",
      "/Users/mjlee/master_thesis/Thesis_project/thesispjt/thesis-impute/lib/python3.12/site-packages/lightning/pytorch/loops/fit_loop.py:310: The number of training batches (1) is smaller than the logging interval Trainer(log_every_n_steps=10). Set a lower value for log_every_n_steps if you want to see logs for the training epoch.\n"
     ]
    },
    {
     "data": {
      "application/vnd.jupyter.widget-view+json": {
       "model_id": "e97d2a3884ba4af5bd947141ff1e09c8",
       "version_major": 2,
       "version_minor": 0
      },
      "text/plain": [
       "Training:   0%|          | 0/250 [00:00<?, ?it/s]"
      ]
     },
     "metadata": {},
     "output_type": "display_data"
    },
    {
     "name": "stdout",
     "output_type": "stream",
     "text": [
      "2025-09-15 09:31:49 | [time] [scVI] train end in 0.21s\n",
      "2025-09-15 09:31:49 | [scVI] predict_mean\n",
      "2025-09-15 09:31:49 | [time] [scVI] get_likelihood_parameters start\n",
      "\u001b[34mINFO    \u001b[0m Input AnnData not setup with scvi-tools. attempting to transfer AnnData setup                             \n",
      "2025-09-15 09:31:49 | [time] [scVI] get_likelihood_parameters end in 0.02s\n",
      "\u001b[34mINFO    \u001b[0m Input AnnData not setup with scvi-tools. attempting to transfer AnnData setup                             \n",
      "2025-09-15 09:31:49 | [scVI] predict_mean\n",
      "2025-09-15 09:31:49 | [time] [scVI] get_likelihood_parameters start\n",
      "\u001b[34mINFO    \u001b[0m Input AnnData not setup with scvi-tools. attempting to transfer AnnData setup                             \n",
      "2025-09-15 09:31:49 | [time] [scVI] get_likelihood_parameters end in 0.02s\n",
      "2025-09-15 09:31:49 | [scVI] predict_mean\n",
      "2025-09-15 09:31:49 | [time] [scVI] get_likelihood_parameters start\n",
      "\u001b[34mINFO    \u001b[0m Input AnnData not setup with scvi-tools. attempting to transfer AnnData setup                             \n",
      "2025-09-15 09:31:49 | [time] [scVI] get_likelihood_parameters end in 0.02s\n",
      "2025-09-15 09:31:49 | [time] [scVI] fold 2/3 end in 0.71s\n",
      "2025-09-15 09:31:49 | [time] [scVI] fold 3/3 start\n",
      "2025-09-15 09:31:49 | [scVI] fold 3 | HVG=2000\n",
      "2025-09-15 09:31:49 | [scVI] fold 3 params={'batch_size': 512, 'dropout_rate': 0.1, 'lr': 0.001, 'max_epochs': 250, 'n_hidden': 256, 'n_latent': 16, 'n_layers': 2, 'use_gpu': True, 'weight_decay': 1e-05}\n",
      "2025-09-15 09:31:49 | [scVI] fit hp={'n_latent': 16, 'n_hidden': 256, 'n_layers': 2, 'dropout_rate': 0.1, 'max_epochs': 250, 'lr': 0.001, 'weight_decay': 1e-05, 'batch_size': 512, 'batch_key': 'BioProject', 'use_gpu': True}\n",
      "2025-09-15 09:31:49 | X_train: dense  (298, 2000) dtype=int64\n",
      "2025-09-15 09:31:49 | [time] [scVI] train start\n"
     ]
    },
    {
     "name": "stderr",
     "output_type": "stream",
     "text": [
      "/Users/mjlee/master_thesis/Thesis_project/thesispjt/thesis-impute/lib/python3.12/site-packages/legacy_api_wrap/__init__.py:82: UserWarning: `flavor='seurat_v3'` expects raw count data, but non-integers were found.\n",
      "  return fn(*args_all, **kw)\n",
      "/Users/mjlee/master_thesis/Thesis_project/thesispjt/thesis-impute/lib/python3.12/site-packages/scvi/train/_trainrunner.py:82: UserWarning: `accelerator` has been set to `mps`. Please note that not all PyTorch/Jax operations are supported with this backend. as a result, some models might be slower and less accurate than usuall. Please verify your analysis!Refer to https://github.com/pytorch/pytorch/issues/77764 for more details.\n",
      "  accelerator, lightning_devices, device = parse_device_args(\n",
      "GPU available: True (mps), used: True\n",
      "TPU available: False, using: 0 TPU cores\n",
      "HPU available: False, using: 0 HPUs\n",
      "/Users/mjlee/master_thesis/Thesis_project/thesispjt/thesis-impute/lib/python3.12/site-packages/lightning/pytorch/trainer/connectors/data_connector.py:433: The 'train_dataloader' does not have many workers which may be a bottleneck. Consider increasing the value of the `num_workers` argument` to `num_workers=7` in the `DataLoader` to improve performance.\n",
      "/Users/mjlee/master_thesis/Thesis_project/thesispjt/thesis-impute/lib/python3.12/site-packages/lightning/pytorch/loops/fit_loop.py:310: The number of training batches (1) is smaller than the logging interval Trainer(log_every_n_steps=10). Set a lower value for log_every_n_steps if you want to see logs for the training epoch.\n"
     ]
    },
    {
     "data": {
      "application/vnd.jupyter.widget-view+json": {
       "model_id": "54a45168a4d04c859d2dbcf25cec8afd",
       "version_major": 2,
       "version_minor": 0
      },
      "text/plain": [
       "Training:   0%|          | 0/250 [00:00<?, ?it/s]"
      ]
     },
     "metadata": {},
     "output_type": "display_data"
    },
    {
     "name": "stdout",
     "output_type": "stream",
     "text": [
      "2025-09-15 09:31:49 | [time] [scVI] train end in 0.19s\n",
      "2025-09-15 09:31:49 | [scVI] predict_mean\n",
      "2025-09-15 09:31:49 | [time] [scVI] get_likelihood_parameters start\n",
      "\u001b[34mINFO    \u001b[0m Input AnnData not setup with scvi-tools. attempting to transfer AnnData setup                             \n",
      "2025-09-15 09:31:50 | [time] [scVI] get_likelihood_parameters end in 0.05s\n",
      "\u001b[34mINFO    \u001b[0m Input AnnData not setup with scvi-tools. attempting to transfer AnnData setup                             \n",
      "2025-09-15 09:31:50 | [scVI] predict_mean\n",
      "2025-09-15 09:31:50 | [time] [scVI] get_likelihood_parameters start\n",
      "\u001b[34mINFO    \u001b[0m Input AnnData not setup with scvi-tools. attempting to transfer AnnData setup                             \n",
      "2025-09-15 09:31:50 | [time] [scVI] get_likelihood_parameters end in 0.01s\n",
      "2025-09-15 09:31:50 | [scVI] predict_mean\n",
      "2025-09-15 09:31:50 | [time] [scVI] get_likelihood_parameters start\n",
      "\u001b[34mINFO    \u001b[0m Input AnnData not setup with scvi-tools. attempting to transfer AnnData setup                             \n",
      "2025-09-15 09:31:50 | [time] [scVI] get_likelihood_parameters end in 0.02s\n",
      "2025-09-15 09:31:50 | [time] [scVI] fold 3/3 end in 0.68s\n",
      "2025-09-15 09:31:50 | [cv_scvi_5fold] done\n"
     ]
    },
    {
     "name": "stderr",
     "output_type": "stream",
     "text": [
      "[W 2025-09-15 09:31:50,138] Trial 10 failed with parameters: {'n_latent': 16, 'n_hidden': 256, 'n_layers': 2, 'dropout_rate': 0.1, 'max_epochs': 250, 'lr': 0.001, 'weight_decay': 1e-05, 'batch_size': 512, 'n_hvg': 2000} because of the following error: The value   model  n_hvg    MAE_zero      MSE_zero  MedianL1_zero  NB_ll_zero  \\\n",
      "0  scVI   2000  901.102522  1.336668e+08     258.327911   -7.777975   \n",
      "\n",
      "   NB_dev_zero  MAE_thin       MSE_thin  MedianL1_thin  NB_ll_thin  \\\n",
      "0     6.921338  55.14162  585763.020508      24.696361   -2.879795   \n",
      "\n",
      "   NB_dev_thin Silhouette                                             params  \n",
      "0     4.101774        NaN  {'batch_size': 512, 'dropout_rate': 0.1, 'lr':...   could not be cast to float.\n",
      "[W 2025-09-15 09:31:50,141] Trial 10 failed with value (  model  n_hvg    MAE_zero      MSE_zero  MedianL1_zero  NB_ll_zero  \\\n",
      "0  scVI   2000  901.102522  1.336668e+08     258.327911   -7.777975   \n",
      "\n",
      "   NB_dev_zero  MAE_thin       MSE_thin  MedianL1_thin  NB_ll_thin  \\\n",
      "0     6.921338  55.14162  585763.020508      24.696361   -2.879795   \n",
      "\n",
      "   NB_dev_thin Silhouette                                             params  \n",
      "0     4.101774        NaN  {'batch_size': 512, 'dropout_rate': 0.1, 'lr':...  ,    fold model                                             params  n_hvg  \\\n",
      "0     1  scVI  {'batch_size': 512, 'dropout_rate': 0.1, 'lr':...   2000   \n",
      "1     2  scVI  {'batch_size': 512, 'dropout_rate': 0.1, 'lr':...   2000   \n",
      "2     3  scVI  {'batch_size': 512, 'dropout_rate': 0.1, 'lr':...   2000   \n",
      "\n",
      "      MAE_zero      MSE_zero  MedianL1_zero  NB_ll_zero  NB_dev_zero  \\\n",
      "0   849.226660  1.060435e+08     254.288757   -7.917671     7.227375   \n",
      "1  1065.308174  1.838896e+08     289.929810   -8.252283     7.774553   \n",
      "2   788.772731  1.110673e+08     230.765167   -7.163971     5.762086   \n",
      "\n",
      "    MAE_thin       MSE_thin  MedianL1_thin  NB_ll_thin  NB_dev_thin Silhouette  \n",
      "0  54.237527  605330.525491      23.441717   -3.008037     4.353886       None  \n",
      "1  60.153783  619494.367568      27.882679   -2.924825     4.169348       None  \n",
      "2  51.033548  532464.168467      22.764686   -2.706525     3.782089       None  , -2.879795456410177).\n"
     ]
    },
    {
     "name": "stdout",
     "output_type": "stream",
     "text": [
      "{'n_latent': [16], 'n_hidden': [128], 'n_layers': [2], 'dropout_rate': [0.1], 'max_epochs': [150], 'lr': [0.0005], 'weight_decay': [1e-06], 'batch_size': [256], 'use_gpu': [True]}\n",
      "2025-09-15 09:31:50 | [cv_scvi_5fold] start k=3 n_hvg=1000 mode=seurat_v3\n",
      "2025-09-15 09:31:50 | X_counts: dense  (447, 51777) dtype=int64\n",
      "2025-09-15 09:31:50 | X_counts: zeros=66.23%, approx_int=True\n",
      "2025-09-15 09:31:50 | [time] [scVI] fold 1/3 start\n",
      "2025-09-15 09:31:50 | [scVI] fold 1 | HVG=1000\n",
      "2025-09-15 09:31:50 | [scVI] fold 1 params={'batch_size': 256, 'dropout_rate': 0.1, 'lr': 0.0005, 'max_epochs': 150, 'n_hidden': 128, 'n_latent': 16, 'n_layers': 2, 'use_gpu': True, 'weight_decay': 1e-06}\n",
      "2025-09-15 09:31:50 | [scVI] fit hp={'n_latent': 16, 'n_hidden': 128, 'n_layers': 2, 'dropout_rate': 0.1, 'max_epochs': 150, 'lr': 0.0005, 'weight_decay': 1e-06, 'batch_size': 256, 'batch_key': 'BioProject', 'use_gpu': True}\n",
      "2025-09-15 09:31:50 | X_train: dense  (298, 1000) dtype=int64\n",
      "2025-09-15 09:31:50 | [time] [scVI] train start\n"
     ]
    },
    {
     "name": "stderr",
     "output_type": "stream",
     "text": [
      "/Users/mjlee/master_thesis/Thesis_project/thesispjt/thesis-impute/lib/python3.12/site-packages/legacy_api_wrap/__init__.py:82: UserWarning: `flavor='seurat_v3'` expects raw count data, but non-integers were found.\n",
      "  return fn(*args_all, **kw)\n",
      "/Users/mjlee/master_thesis/Thesis_project/thesispjt/thesis-impute/lib/python3.12/site-packages/scvi/train/_trainrunner.py:82: UserWarning: `accelerator` has been set to `mps`. Please note that not all PyTorch/Jax operations are supported with this backend. as a result, some models might be slower and less accurate than usuall. Please verify your analysis!Refer to https://github.com/pytorch/pytorch/issues/77764 for more details.\n",
      "  accelerator, lightning_devices, device = parse_device_args(\n",
      "GPU available: True (mps), used: True\n",
      "TPU available: False, using: 0 TPU cores\n",
      "HPU available: False, using: 0 HPUs\n",
      "/Users/mjlee/master_thesis/Thesis_project/thesispjt/thesis-impute/lib/python3.12/site-packages/lightning/pytorch/trainer/connectors/data_connector.py:433: The 'train_dataloader' does not have many workers which may be a bottleneck. Consider increasing the value of the `num_workers` argument` to `num_workers=7` in the `DataLoader` to improve performance.\n",
      "/Users/mjlee/master_thesis/Thesis_project/thesispjt/thesis-impute/lib/python3.12/site-packages/lightning/pytorch/loops/fit_loop.py:310: The number of training batches (2) is smaller than the logging interval Trainer(log_every_n_steps=10). Set a lower value for log_every_n_steps if you want to see logs for the training epoch.\n"
     ]
    },
    {
     "data": {
      "application/vnd.jupyter.widget-view+json": {
       "model_id": "139a08fe2f8e40a1961da9edef0ea605",
       "version_major": 2,
       "version_minor": 0
      },
      "text/plain": [
       "Training:   0%|          | 0/150 [00:00<?, ?it/s]"
      ]
     },
     "metadata": {},
     "output_type": "display_data"
    },
    {
     "name": "stdout",
     "output_type": "stream",
     "text": [
      "2025-09-15 09:31:51 | [time] [scVI] train end in 0.23s\n",
      "2025-09-15 09:31:51 | [scVI] predict_mean\n",
      "2025-09-15 09:31:51 | [time] [scVI] get_likelihood_parameters start\n",
      "\u001b[34mINFO    \u001b[0m Input AnnData not setup with scvi-tools. attempting to transfer AnnData setup                             \n",
      "2025-09-15 09:31:51 | [time] [scVI] get_likelihood_parameters end in 0.02s\n",
      "\u001b[34mINFO    \u001b[0m Input AnnData not setup with scvi-tools. attempting to transfer AnnData setup                             \n",
      "2025-09-15 09:31:51 | [scVI] predict_mean\n",
      "2025-09-15 09:31:51 | [time] [scVI] get_likelihood_parameters start\n",
      "\u001b[34mINFO    \u001b[0m Input AnnData not setup with scvi-tools. attempting to transfer AnnData setup                             \n",
      "2025-09-15 09:31:51 | [time] [scVI] get_likelihood_parameters end in 0.01s\n",
      "2025-09-15 09:31:51 | [scVI] predict_mean\n",
      "2025-09-15 09:31:51 | [time] [scVI] get_likelihood_parameters start\n",
      "\u001b[34mINFO    \u001b[0m Input AnnData not setup with scvi-tools. attempting to transfer AnnData setup                             \n",
      "2025-09-15 09:31:51 | [time] [scVI] get_likelihood_parameters end in 0.01s\n",
      "2025-09-15 09:31:51 | [time] [scVI] fold 1/3 end in 0.66s\n",
      "2025-09-15 09:31:51 | [time] [scVI] fold 2/3 start\n",
      "2025-09-15 09:31:51 | [scVI] fold 2 | HVG=1000\n",
      "2025-09-15 09:31:51 | [scVI] fold 2 params={'batch_size': 256, 'dropout_rate': 0.1, 'lr': 0.0005, 'max_epochs': 150, 'n_hidden': 128, 'n_latent': 16, 'n_layers': 2, 'use_gpu': True, 'weight_decay': 1e-06}\n",
      "2025-09-15 09:31:51 | [scVI] fit hp={'n_latent': 16, 'n_hidden': 128, 'n_layers': 2, 'dropout_rate': 0.1, 'max_epochs': 150, 'lr': 0.0005, 'weight_decay': 1e-06, 'batch_size': 256, 'batch_key': 'BioProject', 'use_gpu': True}\n",
      "2025-09-15 09:31:51 | X_train: dense  (298, 1000) dtype=int64\n",
      "2025-09-15 09:31:51 | [time] [scVI] train start\n"
     ]
    },
    {
     "name": "stderr",
     "output_type": "stream",
     "text": [
      "/Users/mjlee/master_thesis/Thesis_project/thesispjt/thesis-impute/lib/python3.12/site-packages/legacy_api_wrap/__init__.py:82: UserWarning: `flavor='seurat_v3'` expects raw count data, but non-integers were found.\n",
      "  return fn(*args_all, **kw)\n",
      "/Users/mjlee/master_thesis/Thesis_project/thesispjt/thesis-impute/lib/python3.12/site-packages/scvi/train/_trainrunner.py:82: UserWarning: `accelerator` has been set to `mps`. Please note that not all PyTorch/Jax operations are supported with this backend. as a result, some models might be slower and less accurate than usuall. Please verify your analysis!Refer to https://github.com/pytorch/pytorch/issues/77764 for more details.\n",
      "  accelerator, lightning_devices, device = parse_device_args(\n",
      "GPU available: True (mps), used: True\n",
      "TPU available: False, using: 0 TPU cores\n",
      "HPU available: False, using: 0 HPUs\n",
      "/Users/mjlee/master_thesis/Thesis_project/thesispjt/thesis-impute/lib/python3.12/site-packages/lightning/pytorch/trainer/connectors/data_connector.py:433: The 'train_dataloader' does not have many workers which may be a bottleneck. Consider increasing the value of the `num_workers` argument` to `num_workers=7` in the `DataLoader` to improve performance.\n",
      "/Users/mjlee/master_thesis/Thesis_project/thesispjt/thesis-impute/lib/python3.12/site-packages/lightning/pytorch/loops/fit_loop.py:310: The number of training batches (2) is smaller than the logging interval Trainer(log_every_n_steps=10). Set a lower value for log_every_n_steps if you want to see logs for the training epoch.\n"
     ]
    },
    {
     "data": {
      "application/vnd.jupyter.widget-view+json": {
       "model_id": "614d5caa040a413aad2d1bf738815a63",
       "version_major": 2,
       "version_minor": 0
      },
      "text/plain": [
       "Training:   0%|          | 0/150 [00:00<?, ?it/s]"
      ]
     },
     "metadata": {},
     "output_type": "display_data"
    },
    {
     "name": "stdout",
     "output_type": "stream",
     "text": [
      "2025-09-15 09:31:51 | [time] [scVI] train end in 0.22s\n",
      "2025-09-15 09:31:51 | [scVI] predict_mean\n",
      "2025-09-15 09:31:51 | [time] [scVI] get_likelihood_parameters start\n",
      "\u001b[34mINFO    \u001b[0m Input AnnData not setup with scvi-tools. attempting to transfer AnnData setup                             \n",
      "2025-09-15 09:31:51 | [time] [scVI] get_likelihood_parameters end in 0.01s\n",
      "\u001b[34mINFO    \u001b[0m Input AnnData not setup with scvi-tools. attempting to transfer AnnData setup                             \n",
      "2025-09-15 09:31:51 | [scVI] predict_mean\n",
      "2025-09-15 09:31:51 | [time] [scVI] get_likelihood_parameters start\n",
      "\u001b[34mINFO    \u001b[0m Input AnnData not setup with scvi-tools. attempting to transfer AnnData setup                             \n",
      "2025-09-15 09:31:51 | [time] [scVI] get_likelihood_parameters end in 0.01s\n",
      "2025-09-15 09:31:51 | [scVI] predict_mean\n",
      "2025-09-15 09:31:51 | [time] [scVI] get_likelihood_parameters start\n",
      "\u001b[34mINFO    \u001b[0m Input AnnData not setup with scvi-tools. attempting to transfer AnnData setup                             \n",
      "2025-09-15 09:31:51 | [time] [scVI] get_likelihood_parameters end in 0.01s\n",
      "2025-09-15 09:31:51 | [time] [scVI] fold 2/3 end in 0.64s\n",
      "2025-09-15 09:31:51 | [time] [scVI] fold 3/3 start\n",
      "2025-09-15 09:31:52 | [scVI] fold 3 | HVG=1000\n",
      "2025-09-15 09:31:52 | [scVI] fold 3 params={'batch_size': 256, 'dropout_rate': 0.1, 'lr': 0.0005, 'max_epochs': 150, 'n_hidden': 128, 'n_latent': 16, 'n_layers': 2, 'use_gpu': True, 'weight_decay': 1e-06}\n",
      "2025-09-15 09:31:52 | [scVI] fit hp={'n_latent': 16, 'n_hidden': 128, 'n_layers': 2, 'dropout_rate': 0.1, 'max_epochs': 150, 'lr': 0.0005, 'weight_decay': 1e-06, 'batch_size': 256, 'batch_key': 'BioProject', 'use_gpu': True}\n",
      "2025-09-15 09:31:52 | X_train: dense  (298, 1000) dtype=int64\n",
      "2025-09-15 09:31:52 | [time] [scVI] train start\n"
     ]
    },
    {
     "name": "stderr",
     "output_type": "stream",
     "text": [
      "/Users/mjlee/master_thesis/Thesis_project/thesispjt/thesis-impute/lib/python3.12/site-packages/legacy_api_wrap/__init__.py:82: UserWarning: `flavor='seurat_v3'` expects raw count data, but non-integers were found.\n",
      "  return fn(*args_all, **kw)\n",
      "/Users/mjlee/master_thesis/Thesis_project/thesispjt/thesis-impute/lib/python3.12/site-packages/scvi/train/_trainrunner.py:82: UserWarning: `accelerator` has been set to `mps`. Please note that not all PyTorch/Jax operations are supported with this backend. as a result, some models might be slower and less accurate than usuall. Please verify your analysis!Refer to https://github.com/pytorch/pytorch/issues/77764 for more details.\n",
      "  accelerator, lightning_devices, device = parse_device_args(\n",
      "GPU available: True (mps), used: True\n",
      "TPU available: False, using: 0 TPU cores\n",
      "HPU available: False, using: 0 HPUs\n",
      "/Users/mjlee/master_thesis/Thesis_project/thesispjt/thesis-impute/lib/python3.12/site-packages/lightning/pytorch/trainer/connectors/data_connector.py:433: The 'train_dataloader' does not have many workers which may be a bottleneck. Consider increasing the value of the `num_workers` argument` to `num_workers=7` in the `DataLoader` to improve performance.\n",
      "/Users/mjlee/master_thesis/Thesis_project/thesispjt/thesis-impute/lib/python3.12/site-packages/lightning/pytorch/loops/fit_loop.py:310: The number of training batches (2) is smaller than the logging interval Trainer(log_every_n_steps=10). Set a lower value for log_every_n_steps if you want to see logs for the training epoch.\n"
     ]
    },
    {
     "data": {
      "application/vnd.jupyter.widget-view+json": {
       "model_id": "7074bd4fc26c4acf934eee5ddc747277",
       "version_major": 2,
       "version_minor": 0
      },
      "text/plain": [
       "Training:   0%|          | 0/150 [00:00<?, ?it/s]"
      ]
     },
     "metadata": {},
     "output_type": "display_data"
    },
    {
     "name": "stdout",
     "output_type": "stream",
     "text": [
      "2025-09-15 09:31:52 | [time] [scVI] train end in 0.19s\n",
      "2025-09-15 09:31:52 | [scVI] predict_mean\n",
      "2025-09-15 09:31:52 | [time] [scVI] get_likelihood_parameters start\n",
      "\u001b[34mINFO    \u001b[0m Input AnnData not setup with scvi-tools. attempting to transfer AnnData setup                             \n",
      "2025-09-15 09:31:52 | [time] [scVI] get_likelihood_parameters end in 0.01s\n",
      "\u001b[34mINFO    \u001b[0m Input AnnData not setup with scvi-tools. attempting to transfer AnnData setup                             \n",
      "2025-09-15 09:31:52 | [scVI] predict_mean\n",
      "2025-09-15 09:31:52 | [time] [scVI] get_likelihood_parameters start\n",
      "\u001b[34mINFO    \u001b[0m Input AnnData not setup with scvi-tools. attempting to transfer AnnData setup                             \n",
      "2025-09-15 09:31:52 | [time] [scVI] get_likelihood_parameters end in 0.01s\n",
      "2025-09-15 09:31:52 | [scVI] predict_mean\n",
      "2025-09-15 09:31:52 | [time] [scVI] get_likelihood_parameters start\n",
      "\u001b[34mINFO    \u001b[0m Input AnnData not setup with scvi-tools. attempting to transfer AnnData setup                             \n",
      "2025-09-15 09:31:52 | [time] [scVI] get_likelihood_parameters end in 0.01s\n",
      "2025-09-15 09:31:52 | [time] [scVI] fold 3/3 end in 0.61s\n",
      "2025-09-15 09:31:52 | [cv_scvi_5fold] done\n"
     ]
    },
    {
     "name": "stderr",
     "output_type": "stream",
     "text": [
      "[W 2025-09-15 09:31:52,362] Trial 11 failed with parameters: {'n_latent': 16, 'n_hidden': 128, 'n_layers': 2, 'dropout_rate': 0.1, 'max_epochs': 150, 'lr': 0.0005, 'weight_decay': 1e-06, 'batch_size': 256, 'n_hvg': 1000} because of the following error: The value   model  n_hvg   MAE_zero      MSE_zero  MedianL1_zero  NB_ll_zero  \\\n",
      "0  scVI   1000  834.34801  1.178362e+08     256.151115   -7.498933   \n",
      "\n",
      "   NB_dev_zero   MAE_thin       MSE_thin  MedianL1_thin  NB_ll_thin  \\\n",
      "0     5.776028  54.729686  552976.839885      24.977552   -2.776147   \n",
      "\n",
      "   NB_dev_thin Silhouette                                             params  \n",
      "0     3.563432        NaN  {'batch_size': 256, 'dropout_rate': 0.1, 'lr':...   could not be cast to float.\n",
      "[W 2025-09-15 09:31:52,365] Trial 11 failed with value (  model  n_hvg   MAE_zero      MSE_zero  MedianL1_zero  NB_ll_zero  \\\n",
      "0  scVI   1000  834.34801  1.178362e+08     256.151115   -7.498933   \n",
      "\n",
      "   NB_dev_zero   MAE_thin       MSE_thin  MedianL1_thin  NB_ll_thin  \\\n",
      "0     5.776028  54.729686  552976.839885      24.977552   -2.776147   \n",
      "\n",
      "   NB_dev_thin Silhouette                                             params  \n",
      "0     3.563432        NaN  {'batch_size': 256, 'dropout_rate': 0.1, 'lr':...  ,    fold model                                             params  n_hvg  \\\n",
      "0     1  scVI  {'batch_size': 256, 'dropout_rate': 0.1, 'lr':...   1000   \n",
      "1     2  scVI  {'batch_size': 256, 'dropout_rate': 0.1, 'lr':...   1000   \n",
      "2     3  scVI  {'batch_size': 256, 'dropout_rate': 0.1, 'lr':...   1000   \n",
      "\n",
      "      MAE_zero      MSE_zero  MedianL1_zero  NB_ll_zero  NB_dev_zero  \\\n",
      "0   605.222887  6.779579e+07     165.022888   -7.823305     6.489201   \n",
      "1  1410.249258  2.513211e+08     431.202606   -7.589545     5.892924   \n",
      "2   487.571883  3.439181e+07     172.227852   -7.083951     4.945958   \n",
      "\n",
      "    MAE_thin      MSE_thin  MedianL1_thin  NB_ll_thin  NB_dev_thin Silhouette  \n",
      "0  34.787670  2.422140e+05      15.372312   -2.724376     3.490651       None  \n",
      "1  94.146181  1.185817e+06      42.922794   -2.985525     3.940531       None  \n",
      "2  35.255207  2.308999e+05      16.637551   -2.618540     3.259114       None  , -2.776146615791285).\n"
     ]
    },
    {
     "name": "stdout",
     "output_type": "stream",
     "text": [
      "{'n_latent': [32], 'n_hidden': [128], 'n_layers': [2], 'dropout_rate': [0.1], 'max_epochs': [250], 'lr': [0.001], 'weight_decay': [1e-05], 'batch_size': [256], 'use_gpu': [True]}\n",
      "2025-09-15 09:31:52 | [cv_scvi_5fold] start k=3 n_hvg=2000 mode=seurat_v3\n",
      "2025-09-15 09:31:52 | X_counts: dense  (447, 51777) dtype=int64\n",
      "2025-09-15 09:31:52 | X_counts: zeros=66.23%, approx_int=True\n",
      "2025-09-15 09:31:52 | [time] [scVI] fold 1/3 start\n",
      "2025-09-15 09:31:53 | [scVI] fold 1 | HVG=2000\n",
      "2025-09-15 09:31:53 | [scVI] fold 1 params={'batch_size': 256, 'dropout_rate': 0.1, 'lr': 0.001, 'max_epochs': 250, 'n_hidden': 128, 'n_latent': 32, 'n_layers': 2, 'use_gpu': True, 'weight_decay': 1e-05}\n",
      "2025-09-15 09:31:53 | [scVI] fit hp={'n_latent': 32, 'n_hidden': 128, 'n_layers': 2, 'dropout_rate': 0.1, 'max_epochs': 250, 'lr': 0.001, 'weight_decay': 1e-05, 'batch_size': 256, 'batch_key': 'BioProject', 'use_gpu': True}\n",
      "2025-09-15 09:31:53 | X_train: dense  (298, 2000) dtype=int64\n",
      "2025-09-15 09:31:53 | [time] [scVI] train start\n"
     ]
    },
    {
     "name": "stderr",
     "output_type": "stream",
     "text": [
      "/Users/mjlee/master_thesis/Thesis_project/thesispjt/thesis-impute/lib/python3.12/site-packages/legacy_api_wrap/__init__.py:82: UserWarning: `flavor='seurat_v3'` expects raw count data, but non-integers were found.\n",
      "  return fn(*args_all, **kw)\n",
      "/Users/mjlee/master_thesis/Thesis_project/thesispjt/thesis-impute/lib/python3.12/site-packages/scvi/train/_trainrunner.py:82: UserWarning: `accelerator` has been set to `mps`. Please note that not all PyTorch/Jax operations are supported with this backend. as a result, some models might be slower and less accurate than usuall. Please verify your analysis!Refer to https://github.com/pytorch/pytorch/issues/77764 for more details.\n",
      "  accelerator, lightning_devices, device = parse_device_args(\n",
      "GPU available: True (mps), used: True\n",
      "TPU available: False, using: 0 TPU cores\n",
      "HPU available: False, using: 0 HPUs\n",
      "/Users/mjlee/master_thesis/Thesis_project/thesispjt/thesis-impute/lib/python3.12/site-packages/lightning/pytorch/trainer/connectors/data_connector.py:433: The 'train_dataloader' does not have many workers which may be a bottleneck. Consider increasing the value of the `num_workers` argument` to `num_workers=7` in the `DataLoader` to improve performance.\n",
      "/Users/mjlee/master_thesis/Thesis_project/thesispjt/thesis-impute/lib/python3.12/site-packages/lightning/pytorch/loops/fit_loop.py:310: The number of training batches (2) is smaller than the logging interval Trainer(log_every_n_steps=10). Set a lower value for log_every_n_steps if you want to see logs for the training epoch.\n"
     ]
    },
    {
     "data": {
      "application/vnd.jupyter.widget-view+json": {
       "model_id": "b2eb99ea3ca34ead94b179438dd7611d",
       "version_major": 2,
       "version_minor": 0
      },
      "text/plain": [
       "Training:   0%|          | 0/250 [00:00<?, ?it/s]"
      ]
     },
     "metadata": {},
     "output_type": "display_data"
    },
    {
     "name": "stdout",
     "output_type": "stream",
     "text": [
      "2025-09-15 09:31:53 | [time] [scVI] train end in 0.19s\n",
      "2025-09-15 09:31:53 | [scVI] predict_mean\n",
      "2025-09-15 09:31:53 | [time] [scVI] get_likelihood_parameters start\n",
      "\u001b[34mINFO    \u001b[0m Input AnnData not setup with scvi-tools. attempting to transfer AnnData setup                             \n",
      "2025-09-15 09:31:53 | [time] [scVI] get_likelihood_parameters end in 0.02s\n",
      "\u001b[34mINFO    \u001b[0m Input AnnData not setup with scvi-tools. attempting to transfer AnnData setup                             \n",
      "2025-09-15 09:31:53 | [scVI] predict_mean\n",
      "2025-09-15 09:31:53 | [time] [scVI] get_likelihood_parameters start\n",
      "\u001b[34mINFO    \u001b[0m Input AnnData not setup with scvi-tools. attempting to transfer AnnData setup                             \n",
      "2025-09-15 09:31:53 | [time] [scVI] get_likelihood_parameters end in 0.01s\n",
      "2025-09-15 09:31:53 | [scVI] predict_mean\n",
      "2025-09-15 09:31:53 | [time] [scVI] get_likelihood_parameters start\n",
      "\u001b[34mINFO    \u001b[0m Input AnnData not setup with scvi-tools. attempting to transfer AnnData setup                             \n",
      "2025-09-15 09:31:53 | [time] [scVI] get_likelihood_parameters end in 0.01s\n",
      "2025-09-15 09:31:53 | [time] [scVI] fold 1/3 end in 0.68s\n",
      "2025-09-15 09:31:53 | [time] [scVI] fold 2/3 start\n",
      "2025-09-15 09:31:53 | [scVI] fold 2 | HVG=2000\n",
      "2025-09-15 09:31:53 | [scVI] fold 2 params={'batch_size': 256, 'dropout_rate': 0.1, 'lr': 0.001, 'max_epochs': 250, 'n_hidden': 128, 'n_latent': 32, 'n_layers': 2, 'use_gpu': True, 'weight_decay': 1e-05}\n",
      "2025-09-15 09:31:53 | [scVI] fit hp={'n_latent': 32, 'n_hidden': 128, 'n_layers': 2, 'dropout_rate': 0.1, 'max_epochs': 250, 'lr': 0.001, 'weight_decay': 1e-05, 'batch_size': 256, 'batch_key': 'BioProject', 'use_gpu': True}\n",
      "2025-09-15 09:31:53 | X_train: dense  (298, 2000) dtype=int64\n",
      "2025-09-15 09:31:53 | [time] [scVI] train start\n"
     ]
    },
    {
     "name": "stderr",
     "output_type": "stream",
     "text": [
      "/Users/mjlee/master_thesis/Thesis_project/thesispjt/thesis-impute/lib/python3.12/site-packages/legacy_api_wrap/__init__.py:82: UserWarning: `flavor='seurat_v3'` expects raw count data, but non-integers were found.\n",
      "  return fn(*args_all, **kw)\n",
      "/Users/mjlee/master_thesis/Thesis_project/thesispjt/thesis-impute/lib/python3.12/site-packages/scvi/train/_trainrunner.py:82: UserWarning: `accelerator` has been set to `mps`. Please note that not all PyTorch/Jax operations are supported with this backend. as a result, some models might be slower and less accurate than usuall. Please verify your analysis!Refer to https://github.com/pytorch/pytorch/issues/77764 for more details.\n",
      "  accelerator, lightning_devices, device = parse_device_args(\n",
      "GPU available: True (mps), used: True\n",
      "TPU available: False, using: 0 TPU cores\n",
      "HPU available: False, using: 0 HPUs\n",
      "/Users/mjlee/master_thesis/Thesis_project/thesispjt/thesis-impute/lib/python3.12/site-packages/lightning/pytorch/trainer/connectors/data_connector.py:433: The 'train_dataloader' does not have many workers which may be a bottleneck. Consider increasing the value of the `num_workers` argument` to `num_workers=7` in the `DataLoader` to improve performance.\n",
      "/Users/mjlee/master_thesis/Thesis_project/thesispjt/thesis-impute/lib/python3.12/site-packages/lightning/pytorch/loops/fit_loop.py:310: The number of training batches (2) is smaller than the logging interval Trainer(log_every_n_steps=10). Set a lower value for log_every_n_steps if you want to see logs for the training epoch.\n"
     ]
    },
    {
     "data": {
      "application/vnd.jupyter.widget-view+json": {
       "model_id": "ca1eea7fb45743e6858e7d9aeef77587",
       "version_major": 2,
       "version_minor": 0
      },
      "text/plain": [
       "Training:   0%|          | 0/250 [00:00<?, ?it/s]"
      ]
     },
     "metadata": {},
     "output_type": "display_data"
    },
    {
     "name": "stdout",
     "output_type": "stream",
     "text": [
      "2025-09-15 09:31:53 | [time] [scVI] train end in 0.20s\n",
      "2025-09-15 09:31:53 | [scVI] predict_mean\n",
      "2025-09-15 09:31:53 | [time] [scVI] get_likelihood_parameters start\n",
      "\u001b[34mINFO    \u001b[0m Input AnnData not setup with scvi-tools. attempting to transfer AnnData setup                             \n",
      "2025-09-15 09:31:53 | [time] [scVI] get_likelihood_parameters end in 0.02s\n",
      "\u001b[34mINFO    \u001b[0m Input AnnData not setup with scvi-tools. attempting to transfer AnnData setup                             \n",
      "2025-09-15 09:31:53 | [scVI] predict_mean\n",
      "2025-09-15 09:31:53 | [time] [scVI] get_likelihood_parameters start\n",
      "\u001b[34mINFO    \u001b[0m Input AnnData not setup with scvi-tools. attempting to transfer AnnData setup                             \n",
      "2025-09-15 09:31:54 | [time] [scVI] get_likelihood_parameters end in 0.01s\n",
      "2025-09-15 09:31:54 | [scVI] predict_mean\n",
      "2025-09-15 09:31:54 | [time] [scVI] get_likelihood_parameters start\n",
      "\u001b[34mINFO    \u001b[0m Input AnnData not setup with scvi-tools. attempting to transfer AnnData setup                             \n",
      "2025-09-15 09:31:54 | [time] [scVI] get_likelihood_parameters end in 0.01s\n",
      "2025-09-15 09:31:54 | [time] [scVI] fold 2/3 end in 0.69s\n",
      "2025-09-15 09:31:54 | [time] [scVI] fold 3/3 start\n",
      "2025-09-15 09:31:54 | [scVI] fold 3 | HVG=2000\n",
      "2025-09-15 09:31:54 | [scVI] fold 3 params={'batch_size': 256, 'dropout_rate': 0.1, 'lr': 0.001, 'max_epochs': 250, 'n_hidden': 128, 'n_latent': 32, 'n_layers': 2, 'use_gpu': True, 'weight_decay': 1e-05}\n",
      "2025-09-15 09:31:54 | [scVI] fit hp={'n_latent': 32, 'n_hidden': 128, 'n_layers': 2, 'dropout_rate': 0.1, 'max_epochs': 250, 'lr': 0.001, 'weight_decay': 1e-05, 'batch_size': 256, 'batch_key': 'BioProject', 'use_gpu': True}\n",
      "2025-09-15 09:31:54 | X_train: dense  (298, 2000) dtype=int64\n"
     ]
    },
    {
     "name": "stderr",
     "output_type": "stream",
     "text": [
      "/Users/mjlee/master_thesis/Thesis_project/thesispjt/thesis-impute/lib/python3.12/site-packages/legacy_api_wrap/__init__.py:82: UserWarning: `flavor='seurat_v3'` expects raw count data, but non-integers were found.\n",
      "  return fn(*args_all, **kw)\n"
     ]
    },
    {
     "name": "stdout",
     "output_type": "stream",
     "text": [
      "2025-09-15 09:31:54 | [time] [scVI] train start\n"
     ]
    },
    {
     "name": "stderr",
     "output_type": "stream",
     "text": [
      "/Users/mjlee/master_thesis/Thesis_project/thesispjt/thesis-impute/lib/python3.12/site-packages/scvi/train/_trainrunner.py:82: UserWarning: `accelerator` has been set to `mps`. Please note that not all PyTorch/Jax operations are supported with this backend. as a result, some models might be slower and less accurate than usuall. Please verify your analysis!Refer to https://github.com/pytorch/pytorch/issues/77764 for more details.\n",
      "  accelerator, lightning_devices, device = parse_device_args(\n",
      "GPU available: True (mps), used: True\n",
      "TPU available: False, using: 0 TPU cores\n",
      "HPU available: False, using: 0 HPUs\n",
      "/Users/mjlee/master_thesis/Thesis_project/thesispjt/thesis-impute/lib/python3.12/site-packages/lightning/pytorch/trainer/connectors/data_connector.py:433: The 'train_dataloader' does not have many workers which may be a bottleneck. Consider increasing the value of the `num_workers` argument` to `num_workers=7` in the `DataLoader` to improve performance.\n",
      "/Users/mjlee/master_thesis/Thesis_project/thesispjt/thesis-impute/lib/python3.12/site-packages/lightning/pytorch/loops/fit_loop.py:310: The number of training batches (2) is smaller than the logging interval Trainer(log_every_n_steps=10). Set a lower value for log_every_n_steps if you want to see logs for the training epoch.\n"
     ]
    },
    {
     "data": {
      "application/vnd.jupyter.widget-view+json": {
       "model_id": "082b5ce58b4241179b98f9e949acef1d",
       "version_major": 2,
       "version_minor": 0
      },
      "text/plain": [
       "Training:   0%|          | 0/250 [00:00<?, ?it/s]"
      ]
     },
     "metadata": {},
     "output_type": "display_data"
    },
    {
     "name": "stdout",
     "output_type": "stream",
     "text": [
      "2025-09-15 09:31:54 | [time] [scVI] train end in 0.19s\n",
      "2025-09-15 09:31:54 | [scVI] predict_mean\n",
      "2025-09-15 09:31:54 | [time] [scVI] get_likelihood_parameters start\n",
      "\u001b[34mINFO    \u001b[0m Input AnnData not setup with scvi-tools. attempting to transfer AnnData setup                             \n",
      "2025-09-15 09:31:54 | [time] [scVI] get_likelihood_parameters end in 0.02s\n",
      "\u001b[34mINFO    \u001b[0m Input AnnData not setup with scvi-tools. attempting to transfer AnnData setup                             \n",
      "2025-09-15 09:31:54 | [scVI] predict_mean\n",
      "2025-09-15 09:31:54 | [time] [scVI] get_likelihood_parameters start\n",
      "\u001b[34mINFO    \u001b[0m Input AnnData not setup with scvi-tools. attempting to transfer AnnData setup                             \n",
      "2025-09-15 09:31:54 | [time] [scVI] get_likelihood_parameters end in 0.02s\n",
      "2025-09-15 09:31:54 | [scVI] predict_mean\n",
      "2025-09-15 09:31:54 | [time] [scVI] get_likelihood_parameters start\n",
      "\u001b[34mINFO    \u001b[0m Input AnnData not setup with scvi-tools. attempting to transfer AnnData setup                             \n",
      "2025-09-15 09:31:54 | [time] [scVI] get_likelihood_parameters end in 0.02s\n",
      "2025-09-15 09:31:54 | [time] [scVI] fold 3/3 end in 0.66s\n",
      "2025-09-15 09:31:54 | [cv_scvi_5fold] done\n"
     ]
    },
    {
     "name": "stderr",
     "output_type": "stream",
     "text": [
      "[W 2025-09-15 09:31:54,714] Trial 12 failed with parameters: {'n_latent': 32, 'n_hidden': 128, 'n_layers': 2, 'dropout_rate': 0.1, 'max_epochs': 250, 'lr': 0.001, 'weight_decay': 1e-05, 'batch_size': 256, 'n_hvg': 2000} because of the following error: The value   model  n_hvg  MAE_zero      MSE_zero  MedianL1_zero  NB_ll_zero  \\\n",
      "0  scVI   2000  901.2886  1.336921e+08     257.101674   -7.945716   \n",
      "\n",
      "   NB_dev_zero   MAE_thin       MSE_thin  MedianL1_thin  NB_ll_thin  \\\n",
      "0      7.25682  55.161972  585839.240437      24.660764   -2.957555   \n",
      "\n",
      "   NB_dev_thin Silhouette                                             params  \n",
      "0     4.257293        NaN  {'batch_size': 256, 'dropout_rate': 0.1, 'lr':...   could not be cast to float.\n",
      "[W 2025-09-15 09:31:54,717] Trial 12 failed with value (  model  n_hvg  MAE_zero      MSE_zero  MedianL1_zero  NB_ll_zero  \\\n",
      "0  scVI   2000  901.2886  1.336921e+08     257.101674   -7.945716   \n",
      "\n",
      "   NB_dev_zero   MAE_thin       MSE_thin  MedianL1_thin  NB_ll_thin  \\\n",
      "0      7.25682  55.161972  585839.240437      24.660764   -2.957555   \n",
      "\n",
      "   NB_dev_thin Silhouette                                             params  \n",
      "0     4.257293        NaN  {'batch_size': 256, 'dropout_rate': 0.1, 'lr':...  ,    fold model                                             params  n_hvg  \\\n",
      "0     1  scVI  {'batch_size': 256, 'dropout_rate': 0.1, 'lr':...   2000   \n",
      "1     2  scVI  {'batch_size': 256, 'dropout_rate': 0.1, 'lr':...   2000   \n",
      "2     3  scVI  {'batch_size': 256, 'dropout_rate': 0.1, 'lr':...   2000   \n",
      "\n",
      "      MAE_zero      MSE_zero  MedianL1_zero  NB_ll_zero  NB_dev_zero  \\\n",
      "0   849.923929  1.060601e+08     252.007782   -7.954852     7.301736   \n",
      "1  1065.248761  1.838785e+08     290.624969   -8.329605     7.929196   \n",
      "2   788.693110  1.111378e+08     228.672272   -7.552692     6.539529   \n",
      "\n",
      "    MAE_thin       MSE_thin  MedianL1_thin  NB_ll_thin  NB_dev_thin Silhouette  \n",
      "0  54.245499  605331.290720      23.361753   -3.013320     4.364453       None  \n",
      "1  60.182661  619468.978469      27.834497   -2.959566     4.238831       None  \n",
      "2  51.057757  532717.452121      22.786041   -2.899778     4.168597       None  , -2.9575549591718935).\n"
     ]
    },
    {
     "name": "stdout",
     "output_type": "stream",
     "text": [
      "{'n_latent': [16], 'n_hidden': [256], 'n_layers': [2], 'dropout_rate': [0.1], 'max_epochs': [250], 'lr': [0.001], 'weight_decay': [1e-05], 'batch_size': [256], 'use_gpu': [True]}\n",
      "2025-09-15 09:31:54 | [cv_scvi_5fold] start k=3 n_hvg=800 mode=seurat_v3\n",
      "2025-09-15 09:31:54 | X_counts: dense  (447, 51777) dtype=int64\n",
      "2025-09-15 09:31:55 | X_counts: zeros=66.23%, approx_int=True\n",
      "2025-09-15 09:31:55 | [time] [scVI] fold 1/3 start\n",
      "2025-09-15 09:31:55 | [scVI] fold 1 | HVG=800\n",
      "2025-09-15 09:31:55 | [scVI] fold 1 params={'batch_size': 256, 'dropout_rate': 0.1, 'lr': 0.001, 'max_epochs': 250, 'n_hidden': 256, 'n_latent': 16, 'n_layers': 2, 'use_gpu': True, 'weight_decay': 1e-05}\n",
      "2025-09-15 09:31:55 | [scVI] fit hp={'n_latent': 16, 'n_hidden': 256, 'n_layers': 2, 'dropout_rate': 0.1, 'max_epochs': 250, 'lr': 0.001, 'weight_decay': 1e-05, 'batch_size': 256, 'batch_key': 'BioProject', 'use_gpu': True}\n",
      "2025-09-15 09:31:55 | X_train: dense  (298, 800) dtype=int64\n",
      "2025-09-15 09:31:55 | [time] [scVI] train start\n"
     ]
    },
    {
     "name": "stderr",
     "output_type": "stream",
     "text": [
      "/Users/mjlee/master_thesis/Thesis_project/thesispjt/thesis-impute/lib/python3.12/site-packages/legacy_api_wrap/__init__.py:82: UserWarning: `flavor='seurat_v3'` expects raw count data, but non-integers were found.\n",
      "  return fn(*args_all, **kw)\n",
      "/Users/mjlee/master_thesis/Thesis_project/thesispjt/thesis-impute/lib/python3.12/site-packages/scvi/train/_trainrunner.py:82: UserWarning: `accelerator` has been set to `mps`. Please note that not all PyTorch/Jax operations are supported with this backend. as a result, some models might be slower and less accurate than usuall. Please verify your analysis!Refer to https://github.com/pytorch/pytorch/issues/77764 for more details.\n",
      "  accelerator, lightning_devices, device = parse_device_args(\n",
      "GPU available: True (mps), used: True\n",
      "TPU available: False, using: 0 TPU cores\n",
      "HPU available: False, using: 0 HPUs\n",
      "/Users/mjlee/master_thesis/Thesis_project/thesispjt/thesis-impute/lib/python3.12/site-packages/lightning/pytorch/trainer/connectors/data_connector.py:433: The 'train_dataloader' does not have many workers which may be a bottleneck. Consider increasing the value of the `num_workers` argument` to `num_workers=7` in the `DataLoader` to improve performance.\n",
      "/Users/mjlee/master_thesis/Thesis_project/thesispjt/thesis-impute/lib/python3.12/site-packages/lightning/pytorch/loops/fit_loop.py:310: The number of training batches (2) is smaller than the logging interval Trainer(log_every_n_steps=10). Set a lower value for log_every_n_steps if you want to see logs for the training epoch.\n"
     ]
    },
    {
     "data": {
      "application/vnd.jupyter.widget-view+json": {
       "model_id": "fe05544f6e08449bab87e588d0d5f088",
       "version_major": 2,
       "version_minor": 0
      },
      "text/plain": [
       "Training:   0%|          | 0/250 [00:00<?, ?it/s]"
      ]
     },
     "metadata": {},
     "output_type": "display_data"
    },
    {
     "name": "stdout",
     "output_type": "stream",
     "text": [
      "2025-09-15 09:31:55 | [time] [scVI] train end in 0.22s\n",
      "2025-09-15 09:31:55 | [scVI] predict_mean\n",
      "2025-09-15 09:31:55 | [time] [scVI] get_likelihood_parameters start\n",
      "\u001b[34mINFO    \u001b[0m Input AnnData not setup with scvi-tools. attempting to transfer AnnData setup                             \n",
      "2025-09-15 09:31:55 | [time] [scVI] get_likelihood_parameters end in 0.02s\n",
      "\u001b[34mINFO    \u001b[0m Input AnnData not setup with scvi-tools. attempting to transfer AnnData setup                             \n",
      "2025-09-15 09:31:55 | [scVI] predict_mean\n",
      "2025-09-15 09:31:55 | [time] [scVI] get_likelihood_parameters start\n",
      "\u001b[34mINFO    \u001b[0m Input AnnData not setup with scvi-tools. attempting to transfer AnnData setup                             \n",
      "2025-09-15 09:31:55 | [time] [scVI] get_likelihood_parameters end in 0.01s\n",
      "2025-09-15 09:31:55 | [scVI] predict_mean\n",
      "2025-09-15 09:31:55 | [time] [scVI] get_likelihood_parameters start\n",
      "\u001b[34mINFO    \u001b[0m Input AnnData not setup with scvi-tools. attempting to transfer AnnData setup                             \n",
      "2025-09-15 09:31:55 | [time] [scVI] get_likelihood_parameters end in 0.01s\n",
      "2025-09-15 09:31:55 | [time] [scVI] fold 1/3 end in 0.65s\n",
      "2025-09-15 09:31:55 | [time] [scVI] fold 2/3 start\n",
      "2025-09-15 09:31:56 | [scVI] fold 2 | HVG=800\n",
      "2025-09-15 09:31:56 | [scVI] fold 2 params={'batch_size': 256, 'dropout_rate': 0.1, 'lr': 0.001, 'max_epochs': 250, 'n_hidden': 256, 'n_latent': 16, 'n_layers': 2, 'use_gpu': True, 'weight_decay': 1e-05}\n",
      "2025-09-15 09:31:56 | [scVI] fit hp={'n_latent': 16, 'n_hidden': 256, 'n_layers': 2, 'dropout_rate': 0.1, 'max_epochs': 250, 'lr': 0.001, 'weight_decay': 1e-05, 'batch_size': 256, 'batch_key': 'BioProject', 'use_gpu': True}\n",
      "2025-09-15 09:31:56 | X_train: dense  (298, 800) dtype=int64\n",
      "2025-09-15 09:31:56 | [time] [scVI] train start\n"
     ]
    },
    {
     "name": "stderr",
     "output_type": "stream",
     "text": [
      "/Users/mjlee/master_thesis/Thesis_project/thesispjt/thesis-impute/lib/python3.12/site-packages/legacy_api_wrap/__init__.py:82: UserWarning: `flavor='seurat_v3'` expects raw count data, but non-integers were found.\n",
      "  return fn(*args_all, **kw)\n",
      "/Users/mjlee/master_thesis/Thesis_project/thesispjt/thesis-impute/lib/python3.12/site-packages/scvi/train/_trainrunner.py:82: UserWarning: `accelerator` has been set to `mps`. Please note that not all PyTorch/Jax operations are supported with this backend. as a result, some models might be slower and less accurate than usuall. Please verify your analysis!Refer to https://github.com/pytorch/pytorch/issues/77764 for more details.\n",
      "  accelerator, lightning_devices, device = parse_device_args(\n",
      "GPU available: True (mps), used: True\n",
      "TPU available: False, using: 0 TPU cores\n",
      "HPU available: False, using: 0 HPUs\n",
      "/Users/mjlee/master_thesis/Thesis_project/thesispjt/thesis-impute/lib/python3.12/site-packages/lightning/pytorch/trainer/connectors/data_connector.py:433: The 'train_dataloader' does not have many workers which may be a bottleneck. Consider increasing the value of the `num_workers` argument` to `num_workers=7` in the `DataLoader` to improve performance.\n",
      "/Users/mjlee/master_thesis/Thesis_project/thesispjt/thesis-impute/lib/python3.12/site-packages/lightning/pytorch/loops/fit_loop.py:310: The number of training batches (2) is smaller than the logging interval Trainer(log_every_n_steps=10). Set a lower value for log_every_n_steps if you want to see logs for the training epoch.\n"
     ]
    },
    {
     "data": {
      "application/vnd.jupyter.widget-view+json": {
       "model_id": "c28a4d56e6b2432bb46e6ce329b10134",
       "version_major": 2,
       "version_minor": 0
      },
      "text/plain": [
       "Training:   0%|          | 0/250 [00:00<?, ?it/s]"
      ]
     },
     "metadata": {},
     "output_type": "display_data"
    },
    {
     "name": "stdout",
     "output_type": "stream",
     "text": [
      "2025-09-15 09:31:56 | [time] [scVI] train end in 0.19s\n",
      "2025-09-15 09:31:56 | [scVI] predict_mean\n",
      "2025-09-15 09:31:56 | [time] [scVI] get_likelihood_parameters start\n",
      "\u001b[34mINFO    \u001b[0m Input AnnData not setup with scvi-tools. attempting to transfer AnnData setup                             \n",
      "2025-09-15 09:31:56 | [time] [scVI] get_likelihood_parameters end in 0.01s\n",
      "\u001b[34mINFO    \u001b[0m Input AnnData not setup with scvi-tools. attempting to transfer AnnData setup                             \n",
      "2025-09-15 09:31:56 | [scVI] predict_mean\n",
      "2025-09-15 09:31:56 | [time] [scVI] get_likelihood_parameters start\n",
      "\u001b[34mINFO    \u001b[0m Input AnnData not setup with scvi-tools. attempting to transfer AnnData setup                             \n",
      "2025-09-15 09:31:56 | [time] [scVI] get_likelihood_parameters end in 0.01s\n",
      "2025-09-15 09:31:56 | [scVI] predict_mean\n",
      "2025-09-15 09:31:56 | [time] [scVI] get_likelihood_parameters start\n",
      "\u001b[34mINFO    \u001b[0m Input AnnData not setup with scvi-tools. attempting to transfer AnnData setup                             \n",
      "2025-09-15 09:31:56 | [time] [scVI] get_likelihood_parameters end in 0.04s\n",
      "2025-09-15 09:31:56 | [time] [scVI] fold 2/3 end in 0.65s\n",
      "2025-09-15 09:31:56 | [time] [scVI] fold 3/3 start\n",
      "2025-09-15 09:31:56 | [scVI] fold 3 | HVG=800\n",
      "2025-09-15 09:31:56 | [scVI] fold 3 params={'batch_size': 256, 'dropout_rate': 0.1, 'lr': 0.001, 'max_epochs': 250, 'n_hidden': 256, 'n_latent': 16, 'n_layers': 2, 'use_gpu': True, 'weight_decay': 1e-05}\n",
      "2025-09-15 09:31:56 | [scVI] fit hp={'n_latent': 16, 'n_hidden': 256, 'n_layers': 2, 'dropout_rate': 0.1, 'max_epochs': 250, 'lr': 0.001, 'weight_decay': 1e-05, 'batch_size': 256, 'batch_key': 'BioProject', 'use_gpu': True}\n",
      "2025-09-15 09:31:56 | X_train: dense  (298, 800) dtype=int64\n",
      "2025-09-15 09:31:56 | [time] [scVI] train start\n"
     ]
    },
    {
     "name": "stderr",
     "output_type": "stream",
     "text": [
      "/Users/mjlee/master_thesis/Thesis_project/thesispjt/thesis-impute/lib/python3.12/site-packages/legacy_api_wrap/__init__.py:82: UserWarning: `flavor='seurat_v3'` expects raw count data, but non-integers were found.\n",
      "  return fn(*args_all, **kw)\n",
      "/Users/mjlee/master_thesis/Thesis_project/thesispjt/thesis-impute/lib/python3.12/site-packages/scvi/train/_trainrunner.py:82: UserWarning: `accelerator` has been set to `mps`. Please note that not all PyTorch/Jax operations are supported with this backend. as a result, some models might be slower and less accurate than usuall. Please verify your analysis!Refer to https://github.com/pytorch/pytorch/issues/77764 for more details.\n",
      "  accelerator, lightning_devices, device = parse_device_args(\n",
      "GPU available: True (mps), used: True\n",
      "TPU available: False, using: 0 TPU cores\n",
      "HPU available: False, using: 0 HPUs\n",
      "/Users/mjlee/master_thesis/Thesis_project/thesispjt/thesis-impute/lib/python3.12/site-packages/lightning/pytorch/trainer/connectors/data_connector.py:433: The 'train_dataloader' does not have many workers which may be a bottleneck. Consider increasing the value of the `num_workers` argument` to `num_workers=7` in the `DataLoader` to improve performance.\n",
      "/Users/mjlee/master_thesis/Thesis_project/thesispjt/thesis-impute/lib/python3.12/site-packages/lightning/pytorch/loops/fit_loop.py:310: The number of training batches (2) is smaller than the logging interval Trainer(log_every_n_steps=10). Set a lower value for log_every_n_steps if you want to see logs for the training epoch.\n"
     ]
    },
    {
     "data": {
      "application/vnd.jupyter.widget-view+json": {
       "model_id": "e44c764196504ca899f3074b6af07d2b",
       "version_major": 2,
       "version_minor": 0
      },
      "text/plain": [
       "Training:   0%|          | 0/250 [00:00<?, ?it/s]"
      ]
     },
     "metadata": {},
     "output_type": "display_data"
    },
    {
     "name": "stdout",
     "output_type": "stream",
     "text": [
      "2025-09-15 09:31:56 | [time] [scVI] train end in 0.20s\n",
      "2025-09-15 09:31:56 | [scVI] predict_mean\n",
      "2025-09-15 09:31:56 | [time] [scVI] get_likelihood_parameters start\n",
      "\u001b[34mINFO    \u001b[0m Input AnnData not setup with scvi-tools. attempting to transfer AnnData setup                             \n",
      "2025-09-15 09:31:56 | [time] [scVI] get_likelihood_parameters end in 0.01s\n",
      "\u001b[34mINFO    \u001b[0m Input AnnData not setup with scvi-tools. attempting to transfer AnnData setup                             \n",
      "2025-09-15 09:31:56 | [scVI] predict_mean\n",
      "2025-09-15 09:31:56 | [time] [scVI] get_likelihood_parameters start\n",
      "\u001b[34mINFO    \u001b[0m Input AnnData not setup with scvi-tools. attempting to transfer AnnData setup                             \n",
      "2025-09-15 09:31:56 | [time] [scVI] get_likelihood_parameters end in 0.01s\n",
      "2025-09-15 09:31:56 | [scVI] predict_mean\n",
      "2025-09-15 09:31:56 | [time] [scVI] get_likelihood_parameters start\n",
      "\u001b[34mINFO    \u001b[0m Input AnnData not setup with scvi-tools. attempting to transfer AnnData setup                             \n",
      "2025-09-15 09:31:56 | [time] [scVI] get_likelihood_parameters end in 0.01s\n",
      "2025-09-15 09:31:56 | [time] [scVI] fold 3/3 end in 0.62s\n",
      "2025-09-15 09:31:56 | [cv_scvi_5fold] done\n"
     ]
    },
    {
     "name": "stderr",
     "output_type": "stream",
     "text": [
      "[W 2025-09-15 09:31:56,974] Trial 13 failed with parameters: {'n_latent': 16, 'n_hidden': 256, 'n_layers': 2, 'dropout_rate': 0.1, 'max_epochs': 250, 'lr': 0.001, 'weight_decay': 1e-05, 'batch_size': 256, 'n_hvg': 800} because of the following error: The value   model  n_hvg    MAE_zero      MSE_zero  MedianL1_zero  NB_ll_zero  \\\n",
      "0  scVI    800  661.654851  8.800789e+07     210.546525     -7.1792   \n",
      "\n",
      "   NB_dev_zero   MAE_thin       MSE_thin  MedianL1_thin  NB_ll_thin  \\\n",
      "0     4.937652  44.292884  491496.562784       20.53008    -2.60177   \n",
      "\n",
      "   NB_dev_thin Silhouette                                             params  \n",
      "0     3.097757        NaN  {'batch_size': 256, 'dropout_rate': 0.1, 'lr':...   could not be cast to float.\n",
      "[W 2025-09-15 09:31:56,976] Trial 13 failed with value (  model  n_hvg    MAE_zero      MSE_zero  MedianL1_zero  NB_ll_zero  \\\n",
      "0  scVI    800  661.654851  8.800789e+07     210.546525     -7.1792   \n",
      "\n",
      "   NB_dev_zero   MAE_thin       MSE_thin  MedianL1_thin  NB_ll_thin  \\\n",
      "0     4.937652  44.292884  491496.562784       20.53008    -2.60177   \n",
      "\n",
      "   NB_dev_thin Silhouette                                             params  \n",
      "0     3.097757        NaN  {'batch_size': 256, 'dropout_rate': 0.1, 'lr':...  ,    fold model                                             params  n_hvg  \\\n",
      "0     1  scVI  {'batch_size': 256, 'dropout_rate': 0.1, 'lr':...    800   \n",
      "1     2  scVI  {'batch_size': 256, 'dropout_rate': 0.1, 'lr':...    800   \n",
      "2     3  scVI  {'batch_size': 256, 'dropout_rate': 0.1, 'lr':...    800   \n",
      "\n",
      "      MAE_zero      MSE_zero  MedianL1_zero  NB_ll_zero  NB_dev_zero  \\\n",
      "0   271.227455  6.238770e+06      92.572037   -6.873244     4.377040   \n",
      "1  1437.248509  2.509899e+08     446.314240   -7.656942     5.828744   \n",
      "2   276.488588  6.795037e+06      92.753300   -7.007415     4.607173   \n",
      "\n",
      "    MAE_thin      MSE_thin  MedianL1_thin  NB_ll_thin  NB_dev_thin Silhouette  \n",
      "0  17.052581  2.218146e+04       8.297033   -2.390045     2.704841       None  \n",
      "1  98.577253  1.426850e+06      44.855810   -2.994268     3.825142       None  \n",
      "2  17.248819  2.545851e+04       8.437396   -2.420998     2.763288       None  , -2.6017703033345136).\n"
     ]
    },
    {
     "name": "stdout",
     "output_type": "stream",
     "text": [
      "{'n_latent': [16], 'n_hidden': [256], 'n_layers': [2], 'dropout_rate': [0.1], 'max_epochs': [250], 'lr': [0.001], 'weight_decay': [1e-06], 'batch_size': [256], 'use_gpu': [True]}\n",
      "2025-09-15 09:31:57 | [cv_scvi_5fold] start k=3 n_hvg=2000 mode=seurat_v3\n",
      "2025-09-15 09:31:57 | X_counts: dense  (447, 51777) dtype=int64\n",
      "2025-09-15 09:31:57 | X_counts: zeros=66.23%, approx_int=True\n",
      "2025-09-15 09:31:57 | [time] [scVI] fold 1/3 start\n",
      "2025-09-15 09:31:57 | [scVI] fold 1 | HVG=2000\n",
      "2025-09-15 09:31:57 | [scVI] fold 1 params={'batch_size': 256, 'dropout_rate': 0.1, 'lr': 0.001, 'max_epochs': 250, 'n_hidden': 256, 'n_latent': 16, 'n_layers': 2, 'use_gpu': True, 'weight_decay': 1e-06}\n",
      "2025-09-15 09:31:57 | [scVI] fit hp={'n_latent': 16, 'n_hidden': 256, 'n_layers': 2, 'dropout_rate': 0.1, 'max_epochs': 250, 'lr': 0.001, 'weight_decay': 1e-06, 'batch_size': 256, 'batch_key': 'BioProject', 'use_gpu': True}\n",
      "2025-09-15 09:31:57 | X_train: dense  (298, 2000) dtype=int64\n",
      "2025-09-15 09:31:57 | [time] [scVI] train start\n"
     ]
    },
    {
     "name": "stderr",
     "output_type": "stream",
     "text": [
      "/Users/mjlee/master_thesis/Thesis_project/thesispjt/thesis-impute/lib/python3.12/site-packages/legacy_api_wrap/__init__.py:82: UserWarning: `flavor='seurat_v3'` expects raw count data, but non-integers were found.\n",
      "  return fn(*args_all, **kw)\n",
      "/Users/mjlee/master_thesis/Thesis_project/thesispjt/thesis-impute/lib/python3.12/site-packages/scvi/train/_trainrunner.py:82: UserWarning: `accelerator` has been set to `mps`. Please note that not all PyTorch/Jax operations are supported with this backend. as a result, some models might be slower and less accurate than usuall. Please verify your analysis!Refer to https://github.com/pytorch/pytorch/issues/77764 for more details.\n",
      "  accelerator, lightning_devices, device = parse_device_args(\n",
      "GPU available: True (mps), used: True\n",
      "TPU available: False, using: 0 TPU cores\n",
      "HPU available: False, using: 0 HPUs\n",
      "/Users/mjlee/master_thesis/Thesis_project/thesispjt/thesis-impute/lib/python3.12/site-packages/lightning/pytorch/trainer/connectors/data_connector.py:433: The 'train_dataloader' does not have many workers which may be a bottleneck. Consider increasing the value of the `num_workers` argument` to `num_workers=7` in the `DataLoader` to improve performance.\n",
      "/Users/mjlee/master_thesis/Thesis_project/thesispjt/thesis-impute/lib/python3.12/site-packages/lightning/pytorch/loops/fit_loop.py:310: The number of training batches (2) is smaller than the logging interval Trainer(log_every_n_steps=10). Set a lower value for log_every_n_steps if you want to see logs for the training epoch.\n"
     ]
    },
    {
     "data": {
      "application/vnd.jupyter.widget-view+json": {
       "model_id": "8a28fb5d5fd346c0b4f6923f524c576b",
       "version_major": 2,
       "version_minor": 0
      },
      "text/plain": [
       "Training:   0%|          | 0/250 [00:00<?, ?it/s]"
      ]
     },
     "metadata": {},
     "output_type": "display_data"
    },
    {
     "name": "stdout",
     "output_type": "stream",
     "text": [
      "2025-09-15 09:31:57 | [time] [scVI] train end in 0.25s\n",
      "2025-09-15 09:31:57 | [scVI] predict_mean\n",
      "2025-09-15 09:31:57 | [time] [scVI] get_likelihood_parameters start\n",
      "\u001b[34mINFO    \u001b[0m Input AnnData not setup with scvi-tools. attempting to transfer AnnData setup                             \n",
      "2025-09-15 09:31:57 | [time] [scVI] get_likelihood_parameters end in 0.02s\n",
      "\u001b[34mINFO    \u001b[0m Input AnnData not setup with scvi-tools. attempting to transfer AnnData setup                             \n",
      "2025-09-15 09:31:57 | [scVI] predict_mean\n",
      "2025-09-15 09:31:57 | [time] [scVI] get_likelihood_parameters start\n",
      "\u001b[34mINFO    \u001b[0m Input AnnData not setup with scvi-tools. attempting to transfer AnnData setup                             \n",
      "2025-09-15 09:31:57 | [time] [scVI] get_likelihood_parameters end in 0.01s\n",
      "2025-09-15 09:31:57 | [scVI] predict_mean\n",
      "2025-09-15 09:31:57 | [time] [scVI] get_likelihood_parameters start\n",
      "\u001b[34mINFO    \u001b[0m Input AnnData not setup with scvi-tools. attempting to transfer AnnData setup                             \n",
      "2025-09-15 09:31:58 | [time] [scVI] get_likelihood_parameters end in 0.02s\n",
      "2025-09-15 09:31:58 | [time] [scVI] fold 1/3 end in 0.75s\n",
      "2025-09-15 09:31:58 | [time] [scVI] fold 2/3 start\n",
      "2025-09-15 09:31:58 | [scVI] fold 2 | HVG=2000\n",
      "2025-09-15 09:31:58 | [scVI] fold 2 params={'batch_size': 256, 'dropout_rate': 0.1, 'lr': 0.001, 'max_epochs': 250, 'n_hidden': 256, 'n_latent': 16, 'n_layers': 2, 'use_gpu': True, 'weight_decay': 1e-06}\n",
      "2025-09-15 09:31:58 | [scVI] fit hp={'n_latent': 16, 'n_hidden': 256, 'n_layers': 2, 'dropout_rate': 0.1, 'max_epochs': 250, 'lr': 0.001, 'weight_decay': 1e-06, 'batch_size': 256, 'batch_key': 'BioProject', 'use_gpu': True}\n",
      "2025-09-15 09:31:58 | X_train: dense  (298, 2000) dtype=int64\n"
     ]
    },
    {
     "name": "stderr",
     "output_type": "stream",
     "text": [
      "/Users/mjlee/master_thesis/Thesis_project/thesispjt/thesis-impute/lib/python3.12/site-packages/legacy_api_wrap/__init__.py:82: UserWarning: `flavor='seurat_v3'` expects raw count data, but non-integers were found.\n",
      "  return fn(*args_all, **kw)\n"
     ]
    },
    {
     "name": "stdout",
     "output_type": "stream",
     "text": [
      "2025-09-15 09:31:58 | [time] [scVI] train start\n"
     ]
    },
    {
     "name": "stderr",
     "output_type": "stream",
     "text": [
      "/Users/mjlee/master_thesis/Thesis_project/thesispjt/thesis-impute/lib/python3.12/site-packages/scvi/train/_trainrunner.py:82: UserWarning: `accelerator` has been set to `mps`. Please note that not all PyTorch/Jax operations are supported with this backend. as a result, some models might be slower and less accurate than usuall. Please verify your analysis!Refer to https://github.com/pytorch/pytorch/issues/77764 for more details.\n",
      "  accelerator, lightning_devices, device = parse_device_args(\n",
      "GPU available: True (mps), used: True\n",
      "TPU available: False, using: 0 TPU cores\n",
      "HPU available: False, using: 0 HPUs\n",
      "/Users/mjlee/master_thesis/Thesis_project/thesispjt/thesis-impute/lib/python3.12/site-packages/lightning/pytorch/trainer/connectors/data_connector.py:433: The 'train_dataloader' does not have many workers which may be a bottleneck. Consider increasing the value of the `num_workers` argument` to `num_workers=7` in the `DataLoader` to improve performance.\n",
      "/Users/mjlee/master_thesis/Thesis_project/thesispjt/thesis-impute/lib/python3.12/site-packages/lightning/pytorch/loops/fit_loop.py:310: The number of training batches (2) is smaller than the logging interval Trainer(log_every_n_steps=10). Set a lower value for log_every_n_steps if you want to see logs for the training epoch.\n"
     ]
    },
    {
     "data": {
      "application/vnd.jupyter.widget-view+json": {
       "model_id": "40c631fcef1e4b1483fbf13ce52a922d",
       "version_major": 2,
       "version_minor": 0
      },
      "text/plain": [
       "Training:   0%|          | 0/250 [00:00<?, ?it/s]"
      ]
     },
     "metadata": {},
     "output_type": "display_data"
    },
    {
     "name": "stdout",
     "output_type": "stream",
     "text": [
      "2025-09-15 09:31:58 | [time] [scVI] train end in 0.19s\n",
      "2025-09-15 09:31:58 | [scVI] predict_mean\n",
      "2025-09-15 09:31:58 | [time] [scVI] get_likelihood_parameters start\n",
      "\u001b[34mINFO    \u001b[0m Input AnnData not setup with scvi-tools. attempting to transfer AnnData setup                             \n",
      "2025-09-15 09:31:58 | [time] [scVI] get_likelihood_parameters end in 0.02s\n",
      "\u001b[34mINFO    \u001b[0m Input AnnData not setup with scvi-tools. attempting to transfer AnnData setup                             \n",
      "2025-09-15 09:31:58 | [scVI] predict_mean\n",
      "2025-09-15 09:31:58 | [time] [scVI] get_likelihood_parameters start\n",
      "\u001b[34mINFO    \u001b[0m Input AnnData not setup with scvi-tools. attempting to transfer AnnData setup                             \n",
      "2025-09-15 09:31:58 | [time] [scVI] get_likelihood_parameters end in 0.01s\n",
      "2025-09-15 09:31:58 | [scVI] predict_mean\n",
      "2025-09-15 09:31:58 | [time] [scVI] get_likelihood_parameters start\n",
      "\u001b[34mINFO    \u001b[0m Input AnnData not setup with scvi-tools. attempting to transfer AnnData setup                             \n",
      "2025-09-15 09:31:58 | [time] [scVI] get_likelihood_parameters end in 0.02s\n",
      "2025-09-15 09:31:58 | [time] [scVI] fold 2/3 end in 0.68s\n",
      "2025-09-15 09:31:58 | [time] [scVI] fold 3/3 start\n",
      "2025-09-15 09:31:59 | [scVI] fold 3 | HVG=2000\n",
      "2025-09-15 09:31:59 | [scVI] fold 3 params={'batch_size': 256, 'dropout_rate': 0.1, 'lr': 0.001, 'max_epochs': 250, 'n_hidden': 256, 'n_latent': 16, 'n_layers': 2, 'use_gpu': True, 'weight_decay': 1e-06}\n",
      "2025-09-15 09:31:59 | [scVI] fit hp={'n_latent': 16, 'n_hidden': 256, 'n_layers': 2, 'dropout_rate': 0.1, 'max_epochs': 250, 'lr': 0.001, 'weight_decay': 1e-06, 'batch_size': 256, 'batch_key': 'BioProject', 'use_gpu': True}\n",
      "2025-09-15 09:31:59 | X_train: dense  (298, 2000) dtype=int64\n",
      "2025-09-15 09:31:59 | [time] [scVI] train start\n"
     ]
    },
    {
     "name": "stderr",
     "output_type": "stream",
     "text": [
      "/Users/mjlee/master_thesis/Thesis_project/thesispjt/thesis-impute/lib/python3.12/site-packages/legacy_api_wrap/__init__.py:82: UserWarning: `flavor='seurat_v3'` expects raw count data, but non-integers were found.\n",
      "  return fn(*args_all, **kw)\n",
      "/Users/mjlee/master_thesis/Thesis_project/thesispjt/thesis-impute/lib/python3.12/site-packages/scvi/train/_trainrunner.py:82: UserWarning: `accelerator` has been set to `mps`. Please note that not all PyTorch/Jax operations are supported with this backend. as a result, some models might be slower and less accurate than usuall. Please verify your analysis!Refer to https://github.com/pytorch/pytorch/issues/77764 for more details.\n",
      "  accelerator, lightning_devices, device = parse_device_args(\n",
      "GPU available: True (mps), used: True\n",
      "TPU available: False, using: 0 TPU cores\n",
      "HPU available: False, using: 0 HPUs\n",
      "/Users/mjlee/master_thesis/Thesis_project/thesispjt/thesis-impute/lib/python3.12/site-packages/lightning/pytorch/trainer/connectors/data_connector.py:433: The 'train_dataloader' does not have many workers which may be a bottleneck. Consider increasing the value of the `num_workers` argument` to `num_workers=7` in the `DataLoader` to improve performance.\n",
      "/Users/mjlee/master_thesis/Thesis_project/thesispjt/thesis-impute/lib/python3.12/site-packages/lightning/pytorch/loops/fit_loop.py:310: The number of training batches (2) is smaller than the logging interval Trainer(log_every_n_steps=10). Set a lower value for log_every_n_steps if you want to see logs for the training epoch.\n"
     ]
    },
    {
     "data": {
      "application/vnd.jupyter.widget-view+json": {
       "model_id": "9b5e219403334904bf7703a27599edfa",
       "version_major": 2,
       "version_minor": 0
      },
      "text/plain": [
       "Training:   0%|          | 0/250 [00:00<?, ?it/s]"
      ]
     },
     "metadata": {},
     "output_type": "display_data"
    },
    {
     "name": "stdout",
     "output_type": "stream",
     "text": [
      "2025-09-15 09:31:59 | [time] [scVI] train end in 0.22s\n",
      "2025-09-15 09:31:59 | [scVI] predict_mean\n",
      "2025-09-15 09:31:59 | [time] [scVI] get_likelihood_parameters start\n",
      "\u001b[34mINFO    \u001b[0m Input AnnData not setup with scvi-tools. attempting to transfer AnnData setup                             \n",
      "2025-09-15 09:31:59 | [time] [scVI] get_likelihood_parameters end in 0.01s\n",
      "\u001b[34mINFO    \u001b[0m Input AnnData not setup with scvi-tools. attempting to transfer AnnData setup                             \n",
      "2025-09-15 09:31:59 | [scVI] predict_mean\n",
      "2025-09-15 09:31:59 | [time] [scVI] get_likelihood_parameters start\n",
      "\u001b[34mINFO    \u001b[0m Input AnnData not setup with scvi-tools. attempting to transfer AnnData setup                             \n",
      "2025-09-15 09:31:59 | [time] [scVI] get_likelihood_parameters end in 0.01s\n",
      "2025-09-15 09:31:59 | [scVI] predict_mean\n",
      "2025-09-15 09:31:59 | [time] [scVI] get_likelihood_parameters start\n",
      "\u001b[34mINFO    \u001b[0m Input AnnData not setup with scvi-tools. attempting to transfer AnnData setup                             \n",
      "2025-09-15 09:31:59 | [time] [scVI] get_likelihood_parameters end in 0.01s\n",
      "2025-09-15 09:31:59 | [time] [scVI] fold 3/3 end in 0.69s\n",
      "2025-09-15 09:31:59 | [cv_scvi_5fold] done\n"
     ]
    },
    {
     "name": "stderr",
     "output_type": "stream",
     "text": [
      "[W 2025-09-15 09:31:59,406] Trial 14 failed with parameters: {'n_latent': 16, 'n_hidden': 256, 'n_layers': 2, 'dropout_rate': 0.1, 'max_epochs': 250, 'lr': 0.001, 'weight_decay': 1e-06, 'batch_size': 256, 'n_hvg': 2000} because of the following error: The value   model  n_hvg    MAE_zero      MSE_zero  MedianL1_zero  NB_ll_zero  \\\n",
      "0  scVI   2000  901.489943  1.336992e+08     257.980479   -7.904987   \n",
      "\n",
      "   NB_dev_zero   MAE_thin      MSE_thin  MedianL1_thin  NB_ll_thin  \\\n",
      "0     7.175362  55.142745  585844.56568       24.74708   -2.929868   \n",
      "\n",
      "   NB_dev_thin Silhouette                                             params  \n",
      "0     4.201919        NaN  {'batch_size': 256, 'dropout_rate': 0.1, 'lr':...   could not be cast to float.\n",
      "[W 2025-09-15 09:31:59,409] Trial 14 failed with value (  model  n_hvg    MAE_zero      MSE_zero  MedianL1_zero  NB_ll_zero  \\\n",
      "0  scVI   2000  901.489943  1.336992e+08     257.980479   -7.904987   \n",
      "\n",
      "   NB_dev_zero   MAE_thin      MSE_thin  MedianL1_thin  NB_ll_thin  \\\n",
      "0     7.175362  55.142745  585844.56568       24.74708   -2.929868   \n",
      "\n",
      "   NB_dev_thin Silhouette                                             params  \n",
      "0     4.201919        NaN  {'batch_size': 256, 'dropout_rate': 0.1, 'lr':...  ,    fold model                                             params  n_hvg  \\\n",
      "0     1  scVI  {'batch_size': 256, 'dropout_rate': 0.1, 'lr':...   2000   \n",
      "1     2  scVI  {'batch_size': 256, 'dropout_rate': 0.1, 'lr':...   2000   \n",
      "2     3  scVI  {'batch_size': 256, 'dropout_rate': 0.1, 'lr':...   2000   \n",
      "\n",
      "      MAE_zero      MSE_zero  MedianL1_zero  NB_ll_zero  NB_dev_zero  \\\n",
      "0   850.016295  1.060796e+08     254.197906   -8.107761     7.607554   \n",
      "1  1065.214312  1.839218e+08     290.208191   -8.405483     8.080952   \n",
      "2   789.239223  1.110963e+08     229.535339   -7.201718     5.837581   \n",
      "\n",
      "    MAE_thin       MSE_thin  MedianL1_thin  NB_ll_thin  NB_dev_thin Silhouette  \n",
      "0  54.258121  605440.346810      23.345072   -3.090502     4.518817       None  \n",
      "1  60.159910  619633.455138      28.087736   -2.996511     4.312719       None  \n",
      "2  51.010205  532459.895091      22.808434   -2.702591     3.774223       None  , -2.9298680204243297).\n"
     ]
    },
    {
     "name": "stdout",
     "output_type": "stream",
     "text": [
      "{'n_latent': [32], 'n_hidden': [256], 'n_layers': [2], 'dropout_rate': [0.0], 'max_epochs': [150], 'lr': [0.001], 'weight_decay': [1e-06], 'batch_size': [512], 'use_gpu': [True]}\n",
      "2025-09-15 09:31:59 | [cv_scvi_5fold] start k=3 n_hvg=1500 mode=seurat_v3\n",
      "2025-09-15 09:31:59 | X_counts: dense  (447, 51777) dtype=int64\n",
      "2025-09-15 09:31:59 | X_counts: zeros=66.23%, approx_int=True\n",
      "2025-09-15 09:31:59 | [time] [scVI] fold 1/3 start\n",
      "2025-09-15 09:32:00 | [scVI] fold 1 | HVG=1500\n",
      "2025-09-15 09:32:00 | [scVI] fold 1 params={'batch_size': 512, 'dropout_rate': 0.0, 'lr': 0.001, 'max_epochs': 150, 'n_hidden': 256, 'n_latent': 32, 'n_layers': 2, 'use_gpu': True, 'weight_decay': 1e-06}\n",
      "2025-09-15 09:32:00 | [scVI] fit hp={'n_latent': 32, 'n_hidden': 256, 'n_layers': 2, 'dropout_rate': 0.0, 'max_epochs': 150, 'lr': 0.001, 'weight_decay': 1e-06, 'batch_size': 512, 'batch_key': 'BioProject', 'use_gpu': True}\n",
      "2025-09-15 09:32:00 | X_train: dense  (298, 1500) dtype=int64\n",
      "2025-09-15 09:32:00 | [time] [scVI] train start\n"
     ]
    },
    {
     "name": "stderr",
     "output_type": "stream",
     "text": [
      "/Users/mjlee/master_thesis/Thesis_project/thesispjt/thesis-impute/lib/python3.12/site-packages/legacy_api_wrap/__init__.py:82: UserWarning: `flavor='seurat_v3'` expects raw count data, but non-integers were found.\n",
      "  return fn(*args_all, **kw)\n",
      "/Users/mjlee/master_thesis/Thesis_project/thesispjt/thesis-impute/lib/python3.12/site-packages/scvi/train/_trainrunner.py:82: UserWarning: `accelerator` has been set to `mps`. Please note that not all PyTorch/Jax operations are supported with this backend. as a result, some models might be slower and less accurate than usuall. Please verify your analysis!Refer to https://github.com/pytorch/pytorch/issues/77764 for more details.\n",
      "  accelerator, lightning_devices, device = parse_device_args(\n",
      "GPU available: True (mps), used: True\n",
      "TPU available: False, using: 0 TPU cores\n",
      "HPU available: False, using: 0 HPUs\n",
      "/Users/mjlee/master_thesis/Thesis_project/thesispjt/thesis-impute/lib/python3.12/site-packages/lightning/pytorch/trainer/connectors/data_connector.py:433: The 'train_dataloader' does not have many workers which may be a bottleneck. Consider increasing the value of the `num_workers` argument` to `num_workers=7` in the `DataLoader` to improve performance.\n",
      "/Users/mjlee/master_thesis/Thesis_project/thesispjt/thesis-impute/lib/python3.12/site-packages/lightning/pytorch/loops/fit_loop.py:310: The number of training batches (1) is smaller than the logging interval Trainer(log_every_n_steps=10). Set a lower value for log_every_n_steps if you want to see logs for the training epoch.\n"
     ]
    },
    {
     "data": {
      "application/vnd.jupyter.widget-view+json": {
       "model_id": "9b215dfffd294c7f8f559a8e5707bd0c",
       "version_major": 2,
       "version_minor": 0
      },
      "text/plain": [
       "Training:   0%|          | 0/150 [00:00<?, ?it/s]"
      ]
     },
     "metadata": {},
     "output_type": "display_data"
    },
    {
     "name": "stdout",
     "output_type": "stream",
     "text": [
      "2025-09-15 09:32:00 | [time] [scVI] train end in 0.23s\n",
      "2025-09-15 09:32:00 | [scVI] predict_mean\n",
      "2025-09-15 09:32:00 | [time] [scVI] get_likelihood_parameters start\n",
      "\u001b[34mINFO    \u001b[0m Input AnnData not setup with scvi-tools. attempting to transfer AnnData setup                             \n",
      "2025-09-15 09:32:00 | [time] [scVI] get_likelihood_parameters end in 0.02s\n",
      "\u001b[34mINFO    \u001b[0m Input AnnData not setup with scvi-tools. attempting to transfer AnnData setup                             \n",
      "2025-09-15 09:32:00 | [scVI] predict_mean\n",
      "2025-09-15 09:32:00 | [time] [scVI] get_likelihood_parameters start\n",
      "\u001b[34mINFO    \u001b[0m Input AnnData not setup with scvi-tools. attempting to transfer AnnData setup                             \n",
      "2025-09-15 09:32:00 | [time] [scVI] get_likelihood_parameters end in 0.01s\n",
      "2025-09-15 09:32:00 | [scVI] predict_mean\n",
      "2025-09-15 09:32:00 | [time] [scVI] get_likelihood_parameters start\n",
      "\u001b[34mINFO    \u001b[0m Input AnnData not setup with scvi-tools. attempting to transfer AnnData setup                             \n",
      "2025-09-15 09:32:00 | [time] [scVI] get_likelihood_parameters end in 0.02s\n",
      "2025-09-15 09:32:00 | [time] [scVI] fold 1/3 end in 0.68s\n",
      "2025-09-15 09:32:00 | [time] [scVI] fold 2/3 start\n",
      "2025-09-15 09:32:00 | [scVI] fold 2 | HVG=1500\n",
      "2025-09-15 09:32:00 | [scVI] fold 2 params={'batch_size': 512, 'dropout_rate': 0.0, 'lr': 0.001, 'max_epochs': 150, 'n_hidden': 256, 'n_latent': 32, 'n_layers': 2, 'use_gpu': True, 'weight_decay': 1e-06}\n",
      "2025-09-15 09:32:00 | [scVI] fit hp={'n_latent': 32, 'n_hidden': 256, 'n_layers': 2, 'dropout_rate': 0.0, 'max_epochs': 150, 'lr': 0.001, 'weight_decay': 1e-06, 'batch_size': 512, 'batch_key': 'BioProject', 'use_gpu': True}\n",
      "2025-09-15 09:32:00 | X_train: dense  (298, 1500) dtype=int64\n",
      "2025-09-15 09:32:00 | [time] [scVI] train start\n"
     ]
    },
    {
     "name": "stderr",
     "output_type": "stream",
     "text": [
      "/Users/mjlee/master_thesis/Thesis_project/thesispjt/thesis-impute/lib/python3.12/site-packages/legacy_api_wrap/__init__.py:82: UserWarning: `flavor='seurat_v3'` expects raw count data, but non-integers were found.\n",
      "  return fn(*args_all, **kw)\n",
      "/Users/mjlee/master_thesis/Thesis_project/thesispjt/thesis-impute/lib/python3.12/site-packages/scvi/train/_trainrunner.py:82: UserWarning: `accelerator` has been set to `mps`. Please note that not all PyTorch/Jax operations are supported with this backend. as a result, some models might be slower and less accurate than usuall. Please verify your analysis!Refer to https://github.com/pytorch/pytorch/issues/77764 for more details.\n",
      "  accelerator, lightning_devices, device = parse_device_args(\n",
      "GPU available: True (mps), used: True\n",
      "TPU available: False, using: 0 TPU cores\n",
      "HPU available: False, using: 0 HPUs\n",
      "/Users/mjlee/master_thesis/Thesis_project/thesispjt/thesis-impute/lib/python3.12/site-packages/lightning/pytorch/trainer/connectors/data_connector.py:433: The 'train_dataloader' does not have many workers which may be a bottleneck. Consider increasing the value of the `num_workers` argument` to `num_workers=7` in the `DataLoader` to improve performance.\n",
      "/Users/mjlee/master_thesis/Thesis_project/thesispjt/thesis-impute/lib/python3.12/site-packages/lightning/pytorch/loops/fit_loop.py:310: The number of training batches (1) is smaller than the logging interval Trainer(log_every_n_steps=10). Set a lower value for log_every_n_steps if you want to see logs for the training epoch.\n"
     ]
    },
    {
     "data": {
      "application/vnd.jupyter.widget-view+json": {
       "model_id": "3df5789e58ce49d29f447748038c0c56",
       "version_major": 2,
       "version_minor": 0
      },
      "text/plain": [
       "Training:   0%|          | 0/150 [00:00<?, ?it/s]"
      ]
     },
     "metadata": {},
     "output_type": "display_data"
    },
    {
     "name": "stdout",
     "output_type": "stream",
     "text": [
      "2025-09-15 09:32:00 | [time] [scVI] train end in 0.19s\n",
      "2025-09-15 09:32:00 | [scVI] predict_mean\n",
      "2025-09-15 09:32:00 | [time] [scVI] get_likelihood_parameters start\n",
      "\u001b[34mINFO    \u001b[0m Input AnnData not setup with scvi-tools. attempting to transfer AnnData setup                             \n",
      "2025-09-15 09:32:00 | [time] [scVI] get_likelihood_parameters end in 0.01s\n",
      "\u001b[34mINFO    \u001b[0m Input AnnData not setup with scvi-tools. attempting to transfer AnnData setup                             \n",
      "2025-09-15 09:32:00 | [scVI] predict_mean\n",
      "2025-09-15 09:32:00 | [time] [scVI] get_likelihood_parameters start\n",
      "\u001b[34mINFO    \u001b[0m Input AnnData not setup with scvi-tools. attempting to transfer AnnData setup                             \n",
      "2025-09-15 09:32:00 | [time] [scVI] get_likelihood_parameters end in 0.01s\n",
      "2025-09-15 09:32:01 | [scVI] predict_mean\n",
      "2025-09-15 09:32:01 | [time] [scVI] get_likelihood_parameters start\n",
      "\u001b[34mINFO    \u001b[0m Input AnnData not setup with scvi-tools. attempting to transfer AnnData setup                             \n",
      "2025-09-15 09:32:01 | [time] [scVI] get_likelihood_parameters end in 0.02s\n",
      "2025-09-15 09:32:01 | [time] [scVI] fold 2/3 end in 0.63s\n",
      "2025-09-15 09:32:01 | [time] [scVI] fold 3/3 start\n",
      "2025-09-15 09:32:01 | [scVI] fold 3 | HVG=1500\n",
      "2025-09-15 09:32:01 | [scVI] fold 3 params={'batch_size': 512, 'dropout_rate': 0.0, 'lr': 0.001, 'max_epochs': 150, 'n_hidden': 256, 'n_latent': 32, 'n_layers': 2, 'use_gpu': True, 'weight_decay': 1e-06}\n",
      "2025-09-15 09:32:01 | [scVI] fit hp={'n_latent': 32, 'n_hidden': 256, 'n_layers': 2, 'dropout_rate': 0.0, 'max_epochs': 150, 'lr': 0.001, 'weight_decay': 1e-06, 'batch_size': 512, 'batch_key': 'BioProject', 'use_gpu': True}\n",
      "2025-09-15 09:32:01 | X_train: dense  (298, 1500) dtype=int64\n",
      "2025-09-15 09:32:01 | [time] [scVI] train start\n"
     ]
    },
    {
     "name": "stderr",
     "output_type": "stream",
     "text": [
      "/Users/mjlee/master_thesis/Thesis_project/thesispjt/thesis-impute/lib/python3.12/site-packages/legacy_api_wrap/__init__.py:82: UserWarning: `flavor='seurat_v3'` expects raw count data, but non-integers were found.\n",
      "  return fn(*args_all, **kw)\n",
      "/Users/mjlee/master_thesis/Thesis_project/thesispjt/thesis-impute/lib/python3.12/site-packages/scvi/train/_trainrunner.py:82: UserWarning: `accelerator` has been set to `mps`. Please note that not all PyTorch/Jax operations are supported with this backend. as a result, some models might be slower and less accurate than usuall. Please verify your analysis!Refer to https://github.com/pytorch/pytorch/issues/77764 for more details.\n",
      "  accelerator, lightning_devices, device = parse_device_args(\n",
      "GPU available: True (mps), used: True\n",
      "TPU available: False, using: 0 TPU cores\n",
      "HPU available: False, using: 0 HPUs\n",
      "/Users/mjlee/master_thesis/Thesis_project/thesispjt/thesis-impute/lib/python3.12/site-packages/lightning/pytorch/trainer/connectors/data_connector.py:433: The 'train_dataloader' does not have many workers which may be a bottleneck. Consider increasing the value of the `num_workers` argument` to `num_workers=7` in the `DataLoader` to improve performance.\n",
      "/Users/mjlee/master_thesis/Thesis_project/thesispjt/thesis-impute/lib/python3.12/site-packages/lightning/pytorch/loops/fit_loop.py:310: The number of training batches (1) is smaller than the logging interval Trainer(log_every_n_steps=10). Set a lower value for log_every_n_steps if you want to see logs for the training epoch.\n"
     ]
    },
    {
     "data": {
      "application/vnd.jupyter.widget-view+json": {
       "model_id": "971d1a510ab14e5095c9a5a276e8e553",
       "version_major": 2,
       "version_minor": 0
      },
      "text/plain": [
       "Training:   0%|          | 0/150 [00:00<?, ?it/s]"
      ]
     },
     "metadata": {},
     "output_type": "display_data"
    },
    {
     "name": "stdout",
     "output_type": "stream",
     "text": [
      "2025-09-15 09:32:01 | [time] [scVI] train end in 0.23s\n",
      "2025-09-15 09:32:01 | [scVI] predict_mean\n",
      "2025-09-15 09:32:01 | [time] [scVI] get_likelihood_parameters start\n",
      "\u001b[34mINFO    \u001b[0m Input AnnData not setup with scvi-tools. attempting to transfer AnnData setup                             \n",
      "2025-09-15 09:32:01 | [time] [scVI] get_likelihood_parameters end in 0.01s\n",
      "\u001b[34mINFO    \u001b[0m Input AnnData not setup with scvi-tools. attempting to transfer AnnData setup                             \n",
      "2025-09-15 09:32:01 | [scVI] predict_mean\n",
      "2025-09-15 09:32:01 | [time] [scVI] get_likelihood_parameters start\n",
      "\u001b[34mINFO    \u001b[0m Input AnnData not setup with scvi-tools. attempting to transfer AnnData setup                             \n",
      "2025-09-15 09:32:01 | [time] [scVI] get_likelihood_parameters end in 0.01s\n",
      "2025-09-15 09:32:01 | [scVI] predict_mean\n",
      "2025-09-15 09:32:01 | [time] [scVI] get_likelihood_parameters start\n",
      "\u001b[34mINFO    \u001b[0m Input AnnData not setup with scvi-tools. attempting to transfer AnnData setup                             \n",
      "2025-09-15 09:32:01 | [time] [scVI] get_likelihood_parameters end in 0.01s\n",
      "2025-09-15 09:32:01 | [time] [scVI] fold 3/3 end in 0.68s\n",
      "2025-09-15 09:32:01 | [cv_scvi_5fold] done\n"
     ]
    },
    {
     "name": "stderr",
     "output_type": "stream",
     "text": [
      "[W 2025-09-15 09:32:01,721] Trial 15 failed with parameters: {'n_latent': 32, 'n_hidden': 256, 'n_layers': 2, 'dropout_rate': 0.0, 'max_epochs': 150, 'lr': 0.001, 'weight_decay': 1e-06, 'batch_size': 512, 'n_hvg': 1500} because of the following error: The value   model  n_hvg     MAE_zero      MSE_zero  MedianL1_zero  NB_ll_zero  \\\n",
      "0  scVI   1500  1076.309507  1.616415e+08      308.98881   -7.832645   \n",
      "\n",
      "   NB_dev_zero   MAE_thin       MSE_thin  MedianL1_thin  NB_ll_thin  \\\n",
      "0     6.798814  67.442556  773886.065551      29.792045   -2.915646   \n",
      "\n",
      "   NB_dev_thin Silhouette                                             params  \n",
      "0     4.068644        NaN  {'batch_size': 512, 'dropout_rate': 0.0, 'lr':...   could not be cast to float.\n",
      "[W 2025-09-15 09:32:01,723] Trial 15 failed with value (  model  n_hvg     MAE_zero      MSE_zero  MedianL1_zero  NB_ll_zero  \\\n",
      "0  scVI   1500  1076.309507  1.616415e+08      308.98881   -7.832645   \n",
      "\n",
      "   NB_dev_zero   MAE_thin       MSE_thin  MedianL1_thin  NB_ll_thin  \\\n",
      "0     6.798814  67.442556  773886.065551      29.792045   -2.915646   \n",
      "\n",
      "   NB_dev_thin Silhouette                                             params  \n",
      "0     4.068644        NaN  {'batch_size': 512, 'dropout_rate': 0.0, 'lr':...  ,    fold model                                             params  n_hvg  \\\n",
      "0     1  scVI  {'batch_size': 512, 'dropout_rate': 0.0, 'lr':...   1500   \n",
      "1     2  scVI  {'batch_size': 512, 'dropout_rate': 0.0, 'lr':...   1500   \n",
      "2     3  scVI  {'batch_size': 512, 'dropout_rate': 0.0, 'lr':...   1500   \n",
      "\n",
      "      MAE_zero      MSE_zero  MedianL1_zero  NB_ll_zero  NB_dev_zero  \\\n",
      "0  1056.679402  1.340079e+08     309.181686   -7.955952     7.083491   \n",
      "1  1163.337419  2.078544e+08     325.306625   -7.799764     6.684161   \n",
      "2  1008.911698  1.430621e+08     292.478119   -7.742219     6.628791   \n",
      "\n",
      "    MAE_thin       MSE_thin  MedianL1_thin  NB_ll_thin  NB_dev_thin Silhouette  \n",
      "0  67.314888  804453.377115      28.241529   -3.095001     4.447560       None  \n",
      "1  69.196464  807531.130699      31.697543   -2.823001     3.880504       None  \n",
      "2  65.816318  709673.688839      29.437063   -2.828936     3.877867       None  , -2.9156462216232146).\n"
     ]
    },
    {
     "name": "stdout",
     "output_type": "stream",
     "text": [
      "{'n_latent': [32], 'n_hidden': [256], 'n_layers': [2], 'dropout_rate': [0.1], 'max_epochs': [250], 'lr': [0.0005], 'weight_decay': [1e-05], 'batch_size': [512], 'use_gpu': [True]}\n",
      "2025-09-15 09:32:01 | [cv_scvi_5fold] start k=3 n_hvg=2000 mode=seurat_v3\n",
      "2025-09-15 09:32:01 | X_counts: dense  (447, 51777) dtype=int64\n",
      "2025-09-15 09:32:02 | X_counts: zeros=66.23%, approx_int=True\n",
      "2025-09-15 09:32:02 | [time] [scVI] fold 1/3 start\n",
      "2025-09-15 09:32:02 | [scVI] fold 1 | HVG=2000\n",
      "2025-09-15 09:32:02 | [scVI] fold 1 params={'batch_size': 512, 'dropout_rate': 0.1, 'lr': 0.0005, 'max_epochs': 250, 'n_hidden': 256, 'n_latent': 32, 'n_layers': 2, 'use_gpu': True, 'weight_decay': 1e-05}\n",
      "2025-09-15 09:32:02 | [scVI] fit hp={'n_latent': 32, 'n_hidden': 256, 'n_layers': 2, 'dropout_rate': 0.1, 'max_epochs': 250, 'lr': 0.0005, 'weight_decay': 1e-05, 'batch_size': 512, 'batch_key': 'BioProject', 'use_gpu': True}\n",
      "2025-09-15 09:32:02 | X_train: dense  (298, 2000) dtype=int64\n",
      "2025-09-15 09:32:02 | [time] [scVI] train start\n"
     ]
    },
    {
     "name": "stderr",
     "output_type": "stream",
     "text": [
      "/Users/mjlee/master_thesis/Thesis_project/thesispjt/thesis-impute/lib/python3.12/site-packages/legacy_api_wrap/__init__.py:82: UserWarning: `flavor='seurat_v3'` expects raw count data, but non-integers were found.\n",
      "  return fn(*args_all, **kw)\n",
      "/Users/mjlee/master_thesis/Thesis_project/thesispjt/thesis-impute/lib/python3.12/site-packages/scvi/train/_trainrunner.py:82: UserWarning: `accelerator` has been set to `mps`. Please note that not all PyTorch/Jax operations are supported with this backend. as a result, some models might be slower and less accurate than usuall. Please verify your analysis!Refer to https://github.com/pytorch/pytorch/issues/77764 for more details.\n",
      "  accelerator, lightning_devices, device = parse_device_args(\n",
      "GPU available: True (mps), used: True\n",
      "TPU available: False, using: 0 TPU cores\n",
      "HPU available: False, using: 0 HPUs\n",
      "/Users/mjlee/master_thesis/Thesis_project/thesispjt/thesis-impute/lib/python3.12/site-packages/lightning/pytorch/trainer/connectors/data_connector.py:433: The 'train_dataloader' does not have many workers which may be a bottleneck. Consider increasing the value of the `num_workers` argument` to `num_workers=7` in the `DataLoader` to improve performance.\n",
      "/Users/mjlee/master_thesis/Thesis_project/thesispjt/thesis-impute/lib/python3.12/site-packages/lightning/pytorch/loops/fit_loop.py:310: The number of training batches (1) is smaller than the logging interval Trainer(log_every_n_steps=10). Set a lower value for log_every_n_steps if you want to see logs for the training epoch.\n"
     ]
    },
    {
     "data": {
      "application/vnd.jupyter.widget-view+json": {
       "model_id": "b117304487e34d8ba4922719d360521e",
       "version_major": 2,
       "version_minor": 0
      },
      "text/plain": [
       "Training:   0%|          | 0/250 [00:00<?, ?it/s]"
      ]
     },
     "metadata": {},
     "output_type": "display_data"
    },
    {
     "name": "stdout",
     "output_type": "stream",
     "text": [
      "2025-09-15 09:32:02 | [time] [scVI] train end in 0.20s\n",
      "2025-09-15 09:32:02 | [scVI] predict_mean\n",
      "2025-09-15 09:32:02 | [time] [scVI] get_likelihood_parameters start\n",
      "\u001b[34mINFO    \u001b[0m Input AnnData not setup with scvi-tools. attempting to transfer AnnData setup                             \n",
      "2025-09-15 09:32:02 | [time] [scVI] get_likelihood_parameters end in 0.02s\n",
      "\u001b[34mINFO    \u001b[0m Input AnnData not setup with scvi-tools. attempting to transfer AnnData setup                             \n",
      "2025-09-15 09:32:02 | [scVI] predict_mean\n",
      "2025-09-15 09:32:02 | [time] [scVI] get_likelihood_parameters start\n",
      "\u001b[34mINFO    \u001b[0m Input AnnData not setup with scvi-tools. attempting to transfer AnnData setup                             \n",
      "2025-09-15 09:32:02 | [time] [scVI] get_likelihood_parameters end in 0.01s\n",
      "2025-09-15 09:32:02 | [scVI] predict_mean\n",
      "2025-09-15 09:32:02 | [time] [scVI] get_likelihood_parameters start\n",
      "\u001b[34mINFO    \u001b[0m Input AnnData not setup with scvi-tools. attempting to transfer AnnData setup                             \n",
      "2025-09-15 09:32:02 | [time] [scVI] get_likelihood_parameters end in 0.01s\n",
      "2025-09-15 09:32:02 | [time] [scVI] fold 1/3 end in 0.66s\n",
      "2025-09-15 09:32:02 | [time] [scVI] fold 2/3 start\n",
      "2025-09-15 09:32:03 | [scVI] fold 2 | HVG=2000\n",
      "2025-09-15 09:32:03 | [scVI] fold 2 params={'batch_size': 512, 'dropout_rate': 0.1, 'lr': 0.0005, 'max_epochs': 250, 'n_hidden': 256, 'n_latent': 32, 'n_layers': 2, 'use_gpu': True, 'weight_decay': 1e-05}\n",
      "2025-09-15 09:32:03 | [scVI] fit hp={'n_latent': 32, 'n_hidden': 256, 'n_layers': 2, 'dropout_rate': 0.1, 'max_epochs': 250, 'lr': 0.0005, 'weight_decay': 1e-05, 'batch_size': 512, 'batch_key': 'BioProject', 'use_gpu': True}\n",
      "2025-09-15 09:32:03 | X_train: dense  (298, 2000) dtype=int64\n",
      "2025-09-15 09:32:03 | [time] [scVI] train start\n"
     ]
    },
    {
     "name": "stderr",
     "output_type": "stream",
     "text": [
      "/Users/mjlee/master_thesis/Thesis_project/thesispjt/thesis-impute/lib/python3.12/site-packages/legacy_api_wrap/__init__.py:82: UserWarning: `flavor='seurat_v3'` expects raw count data, but non-integers were found.\n",
      "  return fn(*args_all, **kw)\n",
      "/Users/mjlee/master_thesis/Thesis_project/thesispjt/thesis-impute/lib/python3.12/site-packages/scvi/train/_trainrunner.py:82: UserWarning: `accelerator` has been set to `mps`. Please note that not all PyTorch/Jax operations are supported with this backend. as a result, some models might be slower and less accurate than usuall. Please verify your analysis!Refer to https://github.com/pytorch/pytorch/issues/77764 for more details.\n",
      "  accelerator, lightning_devices, device = parse_device_args(\n",
      "GPU available: True (mps), used: True\n",
      "TPU available: False, using: 0 TPU cores\n",
      "HPU available: False, using: 0 HPUs\n",
      "/Users/mjlee/master_thesis/Thesis_project/thesispjt/thesis-impute/lib/python3.12/site-packages/lightning/pytorch/trainer/connectors/data_connector.py:433: The 'train_dataloader' does not have many workers which may be a bottleneck. Consider increasing the value of the `num_workers` argument` to `num_workers=7` in the `DataLoader` to improve performance.\n",
      "/Users/mjlee/master_thesis/Thesis_project/thesispjt/thesis-impute/lib/python3.12/site-packages/lightning/pytorch/loops/fit_loop.py:310: The number of training batches (1) is smaller than the logging interval Trainer(log_every_n_steps=10). Set a lower value for log_every_n_steps if you want to see logs for the training epoch.\n"
     ]
    },
    {
     "data": {
      "application/vnd.jupyter.widget-view+json": {
       "model_id": "596ff909cdce4a7baa1184a593cb46b4",
       "version_major": 2,
       "version_minor": 0
      },
      "text/plain": [
       "Training:   0%|          | 0/250 [00:00<?, ?it/s]"
      ]
     },
     "metadata": {},
     "output_type": "display_data"
    },
    {
     "name": "stdout",
     "output_type": "stream",
     "text": [
      "2025-09-15 09:32:03 | [time] [scVI] train end in 0.19s\n",
      "2025-09-15 09:32:03 | [scVI] predict_mean\n",
      "2025-09-15 09:32:03 | [time] [scVI] get_likelihood_parameters start\n",
      "\u001b[34mINFO    \u001b[0m Input AnnData not setup with scvi-tools. attempting to transfer AnnData setup                             \n",
      "2025-09-15 09:32:03 | [time] [scVI] get_likelihood_parameters end in 0.02s\n",
      "\u001b[34mINFO    \u001b[0m Input AnnData not setup with scvi-tools. attempting to transfer AnnData setup                             \n",
      "2025-09-15 09:32:03 | [scVI] predict_mean\n",
      "2025-09-15 09:32:03 | [time] [scVI] get_likelihood_parameters start\n",
      "\u001b[34mINFO    \u001b[0m Input AnnData not setup with scvi-tools. attempting to transfer AnnData setup                             \n",
      "2025-09-15 09:32:03 | [time] [scVI] get_likelihood_parameters end in 0.02s\n",
      "2025-09-15 09:32:03 | [scVI] predict_mean\n",
      "2025-09-15 09:32:03 | [time] [scVI] get_likelihood_parameters start\n",
      "\u001b[34mINFO    \u001b[0m Input AnnData not setup with scvi-tools. attempting to transfer AnnData setup                             \n",
      "2025-09-15 09:32:03 | [time] [scVI] get_likelihood_parameters end in 0.01s\n",
      "2025-09-15 09:32:03 | [time] [scVI] fold 2/3 end in 0.68s\n",
      "2025-09-15 09:32:03 | [time] [scVI] fold 3/3 start\n",
      "2025-09-15 09:32:03 | [scVI] fold 3 | HVG=2000\n",
      "2025-09-15 09:32:03 | [scVI] fold 3 params={'batch_size': 512, 'dropout_rate': 0.1, 'lr': 0.0005, 'max_epochs': 250, 'n_hidden': 256, 'n_latent': 32, 'n_layers': 2, 'use_gpu': True, 'weight_decay': 1e-05}\n",
      "2025-09-15 09:32:03 | [scVI] fit hp={'n_latent': 32, 'n_hidden': 256, 'n_layers': 2, 'dropout_rate': 0.1, 'max_epochs': 250, 'lr': 0.0005, 'weight_decay': 1e-05, 'batch_size': 512, 'batch_key': 'BioProject', 'use_gpu': True}\n",
      "2025-09-15 09:32:03 | X_train: dense  (298, 2000) dtype=int64\n",
      "2025-09-15 09:32:03 | [time] [scVI] train start\n"
     ]
    },
    {
     "name": "stderr",
     "output_type": "stream",
     "text": [
      "/Users/mjlee/master_thesis/Thesis_project/thesispjt/thesis-impute/lib/python3.12/site-packages/legacy_api_wrap/__init__.py:82: UserWarning: `flavor='seurat_v3'` expects raw count data, but non-integers were found.\n",
      "  return fn(*args_all, **kw)\n",
      "/Users/mjlee/master_thesis/Thesis_project/thesispjt/thesis-impute/lib/python3.12/site-packages/scvi/train/_trainrunner.py:82: UserWarning: `accelerator` has been set to `mps`. Please note that not all PyTorch/Jax operations are supported with this backend. as a result, some models might be slower and less accurate than usuall. Please verify your analysis!Refer to https://github.com/pytorch/pytorch/issues/77764 for more details.\n",
      "  accelerator, lightning_devices, device = parse_device_args(\n",
      "GPU available: True (mps), used: True\n",
      "TPU available: False, using: 0 TPU cores\n",
      "HPU available: False, using: 0 HPUs\n",
      "/Users/mjlee/master_thesis/Thesis_project/thesispjt/thesis-impute/lib/python3.12/site-packages/lightning/pytorch/trainer/connectors/data_connector.py:433: The 'train_dataloader' does not have many workers which may be a bottleneck. Consider increasing the value of the `num_workers` argument` to `num_workers=7` in the `DataLoader` to improve performance.\n",
      "/Users/mjlee/master_thesis/Thesis_project/thesispjt/thesis-impute/lib/python3.12/site-packages/lightning/pytorch/loops/fit_loop.py:310: The number of training batches (1) is smaller than the logging interval Trainer(log_every_n_steps=10). Set a lower value for log_every_n_steps if you want to see logs for the training epoch.\n"
     ]
    },
    {
     "data": {
      "application/vnd.jupyter.widget-view+json": {
       "model_id": "b3012147ba294610b92171c25b7d0787",
       "version_major": 2,
       "version_minor": 0
      },
      "text/plain": [
       "Training:   0%|          | 0/250 [00:00<?, ?it/s]"
      ]
     },
     "metadata": {},
     "output_type": "display_data"
    },
    {
     "name": "stdout",
     "output_type": "stream",
     "text": [
      "2025-09-15 09:32:03 | [time] [scVI] train end in 0.23s\n",
      "2025-09-15 09:32:03 | [scVI] predict_mean\n",
      "2025-09-15 09:32:03 | [time] [scVI] get_likelihood_parameters start\n",
      "\u001b[34mINFO    \u001b[0m Input AnnData not setup with scvi-tools. attempting to transfer AnnData setup                             \n",
      "2025-09-15 09:32:03 | [time] [scVI] get_likelihood_parameters end in 0.02s\n",
      "\u001b[34mINFO    \u001b[0m Input AnnData not setup with scvi-tools. attempting to transfer AnnData setup                             \n",
      "2025-09-15 09:32:04 | [scVI] predict_mean\n",
      "2025-09-15 09:32:04 | [time] [scVI] get_likelihood_parameters start\n",
      "\u001b[34mINFO    \u001b[0m Input AnnData not setup with scvi-tools. attempting to transfer AnnData setup                             \n",
      "2025-09-15 09:32:04 | [time] [scVI] get_likelihood_parameters end in 0.02s\n",
      "2025-09-15 09:32:04 | [scVI] predict_mean\n",
      "2025-09-15 09:32:04 | [time] [scVI] get_likelihood_parameters start\n",
      "\u001b[34mINFO    \u001b[0m Input AnnData not setup with scvi-tools. attempting to transfer AnnData setup                             \n",
      "2025-09-15 09:32:04 | [time] [scVI] get_likelihood_parameters end in 0.02s\n",
      "2025-09-15 09:32:04 | [time] [scVI] fold 3/3 end in 0.69s\n",
      "2025-09-15 09:32:04 | [cv_scvi_5fold] done\n"
     ]
    },
    {
     "name": "stderr",
     "output_type": "stream",
     "text": [
      "[W 2025-09-15 09:32:04,080] Trial 16 failed with parameters: {'n_latent': 32, 'n_hidden': 256, 'n_layers': 2, 'dropout_rate': 0.1, 'max_epochs': 250, 'lr': 0.0005, 'weight_decay': 1e-05, 'batch_size': 512, 'n_hvg': 2000} because of the following error: The value   model  n_hvg    MAE_zero      MSE_zero  MedianL1_zero  NB_ll_zero  \\\n",
      "0  scVI   2000  901.507902  1.336852e+08     258.775925   -7.911826   \n",
      "\n",
      "   NB_dev_zero   MAE_thin      MSE_thin  MedianL1_thin  NB_ll_thin  \\\n",
      "0     7.189039  55.150859  585811.01244       24.70184   -2.931787   \n",
      "\n",
      "   NB_dev_thin Silhouette                                             params  \n",
      "0     4.205757        NaN  {'batch_size': 512, 'dropout_rate': 0.1, 'lr':...   could not be cast to float.\n",
      "[W 2025-09-15 09:32:04,083] Trial 16 failed with value (  model  n_hvg    MAE_zero      MSE_zero  MedianL1_zero  NB_ll_zero  \\\n",
      "0  scVI   2000  901.507902  1.336852e+08     258.775925   -7.911826   \n",
      "\n",
      "   NB_dev_zero   MAE_thin      MSE_thin  MedianL1_thin  NB_ll_thin  \\\n",
      "0     7.189039  55.150859  585811.01244       24.70184   -2.931787   \n",
      "\n",
      "   NB_dev_thin Silhouette                                             params  \n",
      "0     4.205757        NaN  {'batch_size': 512, 'dropout_rate': 0.1, 'lr':...  ,    fold model                                             params  n_hvg  \\\n",
      "0     1  scVI  {'batch_size': 512, 'dropout_rate': 0.1, 'lr':...   2000   \n",
      "1     2  scVI  {'batch_size': 512, 'dropout_rate': 0.1, 'lr':...   2000   \n",
      "2     3  scVI  {'batch_size': 512, 'dropout_rate': 0.1, 'lr':...   2000   \n",
      "\n",
      "      MAE_zero      MSE_zero  MedianL1_zero  NB_ll_zero  NB_dev_zero  \\\n",
      "0   849.730858  1.060698e+08     254.437469   -8.127705     7.647442   \n",
      "1  1065.096442  1.839231e+08     288.895996   -8.502126     8.274239   \n",
      "2   789.696407  1.110628e+08     232.994308   -7.105646     5.645436   \n",
      "\n",
      "    MAE_thin       MSE_thin  MedianL1_thin  NB_ll_thin  NB_dev_thin Silhouette  \n",
      "0  54.245212  605446.206048      23.349751   -3.105091     4.547994       None  \n",
      "1  60.173594  619621.676122      27.997199   -3.038219     4.396136       None  \n",
      "2  51.033771  532365.155150      22.758571   -2.652050     3.673141       None  , -2.9317867745675716).\n"
     ]
    },
    {
     "name": "stdout",
     "output_type": "stream",
     "text": [
      "{'n_latent': [32], 'n_hidden': [128], 'n_layers': [2], 'dropout_rate': [0.1], 'max_epochs': [250], 'lr': [0.0005], 'weight_decay': [1e-05], 'batch_size': [256], 'use_gpu': [True]}\n",
      "2025-09-15 09:32:04 | [cv_scvi_5fold] start k=3 n_hvg=1500 mode=seurat_v3\n",
      "2025-09-15 09:32:04 | X_counts: dense  (447, 51777) dtype=int64\n",
      "2025-09-15 09:32:04 | X_counts: zeros=66.23%, approx_int=True\n",
      "2025-09-15 09:32:04 | [time] [scVI] fold 1/3 start\n",
      "2025-09-15 09:32:04 | [scVI] fold 1 | HVG=1500\n",
      "2025-09-15 09:32:04 | [scVI] fold 1 params={'batch_size': 256, 'dropout_rate': 0.1, 'lr': 0.0005, 'max_epochs': 250, 'n_hidden': 128, 'n_latent': 32, 'n_layers': 2, 'use_gpu': True, 'weight_decay': 1e-05}\n",
      "2025-09-15 09:32:04 | [scVI] fit hp={'n_latent': 32, 'n_hidden': 128, 'n_layers': 2, 'dropout_rate': 0.1, 'max_epochs': 250, 'lr': 0.0005, 'weight_decay': 1e-05, 'batch_size': 256, 'batch_key': 'BioProject', 'use_gpu': True}\n",
      "2025-09-15 09:32:04 | X_train: dense  (298, 1500) dtype=int64\n",
      "2025-09-15 09:32:04 | [time] [scVI] train start\n"
     ]
    },
    {
     "name": "stderr",
     "output_type": "stream",
     "text": [
      "/Users/mjlee/master_thesis/Thesis_project/thesispjt/thesis-impute/lib/python3.12/site-packages/legacy_api_wrap/__init__.py:82: UserWarning: `flavor='seurat_v3'` expects raw count data, but non-integers were found.\n",
      "  return fn(*args_all, **kw)\n",
      "/Users/mjlee/master_thesis/Thesis_project/thesispjt/thesis-impute/lib/python3.12/site-packages/scvi/train/_trainrunner.py:82: UserWarning: `accelerator` has been set to `mps`. Please note that not all PyTorch/Jax operations are supported with this backend. as a result, some models might be slower and less accurate than usuall. Please verify your analysis!Refer to https://github.com/pytorch/pytorch/issues/77764 for more details.\n",
      "  accelerator, lightning_devices, device = parse_device_args(\n",
      "GPU available: True (mps), used: True\n",
      "TPU available: False, using: 0 TPU cores\n",
      "HPU available: False, using: 0 HPUs\n",
      "/Users/mjlee/master_thesis/Thesis_project/thesispjt/thesis-impute/lib/python3.12/site-packages/lightning/pytorch/trainer/connectors/data_connector.py:433: The 'train_dataloader' does not have many workers which may be a bottleneck. Consider increasing the value of the `num_workers` argument` to `num_workers=7` in the `DataLoader` to improve performance.\n",
      "/Users/mjlee/master_thesis/Thesis_project/thesispjt/thesis-impute/lib/python3.12/site-packages/lightning/pytorch/loops/fit_loop.py:310: The number of training batches (2) is smaller than the logging interval Trainer(log_every_n_steps=10). Set a lower value for log_every_n_steps if you want to see logs for the training epoch.\n"
     ]
    },
    {
     "data": {
      "application/vnd.jupyter.widget-view+json": {
       "model_id": "f829eb15158741e88198059576e1f861",
       "version_major": 2,
       "version_minor": 0
      },
      "text/plain": [
       "Training:   0%|          | 0/250 [00:00<?, ?it/s]"
      ]
     },
     "metadata": {},
     "output_type": "display_data"
    },
    {
     "name": "stdout",
     "output_type": "stream",
     "text": [
      "2025-09-15 09:32:04 | [time] [scVI] train end in 0.20s\n",
      "2025-09-15 09:32:04 | [scVI] predict_mean\n",
      "2025-09-15 09:32:04 | [time] [scVI] get_likelihood_parameters start\n",
      "\u001b[34mINFO    \u001b[0m Input AnnData not setup with scvi-tools. attempting to transfer AnnData setup                             \n",
      "2025-09-15 09:32:04 | [time] [scVI] get_likelihood_parameters end in 0.02s\n",
      "\u001b[34mINFO    \u001b[0m Input AnnData not setup with scvi-tools. attempting to transfer AnnData setup                             \n",
      "2025-09-15 09:32:04 | [scVI] predict_mean\n",
      "2025-09-15 09:32:04 | [time] [scVI] get_likelihood_parameters start\n",
      "\u001b[34mINFO    \u001b[0m Input AnnData not setup with scvi-tools. attempting to transfer AnnData setup                             \n",
      "2025-09-15 09:32:05 | [time] [scVI] get_likelihood_parameters end in 0.01s\n",
      "2025-09-15 09:32:05 | [scVI] predict_mean\n",
      "2025-09-15 09:32:05 | [time] [scVI] get_likelihood_parameters start\n",
      "\u001b[34mINFO    \u001b[0m Input AnnData not setup with scvi-tools. attempting to transfer AnnData setup                             \n",
      "2025-09-15 09:32:05 | [time] [scVI] get_likelihood_parameters end in 0.01s\n",
      "2025-09-15 09:32:05 | [time] [scVI] fold 1/3 end in 0.65s\n",
      "2025-09-15 09:32:05 | [time] [scVI] fold 2/3 start\n",
      "2025-09-15 09:32:05 | [scVI] fold 2 | HVG=1500\n",
      "2025-09-15 09:32:05 | [scVI] fold 2 params={'batch_size': 256, 'dropout_rate': 0.1, 'lr': 0.0005, 'max_epochs': 250, 'n_hidden': 128, 'n_latent': 32, 'n_layers': 2, 'use_gpu': True, 'weight_decay': 1e-05}\n",
      "2025-09-15 09:32:05 | [scVI] fit hp={'n_latent': 32, 'n_hidden': 128, 'n_layers': 2, 'dropout_rate': 0.1, 'max_epochs': 250, 'lr': 0.0005, 'weight_decay': 1e-05, 'batch_size': 256, 'batch_key': 'BioProject', 'use_gpu': True}\n",
      "2025-09-15 09:32:05 | X_train: dense  (298, 1500) dtype=int64\n",
      "2025-09-15 09:32:05 | [time] [scVI] train start\n"
     ]
    },
    {
     "name": "stderr",
     "output_type": "stream",
     "text": [
      "/Users/mjlee/master_thesis/Thesis_project/thesispjt/thesis-impute/lib/python3.12/site-packages/legacy_api_wrap/__init__.py:82: UserWarning: `flavor='seurat_v3'` expects raw count data, but non-integers were found.\n",
      "  return fn(*args_all, **kw)\n",
      "/Users/mjlee/master_thesis/Thesis_project/thesispjt/thesis-impute/lib/python3.12/site-packages/scvi/train/_trainrunner.py:82: UserWarning: `accelerator` has been set to `mps`. Please note that not all PyTorch/Jax operations are supported with this backend. as a result, some models might be slower and less accurate than usuall. Please verify your analysis!Refer to https://github.com/pytorch/pytorch/issues/77764 for more details.\n",
      "  accelerator, lightning_devices, device = parse_device_args(\n",
      "GPU available: True (mps), used: True\n",
      "TPU available: False, using: 0 TPU cores\n",
      "HPU available: False, using: 0 HPUs\n",
      "/Users/mjlee/master_thesis/Thesis_project/thesispjt/thesis-impute/lib/python3.12/site-packages/lightning/pytorch/trainer/connectors/data_connector.py:433: The 'train_dataloader' does not have many workers which may be a bottleneck. Consider increasing the value of the `num_workers` argument` to `num_workers=7` in the `DataLoader` to improve performance.\n",
      "/Users/mjlee/master_thesis/Thesis_project/thesispjt/thesis-impute/lib/python3.12/site-packages/lightning/pytorch/loops/fit_loop.py:310: The number of training batches (2) is smaller than the logging interval Trainer(log_every_n_steps=10). Set a lower value for log_every_n_steps if you want to see logs for the training epoch.\n"
     ]
    },
    {
     "data": {
      "application/vnd.jupyter.widget-view+json": {
       "model_id": "80b6af9b229740e2bd5ff39f53316476",
       "version_major": 2,
       "version_minor": 0
      },
      "text/plain": [
       "Training:   0%|          | 0/250 [00:00<?, ?it/s]"
      ]
     },
     "metadata": {},
     "output_type": "display_data"
    },
    {
     "name": "stdout",
     "output_type": "stream",
     "text": [
      "2025-09-15 09:32:05 | [time] [scVI] train end in 0.22s\n",
      "2025-09-15 09:32:05 | [scVI] predict_mean\n",
      "2025-09-15 09:32:05 | [time] [scVI] get_likelihood_parameters start\n",
      "\u001b[34mINFO    \u001b[0m Input AnnData not setup with scvi-tools. attempting to transfer AnnData setup                             \n",
      "2025-09-15 09:32:05 | [time] [scVI] get_likelihood_parameters end in 0.01s\n",
      "\u001b[34mINFO    \u001b[0m Input AnnData not setup with scvi-tools. attempting to transfer AnnData setup                             \n",
      "2025-09-15 09:32:05 | [scVI] predict_mean\n",
      "2025-09-15 09:32:05 | [time] [scVI] get_likelihood_parameters start\n",
      "\u001b[34mINFO    \u001b[0m Input AnnData not setup with scvi-tools. attempting to transfer AnnData setup                             \n",
      "2025-09-15 09:32:05 | [time] [scVI] get_likelihood_parameters end in 0.01s\n",
      "2025-09-15 09:32:05 | [scVI] predict_mean\n",
      "2025-09-15 09:32:05 | [time] [scVI] get_likelihood_parameters start\n",
      "\u001b[34mINFO    \u001b[0m Input AnnData not setup with scvi-tools. attempting to transfer AnnData setup                             \n",
      "2025-09-15 09:32:05 | [time] [scVI] get_likelihood_parameters end in 0.01s\n",
      "2025-09-15 09:32:05 | [time] [scVI] fold 2/3 end in 0.66s\n",
      "2025-09-15 09:32:05 | [time] [scVI] fold 3/3 start\n",
      "2025-09-15 09:32:06 | [scVI] fold 3 | HVG=1500\n",
      "2025-09-15 09:32:06 | [scVI] fold 3 params={'batch_size': 256, 'dropout_rate': 0.1, 'lr': 0.0005, 'max_epochs': 250, 'n_hidden': 128, 'n_latent': 32, 'n_layers': 2, 'use_gpu': True, 'weight_decay': 1e-05}\n",
      "2025-09-15 09:32:06 | [scVI] fit hp={'n_latent': 32, 'n_hidden': 128, 'n_layers': 2, 'dropout_rate': 0.1, 'max_epochs': 250, 'lr': 0.0005, 'weight_decay': 1e-05, 'batch_size': 256, 'batch_key': 'BioProject', 'use_gpu': True}\n",
      "2025-09-15 09:32:06 | X_train: dense  (298, 1500) dtype=int64\n"
     ]
    },
    {
     "name": "stderr",
     "output_type": "stream",
     "text": [
      "/Users/mjlee/master_thesis/Thesis_project/thesispjt/thesis-impute/lib/python3.12/site-packages/legacy_api_wrap/__init__.py:82: UserWarning: `flavor='seurat_v3'` expects raw count data, but non-integers were found.\n",
      "  return fn(*args_all, **kw)\n"
     ]
    },
    {
     "name": "stdout",
     "output_type": "stream",
     "text": [
      "2025-09-15 09:32:06 | [time] [scVI] train start\n"
     ]
    },
    {
     "name": "stderr",
     "output_type": "stream",
     "text": [
      "/Users/mjlee/master_thesis/Thesis_project/thesispjt/thesis-impute/lib/python3.12/site-packages/scvi/train/_trainrunner.py:82: UserWarning: `accelerator` has been set to `mps`. Please note that not all PyTorch/Jax operations are supported with this backend. as a result, some models might be slower and less accurate than usuall. Please verify your analysis!Refer to https://github.com/pytorch/pytorch/issues/77764 for more details.\n",
      "  accelerator, lightning_devices, device = parse_device_args(\n",
      "GPU available: True (mps), used: True\n",
      "TPU available: False, using: 0 TPU cores\n",
      "HPU available: False, using: 0 HPUs\n",
      "/Users/mjlee/master_thesis/Thesis_project/thesispjt/thesis-impute/lib/python3.12/site-packages/lightning/pytorch/trainer/connectors/data_connector.py:433: The 'train_dataloader' does not have many workers which may be a bottleneck. Consider increasing the value of the `num_workers` argument` to `num_workers=7` in the `DataLoader` to improve performance.\n",
      "/Users/mjlee/master_thesis/Thesis_project/thesispjt/thesis-impute/lib/python3.12/site-packages/lightning/pytorch/loops/fit_loop.py:310: The number of training batches (2) is smaller than the logging interval Trainer(log_every_n_steps=10). Set a lower value for log_every_n_steps if you want to see logs for the training epoch.\n"
     ]
    },
    {
     "data": {
      "application/vnd.jupyter.widget-view+json": {
       "model_id": "8dee89f01bd44d04aeed4736646272e0",
       "version_major": 2,
       "version_minor": 0
      },
      "text/plain": [
       "Training:   0%|          | 0/250 [00:00<?, ?it/s]"
      ]
     },
     "metadata": {},
     "output_type": "display_data"
    },
    {
     "name": "stdout",
     "output_type": "stream",
     "text": [
      "2025-09-15 09:32:06 | [time] [scVI] train end in 0.19s\n",
      "2025-09-15 09:32:06 | [scVI] predict_mean\n",
      "2025-09-15 09:32:06 | [time] [scVI] get_likelihood_parameters start\n",
      "\u001b[34mINFO    \u001b[0m Input AnnData not setup with scvi-tools. attempting to transfer AnnData setup                             \n",
      "2025-09-15 09:32:06 | [time] [scVI] get_likelihood_parameters end in 0.01s\n",
      "\u001b[34mINFO    \u001b[0m Input AnnData not setup with scvi-tools. attempting to transfer AnnData setup                             \n",
      "2025-09-15 09:32:06 | [scVI] predict_mean\n",
      "2025-09-15 09:32:06 | [time] [scVI] get_likelihood_parameters start\n",
      "\u001b[34mINFO    \u001b[0m Input AnnData not setup with scvi-tools. attempting to transfer AnnData setup                             \n",
      "2025-09-15 09:32:06 | [time] [scVI] get_likelihood_parameters end in 0.01s\n",
      "2025-09-15 09:32:06 | [scVI] predict_mean\n",
      "2025-09-15 09:32:06 | [time] [scVI] get_likelihood_parameters start\n",
      "\u001b[34mINFO    \u001b[0m Input AnnData not setup with scvi-tools. attempting to transfer AnnData setup                             \n",
      "2025-09-15 09:32:06 | [time] [scVI] get_likelihood_parameters end in 0.01s\n",
      "2025-09-15 09:32:06 | [time] [scVI] fold 3/3 end in 0.70s\n",
      "2025-09-15 09:32:06 | [cv_scvi_5fold] done\n"
     ]
    },
    {
     "name": "stderr",
     "output_type": "stream",
     "text": [
      "[W 2025-09-15 09:32:06,411] Trial 17 failed with parameters: {'n_latent': 32, 'n_hidden': 128, 'n_layers': 2, 'dropout_rate': 0.1, 'max_epochs': 250, 'lr': 0.0005, 'weight_decay': 1e-05, 'batch_size': 256, 'n_hvg': 1500} because of the following error: The value   model  n_hvg     MAE_zero      MSE_zero  MedianL1_zero  NB_ll_zero  \\\n",
      "0  scVI   1500  1075.614259  1.616419e+08     307.757507   -7.781096   \n",
      "\n",
      "   NB_dev_zero   MAE_thin       MSE_thin  MedianL1_thin  NB_ll_thin  \\\n",
      "0     6.695716  67.443305  773886.642161       29.61368   -2.897032   \n",
      "\n",
      "   NB_dev_thin Silhouette                                             params  \n",
      "0     4.031414        NaN  {'batch_size': 256, 'dropout_rate': 0.1, 'lr':...   could not be cast to float.\n",
      "[W 2025-09-15 09:32:06,414] Trial 17 failed with value (  model  n_hvg     MAE_zero      MSE_zero  MedianL1_zero  NB_ll_zero  \\\n",
      "0  scVI   1500  1075.614259  1.616419e+08     307.757507   -7.781096   \n",
      "\n",
      "   NB_dev_zero   MAE_thin       MSE_thin  MedianL1_thin  NB_ll_thin  \\\n",
      "0     6.695716  67.443305  773886.642161       29.61368   -2.897032   \n",
      "\n",
      "   NB_dev_thin Silhouette                                             params  \n",
      "0     4.031414        NaN  {'batch_size': 256, 'dropout_rate': 0.1, 'lr':...  ,    fold model                                             params  n_hvg  \\\n",
      "0     1  scVI  {'batch_size': 256, 'dropout_rate': 0.1, 'lr':...   1500   \n",
      "1     2  scVI  {'batch_size': 256, 'dropout_rate': 0.1, 'lr':...   1500   \n",
      "2     3  scVI  {'batch_size': 256, 'dropout_rate': 0.1, 'lr':...   1500   \n",
      "\n",
      "      MAE_zero      MSE_zero  MedianL1_zero  NB_ll_zero  NB_dev_zero  \\\n",
      "0  1057.475341  1.340239e+08     308.605515   -7.930867     7.033321   \n",
      "1  1160.841809  2.078308e+08     322.380295   -7.681101     6.446834   \n",
      "2  1008.525626  1.430710e+08     292.286713   -7.731321     6.606994   \n",
      "\n",
      "    MAE_thin       MSE_thin  MedianL1_thin  NB_ll_thin  NB_dev_thin Silhouette  \n",
      "0  67.341666  804491.649438      28.090577   -3.078879     4.415316       None  \n",
      "1  69.152756  807416.866235      31.526823   -2.772955     3.780412       None  \n",
      "2  65.835494  709751.410811      29.223639   -2.839261     3.898515       None  , -2.897031628189566).\n"
     ]
    },
    {
     "name": "stdout",
     "output_type": "stream",
     "text": [
      "{'n_latent': [32], 'n_hidden': [256], 'n_layers': [2], 'dropout_rate': [0.1], 'max_epochs': [250], 'lr': [0.0005], 'weight_decay': [1e-05], 'batch_size': [512], 'use_gpu': [True]}\n",
      "2025-09-15 09:32:06 | [cv_scvi_5fold] start k=3 n_hvg=1500 mode=seurat_v3\n",
      "2025-09-15 09:32:06 | X_counts: dense  (447, 51777) dtype=int64\n",
      "2025-09-15 09:32:06 | X_counts: zeros=66.23%, approx_int=True\n",
      "2025-09-15 09:32:06 | [time] [scVI] fold 1/3 start\n",
      "2025-09-15 09:32:07 | [scVI] fold 1 | HVG=1500\n",
      "2025-09-15 09:32:07 | [scVI] fold 1 params={'batch_size': 512, 'dropout_rate': 0.1, 'lr': 0.0005, 'max_epochs': 250, 'n_hidden': 256, 'n_latent': 32, 'n_layers': 2, 'use_gpu': True, 'weight_decay': 1e-05}\n",
      "2025-09-15 09:32:07 | [scVI] fit hp={'n_latent': 32, 'n_hidden': 256, 'n_layers': 2, 'dropout_rate': 0.1, 'max_epochs': 250, 'lr': 0.0005, 'weight_decay': 1e-05, 'batch_size': 512, 'batch_key': 'BioProject', 'use_gpu': True}\n",
      "2025-09-15 09:32:07 | X_train: dense  (298, 1500) dtype=int64\n"
     ]
    },
    {
     "name": "stderr",
     "output_type": "stream",
     "text": [
      "/Users/mjlee/master_thesis/Thesis_project/thesispjt/thesis-impute/lib/python3.12/site-packages/legacy_api_wrap/__init__.py:82: UserWarning: `flavor='seurat_v3'` expects raw count data, but non-integers were found.\n",
      "  return fn(*args_all, **kw)\n"
     ]
    },
    {
     "name": "stdout",
     "output_type": "stream",
     "text": [
      "2025-09-15 09:32:07 | [time] [scVI] train start\n"
     ]
    },
    {
     "name": "stderr",
     "output_type": "stream",
     "text": [
      "/Users/mjlee/master_thesis/Thesis_project/thesispjt/thesis-impute/lib/python3.12/site-packages/scvi/train/_trainrunner.py:82: UserWarning: `accelerator` has been set to `mps`. Please note that not all PyTorch/Jax operations are supported with this backend. as a result, some models might be slower and less accurate than usuall. Please verify your analysis!Refer to https://github.com/pytorch/pytorch/issues/77764 for more details.\n",
      "  accelerator, lightning_devices, device = parse_device_args(\n",
      "GPU available: True (mps), used: True\n",
      "TPU available: False, using: 0 TPU cores\n",
      "HPU available: False, using: 0 HPUs\n",
      "/Users/mjlee/master_thesis/Thesis_project/thesispjt/thesis-impute/lib/python3.12/site-packages/lightning/pytorch/trainer/connectors/data_connector.py:433: The 'train_dataloader' does not have many workers which may be a bottleneck. Consider increasing the value of the `num_workers` argument` to `num_workers=7` in the `DataLoader` to improve performance.\n",
      "/Users/mjlee/master_thesis/Thesis_project/thesispjt/thesis-impute/lib/python3.12/site-packages/lightning/pytorch/loops/fit_loop.py:310: The number of training batches (1) is smaller than the logging interval Trainer(log_every_n_steps=10). Set a lower value for log_every_n_steps if you want to see logs for the training epoch.\n"
     ]
    },
    {
     "data": {
      "application/vnd.jupyter.widget-view+json": {
       "model_id": "5d905464672745558b083df3c7b94dea",
       "version_major": 2,
       "version_minor": 0
      },
      "text/plain": [
       "Training:   0%|          | 0/250 [00:00<?, ?it/s]"
      ]
     },
     "metadata": {},
     "output_type": "display_data"
    },
    {
     "name": "stdout",
     "output_type": "stream",
     "text": [
      "2025-09-15 09:32:07 | [time] [scVI] train end in 0.19s\n",
      "2025-09-15 09:32:07 | [scVI] predict_mean\n",
      "2025-09-15 09:32:07 | [time] [scVI] get_likelihood_parameters start\n",
      "\u001b[34mINFO    \u001b[0m Input AnnData not setup with scvi-tools. attempting to transfer AnnData setup                             \n",
      "2025-09-15 09:32:07 | [time] [scVI] get_likelihood_parameters end in 0.02s\n",
      "\u001b[34mINFO    \u001b[0m Input AnnData not setup with scvi-tools. attempting to transfer AnnData setup                             \n",
      "2025-09-15 09:32:07 | [scVI] predict_mean\n",
      "2025-09-15 09:32:07 | [time] [scVI] get_likelihood_parameters start\n",
      "\u001b[34mINFO    \u001b[0m Input AnnData not setup with scvi-tools. attempting to transfer AnnData setup                             \n",
      "2025-09-15 09:32:07 | [time] [scVI] get_likelihood_parameters end in 0.01s\n",
      "2025-09-15 09:32:07 | [scVI] predict_mean\n",
      "2025-09-15 09:32:07 | [time] [scVI] get_likelihood_parameters start\n",
      "\u001b[34mINFO    \u001b[0m Input AnnData not setup with scvi-tools. attempting to transfer AnnData setup                             \n",
      "2025-09-15 09:32:07 | [time] [scVI] get_likelihood_parameters end in 0.01s\n",
      "2025-09-15 09:32:07 | [time] [scVI] fold 1/3 end in 0.65s\n",
      "2025-09-15 09:32:07 | [time] [scVI] fold 2/3 start\n",
      "2025-09-15 09:32:07 | [scVI] fold 2 | HVG=1500\n",
      "2025-09-15 09:32:07 | [scVI] fold 2 params={'batch_size': 512, 'dropout_rate': 0.1, 'lr': 0.0005, 'max_epochs': 250, 'n_hidden': 256, 'n_latent': 32, 'n_layers': 2, 'use_gpu': True, 'weight_decay': 1e-05}\n",
      "2025-09-15 09:32:07 | [scVI] fit hp={'n_latent': 32, 'n_hidden': 256, 'n_layers': 2, 'dropout_rate': 0.1, 'max_epochs': 250, 'lr': 0.0005, 'weight_decay': 1e-05, 'batch_size': 512, 'batch_key': 'BioProject', 'use_gpu': True}\n",
      "2025-09-15 09:32:07 | X_train: dense  (298, 1500) dtype=int64\n",
      "2025-09-15 09:32:07 | [time] [scVI] train start\n"
     ]
    },
    {
     "name": "stderr",
     "output_type": "stream",
     "text": [
      "/Users/mjlee/master_thesis/Thesis_project/thesispjt/thesis-impute/lib/python3.12/site-packages/legacy_api_wrap/__init__.py:82: UserWarning: `flavor='seurat_v3'` expects raw count data, but non-integers were found.\n",
      "  return fn(*args_all, **kw)\n",
      "/Users/mjlee/master_thesis/Thesis_project/thesispjt/thesis-impute/lib/python3.12/site-packages/scvi/train/_trainrunner.py:82: UserWarning: `accelerator` has been set to `mps`. Please note that not all PyTorch/Jax operations are supported with this backend. as a result, some models might be slower and less accurate than usuall. Please verify your analysis!Refer to https://github.com/pytorch/pytorch/issues/77764 for more details.\n",
      "  accelerator, lightning_devices, device = parse_device_args(\n",
      "GPU available: True (mps), used: True\n",
      "TPU available: False, using: 0 TPU cores\n",
      "HPU available: False, using: 0 HPUs\n",
      "/Users/mjlee/master_thesis/Thesis_project/thesispjt/thesis-impute/lib/python3.12/site-packages/lightning/pytorch/trainer/connectors/data_connector.py:433: The 'train_dataloader' does not have many workers which may be a bottleneck. Consider increasing the value of the `num_workers` argument` to `num_workers=7` in the `DataLoader` to improve performance.\n",
      "/Users/mjlee/master_thesis/Thesis_project/thesispjt/thesis-impute/lib/python3.12/site-packages/lightning/pytorch/loops/fit_loop.py:310: The number of training batches (1) is smaller than the logging interval Trainer(log_every_n_steps=10). Set a lower value for log_every_n_steps if you want to see logs for the training epoch.\n"
     ]
    },
    {
     "data": {
      "application/vnd.jupyter.widget-view+json": {
       "model_id": "bea54be7ff3e4e448e766df14c7b501e",
       "version_major": 2,
       "version_minor": 0
      },
      "text/plain": [
       "Training:   0%|          | 0/250 [00:00<?, ?it/s]"
      ]
     },
     "metadata": {},
     "output_type": "display_data"
    },
    {
     "name": "stdout",
     "output_type": "stream",
     "text": [
      "2025-09-15 09:32:08 | [time] [scVI] train end in 0.22s\n",
      "2025-09-15 09:32:08 | [scVI] predict_mean\n",
      "2025-09-15 09:32:08 | [time] [scVI] get_likelihood_parameters start\n",
      "\u001b[34mINFO    \u001b[0m Input AnnData not setup with scvi-tools. attempting to transfer AnnData setup                             \n",
      "2025-09-15 09:32:08 | [time] [scVI] get_likelihood_parameters end in 0.01s\n",
      "\u001b[34mINFO    \u001b[0m Input AnnData not setup with scvi-tools. attempting to transfer AnnData setup                             \n",
      "2025-09-15 09:32:08 | [scVI] predict_mean\n",
      "2025-09-15 09:32:08 | [time] [scVI] get_likelihood_parameters start\n",
      "\u001b[34mINFO    \u001b[0m Input AnnData not setup with scvi-tools. attempting to transfer AnnData setup                             \n",
      "2025-09-15 09:32:08 | [time] [scVI] get_likelihood_parameters end in 0.01s\n",
      "2025-09-15 09:32:08 | [scVI] predict_mean\n",
      "2025-09-15 09:32:08 | [time] [scVI] get_likelihood_parameters start\n",
      "\u001b[34mINFO    \u001b[0m Input AnnData not setup with scvi-tools. attempting to transfer AnnData setup                             \n",
      "2025-09-15 09:32:08 | [time] [scVI] get_likelihood_parameters end in 0.01s\n",
      "2025-09-15 09:32:08 | [time] [scVI] fold 2/3 end in 0.67s\n",
      "2025-09-15 09:32:08 | [time] [scVI] fold 3/3 start\n",
      "2025-09-15 09:32:08 | [scVI] fold 3 | HVG=1500\n",
      "2025-09-15 09:32:08 | [scVI] fold 3 params={'batch_size': 512, 'dropout_rate': 0.1, 'lr': 0.0005, 'max_epochs': 250, 'n_hidden': 256, 'n_latent': 32, 'n_layers': 2, 'use_gpu': True, 'weight_decay': 1e-05}\n",
      "2025-09-15 09:32:08 | [scVI] fit hp={'n_latent': 32, 'n_hidden': 256, 'n_layers': 2, 'dropout_rate': 0.1, 'max_epochs': 250, 'lr': 0.0005, 'weight_decay': 1e-05, 'batch_size': 512, 'batch_key': 'BioProject', 'use_gpu': True}\n",
      "2025-09-15 09:32:08 | X_train: dense  (298, 1500) dtype=int64\n",
      "2025-09-15 09:32:08 | [time] [scVI] train start\n"
     ]
    },
    {
     "name": "stderr",
     "output_type": "stream",
     "text": [
      "/Users/mjlee/master_thesis/Thesis_project/thesispjt/thesis-impute/lib/python3.12/site-packages/legacy_api_wrap/__init__.py:82: UserWarning: `flavor='seurat_v3'` expects raw count data, but non-integers were found.\n",
      "  return fn(*args_all, **kw)\n",
      "/Users/mjlee/master_thesis/Thesis_project/thesispjt/thesis-impute/lib/python3.12/site-packages/scvi/train/_trainrunner.py:82: UserWarning: `accelerator` has been set to `mps`. Please note that not all PyTorch/Jax operations are supported with this backend. as a result, some models might be slower and less accurate than usuall. Please verify your analysis!Refer to https://github.com/pytorch/pytorch/issues/77764 for more details.\n",
      "  accelerator, lightning_devices, device = parse_device_args(\n",
      "GPU available: True (mps), used: True\n",
      "TPU available: False, using: 0 TPU cores\n",
      "HPU available: False, using: 0 HPUs\n",
      "/Users/mjlee/master_thesis/Thesis_project/thesispjt/thesis-impute/lib/python3.12/site-packages/lightning/pytorch/trainer/connectors/data_connector.py:433: The 'train_dataloader' does not have many workers which may be a bottleneck. Consider increasing the value of the `num_workers` argument` to `num_workers=7` in the `DataLoader` to improve performance.\n",
      "/Users/mjlee/master_thesis/Thesis_project/thesispjt/thesis-impute/lib/python3.12/site-packages/lightning/pytorch/loops/fit_loop.py:310: The number of training batches (1) is smaller than the logging interval Trainer(log_every_n_steps=10). Set a lower value for log_every_n_steps if you want to see logs for the training epoch.\n"
     ]
    },
    {
     "data": {
      "application/vnd.jupyter.widget-view+json": {
       "model_id": "6f7082c277084d6e8006290334e37234",
       "version_major": 2,
       "version_minor": 0
      },
      "text/plain": [
       "Training:   0%|          | 0/250 [00:00<?, ?it/s]"
      ]
     },
     "metadata": {},
     "output_type": "display_data"
    },
    {
     "name": "stdout",
     "output_type": "stream",
     "text": [
      "2025-09-15 09:32:08 | [time] [scVI] train end in 0.19s\n",
      "2025-09-15 09:32:08 | [scVI] predict_mean\n",
      "2025-09-15 09:32:08 | [time] [scVI] get_likelihood_parameters start\n",
      "\u001b[34mINFO    \u001b[0m Input AnnData not setup with scvi-tools. attempting to transfer AnnData setup                             \n",
      "2025-09-15 09:32:08 | [time] [scVI] get_likelihood_parameters end in 0.02s\n",
      "\u001b[34mINFO    \u001b[0m Input AnnData not setup with scvi-tools. attempting to transfer AnnData setup                             \n",
      "2025-09-15 09:32:08 | [scVI] predict_mean\n",
      "2025-09-15 09:32:08 | [time] [scVI] get_likelihood_parameters start\n",
      "\u001b[34mINFO    \u001b[0m Input AnnData not setup with scvi-tools. attempting to transfer AnnData setup                             \n",
      "2025-09-15 09:32:08 | [time] [scVI] get_likelihood_parameters end in 0.01s\n",
      "2025-09-15 09:32:08 | [scVI] predict_mean\n",
      "2025-09-15 09:32:08 | [time] [scVI] get_likelihood_parameters start\n",
      "\u001b[34mINFO    \u001b[0m Input AnnData not setup with scvi-tools. attempting to transfer AnnData setup                             \n",
      "2025-09-15 09:32:08 | [time] [scVI] get_likelihood_parameters end in 0.01s\n",
      "2025-09-15 09:32:08 | [time] [scVI] fold 3/3 end in 0.64s\n",
      "2025-09-15 09:32:08 | [cv_scvi_5fold] done\n"
     ]
    },
    {
     "name": "stderr",
     "output_type": "stream",
     "text": [
      "[W 2025-09-15 09:32:08,746] Trial 18 failed with parameters: {'n_latent': 32, 'n_hidden': 256, 'n_layers': 2, 'dropout_rate': 0.1, 'max_epochs': 250, 'lr': 0.0005, 'weight_decay': 1e-05, 'batch_size': 512, 'n_hvg': 1500} because of the following error: The value   model  n_hvg     MAE_zero      MSE_zero  MedianL1_zero  NB_ll_zero  \\\n",
      "0  scVI   1500  1075.587724  1.616375e+08     307.555171   -7.792528   \n",
      "\n",
      "   NB_dev_zero   MAE_thin       MSE_thin  MedianL1_thin  NB_ll_thin  \\\n",
      "0      6.71858  67.436778  773860.222722      29.705697   -2.896992   \n",
      "\n",
      "   NB_dev_thin Silhouette                                             params  \n",
      "0     4.031335        NaN  {'batch_size': 512, 'dropout_rate': 0.1, 'lr':...   could not be cast to float.\n",
      "[W 2025-09-15 09:32:08,749] Trial 18 failed with value (  model  n_hvg     MAE_zero      MSE_zero  MedianL1_zero  NB_ll_zero  \\\n",
      "0  scVI   1500  1075.587724  1.616375e+08     307.555171   -7.792528   \n",
      "\n",
      "   NB_dev_zero   MAE_thin       MSE_thin  MedianL1_thin  NB_ll_thin  \\\n",
      "0      6.71858  67.436778  773860.222722      29.705697   -2.896992   \n",
      "\n",
      "   NB_dev_thin Silhouette                                             params  \n",
      "0     4.031335        NaN  {'batch_size': 512, 'dropout_rate': 0.1, 'lr':...  ,    fold model                                             params  n_hvg  \\\n",
      "0     1  scVI  {'batch_size': 512, 'dropout_rate': 0.1, 'lr':...   1500   \n",
      "1     2  scVI  {'batch_size': 512, 'dropout_rate': 0.1, 'lr':...   1500   \n",
      "2     3  scVI  {'batch_size': 512, 'dropout_rate': 0.1, 'lr':...   1500   \n",
      "\n",
      "      MAE_zero      MSE_zero  MedianL1_zero  NB_ll_zero  NB_dev_zero  \\\n",
      "0  1056.951014  1.340557e+08     309.103012   -8.022041     7.215669   \n",
      "1  1160.860843  2.077656e+08     321.805344   -7.580800     6.246232   \n",
      "2  1008.951314  1.430912e+08     291.757156   -7.774743     6.693839   \n",
      "\n",
      "    MAE_thin       MSE_thin  MedianL1_thin  NB_ll_thin  NB_dev_thin Silhouette  \n",
      "0  67.308737  804602.658103      28.206819   -3.114540     4.486639       None  \n",
      "1  69.168808  807190.097434      31.683245   -2.711022     3.656545       None  \n",
      "2  65.832789  709787.912628      29.227028   -2.865415     3.950823       None  , -2.8969921989287086).\n"
     ]
    },
    {
     "name": "stdout",
     "output_type": "stream",
     "text": [
      "{'n_latent': [32], 'n_hidden': [128], 'n_layers': [2], 'dropout_rate': [0.0], 'max_epochs': [150], 'lr': [0.0005], 'weight_decay': [1e-06], 'batch_size': [512], 'use_gpu': [True]}\n",
      "2025-09-15 09:32:08 | [cv_scvi_5fold] start k=3 n_hvg=1500 mode=seurat_v3\n",
      "2025-09-15 09:32:08 | X_counts: dense  (447, 51777) dtype=int64\n",
      "2025-09-15 09:32:09 | X_counts: zeros=66.23%, approx_int=True\n",
      "2025-09-15 09:32:09 | [time] [scVI] fold 1/3 start\n",
      "2025-09-15 09:32:09 | [scVI] fold 1 | HVG=1500\n",
      "2025-09-15 09:32:09 | [scVI] fold 1 params={'batch_size': 512, 'dropout_rate': 0.0, 'lr': 0.0005, 'max_epochs': 150, 'n_hidden': 128, 'n_latent': 32, 'n_layers': 2, 'use_gpu': True, 'weight_decay': 1e-06}\n",
      "2025-09-15 09:32:09 | [scVI] fit hp={'n_latent': 32, 'n_hidden': 128, 'n_layers': 2, 'dropout_rate': 0.0, 'max_epochs': 150, 'lr': 0.0005, 'weight_decay': 1e-06, 'batch_size': 512, 'batch_key': 'BioProject', 'use_gpu': True}\n",
      "2025-09-15 09:32:09 | X_train: dense  (298, 1500) dtype=int64\n",
      "2025-09-15 09:32:09 | [time] [scVI] train start\n"
     ]
    },
    {
     "name": "stderr",
     "output_type": "stream",
     "text": [
      "/Users/mjlee/master_thesis/Thesis_project/thesispjt/thesis-impute/lib/python3.12/site-packages/legacy_api_wrap/__init__.py:82: UserWarning: `flavor='seurat_v3'` expects raw count data, but non-integers were found.\n",
      "  return fn(*args_all, **kw)\n",
      "/Users/mjlee/master_thesis/Thesis_project/thesispjt/thesis-impute/lib/python3.12/site-packages/scvi/train/_trainrunner.py:82: UserWarning: `accelerator` has been set to `mps`. Please note that not all PyTorch/Jax operations are supported with this backend. as a result, some models might be slower and less accurate than usuall. Please verify your analysis!Refer to https://github.com/pytorch/pytorch/issues/77764 for more details.\n",
      "  accelerator, lightning_devices, device = parse_device_args(\n",
      "GPU available: True (mps), used: True\n",
      "TPU available: False, using: 0 TPU cores\n",
      "HPU available: False, using: 0 HPUs\n",
      "/Users/mjlee/master_thesis/Thesis_project/thesispjt/thesis-impute/lib/python3.12/site-packages/lightning/pytorch/trainer/connectors/data_connector.py:433: The 'train_dataloader' does not have many workers which may be a bottleneck. Consider increasing the value of the `num_workers` argument` to `num_workers=7` in the `DataLoader` to improve performance.\n",
      "/Users/mjlee/master_thesis/Thesis_project/thesispjt/thesis-impute/lib/python3.12/site-packages/lightning/pytorch/loops/fit_loop.py:310: The number of training batches (1) is smaller than the logging interval Trainer(log_every_n_steps=10). Set a lower value for log_every_n_steps if you want to see logs for the training epoch.\n"
     ]
    },
    {
     "data": {
      "application/vnd.jupyter.widget-view+json": {
       "model_id": "107c2dfa77c9409791cde917ec401e38",
       "version_major": 2,
       "version_minor": 0
      },
      "text/plain": [
       "Training:   0%|          | 0/150 [00:00<?, ?it/s]"
      ]
     },
     "metadata": {},
     "output_type": "display_data"
    },
    {
     "name": "stdout",
     "output_type": "stream",
     "text": [
      "2025-09-15 09:32:09 | [time] [scVI] train end in 0.19s\n",
      "2025-09-15 09:32:09 | [scVI] predict_mean\n",
      "2025-09-15 09:32:09 | [time] [scVI] get_likelihood_parameters start\n",
      "\u001b[34mINFO    \u001b[0m Input AnnData not setup with scvi-tools. attempting to transfer AnnData setup                             \n",
      "2025-09-15 09:32:09 | [time] [scVI] get_likelihood_parameters end in 0.01s\n",
      "\u001b[34mINFO    \u001b[0m Input AnnData not setup with scvi-tools. attempting to transfer AnnData setup                             \n",
      "2025-09-15 09:32:09 | [scVI] predict_mean\n",
      "2025-09-15 09:32:09 | [time] [scVI] get_likelihood_parameters start\n",
      "\u001b[34mINFO    \u001b[0m Input AnnData not setup with scvi-tools. attempting to transfer AnnData setup                             \n",
      "2025-09-15 09:32:09 | [time] [scVI] get_likelihood_parameters end in 0.01s\n",
      "2025-09-15 09:32:09 | [scVI] predict_mean\n",
      "2025-09-15 09:32:09 | [time] [scVI] get_likelihood_parameters start\n",
      "\u001b[34mINFO    \u001b[0m Input AnnData not setup with scvi-tools. attempting to transfer AnnData setup                             \n",
      "2025-09-15 09:32:09 | [time] [scVI] get_likelihood_parameters end in 0.01s\n",
      "2025-09-15 09:32:09 | [time] [scVI] fold 1/3 end in 0.64s\n",
      "2025-09-15 09:32:09 | [time] [scVI] fold 2/3 start\n",
      "2025-09-15 09:32:10 | [scVI] fold 2 | HVG=1500\n",
      "2025-09-15 09:32:10 | [scVI] fold 2 params={'batch_size': 512, 'dropout_rate': 0.0, 'lr': 0.0005, 'max_epochs': 150, 'n_hidden': 128, 'n_latent': 32, 'n_layers': 2, 'use_gpu': True, 'weight_decay': 1e-06}\n",
      "2025-09-15 09:32:10 | [scVI] fit hp={'n_latent': 32, 'n_hidden': 128, 'n_layers': 2, 'dropout_rate': 0.0, 'max_epochs': 150, 'lr': 0.0005, 'weight_decay': 1e-06, 'batch_size': 512, 'batch_key': 'BioProject', 'use_gpu': True}\n",
      "2025-09-15 09:32:10 | X_train: dense  (298, 1500) dtype=int64\n",
      "2025-09-15 09:32:10 | [time] [scVI] train start\n"
     ]
    },
    {
     "name": "stderr",
     "output_type": "stream",
     "text": [
      "/Users/mjlee/master_thesis/Thesis_project/thesispjt/thesis-impute/lib/python3.12/site-packages/legacy_api_wrap/__init__.py:82: UserWarning: `flavor='seurat_v3'` expects raw count data, but non-integers were found.\n",
      "  return fn(*args_all, **kw)\n",
      "/Users/mjlee/master_thesis/Thesis_project/thesispjt/thesis-impute/lib/python3.12/site-packages/scvi/train/_trainrunner.py:82: UserWarning: `accelerator` has been set to `mps`. Please note that not all PyTorch/Jax operations are supported with this backend. as a result, some models might be slower and less accurate than usuall. Please verify your analysis!Refer to https://github.com/pytorch/pytorch/issues/77764 for more details.\n",
      "  accelerator, lightning_devices, device = parse_device_args(\n",
      "GPU available: True (mps), used: True\n",
      "TPU available: False, using: 0 TPU cores\n",
      "HPU available: False, using: 0 HPUs\n",
      "/Users/mjlee/master_thesis/Thesis_project/thesispjt/thesis-impute/lib/python3.12/site-packages/lightning/pytorch/trainer/connectors/data_connector.py:433: The 'train_dataloader' does not have many workers which may be a bottleneck. Consider increasing the value of the `num_workers` argument` to `num_workers=7` in the `DataLoader` to improve performance.\n",
      "/Users/mjlee/master_thesis/Thesis_project/thesispjt/thesis-impute/lib/python3.12/site-packages/lightning/pytorch/loops/fit_loop.py:310: The number of training batches (1) is smaller than the logging interval Trainer(log_every_n_steps=10). Set a lower value for log_every_n_steps if you want to see logs for the training epoch.\n"
     ]
    },
    {
     "data": {
      "application/vnd.jupyter.widget-view+json": {
       "model_id": "6b604b58561c4949b781698de7b8cf68",
       "version_major": 2,
       "version_minor": 0
      },
      "text/plain": [
       "Training:   0%|          | 0/150 [00:00<?, ?it/s]"
      ]
     },
     "metadata": {},
     "output_type": "display_data"
    },
    {
     "name": "stdout",
     "output_type": "stream",
     "text": [
      "2025-09-15 09:32:10 | [time] [scVI] train end in 0.23s\n",
      "2025-09-15 09:32:10 | [scVI] predict_mean\n",
      "2025-09-15 09:32:10 | [time] [scVI] get_likelihood_parameters start\n",
      "\u001b[34mINFO    \u001b[0m Input AnnData not setup with scvi-tools. attempting to transfer AnnData setup                             \n",
      "2025-09-15 09:32:10 | [time] [scVI] get_likelihood_parameters end in 0.01s\n",
      "\u001b[34mINFO    \u001b[0m Input AnnData not setup with scvi-tools. attempting to transfer AnnData setup                             \n",
      "2025-09-15 09:32:10 | [scVI] predict_mean\n",
      "2025-09-15 09:32:10 | [time] [scVI] get_likelihood_parameters start\n",
      "\u001b[34mINFO    \u001b[0m Input AnnData not setup with scvi-tools. attempting to transfer AnnData setup                             \n",
      "2025-09-15 09:32:10 | [time] [scVI] get_likelihood_parameters end in 0.01s\n",
      "2025-09-15 09:32:10 | [scVI] predict_mean\n",
      "2025-09-15 09:32:10 | [time] [scVI] get_likelihood_parameters start\n",
      "\u001b[34mINFO    \u001b[0m Input AnnData not setup with scvi-tools. attempting to transfer AnnData setup                             \n",
      "2025-09-15 09:32:10 | [time] [scVI] get_likelihood_parameters end in 0.01s\n",
      "2025-09-15 09:32:10 | [time] [scVI] fold 2/3 end in 0.67s\n",
      "2025-09-15 09:32:10 | [time] [scVI] fold 3/3 start\n",
      "2025-09-15 09:32:10 | [scVI] fold 3 | HVG=1500\n",
      "2025-09-15 09:32:10 | [scVI] fold 3 params={'batch_size': 512, 'dropout_rate': 0.0, 'lr': 0.0005, 'max_epochs': 150, 'n_hidden': 128, 'n_latent': 32, 'n_layers': 2, 'use_gpu': True, 'weight_decay': 1e-06}\n",
      "2025-09-15 09:32:10 | [scVI] fit hp={'n_latent': 32, 'n_hidden': 128, 'n_layers': 2, 'dropout_rate': 0.0, 'max_epochs': 150, 'lr': 0.0005, 'weight_decay': 1e-06, 'batch_size': 512, 'batch_key': 'BioProject', 'use_gpu': True}\n",
      "2025-09-15 09:32:10 | X_train: dense  (298, 1500) dtype=int64\n",
      "2025-09-15 09:32:10 | [time] [scVI] train start\n"
     ]
    },
    {
     "name": "stderr",
     "output_type": "stream",
     "text": [
      "/Users/mjlee/master_thesis/Thesis_project/thesispjt/thesis-impute/lib/python3.12/site-packages/legacy_api_wrap/__init__.py:82: UserWarning: `flavor='seurat_v3'` expects raw count data, but non-integers were found.\n",
      "  return fn(*args_all, **kw)\n",
      "/Users/mjlee/master_thesis/Thesis_project/thesispjt/thesis-impute/lib/python3.12/site-packages/scvi/train/_trainrunner.py:82: UserWarning: `accelerator` has been set to `mps`. Please note that not all PyTorch/Jax operations are supported with this backend. as a result, some models might be slower and less accurate than usuall. Please verify your analysis!Refer to https://github.com/pytorch/pytorch/issues/77764 for more details.\n",
      "  accelerator, lightning_devices, device = parse_device_args(\n",
      "GPU available: True (mps), used: True\n",
      "TPU available: False, using: 0 TPU cores\n",
      "HPU available: False, using: 0 HPUs\n",
      "/Users/mjlee/master_thesis/Thesis_project/thesispjt/thesis-impute/lib/python3.12/site-packages/lightning/pytorch/trainer/connectors/data_connector.py:433: The 'train_dataloader' does not have many workers which may be a bottleneck. Consider increasing the value of the `num_workers` argument` to `num_workers=7` in the `DataLoader` to improve performance.\n",
      "/Users/mjlee/master_thesis/Thesis_project/thesispjt/thesis-impute/lib/python3.12/site-packages/lightning/pytorch/loops/fit_loop.py:310: The number of training batches (1) is smaller than the logging interval Trainer(log_every_n_steps=10). Set a lower value for log_every_n_steps if you want to see logs for the training epoch.\n"
     ]
    },
    {
     "data": {
      "application/vnd.jupyter.widget-view+json": {
       "model_id": "5f514f30fffd4ab1b184eff4987e23b7",
       "version_major": 2,
       "version_minor": 0
      },
      "text/plain": [
       "Training:   0%|          | 0/150 [00:00<?, ?it/s]"
      ]
     },
     "metadata": {},
     "output_type": "display_data"
    },
    {
     "name": "stdout",
     "output_type": "stream",
     "text": [
      "2025-09-15 09:32:10 | [time] [scVI] train end in 0.19s\n",
      "2025-09-15 09:32:10 | [scVI] predict_mean\n",
      "2025-09-15 09:32:10 | [time] [scVI] get_likelihood_parameters start\n",
      "\u001b[34mINFO    \u001b[0m Input AnnData not setup with scvi-tools. attempting to transfer AnnData setup                             \n",
      "2025-09-15 09:32:10 | [time] [scVI] get_likelihood_parameters end in 0.01s\n",
      "\u001b[34mINFO    \u001b[0m Input AnnData not setup with scvi-tools. attempting to transfer AnnData setup                             \n",
      "2025-09-15 09:32:11 | [scVI] predict_mean\n",
      "2025-09-15 09:32:11 | [time] [scVI] get_likelihood_parameters start\n",
      "\u001b[34mINFO    \u001b[0m Input AnnData not setup with scvi-tools. attempting to transfer AnnData setup                             \n",
      "2025-09-15 09:32:11 | [time] [scVI] get_likelihood_parameters end in 0.01s\n",
      "2025-09-15 09:32:11 | [scVI] predict_mean\n",
      "2025-09-15 09:32:11 | [time] [scVI] get_likelihood_parameters start\n",
      "\u001b[34mINFO    \u001b[0m Input AnnData not setup with scvi-tools. attempting to transfer AnnData setup                             \n",
      "2025-09-15 09:32:11 | [time] [scVI] get_likelihood_parameters end in 0.01s\n",
      "2025-09-15 09:32:11 | [time] [scVI] fold 3/3 end in 0.63s\n",
      "2025-09-15 09:32:11 | [cv_scvi_5fold] done\n"
     ]
    },
    {
     "name": "stderr",
     "output_type": "stream",
     "text": [
      "[W 2025-09-15 09:32:11,074] Trial 19 failed with parameters: {'n_latent': 32, 'n_hidden': 128, 'n_layers': 2, 'dropout_rate': 0.0, 'max_epochs': 150, 'lr': 0.0005, 'weight_decay': 1e-06, 'batch_size': 512, 'n_hvg': 1500} because of the following error: The value   model  n_hvg     MAE_zero      MSE_zero  MedianL1_zero  NB_ll_zero  \\\n",
      "0  scVI   1500  1076.401045  1.616236e+08     308.089732   -7.732224   \n",
      "\n",
      "   NB_dev_zero   MAE_thin       MSE_thin  MedianL1_thin  NB_ll_thin  \\\n",
      "0     6.597972  67.444219  773826.232447      29.615018   -2.882951   \n",
      "\n",
      "   NB_dev_thin Silhouette                                             params  \n",
      "0     4.003254        NaN  {'batch_size': 512, 'dropout_rate': 0.0, 'lr':...   could not be cast to float.\n",
      "[W 2025-09-15 09:32:11,077] Trial 19 failed with value (  model  n_hvg     MAE_zero      MSE_zero  MedianL1_zero  NB_ll_zero  \\\n",
      "0  scVI   1500  1076.401045  1.616236e+08     308.089732   -7.732224   \n",
      "\n",
      "   NB_dev_zero   MAE_thin       MSE_thin  MedianL1_thin  NB_ll_thin  \\\n",
      "0     6.597972  67.444219  773826.232447      29.615018   -2.882951   \n",
      "\n",
      "   NB_dev_thin Silhouette                                             params  \n",
      "0     4.003254        NaN  {'batch_size': 512, 'dropout_rate': 0.0, 'lr':...  ,    fold model                                             params  n_hvg  \\\n",
      "0     1  scVI  {'batch_size': 512, 'dropout_rate': 0.0, 'lr':...   1500   \n",
      "1     2  scVI  {'batch_size': 512, 'dropout_rate': 0.0, 'lr':...   1500   \n",
      "2     3  scVI  {'batch_size': 512, 'dropout_rate': 0.0, 'lr':...   1500   \n",
      "\n",
      "      MAE_zero      MSE_zero  MedianL1_zero  NB_ll_zero  NB_dev_zero  \\\n",
      "0  1056.332306  1.340063e+08     309.893524   -7.924288     7.020165   \n",
      "1  1161.669255  2.078290e+08     321.526596   -7.620616     6.325864   \n",
      "2  1011.201573  1.430357e+08     292.849075   -7.651767     6.447887   \n",
      "\n",
      "    MAE_thin       MSE_thin  MedianL1_thin  NB_ll_thin  NB_dev_thin Silhouette  \n",
      "0  67.292082  804415.562300      28.095878   -3.065214     4.387986       None  \n",
      "1  69.189285  807350.322586      31.545449   -2.749758     3.734018       None  \n",
      "2  65.851290  709712.812455      29.203726   -2.833882     3.887758       None  , -2.88295142010189).\n"
     ]
    },
    {
     "ename": "ValueError",
     "evalue": "No trials are completed yet.",
     "output_type": "error",
     "traceback": [
      "\u001b[31m---------------------------------------------------------------------------\u001b[39m",
      "\u001b[31mValueError\u001b[39m                                Traceback (most recent call last)",
      "\u001b[36mCell\u001b[39m\u001b[36m \u001b[39m\u001b[32mIn[10]\u001b[39m\u001b[32m, line 23\u001b[39m\n\u001b[32m      9\u001b[39m obj = partial(\n\u001b[32m     10\u001b[39m     scvi_objective,\n\u001b[32m     11\u001b[39m     X_counts=X_counts,\n\u001b[32m   (...)\u001b[39m\u001b[32m     18\u001b[39m     seurat_layer=\u001b[33m\"\u001b[39m\u001b[33mlog2_1p_CPM_original\u001b[39m\u001b[33m\"\u001b[39m,\n\u001b[32m     19\u001b[39m )\n\u001b[32m     21\u001b[39m study.optimize(obj, n_trials=\u001b[32m20\u001b[39m, gc_after_trial=\u001b[38;5;28;01mTrue\u001b[39;00m)\n\u001b[32m---> \u001b[39m\u001b[32m23\u001b[39m \u001b[38;5;28mprint\u001b[39m(\u001b[33m\"\u001b[39m\u001b[33mBest value:\u001b[39m\u001b[33m\"\u001b[39m, \u001b[43mstudy\u001b[49m\u001b[43m.\u001b[49m\u001b[43mbest_value\u001b[49m)\n\u001b[32m     24\u001b[39m \u001b[38;5;28mprint\u001b[39m(\u001b[33m\"\u001b[39m\u001b[33mBest params:\u001b[39m\u001b[33m\"\u001b[39m, study.best_params)\n\u001b[32m     25\u001b[39m best = study.best_params\n",
      "\u001b[36mFile \u001b[39m\u001b[32m~/master_thesis/Thesis_project/thesispjt/thesis-impute/lib/python3.12/site-packages/optuna/study/study.py:134\u001b[39m, in \u001b[36mStudy.best_value\u001b[39m\u001b[34m(self)\u001b[39m\n\u001b[32m    122\u001b[39m \u001b[38;5;129m@property\u001b[39m\n\u001b[32m    123\u001b[39m \u001b[38;5;28;01mdef\u001b[39;00m\u001b[38;5;250m \u001b[39m\u001b[34mbest_value\u001b[39m(\u001b[38;5;28mself\u001b[39m) -> \u001b[38;5;28mfloat\u001b[39m:\n\u001b[32m    124\u001b[39m \u001b[38;5;250m    \u001b[39m\u001b[33;03m\"\"\"Return the best objective value in the study.\u001b[39;00m\n\u001b[32m    125\u001b[39m \n\u001b[32m    126\u001b[39m \u001b[33;03m    .. note::\u001b[39;00m\n\u001b[32m   (...)\u001b[39m\u001b[32m    131\u001b[39m \n\u001b[32m    132\u001b[39m \u001b[33;03m    \"\"\"\u001b[39;00m\n\u001b[32m--> \u001b[39m\u001b[32m134\u001b[39m     best_value = \u001b[38;5;28;43mself\u001b[39;49m\u001b[43m.\u001b[49m\u001b[43mbest_trial\u001b[49m.value\n\u001b[32m    135\u001b[39m     \u001b[38;5;28;01massert\u001b[39;00m best_value \u001b[38;5;129;01mis\u001b[39;00m \u001b[38;5;129;01mnot\u001b[39;00m \u001b[38;5;28;01mNone\u001b[39;00m\n\u001b[32m    137\u001b[39m     \u001b[38;5;28;01mreturn\u001b[39;00m best_value\n",
      "\u001b[36mFile \u001b[39m\u001b[32m~/master_thesis/Thesis_project/thesispjt/thesis-impute/lib/python3.12/site-packages/optuna/study/study.py:156\u001b[39m, in \u001b[36mStudy.best_trial\u001b[39m\u001b[34m(self)\u001b[39m\n\u001b[32m    139\u001b[39m \u001b[38;5;129m@property\u001b[39m\n\u001b[32m    140\u001b[39m \u001b[38;5;28;01mdef\u001b[39;00m\u001b[38;5;250m \u001b[39m\u001b[34mbest_trial\u001b[39m(\u001b[38;5;28mself\u001b[39m) -> FrozenTrial:\n\u001b[32m    141\u001b[39m \u001b[38;5;250m    \u001b[39m\u001b[33;03m\"\"\"Return the best trial in the study.\u001b[39;00m\n\u001b[32m    142\u001b[39m \n\u001b[32m    143\u001b[39m \u001b[33;03m    .. note::\u001b[39;00m\n\u001b[32m   (...)\u001b[39m\u001b[32m    154\u001b[39m \n\u001b[32m    155\u001b[39m \u001b[33;03m    \"\"\"\u001b[39;00m\n\u001b[32m--> \u001b[39m\u001b[32m156\u001b[39m     \u001b[38;5;28;01mreturn\u001b[39;00m \u001b[38;5;28;43mself\u001b[39;49m\u001b[43m.\u001b[49m\u001b[43m_get_best_trial\u001b[49m\u001b[43m(\u001b[49m\u001b[43mdeepcopy\u001b[49m\u001b[43m=\u001b[49m\u001b[38;5;28;43;01mTrue\u001b[39;49;00m\u001b[43m)\u001b[49m\n",
      "\u001b[36mFile \u001b[39m\u001b[32m~/master_thesis/Thesis_project/thesispjt/thesis-impute/lib/python3.12/site-packages/optuna/study/study.py:308\u001b[39m, in \u001b[36mStudy._get_best_trial\u001b[39m\u001b[34m(self, deepcopy)\u001b[39m\n\u001b[32m    302\u001b[39m \u001b[38;5;28;01mif\u001b[39;00m \u001b[38;5;28mself\u001b[39m._is_multi_objective():\n\u001b[32m    303\u001b[39m     \u001b[38;5;28;01mraise\u001b[39;00m \u001b[38;5;167;01mRuntimeError\u001b[39;00m(\n\u001b[32m    304\u001b[39m         \u001b[33m\"\u001b[39m\u001b[33mA single best trial cannot be retrieved from a multi-objective study. Consider \u001b[39m\u001b[33m\"\u001b[39m\n\u001b[32m    305\u001b[39m         \u001b[33m\"\u001b[39m\u001b[33musing Study.best_trials to retrieve a list containing the best trials.\u001b[39m\u001b[33m\"\u001b[39m\n\u001b[32m    306\u001b[39m     )\n\u001b[32m--> \u001b[39m\u001b[32m308\u001b[39m best_trial = \u001b[38;5;28;43mself\u001b[39;49m\u001b[43m.\u001b[49m\u001b[43m_storage\u001b[49m\u001b[43m.\u001b[49m\u001b[43mget_best_trial\u001b[49m\u001b[43m(\u001b[49m\u001b[38;5;28;43mself\u001b[39;49m\u001b[43m.\u001b[49m\u001b[43m_study_id\u001b[49m\u001b[43m)\u001b[49m\n\u001b[32m    310\u001b[39m \u001b[38;5;66;03m# If the trial with the best value is infeasible, select the best trial from all feasible\u001b[39;00m\n\u001b[32m    311\u001b[39m \u001b[38;5;66;03m# trials. Note that the behavior is undefined when constrained optimization without the\u001b[39;00m\n\u001b[32m    312\u001b[39m \u001b[38;5;66;03m# violation value in the best-valued trial.\u001b[39;00m\n\u001b[32m    313\u001b[39m constraints = best_trial.system_attrs.get(_CONSTRAINTS_KEY)\n",
      "\u001b[36mFile \u001b[39m\u001b[32m~/master_thesis/Thesis_project/thesispjt/thesis-impute/lib/python3.12/site-packages/optuna/storages/_in_memory.py:252\u001b[39m, in \u001b[36mInMemoryStorage.get_best_trial\u001b[39m\u001b[34m(self, study_id)\u001b[39m\n\u001b[32m    249\u001b[39m best_trial_id = \u001b[38;5;28mself\u001b[39m._studies[study_id].best_trial_id\n\u001b[32m    251\u001b[39m \u001b[38;5;28;01mif\u001b[39;00m best_trial_id \u001b[38;5;129;01mis\u001b[39;00m \u001b[38;5;28;01mNone\u001b[39;00m:\n\u001b[32m--> \u001b[39m\u001b[32m252\u001b[39m     \u001b[38;5;28;01mraise\u001b[39;00m \u001b[38;5;167;01mValueError\u001b[39;00m(\u001b[33m\"\u001b[39m\u001b[33mNo trials are completed yet.\u001b[39m\u001b[33m\"\u001b[39m)\n\u001b[32m    253\u001b[39m \u001b[38;5;28;01melif\u001b[39;00m \u001b[38;5;28mlen\u001b[39m(\u001b[38;5;28mself\u001b[39m._studies[study_id].directions) > \u001b[32m1\u001b[39m:\n\u001b[32m    254\u001b[39m     \u001b[38;5;28;01mraise\u001b[39;00m \u001b[38;5;167;01mRuntimeError\u001b[39;00m(\n\u001b[32m    255\u001b[39m         \u001b[33m\"\u001b[39m\u001b[33mBest trial can be obtained only for single-objective optimization.\u001b[39m\u001b[33m\"\u001b[39m\n\u001b[32m    256\u001b[39m     )\n",
      "\u001b[31mValueError\u001b[39m: No trials are completed yet."
     ]
    }
   ],
   "source": [
    "# Run Optuna study\n",
    "seed = 123\n",
    "optuna.logging.set_verbosity(optuna.logging.WARNING)\n",
    "study = optuna.create_study(\n",
    "    direction=\"maximize\",\n",
    "    sampler=optuna.samplers.TPESampler(seed=seed),\n",
    ")\n",
    "\n",
    "obj = partial(\n",
    "    scvi_objective,\n",
    "    X_counts=X_counts,\n",
    "    gene_names=gene_names,\n",
    "    batches=batches,\n",
    "    norm_layer=norm_layer,\n",
    "    k_search=3,          # small and quick\n",
    "    seed=seed,\n",
    "    batch_key=\"BioProject\",\n",
    "    seurat_layer=\"log2_1p_CPM_original\",\n",
    ")\n",
    "\n",
    "study.optimize(obj, n_trials=20, gc_after_trial=True)\n",
    "\n",
    "print(\"Best value:\", study.best_value)\n",
    "print(\"Best params:\", study.best_params)\n",
    "best = study.best_params"
   ]
  },
  {
   "cell_type": "code",
   "execution_count": null,
   "id": "3cd92e24",
   "metadata": {},
   "outputs": [],
   "source": [
    "# Final retrain/eval using the best HPs from the study\n",
    "# Uses a larger k, more epochs/R, and writes CSVs.\n",
    "\n",
    "# Build one-point grid from best params\n",
    "best_grid = {k: [best[k]] for k in best}\n",
    "\n",
    "final_summary, final_details = cv_scvi_5fold(\n",
    "    X_counts,\n",
    "    k=5,                     # fuller CV\n",
    "    scvi_grid=best_grid,\n",
    "    n_hvg=int(1000),         # or tune via Optuna if you prefer\n",
    "    R=3,                     # more repeats for stability\n",
    "    mask_frac=0.10,\n",
    "    thinning_p=0.10,\n",
    "    random_state=seed,\n",
    "    hvg_mode=\"seurat_v3\",\n",
    "    gene_names=gene_names,\n",
    "    batches=batches,\n",
    "    norm_layer=norm_layer,\n",
    "    batch_key=\"BioProject\",\n",
    "    seurat_layer_name=\"log2_1p_CPM_original\",\n",
    "    labels=None,\n",
    "    save_dir=\"results/scvi_full\",   # CSVs will be written here\n",
    "    heartbeat_path=None,\n",
    ")\n",
    "\n",
    "display(final_summary.head())\n",
    "display(final_details.head())\n",
    "print(\"Saved to: results/scvi_full\")\n"
   ]
  },
  {
   "cell_type": "code",
   "execution_count": 8,
   "id": "03ce6c3d",
   "metadata": {},
   "outputs": [
    {
     "ename": "NameError",
     "evalue": "name 'final_summary' is not defined",
     "output_type": "error",
     "traceback": [
      "\u001b[31m---------------------------------------------------------------------------\u001b[39m",
      "\u001b[31mNameError\u001b[39m                                 Traceback (most recent call last)",
      "\u001b[36mCell\u001b[39m\u001b[36m \u001b[39m\u001b[32mIn[8]\u001b[39m\u001b[32m, line 1\u001b[39m\n\u001b[32m----> \u001b[39m\u001b[32m1\u001b[39m \u001b[43mfinal_summary\u001b[49m\n",
      "\u001b[31mNameError\u001b[39m: name 'final_summary' is not defined"
     ]
    }
   ],
   "source": [
    "final_summary"
   ]
  }
 ],
 "metadata": {
  "kernelspec": {
   "display_name": "thesis_impute",
   "language": "python",
   "name": "thesis-impute"
  },
  "language_info": {
   "codemirror_mode": {
    "name": "ipython",
    "version": 3
   },
   "file_extension": ".py",
   "mimetype": "text/x-python",
   "name": "python",
   "nbconvert_exporter": "python",
   "pygments_lexer": "ipython3",
   "version": "3.12.7"
  }
 },
 "nbformat": 4,
 "nbformat_minor": 5
}
