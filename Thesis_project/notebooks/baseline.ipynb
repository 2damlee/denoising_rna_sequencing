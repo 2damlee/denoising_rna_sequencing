{
 "cells": [
  {
   "cell_type": "code",
   "execution_count": null,
   "id": "81c35be5",
   "metadata": {},
   "outputs": [],
   "source": [
    "import sys\n",
    "import scanpy as sc\n",
    "\n",
    "sys.path.append(\"..\")\n",
    "from scripts.runner_baselines_sklearn import nested_cv_baselines"
   ]
  },
  {
   "cell_type": "code",
   "execution_count": null,
   "id": "9ab44fc4",
   "metadata": {},
   "outputs": [
    {
     "name": "stderr",
     "output_type": "stream",
     "text": [
      "/mnt/data/venvs/thesis-impute/lib/python3.10/site-packages/anndata/utils.py:434: FutureWarning: Importing read_csv from `anndata` is deprecated. Import anndata.io.read_csv instead.\n",
      "  warnings.warn(msg, FutureWarning)\n",
      "/mnt/data/venvs/thesis-impute/lib/python3.10/site-packages/anndata/utils.py:434: FutureWarning: Importing read_excel from `anndata` is deprecated. Import anndata.io.read_excel instead.\n",
      "  warnings.warn(msg, FutureWarning)\n",
      "/mnt/data/venvs/thesis-impute/lib/python3.10/site-packages/anndata/utils.py:434: FutureWarning: Importing read_hdf from `anndata` is deprecated. Import anndata.io.read_hdf instead.\n",
      "  warnings.warn(msg, FutureWarning)\n",
      "/mnt/data/venvs/thesis-impute/lib/python3.10/site-packages/anndata/utils.py:434: FutureWarning: Importing read_loom from `anndata` is deprecated. Import anndata.io.read_loom instead.\n",
      "  warnings.warn(msg, FutureWarning)\n",
      "/mnt/data/venvs/thesis-impute/lib/python3.10/site-packages/anndata/utils.py:434: FutureWarning: Importing read_mtx from `anndata` is deprecated. Import anndata.io.read_mtx instead.\n",
      "  warnings.warn(msg, FutureWarning)\n",
      "/mnt/data/venvs/thesis-impute/lib/python3.10/site-packages/anndata/utils.py:434: FutureWarning: Importing read_text from `anndata` is deprecated. Import anndata.io.read_text instead.\n",
      "  warnings.warn(msg, FutureWarning)\n",
      "/mnt/data/venvs/thesis-impute/lib/python3.10/site-packages/anndata/utils.py:434: FutureWarning: Importing read_umi_tools from `anndata` is deprecated. Import anndata.io.read_umi_tools instead.\n",
      "  warnings.warn(msg, FutureWarning)\n"
     ]
    }
   ],
   "source": [
    "# Load data\n",
    "IN_PATH_neu = \"../data/processed/raw_count/GSE169569_raw_counts.h5ad\"\n",
    "IN_PATH_cov = \"../data/processed/raw_count/GSE228841_raw_counts.h5ad\"\n",
    "\n",
    "adata_neu = sc.read_h5ad(IN_PATH_neu)\n",
    "adata_cov = sc.read_h5ad(IN_PATH_cov)"
   ]
  },
  {
   "cell_type": "code",
   "execution_count": null,
   "id": "d74d7a02",
   "metadata": {},
   "outputs": [],
   "source": [
    "import numpy as np\n",
    "\n",
    "# Extract data matrices and metadata\n",
    "X_counts = adata_neu.layers[\"counts\"] # raw counts\n",
    "gene_names = np.array(adata_neu.var_names, dtype=str)\n",
    "batches = np.array(adata_neu.obs[\"BioProject\"], dtype=str)\n",
    "norm_layer = adata_neu.layers[\"log2_1p_CPM_original\"]"
   ]
  },
  {
   "cell_type": "code",
   "execution_count": null,
   "id": "840ee927",
   "metadata": {},
   "outputs": [
    {
     "name": "stderr",
     "output_type": "stream",
     "text": [
      "/mnt/data/venvs/thesis-impute/lib/python3.10/site-packages/scanpy/preprocessing/_highly_variable_genes.py:75: UserWarning: `flavor='seurat_v3'` expects raw count data, but non-integers were found.\n",
      "  warnings.warn(\n",
      "/mnt/data/venvs/thesis-impute/lib/python3.10/site-packages/scanpy/preprocessing/_highly_variable_genes.py:75: UserWarning: `flavor='seurat_v3'` expects raw count data, but non-integers were found.\n",
      "  warnings.warn(\n",
      "/mnt/data/venvs/thesis-impute/lib/python3.10/site-packages/scanpy/preprocessing/_highly_variable_genes.py:75: UserWarning: `flavor='seurat_v3'` expects raw count data, but non-integers were found.\n",
      "  warnings.warn(\n",
      "/mnt/data/thesis_project/notebooks/../scripts/runner_baselines_sklearn.py:92: RuntimeWarning: divide by zero encountered in log1p\n",
      "  return (gammaln(x + r) - gammaln(r) - gammaln(x + 1.0) + r*np.log(p) + x*np.log1p(-p))\n",
      "/mnt/data/thesis_project/notebooks/../scripts/runner_baselines_sklearn.py:92: RuntimeWarning: invalid value encountered in multiply\n",
      "  return (gammaln(x + r) - gammaln(r) - gammaln(x + 1.0) + r*np.log(p) + x*np.log1p(-p))\n",
      "/mnt/data/thesis_project/notebooks/../scripts/runner_baselines_sklearn.py:92: RuntimeWarning: divide by zero encountered in log1p\n",
      "  return (gammaln(x + r) - gammaln(r) - gammaln(x + 1.0) + r*np.log(p) + x*np.log1p(-p))\n",
      "/mnt/data/thesis_project/notebooks/../scripts/runner_baselines_sklearn.py:92: RuntimeWarning: invalid value encountered in multiply\n",
      "  return (gammaln(x + r) - gammaln(r) - gammaln(x + 1.0) + r*np.log(p) + x*np.log1p(-p))\n",
      "/mnt/data/thesis_project/notebooks/../scripts/runner_baselines_sklearn.py:92: RuntimeWarning: divide by zero encountered in log1p\n",
      "  return (gammaln(x + r) - gammaln(r) - gammaln(x + 1.0) + r*np.log(p) + x*np.log1p(-p))\n",
      "/mnt/data/thesis_project/notebooks/../scripts/runner_baselines_sklearn.py:92: RuntimeWarning: invalid value encountered in multiply\n",
      "  return (gammaln(x + r) - gammaln(r) - gammaln(x + 1.0) + r*np.log(p) + x*np.log1p(-p))\n",
      "/mnt/data/thesis_project/notebooks/../scripts/runner_baselines_sklearn.py:92: RuntimeWarning: divide by zero encountered in log1p\n",
      "  return (gammaln(x + r) - gammaln(r) - gammaln(x + 1.0) + r*np.log(p) + x*np.log1p(-p))\n",
      "/mnt/data/thesis_project/notebooks/../scripts/runner_baselines_sklearn.py:92: RuntimeWarning: invalid value encountered in multiply\n",
      "  return (gammaln(x + r) - gammaln(r) - gammaln(x + 1.0) + r*np.log(p) + x*np.log1p(-p))\n",
      "/mnt/data/thesis_project/notebooks/../scripts/runner_baselines_sklearn.py:92: RuntimeWarning: divide by zero encountered in log1p\n",
      "  return (gammaln(x + r) - gammaln(r) - gammaln(x + 1.0) + r*np.log(p) + x*np.log1p(-p))\n",
      "/mnt/data/thesis_project/notebooks/../scripts/runner_baselines_sklearn.py:92: RuntimeWarning: invalid value encountered in multiply\n",
      "  return (gammaln(x + r) - gammaln(r) - gammaln(x + 1.0) + r*np.log(p) + x*np.log1p(-p))\n",
      "/mnt/data/thesis_project/notebooks/../scripts/runner_baselines_sklearn.py:92: RuntimeWarning: divide by zero encountered in log1p\n",
      "  return (gammaln(x + r) - gammaln(r) - gammaln(x + 1.0) + r*np.log(p) + x*np.log1p(-p))\n",
      "/mnt/data/thesis_project/notebooks/../scripts/runner_baselines_sklearn.py:92: RuntimeWarning: invalid value encountered in multiply\n",
      "  return (gammaln(x + r) - gammaln(r) - gammaln(x + 1.0) + r*np.log(p) + x*np.log1p(-p))\n",
      "/mnt/data/thesis_project/notebooks/../scripts/runner_baselines_sklearn.py:92: RuntimeWarning: divide by zero encountered in log1p\n",
      "  return (gammaln(x + r) - gammaln(r) - gammaln(x + 1.0) + r*np.log(p) + x*np.log1p(-p))\n",
      "/mnt/data/thesis_project/notebooks/../scripts/runner_baselines_sklearn.py:92: RuntimeWarning: invalid value encountered in multiply\n",
      "  return (gammaln(x + r) - gammaln(r) - gammaln(x + 1.0) + r*np.log(p) + x*np.log1p(-p))\n",
      "/mnt/data/thesis_project/notebooks/../scripts/runner_baselines_sklearn.py:92: RuntimeWarning: divide by zero encountered in log1p\n",
      "  return (gammaln(x + r) - gammaln(r) - gammaln(x + 1.0) + r*np.log(p) + x*np.log1p(-p))\n",
      "/mnt/data/thesis_project/notebooks/../scripts/runner_baselines_sklearn.py:92: RuntimeWarning: invalid value encountered in multiply\n",
      "  return (gammaln(x + r) - gammaln(r) - gammaln(x + 1.0) + r*np.log(p) + x*np.log1p(-p))\n",
      "/mnt/data/thesis_project/notebooks/../scripts/runner_baselines_sklearn.py:92: RuntimeWarning: divide by zero encountered in log1p\n",
      "  return (gammaln(x + r) - gammaln(r) - gammaln(x + 1.0) + r*np.log(p) + x*np.log1p(-p))\n",
      "/mnt/data/thesis_project/notebooks/../scripts/runner_baselines_sklearn.py:92: RuntimeWarning: invalid value encountered in multiply\n",
      "  return (gammaln(x + r) - gammaln(r) - gammaln(x + 1.0) + r*np.log(p) + x*np.log1p(-p))\n",
      "/mnt/data/thesis_project/notebooks/../scripts/runner_baselines_sklearn.py:92: RuntimeWarning: divide by zero encountered in log1p\n",
      "  return (gammaln(x + r) - gammaln(r) - gammaln(x + 1.0) + r*np.log(p) + x*np.log1p(-p))\n",
      "/mnt/data/thesis_project/notebooks/../scripts/runner_baselines_sklearn.py:92: RuntimeWarning: invalid value encountered in multiply\n",
      "  return (gammaln(x + r) - gammaln(r) - gammaln(x + 1.0) + r*np.log(p) + x*np.log1p(-p))\n",
      "/mnt/data/thesis_project/notebooks/../scripts/runner_baselines_sklearn.py:92: RuntimeWarning: divide by zero encountered in log1p\n",
      "  return (gammaln(x + r) - gammaln(r) - gammaln(x + 1.0) + r*np.log(p) + x*np.log1p(-p))\n",
      "/mnt/data/thesis_project/notebooks/../scripts/runner_baselines_sklearn.py:92: RuntimeWarning: invalid value encountered in multiply\n",
      "  return (gammaln(x + r) - gammaln(r) - gammaln(x + 1.0) + r*np.log(p) + x*np.log1p(-p))\n",
      "/mnt/data/thesis_project/notebooks/../scripts/runner_baselines_sklearn.py:92: RuntimeWarning: divide by zero encountered in log1p\n",
      "  return (gammaln(x + r) - gammaln(r) - gammaln(x + 1.0) + r*np.log(p) + x*np.log1p(-p))\n",
      "/mnt/data/thesis_project/notebooks/../scripts/runner_baselines_sklearn.py:92: RuntimeWarning: invalid value encountered in multiply\n",
      "  return (gammaln(x + r) - gammaln(r) - gammaln(x + 1.0) + r*np.log(p) + x*np.log1p(-p))\n",
      "/mnt/data/thesis_project/notebooks/../scripts/runner_baselines_sklearn.py:92: RuntimeWarning: divide by zero encountered in log1p\n",
      "  return (gammaln(x + r) - gammaln(r) - gammaln(x + 1.0) + r*np.log(p) + x*np.log1p(-p))\n",
      "/mnt/data/thesis_project/notebooks/../scripts/runner_baselines_sklearn.py:92: RuntimeWarning: invalid value encountered in multiply\n",
      "  return (gammaln(x + r) - gammaln(r) - gammaln(x + 1.0) + r*np.log(p) + x*np.log1p(-p))\n",
      "/mnt/data/thesis_project/notebooks/../scripts/runner_baselines_sklearn.py:92: RuntimeWarning: divide by zero encountered in log1p\n",
      "  return (gammaln(x + r) - gammaln(r) - gammaln(x + 1.0) + r*np.log(p) + x*np.log1p(-p))\n",
      "/mnt/data/thesis_project/notebooks/../scripts/runner_baselines_sklearn.py:92: RuntimeWarning: invalid value encountered in multiply\n",
      "  return (gammaln(x + r) - gammaln(r) - gammaln(x + 1.0) + r*np.log(p) + x*np.log1p(-p))\n",
      "/mnt/data/thesis_project/notebooks/../scripts/runner_baselines_sklearn.py:92: RuntimeWarning: divide by zero encountered in log1p\n",
      "  return (gammaln(x + r) - gammaln(r) - gammaln(x + 1.0) + r*np.log(p) + x*np.log1p(-p))\n",
      "/mnt/data/thesis_project/notebooks/../scripts/runner_baselines_sklearn.py:92: RuntimeWarning: invalid value encountered in multiply\n",
      "  return (gammaln(x + r) - gammaln(r) - gammaln(x + 1.0) + r*np.log(p) + x*np.log1p(-p))\n",
      "/mnt/data/thesis_project/notebooks/../scripts/runner_baselines_sklearn.py:92: RuntimeWarning: divide by zero encountered in log1p\n",
      "  return (gammaln(x + r) - gammaln(r) - gammaln(x + 1.0) + r*np.log(p) + x*np.log1p(-p))\n",
      "/mnt/data/thesis_project/notebooks/../scripts/runner_baselines_sklearn.py:92: RuntimeWarning: invalid value encountered in multiply\n",
      "  return (gammaln(x + r) - gammaln(r) - gammaln(x + 1.0) + r*np.log(p) + x*np.log1p(-p))\n",
      "/mnt/data/thesis_project/notebooks/../scripts/runner_baselines_sklearn.py:92: RuntimeWarning: divide by zero encountered in log1p\n",
      "  return (gammaln(x + r) - gammaln(r) - gammaln(x + 1.0) + r*np.log(p) + x*np.log1p(-p))\n",
      "/mnt/data/thesis_project/notebooks/../scripts/runner_baselines_sklearn.py:92: RuntimeWarning: invalid value encountered in multiply\n",
      "  return (gammaln(x + r) - gammaln(r) - gammaln(x + 1.0) + r*np.log(p) + x*np.log1p(-p))\n",
      "/mnt/data/thesis_project/notebooks/../scripts/runner_baselines_sklearn.py:92: RuntimeWarning: divide by zero encountered in log1p\n",
      "  return (gammaln(x + r) - gammaln(r) - gammaln(x + 1.0) + r*np.log(p) + x*np.log1p(-p))\n",
      "/mnt/data/thesis_project/notebooks/../scripts/runner_baselines_sklearn.py:92: RuntimeWarning: invalid value encountered in multiply\n",
      "  return (gammaln(x + r) - gammaln(r) - gammaln(x + 1.0) + r*np.log(p) + x*np.log1p(-p))\n",
      "/mnt/data/thesis_project/notebooks/../scripts/runner_baselines_sklearn.py:92: RuntimeWarning: divide by zero encountered in log1p\n",
      "  return (gammaln(x + r) - gammaln(r) - gammaln(x + 1.0) + r*np.log(p) + x*np.log1p(-p))\n",
      "/mnt/data/thesis_project/notebooks/../scripts/runner_baselines_sklearn.py:92: RuntimeWarning: invalid value encountered in multiply\n",
      "  return (gammaln(x + r) - gammaln(r) - gammaln(x + 1.0) + r*np.log(p) + x*np.log1p(-p))\n",
      "/mnt/data/thesis_project/notebooks/../scripts/runner_baselines_sklearn.py:92: RuntimeWarning: divide by zero encountered in log1p\n",
      "  return (gammaln(x + r) - gammaln(r) - gammaln(x + 1.0) + r*np.log(p) + x*np.log1p(-p))\n",
      "/mnt/data/thesis_project/notebooks/../scripts/runner_baselines_sklearn.py:92: RuntimeWarning: invalid value encountered in multiply\n",
      "  return (gammaln(x + r) - gammaln(r) - gammaln(x + 1.0) + r*np.log(p) + x*np.log1p(-p))\n",
      "/mnt/data/thesis_project/notebooks/../scripts/runner_baselines_sklearn.py:92: RuntimeWarning: divide by zero encountered in log1p\n",
      "  return (gammaln(x + r) - gammaln(r) - gammaln(x + 1.0) + r*np.log(p) + x*np.log1p(-p))\n",
      "/mnt/data/thesis_project/notebooks/../scripts/runner_baselines_sklearn.py:92: RuntimeWarning: invalid value encountered in multiply\n",
      "  return (gammaln(x + r) - gammaln(r) - gammaln(x + 1.0) + r*np.log(p) + x*np.log1p(-p))\n",
      "/mnt/data/thesis_project/notebooks/../scripts/runner_baselines_sklearn.py:92: RuntimeWarning: divide by zero encountered in log1p\n",
      "  return (gammaln(x + r) - gammaln(r) - gammaln(x + 1.0) + r*np.log(p) + x*np.log1p(-p))\n",
      "/mnt/data/thesis_project/notebooks/../scripts/runner_baselines_sklearn.py:92: RuntimeWarning: invalid value encountered in multiply\n",
      "  return (gammaln(x + r) - gammaln(r) - gammaln(x + 1.0) + r*np.log(p) + x*np.log1p(-p))\n",
      "/mnt/data/thesis_project/notebooks/../scripts/runner_baselines_sklearn.py:92: RuntimeWarning: divide by zero encountered in log1p\n",
      "  return (gammaln(x + r) - gammaln(r) - gammaln(x + 1.0) + r*np.log(p) + x*np.log1p(-p))\n",
      "/mnt/data/thesis_project/notebooks/../scripts/runner_baselines_sklearn.py:92: RuntimeWarning: invalid value encountered in multiply\n",
      "  return (gammaln(x + r) - gammaln(r) - gammaln(x + 1.0) + r*np.log(p) + x*np.log1p(-p))\n",
      "/mnt/data/thesis_project/notebooks/../scripts/runner_baselines_sklearn.py:92: RuntimeWarning: divide by zero encountered in log1p\n",
      "  return (gammaln(x + r) - gammaln(r) - gammaln(x + 1.0) + r*np.log(p) + x*np.log1p(-p))\n",
      "/mnt/data/thesis_project/notebooks/../scripts/runner_baselines_sklearn.py:92: RuntimeWarning: invalid value encountered in multiply\n",
      "  return (gammaln(x + r) - gammaln(r) - gammaln(x + 1.0) + r*np.log(p) + x*np.log1p(-p))\n",
      "/mnt/data/thesis_project/notebooks/../scripts/runner_baselines_sklearn.py:92: RuntimeWarning: divide by zero encountered in log1p\n",
      "  return (gammaln(x + r) - gammaln(r) - gammaln(x + 1.0) + r*np.log(p) + x*np.log1p(-p))\n",
      "/mnt/data/thesis_project/notebooks/../scripts/runner_baselines_sklearn.py:92: RuntimeWarning: invalid value encountered in multiply\n",
      "  return (gammaln(x + r) - gammaln(r) - gammaln(x + 1.0) + r*np.log(p) + x*np.log1p(-p))\n",
      "/mnt/data/thesis_project/notebooks/../scripts/runner_baselines_sklearn.py:92: RuntimeWarning: divide by zero encountered in log1p\n",
      "  return (gammaln(x + r) - gammaln(r) - gammaln(x + 1.0) + r*np.log(p) + x*np.log1p(-p))\n",
      "/mnt/data/thesis_project/notebooks/../scripts/runner_baselines_sklearn.py:92: RuntimeWarning: invalid value encountered in multiply\n",
      "  return (gammaln(x + r) - gammaln(r) - gammaln(x + 1.0) + r*np.log(p) + x*np.log1p(-p))\n",
      "/mnt/data/thesis_project/notebooks/../scripts/runner_baselines_sklearn.py:92: RuntimeWarning: divide by zero encountered in log1p\n",
      "  return (gammaln(x + r) - gammaln(r) - gammaln(x + 1.0) + r*np.log(p) + x*np.log1p(-p))\n",
      "/mnt/data/thesis_project/notebooks/../scripts/runner_baselines_sklearn.py:92: RuntimeWarning: invalid value encountered in multiply\n",
      "  return (gammaln(x + r) - gammaln(r) - gammaln(x + 1.0) + r*np.log(p) + x*np.log1p(-p))\n",
      "/mnt/data/thesis_project/notebooks/../scripts/runner_baselines_sklearn.py:92: RuntimeWarning: divide by zero encountered in log1p\n",
      "  return (gammaln(x + r) - gammaln(r) - gammaln(x + 1.0) + r*np.log(p) + x*np.log1p(-p))\n",
      "/mnt/data/thesis_project/notebooks/../scripts/runner_baselines_sklearn.py:92: RuntimeWarning: invalid value encountered in multiply\n",
      "  return (gammaln(x + r) - gammaln(r) - gammaln(x + 1.0) + r*np.log(p) + x*np.log1p(-p))\n",
      "/mnt/data/thesis_project/notebooks/../scripts/runner_baselines_sklearn.py:92: RuntimeWarning: divide by zero encountered in log1p\n",
      "  return (gammaln(x + r) - gammaln(r) - gammaln(x + 1.0) + r*np.log(p) + x*np.log1p(-p))\n",
      "/mnt/data/thesis_project/notebooks/../scripts/runner_baselines_sklearn.py:92: RuntimeWarning: invalid value encountered in multiply\n",
      "  return (gammaln(x + r) - gammaln(r) - gammaln(x + 1.0) + r*np.log(p) + x*np.log1p(-p))\n",
      "/mnt/data/thesis_project/notebooks/../scripts/runner_baselines_sklearn.py:92: RuntimeWarning: divide by zero encountered in log1p\n",
      "  return (gammaln(x + r) - gammaln(r) - gammaln(x + 1.0) + r*np.log(p) + x*np.log1p(-p))\n",
      "/mnt/data/thesis_project/notebooks/../scripts/runner_baselines_sklearn.py:92: RuntimeWarning: invalid value encountered in multiply\n",
      "  return (gammaln(x + r) - gammaln(r) - gammaln(x + 1.0) + r*np.log(p) + x*np.log1p(-p))\n",
      "/mnt/data/thesis_project/notebooks/../scripts/runner_baselines_sklearn.py:92: RuntimeWarning: divide by zero encountered in log1p\n",
      "  return (gammaln(x + r) - gammaln(r) - gammaln(x + 1.0) + r*np.log(p) + x*np.log1p(-p))\n",
      "/mnt/data/thesis_project/notebooks/../scripts/runner_baselines_sklearn.py:92: RuntimeWarning: invalid value encountered in multiply\n",
      "  return (gammaln(x + r) - gammaln(r) - gammaln(x + 1.0) + r*np.log(p) + x*np.log1p(-p))\n",
      "/mnt/data/thesis_project/notebooks/../scripts/runner_baselines_sklearn.py:92: RuntimeWarning: divide by zero encountered in log1p\n",
      "  return (gammaln(x + r) - gammaln(r) - gammaln(x + 1.0) + r*np.log(p) + x*np.log1p(-p))\n",
      "/mnt/data/thesis_project/notebooks/../scripts/runner_baselines_sklearn.py:92: RuntimeWarning: invalid value encountered in multiply\n",
      "  return (gammaln(x + r) - gammaln(r) - gammaln(x + 1.0) + r*np.log(p) + x*np.log1p(-p))\n",
      "/mnt/data/thesis_project/notebooks/../scripts/runner_baselines_sklearn.py:92: RuntimeWarning: divide by zero encountered in log1p\n",
      "  return (gammaln(x + r) - gammaln(r) - gammaln(x + 1.0) + r*np.log(p) + x*np.log1p(-p))\n",
      "/mnt/data/thesis_project/notebooks/../scripts/runner_baselines_sklearn.py:92: RuntimeWarning: invalid value encountered in multiply\n",
      "  return (gammaln(x + r) - gammaln(r) - gammaln(x + 1.0) + r*np.log(p) + x*np.log1p(-p))\n",
      "/mnt/data/thesis_project/notebooks/../scripts/runner_baselines_sklearn.py:92: RuntimeWarning: divide by zero encountered in log1p\n",
      "  return (gammaln(x + r) - gammaln(r) - gammaln(x + 1.0) + r*np.log(p) + x*np.log1p(-p))\n",
      "/mnt/data/thesis_project/notebooks/../scripts/runner_baselines_sklearn.py:92: RuntimeWarning: invalid value encountered in multiply\n",
      "  return (gammaln(x + r) - gammaln(r) - gammaln(x + 1.0) + r*np.log(p) + x*np.log1p(-p))\n"
     ]
    },
    {
     "name": "stdout",
     "output_type": "stream",
     "text": [
      "Running MAGIC on 238 cells and 1000 genes.\n",
      "Calculating graph and diffusion operator...\n",
      "  Calculating KNN search...\n",
      "  Calculated KNN search in 0.06 seconds.\n",
      "  Calculating affinities...\n"
     ]
    },
    {
     "name": "stderr",
     "output_type": "stream",
     "text": [
      "/mnt/data/thesis_project/notebooks/../scripts/runner_baselines_sklearn.py:92: RuntimeWarning: divide by zero encountered in log1p\n",
      "  return (gammaln(x + r) - gammaln(r) - gammaln(x + 1.0) + r*np.log(p) + x*np.log1p(-p))\n",
      "/mnt/data/thesis_project/notebooks/../scripts/runner_baselines_sklearn.py:92: RuntimeWarning: invalid value encountered in multiply\n",
      "  return (gammaln(x + r) - gammaln(r) - gammaln(x + 1.0) + r*np.log(p) + x*np.log1p(-p))\n",
      "/mnt/data/venvs/thesis-impute/lib/python3.10/site-packages/graphtools/graphs.py:122: UserWarning: Building a kNNGraph on data of shape (238, 1000) is expensive. Consider setting n_pca.\n",
      "  warnings.warn(\n"
     ]
    },
    {
     "name": "stdout",
     "output_type": "stream",
     "text": [
      "  Calculated affinities in 0.05 seconds.\n",
      "Calculated graph and diffusion operator in 0.12 seconds.\n",
      "Calculating imputation...\n",
      "Calculating MAGIC...\n",
      "  Running MAGIC on 357 cells and 1000 genes.\n",
      "  Calculating graph and diffusion operator...\n",
      "    Calculating KNN search...\n",
      "    Calculated KNN search in 0.11 seconds.\n",
      "    Calculating affinities...\n"
     ]
    },
    {
     "name": "stderr",
     "output_type": "stream",
     "text": [
      "/mnt/data/venvs/thesis-impute/lib/python3.10/site-packages/magic/magic.py:541: UserWarning: Running MAGIC.transform on different data to that which was used for MAGIC.fit may not produce sensible output, unless it comes from the same manifold.\n",
      "  warnings.warn(\n",
      "/mnt/data/venvs/thesis-impute/lib/python3.10/site-packages/graphtools/graphs.py:122: UserWarning: Building a kNNGraph on data of shape (357, 1000) is expensive. Consider setting n_pca.\n",
      "  warnings.warn(\n"
     ]
    },
    {
     "name": "stdout",
     "output_type": "stream",
     "text": [
      "    Calculated affinities in 0.10 seconds.\n",
      "  Calculated graph and diffusion operator in 0.21 seconds.\n",
      "  Calculating imputation...\n",
      "Calculated MAGIC in 0.22 seconds.\n",
      "Calculating imputation...\n",
      "Calculating MAGIC...\n",
      "  Running MAGIC on 357 cells and 1000 genes.\n",
      "  Calculating graph and diffusion operator...\n",
      "    Calculating KNN search...\n",
      "    Calculated KNN search in 0.11 seconds.\n",
      "    Calculating affinities...\n"
     ]
    },
    {
     "name": "stderr",
     "output_type": "stream",
     "text": [
      "/mnt/data/venvs/thesis-impute/lib/python3.10/site-packages/magic/magic.py:541: UserWarning: Running MAGIC.transform on different data to that which was used for MAGIC.fit may not produce sensible output, unless it comes from the same manifold.\n",
      "  warnings.warn(\n",
      "/mnt/data/venvs/thesis-impute/lib/python3.10/site-packages/graphtools/graphs.py:122: UserWarning: Building a kNNGraph on data of shape (357, 1000) is expensive. Consider setting n_pca.\n",
      "  warnings.warn(\n"
     ]
    },
    {
     "name": "stdout",
     "output_type": "stream",
     "text": [
      "    Calculated affinities in 0.10 seconds.\n",
      "  Calculated graph and diffusion operator in 0.21 seconds.\n",
      "  Calculating imputation...\n",
      "  Calculated imputation in 0.02 seconds.\n",
      "Calculated MAGIC in 0.23 seconds.\n",
      "Calculating imputation...\n",
      "Calculating MAGIC...\n",
      "  Running MAGIC on 357 cells and 1000 genes.\n",
      "  Calculating graph and diffusion operator...\n",
      "    Calculating KNN search...\n",
      "    Calculated KNN search in 0.10 seconds.\n",
      "    Calculating affinities...\n"
     ]
    },
    {
     "name": "stderr",
     "output_type": "stream",
     "text": [
      "/mnt/data/venvs/thesis-impute/lib/python3.10/site-packages/magic/magic.py:541: UserWarning: Running MAGIC.transform on different data to that which was used for MAGIC.fit may not produce sensible output, unless it comes from the same manifold.\n",
      "  warnings.warn(\n",
      "/mnt/data/venvs/thesis-impute/lib/python3.10/site-packages/graphtools/graphs.py:122: UserWarning: Building a kNNGraph on data of shape (357, 1000) is expensive. Consider setting n_pca.\n",
      "  warnings.warn(\n"
     ]
    },
    {
     "name": "stdout",
     "output_type": "stream",
     "text": [
      "    Calculated affinities in 0.10 seconds.\n",
      "  Calculated graph and diffusion operator in 0.21 seconds.\n",
      "  Calculating imputation...\n",
      "Calculated MAGIC in 0.22 seconds.\n",
      "Running MAGIC on 238 cells and 2000 genes.\n",
      "Calculating graph and diffusion operator...\n",
      "  Calculating KNN search...\n",
      "  Calculated KNN search in 0.10 seconds.\n",
      "  Calculating affinities...\n",
      "  Calculated affinities in 0.08 seconds.\n",
      "Calculated graph and diffusion operator in 0.18 seconds.\n"
     ]
    },
    {
     "name": "stderr",
     "output_type": "stream",
     "text": [
      "/mnt/data/venvs/thesis-impute/lib/python3.10/site-packages/graphtools/graphs.py:122: UserWarning: Building a kNNGraph on data of shape (238, 2000) is expensive. Consider setting n_pca.\n",
      "  warnings.warn(\n"
     ]
    },
    {
     "name": "stdout",
     "output_type": "stream",
     "text": [
      "Calculating imputation...\n",
      "Calculated imputation in 0.02 seconds.\n",
      "Calculating MAGIC...\n",
      "  Running MAGIC on 357 cells and 2000 genes.\n",
      "  Calculating graph and diffusion operator...\n",
      "    Calculating KNN search...\n"
     ]
    },
    {
     "name": "stderr",
     "output_type": "stream",
     "text": [
      "/mnt/data/venvs/thesis-impute/lib/python3.10/site-packages/magic/magic.py:541: UserWarning: Running MAGIC.transform on different data to that which was used for MAGIC.fit may not produce sensible output, unless it comes from the same manifold.\n",
      "  warnings.warn(\n",
      "/mnt/data/venvs/thesis-impute/lib/python3.10/site-packages/graphtools/graphs.py:122: UserWarning: Building a kNNGraph on data of shape (357, 2000) is expensive. Consider setting n_pca.\n",
      "  warnings.warn(\n"
     ]
    },
    {
     "name": "stdout",
     "output_type": "stream",
     "text": [
      "    Calculated KNN search in 0.18 seconds.\n",
      "    Calculating affinities...\n",
      "    Calculated affinities in 0.15 seconds.\n",
      "  Calculated graph and diffusion operator in 0.33 seconds.\n",
      "  Calculating imputation...\n",
      "  Calculated imputation in 0.03 seconds.\n",
      "Calculated MAGIC in 0.37 seconds.\n",
      "Calculating imputation...\n",
      "Calculating MAGIC...\n",
      "  Running MAGIC on 357 cells and 2000 genes.\n",
      "  Calculating graph and diffusion operator...\n",
      "    Calculating KNN search...\n",
      "    Calculated KNN search in 0.17 seconds.\n",
      "    Calculating affinities...\n"
     ]
    },
    {
     "name": "stderr",
     "output_type": "stream",
     "text": [
      "/mnt/data/venvs/thesis-impute/lib/python3.10/site-packages/magic/magic.py:541: UserWarning: Running MAGIC.transform on different data to that which was used for MAGIC.fit may not produce sensible output, unless it comes from the same manifold.\n",
      "  warnings.warn(\n",
      "/mnt/data/venvs/thesis-impute/lib/python3.10/site-packages/graphtools/graphs.py:122: UserWarning: Building a kNNGraph on data of shape (357, 2000) is expensive. Consider setting n_pca.\n",
      "  warnings.warn(\n"
     ]
    },
    {
     "name": "stdout",
     "output_type": "stream",
     "text": [
      "    Calculated affinities in 0.15 seconds.\n",
      "  Calculated graph and diffusion operator in 0.33 seconds.\n",
      "  Calculating imputation...\n",
      "  Calculated imputation in 0.01 seconds.\n",
      "Calculated MAGIC in 0.35 seconds.\n",
      "Calculating imputation...\n",
      "Calculating MAGIC...\n",
      "  Running MAGIC on 357 cells and 2000 genes.\n",
      "  Calculating graph and diffusion operator...\n",
      "    Calculating KNN search...\n",
      "    Calculated KNN search in 0.17 seconds.\n",
      "    Calculating affinities...\n"
     ]
    },
    {
     "name": "stderr",
     "output_type": "stream",
     "text": [
      "/mnt/data/venvs/thesis-impute/lib/python3.10/site-packages/magic/magic.py:541: UserWarning: Running MAGIC.transform on different data to that which was used for MAGIC.fit may not produce sensible output, unless it comes from the same manifold.\n",
      "  warnings.warn(\n",
      "/mnt/data/venvs/thesis-impute/lib/python3.10/site-packages/graphtools/graphs.py:122: UserWarning: Building a kNNGraph on data of shape (357, 2000) is expensive. Consider setting n_pca.\n",
      "  warnings.warn(\n"
     ]
    },
    {
     "name": "stdout",
     "output_type": "stream",
     "text": [
      "    Calculated affinities in 0.14 seconds.\n",
      "  Calculated graph and diffusion operator in 0.32 seconds.\n",
      "  Calculating imputation...\n",
      "  Calculated imputation in 0.01 seconds.\n",
      "Calculated MAGIC in 0.34 seconds.\n",
      "Running MAGIC on 238 cells and 4000 genes.\n",
      "Calculating graph and diffusion operator...\n",
      "  Calculating KNN search...\n"
     ]
    },
    {
     "name": "stderr",
     "output_type": "stream",
     "text": [
      "/mnt/data/venvs/thesis-impute/lib/python3.10/site-packages/graphtools/graphs.py:122: UserWarning: Building a kNNGraph on data of shape (238, 4000) is expensive. Consider setting n_pca.\n",
      "  warnings.warn(\n"
     ]
    },
    {
     "name": "stdout",
     "output_type": "stream",
     "text": [
      "  Calculated KNN search in 0.20 seconds.\n",
      "  Calculating affinities...\n",
      "  Calculated affinities in 0.18 seconds.\n",
      "Calculated graph and diffusion operator in 0.39 seconds.\n",
      "Calculating imputation...\n",
      "Calculating MAGIC...\n",
      "  Running MAGIC on 357 cells and 4000 genes.\n",
      "  Calculating graph and diffusion operator...\n",
      "    Calculating KNN search...\n"
     ]
    },
    {
     "name": "stderr",
     "output_type": "stream",
     "text": [
      "/mnt/data/venvs/thesis-impute/lib/python3.10/site-packages/magic/magic.py:541: UserWarning: Running MAGIC.transform on different data to that which was used for MAGIC.fit may not produce sensible output, unless it comes from the same manifold.\n",
      "  warnings.warn(\n",
      "/mnt/data/venvs/thesis-impute/lib/python3.10/site-packages/graphtools/graphs.py:122: UserWarning: Building a kNNGraph on data of shape (357, 4000) is expensive. Consider setting n_pca.\n",
      "  warnings.warn(\n"
     ]
    },
    {
     "name": "stdout",
     "output_type": "stream",
     "text": [
      "    Calculated KNN search in 0.36 seconds.\n",
      "    Calculating affinities...\n",
      "    Calculated affinities in 0.32 seconds.\n",
      "  Calculated graph and diffusion operator in 0.69 seconds.\n",
      "  Calculating imputation...\n",
      "  Calculated imputation in 0.02 seconds.\n",
      "Calculated MAGIC in 0.71 seconds.\n",
      "Calculating imputation...\n",
      "Calculating MAGIC...\n",
      "  Running MAGIC on 357 cells and 4000 genes.\n",
      "  Calculating graph and diffusion operator...\n",
      "    Calculating KNN search...\n"
     ]
    },
    {
     "name": "stderr",
     "output_type": "stream",
     "text": [
      "/mnt/data/venvs/thesis-impute/lib/python3.10/site-packages/magic/magic.py:541: UserWarning: Running MAGIC.transform on different data to that which was used for MAGIC.fit may not produce sensible output, unless it comes from the same manifold.\n",
      "  warnings.warn(\n",
      "/mnt/data/venvs/thesis-impute/lib/python3.10/site-packages/graphtools/graphs.py:122: UserWarning: Building a kNNGraph on data of shape (357, 4000) is expensive. Consider setting n_pca.\n",
      "  warnings.warn(\n"
     ]
    },
    {
     "name": "stdout",
     "output_type": "stream",
     "text": [
      "    Calculated KNN search in 0.40 seconds.\n",
      "    Calculating affinities...\n",
      "    Calculated affinities in 0.35 seconds.\n",
      "  Calculated graph and diffusion operator in 0.76 seconds.\n",
      "  Calculating imputation...\n",
      "  Calculated imputation in 0.02 seconds.\n",
      "Calculated MAGIC in 0.79 seconds.\n",
      "Calculating imputation...\n",
      "Calculating MAGIC...\n",
      "  Running MAGIC on 357 cells and 4000 genes.\n",
      "  Calculating graph and diffusion operator...\n",
      "    Calculating KNN search...\n"
     ]
    },
    {
     "name": "stderr",
     "output_type": "stream",
     "text": [
      "/mnt/data/venvs/thesis-impute/lib/python3.10/site-packages/magic/magic.py:541: UserWarning: Running MAGIC.transform on different data to that which was used for MAGIC.fit may not produce sensible output, unless it comes from the same manifold.\n",
      "  warnings.warn(\n",
      "/mnt/data/venvs/thesis-impute/lib/python3.10/site-packages/graphtools/graphs.py:122: UserWarning: Building a kNNGraph on data of shape (357, 4000) is expensive. Consider setting n_pca.\n",
      "  warnings.warn(\n"
     ]
    },
    {
     "name": "stdout",
     "output_type": "stream",
     "text": [
      "    Calculated KNN search in 0.40 seconds.\n",
      "    Calculating affinities...\n",
      "    Calculated affinities in 0.32 seconds.\n",
      "  Calculated graph and diffusion operator in 0.73 seconds.\n",
      "  Calculating imputation...\n",
      "  Calculated imputation in 0.04 seconds.\n",
      "Calculated MAGIC in 0.77 seconds.\n"
     ]
    },
    {
     "name": "stderr",
     "output_type": "stream",
     "text": [
      "/mnt/data/venvs/thesis-impute/lib/python3.10/site-packages/scanpy/preprocessing/_highly_variable_genes.py:75: UserWarning: `flavor='seurat_v3'` expects raw count data, but non-integers were found.\n",
      "  warnings.warn(\n",
      "/mnt/data/venvs/thesis-impute/lib/python3.10/site-packages/scanpy/preprocessing/_highly_variable_genes.py:75: UserWarning: `flavor='seurat_v3'` expects raw count data, but non-integers were found.\n",
      "  warnings.warn(\n",
      "/mnt/data/venvs/thesis-impute/lib/python3.10/site-packages/scanpy/preprocessing/_highly_variable_genes.py:75: UserWarning: `flavor='seurat_v3'` expects raw count data, but non-integers were found.\n",
      "  warnings.warn(\n",
      "/mnt/data/thesis_project/notebooks/../scripts/runner_baselines_sklearn.py:92: RuntimeWarning: divide by zero encountered in log1p\n",
      "  return (gammaln(x + r) - gammaln(r) - gammaln(x + 1.0) + r*np.log(p) + x*np.log1p(-p))\n",
      "/mnt/data/thesis_project/notebooks/../scripts/runner_baselines_sklearn.py:92: RuntimeWarning: invalid value encountered in multiply\n",
      "  return (gammaln(x + r) - gammaln(r) - gammaln(x + 1.0) + r*np.log(p) + x*np.log1p(-p))\n",
      "/mnt/data/thesis_project/notebooks/../scripts/runner_baselines_sklearn.py:92: RuntimeWarning: divide by zero encountered in log1p\n",
      "  return (gammaln(x + r) - gammaln(r) - gammaln(x + 1.0) + r*np.log(p) + x*np.log1p(-p))\n",
      "/mnt/data/thesis_project/notebooks/../scripts/runner_baselines_sklearn.py:92: RuntimeWarning: invalid value encountered in multiply\n",
      "  return (gammaln(x + r) - gammaln(r) - gammaln(x + 1.0) + r*np.log(p) + x*np.log1p(-p))\n",
      "/mnt/data/thesis_project/notebooks/../scripts/runner_baselines_sklearn.py:92: RuntimeWarning: divide by zero encountered in log1p\n",
      "  return (gammaln(x + r) - gammaln(r) - gammaln(x + 1.0) + r*np.log(p) + x*np.log1p(-p))\n",
      "/mnt/data/thesis_project/notebooks/../scripts/runner_baselines_sklearn.py:92: RuntimeWarning: invalid value encountered in multiply\n",
      "  return (gammaln(x + r) - gammaln(r) - gammaln(x + 1.0) + r*np.log(p) + x*np.log1p(-p))\n",
      "/mnt/data/thesis_project/notebooks/../scripts/runner_baselines_sklearn.py:92: RuntimeWarning: divide by zero encountered in log1p\n",
      "  return (gammaln(x + r) - gammaln(r) - gammaln(x + 1.0) + r*np.log(p) + x*np.log1p(-p))\n",
      "/mnt/data/thesis_project/notebooks/../scripts/runner_baselines_sklearn.py:92: RuntimeWarning: invalid value encountered in multiply\n",
      "  return (gammaln(x + r) - gammaln(r) - gammaln(x + 1.0) + r*np.log(p) + x*np.log1p(-p))\n",
      "/mnt/data/thesis_project/notebooks/../scripts/runner_baselines_sklearn.py:92: RuntimeWarning: divide by zero encountered in log1p\n",
      "  return (gammaln(x + r) - gammaln(r) - gammaln(x + 1.0) + r*np.log(p) + x*np.log1p(-p))\n",
      "/mnt/data/thesis_project/notebooks/../scripts/runner_baselines_sklearn.py:92: RuntimeWarning: invalid value encountered in multiply\n",
      "  return (gammaln(x + r) - gammaln(r) - gammaln(x + 1.0) + r*np.log(p) + x*np.log1p(-p))\n",
      "/mnt/data/thesis_project/notebooks/../scripts/runner_baselines_sklearn.py:92: RuntimeWarning: divide by zero encountered in log1p\n",
      "  return (gammaln(x + r) - gammaln(r) - gammaln(x + 1.0) + r*np.log(p) + x*np.log1p(-p))\n",
      "/mnt/data/thesis_project/notebooks/../scripts/runner_baselines_sklearn.py:92: RuntimeWarning: invalid value encountered in multiply\n",
      "  return (gammaln(x + r) - gammaln(r) - gammaln(x + 1.0) + r*np.log(p) + x*np.log1p(-p))\n",
      "/mnt/data/thesis_project/notebooks/../scripts/runner_baselines_sklearn.py:92: RuntimeWarning: divide by zero encountered in log1p\n",
      "  return (gammaln(x + r) - gammaln(r) - gammaln(x + 1.0) + r*np.log(p) + x*np.log1p(-p))\n",
      "/mnt/data/thesis_project/notebooks/../scripts/runner_baselines_sklearn.py:92: RuntimeWarning: invalid value encountered in multiply\n",
      "  return (gammaln(x + r) - gammaln(r) - gammaln(x + 1.0) + r*np.log(p) + x*np.log1p(-p))\n",
      "/mnt/data/thesis_project/notebooks/../scripts/runner_baselines_sklearn.py:92: RuntimeWarning: divide by zero encountered in log1p\n",
      "  return (gammaln(x + r) - gammaln(r) - gammaln(x + 1.0) + r*np.log(p) + x*np.log1p(-p))\n",
      "/mnt/data/thesis_project/notebooks/../scripts/runner_baselines_sklearn.py:92: RuntimeWarning: invalid value encountered in multiply\n",
      "  return (gammaln(x + r) - gammaln(r) - gammaln(x + 1.0) + r*np.log(p) + x*np.log1p(-p))\n",
      "/mnt/data/thesis_project/notebooks/../scripts/runner_baselines_sklearn.py:92: RuntimeWarning: divide by zero encountered in log1p\n",
      "  return (gammaln(x + r) - gammaln(r) - gammaln(x + 1.0) + r*np.log(p) + x*np.log1p(-p))\n",
      "/mnt/data/thesis_project/notebooks/../scripts/runner_baselines_sklearn.py:92: RuntimeWarning: invalid value encountered in multiply\n",
      "  return (gammaln(x + r) - gammaln(r) - gammaln(x + 1.0) + r*np.log(p) + x*np.log1p(-p))\n",
      "/mnt/data/thesis_project/notebooks/../scripts/runner_baselines_sklearn.py:92: RuntimeWarning: divide by zero encountered in log1p\n",
      "  return (gammaln(x + r) - gammaln(r) - gammaln(x + 1.0) + r*np.log(p) + x*np.log1p(-p))\n",
      "/mnt/data/thesis_project/notebooks/../scripts/runner_baselines_sklearn.py:92: RuntimeWarning: invalid value encountered in multiply\n",
      "  return (gammaln(x + r) - gammaln(r) - gammaln(x + 1.0) + r*np.log(p) + x*np.log1p(-p))\n",
      "/mnt/data/thesis_project/notebooks/../scripts/runner_baselines_sklearn.py:92: RuntimeWarning: divide by zero encountered in log1p\n",
      "  return (gammaln(x + r) - gammaln(r) - gammaln(x + 1.0) + r*np.log(p) + x*np.log1p(-p))\n",
      "/mnt/data/thesis_project/notebooks/../scripts/runner_baselines_sklearn.py:92: RuntimeWarning: invalid value encountered in multiply\n",
      "  return (gammaln(x + r) - gammaln(r) - gammaln(x + 1.0) + r*np.log(p) + x*np.log1p(-p))\n",
      "/mnt/data/thesis_project/notebooks/../scripts/runner_baselines_sklearn.py:92: RuntimeWarning: divide by zero encountered in log1p\n",
      "  return (gammaln(x + r) - gammaln(r) - gammaln(x + 1.0) + r*np.log(p) + x*np.log1p(-p))\n",
      "/mnt/data/thesis_project/notebooks/../scripts/runner_baselines_sklearn.py:92: RuntimeWarning: invalid value encountered in multiply\n",
      "  return (gammaln(x + r) - gammaln(r) - gammaln(x + 1.0) + r*np.log(p) + x*np.log1p(-p))\n",
      "/mnt/data/thesis_project/notebooks/../scripts/runner_baselines_sklearn.py:92: RuntimeWarning: divide by zero encountered in log1p\n",
      "  return (gammaln(x + r) - gammaln(r) - gammaln(x + 1.0) + r*np.log(p) + x*np.log1p(-p))\n",
      "/mnt/data/thesis_project/notebooks/../scripts/runner_baselines_sklearn.py:92: RuntimeWarning: invalid value encountered in multiply\n",
      "  return (gammaln(x + r) - gammaln(r) - gammaln(x + 1.0) + r*np.log(p) + x*np.log1p(-p))\n",
      "/mnt/data/thesis_project/notebooks/../scripts/runner_baselines_sklearn.py:92: RuntimeWarning: divide by zero encountered in log1p\n",
      "  return (gammaln(x + r) - gammaln(r) - gammaln(x + 1.0) + r*np.log(p) + x*np.log1p(-p))\n",
      "/mnt/data/thesis_project/notebooks/../scripts/runner_baselines_sklearn.py:92: RuntimeWarning: invalid value encountered in multiply\n",
      "  return (gammaln(x + r) - gammaln(r) - gammaln(x + 1.0) + r*np.log(p) + x*np.log1p(-p))\n",
      "/mnt/data/thesis_project/notebooks/../scripts/runner_baselines_sklearn.py:92: RuntimeWarning: divide by zero encountered in log1p\n",
      "  return (gammaln(x + r) - gammaln(r) - gammaln(x + 1.0) + r*np.log(p) + x*np.log1p(-p))\n",
      "/mnt/data/thesis_project/notebooks/../scripts/runner_baselines_sklearn.py:92: RuntimeWarning: invalid value encountered in multiply\n",
      "  return (gammaln(x + r) - gammaln(r) - gammaln(x + 1.0) + r*np.log(p) + x*np.log1p(-p))\n",
      "/mnt/data/thesis_project/notebooks/../scripts/runner_baselines_sklearn.py:92: RuntimeWarning: divide by zero encountered in log1p\n",
      "  return (gammaln(x + r) - gammaln(r) - gammaln(x + 1.0) + r*np.log(p) + x*np.log1p(-p))\n",
      "/mnt/data/thesis_project/notebooks/../scripts/runner_baselines_sklearn.py:92: RuntimeWarning: invalid value encountered in multiply\n",
      "  return (gammaln(x + r) - gammaln(r) - gammaln(x + 1.0) + r*np.log(p) + x*np.log1p(-p))\n",
      "/mnt/data/thesis_project/notebooks/../scripts/runner_baselines_sklearn.py:92: RuntimeWarning: divide by zero encountered in log1p\n",
      "  return (gammaln(x + r) - gammaln(r) - gammaln(x + 1.0) + r*np.log(p) + x*np.log1p(-p))\n",
      "/mnt/data/thesis_project/notebooks/../scripts/runner_baselines_sklearn.py:92: RuntimeWarning: invalid value encountered in multiply\n",
      "  return (gammaln(x + r) - gammaln(r) - gammaln(x + 1.0) + r*np.log(p) + x*np.log1p(-p))\n",
      "/mnt/data/thesis_project/notebooks/../scripts/runner_baselines_sklearn.py:92: RuntimeWarning: divide by zero encountered in log1p\n",
      "  return (gammaln(x + r) - gammaln(r) - gammaln(x + 1.0) + r*np.log(p) + x*np.log1p(-p))\n",
      "/mnt/data/thesis_project/notebooks/../scripts/runner_baselines_sklearn.py:92: RuntimeWarning: invalid value encountered in multiply\n",
      "  return (gammaln(x + r) - gammaln(r) - gammaln(x + 1.0) + r*np.log(p) + x*np.log1p(-p))\n",
      "/mnt/data/thesis_project/notebooks/../scripts/runner_baselines_sklearn.py:92: RuntimeWarning: divide by zero encountered in log1p\n",
      "  return (gammaln(x + r) - gammaln(r) - gammaln(x + 1.0) + r*np.log(p) + x*np.log1p(-p))\n",
      "/mnt/data/thesis_project/notebooks/../scripts/runner_baselines_sklearn.py:92: RuntimeWarning: invalid value encountered in multiply\n",
      "  return (gammaln(x + r) - gammaln(r) - gammaln(x + 1.0) + r*np.log(p) + x*np.log1p(-p))\n",
      "/mnt/data/thesis_project/notebooks/../scripts/runner_baselines_sklearn.py:92: RuntimeWarning: divide by zero encountered in log1p\n",
      "  return (gammaln(x + r) - gammaln(r) - gammaln(x + 1.0) + r*np.log(p) + x*np.log1p(-p))\n",
      "/mnt/data/thesis_project/notebooks/../scripts/runner_baselines_sklearn.py:92: RuntimeWarning: invalid value encountered in multiply\n",
      "  return (gammaln(x + r) - gammaln(r) - gammaln(x + 1.0) + r*np.log(p) + x*np.log1p(-p))\n",
      "/mnt/data/thesis_project/notebooks/../scripts/runner_baselines_sklearn.py:92: RuntimeWarning: divide by zero encountered in log1p\n",
      "  return (gammaln(x + r) - gammaln(r) - gammaln(x + 1.0) + r*np.log(p) + x*np.log1p(-p))\n",
      "/mnt/data/thesis_project/notebooks/../scripts/runner_baselines_sklearn.py:92: RuntimeWarning: invalid value encountered in multiply\n",
      "  return (gammaln(x + r) - gammaln(r) - gammaln(x + 1.0) + r*np.log(p) + x*np.log1p(-p))\n",
      "/mnt/data/thesis_project/notebooks/../scripts/runner_baselines_sklearn.py:92: RuntimeWarning: divide by zero encountered in log1p\n",
      "  return (gammaln(x + r) - gammaln(r) - gammaln(x + 1.0) + r*np.log(p) + x*np.log1p(-p))\n",
      "/mnt/data/thesis_project/notebooks/../scripts/runner_baselines_sklearn.py:92: RuntimeWarning: invalid value encountered in multiply\n",
      "  return (gammaln(x + r) - gammaln(r) - gammaln(x + 1.0) + r*np.log(p) + x*np.log1p(-p))\n",
      "/mnt/data/thesis_project/notebooks/../scripts/runner_baselines_sklearn.py:92: RuntimeWarning: divide by zero encountered in log1p\n",
      "  return (gammaln(x + r) - gammaln(r) - gammaln(x + 1.0) + r*np.log(p) + x*np.log1p(-p))\n",
      "/mnt/data/thesis_project/notebooks/../scripts/runner_baselines_sklearn.py:92: RuntimeWarning: invalid value encountered in multiply\n",
      "  return (gammaln(x + r) - gammaln(r) - gammaln(x + 1.0) + r*np.log(p) + x*np.log1p(-p))\n",
      "/mnt/data/thesis_project/notebooks/../scripts/runner_baselines_sklearn.py:92: RuntimeWarning: divide by zero encountered in log1p\n",
      "  return (gammaln(x + r) - gammaln(r) - gammaln(x + 1.0) + r*np.log(p) + x*np.log1p(-p))\n",
      "/mnt/data/thesis_project/notebooks/../scripts/runner_baselines_sklearn.py:92: RuntimeWarning: invalid value encountered in multiply\n",
      "  return (gammaln(x + r) - gammaln(r) - gammaln(x + 1.0) + r*np.log(p) + x*np.log1p(-p))\n"
     ]
    },
    {
     "name": "stdout",
     "output_type": "stream",
     "text": [
      "Running MAGIC on 238 cells and 1000 genes.\n",
      "Calculating graph and diffusion operator...\n",
      "  Calculating KNN search...\n",
      "  Calculated KNN search in 0.05 seconds.\n",
      "  Calculating affinities...\n",
      "  Calculated affinities in 0.05 seconds.\n",
      "Calculated graph and diffusion operator in 0.10 seconds.\n",
      "Calculating imputation...\n",
      "Calculating MAGIC...\n",
      "  Running MAGIC on 357 cells and 1000 genes.\n",
      "  Calculating graph and diffusion operator...\n",
      "    Calculating KNN search...\n"
     ]
    },
    {
     "name": "stderr",
     "output_type": "stream",
     "text": [
      "/mnt/data/thesis_project/notebooks/../scripts/runner_baselines_sklearn.py:92: RuntimeWarning: divide by zero encountered in log1p\n",
      "  return (gammaln(x + r) - gammaln(r) - gammaln(x + 1.0) + r*np.log(p) + x*np.log1p(-p))\n",
      "/mnt/data/thesis_project/notebooks/../scripts/runner_baselines_sklearn.py:92: RuntimeWarning: invalid value encountered in multiply\n",
      "  return (gammaln(x + r) - gammaln(r) - gammaln(x + 1.0) + r*np.log(p) + x*np.log1p(-p))\n",
      "/mnt/data/venvs/thesis-impute/lib/python3.10/site-packages/graphtools/graphs.py:122: UserWarning: Building a kNNGraph on data of shape (238, 1000) is expensive. Consider setting n_pca.\n",
      "  warnings.warn(\n",
      "/mnt/data/venvs/thesis-impute/lib/python3.10/site-packages/magic/magic.py:541: UserWarning: Running MAGIC.transform on different data to that which was used for MAGIC.fit may not produce sensible output, unless it comes from the same manifold.\n",
      "  warnings.warn(\n",
      "/mnt/data/venvs/thesis-impute/lib/python3.10/site-packages/graphtools/graphs.py:122: UserWarning: Building a kNNGraph on data of shape (357, 1000) is expensive. Consider setting n_pca.\n",
      "  warnings.warn(\n"
     ]
    },
    {
     "name": "stdout",
     "output_type": "stream",
     "text": [
      "    Calculated KNN search in 0.11 seconds.\n",
      "    Calculating affinities...\n",
      "    Calculated affinities in 0.10 seconds.\n",
      "  Calculated graph and diffusion operator in 0.22 seconds.\n",
      "  Calculating imputation...\n",
      "Calculated MAGIC in 0.23 seconds.\n",
      "Calculating imputation...\n",
      "Calculating MAGIC...\n",
      "  Running MAGIC on 357 cells and 1000 genes.\n",
      "  Calculating graph and diffusion operator...\n",
      "    Calculating KNN search...\n",
      "    Calculated KNN search in 0.18 seconds.\n"
     ]
    },
    {
     "name": "stderr",
     "output_type": "stream",
     "text": [
      "/mnt/data/venvs/thesis-impute/lib/python3.10/site-packages/magic/magic.py:541: UserWarning: Running MAGIC.transform on different data to that which was used for MAGIC.fit may not produce sensible output, unless it comes from the same manifold.\n",
      "  warnings.warn(\n",
      "/mnt/data/venvs/thesis-impute/lib/python3.10/site-packages/graphtools/graphs.py:122: UserWarning: Building a kNNGraph on data of shape (357, 1000) is expensive. Consider setting n_pca.\n",
      "  warnings.warn(\n"
     ]
    },
    {
     "name": "stdout",
     "output_type": "stream",
     "text": [
      "    Calculating affinities...\n",
      "    Calculated affinities in 0.10 seconds.\n",
      "  Calculated graph and diffusion operator in 0.29 seconds.\n",
      "  Calculating imputation...\n",
      "  Calculated imputation in 0.01 seconds.\n",
      "Calculated MAGIC in 0.32 seconds.\n",
      "Calculating imputation...\n",
      "Calculating MAGIC...\n",
      "  Running MAGIC on 357 cells and 1000 genes.\n",
      "  Calculating graph and diffusion operator...\n",
      "    Calculating KNN search...\n",
      "    Calculated KNN search in 0.11 seconds.\n",
      "    Calculating affinities...\n"
     ]
    },
    {
     "name": "stderr",
     "output_type": "stream",
     "text": [
      "/mnt/data/venvs/thesis-impute/lib/python3.10/site-packages/magic/magic.py:541: UserWarning: Running MAGIC.transform on different data to that which was used for MAGIC.fit may not produce sensible output, unless it comes from the same manifold.\n",
      "  warnings.warn(\n",
      "/mnt/data/venvs/thesis-impute/lib/python3.10/site-packages/graphtools/graphs.py:122: UserWarning: Building a kNNGraph on data of shape (357, 1000) is expensive. Consider setting n_pca.\n",
      "  warnings.warn(\n"
     ]
    },
    {
     "name": "stdout",
     "output_type": "stream",
     "text": [
      "    Calculated affinities in 0.10 seconds.\n",
      "  Calculated graph and diffusion operator in 0.22 seconds.\n",
      "  Calculating imputation...\n",
      "  Calculated imputation in 0.01 seconds.\n",
      "Calculated MAGIC in 0.23 seconds.\n",
      "Running MAGIC on 238 cells and 2000 genes.\n",
      "Calculating graph and diffusion operator...\n",
      "  Calculating KNN search...\n",
      "  Calculated KNN search in 0.09 seconds.\n",
      "  Calculating affinities...\n",
      "  Calculated affinities in 0.08 seconds.\n",
      "Calculated graph and diffusion operator in 0.19 seconds.\n"
     ]
    },
    {
     "name": "stderr",
     "output_type": "stream",
     "text": [
      "/mnt/data/venvs/thesis-impute/lib/python3.10/site-packages/graphtools/graphs.py:122: UserWarning: Building a kNNGraph on data of shape (238, 2000) is expensive. Consider setting n_pca.\n",
      "  warnings.warn(\n"
     ]
    },
    {
     "name": "stdout",
     "output_type": "stream",
     "text": [
      "Calculating imputation...\n",
      "Calculating MAGIC...\n",
      "  Running MAGIC on 357 cells and 2000 genes.\n",
      "  Calculating graph and diffusion operator...\n",
      "    Calculating KNN search...\n",
      "    Calculated KNN search in 0.18 seconds.\n",
      "    Calculating affinities...\n"
     ]
    },
    {
     "name": "stderr",
     "output_type": "stream",
     "text": [
      "/mnt/data/venvs/thesis-impute/lib/python3.10/site-packages/magic/magic.py:541: UserWarning: Running MAGIC.transform on different data to that which was used for MAGIC.fit may not produce sensible output, unless it comes from the same manifold.\n",
      "  warnings.warn(\n",
      "/mnt/data/venvs/thesis-impute/lib/python3.10/site-packages/graphtools/graphs.py:122: UserWarning: Building a kNNGraph on data of shape (357, 2000) is expensive. Consider setting n_pca.\n",
      "  warnings.warn(\n"
     ]
    },
    {
     "name": "stdout",
     "output_type": "stream",
     "text": [
      "    Calculated affinities in 0.16 seconds.\n",
      "  Calculated graph and diffusion operator in 0.35 seconds.\n",
      "  Calculating imputation...\n",
      "  Calculated imputation in 0.01 seconds.\n",
      "Calculated MAGIC in 0.37 seconds.\n",
      "Calculating imputation...\n",
      "Calculating MAGIC...\n",
      "  Running MAGIC on 357 cells and 2000 genes.\n",
      "  Calculating graph and diffusion operator...\n",
      "    Calculating KNN search...\n",
      "    Calculated KNN search in 0.17 seconds.\n",
      "    Calculating affinities...\n"
     ]
    },
    {
     "name": "stderr",
     "output_type": "stream",
     "text": [
      "/mnt/data/venvs/thesis-impute/lib/python3.10/site-packages/magic/magic.py:541: UserWarning: Running MAGIC.transform on different data to that which was used for MAGIC.fit may not produce sensible output, unless it comes from the same manifold.\n",
      "  warnings.warn(\n",
      "/mnt/data/venvs/thesis-impute/lib/python3.10/site-packages/graphtools/graphs.py:122: UserWarning: Building a kNNGraph on data of shape (357, 2000) is expensive. Consider setting n_pca.\n",
      "  warnings.warn(\n"
     ]
    },
    {
     "name": "stdout",
     "output_type": "stream",
     "text": [
      "    Calculated affinities in 0.15 seconds.\n",
      "  Calculated graph and diffusion operator in 0.33 seconds.\n",
      "  Calculating imputation...\n",
      "  Calculated imputation in 0.01 seconds.\n",
      "Calculated MAGIC in 0.35 seconds.\n",
      "Calculating imputation...\n",
      "Calculating MAGIC...\n",
      "  Running MAGIC on 357 cells and 2000 genes.\n",
      "  Calculating graph and diffusion operator...\n",
      "    Calculating KNN search...\n"
     ]
    },
    {
     "name": "stderr",
     "output_type": "stream",
     "text": [
      "/mnt/data/venvs/thesis-impute/lib/python3.10/site-packages/magic/magic.py:541: UserWarning: Running MAGIC.transform on different data to that which was used for MAGIC.fit may not produce sensible output, unless it comes from the same manifold.\n",
      "  warnings.warn(\n",
      "/mnt/data/venvs/thesis-impute/lib/python3.10/site-packages/graphtools/graphs.py:122: UserWarning: Building a kNNGraph on data of shape (357, 2000) is expensive. Consider setting n_pca.\n",
      "  warnings.warn(\n"
     ]
    },
    {
     "name": "stdout",
     "output_type": "stream",
     "text": [
      "    Calculated KNN search in 0.19 seconds.\n",
      "    Calculating affinities...\n",
      "    Calculated affinities in 0.15 seconds.\n",
      "  Calculated graph and diffusion operator in 0.34 seconds.\n",
      "  Calculating imputation...\n",
      "  Calculated imputation in 0.02 seconds.\n",
      "Calculated MAGIC in 0.37 seconds.\n",
      "Running MAGIC on 238 cells and 4000 genes.\n",
      "Calculating graph and diffusion operator...\n",
      "  Calculating KNN search...\n"
     ]
    },
    {
     "name": "stderr",
     "output_type": "stream",
     "text": [
      "/mnt/data/venvs/thesis-impute/lib/python3.10/site-packages/graphtools/graphs.py:122: UserWarning: Building a kNNGraph on data of shape (238, 4000) is expensive. Consider setting n_pca.\n",
      "  warnings.warn(\n"
     ]
    },
    {
     "name": "stdout",
     "output_type": "stream",
     "text": [
      "  Calculated KNN search in 0.21 seconds.\n",
      "  Calculating affinities...\n",
      "  Calculated affinities in 0.17 seconds.\n",
      "Calculated graph and diffusion operator in 0.38 seconds.\n",
      "Calculating imputation...\n",
      "Calculating MAGIC...\n",
      "  Running MAGIC on 357 cells and 4000 genes.\n",
      "  Calculating graph and diffusion operator...\n",
      "    Calculating KNN search...\n"
     ]
    },
    {
     "name": "stderr",
     "output_type": "stream",
     "text": [
      "/mnt/data/venvs/thesis-impute/lib/python3.10/site-packages/magic/magic.py:541: UserWarning: Running MAGIC.transform on different data to that which was used for MAGIC.fit may not produce sensible output, unless it comes from the same manifold.\n",
      "  warnings.warn(\n",
      "/mnt/data/venvs/thesis-impute/lib/python3.10/site-packages/graphtools/graphs.py:122: UserWarning: Building a kNNGraph on data of shape (357, 4000) is expensive. Consider setting n_pca.\n",
      "  warnings.warn(\n"
     ]
    },
    {
     "name": "stdout",
     "output_type": "stream",
     "text": [
      "    Calculated KNN search in 0.41 seconds.\n",
      "    Calculating affinities...\n",
      "    Calculated affinities in 0.33 seconds.\n",
      "  Calculated graph and diffusion operator in 0.75 seconds.\n",
      "  Calculating imputation...\n",
      "  Calculated imputation in 0.03 seconds.\n",
      "Calculated MAGIC in 0.78 seconds.\n",
      "Calculating imputation...\n",
      "Calculating MAGIC...\n",
      "  Running MAGIC on 357 cells and 4000 genes.\n",
      "  Calculating graph and diffusion operator...\n",
      "    Calculating KNN search...\n"
     ]
    },
    {
     "name": "stderr",
     "output_type": "stream",
     "text": [
      "/mnt/data/venvs/thesis-impute/lib/python3.10/site-packages/magic/magic.py:541: UserWarning: Running MAGIC.transform on different data to that which was used for MAGIC.fit may not produce sensible output, unless it comes from the same manifold.\n",
      "  warnings.warn(\n",
      "/mnt/data/venvs/thesis-impute/lib/python3.10/site-packages/graphtools/graphs.py:122: UserWarning: Building a kNNGraph on data of shape (357, 4000) is expensive. Consider setting n_pca.\n",
      "  warnings.warn(\n"
     ]
    },
    {
     "name": "stdout",
     "output_type": "stream",
     "text": [
      "    Calculated KNN search in 0.36 seconds.\n",
      "    Calculating affinities...\n",
      "    Calculated affinities in 0.31 seconds.\n",
      "  Calculated graph and diffusion operator in 0.67 seconds.\n",
      "  Calculating imputation...\n",
      "  Calculated imputation in 0.02 seconds.\n",
      "Calculated MAGIC in 0.70 seconds.\n",
      "Calculating imputation...\n",
      "Calculating MAGIC...\n",
      "  Running MAGIC on 357 cells and 4000 genes.\n",
      "  Calculating graph and diffusion operator...\n",
      "    Calculating KNN search...\n"
     ]
    },
    {
     "name": "stderr",
     "output_type": "stream",
     "text": [
      "/mnt/data/venvs/thesis-impute/lib/python3.10/site-packages/magic/magic.py:541: UserWarning: Running MAGIC.transform on different data to that which was used for MAGIC.fit may not produce sensible output, unless it comes from the same manifold.\n",
      "  warnings.warn(\n",
      "/mnt/data/venvs/thesis-impute/lib/python3.10/site-packages/graphtools/graphs.py:122: UserWarning: Building a kNNGraph on data of shape (357, 4000) is expensive. Consider setting n_pca.\n",
      "  warnings.warn(\n"
     ]
    },
    {
     "name": "stdout",
     "output_type": "stream",
     "text": [
      "    Calculated KNN search in 0.38 seconds.\n",
      "    Calculating affinities...\n",
      "    Calculated affinities in 0.32 seconds.\n",
      "  Calculated graph and diffusion operator in 0.70 seconds.\n",
      "  Calculating imputation...\n",
      "  Calculated imputation in 0.03 seconds.\n",
      "Calculated MAGIC in 0.75 seconds.\n"
     ]
    },
    {
     "name": "stderr",
     "output_type": "stream",
     "text": [
      "/mnt/data/venvs/thesis-impute/lib/python3.10/site-packages/scanpy/preprocessing/_highly_variable_genes.py:75: UserWarning: `flavor='seurat_v3'` expects raw count data, but non-integers were found.\n",
      "  warnings.warn(\n",
      "/mnt/data/venvs/thesis-impute/lib/python3.10/site-packages/scanpy/preprocessing/_highly_variable_genes.py:75: UserWarning: `flavor='seurat_v3'` expects raw count data, but non-integers were found.\n",
      "  warnings.warn(\n",
      "/mnt/data/venvs/thesis-impute/lib/python3.10/site-packages/scanpy/preprocessing/_highly_variable_genes.py:75: UserWarning: `flavor='seurat_v3'` expects raw count data, but non-integers were found.\n",
      "  warnings.warn(\n",
      "/mnt/data/thesis_project/notebooks/../scripts/runner_baselines_sklearn.py:92: RuntimeWarning: divide by zero encountered in log1p\n",
      "  return (gammaln(x + r) - gammaln(r) - gammaln(x + 1.0) + r*np.log(p) + x*np.log1p(-p))\n",
      "/mnt/data/thesis_project/notebooks/../scripts/runner_baselines_sklearn.py:92: RuntimeWarning: invalid value encountered in multiply\n",
      "  return (gammaln(x + r) - gammaln(r) - gammaln(x + 1.0) + r*np.log(p) + x*np.log1p(-p))\n",
      "/mnt/data/thesis_project/notebooks/../scripts/runner_baselines_sklearn.py:92: RuntimeWarning: divide by zero encountered in log1p\n",
      "  return (gammaln(x + r) - gammaln(r) - gammaln(x + 1.0) + r*np.log(p) + x*np.log1p(-p))\n",
      "/mnt/data/thesis_project/notebooks/../scripts/runner_baselines_sklearn.py:92: RuntimeWarning: invalid value encountered in multiply\n",
      "  return (gammaln(x + r) - gammaln(r) - gammaln(x + 1.0) + r*np.log(p) + x*np.log1p(-p))\n",
      "/mnt/data/thesis_project/notebooks/../scripts/runner_baselines_sklearn.py:92: RuntimeWarning: divide by zero encountered in log1p\n",
      "  return (gammaln(x + r) - gammaln(r) - gammaln(x + 1.0) + r*np.log(p) + x*np.log1p(-p))\n",
      "/mnt/data/thesis_project/notebooks/../scripts/runner_baselines_sklearn.py:92: RuntimeWarning: invalid value encountered in multiply\n",
      "  return (gammaln(x + r) - gammaln(r) - gammaln(x + 1.0) + r*np.log(p) + x*np.log1p(-p))\n",
      "/mnt/data/thesis_project/notebooks/../scripts/runner_baselines_sklearn.py:92: RuntimeWarning: divide by zero encountered in log1p\n",
      "  return (gammaln(x + r) - gammaln(r) - gammaln(x + 1.0) + r*np.log(p) + x*np.log1p(-p))\n",
      "/mnt/data/thesis_project/notebooks/../scripts/runner_baselines_sklearn.py:92: RuntimeWarning: invalid value encountered in multiply\n",
      "  return (gammaln(x + r) - gammaln(r) - gammaln(x + 1.0) + r*np.log(p) + x*np.log1p(-p))\n",
      "/mnt/data/thesis_project/notebooks/../scripts/runner_baselines_sklearn.py:92: RuntimeWarning: divide by zero encountered in log1p\n",
      "  return (gammaln(x + r) - gammaln(r) - gammaln(x + 1.0) + r*np.log(p) + x*np.log1p(-p))\n",
      "/mnt/data/thesis_project/notebooks/../scripts/runner_baselines_sklearn.py:92: RuntimeWarning: invalid value encountered in multiply\n",
      "  return (gammaln(x + r) - gammaln(r) - gammaln(x + 1.0) + r*np.log(p) + x*np.log1p(-p))\n",
      "/mnt/data/thesis_project/notebooks/../scripts/runner_baselines_sklearn.py:92: RuntimeWarning: divide by zero encountered in log1p\n",
      "  return (gammaln(x + r) - gammaln(r) - gammaln(x + 1.0) + r*np.log(p) + x*np.log1p(-p))\n",
      "/mnt/data/thesis_project/notebooks/../scripts/runner_baselines_sklearn.py:92: RuntimeWarning: invalid value encountered in multiply\n",
      "  return (gammaln(x + r) - gammaln(r) - gammaln(x + 1.0) + r*np.log(p) + x*np.log1p(-p))\n",
      "/mnt/data/thesis_project/notebooks/../scripts/runner_baselines_sklearn.py:92: RuntimeWarning: divide by zero encountered in log1p\n",
      "  return (gammaln(x + r) - gammaln(r) - gammaln(x + 1.0) + r*np.log(p) + x*np.log1p(-p))\n",
      "/mnt/data/thesis_project/notebooks/../scripts/runner_baselines_sklearn.py:92: RuntimeWarning: invalid value encountered in multiply\n",
      "  return (gammaln(x + r) - gammaln(r) - gammaln(x + 1.0) + r*np.log(p) + x*np.log1p(-p))\n",
      "/mnt/data/thesis_project/notebooks/../scripts/runner_baselines_sklearn.py:92: RuntimeWarning: divide by zero encountered in log1p\n",
      "  return (gammaln(x + r) - gammaln(r) - gammaln(x + 1.0) + r*np.log(p) + x*np.log1p(-p))\n",
      "/mnt/data/thesis_project/notebooks/../scripts/runner_baselines_sklearn.py:92: RuntimeWarning: invalid value encountered in multiply\n",
      "  return (gammaln(x + r) - gammaln(r) - gammaln(x + 1.0) + r*np.log(p) + x*np.log1p(-p))\n",
      "/mnt/data/thesis_project/notebooks/../scripts/runner_baselines_sklearn.py:92: RuntimeWarning: divide by zero encountered in log1p\n",
      "  return (gammaln(x + r) - gammaln(r) - gammaln(x + 1.0) + r*np.log(p) + x*np.log1p(-p))\n",
      "/mnt/data/thesis_project/notebooks/../scripts/runner_baselines_sklearn.py:92: RuntimeWarning: invalid value encountered in multiply\n",
      "  return (gammaln(x + r) - gammaln(r) - gammaln(x + 1.0) + r*np.log(p) + x*np.log1p(-p))\n",
      "/mnt/data/thesis_project/notebooks/../scripts/runner_baselines_sklearn.py:92: RuntimeWarning: divide by zero encountered in log1p\n",
      "  return (gammaln(x + r) - gammaln(r) - gammaln(x + 1.0) + r*np.log(p) + x*np.log1p(-p))\n",
      "/mnt/data/thesis_project/notebooks/../scripts/runner_baselines_sklearn.py:92: RuntimeWarning: invalid value encountered in multiply\n",
      "  return (gammaln(x + r) - gammaln(r) - gammaln(x + 1.0) + r*np.log(p) + x*np.log1p(-p))\n",
      "/mnt/data/thesis_project/notebooks/../scripts/runner_baselines_sklearn.py:92: RuntimeWarning: divide by zero encountered in log1p\n",
      "  return (gammaln(x + r) - gammaln(r) - gammaln(x + 1.0) + r*np.log(p) + x*np.log1p(-p))\n",
      "/mnt/data/thesis_project/notebooks/../scripts/runner_baselines_sklearn.py:92: RuntimeWarning: invalid value encountered in multiply\n",
      "  return (gammaln(x + r) - gammaln(r) - gammaln(x + 1.0) + r*np.log(p) + x*np.log1p(-p))\n",
      "/mnt/data/thesis_project/notebooks/../scripts/runner_baselines_sklearn.py:92: RuntimeWarning: divide by zero encountered in log1p\n",
      "  return (gammaln(x + r) - gammaln(r) - gammaln(x + 1.0) + r*np.log(p) + x*np.log1p(-p))\n",
      "/mnt/data/thesis_project/notebooks/../scripts/runner_baselines_sklearn.py:92: RuntimeWarning: invalid value encountered in multiply\n",
      "  return (gammaln(x + r) - gammaln(r) - gammaln(x + 1.0) + r*np.log(p) + x*np.log1p(-p))\n",
      "/mnt/data/thesis_project/notebooks/../scripts/runner_baselines_sklearn.py:92: RuntimeWarning: divide by zero encountered in log1p\n",
      "  return (gammaln(x + r) - gammaln(r) - gammaln(x + 1.0) + r*np.log(p) + x*np.log1p(-p))\n",
      "/mnt/data/thesis_project/notebooks/../scripts/runner_baselines_sklearn.py:92: RuntimeWarning: invalid value encountered in multiply\n",
      "  return (gammaln(x + r) - gammaln(r) - gammaln(x + 1.0) + r*np.log(p) + x*np.log1p(-p))\n",
      "/mnt/data/thesis_project/notebooks/../scripts/runner_baselines_sklearn.py:92: RuntimeWarning: divide by zero encountered in log1p\n",
      "  return (gammaln(x + r) - gammaln(r) - gammaln(x + 1.0) + r*np.log(p) + x*np.log1p(-p))\n",
      "/mnt/data/thesis_project/notebooks/../scripts/runner_baselines_sklearn.py:92: RuntimeWarning: invalid value encountered in multiply\n",
      "  return (gammaln(x + r) - gammaln(r) - gammaln(x + 1.0) + r*np.log(p) + x*np.log1p(-p))\n",
      "/mnt/data/thesis_project/notebooks/../scripts/runner_baselines_sklearn.py:92: RuntimeWarning: divide by zero encountered in log1p\n",
      "  return (gammaln(x + r) - gammaln(r) - gammaln(x + 1.0) + r*np.log(p) + x*np.log1p(-p))\n",
      "/mnt/data/thesis_project/notebooks/../scripts/runner_baselines_sklearn.py:92: RuntimeWarning: invalid value encountered in multiply\n",
      "  return (gammaln(x + r) - gammaln(r) - gammaln(x + 1.0) + r*np.log(p) + x*np.log1p(-p))\n",
      "/mnt/data/thesis_project/notebooks/../scripts/runner_baselines_sklearn.py:92: RuntimeWarning: divide by zero encountered in log1p\n",
      "  return (gammaln(x + r) - gammaln(r) - gammaln(x + 1.0) + r*np.log(p) + x*np.log1p(-p))\n",
      "/mnt/data/thesis_project/notebooks/../scripts/runner_baselines_sklearn.py:92: RuntimeWarning: invalid value encountered in multiply\n",
      "  return (gammaln(x + r) - gammaln(r) - gammaln(x + 1.0) + r*np.log(p) + x*np.log1p(-p))\n",
      "/mnt/data/thesis_project/notebooks/../scripts/runner_baselines_sklearn.py:92: RuntimeWarning: divide by zero encountered in log1p\n",
      "  return (gammaln(x + r) - gammaln(r) - gammaln(x + 1.0) + r*np.log(p) + x*np.log1p(-p))\n",
      "/mnt/data/thesis_project/notebooks/../scripts/runner_baselines_sklearn.py:92: RuntimeWarning: invalid value encountered in multiply\n",
      "  return (gammaln(x + r) - gammaln(r) - gammaln(x + 1.0) + r*np.log(p) + x*np.log1p(-p))\n",
      "/mnt/data/thesis_project/notebooks/../scripts/runner_baselines_sklearn.py:92: RuntimeWarning: divide by zero encountered in log1p\n",
      "  return (gammaln(x + r) - gammaln(r) - gammaln(x + 1.0) + r*np.log(p) + x*np.log1p(-p))\n",
      "/mnt/data/thesis_project/notebooks/../scripts/runner_baselines_sklearn.py:92: RuntimeWarning: invalid value encountered in multiply\n",
      "  return (gammaln(x + r) - gammaln(r) - gammaln(x + 1.0) + r*np.log(p) + x*np.log1p(-p))\n"
     ]
    },
    {
     "name": "stdout",
     "output_type": "stream",
     "text": [
      "Running MAGIC on 238 cells and 1000 genes.\n",
      "Calculating graph and diffusion operator...\n",
      "  Calculating KNN search...\n",
      "  Calculated KNN search in 0.05 seconds.\n",
      "  Calculating affinities...\n",
      "  Calculated affinities in 0.05 seconds.\n",
      "Calculated graph and diffusion operator in 0.11 seconds.\n",
      "Calculating imputation...\n",
      "Calculating MAGIC...\n",
      "  Running MAGIC on 357 cells and 1000 genes.\n",
      "  Calculating graph and diffusion operator...\n",
      "    Calculating KNN search...\n"
     ]
    },
    {
     "name": "stderr",
     "output_type": "stream",
     "text": [
      "/mnt/data/thesis_project/notebooks/../scripts/runner_baselines_sklearn.py:92: RuntimeWarning: divide by zero encountered in log1p\n",
      "  return (gammaln(x + r) - gammaln(r) - gammaln(x + 1.0) + r*np.log(p) + x*np.log1p(-p))\n",
      "/mnt/data/thesis_project/notebooks/../scripts/runner_baselines_sklearn.py:92: RuntimeWarning: invalid value encountered in multiply\n",
      "  return (gammaln(x + r) - gammaln(r) - gammaln(x + 1.0) + r*np.log(p) + x*np.log1p(-p))\n",
      "/mnt/data/venvs/thesis-impute/lib/python3.10/site-packages/graphtools/graphs.py:122: UserWarning: Building a kNNGraph on data of shape (238, 1000) is expensive. Consider setting n_pca.\n",
      "  warnings.warn(\n",
      "/mnt/data/venvs/thesis-impute/lib/python3.10/site-packages/magic/magic.py:541: UserWarning: Running MAGIC.transform on different data to that which was used for MAGIC.fit may not produce sensible output, unless it comes from the same manifold.\n",
      "  warnings.warn(\n",
      "/mnt/data/venvs/thesis-impute/lib/python3.10/site-packages/graphtools/graphs.py:122: UserWarning: Building a kNNGraph on data of shape (357, 1000) is expensive. Consider setting n_pca.\n",
      "  warnings.warn(\n"
     ]
    },
    {
     "name": "stdout",
     "output_type": "stream",
     "text": [
      "    Calculated KNN search in 0.11 seconds.\n",
      "    Calculating affinities...\n",
      "    Calculated affinities in 0.10 seconds.\n",
      "  Calculated graph and diffusion operator in 0.22 seconds.\n",
      "  Calculating imputation...\n",
      "  Calculated imputation in 0.02 seconds.\n",
      "Calculated MAGIC in 0.25 seconds.\n",
      "Calculating imputation...\n",
      "Calculating MAGIC...\n",
      "  Running MAGIC on 357 cells and 1000 genes.\n",
      "  Calculating graph and diffusion operator...\n",
      "    Calculating KNN search...\n",
      "    Calculated KNN search in 0.11 seconds.\n",
      "    Calculating affinities...\n"
     ]
    },
    {
     "name": "stderr",
     "output_type": "stream",
     "text": [
      "/mnt/data/venvs/thesis-impute/lib/python3.10/site-packages/magic/magic.py:541: UserWarning: Running MAGIC.transform on different data to that which was used for MAGIC.fit may not produce sensible output, unless it comes from the same manifold.\n",
      "  warnings.warn(\n",
      "/mnt/data/venvs/thesis-impute/lib/python3.10/site-packages/graphtools/graphs.py:122: UserWarning: Building a kNNGraph on data of shape (357, 1000) is expensive. Consider setting n_pca.\n",
      "  warnings.warn(\n"
     ]
    },
    {
     "name": "stdout",
     "output_type": "stream",
     "text": [
      "    Calculated affinities in 0.10 seconds.\n",
      "  Calculated graph and diffusion operator in 0.21 seconds.\n",
      "  Calculating imputation...\n",
      "Calculated MAGIC in 0.22 seconds.\n",
      "Calculating imputation...\n",
      "Calculating MAGIC...\n",
      "  Running MAGIC on 357 cells and 1000 genes.\n",
      "  Calculating graph and diffusion operator...\n",
      "    Calculating KNN search...\n",
      "    Calculated KNN search in 0.11 seconds.\n",
      "    Calculating affinities...\n"
     ]
    },
    {
     "name": "stderr",
     "output_type": "stream",
     "text": [
      "/mnt/data/venvs/thesis-impute/lib/python3.10/site-packages/magic/magic.py:541: UserWarning: Running MAGIC.transform on different data to that which was used for MAGIC.fit may not produce sensible output, unless it comes from the same manifold.\n",
      "  warnings.warn(\n",
      "/mnt/data/venvs/thesis-impute/lib/python3.10/site-packages/graphtools/graphs.py:122: UserWarning: Building a kNNGraph on data of shape (357, 1000) is expensive. Consider setting n_pca.\n",
      "  warnings.warn(\n"
     ]
    },
    {
     "name": "stdout",
     "output_type": "stream",
     "text": [
      "    Calculated affinities in 0.10 seconds.\n",
      "  Calculated graph and diffusion operator in 0.21 seconds.\n",
      "  Calculating imputation...\n",
      "Calculated MAGIC in 0.22 seconds.\n",
      "Running MAGIC on 238 cells and 2000 genes.\n",
      "Calculating graph and diffusion operator...\n",
      "  Calculating KNN search...\n",
      "  Calculated KNN search in 0.10 seconds.\n",
      "  Calculating affinities...\n",
      "  Calculated affinities in 0.09 seconds.\n",
      "Calculated graph and diffusion operator in 0.20 seconds.\n"
     ]
    },
    {
     "name": "stderr",
     "output_type": "stream",
     "text": [
      "/mnt/data/venvs/thesis-impute/lib/python3.10/site-packages/graphtools/graphs.py:122: UserWarning: Building a kNNGraph on data of shape (238, 2000) is expensive. Consider setting n_pca.\n",
      "  warnings.warn(\n"
     ]
    },
    {
     "name": "stdout",
     "output_type": "stream",
     "text": [
      "Calculating imputation...\n",
      "Calculating MAGIC...\n",
      "  Running MAGIC on 357 cells and 2000 genes.\n",
      "  Calculating graph and diffusion operator...\n",
      "    Calculating KNN search...\n",
      "    Calculated KNN search in 0.18 seconds.\n",
      "    Calculating affinities...\n"
     ]
    },
    {
     "name": "stderr",
     "output_type": "stream",
     "text": [
      "/mnt/data/venvs/thesis-impute/lib/python3.10/site-packages/magic/magic.py:541: UserWarning: Running MAGIC.transform on different data to that which was used for MAGIC.fit may not produce sensible output, unless it comes from the same manifold.\n",
      "  warnings.warn(\n",
      "/mnt/data/venvs/thesis-impute/lib/python3.10/site-packages/graphtools/graphs.py:122: UserWarning: Building a kNNGraph on data of shape (357, 2000) is expensive. Consider setting n_pca.\n",
      "  warnings.warn(\n"
     ]
    },
    {
     "name": "stdout",
     "output_type": "stream",
     "text": [
      "    Calculated affinities in 0.15 seconds.\n",
      "  Calculated graph and diffusion operator in 0.33 seconds.\n",
      "  Calculating imputation...\n",
      "  Calculated imputation in 0.01 seconds.\n",
      "Calculated MAGIC in 0.35 seconds.\n",
      "Calculating imputation...\n",
      "Calculating MAGIC...\n",
      "  Running MAGIC on 357 cells and 2000 genes.\n",
      "  Calculating graph and diffusion operator...\n",
      "    Calculating KNN search...\n",
      "    Calculated KNN search in 0.17 seconds.\n",
      "    Calculating affinities...\n"
     ]
    },
    {
     "name": "stderr",
     "output_type": "stream",
     "text": [
      "/mnt/data/venvs/thesis-impute/lib/python3.10/site-packages/magic/magic.py:541: UserWarning: Running MAGIC.transform on different data to that which was used for MAGIC.fit may not produce sensible output, unless it comes from the same manifold.\n",
      "  warnings.warn(\n",
      "/mnt/data/venvs/thesis-impute/lib/python3.10/site-packages/graphtools/graphs.py:122: UserWarning: Building a kNNGraph on data of shape (357, 2000) is expensive. Consider setting n_pca.\n",
      "  warnings.warn(\n"
     ]
    },
    {
     "name": "stdout",
     "output_type": "stream",
     "text": [
      "    Calculated affinities in 0.15 seconds.\n",
      "  Calculated graph and diffusion operator in 0.33 seconds.\n",
      "  Calculating imputation...\n",
      "  Calculated imputation in 0.01 seconds.\n",
      "Calculated MAGIC in 0.35 seconds.\n",
      "Calculating imputation...\n",
      "Calculating MAGIC...\n",
      "  Running MAGIC on 357 cells and 2000 genes.\n",
      "  Calculating graph and diffusion operator...\n",
      "    Calculating KNN search...\n",
      "    Calculated KNN search in 0.17 seconds.\n",
      "    Calculating affinities...\n"
     ]
    },
    {
     "name": "stderr",
     "output_type": "stream",
     "text": [
      "/mnt/data/venvs/thesis-impute/lib/python3.10/site-packages/magic/magic.py:541: UserWarning: Running MAGIC.transform on different data to that which was used for MAGIC.fit may not produce sensible output, unless it comes from the same manifold.\n",
      "  warnings.warn(\n",
      "/mnt/data/venvs/thesis-impute/lib/python3.10/site-packages/graphtools/graphs.py:122: UserWarning: Building a kNNGraph on data of shape (357, 2000) is expensive. Consider setting n_pca.\n",
      "  warnings.warn(\n"
     ]
    },
    {
     "name": "stdout",
     "output_type": "stream",
     "text": [
      "    Calculated affinities in 0.15 seconds.\n",
      "  Calculated graph and diffusion operator in 0.32 seconds.\n",
      "  Calculating imputation...\n",
      "  Calculated imputation in 0.02 seconds.\n",
      "Calculated MAGIC in 0.35 seconds.\n",
      "Running MAGIC on 238 cells and 4000 genes.\n",
      "Calculating graph and diffusion operator...\n",
      "  Calculating KNN search...\n"
     ]
    },
    {
     "name": "stderr",
     "output_type": "stream",
     "text": [
      "/mnt/data/venvs/thesis-impute/lib/python3.10/site-packages/graphtools/graphs.py:122: UserWarning: Building a kNNGraph on data of shape (238, 4000) is expensive. Consider setting n_pca.\n",
      "  warnings.warn(\n"
     ]
    },
    {
     "name": "stdout",
     "output_type": "stream",
     "text": [
      "  Calculated KNN search in 0.22 seconds.\n",
      "  Calculating affinities...\n",
      "  Calculated affinities in 0.20 seconds.\n",
      "Calculated graph and diffusion operator in 0.42 seconds.\n",
      "Calculating imputation...\n",
      "Calculating MAGIC...\n",
      "  Running MAGIC on 357 cells and 4000 genes.\n",
      "  Calculating graph and diffusion operator...\n",
      "    Calculating KNN search...\n"
     ]
    },
    {
     "name": "stderr",
     "output_type": "stream",
     "text": [
      "/mnt/data/venvs/thesis-impute/lib/python3.10/site-packages/magic/magic.py:541: UserWarning: Running MAGIC.transform on different data to that which was used for MAGIC.fit may not produce sensible output, unless it comes from the same manifold.\n",
      "  warnings.warn(\n",
      "/mnt/data/venvs/thesis-impute/lib/python3.10/site-packages/graphtools/graphs.py:122: UserWarning: Building a kNNGraph on data of shape (357, 4000) is expensive. Consider setting n_pca.\n",
      "  warnings.warn(\n"
     ]
    },
    {
     "name": "stdout",
     "output_type": "stream",
     "text": [
      "    Calculated KNN search in 0.37 seconds.\n",
      "    Calculating affinities...\n",
      "    Calculated affinities in 0.31 seconds.\n",
      "  Calculated graph and diffusion operator in 0.69 seconds.\n",
      "  Calculating imputation...\n",
      "  Calculated imputation in 0.02 seconds.\n",
      "Calculated MAGIC in 0.72 seconds.\n",
      "Calculating imputation...\n",
      "Calculating MAGIC...\n",
      "  Running MAGIC on 357 cells and 4000 genes.\n",
      "  Calculating graph and diffusion operator...\n",
      "    Calculating KNN search...\n"
     ]
    },
    {
     "name": "stderr",
     "output_type": "stream",
     "text": [
      "/mnt/data/venvs/thesis-impute/lib/python3.10/site-packages/magic/magic.py:541: UserWarning: Running MAGIC.transform on different data to that which was used for MAGIC.fit may not produce sensible output, unless it comes from the same manifold.\n",
      "  warnings.warn(\n",
      "/mnt/data/venvs/thesis-impute/lib/python3.10/site-packages/graphtools/graphs.py:122: UserWarning: Building a kNNGraph on data of shape (357, 4000) is expensive. Consider setting n_pca.\n",
      "  warnings.warn(\n"
     ]
    },
    {
     "name": "stdout",
     "output_type": "stream",
     "text": [
      "    Calculated KNN search in 0.37 seconds.\n",
      "    Calculating affinities...\n",
      "    Calculated affinities in 0.31 seconds.\n",
      "  Calculated graph and diffusion operator in 0.69 seconds.\n",
      "  Calculating imputation...\n",
      "  Calculated imputation in 0.02 seconds.\n",
      "Calculated MAGIC in 0.72 seconds.\n",
      "Calculating imputation...\n",
      "Calculated imputation in 0.02 seconds.\n",
      "Calculating MAGIC...\n",
      "  Running MAGIC on 357 cells and 4000 genes.\n",
      "  Calculating graph and diffusion operator...\n",
      "    Calculating KNN search...\n"
     ]
    },
    {
     "name": "stderr",
     "output_type": "stream",
     "text": [
      "/mnt/data/venvs/thesis-impute/lib/python3.10/site-packages/magic/magic.py:541: UserWarning: Running MAGIC.transform on different data to that which was used for MAGIC.fit may not produce sensible output, unless it comes from the same manifold.\n",
      "  warnings.warn(\n",
      "/mnt/data/venvs/thesis-impute/lib/python3.10/site-packages/graphtools/graphs.py:122: UserWarning: Building a kNNGraph on data of shape (357, 4000) is expensive. Consider setting n_pca.\n",
      "  warnings.warn(\n"
     ]
    },
    {
     "name": "stdout",
     "output_type": "stream",
     "text": [
      "    Calculated KNN search in 0.37 seconds.\n",
      "    Calculating affinities...\n",
      "    Calculated affinities in 0.31 seconds.\n",
      "  Calculated graph and diffusion operator in 0.68 seconds.\n",
      "  Calculating imputation...\n",
      "  Calculated imputation in 0.04 seconds.\n",
      "Calculated MAGIC in 0.72 seconds.\n"
     ]
    },
    {
     "name": "stderr",
     "output_type": "stream",
     "text": [
      "/mnt/data/venvs/thesis-impute/lib/python3.10/site-packages/scanpy/preprocessing/_highly_variable_genes.py:75: UserWarning: `flavor='seurat_v3'` expects raw count data, but non-integers were found.\n",
      "  warnings.warn(\n",
      "/mnt/data/venvs/thesis-impute/lib/python3.10/site-packages/scanpy/preprocessing/_highly_variable_genes.py:75: UserWarning: `flavor='seurat_v3'` expects raw count data, but non-integers were found.\n",
      "  warnings.warn(\n"
     ]
    },
    {
     "name": "stdout",
     "output_type": "stream",
     "text": [
      "Running MAGIC on 357 cells and 1000 genes.\n",
      "Calculating graph and diffusion operator...\n",
      "  Calculating KNN search...\n",
      "  Calculated KNN search in 0.11 seconds.\n",
      "  Calculating affinities...\n"
     ]
    },
    {
     "name": "stderr",
     "output_type": "stream",
     "text": [
      "/mnt/data/venvs/thesis-impute/lib/python3.10/site-packages/graphtools/graphs.py:122: UserWarning: Building a kNNGraph on data of shape (357, 1000) is expensive. Consider setting n_pca.\n",
      "  warnings.warn(\n"
     ]
    },
    {
     "name": "stdout",
     "output_type": "stream",
     "text": [
      "  Calculated affinities in 0.10 seconds.\n",
      "Calculated graph and diffusion operator in 0.21 seconds.\n",
      "Calculating imputation...\n",
      "Calculating MAGIC...\n",
      "  Running MAGIC on 447 cells and 1000 genes.\n",
      "  Calculating graph and diffusion operator...\n",
      "    Calculating KNN search...\n",
      "    Calculated KNN search in 0.16 seconds.\n",
      "    Calculating affinities...\n"
     ]
    },
    {
     "name": "stderr",
     "output_type": "stream",
     "text": [
      "/mnt/data/venvs/thesis-impute/lib/python3.10/site-packages/magic/magic.py:541: UserWarning: Running MAGIC.transform on different data to that which was used for MAGIC.fit may not produce sensible output, unless it comes from the same manifold.\n",
      "  warnings.warn(\n",
      "/mnt/data/venvs/thesis-impute/lib/python3.10/site-packages/graphtools/graphs.py:122: UserWarning: Building a kNNGraph on data of shape (447, 1000) is expensive. Consider setting n_pca.\n",
      "  warnings.warn(\n"
     ]
    },
    {
     "name": "stdout",
     "output_type": "stream",
     "text": [
      "    Calculated affinities in 0.14 seconds.\n",
      "  Calculated graph and diffusion operator in 0.31 seconds.\n",
      "  Calculating imputation...\n",
      "  Calculated imputation in 0.03 seconds.\n",
      "Calculated MAGIC in 0.35 seconds.\n",
      "Calculating imputation...\n",
      "Calculating MAGIC...\n",
      "  Running MAGIC on 447 cells and 1000 genes.\n",
      "  Calculating graph and diffusion operator...\n",
      "    Calculating KNN search...\n",
      "    Calculated KNN search in 0.16 seconds.\n",
      "    Calculating affinities...\n"
     ]
    },
    {
     "name": "stderr",
     "output_type": "stream",
     "text": [
      "/mnt/data/venvs/thesis-impute/lib/python3.10/site-packages/magic/magic.py:541: UserWarning: Running MAGIC.transform on different data to that which was used for MAGIC.fit may not produce sensible output, unless it comes from the same manifold.\n",
      "  warnings.warn(\n",
      "/mnt/data/venvs/thesis-impute/lib/python3.10/site-packages/graphtools/graphs.py:122: UserWarning: Building a kNNGraph on data of shape (447, 1000) is expensive. Consider setting n_pca.\n",
      "  warnings.warn(\n"
     ]
    },
    {
     "name": "stdout",
     "output_type": "stream",
     "text": [
      "    Calculated affinities in 0.15 seconds.\n",
      "  Calculated graph and diffusion operator in 0.31 seconds.\n",
      "  Calculating imputation...\n",
      "  Calculated imputation in 0.03 seconds.\n",
      "Calculated MAGIC in 0.35 seconds.\n",
      "Calculating imputation...\n",
      "Calculating MAGIC...\n",
      "  Running MAGIC on 447 cells and 1000 genes.\n",
      "  Calculating graph and diffusion operator...\n",
      "    Calculating KNN search...\n",
      "    Calculated KNN search in 0.17 seconds.\n",
      "    Calculating affinities...\n"
     ]
    },
    {
     "name": "stderr",
     "output_type": "stream",
     "text": [
      "/mnt/data/venvs/thesis-impute/lib/python3.10/site-packages/magic/magic.py:541: UserWarning: Running MAGIC.transform on different data to that which was used for MAGIC.fit may not produce sensible output, unless it comes from the same manifold.\n",
      "  warnings.warn(\n",
      "/mnt/data/venvs/thesis-impute/lib/python3.10/site-packages/graphtools/graphs.py:122: UserWarning: Building a kNNGraph on data of shape (447, 1000) is expensive. Consider setting n_pca.\n",
      "  warnings.warn(\n"
     ]
    },
    {
     "name": "stdout",
     "output_type": "stream",
     "text": [
      "    Calculated affinities in 0.15 seconds.\n",
      "  Calculated graph and diffusion operator in 0.32 seconds.\n",
      "  Calculating imputation...\n",
      "  Calculated imputation in 0.02 seconds.\n",
      "Calculated MAGIC in 0.34 seconds.\n"
     ]
    },
    {
     "name": "stderr",
     "output_type": "stream",
     "text": [
      "/mnt/data/venvs/thesis-impute/lib/python3.10/site-packages/scanpy/preprocessing/_highly_variable_genes.py:75: UserWarning: `flavor='seurat_v3'` expects raw count data, but non-integers were found.\n",
      "  warnings.warn(\n",
      "/mnt/data/venvs/thesis-impute/lib/python3.10/site-packages/scanpy/preprocessing/_highly_variable_genes.py:75: UserWarning: `flavor='seurat_v3'` expects raw count data, but non-integers were found.\n",
      "  warnings.warn(\n",
      "/mnt/data/venvs/thesis-impute/lib/python3.10/site-packages/scanpy/preprocessing/_highly_variable_genes.py:75: UserWarning: `flavor='seurat_v3'` expects raw count data, but non-integers were found.\n",
      "  warnings.warn(\n",
      "/mnt/data/venvs/thesis-impute/lib/python3.10/site-packages/scanpy/preprocessing/_highly_variable_genes.py:75: UserWarning: `flavor='seurat_v3'` expects raw count data, but non-integers were found.\n",
      "  warnings.warn(\n",
      "/mnt/data/venvs/thesis-impute/lib/python3.10/site-packages/scanpy/preprocessing/_highly_variable_genes.py:75: UserWarning: `flavor='seurat_v3'` expects raw count data, but non-integers were found.\n",
      "  warnings.warn(\n",
      "/mnt/data/thesis_project/notebooks/../scripts/runner_baselines_sklearn.py:92: RuntimeWarning: divide by zero encountered in log1p\n",
      "  return (gammaln(x + r) - gammaln(r) - gammaln(x + 1.0) + r*np.log(p) + x*np.log1p(-p))\n",
      "/mnt/data/thesis_project/notebooks/../scripts/runner_baselines_sklearn.py:92: RuntimeWarning: invalid value encountered in multiply\n",
      "  return (gammaln(x + r) - gammaln(r) - gammaln(x + 1.0) + r*np.log(p) + x*np.log1p(-p))\n",
      "/mnt/data/thesis_project/notebooks/../scripts/runner_baselines_sklearn.py:92: RuntimeWarning: divide by zero encountered in log1p\n",
      "  return (gammaln(x + r) - gammaln(r) - gammaln(x + 1.0) + r*np.log(p) + x*np.log1p(-p))\n",
      "/mnt/data/thesis_project/notebooks/../scripts/runner_baselines_sklearn.py:92: RuntimeWarning: invalid value encountered in multiply\n",
      "  return (gammaln(x + r) - gammaln(r) - gammaln(x + 1.0) + r*np.log(p) + x*np.log1p(-p))\n",
      "/mnt/data/thesis_project/notebooks/../scripts/runner_baselines_sklearn.py:92: RuntimeWarning: divide by zero encountered in log1p\n",
      "  return (gammaln(x + r) - gammaln(r) - gammaln(x + 1.0) + r*np.log(p) + x*np.log1p(-p))\n",
      "/mnt/data/thesis_project/notebooks/../scripts/runner_baselines_sklearn.py:92: RuntimeWarning: invalid value encountered in multiply\n",
      "  return (gammaln(x + r) - gammaln(r) - gammaln(x + 1.0) + r*np.log(p) + x*np.log1p(-p))\n",
      "/mnt/data/thesis_project/notebooks/../scripts/runner_baselines_sklearn.py:92: RuntimeWarning: divide by zero encountered in log1p\n",
      "  return (gammaln(x + r) - gammaln(r) - gammaln(x + 1.0) + r*np.log(p) + x*np.log1p(-p))\n",
      "/mnt/data/thesis_project/notebooks/../scripts/runner_baselines_sklearn.py:92: RuntimeWarning: invalid value encountered in multiply\n",
      "  return (gammaln(x + r) - gammaln(r) - gammaln(x + 1.0) + r*np.log(p) + x*np.log1p(-p))\n",
      "/mnt/data/thesis_project/notebooks/../scripts/runner_baselines_sklearn.py:92: RuntimeWarning: divide by zero encountered in log1p\n",
      "  return (gammaln(x + r) - gammaln(r) - gammaln(x + 1.0) + r*np.log(p) + x*np.log1p(-p))\n",
      "/mnt/data/thesis_project/notebooks/../scripts/runner_baselines_sklearn.py:92: RuntimeWarning: invalid value encountered in multiply\n",
      "  return (gammaln(x + r) - gammaln(r) - gammaln(x + 1.0) + r*np.log(p) + x*np.log1p(-p))\n",
      "/mnt/data/thesis_project/notebooks/../scripts/runner_baselines_sklearn.py:92: RuntimeWarning: divide by zero encountered in log1p\n",
      "  return (gammaln(x + r) - gammaln(r) - gammaln(x + 1.0) + r*np.log(p) + x*np.log1p(-p))\n",
      "/mnt/data/thesis_project/notebooks/../scripts/runner_baselines_sklearn.py:92: RuntimeWarning: invalid value encountered in multiply\n",
      "  return (gammaln(x + r) - gammaln(r) - gammaln(x + 1.0) + r*np.log(p) + x*np.log1p(-p))\n",
      "/mnt/data/thesis_project/notebooks/../scripts/runner_baselines_sklearn.py:92: RuntimeWarning: divide by zero encountered in log1p\n",
      "  return (gammaln(x + r) - gammaln(r) - gammaln(x + 1.0) + r*np.log(p) + x*np.log1p(-p))\n",
      "/mnt/data/thesis_project/notebooks/../scripts/runner_baselines_sklearn.py:92: RuntimeWarning: invalid value encountered in multiply\n",
      "  return (gammaln(x + r) - gammaln(r) - gammaln(x + 1.0) + r*np.log(p) + x*np.log1p(-p))\n",
      "/mnt/data/thesis_project/notebooks/../scripts/runner_baselines_sklearn.py:92: RuntimeWarning: divide by zero encountered in log1p\n",
      "  return (gammaln(x + r) - gammaln(r) - gammaln(x + 1.0) + r*np.log(p) + x*np.log1p(-p))\n",
      "/mnt/data/thesis_project/notebooks/../scripts/runner_baselines_sklearn.py:92: RuntimeWarning: invalid value encountered in multiply\n",
      "  return (gammaln(x + r) - gammaln(r) - gammaln(x + 1.0) + r*np.log(p) + x*np.log1p(-p))\n",
      "/mnt/data/thesis_project/notebooks/../scripts/runner_baselines_sklearn.py:92: RuntimeWarning: divide by zero encountered in log1p\n",
      "  return (gammaln(x + r) - gammaln(r) - gammaln(x + 1.0) + r*np.log(p) + x*np.log1p(-p))\n",
      "/mnt/data/thesis_project/notebooks/../scripts/runner_baselines_sklearn.py:92: RuntimeWarning: invalid value encountered in multiply\n",
      "  return (gammaln(x + r) - gammaln(r) - gammaln(x + 1.0) + r*np.log(p) + x*np.log1p(-p))\n",
      "/mnt/data/thesis_project/notebooks/../scripts/runner_baselines_sklearn.py:92: RuntimeWarning: divide by zero encountered in log1p\n",
      "  return (gammaln(x + r) - gammaln(r) - gammaln(x + 1.0) + r*np.log(p) + x*np.log1p(-p))\n",
      "/mnt/data/thesis_project/notebooks/../scripts/runner_baselines_sklearn.py:92: RuntimeWarning: invalid value encountered in multiply\n",
      "  return (gammaln(x + r) - gammaln(r) - gammaln(x + 1.0) + r*np.log(p) + x*np.log1p(-p))\n",
      "/mnt/data/thesis_project/notebooks/../scripts/runner_baselines_sklearn.py:92: RuntimeWarning: divide by zero encountered in log1p\n",
      "  return (gammaln(x + r) - gammaln(r) - gammaln(x + 1.0) + r*np.log(p) + x*np.log1p(-p))\n",
      "/mnt/data/thesis_project/notebooks/../scripts/runner_baselines_sklearn.py:92: RuntimeWarning: invalid value encountered in multiply\n",
      "  return (gammaln(x + r) - gammaln(r) - gammaln(x + 1.0) + r*np.log(p) + x*np.log1p(-p))\n",
      "/mnt/data/thesis_project/notebooks/../scripts/runner_baselines_sklearn.py:92: RuntimeWarning: divide by zero encountered in log1p\n",
      "  return (gammaln(x + r) - gammaln(r) - gammaln(x + 1.0) + r*np.log(p) + x*np.log1p(-p))\n",
      "/mnt/data/thesis_project/notebooks/../scripts/runner_baselines_sklearn.py:92: RuntimeWarning: invalid value encountered in multiply\n",
      "  return (gammaln(x + r) - gammaln(r) - gammaln(x + 1.0) + r*np.log(p) + x*np.log1p(-p))\n",
      "/mnt/data/thesis_project/notebooks/../scripts/runner_baselines_sklearn.py:92: RuntimeWarning: divide by zero encountered in log1p\n",
      "  return (gammaln(x + r) - gammaln(r) - gammaln(x + 1.0) + r*np.log(p) + x*np.log1p(-p))\n",
      "/mnt/data/thesis_project/notebooks/../scripts/runner_baselines_sklearn.py:92: RuntimeWarning: invalid value encountered in multiply\n",
      "  return (gammaln(x + r) - gammaln(r) - gammaln(x + 1.0) + r*np.log(p) + x*np.log1p(-p))\n",
      "/mnt/data/thesis_project/notebooks/../scripts/runner_baselines_sklearn.py:92: RuntimeWarning: divide by zero encountered in log1p\n",
      "  return (gammaln(x + r) - gammaln(r) - gammaln(x + 1.0) + r*np.log(p) + x*np.log1p(-p))\n",
      "/mnt/data/thesis_project/notebooks/../scripts/runner_baselines_sklearn.py:92: RuntimeWarning: invalid value encountered in multiply\n",
      "  return (gammaln(x + r) - gammaln(r) - gammaln(x + 1.0) + r*np.log(p) + x*np.log1p(-p))\n",
      "/mnt/data/thesis_project/notebooks/../scripts/runner_baselines_sklearn.py:92: RuntimeWarning: divide by zero encountered in log1p\n",
      "  return (gammaln(x + r) - gammaln(r) - gammaln(x + 1.0) + r*np.log(p) + x*np.log1p(-p))\n",
      "/mnt/data/thesis_project/notebooks/../scripts/runner_baselines_sklearn.py:92: RuntimeWarning: invalid value encountered in multiply\n",
      "  return (gammaln(x + r) - gammaln(r) - gammaln(x + 1.0) + r*np.log(p) + x*np.log1p(-p))\n",
      "/mnt/data/thesis_project/notebooks/../scripts/runner_baselines_sklearn.py:92: RuntimeWarning: divide by zero encountered in log1p\n",
      "  return (gammaln(x + r) - gammaln(r) - gammaln(x + 1.0) + r*np.log(p) + x*np.log1p(-p))\n",
      "/mnt/data/thesis_project/notebooks/../scripts/runner_baselines_sklearn.py:92: RuntimeWarning: invalid value encountered in multiply\n",
      "  return (gammaln(x + r) - gammaln(r) - gammaln(x + 1.0) + r*np.log(p) + x*np.log1p(-p))\n",
      "/mnt/data/thesis_project/notebooks/../scripts/runner_baselines_sklearn.py:92: RuntimeWarning: divide by zero encountered in log1p\n",
      "  return (gammaln(x + r) - gammaln(r) - gammaln(x + 1.0) + r*np.log(p) + x*np.log1p(-p))\n",
      "/mnt/data/thesis_project/notebooks/../scripts/runner_baselines_sklearn.py:92: RuntimeWarning: invalid value encountered in multiply\n",
      "  return (gammaln(x + r) - gammaln(r) - gammaln(x + 1.0) + r*np.log(p) + x*np.log1p(-p))\n",
      "/mnt/data/thesis_project/notebooks/../scripts/runner_baselines_sklearn.py:92: RuntimeWarning: divide by zero encountered in log1p\n",
      "  return (gammaln(x + r) - gammaln(r) - gammaln(x + 1.0) + r*np.log(p) + x*np.log1p(-p))\n",
      "/mnt/data/thesis_project/notebooks/../scripts/runner_baselines_sklearn.py:92: RuntimeWarning: invalid value encountered in multiply\n",
      "  return (gammaln(x + r) - gammaln(r) - gammaln(x + 1.0) + r*np.log(p) + x*np.log1p(-p))\n"
     ]
    },
    {
     "name": "stdout",
     "output_type": "stream",
     "text": [
      "Running MAGIC on 238 cells and 1000 genes.\n",
      "Calculating graph and diffusion operator...\n",
      "  Calculating KNN search...\n",
      "  Calculated KNN search in 0.05 seconds.\n",
      "  Calculating affinities...\n",
      "  Calculated affinities in 0.05 seconds.\n",
      "Calculated graph and diffusion operator in 0.11 seconds.\n",
      "Calculating imputation...\n",
      "Calculating MAGIC...\n",
      "  Running MAGIC on 357 cells and 1000 genes.\n",
      "  Calculating graph and diffusion operator...\n",
      "    Calculating KNN search...\n"
     ]
    },
    {
     "name": "stderr",
     "output_type": "stream",
     "text": [
      "/mnt/data/thesis_project/notebooks/../scripts/runner_baselines_sklearn.py:92: RuntimeWarning: divide by zero encountered in log1p\n",
      "  return (gammaln(x + r) - gammaln(r) - gammaln(x + 1.0) + r*np.log(p) + x*np.log1p(-p))\n",
      "/mnt/data/thesis_project/notebooks/../scripts/runner_baselines_sklearn.py:92: RuntimeWarning: invalid value encountered in multiply\n",
      "  return (gammaln(x + r) - gammaln(r) - gammaln(x + 1.0) + r*np.log(p) + x*np.log1p(-p))\n",
      "/mnt/data/venvs/thesis-impute/lib/python3.10/site-packages/graphtools/graphs.py:122: UserWarning: Building a kNNGraph on data of shape (238, 1000) is expensive. Consider setting n_pca.\n",
      "  warnings.warn(\n",
      "/mnt/data/venvs/thesis-impute/lib/python3.10/site-packages/magic/magic.py:541: UserWarning: Running MAGIC.transform on different data to that which was used for MAGIC.fit may not produce sensible output, unless it comes from the same manifold.\n",
      "  warnings.warn(\n",
      "/mnt/data/venvs/thesis-impute/lib/python3.10/site-packages/graphtools/graphs.py:122: UserWarning: Building a kNNGraph on data of shape (357, 1000) is expensive. Consider setting n_pca.\n",
      "  warnings.warn(\n"
     ]
    },
    {
     "name": "stdout",
     "output_type": "stream",
     "text": [
      "    Calculated KNN search in 0.11 seconds.\n",
      "    Calculating affinities...\n",
      "    Calculated affinities in 0.10 seconds.\n",
      "  Calculated graph and diffusion operator in 0.21 seconds.\n",
      "  Calculating imputation...\n",
      "Calculated MAGIC in 0.22 seconds.\n",
      "Calculating imputation...\n",
      "Calculating MAGIC...\n",
      "  Running MAGIC on 357 cells and 1000 genes.\n",
      "  Calculating graph and diffusion operator...\n",
      "    Calculating KNN search...\n",
      "    Calculated KNN search in 0.10 seconds.\n",
      "    Calculating affinities...\n"
     ]
    },
    {
     "name": "stderr",
     "output_type": "stream",
     "text": [
      "/mnt/data/venvs/thesis-impute/lib/python3.10/site-packages/magic/magic.py:541: UserWarning: Running MAGIC.transform on different data to that which was used for MAGIC.fit may not produce sensible output, unless it comes from the same manifold.\n",
      "  warnings.warn(\n",
      "/mnt/data/venvs/thesis-impute/lib/python3.10/site-packages/graphtools/graphs.py:122: UserWarning: Building a kNNGraph on data of shape (357, 1000) is expensive. Consider setting n_pca.\n",
      "  warnings.warn(\n"
     ]
    },
    {
     "name": "stdout",
     "output_type": "stream",
     "text": [
      "    Calculated affinities in 0.09 seconds.\n",
      "  Calculated graph and diffusion operator in 0.20 seconds.\n",
      "  Calculating imputation...\n",
      "  Calculated imputation in 0.01 seconds.\n",
      "Calculated MAGIC in 0.22 seconds.\n",
      "Calculating imputation...\n",
      "Calculating MAGIC...\n",
      "  Running MAGIC on 357 cells and 1000 genes.\n",
      "  Calculating graph and diffusion operator...\n",
      "    Calculating KNN search...\n",
      "    Calculated KNN search in 0.10 seconds.\n",
      "    Calculating affinities...\n"
     ]
    },
    {
     "name": "stderr",
     "output_type": "stream",
     "text": [
      "/mnt/data/venvs/thesis-impute/lib/python3.10/site-packages/magic/magic.py:541: UserWarning: Running MAGIC.transform on different data to that which was used for MAGIC.fit may not produce sensible output, unless it comes from the same manifold.\n",
      "  warnings.warn(\n",
      "/mnt/data/venvs/thesis-impute/lib/python3.10/site-packages/graphtools/graphs.py:122: UserWarning: Building a kNNGraph on data of shape (357, 1000) is expensive. Consider setting n_pca.\n",
      "  warnings.warn(\n"
     ]
    },
    {
     "name": "stdout",
     "output_type": "stream",
     "text": [
      "    Calculated affinities in 0.09 seconds.\n",
      "  Calculated graph and diffusion operator in 0.20 seconds.\n",
      "  Calculating imputation...\n",
      "Calculated MAGIC in 0.22 seconds.\n",
      "Running MAGIC on 238 cells and 2000 genes.\n",
      "Calculating graph and diffusion operator...\n",
      "  Calculating KNN search...\n",
      "  Calculated KNN search in 0.09 seconds.\n",
      "  Calculating affinities...\n",
      "  Calculated affinities in 0.08 seconds.\n",
      "Calculated graph and diffusion operator in 0.17 seconds.\n"
     ]
    },
    {
     "name": "stderr",
     "output_type": "stream",
     "text": [
      "/mnt/data/venvs/thesis-impute/lib/python3.10/site-packages/graphtools/graphs.py:122: UserWarning: Building a kNNGraph on data of shape (238, 2000) is expensive. Consider setting n_pca.\n",
      "  warnings.warn(\n"
     ]
    },
    {
     "name": "stdout",
     "output_type": "stream",
     "text": [
      "Calculating imputation...\n",
      "Calculating MAGIC...\n",
      "  Running MAGIC on 357 cells and 2000 genes.\n",
      "  Calculating graph and diffusion operator...\n",
      "    Calculating KNN search...\n",
      "    Calculated KNN search in 0.17 seconds.\n",
      "    Calculating affinities...\n"
     ]
    },
    {
     "name": "stderr",
     "output_type": "stream",
     "text": [
      "/mnt/data/venvs/thesis-impute/lib/python3.10/site-packages/magic/magic.py:541: UserWarning: Running MAGIC.transform on different data to that which was used for MAGIC.fit may not produce sensible output, unless it comes from the same manifold.\n",
      "  warnings.warn(\n",
      "/mnt/data/venvs/thesis-impute/lib/python3.10/site-packages/graphtools/graphs.py:122: UserWarning: Building a kNNGraph on data of shape (357, 2000) is expensive. Consider setting n_pca.\n",
      "  warnings.warn(\n"
     ]
    },
    {
     "name": "stdout",
     "output_type": "stream",
     "text": [
      "    Calculated affinities in 0.14 seconds.\n",
      "  Calculated graph and diffusion operator in 0.32 seconds.\n",
      "  Calculating imputation...\n",
      "  Calculated imputation in 0.01 seconds.\n",
      "Calculated MAGIC in 0.34 seconds.\n",
      "Calculating imputation...\n",
      "Calculating MAGIC...\n",
      "  Running MAGIC on 357 cells and 2000 genes.\n",
      "  Calculating graph and diffusion operator...\n",
      "    Calculating KNN search...\n",
      "    Calculated KNN search in 0.17 seconds.\n",
      "    Calculating affinities...\n"
     ]
    },
    {
     "name": "stderr",
     "output_type": "stream",
     "text": [
      "/mnt/data/venvs/thesis-impute/lib/python3.10/site-packages/magic/magic.py:541: UserWarning: Running MAGIC.transform on different data to that which was used for MAGIC.fit may not produce sensible output, unless it comes from the same manifold.\n",
      "  warnings.warn(\n",
      "/mnt/data/venvs/thesis-impute/lib/python3.10/site-packages/graphtools/graphs.py:122: UserWarning: Building a kNNGraph on data of shape (357, 2000) is expensive. Consider setting n_pca.\n",
      "  warnings.warn(\n"
     ]
    },
    {
     "name": "stdout",
     "output_type": "stream",
     "text": [
      "    Calculated affinities in 0.14 seconds.\n",
      "  Calculated graph and diffusion operator in 0.32 seconds.\n",
      "  Calculating imputation...\n",
      "  Calculated imputation in 0.03 seconds.\n",
      "Calculated MAGIC in 0.35 seconds.\n",
      "Calculating imputation...\n",
      "Calculating MAGIC...\n",
      "  Running MAGIC on 357 cells and 2000 genes.\n",
      "  Calculating graph and diffusion operator...\n",
      "    Calculating KNN search...\n",
      "    Calculated KNN search in 0.17 seconds.\n",
      "    Calculating affinities...\n"
     ]
    },
    {
     "name": "stderr",
     "output_type": "stream",
     "text": [
      "/mnt/data/venvs/thesis-impute/lib/python3.10/site-packages/magic/magic.py:541: UserWarning: Running MAGIC.transform on different data to that which was used for MAGIC.fit may not produce sensible output, unless it comes from the same manifold.\n",
      "  warnings.warn(\n",
      "/mnt/data/venvs/thesis-impute/lib/python3.10/site-packages/graphtools/graphs.py:122: UserWarning: Building a kNNGraph on data of shape (357, 2000) is expensive. Consider setting n_pca.\n",
      "  warnings.warn(\n"
     ]
    },
    {
     "name": "stdout",
     "output_type": "stream",
     "text": [
      "    Calculated affinities in 0.14 seconds.\n",
      "  Calculated graph and diffusion operator in 0.31 seconds.\n",
      "  Calculating imputation...\n",
      "  Calculated imputation in 0.01 seconds.\n",
      "Calculated MAGIC in 0.33 seconds.\n",
      "Running MAGIC on 238 cells and 4000 genes.\n",
      "Calculating graph and diffusion operator...\n",
      "  Calculating KNN search...\n",
      "  Calculated KNN search in 0.18 seconds.\n",
      "  Calculating affinities...\n"
     ]
    },
    {
     "name": "stderr",
     "output_type": "stream",
     "text": [
      "/mnt/data/venvs/thesis-impute/lib/python3.10/site-packages/graphtools/graphs.py:122: UserWarning: Building a kNNGraph on data of shape (238, 4000) is expensive. Consider setting n_pca.\n",
      "  warnings.warn(\n"
     ]
    },
    {
     "name": "stdout",
     "output_type": "stream",
     "text": [
      "  Calculated affinities in 0.15 seconds.\n",
      "Calculated graph and diffusion operator in 0.34 seconds.\n",
      "Calculating imputation...\n",
      "Calculated imputation in 0.02 seconds.\n",
      "Calculating MAGIC...\n",
      "  Running MAGIC on 357 cells and 4000 genes.\n",
      "  Calculating graph and diffusion operator...\n",
      "    Calculating KNN search...\n"
     ]
    },
    {
     "name": "stderr",
     "output_type": "stream",
     "text": [
      "/mnt/data/venvs/thesis-impute/lib/python3.10/site-packages/magic/magic.py:541: UserWarning: Running MAGIC.transform on different data to that which was used for MAGIC.fit may not produce sensible output, unless it comes from the same manifold.\n",
      "  warnings.warn(\n",
      "/mnt/data/venvs/thesis-impute/lib/python3.10/site-packages/graphtools/graphs.py:122: UserWarning: Building a kNNGraph on data of shape (357, 4000) is expensive. Consider setting n_pca.\n",
      "  warnings.warn(\n"
     ]
    },
    {
     "name": "stdout",
     "output_type": "stream",
     "text": [
      "    Calculated KNN search in 0.36 seconds.\n",
      "    Calculating affinities...\n",
      "    Calculated affinities in 0.28 seconds.\n",
      "  Calculated graph and diffusion operator in 0.65 seconds.\n",
      "  Calculating imputation...\n",
      "  Calculated imputation in 0.02 seconds.\n",
      "Calculated MAGIC in 0.68 seconds.\n",
      "Calculating imputation...\n",
      "Calculating MAGIC...\n",
      "  Running MAGIC on 357 cells and 4000 genes.\n",
      "  Calculating graph and diffusion operator...\n",
      "    Calculating KNN search...\n"
     ]
    },
    {
     "name": "stderr",
     "output_type": "stream",
     "text": [
      "/mnt/data/venvs/thesis-impute/lib/python3.10/site-packages/magic/magic.py:541: UserWarning: Running MAGIC.transform on different data to that which was used for MAGIC.fit may not produce sensible output, unless it comes from the same manifold.\n",
      "  warnings.warn(\n",
      "/mnt/data/venvs/thesis-impute/lib/python3.10/site-packages/graphtools/graphs.py:122: UserWarning: Building a kNNGraph on data of shape (357, 4000) is expensive. Consider setting n_pca.\n",
      "  warnings.warn(\n"
     ]
    },
    {
     "name": "stdout",
     "output_type": "stream",
     "text": [
      "    Calculated KNN search in 0.35 seconds.\n",
      "    Calculating affinities...\n",
      "    Calculated affinities in 0.28 seconds.\n",
      "  Calculated graph and diffusion operator in 0.64 seconds.\n",
      "  Calculating imputation...\n",
      "  Calculated imputation in 0.02 seconds.\n",
      "Calculated MAGIC in 0.67 seconds.\n",
      "Calculating imputation...\n",
      "Calculating MAGIC...\n",
      "  Running MAGIC on 357 cells and 4000 genes.\n",
      "  Calculating graph and diffusion operator...\n",
      "    Calculating KNN search...\n"
     ]
    },
    {
     "name": "stderr",
     "output_type": "stream",
     "text": [
      "/mnt/data/venvs/thesis-impute/lib/python3.10/site-packages/magic/magic.py:541: UserWarning: Running MAGIC.transform on different data to that which was used for MAGIC.fit may not produce sensible output, unless it comes from the same manifold.\n",
      "  warnings.warn(\n",
      "/mnt/data/venvs/thesis-impute/lib/python3.10/site-packages/graphtools/graphs.py:122: UserWarning: Building a kNNGraph on data of shape (357, 4000) is expensive. Consider setting n_pca.\n",
      "  warnings.warn(\n"
     ]
    },
    {
     "name": "stdout",
     "output_type": "stream",
     "text": [
      "    Calculated KNN search in 0.33 seconds.\n",
      "    Calculating affinities...\n",
      "    Calculated affinities in 0.28 seconds.\n",
      "  Calculated graph and diffusion operator in 0.62 seconds.\n",
      "  Calculating imputation...\n",
      "  Calculated imputation in 0.04 seconds.\n",
      "Calculated MAGIC in 0.67 seconds.\n"
     ]
    },
    {
     "name": "stderr",
     "output_type": "stream",
     "text": [
      "/mnt/data/venvs/thesis-impute/lib/python3.10/site-packages/scanpy/preprocessing/_highly_variable_genes.py:75: UserWarning: `flavor='seurat_v3'` expects raw count data, but non-integers were found.\n",
      "  warnings.warn(\n",
      "/mnt/data/venvs/thesis-impute/lib/python3.10/site-packages/scanpy/preprocessing/_highly_variable_genes.py:75: UserWarning: `flavor='seurat_v3'` expects raw count data, but non-integers were found.\n",
      "  warnings.warn(\n",
      "/mnt/data/venvs/thesis-impute/lib/python3.10/site-packages/scanpy/preprocessing/_highly_variable_genes.py:75: UserWarning: `flavor='seurat_v3'` expects raw count data, but non-integers were found.\n",
      "  warnings.warn(\n",
      "/mnt/data/thesis_project/notebooks/../scripts/runner_baselines_sklearn.py:92: RuntimeWarning: divide by zero encountered in log1p\n",
      "  return (gammaln(x + r) - gammaln(r) - gammaln(x + 1.0) + r*np.log(p) + x*np.log1p(-p))\n",
      "/mnt/data/thesis_project/notebooks/../scripts/runner_baselines_sklearn.py:92: RuntimeWarning: invalid value encountered in multiply\n",
      "  return (gammaln(x + r) - gammaln(r) - gammaln(x + 1.0) + r*np.log(p) + x*np.log1p(-p))\n",
      "/mnt/data/thesis_project/notebooks/../scripts/runner_baselines_sklearn.py:92: RuntimeWarning: divide by zero encountered in log1p\n",
      "  return (gammaln(x + r) - gammaln(r) - gammaln(x + 1.0) + r*np.log(p) + x*np.log1p(-p))\n",
      "/mnt/data/thesis_project/notebooks/../scripts/runner_baselines_sklearn.py:92: RuntimeWarning: invalid value encountered in multiply\n",
      "  return (gammaln(x + r) - gammaln(r) - gammaln(x + 1.0) + r*np.log(p) + x*np.log1p(-p))\n",
      "/mnt/data/thesis_project/notebooks/../scripts/runner_baselines_sklearn.py:92: RuntimeWarning: divide by zero encountered in log1p\n",
      "  return (gammaln(x + r) - gammaln(r) - gammaln(x + 1.0) + r*np.log(p) + x*np.log1p(-p))\n",
      "/mnt/data/thesis_project/notebooks/../scripts/runner_baselines_sklearn.py:92: RuntimeWarning: invalid value encountered in multiply\n",
      "  return (gammaln(x + r) - gammaln(r) - gammaln(x + 1.0) + r*np.log(p) + x*np.log1p(-p))\n",
      "/mnt/data/thesis_project/notebooks/../scripts/runner_baselines_sklearn.py:92: RuntimeWarning: divide by zero encountered in log1p\n",
      "  return (gammaln(x + r) - gammaln(r) - gammaln(x + 1.0) + r*np.log(p) + x*np.log1p(-p))\n",
      "/mnt/data/thesis_project/notebooks/../scripts/runner_baselines_sklearn.py:92: RuntimeWarning: invalid value encountered in multiply\n",
      "  return (gammaln(x + r) - gammaln(r) - gammaln(x + 1.0) + r*np.log(p) + x*np.log1p(-p))\n",
      "/mnt/data/thesis_project/notebooks/../scripts/runner_baselines_sklearn.py:92: RuntimeWarning: divide by zero encountered in log1p\n",
      "  return (gammaln(x + r) - gammaln(r) - gammaln(x + 1.0) + r*np.log(p) + x*np.log1p(-p))\n",
      "/mnt/data/thesis_project/notebooks/../scripts/runner_baselines_sklearn.py:92: RuntimeWarning: invalid value encountered in multiply\n",
      "  return (gammaln(x + r) - gammaln(r) - gammaln(x + 1.0) + r*np.log(p) + x*np.log1p(-p))\n",
      "/mnt/data/thesis_project/notebooks/../scripts/runner_baselines_sklearn.py:92: RuntimeWarning: divide by zero encountered in log1p\n",
      "  return (gammaln(x + r) - gammaln(r) - gammaln(x + 1.0) + r*np.log(p) + x*np.log1p(-p))\n",
      "/mnt/data/thesis_project/notebooks/../scripts/runner_baselines_sklearn.py:92: RuntimeWarning: invalid value encountered in multiply\n",
      "  return (gammaln(x + r) - gammaln(r) - gammaln(x + 1.0) + r*np.log(p) + x*np.log1p(-p))\n",
      "/mnt/data/thesis_project/notebooks/../scripts/runner_baselines_sklearn.py:92: RuntimeWarning: divide by zero encountered in log1p\n",
      "  return (gammaln(x + r) - gammaln(r) - gammaln(x + 1.0) + r*np.log(p) + x*np.log1p(-p))\n",
      "/mnt/data/thesis_project/notebooks/../scripts/runner_baselines_sklearn.py:92: RuntimeWarning: invalid value encountered in multiply\n",
      "  return (gammaln(x + r) - gammaln(r) - gammaln(x + 1.0) + r*np.log(p) + x*np.log1p(-p))\n",
      "/mnt/data/thesis_project/notebooks/../scripts/runner_baselines_sklearn.py:92: RuntimeWarning: divide by zero encountered in log1p\n",
      "  return (gammaln(x + r) - gammaln(r) - gammaln(x + 1.0) + r*np.log(p) + x*np.log1p(-p))\n",
      "/mnt/data/thesis_project/notebooks/../scripts/runner_baselines_sklearn.py:92: RuntimeWarning: invalid value encountered in multiply\n",
      "  return (gammaln(x + r) - gammaln(r) - gammaln(x + 1.0) + r*np.log(p) + x*np.log1p(-p))\n",
      "/mnt/data/thesis_project/notebooks/../scripts/runner_baselines_sklearn.py:92: RuntimeWarning: divide by zero encountered in log1p\n",
      "  return (gammaln(x + r) - gammaln(r) - gammaln(x + 1.0) + r*np.log(p) + x*np.log1p(-p))\n",
      "/mnt/data/thesis_project/notebooks/../scripts/runner_baselines_sklearn.py:92: RuntimeWarning: invalid value encountered in multiply\n",
      "  return (gammaln(x + r) - gammaln(r) - gammaln(x + 1.0) + r*np.log(p) + x*np.log1p(-p))\n",
      "/mnt/data/thesis_project/notebooks/../scripts/runner_baselines_sklearn.py:92: RuntimeWarning: divide by zero encountered in log1p\n",
      "  return (gammaln(x + r) - gammaln(r) - gammaln(x + 1.0) + r*np.log(p) + x*np.log1p(-p))\n",
      "/mnt/data/thesis_project/notebooks/../scripts/runner_baselines_sklearn.py:92: RuntimeWarning: invalid value encountered in multiply\n",
      "  return (gammaln(x + r) - gammaln(r) - gammaln(x + 1.0) + r*np.log(p) + x*np.log1p(-p))\n",
      "/mnt/data/thesis_project/notebooks/../scripts/runner_baselines_sklearn.py:92: RuntimeWarning: divide by zero encountered in log1p\n",
      "  return (gammaln(x + r) - gammaln(r) - gammaln(x + 1.0) + r*np.log(p) + x*np.log1p(-p))\n",
      "/mnt/data/thesis_project/notebooks/../scripts/runner_baselines_sklearn.py:92: RuntimeWarning: invalid value encountered in multiply\n",
      "  return (gammaln(x + r) - gammaln(r) - gammaln(x + 1.0) + r*np.log(p) + x*np.log1p(-p))\n",
      "/mnt/data/thesis_project/notebooks/../scripts/runner_baselines_sklearn.py:92: RuntimeWarning: divide by zero encountered in log1p\n",
      "  return (gammaln(x + r) - gammaln(r) - gammaln(x + 1.0) + r*np.log(p) + x*np.log1p(-p))\n",
      "/mnt/data/thesis_project/notebooks/../scripts/runner_baselines_sklearn.py:92: RuntimeWarning: invalid value encountered in multiply\n",
      "  return (gammaln(x + r) - gammaln(r) - gammaln(x + 1.0) + r*np.log(p) + x*np.log1p(-p))\n",
      "/mnt/data/thesis_project/notebooks/../scripts/runner_baselines_sklearn.py:92: RuntimeWarning: divide by zero encountered in log1p\n",
      "  return (gammaln(x + r) - gammaln(r) - gammaln(x + 1.0) + r*np.log(p) + x*np.log1p(-p))\n",
      "/mnt/data/thesis_project/notebooks/../scripts/runner_baselines_sklearn.py:92: RuntimeWarning: invalid value encountered in multiply\n",
      "  return (gammaln(x + r) - gammaln(r) - gammaln(x + 1.0) + r*np.log(p) + x*np.log1p(-p))\n",
      "/mnt/data/thesis_project/notebooks/../scripts/runner_baselines_sklearn.py:92: RuntimeWarning: divide by zero encountered in log1p\n",
      "  return (gammaln(x + r) - gammaln(r) - gammaln(x + 1.0) + r*np.log(p) + x*np.log1p(-p))\n",
      "/mnt/data/thesis_project/notebooks/../scripts/runner_baselines_sklearn.py:92: RuntimeWarning: invalid value encountered in multiply\n",
      "  return (gammaln(x + r) - gammaln(r) - gammaln(x + 1.0) + r*np.log(p) + x*np.log1p(-p))\n",
      "/mnt/data/thesis_project/notebooks/../scripts/runner_baselines_sklearn.py:92: RuntimeWarning: divide by zero encountered in log1p\n",
      "  return (gammaln(x + r) - gammaln(r) - gammaln(x + 1.0) + r*np.log(p) + x*np.log1p(-p))\n",
      "/mnt/data/thesis_project/notebooks/../scripts/runner_baselines_sklearn.py:92: RuntimeWarning: invalid value encountered in multiply\n",
      "  return (gammaln(x + r) - gammaln(r) - gammaln(x + 1.0) + r*np.log(p) + x*np.log1p(-p))\n",
      "/mnt/data/thesis_project/notebooks/../scripts/runner_baselines_sklearn.py:92: RuntimeWarning: divide by zero encountered in log1p\n",
      "  return (gammaln(x + r) - gammaln(r) - gammaln(x + 1.0) + r*np.log(p) + x*np.log1p(-p))\n",
      "/mnt/data/thesis_project/notebooks/../scripts/runner_baselines_sklearn.py:92: RuntimeWarning: invalid value encountered in multiply\n",
      "  return (gammaln(x + r) - gammaln(r) - gammaln(x + 1.0) + r*np.log(p) + x*np.log1p(-p))\n",
      "/mnt/data/thesis_project/notebooks/../scripts/runner_baselines_sklearn.py:92: RuntimeWarning: divide by zero encountered in log1p\n",
      "  return (gammaln(x + r) - gammaln(r) - gammaln(x + 1.0) + r*np.log(p) + x*np.log1p(-p))\n",
      "/mnt/data/thesis_project/notebooks/../scripts/runner_baselines_sklearn.py:92: RuntimeWarning: invalid value encountered in multiply\n",
      "  return (gammaln(x + r) - gammaln(r) - gammaln(x + 1.0) + r*np.log(p) + x*np.log1p(-p))\n",
      "/mnt/data/thesis_project/notebooks/../scripts/runner_baselines_sklearn.py:92: RuntimeWarning: divide by zero encountered in log1p\n",
      "  return (gammaln(x + r) - gammaln(r) - gammaln(x + 1.0) + r*np.log(p) + x*np.log1p(-p))\n",
      "/mnt/data/thesis_project/notebooks/../scripts/runner_baselines_sklearn.py:92: RuntimeWarning: invalid value encountered in multiply\n",
      "  return (gammaln(x + r) - gammaln(r) - gammaln(x + 1.0) + r*np.log(p) + x*np.log1p(-p))\n",
      "/mnt/data/thesis_project/notebooks/../scripts/runner_baselines_sklearn.py:92: RuntimeWarning: divide by zero encountered in log1p\n",
      "  return (gammaln(x + r) - gammaln(r) - gammaln(x + 1.0) + r*np.log(p) + x*np.log1p(-p))\n",
      "/mnt/data/thesis_project/notebooks/../scripts/runner_baselines_sklearn.py:92: RuntimeWarning: invalid value encountered in multiply\n",
      "  return (gammaln(x + r) - gammaln(r) - gammaln(x + 1.0) + r*np.log(p) + x*np.log1p(-p))\n",
      "/mnt/data/thesis_project/notebooks/../scripts/runner_baselines_sklearn.py:92: RuntimeWarning: divide by zero encountered in log1p\n",
      "  return (gammaln(x + r) - gammaln(r) - gammaln(x + 1.0) + r*np.log(p) + x*np.log1p(-p))\n",
      "/mnt/data/thesis_project/notebooks/../scripts/runner_baselines_sklearn.py:92: RuntimeWarning: invalid value encountered in multiply\n",
      "  return (gammaln(x + r) - gammaln(r) - gammaln(x + 1.0) + r*np.log(p) + x*np.log1p(-p))\n",
      "/mnt/data/thesis_project/notebooks/../scripts/runner_baselines_sklearn.py:92: RuntimeWarning: divide by zero encountered in log1p\n",
      "  return (gammaln(x + r) - gammaln(r) - gammaln(x + 1.0) + r*np.log(p) + x*np.log1p(-p))\n",
      "/mnt/data/thesis_project/notebooks/../scripts/runner_baselines_sklearn.py:92: RuntimeWarning: invalid value encountered in multiply\n",
      "  return (gammaln(x + r) - gammaln(r) - gammaln(x + 1.0) + r*np.log(p) + x*np.log1p(-p))\n",
      "/mnt/data/thesis_project/notebooks/../scripts/runner_baselines_sklearn.py:92: RuntimeWarning: divide by zero encountered in log1p\n",
      "  return (gammaln(x + r) - gammaln(r) - gammaln(x + 1.0) + r*np.log(p) + x*np.log1p(-p))\n",
      "/mnt/data/thesis_project/notebooks/../scripts/runner_baselines_sklearn.py:92: RuntimeWarning: invalid value encountered in multiply\n",
      "  return (gammaln(x + r) - gammaln(r) - gammaln(x + 1.0) + r*np.log(p) + x*np.log1p(-p))\n",
      "/mnt/data/thesis_project/notebooks/../scripts/runner_baselines_sklearn.py:92: RuntimeWarning: divide by zero encountered in log1p\n",
      "  return (gammaln(x + r) - gammaln(r) - gammaln(x + 1.0) + r*np.log(p) + x*np.log1p(-p))\n",
      "/mnt/data/thesis_project/notebooks/../scripts/runner_baselines_sklearn.py:92: RuntimeWarning: invalid value encountered in multiply\n",
      "  return (gammaln(x + r) - gammaln(r) - gammaln(x + 1.0) + r*np.log(p) + x*np.log1p(-p))\n",
      "/mnt/data/thesis_project/notebooks/../scripts/runner_baselines_sklearn.py:92: RuntimeWarning: divide by zero encountered in log1p\n",
      "  return (gammaln(x + r) - gammaln(r) - gammaln(x + 1.0) + r*np.log(p) + x*np.log1p(-p))\n",
      "/mnt/data/thesis_project/notebooks/../scripts/runner_baselines_sklearn.py:92: RuntimeWarning: invalid value encountered in multiply\n",
      "  return (gammaln(x + r) - gammaln(r) - gammaln(x + 1.0) + r*np.log(p) + x*np.log1p(-p))\n",
      "/mnt/data/thesis_project/notebooks/../scripts/runner_baselines_sklearn.py:92: RuntimeWarning: divide by zero encountered in log1p\n",
      "  return (gammaln(x + r) - gammaln(r) - gammaln(x + 1.0) + r*np.log(p) + x*np.log1p(-p))\n",
      "/mnt/data/thesis_project/notebooks/../scripts/runner_baselines_sklearn.py:92: RuntimeWarning: invalid value encountered in multiply\n",
      "  return (gammaln(x + r) - gammaln(r) - gammaln(x + 1.0) + r*np.log(p) + x*np.log1p(-p))\n",
      "/mnt/data/thesis_project/notebooks/../scripts/runner_baselines_sklearn.py:92: RuntimeWarning: divide by zero encountered in log1p\n",
      "  return (gammaln(x + r) - gammaln(r) - gammaln(x + 1.0) + r*np.log(p) + x*np.log1p(-p))\n",
      "/mnt/data/thesis_project/notebooks/../scripts/runner_baselines_sklearn.py:92: RuntimeWarning: invalid value encountered in multiply\n",
      "  return (gammaln(x + r) - gammaln(r) - gammaln(x + 1.0) + r*np.log(p) + x*np.log1p(-p))\n",
      "/mnt/data/thesis_project/notebooks/../scripts/runner_baselines_sklearn.py:92: RuntimeWarning: divide by zero encountered in log1p\n",
      "  return (gammaln(x + r) - gammaln(r) - gammaln(x + 1.0) + r*np.log(p) + x*np.log1p(-p))\n",
      "/mnt/data/thesis_project/notebooks/../scripts/runner_baselines_sklearn.py:92: RuntimeWarning: divide by zero encountered in log1p\n",
      "  return (gammaln(x + r) - gammaln(r) - gammaln(x + 1.0) + r*np.log(p) + x*np.log1p(-p))\n",
      "/mnt/data/thesis_project/notebooks/../scripts/runner_baselines_sklearn.py:92: RuntimeWarning: invalid value encountered in multiply\n",
      "  return (gammaln(x + r) - gammaln(r) - gammaln(x + 1.0) + r*np.log(p) + x*np.log1p(-p))\n",
      "/mnt/data/thesis_project/notebooks/../scripts/runner_baselines_sklearn.py:92: RuntimeWarning: divide by zero encountered in log1p\n",
      "  return (gammaln(x + r) - gammaln(r) - gammaln(x + 1.0) + r*np.log(p) + x*np.log1p(-p))\n",
      "/mnt/data/thesis_project/notebooks/../scripts/runner_baselines_sklearn.py:92: RuntimeWarning: invalid value encountered in multiply\n",
      "  return (gammaln(x + r) - gammaln(r) - gammaln(x + 1.0) + r*np.log(p) + x*np.log1p(-p))\n",
      "/mnt/data/thesis_project/notebooks/../scripts/runner_baselines_sklearn.py:92: RuntimeWarning: divide by zero encountered in log1p\n",
      "  return (gammaln(x + r) - gammaln(r) - gammaln(x + 1.0) + r*np.log(p) + x*np.log1p(-p))\n",
      "/mnt/data/thesis_project/notebooks/../scripts/runner_baselines_sklearn.py:92: RuntimeWarning: invalid value encountered in multiply\n",
      "  return (gammaln(x + r) - gammaln(r) - gammaln(x + 1.0) + r*np.log(p) + x*np.log1p(-p))\n",
      "/mnt/data/thesis_project/notebooks/../scripts/runner_baselines_sklearn.py:92: RuntimeWarning: divide by zero encountered in log1p\n",
      "  return (gammaln(x + r) - gammaln(r) - gammaln(x + 1.0) + r*np.log(p) + x*np.log1p(-p))\n",
      "/mnt/data/thesis_project/notebooks/../scripts/runner_baselines_sklearn.py:92: RuntimeWarning: invalid value encountered in multiply\n",
      "  return (gammaln(x + r) - gammaln(r) - gammaln(x + 1.0) + r*np.log(p) + x*np.log1p(-p))\n",
      "/mnt/data/thesis_project/notebooks/../scripts/runner_baselines_sklearn.py:92: RuntimeWarning: divide by zero encountered in log1p\n",
      "  return (gammaln(x + r) - gammaln(r) - gammaln(x + 1.0) + r*np.log(p) + x*np.log1p(-p))\n",
      "/mnt/data/thesis_project/notebooks/../scripts/runner_baselines_sklearn.py:92: RuntimeWarning: invalid value encountered in multiply\n",
      "  return (gammaln(x + r) - gammaln(r) - gammaln(x + 1.0) + r*np.log(p) + x*np.log1p(-p))\n",
      "/mnt/data/thesis_project/notebooks/../scripts/runner_baselines_sklearn.py:92: RuntimeWarning: divide by zero encountered in log1p\n",
      "  return (gammaln(x + r) - gammaln(r) - gammaln(x + 1.0) + r*np.log(p) + x*np.log1p(-p))\n",
      "/mnt/data/thesis_project/notebooks/../scripts/runner_baselines_sklearn.py:92: RuntimeWarning: divide by zero encountered in log1p\n",
      "  return (gammaln(x + r) - gammaln(r) - gammaln(x + 1.0) + r*np.log(p) + x*np.log1p(-p))\n",
      "/mnt/data/thesis_project/notebooks/../scripts/runner_baselines_sklearn.py:92: RuntimeWarning: invalid value encountered in multiply\n",
      "  return (gammaln(x + r) - gammaln(r) - gammaln(x + 1.0) + r*np.log(p) + x*np.log1p(-p))\n",
      "/mnt/data/thesis_project/notebooks/../scripts/runner_baselines_sklearn.py:92: RuntimeWarning: divide by zero encountered in log1p\n",
      "  return (gammaln(x + r) - gammaln(r) - gammaln(x + 1.0) + r*np.log(p) + x*np.log1p(-p))\n",
      "/mnt/data/thesis_project/notebooks/../scripts/runner_baselines_sklearn.py:92: RuntimeWarning: invalid value encountered in multiply\n",
      "  return (gammaln(x + r) - gammaln(r) - gammaln(x + 1.0) + r*np.log(p) + x*np.log1p(-p))\n",
      "/mnt/data/thesis_project/notebooks/../scripts/runner_baselines_sklearn.py:92: RuntimeWarning: divide by zero encountered in log1p\n",
      "  return (gammaln(x + r) - gammaln(r) - gammaln(x + 1.0) + r*np.log(p) + x*np.log1p(-p))\n",
      "/mnt/data/thesis_project/notebooks/../scripts/runner_baselines_sklearn.py:92: RuntimeWarning: invalid value encountered in multiply\n",
      "  return (gammaln(x + r) - gammaln(r) - gammaln(x + 1.0) + r*np.log(p) + x*np.log1p(-p))\n"
     ]
    },
    {
     "name": "stdout",
     "output_type": "stream",
     "text": [
      "Running MAGIC on 238 cells and 1000 genes.\n",
      "Calculating graph and diffusion operator...\n",
      "  Calculating KNN search...\n",
      "  Calculated KNN search in 0.04 seconds.\n",
      "  Calculating affinities...\n",
      "  Calculated affinities in 0.04 seconds.\n",
      "Calculated graph and diffusion operator in 0.09 seconds.\n",
      "Calculating imputation...\n",
      "Calculating MAGIC...\n",
      "  Running MAGIC on 357 cells and 1000 genes.\n",
      "  Calculating graph and diffusion operator...\n",
      "    Calculating KNN search...\n"
     ]
    },
    {
     "name": "stderr",
     "output_type": "stream",
     "text": [
      "/mnt/data/thesis_project/notebooks/../scripts/runner_baselines_sklearn.py:92: RuntimeWarning: divide by zero encountered in log1p\n",
      "  return (gammaln(x + r) - gammaln(r) - gammaln(x + 1.0) + r*np.log(p) + x*np.log1p(-p))\n",
      "/mnt/data/thesis_project/notebooks/../scripts/runner_baselines_sklearn.py:92: RuntimeWarning: invalid value encountered in multiply\n",
      "  return (gammaln(x + r) - gammaln(r) - gammaln(x + 1.0) + r*np.log(p) + x*np.log1p(-p))\n",
      "/mnt/data/venvs/thesis-impute/lib/python3.10/site-packages/graphtools/graphs.py:122: UserWarning: Building a kNNGraph on data of shape (238, 1000) is expensive. Consider setting n_pca.\n",
      "  warnings.warn(\n",
      "/mnt/data/venvs/thesis-impute/lib/python3.10/site-packages/magic/magic.py:541: UserWarning: Running MAGIC.transform on different data to that which was used for MAGIC.fit may not produce sensible output, unless it comes from the same manifold.\n",
      "  warnings.warn(\n",
      "/mnt/data/venvs/thesis-impute/lib/python3.10/site-packages/graphtools/graphs.py:122: UserWarning: Building a kNNGraph on data of shape (357, 1000) is expensive. Consider setting n_pca.\n",
      "  warnings.warn(\n"
     ]
    },
    {
     "name": "stdout",
     "output_type": "stream",
     "text": [
      "    Calculated KNN search in 0.08 seconds.\n",
      "    Calculating affinities...\n",
      "    Calculated affinities in 0.07 seconds.\n",
      "  Calculated graph and diffusion operator in 0.16 seconds.\n",
      "  Calculating imputation...\n",
      "Calculated MAGIC in 0.18 seconds.\n",
      "Calculating imputation...\n",
      "Calculating MAGIC...\n",
      "  Running MAGIC on 357 cells and 1000 genes.\n",
      "  Calculating graph and diffusion operator...\n",
      "    Calculating KNN search...\n",
      "    Calculated KNN search in 0.08 seconds.\n",
      "    Calculating affinities...\n",
      "    Calculated affinities in 0.07 seconds.\n",
      "  Calculated graph and diffusion operator in 0.16 seconds.\n",
      "  Calculating imputation...\n",
      "Calculated MAGIC in 0.18 seconds.\n"
     ]
    },
    {
     "name": "stderr",
     "output_type": "stream",
     "text": [
      "/mnt/data/venvs/thesis-impute/lib/python3.10/site-packages/magic/magic.py:541: UserWarning: Running MAGIC.transform on different data to that which was used for MAGIC.fit may not produce sensible output, unless it comes from the same manifold.\n",
      "  warnings.warn(\n",
      "/mnt/data/venvs/thesis-impute/lib/python3.10/site-packages/graphtools/graphs.py:122: UserWarning: Building a kNNGraph on data of shape (357, 1000) is expensive. Consider setting n_pca.\n",
      "  warnings.warn(\n"
     ]
    },
    {
     "name": "stdout",
     "output_type": "stream",
     "text": [
      "Calculating imputation...\n",
      "Calculating MAGIC...\n",
      "  Running MAGIC on 357 cells and 1000 genes.\n",
      "  Calculating graph and diffusion operator...\n",
      "    Calculating KNN search...\n",
      "    Calculated KNN search in 0.08 seconds.\n",
      "    Calculating affinities...\n",
      "    Calculated affinities in 0.07 seconds.\n",
      "  Calculated graph and diffusion operator in 0.16 seconds.\n",
      "  Calculating imputation...\n",
      "Calculated MAGIC in 0.17 seconds.\n",
      "Running MAGIC on 238 cells and 2000 genes.\n",
      "Calculating graph and diffusion operator...\n",
      "  Calculating KNN search...\n"
     ]
    },
    {
     "name": "stderr",
     "output_type": "stream",
     "text": [
      "/mnt/data/venvs/thesis-impute/lib/python3.10/site-packages/magic/magic.py:541: UserWarning: Running MAGIC.transform on different data to that which was used for MAGIC.fit may not produce sensible output, unless it comes from the same manifold.\n",
      "  warnings.warn(\n",
      "/mnt/data/venvs/thesis-impute/lib/python3.10/site-packages/graphtools/graphs.py:122: UserWarning: Building a kNNGraph on data of shape (357, 1000) is expensive. Consider setting n_pca.\n",
      "  warnings.warn(\n",
      "/mnt/data/venvs/thesis-impute/lib/python3.10/site-packages/graphtools/graphs.py:122: UserWarning: Building a kNNGraph on data of shape (238, 2000) is expensive. Consider setting n_pca.\n",
      "  warnings.warn(\n"
     ]
    },
    {
     "name": "stdout",
     "output_type": "stream",
     "text": [
      "  Calculated KNN search in 0.09 seconds.\n",
      "  Calculating affinities...\n",
      "  Calculated affinities in 0.08 seconds.\n",
      "Calculated graph and diffusion operator in 0.18 seconds.\n",
      "Calculating imputation...\n",
      "Calculating MAGIC...\n",
      "  Running MAGIC on 357 cells and 2000 genes.\n",
      "  Calculating graph and diffusion operator...\n",
      "    Calculating KNN search...\n",
      "    Calculated KNN search in 0.16 seconds.\n",
      "    Calculating affinities...\n"
     ]
    },
    {
     "name": "stderr",
     "output_type": "stream",
     "text": [
      "/mnt/data/venvs/thesis-impute/lib/python3.10/site-packages/magic/magic.py:541: UserWarning: Running MAGIC.transform on different data to that which was used for MAGIC.fit may not produce sensible output, unless it comes from the same manifold.\n",
      "  warnings.warn(\n",
      "/mnt/data/venvs/thesis-impute/lib/python3.10/site-packages/graphtools/graphs.py:122: UserWarning: Building a kNNGraph on data of shape (357, 2000) is expensive. Consider setting n_pca.\n",
      "  warnings.warn(\n"
     ]
    },
    {
     "name": "stdout",
     "output_type": "stream",
     "text": [
      "    Calculated affinities in 0.14 seconds.\n",
      "  Calculated graph and diffusion operator in 0.30 seconds.\n",
      "  Calculating imputation...\n",
      "  Calculated imputation in 0.02 seconds.\n",
      "Calculated MAGIC in 0.33 seconds.\n",
      "Calculating imputation...\n",
      "Calculating MAGIC...\n",
      "  Running MAGIC on 357 cells and 2000 genes.\n",
      "  Calculating graph and diffusion operator...\n",
      "    Calculating KNN search...\n",
      "    Calculated KNN search in 0.17 seconds.\n",
      "    Calculating affinities...\n"
     ]
    },
    {
     "name": "stderr",
     "output_type": "stream",
     "text": [
      "/mnt/data/venvs/thesis-impute/lib/python3.10/site-packages/magic/magic.py:541: UserWarning: Running MAGIC.transform on different data to that which was used for MAGIC.fit may not produce sensible output, unless it comes from the same manifold.\n",
      "  warnings.warn(\n",
      "/mnt/data/venvs/thesis-impute/lib/python3.10/site-packages/graphtools/graphs.py:122: UserWarning: Building a kNNGraph on data of shape (357, 2000) is expensive. Consider setting n_pca.\n",
      "  warnings.warn(\n"
     ]
    },
    {
     "name": "stdout",
     "output_type": "stream",
     "text": [
      "    Calculated affinities in 0.14 seconds.\n",
      "  Calculated graph and diffusion operator in 0.31 seconds.\n",
      "  Calculating imputation...\n",
      "  Calculated imputation in 0.03 seconds.\n",
      "Calculated MAGIC in 0.34 seconds.\n",
      "Calculating imputation...\n",
      "Calculating MAGIC...\n",
      "  Running MAGIC on 357 cells and 2000 genes.\n",
      "  Calculating graph and diffusion operator...\n",
      "    Calculating KNN search...\n",
      "    Calculated KNN search in 0.17 seconds.\n",
      "    Calculating affinities...\n"
     ]
    },
    {
     "name": "stderr",
     "output_type": "stream",
     "text": [
      "/mnt/data/venvs/thesis-impute/lib/python3.10/site-packages/magic/magic.py:541: UserWarning: Running MAGIC.transform on different data to that which was used for MAGIC.fit may not produce sensible output, unless it comes from the same manifold.\n",
      "  warnings.warn(\n",
      "/mnt/data/venvs/thesis-impute/lib/python3.10/site-packages/graphtools/graphs.py:122: UserWarning: Building a kNNGraph on data of shape (357, 2000) is expensive. Consider setting n_pca.\n",
      "  warnings.warn(\n"
     ]
    },
    {
     "name": "stdout",
     "output_type": "stream",
     "text": [
      "    Calculated affinities in 0.14 seconds.\n",
      "  Calculated graph and diffusion operator in 0.31 seconds.\n",
      "  Calculating imputation...\n",
      "  Calculated imputation in 0.04 seconds.\n",
      "Calculated MAGIC in 0.37 seconds.\n",
      "Running MAGIC on 238 cells and 4000 genes.\n",
      "Calculating graph and diffusion operator...\n",
      "  Calculating KNN search...\n",
      "  Calculated KNN search in 0.18 seconds.\n",
      "  Calculating affinities...\n"
     ]
    },
    {
     "name": "stderr",
     "output_type": "stream",
     "text": [
      "/mnt/data/venvs/thesis-impute/lib/python3.10/site-packages/graphtools/graphs.py:122: UserWarning: Building a kNNGraph on data of shape (238, 4000) is expensive. Consider setting n_pca.\n",
      "  warnings.warn(\n"
     ]
    },
    {
     "name": "stdout",
     "output_type": "stream",
     "text": [
      "  Calculated affinities in 0.15 seconds.\n",
      "Calculated graph and diffusion operator in 0.34 seconds.\n",
      "Calculating imputation...\n",
      "Calculating MAGIC...\n",
      "  Running MAGIC on 357 cells and 4000 genes.\n",
      "  Calculating graph and diffusion operator...\n",
      "    Calculating KNN search...\n"
     ]
    },
    {
     "name": "stderr",
     "output_type": "stream",
     "text": [
      "/mnt/data/venvs/thesis-impute/lib/python3.10/site-packages/magic/magic.py:541: UserWarning: Running MAGIC.transform on different data to that which was used for MAGIC.fit may not produce sensible output, unless it comes from the same manifold.\n",
      "  warnings.warn(\n",
      "/mnt/data/venvs/thesis-impute/lib/python3.10/site-packages/graphtools/graphs.py:122: UserWarning: Building a kNNGraph on data of shape (357, 4000) is expensive. Consider setting n_pca.\n",
      "  warnings.warn(\n"
     ]
    },
    {
     "name": "stdout",
     "output_type": "stream",
     "text": [
      "    Calculated KNN search in 0.35 seconds.\n",
      "    Calculating affinities...\n",
      "    Calculated affinities in 0.28 seconds.\n",
      "  Calculated graph and diffusion operator in 0.64 seconds.\n",
      "  Calculating imputation...\n",
      "  Calculated imputation in 0.02 seconds.\n",
      "Calculated MAGIC in 0.66 seconds.\n",
      "Calculating imputation...\n",
      "Calculating MAGIC...\n",
      "  Running MAGIC on 357 cells and 4000 genes.\n",
      "  Calculating graph and diffusion operator...\n",
      "    Calculating KNN search...\n"
     ]
    },
    {
     "name": "stderr",
     "output_type": "stream",
     "text": [
      "/mnt/data/venvs/thesis-impute/lib/python3.10/site-packages/magic/magic.py:541: UserWarning: Running MAGIC.transform on different data to that which was used for MAGIC.fit may not produce sensible output, unless it comes from the same manifold.\n",
      "  warnings.warn(\n",
      "/mnt/data/venvs/thesis-impute/lib/python3.10/site-packages/graphtools/graphs.py:122: UserWarning: Building a kNNGraph on data of shape (357, 4000) is expensive. Consider setting n_pca.\n",
      "  warnings.warn(\n"
     ]
    },
    {
     "name": "stdout",
     "output_type": "stream",
     "text": [
      "    Calculated KNN search in 0.33 seconds.\n",
      "    Calculating affinities...\n",
      "    Calculated affinities in 0.28 seconds.\n",
      "  Calculated graph and diffusion operator in 0.62 seconds.\n",
      "  Calculating imputation...\n",
      "  Calculated imputation in 0.05 seconds.\n",
      "Calculated MAGIC in 0.68 seconds.\n",
      "Calculating imputation...\n",
      "Calculating MAGIC...\n",
      "  Running MAGIC on 357 cells and 4000 genes.\n",
      "  Calculating graph and diffusion operator...\n",
      "    Calculating KNN search...\n"
     ]
    },
    {
     "name": "stderr",
     "output_type": "stream",
     "text": [
      "/mnt/data/venvs/thesis-impute/lib/python3.10/site-packages/magic/magic.py:541: UserWarning: Running MAGIC.transform on different data to that which was used for MAGIC.fit may not produce sensible output, unless it comes from the same manifold.\n",
      "  warnings.warn(\n",
      "/mnt/data/venvs/thesis-impute/lib/python3.10/site-packages/graphtools/graphs.py:122: UserWarning: Building a kNNGraph on data of shape (357, 4000) is expensive. Consider setting n_pca.\n",
      "  warnings.warn(\n"
     ]
    },
    {
     "name": "stdout",
     "output_type": "stream",
     "text": [
      "    Calculated KNN search in 0.33 seconds.\n",
      "    Calculating affinities...\n",
      "    Calculated affinities in 0.29 seconds.\n",
      "  Calculated graph and diffusion operator in 0.63 seconds.\n",
      "  Calculating imputation...\n",
      "  Calculated imputation in 0.02 seconds.\n",
      "Calculated MAGIC in 0.65 seconds.\n"
     ]
    },
    {
     "name": "stderr",
     "output_type": "stream",
     "text": [
      "/mnt/data/venvs/thesis-impute/lib/python3.10/site-packages/scanpy/preprocessing/_highly_variable_genes.py:75: UserWarning: `flavor='seurat_v3'` expects raw count data, but non-integers were found.\n",
      "  warnings.warn(\n",
      "/mnt/data/venvs/thesis-impute/lib/python3.10/site-packages/scanpy/preprocessing/_highly_variable_genes.py:75: UserWarning: `flavor='seurat_v3'` expects raw count data, but non-integers were found.\n",
      "  warnings.warn(\n",
      "/mnt/data/venvs/thesis-impute/lib/python3.10/site-packages/scanpy/preprocessing/_highly_variable_genes.py:75: UserWarning: `flavor='seurat_v3'` expects raw count data, but non-integers were found.\n",
      "  warnings.warn(\n",
      "/mnt/data/thesis_project/notebooks/../scripts/runner_baselines_sklearn.py:92: RuntimeWarning: divide by zero encountered in log1p\n",
      "  return (gammaln(x + r) - gammaln(r) - gammaln(x + 1.0) + r*np.log(p) + x*np.log1p(-p))\n",
      "/mnt/data/thesis_project/notebooks/../scripts/runner_baselines_sklearn.py:92: RuntimeWarning: invalid value encountered in multiply\n",
      "  return (gammaln(x + r) - gammaln(r) - gammaln(x + 1.0) + r*np.log(p) + x*np.log1p(-p))\n",
      "/mnt/data/thesis_project/notebooks/../scripts/runner_baselines_sklearn.py:92: RuntimeWarning: divide by zero encountered in log1p\n",
      "  return (gammaln(x + r) - gammaln(r) - gammaln(x + 1.0) + r*np.log(p) + x*np.log1p(-p))\n",
      "/mnt/data/thesis_project/notebooks/../scripts/runner_baselines_sklearn.py:92: RuntimeWarning: invalid value encountered in multiply\n",
      "  return (gammaln(x + r) - gammaln(r) - gammaln(x + 1.0) + r*np.log(p) + x*np.log1p(-p))\n",
      "/mnt/data/thesis_project/notebooks/../scripts/runner_baselines_sklearn.py:92: RuntimeWarning: divide by zero encountered in log1p\n",
      "  return (gammaln(x + r) - gammaln(r) - gammaln(x + 1.0) + r*np.log(p) + x*np.log1p(-p))\n",
      "/mnt/data/thesis_project/notebooks/../scripts/runner_baselines_sklearn.py:92: RuntimeWarning: divide by zero encountered in log1p\n",
      "  return (gammaln(x + r) - gammaln(r) - gammaln(x + 1.0) + r*np.log(p) + x*np.log1p(-p))\n",
      "/mnt/data/thesis_project/notebooks/../scripts/runner_baselines_sklearn.py:92: RuntimeWarning: divide by zero encountered in log1p\n",
      "  return (gammaln(x + r) - gammaln(r) - gammaln(x + 1.0) + r*np.log(p) + x*np.log1p(-p))\n",
      "/mnt/data/thesis_project/notebooks/../scripts/runner_baselines_sklearn.py:92: RuntimeWarning: invalid value encountered in multiply\n",
      "  return (gammaln(x + r) - gammaln(r) - gammaln(x + 1.0) + r*np.log(p) + x*np.log1p(-p))\n",
      "/mnt/data/thesis_project/notebooks/../scripts/runner_baselines_sklearn.py:92: RuntimeWarning: divide by zero encountered in log1p\n",
      "  return (gammaln(x + r) - gammaln(r) - gammaln(x + 1.0) + r*np.log(p) + x*np.log1p(-p))\n",
      "/mnt/data/thesis_project/notebooks/../scripts/runner_baselines_sklearn.py:92: RuntimeWarning: invalid value encountered in multiply\n",
      "  return (gammaln(x + r) - gammaln(r) - gammaln(x + 1.0) + r*np.log(p) + x*np.log1p(-p))\n",
      "/mnt/data/thesis_project/notebooks/../scripts/runner_baselines_sklearn.py:92: RuntimeWarning: divide by zero encountered in log1p\n",
      "  return (gammaln(x + r) - gammaln(r) - gammaln(x + 1.0) + r*np.log(p) + x*np.log1p(-p))\n",
      "/mnt/data/thesis_project/notebooks/../scripts/runner_baselines_sklearn.py:92: RuntimeWarning: invalid value encountered in multiply\n",
      "  return (gammaln(x + r) - gammaln(r) - gammaln(x + 1.0) + r*np.log(p) + x*np.log1p(-p))\n",
      "/mnt/data/thesis_project/notebooks/../scripts/runner_baselines_sklearn.py:92: RuntimeWarning: divide by zero encountered in log1p\n",
      "  return (gammaln(x + r) - gammaln(r) - gammaln(x + 1.0) + r*np.log(p) + x*np.log1p(-p))\n",
      "/mnt/data/thesis_project/notebooks/../scripts/runner_baselines_sklearn.py:92: RuntimeWarning: invalid value encountered in multiply\n",
      "  return (gammaln(x + r) - gammaln(r) - gammaln(x + 1.0) + r*np.log(p) + x*np.log1p(-p))\n",
      "/mnt/data/thesis_project/notebooks/../scripts/runner_baselines_sklearn.py:92: RuntimeWarning: divide by zero encountered in log1p\n",
      "  return (gammaln(x + r) - gammaln(r) - gammaln(x + 1.0) + r*np.log(p) + x*np.log1p(-p))\n",
      "/mnt/data/thesis_project/notebooks/../scripts/runner_baselines_sklearn.py:92: RuntimeWarning: divide by zero encountered in log1p\n",
      "  return (gammaln(x + r) - gammaln(r) - gammaln(x + 1.0) + r*np.log(p) + x*np.log1p(-p))\n",
      "/mnt/data/thesis_project/notebooks/../scripts/runner_baselines_sklearn.py:92: RuntimeWarning: divide by zero encountered in log1p\n",
      "  return (gammaln(x + r) - gammaln(r) - gammaln(x + 1.0) + r*np.log(p) + x*np.log1p(-p))\n",
      "/mnt/data/thesis_project/notebooks/../scripts/runner_baselines_sklearn.py:92: RuntimeWarning: invalid value encountered in multiply\n",
      "  return (gammaln(x + r) - gammaln(r) - gammaln(x + 1.0) + r*np.log(p) + x*np.log1p(-p))\n",
      "/mnt/data/thesis_project/notebooks/../scripts/runner_baselines_sklearn.py:92: RuntimeWarning: divide by zero encountered in log1p\n",
      "  return (gammaln(x + r) - gammaln(r) - gammaln(x + 1.0) + r*np.log(p) + x*np.log1p(-p))\n",
      "/mnt/data/thesis_project/notebooks/../scripts/runner_baselines_sklearn.py:92: RuntimeWarning: invalid value encountered in multiply\n",
      "  return (gammaln(x + r) - gammaln(r) - gammaln(x + 1.0) + r*np.log(p) + x*np.log1p(-p))\n",
      "/mnt/data/thesis_project/notebooks/../scripts/runner_baselines_sklearn.py:92: RuntimeWarning: divide by zero encountered in log1p\n",
      "  return (gammaln(x + r) - gammaln(r) - gammaln(x + 1.0) + r*np.log(p) + x*np.log1p(-p))\n",
      "/mnt/data/thesis_project/notebooks/../scripts/runner_baselines_sklearn.py:92: RuntimeWarning: invalid value encountered in multiply\n",
      "  return (gammaln(x + r) - gammaln(r) - gammaln(x + 1.0) + r*np.log(p) + x*np.log1p(-p))\n",
      "/mnt/data/thesis_project/notebooks/../scripts/runner_baselines_sklearn.py:92: RuntimeWarning: divide by zero encountered in log1p\n",
      "  return (gammaln(x + r) - gammaln(r) - gammaln(x + 1.0) + r*np.log(p) + x*np.log1p(-p))\n",
      "/mnt/data/thesis_project/notebooks/../scripts/runner_baselines_sklearn.py:92: RuntimeWarning: divide by zero encountered in log1p\n",
      "  return (gammaln(x + r) - gammaln(r) - gammaln(x + 1.0) + r*np.log(p) + x*np.log1p(-p))\n",
      "/mnt/data/thesis_project/notebooks/../scripts/runner_baselines_sklearn.py:92: RuntimeWarning: divide by zero encountered in log1p\n",
      "  return (gammaln(x + r) - gammaln(r) - gammaln(x + 1.0) + r*np.log(p) + x*np.log1p(-p))\n",
      "/mnt/data/thesis_project/notebooks/../scripts/runner_baselines_sklearn.py:92: RuntimeWarning: invalid value encountered in multiply\n",
      "  return (gammaln(x + r) - gammaln(r) - gammaln(x + 1.0) + r*np.log(p) + x*np.log1p(-p))\n",
      "/mnt/data/thesis_project/notebooks/../scripts/runner_baselines_sklearn.py:92: RuntimeWarning: divide by zero encountered in log1p\n",
      "  return (gammaln(x + r) - gammaln(r) - gammaln(x + 1.0) + r*np.log(p) + x*np.log1p(-p))\n",
      "/mnt/data/thesis_project/notebooks/../scripts/runner_baselines_sklearn.py:92: RuntimeWarning: invalid value encountered in multiply\n",
      "  return (gammaln(x + r) - gammaln(r) - gammaln(x + 1.0) + r*np.log(p) + x*np.log1p(-p))\n",
      "/mnt/data/thesis_project/notebooks/../scripts/runner_baselines_sklearn.py:92: RuntimeWarning: divide by zero encountered in log1p\n",
      "  return (gammaln(x + r) - gammaln(r) - gammaln(x + 1.0) + r*np.log(p) + x*np.log1p(-p))\n",
      "/mnt/data/thesis_project/notebooks/../scripts/runner_baselines_sklearn.py:92: RuntimeWarning: invalid value encountered in multiply\n",
      "  return (gammaln(x + r) - gammaln(r) - gammaln(x + 1.0) + r*np.log(p) + x*np.log1p(-p))\n",
      "/mnt/data/thesis_project/notebooks/../scripts/runner_baselines_sklearn.py:92: RuntimeWarning: divide by zero encountered in log1p\n",
      "  return (gammaln(x + r) - gammaln(r) - gammaln(x + 1.0) + r*np.log(p) + x*np.log1p(-p))\n",
      "/mnt/data/thesis_project/notebooks/../scripts/runner_baselines_sklearn.py:92: RuntimeWarning: divide by zero encountered in log1p\n",
      "  return (gammaln(x + r) - gammaln(r) - gammaln(x + 1.0) + r*np.log(p) + x*np.log1p(-p))\n",
      "/mnt/data/thesis_project/notebooks/../scripts/runner_baselines_sklearn.py:92: RuntimeWarning: divide by zero encountered in log1p\n",
      "  return (gammaln(x + r) - gammaln(r) - gammaln(x + 1.0) + r*np.log(p) + x*np.log1p(-p))\n",
      "/mnt/data/thesis_project/notebooks/../scripts/runner_baselines_sklearn.py:92: RuntimeWarning: invalid value encountered in multiply\n",
      "  return (gammaln(x + r) - gammaln(r) - gammaln(x + 1.0) + r*np.log(p) + x*np.log1p(-p))\n",
      "/mnt/data/thesis_project/notebooks/../scripts/runner_baselines_sklearn.py:92: RuntimeWarning: divide by zero encountered in log1p\n",
      "  return (gammaln(x + r) - gammaln(r) - gammaln(x + 1.0) + r*np.log(p) + x*np.log1p(-p))\n",
      "/mnt/data/thesis_project/notebooks/../scripts/runner_baselines_sklearn.py:92: RuntimeWarning: invalid value encountered in multiply\n",
      "  return (gammaln(x + r) - gammaln(r) - gammaln(x + 1.0) + r*np.log(p) + x*np.log1p(-p))\n",
      "/mnt/data/thesis_project/notebooks/../scripts/runner_baselines_sklearn.py:92: RuntimeWarning: divide by zero encountered in log1p\n",
      "  return (gammaln(x + r) - gammaln(r) - gammaln(x + 1.0) + r*np.log(p) + x*np.log1p(-p))\n",
      "/mnt/data/thesis_project/notebooks/../scripts/runner_baselines_sklearn.py:92: RuntimeWarning: invalid value encountered in multiply\n",
      "  return (gammaln(x + r) - gammaln(r) - gammaln(x + 1.0) + r*np.log(p) + x*np.log1p(-p))\n",
      "/mnt/data/thesis_project/notebooks/../scripts/runner_baselines_sklearn.py:92: RuntimeWarning: divide by zero encountered in log1p\n",
      "  return (gammaln(x + r) - gammaln(r) - gammaln(x + 1.0) + r*np.log(p) + x*np.log1p(-p))\n",
      "/mnt/data/thesis_project/notebooks/../scripts/runner_baselines_sklearn.py:92: RuntimeWarning: divide by zero encountered in log1p\n",
      "  return (gammaln(x + r) - gammaln(r) - gammaln(x + 1.0) + r*np.log(p) + x*np.log1p(-p))\n",
      "/mnt/data/thesis_project/notebooks/../scripts/runner_baselines_sklearn.py:92: RuntimeWarning: invalid value encountered in multiply\n",
      "  return (gammaln(x + r) - gammaln(r) - gammaln(x + 1.0) + r*np.log(p) + x*np.log1p(-p))\n",
      "/mnt/data/thesis_project/notebooks/../scripts/runner_baselines_sklearn.py:92: RuntimeWarning: divide by zero encountered in log1p\n",
      "  return (gammaln(x + r) - gammaln(r) - gammaln(x + 1.0) + r*np.log(p) + x*np.log1p(-p))\n",
      "/mnt/data/thesis_project/notebooks/../scripts/runner_baselines_sklearn.py:92: RuntimeWarning: invalid value encountered in multiply\n",
      "  return (gammaln(x + r) - gammaln(r) - gammaln(x + 1.0) + r*np.log(p) + x*np.log1p(-p))\n",
      "/mnt/data/thesis_project/notebooks/../scripts/runner_baselines_sklearn.py:92: RuntimeWarning: divide by zero encountered in log1p\n",
      "  return (gammaln(x + r) - gammaln(r) - gammaln(x + 1.0) + r*np.log(p) + x*np.log1p(-p))\n",
      "/mnt/data/thesis_project/notebooks/../scripts/runner_baselines_sklearn.py:92: RuntimeWarning: invalid value encountered in multiply\n",
      "  return (gammaln(x + r) - gammaln(r) - gammaln(x + 1.0) + r*np.log(p) + x*np.log1p(-p))\n",
      "/mnt/data/thesis_project/notebooks/../scripts/runner_baselines_sklearn.py:92: RuntimeWarning: divide by zero encountered in log1p\n",
      "  return (gammaln(x + r) - gammaln(r) - gammaln(x + 1.0) + r*np.log(p) + x*np.log1p(-p))\n",
      "/mnt/data/thesis_project/notebooks/../scripts/runner_baselines_sklearn.py:92: RuntimeWarning: divide by zero encountered in log1p\n",
      "  return (gammaln(x + r) - gammaln(r) - gammaln(x + 1.0) + r*np.log(p) + x*np.log1p(-p))\n",
      "/mnt/data/thesis_project/notebooks/../scripts/runner_baselines_sklearn.py:92: RuntimeWarning: invalid value encountered in multiply\n",
      "  return (gammaln(x + r) - gammaln(r) - gammaln(x + 1.0) + r*np.log(p) + x*np.log1p(-p))\n",
      "/mnt/data/thesis_project/notebooks/../scripts/runner_baselines_sklearn.py:92: RuntimeWarning: divide by zero encountered in log1p\n",
      "  return (gammaln(x + r) - gammaln(r) - gammaln(x + 1.0) + r*np.log(p) + x*np.log1p(-p))\n",
      "/mnt/data/thesis_project/notebooks/../scripts/runner_baselines_sklearn.py:92: RuntimeWarning: invalid value encountered in multiply\n",
      "  return (gammaln(x + r) - gammaln(r) - gammaln(x + 1.0) + r*np.log(p) + x*np.log1p(-p))\n"
     ]
    },
    {
     "name": "stdout",
     "output_type": "stream",
     "text": [
      "Running MAGIC on 238 cells and 1000 genes.\n",
      "Calculating graph and diffusion operator...\n",
      "  Calculating KNN search...\n",
      "  Calculated KNN search in 0.04 seconds.\n",
      "  Calculating affinities...\n",
      "  Calculated affinities in 0.04 seconds.\n",
      "Calculated graph and diffusion operator in 0.10 seconds.\n",
      "Calculating imputation...\n",
      "Calculating MAGIC...\n",
      "  Running MAGIC on 357 cells and 1000 genes.\n",
      "  Calculating graph and diffusion operator...\n",
      "    Calculating KNN search...\n"
     ]
    },
    {
     "name": "stderr",
     "output_type": "stream",
     "text": [
      "/mnt/data/thesis_project/notebooks/../scripts/runner_baselines_sklearn.py:92: RuntimeWarning: divide by zero encountered in log1p\n",
      "  return (gammaln(x + r) - gammaln(r) - gammaln(x + 1.0) + r*np.log(p) + x*np.log1p(-p))\n",
      "/mnt/data/thesis_project/notebooks/../scripts/runner_baselines_sklearn.py:92: RuntimeWarning: invalid value encountered in multiply\n",
      "  return (gammaln(x + r) - gammaln(r) - gammaln(x + 1.0) + r*np.log(p) + x*np.log1p(-p))\n",
      "/mnt/data/venvs/thesis-impute/lib/python3.10/site-packages/graphtools/graphs.py:122: UserWarning: Building a kNNGraph on data of shape (238, 1000) is expensive. Consider setting n_pca.\n",
      "  warnings.warn(\n",
      "/mnt/data/venvs/thesis-impute/lib/python3.10/site-packages/magic/magic.py:541: UserWarning: Running MAGIC.transform on different data to that which was used for MAGIC.fit may not produce sensible output, unless it comes from the same manifold.\n",
      "  warnings.warn(\n",
      "/mnt/data/venvs/thesis-impute/lib/python3.10/site-packages/graphtools/graphs.py:122: UserWarning: Building a kNNGraph on data of shape (357, 1000) is expensive. Consider setting n_pca.\n",
      "  warnings.warn(\n"
     ]
    },
    {
     "name": "stdout",
     "output_type": "stream",
     "text": [
      "    Calculated KNN search in 0.08 seconds.\n",
      "    Calculating affinities...\n",
      "    Calculated affinities in 0.07 seconds.\n",
      "  Calculated graph and diffusion operator in 0.16 seconds.\n",
      "  Calculating imputation...\n",
      "  Calculated imputation in 0.01 seconds.\n",
      "Calculated MAGIC in 0.17 seconds.\n",
      "Calculating imputation...\n",
      "Calculating MAGIC...\n",
      "  Running MAGIC on 357 cells and 1000 genes.\n",
      "  Calculating graph and diffusion operator...\n",
      "    Calculating KNN search...\n",
      "    Calculated KNN search in 0.08 seconds.\n",
      "    Calculating affinities...\n",
      "    Calculated affinities in 0.07 seconds.\n",
      "  Calculated graph and diffusion operator in 0.16 seconds.\n",
      "  Calculating imputation...\n",
      "Calculated MAGIC in 0.17 seconds.\n"
     ]
    },
    {
     "name": "stderr",
     "output_type": "stream",
     "text": [
      "/mnt/data/venvs/thesis-impute/lib/python3.10/site-packages/magic/magic.py:541: UserWarning: Running MAGIC.transform on different data to that which was used for MAGIC.fit may not produce sensible output, unless it comes from the same manifold.\n",
      "  warnings.warn(\n",
      "/mnt/data/venvs/thesis-impute/lib/python3.10/site-packages/graphtools/graphs.py:122: UserWarning: Building a kNNGraph on data of shape (357, 1000) is expensive. Consider setting n_pca.\n",
      "  warnings.warn(\n"
     ]
    },
    {
     "name": "stdout",
     "output_type": "stream",
     "text": [
      "Calculating imputation...\n",
      "Calculating MAGIC...\n",
      "  Running MAGIC on 357 cells and 1000 genes.\n",
      "  Calculating graph and diffusion operator...\n",
      "    Calculating KNN search...\n",
      "    Calculated KNN search in 0.09 seconds.\n",
      "    Calculating affinities...\n",
      "    Calculated affinities in 0.08 seconds.\n",
      "  Calculated graph and diffusion operator in 0.18 seconds.\n",
      "  Calculating imputation...\n",
      "Calculated MAGIC in 0.19 seconds.\n"
     ]
    },
    {
     "name": "stderr",
     "output_type": "stream",
     "text": [
      "/mnt/data/venvs/thesis-impute/lib/python3.10/site-packages/magic/magic.py:541: UserWarning: Running MAGIC.transform on different data to that which was used for MAGIC.fit may not produce sensible output, unless it comes from the same manifold.\n",
      "  warnings.warn(\n",
      "/mnt/data/venvs/thesis-impute/lib/python3.10/site-packages/graphtools/graphs.py:122: UserWarning: Building a kNNGraph on data of shape (357, 1000) is expensive. Consider setting n_pca.\n",
      "  warnings.warn(\n"
     ]
    },
    {
     "name": "stdout",
     "output_type": "stream",
     "text": [
      "Running MAGIC on 238 cells and 2000 genes.\n",
      "Calculating graph and diffusion operator...\n",
      "  Calculating KNN search...\n",
      "  Calculated KNN search in 0.09 seconds.\n",
      "  Calculating affinities...\n",
      "  Calculated affinities in 0.08 seconds.\n",
      "Calculated graph and diffusion operator in 0.18 seconds.\n"
     ]
    },
    {
     "name": "stderr",
     "output_type": "stream",
     "text": [
      "/mnt/data/venvs/thesis-impute/lib/python3.10/site-packages/graphtools/graphs.py:122: UserWarning: Building a kNNGraph on data of shape (238, 2000) is expensive. Consider setting n_pca.\n",
      "  warnings.warn(\n"
     ]
    },
    {
     "name": "stdout",
     "output_type": "stream",
     "text": [
      "Calculating imputation...\n",
      "Calculating MAGIC...\n",
      "  Running MAGIC on 357 cells and 2000 genes.\n",
      "  Calculating graph and diffusion operator...\n",
      "    Calculating KNN search...\n",
      "    Calculated KNN search in 0.16 seconds.\n",
      "    Calculating affinities...\n"
     ]
    },
    {
     "name": "stderr",
     "output_type": "stream",
     "text": [
      "/mnt/data/venvs/thesis-impute/lib/python3.10/site-packages/magic/magic.py:541: UserWarning: Running MAGIC.transform on different data to that which was used for MAGIC.fit may not produce sensible output, unless it comes from the same manifold.\n",
      "  warnings.warn(\n",
      "/mnt/data/venvs/thesis-impute/lib/python3.10/site-packages/graphtools/graphs.py:122: UserWarning: Building a kNNGraph on data of shape (357, 2000) is expensive. Consider setting n_pca.\n",
      "  warnings.warn(\n"
     ]
    },
    {
     "name": "stdout",
     "output_type": "stream",
     "text": [
      "    Calculated affinities in 0.14 seconds.\n",
      "  Calculated graph and diffusion operator in 0.31 seconds.\n",
      "  Calculating imputation...\n",
      "  Calculated imputation in 0.02 seconds.\n",
      "Calculated MAGIC in 0.33 seconds.\n",
      "Calculating imputation...\n",
      "Calculating MAGIC...\n",
      "  Running MAGIC on 357 cells and 2000 genes.\n",
      "  Calculating graph and diffusion operator...\n",
      "    Calculating KNN search...\n",
      "    Calculated KNN search in 0.17 seconds.\n",
      "    Calculating affinities...\n"
     ]
    },
    {
     "name": "stderr",
     "output_type": "stream",
     "text": [
      "/mnt/data/venvs/thesis-impute/lib/python3.10/site-packages/magic/magic.py:541: UserWarning: Running MAGIC.transform on different data to that which was used for MAGIC.fit may not produce sensible output, unless it comes from the same manifold.\n",
      "  warnings.warn(\n",
      "/mnt/data/venvs/thesis-impute/lib/python3.10/site-packages/graphtools/graphs.py:122: UserWarning: Building a kNNGraph on data of shape (357, 2000) is expensive. Consider setting n_pca.\n",
      "  warnings.warn(\n"
     ]
    },
    {
     "name": "stdout",
     "output_type": "stream",
     "text": [
      "    Calculated affinities in 0.14 seconds.\n",
      "  Calculated graph and diffusion operator in 0.31 seconds.\n",
      "  Calculating imputation...\n",
      "  Calculated imputation in 0.01 seconds.\n",
      "Calculated MAGIC in 0.33 seconds.\n",
      "Calculating imputation...\n",
      "Calculating MAGIC...\n",
      "  Running MAGIC on 357 cells and 2000 genes.\n",
      "  Calculating graph and diffusion operator...\n",
      "    Calculating KNN search...\n",
      "    Calculated KNN search in 0.17 seconds.\n",
      "    Calculating affinities...\n"
     ]
    },
    {
     "name": "stderr",
     "output_type": "stream",
     "text": [
      "/mnt/data/venvs/thesis-impute/lib/python3.10/site-packages/magic/magic.py:541: UserWarning: Running MAGIC.transform on different data to that which was used for MAGIC.fit may not produce sensible output, unless it comes from the same manifold.\n",
      "  warnings.warn(\n",
      "/mnt/data/venvs/thesis-impute/lib/python3.10/site-packages/graphtools/graphs.py:122: UserWarning: Building a kNNGraph on data of shape (357, 2000) is expensive. Consider setting n_pca.\n",
      "  warnings.warn(\n"
     ]
    },
    {
     "name": "stdout",
     "output_type": "stream",
     "text": [
      "    Calculated affinities in 0.14 seconds.\n",
      "  Calculated graph and diffusion operator in 0.31 seconds.\n",
      "  Calculating imputation...\n",
      "  Calculated imputation in 0.02 seconds.\n",
      "Calculated MAGIC in 0.34 seconds.\n",
      "Running MAGIC on 238 cells and 4000 genes.\n",
      "Calculating graph and diffusion operator...\n",
      "  Calculating KNN search...\n",
      "  Calculated KNN search in 0.19 seconds.\n",
      "  Calculating affinities...\n"
     ]
    },
    {
     "name": "stderr",
     "output_type": "stream",
     "text": [
      "/mnt/data/venvs/thesis-impute/lib/python3.10/site-packages/graphtools/graphs.py:122: UserWarning: Building a kNNGraph on data of shape (238, 4000) is expensive. Consider setting n_pca.\n",
      "  warnings.warn(\n"
     ]
    },
    {
     "name": "stdout",
     "output_type": "stream",
     "text": [
      "  Calculated affinities in 0.16 seconds.\n",
      "Calculated graph and diffusion operator in 0.35 seconds.\n",
      "Calculating imputation...\n",
      "Calculating MAGIC...\n",
      "  Running MAGIC on 357 cells and 4000 genes.\n",
      "  Calculating graph and diffusion operator...\n",
      "    Calculating KNN search...\n"
     ]
    },
    {
     "name": "stderr",
     "output_type": "stream",
     "text": [
      "/mnt/data/venvs/thesis-impute/lib/python3.10/site-packages/magic/magic.py:541: UserWarning: Running MAGIC.transform on different data to that which was used for MAGIC.fit may not produce sensible output, unless it comes from the same manifold.\n",
      "  warnings.warn(\n",
      "/mnt/data/venvs/thesis-impute/lib/python3.10/site-packages/graphtools/graphs.py:122: UserWarning: Building a kNNGraph on data of shape (357, 4000) is expensive. Consider setting n_pca.\n",
      "  warnings.warn(\n"
     ]
    },
    {
     "name": "stdout",
     "output_type": "stream",
     "text": [
      "    Calculated KNN search in 0.34 seconds.\n",
      "    Calculating affinities...\n",
      "    Calculated affinities in 0.31 seconds.\n",
      "  Calculated graph and diffusion operator in 0.66 seconds.\n",
      "  Calculating imputation...\n",
      "  Calculated imputation in 0.02 seconds.\n",
      "Calculated MAGIC in 0.69 seconds.\n",
      "Calculating imputation...\n",
      "Calculating MAGIC...\n",
      "  Running MAGIC on 357 cells and 4000 genes.\n",
      "  Calculating graph and diffusion operator...\n",
      "    Calculating KNN search...\n"
     ]
    },
    {
     "name": "stderr",
     "output_type": "stream",
     "text": [
      "/mnt/data/venvs/thesis-impute/lib/python3.10/site-packages/magic/magic.py:541: UserWarning: Running MAGIC.transform on different data to that which was used for MAGIC.fit may not produce sensible output, unless it comes from the same manifold.\n",
      "  warnings.warn(\n",
      "/mnt/data/venvs/thesis-impute/lib/python3.10/site-packages/graphtools/graphs.py:122: UserWarning: Building a kNNGraph on data of shape (357, 4000) is expensive. Consider setting n_pca.\n",
      "  warnings.warn(\n"
     ]
    },
    {
     "name": "stdout",
     "output_type": "stream",
     "text": [
      "    Calculated KNN search in 0.37 seconds.\n",
      "    Calculating affinities...\n",
      "    Calculated affinities in 0.30 seconds.\n",
      "  Calculated graph and diffusion operator in 0.67 seconds.\n",
      "  Calculating imputation...\n",
      "  Calculated imputation in 0.03 seconds.\n",
      "Calculated MAGIC in 0.71 seconds.\n",
      "Calculating imputation...\n",
      "Calculating MAGIC...\n",
      "  Running MAGIC on 357 cells and 4000 genes.\n",
      "  Calculating graph and diffusion operator...\n",
      "    Calculating KNN search...\n"
     ]
    },
    {
     "name": "stderr",
     "output_type": "stream",
     "text": [
      "/mnt/data/venvs/thesis-impute/lib/python3.10/site-packages/magic/magic.py:541: UserWarning: Running MAGIC.transform on different data to that which was used for MAGIC.fit may not produce sensible output, unless it comes from the same manifold.\n",
      "  warnings.warn(\n",
      "/mnt/data/venvs/thesis-impute/lib/python3.10/site-packages/graphtools/graphs.py:122: UserWarning: Building a kNNGraph on data of shape (357, 4000) is expensive. Consider setting n_pca.\n",
      "  warnings.warn(\n"
     ]
    },
    {
     "name": "stdout",
     "output_type": "stream",
     "text": [
      "    Calculated KNN search in 0.35 seconds.\n",
      "    Calculating affinities...\n",
      "    Calculated affinities in 0.30 seconds.\n",
      "  Calculated graph and diffusion operator in 0.65 seconds.\n",
      "  Calculating imputation...\n",
      "  Calculated imputation in 0.03 seconds.\n",
      "Calculated MAGIC in 0.69 seconds.\n"
     ]
    },
    {
     "name": "stderr",
     "output_type": "stream",
     "text": [
      "/mnt/data/venvs/thesis-impute/lib/python3.10/site-packages/scanpy/preprocessing/_highly_variable_genes.py:75: UserWarning: `flavor='seurat_v3'` expects raw count data, but non-integers were found.\n",
      "  warnings.warn(\n",
      "/mnt/data/venvs/thesis-impute/lib/python3.10/site-packages/scanpy/preprocessing/_highly_variable_genes.py:75: UserWarning: `flavor='seurat_v3'` expects raw count data, but non-integers were found.\n",
      "  warnings.warn(\n"
     ]
    },
    {
     "name": "stdout",
     "output_type": "stream",
     "text": [
      "Running MAGIC on 357 cells and 1000 genes.\n",
      "Calculating graph and diffusion operator...\n",
      "  Calculating KNN search...\n",
      "  Calculated KNN search in 0.08 seconds.\n",
      "  Calculating affinities...\n",
      "  Calculated affinities in 0.07 seconds.\n",
      "Calculated graph and diffusion operator in 0.15 seconds.\n",
      "Calculating imputation...\n",
      "Calculating MAGIC...\n"
     ]
    },
    {
     "name": "stderr",
     "output_type": "stream",
     "text": [
      "/mnt/data/venvs/thesis-impute/lib/python3.10/site-packages/graphtools/graphs.py:122: UserWarning: Building a kNNGraph on data of shape (357, 1000) is expensive. Consider setting n_pca.\n",
      "  warnings.warn(\n",
      "/mnt/data/venvs/thesis-impute/lib/python3.10/site-packages/magic/magic.py:541: UserWarning: Running MAGIC.transform on different data to that which was used for MAGIC.fit may not produce sensible output, unless it comes from the same manifold.\n",
      "  warnings.warn(\n"
     ]
    },
    {
     "name": "stdout",
     "output_type": "stream",
     "text": [
      "  Running MAGIC on 447 cells and 1000 genes.\n",
      "  Calculating graph and diffusion operator...\n",
      "    Calculating KNN search...\n",
      "    Calculated KNN search in 0.12 seconds.\n",
      "    Calculating affinities...\n"
     ]
    },
    {
     "name": "stderr",
     "output_type": "stream",
     "text": [
      "/mnt/data/venvs/thesis-impute/lib/python3.10/site-packages/graphtools/graphs.py:122: UserWarning: Building a kNNGraph on data of shape (447, 1000) is expensive. Consider setting n_pca.\n",
      "  warnings.warn(\n"
     ]
    },
    {
     "name": "stdout",
     "output_type": "stream",
     "text": [
      "    Calculated affinities in 0.11 seconds.\n",
      "  Calculated graph and diffusion operator in 0.23 seconds.\n",
      "  Calculating imputation...\n",
      "  Calculated imputation in 0.02 seconds.\n",
      "Calculated MAGIC in 0.26 seconds.\n",
      "Calculating imputation...\n",
      "Calculated imputation in 0.01 seconds.\n",
      "Calculating MAGIC...\n",
      "  Running MAGIC on 447 cells and 1000 genes.\n",
      "  Calculating graph and diffusion operator...\n",
      "    Calculating KNN search...\n",
      "    Calculated KNN search in 0.12 seconds.\n",
      "    Calculating affinities...\n"
     ]
    },
    {
     "name": "stderr",
     "output_type": "stream",
     "text": [
      "/mnt/data/venvs/thesis-impute/lib/python3.10/site-packages/magic/magic.py:541: UserWarning: Running MAGIC.transform on different data to that which was used for MAGIC.fit may not produce sensible output, unless it comes from the same manifold.\n",
      "  warnings.warn(\n",
      "/mnt/data/venvs/thesis-impute/lib/python3.10/site-packages/graphtools/graphs.py:122: UserWarning: Building a kNNGraph on data of shape (447, 1000) is expensive. Consider setting n_pca.\n",
      "  warnings.warn(\n"
     ]
    },
    {
     "name": "stdout",
     "output_type": "stream",
     "text": [
      "    Calculated affinities in 0.11 seconds.\n",
      "  Calculated graph and diffusion operator in 0.23 seconds.\n",
      "  Calculating imputation...\n",
      "  Calculated imputation in 0.01 seconds.\n",
      "Calculated MAGIC in 0.26 seconds.\n",
      "Calculating imputation...\n",
      "Calculating MAGIC...\n",
      "  Running MAGIC on 447 cells and 1000 genes.\n",
      "  Calculating graph and diffusion operator...\n",
      "    Calculating KNN search...\n",
      "    Calculated KNN search in 0.12 seconds.\n",
      "    Calculating affinities...\n"
     ]
    },
    {
     "name": "stderr",
     "output_type": "stream",
     "text": [
      "/mnt/data/venvs/thesis-impute/lib/python3.10/site-packages/magic/magic.py:541: UserWarning: Running MAGIC.transform on different data to that which was used for MAGIC.fit may not produce sensible output, unless it comes from the same manifold.\n",
      "  warnings.warn(\n",
      "/mnt/data/venvs/thesis-impute/lib/python3.10/site-packages/graphtools/graphs.py:122: UserWarning: Building a kNNGraph on data of shape (447, 1000) is expensive. Consider setting n_pca.\n",
      "  warnings.warn(\n"
     ]
    },
    {
     "name": "stdout",
     "output_type": "stream",
     "text": [
      "    Calculated affinities in 0.11 seconds.\n",
      "  Calculated graph and diffusion operator in 0.24 seconds.\n",
      "  Calculating imputation...\n",
      "  Calculated imputation in 0.02 seconds.\n",
      "Calculated MAGIC in 0.26 seconds.\n"
     ]
    },
    {
     "name": "stderr",
     "output_type": "stream",
     "text": [
      "/mnt/data/venvs/thesis-impute/lib/python3.10/site-packages/scanpy/preprocessing/_highly_variable_genes.py:75: UserWarning: `flavor='seurat_v3'` expects raw count data, but non-integers were found.\n",
      "  warnings.warn(\n",
      "/mnt/data/venvs/thesis-impute/lib/python3.10/site-packages/scanpy/preprocessing/_highly_variable_genes.py:75: UserWarning: `flavor='seurat_v3'` expects raw count data, but non-integers were found.\n",
      "  warnings.warn(\n",
      "/mnt/data/venvs/thesis-impute/lib/python3.10/site-packages/scanpy/preprocessing/_highly_variable_genes.py:75: UserWarning: `flavor='seurat_v3'` expects raw count data, but non-integers were found.\n",
      "  warnings.warn(\n",
      "/mnt/data/venvs/thesis-impute/lib/python3.10/site-packages/scanpy/preprocessing/_highly_variable_genes.py:75: UserWarning: `flavor='seurat_v3'` expects raw count data, but non-integers were found.\n",
      "  warnings.warn(\n",
      "/mnt/data/venvs/thesis-impute/lib/python3.10/site-packages/scanpy/preprocessing/_highly_variable_genes.py:75: UserWarning: `flavor='seurat_v3'` expects raw count data, but non-integers were found.\n",
      "  warnings.warn(\n",
      "/mnt/data/thesis_project/notebooks/../scripts/runner_baselines_sklearn.py:92: RuntimeWarning: divide by zero encountered in log1p\n",
      "  return (gammaln(x + r) - gammaln(r) - gammaln(x + 1.0) + r*np.log(p) + x*np.log1p(-p))\n",
      "/mnt/data/thesis_project/notebooks/../scripts/runner_baselines_sklearn.py:92: RuntimeWarning: invalid value encountered in multiply\n",
      "  return (gammaln(x + r) - gammaln(r) - gammaln(x + 1.0) + r*np.log(p) + x*np.log1p(-p))\n",
      "/mnt/data/thesis_project/notebooks/../scripts/runner_baselines_sklearn.py:92: RuntimeWarning: divide by zero encountered in log1p\n",
      "  return (gammaln(x + r) - gammaln(r) - gammaln(x + 1.0) + r*np.log(p) + x*np.log1p(-p))\n",
      "/mnt/data/thesis_project/notebooks/../scripts/runner_baselines_sklearn.py:92: RuntimeWarning: invalid value encountered in multiply\n",
      "  return (gammaln(x + r) - gammaln(r) - gammaln(x + 1.0) + r*np.log(p) + x*np.log1p(-p))\n",
      "/mnt/data/thesis_project/notebooks/../scripts/runner_baselines_sklearn.py:92: RuntimeWarning: divide by zero encountered in log1p\n",
      "  return (gammaln(x + r) - gammaln(r) - gammaln(x + 1.0) + r*np.log(p) + x*np.log1p(-p))\n",
      "/mnt/data/thesis_project/notebooks/../scripts/runner_baselines_sklearn.py:92: RuntimeWarning: invalid value encountered in multiply\n",
      "  return (gammaln(x + r) - gammaln(r) - gammaln(x + 1.0) + r*np.log(p) + x*np.log1p(-p))\n",
      "/mnt/data/thesis_project/notebooks/../scripts/runner_baselines_sklearn.py:92: RuntimeWarning: divide by zero encountered in log1p\n",
      "  return (gammaln(x + r) - gammaln(r) - gammaln(x + 1.0) + r*np.log(p) + x*np.log1p(-p))\n",
      "/mnt/data/thesis_project/notebooks/../scripts/runner_baselines_sklearn.py:92: RuntimeWarning: invalid value encountered in multiply\n",
      "  return (gammaln(x + r) - gammaln(r) - gammaln(x + 1.0) + r*np.log(p) + x*np.log1p(-p))\n",
      "/mnt/data/thesis_project/notebooks/../scripts/runner_baselines_sklearn.py:92: RuntimeWarning: divide by zero encountered in log1p\n",
      "  return (gammaln(x + r) - gammaln(r) - gammaln(x + 1.0) + r*np.log(p) + x*np.log1p(-p))\n",
      "/mnt/data/thesis_project/notebooks/../scripts/runner_baselines_sklearn.py:92: RuntimeWarning: invalid value encountered in multiply\n",
      "  return (gammaln(x + r) - gammaln(r) - gammaln(x + 1.0) + r*np.log(p) + x*np.log1p(-p))\n",
      "/mnt/data/thesis_project/notebooks/../scripts/runner_baselines_sklearn.py:92: RuntimeWarning: divide by zero encountered in log1p\n",
      "  return (gammaln(x + r) - gammaln(r) - gammaln(x + 1.0) + r*np.log(p) + x*np.log1p(-p))\n",
      "/mnt/data/thesis_project/notebooks/../scripts/runner_baselines_sklearn.py:92: RuntimeWarning: invalid value encountered in multiply\n",
      "  return (gammaln(x + r) - gammaln(r) - gammaln(x + 1.0) + r*np.log(p) + x*np.log1p(-p))\n",
      "/mnt/data/thesis_project/notebooks/../scripts/runner_baselines_sklearn.py:92: RuntimeWarning: divide by zero encountered in log1p\n",
      "  return (gammaln(x + r) - gammaln(r) - gammaln(x + 1.0) + r*np.log(p) + x*np.log1p(-p))\n",
      "/mnt/data/thesis_project/notebooks/../scripts/runner_baselines_sklearn.py:92: RuntimeWarning: invalid value encountered in multiply\n",
      "  return (gammaln(x + r) - gammaln(r) - gammaln(x + 1.0) + r*np.log(p) + x*np.log1p(-p))\n",
      "/mnt/data/thesis_project/notebooks/../scripts/runner_baselines_sklearn.py:92: RuntimeWarning: divide by zero encountered in log1p\n",
      "  return (gammaln(x + r) - gammaln(r) - gammaln(x + 1.0) + r*np.log(p) + x*np.log1p(-p))\n",
      "/mnt/data/thesis_project/notebooks/../scripts/runner_baselines_sklearn.py:92: RuntimeWarning: invalid value encountered in multiply\n",
      "  return (gammaln(x + r) - gammaln(r) - gammaln(x + 1.0) + r*np.log(p) + x*np.log1p(-p))\n",
      "/mnt/data/thesis_project/notebooks/../scripts/runner_baselines_sklearn.py:92: RuntimeWarning: divide by zero encountered in log1p\n",
      "  return (gammaln(x + r) - gammaln(r) - gammaln(x + 1.0) + r*np.log(p) + x*np.log1p(-p))\n",
      "/mnt/data/thesis_project/notebooks/../scripts/runner_baselines_sklearn.py:92: RuntimeWarning: invalid value encountered in multiply\n",
      "  return (gammaln(x + r) - gammaln(r) - gammaln(x + 1.0) + r*np.log(p) + x*np.log1p(-p))\n",
      "/mnt/data/thesis_project/notebooks/../scripts/runner_baselines_sklearn.py:92: RuntimeWarning: divide by zero encountered in log1p\n",
      "  return (gammaln(x + r) - gammaln(r) - gammaln(x + 1.0) + r*np.log(p) + x*np.log1p(-p))\n",
      "/mnt/data/thesis_project/notebooks/../scripts/runner_baselines_sklearn.py:92: RuntimeWarning: invalid value encountered in multiply\n",
      "  return (gammaln(x + r) - gammaln(r) - gammaln(x + 1.0) + r*np.log(p) + x*np.log1p(-p))\n",
      "/mnt/data/thesis_project/notebooks/../scripts/runner_baselines_sklearn.py:92: RuntimeWarning: divide by zero encountered in log1p\n",
      "  return (gammaln(x + r) - gammaln(r) - gammaln(x + 1.0) + r*np.log(p) + x*np.log1p(-p))\n",
      "/mnt/data/thesis_project/notebooks/../scripts/runner_baselines_sklearn.py:92: RuntimeWarning: invalid value encountered in multiply\n",
      "  return (gammaln(x + r) - gammaln(r) - gammaln(x + 1.0) + r*np.log(p) + x*np.log1p(-p))\n",
      "/mnt/data/thesis_project/notebooks/../scripts/runner_baselines_sklearn.py:92: RuntimeWarning: divide by zero encountered in log1p\n",
      "  return (gammaln(x + r) - gammaln(r) - gammaln(x + 1.0) + r*np.log(p) + x*np.log1p(-p))\n",
      "/mnt/data/thesis_project/notebooks/../scripts/runner_baselines_sklearn.py:92: RuntimeWarning: invalid value encountered in multiply\n",
      "  return (gammaln(x + r) - gammaln(r) - gammaln(x + 1.0) + r*np.log(p) + x*np.log1p(-p))\n",
      "/mnt/data/thesis_project/notebooks/../scripts/runner_baselines_sklearn.py:92: RuntimeWarning: divide by zero encountered in log1p\n",
      "  return (gammaln(x + r) - gammaln(r) - gammaln(x + 1.0) + r*np.log(p) + x*np.log1p(-p))\n",
      "/mnt/data/thesis_project/notebooks/../scripts/runner_baselines_sklearn.py:92: RuntimeWarning: invalid value encountered in multiply\n",
      "  return (gammaln(x + r) - gammaln(r) - gammaln(x + 1.0) + r*np.log(p) + x*np.log1p(-p))\n",
      "/mnt/data/thesis_project/notebooks/../scripts/runner_baselines_sklearn.py:92: RuntimeWarning: divide by zero encountered in log1p\n",
      "  return (gammaln(x + r) - gammaln(r) - gammaln(x + 1.0) + r*np.log(p) + x*np.log1p(-p))\n",
      "/mnt/data/thesis_project/notebooks/../scripts/runner_baselines_sklearn.py:92: RuntimeWarning: invalid value encountered in multiply\n",
      "  return (gammaln(x + r) - gammaln(r) - gammaln(x + 1.0) + r*np.log(p) + x*np.log1p(-p))\n",
      "/mnt/data/thesis_project/notebooks/../scripts/runner_baselines_sklearn.py:92: RuntimeWarning: divide by zero encountered in log1p\n",
      "  return (gammaln(x + r) - gammaln(r) - gammaln(x + 1.0) + r*np.log(p) + x*np.log1p(-p))\n",
      "/mnt/data/thesis_project/notebooks/../scripts/runner_baselines_sklearn.py:92: RuntimeWarning: invalid value encountered in multiply\n",
      "  return (gammaln(x + r) - gammaln(r) - gammaln(x + 1.0) + r*np.log(p) + x*np.log1p(-p))\n",
      "/mnt/data/thesis_project/notebooks/../scripts/runner_baselines_sklearn.py:92: RuntimeWarning: divide by zero encountered in log1p\n",
      "  return (gammaln(x + r) - gammaln(r) - gammaln(x + 1.0) + r*np.log(p) + x*np.log1p(-p))\n",
      "/mnt/data/thesis_project/notebooks/../scripts/runner_baselines_sklearn.py:92: RuntimeWarning: invalid value encountered in multiply\n",
      "  return (gammaln(x + r) - gammaln(r) - gammaln(x + 1.0) + r*np.log(p) + x*np.log1p(-p))\n",
      "/mnt/data/thesis_project/notebooks/../scripts/runner_baselines_sklearn.py:92: RuntimeWarning: divide by zero encountered in log1p\n",
      "  return (gammaln(x + r) - gammaln(r) - gammaln(x + 1.0) + r*np.log(p) + x*np.log1p(-p))\n",
      "/mnt/data/thesis_project/notebooks/../scripts/runner_baselines_sklearn.py:92: RuntimeWarning: invalid value encountered in multiply\n",
      "  return (gammaln(x + r) - gammaln(r) - gammaln(x + 1.0) + r*np.log(p) + x*np.log1p(-p))\n",
      "/mnt/data/thesis_project/notebooks/../scripts/runner_baselines_sklearn.py:92: RuntimeWarning: divide by zero encountered in log1p\n",
      "  return (gammaln(x + r) - gammaln(r) - gammaln(x + 1.0) + r*np.log(p) + x*np.log1p(-p))\n",
      "/mnt/data/thesis_project/notebooks/../scripts/runner_baselines_sklearn.py:92: RuntimeWarning: invalid value encountered in multiply\n",
      "  return (gammaln(x + r) - gammaln(r) - gammaln(x + 1.0) + r*np.log(p) + x*np.log1p(-p))\n",
      "/mnt/data/thesis_project/notebooks/../scripts/runner_baselines_sklearn.py:92: RuntimeWarning: divide by zero encountered in log1p\n",
      "  return (gammaln(x + r) - gammaln(r) - gammaln(x + 1.0) + r*np.log(p) + x*np.log1p(-p))\n",
      "/mnt/data/thesis_project/notebooks/../scripts/runner_baselines_sklearn.py:92: RuntimeWarning: invalid value encountered in multiply\n",
      "  return (gammaln(x + r) - gammaln(r) - gammaln(x + 1.0) + r*np.log(p) + x*np.log1p(-p))\n",
      "/mnt/data/thesis_project/notebooks/../scripts/runner_baselines_sklearn.py:92: RuntimeWarning: divide by zero encountered in log1p\n",
      "  return (gammaln(x + r) - gammaln(r) - gammaln(x + 1.0) + r*np.log(p) + x*np.log1p(-p))\n",
      "/mnt/data/thesis_project/notebooks/../scripts/runner_baselines_sklearn.py:92: RuntimeWarning: invalid value encountered in multiply\n",
      "  return (gammaln(x + r) - gammaln(r) - gammaln(x + 1.0) + r*np.log(p) + x*np.log1p(-p))\n",
      "/mnt/data/thesis_project/notebooks/../scripts/runner_baselines_sklearn.py:92: RuntimeWarning: divide by zero encountered in log1p\n",
      "  return (gammaln(x + r) - gammaln(r) - gammaln(x + 1.0) + r*np.log(p) + x*np.log1p(-p))\n",
      "/mnt/data/thesis_project/notebooks/../scripts/runner_baselines_sklearn.py:92: RuntimeWarning: invalid value encountered in multiply\n",
      "  return (gammaln(x + r) - gammaln(r) - gammaln(x + 1.0) + r*np.log(p) + x*np.log1p(-p))\n",
      "/mnt/data/thesis_project/notebooks/../scripts/runner_baselines_sklearn.py:92: RuntimeWarning: divide by zero encountered in log1p\n",
      "  return (gammaln(x + r) - gammaln(r) - gammaln(x + 1.0) + r*np.log(p) + x*np.log1p(-p))\n",
      "/mnt/data/thesis_project/notebooks/../scripts/runner_baselines_sklearn.py:92: RuntimeWarning: invalid value encountered in multiply\n",
      "  return (gammaln(x + r) - gammaln(r) - gammaln(x + 1.0) + r*np.log(p) + x*np.log1p(-p))\n",
      "/mnt/data/thesis_project/notebooks/../scripts/runner_baselines_sklearn.py:92: RuntimeWarning: divide by zero encountered in log1p\n",
      "  return (gammaln(x + r) - gammaln(r) - gammaln(x + 1.0) + r*np.log(p) + x*np.log1p(-p))\n",
      "/mnt/data/thesis_project/notebooks/../scripts/runner_baselines_sklearn.py:92: RuntimeWarning: invalid value encountered in multiply\n",
      "  return (gammaln(x + r) - gammaln(r) - gammaln(x + 1.0) + r*np.log(p) + x*np.log1p(-p))\n",
      "/mnt/data/thesis_project/notebooks/../scripts/runner_baselines_sklearn.py:92: RuntimeWarning: divide by zero encountered in log1p\n",
      "  return (gammaln(x + r) - gammaln(r) - gammaln(x + 1.0) + r*np.log(p) + x*np.log1p(-p))\n",
      "/mnt/data/thesis_project/notebooks/../scripts/runner_baselines_sklearn.py:92: RuntimeWarning: invalid value encountered in multiply\n",
      "  return (gammaln(x + r) - gammaln(r) - gammaln(x + 1.0) + r*np.log(p) + x*np.log1p(-p))\n",
      "/mnt/data/thesis_project/notebooks/../scripts/runner_baselines_sklearn.py:92: RuntimeWarning: divide by zero encountered in log1p\n",
      "  return (gammaln(x + r) - gammaln(r) - gammaln(x + 1.0) + r*np.log(p) + x*np.log1p(-p))\n",
      "/mnt/data/thesis_project/notebooks/../scripts/runner_baselines_sklearn.py:92: RuntimeWarning: invalid value encountered in multiply\n",
      "  return (gammaln(x + r) - gammaln(r) - gammaln(x + 1.0) + r*np.log(p) + x*np.log1p(-p))\n",
      "/mnt/data/thesis_project/notebooks/../scripts/runner_baselines_sklearn.py:92: RuntimeWarning: divide by zero encountered in log1p\n",
      "  return (gammaln(x + r) - gammaln(r) - gammaln(x + 1.0) + r*np.log(p) + x*np.log1p(-p))\n",
      "/mnt/data/thesis_project/notebooks/../scripts/runner_baselines_sklearn.py:92: RuntimeWarning: invalid value encountered in multiply\n",
      "  return (gammaln(x + r) - gammaln(r) - gammaln(x + 1.0) + r*np.log(p) + x*np.log1p(-p))\n",
      "/mnt/data/thesis_project/notebooks/../scripts/runner_baselines_sklearn.py:92: RuntimeWarning: divide by zero encountered in log1p\n",
      "  return (gammaln(x + r) - gammaln(r) - gammaln(x + 1.0) + r*np.log(p) + x*np.log1p(-p))\n",
      "/mnt/data/thesis_project/notebooks/../scripts/runner_baselines_sklearn.py:92: RuntimeWarning: invalid value encountered in multiply\n",
      "  return (gammaln(x + r) - gammaln(r) - gammaln(x + 1.0) + r*np.log(p) + x*np.log1p(-p))\n",
      "/mnt/data/thesis_project/notebooks/../scripts/runner_baselines_sklearn.py:92: RuntimeWarning: divide by zero encountered in log1p\n",
      "  return (gammaln(x + r) - gammaln(r) - gammaln(x + 1.0) + r*np.log(p) + x*np.log1p(-p))\n",
      "/mnt/data/thesis_project/notebooks/../scripts/runner_baselines_sklearn.py:92: RuntimeWarning: invalid value encountered in multiply\n",
      "  return (gammaln(x + r) - gammaln(r) - gammaln(x + 1.0) + r*np.log(p) + x*np.log1p(-p))\n",
      "/mnt/data/thesis_project/notebooks/../scripts/runner_baselines_sklearn.py:92: RuntimeWarning: divide by zero encountered in log1p\n",
      "  return (gammaln(x + r) - gammaln(r) - gammaln(x + 1.0) + r*np.log(p) + x*np.log1p(-p))\n",
      "/mnt/data/thesis_project/notebooks/../scripts/runner_baselines_sklearn.py:92: RuntimeWarning: invalid value encountered in multiply\n",
      "  return (gammaln(x + r) - gammaln(r) - gammaln(x + 1.0) + r*np.log(p) + x*np.log1p(-p))\n",
      "/mnt/data/thesis_project/notebooks/../scripts/runner_baselines_sklearn.py:92: RuntimeWarning: divide by zero encountered in log1p\n",
      "  return (gammaln(x + r) - gammaln(r) - gammaln(x + 1.0) + r*np.log(p) + x*np.log1p(-p))\n",
      "/mnt/data/thesis_project/notebooks/../scripts/runner_baselines_sklearn.py:92: RuntimeWarning: invalid value encountered in multiply\n",
      "  return (gammaln(x + r) - gammaln(r) - gammaln(x + 1.0) + r*np.log(p) + x*np.log1p(-p))\n",
      "/mnt/data/thesis_project/notebooks/../scripts/runner_baselines_sklearn.py:92: RuntimeWarning: divide by zero encountered in log1p\n",
      "  return (gammaln(x + r) - gammaln(r) - gammaln(x + 1.0) + r*np.log(p) + x*np.log1p(-p))\n",
      "/mnt/data/thesis_project/notebooks/../scripts/runner_baselines_sklearn.py:92: RuntimeWarning: invalid value encountered in multiply\n",
      "  return (gammaln(x + r) - gammaln(r) - gammaln(x + 1.0) + r*np.log(p) + x*np.log1p(-p))\n",
      "/mnt/data/thesis_project/notebooks/../scripts/runner_baselines_sklearn.py:92: RuntimeWarning: divide by zero encountered in log1p\n",
      "  return (gammaln(x + r) - gammaln(r) - gammaln(x + 1.0) + r*np.log(p) + x*np.log1p(-p))\n",
      "/mnt/data/thesis_project/notebooks/../scripts/runner_baselines_sklearn.py:92: RuntimeWarning: invalid value encountered in multiply\n",
      "  return (gammaln(x + r) - gammaln(r) - gammaln(x + 1.0) + r*np.log(p) + x*np.log1p(-p))\n",
      "/mnt/data/thesis_project/notebooks/../scripts/runner_baselines_sklearn.py:92: RuntimeWarning: divide by zero encountered in log1p\n",
      "  return (gammaln(x + r) - gammaln(r) - gammaln(x + 1.0) + r*np.log(p) + x*np.log1p(-p))\n",
      "/mnt/data/thesis_project/notebooks/../scripts/runner_baselines_sklearn.py:92: RuntimeWarning: invalid value encountered in multiply\n",
      "  return (gammaln(x + r) - gammaln(r) - gammaln(x + 1.0) + r*np.log(p) + x*np.log1p(-p))\n",
      "/mnt/data/thesis_project/notebooks/../scripts/runner_baselines_sklearn.py:92: RuntimeWarning: divide by zero encountered in log1p\n",
      "  return (gammaln(x + r) - gammaln(r) - gammaln(x + 1.0) + r*np.log(p) + x*np.log1p(-p))\n",
      "/mnt/data/thesis_project/notebooks/../scripts/runner_baselines_sklearn.py:92: RuntimeWarning: invalid value encountered in multiply\n",
      "  return (gammaln(x + r) - gammaln(r) - gammaln(x + 1.0) + r*np.log(p) + x*np.log1p(-p))\n"
     ]
    },
    {
     "name": "stdout",
     "output_type": "stream",
     "text": [
      "Running MAGIC on 238 cells and 1000 genes.\n",
      "Calculating graph and diffusion operator...\n",
      "  Calculating KNN search...\n",
      "  Calculated KNN search in 0.07 seconds.\n",
      "  Calculating affinities...\n",
      "  Calculated affinities in 0.07 seconds.\n",
      "Calculated graph and diffusion operator in 0.14 seconds.\n",
      "Calculating imputation...\n",
      "Calculating MAGIC...\n",
      "  Running MAGIC on 358 cells and 1000 genes.\n",
      "  Calculating graph and diffusion operator...\n",
      "    Calculating KNN search...\n"
     ]
    },
    {
     "name": "stderr",
     "output_type": "stream",
     "text": [
      "/mnt/data/thesis_project/notebooks/../scripts/runner_baselines_sklearn.py:92: RuntimeWarning: divide by zero encountered in log1p\n",
      "  return (gammaln(x + r) - gammaln(r) - gammaln(x + 1.0) + r*np.log(p) + x*np.log1p(-p))\n",
      "/mnt/data/thesis_project/notebooks/../scripts/runner_baselines_sklearn.py:92: RuntimeWarning: invalid value encountered in multiply\n",
      "  return (gammaln(x + r) - gammaln(r) - gammaln(x + 1.0) + r*np.log(p) + x*np.log1p(-p))\n",
      "/mnt/data/venvs/thesis-impute/lib/python3.10/site-packages/graphtools/graphs.py:122: UserWarning: Building a kNNGraph on data of shape (238, 1000) is expensive. Consider setting n_pca.\n",
      "  warnings.warn(\n",
      "/mnt/data/venvs/thesis-impute/lib/python3.10/site-packages/magic/magic.py:541: UserWarning: Running MAGIC.transform on different data to that which was used for MAGIC.fit may not produce sensible output, unless it comes from the same manifold.\n",
      "  warnings.warn(\n",
      "/mnt/data/venvs/thesis-impute/lib/python3.10/site-packages/graphtools/graphs.py:122: UserWarning: Building a kNNGraph on data of shape (358, 1000) is expensive. Consider setting n_pca.\n",
      "  warnings.warn(\n"
     ]
    },
    {
     "name": "stdout",
     "output_type": "stream",
     "text": [
      "    Calculated KNN search in 0.15 seconds.\n",
      "    Calculating affinities...\n",
      "    Calculated affinities in 0.13 seconds.\n",
      "  Calculated graph and diffusion operator in 0.29 seconds.\n",
      "  Calculating imputation...\n",
      "  Calculated imputation in 0.01 seconds.\n",
      "Calculated MAGIC in 0.31 seconds.\n",
      "Calculating imputation...\n",
      "Calculating MAGIC...\n",
      "  Running MAGIC on 358 cells and 1000 genes.\n",
      "  Calculating graph and diffusion operator...\n",
      "    Calculating KNN search...\n",
      "    Calculated KNN search in 0.15 seconds.\n",
      "    Calculating affinities...\n"
     ]
    },
    {
     "name": "stderr",
     "output_type": "stream",
     "text": [
      "/mnt/data/venvs/thesis-impute/lib/python3.10/site-packages/magic/magic.py:541: UserWarning: Running MAGIC.transform on different data to that which was used for MAGIC.fit may not produce sensible output, unless it comes from the same manifold.\n",
      "  warnings.warn(\n",
      "/mnt/data/venvs/thesis-impute/lib/python3.10/site-packages/graphtools/graphs.py:122: UserWarning: Building a kNNGraph on data of shape (358, 1000) is expensive. Consider setting n_pca.\n",
      "  warnings.warn(\n"
     ]
    },
    {
     "name": "stdout",
     "output_type": "stream",
     "text": [
      "    Calculated affinities in 0.13 seconds.\n",
      "  Calculated graph and diffusion operator in 0.29 seconds.\n",
      "  Calculating imputation...\n",
      "  Calculated imputation in 0.01 seconds.\n",
      "Calculated MAGIC in 0.30 seconds.\n",
      "Calculating imputation...\n",
      "Calculating MAGIC...\n",
      "  Running MAGIC on 358 cells and 1000 genes.\n",
      "  Calculating graph and diffusion operator...\n",
      "    Calculating KNN search...\n",
      "    Calculated KNN search in 0.15 seconds.\n",
      "    Calculating affinities...\n"
     ]
    },
    {
     "name": "stderr",
     "output_type": "stream",
     "text": [
      "/mnt/data/venvs/thesis-impute/lib/python3.10/site-packages/magic/magic.py:541: UserWarning: Running MAGIC.transform on different data to that which was used for MAGIC.fit may not produce sensible output, unless it comes from the same manifold.\n",
      "  warnings.warn(\n",
      "/mnt/data/venvs/thesis-impute/lib/python3.10/site-packages/graphtools/graphs.py:122: UserWarning: Building a kNNGraph on data of shape (358, 1000) is expensive. Consider setting n_pca.\n",
      "  warnings.warn(\n"
     ]
    },
    {
     "name": "stdout",
     "output_type": "stream",
     "text": [
      "    Calculated affinities in 0.13 seconds.\n",
      "  Calculated graph and diffusion operator in 0.29 seconds.\n",
      "  Calculating imputation...\n",
      "Calculated MAGIC in 0.30 seconds.\n",
      "Running MAGIC on 238 cells and 2000 genes.\n",
      "Calculating graph and diffusion operator...\n",
      "  Calculating KNN search...\n",
      "  Calculated KNN search in 0.10 seconds.\n",
      "  Calculating affinities...\n",
      "  Calculated affinities in 0.08 seconds.\n",
      "Calculated graph and diffusion operator in 0.18 seconds.\n"
     ]
    },
    {
     "name": "stderr",
     "output_type": "stream",
     "text": [
      "/mnt/data/venvs/thesis-impute/lib/python3.10/site-packages/graphtools/graphs.py:122: UserWarning: Building a kNNGraph on data of shape (238, 2000) is expensive. Consider setting n_pca.\n",
      "  warnings.warn(\n"
     ]
    },
    {
     "name": "stdout",
     "output_type": "stream",
     "text": [
      "Calculating imputation...\n",
      "Calculating MAGIC...\n",
      "  Running MAGIC on 358 cells and 2000 genes.\n",
      "  Calculating graph and diffusion operator...\n",
      "    Calculating KNN search...\n",
      "    Calculated KNN search in 0.17 seconds.\n",
      "    Calculating affinities...\n"
     ]
    },
    {
     "name": "stderr",
     "output_type": "stream",
     "text": [
      "/mnt/data/venvs/thesis-impute/lib/python3.10/site-packages/magic/magic.py:541: UserWarning: Running MAGIC.transform on different data to that which was used for MAGIC.fit may not produce sensible output, unless it comes from the same manifold.\n",
      "  warnings.warn(\n",
      "/mnt/data/venvs/thesis-impute/lib/python3.10/site-packages/graphtools/graphs.py:122: UserWarning: Building a kNNGraph on data of shape (358, 2000) is expensive. Consider setting n_pca.\n",
      "  warnings.warn(\n"
     ]
    },
    {
     "name": "stdout",
     "output_type": "stream",
     "text": [
      "    Calculated affinities in 0.14 seconds.\n",
      "  Calculated graph and diffusion operator in 0.32 seconds.\n",
      "  Calculating imputation...\n",
      "  Calculated imputation in 0.01 seconds.\n",
      "Calculated MAGIC in 0.34 seconds.\n",
      "Calculating imputation...\n",
      "Calculating MAGIC...\n",
      "  Running MAGIC on 358 cells and 2000 genes.\n",
      "  Calculating graph and diffusion operator...\n",
      "    Calculating KNN search...\n",
      "    Calculated KNN search in 0.17 seconds.\n",
      "    Calculating affinities...\n"
     ]
    },
    {
     "name": "stderr",
     "output_type": "stream",
     "text": [
      "/mnt/data/venvs/thesis-impute/lib/python3.10/site-packages/magic/magic.py:541: UserWarning: Running MAGIC.transform on different data to that which was used for MAGIC.fit may not produce sensible output, unless it comes from the same manifold.\n",
      "  warnings.warn(\n",
      "/mnt/data/venvs/thesis-impute/lib/python3.10/site-packages/graphtools/graphs.py:122: UserWarning: Building a kNNGraph on data of shape (358, 2000) is expensive. Consider setting n_pca.\n",
      "  warnings.warn(\n"
     ]
    },
    {
     "name": "stdout",
     "output_type": "stream",
     "text": [
      "    Calculated affinities in 0.14 seconds.\n",
      "  Calculated graph and diffusion operator in 0.31 seconds.\n",
      "  Calculating imputation...\n",
      "  Calculated imputation in 0.01 seconds.\n",
      "Calculated MAGIC in 0.33 seconds.\n",
      "Calculating imputation...\n",
      "Calculating MAGIC...\n",
      "  Running MAGIC on 358 cells and 2000 genes.\n",
      "  Calculating graph and diffusion operator...\n",
      "    Calculating KNN search...\n",
      "    Calculated KNN search in 0.16 seconds.\n",
      "    Calculating affinities...\n"
     ]
    },
    {
     "name": "stderr",
     "output_type": "stream",
     "text": [
      "/mnt/data/venvs/thesis-impute/lib/python3.10/site-packages/magic/magic.py:541: UserWarning: Running MAGIC.transform on different data to that which was used for MAGIC.fit may not produce sensible output, unless it comes from the same manifold.\n",
      "  warnings.warn(\n",
      "/mnt/data/venvs/thesis-impute/lib/python3.10/site-packages/graphtools/graphs.py:122: UserWarning: Building a kNNGraph on data of shape (358, 2000) is expensive. Consider setting n_pca.\n",
      "  warnings.warn(\n"
     ]
    },
    {
     "name": "stdout",
     "output_type": "stream",
     "text": [
      "    Calculated affinities in 0.15 seconds.\n",
      "  Calculated graph and diffusion operator in 0.33 seconds.\n",
      "  Calculating imputation...\n",
      "  Calculated imputation in 0.01 seconds.\n",
      "Calculated MAGIC in 0.34 seconds.\n",
      "Running MAGIC on 238 cells and 4000 genes.\n",
      "Calculating graph and diffusion operator...\n",
      "  Calculating KNN search...\n"
     ]
    },
    {
     "name": "stderr",
     "output_type": "stream",
     "text": [
      "/mnt/data/venvs/thesis-impute/lib/python3.10/site-packages/graphtools/graphs.py:122: UserWarning: Building a kNNGraph on data of shape (238, 4000) is expensive. Consider setting n_pca.\n",
      "  warnings.warn(\n"
     ]
    },
    {
     "name": "stdout",
     "output_type": "stream",
     "text": [
      "  Calculated KNN search in 0.21 seconds.\n",
      "  Calculating affinities...\n",
      "  Calculated affinities in 0.17 seconds.\n",
      "Calculated graph and diffusion operator in 0.39 seconds.\n",
      "Calculating imputation...\n",
      "Calculating MAGIC...\n",
      "  Running MAGIC on 358 cells and 4000 genes.\n",
      "  Calculating graph and diffusion operator...\n",
      "    Calculating KNN search...\n"
     ]
    },
    {
     "name": "stderr",
     "output_type": "stream",
     "text": [
      "/mnt/data/venvs/thesis-impute/lib/python3.10/site-packages/magic/magic.py:541: UserWarning: Running MAGIC.transform on different data to that which was used for MAGIC.fit may not produce sensible output, unless it comes from the same manifold.\n",
      "  warnings.warn(\n",
      "/mnt/data/venvs/thesis-impute/lib/python3.10/site-packages/graphtools/graphs.py:122: UserWarning: Building a kNNGraph on data of shape (358, 4000) is expensive. Consider setting n_pca.\n",
      "  warnings.warn(\n"
     ]
    },
    {
     "name": "stdout",
     "output_type": "stream",
     "text": [
      "    Calculated KNN search in 0.35 seconds.\n",
      "    Calculating affinities...\n",
      "    Calculated affinities in 0.31 seconds.\n",
      "  Calculated graph and diffusion operator in 0.67 seconds.\n",
      "  Calculating imputation...\n",
      "  Calculated imputation in 0.02 seconds.\n",
      "Calculated MAGIC in 0.69 seconds.\n",
      "Calculating imputation...\n",
      "Calculating MAGIC...\n",
      "  Running MAGIC on 358 cells and 4000 genes.\n",
      "  Calculating graph and diffusion operator...\n",
      "    Calculating KNN search...\n"
     ]
    },
    {
     "name": "stderr",
     "output_type": "stream",
     "text": [
      "/mnt/data/venvs/thesis-impute/lib/python3.10/site-packages/magic/magic.py:541: UserWarning: Running MAGIC.transform on different data to that which was used for MAGIC.fit may not produce sensible output, unless it comes from the same manifold.\n",
      "  warnings.warn(\n",
      "/mnt/data/venvs/thesis-impute/lib/python3.10/site-packages/graphtools/graphs.py:122: UserWarning: Building a kNNGraph on data of shape (358, 4000) is expensive. Consider setting n_pca.\n",
      "  warnings.warn(\n"
     ]
    },
    {
     "name": "stdout",
     "output_type": "stream",
     "text": [
      "    Calculated KNN search in 0.35 seconds.\n",
      "    Calculating affinities...\n",
      "    Calculated affinities in 0.30 seconds.\n",
      "  Calculated graph and diffusion operator in 0.66 seconds.\n",
      "  Calculating imputation...\n",
      "  Calculated imputation in 0.02 seconds.\n",
      "Calculated MAGIC in 0.69 seconds.\n",
      "Calculating imputation...\n",
      "Calculating MAGIC...\n",
      "  Running MAGIC on 358 cells and 4000 genes.\n",
      "  Calculating graph and diffusion operator...\n",
      "    Calculating KNN search...\n"
     ]
    },
    {
     "name": "stderr",
     "output_type": "stream",
     "text": [
      "/mnt/data/venvs/thesis-impute/lib/python3.10/site-packages/magic/magic.py:541: UserWarning: Running MAGIC.transform on different data to that which was used for MAGIC.fit may not produce sensible output, unless it comes from the same manifold.\n",
      "  warnings.warn(\n",
      "/mnt/data/venvs/thesis-impute/lib/python3.10/site-packages/graphtools/graphs.py:122: UserWarning: Building a kNNGraph on data of shape (358, 4000) is expensive. Consider setting n_pca.\n",
      "  warnings.warn(\n"
     ]
    },
    {
     "name": "stdout",
     "output_type": "stream",
     "text": [
      "    Calculated KNN search in 0.36 seconds.\n",
      "    Calculating affinities...\n",
      "    Calculated affinities in 0.31 seconds.\n",
      "  Calculated graph and diffusion operator in 0.68 seconds.\n",
      "  Calculating imputation...\n",
      "  Calculated imputation in 0.03 seconds.\n",
      "Calculated MAGIC in 0.71 seconds.\n"
     ]
    },
    {
     "name": "stderr",
     "output_type": "stream",
     "text": [
      "/mnt/data/venvs/thesis-impute/lib/python3.10/site-packages/scanpy/preprocessing/_highly_variable_genes.py:75: UserWarning: `flavor='seurat_v3'` expects raw count data, but non-integers were found.\n",
      "  warnings.warn(\n",
      "/mnt/data/venvs/thesis-impute/lib/python3.10/site-packages/scanpy/preprocessing/_highly_variable_genes.py:75: UserWarning: `flavor='seurat_v3'` expects raw count data, but non-integers were found.\n",
      "  warnings.warn(\n",
      "/mnt/data/venvs/thesis-impute/lib/python3.10/site-packages/scanpy/preprocessing/_highly_variable_genes.py:75: UserWarning: `flavor='seurat_v3'` expects raw count data, but non-integers were found.\n",
      "  warnings.warn(\n",
      "/mnt/data/thesis_project/notebooks/../scripts/runner_baselines_sklearn.py:92: RuntimeWarning: divide by zero encountered in log1p\n",
      "  return (gammaln(x + r) - gammaln(r) - gammaln(x + 1.0) + r*np.log(p) + x*np.log1p(-p))\n",
      "/mnt/data/thesis_project/notebooks/../scripts/runner_baselines_sklearn.py:92: RuntimeWarning: invalid value encountered in multiply\n",
      "  return (gammaln(x + r) - gammaln(r) - gammaln(x + 1.0) + r*np.log(p) + x*np.log1p(-p))\n",
      "/mnt/data/thesis_project/notebooks/../scripts/runner_baselines_sklearn.py:92: RuntimeWarning: divide by zero encountered in log1p\n",
      "  return (gammaln(x + r) - gammaln(r) - gammaln(x + 1.0) + r*np.log(p) + x*np.log1p(-p))\n",
      "/mnt/data/thesis_project/notebooks/../scripts/runner_baselines_sklearn.py:92: RuntimeWarning: invalid value encountered in multiply\n",
      "  return (gammaln(x + r) - gammaln(r) - gammaln(x + 1.0) + r*np.log(p) + x*np.log1p(-p))\n",
      "/mnt/data/thesis_project/notebooks/../scripts/runner_baselines_sklearn.py:92: RuntimeWarning: divide by zero encountered in log1p\n",
      "  return (gammaln(x + r) - gammaln(r) - gammaln(x + 1.0) + r*np.log(p) + x*np.log1p(-p))\n",
      "/mnt/data/thesis_project/notebooks/../scripts/runner_baselines_sklearn.py:92: RuntimeWarning: invalid value encountered in multiply\n",
      "  return (gammaln(x + r) - gammaln(r) - gammaln(x + 1.0) + r*np.log(p) + x*np.log1p(-p))\n",
      "/mnt/data/thesis_project/notebooks/../scripts/runner_baselines_sklearn.py:92: RuntimeWarning: divide by zero encountered in log1p\n",
      "  return (gammaln(x + r) - gammaln(r) - gammaln(x + 1.0) + r*np.log(p) + x*np.log1p(-p))\n",
      "/mnt/data/thesis_project/notebooks/../scripts/runner_baselines_sklearn.py:92: RuntimeWarning: invalid value encountered in multiply\n",
      "  return (gammaln(x + r) - gammaln(r) - gammaln(x + 1.0) + r*np.log(p) + x*np.log1p(-p))\n",
      "/mnt/data/thesis_project/notebooks/../scripts/runner_baselines_sklearn.py:92: RuntimeWarning: divide by zero encountered in log1p\n",
      "  return (gammaln(x + r) - gammaln(r) - gammaln(x + 1.0) + r*np.log(p) + x*np.log1p(-p))\n",
      "/mnt/data/thesis_project/notebooks/../scripts/runner_baselines_sklearn.py:92: RuntimeWarning: invalid value encountered in multiply\n",
      "  return (gammaln(x + r) - gammaln(r) - gammaln(x + 1.0) + r*np.log(p) + x*np.log1p(-p))\n",
      "/mnt/data/thesis_project/notebooks/../scripts/runner_baselines_sklearn.py:92: RuntimeWarning: divide by zero encountered in log1p\n",
      "  return (gammaln(x + r) - gammaln(r) - gammaln(x + 1.0) + r*np.log(p) + x*np.log1p(-p))\n",
      "/mnt/data/thesis_project/notebooks/../scripts/runner_baselines_sklearn.py:92: RuntimeWarning: invalid value encountered in multiply\n",
      "  return (gammaln(x + r) - gammaln(r) - gammaln(x + 1.0) + r*np.log(p) + x*np.log1p(-p))\n",
      "/mnt/data/thesis_project/notebooks/../scripts/runner_baselines_sklearn.py:92: RuntimeWarning: divide by zero encountered in log1p\n",
      "  return (gammaln(x + r) - gammaln(r) - gammaln(x + 1.0) + r*np.log(p) + x*np.log1p(-p))\n",
      "/mnt/data/thesis_project/notebooks/../scripts/runner_baselines_sklearn.py:92: RuntimeWarning: invalid value encountered in multiply\n",
      "  return (gammaln(x + r) - gammaln(r) - gammaln(x + 1.0) + r*np.log(p) + x*np.log1p(-p))\n",
      "/mnt/data/thesis_project/notebooks/../scripts/runner_baselines_sklearn.py:92: RuntimeWarning: divide by zero encountered in log1p\n",
      "  return (gammaln(x + r) - gammaln(r) - gammaln(x + 1.0) + r*np.log(p) + x*np.log1p(-p))\n",
      "/mnt/data/thesis_project/notebooks/../scripts/runner_baselines_sklearn.py:92: RuntimeWarning: invalid value encountered in multiply\n",
      "  return (gammaln(x + r) - gammaln(r) - gammaln(x + 1.0) + r*np.log(p) + x*np.log1p(-p))\n",
      "/mnt/data/thesis_project/notebooks/../scripts/runner_baselines_sklearn.py:92: RuntimeWarning: divide by zero encountered in log1p\n",
      "  return (gammaln(x + r) - gammaln(r) - gammaln(x + 1.0) + r*np.log(p) + x*np.log1p(-p))\n",
      "/mnt/data/thesis_project/notebooks/../scripts/runner_baselines_sklearn.py:92: RuntimeWarning: invalid value encountered in multiply\n",
      "  return (gammaln(x + r) - gammaln(r) - gammaln(x + 1.0) + r*np.log(p) + x*np.log1p(-p))\n",
      "/mnt/data/thesis_project/notebooks/../scripts/runner_baselines_sklearn.py:92: RuntimeWarning: divide by zero encountered in log1p\n",
      "  return (gammaln(x + r) - gammaln(r) - gammaln(x + 1.0) + r*np.log(p) + x*np.log1p(-p))\n",
      "/mnt/data/thesis_project/notebooks/../scripts/runner_baselines_sklearn.py:92: RuntimeWarning: invalid value encountered in multiply\n",
      "  return (gammaln(x + r) - gammaln(r) - gammaln(x + 1.0) + r*np.log(p) + x*np.log1p(-p))\n",
      "/mnt/data/thesis_project/notebooks/../scripts/runner_baselines_sklearn.py:92: RuntimeWarning: divide by zero encountered in log1p\n",
      "  return (gammaln(x + r) - gammaln(r) - gammaln(x + 1.0) + r*np.log(p) + x*np.log1p(-p))\n",
      "/mnt/data/thesis_project/notebooks/../scripts/runner_baselines_sklearn.py:92: RuntimeWarning: invalid value encountered in multiply\n",
      "  return (gammaln(x + r) - gammaln(r) - gammaln(x + 1.0) + r*np.log(p) + x*np.log1p(-p))\n",
      "/mnt/data/thesis_project/notebooks/../scripts/runner_baselines_sklearn.py:92: RuntimeWarning: divide by zero encountered in log1p\n",
      "  return (gammaln(x + r) - gammaln(r) - gammaln(x + 1.0) + r*np.log(p) + x*np.log1p(-p))\n",
      "/mnt/data/thesis_project/notebooks/../scripts/runner_baselines_sklearn.py:92: RuntimeWarning: invalid value encountered in multiply\n",
      "  return (gammaln(x + r) - gammaln(r) - gammaln(x + 1.0) + r*np.log(p) + x*np.log1p(-p))\n",
      "/mnt/data/thesis_project/notebooks/../scripts/runner_baselines_sklearn.py:92: RuntimeWarning: divide by zero encountered in log1p\n",
      "  return (gammaln(x + r) - gammaln(r) - gammaln(x + 1.0) + r*np.log(p) + x*np.log1p(-p))\n",
      "/mnt/data/thesis_project/notebooks/../scripts/runner_baselines_sklearn.py:92: RuntimeWarning: invalid value encountered in multiply\n",
      "  return (gammaln(x + r) - gammaln(r) - gammaln(x + 1.0) + r*np.log(p) + x*np.log1p(-p))\n",
      "/mnt/data/thesis_project/notebooks/../scripts/runner_baselines_sklearn.py:92: RuntimeWarning: divide by zero encountered in log1p\n",
      "  return (gammaln(x + r) - gammaln(r) - gammaln(x + 1.0) + r*np.log(p) + x*np.log1p(-p))\n",
      "/mnt/data/thesis_project/notebooks/../scripts/runner_baselines_sklearn.py:92: RuntimeWarning: invalid value encountered in multiply\n",
      "  return (gammaln(x + r) - gammaln(r) - gammaln(x + 1.0) + r*np.log(p) + x*np.log1p(-p))\n",
      "/mnt/data/thesis_project/notebooks/../scripts/runner_baselines_sklearn.py:92: RuntimeWarning: divide by zero encountered in log1p\n",
      "  return (gammaln(x + r) - gammaln(r) - gammaln(x + 1.0) + r*np.log(p) + x*np.log1p(-p))\n",
      "/mnt/data/thesis_project/notebooks/../scripts/runner_baselines_sklearn.py:92: RuntimeWarning: invalid value encountered in multiply\n",
      "  return (gammaln(x + r) - gammaln(r) - gammaln(x + 1.0) + r*np.log(p) + x*np.log1p(-p))\n",
      "/mnt/data/thesis_project/notebooks/../scripts/runner_baselines_sklearn.py:92: RuntimeWarning: divide by zero encountered in log1p\n",
      "  return (gammaln(x + r) - gammaln(r) - gammaln(x + 1.0) + r*np.log(p) + x*np.log1p(-p))\n",
      "/mnt/data/thesis_project/notebooks/../scripts/runner_baselines_sklearn.py:92: RuntimeWarning: invalid value encountered in multiply\n",
      "  return (gammaln(x + r) - gammaln(r) - gammaln(x + 1.0) + r*np.log(p) + x*np.log1p(-p))\n",
      "/mnt/data/thesis_project/notebooks/../scripts/runner_baselines_sklearn.py:92: RuntimeWarning: divide by zero encountered in log1p\n",
      "  return (gammaln(x + r) - gammaln(r) - gammaln(x + 1.0) + r*np.log(p) + x*np.log1p(-p))\n",
      "/mnt/data/thesis_project/notebooks/../scripts/runner_baselines_sklearn.py:92: RuntimeWarning: invalid value encountered in multiply\n",
      "  return (gammaln(x + r) - gammaln(r) - gammaln(x + 1.0) + r*np.log(p) + x*np.log1p(-p))\n",
      "/mnt/data/thesis_project/notebooks/../scripts/runner_baselines_sklearn.py:92: RuntimeWarning: divide by zero encountered in log1p\n",
      "  return (gammaln(x + r) - gammaln(r) - gammaln(x + 1.0) + r*np.log(p) + x*np.log1p(-p))\n",
      "/mnt/data/thesis_project/notebooks/../scripts/runner_baselines_sklearn.py:92: RuntimeWarning: invalid value encountered in multiply\n",
      "  return (gammaln(x + r) - gammaln(r) - gammaln(x + 1.0) + r*np.log(p) + x*np.log1p(-p))\n",
      "/mnt/data/thesis_project/notebooks/../scripts/runner_baselines_sklearn.py:92: RuntimeWarning: divide by zero encountered in log1p\n",
      "  return (gammaln(x + r) - gammaln(r) - gammaln(x + 1.0) + r*np.log(p) + x*np.log1p(-p))\n",
      "/mnt/data/thesis_project/notebooks/../scripts/runner_baselines_sklearn.py:92: RuntimeWarning: invalid value encountered in multiply\n",
      "  return (gammaln(x + r) - gammaln(r) - gammaln(x + 1.0) + r*np.log(p) + x*np.log1p(-p))\n",
      "/mnt/data/thesis_project/notebooks/../scripts/runner_baselines_sklearn.py:92: RuntimeWarning: divide by zero encountered in log1p\n",
      "  return (gammaln(x + r) - gammaln(r) - gammaln(x + 1.0) + r*np.log(p) + x*np.log1p(-p))\n",
      "/mnt/data/thesis_project/notebooks/../scripts/runner_baselines_sklearn.py:92: RuntimeWarning: invalid value encountered in multiply\n",
      "  return (gammaln(x + r) - gammaln(r) - gammaln(x + 1.0) + r*np.log(p) + x*np.log1p(-p))\n",
      "/mnt/data/thesis_project/notebooks/../scripts/runner_baselines_sklearn.py:92: RuntimeWarning: divide by zero encountered in log1p\n",
      "  return (gammaln(x + r) - gammaln(r) - gammaln(x + 1.0) + r*np.log(p) + x*np.log1p(-p))\n",
      "/mnt/data/thesis_project/notebooks/../scripts/runner_baselines_sklearn.py:92: RuntimeWarning: invalid value encountered in multiply\n",
      "  return (gammaln(x + r) - gammaln(r) - gammaln(x + 1.0) + r*np.log(p) + x*np.log1p(-p))\n",
      "/mnt/data/thesis_project/notebooks/../scripts/runner_baselines_sklearn.py:92: RuntimeWarning: divide by zero encountered in log1p\n",
      "  return (gammaln(x + r) - gammaln(r) - gammaln(x + 1.0) + r*np.log(p) + x*np.log1p(-p))\n",
      "/mnt/data/thesis_project/notebooks/../scripts/runner_baselines_sklearn.py:92: RuntimeWarning: invalid value encountered in multiply\n",
      "  return (gammaln(x + r) - gammaln(r) - gammaln(x + 1.0) + r*np.log(p) + x*np.log1p(-p))\n",
      "/mnt/data/thesis_project/notebooks/../scripts/runner_baselines_sklearn.py:92: RuntimeWarning: divide by zero encountered in log1p\n",
      "  return (gammaln(x + r) - gammaln(r) - gammaln(x + 1.0) + r*np.log(p) + x*np.log1p(-p))\n",
      "/mnt/data/thesis_project/notebooks/../scripts/runner_baselines_sklearn.py:92: RuntimeWarning: invalid value encountered in multiply\n",
      "  return (gammaln(x + r) - gammaln(r) - gammaln(x + 1.0) + r*np.log(p) + x*np.log1p(-p))\n",
      "/mnt/data/thesis_project/notebooks/../scripts/runner_baselines_sklearn.py:92: RuntimeWarning: divide by zero encountered in log1p\n",
      "  return (gammaln(x + r) - gammaln(r) - gammaln(x + 1.0) + r*np.log(p) + x*np.log1p(-p))\n",
      "/mnt/data/thesis_project/notebooks/../scripts/runner_baselines_sklearn.py:92: RuntimeWarning: invalid value encountered in multiply\n",
      "  return (gammaln(x + r) - gammaln(r) - gammaln(x + 1.0) + r*np.log(p) + x*np.log1p(-p))\n",
      "/mnt/data/thesis_project/notebooks/../scripts/runner_baselines_sklearn.py:92: RuntimeWarning: divide by zero encountered in log1p\n",
      "  return (gammaln(x + r) - gammaln(r) - gammaln(x + 1.0) + r*np.log(p) + x*np.log1p(-p))\n",
      "/mnt/data/thesis_project/notebooks/../scripts/runner_baselines_sklearn.py:92: RuntimeWarning: invalid value encountered in multiply\n",
      "  return (gammaln(x + r) - gammaln(r) - gammaln(x + 1.0) + r*np.log(p) + x*np.log1p(-p))\n",
      "/mnt/data/thesis_project/notebooks/../scripts/runner_baselines_sklearn.py:92: RuntimeWarning: divide by zero encountered in log1p\n",
      "  return (gammaln(x + r) - gammaln(r) - gammaln(x + 1.0) + r*np.log(p) + x*np.log1p(-p))\n",
      "/mnt/data/thesis_project/notebooks/../scripts/runner_baselines_sklearn.py:92: RuntimeWarning: invalid value encountered in multiply\n",
      "  return (gammaln(x + r) - gammaln(r) - gammaln(x + 1.0) + r*np.log(p) + x*np.log1p(-p))\n",
      "/mnt/data/thesis_project/notebooks/../scripts/runner_baselines_sklearn.py:92: RuntimeWarning: divide by zero encountered in log1p\n",
      "  return (gammaln(x + r) - gammaln(r) - gammaln(x + 1.0) + r*np.log(p) + x*np.log1p(-p))\n",
      "/mnt/data/thesis_project/notebooks/../scripts/runner_baselines_sklearn.py:92: RuntimeWarning: invalid value encountered in multiply\n",
      "  return (gammaln(x + r) - gammaln(r) - gammaln(x + 1.0) + r*np.log(p) + x*np.log1p(-p))\n",
      "/mnt/data/thesis_project/notebooks/../scripts/runner_baselines_sklearn.py:92: RuntimeWarning: divide by zero encountered in log1p\n",
      "  return (gammaln(x + r) - gammaln(r) - gammaln(x + 1.0) + r*np.log(p) + x*np.log1p(-p))\n",
      "/mnt/data/thesis_project/notebooks/../scripts/runner_baselines_sklearn.py:92: RuntimeWarning: invalid value encountered in multiply\n",
      "  return (gammaln(x + r) - gammaln(r) - gammaln(x + 1.0) + r*np.log(p) + x*np.log1p(-p))\n",
      "/mnt/data/thesis_project/notebooks/../scripts/runner_baselines_sklearn.py:92: RuntimeWarning: divide by zero encountered in log1p\n",
      "  return (gammaln(x + r) - gammaln(r) - gammaln(x + 1.0) + r*np.log(p) + x*np.log1p(-p))\n",
      "/mnt/data/thesis_project/notebooks/../scripts/runner_baselines_sklearn.py:92: RuntimeWarning: invalid value encountered in multiply\n",
      "  return (gammaln(x + r) - gammaln(r) - gammaln(x + 1.0) + r*np.log(p) + x*np.log1p(-p))\n",
      "/mnt/data/thesis_project/notebooks/../scripts/runner_baselines_sklearn.py:92: RuntimeWarning: divide by zero encountered in log1p\n",
      "  return (gammaln(x + r) - gammaln(r) - gammaln(x + 1.0) + r*np.log(p) + x*np.log1p(-p))\n",
      "/mnt/data/thesis_project/notebooks/../scripts/runner_baselines_sklearn.py:92: RuntimeWarning: invalid value encountered in multiply\n",
      "  return (gammaln(x + r) - gammaln(r) - gammaln(x + 1.0) + r*np.log(p) + x*np.log1p(-p))\n",
      "/mnt/data/thesis_project/notebooks/../scripts/runner_baselines_sklearn.py:92: RuntimeWarning: divide by zero encountered in log1p\n",
      "  return (gammaln(x + r) - gammaln(r) - gammaln(x + 1.0) + r*np.log(p) + x*np.log1p(-p))\n",
      "/mnt/data/thesis_project/notebooks/../scripts/runner_baselines_sklearn.py:92: RuntimeWarning: invalid value encountered in multiply\n",
      "  return (gammaln(x + r) - gammaln(r) - gammaln(x + 1.0) + r*np.log(p) + x*np.log1p(-p))\n",
      "/mnt/data/thesis_project/notebooks/../scripts/runner_baselines_sklearn.py:92: RuntimeWarning: divide by zero encountered in log1p\n",
      "  return (gammaln(x + r) - gammaln(r) - gammaln(x + 1.0) + r*np.log(p) + x*np.log1p(-p))\n",
      "/mnt/data/thesis_project/notebooks/../scripts/runner_baselines_sklearn.py:92: RuntimeWarning: invalid value encountered in multiply\n",
      "  return (gammaln(x + r) - gammaln(r) - gammaln(x + 1.0) + r*np.log(p) + x*np.log1p(-p))\n",
      "/mnt/data/thesis_project/notebooks/../scripts/runner_baselines_sklearn.py:92: RuntimeWarning: divide by zero encountered in log1p\n",
      "  return (gammaln(x + r) - gammaln(r) - gammaln(x + 1.0) + r*np.log(p) + x*np.log1p(-p))\n",
      "/mnt/data/thesis_project/notebooks/../scripts/runner_baselines_sklearn.py:92: RuntimeWarning: invalid value encountered in multiply\n",
      "  return (gammaln(x + r) - gammaln(r) - gammaln(x + 1.0) + r*np.log(p) + x*np.log1p(-p))\n",
      "/mnt/data/thesis_project/notebooks/../scripts/runner_baselines_sklearn.py:92: RuntimeWarning: divide by zero encountered in log1p\n",
      "  return (gammaln(x + r) - gammaln(r) - gammaln(x + 1.0) + r*np.log(p) + x*np.log1p(-p))\n",
      "/mnt/data/thesis_project/notebooks/../scripts/runner_baselines_sklearn.py:92: RuntimeWarning: invalid value encountered in multiply\n",
      "  return (gammaln(x + r) - gammaln(r) - gammaln(x + 1.0) + r*np.log(p) + x*np.log1p(-p))\n"
     ]
    },
    {
     "name": "stdout",
     "output_type": "stream",
     "text": [
      "Running MAGIC on 239 cells and 1000 genes.\n",
      "Calculating graph and diffusion operator...\n",
      "  Calculating KNN search...\n",
      "  Calculated KNN search in 0.04 seconds.\n",
      "  Calculating affinities...\n",
      "  Calculated affinities in 0.04 seconds.\n",
      "Calculated graph and diffusion operator in 0.09 seconds.\n",
      "Calculating imputation...\n",
      "Calculated imputation in 0.02 seconds.\n",
      "Calculating MAGIC...\n",
      "  Running MAGIC on 358 cells and 1000 genes.\n",
      "  Calculating graph and diffusion operator...\n",
      "    Calculating KNN search...\n"
     ]
    },
    {
     "name": "stderr",
     "output_type": "stream",
     "text": [
      "/mnt/data/thesis_project/notebooks/../scripts/runner_baselines_sklearn.py:92: RuntimeWarning: divide by zero encountered in log1p\n",
      "  return (gammaln(x + r) - gammaln(r) - gammaln(x + 1.0) + r*np.log(p) + x*np.log1p(-p))\n",
      "/mnt/data/thesis_project/notebooks/../scripts/runner_baselines_sklearn.py:92: RuntimeWarning: invalid value encountered in multiply\n",
      "  return (gammaln(x + r) - gammaln(r) - gammaln(x + 1.0) + r*np.log(p) + x*np.log1p(-p))\n",
      "/mnt/data/venvs/thesis-impute/lib/python3.10/site-packages/graphtools/graphs.py:122: UserWarning: Building a kNNGraph on data of shape (239, 1000) is expensive. Consider setting n_pca.\n",
      "  warnings.warn(\n",
      "/mnt/data/venvs/thesis-impute/lib/python3.10/site-packages/magic/magic.py:541: UserWarning: Running MAGIC.transform on different data to that which was used for MAGIC.fit may not produce sensible output, unless it comes from the same manifold.\n",
      "  warnings.warn(\n",
      "/mnt/data/venvs/thesis-impute/lib/python3.10/site-packages/graphtools/graphs.py:122: UserWarning: Building a kNNGraph on data of shape (358, 1000) is expensive. Consider setting n_pca.\n",
      "  warnings.warn(\n"
     ]
    },
    {
     "name": "stdout",
     "output_type": "stream",
     "text": [
      "    Calculated KNN search in 0.11 seconds.\n",
      "    Calculating affinities...\n",
      "    Calculated affinities in 0.07 seconds.\n",
      "  Calculated graph and diffusion operator in 0.19 seconds.\n",
      "  Calculating imputation...\n",
      "  Calculated imputation in 0.02 seconds.\n",
      "Calculated MAGIC in 0.21 seconds.\n",
      "Calculating imputation...\n",
      "Calculating MAGIC...\n",
      "  Running MAGIC on 358 cells and 1000 genes.\n",
      "  Calculating graph and diffusion operator...\n",
      "    Calculating KNN search...\n",
      "    Calculated KNN search in 0.09 seconds.\n",
      "    Calculating affinities...\n",
      "    Calculated affinities in 0.08 seconds.\n",
      "  Calculated graph and diffusion operator in 0.18 seconds.\n",
      "  Calculating imputation...\n"
     ]
    },
    {
     "name": "stderr",
     "output_type": "stream",
     "text": [
      "/mnt/data/venvs/thesis-impute/lib/python3.10/site-packages/magic/magic.py:541: UserWarning: Running MAGIC.transform on different data to that which was used for MAGIC.fit may not produce sensible output, unless it comes from the same manifold.\n",
      "  warnings.warn(\n",
      "/mnt/data/venvs/thesis-impute/lib/python3.10/site-packages/graphtools/graphs.py:122: UserWarning: Building a kNNGraph on data of shape (358, 1000) is expensive. Consider setting n_pca.\n",
      "  warnings.warn(\n"
     ]
    },
    {
     "name": "stdout",
     "output_type": "stream",
     "text": [
      "  Calculated imputation in 0.01 seconds.\n",
      "Calculated MAGIC in 0.20 seconds.\n",
      "Calculating imputation...\n",
      "Calculating MAGIC...\n",
      "  Running MAGIC on 358 cells and 1000 genes.\n",
      "  Calculating graph and diffusion operator...\n",
      "    Calculating KNN search...\n",
      "    Calculated KNN search in 0.09 seconds.\n",
      "    Calculating affinities...\n",
      "    Calculated affinities in 0.07 seconds.\n",
      "  Calculated graph and diffusion operator in 0.17 seconds.\n",
      "  Calculating imputation...\n"
     ]
    },
    {
     "name": "stderr",
     "output_type": "stream",
     "text": [
      "/mnt/data/venvs/thesis-impute/lib/python3.10/site-packages/magic/magic.py:541: UserWarning: Running MAGIC.transform on different data to that which was used for MAGIC.fit may not produce sensible output, unless it comes from the same manifold.\n",
      "  warnings.warn(\n",
      "/mnt/data/venvs/thesis-impute/lib/python3.10/site-packages/graphtools/graphs.py:122: UserWarning: Building a kNNGraph on data of shape (358, 1000) is expensive. Consider setting n_pca.\n",
      "  warnings.warn(\n"
     ]
    },
    {
     "name": "stdout",
     "output_type": "stream",
     "text": [
      "  Calculated imputation in 0.01 seconds.\n",
      "Calculated MAGIC in 0.19 seconds.\n",
      "Running MAGIC on 239 cells and 2000 genes.\n",
      "Calculating graph and diffusion operator...\n",
      "  Calculating KNN search...\n",
      "  Calculated KNN search in 0.10 seconds.\n",
      "  Calculating affinities...\n",
      "  Calculated affinities in 0.08 seconds.\n",
      "Calculated graph and diffusion operator in 0.19 seconds.\n"
     ]
    },
    {
     "name": "stderr",
     "output_type": "stream",
     "text": [
      "/mnt/data/venvs/thesis-impute/lib/python3.10/site-packages/graphtools/graphs.py:122: UserWarning: Building a kNNGraph on data of shape (239, 2000) is expensive. Consider setting n_pca.\n",
      "  warnings.warn(\n"
     ]
    },
    {
     "name": "stdout",
     "output_type": "stream",
     "text": [
      "Calculating imputation...\n",
      "Calculating MAGIC...\n",
      "  Running MAGIC on 358 cells and 2000 genes.\n",
      "  Calculating graph and diffusion operator...\n",
      "    Calculating KNN search...\n"
     ]
    },
    {
     "name": "stderr",
     "output_type": "stream",
     "text": [
      "/mnt/data/venvs/thesis-impute/lib/python3.10/site-packages/magic/magic.py:541: UserWarning: Running MAGIC.transform on different data to that which was used for MAGIC.fit may not produce sensible output, unless it comes from the same manifold.\n",
      "  warnings.warn(\n",
      "/mnt/data/venvs/thesis-impute/lib/python3.10/site-packages/graphtools/graphs.py:122: UserWarning: Building a kNNGraph on data of shape (358, 2000) is expensive. Consider setting n_pca.\n",
      "  warnings.warn(\n"
     ]
    },
    {
     "name": "stdout",
     "output_type": "stream",
     "text": [
      "    Calculated KNN search in 0.19 seconds.\n",
      "    Calculating affinities...\n",
      "    Calculated affinities in 0.16 seconds.\n",
      "  Calculated graph and diffusion operator in 0.37 seconds.\n",
      "  Calculating imputation...\n",
      "  Calculated imputation in 0.06 seconds.\n",
      "Calculated MAGIC in 0.44 seconds.\n",
      "Calculating imputation...\n",
      "Calculated imputation in 0.03 seconds.\n",
      "Calculating MAGIC...\n",
      "  Running MAGIC on 358 cells and 2000 genes.\n",
      "  Calculating graph and diffusion operator...\n",
      "    Calculating KNN search...\n"
     ]
    },
    {
     "name": "stderr",
     "output_type": "stream",
     "text": [
      "/mnt/data/venvs/thesis-impute/lib/python3.10/site-packages/magic/magic.py:541: UserWarning: Running MAGIC.transform on different data to that which was used for MAGIC.fit may not produce sensible output, unless it comes from the same manifold.\n",
      "  warnings.warn(\n",
      "/mnt/data/venvs/thesis-impute/lib/python3.10/site-packages/graphtools/graphs.py:122: UserWarning: Building a kNNGraph on data of shape (358, 2000) is expensive. Consider setting n_pca.\n",
      "  warnings.warn(\n"
     ]
    },
    {
     "name": "stdout",
     "output_type": "stream",
     "text": [
      "    Calculated KNN search in 0.21 seconds.\n",
      "    Calculating affinities...\n",
      "    Calculated affinities in 0.15 seconds.\n",
      "  Calculated graph and diffusion operator in 0.37 seconds.\n",
      "  Calculating imputation...\n",
      "  Calculated imputation in 0.01 seconds.\n",
      "Calculated MAGIC in 0.39 seconds.\n",
      "Calculating imputation...\n",
      "Calculating MAGIC...\n",
      "  Running MAGIC on 358 cells and 2000 genes.\n",
      "  Calculating graph and diffusion operator...\n",
      "    Calculating KNN search...\n",
      "    Calculated KNN search in 0.18 seconds.\n",
      "    Calculating affinities...\n"
     ]
    },
    {
     "name": "stderr",
     "output_type": "stream",
     "text": [
      "/mnt/data/venvs/thesis-impute/lib/python3.10/site-packages/magic/magic.py:541: UserWarning: Running MAGIC.transform on different data to that which was used for MAGIC.fit may not produce sensible output, unless it comes from the same manifold.\n",
      "  warnings.warn(\n",
      "/mnt/data/venvs/thesis-impute/lib/python3.10/site-packages/graphtools/graphs.py:122: UserWarning: Building a kNNGraph on data of shape (358, 2000) is expensive. Consider setting n_pca.\n",
      "  warnings.warn(\n"
     ]
    },
    {
     "name": "stdout",
     "output_type": "stream",
     "text": [
      "    Calculated affinities in 0.15 seconds.\n",
      "  Calculated graph and diffusion operator in 0.34 seconds.\n",
      "  Calculating imputation...\n",
      "  Calculated imputation in 0.01 seconds.\n",
      "Calculated MAGIC in 0.36 seconds.\n",
      "Running MAGIC on 239 cells and 4000 genes.\n",
      "Calculating graph and diffusion operator...\n",
      "  Calculating KNN search...\n"
     ]
    },
    {
     "name": "stderr",
     "output_type": "stream",
     "text": [
      "/mnt/data/venvs/thesis-impute/lib/python3.10/site-packages/graphtools/graphs.py:122: UserWarning: Building a kNNGraph on data of shape (239, 4000) is expensive. Consider setting n_pca.\n",
      "  warnings.warn(\n"
     ]
    },
    {
     "name": "stdout",
     "output_type": "stream",
     "text": [
      "  Calculated KNN search in 0.22 seconds.\n",
      "  Calculating affinities...\n",
      "  Calculated affinities in 0.20 seconds.\n",
      "Calculated graph and diffusion operator in 0.43 seconds.\n",
      "Calculating imputation...\n",
      "Calculating MAGIC...\n",
      "  Running MAGIC on 358 cells and 4000 genes.\n",
      "  Calculating graph and diffusion operator...\n",
      "    Calculating KNN search...\n"
     ]
    },
    {
     "name": "stderr",
     "output_type": "stream",
     "text": [
      "/mnt/data/venvs/thesis-impute/lib/python3.10/site-packages/magic/magic.py:541: UserWarning: Running MAGIC.transform on different data to that which was used for MAGIC.fit may not produce sensible output, unless it comes from the same manifold.\n",
      "  warnings.warn(\n",
      "/mnt/data/venvs/thesis-impute/lib/python3.10/site-packages/graphtools/graphs.py:122: UserWarning: Building a kNNGraph on data of shape (358, 4000) is expensive. Consider setting n_pca.\n",
      "  warnings.warn(\n"
     ]
    },
    {
     "name": "stdout",
     "output_type": "stream",
     "text": [
      "    Calculated KNN search in 0.44 seconds.\n",
      "    Calculating affinities...\n",
      "    Calculated affinities in 0.33 seconds.\n",
      "  Calculated graph and diffusion operator in 0.77 seconds.\n",
      "  Calculating imputation...\n",
      "  Calculated imputation in 0.02 seconds.\n",
      "Calculated MAGIC in 0.80 seconds.\n",
      "Calculating imputation...\n",
      "Calculating MAGIC...\n",
      "  Running MAGIC on 358 cells and 4000 genes.\n",
      "  Calculating graph and diffusion operator...\n",
      "    Calculating KNN search...\n"
     ]
    },
    {
     "name": "stderr",
     "output_type": "stream",
     "text": [
      "/mnt/data/venvs/thesis-impute/lib/python3.10/site-packages/magic/magic.py:541: UserWarning: Running MAGIC.transform on different data to that which was used for MAGIC.fit may not produce sensible output, unless it comes from the same manifold.\n",
      "  warnings.warn(\n",
      "/mnt/data/venvs/thesis-impute/lib/python3.10/site-packages/graphtools/graphs.py:122: UserWarning: Building a kNNGraph on data of shape (358, 4000) is expensive. Consider setting n_pca.\n",
      "  warnings.warn(\n"
     ]
    },
    {
     "name": "stdout",
     "output_type": "stream",
     "text": [
      "    Calculated KNN search in 0.38 seconds.\n",
      "    Calculating affinities...\n",
      "    Calculated affinities in 0.31 seconds.\n",
      "  Calculated graph and diffusion operator in 0.70 seconds.\n",
      "  Calculating imputation...\n",
      "  Calculated imputation in 0.02 seconds.\n",
      "Calculated MAGIC in 0.72 seconds.\n",
      "Calculating imputation...\n",
      "Calculating MAGIC...\n",
      "  Running MAGIC on 358 cells and 4000 genes.\n",
      "  Calculating graph and diffusion operator...\n",
      "    Calculating KNN search...\n"
     ]
    },
    {
     "name": "stderr",
     "output_type": "stream",
     "text": [
      "/mnt/data/venvs/thesis-impute/lib/python3.10/site-packages/magic/magic.py:541: UserWarning: Running MAGIC.transform on different data to that which was used for MAGIC.fit may not produce sensible output, unless it comes from the same manifold.\n",
      "  warnings.warn(\n",
      "/mnt/data/venvs/thesis-impute/lib/python3.10/site-packages/graphtools/graphs.py:122: UserWarning: Building a kNNGraph on data of shape (358, 4000) is expensive. Consider setting n_pca.\n",
      "  warnings.warn(\n"
     ]
    },
    {
     "name": "stdout",
     "output_type": "stream",
     "text": [
      "    Calculated KNN search in 0.42 seconds.\n",
      "    Calculating affinities...\n",
      "    Calculated affinities in 0.39 seconds.\n",
      "  Calculated graph and diffusion operator in 0.82 seconds.\n",
      "  Calculating imputation...\n",
      "  Calculated imputation in 0.03 seconds.\n",
      "Calculated MAGIC in 0.86 seconds.\n"
     ]
    },
    {
     "name": "stderr",
     "output_type": "stream",
     "text": [
      "/mnt/data/venvs/thesis-impute/lib/python3.10/site-packages/scanpy/preprocessing/_highly_variable_genes.py:75: UserWarning: `flavor='seurat_v3'` expects raw count data, but non-integers were found.\n",
      "  warnings.warn(\n",
      "/mnt/data/venvs/thesis-impute/lib/python3.10/site-packages/scanpy/preprocessing/_highly_variable_genes.py:75: UserWarning: `flavor='seurat_v3'` expects raw count data, but non-integers were found.\n",
      "  warnings.warn(\n",
      "/mnt/data/venvs/thesis-impute/lib/python3.10/site-packages/scanpy/preprocessing/_highly_variable_genes.py:75: UserWarning: `flavor='seurat_v3'` expects raw count data, but non-integers were found.\n",
      "  warnings.warn(\n",
      "/mnt/data/thesis_project/notebooks/../scripts/runner_baselines_sklearn.py:92: RuntimeWarning: divide by zero encountered in log1p\n",
      "  return (gammaln(x + r) - gammaln(r) - gammaln(x + 1.0) + r*np.log(p) + x*np.log1p(-p))\n",
      "/mnt/data/thesis_project/notebooks/../scripts/runner_baselines_sklearn.py:92: RuntimeWarning: invalid value encountered in multiply\n",
      "  return (gammaln(x + r) - gammaln(r) - gammaln(x + 1.0) + r*np.log(p) + x*np.log1p(-p))\n",
      "/mnt/data/thesis_project/notebooks/../scripts/runner_baselines_sklearn.py:92: RuntimeWarning: divide by zero encountered in log1p\n",
      "  return (gammaln(x + r) - gammaln(r) - gammaln(x + 1.0) + r*np.log(p) + x*np.log1p(-p))\n",
      "/mnt/data/thesis_project/notebooks/../scripts/runner_baselines_sklearn.py:92: RuntimeWarning: invalid value encountered in multiply\n",
      "  return (gammaln(x + r) - gammaln(r) - gammaln(x + 1.0) + r*np.log(p) + x*np.log1p(-p))\n",
      "/mnt/data/thesis_project/notebooks/../scripts/runner_baselines_sklearn.py:92: RuntimeWarning: divide by zero encountered in log1p\n",
      "  return (gammaln(x + r) - gammaln(r) - gammaln(x + 1.0) + r*np.log(p) + x*np.log1p(-p))\n",
      "/mnt/data/thesis_project/notebooks/../scripts/runner_baselines_sklearn.py:92: RuntimeWarning: invalid value encountered in multiply\n",
      "  return (gammaln(x + r) - gammaln(r) - gammaln(x + 1.0) + r*np.log(p) + x*np.log1p(-p))\n",
      "/mnt/data/thesis_project/notebooks/../scripts/runner_baselines_sklearn.py:92: RuntimeWarning: divide by zero encountered in log1p\n",
      "  return (gammaln(x + r) - gammaln(r) - gammaln(x + 1.0) + r*np.log(p) + x*np.log1p(-p))\n",
      "/mnt/data/thesis_project/notebooks/../scripts/runner_baselines_sklearn.py:92: RuntimeWarning: invalid value encountered in multiply\n",
      "  return (gammaln(x + r) - gammaln(r) - gammaln(x + 1.0) + r*np.log(p) + x*np.log1p(-p))\n",
      "/mnt/data/thesis_project/notebooks/../scripts/runner_baselines_sklearn.py:92: RuntimeWarning: divide by zero encountered in log1p\n",
      "  return (gammaln(x + r) - gammaln(r) - gammaln(x + 1.0) + r*np.log(p) + x*np.log1p(-p))\n",
      "/mnt/data/thesis_project/notebooks/../scripts/runner_baselines_sklearn.py:92: RuntimeWarning: invalid value encountered in multiply\n",
      "  return (gammaln(x + r) - gammaln(r) - gammaln(x + 1.0) + r*np.log(p) + x*np.log1p(-p))\n",
      "/mnt/data/thesis_project/notebooks/../scripts/runner_baselines_sklearn.py:92: RuntimeWarning: divide by zero encountered in log1p\n",
      "  return (gammaln(x + r) - gammaln(r) - gammaln(x + 1.0) + r*np.log(p) + x*np.log1p(-p))\n",
      "/mnt/data/thesis_project/notebooks/../scripts/runner_baselines_sklearn.py:92: RuntimeWarning: invalid value encountered in multiply\n",
      "  return (gammaln(x + r) - gammaln(r) - gammaln(x + 1.0) + r*np.log(p) + x*np.log1p(-p))\n",
      "/mnt/data/thesis_project/notebooks/../scripts/runner_baselines_sklearn.py:92: RuntimeWarning: divide by zero encountered in log1p\n",
      "  return (gammaln(x + r) - gammaln(r) - gammaln(x + 1.0) + r*np.log(p) + x*np.log1p(-p))\n",
      "/mnt/data/thesis_project/notebooks/../scripts/runner_baselines_sklearn.py:92: RuntimeWarning: invalid value encountered in multiply\n",
      "  return (gammaln(x + r) - gammaln(r) - gammaln(x + 1.0) + r*np.log(p) + x*np.log1p(-p))\n",
      "/mnt/data/thesis_project/notebooks/../scripts/runner_baselines_sklearn.py:92: RuntimeWarning: divide by zero encountered in log1p\n",
      "  return (gammaln(x + r) - gammaln(r) - gammaln(x + 1.0) + r*np.log(p) + x*np.log1p(-p))\n",
      "/mnt/data/thesis_project/notebooks/../scripts/runner_baselines_sklearn.py:92: RuntimeWarning: invalid value encountered in multiply\n",
      "  return (gammaln(x + r) - gammaln(r) - gammaln(x + 1.0) + r*np.log(p) + x*np.log1p(-p))\n",
      "/mnt/data/thesis_project/notebooks/../scripts/runner_baselines_sklearn.py:92: RuntimeWarning: divide by zero encountered in log1p\n",
      "  return (gammaln(x + r) - gammaln(r) - gammaln(x + 1.0) + r*np.log(p) + x*np.log1p(-p))\n",
      "/mnt/data/thesis_project/notebooks/../scripts/runner_baselines_sklearn.py:92: RuntimeWarning: invalid value encountered in multiply\n",
      "  return (gammaln(x + r) - gammaln(r) - gammaln(x + 1.0) + r*np.log(p) + x*np.log1p(-p))\n",
      "/mnt/data/thesis_project/notebooks/../scripts/runner_baselines_sklearn.py:92: RuntimeWarning: divide by zero encountered in log1p\n",
      "  return (gammaln(x + r) - gammaln(r) - gammaln(x + 1.0) + r*np.log(p) + x*np.log1p(-p))\n",
      "/mnt/data/thesis_project/notebooks/../scripts/runner_baselines_sklearn.py:92: RuntimeWarning: invalid value encountered in multiply\n",
      "  return (gammaln(x + r) - gammaln(r) - gammaln(x + 1.0) + r*np.log(p) + x*np.log1p(-p))\n",
      "/mnt/data/thesis_project/notebooks/../scripts/runner_baselines_sklearn.py:92: RuntimeWarning: divide by zero encountered in log1p\n",
      "  return (gammaln(x + r) - gammaln(r) - gammaln(x + 1.0) + r*np.log(p) + x*np.log1p(-p))\n",
      "/mnt/data/thesis_project/notebooks/../scripts/runner_baselines_sklearn.py:92: RuntimeWarning: invalid value encountered in multiply\n",
      "  return (gammaln(x + r) - gammaln(r) - gammaln(x + 1.0) + r*np.log(p) + x*np.log1p(-p))\n",
      "/mnt/data/thesis_project/notebooks/../scripts/runner_baselines_sklearn.py:92: RuntimeWarning: divide by zero encountered in log1p\n",
      "  return (gammaln(x + r) - gammaln(r) - gammaln(x + 1.0) + r*np.log(p) + x*np.log1p(-p))\n",
      "/mnt/data/thesis_project/notebooks/../scripts/runner_baselines_sklearn.py:92: RuntimeWarning: invalid value encountered in multiply\n",
      "  return (gammaln(x + r) - gammaln(r) - gammaln(x + 1.0) + r*np.log(p) + x*np.log1p(-p))\n",
      "/mnt/data/thesis_project/notebooks/../scripts/runner_baselines_sklearn.py:92: RuntimeWarning: divide by zero encountered in log1p\n",
      "  return (gammaln(x + r) - gammaln(r) - gammaln(x + 1.0) + r*np.log(p) + x*np.log1p(-p))\n",
      "/mnt/data/thesis_project/notebooks/../scripts/runner_baselines_sklearn.py:92: RuntimeWarning: invalid value encountered in multiply\n",
      "  return (gammaln(x + r) - gammaln(r) - gammaln(x + 1.0) + r*np.log(p) + x*np.log1p(-p))\n",
      "/mnt/data/thesis_project/notebooks/../scripts/runner_baselines_sklearn.py:92: RuntimeWarning: divide by zero encountered in log1p\n",
      "  return (gammaln(x + r) - gammaln(r) - gammaln(x + 1.0) + r*np.log(p) + x*np.log1p(-p))\n",
      "/mnt/data/thesis_project/notebooks/../scripts/runner_baselines_sklearn.py:92: RuntimeWarning: invalid value encountered in multiply\n",
      "  return (gammaln(x + r) - gammaln(r) - gammaln(x + 1.0) + r*np.log(p) + x*np.log1p(-p))\n",
      "/mnt/data/thesis_project/notebooks/../scripts/runner_baselines_sklearn.py:92: RuntimeWarning: divide by zero encountered in log1p\n",
      "  return (gammaln(x + r) - gammaln(r) - gammaln(x + 1.0) + r*np.log(p) + x*np.log1p(-p))\n",
      "/mnt/data/thesis_project/notebooks/../scripts/runner_baselines_sklearn.py:92: RuntimeWarning: invalid value encountered in multiply\n",
      "  return (gammaln(x + r) - gammaln(r) - gammaln(x + 1.0) + r*np.log(p) + x*np.log1p(-p))\n",
      "/mnt/data/thesis_project/notebooks/../scripts/runner_baselines_sklearn.py:92: RuntimeWarning: divide by zero encountered in log1p\n",
      "  return (gammaln(x + r) - gammaln(r) - gammaln(x + 1.0) + r*np.log(p) + x*np.log1p(-p))\n",
      "/mnt/data/thesis_project/notebooks/../scripts/runner_baselines_sklearn.py:92: RuntimeWarning: invalid value encountered in multiply\n",
      "  return (gammaln(x + r) - gammaln(r) - gammaln(x + 1.0) + r*np.log(p) + x*np.log1p(-p))\n",
      "/mnt/data/thesis_project/notebooks/../scripts/runner_baselines_sklearn.py:92: RuntimeWarning: divide by zero encountered in log1p\n",
      "  return (gammaln(x + r) - gammaln(r) - gammaln(x + 1.0) + r*np.log(p) + x*np.log1p(-p))\n",
      "/mnt/data/thesis_project/notebooks/../scripts/runner_baselines_sklearn.py:92: RuntimeWarning: invalid value encountered in multiply\n",
      "  return (gammaln(x + r) - gammaln(r) - gammaln(x + 1.0) + r*np.log(p) + x*np.log1p(-p))\n",
      "/mnt/data/thesis_project/notebooks/../scripts/runner_baselines_sklearn.py:92: RuntimeWarning: divide by zero encountered in log1p\n",
      "  return (gammaln(x + r) - gammaln(r) - gammaln(x + 1.0) + r*np.log(p) + x*np.log1p(-p))\n",
      "/mnt/data/thesis_project/notebooks/../scripts/runner_baselines_sklearn.py:92: RuntimeWarning: invalid value encountered in multiply\n",
      "  return (gammaln(x + r) - gammaln(r) - gammaln(x + 1.0) + r*np.log(p) + x*np.log1p(-p))\n"
     ]
    },
    {
     "name": "stdout",
     "output_type": "stream",
     "text": [
      "Running MAGIC on 239 cells and 1000 genes.\n",
      "Calculating graph and diffusion operator...\n",
      "  Calculating KNN search...\n",
      "  Calculated KNN search in 0.05 seconds.\n",
      "  Calculating affinities...\n",
      "  Calculated affinities in 0.04 seconds.\n",
      "Calculated graph and diffusion operator in 0.10 seconds.\n",
      "Calculating imputation...\n",
      "Calculating MAGIC...\n",
      "  Running MAGIC on 358 cells and 1000 genes.\n",
      "  Calculating graph and diffusion operator...\n",
      "    Calculating KNN search...\n"
     ]
    },
    {
     "name": "stderr",
     "output_type": "stream",
     "text": [
      "/mnt/data/thesis_project/notebooks/../scripts/runner_baselines_sklearn.py:92: RuntimeWarning: divide by zero encountered in log1p\n",
      "  return (gammaln(x + r) - gammaln(r) - gammaln(x + 1.0) + r*np.log(p) + x*np.log1p(-p))\n",
      "/mnt/data/thesis_project/notebooks/../scripts/runner_baselines_sklearn.py:92: RuntimeWarning: invalid value encountered in multiply\n",
      "  return (gammaln(x + r) - gammaln(r) - gammaln(x + 1.0) + r*np.log(p) + x*np.log1p(-p))\n",
      "/mnt/data/venvs/thesis-impute/lib/python3.10/site-packages/graphtools/graphs.py:122: UserWarning: Building a kNNGraph on data of shape (239, 1000) is expensive. Consider setting n_pca.\n",
      "  warnings.warn(\n",
      "/mnt/data/venvs/thesis-impute/lib/python3.10/site-packages/magic/magic.py:541: UserWarning: Running MAGIC.transform on different data to that which was used for MAGIC.fit may not produce sensible output, unless it comes from the same manifold.\n",
      "  warnings.warn(\n",
      "/mnt/data/venvs/thesis-impute/lib/python3.10/site-packages/graphtools/graphs.py:122: UserWarning: Building a kNNGraph on data of shape (358, 1000) is expensive. Consider setting n_pca.\n",
      "  warnings.warn(\n"
     ]
    },
    {
     "name": "stdout",
     "output_type": "stream",
     "text": [
      "    Calculated KNN search in 0.08 seconds.\n",
      "    Calculating affinities...\n",
      "    Calculated affinities in 0.07 seconds.\n",
      "  Calculated graph and diffusion operator in 0.16 seconds.\n",
      "  Calculating imputation...\n",
      "Calculated MAGIC in 0.17 seconds.\n",
      "Calculating imputation...\n",
      "Calculating MAGIC...\n",
      "  Running MAGIC on 358 cells and 1000 genes.\n",
      "  Calculating graph and diffusion operator...\n",
      "    Calculating KNN search...\n",
      "    Calculated KNN search in 0.08 seconds.\n",
      "    Calculating affinities...\n",
      "    Calculated affinities in 0.07 seconds.\n",
      "  Calculated graph and diffusion operator in 0.16 seconds.\n",
      "  Calculating imputation...\n",
      "  Calculated imputation in 0.01 seconds.\n",
      "Calculated MAGIC in 0.18 seconds.\n"
     ]
    },
    {
     "name": "stderr",
     "output_type": "stream",
     "text": [
      "/mnt/data/venvs/thesis-impute/lib/python3.10/site-packages/magic/magic.py:541: UserWarning: Running MAGIC.transform on different data to that which was used for MAGIC.fit may not produce sensible output, unless it comes from the same manifold.\n",
      "  warnings.warn(\n",
      "/mnt/data/venvs/thesis-impute/lib/python3.10/site-packages/graphtools/graphs.py:122: UserWarning: Building a kNNGraph on data of shape (358, 1000) is expensive. Consider setting n_pca.\n",
      "  warnings.warn(\n"
     ]
    },
    {
     "name": "stdout",
     "output_type": "stream",
     "text": [
      "Calculating imputation...\n",
      "Calculating MAGIC...\n",
      "  Running MAGIC on 358 cells and 1000 genes.\n",
      "  Calculating graph and diffusion operator...\n",
      "    Calculating KNN search...\n",
      "    Calculated KNN search in 0.08 seconds.\n",
      "    Calculating affinities...\n",
      "    Calculated affinities in 0.07 seconds.\n",
      "  Calculated graph and diffusion operator in 0.16 seconds.\n",
      "  Calculating imputation...\n",
      "Calculated MAGIC in 0.17 seconds.\n",
      "Running MAGIC on 239 cells and 2000 genes.\n",
      "Calculating graph and diffusion operator...\n",
      "  Calculating KNN search...\n"
     ]
    },
    {
     "name": "stderr",
     "output_type": "stream",
     "text": [
      "/mnt/data/venvs/thesis-impute/lib/python3.10/site-packages/magic/magic.py:541: UserWarning: Running MAGIC.transform on different data to that which was used for MAGIC.fit may not produce sensible output, unless it comes from the same manifold.\n",
      "  warnings.warn(\n",
      "/mnt/data/venvs/thesis-impute/lib/python3.10/site-packages/graphtools/graphs.py:122: UserWarning: Building a kNNGraph on data of shape (358, 1000) is expensive. Consider setting n_pca.\n",
      "  warnings.warn(\n",
      "/mnt/data/venvs/thesis-impute/lib/python3.10/site-packages/graphtools/graphs.py:122: UserWarning: Building a kNNGraph on data of shape (239, 2000) is expensive. Consider setting n_pca.\n",
      "  warnings.warn(\n"
     ]
    },
    {
     "name": "stdout",
     "output_type": "stream",
     "text": [
      "  Calculated KNN search in 0.10 seconds.\n",
      "  Calculating affinities...\n",
      "  Calculated affinities in 0.09 seconds.\n",
      "Calculated graph and diffusion operator in 0.20 seconds.\n",
      "Calculating imputation...\n",
      "Calculating MAGIC...\n",
      "  Running MAGIC on 358 cells and 2000 genes.\n",
      "  Calculating graph and diffusion operator...\n",
      "    Calculating KNN search...\n",
      "    Calculated KNN search in 0.17 seconds.\n",
      "    Calculating affinities...\n"
     ]
    },
    {
     "name": "stderr",
     "output_type": "stream",
     "text": [
      "/mnt/data/venvs/thesis-impute/lib/python3.10/site-packages/magic/magic.py:541: UserWarning: Running MAGIC.transform on different data to that which was used for MAGIC.fit may not produce sensible output, unless it comes from the same manifold.\n",
      "  warnings.warn(\n",
      "/mnt/data/venvs/thesis-impute/lib/python3.10/site-packages/graphtools/graphs.py:122: UserWarning: Building a kNNGraph on data of shape (358, 2000) is expensive. Consider setting n_pca.\n",
      "  warnings.warn(\n"
     ]
    },
    {
     "name": "stdout",
     "output_type": "stream",
     "text": [
      "    Calculated affinities in 0.15 seconds.\n",
      "  Calculated graph and diffusion operator in 0.33 seconds.\n",
      "  Calculating imputation...\n",
      "  Calculated imputation in 0.01 seconds.\n",
      "Calculated MAGIC in 0.35 seconds.\n",
      "Calculating imputation...\n",
      "Calculating MAGIC...\n",
      "  Running MAGIC on 358 cells and 2000 genes.\n",
      "  Calculating graph and diffusion operator...\n",
      "    Calculating KNN search...\n",
      "    Calculated KNN search in 0.17 seconds.\n",
      "    Calculating affinities...\n"
     ]
    },
    {
     "name": "stderr",
     "output_type": "stream",
     "text": [
      "/mnt/data/venvs/thesis-impute/lib/python3.10/site-packages/magic/magic.py:541: UserWarning: Running MAGIC.transform on different data to that which was used for MAGIC.fit may not produce sensible output, unless it comes from the same manifold.\n",
      "  warnings.warn(\n",
      "/mnt/data/venvs/thesis-impute/lib/python3.10/site-packages/graphtools/graphs.py:122: UserWarning: Building a kNNGraph on data of shape (358, 2000) is expensive. Consider setting n_pca.\n",
      "  warnings.warn(\n"
     ]
    },
    {
     "name": "stdout",
     "output_type": "stream",
     "text": [
      "    Calculated affinities in 0.15 seconds.\n",
      "  Calculated graph and diffusion operator in 0.33 seconds.\n",
      "  Calculating imputation...\n",
      "  Calculated imputation in 0.01 seconds.\n",
      "Calculated MAGIC in 0.35 seconds.\n",
      "Calculating imputation...\n",
      "Calculating MAGIC...\n",
      "  Running MAGIC on 358 cells and 2000 genes.\n",
      "  Calculating graph and diffusion operator...\n",
      "    Calculating KNN search...\n"
     ]
    },
    {
     "name": "stderr",
     "output_type": "stream",
     "text": [
      "/mnt/data/venvs/thesis-impute/lib/python3.10/site-packages/magic/magic.py:541: UserWarning: Running MAGIC.transform on different data to that which was used for MAGIC.fit may not produce sensible output, unless it comes from the same manifold.\n",
      "  warnings.warn(\n",
      "/mnt/data/venvs/thesis-impute/lib/python3.10/site-packages/graphtools/graphs.py:122: UserWarning: Building a kNNGraph on data of shape (358, 2000) is expensive. Consider setting n_pca.\n",
      "  warnings.warn(\n"
     ]
    },
    {
     "name": "stdout",
     "output_type": "stream",
     "text": [
      "    Calculated KNN search in 0.19 seconds.\n",
      "    Calculating affinities...\n",
      "    Calculated affinities in 0.15 seconds.\n",
      "  Calculated graph and diffusion operator in 0.35 seconds.\n",
      "  Calculating imputation...\n",
      "  Calculated imputation in 0.02 seconds.\n",
      "Calculated MAGIC in 0.37 seconds.\n",
      "Running MAGIC on 239 cells and 4000 genes.\n",
      "Calculating graph and diffusion operator...\n",
      "  Calculating KNN search...\n"
     ]
    },
    {
     "name": "stderr",
     "output_type": "stream",
     "text": [
      "/mnt/data/venvs/thesis-impute/lib/python3.10/site-packages/graphtools/graphs.py:122: UserWarning: Building a kNNGraph on data of shape (239, 4000) is expensive. Consider setting n_pca.\n",
      "  warnings.warn(\n"
     ]
    },
    {
     "name": "stdout",
     "output_type": "stream",
     "text": [
      "  Calculated KNN search in 0.22 seconds.\n",
      "  Calculating affinities...\n",
      "  Calculated affinities in 0.18 seconds.\n",
      "Calculated graph and diffusion operator in 0.41 seconds.\n",
      "Calculating imputation...\n",
      "Calculating MAGIC...\n",
      "  Running MAGIC on 358 cells and 4000 genes.\n",
      "  Calculating graph and diffusion operator...\n",
      "    Calculating KNN search...\n"
     ]
    },
    {
     "name": "stderr",
     "output_type": "stream",
     "text": [
      "/mnt/data/venvs/thesis-impute/lib/python3.10/site-packages/magic/magic.py:541: UserWarning: Running MAGIC.transform on different data to that which was used for MAGIC.fit may not produce sensible output, unless it comes from the same manifold.\n",
      "  warnings.warn(\n",
      "/mnt/data/venvs/thesis-impute/lib/python3.10/site-packages/graphtools/graphs.py:122: UserWarning: Building a kNNGraph on data of shape (358, 4000) is expensive. Consider setting n_pca.\n",
      "  warnings.warn(\n"
     ]
    },
    {
     "name": "stdout",
     "output_type": "stream",
     "text": [
      "    Calculated KNN search in 0.38 seconds.\n",
      "    Calculating affinities...\n",
      "    Calculated affinities in 0.32 seconds.\n",
      "  Calculated graph and diffusion operator in 0.71 seconds.\n",
      "  Calculating imputation...\n",
      "  Calculated imputation in 0.02 seconds.\n",
      "Calculated MAGIC in 0.74 seconds.\n",
      "Calculating imputation...\n",
      "Calculating MAGIC...\n",
      "  Running MAGIC on 358 cells and 4000 genes.\n",
      "  Calculating graph and diffusion operator...\n",
      "    Calculating KNN search...\n"
     ]
    },
    {
     "name": "stderr",
     "output_type": "stream",
     "text": [
      "/mnt/data/venvs/thesis-impute/lib/python3.10/site-packages/magic/magic.py:541: UserWarning: Running MAGIC.transform on different data to that which was used for MAGIC.fit may not produce sensible output, unless it comes from the same manifold.\n",
      "  warnings.warn(\n",
      "/mnt/data/venvs/thesis-impute/lib/python3.10/site-packages/graphtools/graphs.py:122: UserWarning: Building a kNNGraph on data of shape (358, 4000) is expensive. Consider setting n_pca.\n",
      "  warnings.warn(\n"
     ]
    },
    {
     "name": "stdout",
     "output_type": "stream",
     "text": [
      "    Calculated KNN search in 0.41 seconds.\n",
      "    Calculating affinities...\n",
      "    Calculated affinities in 0.32 seconds.\n",
      "  Calculated graph and diffusion operator in 0.74 seconds.\n",
      "  Calculating imputation...\n",
      "  Calculated imputation in 0.04 seconds.\n",
      "Calculated MAGIC in 0.79 seconds.\n",
      "Calculating imputation...\n",
      "Calculating MAGIC...\n",
      "  Running MAGIC on 358 cells and 4000 genes.\n",
      "  Calculating graph and diffusion operator...\n",
      "    Calculating KNN search...\n"
     ]
    },
    {
     "name": "stderr",
     "output_type": "stream",
     "text": [
      "/mnt/data/venvs/thesis-impute/lib/python3.10/site-packages/magic/magic.py:541: UserWarning: Running MAGIC.transform on different data to that which was used for MAGIC.fit may not produce sensible output, unless it comes from the same manifold.\n",
      "  warnings.warn(\n",
      "/mnt/data/venvs/thesis-impute/lib/python3.10/site-packages/graphtools/graphs.py:122: UserWarning: Building a kNNGraph on data of shape (358, 4000) is expensive. Consider setting n_pca.\n",
      "  warnings.warn(\n"
     ]
    },
    {
     "name": "stdout",
     "output_type": "stream",
     "text": [
      "    Calculated KNN search in 0.52 seconds.\n",
      "    Calculating affinities...\n",
      "    Calculated affinities in 0.33 seconds.\n",
      "  Calculated graph and diffusion operator in 0.85 seconds.\n",
      "  Calculating imputation...\n",
      "  Calculated imputation in 0.02 seconds.\n",
      "Calculated MAGIC in 0.88 seconds.\n"
     ]
    },
    {
     "name": "stderr",
     "output_type": "stream",
     "text": [
      "/mnt/data/venvs/thesis-impute/lib/python3.10/site-packages/scanpy/preprocessing/_highly_variable_genes.py:75: UserWarning: `flavor='seurat_v3'` expects raw count data, but non-integers were found.\n",
      "  warnings.warn(\n",
      "/mnt/data/venvs/thesis-impute/lib/python3.10/site-packages/scanpy/preprocessing/_highly_variable_genes.py:75: UserWarning: `flavor='seurat_v3'` expects raw count data, but non-integers were found.\n",
      "  warnings.warn(\n"
     ]
    },
    {
     "name": "stdout",
     "output_type": "stream",
     "text": [
      "Running MAGIC on 358 cells and 1000 genes.\n",
      "Calculating graph and diffusion operator...\n",
      "  Calculating KNN search...\n",
      "  Calculated KNN search in 0.10 seconds.\n",
      "  Calculating affinities...\n",
      "  Calculated affinities in 0.09 seconds.\n",
      "Calculated graph and diffusion operator in 0.20 seconds.\n"
     ]
    },
    {
     "name": "stderr",
     "output_type": "stream",
     "text": [
      "/mnt/data/venvs/thesis-impute/lib/python3.10/site-packages/graphtools/graphs.py:122: UserWarning: Building a kNNGraph on data of shape (358, 1000) is expensive. Consider setting n_pca.\n",
      "  warnings.warn(\n"
     ]
    },
    {
     "name": "stdout",
     "output_type": "stream",
     "text": [
      "Calculating imputation...\n",
      "Calculating MAGIC...\n",
      "  Running MAGIC on 447 cells and 1000 genes.\n",
      "  Calculating graph and diffusion operator...\n",
      "    Calculating KNN search...\n",
      "    Calculated KNN search in 0.16 seconds.\n",
      "    Calculating affinities...\n"
     ]
    },
    {
     "name": "stderr",
     "output_type": "stream",
     "text": [
      "/mnt/data/venvs/thesis-impute/lib/python3.10/site-packages/magic/magic.py:541: UserWarning: Running MAGIC.transform on different data to that which was used for MAGIC.fit may not produce sensible output, unless it comes from the same manifold.\n",
      "  warnings.warn(\n",
      "/mnt/data/venvs/thesis-impute/lib/python3.10/site-packages/graphtools/graphs.py:122: UserWarning: Building a kNNGraph on data of shape (447, 1000) is expensive. Consider setting n_pca.\n",
      "  warnings.warn(\n"
     ]
    },
    {
     "name": "stdout",
     "output_type": "stream",
     "text": [
      "    Calculated affinities in 0.14 seconds.\n",
      "  Calculated graph and diffusion operator in 0.31 seconds.\n",
      "  Calculating imputation...\n",
      "  Calculated imputation in 0.02 seconds.\n",
      "Calculated MAGIC in 0.34 seconds.\n",
      "Calculating imputation...\n",
      "Calculating MAGIC...\n",
      "  Running MAGIC on 447 cells and 1000 genes.\n",
      "  Calculating graph and diffusion operator...\n",
      "    Calculating KNN search...\n",
      "    Calculated KNN search in 0.16 seconds.\n",
      "    Calculating affinities...\n"
     ]
    },
    {
     "name": "stderr",
     "output_type": "stream",
     "text": [
      "/mnt/data/venvs/thesis-impute/lib/python3.10/site-packages/magic/magic.py:541: UserWarning: Running MAGIC.transform on different data to that which was used for MAGIC.fit may not produce sensible output, unless it comes from the same manifold.\n",
      "  warnings.warn(\n",
      "/mnt/data/venvs/thesis-impute/lib/python3.10/site-packages/graphtools/graphs.py:122: UserWarning: Building a kNNGraph on data of shape (447, 1000) is expensive. Consider setting n_pca.\n",
      "  warnings.warn(\n"
     ]
    },
    {
     "name": "stdout",
     "output_type": "stream",
     "text": [
      "    Calculated affinities in 0.14 seconds.\n",
      "  Calculated graph and diffusion operator in 0.31 seconds.\n",
      "  Calculating imputation...\n",
      "  Calculated imputation in 0.02 seconds.\n",
      "Calculated MAGIC in 0.34 seconds.\n",
      "Calculating imputation...\n",
      "Calculating MAGIC...\n",
      "  Running MAGIC on 447 cells and 1000 genes.\n",
      "  Calculating graph and diffusion operator...\n",
      "    Calculating KNN search...\n",
      "    Calculated KNN search in 0.18 seconds.\n",
      "    Calculating affinities...\n"
     ]
    },
    {
     "name": "stderr",
     "output_type": "stream",
     "text": [
      "/mnt/data/venvs/thesis-impute/lib/python3.10/site-packages/magic/magic.py:541: UserWarning: Running MAGIC.transform on different data to that which was used for MAGIC.fit may not produce sensible output, unless it comes from the same manifold.\n",
      "  warnings.warn(\n",
      "/mnt/data/venvs/thesis-impute/lib/python3.10/site-packages/graphtools/graphs.py:122: UserWarning: Building a kNNGraph on data of shape (447, 1000) is expensive. Consider setting n_pca.\n",
      "  warnings.warn(\n"
     ]
    },
    {
     "name": "stdout",
     "output_type": "stream",
     "text": [
      "    Calculated affinities in 0.16 seconds.\n",
      "  Calculated graph and diffusion operator in 0.36 seconds.\n",
      "  Calculating imputation...\n",
      "  Calculated imputation in 0.02 seconds.\n",
      "Calculated MAGIC in 0.38 seconds.\n"
     ]
    },
    {
     "name": "stderr",
     "output_type": "stream",
     "text": [
      "/mnt/data/venvs/thesis-impute/lib/python3.10/site-packages/scanpy/preprocessing/_highly_variable_genes.py:75: UserWarning: `flavor='seurat_v3'` expects raw count data, but non-integers were found.\n",
      "  warnings.warn(\n",
      "/mnt/data/venvs/thesis-impute/lib/python3.10/site-packages/scanpy/preprocessing/_highly_variable_genes.py:75: UserWarning: `flavor='seurat_v3'` expects raw count data, but non-integers were found.\n",
      "  warnings.warn(\n",
      "/mnt/data/venvs/thesis-impute/lib/python3.10/site-packages/scanpy/preprocessing/_highly_variable_genes.py:75: UserWarning: `flavor='seurat_v3'` expects raw count data, but non-integers were found.\n",
      "  warnings.warn(\n",
      "/mnt/data/venvs/thesis-impute/lib/python3.10/site-packages/scanpy/preprocessing/_highly_variable_genes.py:75: UserWarning: `flavor='seurat_v3'` expects raw count data, but non-integers were found.\n",
      "  warnings.warn(\n",
      "/mnt/data/venvs/thesis-impute/lib/python3.10/site-packages/scanpy/preprocessing/_highly_variable_genes.py:75: UserWarning: `flavor='seurat_v3'` expects raw count data, but non-integers were found.\n",
      "  warnings.warn(\n",
      "/mnt/data/thesis_project/notebooks/../scripts/runner_baselines_sklearn.py:92: RuntimeWarning: divide by zero encountered in log1p\n",
      "  return (gammaln(x + r) - gammaln(r) - gammaln(x + 1.0) + r*np.log(p) + x*np.log1p(-p))\n",
      "/mnt/data/thesis_project/notebooks/../scripts/runner_baselines_sklearn.py:92: RuntimeWarning: invalid value encountered in multiply\n",
      "  return (gammaln(x + r) - gammaln(r) - gammaln(x + 1.0) + r*np.log(p) + x*np.log1p(-p))\n",
      "/mnt/data/thesis_project/notebooks/../scripts/runner_baselines_sklearn.py:92: RuntimeWarning: divide by zero encountered in log1p\n",
      "  return (gammaln(x + r) - gammaln(r) - gammaln(x + 1.0) + r*np.log(p) + x*np.log1p(-p))\n",
      "/mnt/data/thesis_project/notebooks/../scripts/runner_baselines_sklearn.py:92: RuntimeWarning: divide by zero encountered in log1p\n",
      "  return (gammaln(x + r) - gammaln(r) - gammaln(x + 1.0) + r*np.log(p) + x*np.log1p(-p))\n",
      "/mnt/data/thesis_project/notebooks/../scripts/runner_baselines_sklearn.py:92: RuntimeWarning: divide by zero encountered in log1p\n",
      "  return (gammaln(x + r) - gammaln(r) - gammaln(x + 1.0) + r*np.log(p) + x*np.log1p(-p))\n",
      "/mnt/data/thesis_project/notebooks/../scripts/runner_baselines_sklearn.py:92: RuntimeWarning: divide by zero encountered in log1p\n",
      "  return (gammaln(x + r) - gammaln(r) - gammaln(x + 1.0) + r*np.log(p) + x*np.log1p(-p))\n",
      "/mnt/data/thesis_project/notebooks/../scripts/runner_baselines_sklearn.py:92: RuntimeWarning: invalid value encountered in multiply\n",
      "  return (gammaln(x + r) - gammaln(r) - gammaln(x + 1.0) + r*np.log(p) + x*np.log1p(-p))\n",
      "/mnt/data/thesis_project/notebooks/../scripts/runner_baselines_sklearn.py:92: RuntimeWarning: divide by zero encountered in log1p\n",
      "  return (gammaln(x + r) - gammaln(r) - gammaln(x + 1.0) + r*np.log(p) + x*np.log1p(-p))\n",
      "/mnt/data/thesis_project/notebooks/../scripts/runner_baselines_sklearn.py:92: RuntimeWarning: invalid value encountered in multiply\n",
      "  return (gammaln(x + r) - gammaln(r) - gammaln(x + 1.0) + r*np.log(p) + x*np.log1p(-p))\n",
      "/mnt/data/thesis_project/notebooks/../scripts/runner_baselines_sklearn.py:92: RuntimeWarning: divide by zero encountered in log1p\n",
      "  return (gammaln(x + r) - gammaln(r) - gammaln(x + 1.0) + r*np.log(p) + x*np.log1p(-p))\n",
      "/mnt/data/thesis_project/notebooks/../scripts/runner_baselines_sklearn.py:92: RuntimeWarning: invalid value encountered in multiply\n",
      "  return (gammaln(x + r) - gammaln(r) - gammaln(x + 1.0) + r*np.log(p) + x*np.log1p(-p))\n",
      "/mnt/data/thesis_project/notebooks/../scripts/runner_baselines_sklearn.py:92: RuntimeWarning: divide by zero encountered in log1p\n",
      "  return (gammaln(x + r) - gammaln(r) - gammaln(x + 1.0) + r*np.log(p) + x*np.log1p(-p))\n",
      "/mnt/data/thesis_project/notebooks/../scripts/runner_baselines_sklearn.py:92: RuntimeWarning: divide by zero encountered in log1p\n",
      "  return (gammaln(x + r) - gammaln(r) - gammaln(x + 1.0) + r*np.log(p) + x*np.log1p(-p))\n",
      "/mnt/data/thesis_project/notebooks/../scripts/runner_baselines_sklearn.py:92: RuntimeWarning: divide by zero encountered in log1p\n",
      "  return (gammaln(x + r) - gammaln(r) - gammaln(x + 1.0) + r*np.log(p) + x*np.log1p(-p))\n",
      "/mnt/data/thesis_project/notebooks/../scripts/runner_baselines_sklearn.py:92: RuntimeWarning: divide by zero encountered in log1p\n",
      "  return (gammaln(x + r) - gammaln(r) - gammaln(x + 1.0) + r*np.log(p) + x*np.log1p(-p))\n",
      "/mnt/data/thesis_project/notebooks/../scripts/runner_baselines_sklearn.py:92: RuntimeWarning: invalid value encountered in multiply\n",
      "  return (gammaln(x + r) - gammaln(r) - gammaln(x + 1.0) + r*np.log(p) + x*np.log1p(-p))\n",
      "/mnt/data/thesis_project/notebooks/../scripts/runner_baselines_sklearn.py:92: RuntimeWarning: divide by zero encountered in log1p\n",
      "  return (gammaln(x + r) - gammaln(r) - gammaln(x + 1.0) + r*np.log(p) + x*np.log1p(-p))\n",
      "/mnt/data/thesis_project/notebooks/../scripts/runner_baselines_sklearn.py:92: RuntimeWarning: invalid value encountered in multiply\n",
      "  return (gammaln(x + r) - gammaln(r) - gammaln(x + 1.0) + r*np.log(p) + x*np.log1p(-p))\n",
      "/mnt/data/thesis_project/notebooks/../scripts/runner_baselines_sklearn.py:92: RuntimeWarning: divide by zero encountered in log1p\n",
      "  return (gammaln(x + r) - gammaln(r) - gammaln(x + 1.0) + r*np.log(p) + x*np.log1p(-p))\n",
      "/mnt/data/thesis_project/notebooks/../scripts/runner_baselines_sklearn.py:92: RuntimeWarning: invalid value encountered in multiply\n",
      "  return (gammaln(x + r) - gammaln(r) - gammaln(x + 1.0) + r*np.log(p) + x*np.log1p(-p))\n",
      "/mnt/data/thesis_project/notebooks/../scripts/runner_baselines_sklearn.py:92: RuntimeWarning: divide by zero encountered in log1p\n",
      "  return (gammaln(x + r) - gammaln(r) - gammaln(x + 1.0) + r*np.log(p) + x*np.log1p(-p))\n",
      "/mnt/data/thesis_project/notebooks/../scripts/runner_baselines_sklearn.py:92: RuntimeWarning: divide by zero encountered in log1p\n",
      "  return (gammaln(x + r) - gammaln(r) - gammaln(x + 1.0) + r*np.log(p) + x*np.log1p(-p))\n",
      "/mnt/data/thesis_project/notebooks/../scripts/runner_baselines_sklearn.py:92: RuntimeWarning: divide by zero encountered in log1p\n",
      "  return (gammaln(x + r) - gammaln(r) - gammaln(x + 1.0) + r*np.log(p) + x*np.log1p(-p))\n",
      "/mnt/data/thesis_project/notebooks/../scripts/runner_baselines_sklearn.py:92: RuntimeWarning: divide by zero encountered in log1p\n",
      "  return (gammaln(x + r) - gammaln(r) - gammaln(x + 1.0) + r*np.log(p) + x*np.log1p(-p))\n",
      "/mnt/data/thesis_project/notebooks/../scripts/runner_baselines_sklearn.py:92: RuntimeWarning: invalid value encountered in multiply\n",
      "  return (gammaln(x + r) - gammaln(r) - gammaln(x + 1.0) + r*np.log(p) + x*np.log1p(-p))\n",
      "/mnt/data/thesis_project/notebooks/../scripts/runner_baselines_sklearn.py:92: RuntimeWarning: divide by zero encountered in log1p\n",
      "  return (gammaln(x + r) - gammaln(r) - gammaln(x + 1.0) + r*np.log(p) + x*np.log1p(-p))\n",
      "/mnt/data/thesis_project/notebooks/../scripts/runner_baselines_sklearn.py:92: RuntimeWarning: invalid value encountered in multiply\n",
      "  return (gammaln(x + r) - gammaln(r) - gammaln(x + 1.0) + r*np.log(p) + x*np.log1p(-p))\n",
      "/mnt/data/thesis_project/notebooks/../scripts/runner_baselines_sklearn.py:92: RuntimeWarning: divide by zero encountered in log1p\n",
      "  return (gammaln(x + r) - gammaln(r) - gammaln(x + 1.0) + r*np.log(p) + x*np.log1p(-p))\n",
      "/mnt/data/thesis_project/notebooks/../scripts/runner_baselines_sklearn.py:92: RuntimeWarning: invalid value encountered in multiply\n",
      "  return (gammaln(x + r) - gammaln(r) - gammaln(x + 1.0) + r*np.log(p) + x*np.log1p(-p))\n",
      "/mnt/data/thesis_project/notebooks/../scripts/runner_baselines_sklearn.py:92: RuntimeWarning: divide by zero encountered in log1p\n",
      "  return (gammaln(x + r) - gammaln(r) - gammaln(x + 1.0) + r*np.log(p) + x*np.log1p(-p))\n",
      "/mnt/data/thesis_project/notebooks/../scripts/runner_baselines_sklearn.py:92: RuntimeWarning: divide by zero encountered in log1p\n",
      "  return (gammaln(x + r) - gammaln(r) - gammaln(x + 1.0) + r*np.log(p) + x*np.log1p(-p))\n",
      "/mnt/data/thesis_project/notebooks/../scripts/runner_baselines_sklearn.py:92: RuntimeWarning: divide by zero encountered in log1p\n",
      "  return (gammaln(x + r) - gammaln(r) - gammaln(x + 1.0) + r*np.log(p) + x*np.log1p(-p))\n",
      "/mnt/data/thesis_project/notebooks/../scripts/runner_baselines_sklearn.py:92: RuntimeWarning: divide by zero encountered in log1p\n",
      "  return (gammaln(x + r) - gammaln(r) - gammaln(x + 1.0) + r*np.log(p) + x*np.log1p(-p))\n",
      "/mnt/data/thesis_project/notebooks/../scripts/runner_baselines_sklearn.py:92: RuntimeWarning: invalid value encountered in multiply\n",
      "  return (gammaln(x + r) - gammaln(r) - gammaln(x + 1.0) + r*np.log(p) + x*np.log1p(-p))\n",
      "/mnt/data/thesis_project/notebooks/../scripts/runner_baselines_sklearn.py:92: RuntimeWarning: divide by zero encountered in log1p\n",
      "  return (gammaln(x + r) - gammaln(r) - gammaln(x + 1.0) + r*np.log(p) + x*np.log1p(-p))\n",
      "/mnt/data/thesis_project/notebooks/../scripts/runner_baselines_sklearn.py:92: RuntimeWarning: invalid value encountered in multiply\n",
      "  return (gammaln(x + r) - gammaln(r) - gammaln(x + 1.0) + r*np.log(p) + x*np.log1p(-p))\n",
      "/mnt/data/thesis_project/notebooks/../scripts/runner_baselines_sklearn.py:92: RuntimeWarning: divide by zero encountered in log1p\n",
      "  return (gammaln(x + r) - gammaln(r) - gammaln(x + 1.0) + r*np.log(p) + x*np.log1p(-p))\n",
      "/mnt/data/thesis_project/notebooks/../scripts/runner_baselines_sklearn.py:92: RuntimeWarning: invalid value encountered in multiply\n",
      "  return (gammaln(x + r) - gammaln(r) - gammaln(x + 1.0) + r*np.log(p) + x*np.log1p(-p))\n",
      "/mnt/data/thesis_project/notebooks/../scripts/runner_baselines_sklearn.py:92: RuntimeWarning: divide by zero encountered in log1p\n",
      "  return (gammaln(x + r) - gammaln(r) - gammaln(x + 1.0) + r*np.log(p) + x*np.log1p(-p))\n",
      "/mnt/data/thesis_project/notebooks/../scripts/runner_baselines_sklearn.py:92: RuntimeWarning: divide by zero encountered in log1p\n",
      "  return (gammaln(x + r) - gammaln(r) - gammaln(x + 1.0) + r*np.log(p) + x*np.log1p(-p))\n",
      "/mnt/data/thesis_project/notebooks/../scripts/runner_baselines_sklearn.py:92: RuntimeWarning: divide by zero encountered in log1p\n",
      "  return (gammaln(x + r) - gammaln(r) - gammaln(x + 1.0) + r*np.log(p) + x*np.log1p(-p))\n",
      "/mnt/data/thesis_project/notebooks/../scripts/runner_baselines_sklearn.py:92: RuntimeWarning: divide by zero encountered in log1p\n",
      "  return (gammaln(x + r) - gammaln(r) - gammaln(x + 1.0) + r*np.log(p) + x*np.log1p(-p))\n",
      "/mnt/data/thesis_project/notebooks/../scripts/runner_baselines_sklearn.py:92: RuntimeWarning: invalid value encountered in multiply\n",
      "  return (gammaln(x + r) - gammaln(r) - gammaln(x + 1.0) + r*np.log(p) + x*np.log1p(-p))\n",
      "/mnt/data/thesis_project/notebooks/../scripts/runner_baselines_sklearn.py:92: RuntimeWarning: divide by zero encountered in log1p\n",
      "  return (gammaln(x + r) - gammaln(r) - gammaln(x + 1.0) + r*np.log(p) + x*np.log1p(-p))\n",
      "/mnt/data/thesis_project/notebooks/../scripts/runner_baselines_sklearn.py:92: RuntimeWarning: invalid value encountered in multiply\n",
      "  return (gammaln(x + r) - gammaln(r) - gammaln(x + 1.0) + r*np.log(p) + x*np.log1p(-p))\n",
      "/mnt/data/thesis_project/notebooks/../scripts/runner_baselines_sklearn.py:92: RuntimeWarning: divide by zero encountered in log1p\n",
      "  return (gammaln(x + r) - gammaln(r) - gammaln(x + 1.0) + r*np.log(p) + x*np.log1p(-p))\n",
      "/mnt/data/thesis_project/notebooks/../scripts/runner_baselines_sklearn.py:92: RuntimeWarning: invalid value encountered in multiply\n",
      "  return (gammaln(x + r) - gammaln(r) - gammaln(x + 1.0) + r*np.log(p) + x*np.log1p(-p))\n",
      "/mnt/data/thesis_project/notebooks/../scripts/runner_baselines_sklearn.py:92: RuntimeWarning: divide by zero encountered in log1p\n",
      "  return (gammaln(x + r) - gammaln(r) - gammaln(x + 1.0) + r*np.log(p) + x*np.log1p(-p))\n",
      "/mnt/data/thesis_project/notebooks/../scripts/runner_baselines_sklearn.py:92: RuntimeWarning: divide by zero encountered in log1p\n",
      "  return (gammaln(x + r) - gammaln(r) - gammaln(x + 1.0) + r*np.log(p) + x*np.log1p(-p))\n",
      "/mnt/data/thesis_project/notebooks/../scripts/runner_baselines_sklearn.py:92: RuntimeWarning: divide by zero encountered in log1p\n",
      "  return (gammaln(x + r) - gammaln(r) - gammaln(x + 1.0) + r*np.log(p) + x*np.log1p(-p))\n",
      "/mnt/data/thesis_project/notebooks/../scripts/runner_baselines_sklearn.py:92: RuntimeWarning: divide by zero encountered in log1p\n",
      "  return (gammaln(x + r) - gammaln(r) - gammaln(x + 1.0) + r*np.log(p) + x*np.log1p(-p))\n",
      "/mnt/data/thesis_project/notebooks/../scripts/runner_baselines_sklearn.py:92: RuntimeWarning: invalid value encountered in multiply\n",
      "  return (gammaln(x + r) - gammaln(r) - gammaln(x + 1.0) + r*np.log(p) + x*np.log1p(-p))\n",
      "/mnt/data/thesis_project/notebooks/../scripts/runner_baselines_sklearn.py:92: RuntimeWarning: divide by zero encountered in log1p\n",
      "  return (gammaln(x + r) - gammaln(r) - gammaln(x + 1.0) + r*np.log(p) + x*np.log1p(-p))\n",
      "/mnt/data/thesis_project/notebooks/../scripts/runner_baselines_sklearn.py:92: RuntimeWarning: invalid value encountered in multiply\n",
      "  return (gammaln(x + r) - gammaln(r) - gammaln(x + 1.0) + r*np.log(p) + x*np.log1p(-p))\n"
     ]
    },
    {
     "name": "stdout",
     "output_type": "stream",
     "text": [
      "Running MAGIC on 238 cells and 1000 genes.\n",
      "Calculating graph and diffusion operator...\n",
      "  Calculating KNN search...\n",
      "  Calculated KNN search in 0.05 seconds.\n",
      "  Calculating affinities...\n",
      "  Calculated affinities in 0.05 seconds.\n",
      "Calculated graph and diffusion operator in 0.11 seconds.\n",
      "Calculating imputation...\n",
      "Calculated imputation in 0.03 seconds.\n",
      "Calculating MAGIC...\n",
      "  Running MAGIC on 358 cells and 1000 genes.\n",
      "  Calculating graph and diffusion operator...\n",
      "    Calculating KNN search...\n"
     ]
    },
    {
     "name": "stderr",
     "output_type": "stream",
     "text": [
      "/mnt/data/thesis_project/notebooks/../scripts/runner_baselines_sklearn.py:92: RuntimeWarning: divide by zero encountered in log1p\n",
      "  return (gammaln(x + r) - gammaln(r) - gammaln(x + 1.0) + r*np.log(p) + x*np.log1p(-p))\n",
      "/mnt/data/thesis_project/notebooks/../scripts/runner_baselines_sklearn.py:92: RuntimeWarning: invalid value encountered in multiply\n",
      "  return (gammaln(x + r) - gammaln(r) - gammaln(x + 1.0) + r*np.log(p) + x*np.log1p(-p))\n",
      "/mnt/data/venvs/thesis-impute/lib/python3.10/site-packages/graphtools/graphs.py:122: UserWarning: Building a kNNGraph on data of shape (238, 1000) is expensive. Consider setting n_pca.\n",
      "  warnings.warn(\n",
      "/mnt/data/venvs/thesis-impute/lib/python3.10/site-packages/magic/magic.py:541: UserWarning: Running MAGIC.transform on different data to that which was used for MAGIC.fit may not produce sensible output, unless it comes from the same manifold.\n",
      "  warnings.warn(\n",
      "/mnt/data/venvs/thesis-impute/lib/python3.10/site-packages/graphtools/graphs.py:122: UserWarning: Building a kNNGraph on data of shape (358, 1000) is expensive. Consider setting n_pca.\n",
      "  warnings.warn(\n"
     ]
    },
    {
     "name": "stdout",
     "output_type": "stream",
     "text": [
      "    Calculated KNN search in 0.10 seconds.\n",
      "    Calculating affinities...\n",
      "    Calculated affinities in 0.09 seconds.\n",
      "  Calculated graph and diffusion operator in 0.20 seconds.\n",
      "  Calculating imputation...\n",
      "Calculated MAGIC in 0.21 seconds.\n",
      "Calculating imputation...\n",
      "Calculating MAGIC...\n",
      "  Running MAGIC on 358 cells and 1000 genes.\n",
      "  Calculating graph and diffusion operator...\n",
      "    Calculating KNN search...\n",
      "    Calculated KNN search in 0.10 seconds.\n",
      "    Calculating affinities...\n",
      "    Calculated affinities in 0.09 seconds.\n"
     ]
    },
    {
     "name": "stderr",
     "output_type": "stream",
     "text": [
      "/mnt/data/venvs/thesis-impute/lib/python3.10/site-packages/magic/magic.py:541: UserWarning: Running MAGIC.transform on different data to that which was used for MAGIC.fit may not produce sensible output, unless it comes from the same manifold.\n",
      "  warnings.warn(\n",
      "/mnt/data/venvs/thesis-impute/lib/python3.10/site-packages/graphtools/graphs.py:122: UserWarning: Building a kNNGraph on data of shape (358, 1000) is expensive. Consider setting n_pca.\n",
      "  warnings.warn(\n"
     ]
    },
    {
     "name": "stdout",
     "output_type": "stream",
     "text": [
      "  Calculated graph and diffusion operator in 0.19 seconds.\n",
      "  Calculating imputation...\n",
      "Calculated MAGIC in 0.21 seconds.\n",
      "Calculating imputation...\n",
      "Calculating MAGIC...\n",
      "  Running MAGIC on 358 cells and 1000 genes.\n",
      "  Calculating graph and diffusion operator...\n",
      "    Calculating KNN search...\n",
      "    Calculated KNN search in 0.10 seconds.\n",
      "    Calculating affinities...\n"
     ]
    },
    {
     "name": "stderr",
     "output_type": "stream",
     "text": [
      "/mnt/data/venvs/thesis-impute/lib/python3.10/site-packages/magic/magic.py:541: UserWarning: Running MAGIC.transform on different data to that which was used for MAGIC.fit may not produce sensible output, unless it comes from the same manifold.\n",
      "  warnings.warn(\n",
      "/mnt/data/venvs/thesis-impute/lib/python3.10/site-packages/graphtools/graphs.py:122: UserWarning: Building a kNNGraph on data of shape (358, 1000) is expensive. Consider setting n_pca.\n",
      "  warnings.warn(\n"
     ]
    },
    {
     "name": "stdout",
     "output_type": "stream",
     "text": [
      "    Calculated affinities in 0.09 seconds.\n",
      "  Calculated graph and diffusion operator in 0.20 seconds.\n",
      "  Calculating imputation...\n",
      "  Calculated imputation in 0.01 seconds.\n",
      "Calculated MAGIC in 0.22 seconds.\n",
      "Running MAGIC on 238 cells and 2000 genes.\n",
      "Calculating graph and diffusion operator...\n",
      "  Calculating KNN search...\n",
      "  Calculated KNN search in 0.08 seconds.\n",
      "  Calculating affinities...\n",
      "  Calculated affinities in 0.07 seconds.\n",
      "Calculated graph and diffusion operator in 0.16 seconds.\n"
     ]
    },
    {
     "name": "stderr",
     "output_type": "stream",
     "text": [
      "/mnt/data/venvs/thesis-impute/lib/python3.10/site-packages/graphtools/graphs.py:122: UserWarning: Building a kNNGraph on data of shape (238, 2000) is expensive. Consider setting n_pca.\n",
      "  warnings.warn(\n"
     ]
    },
    {
     "name": "stdout",
     "output_type": "stream",
     "text": [
      "Calculating imputation...\n",
      "Calculating MAGIC...\n",
      "  Running MAGIC on 358 cells and 2000 genes.\n",
      "  Calculating graph and diffusion operator...\n",
      "    Calculating KNN search...\n",
      "    Calculated KNN search in 0.16 seconds.\n",
      "    Calculating affinities...\n"
     ]
    },
    {
     "name": "stderr",
     "output_type": "stream",
     "text": [
      "/mnt/data/venvs/thesis-impute/lib/python3.10/site-packages/magic/magic.py:541: UserWarning: Running MAGIC.transform on different data to that which was used for MAGIC.fit may not produce sensible output, unless it comes from the same manifold.\n",
      "  warnings.warn(\n",
      "/mnt/data/venvs/thesis-impute/lib/python3.10/site-packages/graphtools/graphs.py:122: UserWarning: Building a kNNGraph on data of shape (358, 2000) is expensive. Consider setting n_pca.\n",
      "  warnings.warn(\n"
     ]
    },
    {
     "name": "stdout",
     "output_type": "stream",
     "text": [
      "    Calculated affinities in 0.14 seconds.\n",
      "  Calculated graph and diffusion operator in 0.30 seconds.\n",
      "  Calculating imputation...\n",
      "  Calculated imputation in 0.04 seconds.\n",
      "Calculated MAGIC in 0.35 seconds.\n",
      "Calculating imputation...\n",
      "Calculating MAGIC...\n",
      "  Running MAGIC on 358 cells and 2000 genes.\n",
      "  Calculating graph and diffusion operator...\n",
      "    Calculating KNN search...\n",
      "    Calculated KNN search in 0.17 seconds.\n",
      "    Calculating affinities...\n"
     ]
    },
    {
     "name": "stderr",
     "output_type": "stream",
     "text": [
      "/mnt/data/venvs/thesis-impute/lib/python3.10/site-packages/magic/magic.py:541: UserWarning: Running MAGIC.transform on different data to that which was used for MAGIC.fit may not produce sensible output, unless it comes from the same manifold.\n",
      "  warnings.warn(\n",
      "/mnt/data/venvs/thesis-impute/lib/python3.10/site-packages/graphtools/graphs.py:122: UserWarning: Building a kNNGraph on data of shape (358, 2000) is expensive. Consider setting n_pca.\n",
      "  warnings.warn(\n"
     ]
    },
    {
     "name": "stdout",
     "output_type": "stream",
     "text": [
      "    Calculated affinities in 0.14 seconds.\n",
      "  Calculated graph and diffusion operator in 0.32 seconds.\n",
      "  Calculating imputation...\n",
      "  Calculated imputation in 0.03 seconds.\n",
      "Calculated MAGIC in 0.35 seconds.\n",
      "Calculating imputation...\n",
      "Calculating MAGIC...\n",
      "  Running MAGIC on 358 cells and 2000 genes.\n",
      "  Calculating graph and diffusion operator...\n",
      "    Calculating KNN search...\n",
      "    Calculated KNN search in 0.17 seconds.\n",
      "    Calculating affinities...\n"
     ]
    },
    {
     "name": "stderr",
     "output_type": "stream",
     "text": [
      "/mnt/data/venvs/thesis-impute/lib/python3.10/site-packages/magic/magic.py:541: UserWarning: Running MAGIC.transform on different data to that which was used for MAGIC.fit may not produce sensible output, unless it comes from the same manifold.\n",
      "  warnings.warn(\n",
      "/mnt/data/venvs/thesis-impute/lib/python3.10/site-packages/graphtools/graphs.py:122: UserWarning: Building a kNNGraph on data of shape (358, 2000) is expensive. Consider setting n_pca.\n",
      "  warnings.warn(\n"
     ]
    },
    {
     "name": "stdout",
     "output_type": "stream",
     "text": [
      "    Calculated affinities in 0.14 seconds.\n",
      "  Calculated graph and diffusion operator in 0.31 seconds.\n",
      "  Calculating imputation...\n",
      "  Calculated imputation in 0.03 seconds.\n",
      "Calculated MAGIC in 0.35 seconds.\n",
      "Running MAGIC on 238 cells and 4000 genes.\n",
      "Calculating graph and diffusion operator...\n",
      "  Calculating KNN search...\n",
      "  Calculated KNN search in 0.19 seconds.\n",
      "  Calculating affinities...\n"
     ]
    },
    {
     "name": "stderr",
     "output_type": "stream",
     "text": [
      "/mnt/data/venvs/thesis-impute/lib/python3.10/site-packages/graphtools/graphs.py:122: UserWarning: Building a kNNGraph on data of shape (238, 4000) is expensive. Consider setting n_pca.\n",
      "  warnings.warn(\n"
     ]
    },
    {
     "name": "stdout",
     "output_type": "stream",
     "text": [
      "  Calculated affinities in 0.15 seconds.\n",
      "Calculated graph and diffusion operator in 0.35 seconds.\n",
      "Calculating imputation...\n",
      "Calculating MAGIC...\n",
      "  Running MAGIC on 358 cells and 4000 genes.\n",
      "  Calculating graph and diffusion operator...\n",
      "    Calculating KNN search...\n"
     ]
    },
    {
     "name": "stderr",
     "output_type": "stream",
     "text": [
      "/mnt/data/venvs/thesis-impute/lib/python3.10/site-packages/magic/magic.py:541: UserWarning: Running MAGIC.transform on different data to that which was used for MAGIC.fit may not produce sensible output, unless it comes from the same manifold.\n",
      "  warnings.warn(\n",
      "/mnt/data/venvs/thesis-impute/lib/python3.10/site-packages/graphtools/graphs.py:122: UserWarning: Building a kNNGraph on data of shape (358, 4000) is expensive. Consider setting n_pca.\n",
      "  warnings.warn(\n"
     ]
    },
    {
     "name": "stdout",
     "output_type": "stream",
     "text": [
      "    Calculated KNN search in 0.35 seconds.\n",
      "    Calculating affinities...\n",
      "    Calculated affinities in 0.31 seconds.\n",
      "  Calculated graph and diffusion operator in 0.66 seconds.\n",
      "  Calculating imputation...\n",
      "  Calculated imputation in 0.02 seconds.\n",
      "Calculated MAGIC in 0.69 seconds.\n",
      "Calculating imputation...\n",
      "Calculating MAGIC...\n",
      "  Running MAGIC on 358 cells and 4000 genes.\n",
      "  Calculating graph and diffusion operator...\n",
      "    Calculating KNN search...\n"
     ]
    },
    {
     "name": "stderr",
     "output_type": "stream",
     "text": [
      "/mnt/data/venvs/thesis-impute/lib/python3.10/site-packages/magic/magic.py:541: UserWarning: Running MAGIC.transform on different data to that which was used for MAGIC.fit may not produce sensible output, unless it comes from the same manifold.\n",
      "  warnings.warn(\n",
      "/mnt/data/venvs/thesis-impute/lib/python3.10/site-packages/graphtools/graphs.py:122: UserWarning: Building a kNNGraph on data of shape (358, 4000) is expensive. Consider setting n_pca.\n",
      "  warnings.warn(\n"
     ]
    },
    {
     "name": "stdout",
     "output_type": "stream",
     "text": [
      "    Calculated KNN search in 0.36 seconds.\n",
      "    Calculating affinities...\n",
      "    Calculated affinities in 0.32 seconds.\n",
      "  Calculated graph and diffusion operator in 0.69 seconds.\n",
      "  Calculating imputation...\n",
      "  Calculated imputation in 0.02 seconds.\n",
      "Calculated MAGIC in 0.72 seconds.\n",
      "Calculating imputation...\n",
      "Calculating MAGIC...\n",
      "  Running MAGIC on 358 cells and 4000 genes.\n",
      "  Calculating graph and diffusion operator...\n",
      "    Calculating KNN search...\n"
     ]
    },
    {
     "name": "stderr",
     "output_type": "stream",
     "text": [
      "/mnt/data/venvs/thesis-impute/lib/python3.10/site-packages/magic/magic.py:541: UserWarning: Running MAGIC.transform on different data to that which was used for MAGIC.fit may not produce sensible output, unless it comes from the same manifold.\n",
      "  warnings.warn(\n",
      "/mnt/data/venvs/thesis-impute/lib/python3.10/site-packages/graphtools/graphs.py:122: UserWarning: Building a kNNGraph on data of shape (358, 4000) is expensive. Consider setting n_pca.\n",
      "  warnings.warn(\n"
     ]
    },
    {
     "name": "stdout",
     "output_type": "stream",
     "text": [
      "    Calculated KNN search in 0.38 seconds.\n",
      "    Calculating affinities...\n",
      "    Calculated affinities in 0.30 seconds.\n",
      "  Calculated graph and diffusion operator in 0.69 seconds.\n",
      "  Calculating imputation...\n",
      "  Calculated imputation in 0.03 seconds.\n",
      "Calculated MAGIC in 0.72 seconds.\n"
     ]
    },
    {
     "name": "stderr",
     "output_type": "stream",
     "text": [
      "/mnt/data/venvs/thesis-impute/lib/python3.10/site-packages/scanpy/preprocessing/_highly_variable_genes.py:75: UserWarning: `flavor='seurat_v3'` expects raw count data, but non-integers were found.\n",
      "  warnings.warn(\n",
      "/mnt/data/venvs/thesis-impute/lib/python3.10/site-packages/scanpy/preprocessing/_highly_variable_genes.py:75: UserWarning: `flavor='seurat_v3'` expects raw count data, but non-integers were found.\n",
      "  warnings.warn(\n",
      "/mnt/data/venvs/thesis-impute/lib/python3.10/site-packages/scanpy/preprocessing/_highly_variable_genes.py:75: UserWarning: `flavor='seurat_v3'` expects raw count data, but non-integers were found.\n",
      "  warnings.warn(\n",
      "/mnt/data/thesis_project/notebooks/../scripts/runner_baselines_sklearn.py:92: RuntimeWarning: divide by zero encountered in log1p\n",
      "  return (gammaln(x + r) - gammaln(r) - gammaln(x + 1.0) + r*np.log(p) + x*np.log1p(-p))\n",
      "/mnt/data/thesis_project/notebooks/../scripts/runner_baselines_sklearn.py:92: RuntimeWarning: invalid value encountered in multiply\n",
      "  return (gammaln(x + r) - gammaln(r) - gammaln(x + 1.0) + r*np.log(p) + x*np.log1p(-p))\n",
      "/mnt/data/thesis_project/notebooks/../scripts/runner_baselines_sklearn.py:92: RuntimeWarning: divide by zero encountered in log1p\n",
      "  return (gammaln(x + r) - gammaln(r) - gammaln(x + 1.0) + r*np.log(p) + x*np.log1p(-p))\n",
      "/mnt/data/thesis_project/notebooks/../scripts/runner_baselines_sklearn.py:92: RuntimeWarning: invalid value encountered in multiply\n",
      "  return (gammaln(x + r) - gammaln(r) - gammaln(x + 1.0) + r*np.log(p) + x*np.log1p(-p))\n",
      "/mnt/data/thesis_project/notebooks/../scripts/runner_baselines_sklearn.py:92: RuntimeWarning: divide by zero encountered in log1p\n",
      "  return (gammaln(x + r) - gammaln(r) - gammaln(x + 1.0) + r*np.log(p) + x*np.log1p(-p))\n",
      "/mnt/data/thesis_project/notebooks/../scripts/runner_baselines_sklearn.py:92: RuntimeWarning: invalid value encountered in multiply\n",
      "  return (gammaln(x + r) - gammaln(r) - gammaln(x + 1.0) + r*np.log(p) + x*np.log1p(-p))\n",
      "/mnt/data/thesis_project/notebooks/../scripts/runner_baselines_sklearn.py:92: RuntimeWarning: divide by zero encountered in log1p\n",
      "  return (gammaln(x + r) - gammaln(r) - gammaln(x + 1.0) + r*np.log(p) + x*np.log1p(-p))\n",
      "/mnt/data/thesis_project/notebooks/../scripts/runner_baselines_sklearn.py:92: RuntimeWarning: invalid value encountered in multiply\n",
      "  return (gammaln(x + r) - gammaln(r) - gammaln(x + 1.0) + r*np.log(p) + x*np.log1p(-p))\n",
      "/mnt/data/thesis_project/notebooks/../scripts/runner_baselines_sklearn.py:92: RuntimeWarning: divide by zero encountered in log1p\n",
      "  return (gammaln(x + r) - gammaln(r) - gammaln(x + 1.0) + r*np.log(p) + x*np.log1p(-p))\n",
      "/mnt/data/thesis_project/notebooks/../scripts/runner_baselines_sklearn.py:92: RuntimeWarning: invalid value encountered in multiply\n",
      "  return (gammaln(x + r) - gammaln(r) - gammaln(x + 1.0) + r*np.log(p) + x*np.log1p(-p))\n",
      "/mnt/data/thesis_project/notebooks/../scripts/runner_baselines_sklearn.py:92: RuntimeWarning: divide by zero encountered in log1p\n",
      "  return (gammaln(x + r) - gammaln(r) - gammaln(x + 1.0) + r*np.log(p) + x*np.log1p(-p))\n",
      "/mnt/data/thesis_project/notebooks/../scripts/runner_baselines_sklearn.py:92: RuntimeWarning: invalid value encountered in multiply\n",
      "  return (gammaln(x + r) - gammaln(r) - gammaln(x + 1.0) + r*np.log(p) + x*np.log1p(-p))\n",
      "/mnt/data/thesis_project/notebooks/../scripts/runner_baselines_sklearn.py:92: RuntimeWarning: divide by zero encountered in log1p\n",
      "  return (gammaln(x + r) - gammaln(r) - gammaln(x + 1.0) + r*np.log(p) + x*np.log1p(-p))\n",
      "/mnt/data/thesis_project/notebooks/../scripts/runner_baselines_sklearn.py:92: RuntimeWarning: invalid value encountered in multiply\n",
      "  return (gammaln(x + r) - gammaln(r) - gammaln(x + 1.0) + r*np.log(p) + x*np.log1p(-p))\n",
      "/mnt/data/thesis_project/notebooks/../scripts/runner_baselines_sklearn.py:92: RuntimeWarning: divide by zero encountered in log1p\n",
      "  return (gammaln(x + r) - gammaln(r) - gammaln(x + 1.0) + r*np.log(p) + x*np.log1p(-p))\n",
      "/mnt/data/thesis_project/notebooks/../scripts/runner_baselines_sklearn.py:92: RuntimeWarning: invalid value encountered in multiply\n",
      "  return (gammaln(x + r) - gammaln(r) - gammaln(x + 1.0) + r*np.log(p) + x*np.log1p(-p))\n",
      "/mnt/data/thesis_project/notebooks/../scripts/runner_baselines_sklearn.py:92: RuntimeWarning: divide by zero encountered in log1p\n",
      "  return (gammaln(x + r) - gammaln(r) - gammaln(x + 1.0) + r*np.log(p) + x*np.log1p(-p))\n",
      "/mnt/data/thesis_project/notebooks/../scripts/runner_baselines_sklearn.py:92: RuntimeWarning: invalid value encountered in multiply\n",
      "  return (gammaln(x + r) - gammaln(r) - gammaln(x + 1.0) + r*np.log(p) + x*np.log1p(-p))\n",
      "/mnt/data/thesis_project/notebooks/../scripts/runner_baselines_sklearn.py:92: RuntimeWarning: divide by zero encountered in log1p\n",
      "  return (gammaln(x + r) - gammaln(r) - gammaln(x + 1.0) + r*np.log(p) + x*np.log1p(-p))\n",
      "/mnt/data/thesis_project/notebooks/../scripts/runner_baselines_sklearn.py:92: RuntimeWarning: invalid value encountered in multiply\n",
      "  return (gammaln(x + r) - gammaln(r) - gammaln(x + 1.0) + r*np.log(p) + x*np.log1p(-p))\n",
      "/mnt/data/thesis_project/notebooks/../scripts/runner_baselines_sklearn.py:92: RuntimeWarning: divide by zero encountered in log1p\n",
      "  return (gammaln(x + r) - gammaln(r) - gammaln(x + 1.0) + r*np.log(p) + x*np.log1p(-p))\n",
      "/mnt/data/thesis_project/notebooks/../scripts/runner_baselines_sklearn.py:92: RuntimeWarning: invalid value encountered in multiply\n",
      "  return (gammaln(x + r) - gammaln(r) - gammaln(x + 1.0) + r*np.log(p) + x*np.log1p(-p))\n",
      "/mnt/data/thesis_project/notebooks/../scripts/runner_baselines_sklearn.py:92: RuntimeWarning: divide by zero encountered in log1p\n",
      "  return (gammaln(x + r) - gammaln(r) - gammaln(x + 1.0) + r*np.log(p) + x*np.log1p(-p))\n",
      "/mnt/data/thesis_project/notebooks/../scripts/runner_baselines_sklearn.py:92: RuntimeWarning: invalid value encountered in multiply\n",
      "  return (gammaln(x + r) - gammaln(r) - gammaln(x + 1.0) + r*np.log(p) + x*np.log1p(-p))\n",
      "/mnt/data/thesis_project/notebooks/../scripts/runner_baselines_sklearn.py:92: RuntimeWarning: divide by zero encountered in log1p\n",
      "  return (gammaln(x + r) - gammaln(r) - gammaln(x + 1.0) + r*np.log(p) + x*np.log1p(-p))\n",
      "/mnt/data/thesis_project/notebooks/../scripts/runner_baselines_sklearn.py:92: RuntimeWarning: invalid value encountered in multiply\n",
      "  return (gammaln(x + r) - gammaln(r) - gammaln(x + 1.0) + r*np.log(p) + x*np.log1p(-p))\n",
      "/mnt/data/thesis_project/notebooks/../scripts/runner_baselines_sklearn.py:92: RuntimeWarning: divide by zero encountered in log1p\n",
      "  return (gammaln(x + r) - gammaln(r) - gammaln(x + 1.0) + r*np.log(p) + x*np.log1p(-p))\n",
      "/mnt/data/thesis_project/notebooks/../scripts/runner_baselines_sklearn.py:92: RuntimeWarning: invalid value encountered in multiply\n",
      "  return (gammaln(x + r) - gammaln(r) - gammaln(x + 1.0) + r*np.log(p) + x*np.log1p(-p))\n",
      "/mnt/data/thesis_project/notebooks/../scripts/runner_baselines_sklearn.py:92: RuntimeWarning: divide by zero encountered in log1p\n",
      "  return (gammaln(x + r) - gammaln(r) - gammaln(x + 1.0) + r*np.log(p) + x*np.log1p(-p))\n",
      "/mnt/data/thesis_project/notebooks/../scripts/runner_baselines_sklearn.py:92: RuntimeWarning: invalid value encountered in multiply\n",
      "  return (gammaln(x + r) - gammaln(r) - gammaln(x + 1.0) + r*np.log(p) + x*np.log1p(-p))\n",
      "/mnt/data/thesis_project/notebooks/../scripts/runner_baselines_sklearn.py:92: RuntimeWarning: divide by zero encountered in log1p\n",
      "  return (gammaln(x + r) - gammaln(r) - gammaln(x + 1.0) + r*np.log(p) + x*np.log1p(-p))\n",
      "/mnt/data/thesis_project/notebooks/../scripts/runner_baselines_sklearn.py:92: RuntimeWarning: invalid value encountered in multiply\n",
      "  return (gammaln(x + r) - gammaln(r) - gammaln(x + 1.0) + r*np.log(p) + x*np.log1p(-p))\n",
      "/mnt/data/thesis_project/notebooks/../scripts/runner_baselines_sklearn.py:92: RuntimeWarning: divide by zero encountered in log1p\n",
      "  return (gammaln(x + r) - gammaln(r) - gammaln(x + 1.0) + r*np.log(p) + x*np.log1p(-p))\n",
      "/mnt/data/thesis_project/notebooks/../scripts/runner_baselines_sklearn.py:92: RuntimeWarning: invalid value encountered in multiply\n",
      "  return (gammaln(x + r) - gammaln(r) - gammaln(x + 1.0) + r*np.log(p) + x*np.log1p(-p))\n",
      "/mnt/data/thesis_project/notebooks/../scripts/runner_baselines_sklearn.py:92: RuntimeWarning: divide by zero encountered in log1p\n",
      "  return (gammaln(x + r) - gammaln(r) - gammaln(x + 1.0) + r*np.log(p) + x*np.log1p(-p))\n",
      "/mnt/data/thesis_project/notebooks/../scripts/runner_baselines_sklearn.py:92: RuntimeWarning: invalid value encountered in multiply\n",
      "  return (gammaln(x + r) - gammaln(r) - gammaln(x + 1.0) + r*np.log(p) + x*np.log1p(-p))\n",
      "/mnt/data/thesis_project/notebooks/../scripts/runner_baselines_sklearn.py:92: RuntimeWarning: divide by zero encountered in log1p\n",
      "  return (gammaln(x + r) - gammaln(r) - gammaln(x + 1.0) + r*np.log(p) + x*np.log1p(-p))\n",
      "/mnt/data/thesis_project/notebooks/../scripts/runner_baselines_sklearn.py:92: RuntimeWarning: invalid value encountered in multiply\n",
      "  return (gammaln(x + r) - gammaln(r) - gammaln(x + 1.0) + r*np.log(p) + x*np.log1p(-p))\n",
      "/mnt/data/thesis_project/notebooks/../scripts/runner_baselines_sklearn.py:92: RuntimeWarning: divide by zero encountered in log1p\n",
      "  return (gammaln(x + r) - gammaln(r) - gammaln(x + 1.0) + r*np.log(p) + x*np.log1p(-p))\n",
      "/mnt/data/thesis_project/notebooks/../scripts/runner_baselines_sklearn.py:92: RuntimeWarning: invalid value encountered in multiply\n",
      "  return (gammaln(x + r) - gammaln(r) - gammaln(x + 1.0) + r*np.log(p) + x*np.log1p(-p))\n",
      "/mnt/data/thesis_project/notebooks/../scripts/runner_baselines_sklearn.py:92: RuntimeWarning: divide by zero encountered in log1p\n",
      "  return (gammaln(x + r) - gammaln(r) - gammaln(x + 1.0) + r*np.log(p) + x*np.log1p(-p))\n",
      "/mnt/data/thesis_project/notebooks/../scripts/runner_baselines_sklearn.py:92: RuntimeWarning: invalid value encountered in multiply\n",
      "  return (gammaln(x + r) - gammaln(r) - gammaln(x + 1.0) + r*np.log(p) + x*np.log1p(-p))\n",
      "/mnt/data/thesis_project/notebooks/../scripts/runner_baselines_sklearn.py:92: RuntimeWarning: divide by zero encountered in log1p\n",
      "  return (gammaln(x + r) - gammaln(r) - gammaln(x + 1.0) + r*np.log(p) + x*np.log1p(-p))\n",
      "/mnt/data/thesis_project/notebooks/../scripts/runner_baselines_sklearn.py:92: RuntimeWarning: invalid value encountered in multiply\n",
      "  return (gammaln(x + r) - gammaln(r) - gammaln(x + 1.0) + r*np.log(p) + x*np.log1p(-p))\n",
      "/mnt/data/thesis_project/notebooks/../scripts/runner_baselines_sklearn.py:92: RuntimeWarning: divide by zero encountered in log1p\n",
      "  return (gammaln(x + r) - gammaln(r) - gammaln(x + 1.0) + r*np.log(p) + x*np.log1p(-p))\n",
      "/mnt/data/thesis_project/notebooks/../scripts/runner_baselines_sklearn.py:92: RuntimeWarning: invalid value encountered in multiply\n",
      "  return (gammaln(x + r) - gammaln(r) - gammaln(x + 1.0) + r*np.log(p) + x*np.log1p(-p))\n",
      "/mnt/data/thesis_project/notebooks/../scripts/runner_baselines_sklearn.py:92: RuntimeWarning: divide by zero encountered in log1p\n",
      "  return (gammaln(x + r) - gammaln(r) - gammaln(x + 1.0) + r*np.log(p) + x*np.log1p(-p))\n",
      "/mnt/data/thesis_project/notebooks/../scripts/runner_baselines_sklearn.py:92: RuntimeWarning: invalid value encountered in multiply\n",
      "  return (gammaln(x + r) - gammaln(r) - gammaln(x + 1.0) + r*np.log(p) + x*np.log1p(-p))\n",
      "/mnt/data/thesis_project/notebooks/../scripts/runner_baselines_sklearn.py:92: RuntimeWarning: divide by zero encountered in log1p\n",
      "  return (gammaln(x + r) - gammaln(r) - gammaln(x + 1.0) + r*np.log(p) + x*np.log1p(-p))\n",
      "/mnt/data/thesis_project/notebooks/../scripts/runner_baselines_sklearn.py:92: RuntimeWarning: invalid value encountered in multiply\n",
      "  return (gammaln(x + r) - gammaln(r) - gammaln(x + 1.0) + r*np.log(p) + x*np.log1p(-p))\n",
      "/mnt/data/thesis_project/notebooks/../scripts/runner_baselines_sklearn.py:92: RuntimeWarning: divide by zero encountered in log1p\n",
      "  return (gammaln(x + r) - gammaln(r) - gammaln(x + 1.0) + r*np.log(p) + x*np.log1p(-p))\n",
      "/mnt/data/thesis_project/notebooks/../scripts/runner_baselines_sklearn.py:92: RuntimeWarning: divide by zero encountered in log1p\n",
      "  return (gammaln(x + r) - gammaln(r) - gammaln(x + 1.0) + r*np.log(p) + x*np.log1p(-p))\n",
      "/mnt/data/thesis_project/notebooks/../scripts/runner_baselines_sklearn.py:92: RuntimeWarning: invalid value encountered in multiply\n",
      "  return (gammaln(x + r) - gammaln(r) - gammaln(x + 1.0) + r*np.log(p) + x*np.log1p(-p))\n",
      "/mnt/data/thesis_project/notebooks/../scripts/runner_baselines_sklearn.py:92: RuntimeWarning: divide by zero encountered in log1p\n",
      "  return (gammaln(x + r) - gammaln(r) - gammaln(x + 1.0) + r*np.log(p) + x*np.log1p(-p))\n",
      "/mnt/data/thesis_project/notebooks/../scripts/runner_baselines_sklearn.py:92: RuntimeWarning: invalid value encountered in multiply\n",
      "  return (gammaln(x + r) - gammaln(r) - gammaln(x + 1.0) + r*np.log(p) + x*np.log1p(-p))\n",
      "/mnt/data/thesis_project/notebooks/../scripts/runner_baselines_sklearn.py:92: RuntimeWarning: divide by zero encountered in log1p\n",
      "  return (gammaln(x + r) - gammaln(r) - gammaln(x + 1.0) + r*np.log(p) + x*np.log1p(-p))\n",
      "/mnt/data/thesis_project/notebooks/../scripts/runner_baselines_sklearn.py:92: RuntimeWarning: invalid value encountered in multiply\n",
      "  return (gammaln(x + r) - gammaln(r) - gammaln(x + 1.0) + r*np.log(p) + x*np.log1p(-p))\n",
      "/mnt/data/thesis_project/notebooks/../scripts/runner_baselines_sklearn.py:92: RuntimeWarning: divide by zero encountered in log1p\n",
      "  return (gammaln(x + r) - gammaln(r) - gammaln(x + 1.0) + r*np.log(p) + x*np.log1p(-p))\n",
      "/mnt/data/thesis_project/notebooks/../scripts/runner_baselines_sklearn.py:92: RuntimeWarning: invalid value encountered in multiply\n",
      "  return (gammaln(x + r) - gammaln(r) - gammaln(x + 1.0) + r*np.log(p) + x*np.log1p(-p))\n",
      "/mnt/data/thesis_project/notebooks/../scripts/runner_baselines_sklearn.py:92: RuntimeWarning: divide by zero encountered in log1p\n",
      "  return (gammaln(x + r) - gammaln(r) - gammaln(x + 1.0) + r*np.log(p) + x*np.log1p(-p))\n",
      "/mnt/data/thesis_project/notebooks/../scripts/runner_baselines_sklearn.py:92: RuntimeWarning: divide by zero encountered in log1p\n",
      "  return (gammaln(x + r) - gammaln(r) - gammaln(x + 1.0) + r*np.log(p) + x*np.log1p(-p))\n",
      "/mnt/data/thesis_project/notebooks/../scripts/runner_baselines_sklearn.py:92: RuntimeWarning: invalid value encountered in multiply\n",
      "  return (gammaln(x + r) - gammaln(r) - gammaln(x + 1.0) + r*np.log(p) + x*np.log1p(-p))\n",
      "/mnt/data/thesis_project/notebooks/../scripts/runner_baselines_sklearn.py:92: RuntimeWarning: divide by zero encountered in log1p\n",
      "  return (gammaln(x + r) - gammaln(r) - gammaln(x + 1.0) + r*np.log(p) + x*np.log1p(-p))\n",
      "/mnt/data/thesis_project/notebooks/../scripts/runner_baselines_sklearn.py:92: RuntimeWarning: invalid value encountered in multiply\n",
      "  return (gammaln(x + r) - gammaln(r) - gammaln(x + 1.0) + r*np.log(p) + x*np.log1p(-p))\n",
      "/mnt/data/thesis_project/notebooks/../scripts/runner_baselines_sklearn.py:92: RuntimeWarning: divide by zero encountered in log1p\n",
      "  return (gammaln(x + r) - gammaln(r) - gammaln(x + 1.0) + r*np.log(p) + x*np.log1p(-p))\n",
      "/mnt/data/thesis_project/notebooks/../scripts/runner_baselines_sklearn.py:92: RuntimeWarning: invalid value encountered in multiply\n",
      "  return (gammaln(x + r) - gammaln(r) - gammaln(x + 1.0) + r*np.log(p) + x*np.log1p(-p))\n"
     ]
    },
    {
     "name": "stdout",
     "output_type": "stream",
     "text": [
      "Running MAGIC on 239 cells and 1000 genes.\n",
      "Calculating graph and diffusion operator...\n",
      "  Calculating KNN search...\n",
      "  Calculated KNN search in 0.05 seconds.\n",
      "  Calculating affinities...\n",
      "  Calculated affinities in 0.04 seconds.\n",
      "Calculated graph and diffusion operator in 0.09 seconds.\n",
      "Calculating imputation...\n",
      "Calculating MAGIC...\n",
      "  Running MAGIC on 358 cells and 1000 genes.\n",
      "  Calculating graph and diffusion operator...\n",
      "    Calculating KNN search...\n"
     ]
    },
    {
     "name": "stderr",
     "output_type": "stream",
     "text": [
      "/mnt/data/thesis_project/notebooks/../scripts/runner_baselines_sklearn.py:92: RuntimeWarning: divide by zero encountered in log1p\n",
      "  return (gammaln(x + r) - gammaln(r) - gammaln(x + 1.0) + r*np.log(p) + x*np.log1p(-p))\n",
      "/mnt/data/thesis_project/notebooks/../scripts/runner_baselines_sklearn.py:92: RuntimeWarning: invalid value encountered in multiply\n",
      "  return (gammaln(x + r) - gammaln(r) - gammaln(x + 1.0) + r*np.log(p) + x*np.log1p(-p))\n",
      "/mnt/data/venvs/thesis-impute/lib/python3.10/site-packages/graphtools/graphs.py:122: UserWarning: Building a kNNGraph on data of shape (239, 1000) is expensive. Consider setting n_pca.\n",
      "  warnings.warn(\n",
      "/mnt/data/venvs/thesis-impute/lib/python3.10/site-packages/magic/magic.py:541: UserWarning: Running MAGIC.transform on different data to that which was used for MAGIC.fit may not produce sensible output, unless it comes from the same manifold.\n",
      "  warnings.warn(\n",
      "/mnt/data/venvs/thesis-impute/lib/python3.10/site-packages/graphtools/graphs.py:122: UserWarning: Building a kNNGraph on data of shape (358, 1000) is expensive. Consider setting n_pca.\n",
      "  warnings.warn(\n"
     ]
    },
    {
     "name": "stdout",
     "output_type": "stream",
     "text": [
      "    Calculated KNN search in 0.09 seconds.\n",
      "    Calculating affinities...\n",
      "    Calculated affinities in 0.07 seconds.\n",
      "  Calculated graph and diffusion operator in 0.17 seconds.\n",
      "  Calculating imputation...\n",
      "  Calculated imputation in 0.02 seconds.\n",
      "Calculated MAGIC in 0.20 seconds.\n",
      "Calculating imputation...\n",
      "Calculating MAGIC...\n",
      "  Running MAGIC on 358 cells and 1000 genes.\n",
      "  Calculating graph and diffusion operator...\n",
      "    Calculating KNN search...\n",
      "    Calculated KNN search in 0.08 seconds.\n",
      "    Calculating affinities...\n",
      "    Calculated affinities in 0.07 seconds.\n",
      "  Calculated graph and diffusion operator in 0.16 seconds.\n",
      "  Calculating imputation...\n",
      "Calculated MAGIC in 0.17 seconds.\n"
     ]
    },
    {
     "name": "stderr",
     "output_type": "stream",
     "text": [
      "/mnt/data/venvs/thesis-impute/lib/python3.10/site-packages/magic/magic.py:541: UserWarning: Running MAGIC.transform on different data to that which was used for MAGIC.fit may not produce sensible output, unless it comes from the same manifold.\n",
      "  warnings.warn(\n",
      "/mnt/data/venvs/thesis-impute/lib/python3.10/site-packages/graphtools/graphs.py:122: UserWarning: Building a kNNGraph on data of shape (358, 1000) is expensive. Consider setting n_pca.\n",
      "  warnings.warn(\n"
     ]
    },
    {
     "name": "stdout",
     "output_type": "stream",
     "text": [
      "Calculating imputation...\n",
      "Calculating MAGIC...\n",
      "  Running MAGIC on 358 cells and 1000 genes.\n",
      "  Calculating graph and diffusion operator...\n",
      "    Calculating KNN search...\n",
      "    Calculated KNN search in 0.08 seconds.\n",
      "    Calculating affinities...\n",
      "    Calculated affinities in 0.07 seconds.\n",
      "  Calculated graph and diffusion operator in 0.16 seconds.\n",
      "  Calculating imputation...\n",
      "Calculated MAGIC in 0.17 seconds.\n",
      "Running MAGIC on 239 cells and 2000 genes.\n",
      "Calculating graph and diffusion operator...\n",
      "  Calculating KNN search...\n"
     ]
    },
    {
     "name": "stderr",
     "output_type": "stream",
     "text": [
      "/mnt/data/venvs/thesis-impute/lib/python3.10/site-packages/magic/magic.py:541: UserWarning: Running MAGIC.transform on different data to that which was used for MAGIC.fit may not produce sensible output, unless it comes from the same manifold.\n",
      "  warnings.warn(\n",
      "/mnt/data/venvs/thesis-impute/lib/python3.10/site-packages/graphtools/graphs.py:122: UserWarning: Building a kNNGraph on data of shape (358, 1000) is expensive. Consider setting n_pca.\n",
      "  warnings.warn(\n",
      "/mnt/data/venvs/thesis-impute/lib/python3.10/site-packages/graphtools/graphs.py:122: UserWarning: Building a kNNGraph on data of shape (239, 2000) is expensive. Consider setting n_pca.\n",
      "  warnings.warn(\n"
     ]
    },
    {
     "name": "stdout",
     "output_type": "stream",
     "text": [
      "  Calculated KNN search in 0.09 seconds.\n",
      "  Calculating affinities...\n",
      "  Calculated affinities in 0.08 seconds.\n",
      "Calculated graph and diffusion operator in 0.18 seconds.\n",
      "Calculating imputation...\n",
      "Calculating MAGIC...\n",
      "  Running MAGIC on 358 cells and 2000 genes.\n",
      "  Calculating graph and diffusion operator...\n",
      "    Calculating KNN search...\n",
      "    Calculated KNN search in 0.17 seconds.\n",
      "    Calculating affinities...\n"
     ]
    },
    {
     "name": "stderr",
     "output_type": "stream",
     "text": [
      "/mnt/data/venvs/thesis-impute/lib/python3.10/site-packages/magic/magic.py:541: UserWarning: Running MAGIC.transform on different data to that which was used for MAGIC.fit may not produce sensible output, unless it comes from the same manifold.\n",
      "  warnings.warn(\n",
      "/mnt/data/venvs/thesis-impute/lib/python3.10/site-packages/graphtools/graphs.py:122: UserWarning: Building a kNNGraph on data of shape (358, 2000) is expensive. Consider setting n_pca.\n",
      "  warnings.warn(\n"
     ]
    },
    {
     "name": "stdout",
     "output_type": "stream",
     "text": [
      "    Calculated affinities in 0.14 seconds.\n",
      "  Calculated graph and diffusion operator in 0.32 seconds.\n",
      "  Calculating imputation...\n",
      "  Calculated imputation in 0.02 seconds.\n",
      "Calculated MAGIC in 0.34 seconds.\n",
      "Calculating imputation...\n",
      "Calculating MAGIC...\n",
      "  Running MAGIC on 358 cells and 2000 genes.\n",
      "  Calculating graph and diffusion operator...\n",
      "    Calculating KNN search...\n",
      "    Calculated KNN search in 0.17 seconds.\n",
      "    Calculating affinities...\n"
     ]
    },
    {
     "name": "stderr",
     "output_type": "stream",
     "text": [
      "/mnt/data/venvs/thesis-impute/lib/python3.10/site-packages/magic/magic.py:541: UserWarning: Running MAGIC.transform on different data to that which was used for MAGIC.fit may not produce sensible output, unless it comes from the same manifold.\n",
      "  warnings.warn(\n",
      "/mnt/data/venvs/thesis-impute/lib/python3.10/site-packages/graphtools/graphs.py:122: UserWarning: Building a kNNGraph on data of shape (358, 2000) is expensive. Consider setting n_pca.\n",
      "  warnings.warn(\n"
     ]
    },
    {
     "name": "stdout",
     "output_type": "stream",
     "text": [
      "    Calculated affinities in 0.15 seconds.\n",
      "  Calculated graph and diffusion operator in 0.32 seconds.\n",
      "  Calculating imputation...\n",
      "  Calculated imputation in 0.01 seconds.\n",
      "Calculated MAGIC in 0.34 seconds.\n",
      "Calculating imputation...\n",
      "Calculating MAGIC...\n",
      "  Running MAGIC on 358 cells and 2000 genes.\n",
      "  Calculating graph and diffusion operator...\n",
      "    Calculating KNN search...\n",
      "    Calculated KNN search in 0.17 seconds.\n",
      "    Calculating affinities...\n"
     ]
    },
    {
     "name": "stderr",
     "output_type": "stream",
     "text": [
      "/mnt/data/venvs/thesis-impute/lib/python3.10/site-packages/magic/magic.py:541: UserWarning: Running MAGIC.transform on different data to that which was used for MAGIC.fit may not produce sensible output, unless it comes from the same manifold.\n",
      "  warnings.warn(\n",
      "/mnt/data/venvs/thesis-impute/lib/python3.10/site-packages/graphtools/graphs.py:122: UserWarning: Building a kNNGraph on data of shape (358, 2000) is expensive. Consider setting n_pca.\n",
      "  warnings.warn(\n"
     ]
    },
    {
     "name": "stdout",
     "output_type": "stream",
     "text": [
      "    Calculated affinities in 0.15 seconds.\n",
      "  Calculated graph and diffusion operator in 0.33 seconds.\n",
      "  Calculating imputation...\n",
      "  Calculated imputation in 0.02 seconds.\n",
      "Calculated MAGIC in 0.36 seconds.\n",
      "Running MAGIC on 239 cells and 4000 genes.\n",
      "Calculating graph and diffusion operator...\n",
      "  Calculating KNN search...\n",
      "  Calculated KNN search in 0.20 seconds.\n",
      "  Calculating affinities...\n"
     ]
    },
    {
     "name": "stderr",
     "output_type": "stream",
     "text": [
      "/mnt/data/venvs/thesis-impute/lib/python3.10/site-packages/graphtools/graphs.py:122: UserWarning: Building a kNNGraph on data of shape (239, 4000) is expensive. Consider setting n_pca.\n",
      "  warnings.warn(\n"
     ]
    },
    {
     "name": "stdout",
     "output_type": "stream",
     "text": [
      "  Calculated affinities in 0.16 seconds.\n",
      "Calculated graph and diffusion operator in 0.37 seconds.\n",
      "Calculating imputation...\n",
      "Calculating MAGIC...\n",
      "  Running MAGIC on 358 cells and 4000 genes.\n",
      "  Calculating graph and diffusion operator...\n",
      "    Calculating KNN search...\n"
     ]
    },
    {
     "name": "stderr",
     "output_type": "stream",
     "text": [
      "/mnt/data/venvs/thesis-impute/lib/python3.10/site-packages/magic/magic.py:541: UserWarning: Running MAGIC.transform on different data to that which was used for MAGIC.fit may not produce sensible output, unless it comes from the same manifold.\n",
      "  warnings.warn(\n",
      "/mnt/data/venvs/thesis-impute/lib/python3.10/site-packages/graphtools/graphs.py:122: UserWarning: Building a kNNGraph on data of shape (358, 4000) is expensive. Consider setting n_pca.\n",
      "  warnings.warn(\n"
     ]
    },
    {
     "name": "stdout",
     "output_type": "stream",
     "text": [
      "    Calculated KNN search in 0.37 seconds.\n",
      "    Calculating affinities...\n",
      "    Calculated affinities in 0.30 seconds.\n",
      "  Calculated graph and diffusion operator in 0.68 seconds.\n",
      "  Calculating imputation...\n",
      "  Calculated imputation in 0.05 seconds.\n",
      "Calculated MAGIC in 0.74 seconds.\n",
      "Calculating imputation...\n",
      "Calculating MAGIC...\n",
      "  Running MAGIC on 358 cells and 4000 genes.\n",
      "  Calculating graph and diffusion operator...\n",
      "    Calculating KNN search...\n"
     ]
    },
    {
     "name": "stderr",
     "output_type": "stream",
     "text": [
      "/mnt/data/venvs/thesis-impute/lib/python3.10/site-packages/magic/magic.py:541: UserWarning: Running MAGIC.transform on different data to that which was used for MAGIC.fit may not produce sensible output, unless it comes from the same manifold.\n",
      "  warnings.warn(\n",
      "/mnt/data/venvs/thesis-impute/lib/python3.10/site-packages/graphtools/graphs.py:122: UserWarning: Building a kNNGraph on data of shape (358, 4000) is expensive. Consider setting n_pca.\n",
      "  warnings.warn(\n"
     ]
    },
    {
     "name": "stdout",
     "output_type": "stream",
     "text": [
      "    Calculated KNN search in 0.34 seconds.\n",
      "    Calculating affinities...\n",
      "    Calculated affinities in 0.29 seconds.\n",
      "  Calculated graph and diffusion operator in 0.64 seconds.\n",
      "  Calculating imputation...\n",
      "  Calculated imputation in 0.03 seconds.\n",
      "Calculated MAGIC in 0.68 seconds.\n",
      "Calculating imputation...\n",
      "Calculating MAGIC...\n",
      "  Running MAGIC on 358 cells and 4000 genes.\n",
      "  Calculating graph and diffusion operator...\n",
      "    Calculating KNN search...\n"
     ]
    },
    {
     "name": "stderr",
     "output_type": "stream",
     "text": [
      "/mnt/data/venvs/thesis-impute/lib/python3.10/site-packages/magic/magic.py:541: UserWarning: Running MAGIC.transform on different data to that which was used for MAGIC.fit may not produce sensible output, unless it comes from the same manifold.\n",
      "  warnings.warn(\n",
      "/mnt/data/venvs/thesis-impute/lib/python3.10/site-packages/graphtools/graphs.py:122: UserWarning: Building a kNNGraph on data of shape (358, 4000) is expensive. Consider setting n_pca.\n",
      "  warnings.warn(\n"
     ]
    },
    {
     "name": "stdout",
     "output_type": "stream",
     "text": [
      "    Calculated KNN search in 0.36 seconds.\n",
      "    Calculating affinities...\n",
      "    Calculated affinities in 0.31 seconds.\n",
      "  Calculated graph and diffusion operator in 0.68 seconds.\n",
      "  Calculating imputation...\n",
      "  Calculated imputation in 0.02 seconds.\n",
      "Calculated MAGIC in 0.71 seconds.\n"
     ]
    },
    {
     "name": "stderr",
     "output_type": "stream",
     "text": [
      "/mnt/data/venvs/thesis-impute/lib/python3.10/site-packages/scanpy/preprocessing/_highly_variable_genes.py:75: UserWarning: `flavor='seurat_v3'` expects raw count data, but non-integers were found.\n",
      "  warnings.warn(\n",
      "/mnt/data/venvs/thesis-impute/lib/python3.10/site-packages/scanpy/preprocessing/_highly_variable_genes.py:75: UserWarning: `flavor='seurat_v3'` expects raw count data, but non-integers were found.\n",
      "  warnings.warn(\n",
      "/mnt/data/venvs/thesis-impute/lib/python3.10/site-packages/scanpy/preprocessing/_highly_variable_genes.py:75: UserWarning: `flavor='seurat_v3'` expects raw count data, but non-integers were found.\n",
      "  warnings.warn(\n",
      "/mnt/data/thesis_project/notebooks/../scripts/runner_baselines_sklearn.py:92: RuntimeWarning: divide by zero encountered in log1p\n",
      "  return (gammaln(x + r) - gammaln(r) - gammaln(x + 1.0) + r*np.log(p) + x*np.log1p(-p))\n",
      "/mnt/data/thesis_project/notebooks/../scripts/runner_baselines_sklearn.py:92: RuntimeWarning: invalid value encountered in multiply\n",
      "  return (gammaln(x + r) - gammaln(r) - gammaln(x + 1.0) + r*np.log(p) + x*np.log1p(-p))\n",
      "/mnt/data/thesis_project/notebooks/../scripts/runner_baselines_sklearn.py:92: RuntimeWarning: divide by zero encountered in log1p\n",
      "  return (gammaln(x + r) - gammaln(r) - gammaln(x + 1.0) + r*np.log(p) + x*np.log1p(-p))\n",
      "/mnt/data/thesis_project/notebooks/../scripts/runner_baselines_sklearn.py:92: RuntimeWarning: invalid value encountered in multiply\n",
      "  return (gammaln(x + r) - gammaln(r) - gammaln(x + 1.0) + r*np.log(p) + x*np.log1p(-p))\n",
      "/mnt/data/thesis_project/notebooks/../scripts/runner_baselines_sklearn.py:92: RuntimeWarning: divide by zero encountered in log1p\n",
      "  return (gammaln(x + r) - gammaln(r) - gammaln(x + 1.0) + r*np.log(p) + x*np.log1p(-p))\n",
      "/mnt/data/thesis_project/notebooks/../scripts/runner_baselines_sklearn.py:92: RuntimeWarning: invalid value encountered in multiply\n",
      "  return (gammaln(x + r) - gammaln(r) - gammaln(x + 1.0) + r*np.log(p) + x*np.log1p(-p))\n",
      "/mnt/data/thesis_project/notebooks/../scripts/runner_baselines_sklearn.py:92: RuntimeWarning: divide by zero encountered in log1p\n",
      "  return (gammaln(x + r) - gammaln(r) - gammaln(x + 1.0) + r*np.log(p) + x*np.log1p(-p))\n",
      "/mnt/data/thesis_project/notebooks/../scripts/runner_baselines_sklearn.py:92: RuntimeWarning: invalid value encountered in multiply\n",
      "  return (gammaln(x + r) - gammaln(r) - gammaln(x + 1.0) + r*np.log(p) + x*np.log1p(-p))\n",
      "/mnt/data/thesis_project/notebooks/../scripts/runner_baselines_sklearn.py:92: RuntimeWarning: divide by zero encountered in log1p\n",
      "  return (gammaln(x + r) - gammaln(r) - gammaln(x + 1.0) + r*np.log(p) + x*np.log1p(-p))\n",
      "/mnt/data/thesis_project/notebooks/../scripts/runner_baselines_sklearn.py:92: RuntimeWarning: invalid value encountered in multiply\n",
      "  return (gammaln(x + r) - gammaln(r) - gammaln(x + 1.0) + r*np.log(p) + x*np.log1p(-p))\n",
      "/mnt/data/thesis_project/notebooks/../scripts/runner_baselines_sklearn.py:92: RuntimeWarning: divide by zero encountered in log1p\n",
      "  return (gammaln(x + r) - gammaln(r) - gammaln(x + 1.0) + r*np.log(p) + x*np.log1p(-p))\n",
      "/mnt/data/thesis_project/notebooks/../scripts/runner_baselines_sklearn.py:92: RuntimeWarning: invalid value encountered in multiply\n",
      "  return (gammaln(x + r) - gammaln(r) - gammaln(x + 1.0) + r*np.log(p) + x*np.log1p(-p))\n",
      "/mnt/data/thesis_project/notebooks/../scripts/runner_baselines_sklearn.py:92: RuntimeWarning: divide by zero encountered in log1p\n",
      "  return (gammaln(x + r) - gammaln(r) - gammaln(x + 1.0) + r*np.log(p) + x*np.log1p(-p))\n",
      "/mnt/data/thesis_project/notebooks/../scripts/runner_baselines_sklearn.py:92: RuntimeWarning: invalid value encountered in multiply\n",
      "  return (gammaln(x + r) - gammaln(r) - gammaln(x + 1.0) + r*np.log(p) + x*np.log1p(-p))\n",
      "/mnt/data/thesis_project/notebooks/../scripts/runner_baselines_sklearn.py:92: RuntimeWarning: divide by zero encountered in log1p\n",
      "  return (gammaln(x + r) - gammaln(r) - gammaln(x + 1.0) + r*np.log(p) + x*np.log1p(-p))\n",
      "/mnt/data/thesis_project/notebooks/../scripts/runner_baselines_sklearn.py:92: RuntimeWarning: invalid value encountered in multiply\n",
      "  return (gammaln(x + r) - gammaln(r) - gammaln(x + 1.0) + r*np.log(p) + x*np.log1p(-p))\n",
      "/mnt/data/thesis_project/notebooks/../scripts/runner_baselines_sklearn.py:92: RuntimeWarning: divide by zero encountered in log1p\n",
      "  return (gammaln(x + r) - gammaln(r) - gammaln(x + 1.0) + r*np.log(p) + x*np.log1p(-p))\n",
      "/mnt/data/thesis_project/notebooks/../scripts/runner_baselines_sklearn.py:92: RuntimeWarning: invalid value encountered in multiply\n",
      "  return (gammaln(x + r) - gammaln(r) - gammaln(x + 1.0) + r*np.log(p) + x*np.log1p(-p))\n",
      "/mnt/data/thesis_project/notebooks/../scripts/runner_baselines_sklearn.py:92: RuntimeWarning: divide by zero encountered in log1p\n",
      "  return (gammaln(x + r) - gammaln(r) - gammaln(x + 1.0) + r*np.log(p) + x*np.log1p(-p))\n",
      "/mnt/data/thesis_project/notebooks/../scripts/runner_baselines_sklearn.py:92: RuntimeWarning: invalid value encountered in multiply\n",
      "  return (gammaln(x + r) - gammaln(r) - gammaln(x + 1.0) + r*np.log(p) + x*np.log1p(-p))\n",
      "/mnt/data/thesis_project/notebooks/../scripts/runner_baselines_sklearn.py:92: RuntimeWarning: divide by zero encountered in log1p\n",
      "  return (gammaln(x + r) - gammaln(r) - gammaln(x + 1.0) + r*np.log(p) + x*np.log1p(-p))\n",
      "/mnt/data/thesis_project/notebooks/../scripts/runner_baselines_sklearn.py:92: RuntimeWarning: invalid value encountered in multiply\n",
      "  return (gammaln(x + r) - gammaln(r) - gammaln(x + 1.0) + r*np.log(p) + x*np.log1p(-p))\n",
      "/mnt/data/thesis_project/notebooks/../scripts/runner_baselines_sklearn.py:92: RuntimeWarning: divide by zero encountered in log1p\n",
      "  return (gammaln(x + r) - gammaln(r) - gammaln(x + 1.0) + r*np.log(p) + x*np.log1p(-p))\n",
      "/mnt/data/thesis_project/notebooks/../scripts/runner_baselines_sklearn.py:92: RuntimeWarning: invalid value encountered in multiply\n",
      "  return (gammaln(x + r) - gammaln(r) - gammaln(x + 1.0) + r*np.log(p) + x*np.log1p(-p))\n",
      "/mnt/data/thesis_project/notebooks/../scripts/runner_baselines_sklearn.py:92: RuntimeWarning: divide by zero encountered in log1p\n",
      "  return (gammaln(x + r) - gammaln(r) - gammaln(x + 1.0) + r*np.log(p) + x*np.log1p(-p))\n",
      "/mnt/data/thesis_project/notebooks/../scripts/runner_baselines_sklearn.py:92: RuntimeWarning: invalid value encountered in multiply\n",
      "  return (gammaln(x + r) - gammaln(r) - gammaln(x + 1.0) + r*np.log(p) + x*np.log1p(-p))\n",
      "/mnt/data/thesis_project/notebooks/../scripts/runner_baselines_sklearn.py:92: RuntimeWarning: divide by zero encountered in log1p\n",
      "  return (gammaln(x + r) - gammaln(r) - gammaln(x + 1.0) + r*np.log(p) + x*np.log1p(-p))\n",
      "/mnt/data/thesis_project/notebooks/../scripts/runner_baselines_sklearn.py:92: RuntimeWarning: invalid value encountered in multiply\n",
      "  return (gammaln(x + r) - gammaln(r) - gammaln(x + 1.0) + r*np.log(p) + x*np.log1p(-p))\n",
      "/mnt/data/thesis_project/notebooks/../scripts/runner_baselines_sklearn.py:92: RuntimeWarning: divide by zero encountered in log1p\n",
      "  return (gammaln(x + r) - gammaln(r) - gammaln(x + 1.0) + r*np.log(p) + x*np.log1p(-p))\n",
      "/mnt/data/thesis_project/notebooks/../scripts/runner_baselines_sklearn.py:92: RuntimeWarning: invalid value encountered in multiply\n",
      "  return (gammaln(x + r) - gammaln(r) - gammaln(x + 1.0) + r*np.log(p) + x*np.log1p(-p))\n",
      "/mnt/data/thesis_project/notebooks/../scripts/runner_baselines_sklearn.py:92: RuntimeWarning: divide by zero encountered in log1p\n",
      "  return (gammaln(x + r) - gammaln(r) - gammaln(x + 1.0) + r*np.log(p) + x*np.log1p(-p))\n",
      "/mnt/data/thesis_project/notebooks/../scripts/runner_baselines_sklearn.py:92: RuntimeWarning: invalid value encountered in multiply\n",
      "  return (gammaln(x + r) - gammaln(r) - gammaln(x + 1.0) + r*np.log(p) + x*np.log1p(-p))\n",
      "/mnt/data/thesis_project/notebooks/../scripts/runner_baselines_sklearn.py:92: RuntimeWarning: divide by zero encountered in log1p\n",
      "  return (gammaln(x + r) - gammaln(r) - gammaln(x + 1.0) + r*np.log(p) + x*np.log1p(-p))\n",
      "/mnt/data/thesis_project/notebooks/../scripts/runner_baselines_sklearn.py:92: RuntimeWarning: invalid value encountered in multiply\n",
      "  return (gammaln(x + r) - gammaln(r) - gammaln(x + 1.0) + r*np.log(p) + x*np.log1p(-p))\n",
      "/mnt/data/thesis_project/notebooks/../scripts/runner_baselines_sklearn.py:92: RuntimeWarning: divide by zero encountered in log1p\n",
      "  return (gammaln(x + r) - gammaln(r) - gammaln(x + 1.0) + r*np.log(p) + x*np.log1p(-p))\n",
      "/mnt/data/thesis_project/notebooks/../scripts/runner_baselines_sklearn.py:92: RuntimeWarning: invalid value encountered in multiply\n",
      "  return (gammaln(x + r) - gammaln(r) - gammaln(x + 1.0) + r*np.log(p) + x*np.log1p(-p))\n",
      "/mnt/data/thesis_project/notebooks/../scripts/runner_baselines_sklearn.py:92: RuntimeWarning: divide by zero encountered in log1p\n",
      "  return (gammaln(x + r) - gammaln(r) - gammaln(x + 1.0) + r*np.log(p) + x*np.log1p(-p))\n",
      "/mnt/data/thesis_project/notebooks/../scripts/runner_baselines_sklearn.py:92: RuntimeWarning: invalid value encountered in multiply\n",
      "  return (gammaln(x + r) - gammaln(r) - gammaln(x + 1.0) + r*np.log(p) + x*np.log1p(-p))\n",
      "/mnt/data/thesis_project/notebooks/../scripts/runner_baselines_sklearn.py:92: RuntimeWarning: divide by zero encountered in log1p\n",
      "  return (gammaln(x + r) - gammaln(r) - gammaln(x + 1.0) + r*np.log(p) + x*np.log1p(-p))\n",
      "/mnt/data/thesis_project/notebooks/../scripts/runner_baselines_sklearn.py:92: RuntimeWarning: invalid value encountered in multiply\n",
      "  return (gammaln(x + r) - gammaln(r) - gammaln(x + 1.0) + r*np.log(p) + x*np.log1p(-p))\n",
      "/mnt/data/thesis_project/notebooks/../scripts/runner_baselines_sklearn.py:92: RuntimeWarning: divide by zero encountered in log1p\n",
      "  return (gammaln(x + r) - gammaln(r) - gammaln(x + 1.0) + r*np.log(p) + x*np.log1p(-p))\n",
      "/mnt/data/thesis_project/notebooks/../scripts/runner_baselines_sklearn.py:92: RuntimeWarning: invalid value encountered in multiply\n",
      "  return (gammaln(x + r) - gammaln(r) - gammaln(x + 1.0) + r*np.log(p) + x*np.log1p(-p))\n",
      "/mnt/data/thesis_project/notebooks/../scripts/runner_baselines_sklearn.py:92: RuntimeWarning: divide by zero encountered in log1p\n",
      "  return (gammaln(x + r) - gammaln(r) - gammaln(x + 1.0) + r*np.log(p) + x*np.log1p(-p))\n",
      "/mnt/data/thesis_project/notebooks/../scripts/runner_baselines_sklearn.py:92: RuntimeWarning: invalid value encountered in multiply\n",
      "  return (gammaln(x + r) - gammaln(r) - gammaln(x + 1.0) + r*np.log(p) + x*np.log1p(-p))\n",
      "/mnt/data/thesis_project/notebooks/../scripts/runner_baselines_sklearn.py:92: RuntimeWarning: divide by zero encountered in log1p\n",
      "  return (gammaln(x + r) - gammaln(r) - gammaln(x + 1.0) + r*np.log(p) + x*np.log1p(-p))\n",
      "/mnt/data/thesis_project/notebooks/../scripts/runner_baselines_sklearn.py:92: RuntimeWarning: invalid value encountered in multiply\n",
      "  return (gammaln(x + r) - gammaln(r) - gammaln(x + 1.0) + r*np.log(p) + x*np.log1p(-p))\n",
      "/mnt/data/thesis_project/notebooks/../scripts/runner_baselines_sklearn.py:92: RuntimeWarning: divide by zero encountered in log1p\n",
      "  return (gammaln(x + r) - gammaln(r) - gammaln(x + 1.0) + r*np.log(p) + x*np.log1p(-p))\n",
      "/mnt/data/thesis_project/notebooks/../scripts/runner_baselines_sklearn.py:92: RuntimeWarning: invalid value encountered in multiply\n",
      "  return (gammaln(x + r) - gammaln(r) - gammaln(x + 1.0) + r*np.log(p) + x*np.log1p(-p))\n",
      "/mnt/data/thesis_project/notebooks/../scripts/runner_baselines_sklearn.py:92: RuntimeWarning: divide by zero encountered in log1p\n",
      "  return (gammaln(x + r) - gammaln(r) - gammaln(x + 1.0) + r*np.log(p) + x*np.log1p(-p))\n",
      "/mnt/data/thesis_project/notebooks/../scripts/runner_baselines_sklearn.py:92: RuntimeWarning: invalid value encountered in multiply\n",
      "  return (gammaln(x + r) - gammaln(r) - gammaln(x + 1.0) + r*np.log(p) + x*np.log1p(-p))\n",
      "/mnt/data/thesis_project/notebooks/../scripts/runner_baselines_sklearn.py:92: RuntimeWarning: divide by zero encountered in log1p\n",
      "  return (gammaln(x + r) - gammaln(r) - gammaln(x + 1.0) + r*np.log(p) + x*np.log1p(-p))\n",
      "/mnt/data/thesis_project/notebooks/../scripts/runner_baselines_sklearn.py:92: RuntimeWarning: invalid value encountered in multiply\n",
      "  return (gammaln(x + r) - gammaln(r) - gammaln(x + 1.0) + r*np.log(p) + x*np.log1p(-p))\n",
      "/mnt/data/thesis_project/notebooks/../scripts/runner_baselines_sklearn.py:92: RuntimeWarning: divide by zero encountered in log1p\n",
      "  return (gammaln(x + r) - gammaln(r) - gammaln(x + 1.0) + r*np.log(p) + x*np.log1p(-p))\n",
      "/mnt/data/thesis_project/notebooks/../scripts/runner_baselines_sklearn.py:92: RuntimeWarning: invalid value encountered in multiply\n",
      "  return (gammaln(x + r) - gammaln(r) - gammaln(x + 1.0) + r*np.log(p) + x*np.log1p(-p))\n",
      "/mnt/data/thesis_project/notebooks/../scripts/runner_baselines_sklearn.py:92: RuntimeWarning: divide by zero encountered in log1p\n",
      "  return (gammaln(x + r) - gammaln(r) - gammaln(x + 1.0) + r*np.log(p) + x*np.log1p(-p))\n",
      "/mnt/data/thesis_project/notebooks/../scripts/runner_baselines_sklearn.py:92: RuntimeWarning: invalid value encountered in multiply\n",
      "  return (gammaln(x + r) - gammaln(r) - gammaln(x + 1.0) + r*np.log(p) + x*np.log1p(-p))\n",
      "/mnt/data/thesis_project/notebooks/../scripts/runner_baselines_sklearn.py:92: RuntimeWarning: divide by zero encountered in log1p\n",
      "  return (gammaln(x + r) - gammaln(r) - gammaln(x + 1.0) + r*np.log(p) + x*np.log1p(-p))\n",
      "/mnt/data/thesis_project/notebooks/../scripts/runner_baselines_sklearn.py:92: RuntimeWarning: invalid value encountered in multiply\n",
      "  return (gammaln(x + r) - gammaln(r) - gammaln(x + 1.0) + r*np.log(p) + x*np.log1p(-p))\n",
      "/mnt/data/thesis_project/notebooks/../scripts/runner_baselines_sklearn.py:92: RuntimeWarning: divide by zero encountered in log1p\n",
      "  return (gammaln(x + r) - gammaln(r) - gammaln(x + 1.0) + r*np.log(p) + x*np.log1p(-p))\n",
      "/mnt/data/thesis_project/notebooks/../scripts/runner_baselines_sklearn.py:92: RuntimeWarning: invalid value encountered in multiply\n",
      "  return (gammaln(x + r) - gammaln(r) - gammaln(x + 1.0) + r*np.log(p) + x*np.log1p(-p))\n",
      "/mnt/data/thesis_project/notebooks/../scripts/runner_baselines_sklearn.py:92: RuntimeWarning: divide by zero encountered in log1p\n",
      "  return (gammaln(x + r) - gammaln(r) - gammaln(x + 1.0) + r*np.log(p) + x*np.log1p(-p))\n",
      "/mnt/data/thesis_project/notebooks/../scripts/runner_baselines_sklearn.py:92: RuntimeWarning: invalid value encountered in multiply\n",
      "  return (gammaln(x + r) - gammaln(r) - gammaln(x + 1.0) + r*np.log(p) + x*np.log1p(-p))\n",
      "/mnt/data/thesis_project/notebooks/../scripts/runner_baselines_sklearn.py:92: RuntimeWarning: divide by zero encountered in log1p\n",
      "  return (gammaln(x + r) - gammaln(r) - gammaln(x + 1.0) + r*np.log(p) + x*np.log1p(-p))\n",
      "/mnt/data/thesis_project/notebooks/../scripts/runner_baselines_sklearn.py:92: RuntimeWarning: invalid value encountered in multiply\n",
      "  return (gammaln(x + r) - gammaln(r) - gammaln(x + 1.0) + r*np.log(p) + x*np.log1p(-p))\n"
     ]
    },
    {
     "name": "stdout",
     "output_type": "stream",
     "text": [
      "Running MAGIC on 239 cells and 1000 genes.\n",
      "Calculating graph and diffusion operator...\n",
      "  Calculating KNN search...\n",
      "  Calculated KNN search in 0.04 seconds.\n",
      "  Calculating affinities...\n",
      "  Calculated affinities in 0.04 seconds.\n",
      "Calculated graph and diffusion operator in 0.09 seconds.\n",
      "Calculating imputation...\n",
      "Calculating MAGIC...\n",
      "  Running MAGIC on 358 cells and 1000 genes.\n",
      "  Calculating graph and diffusion operator...\n",
      "    Calculating KNN search...\n"
     ]
    },
    {
     "name": "stderr",
     "output_type": "stream",
     "text": [
      "/mnt/data/thesis_project/notebooks/../scripts/runner_baselines_sklearn.py:92: RuntimeWarning: divide by zero encountered in log1p\n",
      "  return (gammaln(x + r) - gammaln(r) - gammaln(x + 1.0) + r*np.log(p) + x*np.log1p(-p))\n",
      "/mnt/data/thesis_project/notebooks/../scripts/runner_baselines_sklearn.py:92: RuntimeWarning: invalid value encountered in multiply\n",
      "  return (gammaln(x + r) - gammaln(r) - gammaln(x + 1.0) + r*np.log(p) + x*np.log1p(-p))\n",
      "/mnt/data/venvs/thesis-impute/lib/python3.10/site-packages/graphtools/graphs.py:122: UserWarning: Building a kNNGraph on data of shape (239, 1000) is expensive. Consider setting n_pca.\n",
      "  warnings.warn(\n",
      "/mnt/data/venvs/thesis-impute/lib/python3.10/site-packages/magic/magic.py:541: UserWarning: Running MAGIC.transform on different data to that which was used for MAGIC.fit may not produce sensible output, unless it comes from the same manifold.\n",
      "  warnings.warn(\n",
      "/mnt/data/venvs/thesis-impute/lib/python3.10/site-packages/graphtools/graphs.py:122: UserWarning: Building a kNNGraph on data of shape (358, 1000) is expensive. Consider setting n_pca.\n",
      "  warnings.warn(\n"
     ]
    },
    {
     "name": "stdout",
     "output_type": "stream",
     "text": [
      "    Calculated KNN search in 0.08 seconds.\n",
      "    Calculating affinities...\n",
      "    Calculated affinities in 0.07 seconds.\n",
      "  Calculated graph and diffusion operator in 0.16 seconds.\n",
      "  Calculating imputation...\n",
      "  Calculated imputation in 0.01 seconds.\n",
      "Calculated MAGIC in 0.18 seconds.\n",
      "Calculating imputation...\n",
      "Calculating MAGIC...\n",
      "  Running MAGIC on 358 cells and 1000 genes.\n",
      "  Calculating graph and diffusion operator...\n",
      "    Calculating KNN search...\n",
      "    Calculated KNN search in 0.08 seconds.\n",
      "    Calculating affinities...\n",
      "    Calculated affinities in 0.07 seconds.\n",
      "  Calculated graph and diffusion operator in 0.16 seconds.\n",
      "  Calculating imputation...\n",
      "Calculated MAGIC in 0.17 seconds.\n"
     ]
    },
    {
     "name": "stderr",
     "output_type": "stream",
     "text": [
      "/mnt/data/venvs/thesis-impute/lib/python3.10/site-packages/magic/magic.py:541: UserWarning: Running MAGIC.transform on different data to that which was used for MAGIC.fit may not produce sensible output, unless it comes from the same manifold.\n",
      "  warnings.warn(\n",
      "/mnt/data/venvs/thesis-impute/lib/python3.10/site-packages/graphtools/graphs.py:122: UserWarning: Building a kNNGraph on data of shape (358, 1000) is expensive. Consider setting n_pca.\n",
      "  warnings.warn(\n"
     ]
    },
    {
     "name": "stdout",
     "output_type": "stream",
     "text": [
      "Calculating imputation...\n",
      "Calculating MAGIC...\n",
      "  Running MAGIC on 358 cells and 1000 genes.\n",
      "  Calculating graph and diffusion operator...\n",
      "    Calculating KNN search...\n",
      "    Calculated KNN search in 0.09 seconds.\n",
      "    Calculating affinities...\n",
      "    Calculated affinities in 0.07 seconds.\n",
      "  Calculated graph and diffusion operator in 0.17 seconds.\n",
      "  Calculating imputation...\n",
      "  Calculated imputation in 0.01 seconds.\n",
      "Calculated MAGIC in 0.19 seconds.\n"
     ]
    },
    {
     "name": "stderr",
     "output_type": "stream",
     "text": [
      "/mnt/data/venvs/thesis-impute/lib/python3.10/site-packages/magic/magic.py:541: UserWarning: Running MAGIC.transform on different data to that which was used for MAGIC.fit may not produce sensible output, unless it comes from the same manifold.\n",
      "  warnings.warn(\n",
      "/mnt/data/venvs/thesis-impute/lib/python3.10/site-packages/graphtools/graphs.py:122: UserWarning: Building a kNNGraph on data of shape (358, 1000) is expensive. Consider setting n_pca.\n",
      "  warnings.warn(\n"
     ]
    },
    {
     "name": "stdout",
     "output_type": "stream",
     "text": [
      "Running MAGIC on 239 cells and 2000 genes.\n",
      "Calculating graph and diffusion operator...\n",
      "  Calculating KNN search...\n",
      "  Calculated KNN search in 0.09 seconds.\n",
      "  Calculating affinities...\n",
      "  Calculated affinities in 0.08 seconds.\n",
      "Calculated graph and diffusion operator in 0.18 seconds.\n"
     ]
    },
    {
     "name": "stderr",
     "output_type": "stream",
     "text": [
      "/mnt/data/venvs/thesis-impute/lib/python3.10/site-packages/graphtools/graphs.py:122: UserWarning: Building a kNNGraph on data of shape (239, 2000) is expensive. Consider setting n_pca.\n",
      "  warnings.warn(\n"
     ]
    },
    {
     "name": "stdout",
     "output_type": "stream",
     "text": [
      "Calculating imputation...\n",
      "Calculating MAGIC...\n",
      "  Running MAGIC on 358 cells and 2000 genes.\n",
      "  Calculating graph and diffusion operator...\n",
      "    Calculating KNN search...\n",
      "    Calculated KNN search in 0.17 seconds.\n",
      "    Calculating affinities...\n"
     ]
    },
    {
     "name": "stderr",
     "output_type": "stream",
     "text": [
      "/mnt/data/venvs/thesis-impute/lib/python3.10/site-packages/magic/magic.py:541: UserWarning: Running MAGIC.transform on different data to that which was used for MAGIC.fit may not produce sensible output, unless it comes from the same manifold.\n",
      "  warnings.warn(\n",
      "/mnt/data/venvs/thesis-impute/lib/python3.10/site-packages/graphtools/graphs.py:122: UserWarning: Building a kNNGraph on data of shape (358, 2000) is expensive. Consider setting n_pca.\n",
      "  warnings.warn(\n"
     ]
    },
    {
     "name": "stdout",
     "output_type": "stream",
     "text": [
      "    Calculated affinities in 0.15 seconds.\n",
      "  Calculated graph and diffusion operator in 0.33 seconds.\n",
      "  Calculating imputation...\n",
      "  Calculated imputation in 0.01 seconds.\n",
      "Calculated MAGIC in 0.35 seconds.\n",
      "Calculating imputation...\n",
      "Calculating MAGIC...\n",
      "  Running MAGIC on 358 cells and 2000 genes.\n",
      "  Calculating graph and diffusion operator...\n",
      "    Calculating KNN search...\n",
      "    Calculated KNN search in 0.17 seconds.\n",
      "    Calculating affinities...\n"
     ]
    },
    {
     "name": "stderr",
     "output_type": "stream",
     "text": [
      "/mnt/data/venvs/thesis-impute/lib/python3.10/site-packages/magic/magic.py:541: UserWarning: Running MAGIC.transform on different data to that which was used for MAGIC.fit may not produce sensible output, unless it comes from the same manifold.\n",
      "  warnings.warn(\n",
      "/mnt/data/venvs/thesis-impute/lib/python3.10/site-packages/graphtools/graphs.py:122: UserWarning: Building a kNNGraph on data of shape (358, 2000) is expensive. Consider setting n_pca.\n",
      "  warnings.warn(\n"
     ]
    },
    {
     "name": "stdout",
     "output_type": "stream",
     "text": [
      "    Calculated affinities in 0.14 seconds.\n",
      "  Calculated graph and diffusion operator in 0.33 seconds.\n",
      "  Calculating imputation...\n",
      "  Calculated imputation in 0.02 seconds.\n",
      "Calculated MAGIC in 0.35 seconds.\n",
      "Calculating imputation...\n",
      "Calculating MAGIC...\n",
      "  Running MAGIC on 358 cells and 2000 genes.\n",
      "  Calculating graph and diffusion operator...\n",
      "    Calculating KNN search...\n",
      "    Calculated KNN search in 0.18 seconds.\n",
      "    Calculating affinities...\n"
     ]
    },
    {
     "name": "stderr",
     "output_type": "stream",
     "text": [
      "/mnt/data/venvs/thesis-impute/lib/python3.10/site-packages/magic/magic.py:541: UserWarning: Running MAGIC.transform on different data to that which was used for MAGIC.fit may not produce sensible output, unless it comes from the same manifold.\n",
      "  warnings.warn(\n",
      "/mnt/data/venvs/thesis-impute/lib/python3.10/site-packages/graphtools/graphs.py:122: UserWarning: Building a kNNGraph on data of shape (358, 2000) is expensive. Consider setting n_pca.\n",
      "  warnings.warn(\n"
     ]
    },
    {
     "name": "stdout",
     "output_type": "stream",
     "text": [
      "    Calculated affinities in 0.14 seconds.\n",
      "  Calculated graph and diffusion operator in 0.33 seconds.\n",
      "  Calculating imputation...\n",
      "  Calculated imputation in 0.06 seconds.\n",
      "Calculated MAGIC in 0.40 seconds.\n",
      "Running MAGIC on 239 cells and 4000 genes.\n",
      "Calculating graph and diffusion operator...\n",
      "  Calculating KNN search...\n"
     ]
    },
    {
     "name": "stderr",
     "output_type": "stream",
     "text": [
      "/mnt/data/venvs/thesis-impute/lib/python3.10/site-packages/graphtools/graphs.py:122: UserWarning: Building a kNNGraph on data of shape (239, 4000) is expensive. Consider setting n_pca.\n",
      "  warnings.warn(\n"
     ]
    },
    {
     "name": "stdout",
     "output_type": "stream",
     "text": [
      "  Calculated KNN search in 0.20 seconds.\n",
      "  Calculating affinities...\n",
      "  Calculated affinities in 0.17 seconds.\n",
      "Calculated graph and diffusion operator in 0.38 seconds.\n",
      "Calculating imputation...\n",
      "Calculating MAGIC...\n",
      "  Running MAGIC on 358 cells and 4000 genes.\n",
      "  Calculating graph and diffusion operator...\n",
      "    Calculating KNN search...\n"
     ]
    },
    {
     "name": "stderr",
     "output_type": "stream",
     "text": [
      "/mnt/data/venvs/thesis-impute/lib/python3.10/site-packages/magic/magic.py:541: UserWarning: Running MAGIC.transform on different data to that which was used for MAGIC.fit may not produce sensible output, unless it comes from the same manifold.\n",
      "  warnings.warn(\n",
      "/mnt/data/venvs/thesis-impute/lib/python3.10/site-packages/graphtools/graphs.py:122: UserWarning: Building a kNNGraph on data of shape (358, 4000) is expensive. Consider setting n_pca.\n",
      "  warnings.warn(\n"
     ]
    },
    {
     "name": "stdout",
     "output_type": "stream",
     "text": [
      "    Calculated KNN search in 0.39 seconds.\n",
      "    Calculating affinities...\n",
      "    Calculated affinities in 0.32 seconds.\n",
      "  Calculated graph and diffusion operator in 0.72 seconds.\n",
      "  Calculating imputation...\n",
      "  Calculated imputation in 0.02 seconds.\n",
      "Calculated MAGIC in 0.75 seconds.\n",
      "Calculating imputation...\n",
      "Calculated imputation in 0.01 seconds.\n",
      "Calculating MAGIC...\n",
      "  Running MAGIC on 358 cells and 4000 genes.\n",
      "  Calculating graph and diffusion operator...\n",
      "    Calculating KNN search...\n"
     ]
    },
    {
     "name": "stderr",
     "output_type": "stream",
     "text": [
      "/mnt/data/venvs/thesis-impute/lib/python3.10/site-packages/magic/magic.py:541: UserWarning: Running MAGIC.transform on different data to that which was used for MAGIC.fit may not produce sensible output, unless it comes from the same manifold.\n",
      "  warnings.warn(\n",
      "/mnt/data/venvs/thesis-impute/lib/python3.10/site-packages/graphtools/graphs.py:122: UserWarning: Building a kNNGraph on data of shape (358, 4000) is expensive. Consider setting n_pca.\n",
      "  warnings.warn(\n"
     ]
    },
    {
     "name": "stdout",
     "output_type": "stream",
     "text": [
      "    Calculated KNN search in 0.38 seconds.\n",
      "    Calculating affinities...\n",
      "    Calculated affinities in 0.32 seconds.\n",
      "  Calculated graph and diffusion operator in 0.71 seconds.\n",
      "  Calculating imputation...\n",
      "  Calculated imputation in 0.02 seconds.\n",
      "Calculated MAGIC in 0.74 seconds.\n",
      "Calculating imputation...\n",
      "Calculating MAGIC...\n",
      "  Running MAGIC on 358 cells and 4000 genes.\n",
      "  Calculating graph and diffusion operator...\n",
      "    Calculating KNN search...\n"
     ]
    },
    {
     "name": "stderr",
     "output_type": "stream",
     "text": [
      "/mnt/data/venvs/thesis-impute/lib/python3.10/site-packages/magic/magic.py:541: UserWarning: Running MAGIC.transform on different data to that which was used for MAGIC.fit may not produce sensible output, unless it comes from the same manifold.\n",
      "  warnings.warn(\n",
      "/mnt/data/venvs/thesis-impute/lib/python3.10/site-packages/graphtools/graphs.py:122: UserWarning: Building a kNNGraph on data of shape (358, 4000) is expensive. Consider setting n_pca.\n",
      "  warnings.warn(\n"
     ]
    },
    {
     "name": "stdout",
     "output_type": "stream",
     "text": [
      "    Calculated KNN search in 0.37 seconds.\n",
      "    Calculating affinities...\n",
      "    Calculated affinities in 0.32 seconds.\n",
      "  Calculated graph and diffusion operator in 0.70 seconds.\n",
      "  Calculating imputation...\n",
      "  Calculated imputation in 0.03 seconds.\n",
      "Calculated MAGIC in 0.73 seconds.\n"
     ]
    },
    {
     "name": "stderr",
     "output_type": "stream",
     "text": [
      "/mnt/data/venvs/thesis-impute/lib/python3.10/site-packages/scanpy/preprocessing/_highly_variable_genes.py:75: UserWarning: `flavor='seurat_v3'` expects raw count data, but non-integers were found.\n",
      "  warnings.warn(\n",
      "/mnt/data/venvs/thesis-impute/lib/python3.10/site-packages/scanpy/preprocessing/_highly_variable_genes.py:75: UserWarning: `flavor='seurat_v3'` expects raw count data, but non-integers were found.\n",
      "  warnings.warn(\n"
     ]
    },
    {
     "name": "stdout",
     "output_type": "stream",
     "text": [
      "Running MAGIC on 358 cells and 1000 genes.\n",
      "Calculating graph and diffusion operator...\n",
      "  Calculating KNN search...\n",
      "  Calculated KNN search in 0.08 seconds.\n",
      "  Calculating affinities...\n",
      "  Calculated affinities in 0.07 seconds.\n",
      "Calculated graph and diffusion operator in 0.15 seconds.\n",
      "Calculating imputation...\n",
      "Calculated imputation in 0.01 seconds.\n",
      "Calculating MAGIC...\n",
      "  Running MAGIC on 447 cells and 1000 genes.\n",
      "  Calculating graph and diffusion operator...\n",
      "    Calculating KNN search...\n"
     ]
    },
    {
     "name": "stderr",
     "output_type": "stream",
     "text": [
      "/mnt/data/venvs/thesis-impute/lib/python3.10/site-packages/graphtools/graphs.py:122: UserWarning: Building a kNNGraph on data of shape (358, 1000) is expensive. Consider setting n_pca.\n",
      "  warnings.warn(\n",
      "/mnt/data/venvs/thesis-impute/lib/python3.10/site-packages/magic/magic.py:541: UserWarning: Running MAGIC.transform on different data to that which was used for MAGIC.fit may not produce sensible output, unless it comes from the same manifold.\n",
      "  warnings.warn(\n",
      "/mnt/data/venvs/thesis-impute/lib/python3.10/site-packages/graphtools/graphs.py:122: UserWarning: Building a kNNGraph on data of shape (447, 1000) is expensive. Consider setting n_pca.\n",
      "  warnings.warn(\n"
     ]
    },
    {
     "name": "stdout",
     "output_type": "stream",
     "text": [
      "    Calculated KNN search in 0.12 seconds.\n",
      "    Calculating affinities...\n",
      "    Calculated affinities in 0.11 seconds.\n",
      "  Calculated graph and diffusion operator in 0.24 seconds.\n",
      "  Calculating imputation...\n",
      "  Calculated imputation in 0.01 seconds.\n",
      "Calculated MAGIC in 0.26 seconds.\n",
      "Calculating imputation...\n",
      "Calculating MAGIC...\n",
      "  Running MAGIC on 447 cells and 1000 genes.\n",
      "  Calculating graph and diffusion operator...\n",
      "    Calculating KNN search...\n",
      "    Calculated KNN search in 0.12 seconds.\n",
      "    Calculating affinities...\n"
     ]
    },
    {
     "name": "stderr",
     "output_type": "stream",
     "text": [
      "/mnt/data/venvs/thesis-impute/lib/python3.10/site-packages/magic/magic.py:541: UserWarning: Running MAGIC.transform on different data to that which was used for MAGIC.fit may not produce sensible output, unless it comes from the same manifold.\n",
      "  warnings.warn(\n",
      "/mnt/data/venvs/thesis-impute/lib/python3.10/site-packages/graphtools/graphs.py:122: UserWarning: Building a kNNGraph on data of shape (447, 1000) is expensive. Consider setting n_pca.\n",
      "  warnings.warn(\n"
     ]
    },
    {
     "name": "stdout",
     "output_type": "stream",
     "text": [
      "    Calculated affinities in 0.11 seconds.\n",
      "  Calculated graph and diffusion operator in 0.24 seconds.\n",
      "  Calculating imputation...\n",
      "  Calculated imputation in 0.01 seconds.\n",
      "Calculated MAGIC in 0.26 seconds.\n",
      "Calculating imputation...\n",
      "Calculating MAGIC...\n",
      "  Running MAGIC on 447 cells and 1000 genes.\n",
      "  Calculating graph and diffusion operator...\n",
      "    Calculating KNN search...\n",
      "    Calculated KNN search in 0.12 seconds.\n",
      "    Calculating affinities...\n"
     ]
    },
    {
     "name": "stderr",
     "output_type": "stream",
     "text": [
      "/mnt/data/venvs/thesis-impute/lib/python3.10/site-packages/magic/magic.py:541: UserWarning: Running MAGIC.transform on different data to that which was used for MAGIC.fit may not produce sensible output, unless it comes from the same manifold.\n",
      "  warnings.warn(\n",
      "/mnt/data/venvs/thesis-impute/lib/python3.10/site-packages/graphtools/graphs.py:122: UserWarning: Building a kNNGraph on data of shape (447, 1000) is expensive. Consider setting n_pca.\n",
      "  warnings.warn(\n"
     ]
    },
    {
     "name": "stdout",
     "output_type": "stream",
     "text": [
      "    Calculated affinities in 0.10 seconds.\n",
      "  Calculated graph and diffusion operator in 0.23 seconds.\n",
      "  Calculating imputation...\n",
      "  Calculated imputation in 0.02 seconds.\n",
      "Calculated MAGIC in 0.26 seconds.\n"
     ]
    },
    {
     "name": "stderr",
     "output_type": "stream",
     "text": [
      "/mnt/data/venvs/thesis-impute/lib/python3.10/site-packages/scanpy/preprocessing/_highly_variable_genes.py:75: UserWarning: `flavor='seurat_v3'` expects raw count data, but non-integers were found.\n",
      "  warnings.warn(\n",
      "/mnt/data/venvs/thesis-impute/lib/python3.10/site-packages/scanpy/preprocessing/_highly_variable_genes.py:75: UserWarning: `flavor='seurat_v3'` expects raw count data, but non-integers were found.\n",
      "  warnings.warn(\n",
      "/mnt/data/venvs/thesis-impute/lib/python3.10/site-packages/scanpy/preprocessing/_highly_variable_genes.py:75: UserWarning: `flavor='seurat_v3'` expects raw count data, but non-integers were found.\n",
      "  warnings.warn(\n",
      "/mnt/data/venvs/thesis-impute/lib/python3.10/site-packages/scanpy/preprocessing/_highly_variable_genes.py:75: UserWarning: `flavor='seurat_v3'` expects raw count data, but non-integers were found.\n",
      "  warnings.warn(\n",
      "/mnt/data/venvs/thesis-impute/lib/python3.10/site-packages/scanpy/preprocessing/_highly_variable_genes.py:75: UserWarning: `flavor='seurat_v3'` expects raw count data, but non-integers were found.\n",
      "  warnings.warn(\n",
      "/mnt/data/thesis_project/notebooks/../scripts/runner_baselines_sklearn.py:92: RuntimeWarning: divide by zero encountered in log1p\n",
      "  return (gammaln(x + r) - gammaln(r) - gammaln(x + 1.0) + r*np.log(p) + x*np.log1p(-p))\n",
      "/mnt/data/thesis_project/notebooks/../scripts/runner_baselines_sklearn.py:92: RuntimeWarning: invalid value encountered in multiply\n",
      "  return (gammaln(x + r) - gammaln(r) - gammaln(x + 1.0) + r*np.log(p) + x*np.log1p(-p))\n",
      "/mnt/data/thesis_project/notebooks/../scripts/runner_baselines_sklearn.py:92: RuntimeWarning: divide by zero encountered in log1p\n",
      "  return (gammaln(x + r) - gammaln(r) - gammaln(x + 1.0) + r*np.log(p) + x*np.log1p(-p))\n",
      "/mnt/data/thesis_project/notebooks/../scripts/runner_baselines_sklearn.py:92: RuntimeWarning: invalid value encountered in multiply\n",
      "  return (gammaln(x + r) - gammaln(r) - gammaln(x + 1.0) + r*np.log(p) + x*np.log1p(-p))\n",
      "/mnt/data/thesis_project/notebooks/../scripts/runner_baselines_sklearn.py:92: RuntimeWarning: divide by zero encountered in log1p\n",
      "  return (gammaln(x + r) - gammaln(r) - gammaln(x + 1.0) + r*np.log(p) + x*np.log1p(-p))\n",
      "/mnt/data/thesis_project/notebooks/../scripts/runner_baselines_sklearn.py:92: RuntimeWarning: invalid value encountered in multiply\n",
      "  return (gammaln(x + r) - gammaln(r) - gammaln(x + 1.0) + r*np.log(p) + x*np.log1p(-p))\n",
      "/mnt/data/thesis_project/notebooks/../scripts/runner_baselines_sklearn.py:92: RuntimeWarning: divide by zero encountered in log1p\n",
      "  return (gammaln(x + r) - gammaln(r) - gammaln(x + 1.0) + r*np.log(p) + x*np.log1p(-p))\n",
      "/mnt/data/thesis_project/notebooks/../scripts/runner_baselines_sklearn.py:92: RuntimeWarning: invalid value encountered in multiply\n",
      "  return (gammaln(x + r) - gammaln(r) - gammaln(x + 1.0) + r*np.log(p) + x*np.log1p(-p))\n",
      "/mnt/data/thesis_project/notebooks/../scripts/runner_baselines_sklearn.py:92: RuntimeWarning: divide by zero encountered in log1p\n",
      "  return (gammaln(x + r) - gammaln(r) - gammaln(x + 1.0) + r*np.log(p) + x*np.log1p(-p))\n",
      "/mnt/data/thesis_project/notebooks/../scripts/runner_baselines_sklearn.py:92: RuntimeWarning: invalid value encountered in multiply\n",
      "  return (gammaln(x + r) - gammaln(r) - gammaln(x + 1.0) + r*np.log(p) + x*np.log1p(-p))\n",
      "/mnt/data/thesis_project/notebooks/../scripts/runner_baselines_sklearn.py:92: RuntimeWarning: divide by zero encountered in log1p\n",
      "  return (gammaln(x + r) - gammaln(r) - gammaln(x + 1.0) + r*np.log(p) + x*np.log1p(-p))\n",
      "/mnt/data/thesis_project/notebooks/../scripts/runner_baselines_sklearn.py:92: RuntimeWarning: invalid value encountered in multiply\n",
      "  return (gammaln(x + r) - gammaln(r) - gammaln(x + 1.0) + r*np.log(p) + x*np.log1p(-p))\n",
      "/mnt/data/thesis_project/notebooks/../scripts/runner_baselines_sklearn.py:92: RuntimeWarning: divide by zero encountered in log1p\n",
      "  return (gammaln(x + r) - gammaln(r) - gammaln(x + 1.0) + r*np.log(p) + x*np.log1p(-p))\n",
      "/mnt/data/thesis_project/notebooks/../scripts/runner_baselines_sklearn.py:92: RuntimeWarning: invalid value encountered in multiply\n",
      "  return (gammaln(x + r) - gammaln(r) - gammaln(x + 1.0) + r*np.log(p) + x*np.log1p(-p))\n",
      "/mnt/data/thesis_project/notebooks/../scripts/runner_baselines_sklearn.py:92: RuntimeWarning: divide by zero encountered in log1p\n",
      "  return (gammaln(x + r) - gammaln(r) - gammaln(x + 1.0) + r*np.log(p) + x*np.log1p(-p))\n",
      "/mnt/data/thesis_project/notebooks/../scripts/runner_baselines_sklearn.py:92: RuntimeWarning: invalid value encountered in multiply\n",
      "  return (gammaln(x + r) - gammaln(r) - gammaln(x + 1.0) + r*np.log(p) + x*np.log1p(-p))\n",
      "/mnt/data/thesis_project/notebooks/../scripts/runner_baselines_sklearn.py:92: RuntimeWarning: divide by zero encountered in log1p\n",
      "  return (gammaln(x + r) - gammaln(r) - gammaln(x + 1.0) + r*np.log(p) + x*np.log1p(-p))\n",
      "/mnt/data/thesis_project/notebooks/../scripts/runner_baselines_sklearn.py:92: RuntimeWarning: invalid value encountered in multiply\n",
      "  return (gammaln(x + r) - gammaln(r) - gammaln(x + 1.0) + r*np.log(p) + x*np.log1p(-p))\n",
      "/mnt/data/thesis_project/notebooks/../scripts/runner_baselines_sklearn.py:92: RuntimeWarning: divide by zero encountered in log1p\n",
      "  return (gammaln(x + r) - gammaln(r) - gammaln(x + 1.0) + r*np.log(p) + x*np.log1p(-p))\n",
      "/mnt/data/thesis_project/notebooks/../scripts/runner_baselines_sklearn.py:92: RuntimeWarning: invalid value encountered in multiply\n",
      "  return (gammaln(x + r) - gammaln(r) - gammaln(x + 1.0) + r*np.log(p) + x*np.log1p(-p))\n",
      "/mnt/data/thesis_project/notebooks/../scripts/runner_baselines_sklearn.py:92: RuntimeWarning: divide by zero encountered in log1p\n",
      "  return (gammaln(x + r) - gammaln(r) - gammaln(x + 1.0) + r*np.log(p) + x*np.log1p(-p))\n",
      "/mnt/data/thesis_project/notebooks/../scripts/runner_baselines_sklearn.py:92: RuntimeWarning: invalid value encountered in multiply\n",
      "  return (gammaln(x + r) - gammaln(r) - gammaln(x + 1.0) + r*np.log(p) + x*np.log1p(-p))\n",
      "/mnt/data/thesis_project/notebooks/../scripts/runner_baselines_sklearn.py:92: RuntimeWarning: divide by zero encountered in log1p\n",
      "  return (gammaln(x + r) - gammaln(r) - gammaln(x + 1.0) + r*np.log(p) + x*np.log1p(-p))\n",
      "/mnt/data/thesis_project/notebooks/../scripts/runner_baselines_sklearn.py:92: RuntimeWarning: invalid value encountered in multiply\n",
      "  return (gammaln(x + r) - gammaln(r) - gammaln(x + 1.0) + r*np.log(p) + x*np.log1p(-p))\n",
      "/mnt/data/thesis_project/notebooks/../scripts/runner_baselines_sklearn.py:92: RuntimeWarning: divide by zero encountered in log1p\n",
      "  return (gammaln(x + r) - gammaln(r) - gammaln(x + 1.0) + r*np.log(p) + x*np.log1p(-p))\n",
      "/mnt/data/thesis_project/notebooks/../scripts/runner_baselines_sklearn.py:92: RuntimeWarning: invalid value encountered in multiply\n",
      "  return (gammaln(x + r) - gammaln(r) - gammaln(x + 1.0) + r*np.log(p) + x*np.log1p(-p))\n",
      "/mnt/data/thesis_project/notebooks/../scripts/runner_baselines_sklearn.py:92: RuntimeWarning: divide by zero encountered in log1p\n",
      "  return (gammaln(x + r) - gammaln(r) - gammaln(x + 1.0) + r*np.log(p) + x*np.log1p(-p))\n",
      "/mnt/data/thesis_project/notebooks/../scripts/runner_baselines_sklearn.py:92: RuntimeWarning: invalid value encountered in multiply\n",
      "  return (gammaln(x + r) - gammaln(r) - gammaln(x + 1.0) + r*np.log(p) + x*np.log1p(-p))\n",
      "/mnt/data/thesis_project/notebooks/../scripts/runner_baselines_sklearn.py:92: RuntimeWarning: divide by zero encountered in log1p\n",
      "  return (gammaln(x + r) - gammaln(r) - gammaln(x + 1.0) + r*np.log(p) + x*np.log1p(-p))\n",
      "/mnt/data/thesis_project/notebooks/../scripts/runner_baselines_sklearn.py:92: RuntimeWarning: invalid value encountered in multiply\n",
      "  return (gammaln(x + r) - gammaln(r) - gammaln(x + 1.0) + r*np.log(p) + x*np.log1p(-p))\n",
      "/mnt/data/thesis_project/notebooks/../scripts/runner_baselines_sklearn.py:92: RuntimeWarning: divide by zero encountered in log1p\n",
      "  return (gammaln(x + r) - gammaln(r) - gammaln(x + 1.0) + r*np.log(p) + x*np.log1p(-p))\n",
      "/mnt/data/thesis_project/notebooks/../scripts/runner_baselines_sklearn.py:92: RuntimeWarning: invalid value encountered in multiply\n",
      "  return (gammaln(x + r) - gammaln(r) - gammaln(x + 1.0) + r*np.log(p) + x*np.log1p(-p))\n",
      "/mnt/data/thesis_project/notebooks/../scripts/runner_baselines_sklearn.py:92: RuntimeWarning: divide by zero encountered in log1p\n",
      "  return (gammaln(x + r) - gammaln(r) - gammaln(x + 1.0) + r*np.log(p) + x*np.log1p(-p))\n",
      "/mnt/data/thesis_project/notebooks/../scripts/runner_baselines_sklearn.py:92: RuntimeWarning: invalid value encountered in multiply\n",
      "  return (gammaln(x + r) - gammaln(r) - gammaln(x + 1.0) + r*np.log(p) + x*np.log1p(-p))\n",
      "/mnt/data/thesis_project/notebooks/../scripts/runner_baselines_sklearn.py:92: RuntimeWarning: divide by zero encountered in log1p\n",
      "  return (gammaln(x + r) - gammaln(r) - gammaln(x + 1.0) + r*np.log(p) + x*np.log1p(-p))\n",
      "/mnt/data/thesis_project/notebooks/../scripts/runner_baselines_sklearn.py:92: RuntimeWarning: invalid value encountered in multiply\n",
      "  return (gammaln(x + r) - gammaln(r) - gammaln(x + 1.0) + r*np.log(p) + x*np.log1p(-p))\n",
      "/mnt/data/thesis_project/notebooks/../scripts/runner_baselines_sklearn.py:92: RuntimeWarning: divide by zero encountered in log1p\n",
      "  return (gammaln(x + r) - gammaln(r) - gammaln(x + 1.0) + r*np.log(p) + x*np.log1p(-p))\n",
      "/mnt/data/thesis_project/notebooks/../scripts/runner_baselines_sklearn.py:92: RuntimeWarning: invalid value encountered in multiply\n",
      "  return (gammaln(x + r) - gammaln(r) - gammaln(x + 1.0) + r*np.log(p) + x*np.log1p(-p))\n",
      "/mnt/data/thesis_project/notebooks/../scripts/runner_baselines_sklearn.py:92: RuntimeWarning: divide by zero encountered in log1p\n",
      "  return (gammaln(x + r) - gammaln(r) - gammaln(x + 1.0) + r*np.log(p) + x*np.log1p(-p))\n",
      "/mnt/data/thesis_project/notebooks/../scripts/runner_baselines_sklearn.py:92: RuntimeWarning: invalid value encountered in multiply\n",
      "  return (gammaln(x + r) - gammaln(r) - gammaln(x + 1.0) + r*np.log(p) + x*np.log1p(-p))\n",
      "/mnt/data/thesis_project/notebooks/../scripts/runner_baselines_sklearn.py:92: RuntimeWarning: divide by zero encountered in log1p\n",
      "  return (gammaln(x + r) - gammaln(r) - gammaln(x + 1.0) + r*np.log(p) + x*np.log1p(-p))\n",
      "/mnt/data/thesis_project/notebooks/../scripts/runner_baselines_sklearn.py:92: RuntimeWarning: invalid value encountered in multiply\n",
      "  return (gammaln(x + r) - gammaln(r) - gammaln(x + 1.0) + r*np.log(p) + x*np.log1p(-p))\n",
      "/mnt/data/thesis_project/notebooks/../scripts/runner_baselines_sklearn.py:92: RuntimeWarning: divide by zero encountered in log1p\n",
      "  return (gammaln(x + r) - gammaln(r) - gammaln(x + 1.0) + r*np.log(p) + x*np.log1p(-p))\n",
      "/mnt/data/thesis_project/notebooks/../scripts/runner_baselines_sklearn.py:92: RuntimeWarning: invalid value encountered in multiply\n",
      "  return (gammaln(x + r) - gammaln(r) - gammaln(x + 1.0) + r*np.log(p) + x*np.log1p(-p))\n",
      "/mnt/data/thesis_project/notebooks/../scripts/runner_baselines_sklearn.py:92: RuntimeWarning: divide by zero encountered in log1p\n",
      "  return (gammaln(x + r) - gammaln(r) - gammaln(x + 1.0) + r*np.log(p) + x*np.log1p(-p))\n",
      "/mnt/data/thesis_project/notebooks/../scripts/runner_baselines_sklearn.py:92: RuntimeWarning: invalid value encountered in multiply\n",
      "  return (gammaln(x + r) - gammaln(r) - gammaln(x + 1.0) + r*np.log(p) + x*np.log1p(-p))\n",
      "/mnt/data/thesis_project/notebooks/../scripts/runner_baselines_sklearn.py:92: RuntimeWarning: divide by zero encountered in log1p\n",
      "  return (gammaln(x + r) - gammaln(r) - gammaln(x + 1.0) + r*np.log(p) + x*np.log1p(-p))\n",
      "/mnt/data/thesis_project/notebooks/../scripts/runner_baselines_sklearn.py:92: RuntimeWarning: invalid value encountered in multiply\n",
      "  return (gammaln(x + r) - gammaln(r) - gammaln(x + 1.0) + r*np.log(p) + x*np.log1p(-p))\n",
      "/mnt/data/thesis_project/notebooks/../scripts/runner_baselines_sklearn.py:92: RuntimeWarning: divide by zero encountered in log1p\n",
      "  return (gammaln(x + r) - gammaln(r) - gammaln(x + 1.0) + r*np.log(p) + x*np.log1p(-p))\n",
      "/mnt/data/thesis_project/notebooks/../scripts/runner_baselines_sklearn.py:92: RuntimeWarning: invalid value encountered in multiply\n",
      "  return (gammaln(x + r) - gammaln(r) - gammaln(x + 1.0) + r*np.log(p) + x*np.log1p(-p))\n",
      "/mnt/data/thesis_project/notebooks/../scripts/runner_baselines_sklearn.py:92: RuntimeWarning: divide by zero encountered in log1p\n",
      "  return (gammaln(x + r) - gammaln(r) - gammaln(x + 1.0) + r*np.log(p) + x*np.log1p(-p))\n",
      "/mnt/data/thesis_project/notebooks/../scripts/runner_baselines_sklearn.py:92: RuntimeWarning: invalid value encountered in multiply\n",
      "  return (gammaln(x + r) - gammaln(r) - gammaln(x + 1.0) + r*np.log(p) + x*np.log1p(-p))\n",
      "/mnt/data/thesis_project/notebooks/../scripts/runner_baselines_sklearn.py:92: RuntimeWarning: divide by zero encountered in log1p\n",
      "  return (gammaln(x + r) - gammaln(r) - gammaln(x + 1.0) + r*np.log(p) + x*np.log1p(-p))\n",
      "/mnt/data/thesis_project/notebooks/../scripts/runner_baselines_sklearn.py:92: RuntimeWarning: invalid value encountered in multiply\n",
      "  return (gammaln(x + r) - gammaln(r) - gammaln(x + 1.0) + r*np.log(p) + x*np.log1p(-p))\n",
      "/mnt/data/thesis_project/notebooks/../scripts/runner_baselines_sklearn.py:92: RuntimeWarning: divide by zero encountered in log1p\n",
      "  return (gammaln(x + r) - gammaln(r) - gammaln(x + 1.0) + r*np.log(p) + x*np.log1p(-p))\n",
      "/mnt/data/thesis_project/notebooks/../scripts/runner_baselines_sklearn.py:92: RuntimeWarning: invalid value encountered in multiply\n",
      "  return (gammaln(x + r) - gammaln(r) - gammaln(x + 1.0) + r*np.log(p) + x*np.log1p(-p))\n",
      "/mnt/data/thesis_project/notebooks/../scripts/runner_baselines_sklearn.py:92: RuntimeWarning: divide by zero encountered in log1p\n",
      "  return (gammaln(x + r) - gammaln(r) - gammaln(x + 1.0) + r*np.log(p) + x*np.log1p(-p))\n",
      "/mnt/data/thesis_project/notebooks/../scripts/runner_baselines_sklearn.py:92: RuntimeWarning: invalid value encountered in multiply\n",
      "  return (gammaln(x + r) - gammaln(r) - gammaln(x + 1.0) + r*np.log(p) + x*np.log1p(-p))\n",
      "/mnt/data/thesis_project/notebooks/../scripts/runner_baselines_sklearn.py:92: RuntimeWarning: divide by zero encountered in log1p\n",
      "  return (gammaln(x + r) - gammaln(r) - gammaln(x + 1.0) + r*np.log(p) + x*np.log1p(-p))\n",
      "/mnt/data/thesis_project/notebooks/../scripts/runner_baselines_sklearn.py:92: RuntimeWarning: invalid value encountered in multiply\n",
      "  return (gammaln(x + r) - gammaln(r) - gammaln(x + 1.0) + r*np.log(p) + x*np.log1p(-p))\n",
      "/mnt/data/thesis_project/notebooks/../scripts/runner_baselines_sklearn.py:92: RuntimeWarning: divide by zero encountered in log1p\n",
      "  return (gammaln(x + r) - gammaln(r) - gammaln(x + 1.0) + r*np.log(p) + x*np.log1p(-p))\n",
      "/mnt/data/thesis_project/notebooks/../scripts/runner_baselines_sklearn.py:92: RuntimeWarning: invalid value encountered in multiply\n",
      "  return (gammaln(x + r) - gammaln(r) - gammaln(x + 1.0) + r*np.log(p) + x*np.log1p(-p))\n",
      "/mnt/data/thesis_project/notebooks/../scripts/runner_baselines_sklearn.py:92: RuntimeWarning: divide by zero encountered in log1p\n",
      "  return (gammaln(x + r) - gammaln(r) - gammaln(x + 1.0) + r*np.log(p) + x*np.log1p(-p))\n",
      "/mnt/data/thesis_project/notebooks/../scripts/runner_baselines_sklearn.py:92: RuntimeWarning: invalid value encountered in multiply\n",
      "  return (gammaln(x + r) - gammaln(r) - gammaln(x + 1.0) + r*np.log(p) + x*np.log1p(-p))\n",
      "/mnt/data/thesis_project/notebooks/../scripts/runner_baselines_sklearn.py:92: RuntimeWarning: divide by zero encountered in log1p\n",
      "  return (gammaln(x + r) - gammaln(r) - gammaln(x + 1.0) + r*np.log(p) + x*np.log1p(-p))\n",
      "/mnt/data/thesis_project/notebooks/../scripts/runner_baselines_sklearn.py:92: RuntimeWarning: invalid value encountered in multiply\n",
      "  return (gammaln(x + r) - gammaln(r) - gammaln(x + 1.0) + r*np.log(p) + x*np.log1p(-p))\n",
      "/mnt/data/thesis_project/notebooks/../scripts/runner_baselines_sklearn.py:92: RuntimeWarning: divide by zero encountered in log1p\n",
      "  return (gammaln(x + r) - gammaln(r) - gammaln(x + 1.0) + r*np.log(p) + x*np.log1p(-p))\n",
      "/mnt/data/thesis_project/notebooks/../scripts/runner_baselines_sklearn.py:92: RuntimeWarning: invalid value encountered in multiply\n",
      "  return (gammaln(x + r) - gammaln(r) - gammaln(x + 1.0) + r*np.log(p) + x*np.log1p(-p))\n",
      "/mnt/data/thesis_project/notebooks/../scripts/runner_baselines_sklearn.py:92: RuntimeWarning: divide by zero encountered in log1p\n",
      "  return (gammaln(x + r) - gammaln(r) - gammaln(x + 1.0) + r*np.log(p) + x*np.log1p(-p))\n",
      "/mnt/data/thesis_project/notebooks/../scripts/runner_baselines_sklearn.py:92: RuntimeWarning: invalid value encountered in multiply\n",
      "  return (gammaln(x + r) - gammaln(r) - gammaln(x + 1.0) + r*np.log(p) + x*np.log1p(-p))\n",
      "/mnt/data/thesis_project/notebooks/../scripts/runner_baselines_sklearn.py:92: RuntimeWarning: divide by zero encountered in log1p\n",
      "  return (gammaln(x + r) - gammaln(r) - gammaln(x + 1.0) + r*np.log(p) + x*np.log1p(-p))\n",
      "/mnt/data/thesis_project/notebooks/../scripts/runner_baselines_sklearn.py:92: RuntimeWarning: invalid value encountered in multiply\n",
      "  return (gammaln(x + r) - gammaln(r) - gammaln(x + 1.0) + r*np.log(p) + x*np.log1p(-p))\n"
     ]
    },
    {
     "name": "stdout",
     "output_type": "stream",
     "text": [
      "Running MAGIC on 238 cells and 1000 genes.\n",
      "Calculating graph and diffusion operator...\n",
      "  Calculating KNN search...\n",
      "  Calculated KNN search in 0.05 seconds.\n",
      "  Calculating affinities...\n",
      "  Calculated affinities in 0.05 seconds.\n",
      "Calculated graph and diffusion operator in 0.11 seconds.\n",
      "Calculating imputation...\n",
      "Calculated imputation in 0.01 seconds.\n",
      "Calculating MAGIC...\n",
      "  Running MAGIC on 358 cells and 1000 genes.\n",
      "  Calculating graph and diffusion operator...\n",
      "    Calculating KNN search...\n"
     ]
    },
    {
     "name": "stderr",
     "output_type": "stream",
     "text": [
      "/mnt/data/thesis_project/notebooks/../scripts/runner_baselines_sklearn.py:92: RuntimeWarning: divide by zero encountered in log1p\n",
      "  return (gammaln(x + r) - gammaln(r) - gammaln(x + 1.0) + r*np.log(p) + x*np.log1p(-p))\n",
      "/mnt/data/thesis_project/notebooks/../scripts/runner_baselines_sklearn.py:92: RuntimeWarning: invalid value encountered in multiply\n",
      "  return (gammaln(x + r) - gammaln(r) - gammaln(x + 1.0) + r*np.log(p) + x*np.log1p(-p))\n",
      "/mnt/data/venvs/thesis-impute/lib/python3.10/site-packages/graphtools/graphs.py:122: UserWarning: Building a kNNGraph on data of shape (238, 1000) is expensive. Consider setting n_pca.\n",
      "  warnings.warn(\n",
      "/mnt/data/venvs/thesis-impute/lib/python3.10/site-packages/magic/magic.py:541: UserWarning: Running MAGIC.transform on different data to that which was used for MAGIC.fit may not produce sensible output, unless it comes from the same manifold.\n",
      "  warnings.warn(\n",
      "/mnt/data/venvs/thesis-impute/lib/python3.10/site-packages/graphtools/graphs.py:122: UserWarning: Building a kNNGraph on data of shape (358, 1000) is expensive. Consider setting n_pca.\n",
      "  warnings.warn(\n"
     ]
    },
    {
     "name": "stdout",
     "output_type": "stream",
     "text": [
      "    Calculated KNN search in 0.10 seconds.\n",
      "    Calculating affinities...\n",
      "    Calculated affinities in 0.09 seconds.\n",
      "  Calculated graph and diffusion operator in 0.20 seconds.\n",
      "  Calculating imputation...\n",
      "  Calculated imputation in 0.02 seconds.\n",
      "Calculated MAGIC in 0.22 seconds.\n",
      "Calculating imputation...\n",
      "Calculating MAGIC...\n",
      "  Running MAGIC on 358 cells and 1000 genes.\n",
      "  Calculating graph and diffusion operator...\n",
      "    Calculating KNN search...\n",
      "    Calculated KNN search in 0.11 seconds.\n",
      "    Calculating affinities...\n"
     ]
    },
    {
     "name": "stderr",
     "output_type": "stream",
     "text": [
      "/mnt/data/venvs/thesis-impute/lib/python3.10/site-packages/magic/magic.py:541: UserWarning: Running MAGIC.transform on different data to that which was used for MAGIC.fit may not produce sensible output, unless it comes from the same manifold.\n",
      "  warnings.warn(\n",
      "/mnt/data/venvs/thesis-impute/lib/python3.10/site-packages/graphtools/graphs.py:122: UserWarning: Building a kNNGraph on data of shape (358, 1000) is expensive. Consider setting n_pca.\n",
      "  warnings.warn(\n"
     ]
    },
    {
     "name": "stdout",
     "output_type": "stream",
     "text": [
      "    Calculated affinities in 0.10 seconds.\n",
      "  Calculated graph and diffusion operator in 0.22 seconds.\n",
      "  Calculating imputation...\n",
      "  Calculated imputation in 0.01 seconds.\n",
      "Calculated MAGIC in 0.24 seconds.\n",
      "Calculating imputation...\n",
      "Calculating MAGIC...\n",
      "  Running MAGIC on 358 cells and 1000 genes.\n",
      "  Calculating graph and diffusion operator...\n",
      "    Calculating KNN search...\n",
      "    Calculated KNN search in 0.11 seconds.\n",
      "    Calculating affinities...\n"
     ]
    },
    {
     "name": "stderr",
     "output_type": "stream",
     "text": [
      "/mnt/data/venvs/thesis-impute/lib/python3.10/site-packages/magic/magic.py:541: UserWarning: Running MAGIC.transform on different data to that which was used for MAGIC.fit may not produce sensible output, unless it comes from the same manifold.\n",
      "  warnings.warn(\n",
      "/mnt/data/venvs/thesis-impute/lib/python3.10/site-packages/graphtools/graphs.py:122: UserWarning: Building a kNNGraph on data of shape (358, 1000) is expensive. Consider setting n_pca.\n",
      "  warnings.warn(\n"
     ]
    },
    {
     "name": "stdout",
     "output_type": "stream",
     "text": [
      "    Calculated affinities in 0.10 seconds.\n",
      "  Calculated graph and diffusion operator in 0.21 seconds.\n",
      "  Calculating imputation...\n",
      "  Calculated imputation in 0.01 seconds.\n",
      "Calculated MAGIC in 0.24 seconds.\n",
      "Running MAGIC on 238 cells and 2000 genes.\n",
      "Calculating graph and diffusion operator...\n",
      "  Calculating KNN search...\n",
      "  Calculated KNN search in 0.09 seconds.\n",
      "  Calculating affinities...\n",
      "  Calculated affinities in 0.08 seconds.\n",
      "Calculated graph and diffusion operator in 0.18 seconds.\n"
     ]
    },
    {
     "name": "stderr",
     "output_type": "stream",
     "text": [
      "/mnt/data/venvs/thesis-impute/lib/python3.10/site-packages/graphtools/graphs.py:122: UserWarning: Building a kNNGraph on data of shape (238, 2000) is expensive. Consider setting n_pca.\n",
      "  warnings.warn(\n"
     ]
    },
    {
     "name": "stdout",
     "output_type": "stream",
     "text": [
      "Calculating imputation...\n",
      "Calculating MAGIC...\n",
      "  Running MAGIC on 358 cells and 2000 genes.\n",
      "  Calculating graph and diffusion operator...\n",
      "    Calculating KNN search...\n",
      "    Calculated KNN search in 0.15 seconds.\n",
      "    Calculating affinities...\n"
     ]
    },
    {
     "name": "stderr",
     "output_type": "stream",
     "text": [
      "/mnt/data/venvs/thesis-impute/lib/python3.10/site-packages/magic/magic.py:541: UserWarning: Running MAGIC.transform on different data to that which was used for MAGIC.fit may not produce sensible output, unless it comes from the same manifold.\n",
      "  warnings.warn(\n",
      "/mnt/data/venvs/thesis-impute/lib/python3.10/site-packages/graphtools/graphs.py:122: UserWarning: Building a kNNGraph on data of shape (358, 2000) is expensive. Consider setting n_pca.\n",
      "  warnings.warn(\n"
     ]
    },
    {
     "name": "stdout",
     "output_type": "stream",
     "text": [
      "    Calculated affinities in 0.13 seconds.\n",
      "  Calculated graph and diffusion operator in 0.29 seconds.\n",
      "  Calculating imputation...\n",
      "  Calculated imputation in 0.01 seconds.\n",
      "Calculated MAGIC in 0.31 seconds.\n",
      "Calculating imputation...\n",
      "Calculating MAGIC...\n",
      "  Running MAGIC on 358 cells and 2000 genes.\n",
      "  Calculating graph and diffusion operator...\n",
      "    Calculating KNN search...\n",
      "    Calculated KNN search in 0.15 seconds.\n",
      "    Calculating affinities...\n"
     ]
    },
    {
     "name": "stderr",
     "output_type": "stream",
     "text": [
      "/mnt/data/venvs/thesis-impute/lib/python3.10/site-packages/magic/magic.py:541: UserWarning: Running MAGIC.transform on different data to that which was used for MAGIC.fit may not produce sensible output, unless it comes from the same manifold.\n",
      "  warnings.warn(\n",
      "/mnt/data/venvs/thesis-impute/lib/python3.10/site-packages/graphtools/graphs.py:122: UserWarning: Building a kNNGraph on data of shape (358, 2000) is expensive. Consider setting n_pca.\n",
      "  warnings.warn(\n"
     ]
    },
    {
     "name": "stdout",
     "output_type": "stream",
     "text": [
      "    Calculated affinities in 0.13 seconds.\n",
      "  Calculated graph and diffusion operator in 0.28 seconds.\n",
      "  Calculating imputation...\n",
      "  Calculated imputation in 0.01 seconds.\n",
      "Calculated MAGIC in 0.30 seconds.\n",
      "Calculating imputation...\n",
      "Calculating MAGIC...\n",
      "  Running MAGIC on 358 cells and 2000 genes.\n",
      "  Calculating graph and diffusion operator...\n",
      "    Calculating KNN search...\n",
      "    Calculated KNN search in 0.15 seconds.\n",
      "    Calculating affinities...\n"
     ]
    },
    {
     "name": "stderr",
     "output_type": "stream",
     "text": [
      "/mnt/data/venvs/thesis-impute/lib/python3.10/site-packages/magic/magic.py:541: UserWarning: Running MAGIC.transform on different data to that which was used for MAGIC.fit may not produce sensible output, unless it comes from the same manifold.\n",
      "  warnings.warn(\n",
      "/mnt/data/venvs/thesis-impute/lib/python3.10/site-packages/graphtools/graphs.py:122: UserWarning: Building a kNNGraph on data of shape (358, 2000) is expensive. Consider setting n_pca.\n",
      "  warnings.warn(\n"
     ]
    },
    {
     "name": "stdout",
     "output_type": "stream",
     "text": [
      "    Calculated affinities in 0.13 seconds.\n",
      "  Calculated graph and diffusion operator in 0.29 seconds.\n",
      "  Calculating imputation...\n",
      "  Calculated imputation in 0.01 seconds.\n",
      "Calculated MAGIC in 0.30 seconds.\n",
      "Running MAGIC on 238 cells and 4000 genes.\n",
      "Calculating graph and diffusion operator...\n",
      "  Calculating KNN search...\n",
      "  Calculated KNN search in 0.18 seconds.\n",
      "  Calculating affinities...\n"
     ]
    },
    {
     "name": "stderr",
     "output_type": "stream",
     "text": [
      "/mnt/data/venvs/thesis-impute/lib/python3.10/site-packages/graphtools/graphs.py:122: UserWarning: Building a kNNGraph on data of shape (238, 4000) is expensive. Consider setting n_pca.\n",
      "  warnings.warn(\n"
     ]
    },
    {
     "name": "stdout",
     "output_type": "stream",
     "text": [
      "  Calculated affinities in 0.16 seconds.\n",
      "Calculated graph and diffusion operator in 0.35 seconds.\n",
      "Calculating imputation...\n",
      "Calculating MAGIC...\n",
      "  Running MAGIC on 358 cells and 4000 genes.\n",
      "  Calculating graph and diffusion operator...\n",
      "    Calculating KNN search...\n"
     ]
    },
    {
     "name": "stderr",
     "output_type": "stream",
     "text": [
      "/mnt/data/venvs/thesis-impute/lib/python3.10/site-packages/magic/magic.py:541: UserWarning: Running MAGIC.transform on different data to that which was used for MAGIC.fit may not produce sensible output, unless it comes from the same manifold.\n",
      "  warnings.warn(\n",
      "/mnt/data/venvs/thesis-impute/lib/python3.10/site-packages/graphtools/graphs.py:122: UserWarning: Building a kNNGraph on data of shape (358, 4000) is expensive. Consider setting n_pca.\n",
      "  warnings.warn(\n"
     ]
    },
    {
     "name": "stdout",
     "output_type": "stream",
     "text": [
      "    Calculated KNN search in 0.37 seconds.\n",
      "    Calculating affinities...\n",
      "    Calculated affinities in 0.30 seconds.\n",
      "  Calculated graph and diffusion operator in 0.68 seconds.\n",
      "  Calculating imputation...\n",
      "  Calculated imputation in 0.02 seconds.\n",
      "Calculated MAGIC in 0.71 seconds.\n",
      "Calculating imputation...\n",
      "Calculating MAGIC...\n",
      "  Running MAGIC on 358 cells and 4000 genes.\n",
      "  Calculating graph and diffusion operator...\n",
      "    Calculating KNN search...\n"
     ]
    },
    {
     "name": "stderr",
     "output_type": "stream",
     "text": [
      "/mnt/data/venvs/thesis-impute/lib/python3.10/site-packages/magic/magic.py:541: UserWarning: Running MAGIC.transform on different data to that which was used for MAGIC.fit may not produce sensible output, unless it comes from the same manifold.\n",
      "  warnings.warn(\n",
      "/mnt/data/venvs/thesis-impute/lib/python3.10/site-packages/graphtools/graphs.py:122: UserWarning: Building a kNNGraph on data of shape (358, 4000) is expensive. Consider setting n_pca.\n",
      "  warnings.warn(\n"
     ]
    },
    {
     "name": "stdout",
     "output_type": "stream",
     "text": [
      "    Calculated KNN search in 0.36 seconds.\n",
      "    Calculating affinities...\n",
      "    Calculated affinities in 0.31 seconds.\n",
      "  Calculated graph and diffusion operator in 0.68 seconds.\n",
      "  Calculating imputation...\n",
      "  Calculated imputation in 0.02 seconds.\n",
      "Calculated MAGIC in 0.70 seconds.\n",
      "Calculating imputation...\n",
      "Calculating MAGIC...\n",
      "  Running MAGIC on 358 cells and 4000 genes.\n",
      "  Calculating graph and diffusion operator...\n",
      "    Calculating KNN search...\n"
     ]
    },
    {
     "name": "stderr",
     "output_type": "stream",
     "text": [
      "/mnt/data/venvs/thesis-impute/lib/python3.10/site-packages/magic/magic.py:541: UserWarning: Running MAGIC.transform on different data to that which was used for MAGIC.fit may not produce sensible output, unless it comes from the same manifold.\n",
      "  warnings.warn(\n",
      "/mnt/data/venvs/thesis-impute/lib/python3.10/site-packages/graphtools/graphs.py:122: UserWarning: Building a kNNGraph on data of shape (358, 4000) is expensive. Consider setting n_pca.\n",
      "  warnings.warn(\n"
     ]
    },
    {
     "name": "stdout",
     "output_type": "stream",
     "text": [
      "    Calculated KNN search in 0.36 seconds.\n",
      "    Calculating affinities...\n",
      "    Calculated affinities in 0.32 seconds.\n",
      "  Calculated graph and diffusion operator in 0.69 seconds.\n",
      "  Calculating imputation...\n",
      "  Calculated imputation in 0.05 seconds.\n",
      "Calculated MAGIC in 0.75 seconds.\n"
     ]
    },
    {
     "name": "stderr",
     "output_type": "stream",
     "text": [
      "/mnt/data/venvs/thesis-impute/lib/python3.10/site-packages/scanpy/preprocessing/_highly_variable_genes.py:75: UserWarning: `flavor='seurat_v3'` expects raw count data, but non-integers were found.\n",
      "  warnings.warn(\n",
      "/mnt/data/venvs/thesis-impute/lib/python3.10/site-packages/scanpy/preprocessing/_highly_variable_genes.py:75: UserWarning: `flavor='seurat_v3'` expects raw count data, but non-integers were found.\n",
      "  warnings.warn(\n",
      "/mnt/data/venvs/thesis-impute/lib/python3.10/site-packages/scanpy/preprocessing/_highly_variable_genes.py:75: UserWarning: `flavor='seurat_v3'` expects raw count data, but non-integers were found.\n",
      "  warnings.warn(\n",
      "/mnt/data/thesis_project/notebooks/../scripts/runner_baselines_sklearn.py:92: RuntimeWarning: divide by zero encountered in log1p\n",
      "  return (gammaln(x + r) - gammaln(r) - gammaln(x + 1.0) + r*np.log(p) + x*np.log1p(-p))\n",
      "/mnt/data/thesis_project/notebooks/../scripts/runner_baselines_sklearn.py:92: RuntimeWarning: invalid value encountered in multiply\n",
      "  return (gammaln(x + r) - gammaln(r) - gammaln(x + 1.0) + r*np.log(p) + x*np.log1p(-p))\n",
      "/mnt/data/thesis_project/notebooks/../scripts/runner_baselines_sklearn.py:92: RuntimeWarning: divide by zero encountered in log1p\n",
      "  return (gammaln(x + r) - gammaln(r) - gammaln(x + 1.0) + r*np.log(p) + x*np.log1p(-p))\n",
      "/mnt/data/thesis_project/notebooks/../scripts/runner_baselines_sklearn.py:92: RuntimeWarning: invalid value encountered in multiply\n",
      "  return (gammaln(x + r) - gammaln(r) - gammaln(x + 1.0) + r*np.log(p) + x*np.log1p(-p))\n",
      "/mnt/data/thesis_project/notebooks/../scripts/runner_baselines_sklearn.py:92: RuntimeWarning: divide by zero encountered in log1p\n",
      "  return (gammaln(x + r) - gammaln(r) - gammaln(x + 1.0) + r*np.log(p) + x*np.log1p(-p))\n",
      "/mnt/data/thesis_project/notebooks/../scripts/runner_baselines_sklearn.py:92: RuntimeWarning: invalid value encountered in multiply\n",
      "  return (gammaln(x + r) - gammaln(r) - gammaln(x + 1.0) + r*np.log(p) + x*np.log1p(-p))\n",
      "/mnt/data/thesis_project/notebooks/../scripts/runner_baselines_sklearn.py:92: RuntimeWarning: divide by zero encountered in log1p\n",
      "  return (gammaln(x + r) - gammaln(r) - gammaln(x + 1.0) + r*np.log(p) + x*np.log1p(-p))\n",
      "/mnt/data/thesis_project/notebooks/../scripts/runner_baselines_sklearn.py:92: RuntimeWarning: invalid value encountered in multiply\n",
      "  return (gammaln(x + r) - gammaln(r) - gammaln(x + 1.0) + r*np.log(p) + x*np.log1p(-p))\n",
      "/mnt/data/thesis_project/notebooks/../scripts/runner_baselines_sklearn.py:92: RuntimeWarning: divide by zero encountered in log1p\n",
      "  return (gammaln(x + r) - gammaln(r) - gammaln(x + 1.0) + r*np.log(p) + x*np.log1p(-p))\n",
      "/mnt/data/thesis_project/notebooks/../scripts/runner_baselines_sklearn.py:92: RuntimeWarning: invalid value encountered in multiply\n",
      "  return (gammaln(x + r) - gammaln(r) - gammaln(x + 1.0) + r*np.log(p) + x*np.log1p(-p))\n",
      "/mnt/data/thesis_project/notebooks/../scripts/runner_baselines_sklearn.py:92: RuntimeWarning: divide by zero encountered in log1p\n",
      "  return (gammaln(x + r) - gammaln(r) - gammaln(x + 1.0) + r*np.log(p) + x*np.log1p(-p))\n",
      "/mnt/data/thesis_project/notebooks/../scripts/runner_baselines_sklearn.py:92: RuntimeWarning: invalid value encountered in multiply\n",
      "  return (gammaln(x + r) - gammaln(r) - gammaln(x + 1.0) + r*np.log(p) + x*np.log1p(-p))\n",
      "/mnt/data/thesis_project/notebooks/../scripts/runner_baselines_sklearn.py:92: RuntimeWarning: divide by zero encountered in log1p\n",
      "  return (gammaln(x + r) - gammaln(r) - gammaln(x + 1.0) + r*np.log(p) + x*np.log1p(-p))\n",
      "/mnt/data/thesis_project/notebooks/../scripts/runner_baselines_sklearn.py:92: RuntimeWarning: invalid value encountered in multiply\n",
      "  return (gammaln(x + r) - gammaln(r) - gammaln(x + 1.0) + r*np.log(p) + x*np.log1p(-p))\n",
      "/mnt/data/thesis_project/notebooks/../scripts/runner_baselines_sklearn.py:92: RuntimeWarning: divide by zero encountered in log1p\n",
      "  return (gammaln(x + r) - gammaln(r) - gammaln(x + 1.0) + r*np.log(p) + x*np.log1p(-p))\n",
      "/mnt/data/thesis_project/notebooks/../scripts/runner_baselines_sklearn.py:92: RuntimeWarning: invalid value encountered in multiply\n",
      "  return (gammaln(x + r) - gammaln(r) - gammaln(x + 1.0) + r*np.log(p) + x*np.log1p(-p))\n",
      "/mnt/data/thesis_project/notebooks/../scripts/runner_baselines_sklearn.py:92: RuntimeWarning: divide by zero encountered in log1p\n",
      "  return (gammaln(x + r) - gammaln(r) - gammaln(x + 1.0) + r*np.log(p) + x*np.log1p(-p))\n",
      "/mnt/data/thesis_project/notebooks/../scripts/runner_baselines_sklearn.py:92: RuntimeWarning: invalid value encountered in multiply\n",
      "  return (gammaln(x + r) - gammaln(r) - gammaln(x + 1.0) + r*np.log(p) + x*np.log1p(-p))\n",
      "/mnt/data/thesis_project/notebooks/../scripts/runner_baselines_sklearn.py:92: RuntimeWarning: divide by zero encountered in log1p\n",
      "  return (gammaln(x + r) - gammaln(r) - gammaln(x + 1.0) + r*np.log(p) + x*np.log1p(-p))\n",
      "/mnt/data/thesis_project/notebooks/../scripts/runner_baselines_sklearn.py:92: RuntimeWarning: invalid value encountered in multiply\n",
      "  return (gammaln(x + r) - gammaln(r) - gammaln(x + 1.0) + r*np.log(p) + x*np.log1p(-p))\n",
      "/mnt/data/thesis_project/notebooks/../scripts/runner_baselines_sklearn.py:92: RuntimeWarning: divide by zero encountered in log1p\n",
      "  return (gammaln(x + r) - gammaln(r) - gammaln(x + 1.0) + r*np.log(p) + x*np.log1p(-p))\n",
      "/mnt/data/thesis_project/notebooks/../scripts/runner_baselines_sklearn.py:92: RuntimeWarning: invalid value encountered in multiply\n",
      "  return (gammaln(x + r) - gammaln(r) - gammaln(x + 1.0) + r*np.log(p) + x*np.log1p(-p))\n",
      "/mnt/data/thesis_project/notebooks/../scripts/runner_baselines_sklearn.py:92: RuntimeWarning: divide by zero encountered in log1p\n",
      "  return (gammaln(x + r) - gammaln(r) - gammaln(x + 1.0) + r*np.log(p) + x*np.log1p(-p))\n",
      "/mnt/data/thesis_project/notebooks/../scripts/runner_baselines_sklearn.py:92: RuntimeWarning: invalid value encountered in multiply\n",
      "  return (gammaln(x + r) - gammaln(r) - gammaln(x + 1.0) + r*np.log(p) + x*np.log1p(-p))\n",
      "/mnt/data/thesis_project/notebooks/../scripts/runner_baselines_sklearn.py:92: RuntimeWarning: divide by zero encountered in log1p\n",
      "  return (gammaln(x + r) - gammaln(r) - gammaln(x + 1.0) + r*np.log(p) + x*np.log1p(-p))\n",
      "/mnt/data/thesis_project/notebooks/../scripts/runner_baselines_sklearn.py:92: RuntimeWarning: invalid value encountered in multiply\n",
      "  return (gammaln(x + r) - gammaln(r) - gammaln(x + 1.0) + r*np.log(p) + x*np.log1p(-p))\n",
      "/mnt/data/thesis_project/notebooks/../scripts/runner_baselines_sklearn.py:92: RuntimeWarning: divide by zero encountered in log1p\n",
      "  return (gammaln(x + r) - gammaln(r) - gammaln(x + 1.0) + r*np.log(p) + x*np.log1p(-p))\n",
      "/mnt/data/thesis_project/notebooks/../scripts/runner_baselines_sklearn.py:92: RuntimeWarning: invalid value encountered in multiply\n",
      "  return (gammaln(x + r) - gammaln(r) - gammaln(x + 1.0) + r*np.log(p) + x*np.log1p(-p))\n",
      "/mnt/data/thesis_project/notebooks/../scripts/runner_baselines_sklearn.py:92: RuntimeWarning: divide by zero encountered in log1p\n",
      "  return (gammaln(x + r) - gammaln(r) - gammaln(x + 1.0) + r*np.log(p) + x*np.log1p(-p))\n",
      "/mnt/data/thesis_project/notebooks/../scripts/runner_baselines_sklearn.py:92: RuntimeWarning: invalid value encountered in multiply\n",
      "  return (gammaln(x + r) - gammaln(r) - gammaln(x + 1.0) + r*np.log(p) + x*np.log1p(-p))\n",
      "/mnt/data/thesis_project/notebooks/../scripts/runner_baselines_sklearn.py:92: RuntimeWarning: divide by zero encountered in log1p\n",
      "  return (gammaln(x + r) - gammaln(r) - gammaln(x + 1.0) + r*np.log(p) + x*np.log1p(-p))\n",
      "/mnt/data/thesis_project/notebooks/../scripts/runner_baselines_sklearn.py:92: RuntimeWarning: invalid value encountered in multiply\n",
      "  return (gammaln(x + r) - gammaln(r) - gammaln(x + 1.0) + r*np.log(p) + x*np.log1p(-p))\n",
      "/mnt/data/thesis_project/notebooks/../scripts/runner_baselines_sklearn.py:92: RuntimeWarning: divide by zero encountered in log1p\n",
      "  return (gammaln(x + r) - gammaln(r) - gammaln(x + 1.0) + r*np.log(p) + x*np.log1p(-p))\n",
      "/mnt/data/thesis_project/notebooks/../scripts/runner_baselines_sklearn.py:92: RuntimeWarning: invalid value encountered in multiply\n",
      "  return (gammaln(x + r) - gammaln(r) - gammaln(x + 1.0) + r*np.log(p) + x*np.log1p(-p))\n",
      "/mnt/data/thesis_project/notebooks/../scripts/runner_baselines_sklearn.py:92: RuntimeWarning: divide by zero encountered in log1p\n",
      "  return (gammaln(x + r) - gammaln(r) - gammaln(x + 1.0) + r*np.log(p) + x*np.log1p(-p))\n",
      "/mnt/data/thesis_project/notebooks/../scripts/runner_baselines_sklearn.py:92: RuntimeWarning: invalid value encountered in multiply\n",
      "  return (gammaln(x + r) - gammaln(r) - gammaln(x + 1.0) + r*np.log(p) + x*np.log1p(-p))\n",
      "/mnt/data/thesis_project/notebooks/../scripts/runner_baselines_sklearn.py:92: RuntimeWarning: divide by zero encountered in log1p\n",
      "  return (gammaln(x + r) - gammaln(r) - gammaln(x + 1.0) + r*np.log(p) + x*np.log1p(-p))\n",
      "/mnt/data/thesis_project/notebooks/../scripts/runner_baselines_sklearn.py:92: RuntimeWarning: invalid value encountered in multiply\n",
      "  return (gammaln(x + r) - gammaln(r) - gammaln(x + 1.0) + r*np.log(p) + x*np.log1p(-p))\n",
      "/mnt/data/thesis_project/notebooks/../scripts/runner_baselines_sklearn.py:92: RuntimeWarning: divide by zero encountered in log1p\n",
      "  return (gammaln(x + r) - gammaln(r) - gammaln(x + 1.0) + r*np.log(p) + x*np.log1p(-p))\n",
      "/mnt/data/thesis_project/notebooks/../scripts/runner_baselines_sklearn.py:92: RuntimeWarning: invalid value encountered in multiply\n",
      "  return (gammaln(x + r) - gammaln(r) - gammaln(x + 1.0) + r*np.log(p) + x*np.log1p(-p))\n",
      "/mnt/data/thesis_project/notebooks/../scripts/runner_baselines_sklearn.py:92: RuntimeWarning: divide by zero encountered in log1p\n",
      "  return (gammaln(x + r) - gammaln(r) - gammaln(x + 1.0) + r*np.log(p) + x*np.log1p(-p))\n",
      "/mnt/data/thesis_project/notebooks/../scripts/runner_baselines_sklearn.py:92: RuntimeWarning: invalid value encountered in multiply\n",
      "  return (gammaln(x + r) - gammaln(r) - gammaln(x + 1.0) + r*np.log(p) + x*np.log1p(-p))\n",
      "/mnt/data/thesis_project/notebooks/../scripts/runner_baselines_sklearn.py:92: RuntimeWarning: divide by zero encountered in log1p\n",
      "  return (gammaln(x + r) - gammaln(r) - gammaln(x + 1.0) + r*np.log(p) + x*np.log1p(-p))\n",
      "/mnt/data/thesis_project/notebooks/../scripts/runner_baselines_sklearn.py:92: RuntimeWarning: invalid value encountered in multiply\n",
      "  return (gammaln(x + r) - gammaln(r) - gammaln(x + 1.0) + r*np.log(p) + x*np.log1p(-p))\n",
      "/mnt/data/thesis_project/notebooks/../scripts/runner_baselines_sklearn.py:92: RuntimeWarning: divide by zero encountered in log1p\n",
      "  return (gammaln(x + r) - gammaln(r) - gammaln(x + 1.0) + r*np.log(p) + x*np.log1p(-p))\n",
      "/mnt/data/thesis_project/notebooks/../scripts/runner_baselines_sklearn.py:92: RuntimeWarning: invalid value encountered in multiply\n",
      "  return (gammaln(x + r) - gammaln(r) - gammaln(x + 1.0) + r*np.log(p) + x*np.log1p(-p))\n",
      "/mnt/data/thesis_project/notebooks/../scripts/runner_baselines_sklearn.py:92: RuntimeWarning: divide by zero encountered in log1p\n",
      "  return (gammaln(x + r) - gammaln(r) - gammaln(x + 1.0) + r*np.log(p) + x*np.log1p(-p))\n",
      "/mnt/data/thesis_project/notebooks/../scripts/runner_baselines_sklearn.py:92: RuntimeWarning: invalid value encountered in multiply\n",
      "  return (gammaln(x + r) - gammaln(r) - gammaln(x + 1.0) + r*np.log(p) + x*np.log1p(-p))\n",
      "/mnt/data/thesis_project/notebooks/../scripts/runner_baselines_sklearn.py:92: RuntimeWarning: divide by zero encountered in log1p\n",
      "  return (gammaln(x + r) - gammaln(r) - gammaln(x + 1.0) + r*np.log(p) + x*np.log1p(-p))\n",
      "/mnt/data/thesis_project/notebooks/../scripts/runner_baselines_sklearn.py:92: RuntimeWarning: invalid value encountered in multiply\n",
      "  return (gammaln(x + r) - gammaln(r) - gammaln(x + 1.0) + r*np.log(p) + x*np.log1p(-p))\n",
      "/mnt/data/thesis_project/notebooks/../scripts/runner_baselines_sklearn.py:92: RuntimeWarning: divide by zero encountered in log1p\n",
      "  return (gammaln(x + r) - gammaln(r) - gammaln(x + 1.0) + r*np.log(p) + x*np.log1p(-p))\n",
      "/mnt/data/thesis_project/notebooks/../scripts/runner_baselines_sklearn.py:92: RuntimeWarning: invalid value encountered in multiply\n",
      "  return (gammaln(x + r) - gammaln(r) - gammaln(x + 1.0) + r*np.log(p) + x*np.log1p(-p))\n",
      "/mnt/data/thesis_project/notebooks/../scripts/runner_baselines_sklearn.py:92: RuntimeWarning: divide by zero encountered in log1p\n",
      "  return (gammaln(x + r) - gammaln(r) - gammaln(x + 1.0) + r*np.log(p) + x*np.log1p(-p))\n",
      "/mnt/data/thesis_project/notebooks/../scripts/runner_baselines_sklearn.py:92: RuntimeWarning: invalid value encountered in multiply\n",
      "  return (gammaln(x + r) - gammaln(r) - gammaln(x + 1.0) + r*np.log(p) + x*np.log1p(-p))\n",
      "/mnt/data/thesis_project/notebooks/../scripts/runner_baselines_sklearn.py:92: RuntimeWarning: divide by zero encountered in log1p\n",
      "  return (gammaln(x + r) - gammaln(r) - gammaln(x + 1.0) + r*np.log(p) + x*np.log1p(-p))\n",
      "/mnt/data/thesis_project/notebooks/../scripts/runner_baselines_sklearn.py:92: RuntimeWarning: divide by zero encountered in log1p\n",
      "  return (gammaln(x + r) - gammaln(r) - gammaln(x + 1.0) + r*np.log(p) + x*np.log1p(-p))\n",
      "/mnt/data/thesis_project/notebooks/../scripts/runner_baselines_sklearn.py:92: RuntimeWarning: invalid value encountered in multiply\n",
      "  return (gammaln(x + r) - gammaln(r) - gammaln(x + 1.0) + r*np.log(p) + x*np.log1p(-p))\n",
      "/mnt/data/thesis_project/notebooks/../scripts/runner_baselines_sklearn.py:92: RuntimeWarning: divide by zero encountered in log1p\n",
      "  return (gammaln(x + r) - gammaln(r) - gammaln(x + 1.0) + r*np.log(p) + x*np.log1p(-p))\n",
      "/mnt/data/thesis_project/notebooks/../scripts/runner_baselines_sklearn.py:92: RuntimeWarning: invalid value encountered in multiply\n",
      "  return (gammaln(x + r) - gammaln(r) - gammaln(x + 1.0) + r*np.log(p) + x*np.log1p(-p))\n",
      "/mnt/data/thesis_project/notebooks/../scripts/runner_baselines_sklearn.py:92: RuntimeWarning: divide by zero encountered in log1p\n",
      "  return (gammaln(x + r) - gammaln(r) - gammaln(x + 1.0) + r*np.log(p) + x*np.log1p(-p))\n",
      "/mnt/data/thesis_project/notebooks/../scripts/runner_baselines_sklearn.py:92: RuntimeWarning: invalid value encountered in multiply\n",
      "  return (gammaln(x + r) - gammaln(r) - gammaln(x + 1.0) + r*np.log(p) + x*np.log1p(-p))\n",
      "/mnt/data/thesis_project/notebooks/../scripts/runner_baselines_sklearn.py:92: RuntimeWarning: divide by zero encountered in log1p\n",
      "  return (gammaln(x + r) - gammaln(r) - gammaln(x + 1.0) + r*np.log(p) + x*np.log1p(-p))\n",
      "/mnt/data/thesis_project/notebooks/../scripts/runner_baselines_sklearn.py:92: RuntimeWarning: invalid value encountered in multiply\n",
      "  return (gammaln(x + r) - gammaln(r) - gammaln(x + 1.0) + r*np.log(p) + x*np.log1p(-p))\n",
      "/mnt/data/thesis_project/notebooks/../scripts/runner_baselines_sklearn.py:92: RuntimeWarning: divide by zero encountered in log1p\n",
      "  return (gammaln(x + r) - gammaln(r) - gammaln(x + 1.0) + r*np.log(p) + x*np.log1p(-p))\n",
      "/mnt/data/thesis_project/notebooks/../scripts/runner_baselines_sklearn.py:92: RuntimeWarning: invalid value encountered in multiply\n",
      "  return (gammaln(x + r) - gammaln(r) - gammaln(x + 1.0) + r*np.log(p) + x*np.log1p(-p))\n",
      "/mnt/data/thesis_project/notebooks/../scripts/runner_baselines_sklearn.py:92: RuntimeWarning: divide by zero encountered in log1p\n",
      "  return (gammaln(x + r) - gammaln(r) - gammaln(x + 1.0) + r*np.log(p) + x*np.log1p(-p))\n",
      "/mnt/data/thesis_project/notebooks/../scripts/runner_baselines_sklearn.py:92: RuntimeWarning: divide by zero encountered in log1p\n",
      "  return (gammaln(x + r) - gammaln(r) - gammaln(x + 1.0) + r*np.log(p) + x*np.log1p(-p))\n",
      "/mnt/data/thesis_project/notebooks/../scripts/runner_baselines_sklearn.py:92: RuntimeWarning: invalid value encountered in multiply\n",
      "  return (gammaln(x + r) - gammaln(r) - gammaln(x + 1.0) + r*np.log(p) + x*np.log1p(-p))\n",
      "/mnt/data/thesis_project/notebooks/../scripts/runner_baselines_sklearn.py:92: RuntimeWarning: divide by zero encountered in log1p\n",
      "  return (gammaln(x + r) - gammaln(r) - gammaln(x + 1.0) + r*np.log(p) + x*np.log1p(-p))\n",
      "/mnt/data/thesis_project/notebooks/../scripts/runner_baselines_sklearn.py:92: RuntimeWarning: invalid value encountered in multiply\n",
      "  return (gammaln(x + r) - gammaln(r) - gammaln(x + 1.0) + r*np.log(p) + x*np.log1p(-p))\n"
     ]
    },
    {
     "name": "stdout",
     "output_type": "stream",
     "text": [
      "Running MAGIC on 239 cells and 1000 genes.\n",
      "Calculating graph and diffusion operator...\n",
      "  Calculating KNN search...\n",
      "  Calculated KNN search in 0.05 seconds.\n",
      "  Calculating affinities...\n",
      "  Calculated affinities in 0.05 seconds.\n",
      "Calculated graph and diffusion operator in 0.10 seconds.\n",
      "Calculating imputation...\n",
      "Calculated imputation in 0.01 seconds.\n",
      "Calculating MAGIC...\n",
      "  Running MAGIC on 358 cells and 1000 genes.\n",
      "  Calculating graph and diffusion operator...\n",
      "    Calculating KNN search...\n"
     ]
    },
    {
     "name": "stderr",
     "output_type": "stream",
     "text": [
      "/mnt/data/thesis_project/notebooks/../scripts/runner_baselines_sklearn.py:92: RuntimeWarning: divide by zero encountered in log1p\n",
      "  return (gammaln(x + r) - gammaln(r) - gammaln(x + 1.0) + r*np.log(p) + x*np.log1p(-p))\n",
      "/mnt/data/thesis_project/notebooks/../scripts/runner_baselines_sklearn.py:92: RuntimeWarning: invalid value encountered in multiply\n",
      "  return (gammaln(x + r) - gammaln(r) - gammaln(x + 1.0) + r*np.log(p) + x*np.log1p(-p))\n",
      "/mnt/data/venvs/thesis-impute/lib/python3.10/site-packages/graphtools/graphs.py:122: UserWarning: Building a kNNGraph on data of shape (239, 1000) is expensive. Consider setting n_pca.\n",
      "  warnings.warn(\n",
      "/mnt/data/venvs/thesis-impute/lib/python3.10/site-packages/magic/magic.py:541: UserWarning: Running MAGIC.transform on different data to that which was used for MAGIC.fit may not produce sensible output, unless it comes from the same manifold.\n",
      "  warnings.warn(\n",
      "/mnt/data/venvs/thesis-impute/lib/python3.10/site-packages/graphtools/graphs.py:122: UserWarning: Building a kNNGraph on data of shape (358, 1000) is expensive. Consider setting n_pca.\n",
      "  warnings.warn(\n"
     ]
    },
    {
     "name": "stdout",
     "output_type": "stream",
     "text": [
      "    Calculated KNN search in 0.10 seconds.\n",
      "    Calculating affinities...\n",
      "    Calculated affinities in 0.09 seconds.\n",
      "  Calculated graph and diffusion operator in 0.19 seconds.\n",
      "  Calculating imputation...\n",
      "Calculated MAGIC in 0.20 seconds.\n",
      "Calculating imputation...\n",
      "Calculating MAGIC...\n",
      "  Running MAGIC on 358 cells and 1000 genes.\n",
      "  Calculating graph and diffusion operator...\n",
      "    Calculating KNN search...\n",
      "    Calculated KNN search in 0.10 seconds.\n",
      "    Calculating affinities...\n",
      "    Calculated affinities in 0.09 seconds.\n",
      "  Calculated graph and diffusion operator in 0.19 seconds.\n",
      "  Calculating imputation...\n"
     ]
    },
    {
     "name": "stderr",
     "output_type": "stream",
     "text": [
      "/mnt/data/venvs/thesis-impute/lib/python3.10/site-packages/magic/magic.py:541: UserWarning: Running MAGIC.transform on different data to that which was used for MAGIC.fit may not produce sensible output, unless it comes from the same manifold.\n",
      "  warnings.warn(\n",
      "/mnt/data/venvs/thesis-impute/lib/python3.10/site-packages/graphtools/graphs.py:122: UserWarning: Building a kNNGraph on data of shape (358, 1000) is expensive. Consider setting n_pca.\n",
      "  warnings.warn(\n"
     ]
    },
    {
     "name": "stdout",
     "output_type": "stream",
     "text": [
      "Calculated MAGIC in 0.20 seconds.\n",
      "Calculating imputation...\n",
      "Calculating MAGIC...\n",
      "  Running MAGIC on 358 cells and 1000 genes.\n",
      "  Calculating graph and diffusion operator...\n",
      "    Calculating KNN search...\n",
      "    Calculated KNN search in 0.10 seconds.\n",
      "    Calculating affinities...\n"
     ]
    },
    {
     "name": "stderr",
     "output_type": "stream",
     "text": [
      "/mnt/data/venvs/thesis-impute/lib/python3.10/site-packages/magic/magic.py:541: UserWarning: Running MAGIC.transform on different data to that which was used for MAGIC.fit may not produce sensible output, unless it comes from the same manifold.\n",
      "  warnings.warn(\n",
      "/mnt/data/venvs/thesis-impute/lib/python3.10/site-packages/graphtools/graphs.py:122: UserWarning: Building a kNNGraph on data of shape (358, 1000) is expensive. Consider setting n_pca.\n",
      "  warnings.warn(\n"
     ]
    },
    {
     "name": "stdout",
     "output_type": "stream",
     "text": [
      "    Calculated affinities in 0.09 seconds.\n",
      "  Calculated graph and diffusion operator in 0.20 seconds.\n",
      "  Calculating imputation...\n",
      "Calculated MAGIC in 0.21 seconds.\n",
      "Running MAGIC on 239 cells and 2000 genes.\n",
      "Calculating graph and diffusion operator...\n",
      "  Calculating KNN search...\n",
      "  Calculated KNN search in 0.08 seconds.\n",
      "  Calculating affinities...\n",
      "  Calculated affinities in 0.07 seconds.\n",
      "Calculated graph and diffusion operator in 0.16 seconds.\n"
     ]
    },
    {
     "name": "stderr",
     "output_type": "stream",
     "text": [
      "/mnt/data/venvs/thesis-impute/lib/python3.10/site-packages/graphtools/graphs.py:122: UserWarning: Building a kNNGraph on data of shape (239, 2000) is expensive. Consider setting n_pca.\n",
      "  warnings.warn(\n"
     ]
    },
    {
     "name": "stdout",
     "output_type": "stream",
     "text": [
      "Calculating imputation...\n",
      "Calculating MAGIC...\n",
      "  Running MAGIC on 358 cells and 2000 genes.\n",
      "  Calculating graph and diffusion operator...\n",
      "    Calculating KNN search...\n",
      "    Calculated KNN search in 0.16 seconds.\n",
      "    Calculating affinities...\n"
     ]
    },
    {
     "name": "stderr",
     "output_type": "stream",
     "text": [
      "/mnt/data/venvs/thesis-impute/lib/python3.10/site-packages/magic/magic.py:541: UserWarning: Running MAGIC.transform on different data to that which was used for MAGIC.fit may not produce sensible output, unless it comes from the same manifold.\n",
      "  warnings.warn(\n",
      "/mnt/data/venvs/thesis-impute/lib/python3.10/site-packages/graphtools/graphs.py:122: UserWarning: Building a kNNGraph on data of shape (358, 2000) is expensive. Consider setting n_pca.\n",
      "  warnings.warn(\n"
     ]
    },
    {
     "name": "stdout",
     "output_type": "stream",
     "text": [
      "    Calculated affinities in 0.13 seconds.\n",
      "  Calculated graph and diffusion operator in 0.30 seconds.\n",
      "  Calculating imputation...\n",
      "  Calculated imputation in 0.02 seconds.\n",
      "Calculated MAGIC in 0.32 seconds.\n",
      "Calculating imputation...\n",
      "Calculating MAGIC...\n",
      "  Running MAGIC on 358 cells and 2000 genes.\n",
      "  Calculating graph and diffusion operator...\n",
      "    Calculating KNN search...\n",
      "    Calculated KNN search in 0.16 seconds.\n",
      "    Calculating affinities...\n"
     ]
    },
    {
     "name": "stderr",
     "output_type": "stream",
     "text": [
      "/mnt/data/venvs/thesis-impute/lib/python3.10/site-packages/magic/magic.py:541: UserWarning: Running MAGIC.transform on different data to that which was used for MAGIC.fit may not produce sensible output, unless it comes from the same manifold.\n",
      "  warnings.warn(\n",
      "/mnt/data/venvs/thesis-impute/lib/python3.10/site-packages/graphtools/graphs.py:122: UserWarning: Building a kNNGraph on data of shape (358, 2000) is expensive. Consider setting n_pca.\n",
      "  warnings.warn(\n"
     ]
    },
    {
     "name": "stdout",
     "output_type": "stream",
     "text": [
      "    Calculated affinities in 0.13 seconds.\n",
      "  Calculated graph and diffusion operator in 0.30 seconds.\n",
      "  Calculating imputation...\n",
      "  Calculated imputation in 0.01 seconds.\n",
      "Calculated MAGIC in 0.32 seconds.\n",
      "Calculating imputation...\n",
      "Calculating MAGIC...\n",
      "  Running MAGIC on 358 cells and 2000 genes.\n",
      "  Calculating graph and diffusion operator...\n",
      "    Calculating KNN search...\n",
      "    Calculated KNN search in 0.16 seconds.\n",
      "    Calculating affinities...\n"
     ]
    },
    {
     "name": "stderr",
     "output_type": "stream",
     "text": [
      "/mnt/data/venvs/thesis-impute/lib/python3.10/site-packages/magic/magic.py:541: UserWarning: Running MAGIC.transform on different data to that which was used for MAGIC.fit may not produce sensible output, unless it comes from the same manifold.\n",
      "  warnings.warn(\n",
      "/mnt/data/venvs/thesis-impute/lib/python3.10/site-packages/graphtools/graphs.py:122: UserWarning: Building a kNNGraph on data of shape (358, 2000) is expensive. Consider setting n_pca.\n",
      "  warnings.warn(\n"
     ]
    },
    {
     "name": "stdout",
     "output_type": "stream",
     "text": [
      "    Calculated affinities in 0.13 seconds.\n",
      "  Calculated graph and diffusion operator in 0.30 seconds.\n",
      "  Calculating imputation...\n",
      "  Calculated imputation in 0.01 seconds.\n",
      "Calculated MAGIC in 0.31 seconds.\n",
      "Running MAGIC on 239 cells and 4000 genes.\n",
      "Calculating graph and diffusion operator...\n",
      "  Calculating KNN search...\n",
      "  Calculated KNN search in 0.18 seconds.\n",
      "  Calculating affinities...\n"
     ]
    },
    {
     "name": "stderr",
     "output_type": "stream",
     "text": [
      "/mnt/data/venvs/thesis-impute/lib/python3.10/site-packages/graphtools/graphs.py:122: UserWarning: Building a kNNGraph on data of shape (239, 4000) is expensive. Consider setting n_pca.\n",
      "  warnings.warn(\n"
     ]
    },
    {
     "name": "stdout",
     "output_type": "stream",
     "text": [
      "  Calculated affinities in 0.15 seconds.\n",
      "Calculated graph and diffusion operator in 0.34 seconds.\n",
      "Calculating imputation...\n",
      "Calculating MAGIC...\n",
      "  Running MAGIC on 358 cells and 4000 genes.\n",
      "  Calculating graph and diffusion operator...\n",
      "    Calculating KNN search...\n"
     ]
    },
    {
     "name": "stderr",
     "output_type": "stream",
     "text": [
      "/mnt/data/venvs/thesis-impute/lib/python3.10/site-packages/magic/magic.py:541: UserWarning: Running MAGIC.transform on different data to that which was used for MAGIC.fit may not produce sensible output, unless it comes from the same manifold.\n",
      "  warnings.warn(\n",
      "/mnt/data/venvs/thesis-impute/lib/python3.10/site-packages/graphtools/graphs.py:122: UserWarning: Building a kNNGraph on data of shape (358, 4000) is expensive. Consider setting n_pca.\n",
      "  warnings.warn(\n"
     ]
    },
    {
     "name": "stdout",
     "output_type": "stream",
     "text": [
      "    Calculated KNN search in 0.35 seconds.\n",
      "    Calculating affinities...\n",
      "    Calculated affinities in 0.29 seconds.\n",
      "  Calculated graph and diffusion operator in 0.65 seconds.\n",
      "  Calculating imputation...\n",
      "  Calculated imputation in 0.02 seconds.\n",
      "Calculated MAGIC in 0.67 seconds.\n",
      "Calculating imputation...\n",
      "Calculating MAGIC...\n",
      "  Running MAGIC on 358 cells and 4000 genes.\n",
      "  Calculating graph and diffusion operator...\n",
      "    Calculating KNN search...\n"
     ]
    },
    {
     "name": "stderr",
     "output_type": "stream",
     "text": [
      "/mnt/data/venvs/thesis-impute/lib/python3.10/site-packages/magic/magic.py:541: UserWarning: Running MAGIC.transform on different data to that which was used for MAGIC.fit may not produce sensible output, unless it comes from the same manifold.\n",
      "  warnings.warn(\n",
      "/mnt/data/venvs/thesis-impute/lib/python3.10/site-packages/graphtools/graphs.py:122: UserWarning: Building a kNNGraph on data of shape (358, 4000) is expensive. Consider setting n_pca.\n",
      "  warnings.warn(\n"
     ]
    },
    {
     "name": "stdout",
     "output_type": "stream",
     "text": [
      "    Calculated KNN search in 0.34 seconds.\n",
      "    Calculating affinities...\n",
      "    Calculated affinities in 0.29 seconds.\n",
      "  Calculated graph and diffusion operator in 0.64 seconds.\n",
      "  Calculating imputation...\n",
      "  Calculated imputation in 0.03 seconds.\n",
      "Calculated MAGIC in 0.68 seconds.\n",
      "Calculating imputation...\n",
      "Calculating MAGIC...\n",
      "  Running MAGIC on 358 cells and 4000 genes.\n",
      "  Calculating graph and diffusion operator...\n",
      "    Calculating KNN search...\n"
     ]
    },
    {
     "name": "stderr",
     "output_type": "stream",
     "text": [
      "/mnt/data/venvs/thesis-impute/lib/python3.10/site-packages/magic/magic.py:541: UserWarning: Running MAGIC.transform on different data to that which was used for MAGIC.fit may not produce sensible output, unless it comes from the same manifold.\n",
      "  warnings.warn(\n",
      "/mnt/data/venvs/thesis-impute/lib/python3.10/site-packages/graphtools/graphs.py:122: UserWarning: Building a kNNGraph on data of shape (358, 4000) is expensive. Consider setting n_pca.\n",
      "  warnings.warn(\n"
     ]
    },
    {
     "name": "stdout",
     "output_type": "stream",
     "text": [
      "    Calculated KNN search in 0.34 seconds.\n",
      "    Calculating affinities...\n",
      "    Calculated affinities in 0.30 seconds.\n",
      "  Calculated graph and diffusion operator in 0.65 seconds.\n",
      "  Calculating imputation...\n",
      "  Calculated imputation in 0.02 seconds.\n",
      "Calculated MAGIC in 0.68 seconds.\n"
     ]
    },
    {
     "name": "stderr",
     "output_type": "stream",
     "text": [
      "/mnt/data/venvs/thesis-impute/lib/python3.10/site-packages/scanpy/preprocessing/_highly_variable_genes.py:75: UserWarning: `flavor='seurat_v3'` expects raw count data, but non-integers were found.\n",
      "  warnings.warn(\n",
      "/mnt/data/venvs/thesis-impute/lib/python3.10/site-packages/scanpy/preprocessing/_highly_variable_genes.py:75: UserWarning: `flavor='seurat_v3'` expects raw count data, but non-integers were found.\n",
      "  warnings.warn(\n",
      "/mnt/data/venvs/thesis-impute/lib/python3.10/site-packages/scanpy/preprocessing/_highly_variable_genes.py:75: UserWarning: `flavor='seurat_v3'` expects raw count data, but non-integers were found.\n",
      "  warnings.warn(\n",
      "/mnt/data/thesis_project/notebooks/../scripts/runner_baselines_sklearn.py:92: RuntimeWarning: divide by zero encountered in log1p\n",
      "  return (gammaln(x + r) - gammaln(r) - gammaln(x + 1.0) + r*np.log(p) + x*np.log1p(-p))\n",
      "/mnt/data/thesis_project/notebooks/../scripts/runner_baselines_sklearn.py:92: RuntimeWarning: invalid value encountered in multiply\n",
      "  return (gammaln(x + r) - gammaln(r) - gammaln(x + 1.0) + r*np.log(p) + x*np.log1p(-p))\n",
      "/mnt/data/thesis_project/notebooks/../scripts/runner_baselines_sklearn.py:92: RuntimeWarning: divide by zero encountered in log1p\n",
      "  return (gammaln(x + r) - gammaln(r) - gammaln(x + 1.0) + r*np.log(p) + x*np.log1p(-p))\n",
      "/mnt/data/thesis_project/notebooks/../scripts/runner_baselines_sklearn.py:92: RuntimeWarning: invalid value encountered in multiply\n",
      "  return (gammaln(x + r) - gammaln(r) - gammaln(x + 1.0) + r*np.log(p) + x*np.log1p(-p))\n",
      "/mnt/data/thesis_project/notebooks/../scripts/runner_baselines_sklearn.py:92: RuntimeWarning: divide by zero encountered in log1p\n",
      "  return (gammaln(x + r) - gammaln(r) - gammaln(x + 1.0) + r*np.log(p) + x*np.log1p(-p))\n",
      "/mnt/data/thesis_project/notebooks/../scripts/runner_baselines_sklearn.py:92: RuntimeWarning: invalid value encountered in multiply\n",
      "  return (gammaln(x + r) - gammaln(r) - gammaln(x + 1.0) + r*np.log(p) + x*np.log1p(-p))\n",
      "/mnt/data/thesis_project/notebooks/../scripts/runner_baselines_sklearn.py:92: RuntimeWarning: divide by zero encountered in log1p\n",
      "  return (gammaln(x + r) - gammaln(r) - gammaln(x + 1.0) + r*np.log(p) + x*np.log1p(-p))\n",
      "/mnt/data/thesis_project/notebooks/../scripts/runner_baselines_sklearn.py:92: RuntimeWarning: invalid value encountered in multiply\n",
      "  return (gammaln(x + r) - gammaln(r) - gammaln(x + 1.0) + r*np.log(p) + x*np.log1p(-p))\n",
      "/mnt/data/thesis_project/notebooks/../scripts/runner_baselines_sklearn.py:92: RuntimeWarning: divide by zero encountered in log1p\n",
      "  return (gammaln(x + r) - gammaln(r) - gammaln(x + 1.0) + r*np.log(p) + x*np.log1p(-p))\n",
      "/mnt/data/thesis_project/notebooks/../scripts/runner_baselines_sklearn.py:92: RuntimeWarning: invalid value encountered in multiply\n",
      "  return (gammaln(x + r) - gammaln(r) - gammaln(x + 1.0) + r*np.log(p) + x*np.log1p(-p))\n",
      "/mnt/data/thesis_project/notebooks/../scripts/runner_baselines_sklearn.py:92: RuntimeWarning: divide by zero encountered in log1p\n",
      "  return (gammaln(x + r) - gammaln(r) - gammaln(x + 1.0) + r*np.log(p) + x*np.log1p(-p))\n",
      "/mnt/data/thesis_project/notebooks/../scripts/runner_baselines_sklearn.py:92: RuntimeWarning: invalid value encountered in multiply\n",
      "  return (gammaln(x + r) - gammaln(r) - gammaln(x + 1.0) + r*np.log(p) + x*np.log1p(-p))\n",
      "/mnt/data/thesis_project/notebooks/../scripts/runner_baselines_sklearn.py:92: RuntimeWarning: divide by zero encountered in log1p\n",
      "  return (gammaln(x + r) - gammaln(r) - gammaln(x + 1.0) + r*np.log(p) + x*np.log1p(-p))\n",
      "/mnt/data/thesis_project/notebooks/../scripts/runner_baselines_sklearn.py:92: RuntimeWarning: invalid value encountered in multiply\n",
      "  return (gammaln(x + r) - gammaln(r) - gammaln(x + 1.0) + r*np.log(p) + x*np.log1p(-p))\n",
      "/mnt/data/thesis_project/notebooks/../scripts/runner_baselines_sklearn.py:92: RuntimeWarning: divide by zero encountered in log1p\n",
      "  return (gammaln(x + r) - gammaln(r) - gammaln(x + 1.0) + r*np.log(p) + x*np.log1p(-p))\n",
      "/mnt/data/thesis_project/notebooks/../scripts/runner_baselines_sklearn.py:92: RuntimeWarning: invalid value encountered in multiply\n",
      "  return (gammaln(x + r) - gammaln(r) - gammaln(x + 1.0) + r*np.log(p) + x*np.log1p(-p))\n",
      "/mnt/data/thesis_project/notebooks/../scripts/runner_baselines_sklearn.py:92: RuntimeWarning: divide by zero encountered in log1p\n",
      "  return (gammaln(x + r) - gammaln(r) - gammaln(x + 1.0) + r*np.log(p) + x*np.log1p(-p))\n",
      "/mnt/data/thesis_project/notebooks/../scripts/runner_baselines_sklearn.py:92: RuntimeWarning: invalid value encountered in multiply\n",
      "  return (gammaln(x + r) - gammaln(r) - gammaln(x + 1.0) + r*np.log(p) + x*np.log1p(-p))\n",
      "/mnt/data/thesis_project/notebooks/../scripts/runner_baselines_sklearn.py:92: RuntimeWarning: divide by zero encountered in log1p\n",
      "  return (gammaln(x + r) - gammaln(r) - gammaln(x + 1.0) + r*np.log(p) + x*np.log1p(-p))\n",
      "/mnt/data/thesis_project/notebooks/../scripts/runner_baselines_sklearn.py:92: RuntimeWarning: invalid value encountered in multiply\n",
      "  return (gammaln(x + r) - gammaln(r) - gammaln(x + 1.0) + r*np.log(p) + x*np.log1p(-p))\n",
      "/mnt/data/thesis_project/notebooks/../scripts/runner_baselines_sklearn.py:92: RuntimeWarning: divide by zero encountered in log1p\n",
      "  return (gammaln(x + r) - gammaln(r) - gammaln(x + 1.0) + r*np.log(p) + x*np.log1p(-p))\n",
      "/mnt/data/thesis_project/notebooks/../scripts/runner_baselines_sklearn.py:92: RuntimeWarning: invalid value encountered in multiply\n",
      "  return (gammaln(x + r) - gammaln(r) - gammaln(x + 1.0) + r*np.log(p) + x*np.log1p(-p))\n",
      "/mnt/data/thesis_project/notebooks/../scripts/runner_baselines_sklearn.py:92: RuntimeWarning: divide by zero encountered in log1p\n",
      "  return (gammaln(x + r) - gammaln(r) - gammaln(x + 1.0) + r*np.log(p) + x*np.log1p(-p))\n",
      "/mnt/data/thesis_project/notebooks/../scripts/runner_baselines_sklearn.py:92: RuntimeWarning: invalid value encountered in multiply\n",
      "  return (gammaln(x + r) - gammaln(r) - gammaln(x + 1.0) + r*np.log(p) + x*np.log1p(-p))\n",
      "/mnt/data/thesis_project/notebooks/../scripts/runner_baselines_sklearn.py:92: RuntimeWarning: divide by zero encountered in log1p\n",
      "  return (gammaln(x + r) - gammaln(r) - gammaln(x + 1.0) + r*np.log(p) + x*np.log1p(-p))\n",
      "/mnt/data/thesis_project/notebooks/../scripts/runner_baselines_sklearn.py:92: RuntimeWarning: invalid value encountered in multiply\n",
      "  return (gammaln(x + r) - gammaln(r) - gammaln(x + 1.0) + r*np.log(p) + x*np.log1p(-p))\n",
      "/mnt/data/thesis_project/notebooks/../scripts/runner_baselines_sklearn.py:92: RuntimeWarning: divide by zero encountered in log1p\n",
      "  return (gammaln(x + r) - gammaln(r) - gammaln(x + 1.0) + r*np.log(p) + x*np.log1p(-p))\n",
      "/mnt/data/thesis_project/notebooks/../scripts/runner_baselines_sklearn.py:92: RuntimeWarning: divide by zero encountered in log1p\n",
      "  return (gammaln(x + r) - gammaln(r) - gammaln(x + 1.0) + r*np.log(p) + x*np.log1p(-p))\n",
      "/mnt/data/thesis_project/notebooks/../scripts/runner_baselines_sklearn.py:92: RuntimeWarning: divide by zero encountered in log1p\n",
      "  return (gammaln(x + r) - gammaln(r) - gammaln(x + 1.0) + r*np.log(p) + x*np.log1p(-p))\n"
     ]
    },
    {
     "name": "stdout",
     "output_type": "stream",
     "text": [
      "Running MAGIC on 239 cells and 1000 genes.\n",
      "Calculating graph and diffusion operator...\n",
      "  Calculating KNN search...\n",
      "  Calculated KNN search in 0.07 seconds.\n",
      "  Calculating affinities...\n",
      "  Calculated affinities in 0.07 seconds.\n",
      "Calculated graph and diffusion operator in 0.14 seconds.\n",
      "Calculating imputation...\n",
      "Calculating MAGIC...\n",
      "  Running MAGIC on 358 cells and 1000 genes.\n",
      "  Calculating graph and diffusion operator...\n",
      "    Calculating KNN search...\n"
     ]
    },
    {
     "name": "stderr",
     "output_type": "stream",
     "text": [
      "/mnt/data/thesis_project/notebooks/../scripts/runner_baselines_sklearn.py:92: RuntimeWarning: divide by zero encountered in log1p\n",
      "  return (gammaln(x + r) - gammaln(r) - gammaln(x + 1.0) + r*np.log(p) + x*np.log1p(-p))\n",
      "/mnt/data/venvs/thesis-impute/lib/python3.10/site-packages/graphtools/graphs.py:122: UserWarning: Building a kNNGraph on data of shape (239, 1000) is expensive. Consider setting n_pca.\n",
      "  warnings.warn(\n",
      "/mnt/data/venvs/thesis-impute/lib/python3.10/site-packages/magic/magic.py:541: UserWarning: Running MAGIC.transform on different data to that which was used for MAGIC.fit may not produce sensible output, unless it comes from the same manifold.\n",
      "  warnings.warn(\n",
      "/mnt/data/venvs/thesis-impute/lib/python3.10/site-packages/graphtools/graphs.py:122: UserWarning: Building a kNNGraph on data of shape (358, 1000) is expensive. Consider setting n_pca.\n",
      "  warnings.warn(\n"
     ]
    },
    {
     "name": "stdout",
     "output_type": "stream",
     "text": [
      "    Calculated KNN search in 0.14 seconds.\n",
      "    Calculating affinities...\n",
      "    Calculated affinities in 0.13 seconds.\n",
      "  Calculated graph and diffusion operator in 0.28 seconds.\n",
      "  Calculating imputation...\n",
      "Calculated MAGIC in 0.29 seconds.\n",
      "Calculating imputation...\n",
      "Calculating MAGIC...\n",
      "  Running MAGIC on 358 cells and 1000 genes.\n",
      "  Calculating graph and diffusion operator...\n",
      "    Calculating KNN search...\n",
      "    Calculated KNN search in 0.14 seconds.\n",
      "    Calculating affinities...\n"
     ]
    },
    {
     "name": "stderr",
     "output_type": "stream",
     "text": [
      "/mnt/data/venvs/thesis-impute/lib/python3.10/site-packages/magic/magic.py:541: UserWarning: Running MAGIC.transform on different data to that which was used for MAGIC.fit may not produce sensible output, unless it comes from the same manifold.\n",
      "  warnings.warn(\n",
      "/mnt/data/venvs/thesis-impute/lib/python3.10/site-packages/graphtools/graphs.py:122: UserWarning: Building a kNNGraph on data of shape (358, 1000) is expensive. Consider setting n_pca.\n",
      "  warnings.warn(\n"
     ]
    },
    {
     "name": "stdout",
     "output_type": "stream",
     "text": [
      "    Calculated affinities in 0.13 seconds.\n",
      "  Calculated graph and diffusion operator in 0.27 seconds.\n",
      "  Calculating imputation...\n",
      "Calculated MAGIC in 0.29 seconds.\n",
      "Calculating imputation...\n",
      "Calculating MAGIC...\n",
      "  Running MAGIC on 358 cells and 1000 genes.\n",
      "  Calculating graph and diffusion operator...\n",
      "    Calculating KNN search...\n",
      "    Calculated KNN search in 0.14 seconds.\n",
      "    Calculating affinities...\n"
     ]
    },
    {
     "name": "stderr",
     "output_type": "stream",
     "text": [
      "/mnt/data/venvs/thesis-impute/lib/python3.10/site-packages/magic/magic.py:541: UserWarning: Running MAGIC.transform on different data to that which was used for MAGIC.fit may not produce sensible output, unless it comes from the same manifold.\n",
      "  warnings.warn(\n",
      "/mnt/data/venvs/thesis-impute/lib/python3.10/site-packages/graphtools/graphs.py:122: UserWarning: Building a kNNGraph on data of shape (358, 1000) is expensive. Consider setting n_pca.\n",
      "  warnings.warn(\n"
     ]
    },
    {
     "name": "stdout",
     "output_type": "stream",
     "text": [
      "    Calculated affinities in 0.13 seconds.\n",
      "  Calculated graph and diffusion operator in 0.28 seconds.\n",
      "  Calculating imputation...\n",
      "Calculated MAGIC in 0.29 seconds.\n",
      "Running MAGIC on 239 cells and 2000 genes.\n",
      "Calculating graph and diffusion operator...\n",
      "  Calculating KNN search...\n",
      "  Calculated KNN search in 0.09 seconds.\n",
      "  Calculating affinities...\n",
      "  Calculated affinities in 0.08 seconds.\n",
      "Calculated graph and diffusion operator in 0.18 seconds.\n"
     ]
    },
    {
     "name": "stderr",
     "output_type": "stream",
     "text": [
      "/mnt/data/venvs/thesis-impute/lib/python3.10/site-packages/graphtools/graphs.py:122: UserWarning: Building a kNNGraph on data of shape (239, 2000) is expensive. Consider setting n_pca.\n",
      "  warnings.warn(\n"
     ]
    },
    {
     "name": "stdout",
     "output_type": "stream",
     "text": [
      "Calculating imputation...\n",
      "Calculating MAGIC...\n",
      "  Running MAGIC on 358 cells and 2000 genes.\n",
      "  Calculating graph and diffusion operator...\n",
      "    Calculating KNN search...\n",
      "    Calculated KNN search in 0.15 seconds.\n",
      "    Calculating affinities...\n"
     ]
    },
    {
     "name": "stderr",
     "output_type": "stream",
     "text": [
      "/mnt/data/venvs/thesis-impute/lib/python3.10/site-packages/magic/magic.py:541: UserWarning: Running MAGIC.transform on different data to that which was used for MAGIC.fit may not produce sensible output, unless it comes from the same manifold.\n",
      "  warnings.warn(\n",
      "/mnt/data/venvs/thesis-impute/lib/python3.10/site-packages/graphtools/graphs.py:122: UserWarning: Building a kNNGraph on data of shape (358, 2000) is expensive. Consider setting n_pca.\n",
      "  warnings.warn(\n"
     ]
    },
    {
     "name": "stdout",
     "output_type": "stream",
     "text": [
      "    Calculated affinities in 0.13 seconds.\n",
      "  Calculated graph and diffusion operator in 0.29 seconds.\n",
      "  Calculating imputation...\n",
      "  Calculated imputation in 0.02 seconds.\n",
      "Calculated MAGIC in 0.31 seconds.\n",
      "Calculating imputation...\n",
      "Calculating MAGIC...\n",
      "  Running MAGIC on 358 cells and 2000 genes.\n",
      "  Calculating graph and diffusion operator...\n",
      "    Calculating KNN search...\n",
      "    Calculated KNN search in 0.15 seconds.\n",
      "    Calculating affinities...\n"
     ]
    },
    {
     "name": "stderr",
     "output_type": "stream",
     "text": [
      "/mnt/data/venvs/thesis-impute/lib/python3.10/site-packages/magic/magic.py:541: UserWarning: Running MAGIC.transform on different data to that which was used for MAGIC.fit may not produce sensible output, unless it comes from the same manifold.\n",
      "  warnings.warn(\n",
      "/mnt/data/venvs/thesis-impute/lib/python3.10/site-packages/graphtools/graphs.py:122: UserWarning: Building a kNNGraph on data of shape (358, 2000) is expensive. Consider setting n_pca.\n",
      "  warnings.warn(\n"
     ]
    },
    {
     "name": "stdout",
     "output_type": "stream",
     "text": [
      "    Calculated affinities in 0.13 seconds.\n",
      "  Calculated graph and diffusion operator in 0.29 seconds.\n",
      "  Calculating imputation...\n",
      "  Calculated imputation in 0.02 seconds.\n",
      "Calculated MAGIC in 0.31 seconds.\n",
      "Calculating imputation...\n",
      "Calculating MAGIC...\n",
      "  Running MAGIC on 358 cells and 2000 genes.\n",
      "  Calculating graph and diffusion operator...\n",
      "    Calculating KNN search...\n",
      "    Calculated KNN search in 0.16 seconds.\n",
      "    Calculating affinities...\n"
     ]
    },
    {
     "name": "stderr",
     "output_type": "stream",
     "text": [
      "/mnt/data/venvs/thesis-impute/lib/python3.10/site-packages/magic/magic.py:541: UserWarning: Running MAGIC.transform on different data to that which was used for MAGIC.fit may not produce sensible output, unless it comes from the same manifold.\n",
      "  warnings.warn(\n",
      "/mnt/data/venvs/thesis-impute/lib/python3.10/site-packages/graphtools/graphs.py:122: UserWarning: Building a kNNGraph on data of shape (358, 2000) is expensive. Consider setting n_pca.\n",
      "  warnings.warn(\n"
     ]
    },
    {
     "name": "stdout",
     "output_type": "stream",
     "text": [
      "    Calculated affinities in 0.13 seconds.\n",
      "  Calculated graph and diffusion operator in 0.30 seconds.\n",
      "  Calculating imputation...\n",
      "  Calculated imputation in 0.01 seconds.\n",
      "Calculated MAGIC in 0.32 seconds.\n",
      "Running MAGIC on 239 cells and 4000 genes.\n",
      "Calculating graph and diffusion operator...\n",
      "  Calculating KNN search...\n",
      "  Calculated KNN search in 0.19 seconds.\n",
      "  Calculating affinities...\n"
     ]
    },
    {
     "name": "stderr",
     "output_type": "stream",
     "text": [
      "/mnt/data/venvs/thesis-impute/lib/python3.10/site-packages/graphtools/graphs.py:122: UserWarning: Building a kNNGraph on data of shape (239, 4000) is expensive. Consider setting n_pca.\n",
      "  warnings.warn(\n"
     ]
    },
    {
     "name": "stdout",
     "output_type": "stream",
     "text": [
      "  Calculated affinities in 0.16 seconds.\n",
      "Calculated graph and diffusion operator in 0.36 seconds.\n",
      "Calculating imputation...\n",
      "Calculating MAGIC...\n",
      "  Running MAGIC on 358 cells and 4000 genes.\n",
      "  Calculating graph and diffusion operator...\n",
      "    Calculating KNN search...\n"
     ]
    },
    {
     "name": "stderr",
     "output_type": "stream",
     "text": [
      "/mnt/data/venvs/thesis-impute/lib/python3.10/site-packages/magic/magic.py:541: UserWarning: Running MAGIC.transform on different data to that which was used for MAGIC.fit may not produce sensible output, unless it comes from the same manifold.\n",
      "  warnings.warn(\n",
      "/mnt/data/venvs/thesis-impute/lib/python3.10/site-packages/graphtools/graphs.py:122: UserWarning: Building a kNNGraph on data of shape (358, 4000) is expensive. Consider setting n_pca.\n",
      "  warnings.warn(\n"
     ]
    },
    {
     "name": "stdout",
     "output_type": "stream",
     "text": [
      "    Calculated KNN search in 0.35 seconds.\n",
      "    Calculating affinities...\n",
      "    Calculated affinities in 0.28 seconds.\n",
      "  Calculated graph and diffusion operator in 0.64 seconds.\n",
      "  Calculating imputation...\n",
      "  Calculated imputation in 0.02 seconds.\n",
      "Calculated MAGIC in 0.67 seconds.\n",
      "Calculating imputation...\n",
      "Calculating MAGIC...\n",
      "  Running MAGIC on 358 cells and 4000 genes.\n",
      "  Calculating graph and diffusion operator...\n",
      "    Calculating KNN search...\n"
     ]
    },
    {
     "name": "stderr",
     "output_type": "stream",
     "text": [
      "/mnt/data/venvs/thesis-impute/lib/python3.10/site-packages/magic/magic.py:541: UserWarning: Running MAGIC.transform on different data to that which was used for MAGIC.fit may not produce sensible output, unless it comes from the same manifold.\n",
      "  warnings.warn(\n",
      "/mnt/data/venvs/thesis-impute/lib/python3.10/site-packages/graphtools/graphs.py:122: UserWarning: Building a kNNGraph on data of shape (358, 4000) is expensive. Consider setting n_pca.\n",
      "  warnings.warn(\n"
     ]
    },
    {
     "name": "stdout",
     "output_type": "stream",
     "text": [
      "    Calculated KNN search in 0.34 seconds.\n",
      "    Calculating affinities...\n",
      "    Calculated affinities in 0.29 seconds.\n",
      "  Calculated graph and diffusion operator in 0.63 seconds.\n",
      "  Calculating imputation...\n",
      "  Calculated imputation in 0.02 seconds.\n",
      "Calculated MAGIC in 0.66 seconds.\n",
      "Calculating imputation...\n",
      "Calculated imputation in 0.02 seconds.\n",
      "Calculating MAGIC...\n",
      "  Running MAGIC on 358 cells and 4000 genes.\n",
      "  Calculating graph and diffusion operator...\n",
      "    Calculating KNN search...\n"
     ]
    },
    {
     "name": "stderr",
     "output_type": "stream",
     "text": [
      "/mnt/data/venvs/thesis-impute/lib/python3.10/site-packages/magic/magic.py:541: UserWarning: Running MAGIC.transform on different data to that which was used for MAGIC.fit may not produce sensible output, unless it comes from the same manifold.\n",
      "  warnings.warn(\n",
      "/mnt/data/venvs/thesis-impute/lib/python3.10/site-packages/graphtools/graphs.py:122: UserWarning: Building a kNNGraph on data of shape (358, 4000) is expensive. Consider setting n_pca.\n",
      "  warnings.warn(\n"
     ]
    },
    {
     "name": "stdout",
     "output_type": "stream",
     "text": [
      "    Calculated KNN search in 0.35 seconds.\n",
      "    Calculating affinities...\n",
      "    Calculated affinities in 0.30 seconds.\n",
      "  Calculated graph and diffusion operator in 0.66 seconds.\n",
      "  Calculating imputation...\n",
      "  Calculated imputation in 0.02 seconds.\n",
      "Calculated MAGIC in 0.69 seconds.\n"
     ]
    },
    {
     "name": "stderr",
     "output_type": "stream",
     "text": [
      "/mnt/data/venvs/thesis-impute/lib/python3.10/site-packages/scanpy/preprocessing/_highly_variable_genes.py:75: UserWarning: `flavor='seurat_v3'` expects raw count data, but non-integers were found.\n",
      "  warnings.warn(\n",
      "/mnt/data/venvs/thesis-impute/lib/python3.10/site-packages/scanpy/preprocessing/_highly_variable_genes.py:75: UserWarning: `flavor='seurat_v3'` expects raw count data, but non-integers were found.\n",
      "  warnings.warn(\n"
     ]
    },
    {
     "name": "stdout",
     "output_type": "stream",
     "text": [
      "Running MAGIC on 358 cells and 1000 genes.\n",
      "Calculating graph and diffusion operator...\n",
      "  Calculating KNN search...\n",
      "  Calculated KNN search in 0.14 seconds.\n",
      "  Calculating affinities...\n"
     ]
    },
    {
     "name": "stderr",
     "output_type": "stream",
     "text": [
      "/mnt/data/venvs/thesis-impute/lib/python3.10/site-packages/graphtools/graphs.py:122: UserWarning: Building a kNNGraph on data of shape (358, 1000) is expensive. Consider setting n_pca.\n",
      "  warnings.warn(\n"
     ]
    },
    {
     "name": "stdout",
     "output_type": "stream",
     "text": [
      "  Calculated affinities in 0.13 seconds.\n",
      "Calculated graph and diffusion operator in 0.28 seconds.\n",
      "Calculating imputation...\n",
      "Calculated imputation in 0.03 seconds.\n",
      "Calculating MAGIC...\n",
      "  Running MAGIC on 447 cells and 1000 genes.\n",
      "  Calculating graph and diffusion operator...\n",
      "    Calculating KNN search...\n"
     ]
    },
    {
     "name": "stderr",
     "output_type": "stream",
     "text": [
      "/mnt/data/venvs/thesis-impute/lib/python3.10/site-packages/magic/magic.py:541: UserWarning: Running MAGIC.transform on different data to that which was used for MAGIC.fit may not produce sensible output, unless it comes from the same manifold.\n",
      "  warnings.warn(\n",
      "/mnt/data/venvs/thesis-impute/lib/python3.10/site-packages/graphtools/graphs.py:122: UserWarning: Building a kNNGraph on data of shape (447, 1000) is expensive. Consider setting n_pca.\n",
      "  warnings.warn(\n"
     ]
    },
    {
     "name": "stdout",
     "output_type": "stream",
     "text": [
      "    Calculated KNN search in 0.22 seconds.\n",
      "    Calculating affinities...\n",
      "    Calculated affinities in 0.20 seconds.\n",
      "  Calculated graph and diffusion operator in 0.43 seconds.\n",
      "  Calculating imputation...\n",
      "  Calculated imputation in 0.02 seconds.\n",
      "Calculated MAGIC in 0.45 seconds.\n",
      "Calculating imputation...\n",
      "Calculating MAGIC...\n",
      "  Running MAGIC on 447 cells and 1000 genes.\n",
      "  Calculating graph and diffusion operator...\n",
      "    Calculating KNN search...\n"
     ]
    },
    {
     "name": "stderr",
     "output_type": "stream",
     "text": [
      "/mnt/data/venvs/thesis-impute/lib/python3.10/site-packages/magic/magic.py:541: UserWarning: Running MAGIC.transform on different data to that which was used for MAGIC.fit may not produce sensible output, unless it comes from the same manifold.\n",
      "  warnings.warn(\n",
      "/mnt/data/venvs/thesis-impute/lib/python3.10/site-packages/graphtools/graphs.py:122: UserWarning: Building a kNNGraph on data of shape (447, 1000) is expensive. Consider setting n_pca.\n",
      "  warnings.warn(\n"
     ]
    },
    {
     "name": "stdout",
     "output_type": "stream",
     "text": [
      "    Calculated KNN search in 0.21 seconds.\n",
      "    Calculating affinities...\n",
      "    Calculated affinities in 0.20 seconds.\n",
      "  Calculated graph and diffusion operator in 0.42 seconds.\n",
      "  Calculating imputation...\n",
      "  Calculated imputation in 0.02 seconds.\n",
      "Calculated MAGIC in 0.45 seconds.\n",
      "Calculating imputation...\n",
      "Calculating MAGIC...\n",
      "  Running MAGIC on 447 cells and 1000 genes.\n",
      "  Calculating graph and diffusion operator...\n",
      "    Calculating KNN search...\n"
     ]
    },
    {
     "name": "stderr",
     "output_type": "stream",
     "text": [
      "/mnt/data/venvs/thesis-impute/lib/python3.10/site-packages/magic/magic.py:541: UserWarning: Running MAGIC.transform on different data to that which was used for MAGIC.fit may not produce sensible output, unless it comes from the same manifold.\n",
      "  warnings.warn(\n",
      "/mnt/data/venvs/thesis-impute/lib/python3.10/site-packages/graphtools/graphs.py:122: UserWarning: Building a kNNGraph on data of shape (447, 1000) is expensive. Consider setting n_pca.\n",
      "  warnings.warn(\n"
     ]
    },
    {
     "name": "stdout",
     "output_type": "stream",
     "text": [
      "    Calculated KNN search in 0.22 seconds.\n",
      "    Calculating affinities...\n",
      "    Calculated affinities in 0.20 seconds.\n",
      "  Calculated graph and diffusion operator in 0.44 seconds.\n",
      "  Calculating imputation...\n",
      "  Calculated imputation in 0.02 seconds.\n",
      "Calculated MAGIC in 0.46 seconds.\n"
     ]
    },
    {
     "name": "stderr",
     "output_type": "stream",
     "text": [
      "/mnt/data/venvs/thesis-impute/lib/python3.10/site-packages/scanpy/preprocessing/_highly_variable_genes.py:75: UserWarning: `flavor='seurat_v3'` expects raw count data, but non-integers were found.\n",
      "  warnings.warn(\n",
      "/mnt/data/venvs/thesis-impute/lib/python3.10/site-packages/scanpy/preprocessing/_highly_variable_genes.py:75: UserWarning: `flavor='seurat_v3'` expects raw count data, but non-integers were found.\n",
      "  warnings.warn(\n"
     ]
    }
   ],
   "source": [
    "# these must align exactly to X_counts:\n",
    "# - gene_names: list/array of length n_genes (same columns)\n",
    "# - batches:    array of length n_samples (same rows)\n",
    "# - norm_layer: matrix of shape (n_samples, n_genes) with your \"log2_1p_CPM_original\"\n",
    "\n",
    "summary_df, details_df = nested_cv_baselines(\n",
    "    X_counts,\n",
    "    outer_k=5, inner_k=3,\n",
    "    hvg_grid=[1000,2000,4000],\n",
    "    model_grids={\n",
    "        \"MEAN\": {},\n",
    "        \"MEDIAN\": {},\n",
    "        \"KNN\": {\"n_neighbors\":[5,15,30], \"weights\":[\"uniform\",\"distance\"]}, \n",
    "        \"MAGIC\": {}, \n",
    "    },\n",
    "    R=3, mask_frac=0.1, random_state=123,\n",
    "    one_se_rule=True,\n",
    "    save_dir=\"results/baselines\",\n",
    "    hvg_mode=\"seurat_v3\",                # use batch-aware HVG\n",
    "    gene_names=gene_names,\n",
    "    batches=batches,\n",
    "    norm_layer=norm_layer,               # adata.layers[\"log2_1p_CPM_original\"] exported as ndarray\n",
    "    batch_key=\"BioProject\",\n",
    "    seurat_layer_name=\"log2_1p_CPM_original\",\n",
    ")\n"
   ]
  },
  {
   "cell_type": "code",
   "execution_count": null,
   "id": "8eb2891d",
   "metadata": {},
   "outputs": [],
   "source": [
    "summary_df"
   ]
  },
  {
   "cell_type": "code",
   "execution_count": null,
   "id": "c22cba3e",
   "metadata": {},
   "outputs": [],
   "source": [
    "details_df"
   ]
  }
 ],
 "metadata": {
  "kernelspec": {
   "display_name": "thesis-impute",
   "language": "python",
   "name": "python3"
  },
  "language_info": {
   "codemirror_mode": {
    "name": "ipython",
    "version": 3
   },
   "file_extension": ".py",
   "mimetype": "text/x-python",
   "name": "python",
   "nbconvert_exporter": "python",
   "pygments_lexer": "ipython3",
   "version": "3.10.12"
  }
 },
 "nbformat": 4,
 "nbformat_minor": 5
}
